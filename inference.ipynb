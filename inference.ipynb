{
  "nbformat": 4,
  "nbformat_minor": 0,
  "metadata": {
    "colab": {
      "provenance": [],
      "gpuType": "T4",
      "authorship_tag": "ABX9TyMyhhh6jWh/LW5ZcAOjvlCb",
      "include_colab_link": true
    },
    "kernelspec": {
      "name": "python3",
      "display_name": "Python 3"
    },
    "language_info": {
      "name": "python"
    },
    "accelerator": "GPU"
  },
  "cells": [
    {
      "cell_type": "markdown",
      "metadata": {
        "id": "view-in-github",
        "colab_type": "text"
      },
      "source": [
        "<a href=\"https://colab.research.google.com/github/R12942159/NTU_DLCV/blob/Hw4/inference.ipynb\" target=\"_parent\"><img src=\"https://colab.research.google.com/assets/colab-badge.svg\" alt=\"Open In Colab\"/></a>"
      ]
    },
    {
      "cell_type": "code",
      "source": [
        "!pip install pytorch-lightning==2.1.2"
      ],
      "metadata": {
        "colab": {
          "base_uri": "https://localhost:8080/"
        },
        "id": "SRkAr_FmEWaW",
        "outputId": "ec1867bd-e79c-4a34-a6ea-1fe6020cf616"
      },
      "execution_count": 1,
      "outputs": [
        {
          "output_type": "stream",
          "name": "stdout",
          "text": [
            "Installing collected packages: lightning-utilities, torchmetrics, pytorch-lightning\n",
            "Successfully installed lightning-utilities-0.10.0 pytorch-lightning-2.1.2 torchmetrics-1.2.1\n"
          ]
        }
      ]
    },
    {
      "cell_type": "code",
      "source": [
        "!pip install kornia"
      ],
      "metadata": {
        "id": "M7cY3QWOEXMa"
      },
      "execution_count": null,
      "outputs": []
    },
    {
      "cell_type": "code",
      "source": [
        "!gdown 1hF4z9U-xaoV4qaq9DbhTP-KKJTlwOUv_ -O hw4_data.zip\n",
        "!unzip hw4_data.zip\n",
        "!rm hw4_data.zip"
      ],
      "metadata": {
        "id": "QoC5gjKNrUk3"
      },
      "execution_count": null,
      "outputs": []
    },
    {
      "cell_type": "code",
      "source": [
        "!unzip /content/datasets.zip\n",
        "!rm datasets.zip"
      ],
      "metadata": {
        "id": "j1WblvAmHSj6"
      },
      "execution_count": null,
      "outputs": []
    },
    {
      "cell_type": "code",
      "source": [
        "!unzip /content/models.zip\n",
        "!rm models.zip"
      ],
      "metadata": {
        "id": "2bw6Xf5rHZfE"
      },
      "execution_count": null,
      "outputs": []
    },
    {
      "cell_type": "code",
      "source": [
        "!unzip /content/utils.zip\n",
        "!rm utils.zip"
      ],
      "metadata": {
        "id": "aVRsWHMFIExV"
      },
      "execution_count": null,
      "outputs": []
    },
    {
      "cell_type": "code",
      "source": [
        "!gdown 1-SbMC1KUZ7FMotoQvJP8boJqvqBRDw-o -O base.ckpt"
      ],
      "metadata": {
        "id": "Vz0rtV_pH2mN"
      },
      "execution_count": null,
      "outputs": []
    },
    {
      "cell_type": "code",
      "source": [
        "mkdir imgout"
      ],
      "metadata": {
        "id": "zI09PDQwYFcw"
      },
      "execution_count": 9,
      "outputs": []
    },
    {
      "cell_type": "code",
      "source": [
        "!python3 eval.py \\\n",
        "   --root_dir './inference_dir/dataset' \\\n",
        "   --imgout_floder './imgout' \\\n",
        "   --dataset_name blender \\\n",
        "   --img_wh 256 256 --N_importance 64 --noise_std 0"
      ],
      "metadata": {
        "id": "1xwxoqAJre5W"
      },
      "execution_count": null,
      "outputs": []
    }
  ]
}