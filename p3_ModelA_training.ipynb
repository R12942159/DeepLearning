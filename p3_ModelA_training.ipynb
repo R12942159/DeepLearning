{
  "nbformat": 4,
  "nbformat_minor": 0,
  "metadata": {
    "colab": {
      "provenance": [],
      "gpuType": "T4",
      "include_colab_link": true
    },
    "kernelspec": {
      "name": "python3",
      "display_name": "Python 3"
    },
    "language_info": {
      "name": "python"
    },
    "accelerator": "GPU"
  },
  "cells": [
    {
      "cell_type": "markdown",
      "metadata": {
        "id": "view-in-github",
        "colab_type": "text"
      },
      "source": [
        "<a href=\"https://colab.research.google.com/github/R12942159/NTU_DLCV/blob/Hw2/p3_ModelA_training.ipynb\" target=\"_parent\"><img src=\"https://colab.research.google.com/assets/colab-badge.svg\" alt=\"Open In Colab\"/></a>"
      ]
    },
    {
      "cell_type": "code",
      "source": [
        "import os\n",
        "import torch\n",
        "import numpy as np\n",
        "import pandas as pd\n",
        "from PIL import Image\n",
        "from tqdm import tqdm\n",
        "import torch.nn as nn\n",
        "from torch import optim\n",
        "import torchvision.transforms as tr\n",
        "from torch.utils.data import DataLoader"
      ],
      "metadata": {
        "id": "tp9YuYhODsSk"
      },
      "execution_count": 1,
      "outputs": []
    },
    {
      "cell_type": "code",
      "source": [
        "from google.colab import drive\n",
        "drive.mount('/content/drive')"
      ],
      "metadata": {
        "colab": {
          "base_uri": "https://localhost:8080/"
        },
        "id": "kxqDmB-kB1pu",
        "outputId": "90e4fe42-9158-48d6-fda7-00d785301335"
      },
      "execution_count": 2,
      "outputs": [
        {
          "output_type": "stream",
          "name": "stdout",
          "text": [
            "Mounted at /content/drive\n"
          ]
        }
      ]
    },
    {
      "cell_type": "markdown",
      "source": [
        "#### Download zip file"
      ],
      "metadata": {
        "id": "aUXFKRGlLOvG"
      }
    },
    {
      "cell_type": "code",
      "source": [
        "!pip install gsutil\n",
        "!gsutil cp /content/drive/MyDrive/NTU_DLCV/Hw2/hw2_data.zip /content/hw2_data.zip"
      ],
      "metadata": {
        "id": "doVVsVMbB620"
      },
      "execution_count": null,
      "outputs": []
    },
    {
      "cell_type": "code",
      "source": [
        "!unzip /content/hw2_data.zip"
      ],
      "metadata": {
        "id": "WP1EiTcQB8c6"
      },
      "execution_count": null,
      "outputs": []
    },
    {
      "cell_type": "markdown",
      "source": [
        "#### Get cuda from GPU"
      ],
      "metadata": {
        "id": "WVRZjvruLLrb"
      }
    },
    {
      "cell_type": "code",
      "source": [
        "device = \"cuda\" if torch.cuda.is_available() else \"cpu\"\n",
        "print(f\"Using: {device}\")"
      ],
      "metadata": {
        "colab": {
          "base_uri": "https://localhost:8080/"
        },
        "id": "Lf4M57NsLJnq",
        "outputId": "24a80305-d413-4ed2-8be9-371c7b024f32"
      },
      "execution_count": 7,
      "outputs": [
        {
          "output_type": "stream",
          "name": "stdout",
          "text": [
            "Using: cuda\n"
          ]
        }
      ]
    },
    {
      "cell_type": "markdown",
      "source": [
        "#### Construct Dataset"
      ],
      "metadata": {
        "id": "-kdf1r19DVUZ"
      }
    },
    {
      "cell_type": "code",
      "source": [
        "class MnistDataset(torch.utils.data.Dataset):\n",
        "    def __init__(self, label_path: str, join_path: str, transform) -> None:\n",
        "        self.transform = transform\n",
        "        self.img_paths = []\n",
        "        self.img_labels = []\n",
        "\n",
        "        label_csv = pd.read_csv(label_path).values.tolist()\n",
        "\n",
        "        for row in label_csv:\n",
        "            self.img_paths.append(os.path.join(join_path, row[0]))\n",
        "            self.img_labels.append(row[1])\n",
        "        assert len(self.img_paths) == len(self.img_labels)\n",
        "\n",
        "    def __len__(self):\n",
        "        return len(self.img_paths)\n",
        "\n",
        "    def __getitem__(self, idx) -> (torch.Tensor, int):\n",
        "        img_path = self.img_paths[idx]\n",
        "        img = Image.open(img_path).convert('RGB') # (28, 28, 3)\n",
        "        img = self.transform(img)\n",
        "\n",
        "        label = self.img_labels[idx]\n",
        "        return img, label"
      ],
      "metadata": {
        "id": "_WR7bP-YDehh"
      },
      "execution_count": 8,
      "outputs": []
    },
    {
      "cell_type": "code",
      "source": [
        "mean=[0.485, 0.456, 0.406]\n",
        "std=[0.229, 0.224, 0.225]\n",
        "\n",
        "source_train_ds = MnistDataset(\n",
        "    label_path='/content/hw2_data/digits/mnistm/train.csv',\n",
        "    join_path='/content/hw2_data/digits/mnistm/data',\n",
        "    transform=tr.Compose([\n",
        "        tr.ToTensor(),\n",
        "        tr.Normalize(mean=mean, std=std),\n",
        "    ])\n",
        ")\n",
        "\n",
        "target_train_ds = MnistDataset(\n",
        "    label_path='/content/hw2_data/digits/svhn/train.csv',\n",
        "    join_path='/content/hw2_data/digits/svhn/data',\n",
        "    transform=tr.Compose([\n",
        "        tr.ToTensor(),\n",
        "        tr.Normalize(mean=mean, std=std),\n",
        "    ])\n",
        ")\n",
        "\n",
        "target_val_ds = MnistDataset(\n",
        "    label_path='/content/hw2_data/digits/svhn/val.csv',\n",
        "    join_path='/content/hw2_data/digits/svhn/data',\n",
        "    transform=tr.Compose([\n",
        "        tr.ToTensor(),\n",
        "        tr.Normalize(mean=mean, std=std),\n",
        "    ])\n",
        ")"
      ],
      "metadata": {
        "id": "rsMapmVxHL3r"
      },
      "execution_count": 9,
      "outputs": []
    },
    {
      "cell_type": "code",
      "source": [
        "BATCH_SIZE = 512\n",
        "\n",
        "source_train_loader = DataLoader(source_train_ds, BATCH_SIZE, shuffle=True, num_workers=4)\n",
        "target_train_loader = DataLoader(target_train_ds, BATCH_SIZE, shuffle=True, num_workers=4)\n",
        "target_val_loader = DataLoader(target_val_ds, BATCH_SIZE, shuffle=False, num_workers=4)"
      ],
      "metadata": {
        "id": "x85T63PnJcVr",
        "outputId": "edb08af2-14bb-424b-af3f-1b92bb07ddaa",
        "colab": {
          "base_uri": "https://localhost:8080/"
        }
      },
      "execution_count": 10,
      "outputs": [
        {
          "output_type": "stream",
          "name": "stderr",
          "text": [
            "/usr/local/lib/python3.10/dist-packages/torch/utils/data/dataloader.py:557: UserWarning: This DataLoader will create 4 worker processes in total. Our suggested max number of worker in current system is 2, which is smaller than what this DataLoader is going to create. Please be aware that excessive worker creation might get DataLoader running slow or even freeze, lower the worker number to avoid potential slowness/freeze if necessary.\n",
            "  warnings.warn(_create_warning_msg(\n"
          ]
        }
      ]
    },
    {
      "cell_type": "markdown",
      "source": [
        "#### Domain-Adversarial Training of Neural Networks (DANN)"
      ],
      "metadata": {
        "id": "VYC19z24BDsB"
      }
    },
    {
      "cell_type": "code",
      "source": [
        "class GRL(torch.autograd.Function):\n",
        "    @staticmethod\n",
        "    def forward(ctx, x, alpha):\n",
        "        ctx.alpha = alpha\n",
        "        return x.view_as(x)\n",
        "\n",
        "    @staticmethod\n",
        "    def backward(ctx, grad_output):\n",
        "         output = grad_output.neg() * ctx.alpha\n",
        "         return output, None\n",
        "\n",
        "class FeatureExtractor(nn.Module):\n",
        "    def __init__(self) -> None:\n",
        "        super(FeatureExtractor, self).__init__()\n",
        "        self.extractor = nn.Sequential(\n",
        "            nn.Conv2d(3, 64, 5), # (64, 24, 24)\n",
        "            nn.BatchNorm2d(64),\n",
        "            nn.ReLU(),\n",
        "            nn.MaxPool2d(kernel_size=4, stride=2), # (64, 11, 11)\n",
        "\n",
        "            nn.Conv2d(64, 64, 5), # (64, 7, 7)\n",
        "            nn.BatchNorm2d(64),\n",
        "            # nn.Dropout2d(),\n",
        "            nn.ReLU(),\n",
        "            nn.MaxPool2d(3, 2), # (64, 3, 3)\n",
        "\n",
        "            nn.Conv2d(64, 128, 3), # (128, 1, 1)\n",
        "        )\n",
        "\n",
        "    def forward(self, x):\n",
        "        features = self.extractor(x)\n",
        "        features = features.view(-1, 128)\n",
        "        return features\n",
        "\n",
        "class Classifier(nn.Module):\n",
        "    def __init__(self) -> None:\n",
        "        super(Classifier, self).__init__()\n",
        "        self.classifier = nn.Sequential(\n",
        "            nn.Linear(128, 512),\n",
        "            nn.BatchNorm1d(512),\n",
        "            nn.ReLU(),\n",
        "            # nn.Dropout2d(),\n",
        "\n",
        "            nn.Linear(512, 128),\n",
        "            nn.BatchNorm1d(128),\n",
        "            nn.ReLU(),\n",
        "\n",
        "            nn.Linear(128, 10),\n",
        "        )\n",
        "\n",
        "    def forward(self, features):\n",
        "        class_label = self.classifier(features)\n",
        "        return class_label\n",
        "\n",
        "class DomainClassifier(nn.Module):\n",
        "    def __init__(self) -> None:\n",
        "        super(DomainClassifier, self).__init__()\n",
        "        self.domainclassifier = nn.Sequential(\n",
        "            nn.Linear(128, 256),\n",
        "            # nn.BatchNorm1d(256),\n",
        "            nn.ReLU(),\n",
        "\n",
        "            nn.Linear(256, 1),\n",
        "        )\n",
        "\n",
        "    def forward(self, features, alpha):\n",
        "        reversed_input = GRL.apply(features, alpha)\n",
        "        x = self.domainclassifier(reversed_input)\n",
        "        return x"
      ],
      "metadata": {
        "id": "T8dxFahzz_pC"
      },
      "execution_count": 11,
      "outputs": []
    },
    {
      "cell_type": "markdown",
      "source": [
        "#### Train"
      ],
      "metadata": {
        "id": "vEZgv1TYLf-g"
      }
    },
    {
      "cell_type": "code",
      "source": [
        "def model_mode(mode: str, models: list) -> None:\n",
        "    for model in models:\n",
        "        if mode == 'train':\n",
        "            model.train()\n",
        "        elif mode == 'eval':\n",
        "            model.eval()"
      ],
      "metadata": {
        "id": "ZsdsZ8GRAbHZ"
      },
      "execution_count": 12,
      "outputs": []
    },
    {
      "cell_type": "code",
      "source": [
        "EPOCHS = 200\n",
        "\n",
        "# Earlystopping\n",
        "patience = 200\n",
        "counter = 0\n",
        "best_accuracy = 0.4\n",
        "\n",
        "# setting parameters\n",
        "lr = 1e-3\n",
        "momentum = 0.9\n",
        "\n",
        "feature_extractor = FeatureExtractor()\n",
        "feature_extractor.to(device)\n",
        "classifier = Classifier()\n",
        "classifier.to(device)\n",
        "domain_classifier = DomainClassifier()\n",
        "domain_classifier.to(device)\n",
        "\n",
        "clf_loss_fn = nn.CrossEntropyLoss()\n",
        "domainclf_loss_fn = nn.BCEWithLogitsLoss() # 'Binary' Cross Entropy With Logits Loss\n",
        "\n",
        "optimizer = optim.SGD(\n",
        "    list(feature_extractor.parameters()) + list(classifier.parameters()) + list(domain_classifier.parameters()),\n",
        "    lr=lr,\n",
        "    momentum=momentum,\n",
        ")\n",
        "\n",
        "# logs dictionary\n",
        "logs = {'class_label_loss': [], 'domain_label_loss': [], 'val_accuracy': []}"
      ],
      "metadata": {
        "id": "y0vvyP4ILhj4"
      },
      "execution_count": 13,
      "outputs": []
    },
    {
      "cell_type": "code",
      "source": [
        "for epoch in range(EPOCHS):\n",
        "    # start_steps = epoch * len(source_train_loader)\n",
        "    total_steps = EPOCHS * len(target_train_loader)\n",
        "\n",
        "    for (source_x, source_y), (target_x, target_y) in tqdm(zip(source_train_loader, target_train_loader), total=len(source_train_loader)):\n",
        "        model_mode('train', [feature_extractor, classifier, domain_classifier])\n",
        "\n",
        "        source_x, source_y = source_x.to(device, non_blocking=True), source_y.to(device, non_blocking=True)\n",
        "        target_x, target_y = target_x.to(device, non_blocking=True), target_y.to(device, non_blocking=True)\n",
        "\n",
        "        # scheduling\n",
        "        p = epoch / total_steps\n",
        "        alpha = 2. / (1. + np.exp(-10 * p)) - 1\n",
        "\n",
        "        optimizer.param_groups[0]['lr'] = lr / (1. + 10 * p) ** 0.75\n",
        "        optimizer.zero_grad()\n",
        "\n",
        "        # features extractor\n",
        "        source_features = feature_extractor(source_x)\n",
        "        target_features = feature_extractor(target_x)\n",
        "\n",
        "        # classifier\n",
        "        # compute class label loss\n",
        "        class_label = classifier(source_features)\n",
        "        class_label_loss = clf_loss_fn(class_label, source_y)\n",
        "\n",
        "        # doamin classifier\n",
        "        # source domain label = 0\n",
        "        source_domain_label = domain_classifier(source_features, alpha).squeeze() # (batch_size, 1) -> (batch_size)\n",
        "        domain_label_source_loss = domainclf_loss_fn(\n",
        "            source_domain_label,\n",
        "            torch.zeros(source_y.shape[0], dtype=torch.float, device=device),\n",
        "        )\n",
        "        # target domain label = 1\n",
        "        target_domain_label = domain_classifier(target_features, alpha).squeeze()\n",
        "        domain_label_target_loss = domainclf_loss_fn(\n",
        "            target_domain_label,\n",
        "            torch.ones(target_y.shape[0], dtype=torch.float, device=device),\n",
        "        )\n",
        "        # compute domain total loss\n",
        "        domain_label_loss = domain_label_source_loss + domain_label_target_loss\n",
        "\n",
        "        total_loss = class_label_loss + domain_label_loss\n",
        "        total_loss.backward()\n",
        "        optimizer.step()\n",
        "\n",
        "        # write logs\n",
        "        logs['class_label_loss'].append(class_label_loss)\n",
        "        logs['domain_label_loss'].append(domain_label_loss)\n",
        "\n",
        "\n",
        "    model_mode('eval', [feature_extractor, classifier, domain_classifier])\n",
        "    val_accuracy = 0\n",
        "    with torch.no_grad():\n",
        "        for target_val_x, target_val_y in tqdm(target_val_loader):\n",
        "            target_val_x, target_val_y = target_val_x.to(device), target_val_y.cpu().numpy()\n",
        "\n",
        "            features = feature_extractor(target_val_x)\n",
        "            class_label = classifier(features)\n",
        "            class_label = class_label.argmax(-1).cpu().numpy()\n",
        "\n",
        "            val_accuracy += np.mean((class_label == target_val_y).astype(int))\n",
        "\n",
        "    val_accuracy /= len(target_val_loader)\n",
        "\n",
        "    # write logs\n",
        "    logs['val_accuracy'].append(val_accuracy)\n",
        "\n",
        "    print('\\n', f'EPOCH: {(epoch+1):04d} -> val_accuracy: {val_accuracy:.4f}, class_label_loss: {class_label_loss:.4f}, domain_label_loss: {domain_label_loss:.4f}')\n",
        "\n",
        "    # chcek improvement\n",
        "    if val_accuracy > best_accuracy:\n",
        "        counter = 0\n",
        "        best_accuracy = val_accuracy\n",
        "\n",
        "        torch.save(feature_extractor.state_dict(), f\"/content/drive/MyDrive/NTU_DLCV/Hw2/p3_ckpt_SVHN/{epoch+1}feature_extractor.pth\")\n",
        "        torch.save(classifier.state_dict(), f\"/content/drive/MyDrive/NTU_DLCV/Hw2/p3_ckpt_SVHN/{epoch+1}classifier.pth\")\n",
        "        torch.save(domain_classifier.state_dict(), f\"/content/drive/MyDrive/NTU_DLCV/Hw2/p3_ckpt_SVHN/{epoch+1}domain_classifier.pth\")\n",
        "        print(\"--------------------Model saved--------------------\")\n",
        "    else:\n",
        "        counter += 1\n",
        "    if counter >= patience:\n",
        "        print(\"--------------------Earlystop--------------------\")\n",
        "        break"
      ],
      "metadata": {
        "id": "a6BVeVmg_hAD",
        "colab": {
          "base_uri": "https://localhost:8080/"
        },
        "outputId": "12078b55-cd01-42ba-8070-0974355f16d4"
      },
      "execution_count": 14,
      "outputs": [
        {
          "output_type": "stream",
          "name": "stderr",
          "text": [
            "100%|██████████| 88/88 [00:45<00:00,  1.93it/s]\n",
            "100%|██████████| 32/32 [00:07<00:00,  4.52it/s]"
          ]
        },
        {
          "output_type": "stream",
          "name": "stdout",
          "text": [
            "\n",
            " EPOCH: 0001 -> val_accuracy: 0.2683, class_label_loss: 1.3274, domain_label_loss: 1.2879\n"
          ]
        },
        {
          "output_type": "stream",
          "name": "stderr",
          "text": [
            "\n",
            "100%|██████████| 88/88 [00:37<00:00,  2.33it/s]\n",
            "100%|██████████| 32/32 [00:05<00:00,  5.83it/s]"
          ]
        },
        {
          "output_type": "stream",
          "name": "stdout",
          "text": [
            "\n",
            " EPOCH: 0002 -> val_accuracy: 0.3165, class_label_loss: 0.8701, domain_label_loss: 1.2002\n"
          ]
        },
        {
          "output_type": "stream",
          "name": "stderr",
          "text": [
            "\n",
            "100%|██████████| 88/88 [00:36<00:00,  2.39it/s]\n",
            "100%|██████████| 32/32 [00:05<00:00,  6.00it/s]"
          ]
        },
        {
          "output_type": "stream",
          "name": "stdout",
          "text": [
            "\n",
            " EPOCH: 0003 -> val_accuracy: 0.3329, class_label_loss: 0.6193, domain_label_loss: 1.0688\n"
          ]
        },
        {
          "output_type": "stream",
          "name": "stderr",
          "text": [
            "\n",
            "100%|██████████| 88/88 [00:36<00:00,  2.43it/s]\n",
            "100%|██████████| 32/32 [00:06<00:00,  4.65it/s]"
          ]
        },
        {
          "output_type": "stream",
          "name": "stdout",
          "text": [
            "\n",
            " EPOCH: 0004 -> val_accuracy: 0.3462, class_label_loss: 0.4829, domain_label_loss: 0.9687\n"
          ]
        },
        {
          "output_type": "stream",
          "name": "stderr",
          "text": [
            "\n",
            "100%|██████████| 88/88 [00:34<00:00,  2.55it/s]\n",
            "100%|██████████| 32/32 [00:08<00:00,  3.75it/s]"
          ]
        },
        {
          "output_type": "stream",
          "name": "stdout",
          "text": [
            "\n",
            " EPOCH: 0005 -> val_accuracy: 0.3430, class_label_loss: 0.3555, domain_label_loss: 0.8253\n"
          ]
        },
        {
          "output_type": "stream",
          "name": "stderr",
          "text": [
            "\n",
            "100%|██████████| 88/88 [00:34<00:00,  2.53it/s]\n",
            "100%|██████████| 32/32 [00:07<00:00,  4.19it/s]"
          ]
        },
        {
          "output_type": "stream",
          "name": "stdout",
          "text": [
            "\n",
            " EPOCH: 0006 -> val_accuracy: 0.3394, class_label_loss: 0.2835, domain_label_loss: 0.7296\n"
          ]
        },
        {
          "output_type": "stream",
          "name": "stderr",
          "text": [
            "\n",
            "100%|██████████| 88/88 [00:36<00:00,  2.40it/s]\n",
            "100%|██████████| 32/32 [00:05<00:00,  6.00it/s]"
          ]
        },
        {
          "output_type": "stream",
          "name": "stdout",
          "text": [
            "\n",
            " EPOCH: 0007 -> val_accuracy: 0.3172, class_label_loss: 0.2437, domain_label_loss: 0.6564\n"
          ]
        },
        {
          "output_type": "stream",
          "name": "stderr",
          "text": [
            "\n",
            "100%|██████████| 88/88 [00:38<00:00,  2.30it/s]\n",
            "100%|██████████| 32/32 [00:05<00:00,  6.01it/s]"
          ]
        },
        {
          "output_type": "stream",
          "name": "stdout",
          "text": [
            "\n",
            " EPOCH: 0008 -> val_accuracy: 0.3558, class_label_loss: 0.2180, domain_label_loss: 0.5968\n"
          ]
        },
        {
          "output_type": "stream",
          "name": "stderr",
          "text": [
            "\n",
            "100%|██████████| 88/88 [00:37<00:00,  2.35it/s]\n",
            "100%|██████████| 32/32 [00:06<00:00,  5.30it/s]"
          ]
        },
        {
          "output_type": "stream",
          "name": "stdout",
          "text": [
            "\n",
            " EPOCH: 0009 -> val_accuracy: 0.3552, class_label_loss: 0.2015, domain_label_loss: 0.5440\n"
          ]
        },
        {
          "output_type": "stream",
          "name": "stderr",
          "text": [
            "\n",
            "100%|██████████| 88/88 [00:35<00:00,  2.49it/s]\n",
            "100%|██████████| 32/32 [00:08<00:00,  4.00it/s]"
          ]
        },
        {
          "output_type": "stream",
          "name": "stdout",
          "text": [
            "\n",
            " EPOCH: 0010 -> val_accuracy: 0.3208, class_label_loss: 0.1938, domain_label_loss: 0.4783\n"
          ]
        },
        {
          "output_type": "stream",
          "name": "stderr",
          "text": [
            "\n",
            "100%|██████████| 88/88 [00:35<00:00,  2.47it/s]\n",
            "100%|██████████| 32/32 [00:07<00:00,  4.06it/s]"
          ]
        },
        {
          "output_type": "stream",
          "name": "stdout",
          "text": [
            "\n",
            " EPOCH: 0011 -> val_accuracy: 0.3323, class_label_loss: 0.2508, domain_label_loss: 0.5032\n"
          ]
        },
        {
          "output_type": "stream",
          "name": "stderr",
          "text": [
            "\n",
            "100%|██████████| 88/88 [00:36<00:00,  2.41it/s]\n",
            "100%|██████████| 32/32 [00:05<00:00,  5.51it/s]"
          ]
        },
        {
          "output_type": "stream",
          "name": "stdout",
          "text": [
            "\n",
            " EPOCH: 0012 -> val_accuracy: 0.3377, class_label_loss: 0.1774, domain_label_loss: 0.5146\n"
          ]
        },
        {
          "output_type": "stream",
          "name": "stderr",
          "text": [
            "\n",
            "100%|██████████| 88/88 [00:36<00:00,  2.40it/s]\n",
            "100%|██████████| 32/32 [00:05<00:00,  5.96it/s]"
          ]
        },
        {
          "output_type": "stream",
          "name": "stdout",
          "text": [
            "\n",
            " EPOCH: 0013 -> val_accuracy: 0.3304, class_label_loss: 0.1334, domain_label_loss: 0.4627\n"
          ]
        },
        {
          "output_type": "stream",
          "name": "stderr",
          "text": [
            "\n",
            "100%|██████████| 88/88 [00:37<00:00,  2.35it/s]\n",
            "100%|██████████| 32/32 [00:06<00:00,  5.02it/s]"
          ]
        },
        {
          "output_type": "stream",
          "name": "stdout",
          "text": [
            "\n",
            " EPOCH: 0014 -> val_accuracy: 0.3421, class_label_loss: 0.1158, domain_label_loss: 0.5139\n"
          ]
        },
        {
          "output_type": "stream",
          "name": "stderr",
          "text": [
            "\n",
            "100%|██████████| 88/88 [00:36<00:00,  2.43it/s]\n",
            "100%|██████████| 32/32 [00:09<00:00,  3.46it/s]"
          ]
        },
        {
          "output_type": "stream",
          "name": "stdout",
          "text": [
            "\n",
            " EPOCH: 0015 -> val_accuracy: 0.3331, class_label_loss: 0.1480, domain_label_loss: 0.5223\n"
          ]
        },
        {
          "output_type": "stream",
          "name": "stderr",
          "text": [
            "\n",
            "100%|██████████| 88/88 [00:36<00:00,  2.38it/s]\n",
            "100%|██████████| 32/32 [00:06<00:00,  4.89it/s]"
          ]
        },
        {
          "output_type": "stream",
          "name": "stdout",
          "text": [
            "\n",
            " EPOCH: 0016 -> val_accuracy: 0.3376, class_label_loss: 0.1723, domain_label_loss: 0.4980\n"
          ]
        },
        {
          "output_type": "stream",
          "name": "stderr",
          "text": [
            "\n",
            "100%|██████████| 88/88 [00:38<00:00,  2.31it/s]\n",
            "100%|██████████| 32/32 [00:05<00:00,  5.92it/s]"
          ]
        },
        {
          "output_type": "stream",
          "name": "stdout",
          "text": [
            "\n",
            " EPOCH: 0017 -> val_accuracy: 0.3078, class_label_loss: 0.1539, domain_label_loss: 0.5951\n"
          ]
        },
        {
          "output_type": "stream",
          "name": "stderr",
          "text": [
            "\n",
            "100%|██████████| 88/88 [00:37<00:00,  2.34it/s]\n",
            "100%|██████████| 32/32 [00:05<00:00,  5.83it/s]"
          ]
        },
        {
          "output_type": "stream",
          "name": "stdout",
          "text": [
            "\n",
            " EPOCH: 0018 -> val_accuracy: 0.3470, class_label_loss: 0.1135, domain_label_loss: 0.5742\n"
          ]
        },
        {
          "output_type": "stream",
          "name": "stderr",
          "text": [
            "\n",
            "100%|██████████| 88/88 [00:36<00:00,  2.41it/s]\n",
            "100%|██████████| 32/32 [00:07<00:00,  4.15it/s]"
          ]
        },
        {
          "output_type": "stream",
          "name": "stdout",
          "text": [
            "\n",
            " EPOCH: 0019 -> val_accuracy: 0.3496, class_label_loss: 0.0894, domain_label_loss: 0.5730\n"
          ]
        },
        {
          "output_type": "stream",
          "name": "stderr",
          "text": [
            "\n",
            "100%|██████████| 88/88 [00:34<00:00,  2.53it/s]\n",
            "100%|██████████| 32/32 [00:08<00:00,  3.71it/s]"
          ]
        },
        {
          "output_type": "stream",
          "name": "stdout",
          "text": [
            "\n",
            " EPOCH: 0020 -> val_accuracy: 0.3425, class_label_loss: 0.0932, domain_label_loss: 0.7466\n"
          ]
        },
        {
          "output_type": "stream",
          "name": "stderr",
          "text": [
            "\n",
            "100%|██████████| 88/88 [00:36<00:00,  2.42it/s]\n",
            "100%|██████████| 32/32 [00:06<00:00,  4.88it/s]"
          ]
        },
        {
          "output_type": "stream",
          "name": "stdout",
          "text": [
            "\n",
            " EPOCH: 0021 -> val_accuracy: 0.3448, class_label_loss: 0.1043, domain_label_loss: 0.7489\n"
          ]
        },
        {
          "output_type": "stream",
          "name": "stderr",
          "text": [
            "\n",
            "100%|██████████| 88/88 [00:37<00:00,  2.32it/s]\n",
            "100%|██████████| 32/32 [00:05<00:00,  5.77it/s]"
          ]
        },
        {
          "output_type": "stream",
          "name": "stdout",
          "text": [
            "\n",
            " EPOCH: 0022 -> val_accuracy: 0.3352, class_label_loss: 0.0728, domain_label_loss: 0.7909\n"
          ]
        },
        {
          "output_type": "stream",
          "name": "stderr",
          "text": [
            "\n",
            "100%|██████████| 88/88 [00:37<00:00,  2.35it/s]\n",
            "100%|██████████| 32/32 [00:06<00:00,  5.13it/s]"
          ]
        },
        {
          "output_type": "stream",
          "name": "stdout",
          "text": [
            "\n",
            " EPOCH: 0023 -> val_accuracy: 0.3247, class_label_loss: 0.0829, domain_label_loss: 0.7922\n"
          ]
        },
        {
          "output_type": "stream",
          "name": "stderr",
          "text": [
            "\n",
            "100%|██████████| 88/88 [00:35<00:00,  2.46it/s]\n",
            "100%|██████████| 32/32 [00:08<00:00,  3.76it/s]"
          ]
        },
        {
          "output_type": "stream",
          "name": "stdout",
          "text": [
            "\n",
            " EPOCH: 0024 -> val_accuracy: 0.3457, class_label_loss: 0.0883, domain_label_loss: 0.8050\n"
          ]
        },
        {
          "output_type": "stream",
          "name": "stderr",
          "text": [
            "\n",
            "100%|██████████| 88/88 [00:35<00:00,  2.47it/s]\n",
            "100%|██████████| 32/32 [00:07<00:00,  4.30it/s]"
          ]
        },
        {
          "output_type": "stream",
          "name": "stdout",
          "text": [
            "\n",
            " EPOCH: 0025 -> val_accuracy: 0.3719, class_label_loss: 0.0789, domain_label_loss: 0.8458\n"
          ]
        },
        {
          "output_type": "stream",
          "name": "stderr",
          "text": [
            "\n",
            "100%|██████████| 88/88 [00:36<00:00,  2.39it/s]\n",
            "100%|██████████| 32/32 [00:05<00:00,  5.92it/s]"
          ]
        },
        {
          "output_type": "stream",
          "name": "stdout",
          "text": [
            "\n",
            " EPOCH: 0026 -> val_accuracy: 0.3543, class_label_loss: 0.0660, domain_label_loss: 0.9237\n"
          ]
        },
        {
          "output_type": "stream",
          "name": "stderr",
          "text": [
            "\n",
            "100%|██████████| 88/88 [00:37<00:00,  2.36it/s]\n",
            "100%|██████████| 32/32 [00:05<00:00,  5.95it/s]"
          ]
        },
        {
          "output_type": "stream",
          "name": "stdout",
          "text": [
            "\n",
            " EPOCH: 0027 -> val_accuracy: 0.3404, class_label_loss: 0.0531, domain_label_loss: 0.8789\n"
          ]
        },
        {
          "output_type": "stream",
          "name": "stderr",
          "text": [
            "\n",
            "100%|██████████| 88/88 [00:36<00:00,  2.38it/s]\n",
            "100%|██████████| 32/32 [00:06<00:00,  4.88it/s]"
          ]
        },
        {
          "output_type": "stream",
          "name": "stdout",
          "text": [
            "\n",
            " EPOCH: 0028 -> val_accuracy: 0.3590, class_label_loss: 0.0634, domain_label_loss: 0.9086\n"
          ]
        },
        {
          "output_type": "stream",
          "name": "stderr",
          "text": [
            "\n",
            "100%|██████████| 88/88 [00:35<00:00,  2.50it/s]\n",
            "100%|██████████| 32/32 [00:08<00:00,  3.70it/s]"
          ]
        },
        {
          "output_type": "stream",
          "name": "stdout",
          "text": [
            "\n",
            " EPOCH: 0029 -> val_accuracy: 0.3360, class_label_loss: 0.0673, domain_label_loss: 0.9212\n"
          ]
        },
        {
          "output_type": "stream",
          "name": "stderr",
          "text": [
            "\n",
            "100%|██████████| 88/88 [00:35<00:00,  2.51it/s]\n",
            "100%|██████████| 32/32 [00:07<00:00,  4.25it/s]"
          ]
        },
        {
          "output_type": "stream",
          "name": "stdout",
          "text": [
            "\n",
            " EPOCH: 0030 -> val_accuracy: 0.3501, class_label_loss: 0.0506, domain_label_loss: 0.8863\n"
          ]
        },
        {
          "output_type": "stream",
          "name": "stderr",
          "text": [
            "\n",
            "100%|██████████| 88/88 [00:36<00:00,  2.41it/s]\n",
            "100%|██████████| 32/32 [00:05<00:00,  5.56it/s]"
          ]
        },
        {
          "output_type": "stream",
          "name": "stdout",
          "text": [
            "\n",
            " EPOCH: 0031 -> val_accuracy: 0.3715, class_label_loss: 0.0477, domain_label_loss: 0.9492\n"
          ]
        },
        {
          "output_type": "stream",
          "name": "stderr",
          "text": [
            "\n",
            "100%|██████████| 88/88 [00:36<00:00,  2.39it/s]\n",
            "100%|██████████| 32/32 [00:05<00:00,  5.99it/s]"
          ]
        },
        {
          "output_type": "stream",
          "name": "stdout",
          "text": [
            "\n",
            " EPOCH: 0032 -> val_accuracy: 0.3469, class_label_loss: 0.0361, domain_label_loss: 0.8815\n"
          ]
        },
        {
          "output_type": "stream",
          "name": "stderr",
          "text": [
            "\n",
            "100%|██████████| 88/88 [00:37<00:00,  2.35it/s]\n",
            "100%|██████████| 32/32 [00:06<00:00,  5.18it/s]"
          ]
        },
        {
          "output_type": "stream",
          "name": "stdout",
          "text": [
            "\n",
            " EPOCH: 0033 -> val_accuracy: 0.3595, class_label_loss: 0.0488, domain_label_loss: 0.8969\n"
          ]
        },
        {
          "output_type": "stream",
          "name": "stderr",
          "text": [
            "\n",
            "100%|██████████| 88/88 [00:35<00:00,  2.48it/s]\n",
            "100%|██████████| 32/32 [00:08<00:00,  3.74it/s]"
          ]
        },
        {
          "output_type": "stream",
          "name": "stdout",
          "text": [
            "\n",
            " EPOCH: 0034 -> val_accuracy: 0.3655, class_label_loss: 0.0443, domain_label_loss: 0.9103\n"
          ]
        },
        {
          "output_type": "stream",
          "name": "stderr",
          "text": [
            "\n",
            "100%|██████████| 88/88 [00:34<00:00,  2.56it/s]\n",
            "100%|██████████| 32/32 [00:07<00:00,  4.04it/s]"
          ]
        },
        {
          "output_type": "stream",
          "name": "stdout",
          "text": [
            "\n",
            " EPOCH: 0035 -> val_accuracy: 0.3725, class_label_loss: 0.0356, domain_label_loss: 0.8781\n"
          ]
        },
        {
          "output_type": "stream",
          "name": "stderr",
          "text": [
            "\n",
            "100%|██████████| 88/88 [00:35<00:00,  2.46it/s]\n",
            "100%|██████████| 32/32 [00:05<00:00,  5.35it/s]"
          ]
        },
        {
          "output_type": "stream",
          "name": "stdout",
          "text": [
            "\n",
            " EPOCH: 0036 -> val_accuracy: 0.3675, class_label_loss: 0.0360, domain_label_loss: 0.8896\n"
          ]
        },
        {
          "output_type": "stream",
          "name": "stderr",
          "text": [
            "\n",
            "100%|██████████| 88/88 [00:36<00:00,  2.40it/s]\n",
            "100%|██████████| 32/32 [00:05<00:00,  5.94it/s]"
          ]
        },
        {
          "output_type": "stream",
          "name": "stdout",
          "text": [
            "\n",
            " EPOCH: 0037 -> val_accuracy: 0.3718, class_label_loss: 0.0316, domain_label_loss: 0.8846\n"
          ]
        },
        {
          "output_type": "stream",
          "name": "stderr",
          "text": [
            "\n",
            "100%|██████████| 88/88 [00:37<00:00,  2.37it/s]\n",
            "100%|██████████| 32/32 [00:05<00:00,  5.81it/s]"
          ]
        },
        {
          "output_type": "stream",
          "name": "stdout",
          "text": [
            "\n",
            " EPOCH: 0038 -> val_accuracy: 0.3819, class_label_loss: 0.0415, domain_label_loss: 0.8842\n"
          ]
        },
        {
          "output_type": "stream",
          "name": "stderr",
          "text": [
            "\n",
            "100%|██████████| 88/88 [00:36<00:00,  2.43it/s]\n",
            "100%|██████████| 32/32 [00:08<00:00,  3.96it/s]"
          ]
        },
        {
          "output_type": "stream",
          "name": "stdout",
          "text": [
            "\n",
            " EPOCH: 0039 -> val_accuracy: 0.3343, class_label_loss: 0.0393, domain_label_loss: 0.8876\n"
          ]
        },
        {
          "output_type": "stream",
          "name": "stderr",
          "text": [
            "\n",
            "100%|██████████| 88/88 [00:33<00:00,  2.62it/s]\n",
            "100%|██████████| 32/32 [00:08<00:00,  3.73it/s]"
          ]
        },
        {
          "output_type": "stream",
          "name": "stdout",
          "text": [
            "\n",
            " EPOCH: 0040 -> val_accuracy: 0.3417, class_label_loss: 0.0276, domain_label_loss: 0.8993\n"
          ]
        },
        {
          "output_type": "stream",
          "name": "stderr",
          "text": [
            "\n",
            "100%|██████████| 88/88 [00:35<00:00,  2.49it/s]\n",
            "100%|██████████| 32/32 [00:06<00:00,  4.97it/s]"
          ]
        },
        {
          "output_type": "stream",
          "name": "stdout",
          "text": [
            "\n",
            " EPOCH: 0041 -> val_accuracy: 0.3722, class_label_loss: 0.0384, domain_label_loss: 0.8704\n"
          ]
        },
        {
          "output_type": "stream",
          "name": "stderr",
          "text": [
            "\n",
            "100%|██████████| 88/88 [00:36<00:00,  2.39it/s]\n",
            "100%|██████████| 32/32 [00:05<00:00,  5.86it/s]"
          ]
        },
        {
          "output_type": "stream",
          "name": "stdout",
          "text": [
            "\n",
            " EPOCH: 0042 -> val_accuracy: 0.3663, class_label_loss: 0.0229, domain_label_loss: 0.8636\n"
          ]
        },
        {
          "output_type": "stream",
          "name": "stderr",
          "text": [
            "\n",
            "100%|██████████| 88/88 [00:37<00:00,  2.37it/s]\n",
            "100%|██████████| 32/32 [00:05<00:00,  5.90it/s]"
          ]
        },
        {
          "output_type": "stream",
          "name": "stdout",
          "text": [
            "\n",
            " EPOCH: 0043 -> val_accuracy: 0.3575, class_label_loss: 0.0308, domain_label_loss: 0.8325\n"
          ]
        },
        {
          "output_type": "stream",
          "name": "stderr",
          "text": [
            "\n",
            "100%|██████████| 88/88 [00:37<00:00,  2.37it/s]\n",
            "100%|██████████| 32/32 [00:06<00:00,  4.68it/s]"
          ]
        },
        {
          "output_type": "stream",
          "name": "stdout",
          "text": [
            "\n",
            " EPOCH: 0044 -> val_accuracy: 0.3540, class_label_loss: 0.0422, domain_label_loss: 0.8272\n"
          ]
        },
        {
          "output_type": "stream",
          "name": "stderr",
          "text": [
            "\n",
            "100%|██████████| 88/88 [00:34<00:00,  2.53it/s]\n",
            "100%|██████████| 32/32 [00:09<00:00,  3.48it/s]"
          ]
        },
        {
          "output_type": "stream",
          "name": "stdout",
          "text": [
            "\n",
            " EPOCH: 0045 -> val_accuracy: 0.3752, class_label_loss: 0.0444, domain_label_loss: 0.8943\n"
          ]
        },
        {
          "output_type": "stream",
          "name": "stderr",
          "text": [
            "\n",
            "100%|██████████| 88/88 [00:34<00:00,  2.58it/s]\n",
            "100%|██████████| 32/32 [00:07<00:00,  4.29it/s]"
          ]
        },
        {
          "output_type": "stream",
          "name": "stdout",
          "text": [
            "\n",
            " EPOCH: 0046 -> val_accuracy: 0.3453, class_label_loss: 0.0170, domain_label_loss: 0.8327\n"
          ]
        },
        {
          "output_type": "stream",
          "name": "stderr",
          "text": [
            "\n",
            "100%|██████████| 88/88 [00:36<00:00,  2.44it/s]\n",
            "100%|██████████| 32/32 [00:05<00:00,  5.40it/s]"
          ]
        },
        {
          "output_type": "stream",
          "name": "stdout",
          "text": [
            "\n",
            " EPOCH: 0047 -> val_accuracy: 0.3700, class_label_loss: 0.0213, domain_label_loss: 0.8404\n"
          ]
        },
        {
          "output_type": "stream",
          "name": "stderr",
          "text": [
            "\n",
            "100%|██████████| 88/88 [00:36<00:00,  2.40it/s]\n",
            "100%|██████████| 32/32 [00:05<00:00,  5.81it/s]"
          ]
        },
        {
          "output_type": "stream",
          "name": "stdout",
          "text": [
            "\n",
            " EPOCH: 0048 -> val_accuracy: 0.3707, class_label_loss: 0.0191, domain_label_loss: 0.8503\n"
          ]
        },
        {
          "output_type": "stream",
          "name": "stderr",
          "text": [
            "\n",
            "100%|██████████| 88/88 [00:36<00:00,  2.38it/s]\n",
            "100%|██████████| 32/32 [00:05<00:00,  5.41it/s]"
          ]
        },
        {
          "output_type": "stream",
          "name": "stdout",
          "text": [
            "\n",
            " EPOCH: 0049 -> val_accuracy: 0.3722, class_label_loss: 0.0288, domain_label_loss: 0.8316\n"
          ]
        },
        {
          "output_type": "stream",
          "name": "stderr",
          "text": [
            "\n",
            "100%|██████████| 88/88 [00:35<00:00,  2.48it/s]\n",
            "100%|██████████| 32/32 [00:08<00:00,  3.89it/s]"
          ]
        },
        {
          "output_type": "stream",
          "name": "stdout",
          "text": [
            "\n",
            " EPOCH: 0050 -> val_accuracy: 0.3695, class_label_loss: 0.0225, domain_label_loss: 0.8438\n"
          ]
        },
        {
          "output_type": "stream",
          "name": "stderr",
          "text": [
            "\n",
            "100%|██████████| 88/88 [00:34<00:00,  2.56it/s]\n",
            "100%|██████████| 32/32 [00:07<00:00,  4.03it/s]"
          ]
        },
        {
          "output_type": "stream",
          "name": "stdout",
          "text": [
            "\n",
            " EPOCH: 0051 -> val_accuracy: 0.3688, class_label_loss: 0.0188, domain_label_loss: 0.8667\n"
          ]
        },
        {
          "output_type": "stream",
          "name": "stderr",
          "text": [
            "\n",
            "100%|██████████| 88/88 [00:36<00:00,  2.41it/s]\n",
            "100%|██████████| 32/32 [00:05<00:00,  5.34it/s]"
          ]
        },
        {
          "output_type": "stream",
          "name": "stdout",
          "text": [
            "\n",
            " EPOCH: 0052 -> val_accuracy: 0.3733, class_label_loss: 0.0191, domain_label_loss: 0.8541\n"
          ]
        },
        {
          "output_type": "stream",
          "name": "stderr",
          "text": [
            "\n",
            "100%|██████████| 88/88 [00:37<00:00,  2.35it/s]\n",
            "100%|██████████| 32/32 [00:05<00:00,  5.71it/s]"
          ]
        },
        {
          "output_type": "stream",
          "name": "stdout",
          "text": [
            "\n",
            " EPOCH: 0053 -> val_accuracy: 0.3375, class_label_loss: 0.0199, domain_label_loss: 0.8641\n"
          ]
        },
        {
          "output_type": "stream",
          "name": "stderr",
          "text": [
            "\n",
            "100%|██████████| 88/88 [00:37<00:00,  2.38it/s]\n",
            "100%|██████████| 32/32 [00:05<00:00,  5.49it/s]"
          ]
        },
        {
          "output_type": "stream",
          "name": "stdout",
          "text": [
            "\n",
            " EPOCH: 0054 -> val_accuracy: 0.3815, class_label_loss: 0.0194, domain_label_loss: 0.8850\n"
          ]
        },
        {
          "output_type": "stream",
          "name": "stderr",
          "text": [
            "\n",
            "100%|██████████| 88/88 [00:35<00:00,  2.47it/s]\n",
            "100%|██████████| 32/32 [00:08<00:00,  3.72it/s]"
          ]
        },
        {
          "output_type": "stream",
          "name": "stdout",
          "text": [
            "\n",
            " EPOCH: 0055 -> val_accuracy: 0.3468, class_label_loss: 0.0306, domain_label_loss: 0.9136\n"
          ]
        },
        {
          "output_type": "stream",
          "name": "stderr",
          "text": [
            "\n",
            "100%|██████████| 88/88 [00:35<00:00,  2.50it/s]\n",
            "100%|██████████| 32/32 [00:07<00:00,  4.31it/s]"
          ]
        },
        {
          "output_type": "stream",
          "name": "stdout",
          "text": [
            "\n",
            " EPOCH: 0056 -> val_accuracy: 0.3669, class_label_loss: 0.0119, domain_label_loss: 0.9019\n"
          ]
        },
        {
          "output_type": "stream",
          "name": "stderr",
          "text": [
            "\n",
            "100%|██████████| 88/88 [00:36<00:00,  2.42it/s]\n",
            "100%|██████████| 32/32 [00:05<00:00,  5.62it/s]"
          ]
        },
        {
          "output_type": "stream",
          "name": "stdout",
          "text": [
            "\n",
            " EPOCH: 0057 -> val_accuracy: 0.3705, class_label_loss: 0.0246, domain_label_loss: 0.9506\n"
          ]
        },
        {
          "output_type": "stream",
          "name": "stderr",
          "text": [
            "\n",
            "100%|██████████| 88/88 [00:36<00:00,  2.40it/s]\n",
            "100%|██████████| 32/32 [00:05<00:00,  5.90it/s]"
          ]
        },
        {
          "output_type": "stream",
          "name": "stdout",
          "text": [
            "\n",
            " EPOCH: 0058 -> val_accuracy: 0.3908, class_label_loss: 0.0157, domain_label_loss: 0.9051\n"
          ]
        },
        {
          "output_type": "stream",
          "name": "stderr",
          "text": [
            "\n",
            "100%|██████████| 88/88 [00:36<00:00,  2.40it/s]\n",
            "100%|██████████| 32/32 [00:05<00:00,  5.37it/s]"
          ]
        },
        {
          "output_type": "stream",
          "name": "stdout",
          "text": [
            "\n",
            " EPOCH: 0059 -> val_accuracy: 0.3837, class_label_loss: 0.0159, domain_label_loss: 0.9717\n"
          ]
        },
        {
          "output_type": "stream",
          "name": "stderr",
          "text": [
            "\n",
            "100%|██████████| 88/88 [00:35<00:00,  2.48it/s]\n",
            "100%|██████████| 32/32 [00:08<00:00,  3.86it/s]"
          ]
        },
        {
          "output_type": "stream",
          "name": "stdout",
          "text": [
            "\n",
            " EPOCH: 0060 -> val_accuracy: 0.3817, class_label_loss: 0.0160, domain_label_loss: 0.9499\n"
          ]
        },
        {
          "output_type": "stream",
          "name": "stderr",
          "text": [
            "\n",
            "100%|██████████| 88/88 [00:34<00:00,  2.57it/s]\n",
            "100%|██████████| 32/32 [00:07<00:00,  4.00it/s]"
          ]
        },
        {
          "output_type": "stream",
          "name": "stdout",
          "text": [
            "\n",
            " EPOCH: 0061 -> val_accuracy: 0.3849, class_label_loss: 0.0109, domain_label_loss: 1.0445\n"
          ]
        },
        {
          "output_type": "stream",
          "name": "stderr",
          "text": [
            "\n",
            "100%|██████████| 88/88 [00:36<00:00,  2.43it/s]\n",
            "100%|██████████| 32/32 [00:05<00:00,  5.42it/s]"
          ]
        },
        {
          "output_type": "stream",
          "name": "stdout",
          "text": [
            "\n",
            " EPOCH: 0062 -> val_accuracy: 0.3745, class_label_loss: 0.0147, domain_label_loss: 1.0265\n"
          ]
        },
        {
          "output_type": "stream",
          "name": "stderr",
          "text": [
            "\n",
            "100%|██████████| 88/88 [00:37<00:00,  2.38it/s]\n",
            "100%|██████████| 32/32 [00:05<00:00,  5.96it/s]"
          ]
        },
        {
          "output_type": "stream",
          "name": "stdout",
          "text": [
            "\n",
            " EPOCH: 0063 -> val_accuracy: 0.3709, class_label_loss: 0.0191, domain_label_loss: 1.0328\n"
          ]
        },
        {
          "output_type": "stream",
          "name": "stderr",
          "text": [
            "\n",
            "100%|██████████| 88/88 [00:36<00:00,  2.40it/s]\n",
            "100%|██████████| 32/32 [00:05<00:00,  5.34it/s]"
          ]
        },
        {
          "output_type": "stream",
          "name": "stdout",
          "text": [
            "\n",
            " EPOCH: 0064 -> val_accuracy: 0.3611, class_label_loss: 0.0155, domain_label_loss: 0.9960\n"
          ]
        },
        {
          "output_type": "stream",
          "name": "stderr",
          "text": [
            "\n",
            "100%|██████████| 88/88 [00:35<00:00,  2.47it/s]\n",
            "100%|██████████| 32/32 [00:08<00:00,  3.93it/s]"
          ]
        },
        {
          "output_type": "stream",
          "name": "stdout",
          "text": [
            "\n",
            " EPOCH: 0065 -> val_accuracy: 0.3889, class_label_loss: 0.0126, domain_label_loss: 1.0104\n"
          ]
        },
        {
          "output_type": "stream",
          "name": "stderr",
          "text": [
            "\n",
            "100%|██████████| 88/88 [00:34<00:00,  2.58it/s]\n",
            "100%|██████████| 32/32 [00:08<00:00,  3.97it/s]"
          ]
        },
        {
          "output_type": "stream",
          "name": "stdout",
          "text": [
            "\n",
            " EPOCH: 0066 -> val_accuracy: 0.3669, class_label_loss: 0.0263, domain_label_loss: 1.0433\n"
          ]
        },
        {
          "output_type": "stream",
          "name": "stderr",
          "text": [
            "\n",
            "100%|██████████| 88/88 [00:35<00:00,  2.45it/s]\n",
            "100%|██████████| 32/32 [00:05<00:00,  5.50it/s]"
          ]
        },
        {
          "output_type": "stream",
          "name": "stdout",
          "text": [
            "\n",
            " EPOCH: 0067 -> val_accuracy: 0.3813, class_label_loss: 0.0142, domain_label_loss: 1.0452\n"
          ]
        },
        {
          "output_type": "stream",
          "name": "stderr",
          "text": [
            "\n",
            "100%|██████████| 88/88 [00:37<00:00,  2.37it/s]\n",
            "100%|██████████| 32/32 [00:05<00:00,  5.77it/s]"
          ]
        },
        {
          "output_type": "stream",
          "name": "stdout",
          "text": [
            "\n",
            " EPOCH: 0068 -> val_accuracy: 0.3581, class_label_loss: 0.0120, domain_label_loss: 1.0447\n"
          ]
        },
        {
          "output_type": "stream",
          "name": "stderr",
          "text": [
            "\n",
            "100%|██████████| 88/88 [00:37<00:00,  2.36it/s]\n",
            "100%|██████████| 32/32 [00:06<00:00,  5.23it/s]"
          ]
        },
        {
          "output_type": "stream",
          "name": "stdout",
          "text": [
            "\n",
            " EPOCH: 0069 -> val_accuracy: 0.3498, class_label_loss: 0.0091, domain_label_loss: 1.0749\n"
          ]
        },
        {
          "output_type": "stream",
          "name": "stderr",
          "text": [
            "\n",
            "100%|██████████| 88/88 [00:34<00:00,  2.52it/s]\n",
            "100%|██████████| 32/32 [00:08<00:00,  3.76it/s]"
          ]
        },
        {
          "output_type": "stream",
          "name": "stdout",
          "text": [
            "\n",
            " EPOCH: 0070 -> val_accuracy: 0.3832, class_label_loss: 0.0104, domain_label_loss: 1.0333\n"
          ]
        },
        {
          "output_type": "stream",
          "name": "stderr",
          "text": [
            "\n",
            "100%|██████████| 88/88 [00:34<00:00,  2.55it/s]\n",
            "100%|██████████| 32/32 [00:07<00:00,  4.23it/s]"
          ]
        },
        {
          "output_type": "stream",
          "name": "stdout",
          "text": [
            "\n",
            " EPOCH: 0071 -> val_accuracy: 0.3678, class_label_loss: 0.0106, domain_label_loss: 1.0233\n"
          ]
        },
        {
          "output_type": "stream",
          "name": "stderr",
          "text": [
            "\n",
            "100%|██████████| 88/88 [00:35<00:00,  2.45it/s]\n",
            "100%|██████████| 32/32 [00:05<00:00,  5.86it/s]"
          ]
        },
        {
          "output_type": "stream",
          "name": "stdout",
          "text": [
            "\n",
            " EPOCH: 0072 -> val_accuracy: 0.3816, class_label_loss: 0.0176, domain_label_loss: 1.0308\n"
          ]
        },
        {
          "output_type": "stream",
          "name": "stderr",
          "text": [
            "\n",
            "100%|██████████| 88/88 [00:36<00:00,  2.41it/s]\n",
            "100%|██████████| 32/32 [00:05<00:00,  6.00it/s]"
          ]
        },
        {
          "output_type": "stream",
          "name": "stdout",
          "text": [
            "\n",
            " EPOCH: 0073 -> val_accuracy: 0.3793, class_label_loss: 0.0091, domain_label_loss: 1.0380\n"
          ]
        },
        {
          "output_type": "stream",
          "name": "stderr",
          "text": [
            "\n",
            "100%|██████████| 88/88 [00:36<00:00,  2.43it/s]\n",
            "100%|██████████| 32/32 [00:06<00:00,  5.12it/s]"
          ]
        },
        {
          "output_type": "stream",
          "name": "stdout",
          "text": [
            "\n",
            " EPOCH: 0074 -> val_accuracy: 0.3881, class_label_loss: 0.0106, domain_label_loss: 1.0649\n"
          ]
        },
        {
          "output_type": "stream",
          "name": "stderr",
          "text": [
            "\n",
            "100%|██████████| 88/88 [00:34<00:00,  2.52it/s]\n",
            "100%|██████████| 32/32 [00:08<00:00,  3.56it/s]"
          ]
        },
        {
          "output_type": "stream",
          "name": "stdout",
          "text": [
            "\n",
            " EPOCH: 0075 -> val_accuracy: 0.3649, class_label_loss: 0.0159, domain_label_loss: 1.0814\n"
          ]
        },
        {
          "output_type": "stream",
          "name": "stderr",
          "text": [
            "\n",
            "100%|██████████| 88/88 [00:34<00:00,  2.52it/s]\n",
            "100%|██████████| 32/32 [00:06<00:00,  4.69it/s]"
          ]
        },
        {
          "output_type": "stream",
          "name": "stdout",
          "text": [
            "\n",
            " EPOCH: 0076 -> val_accuracy: 0.3785, class_label_loss: 0.0119, domain_label_loss: 1.0552\n"
          ]
        },
        {
          "output_type": "stream",
          "name": "stderr",
          "text": [
            "\n",
            "100%|██████████| 88/88 [00:36<00:00,  2.42it/s]\n",
            "100%|██████████| 32/32 [00:05<00:00,  5.87it/s]"
          ]
        },
        {
          "output_type": "stream",
          "name": "stdout",
          "text": [
            "\n",
            " EPOCH: 0077 -> val_accuracy: 0.3818, class_label_loss: 0.0069, domain_label_loss: 1.0155\n"
          ]
        },
        {
          "output_type": "stream",
          "name": "stderr",
          "text": [
            "\n",
            "100%|██████████| 88/88 [00:37<00:00,  2.36it/s]\n",
            "100%|██████████| 32/32 [00:05<00:00,  6.00it/s]"
          ]
        },
        {
          "output_type": "stream",
          "name": "stdout",
          "text": [
            "\n",
            " EPOCH: 0078 -> val_accuracy: 0.3758, class_label_loss: 0.0096, domain_label_loss: 1.1060\n"
          ]
        },
        {
          "output_type": "stream",
          "name": "stderr",
          "text": [
            "\n",
            "100%|██████████| 88/88 [00:37<00:00,  2.35it/s]\n",
            "100%|██████████| 32/32 [00:08<00:00,  3.98it/s]"
          ]
        },
        {
          "output_type": "stream",
          "name": "stdout",
          "text": [
            "\n",
            " EPOCH: 0079 -> val_accuracy: 0.3747, class_label_loss: 0.0105, domain_label_loss: 1.0393\n"
          ]
        },
        {
          "output_type": "stream",
          "name": "stderr",
          "text": [
            "\n",
            "100%|██████████| 88/88 [00:36<00:00,  2.40it/s]\n",
            "100%|██████████| 32/32 [00:07<00:00,  4.23it/s]"
          ]
        },
        {
          "output_type": "stream",
          "name": "stdout",
          "text": [
            "\n",
            " EPOCH: 0080 -> val_accuracy: 0.3617, class_label_loss: 0.0083, domain_label_loss: 1.0213\n"
          ]
        },
        {
          "output_type": "stream",
          "name": "stderr",
          "text": [
            "\n",
            "100%|██████████| 88/88 [00:37<00:00,  2.34it/s]\n",
            "100%|██████████| 32/32 [00:06<00:00,  5.13it/s]"
          ]
        },
        {
          "output_type": "stream",
          "name": "stdout",
          "text": [
            "\n",
            " EPOCH: 0081 -> val_accuracy: 0.3661, class_label_loss: 0.0103, domain_label_loss: 1.0988\n"
          ]
        },
        {
          "output_type": "stream",
          "name": "stderr",
          "text": [
            "\n",
            "100%|██████████| 88/88 [00:38<00:00,  2.30it/s]\n",
            "100%|██████████| 32/32 [00:07<00:00,  4.34it/s]"
          ]
        },
        {
          "output_type": "stream",
          "name": "stdout",
          "text": [
            "\n",
            " EPOCH: 0082 -> val_accuracy: 0.3857, class_label_loss: 0.0156, domain_label_loss: 1.0942\n"
          ]
        },
        {
          "output_type": "stream",
          "name": "stderr",
          "text": [
            "\n",
            "100%|██████████| 88/88 [00:36<00:00,  2.42it/s]\n",
            "100%|██████████| 32/32 [00:08<00:00,  3.76it/s]"
          ]
        },
        {
          "output_type": "stream",
          "name": "stdout",
          "text": [
            "\n",
            " EPOCH: 0083 -> val_accuracy: 0.3609, class_label_loss: 0.0063, domain_label_loss: 1.1178\n"
          ]
        },
        {
          "output_type": "stream",
          "name": "stderr",
          "text": [
            "\n",
            "100%|██████████| 88/88 [00:37<00:00,  2.37it/s]\n",
            "100%|██████████| 32/32 [00:05<00:00,  5.96it/s]"
          ]
        },
        {
          "output_type": "stream",
          "name": "stdout",
          "text": [
            "\n",
            " EPOCH: 0084 -> val_accuracy: 0.3667, class_label_loss: 0.0083, domain_label_loss: 1.1203\n"
          ]
        },
        {
          "output_type": "stream",
          "name": "stderr",
          "text": [
            "\n",
            "100%|██████████| 88/88 [00:36<00:00,  2.40it/s]\n",
            "100%|██████████| 32/32 [00:05<00:00,  5.88it/s]"
          ]
        },
        {
          "output_type": "stream",
          "name": "stdout",
          "text": [
            "\n",
            " EPOCH: 0085 -> val_accuracy: 0.3698, class_label_loss: 0.0082, domain_label_loss: 1.0783\n"
          ]
        },
        {
          "output_type": "stream",
          "name": "stderr",
          "text": [
            "\n",
            "100%|██████████| 88/88 [00:36<00:00,  2.42it/s]\n",
            "100%|██████████| 32/32 [00:06<00:00,  4.80it/s]"
          ]
        },
        {
          "output_type": "stream",
          "name": "stdout",
          "text": [
            "\n",
            " EPOCH: 0086 -> val_accuracy: 0.3512, class_label_loss: 0.0082, domain_label_loss: 1.1151\n"
          ]
        },
        {
          "output_type": "stream",
          "name": "stderr",
          "text": [
            "\n",
            "100%|██████████| 88/88 [00:35<00:00,  2.51it/s]\n",
            "100%|██████████| 32/32 [00:08<00:00,  3.57it/s]"
          ]
        },
        {
          "output_type": "stream",
          "name": "stdout",
          "text": [
            "\n",
            " EPOCH: 0087 -> val_accuracy: 0.3759, class_label_loss: 0.0110, domain_label_loss: 1.1657\n"
          ]
        },
        {
          "output_type": "stream",
          "name": "stderr",
          "text": [
            "\n",
            "100%|██████████| 88/88 [00:34<00:00,  2.55it/s]\n",
            "100%|██████████| 32/32 [00:06<00:00,  4.70it/s]\n"
          ]
        },
        {
          "output_type": "stream",
          "name": "stdout",
          "text": [
            "\n",
            " EPOCH: 0088 -> val_accuracy: 0.4022, class_label_loss: 0.0068, domain_label_loss: 1.1446\n",
            "--------------------Model saved--------------------\n"
          ]
        },
        {
          "output_type": "stream",
          "name": "stderr",
          "text": [
            "100%|██████████| 88/88 [00:36<00:00,  2.39it/s]\n",
            "100%|██████████| 32/32 [00:05<00:00,  5.89it/s]"
          ]
        },
        {
          "output_type": "stream",
          "name": "stdout",
          "text": [
            "\n",
            " EPOCH: 0089 -> val_accuracy: 0.3741, class_label_loss: 0.0095, domain_label_loss: 1.2048\n"
          ]
        },
        {
          "output_type": "stream",
          "name": "stderr",
          "text": [
            "\n",
            "100%|██████████| 88/88 [00:36<00:00,  2.39it/s]\n",
            "100%|██████████| 32/32 [00:05<00:00,  5.73it/s]"
          ]
        },
        {
          "output_type": "stream",
          "name": "stdout",
          "text": [
            "\n",
            " EPOCH: 0090 -> val_accuracy: 0.3786, class_label_loss: 0.0126, domain_label_loss: 1.2080\n"
          ]
        },
        {
          "output_type": "stream",
          "name": "stderr",
          "text": [
            "\n",
            "100%|██████████| 88/88 [00:36<00:00,  2.43it/s]\n",
            "100%|██████████| 32/32 [00:07<00:00,  4.36it/s]"
          ]
        },
        {
          "output_type": "stream",
          "name": "stdout",
          "text": [
            "\n",
            " EPOCH: 0091 -> val_accuracy: 0.3881, class_label_loss: 0.0057, domain_label_loss: 1.1884\n"
          ]
        },
        {
          "output_type": "stream",
          "name": "stderr",
          "text": [
            "\n",
            "100%|██████████| 88/88 [00:34<00:00,  2.56it/s]\n",
            "100%|██████████| 32/32 [00:08<00:00,  3.75it/s]"
          ]
        },
        {
          "output_type": "stream",
          "name": "stdout",
          "text": [
            "\n",
            " EPOCH: 0092 -> val_accuracy: 0.3601, class_label_loss: 0.0146, domain_label_loss: 1.1302\n"
          ]
        },
        {
          "output_type": "stream",
          "name": "stderr",
          "text": [
            "\n",
            "100%|██████████| 88/88 [00:36<00:00,  2.44it/s]\n",
            "100%|██████████| 32/32 [00:05<00:00,  5.41it/s]"
          ]
        },
        {
          "output_type": "stream",
          "name": "stdout",
          "text": [
            "\n",
            " EPOCH: 0093 -> val_accuracy: 0.3860, class_label_loss: 0.0078, domain_label_loss: 1.1932\n"
          ]
        },
        {
          "output_type": "stream",
          "name": "stderr",
          "text": [
            "\n",
            "100%|██████████| 88/88 [00:36<00:00,  2.40it/s]\n",
            "100%|██████████| 32/32 [00:05<00:00,  6.00it/s]"
          ]
        },
        {
          "output_type": "stream",
          "name": "stdout",
          "text": [
            "\n",
            " EPOCH: 0094 -> val_accuracy: 0.3782, class_label_loss: 0.0067, domain_label_loss: 1.1838\n"
          ]
        },
        {
          "output_type": "stream",
          "name": "stderr",
          "text": [
            "\n",
            "100%|██████████| 88/88 [00:36<00:00,  2.41it/s]\n",
            "100%|██████████| 32/32 [00:05<00:00,  5.50it/s]"
          ]
        },
        {
          "output_type": "stream",
          "name": "stdout",
          "text": [
            "\n",
            " EPOCH: 0095 -> val_accuracy: 0.3642, class_label_loss: 0.0131, domain_label_loss: 1.2251\n"
          ]
        },
        {
          "output_type": "stream",
          "name": "stderr",
          "text": [
            "\n",
            "100%|██████████| 88/88 [00:35<00:00,  2.49it/s]\n",
            "100%|██████████| 32/32 [00:08<00:00,  3.78it/s]"
          ]
        },
        {
          "output_type": "stream",
          "name": "stdout",
          "text": [
            "\n",
            " EPOCH: 0096 -> val_accuracy: 0.3781, class_label_loss: 0.0123, domain_label_loss: 1.2117\n"
          ]
        },
        {
          "output_type": "stream",
          "name": "stderr",
          "text": [
            "\n",
            "100%|██████████| 88/88 [00:34<00:00,  2.57it/s]\n",
            "100%|██████████| 32/32 [00:08<00:00,  3.71it/s]"
          ]
        },
        {
          "output_type": "stream",
          "name": "stdout",
          "text": [
            "\n",
            " EPOCH: 0097 -> val_accuracy: 0.3782, class_label_loss: 0.0085, domain_label_loss: 1.1740\n"
          ]
        },
        {
          "output_type": "stream",
          "name": "stderr",
          "text": [
            "\n",
            "100%|██████████| 88/88 [00:35<00:00,  2.46it/s]\n",
            "100%|██████████| 32/32 [00:06<00:00,  5.14it/s]"
          ]
        },
        {
          "output_type": "stream",
          "name": "stdout",
          "text": [
            "\n",
            " EPOCH: 0098 -> val_accuracy: 0.3915, class_label_loss: 0.0066, domain_label_loss: 1.1840\n"
          ]
        },
        {
          "output_type": "stream",
          "name": "stderr",
          "text": [
            "\n",
            "100%|██████████| 88/88 [00:36<00:00,  2.43it/s]\n",
            "100%|██████████| 32/32 [00:05<00:00,  6.06it/s]"
          ]
        },
        {
          "output_type": "stream",
          "name": "stdout",
          "text": [
            "\n",
            " EPOCH: 0099 -> val_accuracy: 0.3655, class_label_loss: 0.0090, domain_label_loss: 1.1644\n"
          ]
        },
        {
          "output_type": "stream",
          "name": "stderr",
          "text": [
            "\n",
            "100%|██████████| 88/88 [00:36<00:00,  2.38it/s]\n",
            "100%|██████████| 32/32 [00:05<00:00,  5.56it/s]"
          ]
        },
        {
          "output_type": "stream",
          "name": "stdout",
          "text": [
            "\n",
            " EPOCH: 0100 -> val_accuracy: 0.3719, class_label_loss: 0.0145, domain_label_loss: 1.1815\n"
          ]
        },
        {
          "output_type": "stream",
          "name": "stderr",
          "text": [
            "\n",
            "100%|██████████| 88/88 [00:35<00:00,  2.47it/s]\n",
            "100%|██████████| 32/32 [00:08<00:00,  3.92it/s]"
          ]
        },
        {
          "output_type": "stream",
          "name": "stdout",
          "text": [
            "\n",
            " EPOCH: 0101 -> val_accuracy: 0.3661, class_label_loss: 0.0061, domain_label_loss: 1.2198\n"
          ]
        },
        {
          "output_type": "stream",
          "name": "stderr",
          "text": [
            "\n",
            "100%|██████████| 88/88 [00:33<00:00,  2.60it/s]\n",
            "100%|██████████| 32/32 [00:08<00:00,  3.99it/s]"
          ]
        },
        {
          "output_type": "stream",
          "name": "stdout",
          "text": [
            "\n",
            " EPOCH: 0102 -> val_accuracy: 0.3699, class_label_loss: 0.0079, domain_label_loss: 1.2470\n"
          ]
        },
        {
          "output_type": "stream",
          "name": "stderr",
          "text": [
            "\n",
            "100%|██████████| 88/88 [00:36<00:00,  2.43it/s]\n",
            "100%|██████████| 32/32 [00:05<00:00,  5.58it/s]"
          ]
        },
        {
          "output_type": "stream",
          "name": "stdout",
          "text": [
            "\n",
            " EPOCH: 0103 -> val_accuracy: 0.3685, class_label_loss: 0.0131, domain_label_loss: 1.2740\n"
          ]
        },
        {
          "output_type": "stream",
          "name": "stderr",
          "text": [
            "\n",
            "100%|██████████| 88/88 [00:36<00:00,  2.39it/s]\n",
            "100%|██████████| 32/32 [00:05<00:00,  5.89it/s]"
          ]
        },
        {
          "output_type": "stream",
          "name": "stdout",
          "text": [
            "\n",
            " EPOCH: 0104 -> val_accuracy: 0.3517, class_label_loss: 0.0084, domain_label_loss: 1.2390\n"
          ]
        },
        {
          "output_type": "stream",
          "name": "stderr",
          "text": [
            "\n",
            "100%|██████████| 88/88 [00:37<00:00,  2.36it/s]\n",
            "100%|██████████| 32/32 [00:06<00:00,  4.71it/s]"
          ]
        },
        {
          "output_type": "stream",
          "name": "stdout",
          "text": [
            "\n",
            " EPOCH: 0105 -> val_accuracy: 0.3814, class_label_loss: 0.0085, domain_label_loss: 1.2412\n"
          ]
        },
        {
          "output_type": "stream",
          "name": "stderr",
          "text": [
            "\n",
            "100%|██████████| 88/88 [00:34<00:00,  2.55it/s]\n",
            "100%|██████████| 32/32 [00:08<00:00,  3.68it/s]"
          ]
        },
        {
          "output_type": "stream",
          "name": "stdout",
          "text": [
            "\n",
            " EPOCH: 0106 -> val_accuracy: 0.3854, class_label_loss: 0.0107, domain_label_loss: 1.1913\n"
          ]
        },
        {
          "output_type": "stream",
          "name": "stderr",
          "text": [
            "\n",
            "100%|██████████| 88/88 [00:34<00:00,  2.55it/s]\n",
            "100%|██████████| 32/32 [00:07<00:00,  4.31it/s]"
          ]
        },
        {
          "output_type": "stream",
          "name": "stdout",
          "text": [
            "\n",
            " EPOCH: 0107 -> val_accuracy: 0.3778, class_label_loss: 0.0065, domain_label_loss: 1.2272\n"
          ]
        },
        {
          "output_type": "stream",
          "name": "stderr",
          "text": [
            "\n",
            "100%|██████████| 88/88 [00:36<00:00,  2.42it/s]\n",
            "100%|██████████| 32/32 [00:05<00:00,  5.96it/s]"
          ]
        },
        {
          "output_type": "stream",
          "name": "stdout",
          "text": [
            "\n",
            " EPOCH: 0108 -> val_accuracy: 0.3558, class_label_loss: 0.0076, domain_label_loss: 1.2220\n"
          ]
        },
        {
          "output_type": "stream",
          "name": "stderr",
          "text": [
            "\n",
            "100%|██████████| 88/88 [00:36<00:00,  2.40it/s]\n",
            "100%|██████████| 32/32 [00:05<00:00,  5.77it/s]"
          ]
        },
        {
          "output_type": "stream",
          "name": "stdout",
          "text": [
            "\n",
            " EPOCH: 0109 -> val_accuracy: 0.3726, class_label_loss: 0.0113, domain_label_loss: 1.2550\n"
          ]
        },
        {
          "output_type": "stream",
          "name": "stderr",
          "text": [
            "\n",
            "100%|██████████| 88/88 [00:36<00:00,  2.39it/s]\n",
            "100%|██████████| 32/32 [00:07<00:00,  4.40it/s]"
          ]
        },
        {
          "output_type": "stream",
          "name": "stdout",
          "text": [
            "\n",
            " EPOCH: 0110 -> val_accuracy: 0.3750, class_label_loss: 0.0086, domain_label_loss: 1.2425\n"
          ]
        },
        {
          "output_type": "stream",
          "name": "stderr",
          "text": [
            "\n",
            "100%|██████████| 88/88 [00:34<00:00,  2.56it/s]\n",
            "100%|██████████| 32/32 [00:08<00:00,  3.61it/s]"
          ]
        },
        {
          "output_type": "stream",
          "name": "stdout",
          "text": [
            "\n",
            " EPOCH: 0111 -> val_accuracy: 0.3749, class_label_loss: 0.0075, domain_label_loss: 1.2528\n"
          ]
        },
        {
          "output_type": "stream",
          "name": "stderr",
          "text": [
            "\n",
            "100%|██████████| 88/88 [00:35<00:00,  2.50it/s]\n",
            "100%|██████████| 32/32 [00:06<00:00,  4.89it/s]"
          ]
        },
        {
          "output_type": "stream",
          "name": "stdout",
          "text": [
            "\n",
            " EPOCH: 0112 -> val_accuracy: 0.3405, class_label_loss: 0.0054, domain_label_loss: 1.2717\n"
          ]
        },
        {
          "output_type": "stream",
          "name": "stderr",
          "text": [
            "\n",
            "100%|██████████| 88/88 [00:36<00:00,  2.39it/s]\n",
            "100%|██████████| 32/32 [00:05<00:00,  5.63it/s]"
          ]
        },
        {
          "output_type": "stream",
          "name": "stdout",
          "text": [
            "\n",
            " EPOCH: 0113 -> val_accuracy: 0.3669, class_label_loss: 0.0060, domain_label_loss: 1.2232\n"
          ]
        },
        {
          "output_type": "stream",
          "name": "stderr",
          "text": [
            "\n",
            "100%|██████████| 88/88 [00:36<00:00,  2.39it/s]\n",
            "100%|██████████| 32/32 [00:05<00:00,  5.35it/s]"
          ]
        },
        {
          "output_type": "stream",
          "name": "stdout",
          "text": [
            "\n",
            " EPOCH: 0114 -> val_accuracy: 0.3709, class_label_loss: 0.0069, domain_label_loss: 1.2644\n"
          ]
        },
        {
          "output_type": "stream",
          "name": "stderr",
          "text": [
            "\n",
            "100%|██████████| 88/88 [00:35<00:00,  2.50it/s]\n",
            "100%|██████████| 32/32 [00:08<00:00,  3.76it/s]"
          ]
        },
        {
          "output_type": "stream",
          "name": "stdout",
          "text": [
            "\n",
            " EPOCH: 0115 -> val_accuracy: 0.3679, class_label_loss: 0.0071, domain_label_loss: 1.2312\n"
          ]
        },
        {
          "output_type": "stream",
          "name": "stderr",
          "text": [
            "\n",
            "100%|██████████| 88/88 [00:34<00:00,  2.55it/s]\n",
            "100%|██████████| 32/32 [00:07<00:00,  4.23it/s]"
          ]
        },
        {
          "output_type": "stream",
          "name": "stdout",
          "text": [
            "\n",
            " EPOCH: 0116 -> val_accuracy: 0.3703, class_label_loss: 0.0156, domain_label_loss: 1.2617\n"
          ]
        },
        {
          "output_type": "stream",
          "name": "stderr",
          "text": [
            "\n",
            "100%|██████████| 88/88 [00:36<00:00,  2.40it/s]\n",
            "100%|██████████| 32/32 [00:05<00:00,  5.89it/s]"
          ]
        },
        {
          "output_type": "stream",
          "name": "stdout",
          "text": [
            "\n",
            " EPOCH: 0117 -> val_accuracy: 0.3610, class_label_loss: 0.0083, domain_label_loss: 1.2165\n"
          ]
        },
        {
          "output_type": "stream",
          "name": "stderr",
          "text": [
            "\n",
            "100%|██████████| 88/88 [00:36<00:00,  2.43it/s]\n",
            "100%|██████████| 32/32 [00:05<00:00,  5.82it/s]"
          ]
        },
        {
          "output_type": "stream",
          "name": "stdout",
          "text": [
            "\n",
            " EPOCH: 0118 -> val_accuracy: 0.3662, class_label_loss: 0.0065, domain_label_loss: 1.2931\n"
          ]
        },
        {
          "output_type": "stream",
          "name": "stderr",
          "text": [
            "\n",
            "100%|██████████| 88/88 [00:36<00:00,  2.41it/s]\n",
            "100%|██████████| 32/32 [00:06<00:00,  5.23it/s]"
          ]
        },
        {
          "output_type": "stream",
          "name": "stdout",
          "text": [
            "\n",
            " EPOCH: 0119 -> val_accuracy: 0.3770, class_label_loss: 0.0081, domain_label_loss: 1.2835\n"
          ]
        },
        {
          "output_type": "stream",
          "name": "stderr",
          "text": [
            "\n",
            "100%|██████████| 88/88 [00:35<00:00,  2.49it/s]\n",
            "100%|██████████| 32/32 [00:09<00:00,  3.53it/s]"
          ]
        },
        {
          "output_type": "stream",
          "name": "stdout",
          "text": [
            "\n",
            " EPOCH: 0120 -> val_accuracy: 0.3427, class_label_loss: 0.0082, domain_label_loss: 1.2698\n"
          ]
        },
        {
          "output_type": "stream",
          "name": "stderr",
          "text": [
            "\n",
            "100%|██████████| 88/88 [00:36<00:00,  2.43it/s]\n",
            "100%|██████████| 32/32 [00:06<00:00,  5.20it/s]"
          ]
        },
        {
          "output_type": "stream",
          "name": "stdout",
          "text": [
            "\n",
            " EPOCH: 0121 -> val_accuracy: 0.3636, class_label_loss: 0.0080, domain_label_loss: 1.2893\n"
          ]
        },
        {
          "output_type": "stream",
          "name": "stderr",
          "text": [
            "\n",
            "100%|██████████| 88/88 [00:36<00:00,  2.39it/s]\n",
            "100%|██████████| 32/32 [00:05<00:00,  5.88it/s]"
          ]
        },
        {
          "output_type": "stream",
          "name": "stdout",
          "text": [
            "\n",
            " EPOCH: 0122 -> val_accuracy: 0.3612, class_label_loss: 0.0058, domain_label_loss: 1.3049\n"
          ]
        },
        {
          "output_type": "stream",
          "name": "stderr",
          "text": [
            "\n",
            "100%|██████████| 88/88 [00:36<00:00,  2.41it/s]\n",
            "100%|██████████| 32/32 [00:05<00:00,  5.40it/s]"
          ]
        },
        {
          "output_type": "stream",
          "name": "stdout",
          "text": [
            "\n",
            " EPOCH: 0123 -> val_accuracy: 0.3591, class_label_loss: 0.0076, domain_label_loss: 1.2587\n"
          ]
        },
        {
          "output_type": "stream",
          "name": "stderr",
          "text": [
            "\n",
            "100%|██████████| 88/88 [00:35<00:00,  2.48it/s]\n",
            "100%|██████████| 32/32 [00:09<00:00,  3.56it/s]"
          ]
        },
        {
          "output_type": "stream",
          "name": "stdout",
          "text": [
            "\n",
            " EPOCH: 0124 -> val_accuracy: 0.3485, class_label_loss: 0.0086, domain_label_loss: 1.3420\n"
          ]
        },
        {
          "output_type": "stream",
          "name": "stderr",
          "text": [
            "\n",
            "100%|██████████| 88/88 [00:34<00:00,  2.53it/s]\n",
            "100%|██████████| 32/32 [00:07<00:00,  4.29it/s]"
          ]
        },
        {
          "output_type": "stream",
          "name": "stdout",
          "text": [
            "\n",
            " EPOCH: 0125 -> val_accuracy: 0.3583, class_label_loss: 0.0107, domain_label_loss: 1.3398\n"
          ]
        },
        {
          "output_type": "stream",
          "name": "stderr",
          "text": [
            "\n",
            "100%|██████████| 88/88 [00:36<00:00,  2.39it/s]\n",
            "100%|██████████| 32/32 [00:05<00:00,  5.83it/s]"
          ]
        },
        {
          "output_type": "stream",
          "name": "stdout",
          "text": [
            "\n",
            " EPOCH: 0126 -> val_accuracy: 0.3433, class_label_loss: 0.0061, domain_label_loss: 1.3187\n"
          ]
        },
        {
          "output_type": "stream",
          "name": "stderr",
          "text": [
            "\n",
            "100%|██████████| 88/88 [00:36<00:00,  2.38it/s]\n",
            "100%|██████████| 32/32 [00:05<00:00,  5.83it/s]"
          ]
        },
        {
          "output_type": "stream",
          "name": "stdout",
          "text": [
            "\n",
            " EPOCH: 0127 -> val_accuracy: 0.3857, class_label_loss: 0.0071, domain_label_loss: 1.3218\n"
          ]
        },
        {
          "output_type": "stream",
          "name": "stderr",
          "text": [
            "\n",
            "100%|██████████| 88/88 [00:35<00:00,  2.46it/s]\n",
            "100%|██████████| 32/32 [00:08<00:00,  3.90it/s]"
          ]
        },
        {
          "output_type": "stream",
          "name": "stdout",
          "text": [
            "\n",
            " EPOCH: 0128 -> val_accuracy: 0.3485, class_label_loss: 0.0088, domain_label_loss: 1.4369\n"
          ]
        },
        {
          "output_type": "stream",
          "name": "stderr",
          "text": [
            "\n",
            "100%|██████████| 88/88 [00:35<00:00,  2.50it/s]\n",
            "100%|██████████| 32/32 [00:07<00:00,  4.28it/s]"
          ]
        },
        {
          "output_type": "stream",
          "name": "stdout",
          "text": [
            "\n",
            " EPOCH: 0129 -> val_accuracy: 0.3555, class_label_loss: 0.0120, domain_label_loss: 1.3947\n"
          ]
        },
        {
          "output_type": "stream",
          "name": "stderr",
          "text": [
            "\n",
            "100%|██████████| 88/88 [00:36<00:00,  2.43it/s]\n",
            "100%|██████████| 32/32 [00:05<00:00,  5.69it/s]"
          ]
        },
        {
          "output_type": "stream",
          "name": "stdout",
          "text": [
            "\n",
            " EPOCH: 0130 -> val_accuracy: 0.3815, class_label_loss: 0.0077, domain_label_loss: 1.3883\n"
          ]
        },
        {
          "output_type": "stream",
          "name": "stderr",
          "text": [
            "\n",
            "100%|██████████| 88/88 [00:37<00:00,  2.36it/s]\n",
            "100%|██████████| 32/32 [00:05<00:00,  5.80it/s]"
          ]
        },
        {
          "output_type": "stream",
          "name": "stdout",
          "text": [
            "\n",
            " EPOCH: 0131 -> val_accuracy: 0.3304, class_label_loss: 0.0074, domain_label_loss: 1.3951\n"
          ]
        },
        {
          "output_type": "stream",
          "name": "stderr",
          "text": [
            "\n",
            "100%|██████████| 88/88 [00:36<00:00,  2.40it/s]\n",
            "100%|██████████| 32/32 [00:07<00:00,  4.26it/s]"
          ]
        },
        {
          "output_type": "stream",
          "name": "stdout",
          "text": [
            "\n",
            " EPOCH: 0132 -> val_accuracy: 0.3588, class_label_loss: 0.0223, domain_label_loss: 1.3501\n"
          ]
        },
        {
          "output_type": "stream",
          "name": "stderr",
          "text": [
            "\n",
            "100%|██████████| 88/88 [00:34<00:00,  2.55it/s]\n",
            "100%|██████████| 32/32 [00:08<00:00,  3.77it/s]"
          ]
        },
        {
          "output_type": "stream",
          "name": "stdout",
          "text": [
            "\n",
            " EPOCH: 0133 -> val_accuracy: 0.3636, class_label_loss: 0.0069, domain_label_loss: 1.4119\n"
          ]
        },
        {
          "output_type": "stream",
          "name": "stderr",
          "text": [
            "\n",
            "100%|██████████| 88/88 [00:36<00:00,  2.40it/s]\n",
            "100%|██████████| 32/32 [00:05<00:00,  5.85it/s]"
          ]
        },
        {
          "output_type": "stream",
          "name": "stdout",
          "text": [
            "\n",
            " EPOCH: 0134 -> val_accuracy: 0.3632, class_label_loss: 0.0054, domain_label_loss: 1.3300\n"
          ]
        },
        {
          "output_type": "stream",
          "name": "stderr",
          "text": [
            "\n",
            "100%|██████████| 88/88 [00:36<00:00,  2.38it/s]\n",
            "100%|██████████| 32/32 [00:05<00:00,  5.62it/s]"
          ]
        },
        {
          "output_type": "stream",
          "name": "stdout",
          "text": [
            "\n",
            " EPOCH: 0135 -> val_accuracy: 0.3798, class_label_loss: 0.0081, domain_label_loss: 1.3863\n"
          ]
        },
        {
          "output_type": "stream",
          "name": "stderr",
          "text": [
            "\n",
            "100%|██████████| 88/88 [00:37<00:00,  2.36it/s]\n",
            "100%|██████████| 32/32 [00:07<00:00,  4.11it/s]"
          ]
        },
        {
          "output_type": "stream",
          "name": "stdout",
          "text": [
            "\n",
            " EPOCH: 0136 -> val_accuracy: 0.3549, class_label_loss: 0.0074, domain_label_loss: 1.4825\n"
          ]
        },
        {
          "output_type": "stream",
          "name": "stderr",
          "text": [
            "\n",
            "100%|██████████| 88/88 [00:37<00:00,  2.32it/s]\n",
            "100%|██████████| 32/32 [00:08<00:00,  3.72it/s]"
          ]
        },
        {
          "output_type": "stream",
          "name": "stdout",
          "text": [
            "\n",
            " EPOCH: 0137 -> val_accuracy: 0.3845, class_label_loss: 0.0056, domain_label_loss: 1.4274\n"
          ]
        },
        {
          "output_type": "stream",
          "name": "stderr",
          "text": [
            "\n",
            "100%|██████████| 88/88 [00:42<00:00,  2.05it/s]\n",
            "100%|██████████| 32/32 [00:06<00:00,  5.26it/s]\n"
          ]
        },
        {
          "output_type": "stream",
          "name": "stdout",
          "text": [
            "\n",
            " EPOCH: 0138 -> val_accuracy: 0.4144, class_label_loss: 0.0052, domain_label_loss: 1.3425\n",
            "--------------------Model saved--------------------\n"
          ]
        },
        {
          "output_type": "stream",
          "name": "stderr",
          "text": [
            "100%|██████████| 88/88 [00:41<00:00,  2.14it/s]\n",
            "100%|██████████| 32/32 [00:10<00:00,  3.11it/s]"
          ]
        },
        {
          "output_type": "stream",
          "name": "stdout",
          "text": [
            "\n",
            " EPOCH: 0139 -> val_accuracy: 0.3757, class_label_loss: 0.0102, domain_label_loss: 1.3149\n"
          ]
        },
        {
          "output_type": "stream",
          "name": "stderr",
          "text": [
            "\n",
            "100%|██████████| 88/88 [00:40<00:00,  2.18it/s]\n",
            "100%|██████████| 32/32 [00:06<00:00,  5.13it/s]"
          ]
        },
        {
          "output_type": "stream",
          "name": "stdout",
          "text": [
            "\n",
            " EPOCH: 0140 -> val_accuracy: 0.3779, class_label_loss: 0.0055, domain_label_loss: 1.3778\n"
          ]
        },
        {
          "output_type": "stream",
          "name": "stderr",
          "text": [
            "\n",
            "100%|██████████| 88/88 [00:40<00:00,  2.16it/s]\n",
            "100%|██████████| 32/32 [00:07<00:00,  4.48it/s]"
          ]
        },
        {
          "output_type": "stream",
          "name": "stdout",
          "text": [
            "\n",
            " EPOCH: 0141 -> val_accuracy: 0.3973, class_label_loss: 0.0103, domain_label_loss: 1.3128\n"
          ]
        },
        {
          "output_type": "stream",
          "name": "stderr",
          "text": [
            "\n",
            "100%|██████████| 88/88 [00:40<00:00,  2.20it/s]\n",
            "100%|██████████| 32/32 [00:08<00:00,  3.68it/s]"
          ]
        },
        {
          "output_type": "stream",
          "name": "stdout",
          "text": [
            "\n",
            " EPOCH: 0142 -> val_accuracy: 0.4048, class_label_loss: 0.0083, domain_label_loss: 1.3288\n"
          ]
        },
        {
          "output_type": "stream",
          "name": "stderr",
          "text": [
            "\n",
            "100%|██████████| 88/88 [00:40<00:00,  2.17it/s]\n",
            "100%|██████████| 32/32 [00:06<00:00,  5.32it/s]"
          ]
        },
        {
          "output_type": "stream",
          "name": "stdout",
          "text": [
            "\n",
            " EPOCH: 0143 -> val_accuracy: 0.3932, class_label_loss: 0.0077, domain_label_loss: 1.3478\n"
          ]
        },
        {
          "output_type": "stream",
          "name": "stderr",
          "text": [
            "\n",
            "100%|██████████| 88/88 [00:39<00:00,  2.20it/s]\n",
            "100%|██████████| 32/32 [00:07<00:00,  4.18it/s]"
          ]
        },
        {
          "output_type": "stream",
          "name": "stdout",
          "text": [
            "\n",
            " EPOCH: 0144 -> val_accuracy: 0.3604, class_label_loss: 0.0053, domain_label_loss: 1.4239\n"
          ]
        },
        {
          "output_type": "stream",
          "name": "stderr",
          "text": [
            "\n",
            "100%|██████████| 88/88 [00:39<00:00,  2.21it/s]\n",
            "100%|██████████| 32/32 [00:08<00:00,  3.73it/s]"
          ]
        },
        {
          "output_type": "stream",
          "name": "stdout",
          "text": [
            "\n",
            " EPOCH: 0145 -> val_accuracy: 0.3767, class_label_loss: 0.0089, domain_label_loss: 1.4466\n"
          ]
        },
        {
          "output_type": "stream",
          "name": "stderr",
          "text": [
            "\n",
            "100%|██████████| 88/88 [00:40<00:00,  2.15it/s]\n",
            "100%|██████████| 32/32 [00:06<00:00,  5.24it/s]"
          ]
        },
        {
          "output_type": "stream",
          "name": "stdout",
          "text": [
            "\n",
            " EPOCH: 0146 -> val_accuracy: 0.3567, class_label_loss: 0.0078, domain_label_loss: 1.4485\n"
          ]
        },
        {
          "output_type": "stream",
          "name": "stderr",
          "text": [
            "\n",
            "100%|██████████| 88/88 [00:40<00:00,  2.19it/s]\n",
            "100%|██████████| 32/32 [00:08<00:00,  3.77it/s]"
          ]
        },
        {
          "output_type": "stream",
          "name": "stdout",
          "text": [
            "\n",
            " EPOCH: 0147 -> val_accuracy: 0.3591, class_label_loss: 0.0041, domain_label_loss: 1.4690\n"
          ]
        },
        {
          "output_type": "stream",
          "name": "stderr",
          "text": [
            "\n",
            "100%|██████████| 88/88 [00:38<00:00,  2.27it/s]\n",
            "100%|██████████| 32/32 [00:08<00:00,  3.91it/s]"
          ]
        },
        {
          "output_type": "stream",
          "name": "stdout",
          "text": [
            "\n",
            " EPOCH: 0148 -> val_accuracy: 0.3823, class_label_loss: 0.0126, domain_label_loss: 1.4506\n"
          ]
        },
        {
          "output_type": "stream",
          "name": "stderr",
          "text": [
            "\n",
            "100%|██████████| 88/88 [00:40<00:00,  2.19it/s]\n",
            "100%|██████████| 32/32 [00:06<00:00,  5.29it/s]"
          ]
        },
        {
          "output_type": "stream",
          "name": "stdout",
          "text": [
            "\n",
            " EPOCH: 0149 -> val_accuracy: 0.3656, class_label_loss: 0.0098, domain_label_loss: 1.5038\n"
          ]
        },
        {
          "output_type": "stream",
          "name": "stderr",
          "text": [
            "\n",
            "100%|██████████| 88/88 [00:40<00:00,  2.17it/s]\n",
            "100%|██████████| 32/32 [00:09<00:00,  3.40it/s]"
          ]
        },
        {
          "output_type": "stream",
          "name": "stdout",
          "text": [
            "\n",
            " EPOCH: 0150 -> val_accuracy: 0.3642, class_label_loss: 0.0058, domain_label_loss: 1.3517\n"
          ]
        },
        {
          "output_type": "stream",
          "name": "stderr",
          "text": [
            "\n",
            "100%|██████████| 88/88 [00:39<00:00,  2.21it/s]\n",
            "100%|██████████| 32/32 [00:06<00:00,  4.73it/s]"
          ]
        },
        {
          "output_type": "stream",
          "name": "stdout",
          "text": [
            "\n",
            " EPOCH: 0151 -> val_accuracy: 0.3712, class_label_loss: 0.0060, domain_label_loss: 1.4188\n"
          ]
        },
        {
          "output_type": "stream",
          "name": "stderr",
          "text": [
            "\n",
            "100%|██████████| 88/88 [00:40<00:00,  2.19it/s]\n",
            "100%|██████████| 32/32 [00:06<00:00,  5.02it/s]"
          ]
        },
        {
          "output_type": "stream",
          "name": "stdout",
          "text": [
            "\n",
            " EPOCH: 0152 -> val_accuracy: 0.3719, class_label_loss: 0.0074, domain_label_loss: 1.4108\n"
          ]
        },
        {
          "output_type": "stream",
          "name": "stderr",
          "text": [
            "\n",
            "100%|██████████| 88/88 [00:38<00:00,  2.27it/s]\n",
            "100%|██████████| 32/32 [00:09<00:00,  3.35it/s]"
          ]
        },
        {
          "output_type": "stream",
          "name": "stdout",
          "text": [
            "\n",
            " EPOCH: 0153 -> val_accuracy: 0.3683, class_label_loss: 0.0083, domain_label_loss: 1.4218\n"
          ]
        },
        {
          "output_type": "stream",
          "name": "stderr",
          "text": [
            "\n",
            "100%|██████████| 88/88 [00:40<00:00,  2.19it/s]\n",
            "100%|██████████| 32/32 [00:06<00:00,  5.27it/s]"
          ]
        },
        {
          "output_type": "stream",
          "name": "stdout",
          "text": [
            "\n",
            " EPOCH: 0154 -> val_accuracy: 0.3687, class_label_loss: 0.0097, domain_label_loss: 1.3531\n"
          ]
        },
        {
          "output_type": "stream",
          "name": "stderr",
          "text": [
            "\n",
            "100%|██████████| 88/88 [00:41<00:00,  2.10it/s]\n",
            "100%|██████████| 32/32 [00:07<00:00,  4.01it/s]"
          ]
        },
        {
          "output_type": "stream",
          "name": "stdout",
          "text": [
            "\n",
            " EPOCH: 0155 -> val_accuracy: 0.3725, class_label_loss: 0.0108, domain_label_loss: 1.4207\n"
          ]
        },
        {
          "output_type": "stream",
          "name": "stderr",
          "text": [
            "\n",
            "100%|██████████| 88/88 [00:40<00:00,  2.19it/s]\n",
            "100%|██████████| 32/32 [00:08<00:00,  3.68it/s]"
          ]
        },
        {
          "output_type": "stream",
          "name": "stdout",
          "text": [
            "\n",
            " EPOCH: 0156 -> val_accuracy: 0.3793, class_label_loss: 0.0066, domain_label_loss: 1.4114\n"
          ]
        },
        {
          "output_type": "stream",
          "name": "stderr",
          "text": [
            "\n",
            "100%|██████████| 88/88 [00:40<00:00,  2.17it/s]\n",
            "100%|██████████| 32/32 [00:06<00:00,  5.19it/s]"
          ]
        },
        {
          "output_type": "stream",
          "name": "stdout",
          "text": [
            "\n",
            " EPOCH: 0157 -> val_accuracy: 0.3974, class_label_loss: 0.0036, domain_label_loss: 1.2887\n"
          ]
        },
        {
          "output_type": "stream",
          "name": "stderr",
          "text": [
            "\n",
            "100%|██████████| 88/88 [00:40<00:00,  2.18it/s]\n",
            "100%|██████████| 32/32 [00:08<00:00,  3.69it/s]"
          ]
        },
        {
          "output_type": "stream",
          "name": "stdout",
          "text": [
            "\n",
            " EPOCH: 0158 -> val_accuracy: 0.3685, class_label_loss: 0.0044, domain_label_loss: 1.3747\n"
          ]
        },
        {
          "output_type": "stream",
          "name": "stderr",
          "text": [
            "\n",
            "100%|██████████| 88/88 [00:39<00:00,  2.23it/s]\n",
            "100%|██████████| 32/32 [00:07<00:00,  4.19it/s]"
          ]
        },
        {
          "output_type": "stream",
          "name": "stdout",
          "text": [
            "\n",
            " EPOCH: 0159 -> val_accuracy: 0.3542, class_label_loss: 0.0038, domain_label_loss: 1.3957\n"
          ]
        },
        {
          "output_type": "stream",
          "name": "stderr",
          "text": [
            "\n",
            "100%|██████████| 88/88 [00:40<00:00,  2.18it/s]\n",
            "100%|██████████| 32/32 [00:06<00:00,  5.25it/s]"
          ]
        },
        {
          "output_type": "stream",
          "name": "stdout",
          "text": [
            "\n",
            " EPOCH: 0160 -> val_accuracy: 0.3538, class_label_loss: 0.0118, domain_label_loss: 1.3452\n"
          ]
        },
        {
          "output_type": "stream",
          "name": "stderr",
          "text": [
            "\n",
            "100%|██████████| 88/88 [00:40<00:00,  2.18it/s]\n",
            "100%|██████████| 32/32 [00:09<00:00,  3.38it/s]"
          ]
        },
        {
          "output_type": "stream",
          "name": "stdout",
          "text": [
            "\n",
            " EPOCH: 0161 -> val_accuracy: 0.3351, class_label_loss: 0.0067, domain_label_loss: 1.3411\n"
          ]
        },
        {
          "output_type": "stream",
          "name": "stderr",
          "text": [
            "\n",
            "100%|██████████| 88/88 [00:39<00:00,  2.23it/s]\n",
            "100%|██████████| 32/32 [00:06<00:00,  4.85it/s]"
          ]
        },
        {
          "output_type": "stream",
          "name": "stdout",
          "text": [
            "\n",
            " EPOCH: 0162 -> val_accuracy: 0.3411, class_label_loss: 0.0044, domain_label_loss: 1.3535\n"
          ]
        },
        {
          "output_type": "stream",
          "name": "stderr",
          "text": [
            "\n",
            "100%|██████████| 88/88 [00:40<00:00,  2.18it/s]\n",
            "100%|██████████| 32/32 [00:06<00:00,  5.24it/s]"
          ]
        },
        {
          "output_type": "stream",
          "name": "stdout",
          "text": [
            "\n",
            " EPOCH: 0163 -> val_accuracy: 0.3654, class_label_loss: 0.0074, domain_label_loss: 1.4441\n"
          ]
        },
        {
          "output_type": "stream",
          "name": "stderr",
          "text": [
            "\n",
            "100%|██████████| 88/88 [00:38<00:00,  2.28it/s]\n",
            "100%|██████████| 32/32 [00:09<00:00,  3.34it/s]"
          ]
        },
        {
          "output_type": "stream",
          "name": "stdout",
          "text": [
            "\n",
            " EPOCH: 0164 -> val_accuracy: 0.3044, class_label_loss: 0.0145, domain_label_loss: 1.4758\n"
          ]
        },
        {
          "output_type": "stream",
          "name": "stderr",
          "text": [
            "\n",
            "100%|██████████| 88/88 [00:39<00:00,  2.22it/s]\n",
            "100%|██████████| 32/32 [00:06<00:00,  5.31it/s]"
          ]
        },
        {
          "output_type": "stream",
          "name": "stdout",
          "text": [
            "\n",
            " EPOCH: 0165 -> val_accuracy: 0.3534, class_label_loss: 0.0066, domain_label_loss: 1.3749\n"
          ]
        },
        {
          "output_type": "stream",
          "name": "stderr",
          "text": [
            "\n",
            "100%|██████████| 88/88 [00:39<00:00,  2.21it/s]\n",
            "100%|██████████| 32/32 [00:06<00:00,  4.89it/s]"
          ]
        },
        {
          "output_type": "stream",
          "name": "stdout",
          "text": [
            "\n",
            " EPOCH: 0166 -> val_accuracy: 0.3501, class_label_loss: 0.0051, domain_label_loss: 1.3486\n"
          ]
        },
        {
          "output_type": "stream",
          "name": "stderr",
          "text": [
            "\n",
            "100%|██████████| 88/88 [00:38<00:00,  2.27it/s]\n",
            "100%|██████████| 32/32 [00:08<00:00,  3.56it/s]"
          ]
        },
        {
          "output_type": "stream",
          "name": "stdout",
          "text": [
            "\n",
            " EPOCH: 0167 -> val_accuracy: 0.3532, class_label_loss: 0.0082, domain_label_loss: 1.3874\n"
          ]
        },
        {
          "output_type": "stream",
          "name": "stderr",
          "text": [
            "\n",
            "100%|██████████| 88/88 [00:39<00:00,  2.21it/s]\n",
            "100%|██████████| 32/32 [00:05<00:00,  5.43it/s]"
          ]
        },
        {
          "output_type": "stream",
          "name": "stdout",
          "text": [
            "\n",
            " EPOCH: 0168 -> val_accuracy: 0.3049, class_label_loss: 0.0064, domain_label_loss: 1.4877\n"
          ]
        },
        {
          "output_type": "stream",
          "name": "stderr",
          "text": [
            "\n",
            "100%|██████████| 88/88 [00:39<00:00,  2.21it/s]\n",
            "100%|██████████| 32/32 [00:07<00:00,  4.22it/s]"
          ]
        },
        {
          "output_type": "stream",
          "name": "stdout",
          "text": [
            "\n",
            " EPOCH: 0169 -> val_accuracy: 0.3443, class_label_loss: 0.0064, domain_label_loss: 1.3672\n"
          ]
        },
        {
          "output_type": "stream",
          "name": "stderr",
          "text": [
            "\n",
            "100%|██████████| 88/88 [00:39<00:00,  2.22it/s]\n",
            "100%|██████████| 32/32 [00:08<00:00,  3.70it/s]"
          ]
        },
        {
          "output_type": "stream",
          "name": "stdout",
          "text": [
            "\n",
            " EPOCH: 0170 -> val_accuracy: 0.3260, class_label_loss: 0.0089, domain_label_loss: 1.4096\n"
          ]
        },
        {
          "output_type": "stream",
          "name": "stderr",
          "text": [
            "\n",
            "100%|██████████| 88/88 [00:39<00:00,  2.22it/s]\n",
            "100%|██████████| 32/32 [00:05<00:00,  5.40it/s]"
          ]
        },
        {
          "output_type": "stream",
          "name": "stdout",
          "text": [
            "\n",
            " EPOCH: 0171 -> val_accuracy: 0.3257, class_label_loss: 0.0036, domain_label_loss: 1.4137\n"
          ]
        },
        {
          "output_type": "stream",
          "name": "stderr",
          "text": [
            "\n",
            "100%|██████████| 88/88 [00:39<00:00,  2.24it/s]\n",
            "100%|██████████| 32/32 [00:07<00:00,  4.38it/s]"
          ]
        },
        {
          "output_type": "stream",
          "name": "stdout",
          "text": [
            "\n",
            " EPOCH: 0172 -> val_accuracy: 0.3540, class_label_loss: 0.0113, domain_label_loss: 1.4090\n"
          ]
        },
        {
          "output_type": "stream",
          "name": "stderr",
          "text": [
            "\n",
            "100%|██████████| 88/88 [00:36<00:00,  2.40it/s]\n",
            "100%|██████████| 32/32 [00:08<00:00,  3.59it/s]"
          ]
        },
        {
          "output_type": "stream",
          "name": "stdout",
          "text": [
            "\n",
            " EPOCH: 0173 -> val_accuracy: 0.3429, class_label_loss: 0.0059, domain_label_loss: 1.3373\n"
          ]
        },
        {
          "output_type": "stream",
          "name": "stderr",
          "text": [
            "\n",
            "100%|██████████| 88/88 [00:39<00:00,  2.22it/s]\n",
            "100%|██████████| 32/32 [00:05<00:00,  5.53it/s]"
          ]
        },
        {
          "output_type": "stream",
          "name": "stdout",
          "text": [
            "\n",
            " EPOCH: 0174 -> val_accuracy: 0.3357, class_label_loss: 0.0055, domain_label_loss: 1.3878\n"
          ]
        },
        {
          "output_type": "stream",
          "name": "stderr",
          "text": [
            "\n",
            "100%|██████████| 88/88 [00:38<00:00,  2.26it/s]\n",
            "100%|██████████| 32/32 [00:07<00:00,  4.11it/s]"
          ]
        },
        {
          "output_type": "stream",
          "name": "stdout",
          "text": [
            "\n",
            " EPOCH: 0175 -> val_accuracy: 0.3392, class_label_loss: 0.0035, domain_label_loss: 1.3362\n"
          ]
        },
        {
          "output_type": "stream",
          "name": "stderr",
          "text": [
            "\n",
            "100%|██████████| 88/88 [00:36<00:00,  2.43it/s]\n",
            "100%|██████████| 32/32 [00:08<00:00,  3.85it/s]"
          ]
        },
        {
          "output_type": "stream",
          "name": "stdout",
          "text": [
            "\n",
            " EPOCH: 0176 -> val_accuracy: 0.3595, class_label_loss: 0.0042, domain_label_loss: 1.3459\n"
          ]
        },
        {
          "output_type": "stream",
          "name": "stderr",
          "text": [
            "\n",
            "100%|██████████| 88/88 [00:38<00:00,  2.31it/s]\n",
            "100%|██████████| 32/32 [00:06<00:00,  5.25it/s]"
          ]
        },
        {
          "output_type": "stream",
          "name": "stdout",
          "text": [
            "\n",
            " EPOCH: 0177 -> val_accuracy: 0.3503, class_label_loss: 0.0070, domain_label_loss: 1.3413\n"
          ]
        },
        {
          "output_type": "stream",
          "name": "stderr",
          "text": [
            "\n",
            "100%|██████████| 88/88 [00:39<00:00,  2.24it/s]\n",
            "100%|██████████| 32/32 [00:05<00:00,  5.63it/s]"
          ]
        },
        {
          "output_type": "stream",
          "name": "stdout",
          "text": [
            "\n",
            " EPOCH: 0178 -> val_accuracy: 0.3386, class_label_loss: 0.0079, domain_label_loss: 1.4252\n"
          ]
        },
        {
          "output_type": "stream",
          "name": "stderr",
          "text": [
            "\n",
            "100%|██████████| 88/88 [00:36<00:00,  2.44it/s]\n",
            "100%|██████████| 32/32 [00:09<00:00,  3.52it/s]"
          ]
        },
        {
          "output_type": "stream",
          "name": "stdout",
          "text": [
            "\n",
            " EPOCH: 0179 -> val_accuracy: 0.3562, class_label_loss: 0.0058, domain_label_loss: 1.4779\n"
          ]
        },
        {
          "output_type": "stream",
          "name": "stderr",
          "text": [
            "\n",
            "100%|██████████| 88/88 [00:35<00:00,  2.46it/s]\n",
            "100%|██████████| 32/32 [00:07<00:00,  4.39it/s]"
          ]
        },
        {
          "output_type": "stream",
          "name": "stdout",
          "text": [
            "\n",
            " EPOCH: 0180 -> val_accuracy: 0.3678, class_label_loss: 0.0056, domain_label_loss: 1.4059\n"
          ]
        },
        {
          "output_type": "stream",
          "name": "stderr",
          "text": [
            "\n",
            "100%|██████████| 88/88 [00:37<00:00,  2.36it/s]\n",
            "100%|██████████| 32/32 [00:05<00:00,  5.53it/s]"
          ]
        },
        {
          "output_type": "stream",
          "name": "stdout",
          "text": [
            "\n",
            " EPOCH: 0181 -> val_accuracy: 0.3770, class_label_loss: 0.0047, domain_label_loss: 1.4194\n"
          ]
        },
        {
          "output_type": "stream",
          "name": "stderr",
          "text": [
            "\n",
            "100%|██████████| 88/88 [00:37<00:00,  2.36it/s]\n",
            "100%|██████████| 32/32 [00:05<00:00,  5.71it/s]"
          ]
        },
        {
          "output_type": "stream",
          "name": "stdout",
          "text": [
            "\n",
            " EPOCH: 0182 -> val_accuracy: 0.3459, class_label_loss: 0.0059, domain_label_loss: 1.3976\n"
          ]
        },
        {
          "output_type": "stream",
          "name": "stderr",
          "text": [
            "\n",
            "100%|██████████| 88/88 [00:36<00:00,  2.44it/s]\n",
            "100%|██████████| 32/32 [00:08<00:00,  3.68it/s]"
          ]
        },
        {
          "output_type": "stream",
          "name": "stdout",
          "text": [
            "\n",
            " EPOCH: 0183 -> val_accuracy: 0.3743, class_label_loss: 0.0035, domain_label_loss: 1.3456\n"
          ]
        },
        {
          "output_type": "stream",
          "name": "stderr",
          "text": [
            "\n",
            "100%|██████████| 88/88 [00:35<00:00,  2.45it/s]\n",
            "100%|██████████| 32/32 [00:07<00:00,  4.12it/s]"
          ]
        },
        {
          "output_type": "stream",
          "name": "stdout",
          "text": [
            "\n",
            " EPOCH: 0184 -> val_accuracy: 0.3696, class_label_loss: 0.0061, domain_label_loss: 1.3836\n"
          ]
        },
        {
          "output_type": "stream",
          "name": "stderr",
          "text": [
            "\n",
            "100%|██████████| 88/88 [00:37<00:00,  2.37it/s]\n",
            "100%|██████████| 32/32 [00:05<00:00,  5.67it/s]"
          ]
        },
        {
          "output_type": "stream",
          "name": "stdout",
          "text": [
            "\n",
            " EPOCH: 0185 -> val_accuracy: 0.3727, class_label_loss: 0.0066, domain_label_loss: 1.4683\n"
          ]
        },
        {
          "output_type": "stream",
          "name": "stderr",
          "text": [
            "\n",
            "100%|██████████| 88/88 [00:36<00:00,  2.38it/s]\n",
            "100%|██████████| 32/32 [00:05<00:00,  5.77it/s]"
          ]
        },
        {
          "output_type": "stream",
          "name": "stdout",
          "text": [
            "\n",
            " EPOCH: 0186 -> val_accuracy: 0.3833, class_label_loss: 0.0065, domain_label_loss: 1.3856\n"
          ]
        },
        {
          "output_type": "stream",
          "name": "stderr",
          "text": [
            "\n",
            "100%|██████████| 88/88 [00:35<00:00,  2.45it/s]\n",
            "100%|██████████| 32/32 [00:07<00:00,  4.13it/s]"
          ]
        },
        {
          "output_type": "stream",
          "name": "stdout",
          "text": [
            "\n",
            " EPOCH: 0187 -> val_accuracy: 0.3936, class_label_loss: 0.0043, domain_label_loss: 1.3998\n"
          ]
        },
        {
          "output_type": "stream",
          "name": "stderr",
          "text": [
            "\n",
            "100%|██████████| 88/88 [00:34<00:00,  2.53it/s]\n",
            "100%|██████████| 32/32 [00:08<00:00,  3.71it/s]"
          ]
        },
        {
          "output_type": "stream",
          "name": "stdout",
          "text": [
            "\n",
            " EPOCH: 0188 -> val_accuracy: 0.4053, class_label_loss: 0.0039, domain_label_loss: 1.3626\n"
          ]
        },
        {
          "output_type": "stream",
          "name": "stderr",
          "text": [
            "\n",
            "100%|██████████| 88/88 [00:35<00:00,  2.45it/s]\n",
            "100%|██████████| 32/32 [00:06<00:00,  5.09it/s]"
          ]
        },
        {
          "output_type": "stream",
          "name": "stdout",
          "text": [
            "\n",
            " EPOCH: 0189 -> val_accuracy: 0.3829, class_label_loss: 0.0049, domain_label_loss: 1.3243\n"
          ]
        },
        {
          "output_type": "stream",
          "name": "stderr",
          "text": [
            "\n",
            "100%|██████████| 88/88 [00:36<00:00,  2.40it/s]\n",
            "100%|██████████| 32/32 [00:05<00:00,  5.77it/s]"
          ]
        },
        {
          "output_type": "stream",
          "name": "stdout",
          "text": [
            "\n",
            " EPOCH: 0190 -> val_accuracy: 0.3904, class_label_loss: 0.0040, domain_label_loss: 1.4535\n"
          ]
        },
        {
          "output_type": "stream",
          "name": "stderr",
          "text": [
            "\n",
            "100%|██████████| 88/88 [00:36<00:00,  2.40it/s]\n",
            "100%|██████████| 32/32 [00:06<00:00,  4.82it/s]"
          ]
        },
        {
          "output_type": "stream",
          "name": "stdout",
          "text": [
            "\n",
            " EPOCH: 0191 -> val_accuracy: 0.3821, class_label_loss: 0.0089, domain_label_loss: 1.3912\n"
          ]
        },
        {
          "output_type": "stream",
          "name": "stderr",
          "text": [
            "\n",
            "100%|██████████| 88/88 [00:34<00:00,  2.52it/s]\n",
            "100%|██████████| 32/32 [00:09<00:00,  3.52it/s]"
          ]
        },
        {
          "output_type": "stream",
          "name": "stdout",
          "text": [
            "\n",
            " EPOCH: 0192 -> val_accuracy: 0.3725, class_label_loss: 0.0048, domain_label_loss: 1.4518\n"
          ]
        },
        {
          "output_type": "stream",
          "name": "stderr",
          "text": [
            "\n",
            "100%|██████████| 88/88 [00:35<00:00,  2.49it/s]\n",
            "100%|██████████| 32/32 [00:06<00:00,  4.67it/s]"
          ]
        },
        {
          "output_type": "stream",
          "name": "stdout",
          "text": [
            "\n",
            " EPOCH: 0193 -> val_accuracy: 0.3742, class_label_loss: 0.0077, domain_label_loss: 1.4273\n"
          ]
        },
        {
          "output_type": "stream",
          "name": "stderr",
          "text": [
            "\n",
            "100%|██████████| 88/88 [00:37<00:00,  2.38it/s]\n",
            "100%|██████████| 32/32 [00:05<00:00,  5.75it/s]"
          ]
        },
        {
          "output_type": "stream",
          "name": "stdout",
          "text": [
            "\n",
            " EPOCH: 0194 -> val_accuracy: 0.3816, class_label_loss: 0.0051, domain_label_loss: 1.4031\n"
          ]
        },
        {
          "output_type": "stream",
          "name": "stderr",
          "text": [
            "\n",
            "100%|██████████| 88/88 [00:36<00:00,  2.38it/s]\n",
            "100%|██████████| 32/32 [00:05<00:00,  5.57it/s]"
          ]
        },
        {
          "output_type": "stream",
          "name": "stdout",
          "text": [
            "\n",
            " EPOCH: 0195 -> val_accuracy: 0.3816, class_label_loss: 0.0057, domain_label_loss: 1.3833\n"
          ]
        },
        {
          "output_type": "stream",
          "name": "stderr",
          "text": [
            "\n",
            "100%|██████████| 88/88 [00:36<00:00,  2.43it/s]\n",
            "100%|██████████| 32/32 [00:08<00:00,  3.60it/s]"
          ]
        },
        {
          "output_type": "stream",
          "name": "stdout",
          "text": [
            "\n",
            " EPOCH: 0196 -> val_accuracy: 0.3334, class_label_loss: 0.0098, domain_label_loss: 1.5006\n"
          ]
        },
        {
          "output_type": "stream",
          "name": "stderr",
          "text": [
            "\n",
            "100%|██████████| 88/88 [00:35<00:00,  2.45it/s]\n",
            "100%|██████████| 32/32 [00:07<00:00,  4.31it/s]"
          ]
        },
        {
          "output_type": "stream",
          "name": "stdout",
          "text": [
            "\n",
            " EPOCH: 0197 -> val_accuracy: 0.3676, class_label_loss: 0.0046, domain_label_loss: 1.3086\n"
          ]
        },
        {
          "output_type": "stream",
          "name": "stderr",
          "text": [
            "\n",
            "100%|██████████| 88/88 [00:36<00:00,  2.39it/s]\n",
            "100%|██████████| 32/32 [00:05<00:00,  5.72it/s]"
          ]
        },
        {
          "output_type": "stream",
          "name": "stdout",
          "text": [
            "\n",
            " EPOCH: 0198 -> val_accuracy: 0.3585, class_label_loss: 0.0090, domain_label_loss: 1.3271\n"
          ]
        },
        {
          "output_type": "stream",
          "name": "stderr",
          "text": [
            "\n",
            "100%|██████████| 88/88 [00:41<00:00,  2.14it/s]\n",
            "100%|██████████| 32/32 [00:08<00:00,  3.85it/s]"
          ]
        },
        {
          "output_type": "stream",
          "name": "stdout",
          "text": [
            "\n",
            " EPOCH: 0199 -> val_accuracy: 0.3678, class_label_loss: 0.0085, domain_label_loss: 1.3901\n"
          ]
        },
        {
          "output_type": "stream",
          "name": "stderr",
          "text": [
            "\n",
            "100%|██████████| 88/88 [00:40<00:00,  2.17it/s]\n",
            "100%|██████████| 32/32 [00:07<00:00,  4.29it/s]"
          ]
        },
        {
          "output_type": "stream",
          "name": "stdout",
          "text": [
            "\n",
            " EPOCH: 0200 -> val_accuracy: 0.3506, class_label_loss: 0.0057, domain_label_loss: 1.4240\n"
          ]
        },
        {
          "output_type": "stream",
          "name": "stderr",
          "text": [
            "\n"
          ]
        }
      ]
    }
  ]
}