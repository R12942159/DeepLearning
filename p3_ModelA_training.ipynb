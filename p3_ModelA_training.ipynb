{
  "nbformat": 4,
  "nbformat_minor": 0,
  "metadata": {
    "colab": {
      "provenance": [],
      "include_colab_link": true
    },
    "kernelspec": {
      "name": "python3",
      "display_name": "Python 3"
    },
    "language_info": {
      "name": "python"
    }
  },
  "cells": [
    {
      "cell_type": "markdown",
      "metadata": {
        "id": "view-in-github",
        "colab_type": "text"
      },
      "source": [
        "<a href=\"https://colab.research.google.com/github/R12942159/NTU_DLCV/blob/Hw2/p3_ModelA_training.ipynb\" target=\"_parent\"><img src=\"https://colab.research.google.com/assets/colab-badge.svg\" alt=\"Open In Colab\"/></a>"
      ]
    },
    {
      "cell_type": "code",
      "source": [
        "import torch\n",
        "import torch.nn as nn\n",
        "\n",
        "\n",
        "class GRL(torch.autograd.Function):\n",
        "    @staticmethod\n",
        "    def forward(ctx, x, alpha):\n",
        "        ctx.alpha = alpha\n",
        "        return x.view_as(x)\n",
        "\n",
        "    @staticmethod\n",
        "    def backward(ctx, grad_output):\n",
        "         output = grad_output.neg() * ctx.alpha\n",
        "         return output, None\n",
        "\n",
        "class FeatureExtractor(nn.Module):\n",
        "    def __init__(self) -> None:\n",
        "        super(FeatureExtractor, self).__init__()\n",
        "        self.extractor = nn.Sequential(\n",
        "            nn.Conv2d(3, 64, 3),\n",
        "            nn.BatchNorm2d(64),\n",
        "            nn.ReLU(),\n",
        "            nn.MaxPool2d(kernel_size=2, stride=2),\n",
        "\n",
        "            nn.Conv2d(64, 64, 3),\n",
        "            nn.BatchNorm2d(64),\n",
        "            # nn.Dropout2d(),\n",
        "            nn.ReLU(),\n",
        "            nn.MaxPool2d(2, 2),\n",
        "\n",
        "            nn.Conv2d(64, 128, 3),\n",
        "            nn.BatchNorm2d(128),\n",
        "            nn.ReLU(),\n",
        "        )\n",
        "\n",
        "    def forward(self, x):\n",
        "        features = self.extractor(x)\n",
        "        features = features.view(-1, 128)\n",
        "        return features\n",
        "\n",
        "class Classifier(nn.Module):\n",
        "    def __init__(self) -> None:\n",
        "        super(Classifier, self).__init__()\n",
        "        self.classifier = nn.Sequential(\n",
        "            nn.Linear(128, 512),\n",
        "            nn.BatchNorm1d(512),\n",
        "            nn.ReLU(),\n",
        "            # nn.Dropout2d(),\n",
        "\n",
        "            nn.Linear(512, 128),\n",
        "            nn.BatchNorm2d(128),\n",
        "            nn.ReLU(),\n",
        "\n",
        "            nn.Linear(128, 10)\n",
        "        )\n",
        "\n",
        "    def forward(self, features):\n",
        "        class_label = self.classifier(features)\n",
        "        return class_label\n",
        "\n",
        "class DomainClassifier(nn.Module):\n",
        "    def __init__(self) -> None:\n",
        "        super(DomainClassifier, self).__init__()\n",
        "        self.domainclassifier = nn.Sequential(\n",
        "            nn.Linear(128, 256),\n",
        "            # nn.BatchNorm1d(256),\n",
        "            nn.ReLU(),\n",
        "\n",
        "            nn.Linear(256, 2)\n",
        "        )\n",
        "\n",
        "    def forward(self, features, alpha):\n",
        "        reversed_input = GRL.apply(features, alpha)\n",
        "        x = self.domainclassifier(reversed_input)\n",
        "        return x"
      ],
      "metadata": {
        "id": "T8dxFahzz_pC"
      },
      "execution_count": 1,
      "outputs": []
    }
  ]
}