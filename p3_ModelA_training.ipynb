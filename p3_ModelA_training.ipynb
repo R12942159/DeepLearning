{
  "nbformat": 4,
  "nbformat_minor": 0,
  "metadata": {
    "colab": {
      "provenance": [],
      "include_colab_link": true
    },
    "kernelspec": {
      "name": "python3",
      "display_name": "Python 3"
    },
    "language_info": {
      "name": "python"
    }
  },
  "cells": [
    {
      "cell_type": "markdown",
      "metadata": {
        "id": "view-in-github",
        "colab_type": "text"
      },
      "source": [
        "<a href=\"https://colab.research.google.com/github/R12942159/NTU_DLCV/blob/Hw2/p3_ModelA_training.ipynb\" target=\"_parent\"><img src=\"https://colab.research.google.com/assets/colab-badge.svg\" alt=\"Open In Colab\"/></a>"
      ]
    },
    {
      "cell_type": "code",
      "source": [
        "import os\n",
        "import torch\n",
        "import pandas as pd\n",
        "from PIL import Image\n",
        "import torch.nn as nn\n",
        "from torch import optim\n",
        "import torchvision.transforms as tr\n",
        "from torch.utils.data import DataLoader"
      ],
      "metadata": {
        "id": "tp9YuYhODsSk"
      },
      "execution_count": 17,
      "outputs": []
    },
    {
      "cell_type": "code",
      "source": [
        "from google.colab import drive\n",
        "drive.mount('/content/drive')"
      ],
      "metadata": {
        "id": "kxqDmB-kB1pu",
        "outputId": "28b3b616-ba28-4687-dedc-aca7f0693078",
        "colab": {
          "base_uri": "https://localhost:8080/"
        }
      },
      "execution_count": 2,
      "outputs": [
        {
          "output_type": "stream",
          "name": "stdout",
          "text": [
            "Mounted at /content/drive\n"
          ]
        }
      ]
    },
    {
      "cell_type": "markdown",
      "source": [
        "#### Download zip file"
      ],
      "metadata": {
        "id": "aUXFKRGlLOvG"
      }
    },
    {
      "cell_type": "code",
      "source": [
        "!pip install gsutil\n",
        "!gsutil cp /content/drive/MyDrive/NTU_DLCV/Hw2/hw2_data.zip /content/hw2_data.zip"
      ],
      "metadata": {
        "id": "doVVsVMbB620"
      },
      "execution_count": null,
      "outputs": []
    },
    {
      "cell_type": "code",
      "source": [
        "!unzip /content/hw2_data.zip"
      ],
      "metadata": {
        "id": "WP1EiTcQB8c6"
      },
      "execution_count": null,
      "outputs": []
    },
    {
      "cell_type": "markdown",
      "source": [
        "#### Get cuda from GPU"
      ],
      "metadata": {
        "id": "WVRZjvruLLrb"
      }
    },
    {
      "cell_type": "code",
      "source": [
        "device = \"cuda\" if torch.cuda.is_available() else \"cpu\"\n",
        "print(f\"Using: {device}\")"
      ],
      "metadata": {
        "id": "Lf4M57NsLJnq"
      },
      "execution_count": null,
      "outputs": []
    },
    {
      "cell_type": "markdown",
      "source": [
        "#### Construct Dataset"
      ],
      "metadata": {
        "id": "-kdf1r19DVUZ"
      }
    },
    {
      "cell_type": "code",
      "source": [
        "class MnistDataset(torch.utils.data.Dataset):\n",
        "    def __init__(self, label_path: str, join_path: str, transform) -> None:\n",
        "        self.transform = transform\n",
        "        self.img_paths = []\n",
        "        self.img_labels = []\n",
        "\n",
        "        label_csv = pd.read_csv(label_path).values.tolist()\n",
        "\n",
        "        for row_csv in label_csv:\n",
        "            for row in row_csv:\n",
        "                self.img_paths.append(os.path.join(join_path, row[0]))\n",
        "                self.img_labels.append(row[1])\n",
        "        assert len(self.img_paths) == len(self.img_labels)\n",
        "\n",
        "    def __len__(self):\n",
        "        return len(self.img_paths)\n",
        "\n",
        "    def __getitem__(self, idx) -> (torch.Tensor, int):\n",
        "        img_path = self.img_paths[idx]\n",
        "        img = Image.open(img_path).convert('RGB')\n",
        "        img = self.transform(img)\n",
        "\n",
        "        label = self.img_labels[idx]\n",
        "        return img, label"
      ],
      "metadata": {
        "id": "_WR7bP-YDehh"
      },
      "execution_count": 14,
      "outputs": []
    },
    {
      "cell_type": "code",
      "source": [
        "mean=[0.485, 0.456, 0.406]\n",
        "std=[0.229, 0.224, 0.225]\n",
        "\n",
        "source_train_ds = MnistDataset(\n",
        "    label_path='/content/hw2_data/digits/mnistm/train.csv',\n",
        "    join_path='/content/hw2_data/digits/mnistm/data',\n",
        "    transform=tr.Compose([\n",
        "        tr.ToTensor(),\n",
        "        tr.Normalize(mean=mean, std=std),\n",
        "    ])\n",
        ")\n",
        "\n",
        "target_train_ds = MnistDataset(\n",
        "    label_path='/content/hw2_data/digits/svhn/train.csv',\n",
        "    join_path='/content/hw2_data/digits/svhn/data',\n",
        "    transform=tr.Compose([\n",
        "        tr.ToTensor(),\n",
        "        tr.Normalize(mean=mean, std=std),\n",
        "    ])\n",
        ")\n",
        "\n",
        "target_val_ds = MnistDataset(\n",
        "    label_path='/content/hw2_data/digits/svhn/val.csv',\n",
        "    join_path='/content/hw2_data/digits/svhn/data',\n",
        "    transform=tr.Compose([\n",
        "        tr.ToTensor(),\n",
        "        tr.Normalize(mean=mean, std=std),\n",
        "    ])\n",
        ")"
      ],
      "metadata": {
        "id": "rsMapmVxHL3r"
      },
      "execution_count": null,
      "outputs": []
    },
    {
      "cell_type": "code",
      "source": [
        "BATCH_SIZE = 512\n",
        "\n",
        "source_train_loader = DataLoader(source_train_ds, BATCH_SIZE, shuffle=True, num_workers=4)\n",
        "target_train_loader = DataLoader(target_train_ds, BATCH_SIZE, shuffle=True, num_workers=4)\n",
        "target_val_loader = DataLoader(target_val_ds, BATCH_SIZE, shuffle=False, num_workers=4)"
      ],
      "metadata": {
        "id": "x85T63PnJcVr"
      },
      "execution_count": null,
      "outputs": []
    },
    {
      "cell_type": "markdown",
      "source": [
        "#### Domain-Adversarial Training of Neural Networks (DANN)"
      ],
      "metadata": {
        "id": "VYC19z24BDsB"
      }
    },
    {
      "cell_type": "code",
      "source": [
        "class GRL(torch.autograd.Function):\n",
        "    @staticmethod\n",
        "    def forward(ctx, x, alpha):\n",
        "        ctx.alpha = alpha\n",
        "        return x.view_as(x)\n",
        "\n",
        "    @staticmethod\n",
        "    def backward(ctx, grad_output):\n",
        "         output = grad_output.neg() * ctx.alpha\n",
        "         return output, None\n",
        "\n",
        "class FeatureExtractor(nn.Module):\n",
        "    def __init__(self) -> None:\n",
        "        super(FeatureExtractor, self).__init__()\n",
        "        self.extractor = nn.Sequential(\n",
        "            nn.Conv2d(3, 64, 3),\n",
        "            nn.BatchNorm2d(64),\n",
        "            nn.ReLU(),\n",
        "            nn.MaxPool2d(kernel_size=2, stride=2),\n",
        "\n",
        "            nn.Conv2d(64, 64, 3),\n",
        "            nn.BatchNorm2d(64),\n",
        "            # nn.Dropout2d(),\n",
        "            nn.ReLU(),\n",
        "            nn.MaxPool2d(2, 2),\n",
        "\n",
        "            nn.Conv2d(64, 128, 3),\n",
        "            nn.BatchNorm2d(128),\n",
        "            nn.ReLU(),\n",
        "        )\n",
        "\n",
        "    def forward(self, x):\n",
        "        features = self.extractor(x)\n",
        "        features = features.view(-1, 128)\n",
        "        return features\n",
        "\n",
        "class Classifier(nn.Module):\n",
        "    def __init__(self) -> None:\n",
        "        super(Classifier, self).__init__()\n",
        "        self.classifier = nn.Sequential(\n",
        "            nn.Linear(128, 512),\n",
        "            nn.BatchNorm1d(512),\n",
        "            nn.ReLU(),\n",
        "            # nn.Dropout2d(),\n",
        "\n",
        "            nn.Linear(512, 128),\n",
        "            nn.BatchNorm2d(128),\n",
        "            nn.ReLU(),\n",
        "\n",
        "            nn.Linear(128, 10)\n",
        "        )\n",
        "\n",
        "    def forward(self, features):\n",
        "        class_label = self.classifier(features)\n",
        "        return class_label\n",
        "\n",
        "class DomainClassifier(nn.Module):\n",
        "    def __init__(self) -> None:\n",
        "        super(DomainClassifier, self).__init__()\n",
        "        self.domainclassifier = nn.Sequential(\n",
        "            nn.Linear(128, 256),\n",
        "            # nn.BatchNorm1d(256),\n",
        "            nn.ReLU(),\n",
        "\n",
        "            nn.Linear(256, 2)\n",
        "        )\n",
        "\n",
        "    def forward(self, features, alpha):\n",
        "        reversed_input = GRL.apply(features, alpha)\n",
        "        x = self.domainclassifier(reversed_input)\n",
        "        return x"
      ],
      "metadata": {
        "id": "T8dxFahzz_pC"
      },
      "execution_count": 1,
      "outputs": []
    },
    {
      "cell_type": "markdown",
      "source": [
        "#### Train"
      ],
      "metadata": {
        "id": "vEZgv1TYLf-g"
      }
    },
    {
      "cell_type": "code",
      "source": [
        "EPOCHS = 200\n",
        "\n",
        "FeatureExtractor().to(device)\n",
        "Classifier().to(device)\n",
        "DomainClassifier.to(device)\n",
        "\n",
        "clf_loss_fn = nn.CrossEntropyLoss().to(device)\n",
        "domainclf_loss_fn = nn.CrossEntropyLoss().to(device)\n",
        "optimizer = optim.SGD(\n",
        "    list(FeatureExtractor.parameters()) + list(Classifier.parameters()) + list(DomainClassifier.parameters()),\n",
        "    lr=1e-3,\n",
        "    momentum=0.9,\n",
        ")"
      ],
      "metadata": {
        "id": "y0vvyP4ILhj4"
      },
      "execution_count": null,
      "outputs": []
    }
  ]
}