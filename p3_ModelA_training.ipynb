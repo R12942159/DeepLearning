{
  "nbformat": 4,
  "nbformat_minor": 0,
  "metadata": {
    "colab": {
      "provenance": [],
      "gpuType": "T4",
      "include_colab_link": true
    },
    "kernelspec": {
      "name": "python3",
      "display_name": "Python 3"
    },
    "language_info": {
      "name": "python"
    },
    "accelerator": "GPU"
  },
  "cells": [
    {
      "cell_type": "markdown",
      "metadata": {
        "id": "view-in-github",
        "colab_type": "text"
      },
      "source": [
        "<a href=\"https://colab.research.google.com/github/R12942159/NTU_DLCV/blob/Hw2/p3_ModelA_training.ipynb\" target=\"_parent\"><img src=\"https://colab.research.google.com/assets/colab-badge.svg\" alt=\"Open In Colab\"/></a>"
      ]
    },
    {
      "cell_type": "code",
      "source": [
        "import os\n",
        "import torch\n",
        "import numpy as np\n",
        "import pandas as pd\n",
        "from PIL import Image\n",
        "from tqdm import tqdm\n",
        "import torch.nn as nn\n",
        "from torch import optim\n",
        "import torchvision.transforms as tr\n",
        "from torch.utils.data import DataLoader"
      ],
      "metadata": {
        "id": "tp9YuYhODsSk"
      },
      "execution_count": 1,
      "outputs": []
    },
    {
      "cell_type": "code",
      "source": [
        "from google.colab import drive\n",
        "drive.mount('/content/drive')"
      ],
      "metadata": {
        "colab": {
          "base_uri": "https://localhost:8080/"
        },
        "id": "kxqDmB-kB1pu",
        "outputId": "5aba620b-9552-49a4-bb07-948659b61fd0"
      },
      "execution_count": 2,
      "outputs": [
        {
          "output_type": "stream",
          "name": "stdout",
          "text": [
            "Mounted at /content/drive\n"
          ]
        }
      ]
    },
    {
      "cell_type": "markdown",
      "source": [
        "#### Download zip file"
      ],
      "metadata": {
        "id": "aUXFKRGlLOvG"
      }
    },
    {
      "cell_type": "code",
      "source": [
        "!pip install gsutil\n",
        "!gsutil cp /content/drive/MyDrive/NTU_DLCV/Hw2/hw2_data.zip /content/hw2_data.zip"
      ],
      "metadata": {
        "id": "doVVsVMbB620"
      },
      "execution_count": null,
      "outputs": []
    },
    {
      "cell_type": "code",
      "source": [
        "!unzip /content/hw2_data.zip"
      ],
      "metadata": {
        "id": "WP1EiTcQB8c6"
      },
      "execution_count": null,
      "outputs": []
    },
    {
      "cell_type": "markdown",
      "source": [
        "#### Get cuda from GPU"
      ],
      "metadata": {
        "id": "WVRZjvruLLrb"
      }
    },
    {
      "cell_type": "code",
      "source": [
        "device = \"cuda\" if torch.cuda.is_available() else \"cpu\"\n",
        "print(f\"Using: {device}\")"
      ],
      "metadata": {
        "colab": {
          "base_uri": "https://localhost:8080/"
        },
        "id": "Lf4M57NsLJnq",
        "outputId": "4fbce9a3-40a9-4ab8-9a81-9d43c3bb7ebe"
      },
      "execution_count": 5,
      "outputs": [
        {
          "output_type": "stream",
          "name": "stdout",
          "text": [
            "Using: cuda\n"
          ]
        }
      ]
    },
    {
      "cell_type": "markdown",
      "source": [
        "#### Construct Dataset"
      ],
      "metadata": {
        "id": "-kdf1r19DVUZ"
      }
    },
    {
      "cell_type": "code",
      "source": [
        "class MnistDataset(torch.utils.data.Dataset):\n",
        "    def __init__(self, label_path: str, join_path: str, transform) -> None:\n",
        "        self.transform = transform\n",
        "        self.img_paths = []\n",
        "        self.img_labels = []\n",
        "\n",
        "        label_csv = pd.read_csv(label_path).values.tolist()\n",
        "\n",
        "        for row in label_csv:\n",
        "            self.img_paths.append(os.path.join(join_path, row[0]))\n",
        "            self.img_labels.append(row[1])\n",
        "        assert len(self.img_paths) == len(self.img_labels)\n",
        "\n",
        "    def __len__(self):\n",
        "        return len(self.img_paths)\n",
        "\n",
        "    def __getitem__(self, idx) -> (torch.Tensor, int):\n",
        "        img_path = self.img_paths[idx]\n",
        "        img = Image.open(img_path).convert('RGB') # (28, 28, 3)\n",
        "        img = self.transform(img)\n",
        "\n",
        "        label = self.img_labels[idx]\n",
        "        return img, label"
      ],
      "metadata": {
        "id": "_WR7bP-YDehh"
      },
      "execution_count": 6,
      "outputs": []
    },
    {
      "cell_type": "code",
      "source": [
        "mean=[0.485, 0.456, 0.406]\n",
        "std=[0.229, 0.224, 0.225]\n",
        "\n",
        "source_train_ds = MnistDataset(\n",
        "    label_path='/content/hw2_data/digits/mnistm/train.csv',\n",
        "    join_path='/content/hw2_data/digits/mnistm/data',\n",
        "    transform=tr.Compose([\n",
        "        tr.ToTensor(),\n",
        "        tr.Normalize(mean=mean, std=std),\n",
        "    ])\n",
        ")\n",
        "\n",
        "target_train_ds = MnistDataset(\n",
        "    label_path='/content/hw2_data/digits/svhn/train.csv',\n",
        "    join_path='/content/hw2_data/digits/svhn/data',\n",
        "    transform=tr.Compose([\n",
        "        tr.ToTensor(),\n",
        "        tr.Normalize(mean=mean, std=std),\n",
        "    ])\n",
        ")\n",
        "\n",
        "target_val_ds = MnistDataset(\n",
        "    label_path='/content/hw2_data/digits/svhn/val.csv',\n",
        "    join_path='/content/hw2_data/digits/svhn/data',\n",
        "    transform=tr.Compose([\n",
        "        tr.ToTensor(),\n",
        "        tr.Normalize(mean=mean, std=std),\n",
        "    ])\n",
        ")"
      ],
      "metadata": {
        "id": "rsMapmVxHL3r"
      },
      "execution_count": 7,
      "outputs": []
    },
    {
      "cell_type": "code",
      "source": [
        "BATCH_SIZE = 512\n",
        "\n",
        "source_train_loader = DataLoader(source_train_ds, BATCH_SIZE, shuffle=True, num_workers=4)\n",
        "target_train_loader = DataLoader(target_train_ds, BATCH_SIZE, shuffle=True, num_workers=4)\n",
        "target_val_loader = DataLoader(target_val_ds, BATCH_SIZE, shuffle=False, num_workers=4)"
      ],
      "metadata": {
        "id": "x85T63PnJcVr"
      },
      "execution_count": null,
      "outputs": []
    },
    {
      "cell_type": "markdown",
      "source": [
        "#### Domain-Adversarial Training of Neural Networks (DANN)"
      ],
      "metadata": {
        "id": "VYC19z24BDsB"
      }
    },
    {
      "cell_type": "code",
      "source": [
        "class GRL(torch.autograd.Function):\n",
        "    @staticmethod\n",
        "    def forward(ctx, x, alpha):\n",
        "        ctx.alpha = alpha\n",
        "        return x.view_as(x)\n",
        "\n",
        "    @staticmethod\n",
        "    def backward(ctx, grad_output):\n",
        "         output = grad_output.neg() * ctx.alpha\n",
        "         return output, None\n",
        "\n",
        "class FeatureExtractor(nn.Module):\n",
        "    def __init__(self) -> None:\n",
        "        super(FeatureExtractor, self).__init__()\n",
        "        self.extractor = nn.Sequential(\n",
        "            nn.Conv2d(3, 64, 5), # (64, 24, 24)\n",
        "            nn.BatchNorm2d(64),\n",
        "            nn.ReLU(),\n",
        "            nn.MaxPool2d(kernel_size=4, stride=2), # (64, 11, 11)\n",
        "\n",
        "            nn.Conv2d(64, 64, 5), # (64, 7, 7)\n",
        "            nn.BatchNorm2d(64),\n",
        "            # nn.Dropout2d(),\n",
        "            nn.ReLU(),\n",
        "            nn.MaxPool2d(3, 2), # (64, 3, 3)\n",
        "\n",
        "            nn.Conv2d(64, 128, 3), # (128, 1, 1)\n",
        "        )\n",
        "\n",
        "    def forward(self, x):\n",
        "        features = self.extractor(x)\n",
        "        features = features.view(-1, 128)\n",
        "        return features\n",
        "\n",
        "class Classifier(nn.Module):\n",
        "    def __init__(self) -> None:\n",
        "        super(Classifier, self).__init__()\n",
        "        self.classifier = nn.Sequential(\n",
        "            nn.Linear(128, 512),\n",
        "            nn.BatchNorm1d(512),\n",
        "            nn.ReLU(),\n",
        "            # nn.Dropout2d(),\n",
        "\n",
        "            nn.Linear(512, 128),\n",
        "            nn.BatchNorm1d(128),\n",
        "            nn.ReLU(),\n",
        "\n",
        "            nn.Linear(128, 10),\n",
        "        )\n",
        "\n",
        "    def forward(self, features):\n",
        "        class_label = self.classifier(features)\n",
        "        return class_label\n",
        "\n",
        "class DomainClassifier(nn.Module):\n",
        "    def __init__(self) -> None:\n",
        "        super(DomainClassifier, self).__init__()\n",
        "        self.domainclassifier = nn.Sequential(\n",
        "            nn.Linear(128, 256),\n",
        "            # nn.BatchNorm1d(256),\n",
        "            nn.ReLU(),\n",
        "\n",
        "            nn.Linear(256, 1)\n",
        "        )\n",
        "\n",
        "    def forward(self, features, alpha):\n",
        "        reversed_input = GRL.apply(features, alpha)\n",
        "        x = self.domainclassifier(reversed_input)\n",
        "        return x"
      ],
      "metadata": {
        "id": "T8dxFahzz_pC"
      },
      "execution_count": 9,
      "outputs": []
    },
    {
      "cell_type": "markdown",
      "source": [
        "#### Train"
      ],
      "metadata": {
        "id": "vEZgv1TYLf-g"
      }
    },
    {
      "cell_type": "code",
      "source": [
        "def model_mode(mode: str, models: list) -> None:\n",
        "    for model in models:\n",
        "        if mode == 'train':\n",
        "            model.train()\n",
        "        elif mode == 'eval':\n",
        "            model.eval()"
      ],
      "metadata": {
        "id": "ZsdsZ8GRAbHZ"
      },
      "execution_count": 10,
      "outputs": []
    },
    {
      "cell_type": "code",
      "source": [
        "EPOCHS = 200\n",
        "\n",
        "# Earlystopping\n",
        "patience = 200\n",
        "counter = 0\n",
        "best_accuracy = 0.4\n",
        "\n",
        "# setting parameters\n",
        "lr = 1e-3\n",
        "momentum = 0.9\n",
        "\n",
        "feature_extractor = FeatureExtractor()\n",
        "feature_extractor.to(device)\n",
        "classifier = Classifier()\n",
        "classifier.to(device)\n",
        "domain_classifier = DomainClassifier()\n",
        "domain_classifier.to(device)\n",
        "\n",
        "clf_loss_fn = nn.CrossEntropyLoss()\n",
        "domainclf_loss_fn = nn.BCEWithLogitsLoss() # 'Binary' Cross Entropy With Logits Loss\n",
        "\n",
        "optimizer = optim.SGD(\n",
        "    list(feature_extractor.parameters()) + list(classifier.parameters()) + list(domain_classifier.parameters()),\n",
        "    lr=lr,\n",
        "    momentum=momentum,\n",
        ")\n",
        "\n",
        "# logs dictionary\n",
        "logs = {'class_label_loss': [], 'domain_label_loss': [], 'val_accuracy': []}"
      ],
      "metadata": {
        "id": "y0vvyP4ILhj4"
      },
      "execution_count": 12,
      "outputs": []
    },
    {
      "cell_type": "code",
      "source": [
        "for epoch in range(EPOCHS):\n",
        "    # start_steps = epoch * len(source_train_loader)\n",
        "    total_steps = EPOCHS * len(target_train_loader)\n",
        "\n",
        "    for (source_x, source_y), (target_x, target_y) in tqdm(zip(source_train_loader, target_train_loader), total=len(source_train_loader)):\n",
        "        model_mode('train', [feature_extractor, classifier, domain_classifier])\n",
        "\n",
        "        source_x, source_y = source_x.to(device, non_blocking=True), source_y.to(device, non_blocking=True)\n",
        "        target_x, target_y = target_x.to(device, non_blocking=True), target_y.to(device, non_blocking=True)\n",
        "\n",
        "        # scheduling\n",
        "        p = epoch / total_steps\n",
        "        alpha = 2. / (1. + np.exp(-10 * p)) - 1\n",
        "\n",
        "        optimizer.param_groups[0]['lr'] = lr / (1. + 10 * p) ** 0.75\n",
        "        optimizer.zero_grad()\n",
        "\n",
        "        # features extractor\n",
        "        source_features = feature_extractor(source_x)\n",
        "        target_features = feature_extractor(target_x)\n",
        "\n",
        "        # classifier\n",
        "        # compute class label loss\n",
        "        class_label = classifier(source_features)\n",
        "        class_label_loss = clf_loss_fn(class_label, source_y)\n",
        "\n",
        "        # doamin classifier\n",
        "        # source domain label = 0\n",
        "        source_domain_label = domain_classifier(source_features, alpha).squeeze() # (batch_size, 1) -> (batch_size)\n",
        "        domain_label_source_loss = domainclf_loss_fn(\n",
        "            source_domain_label,\n",
        "            torch.zeros(source_y.shape[0], dtype=torch.float, device=device),\n",
        "        )\n",
        "        # target domain label = 1\n",
        "        target_domain_label = domain_classifier(target_features, alpha).squeeze()\n",
        "        domain_label_target_loss = domainclf_loss_fn(\n",
        "            target_domain_label,\n",
        "            torch.ones(target_y.shape[0], dtype=torch.float, device=device),\n",
        "        )\n",
        "        # compute domain total loss\n",
        "        domain_label_loss = domain_label_source_loss + domain_label_target_loss\n",
        "\n",
        "        total_loss = class_label_loss + domain_label_loss\n",
        "        total_loss.backward()\n",
        "        optimizer.step()\n",
        "\n",
        "        # write logs\n",
        "        logs['class_label_loss'].append(class_label_loss)\n",
        "        logs['domain_label_loss'].append(domain_label_loss)\n",
        "\n",
        "\n",
        "    model_mode('eval', [feature_extractor, classifier, domain_classifier])\n",
        "    val_accuracy = 0\n",
        "    with torch.no_grad():\n",
        "        for target_val_x, target_val_y in tqdm(target_val_loader):\n",
        "            target_val_x, target_val_y = target_val_x.to(device), target_val_y.cpu().numpy()\n",
        "\n",
        "            features = feature_extractor(target_val_x)\n",
        "            class_label = classifier(features)\n",
        "            class_label = class_label.argmax(-1).cpu().numpy()\n",
        "\n",
        "            val_accuracy += np.mean((class_label == target_val_y).astype(int))\n",
        "\n",
        "    val_accuracy /= len(target_val_loader)\n",
        "\n",
        "    # write logs\n",
        "    logs['val_accuracy'].append(val_accuracy)\n",
        "\n",
        "    print(f'EPOCH: {(epoch+1):04d} -> val_accuracy: {val_accuracy:.4f}, class_label_loss: {class_label_loss:.4f}, domain_label_loss: {domain_label_loss:.4f}')\n",
        "\n",
        "    # chcek improvement\n",
        "    if val_accuracy >= best_accuracy:\n",
        "        counter = 0\n",
        "        best_accuracy = val_accuracy\n",
        "\n",
        "        torch.save(feature_extractor.state_dict(), f\"/content/drive/MyDrive/NTU_DLCV/Hw2/p3_ckpt/{epoch+1}feature_extractor.pth\")\n",
        "        torch.save(classifier.state_dict(), f\"/content/drive/MyDrive/NTU_DLCV/Hw2/p3_ckpt/{epoch+1}classifier.pth\")\n",
        "        torch.save(domain_classifier.state_dict(), f\"/content/drive/MyDrive/NTU_DLCV/Hw2/p3_ckpt/{epoch+1}domain_classifier.pth\")\n",
        "        print(\"Model saved!\")\n",
        "    else:\n",
        "        counter += 1\n",
        "    if counter >= patience:\n",
        "        print(\"Earlystop!\")\n",
        "        break"
      ],
      "metadata": {
        "id": "a6BVeVmg_hAD"
      },
      "execution_count": null,
      "outputs": []
    }
  ]
}