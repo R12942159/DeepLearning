{
  "nbformat": 4,
  "nbformat_minor": 0,
  "metadata": {
    "colab": {
      "provenance": [],
      "include_colab_link": true
    },
    "kernelspec": {
      "name": "python3",
      "display_name": "Python 3"
    },
    "language_info": {
      "name": "python"
    }
  },
  "cells": [
    {
      "cell_type": "markdown",
      "metadata": {
        "id": "view-in-github",
        "colab_type": "text"
      },
      "source": [
        "<a href=\"https://colab.research.google.com/github/R12942159/NTU_DLCV/blob/Hw2/p3_ModelA_training.ipynb\" target=\"_parent\"><img src=\"https://colab.research.google.com/assets/colab-badge.svg\" alt=\"Open In Colab\"/></a>"
      ]
    },
    {
      "cell_type": "code",
      "execution_count": null,
      "metadata": {
        "id": "3JiT5lJ8ygO4"
      },
      "outputs": [],
      "source": [
        "import torch\n",
        "\n",
        "\n",
        "class GRL(torch.autograd.Function):\n",
        "    @staticmethod\n",
        "    def forward(ctx, x, constant):"
      ]
    },
    {
      "cell_type": "code",
      "source": [
        "from torch import nn\n",
        "\n",
        "class Extractor(nn.Module):\n",
        "    def __init__(self) -> None:\n",
        "        super(Extractor, self).__init__()\n",
        "        self.extractor = nn.Sequential"
      ],
      "metadata": {
        "id": "T8dxFahzz_pC"
      },
      "execution_count": null,
      "outputs": []
    }
  ]
}