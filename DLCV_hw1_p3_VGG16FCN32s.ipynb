{
  "nbformat": 4,
  "nbformat_minor": 0,
  "metadata": {
    "colab": {
      "provenance": [],
      "gpuType": "T4",
      "authorship_tag": "ABX9TyP0+YM56AgG3hvdn8Txbvht",
      "include_colab_link": true
    },
    "kernelspec": {
      "name": "python3",
      "display_name": "Python 3"
    },
    "language_info": {
      "name": "python"
    },
    "accelerator": "GPU"
  },
  "cells": [
    {
      "cell_type": "markdown",
      "metadata": {
        "id": "view-in-github",
        "colab_type": "text"
      },
      "source": [
        "<a href=\"https://colab.research.google.com/github/R12942159/DeepLearning/blob/main/DLCV_hw1_p3_VGG16FCN32s.ipynb\" target=\"_parent\"><img src=\"https://colab.research.google.com/assets/colab-badge.svg\" alt=\"Open In Colab\"/></a>"
      ]
    },
    {
      "cell_type": "code",
      "execution_count": 1,
      "metadata": {
        "colab": {
          "base_uri": "https://localhost:8080/"
        },
        "id": "uxRiVHE72hhf",
        "outputId": "d59616cf-ec51-4936-821c-429c88377f62"
      },
      "outputs": [
        {
          "output_type": "stream",
          "name": "stdout",
          "text": [
            "Mounted at /content/drive\n"
          ]
        }
      ],
      "source": [
        "from google.colab import drive\n",
        "drive.mount('/content/drive')"
      ]
    },
    {
      "cell_type": "code",
      "source": [
        "import torch\n",
        "\n",
        "\n",
        "# Get cuda from GPU device for training.\n",
        "device = \"cuda\" if torch.cuda.is_available() else \"cpu\"\n",
        "print(f\"Using: {device}\")"
      ],
      "metadata": {
        "id": "YTwPr4Tr2u0r",
        "colab": {
          "base_uri": "https://localhost:8080/"
        },
        "outputId": "538ddd41-f22c-4916-dadf-ce9897cef9c1"
      },
      "execution_count": 2,
      "outputs": [
        {
          "output_type": "stream",
          "name": "stdout",
          "text": [
            "Using: cuda\n"
          ]
        }
      ]
    },
    {
      "cell_type": "code",
      "source": [
        "import os\n",
        "\n",
        "\n",
        "train_paths = '/content/drive/MyDrive/NTU_DLCV/p3_data/train'\n",
        "img_paths_train = [os.path.join(train_paths, i) for i in os.listdir(train_paths) if i.endswith('.jpg')]\n",
        "mask_paths_train = [os.path.join(train_paths, i) for i in os.listdir(train_paths) if i.endswith('.png')]"
      ],
      "metadata": {
        "id": "mTvwKQpr2xqt"
      },
      "execution_count": 3,
      "outputs": []
    },
    {
      "cell_type": "code",
      "source": [
        "import os\n",
        "\n",
        "\n",
        "val_paths = '/content/drive/MyDrive/NTU_DLCV/p3_data/validation'\n",
        "img_paths_val = [os.path.join(val_paths, i) for i in os.listdir(val_paths) if i.endswith('.jpg')]\n",
        "mask_paths_val = [os.path.join(val_paths, i) for i in os.listdir(val_paths) if i.endswith('.png')]"
      ],
      "metadata": {
        "id": "LQ6hf9IyLY6G"
      },
      "execution_count": 4,
      "outputs": []
    },
    {
      "cell_type": "markdown",
      "source": [
        "#### Data Processing"
      ],
      "metadata": {
        "id": "nhk2vL66NKmx"
      }
    },
    {
      "cell_type": "code",
      "source": [
        "import torch\n",
        "import random\n",
        "import numpy as np\n",
        "from PIL import Image\n",
        "from copy import deepcopy\n",
        "from torchvision.transforms.functional import hflip, vflip\n",
        "\n",
        "\n",
        "class LandDataset(torch.utils.data.Dataset):\n",
        "    def __init__(self, img_paths, mask_paths, mode, augment=False):\n",
        "        self.img_paths = img_paths\n",
        "        self.mask_paths = mask_paths\n",
        "        self.mode = mode\n",
        "        self.augment = augment\n",
        "\n",
        "        # random Data Augmentation\n",
        "        def original(x): return x\n",
        "        self.augment = [original, hflip, vflip]\n",
        "        # check the img and mask len\n",
        "        assert len(self.img_paths) == len(self.mask_paths)\n",
        "\n",
        "    def __len__(self):\n",
        "        return len(self.img_paths)\n",
        "\n",
        "    def __getitem__(self, idx):\n",
        "        # get img path\n",
        "        img_path = self.img_paths[idx]\n",
        "        # Read img\n",
        "        img = Image.open(img_path).convert('RGB')\n",
        "        # Normalize Image\n",
        "        img = np.array(img)/255.0 # 0~255 -> 0~1\n",
        "\n",
        "        if self.mode != 'test':\n",
        "            # get mask path\n",
        "            mask_path = self.mask_paths[idx]\n",
        "            mask = Image.open(mask_path).convert('RGB')\n",
        "            mask = np.array(mask)\n",
        "            # Binarize mask from [0~255] to (0 or 1)\n",
        "            mask = np.where(mask<127, 0, 1).astype(np.int16)\n",
        "            # squeeze [a,b,c] into [x,y] with 7 category(6 classes + 1 background)\n",
        "            mask = 100 * mask[:,:,0] + 10 * mask[:,:,1] + 1 * mask[:,:,2]\n",
        "            dp_mask = deepcopy(mask) # Only perform numerical conversion on the most original data\n",
        "            mask[dp_mask == 11] = 0  # Urban(0,255,255)\n",
        "            mask[dp_mask == 110] = 1  # Agriculture(255,255,0)\n",
        "            mask[dp_mask == 101] = 2  # Rangeland(255,0,255)\n",
        "            mask[dp_mask == 10] = 3  # Forest(0,255,0)\n",
        "            mask[dp_mask == 1] = 4  # Water(0,0,255)\n",
        "            mask[dp_mask == 111] = 5  # Barren(255,255,255)\n",
        "            mask[dp_mask == 0] = 6  # Unkonown(0,0,0)\n",
        "            mask = torch.tensor(mask)\n",
        "\n",
        "            if self.augment:\n",
        "                augmentor = self.augment[random.randint(0, 2)]\n",
        "\n",
        "                img = Image.fromarray(np.uint8(img))\n",
        "                mask = Image.fromarray(np.uint8(mask))\n",
        "\n",
        "                img = augmentor(img)\n",
        "                mask = augmentor(mask)\n",
        "\n",
        "                img = np.array(img)\n",
        "                mask = np.array(mask)\n",
        "\n",
        "            # img's channel last to first: (H, W, C) -> (C, H, W)\n",
        "            img = torch.tensor(img, dtype=torch.float).permute(2, 0, 1)\n",
        "            mask = torch.tensor(mask, dtype=torch.long)\n",
        "\n",
        "            return img, mask"
      ],
      "metadata": {
        "id": "sAhNDkoLOEM6"
      },
      "execution_count": 50,
      "outputs": []
    },
    {
      "cell_type": "code",
      "source": [
        "# IMG_SIZE : 512*512\n",
        "BATCH_SIZE = 8\n",
        "\n",
        "train_ds = LandDataset(img_paths_train, mask_paths_train, 'train', augment=True)\n",
        "val_ds = LandDataset(img_paths_val, mask_paths_val, 'val', augment=False)\n",
        "\n",
        "# num_workers > 0: accelerate loading data by muli-process\n",
        "train_loader = torch.utils.data.DataLoader(train_ds, BATCH_SIZE, shuffle=True, num_workers=2)\n",
        "val_loader = torch.utils.data.DataLoader(val_ds, BATCH_SIZE, shuffle=False, num_workers=2)"
      ],
      "metadata": {
        "id": "DqPGGpObryOj"
      },
      "execution_count": 51,
      "outputs": []
    },
    {
      "cell_type": "code",
      "source": [
        "# https://github.com/zijundeng/pytorch-semantic-segmentation/blob/master/models/fcn32s.py#L17C4-L17C4\n",
        "from torch import nn\n",
        "import torchvision\n",
        "from torchvision import models\n",
        "from torchvision.models import VGG16_Weights, vgg16\n",
        "\n",
        "\n",
        "class VGG16FCN32s(nn.Module):\n",
        "    def __init__(self, n_classes=7) -> None:\n",
        "        super().__init__()\n",
        "\n",
        "        features, classifier = list(vgg16(weights=VGG16_Weights.DEFAULT).features.children()), list(vgg16(weights=VGG16_Weights.DEFAULT).classifier.children())\n",
        "        # Able to capture information near the edge of the image and improve segmentation accuracy\n",
        "        features[0].padding = (100, 100)\n",
        "\n",
        "        self.bottleneck = nn.Sequential(*features)\n",
        "\n",
        "        # make Conv Conv Conv TransposeCoonv\n",
        "        fc6 = nn.Conv2d(512, 4096, kernel_size=7)\n",
        "        fc6.weight.data.copy_(classifier[0].weight.data.view(4096, 512, 7, 7))\n",
        "        fc6.bias.data.copy_(classifier[0].bias.data)\n",
        "        fc7 = nn.Conv2d(4096, 4096, kernel_size=1)\n",
        "        fc7.weight.data.copy_(classifier[3].weight.data.view(4096, 4096, 1, 1))\n",
        "        fc7.bias.data.copy_(classifier[3].bias.data)\n",
        "        score_fr = nn.Conv2d(4096, n_classes, kernel_size=1)\n",
        "        score_fr.weight.data.zero_()\n",
        "        score_fr.bias.data.zero_()\n",
        "        self.score_fr = nn.Sequential(\n",
        "            fc6, nn.ReLU(), nn.Dropout(), fc7, nn.ReLU(), nn.Dropout(), score_fr, nn.ReLU()\n",
        "        )\n",
        "        self.upscore = nn.ConvTranspose2d(n_classes, n_classes, kernel_size=64, stride=32, bias=False)\n",
        "\n",
        "    def forward(self, x):\n",
        "        x_size = x.size()\n",
        "        bottleneck = self.bottleneck(x)\n",
        "        score_fr = self.score_fr(bottleneck)\n",
        "        upscore = self.upscore(score_fr)\n",
        "        # crop to original size\n",
        "        return upscore[:, :, upscore.shape[2]-x_size[2]:, upscore.shape[3]-x_size[3]:]"
      ],
      "metadata": {
        "id": "FChG9DV8mwfy"
      },
      "execution_count": 56,
      "outputs": []
    },
    {
      "cell_type": "code",
      "source": [
        "def mean_iou_score(pred, labels, num_classes=7):\n",
        "    '''\n",
        "    Compute mean IoU score over 6 classes\n",
        "    '''\n",
        "    mean_iou = 0\n",
        "    for i in range(num_classes):\n",
        "        tp_fp = torch.sum(pred == i).item()\n",
        "        tp_fn = torch.sum(labels == i).item()\n",
        "        tp = torch.sum((pred == i) * (labels == i)).item()\n",
        "        iou = tp / (tp_fp + tp_fn - tp)\n",
        "        mean_iou += iou / num_classes\n",
        "        print('class #%d : %1.5f'%(i, iou))\n",
        "    print('\\nmean_iou: %f\\n' % mean_iou)\n",
        "\n",
        "    return mean_iou"
      ],
      "metadata": {
        "id": "gumA_LxD9FMl"
      },
      "execution_count": 66,
      "outputs": []
    },
    {
      "cell_type": "code",
      "source": [
        "from tqdm import tqdm\n",
        "\n",
        "\n",
        "def train(dataloader, model, loss_fn, optimizer):\n",
        "    size = len(dataloader.dataset) # number of samples\n",
        "    num_batches = len(dataloader) # batches per epoch\n",
        "    model.train() # to training mode.\n",
        "    epoch_loss = 0\n",
        "    epoch_iou = 0\n",
        "    for batch_i, (x, y) in enumerate(tqdm(dataloader, leave=False)):\n",
        "        x, y = x.to(device, non_blocking=True), y.to(device, non_blocking=True) # move data to GPU\n",
        "        optimizer.zero_grad()\n",
        "        pred = model(x)\n",
        "        loss = loss_fn(pred, y)\n",
        "\n",
        "        loss.backward() # backpropagation to compute gradients\n",
        "        optimizer.step() # update model params\n",
        "\n",
        "        epoch_loss += loss.item() # tensor -> python value\n",
        "        epoch_iou += mean_iou_score(pred, y).item()\n",
        "\n",
        "    # return avg loss of epoch, acc of epoch\n",
        "    return epoch_loss/num_batches, epoch_iou/num_batches\n",
        "\n",
        "\n",
        "def test(dataloader, model, loss_fn):\n",
        "    size = len(dataloader.dataset) # number of samples\n",
        "    num_batches = len(dataloader) # batches per epoch\n",
        "\n",
        "    model.eval() # model to test mode.\n",
        "    epoch_loss = 0\n",
        "    epoch_iou = 0\n",
        "    # No gradient for test data\n",
        "    with torch.no_grad():\n",
        "        for batch_i, (x, y) in enumerate(dataloader):\n",
        "            x, y = x.to(device), y.to(device)\n",
        "\n",
        "            # Compute prediction loss\n",
        "            pred = model(x)\n",
        "            loss = loss_fn(pred, y)\n",
        "\n",
        "            # write to logs\n",
        "            epoch_loss += loss.item()\n",
        "            epoch_iou += mean_iou_score(pred, y).item()\n",
        "\n",
        "    return epoch_loss/num_batches, epoch_iou/num_batches"
      ],
      "metadata": {
        "id": "JDHSqCHk98rT"
      },
      "execution_count": 67,
      "outputs": []
    },
    {
      "cell_type": "code",
      "source": [
        "EPOCHS = 50\n",
        "logs = {\n",
        "    'train_loss': [], 'val_loss': [],\n",
        "    'train_mean_iou': [], 'val_mean_iou': [],\n",
        "}\n",
        "\n",
        "model = VGG16FCN32s()\n",
        "model = model.to(device)\n",
        "\n",
        "loss_fn = nn.CrossEntropyLoss() # classification for each pixel\n",
        "optimizer = torch.optim.Adam(model.parameters())\n",
        "\n",
        "# Earlystopping\n",
        "patience = 5\n",
        "counter = 0\n",
        "best_loss = np.inf\n",
        "\n",
        "for epoch in tqdm(range(EPOCHS)):\n",
        "    train_loss, train_mean_iou = train(train_loader, model, loss_fn, optimizer)\n",
        "    val_loss, val_mean_iou = test(val_loader, model, loss_fn)\n",
        "    logs['train_loss'].append(train_loss)\n",
        "    logs['val_loss'].append(val_loss)\n",
        "    logs['train_mean_iou'].append(train_mean_iou)\n",
        "    logs['val_mean_iou'].append(val_mean_iou)\n",
        "\n",
        "    print(f'EPOCH: {epoch:04d} train_loss: {train_loss:.4f} val_loss: {val_loss:.4f}, train_mean_iou: {train_mean_iou:.3f}, val_mean_iou: {val_mean_iou:.3f}')\n",
        "\n",
        "    # On epoch end\n",
        "    torch.save(model.state_dict(), \"last.pth\")\n",
        "    # check improvement\n",
        "    if val_loss < best_loss:\n",
        "        counter = 0\n",
        "        best_loss = val_loss\n",
        "        torch.save(model.state_dict(), \"best.pth\")\n",
        "    else:\n",
        "        counter += 1\n",
        "    if counter >= patience:\n",
        "        print(\"Earlystop!\")\n",
        "        break"
      ],
      "metadata": {
        "colab": {
          "base_uri": "https://localhost:8080/",
          "height": 541
        },
        "id": "d96Ddqa_-59Y",
        "outputId": "3c511ec1-69df-4758-c7ed-ec11b09d9218"
      },
      "execution_count": 68,
      "outputs": [
        {
          "output_type": "stream",
          "name": "stderr",
          "text": [
            "  0%|          | 0/50 [00:00<?, ?it/s]\n",
            "  0%|          | 0/250 [00:00<?, ?it/s]\u001b[A\n",
            "  0%|          | 0/50 [00:21<?, ?it/s]\n"
          ]
        },
        {
          "output_type": "error",
          "ename": "OutOfMemoryError",
          "evalue": "ignored",
          "traceback": [
            "\u001b[0;31m---------------------------------------------------------------------------\u001b[0m",
            "\u001b[0;31mOutOfMemoryError\u001b[0m                          Traceback (most recent call last)",
            "\u001b[0;32m<ipython-input-68-abfcfd7f5d60>\u001b[0m in \u001b[0;36m<cell line: 18>\u001b[0;34m()\u001b[0m\n\u001b[1;32m     17\u001b[0m \u001b[0;34m\u001b[0m\u001b[0m\n\u001b[1;32m     18\u001b[0m \u001b[0;32mfor\u001b[0m \u001b[0mepoch\u001b[0m \u001b[0;32min\u001b[0m \u001b[0mtqdm\u001b[0m\u001b[0;34m(\u001b[0m\u001b[0mrange\u001b[0m\u001b[0;34m(\u001b[0m\u001b[0mEPOCHS\u001b[0m\u001b[0;34m)\u001b[0m\u001b[0;34m)\u001b[0m\u001b[0;34m:\u001b[0m\u001b[0;34m\u001b[0m\u001b[0;34m\u001b[0m\u001b[0m\n\u001b[0;32m---> 19\u001b[0;31m     \u001b[0mtrain_loss\u001b[0m\u001b[0;34m,\u001b[0m \u001b[0mtrain_mean_iou\u001b[0m \u001b[0;34m=\u001b[0m \u001b[0mtrain\u001b[0m\u001b[0;34m(\u001b[0m\u001b[0mtrain_loader\u001b[0m\u001b[0;34m,\u001b[0m \u001b[0mmodel\u001b[0m\u001b[0;34m,\u001b[0m \u001b[0mloss_fn\u001b[0m\u001b[0;34m,\u001b[0m \u001b[0moptimizer\u001b[0m\u001b[0;34m)\u001b[0m\u001b[0;34m\u001b[0m\u001b[0;34m\u001b[0m\u001b[0m\n\u001b[0m\u001b[1;32m     20\u001b[0m     \u001b[0mval_loss\u001b[0m\u001b[0;34m,\u001b[0m \u001b[0mval_mean_iou\u001b[0m \u001b[0;34m=\u001b[0m \u001b[0mtest\u001b[0m\u001b[0;34m(\u001b[0m\u001b[0mval_loader\u001b[0m\u001b[0;34m,\u001b[0m \u001b[0mmodel\u001b[0m\u001b[0;34m,\u001b[0m \u001b[0mloss_fn\u001b[0m\u001b[0;34m)\u001b[0m\u001b[0;34m\u001b[0m\u001b[0;34m\u001b[0m\u001b[0m\n\u001b[1;32m     21\u001b[0m     \u001b[0mlogs\u001b[0m\u001b[0;34m[\u001b[0m\u001b[0;34m'train_loss'\u001b[0m\u001b[0;34m]\u001b[0m\u001b[0;34m.\u001b[0m\u001b[0mappend\u001b[0m\u001b[0;34m(\u001b[0m\u001b[0mtrain_loss\u001b[0m\u001b[0;34m)\u001b[0m\u001b[0;34m\u001b[0m\u001b[0;34m\u001b[0m\u001b[0m\n",
            "\u001b[0;32m<ipython-input-67-268b23803825>\u001b[0m in \u001b[0;36mtrain\u001b[0;34m(dataloader, model, loss_fn, optimizer)\u001b[0m\n\u001b[1;32m     14\u001b[0m         \u001b[0mloss\u001b[0m \u001b[0;34m=\u001b[0m \u001b[0mloss_fn\u001b[0m\u001b[0;34m(\u001b[0m\u001b[0mpred\u001b[0m\u001b[0;34m,\u001b[0m \u001b[0my\u001b[0m\u001b[0;34m)\u001b[0m\u001b[0;34m\u001b[0m\u001b[0;34m\u001b[0m\u001b[0m\n\u001b[1;32m     15\u001b[0m \u001b[0;34m\u001b[0m\u001b[0m\n\u001b[0;32m---> 16\u001b[0;31m         \u001b[0mloss\u001b[0m\u001b[0;34m.\u001b[0m\u001b[0mbackward\u001b[0m\u001b[0;34m(\u001b[0m\u001b[0;34m)\u001b[0m \u001b[0;31m# backpropagation to compute gradients\u001b[0m\u001b[0;34m\u001b[0m\u001b[0;34m\u001b[0m\u001b[0m\n\u001b[0m\u001b[1;32m     17\u001b[0m         \u001b[0moptimizer\u001b[0m\u001b[0;34m.\u001b[0m\u001b[0mstep\u001b[0m\u001b[0;34m(\u001b[0m\u001b[0;34m)\u001b[0m \u001b[0;31m# update model params\u001b[0m\u001b[0;34m\u001b[0m\u001b[0;34m\u001b[0m\u001b[0m\n\u001b[1;32m     18\u001b[0m \u001b[0;34m\u001b[0m\u001b[0m\n",
            "\u001b[0;32m/usr/local/lib/python3.10/dist-packages/torch/_tensor.py\u001b[0m in \u001b[0;36mbackward\u001b[0;34m(self, gradient, retain_graph, create_graph, inputs)\u001b[0m\n\u001b[1;32m    485\u001b[0m                 \u001b[0minputs\u001b[0m\u001b[0;34m=\u001b[0m\u001b[0minputs\u001b[0m\u001b[0;34m,\u001b[0m\u001b[0;34m\u001b[0m\u001b[0;34m\u001b[0m\u001b[0m\n\u001b[1;32m    486\u001b[0m             )\n\u001b[0;32m--> 487\u001b[0;31m         torch.autograd.backward(\n\u001b[0m\u001b[1;32m    488\u001b[0m             \u001b[0mself\u001b[0m\u001b[0;34m,\u001b[0m \u001b[0mgradient\u001b[0m\u001b[0;34m,\u001b[0m \u001b[0mretain_graph\u001b[0m\u001b[0;34m,\u001b[0m \u001b[0mcreate_graph\u001b[0m\u001b[0;34m,\u001b[0m \u001b[0minputs\u001b[0m\u001b[0;34m=\u001b[0m\u001b[0minputs\u001b[0m\u001b[0;34m\u001b[0m\u001b[0;34m\u001b[0m\u001b[0m\n\u001b[1;32m    489\u001b[0m         )\n",
            "\u001b[0;32m/usr/local/lib/python3.10/dist-packages/torch/autograd/__init__.py\u001b[0m in \u001b[0;36mbackward\u001b[0;34m(tensors, grad_tensors, retain_graph, create_graph, grad_variables, inputs)\u001b[0m\n\u001b[1;32m    198\u001b[0m     \u001b[0;31m# some Python versions print out the first line of a multi-line function\u001b[0m\u001b[0;34m\u001b[0m\u001b[0;34m\u001b[0m\u001b[0m\n\u001b[1;32m    199\u001b[0m     \u001b[0;31m# calls in the traceback and some print out the last line\u001b[0m\u001b[0;34m\u001b[0m\u001b[0;34m\u001b[0m\u001b[0m\n\u001b[0;32m--> 200\u001b[0;31m     Variable._execution_engine.run_backward(  # Calls into the C++ engine to run the backward pass\n\u001b[0m\u001b[1;32m    201\u001b[0m         \u001b[0mtensors\u001b[0m\u001b[0;34m,\u001b[0m \u001b[0mgrad_tensors_\u001b[0m\u001b[0;34m,\u001b[0m \u001b[0mretain_graph\u001b[0m\u001b[0;34m,\u001b[0m \u001b[0mcreate_graph\u001b[0m\u001b[0;34m,\u001b[0m \u001b[0minputs\u001b[0m\u001b[0;34m,\u001b[0m\u001b[0;34m\u001b[0m\u001b[0;34m\u001b[0m\u001b[0m\n\u001b[1;32m    202\u001b[0m         allow_unreachable=True, accumulate_grad=True)  # Calls into the C++ engine to run the backward pass\n",
            "\u001b[0;31mOutOfMemoryError\u001b[0m: CUDA out of memory. Tried to allocate 494.00 MiB (GPU 0; 14.75 GiB total capacity; 11.53 GiB already allocated; 250.81 MiB free; 13.46 GiB reserved in total by PyTorch) If reserved memory is >> allocated memory try setting max_split_size_mb to avoid fragmentation.  See documentation for Memory Management and PYTORCH_CUDA_ALLOC_CONF"
          ]
        }
      ]
    }
  ]
}