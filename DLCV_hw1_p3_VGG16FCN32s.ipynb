{
  "nbformat": 4,
  "nbformat_minor": 0,
  "metadata": {
    "colab": {
      "provenance": [],
      "authorship_tag": "ABX9TyOWA7ph44qsspNv+Bsmj8XR",
      "include_colab_link": true
    },
    "kernelspec": {
      "name": "python3",
      "display_name": "Python 3"
    },
    "language_info": {
      "name": "python"
    }
  },
  "cells": [
    {
      "cell_type": "markdown",
      "metadata": {
        "id": "view-in-github",
        "colab_type": "text"
      },
      "source": [
        "<a href=\"https://colab.research.google.com/github/R12942159/DeepLearning/blob/main/DLCV_hw1_p3_VGG16FCN32s.ipynb\" target=\"_parent\"><img src=\"https://colab.research.google.com/assets/colab-badge.svg\" alt=\"Open In Colab\"/></a>"
      ]
    },
    {
      "cell_type": "code",
      "execution_count": 1,
      "metadata": {
        "colab": {
          "base_uri": "https://localhost:8080/"
        },
        "id": "uxRiVHE72hhf",
        "outputId": "5ea19b57-7af0-44a3-818c-7ecdd0955879"
      },
      "outputs": [
        {
          "output_type": "stream",
          "name": "stdout",
          "text": [
            "Mounted at /content/drive\n"
          ]
        }
      ],
      "source": [
        "from google.colab import drive\n",
        "drive.mount('/content/drive')"
      ]
    },
    {
      "cell_type": "code",
      "source": [
        "import torch\n",
        "\n",
        "\n",
        "# Get cuda from GPU device for training.\n",
        "device = \"cuda\" if torch.cuda.is_available() else \"cpu\"\n",
        "print(f\"Using: {device}\")"
      ],
      "metadata": {
        "id": "YTwPr4Tr2u0r",
        "colab": {
          "base_uri": "https://localhost:8080/"
        },
        "outputId": "4a6dcac2-0a06-45b5-e256-4bcc2566edeb"
      },
      "execution_count": 2,
      "outputs": [
        {
          "output_type": "stream",
          "name": "stdout",
          "text": [
            "Using: cpu\n"
          ]
        }
      ]
    },
    {
      "cell_type": "code",
      "source": [
        "import os\n",
        "\n",
        "\n",
        "train_paths = '/content/drive/MyDrive/NTU_DLCV/p3_data/train'\n",
        "img_paths_train = [os.path.join(train_paths, i) for i in os.listdir(train_paths) if i.endswith('.jpg')]\n",
        "mask_paths_train = [os.path.join(train_paths, i) for i in os.listdir(train_paths) if i.endswith('.png')]"
      ],
      "metadata": {
        "id": "mTvwKQpr2xqt"
      },
      "execution_count": 3,
      "outputs": []
    },
    {
      "cell_type": "code",
      "source": [
        "import os\n",
        "\n",
        "\n",
        "val_paths = '/content/drive/MyDrive/NTU_DLCV/p3_data/validation'\n",
        "img_paths_val = [os.path.join(val_paths, i) for i in os.listdir(val_paths) if i.endswith('.jpg')]\n",
        "mask_paths_val = [os.path.join(val_paths, i) for i in os.listdir(val_paths) if i.endswith('.png')]"
      ],
      "metadata": {
        "id": "LQ6hf9IyLY6G"
      },
      "execution_count": 4,
      "outputs": []
    },
    {
      "cell_type": "markdown",
      "source": [
        "#### Data Processing"
      ],
      "metadata": {
        "id": "nhk2vL66NKmx"
      }
    },
    {
      "cell_type": "code",
      "source": [
        "import torch\n",
        "import numpy as np\n",
        "from PIL import Image\n",
        "from copy import deepcopy\n",
        "from torchvision.transforms.functional import hflip, vflip\n",
        "\n",
        "\n",
        "class LandDataset(torch.utils.data.Dataset):\n",
        "    def __init__(self, img_paths, mask_paths, mode, augment=False):\n",
        "        self.img_paths = img_paths\n",
        "        self.mask_paths = mask_paths\n",
        "        self.augment = augment\n",
        "\n",
        "        # random Data Augmentation\n",
        "        def original(x): return x\n",
        "        self.augment = [original, hflip, vflip]\n",
        "        # check the img and mask len\n",
        "        assert len(self.img_paths) == len(self.mask_paths)\n",
        "\n",
        "    def __len__(self):\n",
        "        return len(self.img_paths)\n",
        "\n",
        "    def __getitem__(self, idx):\n",
        "        # get img path\n",
        "        img_path = self.img_paths[idx]\n",
        "        # Read img\n",
        "        img = Image.open(img_path).convert('RGB')\n",
        "        # Normalize Image\n",
        "        img = np.array(img)/255.0 # 0~255 -> 0~1\n",
        "\n",
        "        if self.mode != 'test':\n",
        "            # get mask path\n",
        "            mask_path = self.mask_paths[idx]\n",
        "            mask = Image.open(mask_path).convert('RGB')\n",
        "            mask = np.array(mask)\n",
        "            # Binarize mask from [0~255] to (0 or 1)\n",
        "            mask = np.where(mask<127, 0, 1).astype(np.int16)\n",
        "            # squeeze [a,b,c] into [x,y] with 7 category(6 classes + 1 background)\n",
        "            mask = 100 * mask[:,:,0] + 10 * mask[:,:,1] + 1 * mask[:,:,2]\n",
        "            dp_mask = deepcopy(mask) # Only perform numerical conversion on the most original data\n",
        "            mask[dp_mask == 11] = 0  # Urban(0,255,255)\n",
        "            mask[dp_mask == 110] = 1  # Agriculture(255,255,0)\n",
        "            mask[dp_mask == 101] = 2  # Rangeland(255,0,255)\n",
        "            mask[dp_mask == 10] = 3  # Forest(0,255,0)\n",
        "            mask[dp_mask == 1] = 4  # Water(0,0,255)\n",
        "            mask[dp_mask == 111] = 5  # Barren(255,255,255)\n",
        "            mask[dp_mask == 0] = 6  # Unkonown(0,0,0)\n",
        "            mask = torch.tensor(mask)\n",
        "\n",
        "            if self.augmentation:\n",
        "                augmentor = self.augmentor[random.randint(0, 2)]\n",
        "                img = augmentor(img)\n",
        "                mask = augmentor(mask)\n",
        "\n",
        "            # img's channel last to first: (H, W, C) -> (C, H, W)\n",
        "            img = torch.tensor(img, dtype=torch.float).permute(2, 0, 1)\n",
        "            mask = torch.tensor(mask, dtype=torch.long)\n",
        "\n",
        "            return img, mask"
      ],
      "metadata": {
        "id": "sAhNDkoLOEM6"
      },
      "execution_count": 20,
      "outputs": []
    },
    {
      "cell_type": "code",
      "source": [
        "# IMG_SIZE : 512*512\n",
        "BATCH_SIZE = 8\n",
        "\n",
        "train_ds = LandDataset(img_paths_train, mask_paths_train, 'train', augment=True)\n",
        "val_ds = LandDataset(img_paths_val, mask_paths_val, 'val', augment=False)\n",
        "\n",
        "# num_workers > 0: accelerate loading data by muli-process\n",
        "train_loader = torch.utils.data.DataLoader(train_ds, BATCH_SIZE, shuffle=True, num_workers=2)\n",
        "val_loader = torch.utils.data.DataLoader(val_ds, BATCH_SIZE, shuffle=False, num_workers=2)"
      ],
      "metadata": {
        "id": "DqPGGpObryOj"
      },
      "execution_count": 21,
      "outputs": []
    },
    {
      "cell_type": "code",
      "source": [
        "import torch\n",
        "from torch import nn\n",
        "import torchvision\n",
        "from torchvision import models\n",
        "from torchvision.models import VGG16_Weights, vgg16\n",
        "\n",
        "\n",
        "features, classifier = list(vgg16(weights=VGG16_Weights.DEFAULT).features.children()), list(vgg16(weights=VGG16_Weights.DEFAULT).classifier.children())"
      ],
      "metadata": {
        "colab": {
          "base_uri": "https://localhost:8080/"
        },
        "id": "ZSBthwIAu_hI",
        "outputId": "90c123ca-71d8-459f-de8c-1909ecfc590d"
      },
      "execution_count": 22,
      "outputs": [
        {
          "output_type": "stream",
          "name": "stderr",
          "text": [
            "Downloading: \"https://download.pytorch.org/models/vgg16-397923af.pth\" to /root/.cache/torch/hub/checkpoints/vgg16-397923af.pth\n",
            "100%|██████████| 528M/528M [00:07<00:00, 72.6MB/s]\n"
          ]
        }
      ]
    },
    {
      "cell_type": "code",
      "source": [
        "features[0].padding = (100, 100)\n",
        "\n",
        "for f in features:\n",
        "     if 'MaxPool' in f.__class__.__name__:\n",
        "           f.ceil_mode = True\n",
        "     elif 'ReLU' in f.__class__.__name__:\n",
        "           f.inplace = True"
      ],
      "metadata": {
        "id": "SOjv4X4z4Pmn"
      },
      "execution_count": 24,
      "outputs": []
    },
    {
      "cell_type": "code",
      "source": [
        "# https://github.com/zijundeng/pytorch-semantic-segmentation/blob/master/models/fcn32s.py#L17C4-L17C4\n",
        "from torch import nn\n",
        "import torchvision\n",
        "from torchvision import models\n",
        "from torchvision.models import VGG16_Weights, vgg16\n",
        "\n",
        "\n",
        "class VGG16FCN32s(nn.Module):\n",
        "    def __init__(self, n_classes=7) -> None:\n",
        "        super().__init__\n",
        "\n",
        "        features, classifier = list(vgg16(weights=VGG16_Weights.DEFAULT).features.children()), list(vgg16(weights=VGG16_Weights.DEFAULT).classifier.children())\n",
        "        # Able to capture information near the edge of the image and improve segmentation accuracy\n",
        "        features[0].padding = (100, 100)\n",
        "\n",
        "        self.bottleneck = nn.Sequential(*features)\n",
        "\n",
        "        # make Conv Conv Conv TransposeCoonv\n",
        "        fc6 = nn.Conv2d(512, 4096, kernal_size=7)\n",
        "        fc6.weight.data.copy_(classifier[0].weight.data.view(4096, 512, 7, 7))\n",
        "        fc6.bias.data.copy_(classifier[0].bias.data)\n",
        "        fc7 = nn.Conv2d(4096, 4096, kernal_size=1)\n",
        "        fc7.weight.data.copy_(classifier[3].weight.data.view(4096, 4096, 1, 1))\n",
        "        fc7.bias.data.copy_(classifier[3].bias.data)\n",
        "        score_fr = nn.Conv2d(4096, n_classes, kernel_size=1)\n",
        "        score_fr.weight.data.zero_()\n",
        "        score_fr.bias.data.zero_()\n",
        "        self.score.fr = nn.Sequential(\n",
        "            fc6, nn.Relu(), nn.Dropout(), fc7, nn.Relu(), nn.Dropout(), score_fr, nn.Relu()\n",
        "        )\n",
        "        self.upscore = nn.ConvTranspose2d(n_classes, n_classes, kernal_size=64, stride=32, bias=False)\n",
        "\n",
        "        def forward(self, x):\n",
        "            x_size = x.size()\n",
        "            bottleneck = self.bottleneck(x)\n",
        "            score_fr = self.score_fr(bottleneck)\n",
        "            upscore = self.upscore(score_fr)\n",
        "            # crop to original size\n",
        "            return upscore[:, :, upscore.shape[2]-x_size[2]:, upscore.shape[3]-x_size[3]:]"
      ],
      "metadata": {
        "id": "FChG9DV8mwfy"
      },
      "execution_count": 34,
      "outputs": []
    },
    {
      "cell_type": "code",
      "source": [
        "def mean_iou_score(pred, labels):\n",
        "    '''\n",
        "    Compute mean IoU score over 6 classes\n",
        "    '''\n",
        "    mean_iou = 0\n",
        "    for i in range(6):\n",
        "        tp_fp = np.sum(pred == i)\n",
        "        tp_fn = np.sum(labels == i)\n",
        "        tp = np.sum((pred == i) * (labels == i))\n",
        "        iou = tp / (tp_fp + tp_fn - tp)\n",
        "        mean_iou += iou / 6\n",
        "        print('class #%d : %1.5f'%(i, iou))\n",
        "    print('\\nmean_iou: %f\\n' % mean_iou)\n",
        "\n",
        "    return mean_iou"
      ],
      "metadata": {
        "id": "gumA_LxD9FMl"
      },
      "execution_count": 35,
      "outputs": []
    },
    {
      "cell_type": "code",
      "source": [
        "from tqdm import tqdm\n",
        "\n",
        "\n",
        "def train(dataloader, model, loss_fn, optimizer):\n",
        "    size = len(dataloader.dataset) # number of samples\n",
        "    num_batches = len(dataloader) # batches per epoch\n",
        "    model.train() # to training mode.\n",
        "    epoch_loss = 0\n",
        "    epoch_iou = 0\n",
        "    for batch_i, (x, y) in enumerate(tqdm(dataloader, leave=False)):\n",
        "        x, y = x.to(device, non_blocking=True), y.to(device, non_blocking=True) # move data to GPU\n",
        "        optimizer.zero_grad()\n",
        "        pred = model(x)\n",
        "        loss = loss_fn(pred, y)\n",
        "\n",
        "        loss.backward() # backpropagation to compute gradients\n",
        "        optimizer.step() # update model params\n",
        "\n",
        "        epoch_loss += loss.item() # tensor -> python value\n",
        "        epoch_iou += mean_iou_score(pred, y).item()\n",
        "\n",
        "    # return avg loss of epoch, acc of epoch\n",
        "    return epoch_loss/num_batches, epoch_iou/num_batches\n",
        "\n",
        "\n",
        "def test(dataloader, model, loss_fn):\n",
        "    size = len(dataloader.dataset) # number of samples\n",
        "    num_batches = len(dataloader) # batches per epoch\n",
        "\n",
        "    model.eval() # model to test mode.\n",
        "    epoch_loss = 0\n",
        "    epoch_iou = 0\n",
        "    # No gradient for test data\n",
        "    with torch.no_grad():\n",
        "        for batch_i, (x, y) in enumerate(dataloader):\n",
        "            x, y = x.to(device), y.to(device)\n",
        "\n",
        "            # Compute prediction loss\n",
        "            pred = model(x)\n",
        "            loss = loss_fn(pred, y)\n",
        "\n",
        "            # write to logs\n",
        "            epoch_loss += loss.item()\n",
        "            epoch_iou += mean_iou_score(pred, y).item()\n",
        "\n",
        "    return epoch_loss/num_batches, epoch_iou/num_batches"
      ],
      "metadata": {
        "id": "JDHSqCHk98rT"
      },
      "execution_count": null,
      "outputs": []
    },
    {
      "cell_type": "code",
      "source": [
        "EPOCHS = 50\n",
        "logs = {\n",
        "    'train_loss': [], 'val_loss': [],\n",
        "    'train_mean_iou': [], 'val_mean_iou': [],\n",
        "}\n",
        "\n",
        "model = VGG16FCN32s()\n",
        "model.copy_params_from_vgg16(models.vgg16(pretrained=True))\n",
        "model = model.to(device)\n",
        "\n",
        "loss_fn = nn.CrossEntropyLoss() # classification for each pixel\n",
        "optimizer = torch.optim.Adam(model.parameters())\n",
        "\n",
        "# Earlystopping\n",
        "patience = 5\n",
        "counter = 0\n",
        "best_loss = np.inf\n",
        "\n",
        "for epoch in tqdm(range(EPOCHS)):\n",
        "    train_loss, train_mean_iou = train(train_loader, model, loss_fn, optimizer)\n",
        "    val_loss, val_mean_iou = test(val_loader, model, loss_fn)\n",
        "    logs['train_loss'].append(train_loss)\n",
        "    logs['val_loss'].append(val_loss)\n",
        "    logs['train_mean_iou'].append(train_mean_iou)\n",
        "    logs['val_mean_iou'].append(val_mean_iou)\n",
        "\n",
        "    print(f'EPOCH: {epoch:04d} train_loss: {train_loss:.4f} val_loss: {val_loss:.4f}, train_mean_iou: {train_mean_iou:.3f}, val_mean_iou: {val_mean_iou:.3f}')\n",
        "\n",
        "    # On epoch end\n",
        "    torch.save(model.state_dict(), \"last.pth\")\n",
        "    # check improvement\n",
        "    if val_loss < best_loss:\n",
        "        counter = 0\n",
        "        best_loss = val_loss\n",
        "        torch.save(model.state_dict(), \"best.pth\")\n",
        "    else:\n",
        "        counter += 1\n",
        "    if counter >= patience:\n",
        "        print(\"Earlystop!\")\n",
        "        break"
      ],
      "metadata": {
        "id": "d96Ddqa_-59Y"
      },
      "execution_count": null,
      "outputs": []
    }
  ]
}