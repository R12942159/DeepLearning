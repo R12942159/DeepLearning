{
  "nbformat": 4,
  "nbformat_minor": 0,
  "metadata": {
    "colab": {
      "provenance": [],
      "gpuType": "V100",
      "machine_shape": "hm",
      "include_colab_link": true
    },
    "kernelspec": {
      "name": "python3",
      "display_name": "Python 3"
    },
    "language_info": {
      "name": "python"
    },
    "accelerator": "GPU"
  },
  "cells": [
    {
      "cell_type": "markdown",
      "metadata": {
        "id": "view-in-github",
        "colab_type": "text"
      },
      "source": [
        "<a href=\"https://colab.research.google.com/github/R12942159/DeepLearning/blob/main/DLCV_hw1_p3_VGG16FCN32s.ipynb\" target=\"_parent\"><img src=\"https://colab.research.google.com/assets/colab-badge.svg\" alt=\"Open In Colab\"/></a>"
      ]
    },
    {
      "cell_type": "code",
      "execution_count": 1,
      "metadata": {
        "colab": {
          "base_uri": "https://localhost:8080/"
        },
        "id": "uxRiVHE72hhf",
        "outputId": "88cf51db-2ef7-4dd6-e6de-c6596693656c"
      },
      "outputs": [
        {
          "output_type": "stream",
          "name": "stdout",
          "text": [
            "Mounted at /content/drive\n"
          ]
        }
      ],
      "source": [
        "from google.colab import drive\n",
        "drive.mount('/content/drive')"
      ]
    },
    {
      "cell_type": "code",
      "source": [
        "import torch\n",
        "\n",
        "\n",
        "# Get cuda from GPU device for training.\n",
        "device = \"cuda\" if torch.cuda.is_available() else \"cpu\"\n",
        "print(f\"Using: {device}\")"
      ],
      "metadata": {
        "id": "YTwPr4Tr2u0r",
        "colab": {
          "base_uri": "https://localhost:8080/"
        },
        "outputId": "48308fe8-c698-4a7b-dc6b-f8b4d6d92909"
      },
      "execution_count": 2,
      "outputs": [
        {
          "output_type": "stream",
          "name": "stdout",
          "text": [
            "Using: cuda\n"
          ]
        }
      ]
    },
    {
      "cell_type": "code",
      "source": [
        "import os\n",
        "\n",
        "\n",
        "train_paths = '/content/drive/MyDrive/NTU_DLCV/p3_data/train'\n",
        "img_paths_train = sorted([os.path.join(train_paths, i) for i in os.listdir(train_paths) if i.endswith('.jpg')])\n",
        "mask_paths_train = sorted([os.path.join(train_paths, i) for i in os.listdir(train_paths) if i.endswith('.png')])"
      ],
      "metadata": {
        "id": "mTvwKQpr2xqt"
      },
      "execution_count": 3,
      "outputs": []
    },
    {
      "cell_type": "code",
      "source": [
        "import os\n",
        "\n",
        "\n",
        "val_paths = '/content/drive/MyDrive/NTU_DLCV/p3_data/validation'\n",
        "img_paths_val = sorted([os.path.join(val_paths, i) for i in os.listdir(val_paths) if i.endswith('.jpg')])\n",
        "mask_paths_val = sorted([os.path.join(val_paths, i) for i in os.listdir(val_paths) if i.endswith('.png')])"
      ],
      "metadata": {
        "id": "LQ6hf9IyLY6G"
      },
      "execution_count": 4,
      "outputs": []
    },
    {
      "cell_type": "markdown",
      "source": [
        "#### Data Processing"
      ],
      "metadata": {
        "id": "nhk2vL66NKmx"
      }
    },
    {
      "cell_type": "code",
      "source": [
        "import torch\n",
        "import random\n",
        "import numpy as np\n",
        "from PIL import Image\n",
        "from copy import deepcopy\n",
        "from torchvision.transforms.functional import hflip, vflip, to_tensor, normalize\n",
        "\n",
        "\n",
        "class LandDataset(torch.utils.data.Dataset):\n",
        "    def __init__(self, img_paths, mask_paths, transform, mode, augment=False):\n",
        "        self.img_paths = img_paths\n",
        "        self.mask_paths = mask_paths\n",
        "        self.transform = transform\n",
        "        self.mode = mode\n",
        "        self.augment = augment\n",
        "\n",
        "        # random Data Augmentation\n",
        "        def original(x): return x\n",
        "        self.augment = [original, hflip, vflip]\n",
        "        # double check the len of img and mask.\n",
        "        assert len(self.img_paths) == len(self.mask_paths)\n",
        "\n",
        "    def __len__(self):\n",
        "        return len(self.img_paths)\n",
        "\n",
        "    def __getitem__(self, idx):\n",
        "        # get img path\n",
        "        img_path = self.img_paths[idx]\n",
        "        # Read img\n",
        "        img = Image.open(img_path).convert('RGB')\n",
        "        # Normalize Image with VGG16's mean and std\n",
        "        # (H, W, C) -> (C, H, W)\n",
        "        img = self.transform(img)\n",
        "\n",
        "        if self.mode != 'test':\n",
        "            # get mask path\n",
        "            mask_path = self.mask_paths[idx]\n",
        "            mask = Image.open(mask_path).convert('RGB')\n",
        "            mask = np.array(mask)\n",
        "            # Binarize mask from [0~255] to (0 or 1)\n",
        "            mask = np.where(mask<127, 0, 1).astype(np.int16)\n",
        "            # squeeze [a,b,c] into [x,y] with 7 category(6 classes + 1 background)\n",
        "            mask = 100 * mask[:,:,0] + 10 * mask[:,:,1] + 1 * mask[:,:,2]\n",
        "            dp_mask = deepcopy(mask) # Only perform numerical conversion on the most original data\n",
        "            mask[dp_mask == 11] = 0  # Urban(0,255,255)\n",
        "            mask[dp_mask == 110] = 1  # Agriculture(255,255,0)\n",
        "            mask[dp_mask == 101] = 2  # Rangeland(255,0,255)\n",
        "            mask[dp_mask == 10] = 3  # Forest(0,255,0)\n",
        "            mask[dp_mask == 1] = 4  # Water(0,0,255)\n",
        "            mask[dp_mask == 111] = 5  # Barren(255,255,255)\n",
        "            mask[dp_mask == 0] = 6  # Unkonown(0,0,0)\n",
        "            mask = torch.tensor(mask)\n",
        "\n",
        "            if self.augment:\n",
        "                augmentor = self.augment[random.randint(0, 2)]\n",
        "                img = augmentor(img)\n",
        "                mask = augmentor(mask)\n",
        "\n",
        "            mask = mask.to(torch.float)  # 将目标标签转换为浮点数类型\n",
        "            return img, mask\n",
        "        else:\n",
        "            return img"
      ],
      "metadata": {
        "id": "sAhNDkoLOEM6"
      },
      "execution_count": 7,
      "outputs": []
    },
    {
      "cell_type": "code",
      "source": [
        "import torchvision.transforms as tr\n",
        "\n",
        "\n",
        "# IMG_SIZE : 512*512\n",
        "BATCH_SIZE = 8\n",
        "\n",
        "# VGG16_V1, https://pytorch.org/vision/main/models/generated/torchvision.models.vgg16.html\n",
        "mean=[0.485, 0.456, 0.406]\n",
        "std=[0.229, 0.224, 0.225]\n",
        "\n",
        "train_ds = LandDataset(img_paths_train,\n",
        "                       mask_paths_train,\n",
        "                       transform = tr.Compose([\n",
        "                          tr.ToTensor(),\n",
        "                          tr.Normalize(mean=mean, std=std),\n",
        "                          ]),\n",
        "                       mode = 'train',\n",
        "                       augment = True,)\n",
        "val_ds = LandDataset(img_paths_val,\n",
        "                     mask_paths_val,\n",
        "                     transform = tr.Compose([\n",
        "                          tr.ToTensor(),\n",
        "                          tr.Normalize(mean=mean, std=std),\n",
        "                          ]),\n",
        "                     mode = 'val',\n",
        "                     augment = True,)\n",
        "\n",
        "# num_workers > 0: accelerate loading data by muli-process\n",
        "train_loader = torch.utils.data.DataLoader(train_ds, BATCH_SIZE, shuffle=True, num_workers=2)\n",
        "val_loader = torch.utils.data.DataLoader(val_ds, BATCH_SIZE, shuffle=False, num_workers=2)"
      ],
      "metadata": {
        "id": "DqPGGpObryOj"
      },
      "execution_count": 8,
      "outputs": []
    },
    {
      "cell_type": "code",
      "source": [
        "# from torchvision.models import VGG16_Weights, vgg16\n",
        "\n",
        "# features, classifier = list(vgg16(weights=VGG16_Weights.DEFAULT).features.children()), list(vgg16(weights=VGG16_Weights.DEFAULT).classifier.children())"
      ],
      "metadata": {
        "id": "wR_D80suRXfP"
      },
      "execution_count": 12,
      "outputs": []
    },
    {
      "cell_type": "code",
      "source": [
        "# https://github.com/zijundeng/pytorch-semantic-segmentation/blob/master/models/fcn32s.py#L17C4-L17C4\n",
        "from torch import nn\n",
        "import torchvision\n",
        "from torchvision import models\n",
        "from torchvision.models import VGG16_Weights, vgg16\n",
        "\n",
        "\n",
        "class VGG16FCN32s(nn.Module):\n",
        "    def __init__(self, n_classes=7) -> None:\n",
        "        super().__init__()\n",
        "\n",
        "        features, classifier = list(vgg16(weights=VGG16_Weights.DEFAULT).features.children()), list(vgg16(weights=VGG16_Weights.DEFAULT).classifier.children())\n",
        "        # Able to capture information near the edge of the image and improve segmentation accuracy\n",
        "        features[0].padding = (100, 100)\n",
        "\n",
        "        self.bottleneck = nn.Sequential(*features)\n",
        "\n",
        "        # make Conv Conv TransposeCoonv\n",
        "        fc6 = nn.Conv2d(512, 4096, kernel_size=7)\n",
        "        fc6.weight.data.copy_(classifier[0].weight.data.view(4096, 512, 7, 7))\n",
        "        fc6.bias.data.copy_(classifier[0].bias.data)\n",
        "        fc7 = nn.Conv2d(4096, 4096, kernel_size=1)\n",
        "        fc7.weight.data.copy_(classifier[3].weight.data.view(4096, 4096, 1, 1))\n",
        "        fc7.bias.data.copy_(classifier[3].bias.data)\n",
        "        score_fr = nn.Conv2d(4096, n_classes, kernel_size=1)\n",
        "        score_fr.weight.data.zero_()\n",
        "        score_fr.bias.data.zero_()\n",
        "        self.score_fr = nn.Sequential(\n",
        "            fc6, nn.ReLU(), nn.Dropout(), fc7, nn.ReLU(), nn.Dropout(), score_fr, nn.ReLU()\n",
        "        )\n",
        "        self.upscore = nn.ConvTranspose2d(n_classes, n_classes, kernel_size=64, stride=32, bias=False)\n",
        "\n",
        "    def forward(self, x):\n",
        "        x_size = x.size()\n",
        "        bottleneck = self.bottleneck(x)\n",
        "        score_fr = self.score_fr(bottleneck)\n",
        "        upscore = self.upscore(score_fr)\n",
        "        # crop to original size\n",
        "        return upscore[:, :, upscore.shape[2]-x_size[2]:, upscore.shape[3]-x_size[3]:]"
      ],
      "metadata": {
        "id": "FChG9DV8mwfy"
      },
      "execution_count": 9,
      "outputs": []
    },
    {
      "cell_type": "code",
      "source": [
        "def mean_iou_score(pred, labels, num_classes=7):\n",
        "    '''\n",
        "    Compute mean IoU score over 7 classes\n",
        "    '''\n",
        "    mean_iou = 0\n",
        "    # labels = labels.squeeze(1)  # 使其与 pred 张量的形状匹配\n",
        "    for i in range(num_classes):\n",
        "        tp_fp = torch.sum(pred == i)\n",
        "        tp_fn = torch.sum(labels == i)\n",
        "        tp = torch.sum((pred == i) * (labels == i))\n",
        "        if (tp_fp + tp_fn - tp) == 0:\n",
        "            iou = 0.0\n",
        "        else:\n",
        "            iou = tp / (tp_fp + tp_fn - tp)\n",
        "        mean_iou += iou / num_classes\n",
        "        print('class #%d : %1.5f'%(i, iou))\n",
        "    print('\\nmean_iou: %f\\n' % mean_iou)\n",
        "\n",
        "    return mean_iou"
      ],
      "metadata": {
        "id": "gumA_LxD9FMl"
      },
      "execution_count": 10,
      "outputs": []
    },
    {
      "cell_type": "code",
      "source": [
        "# from tqdm import tqdm\n",
        "# model = VGG16FCN32s()\n",
        "# model = model.to(device)\n",
        "# loss_fn = nn.CrossEntropyLoss() # classification for each pixel\n",
        "# optimizer = torch.optim.Adam(model.parameters())\n",
        "\n",
        "\n",
        "# epoch_loss = 0\n",
        "# epoch_iou = 0\n",
        "# for batch_i, (x, y) in enumerate(tqdm(train_loader, leave=False)):\n",
        "#         x, y = x.to(device), y.to(device) # move data to GPU\n",
        "#         optimizer.zero_grad()\n",
        "#         pred = model(x)\n",
        "#         # pred = torch.argmax(pred, dim=1) # 沿着通道维度选择具有最高分数的通道\n",
        "#         # pred = pred.to(torch.float)  # 将目标标签转换为浮点数类型\n",
        "#         # Ensure the target labels are of type Long\n",
        "#         y = y.to(torch.long)\n",
        "#         loss = loss_fn(pred, y)\n",
        "\n",
        "#         loss.backward() # backpropagation to compute gradients\n",
        "#         optimizer.step() # update model params\n",
        "\n",
        "#         epoch_loss += loss.item() # tensor -> python value\n",
        "#         epoch_iou += mean_iou_score(pred, y).item()\n",
        "#         break"
      ],
      "metadata": {
        "id": "dANfh3nySBwC"
      },
      "execution_count": null,
      "outputs": []
    },
    {
      "cell_type": "code",
      "source": [
        "from tqdm import tqdm\n",
        "\n",
        "\n",
        "def train(dataloader, model, loss_fn, optimizer):\n",
        "    size = len(dataloader.dataset) # number of samples\n",
        "    num_batches = len(dataloader) # batches per epoch\n",
        "    model.train() # to training mode.\n",
        "    epoch_loss = 0\n",
        "    epoch_iou = 0\n",
        "    for batch_i, (x, y) in enumerate(tqdm(dataloader, leave=False)):\n",
        "        x, y = x.to(device, non_blocking=True), y.to(device, non_blocking=True) # move data to GPU\n",
        "\n",
        "        optimizer.zero_grad()\n",
        "        # Ensure the target labels are of type Long\n",
        "        y = y.to(torch.long)\n",
        "        pred = model(x)\n",
        "        loss = loss_fn(pred, y)\n",
        "        loss.backward() # backpropagation to compute gradients\n",
        "        optimizer.step() # update model params\n",
        "\n",
        "        pred = torch.argmax(pred, dim=1) # 沿着通道维度选择具有最高分数的通道\n",
        "        pred = pred.to(torch.float)  # 将目标标签转换为浮点数类型\n",
        "\n",
        "\n",
        "        epoch_loss += loss.item() # tensor -> python value\n",
        "        epoch_iou += mean_iou_score(pred, y).item()\n",
        "\n",
        "    # return avg loss of epoch, acc of epoch\n",
        "    return epoch_loss/num_batches, epoch_iou/num_batches\n",
        "\n",
        "\n",
        "def test(dataloader, model, loss_fn):\n",
        "    size = len(dataloader.dataset) # number of samples\n",
        "    num_batches = len(dataloader) # batches per epoch\n",
        "\n",
        "    model.eval() # model to test mode.\n",
        "    epoch_loss = 0\n",
        "    epoch_iou = 0\n",
        "    # No gradient for test data\n",
        "    with torch.no_grad():\n",
        "        for batch_i, (x, y) in enumerate(dataloader):\n",
        "            x, y = x.to(device), y.to(device)\n",
        "\n",
        "            y = y.to(torch.long)\n",
        "            # Compute prediction loss\n",
        "            pred = model(x)\n",
        "            loss = loss_fn(pred, y)\n",
        "\n",
        "            pred = torch.argmax(pred, dim=1) # 沿着通道维度选择具有最高分数的通道\n",
        "            pred = pred.to(torch.float)  # 将目标标签转换为浮点数类型\n",
        "\n",
        "            # write to logs\n",
        "            epoch_loss += loss.item()\n",
        "            epoch_iou += mean_iou_score(pred, y).item()\n",
        "\n",
        "    return epoch_loss/num_batches, epoch_iou/num_batches"
      ],
      "metadata": {
        "id": "JDHSqCHk98rT"
      },
      "execution_count": 18,
      "outputs": []
    },
    {
      "cell_type": "code",
      "source": [
        "EPOCHS = 50\n",
        "logs = {\n",
        "    'train_loss': [], 'val_loss': [],\n",
        "    'train_mean_iou': [], 'val_mean_iou': [],\n",
        "}\n",
        "\n",
        "model = VGG16FCN32s()\n",
        "model = model.to(device)\n",
        "\n",
        "loss_fn = nn.CrossEntropyLoss() # classification for each pixel\n",
        "optimizer = torch.optim.Adam(model.parameters())\n",
        "\n",
        "# Earlystopping\n",
        "patience = 5\n",
        "counter = 0\n",
        "best_loss = np.inf\n",
        "\n",
        "for epoch in tqdm(range(EPOCHS)):\n",
        "    train_loss, train_mean_iou = train(train_loader, model, loss_fn, optimizer)\n",
        "    val_loss, val_mean_iou = test(val_loader, model, loss_fn)\n",
        "    logs['train_loss'].append(train_loss)\n",
        "    logs['val_loss'].append(val_loss)\n",
        "    logs['train_mean_iou'].append(train_mean_iou)\n",
        "    logs['val_mean_iou'].append(val_mean_iou)\n",
        "\n",
        "    print(f'EPOCH: {epoch:04d} train_loss: {train_loss:.4f} val_loss: {val_loss:.4f}, train_mean_iou: {train_mean_iou:.3f}, val_mean_iou: {val_mean_iou:.3f}')\n",
        "\n",
        "    # On epoch end\n",
        "    torch.save(model.state_dict(), \"last.pth\")\n",
        "    # check improvement\n",
        "    if val_loss < best_loss:\n",
        "        counter = 0\n",
        "        best_loss = val_loss\n",
        "        torch.save(model.state_dict(), \"best.pth\")\n",
        "    else:\n",
        "        counter += 1\n",
        "    if counter >= patience:\n",
        "        print(\"Earlystop!\")\n",
        "        break"
      ],
      "metadata": {
        "colab": {
          "base_uri": "https://localhost:8080/"
        },
        "id": "d96Ddqa_-59Y",
        "outputId": "65c942aa-00f7-473c-9219-c5076097fbfb"
      },
      "execution_count": null,
      "outputs": [
        {
          "output_type": "stream",
          "name": "stderr",
          "text": [
            "  0%|          | 0/50 [00:00<?, ?it/s]\n",
            "  0%|          | 0/250 [00:00<?, ?it/s]\u001b[A\n",
            "  0%|          | 1/250 [00:00<03:33,  1.17it/s]\u001b[A"
          ]
        },
        {
          "output_type": "stream",
          "name": "stdout",
          "text": [
            "class #0 : 0.08097\n",
            "class #1 : 0.00000\n",
            "class #2 : 0.00000\n",
            "class #3 : 0.00000\n",
            "class #4 : 0.00000\n",
            "class #5 : 0.00000\n",
            "class #6 : nan\n",
            "\n",
            "mean_iou: nan\n",
            "\n"
          ]
        },
        {
          "output_type": "stream",
          "name": "stderr",
          "text": [
            "\n",
            "  1%|          | 2/250 [00:01<02:51,  1.44it/s]\u001b[A"
          ]
        },
        {
          "output_type": "stream",
          "name": "stdout",
          "text": [
            "class #0 : 0.05448\n",
            "class #1 : 0.00000\n",
            "class #2 : 0.00000\n",
            "class #3 : 0.00000\n",
            "class #4 : 0.00000\n",
            "class #5 : 0.00000\n",
            "class #6 : 0.00000\n",
            "\n",
            "mean_iou: 0.007783\n",
            "\n"
          ]
        },
        {
          "output_type": "stream",
          "name": "stderr",
          "text": [
            "\n",
            "  1%|          | 3/250 [00:02<02:37,  1.56it/s]\u001b[A"
          ]
        },
        {
          "output_type": "stream",
          "name": "stdout",
          "text": [
            "class #0 : 0.11596\n",
            "class #1 : 0.00000\n",
            "class #2 : 0.00000\n",
            "class #3 : nan\n",
            "class #4 : 0.00000\n",
            "class #5 : 0.00000\n",
            "class #6 : nan\n",
            "\n",
            "mean_iou: nan\n",
            "\n"
          ]
        },
        {
          "output_type": "stream",
          "name": "stderr",
          "text": [
            "\n",
            "  2%|▏         | 4/250 [00:02<02:30,  1.63it/s]\u001b[A"
          ]
        },
        {
          "output_type": "stream",
          "name": "stdout",
          "text": [
            "class #0 : 0.04408\n",
            "class #1 : 0.00000\n",
            "class #2 : 0.00000\n",
            "class #3 : 0.00000\n",
            "class #4 : 0.00000\n",
            "class #5 : 0.00000\n",
            "class #6 : nan\n",
            "\n",
            "mean_iou: nan\n",
            "\n"
          ]
        },
        {
          "output_type": "stream",
          "name": "stderr",
          "text": [
            "\n",
            "  2%|▏         | 5/250 [00:03<02:25,  1.68it/s]\u001b[A"
          ]
        },
        {
          "output_type": "stream",
          "name": "stdout",
          "text": [
            "class #0 : 0.05012\n",
            "class #1 : 0.00000\n",
            "class #2 : 0.00000\n",
            "class #3 : 0.00000\n",
            "class #4 : 0.00000\n",
            "class #5 : 0.00000\n",
            "class #6 : 0.00000\n",
            "\n",
            "mean_iou: 0.007160\n",
            "\n"
          ]
        },
        {
          "output_type": "stream",
          "name": "stderr",
          "text": [
            "\n",
            "  2%|▏         | 6/250 [00:03<02:23,  1.69it/s]\u001b[A"
          ]
        },
        {
          "output_type": "stream",
          "name": "stdout",
          "text": [
            "class #0 : 0.27156\n",
            "class #1 : 0.00000\n",
            "class #2 : 0.00000\n",
            "class #3 : nan\n",
            "class #4 : 0.00000\n",
            "class #5 : 0.00000\n",
            "class #6 : 0.00000\n",
            "\n",
            "mean_iou: nan\n",
            "\n"
          ]
        },
        {
          "output_type": "stream",
          "name": "stderr",
          "text": [
            "\n",
            "  3%|▎         | 7/250 [00:04<02:22,  1.71it/s]\u001b[A"
          ]
        },
        {
          "output_type": "stream",
          "name": "stdout",
          "text": [
            "class #0 : 0.11880\n",
            "class #1 : 0.00000\n",
            "class #2 : 0.00000\n",
            "class #3 : 0.00000\n",
            "class #4 : 0.00000\n",
            "class #5 : 0.00000\n",
            "class #6 : nan\n",
            "\n",
            "mean_iou: nan\n",
            "\n"
          ]
        },
        {
          "output_type": "stream",
          "name": "stderr",
          "text": [
            "\n",
            "  3%|▎         | 8/250 [00:04<02:20,  1.72it/s]\u001b[A"
          ]
        },
        {
          "output_type": "stream",
          "name": "stdout",
          "text": [
            "class #0 : 0.00299\n",
            "class #1 : 0.00000\n",
            "class #2 : 0.00000\n",
            "class #3 : 0.00000\n",
            "class #4 : 0.00000\n",
            "class #5 : 0.00000\n",
            "class #6 : nan\n",
            "\n",
            "mean_iou: nan\n",
            "\n"
          ]
        },
        {
          "output_type": "stream",
          "name": "stderr",
          "text": [
            "\n",
            "  4%|▎         | 9/250 [00:05<02:19,  1.72it/s]\u001b[A"
          ]
        },
        {
          "output_type": "stream",
          "name": "stdout",
          "text": [
            "class #0 : 0.00058\n",
            "class #1 : 0.00000\n",
            "class #2 : 0.00000\n",
            "class #3 : 0.00000\n",
            "class #4 : nan\n",
            "class #5 : 0.00000\n",
            "class #6 : nan\n",
            "\n",
            "mean_iou: nan\n",
            "\n"
          ]
        },
        {
          "output_type": "stream",
          "name": "stderr",
          "text": [
            "\n",
            "  4%|▍         | 10/250 [00:06<02:18,  1.73it/s]\u001b[A"
          ]
        },
        {
          "output_type": "stream",
          "name": "stdout",
          "text": [
            "class #0 : 0.01508\n",
            "class #1 : 0.00000\n",
            "class #2 : 0.00000\n",
            "class #3 : 0.00000\n",
            "class #4 : 0.00000\n",
            "class #5 : 0.00000\n",
            "class #6 : nan\n",
            "\n",
            "mean_iou: nan\n",
            "\n"
          ]
        },
        {
          "output_type": "stream",
          "name": "stderr",
          "text": [
            "\n",
            "  4%|▍         | 11/250 [00:06<02:17,  1.74it/s]\u001b[A"
          ]
        },
        {
          "output_type": "stream",
          "name": "stdout",
          "text": [
            "class #0 : 0.09769\n",
            "class #1 : 0.00000\n",
            "class #2 : 0.00000\n",
            "class #3 : 0.00000\n",
            "class #4 : 0.00000\n",
            "class #5 : 0.00000\n",
            "class #6 : nan\n",
            "\n",
            "mean_iou: nan\n",
            "\n"
          ]
        },
        {
          "output_type": "stream",
          "name": "stderr",
          "text": [
            "\n",
            "  5%|▍         | 12/250 [00:07<02:16,  1.74it/s]\u001b[A"
          ]
        },
        {
          "output_type": "stream",
          "name": "stdout",
          "text": [
            "class #0 : 0.17670\n",
            "class #1 : 0.00000\n",
            "class #2 : 0.00000\n",
            "class #3 : nan\n",
            "class #4 : 0.00000\n",
            "class #5 : 0.00000\n",
            "class #6 : nan\n",
            "\n",
            "mean_iou: nan\n",
            "\n"
          ]
        },
        {
          "output_type": "stream",
          "name": "stderr",
          "text": [
            "\n",
            "  5%|▌         | 13/250 [00:07<02:16,  1.74it/s]\u001b[A"
          ]
        },
        {
          "output_type": "stream",
          "name": "stdout",
          "text": [
            "class #0 : 0.09584\n",
            "class #1 : 0.00000\n",
            "class #2 : 0.00000\n",
            "class #3 : 0.00000\n",
            "class #4 : 0.00000\n",
            "class #5 : 0.00000\n",
            "class #6 : nan\n",
            "\n",
            "mean_iou: nan\n",
            "\n"
          ]
        },
        {
          "output_type": "stream",
          "name": "stderr",
          "text": [
            "\n",
            "  6%|▌         | 14/250 [00:08<02:15,  1.74it/s]\u001b[A"
          ]
        },
        {
          "output_type": "stream",
          "name": "stdout",
          "text": [
            "class #0 : 0.17761\n",
            "class #1 : 0.00000\n",
            "class #2 : 0.00000\n",
            "class #3 : 0.00000\n",
            "class #4 : 0.00000\n",
            "class #5 : 0.00000\n",
            "class #6 : nan\n",
            "\n",
            "mean_iou: nan\n",
            "\n"
          ]
        },
        {
          "output_type": "stream",
          "name": "stderr",
          "text": [
            "\n",
            "  6%|▌         | 15/250 [00:08<02:15,  1.73it/s]\u001b[A"
          ]
        },
        {
          "output_type": "stream",
          "name": "stdout",
          "text": [
            "class #0 : 0.23313\n",
            "class #1 : 0.00000\n",
            "class #2 : 0.00000\n",
            "class #3 : 0.00000\n",
            "class #4 : 0.00000\n",
            "class #5 : 0.00000\n",
            "class #6 : 0.00000\n",
            "\n",
            "mean_iou: 0.033304\n",
            "\n"
          ]
        },
        {
          "output_type": "stream",
          "name": "stderr",
          "text": [
            "\n",
            "  6%|▋         | 16/250 [00:09<02:14,  1.74it/s]\u001b[A"
          ]
        },
        {
          "output_type": "stream",
          "name": "stdout",
          "text": [
            "class #0 : 0.16836\n",
            "class #1 : 0.00000\n",
            "class #2 : 0.00000\n",
            "class #3 : 0.00000\n",
            "class #4 : 0.00000\n",
            "class #5 : 0.00000\n",
            "class #6 : nan\n",
            "\n",
            "mean_iou: nan\n",
            "\n"
          ]
        },
        {
          "output_type": "stream",
          "name": "stderr",
          "text": [
            "\n",
            "  7%|▋         | 17/250 [00:10<02:13,  1.74it/s]\u001b[A"
          ]
        },
        {
          "output_type": "stream",
          "name": "stdout",
          "text": [
            "class #0 : 0.16086\n",
            "class #1 : 0.00000\n",
            "class #2 : 0.00000\n",
            "class #3 : 0.00000\n",
            "class #4 : 0.00000\n",
            "class #5 : 0.00000\n",
            "class #6 : 0.00000\n",
            "\n",
            "mean_iou: 0.022980\n",
            "\n"
          ]
        },
        {
          "output_type": "stream",
          "name": "stderr",
          "text": [
            "\n",
            "  7%|▋         | 18/250 [00:10<02:13,  1.74it/s]\u001b[A"
          ]
        },
        {
          "output_type": "stream",
          "name": "stdout",
          "text": [
            "class #0 : 0.16938\n",
            "class #1 : 0.00000\n",
            "class #2 : 0.00000\n",
            "class #3 : nan\n",
            "class #4 : 0.00000\n",
            "class #5 : 0.00000\n",
            "class #6 : nan\n",
            "\n",
            "mean_iou: nan\n",
            "\n"
          ]
        },
        {
          "output_type": "stream",
          "name": "stderr",
          "text": [
            "\n",
            "  8%|▊         | 19/250 [00:11<02:12,  1.74it/s]\u001b[A"
          ]
        },
        {
          "output_type": "stream",
          "name": "stdout",
          "text": [
            "class #0 : 0.23270\n",
            "class #1 : 0.00000\n",
            "class #2 : 0.00000\n",
            "class #3 : nan\n",
            "class #4 : 0.00000\n",
            "class #5 : 0.00000\n",
            "class #6 : 0.00000\n",
            "\n",
            "mean_iou: nan\n",
            "\n"
          ]
        },
        {
          "output_type": "stream",
          "name": "stderr",
          "text": [
            "\n",
            "  8%|▊         | 20/250 [00:11<02:11,  1.74it/s]\u001b[A"
          ]
        },
        {
          "output_type": "stream",
          "name": "stdout",
          "text": [
            "class #0 : 0.26302\n",
            "class #1 : 0.00000\n",
            "class #2 : 0.00000\n",
            "class #3 : nan\n",
            "class #4 : 0.00000\n",
            "class #5 : 0.00000\n",
            "class #6 : nan\n",
            "\n",
            "mean_iou: nan\n",
            "\n"
          ]
        },
        {
          "output_type": "stream",
          "name": "stderr",
          "text": [
            "\n",
            "  8%|▊         | 21/250 [00:12<02:11,  1.74it/s]\u001b[A"
          ]
        },
        {
          "output_type": "stream",
          "name": "stdout",
          "text": [
            "class #0 : 0.10094\n",
            "class #1 : 0.00000\n",
            "class #2 : 0.00000\n",
            "class #3 : 0.00000\n",
            "class #4 : 0.00000\n",
            "class #5 : 0.00000\n",
            "class #6 : nan\n",
            "\n",
            "mean_iou: nan\n",
            "\n"
          ]
        },
        {
          "output_type": "stream",
          "name": "stderr",
          "text": [
            "\n",
            "  9%|▉         | 22/250 [00:12<02:10,  1.75it/s]\u001b[A"
          ]
        },
        {
          "output_type": "stream",
          "name": "stdout",
          "text": [
            "class #0 : 0.03007\n",
            "class #1 : 0.00000\n",
            "class #2 : 0.00000\n",
            "class #3 : nan\n",
            "class #4 : 0.00000\n",
            "class #5 : 0.00000\n",
            "class #6 : nan\n",
            "\n",
            "mean_iou: nan\n",
            "\n"
          ]
        },
        {
          "output_type": "stream",
          "name": "stderr",
          "text": [
            "\n",
            "  9%|▉         | 23/250 [00:13<02:09,  1.75it/s]\u001b[A"
          ]
        },
        {
          "output_type": "stream",
          "name": "stdout",
          "text": [
            "class #0 : 0.07876\n",
            "class #1 : 0.00000\n",
            "class #2 : 0.00000\n",
            "class #3 : 0.00000\n",
            "class #4 : 0.00000\n",
            "class #5 : 0.00000\n",
            "class #6 : nan\n",
            "\n",
            "mean_iou: nan\n",
            "\n"
          ]
        },
        {
          "output_type": "stream",
          "name": "stderr",
          "text": [
            "\n",
            " 10%|▉         | 24/250 [00:14<02:09,  1.75it/s]\u001b[A"
          ]
        },
        {
          "output_type": "stream",
          "name": "stdout",
          "text": [
            "class #0 : 0.09575\n",
            "class #1 : 0.00000\n",
            "class #2 : 0.00000\n",
            "class #3 : 0.00000\n",
            "class #4 : 0.00000\n",
            "class #5 : 0.00000\n",
            "class #6 : 0.00000\n",
            "\n",
            "mean_iou: 0.013679\n",
            "\n"
          ]
        },
        {
          "output_type": "stream",
          "name": "stderr",
          "text": [
            "\n",
            " 10%|█         | 25/250 [00:14<02:08,  1.75it/s]\u001b[A"
          ]
        },
        {
          "output_type": "stream",
          "name": "stdout",
          "text": [
            "class #0 : 0.13910\n",
            "class #1 : 0.00000\n",
            "class #2 : 0.00000\n",
            "class #3 : 0.00000\n",
            "class #4 : 0.00000\n",
            "class #5 : 0.00000\n",
            "class #6 : nan\n",
            "\n",
            "mean_iou: nan\n",
            "\n"
          ]
        },
        {
          "output_type": "stream",
          "name": "stderr",
          "text": [
            "\n",
            " 10%|█         | 26/250 [00:15<02:08,  1.75it/s]\u001b[A"
          ]
        },
        {
          "output_type": "stream",
          "name": "stdout",
          "text": [
            "class #0 : 0.02284\n",
            "class #1 : 0.00000\n",
            "class #2 : 0.00000\n",
            "class #3 : 0.00000\n",
            "class #4 : 0.00000\n",
            "class #5 : 0.00000\n",
            "class #6 : nan\n",
            "\n",
            "mean_iou: nan\n",
            "\n"
          ]
        },
        {
          "output_type": "stream",
          "name": "stderr",
          "text": [
            "\n",
            " 11%|█         | 27/250 [00:15<02:07,  1.75it/s]\u001b[A"
          ]
        },
        {
          "output_type": "stream",
          "name": "stdout",
          "text": [
            "class #0 : 0.14825\n",
            "class #1 : 0.00000\n",
            "class #2 : 0.00000\n",
            "class #3 : 0.00000\n",
            "class #4 : 0.00000\n",
            "class #5 : 0.00000\n",
            "class #6 : 0.00000\n",
            "\n",
            "mean_iou: 0.021178\n",
            "\n"
          ]
        },
        {
          "output_type": "stream",
          "name": "stderr",
          "text": [
            "\n",
            " 11%|█         | 28/250 [00:16<02:07,  1.74it/s]\u001b[A"
          ]
        },
        {
          "output_type": "stream",
          "name": "stdout",
          "text": [
            "class #0 : 0.06531\n",
            "class #1 : 0.00000\n",
            "class #2 : 0.00000\n",
            "class #3 : 0.00000\n",
            "class #4 : 0.00000\n",
            "class #5 : 0.00000\n",
            "class #6 : nan\n",
            "\n",
            "mean_iou: nan\n",
            "\n"
          ]
        },
        {
          "output_type": "stream",
          "name": "stderr",
          "text": [
            "\n",
            " 12%|█▏        | 29/250 [00:16<02:06,  1.74it/s]\u001b[A"
          ]
        },
        {
          "output_type": "stream",
          "name": "stdout",
          "text": [
            "class #0 : 0.22110\n",
            "class #1 : 0.00000\n",
            "class #2 : 0.00000\n",
            "class #3 : 0.00000\n",
            "class #4 : 0.00000\n",
            "class #5 : 0.00000\n",
            "class #6 : nan\n",
            "\n",
            "mean_iou: nan\n",
            "\n"
          ]
        },
        {
          "output_type": "stream",
          "name": "stderr",
          "text": [
            "\n",
            " 12%|█▏        | 30/250 [00:17<02:06,  1.74it/s]\u001b[A"
          ]
        },
        {
          "output_type": "stream",
          "name": "stdout",
          "text": [
            "class #0 : 0.16729\n",
            "class #1 : 0.00000\n",
            "class #2 : 0.00000\n",
            "class #3 : 0.00000\n",
            "class #4 : 0.00000\n",
            "class #5 : 0.00000\n",
            "class #6 : nan\n",
            "\n",
            "mean_iou: nan\n",
            "\n"
          ]
        },
        {
          "output_type": "stream",
          "name": "stderr",
          "text": [
            "\n",
            " 12%|█▏        | 31/250 [00:18<02:05,  1.74it/s]\u001b[A"
          ]
        },
        {
          "output_type": "stream",
          "name": "stdout",
          "text": [
            "class #0 : 0.05961\n",
            "class #1 : 0.00000\n",
            "class #2 : 0.00000\n",
            "class #3 : 0.00000\n",
            "class #4 : 0.00000\n",
            "class #5 : 0.00000\n",
            "class #6 : 0.00000\n",
            "\n",
            "mean_iou: 0.008516\n",
            "\n"
          ]
        },
        {
          "output_type": "stream",
          "name": "stderr",
          "text": [
            "\n",
            " 13%|█▎        | 32/250 [00:18<02:04,  1.75it/s]\u001b[A"
          ]
        },
        {
          "output_type": "stream",
          "name": "stdout",
          "text": [
            "class #0 : 0.09185\n",
            "class #1 : 0.00000\n",
            "class #2 : 0.00000\n",
            "class #3 : 0.00000\n",
            "class #4 : 0.00000\n",
            "class #5 : 0.00000\n",
            "class #6 : 0.00000\n",
            "\n",
            "mean_iou: 0.013122\n",
            "\n"
          ]
        },
        {
          "output_type": "stream",
          "name": "stderr",
          "text": [
            "\n",
            " 13%|█▎        | 33/250 [00:19<02:04,  1.75it/s]\u001b[A"
          ]
        },
        {
          "output_type": "stream",
          "name": "stdout",
          "text": [
            "class #0 : 0.02019\n",
            "class #1 : 0.00000\n",
            "class #2 : 0.00000\n",
            "class #3 : 0.00000\n",
            "class #4 : 0.00000\n",
            "class #5 : 0.00000\n",
            "class #6 : nan\n",
            "\n",
            "mean_iou: nan\n",
            "\n"
          ]
        },
        {
          "output_type": "stream",
          "name": "stderr",
          "text": [
            "\n",
            " 14%|█▎        | 34/250 [00:19<02:03,  1.75it/s]\u001b[A"
          ]
        },
        {
          "output_type": "stream",
          "name": "stdout",
          "text": [
            "class #0 : 0.09251\n",
            "class #1 : 0.00000\n",
            "class #2 : 0.00000\n",
            "class #3 : 0.00000\n",
            "class #4 : 0.00000\n",
            "class #5 : 0.00000\n",
            "class #6 : nan\n",
            "\n",
            "mean_iou: nan\n",
            "\n"
          ]
        },
        {
          "output_type": "stream",
          "name": "stderr",
          "text": [
            "\n",
            " 14%|█▍        | 35/250 [00:20<02:03,  1.75it/s]\u001b[A"
          ]
        },
        {
          "output_type": "stream",
          "name": "stdout",
          "text": [
            "class #0 : 0.08371\n",
            "class #1 : 0.00000\n",
            "class #2 : 0.00000\n",
            "class #3 : 0.00000\n",
            "class #4 : 0.00000\n",
            "class #5 : 0.00000\n",
            "class #6 : 0.00000\n",
            "\n",
            "mean_iou: 0.011959\n",
            "\n"
          ]
        },
        {
          "output_type": "stream",
          "name": "stderr",
          "text": [
            "\n",
            " 14%|█▍        | 36/250 [00:20<02:02,  1.75it/s]\u001b[A"
          ]
        },
        {
          "output_type": "stream",
          "name": "stdout",
          "text": [
            "class #0 : 0.11261\n",
            "class #1 : 0.00000\n",
            "class #2 : 0.00000\n",
            "class #3 : 0.00000\n",
            "class #4 : 0.00000\n",
            "class #5 : 0.00000\n",
            "class #6 : 0.00000\n",
            "\n",
            "mean_iou: 0.016086\n",
            "\n"
          ]
        },
        {
          "output_type": "stream",
          "name": "stderr",
          "text": [
            "\n",
            " 15%|█▍        | 37/250 [00:21<02:01,  1.75it/s]\u001b[A"
          ]
        },
        {
          "output_type": "stream",
          "name": "stdout",
          "text": [
            "class #0 : 0.03901\n",
            "class #1 : 0.00000\n",
            "class #2 : 0.00000\n",
            "class #3 : 0.00000\n",
            "class #4 : 0.00000\n",
            "class #5 : 0.00000\n",
            "class #6 : 0.00000\n",
            "\n",
            "mean_iou: 0.005573\n",
            "\n"
          ]
        },
        {
          "output_type": "stream",
          "name": "stderr",
          "text": [
            "\n",
            " 15%|█▌        | 38/250 [00:22<02:01,  1.75it/s]\u001b[A"
          ]
        },
        {
          "output_type": "stream",
          "name": "stdout",
          "text": [
            "class #0 : 0.02179\n",
            "class #1 : 0.00000\n",
            "class #2 : 0.00000\n",
            "class #3 : 0.00000\n",
            "class #4 : 0.00000\n",
            "class #5 : 0.00000\n",
            "class #6 : nan\n",
            "\n",
            "mean_iou: nan\n",
            "\n"
          ]
        },
        {
          "output_type": "stream",
          "name": "stderr",
          "text": [
            "\n",
            " 16%|█▌        | 39/250 [00:22<02:00,  1.75it/s]\u001b[A"
          ]
        },
        {
          "output_type": "stream",
          "name": "stdout",
          "text": [
            "class #0 : 0.14449\n",
            "class #1 : 0.00000\n",
            "class #2 : 0.00000\n",
            "class #3 : nan\n",
            "class #4 : 0.00000\n",
            "class #5 : 0.00000\n",
            "class #6 : 0.00000\n",
            "\n",
            "mean_iou: nan\n",
            "\n"
          ]
        },
        {
          "output_type": "stream",
          "name": "stderr",
          "text": [
            "\n",
            " 16%|█▌        | 40/250 [00:23<02:00,  1.75it/s]\u001b[A"
          ]
        },
        {
          "output_type": "stream",
          "name": "stdout",
          "text": [
            "class #0 : 0.10216\n",
            "class #1 : 0.00000\n",
            "class #2 : 0.00000\n",
            "class #3 : 0.00000\n",
            "class #4 : 0.00000\n",
            "class #5 : 0.00000\n",
            "class #6 : nan\n",
            "\n",
            "mean_iou: nan\n",
            "\n"
          ]
        },
        {
          "output_type": "stream",
          "name": "stderr",
          "text": [
            "\n",
            " 16%|█▋        | 41/250 [00:23<01:59,  1.75it/s]\u001b[A"
          ]
        },
        {
          "output_type": "stream",
          "name": "stdout",
          "text": [
            "class #0 : 0.14848\n",
            "class #1 : 0.00000\n",
            "class #2 : 0.00000\n",
            "class #3 : 0.00000\n",
            "class #4 : 0.00000\n",
            "class #5 : 0.00000\n",
            "class #6 : nan\n",
            "\n",
            "mean_iou: nan\n",
            "\n"
          ]
        },
        {
          "output_type": "stream",
          "name": "stderr",
          "text": [
            "\n",
            " 17%|█▋        | 42/250 [00:24<01:59,  1.75it/s]\u001b[A"
          ]
        },
        {
          "output_type": "stream",
          "name": "stdout",
          "text": [
            "class #0 : 0.06228\n",
            "class #1 : 0.00000\n",
            "class #2 : 0.00000\n",
            "class #3 : nan\n",
            "class #4 : 0.00000\n",
            "class #5 : 0.00000\n",
            "class #6 : nan\n",
            "\n",
            "mean_iou: nan\n",
            "\n"
          ]
        },
        {
          "output_type": "stream",
          "name": "stderr",
          "text": [
            "\n",
            " 17%|█▋        | 43/250 [00:24<01:58,  1.75it/s]\u001b[A"
          ]
        },
        {
          "output_type": "stream",
          "name": "stdout",
          "text": [
            "class #0 : 0.03315\n",
            "class #1 : 0.00000\n",
            "class #2 : 0.00000\n",
            "class #3 : 0.00000\n",
            "class #4 : 0.00000\n",
            "class #5 : 0.00000\n",
            "class #6 : nan\n",
            "\n",
            "mean_iou: nan\n",
            "\n"
          ]
        },
        {
          "output_type": "stream",
          "name": "stderr",
          "text": [
            "\n",
            " 18%|█▊        | 44/250 [00:25<01:57,  1.75it/s]\u001b[A"
          ]
        },
        {
          "output_type": "stream",
          "name": "stdout",
          "text": [
            "class #0 : 0.21593\n",
            "class #1 : 0.00000\n",
            "class #2 : 0.00000\n",
            "class #3 : 0.00000\n",
            "class #4 : 0.00000\n",
            "class #5 : 0.00000\n",
            "class #6 : 0.00000\n",
            "\n",
            "mean_iou: 0.030847\n",
            "\n"
          ]
        },
        {
          "output_type": "stream",
          "name": "stderr",
          "text": [
            "\n",
            " 18%|█▊        | 45/250 [00:26<01:57,  1.75it/s]\u001b[A"
          ]
        },
        {
          "output_type": "stream",
          "name": "stdout",
          "text": [
            "class #0 : 0.20733\n",
            "class #1 : 0.00000\n",
            "class #2 : 0.00000\n",
            "class #3 : 0.00000\n",
            "class #4 : 0.00000\n",
            "class #5 : 0.00000\n",
            "class #6 : 0.00000\n",
            "\n",
            "mean_iou: 0.029618\n",
            "\n"
          ]
        },
        {
          "output_type": "stream",
          "name": "stderr",
          "text": [
            "\n",
            " 18%|█▊        | 46/250 [00:26<01:56,  1.74it/s]\u001b[A"
          ]
        },
        {
          "output_type": "stream",
          "name": "stdout",
          "text": [
            "class #0 : 0.01246\n",
            "class #1 : 0.00000\n",
            "class #2 : 0.00000\n",
            "class #3 : 0.00000\n",
            "class #4 : 0.00000\n",
            "class #5 : 0.00000\n",
            "class #6 : nan\n",
            "\n",
            "mean_iou: nan\n",
            "\n"
          ]
        },
        {
          "output_type": "stream",
          "name": "stderr",
          "text": [
            "\n",
            " 19%|█▉        | 47/250 [00:27<01:56,  1.74it/s]\u001b[A"
          ]
        },
        {
          "output_type": "stream",
          "name": "stdout",
          "text": [
            "class #0 : 0.12687\n",
            "class #1 : 0.00000\n",
            "class #2 : 0.00000\n",
            "class #3 : 0.00000\n",
            "class #4 : 0.00000\n",
            "class #5 : 0.00000\n",
            "class #6 : 0.00000\n",
            "\n",
            "mean_iou: 0.018124\n",
            "\n"
          ]
        },
        {
          "output_type": "stream",
          "name": "stderr",
          "text": [
            "\n",
            " 19%|█▉        | 48/250 [00:27<01:55,  1.74it/s]\u001b[A"
          ]
        },
        {
          "output_type": "stream",
          "name": "stdout",
          "text": [
            "class #0 : 0.06991\n",
            "class #1 : 0.00000\n",
            "class #2 : 0.00000\n",
            "class #3 : 0.00000\n",
            "class #4 : 0.00000\n",
            "class #5 : 0.00000\n",
            "class #6 : nan\n",
            "\n",
            "mean_iou: nan\n",
            "\n"
          ]
        },
        {
          "output_type": "stream",
          "name": "stderr",
          "text": [
            "\n",
            " 20%|█▉        | 49/250 [00:28<01:55,  1.74it/s]\u001b[A"
          ]
        },
        {
          "output_type": "stream",
          "name": "stdout",
          "text": [
            "class #0 : 0.01444\n",
            "class #1 : 0.00000\n",
            "class #2 : 0.00000\n",
            "class #3 : 0.00000\n",
            "class #4 : 0.00000\n",
            "class #5 : 0.00000\n",
            "class #6 : nan\n",
            "\n",
            "mean_iou: nan\n",
            "\n"
          ]
        },
        {
          "output_type": "stream",
          "name": "stderr",
          "text": [
            "\n",
            " 20%|██        | 50/250 [00:28<01:54,  1.74it/s]\u001b[A"
          ]
        },
        {
          "output_type": "stream",
          "name": "stdout",
          "text": [
            "class #0 : 0.02316\n",
            "class #1 : 0.00000\n",
            "class #2 : 0.00000\n",
            "class #3 : 0.00000\n",
            "class #4 : 0.00000\n",
            "class #5 : 0.00000\n",
            "class #6 : 0.00000\n",
            "\n",
            "mean_iou: 0.003309\n",
            "\n"
          ]
        },
        {
          "output_type": "stream",
          "name": "stderr",
          "text": [
            "\n",
            " 20%|██        | 51/250 [00:29<01:54,  1.74it/s]\u001b[A"
          ]
        },
        {
          "output_type": "stream",
          "name": "stdout",
          "text": [
            "class #0 : 0.13723\n",
            "class #1 : 0.00000\n",
            "class #2 : 0.00000\n",
            "class #3 : 0.00000\n",
            "class #4 : 0.00000\n",
            "class #5 : 0.00000\n",
            "class #6 : nan\n",
            "\n",
            "mean_iou: nan\n",
            "\n"
          ]
        },
        {
          "output_type": "stream",
          "name": "stderr",
          "text": [
            "\n",
            " 21%|██        | 52/250 [00:30<01:53,  1.74it/s]\u001b[A"
          ]
        },
        {
          "output_type": "stream",
          "name": "stdout",
          "text": [
            "class #0 : 0.14112\n",
            "class #1 : 0.00000\n",
            "class #2 : 0.00000\n",
            "class #3 : nan\n",
            "class #4 : 0.00000\n",
            "class #5 : 0.00000\n",
            "class #6 : nan\n",
            "\n",
            "mean_iou: nan\n",
            "\n"
          ]
        },
        {
          "output_type": "stream",
          "name": "stderr",
          "text": [
            "\n",
            " 21%|██        | 53/250 [00:30<01:53,  1.74it/s]\u001b[A"
          ]
        },
        {
          "output_type": "stream",
          "name": "stdout",
          "text": [
            "class #0 : 0.03797\n",
            "class #1 : 0.00000\n",
            "class #2 : 0.00000\n",
            "class #3 : 0.00000\n",
            "class #4 : 0.00000\n",
            "class #5 : 0.00000\n",
            "class #6 : nan\n",
            "\n",
            "mean_iou: nan\n",
            "\n"
          ]
        },
        {
          "output_type": "stream",
          "name": "stderr",
          "text": [
            "\n",
            " 22%|██▏       | 54/250 [00:31<01:52,  1.74it/s]\u001b[A"
          ]
        },
        {
          "output_type": "stream",
          "name": "stdout",
          "text": [
            "class #0 : 0.24880\n",
            "class #1 : 0.00000\n",
            "class #2 : 0.00000\n",
            "class #3 : 0.00000\n",
            "class #4 : 0.00000\n",
            "class #5 : 0.00000\n",
            "class #6 : nan\n",
            "\n",
            "mean_iou: nan\n",
            "\n"
          ]
        },
        {
          "output_type": "stream",
          "name": "stderr",
          "text": [
            "\n",
            " 22%|██▏       | 55/250 [00:31<01:52,  1.74it/s]\u001b[A"
          ]
        },
        {
          "output_type": "stream",
          "name": "stdout",
          "text": [
            "class #0 : 0.05723\n",
            "class #1 : 0.00000\n",
            "class #2 : 0.00000\n",
            "class #3 : 0.00000\n",
            "class #4 : 0.00000\n",
            "class #5 : 0.00000\n",
            "class #6 : nan\n",
            "\n",
            "mean_iou: nan\n",
            "\n"
          ]
        },
        {
          "output_type": "stream",
          "name": "stderr",
          "text": [
            "\n",
            " 22%|██▏       | 56/250 [00:32<01:51,  1.74it/s]\u001b[A"
          ]
        },
        {
          "output_type": "stream",
          "name": "stdout",
          "text": [
            "class #0 : 0.07241\n",
            "class #1 : 0.00000\n",
            "class #2 : 0.00000\n",
            "class #3 : nan\n",
            "class #4 : 0.00000\n",
            "class #5 : 0.00000\n",
            "class #6 : nan\n",
            "\n",
            "mean_iou: nan\n",
            "\n"
          ]
        },
        {
          "output_type": "stream",
          "name": "stderr",
          "text": [
            "\n",
            " 23%|██▎       | 57/250 [00:32<01:51,  1.74it/s]\u001b[A"
          ]
        },
        {
          "output_type": "stream",
          "name": "stdout",
          "text": [
            "class #0 : 0.04299\n",
            "class #1 : 0.00000\n",
            "class #2 : 0.00000\n",
            "class #3 : 0.00000\n",
            "class #4 : 0.00000\n",
            "class #5 : 0.00000\n",
            "class #6 : nan\n",
            "\n",
            "mean_iou: nan\n",
            "\n"
          ]
        },
        {
          "output_type": "stream",
          "name": "stderr",
          "text": [
            "\n",
            " 23%|██▎       | 58/250 [00:33<01:50,  1.74it/s]\u001b[A"
          ]
        },
        {
          "output_type": "stream",
          "name": "stdout",
          "text": [
            "class #0 : 0.22356\n",
            "class #1 : 0.00000\n",
            "class #2 : 0.00000\n",
            "class #3 : 0.00000\n",
            "class #4 : 0.00000\n",
            "class #5 : 0.00000\n",
            "class #6 : 0.00000\n",
            "\n",
            "mean_iou: 0.031938\n",
            "\n"
          ]
        },
        {
          "output_type": "stream",
          "name": "stderr",
          "text": [
            "\n",
            " 24%|██▎       | 59/250 [00:34<01:49,  1.74it/s]\u001b[A"
          ]
        },
        {
          "output_type": "stream",
          "name": "stdout",
          "text": [
            "class #0 : 0.12196\n",
            "class #1 : 0.00000\n",
            "class #2 : 0.00000\n",
            "class #3 : 0.00000\n",
            "class #4 : 0.00000\n",
            "class #5 : 0.00000\n",
            "class #6 : nan\n",
            "\n",
            "mean_iou: nan\n",
            "\n"
          ]
        },
        {
          "output_type": "stream",
          "name": "stderr",
          "text": [
            "\n",
            " 24%|██▍       | 60/250 [00:34<01:48,  1.74it/s]\u001b[A"
          ]
        },
        {
          "output_type": "stream",
          "name": "stdout",
          "text": [
            "class #0 : 0.05356\n",
            "class #1 : 0.00000\n",
            "class #2 : 0.00000\n",
            "class #3 : 0.00000\n",
            "class #4 : 0.00000\n",
            "class #5 : 0.00000\n",
            "class #6 : nan\n",
            "\n",
            "mean_iou: nan\n",
            "\n"
          ]
        },
        {
          "output_type": "stream",
          "name": "stderr",
          "text": [
            "\n",
            " 24%|██▍       | 61/250 [00:35<01:48,  1.74it/s]\u001b[A"
          ]
        },
        {
          "output_type": "stream",
          "name": "stdout",
          "text": [
            "class #0 : 0.11914\n",
            "class #1 : 0.00000\n",
            "class #2 : 0.00000\n",
            "class #3 : 0.00000\n",
            "class #4 : 0.00000\n",
            "class #5 : 0.00000\n",
            "class #6 : nan\n",
            "\n",
            "mean_iou: nan\n",
            "\n"
          ]
        },
        {
          "output_type": "stream",
          "name": "stderr",
          "text": [
            "\n",
            " 25%|██▍       | 62/250 [00:35<01:47,  1.75it/s]\u001b[A"
          ]
        },
        {
          "output_type": "stream",
          "name": "stdout",
          "text": [
            "class #0 : 0.00239\n",
            "class #1 : 0.00000\n",
            "class #2 : 0.00000\n",
            "class #3 : 0.00000\n",
            "class #4 : 0.00000\n",
            "class #5 : 0.00000\n",
            "class #6 : nan\n",
            "\n",
            "mean_iou: nan\n",
            "\n"
          ]
        },
        {
          "output_type": "stream",
          "name": "stderr",
          "text": [
            "\n",
            " 25%|██▌       | 63/250 [00:36<01:47,  1.74it/s]\u001b[A"
          ]
        },
        {
          "output_type": "stream",
          "name": "stdout",
          "text": [
            "class #0 : 0.28585\n",
            "class #1 : 0.00000\n",
            "class #2 : 0.00000\n",
            "class #3 : 0.00000\n",
            "class #4 : 0.00000\n",
            "class #5 : 0.00000\n",
            "class #6 : nan\n",
            "\n",
            "mean_iou: nan\n",
            "\n"
          ]
        },
        {
          "output_type": "stream",
          "name": "stderr",
          "text": [
            "\n",
            " 26%|██▌       | 64/250 [00:36<01:46,  1.75it/s]\u001b[A"
          ]
        },
        {
          "output_type": "stream",
          "name": "stdout",
          "text": [
            "class #0 : 0.11608\n",
            "class #1 : 0.00000\n",
            "class #2 : 0.00000\n",
            "class #3 : 0.00000\n",
            "class #4 : 0.00000\n",
            "class #5 : 0.00000\n",
            "class #6 : nan\n",
            "\n",
            "mean_iou: nan\n",
            "\n"
          ]
        },
        {
          "output_type": "stream",
          "name": "stderr",
          "text": [
            "\n",
            " 26%|██▌       | 65/250 [00:37<01:45,  1.75it/s]\u001b[A"
          ]
        },
        {
          "output_type": "stream",
          "name": "stdout",
          "text": [
            "class #0 : 0.03185\n",
            "class #1 : 0.00000\n",
            "class #2 : 0.00000\n",
            "class #3 : 0.00000\n",
            "class #4 : 0.00000\n",
            "class #5 : 0.00000\n",
            "class #6 : nan\n",
            "\n",
            "mean_iou: nan\n",
            "\n"
          ]
        },
        {
          "output_type": "stream",
          "name": "stderr",
          "text": [
            "\n",
            " 26%|██▋       | 66/250 [00:38<01:45,  1.74it/s]\u001b[A"
          ]
        },
        {
          "output_type": "stream",
          "name": "stdout",
          "text": [
            "class #0 : 0.06254\n",
            "class #1 : 0.00000\n",
            "class #2 : 0.00000\n",
            "class #3 : 0.00000\n",
            "class #4 : 0.00000\n",
            "class #5 : 0.00000\n",
            "class #6 : 0.00000\n",
            "\n",
            "mean_iou: 0.008934\n",
            "\n"
          ]
        },
        {
          "output_type": "stream",
          "name": "stderr",
          "text": [
            "\n",
            " 27%|██▋       | 67/250 [00:38<01:45,  1.74it/s]\u001b[A"
          ]
        },
        {
          "output_type": "stream",
          "name": "stdout",
          "text": [
            "class #0 : 0.12370\n",
            "class #1 : 0.00000\n",
            "class #2 : 0.00000\n",
            "class #3 : nan\n",
            "class #4 : 0.00000\n",
            "class #5 : 0.00000\n",
            "class #6 : nan\n",
            "\n",
            "mean_iou: nan\n",
            "\n"
          ]
        },
        {
          "output_type": "stream",
          "name": "stderr",
          "text": [
            "\n",
            " 27%|██▋       | 68/250 [00:39<01:44,  1.75it/s]\u001b[A"
          ]
        },
        {
          "output_type": "stream",
          "name": "stdout",
          "text": [
            "class #0 : 0.12584\n",
            "class #1 : 0.00000\n",
            "class #2 : 0.00000\n",
            "class #3 : 0.00000\n",
            "class #4 : 0.00000\n",
            "class #5 : 0.00000\n",
            "class #6 : 0.00000\n",
            "\n",
            "mean_iou: 0.017977\n",
            "\n"
          ]
        },
        {
          "output_type": "stream",
          "name": "stderr",
          "text": [
            "\n",
            " 28%|██▊       | 69/250 [00:39<01:43,  1.74it/s]\u001b[A"
          ]
        },
        {
          "output_type": "stream",
          "name": "stdout",
          "text": [
            "class #0 : 0.04426\n",
            "class #1 : 0.00000\n",
            "class #2 : 0.00000\n",
            "class #3 : 0.00000\n",
            "class #4 : 0.00000\n",
            "class #5 : 0.00000\n",
            "class #6 : 0.00000\n",
            "\n",
            "mean_iou: 0.006322\n",
            "\n"
          ]
        },
        {
          "output_type": "stream",
          "name": "stderr",
          "text": [
            "\n",
            " 28%|██▊       | 70/250 [00:40<01:43,  1.74it/s]\u001b[A"
          ]
        },
        {
          "output_type": "stream",
          "name": "stdout",
          "text": [
            "class #0 : 0.15761\n",
            "class #1 : 0.00000\n",
            "class #2 : 0.00000\n",
            "class #3 : 0.00000\n",
            "class #4 : 0.00000\n",
            "class #5 : 0.00000\n",
            "class #6 : 0.00000\n",
            "\n",
            "mean_iou: 0.022515\n",
            "\n"
          ]
        },
        {
          "output_type": "stream",
          "name": "stderr",
          "text": [
            "\n",
            " 28%|██▊       | 71/250 [00:41<01:42,  1.74it/s]\u001b[A"
          ]
        },
        {
          "output_type": "stream",
          "name": "stdout",
          "text": [
            "class #0 : 0.17836\n",
            "class #1 : 0.00000\n",
            "class #2 : 0.00000\n",
            "class #3 : 0.00000\n",
            "class #4 : 0.00000\n",
            "class #5 : 0.00000\n",
            "class #6 : nan\n",
            "\n",
            "mean_iou: nan\n",
            "\n"
          ]
        },
        {
          "output_type": "stream",
          "name": "stderr",
          "text": [
            "\n",
            " 29%|██▉       | 72/250 [00:41<01:42,  1.73it/s]\u001b[A"
          ]
        },
        {
          "output_type": "stream",
          "name": "stdout",
          "text": [
            "class #0 : 0.13314\n",
            "class #1 : 0.00000\n",
            "class #2 : 0.00000\n",
            "class #3 : 0.00000\n",
            "class #4 : 0.00000\n",
            "class #5 : 0.00000\n",
            "class #6 : 0.00000\n",
            "\n",
            "mean_iou: 0.019020\n",
            "\n"
          ]
        },
        {
          "output_type": "stream",
          "name": "stderr",
          "text": [
            "\n",
            " 29%|██▉       | 73/250 [00:42<01:41,  1.74it/s]\u001b[A"
          ]
        },
        {
          "output_type": "stream",
          "name": "stdout",
          "text": [
            "class #0 : 0.12090\n",
            "class #1 : 0.00000\n",
            "class #2 : 0.00000\n",
            "class #3 : 0.00000\n",
            "class #4 : 0.00000\n",
            "class #5 : 0.00000\n",
            "class #6 : 0.00000\n",
            "\n",
            "mean_iou: 0.017271\n",
            "\n"
          ]
        },
        {
          "output_type": "stream",
          "name": "stderr",
          "text": [
            "\n",
            " 30%|██▉       | 74/250 [00:42<01:41,  1.74it/s]\u001b[A"
          ]
        },
        {
          "output_type": "stream",
          "name": "stdout",
          "text": [
            "class #0 : 0.05014\n",
            "class #1 : 0.00000\n",
            "class #2 : 0.00000\n",
            "class #3 : 0.00000\n",
            "class #4 : 0.00000\n",
            "class #5 : 0.00000\n",
            "class #6 : nan\n",
            "\n",
            "mean_iou: nan\n",
            "\n"
          ]
        },
        {
          "output_type": "stream",
          "name": "stderr",
          "text": [
            "\n",
            " 30%|███       | 75/250 [00:43<01:40,  1.73it/s]\u001b[A"
          ]
        },
        {
          "output_type": "stream",
          "name": "stdout",
          "text": [
            "class #0 : 0.08539\n",
            "class #1 : 0.00000\n",
            "class #2 : 0.00000\n",
            "class #3 : 0.00000\n",
            "class #4 : 0.00000\n",
            "class #5 : 0.00000\n",
            "class #6 : nan\n",
            "\n",
            "mean_iou: nan\n",
            "\n"
          ]
        },
        {
          "output_type": "stream",
          "name": "stderr",
          "text": [
            "\n",
            " 30%|███       | 76/250 [00:43<01:40,  1.74it/s]\u001b[A"
          ]
        },
        {
          "output_type": "stream",
          "name": "stdout",
          "text": [
            "class #0 : 0.13531\n",
            "class #1 : 0.00000\n",
            "class #2 : 0.00000\n",
            "class #3 : nan\n",
            "class #4 : 0.00000\n",
            "class #5 : 0.00000\n",
            "class #6 : nan\n",
            "\n",
            "mean_iou: nan\n",
            "\n"
          ]
        },
        {
          "output_type": "stream",
          "name": "stderr",
          "text": [
            "\n",
            " 31%|███       | 77/250 [00:44<01:39,  1.74it/s]\u001b[A"
          ]
        },
        {
          "output_type": "stream",
          "name": "stdout",
          "text": [
            "class #0 : 0.10109\n",
            "class #1 : 0.00000\n",
            "class #2 : 0.00000\n",
            "class #3 : 0.00000\n",
            "class #4 : 0.00000\n",
            "class #5 : 0.00000\n",
            "class #6 : nan\n",
            "\n",
            "mean_iou: nan\n",
            "\n"
          ]
        },
        {
          "output_type": "stream",
          "name": "stderr",
          "text": [
            "\n",
            " 31%|███       | 78/250 [00:45<01:38,  1.74it/s]\u001b[A"
          ]
        },
        {
          "output_type": "stream",
          "name": "stdout",
          "text": [
            "class #0 : 0.22136\n",
            "class #1 : 0.00000\n",
            "class #2 : 0.00000\n",
            "class #3 : 0.00000\n",
            "class #4 : 0.00000\n",
            "class #5 : 0.00000\n",
            "class #6 : nan\n",
            "\n",
            "mean_iou: nan\n",
            "\n"
          ]
        },
        {
          "output_type": "stream",
          "name": "stderr",
          "text": [
            "\n",
            " 32%|███▏      | 79/250 [00:45<01:38,  1.74it/s]\u001b[A"
          ]
        },
        {
          "output_type": "stream",
          "name": "stdout",
          "text": [
            "class #0 : 0.12167\n",
            "class #1 : 0.00000\n",
            "class #2 : 0.00000\n",
            "class #3 : 0.00000\n",
            "class #4 : 0.00000\n",
            "class #5 : 0.00000\n",
            "class #6 : nan\n",
            "\n",
            "mean_iou: nan\n",
            "\n"
          ]
        },
        {
          "output_type": "stream",
          "name": "stderr",
          "text": [
            "\n",
            " 32%|███▏      | 80/250 [00:46<01:37,  1.75it/s]\u001b[A"
          ]
        },
        {
          "output_type": "stream",
          "name": "stdout",
          "text": [
            "class #0 : 0.04423\n",
            "class #1 : 0.00000\n",
            "class #2 : 0.00000\n",
            "class #3 : 0.00000\n",
            "class #4 : 0.00000\n",
            "class #5 : 0.00000\n",
            "class #6 : nan\n",
            "\n",
            "mean_iou: nan\n",
            "\n"
          ]
        },
        {
          "output_type": "stream",
          "name": "stderr",
          "text": [
            "\n",
            " 32%|███▏      | 81/250 [00:46<01:36,  1.75it/s]\u001b[A"
          ]
        },
        {
          "output_type": "stream",
          "name": "stdout",
          "text": [
            "class #0 : 0.11585\n",
            "class #1 : 0.00000\n",
            "class #2 : 0.00000\n",
            "class #3 : 0.00000\n",
            "class #4 : 0.00000\n",
            "class #5 : 0.00000\n",
            "class #6 : nan\n",
            "\n",
            "mean_iou: nan\n",
            "\n"
          ]
        },
        {
          "output_type": "stream",
          "name": "stderr",
          "text": [
            "\n",
            " 33%|███▎      | 82/250 [00:47<01:36,  1.75it/s]\u001b[A"
          ]
        },
        {
          "output_type": "stream",
          "name": "stdout",
          "text": [
            "class #0 : 0.14763\n",
            "class #1 : 0.00000\n",
            "class #2 : 0.00000\n",
            "class #3 : 0.00000\n",
            "class #4 : 0.00000\n",
            "class #5 : 0.00000\n",
            "class #6 : 0.00000\n",
            "\n",
            "mean_iou: 0.021090\n",
            "\n"
          ]
        },
        {
          "output_type": "stream",
          "name": "stderr",
          "text": [
            "\n",
            " 33%|███▎      | 83/250 [00:47<01:35,  1.75it/s]\u001b[A"
          ]
        },
        {
          "output_type": "stream",
          "name": "stdout",
          "text": [
            "class #0 : 0.02517\n",
            "class #1 : 0.00000\n",
            "class #2 : 0.00000\n",
            "class #3 : 0.00000\n",
            "class #4 : 0.00000\n",
            "class #5 : 0.00000\n",
            "class #6 : nan\n",
            "\n",
            "mean_iou: nan\n",
            "\n"
          ]
        },
        {
          "output_type": "stream",
          "name": "stderr",
          "text": [
            "\n",
            " 34%|███▎      | 84/250 [00:48<01:35,  1.75it/s]\u001b[A"
          ]
        },
        {
          "output_type": "stream",
          "name": "stdout",
          "text": [
            "class #0 : 0.14405\n",
            "class #1 : 0.00000\n",
            "class #2 : 0.00000\n",
            "class #3 : 0.00000\n",
            "class #4 : 0.00000\n",
            "class #5 : 0.00000\n",
            "class #6 : nan\n",
            "\n",
            "mean_iou: nan\n",
            "\n"
          ]
        },
        {
          "output_type": "stream",
          "name": "stderr",
          "text": [
            "\n",
            " 34%|███▍      | 85/250 [00:49<01:34,  1.75it/s]\u001b[A"
          ]
        },
        {
          "output_type": "stream",
          "name": "stdout",
          "text": [
            "class #0 : 0.05289\n",
            "class #1 : 0.00000\n",
            "class #2 : 0.00000\n",
            "class #3 : nan\n",
            "class #4 : 0.00000\n",
            "class #5 : 0.00000\n",
            "class #6 : nan\n",
            "\n",
            "mean_iou: nan\n",
            "\n"
          ]
        },
        {
          "output_type": "stream",
          "name": "stderr",
          "text": [
            "\n",
            " 34%|███▍      | 86/250 [00:49<01:33,  1.75it/s]\u001b[A"
          ]
        },
        {
          "output_type": "stream",
          "name": "stdout",
          "text": [
            "class #0 : 0.03858\n",
            "class #1 : 0.00000\n",
            "class #2 : 0.00000\n",
            "class #3 : 0.00000\n",
            "class #4 : 0.00000\n",
            "class #5 : 0.00000\n",
            "class #6 : nan\n",
            "\n",
            "mean_iou: nan\n",
            "\n"
          ]
        },
        {
          "output_type": "stream",
          "name": "stderr",
          "text": [
            "\n",
            " 35%|███▍      | 87/250 [00:50<01:33,  1.74it/s]\u001b[A"
          ]
        },
        {
          "output_type": "stream",
          "name": "stdout",
          "text": [
            "class #0 : 0.05303\n",
            "class #1 : 0.00000\n",
            "class #2 : 0.00000\n",
            "class #3 : nan\n",
            "class #4 : 0.00000\n",
            "class #5 : 0.00000\n",
            "class #6 : nan\n",
            "\n",
            "mean_iou: nan\n",
            "\n"
          ]
        },
        {
          "output_type": "stream",
          "name": "stderr",
          "text": [
            "\n",
            " 35%|███▌      | 88/250 [00:50<01:32,  1.75it/s]\u001b[A"
          ]
        },
        {
          "output_type": "stream",
          "name": "stdout",
          "text": [
            "class #0 : 0.12532\n",
            "class #1 : 0.00000\n",
            "class #2 : 0.00000\n",
            "class #3 : 0.00000\n",
            "class #4 : 0.00000\n",
            "class #5 : 0.00000\n",
            "class #6 : 0.00000\n",
            "\n",
            "mean_iou: 0.017903\n",
            "\n"
          ]
        },
        {
          "output_type": "stream",
          "name": "stderr",
          "text": [
            "\n",
            " 36%|███▌      | 89/250 [00:51<01:32,  1.75it/s]\u001b[A"
          ]
        },
        {
          "output_type": "stream",
          "name": "stdout",
          "text": [
            "class #0 : 0.04358\n",
            "class #1 : 0.00000\n",
            "class #2 : 0.00000\n",
            "class #3 : 0.00000\n",
            "class #4 : 0.00000\n",
            "class #5 : 0.00000\n",
            "class #6 : 0.00000\n",
            "\n",
            "mean_iou: 0.006226\n",
            "\n"
          ]
        },
        {
          "output_type": "stream",
          "name": "stderr",
          "text": [
            "\n",
            " 36%|███▌      | 90/250 [00:51<01:31,  1.74it/s]\u001b[A"
          ]
        },
        {
          "output_type": "stream",
          "name": "stdout",
          "text": [
            "class #0 : 0.06996\n",
            "class #1 : 0.00000\n",
            "class #2 : 0.00000\n",
            "class #3 : 0.00000\n",
            "class #4 : 0.00000\n",
            "class #5 : 0.00000\n",
            "class #6 : nan\n",
            "\n",
            "mean_iou: nan\n",
            "\n"
          ]
        },
        {
          "output_type": "stream",
          "name": "stderr",
          "text": [
            "\n",
            " 36%|███▋      | 91/250 [00:52<01:31,  1.74it/s]\u001b[A"
          ]
        },
        {
          "output_type": "stream",
          "name": "stdout",
          "text": [
            "class #0 : 0.01015\n",
            "class #1 : 0.00000\n",
            "class #2 : 0.00000\n",
            "class #3 : 0.00000\n",
            "class #4 : 0.00000\n",
            "class #5 : 0.00000\n",
            "class #6 : nan\n",
            "\n",
            "mean_iou: nan\n",
            "\n"
          ]
        },
        {
          "output_type": "stream",
          "name": "stderr",
          "text": [
            "\n",
            " 37%|███▋      | 92/250 [00:53<01:31,  1.74it/s]\u001b[A"
          ]
        },
        {
          "output_type": "stream",
          "name": "stdout",
          "text": [
            "class #0 : 0.00062\n",
            "class #1 : 0.00000\n",
            "class #2 : 0.00000\n",
            "class #3 : nan\n",
            "class #4 : 0.00000\n",
            "class #5 : nan\n",
            "class #6 : nan\n",
            "\n",
            "mean_iou: nan\n",
            "\n"
          ]
        },
        {
          "output_type": "stream",
          "name": "stderr",
          "text": [
            "\n",
            " 37%|███▋      | 93/250 [00:53<01:30,  1.73it/s]\u001b[A"
          ]
        },
        {
          "output_type": "stream",
          "name": "stdout",
          "text": [
            "class #0 : 0.02959\n",
            "class #1 : 0.00000\n",
            "class #2 : 0.00000\n",
            "class #3 : 0.00000\n",
            "class #4 : 0.00000\n",
            "class #5 : nan\n",
            "class #6 : nan\n",
            "\n",
            "mean_iou: nan\n",
            "\n"
          ]
        },
        {
          "output_type": "stream",
          "name": "stderr",
          "text": [
            "\n",
            " 38%|███▊      | 94/250 [00:54<01:29,  1.73it/s]\u001b[A"
          ]
        },
        {
          "output_type": "stream",
          "name": "stdout",
          "text": [
            "class #0 : 0.03036\n",
            "class #1 : 0.00000\n",
            "class #2 : 0.00000\n",
            "class #3 : 0.00000\n",
            "class #4 : 0.00000\n",
            "class #5 : 0.00000\n",
            "class #6 : 0.00000\n",
            "\n",
            "mean_iou: 0.004337\n",
            "\n"
          ]
        },
        {
          "output_type": "stream",
          "name": "stderr",
          "text": [
            "\n",
            " 38%|███▊      | 95/250 [00:54<01:29,  1.74it/s]\u001b[A"
          ]
        },
        {
          "output_type": "stream",
          "name": "stdout",
          "text": [
            "class #0 : 0.03683\n",
            "class #1 : 0.00000\n",
            "class #2 : 0.00000\n",
            "class #3 : 0.00000\n",
            "class #4 : 0.00000\n",
            "class #5 : 0.00000\n",
            "class #6 : nan\n",
            "\n",
            "mean_iou: nan\n",
            "\n"
          ]
        },
        {
          "output_type": "stream",
          "name": "stderr",
          "text": [
            "\n",
            " 38%|███▊      | 96/250 [00:55<01:28,  1.74it/s]\u001b[A"
          ]
        },
        {
          "output_type": "stream",
          "name": "stdout",
          "text": [
            "class #0 : 0.04376\n",
            "class #1 : 0.00000\n",
            "class #2 : 0.00000\n",
            "class #3 : 0.00000\n",
            "class #4 : 0.00000\n",
            "class #5 : 0.00000\n",
            "class #6 : 0.00000\n",
            "\n",
            "mean_iou: 0.006251\n",
            "\n"
          ]
        },
        {
          "output_type": "stream",
          "name": "stderr",
          "text": [
            "\n",
            " 39%|███▉      | 97/250 [00:55<01:27,  1.74it/s]\u001b[A"
          ]
        },
        {
          "output_type": "stream",
          "name": "stdout",
          "text": [
            "class #0 : 0.21726\n",
            "class #1 : 0.00000\n",
            "class #2 : 0.00000\n",
            "class #3 : 0.00000\n",
            "class #4 : 0.00000\n",
            "class #5 : 0.00000\n",
            "class #6 : nan\n",
            "\n",
            "mean_iou: nan\n",
            "\n"
          ]
        },
        {
          "output_type": "stream",
          "name": "stderr",
          "text": [
            "\n",
            " 39%|███▉      | 98/250 [00:56<01:27,  1.74it/s]\u001b[A"
          ]
        },
        {
          "output_type": "stream",
          "name": "stdout",
          "text": [
            "class #0 : 0.08638\n",
            "class #1 : 0.00000\n",
            "class #2 : 0.00000\n",
            "class #3 : 0.00000\n",
            "class #4 : 0.00000\n",
            "class #5 : 0.00000\n",
            "class #6 : nan\n",
            "\n",
            "mean_iou: nan\n",
            "\n"
          ]
        },
        {
          "output_type": "stream",
          "name": "stderr",
          "text": [
            "\n",
            " 40%|███▉      | 99/250 [00:57<01:26,  1.74it/s]\u001b[A"
          ]
        },
        {
          "output_type": "stream",
          "name": "stdout",
          "text": [
            "class #0 : 0.09628\n",
            "class #1 : 0.00000\n",
            "class #2 : 0.00000\n",
            "class #3 : 0.00000\n",
            "class #4 : 0.00000\n",
            "class #5 : 0.00000\n",
            "class #6 : nan\n",
            "\n",
            "mean_iou: nan\n",
            "\n"
          ]
        },
        {
          "output_type": "stream",
          "name": "stderr",
          "text": [
            "\n",
            " 40%|████      | 100/250 [00:57<01:25,  1.74it/s]\u001b[A"
          ]
        },
        {
          "output_type": "stream",
          "name": "stdout",
          "text": [
            "class #0 : 0.11922\n",
            "class #1 : 0.00000\n",
            "class #2 : 0.00000\n",
            "class #3 : 0.00000\n",
            "class #4 : 0.00000\n",
            "class #5 : 0.00000\n",
            "class #6 : 0.00000\n",
            "\n",
            "mean_iou: 0.017031\n",
            "\n"
          ]
        },
        {
          "output_type": "stream",
          "name": "stderr",
          "text": [
            "\n",
            " 40%|████      | 101/250 [00:58<01:25,  1.74it/s]\u001b[A"
          ]
        },
        {
          "output_type": "stream",
          "name": "stdout",
          "text": [
            "class #0 : 0.06841\n",
            "class #1 : 0.00000\n",
            "class #2 : 0.00000\n",
            "class #3 : 0.00000\n",
            "class #4 : 0.00000\n",
            "class #5 : 0.00000\n",
            "class #6 : nan\n",
            "\n",
            "mean_iou: nan\n",
            "\n"
          ]
        },
        {
          "output_type": "stream",
          "name": "stderr",
          "text": [
            "\n",
            " 41%|████      | 102/250 [00:58<01:24,  1.74it/s]\u001b[A"
          ]
        },
        {
          "output_type": "stream",
          "name": "stdout",
          "text": [
            "class #0 : 0.00012\n",
            "class #1 : 0.00000\n",
            "class #2 : 0.00000\n",
            "class #3 : 0.00000\n",
            "class #4 : 0.00000\n",
            "class #5 : 0.00000\n",
            "class #6 : nan\n",
            "\n",
            "mean_iou: nan\n",
            "\n"
          ]
        },
        {
          "output_type": "stream",
          "name": "stderr",
          "text": [
            "\n",
            " 41%|████      | 103/250 [00:59<01:24,  1.74it/s]\u001b[A"
          ]
        },
        {
          "output_type": "stream",
          "name": "stdout",
          "text": [
            "class #0 : 0.00824\n",
            "class #1 : 0.00000\n",
            "class #2 : 0.00000\n",
            "class #3 : 0.00000\n",
            "class #4 : 0.00000\n",
            "class #5 : 0.00000\n",
            "class #6 : nan\n",
            "\n",
            "mean_iou: nan\n",
            "\n"
          ]
        },
        {
          "output_type": "stream",
          "name": "stderr",
          "text": [
            "\n",
            " 42%|████▏     | 104/250 [00:59<01:23,  1.74it/s]\u001b[A"
          ]
        },
        {
          "output_type": "stream",
          "name": "stdout",
          "text": [
            "class #0 : 0.30080\n",
            "class #1 : 0.00000\n",
            "class #2 : 0.00000\n",
            "class #3 : 0.00000\n",
            "class #4 : 0.00000\n",
            "class #5 : 0.00000\n",
            "class #6 : nan\n",
            "\n",
            "mean_iou: nan\n",
            "\n"
          ]
        },
        {
          "output_type": "stream",
          "name": "stderr",
          "text": [
            "\n",
            " 42%|████▏     | 105/250 [01:00<01:23,  1.74it/s]\u001b[A"
          ]
        },
        {
          "output_type": "stream",
          "name": "stdout",
          "text": [
            "class #0 : 0.10372\n",
            "class #1 : 0.00000\n",
            "class #2 : 0.00000\n",
            "class #3 : 0.00000\n",
            "class #4 : nan\n",
            "class #5 : 0.00000\n",
            "class #6 : nan\n",
            "\n",
            "mean_iou: nan\n",
            "\n"
          ]
        },
        {
          "output_type": "stream",
          "name": "stderr",
          "text": [
            "\n",
            " 42%|████▏     | 106/250 [01:01<01:22,  1.74it/s]\u001b[A"
          ]
        },
        {
          "output_type": "stream",
          "name": "stdout",
          "text": [
            "class #0 : 0.12773\n",
            "class #1 : 0.00000\n",
            "class #2 : 0.00000\n",
            "class #3 : 0.00000\n",
            "class #4 : 0.00000\n",
            "class #5 : 0.00000\n",
            "class #6 : nan\n",
            "\n",
            "mean_iou: nan\n",
            "\n"
          ]
        },
        {
          "output_type": "stream",
          "name": "stderr",
          "text": [
            "\n",
            " 43%|████▎     | 107/250 [01:01<01:22,  1.74it/s]\u001b[A"
          ]
        },
        {
          "output_type": "stream",
          "name": "stdout",
          "text": [
            "class #0 : 0.02381\n",
            "class #1 : 0.00000\n",
            "class #2 : 0.00000\n",
            "class #3 : 0.00000\n",
            "class #4 : 0.00000\n",
            "class #5 : 0.00000\n",
            "class #6 : nan\n",
            "\n",
            "mean_iou: nan\n",
            "\n"
          ]
        },
        {
          "output_type": "stream",
          "name": "stderr",
          "text": [
            "\n",
            " 43%|████▎     | 108/250 [01:02<01:21,  1.74it/s]\u001b[A"
          ]
        },
        {
          "output_type": "stream",
          "name": "stdout",
          "text": [
            "class #0 : 0.00943\n",
            "class #1 : 0.00000\n",
            "class #2 : 0.00000\n",
            "class #3 : 0.00000\n",
            "class #4 : 0.00000\n",
            "class #5 : 0.00000\n",
            "class #6 : nan\n",
            "\n",
            "mean_iou: nan\n",
            "\n"
          ]
        },
        {
          "output_type": "stream",
          "name": "stderr",
          "text": [
            "\n",
            " 44%|████▎     | 109/250 [01:02<01:21,  1.74it/s]\u001b[A"
          ]
        },
        {
          "output_type": "stream",
          "name": "stdout",
          "text": [
            "class #0 : 0.08603\n",
            "class #1 : 0.00000\n",
            "class #2 : 0.00000\n",
            "class #3 : 0.00000\n",
            "class #4 : 0.00000\n",
            "class #5 : 0.00000\n",
            "class #6 : nan\n",
            "\n",
            "mean_iou: nan\n",
            "\n"
          ]
        },
        {
          "output_type": "stream",
          "name": "stderr",
          "text": [
            "\n",
            " 44%|████▍     | 110/250 [01:03<01:20,  1.74it/s]\u001b[A"
          ]
        },
        {
          "output_type": "stream",
          "name": "stdout",
          "text": [
            "class #0 : 0.24919\n",
            "class #1 : 0.00000\n",
            "class #2 : 0.00000\n",
            "class #3 : nan\n",
            "class #4 : 0.00000\n",
            "class #5 : 0.00000\n",
            "class #6 : nan\n",
            "\n",
            "mean_iou: nan\n",
            "\n"
          ]
        },
        {
          "output_type": "stream",
          "name": "stderr",
          "text": [
            "\n",
            " 44%|████▍     | 111/250 [01:03<01:19,  1.74it/s]\u001b[A"
          ]
        },
        {
          "output_type": "stream",
          "name": "stdout",
          "text": [
            "class #0 : 0.06524\n",
            "class #1 : 0.00000\n",
            "class #2 : 0.00000\n",
            "class #3 : 0.00000\n",
            "class #4 : 0.00000\n",
            "class #5 : 0.00000\n",
            "class #6 : nan\n",
            "\n",
            "mean_iou: nan\n",
            "\n"
          ]
        },
        {
          "output_type": "stream",
          "name": "stderr",
          "text": [
            "\n",
            " 45%|████▍     | 112/250 [01:04<01:19,  1.74it/s]\u001b[A"
          ]
        },
        {
          "output_type": "stream",
          "name": "stdout",
          "text": [
            "class #0 : 0.00679\n",
            "class #1 : 0.00000\n",
            "class #2 : 0.00000\n",
            "class #3 : 0.00000\n",
            "class #4 : 0.00000\n",
            "class #5 : 0.00000\n",
            "class #6 : nan\n",
            "\n",
            "mean_iou: nan\n",
            "\n"
          ]
        },
        {
          "output_type": "stream",
          "name": "stderr",
          "text": [
            "\n",
            " 45%|████▌     | 113/250 [01:05<01:18,  1.75it/s]\u001b[A"
          ]
        },
        {
          "output_type": "stream",
          "name": "stdout",
          "text": [
            "class #0 : 0.08602\n",
            "class #1 : 0.00000\n",
            "class #2 : 0.00000\n",
            "class #3 : 0.00000\n",
            "class #4 : 0.00000\n",
            "class #5 : 0.00000\n",
            "class #6 : nan\n",
            "\n",
            "mean_iou: nan\n",
            "\n"
          ]
        },
        {
          "output_type": "stream",
          "name": "stderr",
          "text": [
            "\n",
            " 46%|████▌     | 114/250 [01:05<01:18,  1.74it/s]\u001b[A"
          ]
        },
        {
          "output_type": "stream",
          "name": "stdout",
          "text": [
            "class #0 : 0.02645\n",
            "class #1 : 0.00000\n",
            "class #2 : 0.00000\n",
            "class #3 : 0.00000\n",
            "class #4 : 0.00000\n",
            "class #5 : 0.00000\n",
            "class #6 : nan\n",
            "\n",
            "mean_iou: nan\n",
            "\n"
          ]
        },
        {
          "output_type": "stream",
          "name": "stderr",
          "text": [
            "\n",
            " 46%|████▌     | 115/250 [01:06<01:17,  1.74it/s]\u001b[A"
          ]
        },
        {
          "output_type": "stream",
          "name": "stdout",
          "text": [
            "class #0 : 0.29406\n",
            "class #1 : 0.00000\n",
            "class #2 : 0.00000\n",
            "class #3 : 0.00000\n",
            "class #4 : 0.00000\n",
            "class #5 : 0.00000\n",
            "class #6 : 0.00000\n",
            "\n",
            "mean_iou: 0.042008\n",
            "\n"
          ]
        },
        {
          "output_type": "stream",
          "name": "stderr",
          "text": [
            "\n",
            " 46%|████▋     | 116/250 [01:06<01:16,  1.74it/s]\u001b[A"
          ]
        },
        {
          "output_type": "stream",
          "name": "stdout",
          "text": [
            "class #0 : 0.14961\n",
            "class #1 : 0.00000\n",
            "class #2 : 0.00000\n",
            "class #3 : 0.00000\n",
            "class #4 : 0.00000\n",
            "class #5 : 0.00000\n",
            "class #6 : 0.00000\n",
            "\n",
            "mean_iou: 0.021373\n",
            "\n"
          ]
        },
        {
          "output_type": "stream",
          "name": "stderr",
          "text": [
            "\n",
            " 47%|████▋     | 117/250 [01:07<01:16,  1.74it/s]\u001b[A"
          ]
        },
        {
          "output_type": "stream",
          "name": "stdout",
          "text": [
            "class #0 : 0.13310\n",
            "class #1 : 0.00000\n",
            "class #2 : 0.00000\n",
            "class #3 : nan\n",
            "class #4 : 0.00000\n",
            "class #5 : 0.00000\n",
            "class #6 : nan\n",
            "\n",
            "mean_iou: nan\n",
            "\n"
          ]
        },
        {
          "output_type": "stream",
          "name": "stderr",
          "text": [
            "\n",
            " 47%|████▋     | 118/250 [01:07<01:15,  1.74it/s]\u001b[A"
          ]
        },
        {
          "output_type": "stream",
          "name": "stdout",
          "text": [
            "class #0 : 0.09157\n",
            "class #1 : 0.00000\n",
            "class #2 : 0.00000\n",
            "class #3 : 0.00000\n",
            "class #4 : 0.00000\n",
            "class #5 : 0.00000\n",
            "class #6 : nan\n",
            "\n",
            "mean_iou: nan\n",
            "\n"
          ]
        },
        {
          "output_type": "stream",
          "name": "stderr",
          "text": [
            "\n",
            " 48%|████▊     | 119/250 [01:08<01:15,  1.74it/s]\u001b[A"
          ]
        },
        {
          "output_type": "stream",
          "name": "stdout",
          "text": [
            "class #0 : 0.10489\n",
            "class #1 : 0.00000\n",
            "class #2 : 0.00000\n",
            "class #3 : 0.00000\n",
            "class #4 : 0.00000\n",
            "class #5 : 0.00000\n",
            "class #6 : nan\n",
            "\n",
            "mean_iou: nan\n",
            "\n"
          ]
        },
        {
          "output_type": "stream",
          "name": "stderr",
          "text": [
            "\n",
            " 48%|████▊     | 120/250 [01:09<01:14,  1.74it/s]\u001b[A"
          ]
        },
        {
          "output_type": "stream",
          "name": "stdout",
          "text": [
            "class #0 : 0.00728\n",
            "class #1 : 0.00000\n",
            "class #2 : 0.00000\n",
            "class #3 : 0.00000\n",
            "class #4 : 0.00000\n",
            "class #5 : 0.00000\n",
            "class #6 : nan\n",
            "\n",
            "mean_iou: nan\n",
            "\n"
          ]
        },
        {
          "output_type": "stream",
          "name": "stderr",
          "text": [
            "\n",
            " 48%|████▊     | 121/250 [01:09<01:14,  1.74it/s]\u001b[A"
          ]
        },
        {
          "output_type": "stream",
          "name": "stdout",
          "text": [
            "class #0 : 0.15682\n",
            "class #1 : 0.00000\n",
            "class #2 : 0.00000\n",
            "class #3 : 0.00000\n",
            "class #4 : 0.00000\n",
            "class #5 : 0.00000\n",
            "class #6 : nan\n",
            "\n",
            "mean_iou: nan\n",
            "\n"
          ]
        },
        {
          "output_type": "stream",
          "name": "stderr",
          "text": [
            "\n",
            " 49%|████▉     | 122/250 [01:10<01:13,  1.74it/s]\u001b[A"
          ]
        },
        {
          "output_type": "stream",
          "name": "stdout",
          "text": [
            "class #0 : 0.01819\n",
            "class #1 : 0.00000\n",
            "class #2 : 0.00000\n",
            "class #3 : 0.00000\n",
            "class #4 : 0.00000\n",
            "class #5 : 0.00000\n",
            "class #6 : nan\n",
            "\n",
            "mean_iou: nan\n",
            "\n"
          ]
        },
        {
          "output_type": "stream",
          "name": "stderr",
          "text": [
            "\n",
            " 49%|████▉     | 123/250 [01:10<01:13,  1.74it/s]\u001b[A"
          ]
        },
        {
          "output_type": "stream",
          "name": "stdout",
          "text": [
            "class #0 : 0.04781\n",
            "class #1 : 0.00000\n",
            "class #2 : 0.00000\n",
            "class #3 : 0.00000\n",
            "class #4 : 0.00000\n",
            "class #5 : 0.00000\n",
            "class #6 : 0.00000\n",
            "\n",
            "mean_iou: 0.006830\n",
            "\n"
          ]
        },
        {
          "output_type": "stream",
          "name": "stderr",
          "text": [
            "\n",
            " 50%|████▉     | 124/250 [01:11<01:12,  1.74it/s]\u001b[A"
          ]
        },
        {
          "output_type": "stream",
          "name": "stdout",
          "text": [
            "class #0 : 0.12020\n",
            "class #1 : 0.00000\n",
            "class #2 : 0.00000\n",
            "class #3 : 0.00000\n",
            "class #4 : 0.00000\n",
            "class #5 : 0.00000\n",
            "class #6 : 0.00000\n",
            "\n",
            "mean_iou: 0.017172\n",
            "\n"
          ]
        },
        {
          "output_type": "stream",
          "name": "stderr",
          "text": [
            "\n",
            " 50%|█████     | 125/250 [01:12<01:11,  1.74it/s]\u001b[A"
          ]
        },
        {
          "output_type": "stream",
          "name": "stdout",
          "text": [
            "class #0 : 0.07972\n",
            "class #1 : 0.00000\n",
            "class #2 : 0.00000\n",
            "class #3 : 0.00000\n",
            "class #4 : 0.00000\n",
            "class #5 : 0.00000\n",
            "class #6 : nan\n",
            "\n",
            "mean_iou: nan\n",
            "\n"
          ]
        },
        {
          "output_type": "stream",
          "name": "stderr",
          "text": [
            "\n",
            " 50%|█████     | 126/250 [01:12<01:11,  1.74it/s]\u001b[A"
          ]
        },
        {
          "output_type": "stream",
          "name": "stdout",
          "text": [
            "class #0 : 0.16115\n",
            "class #1 : 0.00000\n",
            "class #2 : 0.00000\n",
            "class #3 : 0.00000\n",
            "class #4 : 0.00000\n",
            "class #5 : 0.00000\n",
            "class #6 : nan\n",
            "\n",
            "mean_iou: nan\n",
            "\n"
          ]
        },
        {
          "output_type": "stream",
          "name": "stderr",
          "text": [
            "\n",
            " 51%|█████     | 127/250 [01:13<01:10,  1.74it/s]\u001b[A"
          ]
        },
        {
          "output_type": "stream",
          "name": "stdout",
          "text": [
            "class #0 : 0.03116\n",
            "class #1 : 0.00000\n",
            "class #2 : 0.00000\n",
            "class #3 : 0.00000\n",
            "class #4 : 0.00000\n",
            "class #5 : 0.00000\n",
            "class #6 : nan\n",
            "\n",
            "mean_iou: nan\n",
            "\n"
          ]
        },
        {
          "output_type": "stream",
          "name": "stderr",
          "text": [
            "\n",
            " 51%|█████     | 128/250 [01:13<01:10,  1.74it/s]\u001b[A"
          ]
        },
        {
          "output_type": "stream",
          "name": "stdout",
          "text": [
            "class #0 : 0.15622\n",
            "class #1 : 0.00000\n",
            "class #2 : 0.00000\n",
            "class #3 : 0.00000\n",
            "class #4 : 0.00000\n",
            "class #5 : 0.00000\n",
            "class #6 : nan\n",
            "\n",
            "mean_iou: nan\n",
            "\n"
          ]
        },
        {
          "output_type": "stream",
          "name": "stderr",
          "text": [
            "\n",
            " 52%|█████▏    | 129/250 [01:14<01:09,  1.74it/s]\u001b[A"
          ]
        },
        {
          "output_type": "stream",
          "name": "stdout",
          "text": [
            "class #0 : 0.12615\n",
            "class #1 : 0.00000\n",
            "class #2 : 0.00000\n",
            "class #3 : 0.00000\n",
            "class #4 : 0.00000\n",
            "class #5 : 0.00000\n",
            "class #6 : 0.00000\n",
            "\n",
            "mean_iou: 0.018021\n",
            "\n"
          ]
        },
        {
          "output_type": "stream",
          "name": "stderr",
          "text": [
            "\n",
            " 52%|█████▏    | 130/250 [01:14<01:08,  1.74it/s]\u001b[A"
          ]
        },
        {
          "output_type": "stream",
          "name": "stdout",
          "text": [
            "class #0 : 0.10312\n",
            "class #1 : 0.00000\n",
            "class #2 : 0.00000\n",
            "class #3 : 0.00000\n",
            "class #4 : 0.00000\n",
            "class #5 : 0.00000\n",
            "class #6 : nan\n",
            "\n",
            "mean_iou: nan\n",
            "\n"
          ]
        },
        {
          "output_type": "stream",
          "name": "stderr",
          "text": [
            "\n",
            " 52%|█████▏    | 131/250 [01:15<01:08,  1.74it/s]\u001b[A"
          ]
        },
        {
          "output_type": "stream",
          "name": "stdout",
          "text": [
            "class #0 : 0.15738\n",
            "class #1 : 0.00000\n",
            "class #2 : 0.00000\n",
            "class #3 : 0.00000\n",
            "class #4 : 0.00000\n",
            "class #5 : 0.00000\n",
            "class #6 : nan\n",
            "\n",
            "mean_iou: nan\n",
            "\n"
          ]
        },
        {
          "output_type": "stream",
          "name": "stderr",
          "text": [
            "\n",
            " 53%|█████▎    | 132/250 [01:16<01:07,  1.74it/s]\u001b[A"
          ]
        },
        {
          "output_type": "stream",
          "name": "stdout",
          "text": [
            "class #0 : 0.08438\n",
            "class #1 : 0.00000\n",
            "class #2 : 0.00000\n",
            "class #3 : 0.00000\n",
            "class #4 : 0.00000\n",
            "class #5 : 0.00000\n",
            "class #6 : 0.00000\n",
            "\n",
            "mean_iou: 0.012055\n",
            "\n"
          ]
        },
        {
          "output_type": "stream",
          "name": "stderr",
          "text": [
            "\n",
            " 53%|█████▎    | 133/250 [01:16<01:07,  1.74it/s]\u001b[A"
          ]
        },
        {
          "output_type": "stream",
          "name": "stdout",
          "text": [
            "class #0 : 0.01541\n",
            "class #1 : 0.00000\n",
            "class #2 : 0.00000\n",
            "class #3 : 0.00000\n",
            "class #4 : 0.00000\n",
            "class #5 : 0.00000\n",
            "class #6 : nan\n",
            "\n",
            "mean_iou: nan\n",
            "\n"
          ]
        },
        {
          "output_type": "stream",
          "name": "stderr",
          "text": [
            "\n",
            " 54%|█████▎    | 134/250 [01:17<01:06,  1.74it/s]\u001b[A"
          ]
        },
        {
          "output_type": "stream",
          "name": "stdout",
          "text": [
            "class #0 : 0.01711\n",
            "class #1 : 0.00000\n",
            "class #2 : 0.00000\n",
            "class #3 : 0.00000\n",
            "class #4 : 0.00000\n",
            "class #5 : 0.00000\n",
            "class #6 : 0.00000\n",
            "\n",
            "mean_iou: 0.002444\n",
            "\n"
          ]
        },
        {
          "output_type": "stream",
          "name": "stderr",
          "text": [
            "\n",
            " 54%|█████▍    | 135/250 [01:17<01:06,  1.74it/s]\u001b[A"
          ]
        },
        {
          "output_type": "stream",
          "name": "stdout",
          "text": [
            "class #0 : 0.28734\n",
            "class #1 : 0.00000\n",
            "class #2 : 0.00000\n",
            "class #3 : 0.00000\n",
            "class #4 : 0.00000\n",
            "class #5 : 0.00000\n",
            "class #6 : nan\n",
            "\n",
            "mean_iou: nan\n",
            "\n"
          ]
        },
        {
          "output_type": "stream",
          "name": "stderr",
          "text": [
            "\n",
            " 54%|█████▍    | 136/250 [01:18<01:05,  1.74it/s]\u001b[A"
          ]
        },
        {
          "output_type": "stream",
          "name": "stdout",
          "text": [
            "class #0 : 0.23669\n",
            "class #1 : 0.00000\n",
            "class #2 : 0.00000\n",
            "class #3 : 0.00000\n",
            "class #4 : 0.00000\n",
            "class #5 : 0.00000\n",
            "class #6 : nan\n",
            "\n",
            "mean_iou: nan\n",
            "\n"
          ]
        },
        {
          "output_type": "stream",
          "name": "stderr",
          "text": [
            "\n",
            " 55%|█████▍    | 137/250 [01:18<01:05,  1.73it/s]\u001b[A"
          ]
        },
        {
          "output_type": "stream",
          "name": "stdout",
          "text": [
            "class #0 : 0.18259\n",
            "class #1 : 0.00000\n",
            "class #2 : 0.00000\n",
            "class #3 : 0.00000\n",
            "class #4 : 0.00000\n",
            "class #5 : 0.00000\n",
            "class #6 : nan\n",
            "\n",
            "mean_iou: nan\n",
            "\n"
          ]
        },
        {
          "output_type": "stream",
          "name": "stderr",
          "text": [
            "\n",
            " 55%|█████▌    | 138/250 [01:19<01:04,  1.74it/s]\u001b[A"
          ]
        },
        {
          "output_type": "stream",
          "name": "stdout",
          "text": [
            "class #0 : 0.20992\n",
            "class #1 : 0.00000\n",
            "class #2 : 0.00000\n",
            "class #3 : nan\n",
            "class #4 : 0.00000\n",
            "class #5 : 0.00000\n",
            "class #6 : 0.00000\n",
            "\n",
            "mean_iou: nan\n",
            "\n"
          ]
        },
        {
          "output_type": "stream",
          "name": "stderr",
          "text": [
            "\n",
            " 56%|█████▌    | 139/250 [01:20<01:04,  1.73it/s]\u001b[A"
          ]
        },
        {
          "output_type": "stream",
          "name": "stdout",
          "text": [
            "class #0 : 0.00997\n",
            "class #1 : 0.00000\n",
            "class #2 : 0.00000\n",
            "class #3 : 0.00000\n",
            "class #4 : 0.00000\n",
            "class #5 : 0.00000\n",
            "class #6 : nan\n",
            "\n",
            "mean_iou: nan\n",
            "\n"
          ]
        },
        {
          "output_type": "stream",
          "name": "stderr",
          "text": [
            "\n",
            " 56%|█████▌    | 140/250 [01:20<01:03,  1.74it/s]\u001b[A"
          ]
        },
        {
          "output_type": "stream",
          "name": "stdout",
          "text": [
            "class #0 : 0.00688\n",
            "class #1 : 0.00000\n",
            "class #2 : 0.00000\n",
            "class #3 : 0.00000\n",
            "class #4 : 0.00000\n",
            "class #5 : 0.00000\n",
            "class #6 : nan\n",
            "\n",
            "mean_iou: nan\n",
            "\n"
          ]
        },
        {
          "output_type": "stream",
          "name": "stderr",
          "text": [
            "\n",
            " 56%|█████▋    | 141/250 [01:21<01:02,  1.74it/s]\u001b[A"
          ]
        },
        {
          "output_type": "stream",
          "name": "stdout",
          "text": [
            "class #0 : 0.14371\n",
            "class #1 : 0.00000\n",
            "class #2 : 0.00000\n",
            "class #3 : nan\n",
            "class #4 : 0.00000\n",
            "class #5 : 0.00000\n",
            "class #6 : 0.00000\n",
            "\n",
            "mean_iou: nan\n",
            "\n"
          ]
        },
        {
          "output_type": "stream",
          "name": "stderr",
          "text": [
            "\n",
            " 57%|█████▋    | 142/250 [01:21<01:02,  1.74it/s]\u001b[A"
          ]
        },
        {
          "output_type": "stream",
          "name": "stdout",
          "text": [
            "class #0 : 0.19330\n",
            "class #1 : 0.00000\n",
            "class #2 : 0.00000\n",
            "class #3 : 0.00000\n",
            "class #4 : 0.00000\n",
            "class #5 : 0.00000\n",
            "class #6 : 0.00000\n",
            "\n",
            "mean_iou: 0.027614\n",
            "\n"
          ]
        },
        {
          "output_type": "stream",
          "name": "stderr",
          "text": [
            "\n",
            " 57%|█████▋    | 143/250 [01:22<01:01,  1.74it/s]\u001b[A"
          ]
        },
        {
          "output_type": "stream",
          "name": "stdout",
          "text": [
            "class #0 : 0.05122\n",
            "class #1 : 0.00000\n",
            "class #2 : 0.00000\n",
            "class #3 : 0.00000\n",
            "class #4 : 0.00000\n",
            "class #5 : 0.00000\n",
            "class #6 : nan\n",
            "\n",
            "mean_iou: nan\n",
            "\n"
          ]
        },
        {
          "output_type": "stream",
          "name": "stderr",
          "text": [
            "\n",
            " 58%|█████▊    | 144/250 [01:22<01:01,  1.73it/s]\u001b[A"
          ]
        },
        {
          "output_type": "stream",
          "name": "stdout",
          "text": [
            "class #0 : 0.04122\n",
            "class #1 : 0.00000\n",
            "class #2 : 0.00000\n",
            "class #3 : 0.00000\n",
            "class #4 : 0.00000\n",
            "class #5 : 0.00000\n",
            "class #6 : nan\n",
            "\n",
            "mean_iou: nan\n",
            "\n"
          ]
        },
        {
          "output_type": "stream",
          "name": "stderr",
          "text": [
            "\n",
            " 58%|█████▊    | 145/250 [01:23<01:00,  1.73it/s]\u001b[A"
          ]
        },
        {
          "output_type": "stream",
          "name": "stdout",
          "text": [
            "class #0 : 0.13878\n",
            "class #1 : 0.00000\n",
            "class #2 : 0.00000\n",
            "class #3 : 0.00000\n",
            "class #4 : 0.00000\n",
            "class #5 : 0.00000\n",
            "class #6 : 0.00000\n",
            "\n",
            "mean_iou: 0.019826\n",
            "\n"
          ]
        },
        {
          "output_type": "stream",
          "name": "stderr",
          "text": [
            "\n",
            " 58%|█████▊    | 146/250 [01:24<00:59,  1.73it/s]\u001b[A"
          ]
        },
        {
          "output_type": "stream",
          "name": "stdout",
          "text": [
            "class #0 : 0.14668\n",
            "class #1 : 0.00000\n",
            "class #2 : 0.00000\n",
            "class #3 : 0.00000\n",
            "class #4 : 0.00000\n",
            "class #5 : 0.00000\n",
            "class #6 : 0.00000\n",
            "\n",
            "mean_iou: 0.020955\n",
            "\n"
          ]
        },
        {
          "output_type": "stream",
          "name": "stderr",
          "text": [
            "\n",
            " 59%|█████▉    | 147/250 [01:24<00:59,  1.73it/s]\u001b[A"
          ]
        },
        {
          "output_type": "stream",
          "name": "stdout",
          "text": [
            "class #0 : 0.12769\n",
            "class #1 : 0.00000\n",
            "class #2 : 0.00000\n",
            "class #3 : 0.00000\n",
            "class #4 : 0.00000\n",
            "class #5 : 0.00000\n",
            "class #6 : nan\n",
            "\n",
            "mean_iou: nan\n",
            "\n"
          ]
        },
        {
          "output_type": "stream",
          "name": "stderr",
          "text": [
            "\n",
            " 59%|█████▉    | 148/250 [01:25<00:58,  1.74it/s]\u001b[A"
          ]
        },
        {
          "output_type": "stream",
          "name": "stdout",
          "text": [
            "class #0 : 0.23397\n",
            "class #1 : 0.00000\n",
            "class #2 : 0.00000\n",
            "class #3 : nan\n",
            "class #4 : 0.00000\n",
            "class #5 : 0.00000\n",
            "class #6 : nan\n",
            "\n",
            "mean_iou: nan\n",
            "\n"
          ]
        },
        {
          "output_type": "stream",
          "name": "stderr",
          "text": [
            "\n",
            " 60%|█████▉    | 149/250 [01:25<00:58,  1.74it/s]\u001b[A"
          ]
        },
        {
          "output_type": "stream",
          "name": "stdout",
          "text": [
            "class #0 : 0.02673\n",
            "class #1 : 0.00000\n",
            "class #2 : 0.00000\n",
            "class #3 : 0.00000\n",
            "class #4 : 0.00000\n",
            "class #5 : 0.00000\n",
            "class #6 : nan\n",
            "\n",
            "mean_iou: nan\n",
            "\n"
          ]
        },
        {
          "output_type": "stream",
          "name": "stderr",
          "text": [
            "\n",
            " 60%|██████    | 150/250 [01:26<00:57,  1.74it/s]\u001b[A"
          ]
        },
        {
          "output_type": "stream",
          "name": "stdout",
          "text": [
            "class #0 : 0.03627\n",
            "class #1 : 0.00000\n",
            "class #2 : 0.00000\n",
            "class #3 : 0.00000\n",
            "class #4 : 0.00000\n",
            "class #5 : 0.00000\n",
            "class #6 : nan\n",
            "\n",
            "mean_iou: nan\n",
            "\n"
          ]
        },
        {
          "output_type": "stream",
          "name": "stderr",
          "text": [
            "\n",
            " 60%|██████    | 151/250 [01:26<00:56,  1.74it/s]\u001b[A"
          ]
        },
        {
          "output_type": "stream",
          "name": "stdout",
          "text": [
            "class #0 : 0.14844\n",
            "class #1 : 0.00000\n",
            "class #2 : 0.00000\n",
            "class #3 : 0.00000\n",
            "class #4 : 0.00000\n",
            "class #5 : 0.00000\n",
            "class #6 : nan\n",
            "\n",
            "mean_iou: nan\n",
            "\n"
          ]
        },
        {
          "output_type": "stream",
          "name": "stderr",
          "text": [
            "\n",
            " 61%|██████    | 152/250 [01:27<00:56,  1.74it/s]\u001b[A"
          ]
        },
        {
          "output_type": "stream",
          "name": "stdout",
          "text": [
            "class #0 : 0.17987\n",
            "class #1 : 0.00000\n",
            "class #2 : 0.00000\n",
            "class #3 : nan\n",
            "class #4 : 0.00000\n",
            "class #5 : 0.00000\n",
            "class #6 : nan\n",
            "\n",
            "mean_iou: nan\n",
            "\n"
          ]
        },
        {
          "output_type": "stream",
          "name": "stderr",
          "text": [
            "\n",
            " 61%|██████    | 153/250 [01:28<00:55,  1.74it/s]\u001b[A"
          ]
        },
        {
          "output_type": "stream",
          "name": "stdout",
          "text": [
            "class #0 : 0.13943\n",
            "class #1 : 0.00000\n",
            "class #2 : 0.00000\n",
            "class #3 : 0.00000\n",
            "class #4 : 0.00000\n",
            "class #5 : 0.00000\n",
            "class #6 : nan\n",
            "\n",
            "mean_iou: nan\n",
            "\n"
          ]
        },
        {
          "output_type": "stream",
          "name": "stderr",
          "text": [
            "\n",
            " 62%|██████▏   | 154/250 [01:28<00:55,  1.74it/s]\u001b[A"
          ]
        },
        {
          "output_type": "stream",
          "name": "stdout",
          "text": [
            "class #0 : 0.21171\n",
            "class #1 : 0.00000\n",
            "class #2 : 0.00000\n",
            "class #3 : 0.00000\n",
            "class #4 : 0.00000\n",
            "class #5 : 0.00000\n",
            "class #6 : 0.00000\n",
            "\n",
            "mean_iou: 0.030245\n",
            "\n"
          ]
        },
        {
          "output_type": "stream",
          "name": "stderr",
          "text": [
            "\n",
            " 62%|██████▏   | 155/250 [01:29<00:54,  1.74it/s]\u001b[A"
          ]
        },
        {
          "output_type": "stream",
          "name": "stdout",
          "text": [
            "class #0 : 0.18488\n",
            "class #1 : 0.00000\n",
            "class #2 : 0.00000\n",
            "class #3 : 0.00000\n",
            "class #4 : 0.00000\n",
            "class #5 : 0.00000\n",
            "class #6 : 0.00000\n",
            "\n",
            "mean_iou: 0.026412\n",
            "\n"
          ]
        },
        {
          "output_type": "stream",
          "name": "stderr",
          "text": [
            "\n",
            " 62%|██████▏   | 156/250 [01:29<00:54,  1.74it/s]\u001b[A"
          ]
        },
        {
          "output_type": "stream",
          "name": "stdout",
          "text": [
            "class #0 : 0.10564\n",
            "class #1 : 0.00000\n",
            "class #2 : 0.00000\n",
            "class #3 : 0.00000\n",
            "class #4 : 0.00000\n",
            "class #5 : 0.00000\n",
            "class #6 : nan\n",
            "\n",
            "mean_iou: nan\n",
            "\n"
          ]
        },
        {
          "output_type": "stream",
          "name": "stderr",
          "text": [
            "\n",
            " 63%|██████▎   | 157/250 [01:30<00:53,  1.74it/s]\u001b[A"
          ]
        },
        {
          "output_type": "stream",
          "name": "stdout",
          "text": [
            "class #0 : 0.02584\n",
            "class #1 : 0.00000\n",
            "class #2 : 0.00000\n",
            "class #3 : 0.00000\n",
            "class #4 : 0.00000\n",
            "class #5 : 0.00000\n",
            "class #6 : nan\n",
            "\n",
            "mean_iou: nan\n",
            "\n"
          ]
        },
        {
          "output_type": "stream",
          "name": "stderr",
          "text": [
            "\n",
            " 63%|██████▎   | 158/250 [01:31<00:53,  1.74it/s]\u001b[A"
          ]
        },
        {
          "output_type": "stream",
          "name": "stdout",
          "text": [
            "class #0 : 0.00148\n",
            "class #1 : 0.00000\n",
            "class #2 : 0.00000\n",
            "class #3 : 0.00000\n",
            "class #4 : 0.00000\n",
            "class #5 : 0.00000\n",
            "class #6 : 0.00000\n",
            "\n",
            "mean_iou: 0.000211\n",
            "\n"
          ]
        },
        {
          "output_type": "stream",
          "name": "stderr",
          "text": [
            "\n",
            " 64%|██████▎   | 159/250 [01:31<00:52,  1.73it/s]\u001b[A"
          ]
        },
        {
          "output_type": "stream",
          "name": "stdout",
          "text": [
            "class #0 : 0.09930\n",
            "class #1 : 0.00000\n",
            "class #2 : 0.00000\n",
            "class #3 : 0.00000\n",
            "class #4 : 0.00000\n",
            "class #5 : 0.00000\n",
            "class #6 : 0.00000\n",
            "\n",
            "mean_iou: 0.014185\n",
            "\n"
          ]
        },
        {
          "output_type": "stream",
          "name": "stderr",
          "text": [
            "\n",
            " 64%|██████▍   | 160/250 [01:32<00:51,  1.73it/s]\u001b[A"
          ]
        },
        {
          "output_type": "stream",
          "name": "stdout",
          "text": [
            "class #0 : 0.09408\n",
            "class #1 : 0.00000\n",
            "class #2 : 0.00000\n",
            "class #3 : 0.00000\n",
            "class #4 : 0.00000\n",
            "class #5 : 0.00000\n",
            "class #6 : nan\n",
            "\n",
            "mean_iou: nan\n",
            "\n"
          ]
        },
        {
          "output_type": "stream",
          "name": "stderr",
          "text": [
            "\n",
            " 64%|██████▍   | 161/250 [01:32<00:51,  1.74it/s]\u001b[A"
          ]
        },
        {
          "output_type": "stream",
          "name": "stdout",
          "text": [
            "class #0 : 0.15781\n",
            "class #1 : 0.00000\n",
            "class #2 : 0.00000\n",
            "class #3 : 0.00000\n",
            "class #4 : 0.00000\n",
            "class #5 : 0.00000\n",
            "class #6 : nan\n",
            "\n",
            "mean_iou: nan\n",
            "\n"
          ]
        },
        {
          "output_type": "stream",
          "name": "stderr",
          "text": [
            "\n",
            " 65%|██████▍   | 162/250 [01:33<00:50,  1.73it/s]\u001b[A"
          ]
        },
        {
          "output_type": "stream",
          "name": "stdout",
          "text": [
            "class #0 : 0.13104\n",
            "class #1 : 0.00000\n",
            "class #2 : 0.00000\n",
            "class #3 : nan\n",
            "class #4 : 0.00000\n",
            "class #5 : 0.00000\n",
            "class #6 : nan\n",
            "\n",
            "mean_iou: nan\n",
            "\n"
          ]
        },
        {
          "output_type": "stream",
          "name": "stderr",
          "text": [
            "\n",
            " 65%|██████▌   | 163/250 [01:33<00:50,  1.73it/s]\u001b[A"
          ]
        },
        {
          "output_type": "stream",
          "name": "stdout",
          "text": [
            "class #0 : 0.04770\n",
            "class #1 : 0.00000\n",
            "class #2 : 0.00000\n",
            "class #3 : 0.00000\n",
            "class #4 : 0.00000\n",
            "class #5 : 0.00000\n",
            "class #6 : 0.00000\n",
            "\n",
            "mean_iou: 0.006814\n",
            "\n"
          ]
        },
        {
          "output_type": "stream",
          "name": "stderr",
          "text": [
            "\n",
            " 66%|██████▌   | 164/250 [01:34<00:49,  1.73it/s]\u001b[A"
          ]
        },
        {
          "output_type": "stream",
          "name": "stdout",
          "text": [
            "class #0 : 0.19219\n",
            "class #1 : 0.00000\n",
            "class #2 : 0.00000\n",
            "class #3 : 0.00000\n",
            "class #4 : 0.00000\n",
            "class #5 : 0.00000\n",
            "class #6 : nan\n",
            "\n",
            "mean_iou: nan\n",
            "\n"
          ]
        },
        {
          "output_type": "stream",
          "name": "stderr",
          "text": [
            "\n",
            " 66%|██████▌   | 165/250 [01:35<00:49,  1.73it/s]\u001b[A"
          ]
        },
        {
          "output_type": "stream",
          "name": "stdout",
          "text": [
            "class #0 : 0.02969\n",
            "class #1 : 0.00000\n",
            "class #2 : 0.00000\n",
            "class #3 : 0.00000\n",
            "class #4 : 0.00000\n",
            "class #5 : 0.00000\n",
            "class #6 : 0.00000\n",
            "\n",
            "mean_iou: 0.004242\n",
            "\n"
          ]
        },
        {
          "output_type": "stream",
          "name": "stderr",
          "text": [
            "\n",
            " 66%|██████▋   | 166/250 [01:35<00:48,  1.73it/s]\u001b[A"
          ]
        },
        {
          "output_type": "stream",
          "name": "stdout",
          "text": [
            "class #0 : 0.05783\n",
            "class #1 : 0.00000\n",
            "class #2 : 0.00000\n",
            "class #3 : 0.00000\n",
            "class #4 : 0.00000\n",
            "class #5 : 0.00000\n",
            "class #6 : nan\n",
            "\n",
            "mean_iou: nan\n",
            "\n"
          ]
        },
        {
          "output_type": "stream",
          "name": "stderr",
          "text": [
            "\n",
            " 67%|██████▋   | 167/250 [01:36<00:48,  1.73it/s]\u001b[A"
          ]
        },
        {
          "output_type": "stream",
          "name": "stdout",
          "text": [
            "class #0 : 0.04287\n",
            "class #1 : 0.00000\n",
            "class #2 : 0.00000\n",
            "class #3 : nan\n",
            "class #4 : 0.00000\n",
            "class #5 : 0.00000\n",
            "class #6 : nan\n",
            "\n",
            "mean_iou: nan\n",
            "\n"
          ]
        },
        {
          "output_type": "stream",
          "name": "stderr",
          "text": [
            "\n",
            " 67%|██████▋   | 168/250 [01:36<00:47,  1.73it/s]\u001b[A"
          ]
        },
        {
          "output_type": "stream",
          "name": "stdout",
          "text": [
            "class #0 : 0.00659\n",
            "class #1 : 0.00000\n",
            "class #2 : 0.00000\n",
            "class #3 : 0.00000\n",
            "class #4 : 0.00000\n",
            "class #5 : 0.00000\n",
            "class #6 : nan\n",
            "\n",
            "mean_iou: nan\n",
            "\n"
          ]
        },
        {
          "output_type": "stream",
          "name": "stderr",
          "text": [
            "\n",
            " 68%|██████▊   | 169/250 [01:37<00:46,  1.73it/s]\u001b[A"
          ]
        },
        {
          "output_type": "stream",
          "name": "stdout",
          "text": [
            "class #0 : 0.01268\n",
            "class #1 : 0.00000\n",
            "class #2 : 0.00000\n",
            "class #3 : 0.00000\n",
            "class #4 : 0.00000\n",
            "class #5 : 0.00000\n",
            "class #6 : nan\n",
            "\n",
            "mean_iou: nan\n",
            "\n"
          ]
        },
        {
          "output_type": "stream",
          "name": "stderr",
          "text": [
            "\n",
            " 68%|██████▊   | 170/250 [01:37<00:46,  1.73it/s]\u001b[A"
          ]
        },
        {
          "output_type": "stream",
          "name": "stdout",
          "text": [
            "class #0 : 0.05985\n",
            "class #1 : 0.00000\n",
            "class #2 : 0.00000\n",
            "class #3 : 0.00000\n",
            "class #4 : 0.00000\n",
            "class #5 : 0.00000\n",
            "class #6 : 0.00000\n",
            "\n",
            "mean_iou: 0.008551\n",
            "\n"
          ]
        },
        {
          "output_type": "stream",
          "name": "stderr",
          "text": [
            "\n",
            " 68%|██████▊   | 171/250 [01:38<00:45,  1.73it/s]\u001b[A"
          ]
        },
        {
          "output_type": "stream",
          "name": "stdout",
          "text": [
            "class #0 : 0.07381\n",
            "class #1 : 0.00000\n",
            "class #2 : 0.00000\n",
            "class #3 : nan\n",
            "class #4 : 0.00000\n",
            "class #5 : 0.00000\n",
            "class #6 : nan\n",
            "\n",
            "mean_iou: nan\n",
            "\n"
          ]
        },
        {
          "output_type": "stream",
          "name": "stderr",
          "text": [
            "\n",
            " 69%|██████▉   | 172/250 [01:39<00:45,  1.73it/s]\u001b[A"
          ]
        },
        {
          "output_type": "stream",
          "name": "stdout",
          "text": [
            "class #0 : 0.01299\n",
            "class #1 : 0.00000\n",
            "class #2 : 0.00000\n",
            "class #3 : 0.00000\n",
            "class #4 : 0.00000\n",
            "class #5 : 0.00000\n",
            "class #6 : nan\n",
            "\n",
            "mean_iou: nan\n",
            "\n"
          ]
        },
        {
          "output_type": "stream",
          "name": "stderr",
          "text": [
            "\n",
            " 69%|██████▉   | 173/250 [01:39<00:44,  1.73it/s]\u001b[A"
          ]
        },
        {
          "output_type": "stream",
          "name": "stdout",
          "text": [
            "class #0 : 0.12390\n",
            "class #1 : 0.00000\n",
            "class #2 : 0.00000\n",
            "class #3 : 0.00000\n",
            "class #4 : 0.00000\n",
            "class #5 : 0.00000\n",
            "class #6 : nan\n",
            "\n",
            "mean_iou: nan\n",
            "\n"
          ]
        },
        {
          "output_type": "stream",
          "name": "stderr",
          "text": [
            "\n",
            " 70%|██████▉   | 174/250 [01:40<00:44,  1.72it/s]\u001b[A"
          ]
        },
        {
          "output_type": "stream",
          "name": "stdout",
          "text": [
            "class #0 : 0.02528\n",
            "class #1 : 0.00000\n",
            "class #2 : 0.00000\n",
            "class #3 : 0.00000\n",
            "class #4 : 0.00000\n",
            "class #5 : 0.00000\n",
            "class #6 : nan\n",
            "\n",
            "mean_iou: nan\n",
            "\n"
          ]
        },
        {
          "output_type": "stream",
          "name": "stderr",
          "text": [
            "\n",
            " 70%|███████   | 175/250 [01:40<00:43,  1.73it/s]\u001b[A"
          ]
        },
        {
          "output_type": "stream",
          "name": "stdout",
          "text": [
            "class #0 : 0.05179\n",
            "class #1 : 0.00000\n",
            "class #2 : 0.00000\n",
            "class #3 : 0.00000\n",
            "class #4 : 0.00000\n",
            "class #5 : 0.00000\n",
            "class #6 : nan\n",
            "\n",
            "mean_iou: nan\n",
            "\n"
          ]
        },
        {
          "output_type": "stream",
          "name": "stderr",
          "text": [
            "\n",
            " 70%|███████   | 176/250 [01:41<00:42,  1.73it/s]\u001b[A"
          ]
        },
        {
          "output_type": "stream",
          "name": "stdout",
          "text": [
            "class #0 : 0.15577\n",
            "class #1 : 0.00000\n",
            "class #2 : 0.00000\n",
            "class #3 : 0.00000\n",
            "class #4 : 0.00000\n",
            "class #5 : 0.00000\n",
            "class #6 : 0.00000\n",
            "\n",
            "mean_iou: 0.022252\n",
            "\n"
          ]
        },
        {
          "output_type": "stream",
          "name": "stderr",
          "text": [
            "\n",
            " 71%|███████   | 177/250 [01:42<00:42,  1.73it/s]\u001b[A"
          ]
        },
        {
          "output_type": "stream",
          "name": "stdout",
          "text": [
            "class #0 : 0.14416\n",
            "class #1 : 0.00000\n",
            "class #2 : 0.00000\n",
            "class #3 : 0.00000\n",
            "class #4 : 0.00000\n",
            "class #5 : 0.00000\n",
            "class #6 : nan\n",
            "\n",
            "mean_iou: nan\n",
            "\n"
          ]
        },
        {
          "output_type": "stream",
          "name": "stderr",
          "text": [
            "\n",
            " 71%|███████   | 178/250 [01:42<00:41,  1.73it/s]\u001b[A"
          ]
        },
        {
          "output_type": "stream",
          "name": "stdout",
          "text": [
            "class #0 : 0.12796\n",
            "class #1 : 0.00000\n",
            "class #2 : 0.00000\n",
            "class #3 : 0.00000\n",
            "class #4 : 0.00000\n",
            "class #5 : 0.00000\n",
            "class #6 : nan\n",
            "\n",
            "mean_iou: nan\n",
            "\n"
          ]
        },
        {
          "output_type": "stream",
          "name": "stderr",
          "text": [
            "\n",
            " 72%|███████▏  | 179/250 [01:43<00:40,  1.74it/s]\u001b[A"
          ]
        },
        {
          "output_type": "stream",
          "name": "stdout",
          "text": [
            "class #0 : 0.11063\n",
            "class #1 : 0.00000\n",
            "class #2 : 0.00000\n",
            "class #3 : 0.00000\n",
            "class #4 : 0.00000\n",
            "class #5 : 0.00000\n",
            "class #6 : nan\n",
            "\n",
            "mean_iou: nan\n",
            "\n"
          ]
        },
        {
          "output_type": "stream",
          "name": "stderr",
          "text": [
            "\n",
            " 72%|███████▏  | 180/250 [01:43<00:40,  1.74it/s]\u001b[A"
          ]
        },
        {
          "output_type": "stream",
          "name": "stdout",
          "text": [
            "class #0 : 0.14626\n",
            "class #1 : 0.00000\n",
            "class #2 : 0.00000\n",
            "class #3 : nan\n",
            "class #4 : 0.00000\n",
            "class #5 : 0.00000\n",
            "class #6 : 0.00000\n",
            "\n",
            "mean_iou: nan\n",
            "\n"
          ]
        },
        {
          "output_type": "stream",
          "name": "stderr",
          "text": [
            "\n",
            " 72%|███████▏  | 181/250 [01:44<00:39,  1.74it/s]\u001b[A"
          ]
        },
        {
          "output_type": "stream",
          "name": "stdout",
          "text": [
            "class #0 : 0.04442\n",
            "class #1 : 0.00000\n",
            "class #2 : 0.00000\n",
            "class #3 : 0.00000\n",
            "class #4 : 0.00000\n",
            "class #5 : 0.00000\n",
            "class #6 : nan\n",
            "\n",
            "mean_iou: nan\n",
            "\n"
          ]
        },
        {
          "output_type": "stream",
          "name": "stderr",
          "text": [
            "\n",
            " 73%|███████▎  | 182/250 [01:44<00:39,  1.73it/s]\u001b[A"
          ]
        },
        {
          "output_type": "stream",
          "name": "stdout",
          "text": [
            "class #0 : 0.12781\n",
            "class #1 : 0.00000\n",
            "class #2 : 0.00000\n",
            "class #3 : 0.00000\n",
            "class #4 : 0.00000\n",
            "class #5 : 0.00000\n",
            "class #6 : 0.00000\n",
            "\n",
            "mean_iou: 0.018259\n",
            "\n"
          ]
        },
        {
          "output_type": "stream",
          "name": "stderr",
          "text": [
            "\n",
            " 73%|███████▎  | 183/250 [01:45<00:38,  1.73it/s]\u001b[A"
          ]
        },
        {
          "output_type": "stream",
          "name": "stdout",
          "text": [
            "class #0 : 0.08104\n",
            "class #1 : 0.00000\n",
            "class #2 : 0.00000\n",
            "class #3 : 0.00000\n",
            "class #4 : 0.00000\n",
            "class #5 : 0.00000\n",
            "class #6 : nan\n",
            "\n",
            "mean_iou: nan\n",
            "\n"
          ]
        },
        {
          "output_type": "stream",
          "name": "stderr",
          "text": [
            "\n",
            " 74%|███████▎  | 184/250 [01:46<00:37,  1.74it/s]\u001b[A"
          ]
        },
        {
          "output_type": "stream",
          "name": "stdout",
          "text": [
            "class #0 : 0.13918\n",
            "class #1 : 0.00000\n",
            "class #2 : 0.00000\n",
            "class #3 : 0.00000\n",
            "class #4 : 0.00000\n",
            "class #5 : 0.00000\n",
            "class #6 : nan\n",
            "\n",
            "mean_iou: nan\n",
            "\n"
          ]
        },
        {
          "output_type": "stream",
          "name": "stderr",
          "text": [
            "\n",
            " 74%|███████▍  | 185/250 [01:46<00:37,  1.74it/s]\u001b[A"
          ]
        },
        {
          "output_type": "stream",
          "name": "stdout",
          "text": [
            "class #0 : 0.19001\n",
            "class #1 : 0.00000\n",
            "class #2 : 0.00000\n",
            "class #3 : 0.00000\n",
            "class #4 : 0.00000\n",
            "class #5 : 0.00000\n",
            "class #6 : 0.00000\n",
            "\n",
            "mean_iou: 0.027144\n",
            "\n"
          ]
        },
        {
          "output_type": "stream",
          "name": "stderr",
          "text": [
            "\n",
            " 74%|███████▍  | 186/250 [01:47<00:36,  1.74it/s]\u001b[A"
          ]
        },
        {
          "output_type": "stream",
          "name": "stdout",
          "text": [
            "class #0 : 0.02646\n",
            "class #1 : 0.00000\n",
            "class #2 : 0.00000\n",
            "class #3 : 0.00000\n",
            "class #4 : 0.00000\n",
            "class #5 : 0.00000\n",
            "class #6 : nan\n",
            "\n",
            "mean_iou: nan\n",
            "\n"
          ]
        },
        {
          "output_type": "stream",
          "name": "stderr",
          "text": [
            "\n",
            " 75%|███████▍  | 187/250 [01:47<00:36,  1.74it/s]\u001b[A"
          ]
        },
        {
          "output_type": "stream",
          "name": "stdout",
          "text": [
            "class #0 : 0.20578\n",
            "class #1 : 0.00000\n",
            "class #2 : 0.00000\n",
            "class #3 : 0.00000\n",
            "class #4 : 0.00000\n",
            "class #5 : 0.00000\n",
            "class #6 : 0.00000\n",
            "\n",
            "mean_iou: 0.029398\n",
            "\n"
          ]
        },
        {
          "output_type": "stream",
          "name": "stderr",
          "text": [
            "\n",
            " 75%|███████▌  | 188/250 [01:48<00:35,  1.73it/s]\u001b[A"
          ]
        },
        {
          "output_type": "stream",
          "name": "stdout",
          "text": [
            "class #0 : 0.03866\n",
            "class #1 : 0.00000\n",
            "class #2 : 0.00000\n",
            "class #3 : 0.00000\n",
            "class #4 : 0.00000\n",
            "class #5 : 0.00000\n",
            "class #6 : nan\n",
            "\n",
            "mean_iou: nan\n",
            "\n"
          ]
        },
        {
          "output_type": "stream",
          "name": "stderr",
          "text": [
            "\n",
            " 76%|███████▌  | 189/250 [01:48<00:35,  1.73it/s]\u001b[A"
          ]
        },
        {
          "output_type": "stream",
          "name": "stdout",
          "text": [
            "class #0 : 0.12492\n",
            "class #1 : 0.00000\n",
            "class #2 : 0.00000\n",
            "class #3 : 0.00000\n",
            "class #4 : 0.00000\n",
            "class #5 : 0.00000\n",
            "class #6 : nan\n",
            "\n",
            "mean_iou: nan\n",
            "\n"
          ]
        },
        {
          "output_type": "stream",
          "name": "stderr",
          "text": [
            "\n",
            " 76%|███████▌  | 190/250 [01:49<00:34,  1.74it/s]\u001b[A"
          ]
        },
        {
          "output_type": "stream",
          "name": "stdout",
          "text": [
            "class #0 : 0.09209\n",
            "class #1 : 0.00000\n",
            "class #2 : 0.00000\n",
            "class #3 : 0.00000\n",
            "class #4 : 0.00000\n",
            "class #5 : 0.00000\n",
            "class #6 : 0.00000\n",
            "\n",
            "mean_iou: 0.013156\n",
            "\n"
          ]
        },
        {
          "output_type": "stream",
          "name": "stderr",
          "text": [
            "\n",
            " 76%|███████▋  | 191/250 [01:50<00:33,  1.74it/s]\u001b[A"
          ]
        },
        {
          "output_type": "stream",
          "name": "stdout",
          "text": [
            "class #0 : 0.02601\n",
            "class #1 : 0.00000\n",
            "class #2 : 0.00000\n",
            "class #3 : 0.00000\n",
            "class #4 : nan\n",
            "class #5 : 0.00000\n",
            "class #6 : nan\n",
            "\n",
            "mean_iou: nan\n",
            "\n"
          ]
        },
        {
          "output_type": "stream",
          "name": "stderr",
          "text": [
            "\n",
            " 77%|███████▋  | 192/250 [01:50<00:33,  1.74it/s]\u001b[A"
          ]
        },
        {
          "output_type": "stream",
          "name": "stdout",
          "text": [
            "class #0 : 0.00660\n",
            "class #1 : 0.00000\n",
            "class #2 : 0.00000\n",
            "class #3 : 0.00000\n",
            "class #4 : 0.00000\n",
            "class #5 : 0.00000\n",
            "class #6 : nan\n",
            "\n",
            "mean_iou: nan\n",
            "\n"
          ]
        },
        {
          "output_type": "stream",
          "name": "stderr",
          "text": [
            "\n",
            " 77%|███████▋  | 193/250 [01:51<00:32,  1.73it/s]\u001b[A"
          ]
        },
        {
          "output_type": "stream",
          "name": "stdout",
          "text": [
            "class #0 : 0.01813\n",
            "class #1 : 0.00000\n",
            "class #2 : 0.00000\n",
            "class #3 : nan\n",
            "class #4 : 0.00000\n",
            "class #5 : 0.00000\n",
            "class #6 : nan\n",
            "\n",
            "mean_iou: nan\n",
            "\n"
          ]
        },
        {
          "output_type": "stream",
          "name": "stderr",
          "text": [
            "\n",
            " 78%|███████▊  | 194/250 [01:51<00:32,  1.73it/s]\u001b[A"
          ]
        },
        {
          "output_type": "stream",
          "name": "stdout",
          "text": [
            "class #0 : 0.01482\n",
            "class #1 : 0.00000\n",
            "class #2 : 0.00000\n",
            "class #3 : 0.00000\n",
            "class #4 : 0.00000\n",
            "class #5 : 0.00000\n",
            "class #6 : 0.00000\n",
            "\n",
            "mean_iou: 0.002118\n",
            "\n"
          ]
        },
        {
          "output_type": "stream",
          "name": "stderr",
          "text": [
            "\n",
            " 78%|███████▊  | 195/250 [01:52<00:31,  1.73it/s]\u001b[A"
          ]
        },
        {
          "output_type": "stream",
          "name": "stdout",
          "text": [
            "class #0 : 0.18343\n",
            "class #1 : 0.00000\n",
            "class #2 : 0.00000\n",
            "class #3 : nan\n",
            "class #4 : 0.00000\n",
            "class #5 : 0.00000\n",
            "class #6 : 0.00000\n",
            "\n",
            "mean_iou: nan\n",
            "\n"
          ]
        },
        {
          "output_type": "stream",
          "name": "stderr",
          "text": [
            "\n",
            " 78%|███████▊  | 196/250 [01:52<00:31,  1.73it/s]\u001b[A"
          ]
        },
        {
          "output_type": "stream",
          "name": "stdout",
          "text": [
            "class #0 : 0.21672\n",
            "class #1 : 0.00000\n",
            "class #2 : 0.00000\n",
            "class #3 : nan\n",
            "class #4 : 0.00000\n",
            "class #5 : 0.00000\n",
            "class #6 : nan\n",
            "\n",
            "mean_iou: nan\n",
            "\n"
          ]
        },
        {
          "output_type": "stream",
          "name": "stderr",
          "text": [
            "\n",
            " 79%|███████▉  | 197/250 [01:53<00:30,  1.74it/s]\u001b[A"
          ]
        },
        {
          "output_type": "stream",
          "name": "stdout",
          "text": [
            "class #0 : 0.26864\n",
            "class #1 : 0.00000\n",
            "class #2 : 0.00000\n",
            "class #3 : nan\n",
            "class #4 : 0.00000\n",
            "class #5 : 0.00000\n",
            "class #6 : nan\n",
            "\n",
            "mean_iou: nan\n",
            "\n"
          ]
        },
        {
          "output_type": "stream",
          "name": "stderr",
          "text": [
            "\n",
            " 79%|███████▉  | 198/250 [01:54<00:29,  1.74it/s]\u001b[A"
          ]
        },
        {
          "output_type": "stream",
          "name": "stdout",
          "text": [
            "class #0 : 0.12211\n",
            "class #1 : 0.00000\n",
            "class #2 : 0.00000\n",
            "class #3 : nan\n",
            "class #4 : 0.00000\n",
            "class #5 : 0.00000\n",
            "class #6 : nan\n",
            "\n",
            "mean_iou: nan\n",
            "\n"
          ]
        },
        {
          "output_type": "stream",
          "name": "stderr",
          "text": [
            "\n",
            " 80%|███████▉  | 199/250 [01:54<00:29,  1.74it/s]\u001b[A"
          ]
        },
        {
          "output_type": "stream",
          "name": "stdout",
          "text": [
            "class #0 : 0.24544\n",
            "class #1 : 0.00000\n",
            "class #2 : 0.00000\n",
            "class #3 : nan\n",
            "class #4 : 0.00000\n",
            "class #5 : 0.00000\n",
            "class #6 : nan\n",
            "\n",
            "mean_iou: nan\n",
            "\n"
          ]
        },
        {
          "output_type": "stream",
          "name": "stderr",
          "text": [
            "\n",
            " 80%|████████  | 200/250 [01:55<00:28,  1.74it/s]\u001b[A"
          ]
        },
        {
          "output_type": "stream",
          "name": "stdout",
          "text": [
            "class #0 : 0.05083\n",
            "class #1 : 0.00000\n",
            "class #2 : 0.00000\n",
            "class #3 : 0.00000\n",
            "class #4 : 0.00000\n",
            "class #5 : 0.00000\n",
            "class #6 : 0.00000\n",
            "\n",
            "mean_iou: 0.007262\n",
            "\n"
          ]
        },
        {
          "output_type": "stream",
          "name": "stderr",
          "text": [
            "\n",
            " 80%|████████  | 201/250 [01:55<00:28,  1.73it/s]\u001b[A"
          ]
        },
        {
          "output_type": "stream",
          "name": "stdout",
          "text": [
            "class #0 : 0.26465\n",
            "class #1 : 0.00000\n",
            "class #2 : 0.00000\n",
            "class #3 : 0.00000\n",
            "class #4 : 0.00000\n",
            "class #5 : 0.00000\n",
            "class #6 : nan\n",
            "\n",
            "mean_iou: nan\n",
            "\n"
          ]
        },
        {
          "output_type": "stream",
          "name": "stderr",
          "text": [
            "\n",
            " 81%|████████  | 202/250 [01:56<00:27,  1.73it/s]\u001b[A"
          ]
        },
        {
          "output_type": "stream",
          "name": "stdout",
          "text": [
            "class #0 : 0.12929\n",
            "class #1 : 0.00000\n",
            "class #2 : 0.00000\n",
            "class #3 : 0.00000\n",
            "class #4 : 0.00000\n",
            "class #5 : 0.00000\n",
            "class #6 : 0.00000\n",
            "\n",
            "mean_iou: 0.018470\n",
            "\n"
          ]
        },
        {
          "output_type": "stream",
          "name": "stderr",
          "text": [
            "\n",
            " 81%|████████  | 203/250 [01:56<00:27,  1.74it/s]\u001b[A"
          ]
        },
        {
          "output_type": "stream",
          "name": "stdout",
          "text": [
            "class #0 : 0.12242\n",
            "class #1 : 0.00000\n",
            "class #2 : 0.00000\n",
            "class #3 : 0.00000\n",
            "class #4 : 0.00000\n",
            "class #5 : 0.00000\n",
            "class #6 : nan\n",
            "\n",
            "mean_iou: nan\n",
            "\n"
          ]
        },
        {
          "output_type": "stream",
          "name": "stderr",
          "text": [
            "\n",
            " 82%|████████▏ | 204/250 [01:57<00:26,  1.73it/s]\u001b[A"
          ]
        },
        {
          "output_type": "stream",
          "name": "stdout",
          "text": [
            "class #0 : 0.22087\n",
            "class #1 : 0.00000\n",
            "class #2 : 0.00000\n",
            "class #3 : nan\n",
            "class #4 : 0.00000\n",
            "class #5 : 0.00000\n",
            "class #6 : nan\n",
            "\n",
            "mean_iou: nan\n",
            "\n"
          ]
        },
        {
          "output_type": "stream",
          "name": "stderr",
          "text": [
            "\n",
            " 82%|████████▏ | 205/250 [01:58<00:25,  1.74it/s]\u001b[A"
          ]
        },
        {
          "output_type": "stream",
          "name": "stdout",
          "text": [
            "class #0 : 0.26473\n",
            "class #1 : 0.00000\n",
            "class #2 : 0.00000\n",
            "class #3 : 0.00000\n",
            "class #4 : 0.00000\n",
            "class #5 : 0.00000\n",
            "class #6 : nan\n",
            "\n",
            "mean_iou: nan\n",
            "\n"
          ]
        },
        {
          "output_type": "stream",
          "name": "stderr",
          "text": [
            "\n",
            " 82%|████████▏ | 206/250 [01:58<00:25,  1.73it/s]\u001b[A"
          ]
        },
        {
          "output_type": "stream",
          "name": "stdout",
          "text": [
            "class #0 : 0.11377\n",
            "class #1 : 0.00000\n",
            "class #2 : 0.00000\n",
            "class #3 : 0.00000\n",
            "class #4 : 0.00000\n",
            "class #5 : 0.00000\n",
            "class #6 : 0.00000\n",
            "\n",
            "mean_iou: 0.016253\n",
            "\n"
          ]
        },
        {
          "output_type": "stream",
          "name": "stderr",
          "text": [
            "\n",
            " 83%|████████▎ | 207/250 [01:59<00:24,  1.74it/s]\u001b[A"
          ]
        },
        {
          "output_type": "stream",
          "name": "stdout",
          "text": [
            "class #0 : 0.12224\n",
            "class #1 : 0.00000\n",
            "class #2 : 0.00000\n",
            "class #3 : 0.00000\n",
            "class #4 : nan\n",
            "class #5 : nan\n",
            "class #6 : nan\n",
            "\n",
            "mean_iou: nan\n",
            "\n"
          ]
        },
        {
          "output_type": "stream",
          "name": "stderr",
          "text": [
            "\n",
            " 83%|████████▎ | 208/250 [01:59<00:24,  1.74it/s]\u001b[A"
          ]
        },
        {
          "output_type": "stream",
          "name": "stdout",
          "text": [
            "class #0 : 0.19438\n",
            "class #1 : 0.00000\n",
            "class #2 : 0.00000\n",
            "class #3 : 0.00000\n",
            "class #4 : 0.00000\n",
            "class #5 : 0.00000\n",
            "class #6 : nan\n",
            "\n",
            "mean_iou: nan\n",
            "\n"
          ]
        },
        {
          "output_type": "stream",
          "name": "stderr",
          "text": [
            "\n",
            " 84%|████████▎ | 209/250 [02:00<00:23,  1.74it/s]\u001b[A"
          ]
        },
        {
          "output_type": "stream",
          "name": "stdout",
          "text": [
            "class #0 : 0.02070\n",
            "class #1 : 0.00000\n",
            "class #2 : 0.00000\n",
            "class #3 : 0.00000\n",
            "class #4 : 0.00000\n",
            "class #5 : 0.00000\n",
            "class #6 : nan\n",
            "\n",
            "mean_iou: nan\n",
            "\n"
          ]
        },
        {
          "output_type": "stream",
          "name": "stderr",
          "text": [
            "\n",
            " 84%|████████▍ | 210/250 [02:01<00:23,  1.74it/s]\u001b[A"
          ]
        },
        {
          "output_type": "stream",
          "name": "stdout",
          "text": [
            "class #0 : 0.19229\n",
            "class #1 : 0.00000\n",
            "class #2 : 0.00000\n",
            "class #3 : nan\n",
            "class #4 : 0.00000\n",
            "class #5 : 0.00000\n",
            "class #6 : nan\n",
            "\n",
            "mean_iou: nan\n",
            "\n"
          ]
        },
        {
          "output_type": "stream",
          "name": "stderr",
          "text": [
            "\n",
            " 84%|████████▍ | 211/250 [02:01<00:22,  1.74it/s]\u001b[A"
          ]
        },
        {
          "output_type": "stream",
          "name": "stdout",
          "text": [
            "class #0 : 0.19858\n",
            "class #1 : 0.00000\n",
            "class #2 : 0.00000\n",
            "class #3 : nan\n",
            "class #4 : 0.00000\n",
            "class #5 : 0.00000\n",
            "class #6 : nan\n",
            "\n",
            "mean_iou: nan\n",
            "\n"
          ]
        },
        {
          "output_type": "stream",
          "name": "stderr",
          "text": [
            "\n",
            " 85%|████████▍ | 212/250 [02:02<00:21,  1.74it/s]\u001b[A"
          ]
        },
        {
          "output_type": "stream",
          "name": "stdout",
          "text": [
            "class #0 : 0.01786\n",
            "class #1 : 0.00000\n",
            "class #2 : 0.00000\n",
            "class #3 : 0.00000\n",
            "class #4 : 0.00000\n",
            "class #5 : 0.00000\n",
            "class #6 : nan\n",
            "\n",
            "mean_iou: nan\n",
            "\n"
          ]
        },
        {
          "output_type": "stream",
          "name": "stderr",
          "text": [
            "\n",
            " 85%|████████▌ | 213/250 [02:02<00:21,  1.74it/s]\u001b[A"
          ]
        },
        {
          "output_type": "stream",
          "name": "stdout",
          "text": [
            "class #0 : 0.03290\n",
            "class #1 : 0.00000\n",
            "class #2 : 0.00000\n",
            "class #3 : 0.00000\n",
            "class #4 : 0.00000\n",
            "class #5 : 0.00000\n",
            "class #6 : nan\n",
            "\n",
            "mean_iou: nan\n",
            "\n"
          ]
        },
        {
          "output_type": "stream",
          "name": "stderr",
          "text": [
            "\n",
            " 86%|████████▌ | 214/250 [02:03<00:20,  1.74it/s]\u001b[A"
          ]
        },
        {
          "output_type": "stream",
          "name": "stdout",
          "text": [
            "class #0 : 0.09189\n",
            "class #1 : 0.00000\n",
            "class #2 : 0.00000\n",
            "class #3 : 0.00000\n",
            "class #4 : 0.00000\n",
            "class #5 : 0.00000\n",
            "class #6 : nan\n",
            "\n",
            "mean_iou: nan\n",
            "\n"
          ]
        },
        {
          "output_type": "stream",
          "name": "stderr",
          "text": [
            "\n",
            " 86%|████████▌ | 215/250 [02:03<00:20,  1.74it/s]\u001b[A"
          ]
        },
        {
          "output_type": "stream",
          "name": "stdout",
          "text": [
            "class #0 : 0.01000\n",
            "class #1 : 0.00000\n",
            "class #2 : 0.00000\n",
            "class #3 : 0.00000\n",
            "class #4 : 0.00000\n",
            "class #5 : 0.00000\n",
            "class #6 : nan\n",
            "\n",
            "mean_iou: nan\n",
            "\n"
          ]
        },
        {
          "output_type": "stream",
          "name": "stderr",
          "text": [
            "\n",
            " 86%|████████▋ | 216/250 [02:04<00:19,  1.74it/s]\u001b[A"
          ]
        },
        {
          "output_type": "stream",
          "name": "stdout",
          "text": [
            "class #0 : 0.09935\n",
            "class #1 : 0.00000\n",
            "class #2 : 0.00000\n",
            "class #3 : 0.00000\n",
            "class #4 : 0.00000\n",
            "class #5 : 0.00000\n",
            "class #6 : nan\n",
            "\n",
            "mean_iou: nan\n",
            "\n"
          ]
        },
        {
          "output_type": "stream",
          "name": "stderr",
          "text": [
            "\n",
            " 87%|████████▋ | 217/250 [02:05<00:19,  1.74it/s]\u001b[A"
          ]
        },
        {
          "output_type": "stream",
          "name": "stdout",
          "text": [
            "class #0 : 0.03470\n",
            "class #1 : 0.00000\n",
            "class #2 : 0.00000\n",
            "class #3 : 0.00000\n",
            "class #4 : 0.00000\n",
            "class #5 : 0.00000\n",
            "class #6 : 0.00000\n",
            "\n",
            "mean_iou: 0.004956\n",
            "\n"
          ]
        },
        {
          "output_type": "stream",
          "name": "stderr",
          "text": [
            "\n",
            " 87%|████████▋ | 218/250 [02:05<00:18,  1.73it/s]\u001b[A"
          ]
        },
        {
          "output_type": "stream",
          "name": "stdout",
          "text": [
            "class #0 : 0.22021\n",
            "class #1 : 0.00000\n",
            "class #2 : 0.00000\n",
            "class #3 : 0.00000\n",
            "class #4 : 0.00000\n",
            "class #5 : 0.00000\n",
            "class #6 : nan\n",
            "\n",
            "mean_iou: nan\n",
            "\n"
          ]
        },
        {
          "output_type": "stream",
          "name": "stderr",
          "text": [
            "\n",
            " 88%|████████▊ | 219/250 [02:06<00:17,  1.73it/s]\u001b[A"
          ]
        },
        {
          "output_type": "stream",
          "name": "stdout",
          "text": [
            "class #0 : 0.10056\n",
            "class #1 : 0.00000\n",
            "class #2 : 0.00000\n",
            "class #3 : 0.00000\n",
            "class #4 : 0.00000\n",
            "class #5 : 0.00000\n",
            "class #6 : 0.00000\n",
            "\n",
            "mean_iou: 0.014365\n",
            "\n"
          ]
        },
        {
          "output_type": "stream",
          "name": "stderr",
          "text": [
            "\n",
            " 88%|████████▊ | 220/250 [02:06<00:17,  1.73it/s]\u001b[A"
          ]
        },
        {
          "output_type": "stream",
          "name": "stdout",
          "text": [
            "class #0 : 0.23216\n",
            "class #1 : 0.00000\n",
            "class #2 : 0.00000\n",
            "class #3 : 0.00000\n",
            "class #4 : 0.00000\n",
            "class #5 : 0.00000\n",
            "class #6 : nan\n",
            "\n",
            "mean_iou: nan\n",
            "\n"
          ]
        },
        {
          "output_type": "stream",
          "name": "stderr",
          "text": [
            "\n",
            " 88%|████████▊ | 221/250 [02:07<00:16,  1.73it/s]\u001b[A"
          ]
        },
        {
          "output_type": "stream",
          "name": "stdout",
          "text": [
            "class #0 : 0.07930\n",
            "class #1 : 0.00000\n",
            "class #2 : 0.00000\n",
            "class #3 : 0.00000\n",
            "class #4 : 0.00000\n",
            "class #5 : 0.00000\n",
            "class #6 : 0.00000\n",
            "\n",
            "mean_iou: 0.011329\n",
            "\n"
          ]
        },
        {
          "output_type": "stream",
          "name": "stderr",
          "text": [
            "\n",
            " 89%|████████▉ | 222/250 [02:07<00:16,  1.73it/s]\u001b[A"
          ]
        },
        {
          "output_type": "stream",
          "name": "stdout",
          "text": [
            "class #0 : 0.13243\n",
            "class #1 : 0.00000\n",
            "class #2 : 0.00000\n",
            "class #3 : nan\n",
            "class #4 : 0.00000\n",
            "class #5 : 0.00000\n",
            "class #6 : nan\n",
            "\n",
            "mean_iou: nan\n",
            "\n"
          ]
        },
        {
          "output_type": "stream",
          "name": "stderr",
          "text": [
            "\n",
            " 89%|████████▉ | 223/250 [02:08<00:15,  1.73it/s]\u001b[A"
          ]
        },
        {
          "output_type": "stream",
          "name": "stdout",
          "text": [
            "class #0 : 0.05313\n",
            "class #1 : 0.00000\n",
            "class #2 : 0.00000\n",
            "class #3 : 0.00000\n",
            "class #4 : 0.00000\n",
            "class #5 : 0.00000\n",
            "class #6 : 0.00000\n",
            "\n",
            "mean_iou: 0.007590\n",
            "\n"
          ]
        },
        {
          "output_type": "stream",
          "name": "stderr",
          "text": [
            "\n",
            " 90%|████████▉ | 224/250 [02:09<00:14,  1.73it/s]\u001b[A"
          ]
        },
        {
          "output_type": "stream",
          "name": "stdout",
          "text": [
            "class #0 : 0.08452\n",
            "class #1 : 0.00000\n",
            "class #2 : 0.00000\n",
            "class #3 : 0.00000\n",
            "class #4 : 0.00000\n",
            "class #5 : 0.00000\n",
            "class #6 : nan\n",
            "\n",
            "mean_iou: nan\n",
            "\n"
          ]
        },
        {
          "output_type": "stream",
          "name": "stderr",
          "text": [
            "\n",
            " 90%|█████████ | 225/250 [02:09<00:14,  1.73it/s]\u001b[A"
          ]
        },
        {
          "output_type": "stream",
          "name": "stdout",
          "text": [
            "class #0 : 0.09158\n",
            "class #1 : 0.00000\n",
            "class #2 : 0.00000\n",
            "class #3 : 0.00000\n",
            "class #4 : nan\n",
            "class #5 : 0.00000\n",
            "class #6 : nan\n",
            "\n",
            "mean_iou: nan\n",
            "\n"
          ]
        },
        {
          "output_type": "stream",
          "name": "stderr",
          "text": [
            "\n",
            " 90%|█████████ | 226/250 [02:10<00:13,  1.73it/s]\u001b[A"
          ]
        },
        {
          "output_type": "stream",
          "name": "stdout",
          "text": [
            "class #0 : 0.09934\n",
            "class #1 : 0.00000\n",
            "class #2 : 0.00000\n",
            "class #3 : 0.00000\n",
            "class #4 : 0.00000\n",
            "class #5 : 0.00000\n",
            "class #6 : nan\n",
            "\n",
            "mean_iou: nan\n",
            "\n"
          ]
        },
        {
          "output_type": "stream",
          "name": "stderr",
          "text": [
            "\n",
            " 91%|█████████ | 227/250 [02:10<00:13,  1.73it/s]\u001b[A"
          ]
        },
        {
          "output_type": "stream",
          "name": "stdout",
          "text": [
            "class #0 : 0.00820\n",
            "class #1 : 0.00000\n",
            "class #2 : 0.00000\n",
            "class #3 : 0.00000\n",
            "class #4 : 0.00000\n",
            "class #5 : 0.00000\n",
            "class #6 : nan\n",
            "\n",
            "mean_iou: nan\n",
            "\n"
          ]
        },
        {
          "output_type": "stream",
          "name": "stderr",
          "text": [
            "\n",
            " 91%|█████████ | 228/250 [02:11<00:12,  1.73it/s]\u001b[A"
          ]
        },
        {
          "output_type": "stream",
          "name": "stdout",
          "text": [
            "class #0 : 0.01913\n",
            "class #1 : 0.00000\n",
            "class #2 : 0.00000\n",
            "class #3 : 0.00000\n",
            "class #4 : 0.00000\n",
            "class #5 : 0.00000\n",
            "class #6 : nan\n",
            "\n",
            "mean_iou: nan\n",
            "\n"
          ]
        },
        {
          "output_type": "stream",
          "name": "stderr",
          "text": [
            "\n",
            " 92%|█████████▏| 229/250 [02:11<00:12,  1.74it/s]\u001b[A"
          ]
        },
        {
          "output_type": "stream",
          "name": "stdout",
          "text": [
            "class #0 : 0.00206\n",
            "class #1 : 0.00000\n",
            "class #2 : 0.00000\n",
            "class #3 : 0.00000\n",
            "class #4 : 0.00000\n",
            "class #5 : 0.00000\n",
            "class #6 : nan\n",
            "\n",
            "mean_iou: nan\n",
            "\n"
          ]
        },
        {
          "output_type": "stream",
          "name": "stderr",
          "text": [
            "\n",
            " 92%|█████████▏| 230/250 [02:12<00:11,  1.74it/s]\u001b[A"
          ]
        },
        {
          "output_type": "stream",
          "name": "stdout",
          "text": [
            "class #0 : 0.13574\n",
            "class #1 : 0.00000\n",
            "class #2 : 0.00000\n",
            "class #3 : 0.00000\n",
            "class #4 : 0.00000\n",
            "class #5 : 0.00000\n",
            "class #6 : nan\n",
            "\n",
            "mean_iou: nan\n",
            "\n"
          ]
        },
        {
          "output_type": "stream",
          "name": "stderr",
          "text": [
            "\n",
            " 92%|█████████▏| 231/250 [02:13<00:10,  1.74it/s]\u001b[A"
          ]
        },
        {
          "output_type": "stream",
          "name": "stdout",
          "text": [
            "class #0 : 0.20169\n",
            "class #1 : 0.00000\n",
            "class #2 : 0.00000\n",
            "class #3 : 0.00000\n",
            "class #4 : 0.00000\n",
            "class #5 : 0.00000\n",
            "class #6 : nan\n",
            "\n",
            "mean_iou: nan\n",
            "\n"
          ]
        },
        {
          "output_type": "stream",
          "name": "stderr",
          "text": [
            "\n",
            " 93%|█████████▎| 232/250 [02:13<00:10,  1.74it/s]\u001b[A"
          ]
        },
        {
          "output_type": "stream",
          "name": "stdout",
          "text": [
            "class #0 : 0.14437\n",
            "class #1 : 0.00000\n",
            "class #2 : 0.00000\n",
            "class #3 : 0.00000\n",
            "class #4 : 0.00000\n",
            "class #5 : 0.00000\n",
            "class #6 : 0.00000\n",
            "\n",
            "mean_iou: 0.020625\n",
            "\n"
          ]
        },
        {
          "output_type": "stream",
          "name": "stderr",
          "text": [
            "\n",
            " 93%|█████████▎| 233/250 [02:14<00:09,  1.73it/s]\u001b[A"
          ]
        },
        {
          "output_type": "stream",
          "name": "stdout",
          "text": [
            "class #0 : 0.20060\n",
            "class #1 : 0.00000\n",
            "class #2 : 0.00000\n",
            "class #3 : nan\n",
            "class #4 : 0.00000\n",
            "class #5 : 0.00000\n",
            "class #6 : nan\n",
            "\n",
            "mean_iou: nan\n",
            "\n"
          ]
        },
        {
          "output_type": "stream",
          "name": "stderr",
          "text": [
            "\n",
            " 94%|█████████▎| 234/250 [02:14<00:09,  1.73it/s]\u001b[A"
          ]
        },
        {
          "output_type": "stream",
          "name": "stdout",
          "text": [
            "class #0 : 0.13280\n",
            "class #1 : 0.00000\n",
            "class #2 : 0.00000\n",
            "class #3 : nan\n",
            "class #4 : 0.00000\n",
            "class #5 : 0.00000\n",
            "class #6 : nan\n",
            "\n",
            "mean_iou: nan\n",
            "\n"
          ]
        },
        {
          "output_type": "stream",
          "name": "stderr",
          "text": [
            "\n",
            " 94%|█████████▍| 235/250 [02:15<00:08,  1.73it/s]\u001b[A"
          ]
        },
        {
          "output_type": "stream",
          "name": "stdout",
          "text": [
            "class #0 : 0.01155\n",
            "class #1 : 0.00000\n",
            "class #2 : 0.00000\n",
            "class #3 : 0.00000\n",
            "class #4 : 0.00000\n",
            "class #5 : 0.00000\n",
            "class #6 : nan\n",
            "\n",
            "mean_iou: nan\n",
            "\n"
          ]
        },
        {
          "output_type": "stream",
          "name": "stderr",
          "text": [
            "\n",
            " 94%|█████████▍| 236/250 [02:15<00:08,  1.73it/s]\u001b[A"
          ]
        },
        {
          "output_type": "stream",
          "name": "stdout",
          "text": [
            "class #0 : 0.10523\n",
            "class #1 : 0.00000\n",
            "class #2 : 0.00000\n",
            "class #3 : nan\n",
            "class #4 : 0.00000\n",
            "class #5 : 0.00000\n",
            "class #6 : 0.00000\n",
            "\n",
            "mean_iou: nan\n",
            "\n"
          ]
        },
        {
          "output_type": "stream",
          "name": "stderr",
          "text": [
            "\n",
            " 95%|█████████▍| 237/250 [02:16<00:07,  1.74it/s]\u001b[A"
          ]
        },
        {
          "output_type": "stream",
          "name": "stdout",
          "text": [
            "class #0 : 0.06711\n",
            "class #1 : 0.00000\n",
            "class #2 : 0.00000\n",
            "class #3 : 0.00000\n",
            "class #4 : 0.00000\n",
            "class #5 : 0.00000\n",
            "class #6 : nan\n",
            "\n",
            "mean_iou: nan\n",
            "\n"
          ]
        },
        {
          "output_type": "stream",
          "name": "stderr",
          "text": [
            "\n",
            " 95%|█████████▌| 238/250 [02:17<00:06,  1.74it/s]\u001b[A"
          ]
        },
        {
          "output_type": "stream",
          "name": "stdout",
          "text": [
            "class #0 : 0.16961\n",
            "class #1 : 0.00000\n",
            "class #2 : 0.00000\n",
            "class #3 : 0.00000\n",
            "class #4 : 0.00000\n",
            "class #5 : 0.00000\n",
            "class #6 : nan\n",
            "\n",
            "mean_iou: nan\n",
            "\n"
          ]
        },
        {
          "output_type": "stream",
          "name": "stderr",
          "text": [
            "\n",
            " 96%|█████████▌| 239/250 [02:17<00:06,  1.74it/s]\u001b[A"
          ]
        },
        {
          "output_type": "stream",
          "name": "stdout",
          "text": [
            "class #0 : 0.22985\n",
            "class #1 : 0.00000\n",
            "class #2 : 0.00000\n",
            "class #3 : 0.00000\n",
            "class #4 : 0.00000\n",
            "class #5 : 0.00000\n",
            "class #6 : nan\n",
            "\n",
            "mean_iou: nan\n",
            "\n"
          ]
        },
        {
          "output_type": "stream",
          "name": "stderr",
          "text": [
            "\n",
            " 96%|█████████▌| 240/250 [02:18<00:05,  1.74it/s]\u001b[A"
          ]
        },
        {
          "output_type": "stream",
          "name": "stdout",
          "text": [
            "class #0 : 0.03214\n",
            "class #1 : 0.00000\n",
            "class #2 : 0.00000\n",
            "class #3 : 0.00000\n",
            "class #4 : 0.00000\n",
            "class #5 : 0.00000\n",
            "class #6 : 0.00000\n",
            "\n",
            "mean_iou: 0.004592\n",
            "\n"
          ]
        },
        {
          "output_type": "stream",
          "name": "stderr",
          "text": [
            "\n",
            " 96%|█████████▋| 241/250 [02:18<00:05,  1.74it/s]\u001b[A"
          ]
        },
        {
          "output_type": "stream",
          "name": "stdout",
          "text": [
            "class #0 : 0.13704\n",
            "class #1 : 0.00000\n",
            "class #2 : 0.00000\n",
            "class #3 : nan\n",
            "class #4 : 0.00000\n",
            "class #5 : 0.00000\n",
            "class #6 : nan\n",
            "\n",
            "mean_iou: nan\n",
            "\n"
          ]
        },
        {
          "output_type": "stream",
          "name": "stderr",
          "text": [
            "\n",
            " 97%|█████████▋| 242/250 [02:19<00:04,  1.74it/s]\u001b[A"
          ]
        },
        {
          "output_type": "stream",
          "name": "stdout",
          "text": [
            "class #0 : 0.10946\n",
            "class #1 : 0.00000\n",
            "class #2 : 0.00000\n",
            "class #3 : 0.00000\n",
            "class #4 : 0.00000\n",
            "class #5 : 0.00000\n",
            "class #6 : nan\n",
            "\n",
            "mean_iou: nan\n",
            "\n"
          ]
        },
        {
          "output_type": "stream",
          "name": "stderr",
          "text": [
            "\n",
            " 97%|█████████▋| 243/250 [02:20<00:04,  1.74it/s]\u001b[A"
          ]
        },
        {
          "output_type": "stream",
          "name": "stdout",
          "text": [
            "class #0 : 0.20558\n",
            "class #1 : 0.00000\n",
            "class #2 : 0.00000\n",
            "class #3 : 0.00000\n",
            "class #4 : 0.00000\n",
            "class #5 : 0.00000\n",
            "class #6 : nan\n",
            "\n",
            "mean_iou: nan\n",
            "\n"
          ]
        },
        {
          "output_type": "stream",
          "name": "stderr",
          "text": [
            "\n",
            " 98%|█████████▊| 244/250 [02:20<00:03,  1.74it/s]\u001b[A"
          ]
        },
        {
          "output_type": "stream",
          "name": "stdout",
          "text": [
            "class #0 : 0.15835\n",
            "class #1 : 0.00000\n",
            "class #2 : 0.00000\n",
            "class #3 : nan\n",
            "class #4 : 0.00000\n",
            "class #5 : 0.00000\n",
            "class #6 : nan\n",
            "\n",
            "mean_iou: nan\n",
            "\n"
          ]
        },
        {
          "output_type": "stream",
          "name": "stderr",
          "text": [
            "\n",
            " 98%|█████████▊| 245/250 [02:21<00:02,  1.73it/s]\u001b[A"
          ]
        },
        {
          "output_type": "stream",
          "name": "stdout",
          "text": [
            "class #0 : 0.05999\n",
            "class #1 : 0.00000\n",
            "class #2 : 0.00000\n",
            "class #3 : 0.00000\n",
            "class #4 : 0.00000\n",
            "class #5 : 0.00000\n",
            "class #6 : nan\n",
            "\n",
            "mean_iou: nan\n",
            "\n"
          ]
        },
        {
          "output_type": "stream",
          "name": "stderr",
          "text": [
            "\n",
            " 98%|█████████▊| 246/250 [02:21<00:02,  1.73it/s]\u001b[A"
          ]
        },
        {
          "output_type": "stream",
          "name": "stdout",
          "text": [
            "class #0 : 0.01880\n",
            "class #1 : 0.00000\n",
            "class #2 : 0.00000\n",
            "class #3 : 0.00000\n",
            "class #4 : 0.00000\n",
            "class #5 : 0.00000\n",
            "class #6 : nan\n",
            "\n",
            "mean_iou: nan\n",
            "\n"
          ]
        },
        {
          "output_type": "stream",
          "name": "stderr",
          "text": [
            "\n",
            " 99%|█████████▉| 247/250 [02:22<00:01,  1.73it/s]\u001b[A"
          ]
        },
        {
          "output_type": "stream",
          "name": "stdout",
          "text": [
            "class #0 : 0.12614\n",
            "class #1 : 0.00000\n",
            "class #2 : 0.00000\n",
            "class #3 : 0.00000\n",
            "class #4 : 0.00000\n",
            "class #5 : 0.00000\n",
            "class #6 : nan\n",
            "\n",
            "mean_iou: nan\n",
            "\n"
          ]
        },
        {
          "output_type": "stream",
          "name": "stderr",
          "text": [
            "\n",
            " 99%|█████████▉| 248/250 [02:22<00:01,  1.74it/s]\u001b[A"
          ]
        },
        {
          "output_type": "stream",
          "name": "stdout",
          "text": [
            "class #0 : 0.09935\n",
            "class #1 : 0.00000\n",
            "class #2 : 0.00000\n",
            "class #3 : 0.00000\n",
            "class #4 : 0.00000\n",
            "class #5 : 0.00000\n",
            "class #6 : nan\n",
            "\n",
            "mean_iou: nan\n",
            "\n"
          ]
        },
        {
          "output_type": "stream",
          "name": "stderr",
          "text": [
            "\n",
            "100%|█████████▉| 249/250 [02:23<00:00,  1.74it/s]\u001b[A"
          ]
        },
        {
          "output_type": "stream",
          "name": "stdout",
          "text": [
            "class #0 : 0.13364\n",
            "class #1 : 0.00000\n",
            "class #2 : 0.00000\n",
            "class #3 : 0.00000\n",
            "class #4 : 0.00000\n",
            "class #5 : 0.00000\n",
            "class #6 : nan\n",
            "\n",
            "mean_iou: nan\n",
            "\n"
          ]
        },
        {
          "output_type": "stream",
          "name": "stderr",
          "text": [
            "\n",
            "100%|██████████| 250/250 [02:24<00:00,  1.74it/s]\u001b[A\n",
            "                                                 \u001b[A"
          ]
        },
        {
          "output_type": "stream",
          "name": "stdout",
          "text": [
            "class #0 : 0.19487\n",
            "class #1 : 0.00000\n",
            "class #2 : 0.00000\n",
            "class #3 : 0.00000\n",
            "class #4 : 0.00000\n",
            "class #5 : 0.00000\n",
            "class #6 : nan\n",
            "\n",
            "mean_iou: nan\n",
            "\n",
            "class #0 : 0.09742\n",
            "class #1 : 0.00000\n",
            "class #2 : 0.00000\n",
            "class #3 : nan\n",
            "class #4 : 0.00000\n",
            "class #5 : 0.00000\n",
            "class #6 : nan\n",
            "\n",
            "mean_iou: nan\n",
            "\n",
            "class #0 : 0.01251\n",
            "class #1 : 0.00000\n",
            "class #2 : 0.00000\n",
            "class #3 : 0.00000\n",
            "class #4 : 0.00000\n",
            "class #5 : 0.00000\n",
            "class #6 : 0.00000\n",
            "\n",
            "mean_iou: 0.001787\n",
            "\n",
            "class #0 : 0.06061\n",
            "class #1 : 0.00000\n",
            "class #2 : 0.00000\n",
            "class #3 : 0.00000\n",
            "class #4 : 0.00000\n",
            "class #5 : 0.00000\n",
            "class #6 : 0.00000\n",
            "\n",
            "mean_iou: 0.008658\n",
            "\n",
            "class #0 : 0.16061\n",
            "class #1 : 0.00000\n",
            "class #2 : 0.00000\n",
            "class #3 : 0.00000\n",
            "class #4 : 0.00000\n",
            "class #5 : 0.00000\n",
            "class #6 : nan\n",
            "\n",
            "mean_iou: nan\n",
            "\n",
            "class #0 : 0.14800\n",
            "class #1 : 0.00000\n",
            "class #2 : 0.00000\n",
            "class #3 : 0.00000\n",
            "class #4 : 0.00000\n",
            "class #5 : 0.00000\n",
            "class #6 : nan\n",
            "\n",
            "mean_iou: nan\n",
            "\n",
            "class #0 : 0.02407\n",
            "class #1 : 0.00000\n",
            "class #2 : 0.00000\n",
            "class #3 : 0.00000\n",
            "class #4 : 0.00000\n",
            "class #5 : 0.00000\n",
            "class #6 : 0.00000\n",
            "\n",
            "mean_iou: 0.003438\n",
            "\n",
            "class #0 : 0.09507\n",
            "class #1 : 0.00000\n",
            "class #2 : 0.00000\n",
            "class #3 : 0.00000\n",
            "class #4 : 0.00000\n",
            "class #5 : 0.00000\n",
            "class #6 : nan\n",
            "\n",
            "mean_iou: nan\n",
            "\n",
            "class #0 : 0.24551\n",
            "class #1 : 0.00000\n",
            "class #2 : 0.00000\n",
            "class #3 : nan\n",
            "class #4 : 0.00000\n",
            "class #5 : 0.00000\n",
            "class #6 : nan\n",
            "\n",
            "mean_iou: nan\n",
            "\n",
            "class #0 : 0.05444\n",
            "class #1 : 0.00000\n",
            "class #2 : 0.00000\n",
            "class #3 : 0.00000\n",
            "class #4 : 0.00000\n",
            "class #5 : 0.00000\n",
            "class #6 : 0.00000\n",
            "\n",
            "mean_iou: 0.007777\n",
            "\n",
            "class #0 : 0.11948\n",
            "class #1 : 0.00000\n",
            "class #2 : 0.00000\n",
            "class #3 : 0.00000\n",
            "class #4 : 0.00000\n",
            "class #5 : 0.00000\n",
            "class #6 : nan\n",
            "\n",
            "mean_iou: nan\n",
            "\n",
            "class #0 : 0.13125\n",
            "class #1 : 0.00000\n",
            "class #2 : 0.00000\n",
            "class #3 : 0.00000\n",
            "class #4 : 0.00000\n",
            "class #5 : 0.00000\n",
            "class #6 : nan\n",
            "\n",
            "mean_iou: nan\n",
            "\n",
            "class #0 : 0.20102\n",
            "class #1 : 0.00000\n",
            "class #2 : 0.00000\n",
            "class #3 : 0.00000\n",
            "class #4 : 0.00000\n",
            "class #5 : 0.00000\n",
            "class #6 : nan\n",
            "\n",
            "mean_iou: nan\n",
            "\n",
            "class #0 : 0.01626\n",
            "class #1 : 0.00000\n",
            "class #2 : 0.00000\n",
            "class #3 : 0.00000\n",
            "class #4 : 0.00000\n",
            "class #5 : 0.00000\n",
            "class #6 : nan\n",
            "\n",
            "mean_iou: nan\n",
            "\n",
            "class #0 : 0.16209\n",
            "class #1 : 0.00000\n",
            "class #2 : 0.00000\n",
            "class #3 : 0.00000\n",
            "class #4 : 0.00000\n",
            "class #5 : 0.00000\n",
            "class #6 : 0.00000\n",
            "\n",
            "mean_iou: 0.023156\n",
            "\n",
            "class #0 : 0.13683\n",
            "class #1 : 0.00000\n",
            "class #2 : 0.00000\n",
            "class #3 : 0.00000\n",
            "class #4 : 0.00000\n",
            "class #5 : 0.00000\n",
            "class #6 : nan\n",
            "\n",
            "mean_iou: nan\n",
            "\n",
            "class #0 : 0.14109\n",
            "class #1 : 0.00000\n",
            "class #2 : 0.00000\n",
            "class #3 : 0.00000\n",
            "class #4 : 0.00000\n",
            "class #5 : 0.00000\n",
            "class #6 : nan\n",
            "\n",
            "mean_iou: nan\n",
            "\n",
            "class #0 : 0.02995\n",
            "class #1 : 0.00000\n",
            "class #2 : 0.00000\n",
            "class #3 : 0.00000\n",
            "class #4 : 0.00000\n",
            "class #5 : 0.00000\n",
            "class #6 : nan\n",
            "\n",
            "mean_iou: nan\n",
            "\n",
            "class #0 : 0.17318\n",
            "class #1 : 0.00000\n",
            "class #2 : 0.00000\n",
            "class #3 : nan\n",
            "class #4 : 0.00000\n",
            "class #5 : 0.00000\n",
            "class #6 : 0.00000\n",
            "\n",
            "mean_iou: nan\n",
            "\n",
            "class #0 : 0.14210\n",
            "class #1 : 0.00000\n",
            "class #2 : 0.00000\n",
            "class #3 : nan\n",
            "class #4 : 0.00000\n",
            "class #5 : 0.00000\n",
            "class #6 : nan\n",
            "\n",
            "mean_iou: nan\n",
            "\n",
            "class #0 : 0.02320\n",
            "class #1 : 0.00000\n",
            "class #2 : 0.00000\n",
            "class #3 : nan\n",
            "class #4 : 0.00000\n",
            "class #5 : 0.00000\n",
            "class #6 : 0.00000\n",
            "\n",
            "mean_iou: nan\n",
            "\n",
            "class #0 : 0.11879\n",
            "class #1 : 0.00000\n",
            "class #2 : 0.00000\n",
            "class #3 : nan\n",
            "class #4 : 0.00000\n",
            "class #5 : 0.00000\n",
            "class #6 : nan\n",
            "\n",
            "mean_iou: nan\n",
            "\n",
            "class #0 : 0.09808\n",
            "class #1 : 0.00000\n",
            "class #2 : 0.00000\n",
            "class #3 : 0.00000\n",
            "class #4 : 0.00000\n",
            "class #5 : 0.00000\n",
            "class #6 : nan\n",
            "\n",
            "mean_iou: nan\n",
            "\n",
            "class #0 : 0.16597\n",
            "class #1 : 0.00000\n",
            "class #2 : 0.00000\n",
            "class #3 : 0.00000\n",
            "class #4 : 0.00000\n",
            "class #5 : 0.00000\n",
            "class #6 : 0.00000\n",
            "\n",
            "mean_iou: 0.023710\n",
            "\n",
            "class #0 : 0.03327\n",
            "class #1 : 0.00000\n",
            "class #2 : 0.00000\n",
            "class #3 : 0.00000\n",
            "class #4 : 0.00000\n",
            "class #5 : 0.00000\n",
            "class #6 : nan\n",
            "\n",
            "mean_iou: nan\n",
            "\n",
            "class #0 : 0.01487\n",
            "class #1 : 0.00000\n",
            "class #2 : 0.00000\n",
            "class #3 : 0.00000\n",
            "class #4 : 0.00000\n",
            "class #5 : 0.00000\n",
            "class #6 : nan\n",
            "\n",
            "mean_iou: nan\n",
            "\n",
            "class #0 : 0.01834\n",
            "class #1 : 0.00000\n",
            "class #2 : 0.00000\n",
            "class #3 : 0.00000\n",
            "class #4 : 0.00000\n",
            "class #5 : 0.00000\n",
            "class #6 : nan\n",
            "\n",
            "mean_iou: nan\n",
            "\n",
            "class #0 : 0.02141\n",
            "class #1 : 0.00000\n",
            "class #2 : 0.00000\n",
            "class #3 : 0.00000\n",
            "class #4 : 0.00000\n",
            "class #5 : 0.00000\n",
            "class #6 : nan\n",
            "\n",
            "mean_iou: nan\n",
            "\n",
            "class #0 : 0.02525\n",
            "class #1 : 0.00000\n",
            "class #2 : 0.00000\n",
            "class #3 : 0.00000\n",
            "class #4 : nan\n",
            "class #5 : 0.00000\n",
            "class #6 : nan\n",
            "\n",
            "mean_iou: nan\n",
            "\n",
            "class #0 : 0.02541\n",
            "class #1 : 0.00000\n",
            "class #2 : 0.00000\n",
            "class #3 : 0.00000\n",
            "class #4 : 0.00000\n",
            "class #5 : 0.00000\n",
            "class #6 : nan\n",
            "\n",
            "mean_iou: nan\n",
            "\n",
            "class #0 : 0.02101\n",
            "class #1 : 0.00000\n",
            "class #2 : 0.00000\n",
            "class #3 : 0.00000\n",
            "class #4 : 0.00000\n",
            "class #5 : 0.00000\n",
            "class #6 : 0.00000\n",
            "\n",
            "mean_iou: 0.003001\n",
            "\n",
            "class #0 : 0.11204\n",
            "class #1 : 0.00000\n",
            "class #2 : 0.00000\n",
            "class #3 : 0.00000\n",
            "class #4 : 0.00000\n",
            "class #5 : 0.00000\n",
            "class #6 : 0.00000\n",
            "\n",
            "mean_iou: 0.016006\n",
            "\n",
            "class #0 : 0.04331\n",
            "class #1 : 0.00000\n",
            "class #2 : 0.00000\n",
            "class #3 : 0.00000\n",
            "class #4 : 0.00000\n",
            "class #5 : 0.00000\n",
            "class #6 : nan\n",
            "\n",
            "mean_iou: nan\n",
            "\n",
            "class #0 : 0.00834\n",
            "class #1 : 0.00000\n",
            "class #2 : nan\n",
            "class #3 : 0.00000\n",
            "class #4 : nan\n",
            "class #5 : nan\n",
            "class #6 : nan\n",
            "\n",
            "mean_iou: nan\n",
            "\n",
            "EPOCH: 0000 train_loss: 1.9459 val_loss: 1.9459, train_mean_iou: nan, val_mean_iou: nan\n"
          ]
        },
        {
          "output_type": "stream",
          "name": "stderr",
          "text": [
            "  2%|▏         | 1/50 [04:27<3:38:24, 267.43s/it]\n",
            "  0%|          | 0/250 [00:00<?, ?it/s]\u001b[A\n",
            "  0%|          | 1/250 [00:00<03:38,  1.14it/s]\u001b[A"
          ]
        },
        {
          "output_type": "stream",
          "name": "stdout",
          "text": [
            "class #0 : 0.10068\n",
            "class #1 : 0.00000\n",
            "class #2 : 0.00000\n",
            "class #3 : 0.00000\n",
            "class #4 : 0.00000\n",
            "class #5 : 0.00000\n",
            "class #6 : 0.00000\n",
            "\n",
            "mean_iou: 0.014383\n",
            "\n"
          ]
        },
        {
          "output_type": "stream",
          "name": "stderr",
          "text": [
            "\n",
            "  1%|          | 2/250 [00:01<02:53,  1.43it/s]\u001b[A"
          ]
        },
        {
          "output_type": "stream",
          "name": "stdout",
          "text": [
            "class #0 : 0.04354\n",
            "class #1 : 0.00000\n",
            "class #2 : 0.00000\n",
            "class #3 : 0.00000\n",
            "class #4 : 0.00000\n",
            "class #5 : nan\n",
            "class #6 : nan\n",
            "\n",
            "mean_iou: nan\n",
            "\n"
          ]
        },
        {
          "output_type": "stream",
          "name": "stderr",
          "text": [
            "\n",
            "  1%|          | 3/250 [00:02<02:46,  1.48it/s]\u001b[A"
          ]
        },
        {
          "output_type": "stream",
          "name": "stdout",
          "text": [
            "class #0 : 0.27778\n",
            "class #1 : 0.00000\n",
            "class #2 : 0.00000\n",
            "class #3 : 0.00000\n",
            "class #4 : 0.00000\n",
            "class #5 : 0.00000\n",
            "class #6 : nan\n",
            "\n",
            "mean_iou: nan\n",
            "\n"
          ]
        },
        {
          "output_type": "stream",
          "name": "stderr",
          "text": [
            "\n",
            "  2%|▏         | 4/250 [00:02<02:38,  1.56it/s]\u001b[A"
          ]
        },
        {
          "output_type": "stream",
          "name": "stdout",
          "text": [
            "class #0 : 0.01156\n",
            "class #1 : 0.00000\n",
            "class #2 : 0.00000\n",
            "class #3 : 0.00000\n",
            "class #4 : 0.00000\n",
            "class #5 : 0.00000\n",
            "class #6 : nan\n",
            "\n",
            "mean_iou: nan\n",
            "\n"
          ]
        },
        {
          "output_type": "stream",
          "name": "stderr",
          "text": [
            "\n",
            "  2%|▏         | 5/250 [00:03<02:33,  1.60it/s]\u001b[A"
          ]
        },
        {
          "output_type": "stream",
          "name": "stdout",
          "text": [
            "class #0 : 0.07093\n",
            "class #1 : 0.00000\n",
            "class #2 : 0.00000\n",
            "class #3 : 0.00000\n",
            "class #4 : 0.00000\n",
            "class #5 : 0.00000\n",
            "class #6 : nan\n",
            "\n",
            "mean_iou: nan\n",
            "\n"
          ]
        },
        {
          "output_type": "stream",
          "name": "stderr",
          "text": [
            "\n",
            "  2%|▏         | 6/250 [00:03<02:30,  1.62it/s]\u001b[A"
          ]
        },
        {
          "output_type": "stream",
          "name": "stdout",
          "text": [
            "class #0 : 0.15739\n",
            "class #1 : 0.00000\n",
            "class #2 : 0.00000\n",
            "class #3 : 0.00000\n",
            "class #4 : 0.00000\n",
            "class #5 : 0.00000\n",
            "class #6 : nan\n",
            "\n",
            "mean_iou: nan\n",
            "\n"
          ]
        },
        {
          "output_type": "stream",
          "name": "stderr",
          "text": [
            "\n",
            "  3%|▎         | 7/250 [00:04<02:28,  1.64it/s]\u001b[A"
          ]
        },
        {
          "output_type": "stream",
          "name": "stdout",
          "text": [
            "class #0 : 0.25135\n",
            "class #1 : 0.00000\n",
            "class #2 : 0.00000\n",
            "class #3 : 0.00000\n",
            "class #4 : 0.00000\n",
            "class #5 : 0.00000\n",
            "class #6 : 0.00000\n",
            "\n",
            "mean_iou: 0.035906\n",
            "\n"
          ]
        },
        {
          "output_type": "stream",
          "name": "stderr",
          "text": [
            "\n",
            "  3%|▎         | 8/250 [00:05<02:26,  1.65it/s]\u001b[A"
          ]
        },
        {
          "output_type": "stream",
          "name": "stdout",
          "text": [
            "class #0 : 0.29868\n",
            "class #1 : 0.00000\n",
            "class #2 : 0.00000\n",
            "class #3 : nan\n",
            "class #4 : 0.00000\n",
            "class #5 : 0.00000\n",
            "class #6 : nan\n",
            "\n",
            "mean_iou: nan\n",
            "\n"
          ]
        },
        {
          "output_type": "stream",
          "name": "stderr",
          "text": [
            "\n",
            "  4%|▎         | 9/250 [00:05<02:25,  1.66it/s]\u001b[A"
          ]
        },
        {
          "output_type": "stream",
          "name": "stdout",
          "text": [
            "class #0 : 0.10348\n",
            "class #1 : 0.00000\n",
            "class #2 : 0.00000\n",
            "class #3 : 0.00000\n",
            "class #4 : 0.00000\n",
            "class #5 : 0.00000\n",
            "class #6 : nan\n",
            "\n",
            "mean_iou: nan\n",
            "\n"
          ]
        },
        {
          "output_type": "stream",
          "name": "stderr",
          "text": [
            "\n",
            "  4%|▍         | 10/250 [00:06<02:24,  1.67it/s]\u001b[A"
          ]
        },
        {
          "output_type": "stream",
          "name": "stdout",
          "text": [
            "class #0 : 0.14819\n",
            "class #1 : 0.00000\n",
            "class #2 : 0.00000\n",
            "class #3 : 0.00000\n",
            "class #4 : 0.00000\n",
            "class #5 : 0.00000\n",
            "class #6 : 0.00000\n",
            "\n",
            "mean_iou: 0.021169\n",
            "\n"
          ]
        },
        {
          "output_type": "stream",
          "name": "stderr",
          "text": [
            "\n",
            "  4%|▍         | 11/250 [00:06<02:22,  1.67it/s]\u001b[A"
          ]
        },
        {
          "output_type": "stream",
          "name": "stdout",
          "text": [
            "class #0 : 0.13506\n",
            "class #1 : 0.00000\n",
            "class #2 : 0.00000\n",
            "class #3 : 0.00000\n",
            "class #4 : 0.00000\n",
            "class #5 : 0.00000\n",
            "class #6 : nan\n",
            "\n",
            "mean_iou: nan\n",
            "\n"
          ]
        },
        {
          "output_type": "stream",
          "name": "stderr",
          "text": [
            "\n",
            "  5%|▍         | 12/250 [00:07<02:22,  1.67it/s]\u001b[A"
          ]
        },
        {
          "output_type": "stream",
          "name": "stdout",
          "text": [
            "class #0 : 0.14658\n",
            "class #1 : 0.00000\n",
            "class #2 : 0.00000\n",
            "class #3 : 0.00000\n",
            "class #4 : 0.00000\n",
            "class #5 : 0.00000\n",
            "class #6 : nan\n",
            "\n",
            "mean_iou: nan\n",
            "\n"
          ]
        },
        {
          "output_type": "stream",
          "name": "stderr",
          "text": [
            "\n",
            "  5%|▌         | 13/250 [00:08<02:21,  1.67it/s]\u001b[A"
          ]
        },
        {
          "output_type": "stream",
          "name": "stdout",
          "text": [
            "class #0 : 0.07877\n",
            "class #1 : 0.00000\n",
            "class #2 : 0.00000\n",
            "class #3 : 0.00000\n",
            "class #4 : 0.00000\n",
            "class #5 : 0.00000\n",
            "class #6 : 0.00000\n",
            "\n",
            "mean_iou: 0.011253\n",
            "\n"
          ]
        },
        {
          "output_type": "stream",
          "name": "stderr",
          "text": [
            "\n",
            "  6%|▌         | 14/250 [00:08<02:20,  1.68it/s]\u001b[A"
          ]
        },
        {
          "output_type": "stream",
          "name": "stdout",
          "text": [
            "class #0 : 0.03578\n",
            "class #1 : 0.00000\n",
            "class #2 : 0.00000\n",
            "class #3 : 0.00000\n",
            "class #4 : 0.00000\n",
            "class #5 : 0.00000\n",
            "class #6 : nan\n",
            "\n",
            "mean_iou: nan\n",
            "\n"
          ]
        },
        {
          "output_type": "stream",
          "name": "stderr",
          "text": [
            "\n",
            "  6%|▌         | 15/250 [00:09<02:20,  1.68it/s]\u001b[A"
          ]
        },
        {
          "output_type": "stream",
          "name": "stdout",
          "text": [
            "class #0 : 0.20310\n",
            "class #1 : 0.00000\n",
            "class #2 : 0.00000\n",
            "class #3 : nan\n",
            "class #4 : 0.00000\n",
            "class #5 : 0.00000\n",
            "class #6 : nan\n",
            "\n",
            "mean_iou: nan\n",
            "\n"
          ]
        },
        {
          "output_type": "stream",
          "name": "stderr",
          "text": [
            "\n",
            "  6%|▋         | 16/250 [00:09<02:19,  1.68it/s]\u001b[A"
          ]
        },
        {
          "output_type": "stream",
          "name": "stdout",
          "text": [
            "class #0 : 0.00612\n",
            "class #1 : 0.00000\n",
            "class #2 : 0.00000\n",
            "class #3 : 0.00000\n",
            "class #4 : 0.00000\n",
            "class #5 : 0.00000\n",
            "class #6 : nan\n",
            "\n",
            "mean_iou: nan\n",
            "\n"
          ]
        },
        {
          "output_type": "stream",
          "name": "stderr",
          "text": [
            "\n",
            "  7%|▋         | 17/250 [00:10<02:19,  1.67it/s]\u001b[A"
          ]
        },
        {
          "output_type": "stream",
          "name": "stdout",
          "text": [
            "class #0 : 0.09428\n",
            "class #1 : 0.00000\n",
            "class #2 : 0.00000\n",
            "class #3 : nan\n",
            "class #4 : 0.00000\n",
            "class #5 : 0.00000\n",
            "class #6 : nan\n",
            "\n",
            "mean_iou: nan\n",
            "\n"
          ]
        },
        {
          "output_type": "stream",
          "name": "stderr",
          "text": [
            "\n",
            "  7%|▋         | 18/250 [00:11<02:18,  1.67it/s]\u001b[A"
          ]
        },
        {
          "output_type": "stream",
          "name": "stdout",
          "text": [
            "class #0 : 0.02231\n",
            "class #1 : 0.00000\n",
            "class #2 : 0.00000\n",
            "class #3 : 0.00000\n",
            "class #4 : 0.00000\n",
            "class #5 : 0.00000\n",
            "class #6 : nan\n",
            "\n",
            "mean_iou: nan\n",
            "\n"
          ]
        },
        {
          "output_type": "stream",
          "name": "stderr",
          "text": [
            "\n",
            "  8%|▊         | 19/250 [00:11<02:18,  1.67it/s]\u001b[A"
          ]
        },
        {
          "output_type": "stream",
          "name": "stdout",
          "text": [
            "class #0 : 0.11974\n",
            "class #1 : 0.00000\n",
            "class #2 : 0.00000\n",
            "class #3 : 0.00000\n",
            "class #4 : 0.00000\n",
            "class #5 : 0.00000\n",
            "class #6 : 0.00000\n",
            "\n",
            "mean_iou: 0.017106\n",
            "\n"
          ]
        },
        {
          "output_type": "stream",
          "name": "stderr",
          "text": [
            "\n",
            "  8%|▊         | 20/250 [00:12<02:17,  1.67it/s]\u001b[A"
          ]
        },
        {
          "output_type": "stream",
          "name": "stdout",
          "text": [
            "class #0 : 0.16357\n",
            "class #1 : 0.00000\n",
            "class #2 : 0.00000\n",
            "class #3 : 0.00000\n",
            "class #4 : 0.00000\n",
            "class #5 : 0.00000\n",
            "class #6 : nan\n",
            "\n",
            "mean_iou: nan\n",
            "\n"
          ]
        },
        {
          "output_type": "stream",
          "name": "stderr",
          "text": [
            "\n",
            "  8%|▊         | 21/250 [00:12<02:16,  1.67it/s]\u001b[A"
          ]
        },
        {
          "output_type": "stream",
          "name": "stdout",
          "text": [
            "class #0 : 0.11292\n",
            "class #1 : 0.00000\n",
            "class #2 : 0.00000\n",
            "class #3 : 0.00000\n",
            "class #4 : 0.00000\n",
            "class #5 : 0.00000\n",
            "class #6 : nan\n",
            "\n",
            "mean_iou: nan\n",
            "\n"
          ]
        },
        {
          "output_type": "stream",
          "name": "stderr",
          "text": [
            "\n",
            "  9%|▉         | 22/250 [00:13<02:16,  1.67it/s]\u001b[A"
          ]
        },
        {
          "output_type": "stream",
          "name": "stdout",
          "text": [
            "class #0 : 0.16747\n",
            "class #1 : 0.00000\n",
            "class #2 : 0.00000\n",
            "class #3 : 0.00000\n",
            "class #4 : 0.00000\n",
            "class #5 : 0.00000\n",
            "class #6 : nan\n",
            "\n",
            "mean_iou: nan\n",
            "\n"
          ]
        },
        {
          "output_type": "stream",
          "name": "stderr",
          "text": [
            "\n",
            "  9%|▉         | 23/250 [00:14<02:15,  1.67it/s]\u001b[A"
          ]
        },
        {
          "output_type": "stream",
          "name": "stdout",
          "text": [
            "class #0 : 0.24450\n",
            "class #1 : 0.00000\n",
            "class #2 : 0.00000\n",
            "class #3 : 0.00000\n",
            "class #4 : 0.00000\n",
            "class #5 : 0.00000\n",
            "class #6 : nan\n",
            "\n",
            "mean_iou: nan\n",
            "\n"
          ]
        },
        {
          "output_type": "stream",
          "name": "stderr",
          "text": [
            "\n",
            " 10%|▉         | 24/250 [00:14<02:14,  1.68it/s]\u001b[A"
          ]
        },
        {
          "output_type": "stream",
          "name": "stdout",
          "text": [
            "class #0 : 0.02121\n",
            "class #1 : 0.00000\n",
            "class #2 : 0.00000\n",
            "class #3 : 0.00000\n",
            "class #4 : 0.00000\n",
            "class #5 : 0.00000\n",
            "class #6 : 0.00000\n",
            "\n",
            "mean_iou: 0.003031\n",
            "\n"
          ]
        },
        {
          "output_type": "stream",
          "name": "stderr",
          "text": [
            "\n",
            " 10%|█         | 25/250 [00:15<02:13,  1.68it/s]\u001b[A"
          ]
        },
        {
          "output_type": "stream",
          "name": "stdout",
          "text": [
            "class #0 : 0.12586\n",
            "class #1 : 0.00000\n",
            "class #2 : 0.00000\n",
            "class #3 : nan\n",
            "class #4 : 0.00000\n",
            "class #5 : 0.00000\n",
            "class #6 : nan\n",
            "\n",
            "mean_iou: nan\n",
            "\n"
          ]
        },
        {
          "output_type": "stream",
          "name": "stderr",
          "text": [
            "\n",
            " 10%|█         | 26/250 [00:15<02:13,  1.68it/s]\u001b[A"
          ]
        },
        {
          "output_type": "stream",
          "name": "stdout",
          "text": [
            "class #0 : 0.02119\n",
            "class #1 : 0.00000\n",
            "class #2 : 0.00000\n",
            "class #3 : 0.00000\n",
            "class #4 : 0.00000\n",
            "class #5 : 0.00000\n",
            "class #6 : nan\n",
            "\n",
            "mean_iou: nan\n",
            "\n"
          ]
        },
        {
          "output_type": "stream",
          "name": "stderr",
          "text": [
            "\n",
            " 11%|█         | 27/250 [00:16<02:12,  1.68it/s]\u001b[A"
          ]
        },
        {
          "output_type": "stream",
          "name": "stdout",
          "text": [
            "class #0 : 0.13166\n",
            "class #1 : 0.00000\n",
            "class #2 : 0.00000\n",
            "class #3 : 0.00000\n",
            "class #4 : 0.00000\n",
            "class #5 : 0.00000\n",
            "class #6 : nan\n",
            "\n",
            "mean_iou: nan\n",
            "\n"
          ]
        },
        {
          "output_type": "stream",
          "name": "stderr",
          "text": [
            "\n",
            " 11%|█         | 28/250 [00:17<02:12,  1.67it/s]\u001b[A"
          ]
        },
        {
          "output_type": "stream",
          "name": "stdout",
          "text": [
            "class #0 : 0.02940\n",
            "class #1 : 0.00000\n",
            "class #2 : 0.00000\n",
            "class #3 : 0.00000\n",
            "class #4 : 0.00000\n",
            "class #5 : 0.00000\n",
            "class #6 : nan\n",
            "\n",
            "mean_iou: nan\n",
            "\n"
          ]
        },
        {
          "output_type": "stream",
          "name": "stderr",
          "text": [
            "\n",
            " 12%|█▏        | 29/250 [00:17<02:11,  1.68it/s]\u001b[A"
          ]
        },
        {
          "output_type": "stream",
          "name": "stdout",
          "text": [
            "class #0 : 0.08633\n",
            "class #1 : 0.00000\n",
            "class #2 : 0.00000\n",
            "class #3 : 0.00000\n",
            "class #4 : 0.00000\n",
            "class #5 : 0.00000\n",
            "class #6 : nan\n",
            "\n",
            "mean_iou: nan\n",
            "\n"
          ]
        },
        {
          "output_type": "stream",
          "name": "stderr",
          "text": [
            "\n",
            " 12%|█▏        | 30/250 [00:18<02:11,  1.68it/s]\u001b[A"
          ]
        },
        {
          "output_type": "stream",
          "name": "stdout",
          "text": [
            "class #0 : 0.28764\n",
            "class #1 : 0.00000\n",
            "class #2 : 0.00000\n",
            "class #3 : 0.00000\n",
            "class #4 : 0.00000\n",
            "class #5 : 0.00000\n",
            "class #6 : nan\n",
            "\n",
            "mean_iou: nan\n",
            "\n"
          ]
        },
        {
          "output_type": "stream",
          "name": "stderr",
          "text": [
            "\n",
            " 12%|█▏        | 31/250 [00:18<02:10,  1.68it/s]\u001b[A"
          ]
        },
        {
          "output_type": "stream",
          "name": "stdout",
          "text": [
            "class #0 : 0.06269\n",
            "class #1 : 0.00000\n",
            "class #2 : 0.00000\n",
            "class #3 : 0.00000\n",
            "class #4 : 0.00000\n",
            "class #5 : 0.00000\n",
            "class #6 : nan\n",
            "\n",
            "mean_iou: nan\n",
            "\n"
          ]
        },
        {
          "output_type": "stream",
          "name": "stderr",
          "text": [
            "\n",
            " 13%|█▎        | 32/250 [00:19<02:09,  1.68it/s]\u001b[A"
          ]
        },
        {
          "output_type": "stream",
          "name": "stdout",
          "text": [
            "class #0 : 0.12976\n",
            "class #1 : 0.00000\n",
            "class #2 : 0.00000\n",
            "class #3 : 0.00000\n",
            "class #4 : 0.00000\n",
            "class #5 : 0.00000\n",
            "class #6 : nan\n",
            "\n",
            "mean_iou: nan\n",
            "\n"
          ]
        },
        {
          "output_type": "stream",
          "name": "stderr",
          "text": [
            "\n",
            " 13%|█▎        | 33/250 [00:19<02:09,  1.68it/s]\u001b[A"
          ]
        },
        {
          "output_type": "stream",
          "name": "stdout",
          "text": [
            "class #0 : 0.16660\n",
            "class #1 : 0.00000\n",
            "class #2 : 0.00000\n",
            "class #3 : 0.00000\n",
            "class #4 : 0.00000\n",
            "class #5 : 0.00000\n",
            "class #6 : 0.00000\n",
            "\n",
            "mean_iou: 0.023801\n",
            "\n"
          ]
        },
        {
          "output_type": "stream",
          "name": "stderr",
          "text": [
            "\n",
            " 14%|█▎        | 34/250 [00:20<02:08,  1.68it/s]\u001b[A"
          ]
        },
        {
          "output_type": "stream",
          "name": "stdout",
          "text": [
            "class #0 : 0.02633\n",
            "class #1 : 0.00000\n",
            "class #2 : 0.00000\n",
            "class #3 : 0.00000\n",
            "class #4 : 0.00000\n",
            "class #5 : 0.00000\n",
            "class #6 : 0.00000\n",
            "\n",
            "mean_iou: 0.003761\n",
            "\n"
          ]
        },
        {
          "output_type": "stream",
          "name": "stderr",
          "text": [
            "\n",
            " 14%|█▍        | 35/250 [00:21<02:08,  1.68it/s]\u001b[A"
          ]
        },
        {
          "output_type": "stream",
          "name": "stdout",
          "text": [
            "class #0 : 0.08227\n",
            "class #1 : 0.00000\n",
            "class #2 : 0.00000\n",
            "class #3 : 0.00000\n",
            "class #4 : 0.00000\n",
            "class #5 : 0.00000\n",
            "class #6 : nan\n",
            "\n",
            "mean_iou: nan\n",
            "\n"
          ]
        },
        {
          "output_type": "stream",
          "name": "stderr",
          "text": [
            "\n",
            " 14%|█▍        | 36/250 [00:21<02:07,  1.68it/s]\u001b[A"
          ]
        },
        {
          "output_type": "stream",
          "name": "stdout",
          "text": [
            "class #0 : 0.12364\n",
            "class #1 : 0.00000\n",
            "class #2 : 0.00000\n",
            "class #3 : nan\n",
            "class #4 : 0.00000\n",
            "class #5 : 0.00000\n",
            "class #6 : nan\n",
            "\n",
            "mean_iou: nan\n",
            "\n"
          ]
        },
        {
          "output_type": "stream",
          "name": "stderr",
          "text": [
            "\n",
            " 15%|█▍        | 37/250 [00:22<02:07,  1.67it/s]\u001b[A"
          ]
        },
        {
          "output_type": "stream",
          "name": "stdout",
          "text": [
            "class #0 : 0.26201\n",
            "class #1 : 0.00000\n",
            "class #2 : 0.00000\n",
            "class #3 : 0.00000\n",
            "class #4 : 0.00000\n",
            "class #5 : 0.00000\n",
            "class #6 : nan\n",
            "\n",
            "mean_iou: nan\n",
            "\n"
          ]
        },
        {
          "output_type": "stream",
          "name": "stderr",
          "text": [
            "\n",
            " 15%|█▌        | 38/250 [00:22<02:06,  1.67it/s]\u001b[A"
          ]
        },
        {
          "output_type": "stream",
          "name": "stdout",
          "text": [
            "class #0 : 0.06718\n",
            "class #1 : 0.00000\n",
            "class #2 : 0.00000\n",
            "class #3 : 0.00000\n",
            "class #4 : 0.00000\n",
            "class #5 : 0.00000\n",
            "class #6 : nan\n",
            "\n",
            "mean_iou: nan\n",
            "\n"
          ]
        },
        {
          "output_type": "stream",
          "name": "stderr",
          "text": [
            "\n",
            " 16%|█▌        | 39/250 [00:23<02:05,  1.67it/s]\u001b[A"
          ]
        },
        {
          "output_type": "stream",
          "name": "stdout",
          "text": [
            "class #0 : 0.14699\n",
            "class #1 : 0.00000\n",
            "class #2 : 0.00000\n",
            "class #3 : 0.00000\n",
            "class #4 : 0.00000\n",
            "class #5 : 0.00000\n",
            "class #6 : nan\n",
            "\n",
            "mean_iou: nan\n",
            "\n"
          ]
        },
        {
          "output_type": "stream",
          "name": "stderr",
          "text": [
            "\n",
            " 16%|█▌        | 40/250 [00:24<02:05,  1.67it/s]\u001b[A"
          ]
        },
        {
          "output_type": "stream",
          "name": "stdout",
          "text": [
            "class #0 : 0.01813\n",
            "class #1 : 0.00000\n",
            "class #2 : 0.00000\n",
            "class #3 : 0.00000\n",
            "class #4 : 0.00000\n",
            "class #5 : 0.00000\n",
            "class #6 : nan\n",
            "\n",
            "mean_iou: nan\n",
            "\n"
          ]
        },
        {
          "output_type": "stream",
          "name": "stderr",
          "text": [
            "\n",
            " 16%|█▋        | 41/250 [00:24<02:04,  1.67it/s]\u001b[A"
          ]
        },
        {
          "output_type": "stream",
          "name": "stdout",
          "text": [
            "class #0 : 0.00896\n",
            "class #1 : 0.00000\n",
            "class #2 : 0.00000\n",
            "class #3 : 0.00000\n",
            "class #4 : 0.00000\n",
            "class #5 : 0.00000\n",
            "class #6 : 0.00000\n",
            "\n",
            "mean_iou: 0.001279\n",
            "\n"
          ]
        },
        {
          "output_type": "stream",
          "name": "stderr",
          "text": [
            "\n",
            " 17%|█▋        | 42/250 [00:25<02:04,  1.68it/s]\u001b[A"
          ]
        },
        {
          "output_type": "stream",
          "name": "stdout",
          "text": [
            "class #0 : 0.10849\n",
            "class #1 : 0.00000\n",
            "class #2 : 0.00000\n",
            "class #3 : 0.00000\n",
            "class #4 : 0.00000\n",
            "class #5 : 0.00000\n",
            "class #6 : nan\n",
            "\n",
            "mean_iou: nan\n",
            "\n"
          ]
        },
        {
          "output_type": "stream",
          "name": "stderr",
          "text": [
            "\n",
            " 17%|█▋        | 43/250 [00:25<02:03,  1.68it/s]\u001b[A"
          ]
        },
        {
          "output_type": "stream",
          "name": "stdout",
          "text": [
            "class #0 : 0.22526\n",
            "class #1 : 0.00000\n",
            "class #2 : 0.00000\n",
            "class #3 : 0.00000\n",
            "class #4 : 0.00000\n",
            "class #5 : 0.00000\n",
            "class #6 : nan\n",
            "\n",
            "mean_iou: nan\n",
            "\n"
          ]
        },
        {
          "output_type": "stream",
          "name": "stderr",
          "text": [
            "\n",
            " 18%|█▊        | 44/250 [00:26<02:02,  1.68it/s]\u001b[A"
          ]
        },
        {
          "output_type": "stream",
          "name": "stdout",
          "text": [
            "class #0 : 0.10182\n",
            "class #1 : 0.00000\n",
            "class #2 : 0.00000\n",
            "class #3 : nan\n",
            "class #4 : 0.00000\n",
            "class #5 : 0.00000\n",
            "class #6 : nan\n",
            "\n",
            "mean_iou: nan\n",
            "\n"
          ]
        },
        {
          "output_type": "stream",
          "name": "stderr",
          "text": [
            "\n",
            " 18%|█▊        | 45/250 [00:27<02:02,  1.68it/s]\u001b[A"
          ]
        },
        {
          "output_type": "stream",
          "name": "stdout",
          "text": [
            "class #0 : 0.24215\n",
            "class #1 : 0.00000\n",
            "class #2 : 0.00000\n",
            "class #3 : 0.00000\n",
            "class #4 : 0.00000\n",
            "class #5 : 0.00000\n",
            "class #6 : nan\n",
            "\n",
            "mean_iou: nan\n",
            "\n"
          ]
        },
        {
          "output_type": "stream",
          "name": "stderr",
          "text": [
            "\n",
            " 18%|█▊        | 46/250 [00:27<02:01,  1.67it/s]\u001b[A"
          ]
        },
        {
          "output_type": "stream",
          "name": "stdout",
          "text": [
            "class #0 : 0.13779\n",
            "class #1 : 0.00000\n",
            "class #2 : 0.00000\n",
            "class #3 : 0.00000\n",
            "class #4 : 0.00000\n",
            "class #5 : 0.00000\n",
            "class #6 : nan\n",
            "\n",
            "mean_iou: nan\n",
            "\n"
          ]
        },
        {
          "output_type": "stream",
          "name": "stderr",
          "text": [
            "\n",
            " 19%|█▉        | 47/250 [00:28<02:01,  1.67it/s]\u001b[A"
          ]
        },
        {
          "output_type": "stream",
          "name": "stdout",
          "text": [
            "class #0 : 0.01402\n",
            "class #1 : 0.00000\n",
            "class #2 : 0.00000\n",
            "class #3 : 0.00000\n",
            "class #4 : 0.00000\n",
            "class #5 : 0.00000\n",
            "class #6 : nan\n",
            "\n",
            "mean_iou: nan\n",
            "\n"
          ]
        },
        {
          "output_type": "stream",
          "name": "stderr",
          "text": [
            "\n",
            " 19%|█▉        | 48/250 [00:28<02:00,  1.67it/s]\u001b[A"
          ]
        },
        {
          "output_type": "stream",
          "name": "stdout",
          "text": [
            "class #0 : 0.01201\n",
            "class #1 : 0.00000\n",
            "class #2 : 0.00000\n",
            "class #3 : 0.00000\n",
            "class #4 : 0.00000\n",
            "class #5 : 0.00000\n",
            "class #6 : 0.00000\n",
            "\n",
            "mean_iou: 0.001716\n",
            "\n"
          ]
        },
        {
          "output_type": "stream",
          "name": "stderr",
          "text": [
            "\n",
            " 20%|█▉        | 49/250 [00:29<02:00,  1.67it/s]\u001b[A"
          ]
        },
        {
          "output_type": "stream",
          "name": "stdout",
          "text": [
            "class #0 : 0.08196\n",
            "class #1 : 0.00000\n",
            "class #2 : 0.00000\n",
            "class #3 : 0.00000\n",
            "class #4 : 0.00000\n",
            "class #5 : 0.00000\n",
            "class #6 : nan\n",
            "\n",
            "mean_iou: nan\n",
            "\n"
          ]
        },
        {
          "output_type": "stream",
          "name": "stderr",
          "text": [
            "\n",
            " 20%|██        | 50/250 [00:30<01:59,  1.67it/s]\u001b[A"
          ]
        },
        {
          "output_type": "stream",
          "name": "stdout",
          "text": [
            "class #0 : 0.03116\n",
            "class #1 : 0.00000\n",
            "class #2 : 0.00000\n",
            "class #3 : 0.00000\n",
            "class #4 : 0.00000\n",
            "class #5 : 0.00000\n",
            "class #6 : nan\n",
            "\n",
            "mean_iou: nan\n",
            "\n"
          ]
        },
        {
          "output_type": "stream",
          "name": "stderr",
          "text": [
            "\n",
            " 20%|██        | 51/250 [00:30<01:58,  1.67it/s]\u001b[A"
          ]
        },
        {
          "output_type": "stream",
          "name": "stdout",
          "text": [
            "class #0 : 0.11468\n",
            "class #1 : 0.00000\n",
            "class #2 : 0.00000\n",
            "class #3 : 0.00000\n",
            "class #4 : 0.00000\n",
            "class #5 : 0.00000\n",
            "class #6 : nan\n",
            "\n",
            "mean_iou: nan\n",
            "\n"
          ]
        },
        {
          "output_type": "stream",
          "name": "stderr",
          "text": [
            "\n",
            " 21%|██        | 52/250 [00:31<01:58,  1.67it/s]\u001b[A"
          ]
        },
        {
          "output_type": "stream",
          "name": "stdout",
          "text": [
            "class #0 : 0.12771\n",
            "class #1 : 0.00000\n",
            "class #2 : 0.00000\n",
            "class #3 : 0.00000\n",
            "class #4 : 0.00000\n",
            "class #5 : 0.00000\n",
            "class #6 : nan\n",
            "\n",
            "mean_iou: nan\n",
            "\n"
          ]
        },
        {
          "output_type": "stream",
          "name": "stderr",
          "text": [
            "\n",
            " 21%|██        | 53/250 [00:31<01:57,  1.67it/s]\u001b[A"
          ]
        },
        {
          "output_type": "stream",
          "name": "stdout",
          "text": [
            "class #0 : 0.02339\n",
            "class #1 : 0.00000\n",
            "class #2 : 0.00000\n",
            "class #3 : 0.00000\n",
            "class #4 : 0.00000\n",
            "class #5 : 0.00000\n",
            "class #6 : 0.00000\n",
            "\n",
            "mean_iou: 0.003342\n",
            "\n"
          ]
        },
        {
          "output_type": "stream",
          "name": "stderr",
          "text": [
            "\n",
            " 22%|██▏       | 54/250 [00:32<01:57,  1.67it/s]\u001b[A"
          ]
        },
        {
          "output_type": "stream",
          "name": "stdout",
          "text": [
            "class #0 : 0.11480\n",
            "class #1 : 0.00000\n",
            "class #2 : 0.00000\n",
            "class #3 : 0.00000\n",
            "class #4 : 0.00000\n",
            "class #5 : 0.00000\n",
            "class #6 : 0.00000\n",
            "\n",
            "mean_iou: 0.016400\n",
            "\n"
          ]
        },
        {
          "output_type": "stream",
          "name": "stderr",
          "text": [
            "\n",
            " 22%|██▏       | 55/250 [00:33<01:56,  1.67it/s]\u001b[A"
          ]
        },
        {
          "output_type": "stream",
          "name": "stdout",
          "text": [
            "class #0 : 0.16776\n",
            "class #1 : 0.00000\n",
            "class #2 : 0.00000\n",
            "class #3 : 0.00000\n",
            "class #4 : 0.00000\n",
            "class #5 : 0.00000\n",
            "class #6 : nan\n",
            "\n",
            "mean_iou: nan\n",
            "\n"
          ]
        },
        {
          "output_type": "stream",
          "name": "stderr",
          "text": [
            "\n",
            " 22%|██▏       | 56/250 [00:33<01:55,  1.67it/s]\u001b[A"
          ]
        },
        {
          "output_type": "stream",
          "name": "stdout",
          "text": [
            "class #0 : 0.00204\n",
            "class #1 : 0.00000\n",
            "class #2 : 0.00000\n",
            "class #3 : 0.00000\n",
            "class #4 : 0.00000\n",
            "class #5 : 0.00000\n",
            "class #6 : 0.00000\n",
            "\n",
            "mean_iou: 0.000292\n",
            "\n"
          ]
        },
        {
          "output_type": "stream",
          "name": "stderr",
          "text": [
            "\n",
            " 23%|██▎       | 57/250 [00:34<01:55,  1.67it/s]\u001b[A"
          ]
        },
        {
          "output_type": "stream",
          "name": "stdout",
          "text": [
            "class #0 : 0.08851\n",
            "class #1 : 0.00000\n",
            "class #2 : 0.00000\n",
            "class #3 : 0.00000\n",
            "class #4 : 0.00000\n",
            "class #5 : 0.00000\n",
            "class #6 : nan\n",
            "\n",
            "mean_iou: nan\n",
            "\n"
          ]
        },
        {
          "output_type": "stream",
          "name": "stderr",
          "text": [
            "\n",
            " 23%|██▎       | 58/250 [00:34<01:54,  1.67it/s]\u001b[A"
          ]
        },
        {
          "output_type": "stream",
          "name": "stdout",
          "text": [
            "class #0 : 0.00893\n",
            "class #1 : 0.00000\n",
            "class #2 : 0.00000\n",
            "class #3 : 0.00000\n",
            "class #4 : 0.00000\n",
            "class #5 : 0.00000\n",
            "class #6 : nan\n",
            "\n",
            "mean_iou: nan\n",
            "\n"
          ]
        },
        {
          "output_type": "stream",
          "name": "stderr",
          "text": [
            "\n",
            " 24%|██▎       | 59/250 [00:35<01:54,  1.67it/s]\u001b[A"
          ]
        },
        {
          "output_type": "stream",
          "name": "stdout",
          "text": [
            "class #0 : 0.07407\n",
            "class #1 : 0.00000\n",
            "class #2 : 0.00000\n",
            "class #3 : 0.00000\n",
            "class #4 : 0.00000\n",
            "class #5 : 0.00000\n",
            "class #6 : 0.00000\n",
            "\n",
            "mean_iou: 0.010581\n",
            "\n"
          ]
        },
        {
          "output_type": "stream",
          "name": "stderr",
          "text": [
            "\n",
            " 24%|██▍       | 60/250 [00:36<01:54,  1.67it/s]\u001b[A"
          ]
        },
        {
          "output_type": "stream",
          "name": "stdout",
          "text": [
            "class #0 : 0.00731\n",
            "class #1 : 0.00000\n",
            "class #2 : 0.00000\n",
            "class #3 : 0.00000\n",
            "class #4 : 0.00000\n",
            "class #5 : 0.00000\n",
            "class #6 : nan\n",
            "\n",
            "mean_iou: nan\n",
            "\n"
          ]
        },
        {
          "output_type": "stream",
          "name": "stderr",
          "text": [
            "\n",
            " 24%|██▍       | 61/250 [00:36<01:53,  1.67it/s]\u001b[A"
          ]
        },
        {
          "output_type": "stream",
          "name": "stdout",
          "text": [
            "class #0 : 0.40937\n",
            "class #1 : 0.00000\n",
            "class #2 : 0.00000\n",
            "class #3 : 0.00000\n",
            "class #4 : 0.00000\n",
            "class #5 : 0.00000\n",
            "class #6 : nan\n",
            "\n",
            "mean_iou: nan\n",
            "\n"
          ]
        },
        {
          "output_type": "stream",
          "name": "stderr",
          "text": [
            "\n",
            " 25%|██▍       | 62/250 [00:37<01:52,  1.67it/s]\u001b[A"
          ]
        },
        {
          "output_type": "stream",
          "name": "stdout",
          "text": [
            "class #0 : 0.16061\n",
            "class #1 : 0.00000\n",
            "class #2 : 0.00000\n",
            "class #3 : nan\n",
            "class #4 : 0.00000\n",
            "class #5 : 0.00000\n",
            "class #6 : nan\n",
            "\n",
            "mean_iou: nan\n",
            "\n"
          ]
        },
        {
          "output_type": "stream",
          "name": "stderr",
          "text": [
            "\n",
            " 25%|██▌       | 63/250 [00:37<01:51,  1.67it/s]\u001b[A"
          ]
        },
        {
          "output_type": "stream",
          "name": "stdout",
          "text": [
            "class #0 : 0.20736\n",
            "class #1 : 0.00000\n",
            "class #2 : 0.00000\n",
            "class #3 : 0.00000\n",
            "class #4 : 0.00000\n",
            "class #5 : 0.00000\n",
            "class #6 : 0.00000\n",
            "\n",
            "mean_iou: 0.029623\n",
            "\n"
          ]
        },
        {
          "output_type": "stream",
          "name": "stderr",
          "text": [
            "\n",
            " 26%|██▌       | 64/250 [00:38<01:51,  1.67it/s]\u001b[A"
          ]
        },
        {
          "output_type": "stream",
          "name": "stdout",
          "text": [
            "class #0 : 0.17065\n",
            "class #1 : 0.00000\n",
            "class #2 : 0.00000\n",
            "class #3 : 0.00000\n",
            "class #4 : 0.00000\n",
            "class #5 : 0.00000\n",
            "class #6 : nan\n",
            "\n",
            "mean_iou: nan\n",
            "\n"
          ]
        },
        {
          "output_type": "stream",
          "name": "stderr",
          "text": [
            "\n",
            " 26%|██▌       | 65/250 [00:39<01:50,  1.67it/s]\u001b[A"
          ]
        },
        {
          "output_type": "stream",
          "name": "stdout",
          "text": [
            "class #0 : 0.07576\n",
            "class #1 : 0.00000\n",
            "class #2 : 0.00000\n",
            "class #3 : 0.00000\n",
            "class #4 : 0.00000\n",
            "class #5 : 0.00000\n",
            "class #6 : 0.00000\n",
            "\n",
            "mean_iou: 0.010822\n",
            "\n"
          ]
        },
        {
          "output_type": "stream",
          "name": "stderr",
          "text": [
            "\n",
            " 26%|██▋       | 66/250 [00:39<01:50,  1.67it/s]\u001b[A"
          ]
        },
        {
          "output_type": "stream",
          "name": "stdout",
          "text": [
            "class #0 : 0.03565\n",
            "class #1 : 0.00000\n",
            "class #2 : 0.00000\n",
            "class #3 : 0.00000\n",
            "class #4 : 0.00000\n",
            "class #5 : 0.00000\n",
            "class #6 : nan\n",
            "\n",
            "mean_iou: nan\n",
            "\n"
          ]
        },
        {
          "output_type": "stream",
          "name": "stderr",
          "text": [
            "\n",
            " 27%|██▋       | 67/250 [00:40<01:49,  1.67it/s]\u001b[A"
          ]
        },
        {
          "output_type": "stream",
          "name": "stdout",
          "text": [
            "class #0 : 0.13404\n",
            "class #1 : 0.00000\n",
            "class #2 : 0.00000\n",
            "class #3 : 0.00000\n",
            "class #4 : 0.00000\n",
            "class #5 : 0.00000\n",
            "class #6 : nan\n",
            "\n",
            "mean_iou: nan\n",
            "\n"
          ]
        },
        {
          "output_type": "stream",
          "name": "stderr",
          "text": [
            "\n",
            " 27%|██▋       | 68/250 [00:40<01:48,  1.67it/s]\u001b[A"
          ]
        },
        {
          "output_type": "stream",
          "name": "stdout",
          "text": [
            "class #0 : 0.04346\n",
            "class #1 : 0.00000\n",
            "class #2 : 0.00000\n",
            "class #3 : 0.00000\n",
            "class #4 : 0.00000\n",
            "class #5 : 0.00000\n",
            "class #6 : nan\n",
            "\n",
            "mean_iou: nan\n",
            "\n"
          ]
        },
        {
          "output_type": "stream",
          "name": "stderr",
          "text": [
            "\n",
            " 28%|██▊       | 69/250 [00:41<01:48,  1.67it/s]\u001b[A"
          ]
        },
        {
          "output_type": "stream",
          "name": "stdout",
          "text": [
            "class #0 : 0.13691\n",
            "class #1 : 0.00000\n",
            "class #2 : 0.00000\n",
            "class #3 : 0.00000\n",
            "class #4 : 0.00000\n",
            "class #5 : 0.00000\n",
            "class #6 : 0.00000\n",
            "\n",
            "mean_iou: 0.019559\n",
            "\n"
          ]
        },
        {
          "output_type": "stream",
          "name": "stderr",
          "text": [
            "\n",
            " 28%|██▊       | 70/250 [00:42<01:47,  1.67it/s]\u001b[A"
          ]
        },
        {
          "output_type": "stream",
          "name": "stdout",
          "text": [
            "class #0 : 0.24016\n",
            "class #1 : 0.00000\n",
            "class #2 : 0.00000\n",
            "class #3 : 0.00000\n",
            "class #4 : 0.00000\n",
            "class #5 : 0.00000\n",
            "class #6 : nan\n",
            "\n",
            "mean_iou: nan\n",
            "\n"
          ]
        },
        {
          "output_type": "stream",
          "name": "stderr",
          "text": [
            "\n",
            " 28%|██▊       | 71/250 [00:42<01:46,  1.67it/s]\u001b[A"
          ]
        },
        {
          "output_type": "stream",
          "name": "stdout",
          "text": [
            "class #0 : 0.22990\n",
            "class #1 : 0.00000\n",
            "class #2 : 0.00000\n",
            "class #3 : 0.00000\n",
            "class #4 : 0.00000\n",
            "class #5 : 0.00000\n",
            "class #6 : nan\n",
            "\n",
            "mean_iou: nan\n",
            "\n"
          ]
        },
        {
          "output_type": "stream",
          "name": "stderr",
          "text": [
            "\n",
            " 29%|██▉       | 72/250 [00:43<01:46,  1.67it/s]\u001b[A"
          ]
        },
        {
          "output_type": "stream",
          "name": "stdout",
          "text": [
            "class #0 : 0.10738\n",
            "class #1 : 0.00000\n",
            "class #2 : 0.00000\n",
            "class #3 : 0.00000\n",
            "class #4 : 0.00000\n",
            "class #5 : 0.00000\n",
            "class #6 : 0.00000\n",
            "\n",
            "mean_iou: 0.015340\n",
            "\n"
          ]
        },
        {
          "output_type": "stream",
          "name": "stderr",
          "text": [
            "\n",
            " 29%|██▉       | 73/250 [00:43<01:46,  1.67it/s]\u001b[A"
          ]
        },
        {
          "output_type": "stream",
          "name": "stdout",
          "text": [
            "class #0 : 0.08185\n",
            "class #1 : 0.00000\n",
            "class #2 : 0.00000\n",
            "class #3 : 0.00000\n",
            "class #4 : 0.00000\n",
            "class #5 : 0.00000\n",
            "class #6 : nan\n",
            "\n",
            "mean_iou: nan\n",
            "\n"
          ]
        },
        {
          "output_type": "stream",
          "name": "stderr",
          "text": [
            "\n",
            " 30%|██▉       | 74/250 [00:44<01:45,  1.67it/s]\u001b[A"
          ]
        },
        {
          "output_type": "stream",
          "name": "stdout",
          "text": [
            "class #0 : 0.17731\n",
            "class #1 : 0.00000\n",
            "class #2 : 0.00000\n",
            "class #3 : 0.00000\n",
            "class #4 : 0.00000\n",
            "class #5 : 0.00000\n",
            "class #6 : nan\n",
            "\n",
            "mean_iou: nan\n",
            "\n"
          ]
        },
        {
          "output_type": "stream",
          "name": "stderr",
          "text": [
            "\n",
            " 30%|███       | 75/250 [00:45<01:44,  1.67it/s]\u001b[A"
          ]
        },
        {
          "output_type": "stream",
          "name": "stdout",
          "text": [
            "class #0 : 0.00416\n",
            "class #1 : 0.00000\n",
            "class #2 : 0.00000\n",
            "class #3 : 0.00000\n",
            "class #4 : 0.00000\n",
            "class #5 : 0.00000\n",
            "class #6 : nan\n",
            "\n",
            "mean_iou: nan\n",
            "\n"
          ]
        },
        {
          "output_type": "stream",
          "name": "stderr",
          "text": [
            "\n",
            " 30%|███       | 76/250 [00:45<01:44,  1.67it/s]\u001b[A"
          ]
        },
        {
          "output_type": "stream",
          "name": "stdout",
          "text": [
            "class #0 : 0.05454\n",
            "class #1 : 0.00000\n",
            "class #2 : 0.00000\n",
            "class #3 : 0.00000\n",
            "class #4 : 0.00000\n",
            "class #5 : 0.00000\n",
            "class #6 : 0.00000\n",
            "\n",
            "mean_iou: 0.007792\n",
            "\n"
          ]
        },
        {
          "output_type": "stream",
          "name": "stderr",
          "text": [
            "\n",
            " 31%|███       | 77/250 [00:46<01:43,  1.68it/s]\u001b[A"
          ]
        },
        {
          "output_type": "stream",
          "name": "stdout",
          "text": [
            "class #0 : 0.13193\n",
            "class #1 : 0.00000\n",
            "class #2 : 0.00000\n",
            "class #3 : 0.00000\n",
            "class #4 : 0.00000\n",
            "class #5 : 0.00000\n",
            "class #6 : nan\n",
            "\n",
            "mean_iou: nan\n",
            "\n"
          ]
        },
        {
          "output_type": "stream",
          "name": "stderr",
          "text": [
            "\n",
            " 31%|███       | 78/250 [00:46<01:42,  1.68it/s]\u001b[A"
          ]
        },
        {
          "output_type": "stream",
          "name": "stdout",
          "text": [
            "class #0 : 0.23562\n",
            "class #1 : 0.00000\n",
            "class #2 : 0.00000\n",
            "class #3 : 0.00000\n",
            "class #4 : 0.00000\n",
            "class #5 : 0.00000\n",
            "class #6 : nan\n",
            "\n",
            "mean_iou: nan\n",
            "\n"
          ]
        },
        {
          "output_type": "stream",
          "name": "stderr",
          "text": [
            "\n",
            " 32%|███▏      | 79/250 [00:47<01:42,  1.67it/s]\u001b[A"
          ]
        },
        {
          "output_type": "stream",
          "name": "stdout",
          "text": [
            "class #0 : 0.06607\n",
            "class #1 : 0.00000\n",
            "class #2 : 0.00000\n",
            "class #3 : 0.00000\n",
            "class #4 : 0.00000\n",
            "class #5 : 0.00000\n",
            "class #6 : 0.00000\n",
            "\n",
            "mean_iou: 0.009439\n",
            "\n"
          ]
        },
        {
          "output_type": "stream",
          "name": "stderr",
          "text": [
            "\n",
            " 32%|███▏      | 80/250 [00:48<01:41,  1.67it/s]\u001b[A"
          ]
        },
        {
          "output_type": "stream",
          "name": "stdout",
          "text": [
            "class #0 : 0.04545\n",
            "class #1 : 0.00000\n",
            "class #2 : 0.00000\n",
            "class #3 : 0.00000\n",
            "class #4 : 0.00000\n",
            "class #5 : 0.00000\n",
            "class #6 : nan\n",
            "\n",
            "mean_iou: nan\n",
            "\n"
          ]
        },
        {
          "output_type": "stream",
          "name": "stderr",
          "text": [
            "\n",
            " 32%|███▏      | 81/250 [00:48<01:41,  1.67it/s]\u001b[A"
          ]
        },
        {
          "output_type": "stream",
          "name": "stdout",
          "text": [
            "class #0 : 0.14661\n",
            "class #1 : 0.00000\n",
            "class #2 : 0.00000\n",
            "class #3 : 0.00000\n",
            "class #4 : 0.00000\n",
            "class #5 : 0.00000\n",
            "class #6 : nan\n",
            "\n",
            "mean_iou: nan\n",
            "\n"
          ]
        },
        {
          "output_type": "stream",
          "name": "stderr",
          "text": [
            "\n",
            " 33%|███▎      | 82/250 [00:49<01:40,  1.67it/s]\u001b[A"
          ]
        },
        {
          "output_type": "stream",
          "name": "stdout",
          "text": [
            "class #0 : 0.01011\n",
            "class #1 : 0.00000\n",
            "class #2 : 0.00000\n",
            "class #3 : 0.00000\n",
            "class #4 : 0.00000\n",
            "class #5 : 0.00000\n",
            "class #6 : nan\n",
            "\n",
            "mean_iou: nan\n",
            "\n"
          ]
        },
        {
          "output_type": "stream",
          "name": "stderr",
          "text": [
            "\n",
            " 33%|███▎      | 83/250 [00:49<01:39,  1.67it/s]\u001b[A"
          ]
        },
        {
          "output_type": "stream",
          "name": "stdout",
          "text": [
            "class #0 : 0.15409\n",
            "class #1 : 0.00000\n",
            "class #2 : 0.00000\n",
            "class #3 : 0.00000\n",
            "class #4 : 0.00000\n",
            "class #5 : 0.00000\n",
            "class #6 : 0.00000\n",
            "\n",
            "mean_iou: 0.022012\n",
            "\n"
          ]
        },
        {
          "output_type": "stream",
          "name": "stderr",
          "text": [
            "\n",
            " 34%|███▎      | 84/250 [00:50<01:39,  1.68it/s]\u001b[A"
          ]
        },
        {
          "output_type": "stream",
          "name": "stdout",
          "text": [
            "class #0 : 0.06858\n",
            "class #1 : 0.00000\n",
            "class #2 : 0.00000\n",
            "class #3 : 0.00000\n",
            "class #4 : 0.00000\n",
            "class #5 : 0.00000\n",
            "class #6 : nan\n",
            "\n",
            "mean_iou: nan\n",
            "\n"
          ]
        },
        {
          "output_type": "stream",
          "name": "stderr",
          "text": [
            "\n",
            " 34%|███▍      | 85/250 [00:51<01:38,  1.67it/s]\u001b[A"
          ]
        },
        {
          "output_type": "stream",
          "name": "stdout",
          "text": [
            "class #0 : 0.01289\n",
            "class #1 : 0.00000\n",
            "class #2 : 0.00000\n",
            "class #3 : 0.00000\n",
            "class #4 : 0.00000\n",
            "class #5 : 0.00000\n",
            "class #6 : nan\n",
            "\n",
            "mean_iou: nan\n",
            "\n"
          ]
        },
        {
          "output_type": "stream",
          "name": "stderr",
          "text": [
            "\n",
            " 34%|███▍      | 86/250 [00:51<01:38,  1.67it/s]\u001b[A"
          ]
        },
        {
          "output_type": "stream",
          "name": "stdout",
          "text": [
            "class #0 : 0.00241\n",
            "class #1 : 0.00000\n",
            "class #2 : 0.00000\n",
            "class #3 : 0.00000\n",
            "class #4 : 0.00000\n",
            "class #5 : nan\n",
            "class #6 : nan\n",
            "\n",
            "mean_iou: nan\n",
            "\n"
          ]
        },
        {
          "output_type": "stream",
          "name": "stderr",
          "text": [
            "\n",
            " 35%|███▍      | 87/250 [00:52<01:37,  1.67it/s]\u001b[A"
          ]
        },
        {
          "output_type": "stream",
          "name": "stdout",
          "text": [
            "class #0 : 0.20214\n",
            "class #1 : 0.00000\n",
            "class #2 : 0.00000\n",
            "class #3 : 0.00000\n",
            "class #4 : 0.00000\n",
            "class #5 : 0.00000\n",
            "class #6 : nan\n",
            "\n",
            "mean_iou: nan\n",
            "\n"
          ]
        },
        {
          "output_type": "stream",
          "name": "stderr",
          "text": [
            "\n",
            " 35%|███▌      | 88/250 [00:52<01:36,  1.67it/s]\u001b[A"
          ]
        },
        {
          "output_type": "stream",
          "name": "stdout",
          "text": [
            "class #0 : 0.12255\n",
            "class #1 : 0.00000\n",
            "class #2 : 0.00000\n",
            "class #3 : 0.00000\n",
            "class #4 : 0.00000\n",
            "class #5 : 0.00000\n",
            "class #6 : nan\n",
            "\n",
            "mean_iou: nan\n",
            "\n"
          ]
        },
        {
          "output_type": "stream",
          "name": "stderr",
          "text": [
            "\n",
            " 36%|███▌      | 89/250 [00:53<01:36,  1.67it/s]\u001b[A"
          ]
        },
        {
          "output_type": "stream",
          "name": "stdout",
          "text": [
            "class #0 : 0.10416\n",
            "class #1 : 0.00000\n",
            "class #2 : 0.00000\n",
            "class #3 : 0.00000\n",
            "class #4 : 0.00000\n",
            "class #5 : 0.00000\n",
            "class #6 : nan\n",
            "\n",
            "mean_iou: nan\n",
            "\n"
          ]
        },
        {
          "output_type": "stream",
          "name": "stderr",
          "text": [
            "\n",
            " 36%|███▌      | 90/250 [00:54<01:35,  1.68it/s]\u001b[A"
          ]
        },
        {
          "output_type": "stream",
          "name": "stdout",
          "text": [
            "class #0 : 0.02474\n",
            "class #1 : 0.00000\n",
            "class #2 : 0.00000\n",
            "class #3 : 0.00000\n",
            "class #4 : 0.00000\n",
            "class #5 : 0.00000\n",
            "class #6 : nan\n",
            "\n",
            "mean_iou: nan\n",
            "\n"
          ]
        },
        {
          "output_type": "stream",
          "name": "stderr",
          "text": [
            "\n",
            " 36%|███▋      | 91/250 [00:54<01:34,  1.67it/s]\u001b[A"
          ]
        },
        {
          "output_type": "stream",
          "name": "stdout",
          "text": [
            "class #0 : 0.01424\n",
            "class #1 : 0.00000\n",
            "class #2 : 0.00000\n",
            "class #3 : 0.00000\n",
            "class #4 : 0.00000\n",
            "class #5 : 0.00000\n",
            "class #6 : nan\n",
            "\n",
            "mean_iou: nan\n",
            "\n"
          ]
        }
      ]
    }
  ]
}