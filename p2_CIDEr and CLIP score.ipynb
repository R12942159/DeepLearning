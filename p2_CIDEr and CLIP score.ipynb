{
  "nbformat": 4,
  "nbformat_minor": 0,
  "metadata": {
    "colab": {
      "provenance": [],
      "gpuType": "T4",
      "include_colab_link": true
    },
    "kernelspec": {
      "name": "python3",
      "display_name": "Python 3"
    },
    "language_info": {
      "name": "python"
    },
    "accelerator": "GPU"
  },
  "cells": [
    {
      "cell_type": "markdown",
      "metadata": {
        "id": "view-in-github",
        "colab_type": "text"
      },
      "source": [
        "<a href=\"https://colab.research.google.com/github/R12942159/NTU_DLCV/blob/Hw3/p2_CIDEr%20and%20CLIP%20score.ipynb\" target=\"_parent\"><img src=\"https://colab.research.google.com/assets/colab-badge.svg\" alt=\"Open In Colab\"/></a>"
      ]
    },
    {
      "cell_type": "code",
      "source": [
        "import os\n",
        "import re\n",
        "import math\n",
        "import json\n",
        "import torch\n",
        "\n",
        "from tqdm import tqdm\n",
        "from torch import nn, Tensor"
      ],
      "metadata": {
        "id": "15_urThwKKnm"
      },
      "execution_count": 1,
      "outputs": []
    },
    {
      "cell_type": "markdown",
      "source": [
        "#### CIDEr & CLIPScore"
      ],
      "metadata": {
        "id": "VGr3qxH5quie"
      }
    },
    {
      "cell_type": "code",
      "source": [
        "device = \"cuda\" if torch.cuda.is_available() else \"cpu\"\n",
        "print(f\"Using: {device}\")"
      ],
      "metadata": {
        "id": "Zs6fZBVBE1mP",
        "outputId": "94b5db58-6369-4bfd-e2f6-ab5069255de3",
        "colab": {
          "base_uri": "https://localhost:8080/"
        }
      },
      "execution_count": 2,
      "outputs": [
        {
          "output_type": "stream",
          "name": "stdout",
          "text": [
            "Using: cuda\n"
          ]
        }
      ]
    },
    {
      "cell_type": "code",
      "source": [
        "!gdown 11rP6KmR5Qwjhx0rfag0b5TZGBTRuPtQR -O hw3_data.zip # 1SUiRrG6zQVtyrVSVh9hOBq5_fX-oV2Lh\n",
        "!unzip /content/hw3_data.zip"
      ],
      "metadata": {
        "id": "L1bN1UeOP6bN"
      },
      "execution_count": null,
      "outputs": []
    },
    {
      "cell_type": "code",
      "source": [
        "!gdown 1lgpOPxTSbg-ZWgddFJUPYM_750nMQQtf -O LoRA_huge_epoch2_output.json"
      ],
      "metadata": {
        "id": "e7ROjiWxDhIV",
        "outputId": "8ad1fead-046d-4d24-ace6-6f6aca0415f8",
        "colab": {
          "base_uri": "https://localhost:8080/"
        }
      },
      "execution_count": 11,
      "outputs": [
        {
          "output_type": "stream",
          "name": "stdout",
          "text": [
            "Downloading...\n",
            "From: https://drive.google.com/uc?id=1lgpOPxTSbg-ZWgddFJUPYM_750nMQQtf\n",
            "To: /content/LoRA_huge_epoch2_output.json\n",
            "\r  0% 0.00/123k [00:00<?, ?B/s]\r100% 123k/123k [00:00<00:00, 124MB/s]\n"
          ]
        }
      ]
    },
    {
      "cell_type": "code",
      "source": [
        "!pip install git+https://github.com/openai/CLIP.git"
      ],
      "metadata": {
        "id": "1OTLFea5quTY"
      },
      "execution_count": null,
      "outputs": []
    },
    {
      "cell_type": "code",
      "source": [
        "!pip install git+https://github.com/bckim92/language-evaluation.git\n",
        "!python -c \"import language_evaluation; language_evaluation.download('coco')\""
      ],
      "metadata": {
        "id": "OawD8CsqY1xs"
      },
      "execution_count": null,
      "outputs": []
    },
    {
      "cell_type": "code",
      "source": [
        "!python3 /content/p2_evaluate.py --pred_file LoRA_huge_epoch2_output.json --annotation_file /content/hw3_data/p2_data/val.json --images_root /content/hw3_data/p2_data/images/val"
      ],
      "metadata": {
        "id": "swSotJrRqxS2",
        "outputId": "6527ed66-3724-4a52-9301-29d4801905d8",
        "colab": {
          "base_uri": "https://localhost:8080/"
        }
      },
      "execution_count": 12,
      "outputs": [
        {
          "output_type": "stream",
          "name": "stdout",
          "text": [
            "PTBTokenizer tokenized 110968 tokens at 122821.81 tokens per second.\n",
            "PTBTokenizer tokenized 22401 tokens at 37516.42 tokens per second.\n",
            "CIDEr: 0.5752102192654721 | CLIPScore: 0.6621123772882895\n"
          ]
        }
      ]
    }
  ]
}