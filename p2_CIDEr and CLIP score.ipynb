{
  "nbformat": 4,
  "nbformat_minor": 0,
  "metadata": {
    "colab": {
      "provenance": [],
      "gpuType": "T4",
      "include_colab_link": true
    },
    "kernelspec": {
      "name": "python3",
      "display_name": "Python 3"
    },
    "language_info": {
      "name": "python"
    },
    "accelerator": "GPU"
  },
  "cells": [
    {
      "cell_type": "markdown",
      "metadata": {
        "id": "view-in-github",
        "colab_type": "text"
      },
      "source": [
        "<a href=\"https://colab.research.google.com/github/R12942159/NTU_DLCV/blob/Hw3/p2_CIDEr%20and%20CLIP%20score.ipynb\" target=\"_parent\"><img src=\"https://colab.research.google.com/assets/colab-badge.svg\" alt=\"Open In Colab\"/></a>"
      ]
    },
    {
      "cell_type": "code",
      "source": [
        "import os\n",
        "import re\n",
        "import math\n",
        "import json\n",
        "import torch\n",
        "\n",
        "from tqdm import tqdm\n",
        "from torch import nn, Tensor"
      ],
      "metadata": {
        "id": "15_urThwKKnm"
      },
      "execution_count": 1,
      "outputs": []
    },
    {
      "cell_type": "markdown",
      "source": [
        "#### CIDEr & CLIPScore"
      ],
      "metadata": {
        "id": "VGr3qxH5quie"
      }
    },
    {
      "cell_type": "code",
      "source": [
        "device = \"cuda\" if torch.cuda.is_available() else \"cpu\"\n",
        "print(f\"Using: {device}\")"
      ],
      "metadata": {
        "id": "Zs6fZBVBE1mP",
        "outputId": "090ba992-582f-48eb-d5eb-d3b41404d68d",
        "colab": {
          "base_uri": "https://localhost:8080/"
        }
      },
      "execution_count": 2,
      "outputs": [
        {
          "output_type": "stream",
          "name": "stdout",
          "text": [
            "Using: cuda\n"
          ]
        }
      ]
    },
    {
      "cell_type": "code",
      "source": [
        "!gdown 11rP6KmR5Qwjhx0rfag0b5TZGBTRuPtQR -O hw3_data.zip # 1SUiRrG6zQVtyrVSVh9hOBq5_fX-oV2Lh\n",
        "!unzip /content/hw3_data.zip"
      ],
      "metadata": {
        "id": "L1bN1UeOP6bN"
      },
      "execution_count": null,
      "outputs": []
    },
    {
      "cell_type": "code",
      "source": [
        "!gdown 1-7EKq-ZAR08jIOPovhxMJLwYbJk_Wovq -O LoRA_large_epoch1.json"
      ],
      "metadata": {
        "id": "e7ROjiWxDhIV",
        "outputId": "bb4ed856-d3be-407f-86a3-494e871ef117",
        "colab": {
          "base_uri": "https://localhost:8080/"
        }
      },
      "execution_count": 4,
      "outputs": [
        {
          "output_type": "stream",
          "name": "stdout",
          "text": [
            "Downloading...\n",
            "From: https://drive.google.com/uc?id=1-7EKq-ZAR08jIOPovhxMJLwYbJk_Wovq\n",
            "To: /content/LoRA_large_epoch1.json\n",
            "\r  0% 0.00/120k [00:00<?, ?B/s]\r100% 120k/120k [00:00<00:00, 2.61MB/s]\n"
          ]
        }
      ]
    },
    {
      "cell_type": "code",
      "source": [
        "!pip install git+https://github.com/openai/CLIP.git"
      ],
      "metadata": {
        "id": "1OTLFea5quTY"
      },
      "execution_count": null,
      "outputs": []
    },
    {
      "cell_type": "code",
      "source": [
        "!pip install git+https://github.com/bckim92/language-evaluation.git\n",
        "!python -c \"import language_evaluation; language_evaluation.download('coco')\""
      ],
      "metadata": {
        "id": "OawD8CsqY1xs",
        "colab": {
          "base_uri": "https://localhost:8080/"
        },
        "outputId": "9b0014b2-58b2-4afb-e72e-400a0717888b"
      },
      "execution_count": 6,
      "outputs": [
        {
          "output_type": "stream",
          "name": "stdout",
          "text": [
            "Collecting git+https://github.com/bckim92/language-evaluation.git\n",
            "  Cloning https://github.com/bckim92/language-evaluation.git to /tmp/pip-req-build-kpcsfiq1\n",
            "  Running command git clone --filter=blob:none --quiet https://github.com/bckim92/language-evaluation.git /tmp/pip-req-build-kpcsfiq1\n",
            "  Resolved https://github.com/bckim92/language-evaluation.git to commit 8e9e03feb7f5e605f20fc0c8dba0e24532a26216\n",
            "  Preparing metadata (setup.py) ... \u001b[?25l\u001b[?25hdone\n",
            "Requirement already satisfied: numpy in /usr/local/lib/python3.10/dist-packages (from language-evaluation==0.1.0) (1.23.5)\n",
            "Requirement already satisfied: matplotlib in /usr/local/lib/python3.10/dist-packages (from language-evaluation==0.1.0) (3.7.1)\n",
            "Requirement already satisfied: scikit-image in /usr/local/lib/python3.10/dist-packages (from language-evaluation==0.1.0) (0.19.3)\n",
            "Requirement already satisfied: absl-py in /usr/local/lib/python3.10/dist-packages (from language-evaluation==0.1.0) (1.4.0)\n",
            "Requirement already satisfied: nltk in /usr/local/lib/python3.10/dist-packages (from language-evaluation==0.1.0) (3.8.1)\n",
            "Requirement already satisfied: six in /usr/local/lib/python3.10/dist-packages (from language-evaluation==0.1.0) (1.16.0)\n",
            "Requirement already satisfied: more_itertools in /usr/local/lib/python3.10/dist-packages (from language-evaluation==0.1.0) (10.1.0)\n",
            "Collecting colorlog (from language-evaluation==0.1.0)\n",
            "  Downloading colorlog-6.7.0-py2.py3-none-any.whl (11 kB)\n",
            "Requirement already satisfied: contourpy>=1.0.1 in /usr/local/lib/python3.10/dist-packages (from matplotlib->language-evaluation==0.1.0) (1.2.0)\n",
            "Requirement already satisfied: cycler>=0.10 in /usr/local/lib/python3.10/dist-packages (from matplotlib->language-evaluation==0.1.0) (0.12.1)\n",
            "Requirement already satisfied: fonttools>=4.22.0 in /usr/local/lib/python3.10/dist-packages (from matplotlib->language-evaluation==0.1.0) (4.44.3)\n",
            "Requirement already satisfied: kiwisolver>=1.0.1 in /usr/local/lib/python3.10/dist-packages (from matplotlib->language-evaluation==0.1.0) (1.4.5)\n",
            "Requirement already satisfied: packaging>=20.0 in /usr/local/lib/python3.10/dist-packages (from matplotlib->language-evaluation==0.1.0) (23.2)\n",
            "Requirement already satisfied: pillow>=6.2.0 in /usr/local/lib/python3.10/dist-packages (from matplotlib->language-evaluation==0.1.0) (9.4.0)\n",
            "Requirement already satisfied: pyparsing>=2.3.1 in /usr/local/lib/python3.10/dist-packages (from matplotlib->language-evaluation==0.1.0) (3.1.1)\n",
            "Requirement already satisfied: python-dateutil>=2.7 in /usr/local/lib/python3.10/dist-packages (from matplotlib->language-evaluation==0.1.0) (2.8.2)\n",
            "Requirement already satisfied: click in /usr/local/lib/python3.10/dist-packages (from nltk->language-evaluation==0.1.0) (8.1.7)\n",
            "Requirement already satisfied: joblib in /usr/local/lib/python3.10/dist-packages (from nltk->language-evaluation==0.1.0) (1.3.2)\n",
            "Requirement already satisfied: regex>=2021.8.3 in /usr/local/lib/python3.10/dist-packages (from nltk->language-evaluation==0.1.0) (2023.6.3)\n",
            "Requirement already satisfied: tqdm in /usr/local/lib/python3.10/dist-packages (from nltk->language-evaluation==0.1.0) (4.66.1)\n",
            "Requirement already satisfied: scipy>=1.4.1 in /usr/local/lib/python3.10/dist-packages (from scikit-image->language-evaluation==0.1.0) (1.11.3)\n",
            "Requirement already satisfied: networkx>=2.2 in /usr/local/lib/python3.10/dist-packages (from scikit-image->language-evaluation==0.1.0) (3.2.1)\n",
            "Requirement already satisfied: imageio>=2.4.1 in /usr/local/lib/python3.10/dist-packages (from scikit-image->language-evaluation==0.1.0) (2.31.6)\n",
            "Requirement already satisfied: tifffile>=2019.7.26 in /usr/local/lib/python3.10/dist-packages (from scikit-image->language-evaluation==0.1.0) (2023.9.26)\n",
            "Requirement already satisfied: PyWavelets>=1.1.1 in /usr/local/lib/python3.10/dist-packages (from scikit-image->language-evaluation==0.1.0) (1.4.1)\n",
            "Building wheels for collected packages: language-evaluation\n",
            "  Building wheel for language-evaluation (setup.py) ... \u001b[?25l\u001b[?25hdone\n",
            "  Created wheel for language-evaluation: filename=language_evaluation-0.1.0-py3-none-any.whl size=42696055 sha256=d4345d917f7c1b73897285d267eade4be839e9558e57eb38a8eb222cc55be69a\n",
            "  Stored in directory: /tmp/pip-ephem-wheel-cache-1n7rvkha/wheels/f0/36/ec/0ab8ab67116ef9c1f8fa43b17cefafcf9961163249b189dcf1\n",
            "Successfully built language-evaluation\n",
            "Installing collected packages: colorlog, language-evaluation\n",
            "Successfully installed colorlog-6.7.0 language-evaluation-0.1.0\n",
            "--2023-11-27 14:58:06--  http://nlp.stanford.edu/software/stanford-corenlp-full-2015-12-09.zip\n",
            "Resolving nlp.stanford.edu (nlp.stanford.edu)... 171.64.67.140\n",
            "Connecting to nlp.stanford.edu (nlp.stanford.edu)|171.64.67.140|:80... connected.\n",
            "HTTP request sent, awaiting response... 302 Found\n",
            "Location: https://nlp.stanford.edu/software/stanford-corenlp-full-2015-12-09.zip [following]\n",
            "--2023-11-27 14:58:06--  https://nlp.stanford.edu/software/stanford-corenlp-full-2015-12-09.zip\n",
            "Connecting to nlp.stanford.edu (nlp.stanford.edu)|171.64.67.140|:443... connected.\n",
            "HTTP request sent, awaiting response... 302 FOUND\n",
            "Location: https://downloads.cs.stanford.edu/nlp/software/stanford-corenlp-full-2015-12-09.zip [following]\n",
            "--2023-11-27 14:58:06--  https://downloads.cs.stanford.edu/nlp/software/stanford-corenlp-full-2015-12-09.zip\n",
            "Resolving downloads.cs.stanford.edu (downloads.cs.stanford.edu)... 171.64.64.22\n",
            "Connecting to downloads.cs.stanford.edu (downloads.cs.stanford.edu)|171.64.64.22|:443... connected.\n",
            "HTTP request sent, awaiting response... 200 OK\n",
            "Length: 403157240 (384M) [application/zip]\n",
            "Saving to: ‘/usr/local/lib/python3.10/dist-packages/language_evaluation/stanford-corenlp-full-2015-12-09.zip’\n",
            "\n",
            "/usr/local/lib/pyth 100%[===================>] 384.48M  5.01MB/s    in 71s     \n",
            "\n",
            "2023-11-27 14:59:17 (5.39 MB/s) - ‘/usr/local/lib/python3.10/dist-packages/language_evaluation/stanford-corenlp-full-2015-12-09.zip’ saved [403157240/403157240]\n",
            "\n",
            "Archive:  /usr/local/lib/python3.10/dist-packages/language_evaluation/stanford-corenlp-full-2015-12-09.zip\n",
            "   creating: /usr/local/lib/python3.10/dist-packages/language_evaluation/coco_caption_py3/pycocoevalcap/spice/lib/stanford-corenlp-full-2015-12-09/\n",
            "  inflating: /usr/local/lib/python3.10/dist-packages/language_evaluation/coco_caption_py3/pycocoevalcap/spice/lib/stanford-corenlp-full-2015-12-09/xom-1.2.10-src.jar  \n",
            "  inflating: /usr/local/lib/python3.10/dist-packages/language_evaluation/coco_caption_py3/pycocoevalcap/spice/lib/stanford-corenlp-full-2015-12-09/CoreNLP-to-HTML.xsl  \n",
            "  inflating: /usr/local/lib/python3.10/dist-packages/language_evaluation/coco_caption_py3/pycocoevalcap/spice/lib/stanford-corenlp-full-2015-12-09/README.txt  \n",
            "  inflating: /usr/local/lib/python3.10/dist-packages/language_evaluation/coco_caption_py3/pycocoevalcap/spice/lib/stanford-corenlp-full-2015-12-09/LIBRARY-LICENSES  \n",
            "   creating: /usr/local/lib/python3.10/dist-packages/language_evaluation/coco_caption_py3/pycocoevalcap/spice/lib/stanford-corenlp-full-2015-12-09/sutime/\n",
            "  inflating: /usr/local/lib/python3.10/dist-packages/language_evaluation/coco_caption_py3/pycocoevalcap/spice/lib/stanford-corenlp-full-2015-12-09/sutime/defs.sutime.txt  \n",
            "  inflating: /usr/local/lib/python3.10/dist-packages/language_evaluation/coco_caption_py3/pycocoevalcap/spice/lib/stanford-corenlp-full-2015-12-09/sutime/english.sutime.txt  \n",
            "  inflating: /usr/local/lib/python3.10/dist-packages/language_evaluation/coco_caption_py3/pycocoevalcap/spice/lib/stanford-corenlp-full-2015-12-09/sutime/english.holidays.sutime.txt  \n",
            " extracting: /usr/local/lib/python3.10/dist-packages/language_evaluation/coco_caption_py3/pycocoevalcap/spice/lib/stanford-corenlp-full-2015-12-09/ejml-0.23-src.zip  \n",
            "  inflating: /usr/local/lib/python3.10/dist-packages/language_evaluation/coco_caption_py3/pycocoevalcap/spice/lib/stanford-corenlp-full-2015-12-09/input.txt.xml  \n",
            "  inflating: /usr/local/lib/python3.10/dist-packages/language_evaluation/coco_caption_py3/pycocoevalcap/spice/lib/stanford-corenlp-full-2015-12-09/build.xml  \n",
            "  inflating: /usr/local/lib/python3.10/dist-packages/language_evaluation/coco_caption_py3/pycocoevalcap/spice/lib/stanford-corenlp-full-2015-12-09/pom.xml  \n",
            "  inflating: /usr/local/lib/python3.10/dist-packages/language_evaluation/coco_caption_py3/pycocoevalcap/spice/lib/stanford-corenlp-full-2015-12-09/stanford-corenlp-3.6.0.jar  \n",
            "   creating: /usr/local/lib/python3.10/dist-packages/language_evaluation/coco_caption_py3/pycocoevalcap/spice/lib/stanford-corenlp-full-2015-12-09/tokensregex/\n",
            "  inflating: /usr/local/lib/python3.10/dist-packages/language_evaluation/coco_caption_py3/pycocoevalcap/spice/lib/stanford-corenlp-full-2015-12-09/tokensregex/color.input.txt  \n",
            "  inflating: /usr/local/lib/python3.10/dist-packages/language_evaluation/coco_caption_py3/pycocoevalcap/spice/lib/stanford-corenlp-full-2015-12-09/tokensregex/retokenize.txt  \n",
            "  inflating: /usr/local/lib/python3.10/dist-packages/language_evaluation/coco_caption_py3/pycocoevalcap/spice/lib/stanford-corenlp-full-2015-12-09/tokensregex/color.properties  \n",
            "  inflating: /usr/local/lib/python3.10/dist-packages/language_evaluation/coco_caption_py3/pycocoevalcap/spice/lib/stanford-corenlp-full-2015-12-09/tokensregex/color.rules.txt  \n",
            "  inflating: /usr/local/lib/python3.10/dist-packages/language_evaluation/coco_caption_py3/pycocoevalcap/spice/lib/stanford-corenlp-full-2015-12-09/javax.json-api-1.0-sources.jar  \n",
            "  inflating: /usr/local/lib/python3.10/dist-packages/language_evaluation/coco_caption_py3/pycocoevalcap/spice/lib/stanford-corenlp-full-2015-12-09/protobuf.jar  \n",
            "  inflating: /usr/local/lib/python3.10/dist-packages/language_evaluation/coco_caption_py3/pycocoevalcap/spice/lib/stanford-corenlp-full-2015-12-09/StanfordDependenciesManual.pdf  \n",
            "   creating: /usr/local/lib/python3.10/dist-packages/language_evaluation/coco_caption_py3/pycocoevalcap/spice/lib/stanford-corenlp-full-2015-12-09/patterns/\n",
            "  inflating: /usr/local/lib/python3.10/dist-packages/language_evaluation/coco_caption_py3/pycocoevalcap/spice/lib/stanford-corenlp-full-2015-12-09/patterns/example.properties  \n",
            " extracting: /usr/local/lib/python3.10/dist-packages/language_evaluation/coco_caption_py3/pycocoevalcap/spice/lib/stanford-corenlp-full-2015-12-09/patterns/otherpeople.txt  \n",
            " extracting: /usr/local/lib/python3.10/dist-packages/language_evaluation/coco_caption_py3/pycocoevalcap/spice/lib/stanford-corenlp-full-2015-12-09/patterns/goldplaces.txt  \n",
            "  inflating: /usr/local/lib/python3.10/dist-packages/language_evaluation/coco_caption_py3/pycocoevalcap/spice/lib/stanford-corenlp-full-2015-12-09/patterns/stopwords.txt  \n",
            "  inflating: /usr/local/lib/python3.10/dist-packages/language_evaluation/coco_caption_py3/pycocoevalcap/spice/lib/stanford-corenlp-full-2015-12-09/patterns/presidents.txt  \n",
            "  inflating: /usr/local/lib/python3.10/dist-packages/language_evaluation/coco_caption_py3/pycocoevalcap/spice/lib/stanford-corenlp-full-2015-12-09/patterns/names.txt  \n",
            " extracting: /usr/local/lib/python3.10/dist-packages/language_evaluation/coco_caption_py3/pycocoevalcap/spice/lib/stanford-corenlp-full-2015-12-09/patterns/places.txt  \n",
            "  inflating: /usr/local/lib/python3.10/dist-packages/language_evaluation/coco_caption_py3/pycocoevalcap/spice/lib/stanford-corenlp-full-2015-12-09/patterns/goldnames.txt  \n",
            "  inflating: /usr/local/lib/python3.10/dist-packages/language_evaluation/coco_caption_py3/pycocoevalcap/spice/lib/stanford-corenlp-full-2015-12-09/slf4j-simple.jar  \n",
            "  inflating: /usr/local/lib/python3.10/dist-packages/language_evaluation/coco_caption_py3/pycocoevalcap/spice/lib/stanford-corenlp-full-2015-12-09/input.txt  \n",
            "  inflating: /usr/local/lib/python3.10/dist-packages/language_evaluation/coco_caption_py3/pycocoevalcap/spice/lib/stanford-corenlp-full-2015-12-09/input.txt.out  \n",
            "  inflating: /usr/local/lib/python3.10/dist-packages/language_evaluation/coco_caption_py3/pycocoevalcap/spice/lib/stanford-corenlp-full-2015-12-09/joda-time.jar  \n",
            "  inflating: /usr/local/lib/python3.10/dist-packages/language_evaluation/coco_caption_py3/pycocoevalcap/spice/lib/stanford-corenlp-full-2015-12-09/xom.jar  \n",
            "  inflating: /usr/local/lib/python3.10/dist-packages/language_evaluation/coco_caption_py3/pycocoevalcap/spice/lib/stanford-corenlp-full-2015-12-09/StanfordCoreNlpDemo.java  \n",
            "  inflating: /usr/local/lib/python3.10/dist-packages/language_evaluation/coco_caption_py3/pycocoevalcap/spice/lib/stanford-corenlp-full-2015-12-09/stanford-corenlp-3.6.0-sources.jar  \n",
            "  inflating: /usr/local/lib/python3.10/dist-packages/language_evaluation/coco_caption_py3/pycocoevalcap/spice/lib/stanford-corenlp-full-2015-12-09/slf4j-api.jar  \n",
            "  inflating: /usr/local/lib/python3.10/dist-packages/language_evaluation/coco_caption_py3/pycocoevalcap/spice/lib/stanford-corenlp-full-2015-12-09/jollyday-0.4.7-sources.jar  \n",
            "  inflating: /usr/local/lib/python3.10/dist-packages/language_evaluation/coco_caption_py3/pycocoevalcap/spice/lib/stanford-corenlp-full-2015-12-09/ejml-0.23.jar  \n",
            "  inflating: /usr/local/lib/python3.10/dist-packages/language_evaluation/coco_caption_py3/pycocoevalcap/spice/lib/stanford-corenlp-full-2015-12-09/javax.json.jar  \n",
            "  inflating: /usr/local/lib/python3.10/dist-packages/language_evaluation/coco_caption_py3/pycocoevalcap/spice/lib/stanford-corenlp-full-2015-12-09/Makefile  \n",
            "  inflating: /usr/local/lib/python3.10/dist-packages/language_evaluation/coco_caption_py3/pycocoevalcap/spice/lib/stanford-corenlp-full-2015-12-09/stanford-corenlp-3.6.0-models.jar  \n",
            "  inflating: /usr/local/lib/python3.10/dist-packages/language_evaluation/coco_caption_py3/pycocoevalcap/spice/lib/stanford-corenlp-full-2015-12-09/corenlp.sh  \n",
            "  inflating: /usr/local/lib/python3.10/dist-packages/language_evaluation/coco_caption_py3/pycocoevalcap/spice/lib/stanford-corenlp-full-2015-12-09/joda-time-2.9-sources.jar  \n",
            "  inflating: /usr/local/lib/python3.10/dist-packages/language_evaluation/coco_caption_py3/pycocoevalcap/spice/lib/stanford-corenlp-full-2015-12-09/stanford-corenlp-3.6.0-javadoc.jar  \n",
            "  inflating: /usr/local/lib/python3.10/dist-packages/language_evaluation/coco_caption_py3/pycocoevalcap/spice/lib/stanford-corenlp-full-2015-12-09/jollyday.jar  \n",
            "  inflating: /usr/local/lib/python3.10/dist-packages/language_evaluation/coco_caption_py3/pycocoevalcap/spice/lib/stanford-corenlp-full-2015-12-09/ShiftReduceDemo.java  \n",
            "  inflating: /usr/local/lib/python3.10/dist-packages/language_evaluation/coco_caption_py3/pycocoevalcap/spice/lib/stanford-corenlp-full-2015-12-09/SemgrexDemo.java  \n",
            "  inflating: /usr/local/lib/python3.10/dist-packages/language_evaluation/coco_caption_py3/pycocoevalcap/spice/lib/stanford-corenlp-full-2015-12-09/LICENSE.txt  \n",
            "--2023-11-27 14:59:20--  https://raw.githubusercontent.com/cmu-mtlab/meteor/master/data/paraphrase-en.gz\n",
            "Resolving raw.githubusercontent.com (raw.githubusercontent.com)... 185.199.108.133, 185.199.109.133, 185.199.110.133, ...\n",
            "Connecting to raw.githubusercontent.com (raw.githubusercontent.com)|185.199.108.133|:443... connected.\n",
            "HTTP request sent, awaiting response... 200 OK\n",
            "Length: 61813011 (59M) [application/octet-stream]\n",
            "Saving to: ‘/usr/local/lib/python3.10/dist-packages/language_evaluation/coco_caption_py3/pycocoevalcap/meteor/data/paraphrase-en.gz’\n",
            "\n",
            "/usr/local/lib/pyth 100%[===================>]  58.95M   313MB/s    in 0.2s    \n",
            "\n",
            "2023-11-27 14:59:21 (313 MB/s) - ‘/usr/local/lib/python3.10/dist-packages/language_evaluation/coco_caption_py3/pycocoevalcap/meteor/data/paraphrase-en.gz’ saved [61813011/61813011]\n",
            "\n"
          ]
        }
      ]
    },
    {
      "cell_type": "code",
      "source": [
        "!python3 /content/p2_evaluate.py --pred_file LoRA_large_epoch1.json --annotation_file /content/hw3_data/p2_data/val.json --images_root /content/hw3_data/p2_data/images/val"
      ],
      "metadata": {
        "id": "swSotJrRqxS2",
        "outputId": "7ff84ff0-e472-4aab-b8da-4d41fdea6e7c",
        "colab": {
          "base_uri": "https://localhost:8080/"
        }
      },
      "execution_count": 7,
      "outputs": [
        {
          "output_type": "stream",
          "name": "stdout",
          "text": [
            "PTBTokenizer tokenized 110968 tokens at 70608.43 tokens per second.\n",
            "PTBTokenizer tokenized 21427 tokens at 24047.73 tokens per second.\n",
            "100%|███████████████████████████████████████| 338M/338M [00:03<00:00, 96.4MiB/s]\n",
            "CIDEr: 0.796202486910478 | CLIPScore: 0.7144016630493641\n"
          ]
        }
      ]
    }
  ]
}