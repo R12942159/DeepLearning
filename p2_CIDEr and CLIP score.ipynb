{
  "nbformat": 4,
  "nbformat_minor": 0,
  "metadata": {
    "colab": {
      "provenance": [],
      "gpuType": "T4",
      "include_colab_link": true
    },
    "kernelspec": {
      "name": "python3",
      "display_name": "Python 3"
    },
    "language_info": {
      "name": "python"
    },
    "accelerator": "GPU"
  },
  "cells": [
    {
      "cell_type": "markdown",
      "metadata": {
        "id": "view-in-github",
        "colab_type": "text"
      },
      "source": [
        "<a href=\"https://colab.research.google.com/github/R12942159/NTU_DLCV/blob/Hw3/p2_CIDEr%20and%20CLIP%20score.ipynb\" target=\"_parent\"><img src=\"https://colab.research.google.com/assets/colab-badge.svg\" alt=\"Open In Colab\"/></a>"
      ]
    },
    {
      "cell_type": "code",
      "source": [
        "import os\n",
        "import re\n",
        "import math\n",
        "import json\n",
        "import torch\n",
        "\n",
        "from tqdm import tqdm\n",
        "from torch import nn, Tensor"
      ],
      "metadata": {
        "id": "15_urThwKKnm"
      },
      "execution_count": 1,
      "outputs": []
    },
    {
      "cell_type": "markdown",
      "source": [
        "#### CIDEr & CLIPScore"
      ],
      "metadata": {
        "id": "VGr3qxH5quie"
      }
    },
    {
      "cell_type": "code",
      "source": [
        "device = \"cuda\" if torch.cuda.is_available() else \"cpu\"\n",
        "print(f\"Using: {device}\")"
      ],
      "metadata": {
        "id": "Zs6fZBVBE1mP",
        "outputId": "4f8272be-6b51-44c1-87d8-a73e68930082",
        "colab": {
          "base_uri": "https://localhost:8080/"
        }
      },
      "execution_count": 2,
      "outputs": [
        {
          "output_type": "stream",
          "name": "stdout",
          "text": [
            "Using: cuda\n"
          ]
        }
      ]
    },
    {
      "cell_type": "code",
      "source": [
        "!gdown 1SUiRrG6zQVtyrVSVh9hOBq5_fX-oV2Lh -O hw3_data.zip\n",
        "!unzip /content/hw3_data.zip"
      ],
      "metadata": {
        "id": "L1bN1UeOP6bN"
      },
      "execution_count": null,
      "outputs": []
    },
    {
      "cell_type": "code",
      "source": [
        "# !gdown 1-6nOPfbsxhlKfrTncnpoY-ck0R9GYQlg -O epoch0.json\n",
        "!gdown 1-D_ZwCGfZP0iCrTTk3AiN3KgNICIAaDE -O epoch1.json\n",
        "!gdown 1-LIIR5tt5Gp3wIO6JBLTAbsuo9r3V6d6 -O epoch2.json\n",
        "!gdown 1-VobRdGlWdQjpNbEOtWIkl_jSlXP1Ifd -O epoch3.json\n",
        "!gdown 1-fhewJNVZULV5rSsdJ7XGyIZDUFNiNFN -O epoch4.json"
      ],
      "metadata": {
        "id": "e7ROjiWxDhIV"
      },
      "execution_count": null,
      "outputs": []
    },
    {
      "cell_type": "code",
      "source": [
        "!pip install git+https://github.com/openai/CLIP.git"
      ],
      "metadata": {
        "id": "1OTLFea5quTY"
      },
      "execution_count": null,
      "outputs": []
    },
    {
      "cell_type": "code",
      "source": [
        "!pip install git+https://github.com/bckim92/language-evaluation.git\n",
        "!python -c \"import language_evaluation; language_evaluation.download('coco')\""
      ],
      "metadata": {
        "id": "OawD8CsqY1xs"
      },
      "execution_count": null,
      "outputs": []
    },
    {
      "cell_type": "code",
      "source": [
        "!python3 /content/p2_evaluate.py --pred_file epoch4.json --annotation_file /content/hw3_data/p2_data/val.json --images_root /content/hw3_data/p2_data/images/val"
      ],
      "metadata": {
        "id": "swSotJrRqxS2",
        "outputId": "8bb211d7-8658-4e42-c9fd-888b00365953",
        "colab": {
          "base_uri": "https://localhost:8080/"
        }
      },
      "execution_count": 19,
      "outputs": [
        {
          "output_type": "stream",
          "name": "stdout",
          "text": [
            "PTBTokenizer tokenized 110968 tokens at 143611.77 tokens per second.\n",
            "PTBTokenizer tokenized 23215 tokens at 58221.98 tokens per second.\n",
            "CIDEr: 0.7114209113778288 | CLIPScore: 0.7216397365956015\n"
          ]
        }
      ]
    }
  ]
}