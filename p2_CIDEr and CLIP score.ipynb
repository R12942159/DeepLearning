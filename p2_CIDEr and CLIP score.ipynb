{
  "nbformat": 4,
  "nbformat_minor": 0,
  "metadata": {
    "colab": {
      "provenance": [],
      "gpuType": "T4",
      "include_colab_link": true
    },
    "kernelspec": {
      "name": "python3",
      "display_name": "Python 3"
    },
    "language_info": {
      "name": "python"
    },
    "accelerator": "GPU"
  },
  "cells": [
    {
      "cell_type": "markdown",
      "metadata": {
        "id": "view-in-github",
        "colab_type": "text"
      },
      "source": [
        "<a href=\"https://colab.research.google.com/github/R12942159/NTU_DLCV/blob/Hw3/p2_CIDEr%20and%20CLIP%20score.ipynb\" target=\"_parent\"><img src=\"https://colab.research.google.com/assets/colab-badge.svg\" alt=\"Open In Colab\"/></a>"
      ]
    },
    {
      "cell_type": "code",
      "source": [
        "import os\n",
        "import re\n",
        "import math\n",
        "import json\n",
        "import torch\n",
        "\n",
        "from tqdm import tqdm\n",
        "from torch import nn, Tensor"
      ],
      "metadata": {
        "id": "15_urThwKKnm"
      },
      "execution_count": 2,
      "outputs": []
    },
    {
      "cell_type": "markdown",
      "source": [
        "#### CIDEr & CLIPScore"
      ],
      "metadata": {
        "id": "VGr3qxH5quie"
      }
    },
    {
      "cell_type": "code",
      "source": [
        "device = \"cuda\" if torch.cuda.is_available() else \"cpu\"\n",
        "print(f\"Using: {device}\")"
      ],
      "metadata": {
        "id": "Zs6fZBVBE1mP",
        "outputId": "174b30f5-7a43-4053-c2f7-b1848ceddbe5",
        "colab": {
          "base_uri": "https://localhost:8080/"
        }
      },
      "execution_count": 3,
      "outputs": [
        {
          "output_type": "stream",
          "name": "stdout",
          "text": [
            "Using: cuda\n"
          ]
        }
      ]
    },
    {
      "cell_type": "code",
      "source": [
        "!gdown 11rP6KmR5Qwjhx0rfag0b5TZGBTRuPtQR -O hw3_data.zip # 1SUiRrG6zQVtyrVSVh9hOBq5_fX-oV2Lh\n",
        "!unzip /content/hw3_data.zip"
      ],
      "metadata": {
        "id": "L1bN1UeOP6bN"
      },
      "execution_count": null,
      "outputs": []
    },
    {
      "cell_type": "code",
      "source": [
        "!gdown 1Z8ihgmjztB2bMOfbIqYfn4myqgCer7UB -O LoRA_large_epoch2_output.json"
      ],
      "metadata": {
        "id": "tuAxalXQP8bZ",
        "outputId": "12441a5c-f99c-46f3-98b9-2b81bfe573f8",
        "colab": {
          "base_uri": "https://localhost:8080/"
        }
      },
      "execution_count": 5,
      "outputs": [
        {
          "output_type": "stream",
          "name": "stdout",
          "text": [
            "Downloading...\n",
            "From: https://drive.google.com/uc?id=1Z8ihgmjztB2bMOfbIqYfn4myqgCer7UB\n",
            "To: /content/LoRA_large_epoch2_output.json\n",
            "\r  0% 0.00/121k [00:00<?, ?B/s]\r100% 121k/121k [00:00<00:00, 98.8MB/s]\n"
          ]
        }
      ]
    },
    {
      "cell_type": "code",
      "source": [
        "!pip install git+https://github.com/openai/CLIP.git"
      ],
      "metadata": {
        "id": "1OTLFea5quTY"
      },
      "execution_count": null,
      "outputs": []
    },
    {
      "cell_type": "code",
      "source": [
        "!pip install git+https://github.com/bckim92/language-evaluation.git\n",
        "!python -c \"import language_evaluation; language_evaluation.download('coco')\""
      ],
      "metadata": {
        "id": "OawD8CsqY1xs"
      },
      "execution_count": null,
      "outputs": []
    },
    {
      "cell_type": "code",
      "source": [
        "!python3 /content/p2_evaluate.py --pred_file /content/LoRA_large_epoch2_output.json --annotation_file /content/hw3_data/p2_data/val.json --images_root /content/hw3_data/p2_data/images/val"
      ],
      "metadata": {
        "id": "swSotJrRqxS2",
        "outputId": "d0a6bd4b-d268-4397-af95-c0e2f37aae49",
        "colab": {
          "base_uri": "https://localhost:8080/"
        }
      },
      "execution_count": 8,
      "outputs": [
        {
          "output_type": "stream",
          "name": "stdout",
          "text": [
            "PTBTokenizer tokenized 110968 tokens at 150493.37 tokens per second.\n",
            "PTBTokenizer tokenized 21471 tokens at 44834.00 tokens per second.\n",
            "100%|███████████████████████████████████████| 338M/338M [00:03<00:00, 90.2MiB/s]\n",
            "CIDEr: 0.7766338122205741 | CLIPScore: 0.7145565538315749\n"
          ]
        }
      ]
    }
  ]
}