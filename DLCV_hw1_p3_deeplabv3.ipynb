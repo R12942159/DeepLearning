{
  "nbformat": 4,
  "nbformat_minor": 0,
  "metadata": {
    "colab": {
      "provenance": [],
      "authorship_tag": "ABX9TyOTJcL//J+IjKMN4DAUqXau",
      "include_colab_link": true
    },
    "kernelspec": {
      "name": "python3",
      "display_name": "Python 3"
    },
    "language_info": {
      "name": "python"
    }
  },
  "cells": [
    {
      "cell_type": "markdown",
      "metadata": {
        "id": "view-in-github",
        "colab_type": "text"
      },
      "source": [
        "<a href=\"https://colab.research.google.com/github/R12942159/DeepLearning/blob/main/DLCV_hw1_p3_deeplabv3.ipynb\" target=\"_parent\"><img src=\"https://colab.research.google.com/assets/colab-badge.svg\" alt=\"Open In Colab\"/></a>"
      ]
    },
    {
      "cell_type": "code",
      "execution_count": 1,
      "metadata": {
        "colab": {
          "base_uri": "https://localhost:8080/"
        },
        "id": "FQng8RUmj3Qy",
        "outputId": "b47460a2-bdc9-4b42-b971-a2a398524dc6"
      },
      "outputs": [
        {
          "output_type": "stream",
          "name": "stdout",
          "text": [
            "Mounted at /content/drive\n"
          ]
        }
      ],
      "source": [
        "from google.colab import drive\n",
        "drive.mount('/content/drive')"
      ]
    },
    {
      "cell_type": "code",
      "source": [
        "import torch\n",
        "\n",
        "\n",
        "# Get cuda from GPU device for training.\n",
        "device = \"cuda\" if torch.cuda.is_available() else \"cpu\"\n",
        "print(f\"Using: {device}\")"
      ],
      "metadata": {
        "colab": {
          "base_uri": "https://localhost:8080/"
        },
        "id": "W4iA-WmOj6Xn",
        "outputId": "93d6e966-7c79-4888-b51f-ba13cd55486b"
      },
      "execution_count": 2,
      "outputs": [
        {
          "output_type": "stream",
          "name": "stdout",
          "text": [
            "Using: cpu\n"
          ]
        }
      ]
    },
    {
      "cell_type": "code",
      "source": [
        "import os\n",
        "\n",
        "\n",
        "train_paths = '/content/drive/MyDrive/NTU_DLCV/p3_data/train'\n",
        "img_paths_train = sorted([os.path.join(train_paths, i) for i in os.listdir(train_paths) if i.endswith('.jpg')])\n",
        "mask_paths_train = sorted([os.path.join(train_paths, i) for i in os.listdir(train_paths) if i.endswith('.png')])\n",
        "\n",
        "val_paths = '/content/drive/MyDrive/NTU_DLCV/p3_data/validation'\n",
        "img_paths_val = sorted([os.path.join(val_paths, i) for i in os.listdir(val_paths) if i.endswith('.jpg')])\n",
        "mask_paths_val = sorted([os.path.join(val_paths, i) for i in os.listdir(val_paths) if i.endswith('.png')])"
      ],
      "metadata": {
        "id": "C8zNvfvJkAoT"
      },
      "execution_count": 3,
      "outputs": []
    },
    {
      "cell_type": "code",
      "source": [
        "import torch\n",
        "import random\n",
        "import numpy as np\n",
        "from PIL import Image\n",
        "from copy import deepcopy\n",
        "from torchvision.transforms.functional import hflip, vflip, to_tensor, normalize\n",
        "\n",
        "\n",
        "class LandDataset(torch.utils.data.Dataset):\n",
        "    def __init__(self, img_paths, mask_paths, transform, mode, augment=False):\n",
        "        self.img_paths = img_paths\n",
        "        self.mask_paths = mask_paths\n",
        "        self.transform = transform\n",
        "        self.mode = mode\n",
        "\n",
        "        # Data Augmentation\n",
        "        def original(x): return x\n",
        "        if augment:\n",
        "            self.augment = [original, hflip, vflip]\n",
        "        else:\n",
        "            self.augment = [original]\n",
        "\n",
        "        # double check the len of img and mask.\n",
        "        assert len(self.img_paths) == len(self.mask_paths)\n",
        "\n",
        "    def __len__(self):\n",
        "        return len(self.img_paths)\n",
        "\n",
        "    def __getitem__(self, idx):\n",
        "        # get img path\n",
        "        img_path = self.img_paths[idx]\n",
        "        # Read img\n",
        "        img = Image.open(img_path).convert('RGB')\n",
        "        # Normalize Image with VGG16's mean and std\n",
        "        # (H, W, C) -> (C, H, W)\n",
        "        img = self.transform(img)\n",
        "\n",
        "        if self.mode != 'test':\n",
        "            # get mask path\n",
        "            mask_path = self.mask_paths[idx]\n",
        "            mask = Image.open(mask_path).convert('RGB')\n",
        "            mask = np.array(mask)\n",
        "            # Binarize mask from [0~255] to (0 or 1)\n",
        "            mask = (mask >= 128).astype(int)\n",
        "\n",
        "            # squeeze [a,b,c] into [x,y] with 7 category(6 classes + 1 background)\n",
        "            mask = 100 * mask[:, :, 0] + 10 * mask[:, :, 1] + 1 * mask[:, :, 2]\n",
        "            raw_mask = deepcopy(mask) # Only perform numerical conversion on the most original data\n",
        "            mask[raw_mask == 11] = 0  # (Cyan: 011) Urban land\n",
        "            mask[raw_mask == 110] = 1  # (Yellow: 110) Agriculture land\n",
        "            mask[raw_mask == 101] = 2  # (Purple: 101) Rangeland\n",
        "            mask[raw_mask == 10] = 3  # (Green: 010) Forest land\n",
        "            mask[raw_mask == 1] = 4  # (Blue: 001) Water\n",
        "            mask[raw_mask == 111] = 5  # (White: 111) Barren land\n",
        "            mask[raw_mask == 0] = 6  # (Black: 000) Unknown\n",
        "            mask = torch.tensor(mask)\n",
        "\n",
        "            # random Data Augmentation\n",
        "            augmentor = random.choice(self.augment)\n",
        "            img = augmentor(img)\n",
        "            mask = augmentor(mask)\n",
        "\n",
        "            # mask = mask.to(torch.float)  # 将目标标签转换为浮点数类型\n",
        "            return img, mask\n",
        "        else:\n",
        "            return img"
      ],
      "metadata": {
        "id": "wk0KksDPmXGL"
      },
      "execution_count": 13,
      "outputs": []
    },
    {
      "cell_type": "code",
      "source": [
        "import torchvision.transforms as tr\n",
        "\n",
        "\n",
        "# IMG_SIZE : 512*512\n",
        "BATCH_SIZE = 4\n",
        "\n",
        "# VGG16_V1, https://pytorch.org/vision/main/models/generated/torchvision.models.vgg16.html\n",
        "mean=[0.485, 0.456, 0.406]\n",
        "std=[0.229, 0.224, 0.225]\n",
        "\n",
        "train_ds = LandDataset(img_paths_train,\n",
        "                       mask_paths_train,\n",
        "                       transform = tr.Compose([\n",
        "                          tr.ToTensor(),\n",
        "                          tr.Normalize(mean=mean, std=std),\n",
        "                          ]),\n",
        "                       mode = 'train',\n",
        "                       augment = True,)\n",
        "val_ds = LandDataset(img_paths_val,\n",
        "                     mask_paths_val,\n",
        "                     transform = tr.Compose([\n",
        "                          tr.ToTensor(),\n",
        "                          tr.Normalize(mean=mean, std=std),\n",
        "                          ]),\n",
        "                     mode = 'val',\n",
        "                     augment = False,)\n",
        "\n",
        "# num_workers > 0: accelerate loading data by muli-process\n",
        "train_loader = torch.utils.data.DataLoader(train_ds, BATCH_SIZE, shuffle=True, num_workers=4)\n",
        "val_loader = torch.utils.data.DataLoader(val_ds, 2 * BATCH_SIZE, shuffle=False, num_workers=4)"
      ],
      "metadata": {
        "colab": {
          "base_uri": "https://localhost:8080/"
        },
        "id": "28fU6rMpmTkI",
        "outputId": "66770ab2-1369-46bb-c44b-2e47f556a43d"
      },
      "execution_count": 14,
      "outputs": [
        {
          "output_type": "stream",
          "name": "stderr",
          "text": [
            "/usr/local/lib/python3.10/dist-packages/torch/utils/data/dataloader.py:560: UserWarning: This DataLoader will create 4 worker processes in total. Our suggested max number of worker in current system is 2, which is smaller than what this DataLoader is going to create. Please be aware that excessive worker creation might get DataLoader running slow or even freeze, lower the worker number to avoid potential slowness/freeze if necessary.\n",
            "  warnings.warn(_create_warning_msg(\n"
          ]
        }
      ]
    },
    {
      "cell_type": "code",
      "source": [
        "from torchvision.models.segmentation.deeplabv3 import DeepLabHead, FCNHead\n",
        "\n",
        "\n",
        "def DeepLabv3(n_classes=7, mode='resnet'):\n",
        "    if mode == 'resnet':\n",
        "        model = torch.hub.load('pytorch/vision:v0.10.0',\n",
        "                               'deeplabv3_resnet50', pretrained=True)\n",
        "        model.classifier = DeepLabHead(2048, n_classes)\n",
        "        model.aux_classifier = FCNHead(1024, n_classes)\n",
        "    elif mode == 'mobile':\n",
        "        model = torch.hub.load('pytorch/vision:v0.10.0',\n",
        "                               'deeplabv3_mobilenet_v3_large', pretrained=True)\n",
        "        model.classifier = DeepLabHead(960, n_classes)\n",
        "        model.aux_classifier = FCNHead(40, n_classes)\n",
        "    return model"
      ],
      "metadata": {
        "id": "I5MrvequkCjw"
      },
      "execution_count": 24,
      "outputs": []
    },
    {
      "cell_type": "code",
      "source": [
        "def mean_iou_score(pred, labels, num_classes=6):\n",
        "    '''\n",
        "    Compute mean IoU score over 6 classes\n",
        "    '''\n",
        "    mean_iou = []\n",
        "    for i in range(num_classes):\n",
        "        tp_fp = torch.sum(pred == i)\n",
        "        tp_fn = torch.sum(labels == i)\n",
        "        tp = torch.sum((pred == i) * (labels == i))\n",
        "        # avoid nan\n",
        "        if (tp_fp + tp_fn - tp) == 0:\n",
        "            iou = 0.\n",
        "        else:\n",
        "            iou = tp / (tp_fp + tp_fn - tp)\n",
        "        mean_iou.append(iou)\n",
        "\n",
        "    return sum(mean_iou) / len(mean_iou)"
      ],
      "metadata": {
        "id": "1NTaBGlomdVY"
      },
      "execution_count": 25,
      "outputs": []
    },
    {
      "cell_type": "code",
      "source": [
        "from tqdm import tqdm\n",
        "\n",
        "\n",
        "def train(dataloader, model, loss_fn, optimizer):\n",
        "    size = len(dataloader.dataset) # number of samples\n",
        "    num_batches = len(dataloader) # batches per epoch\n",
        "    model.train() # to training mode.\n",
        "    epoch_loss, epoch_iou = 0, 0\n",
        "    for batch_i, (x, y) in enumerate(tqdm(dataloader, leave=False)):\n",
        "        x, y = x.to(device, non_blocking=True), y.to(device, non_blocking=True) # move data to GPU\n",
        "\n",
        "        # Compute prediction loss\n",
        "        pred = model(x)\n",
        "        pred_out, pred_aux = pred['out'], pred['aux']\n",
        "        loss = loss_fn(pred_out, y) + loss_fn(pred_aux, y)\n",
        "        # Optimization by gradients\n",
        "        optimizer.zero_grad() # set prevision gradient to 0\n",
        "        loss.backward() # backpropagation to compute gradients\n",
        "        optimizer.step() # update model params\n",
        "\n",
        "        pred = torch.argmax(pred, dim=1) # 沿着通道维度选择具有最高分数的通道\n",
        "        pred = pred.to(torch.float)  # 将目标标签转换为浮点数类型\n",
        "        # log\n",
        "        epoch_loss += loss.item() # tensor -> python value\n",
        "        epoch_iou += mean_iou_score(pred, y).item()\n",
        "\n",
        "    # return avg loss of epoch, iou of epoch\n",
        "    return epoch_loss/num_batches, epoch_iou/num_batches\n",
        "\n",
        "\n",
        "def test(dataloader, model, loss_fn):\n",
        "    size = len(dataloader.dataset) # number of samples\n",
        "    num_batches = len(dataloader) # batches per epoch\n",
        "\n",
        "    model.eval() # model to test mode.\n",
        "    epoch_loss = 0\n",
        "    epoch_iou = 0\n",
        "    # No gradient for test data\n",
        "    with torch.no_grad():\n",
        "        for batch_i, (x, y) in enumerate(dataloader):\n",
        "            x, y = x.to(device), y.to(device)\n",
        "\n",
        "            y = y.to(torch.long)\n",
        "            # Compute prediction loss\n",
        "            pred = model(x)\n",
        "            loss = loss_fn(pred, y)\n",
        "\n",
        "            pred = torch.argmax(pred, dim=1) # 沿着通道维度选择具有最高分数的通道\n",
        "            pred = pred.to(torch.float)  # 将目标标签转换为浮点数类型\n",
        "\n",
        "            # write to logs\n",
        "            epoch_loss += loss.item()\n",
        "            epoch_iou += mean_iou_score(pred, y).item()\n",
        "\n",
        "    return epoch_loss/num_batches, epoch_iou/num_batches"
      ],
      "metadata": {
        "id": "WQxlEj6Emfsb"
      },
      "execution_count": 30,
      "outputs": []
    },
    {
      "cell_type": "code",
      "source": [
        "from torch import nn\n",
        "\n",
        "\n",
        "EPOCHS = 100\n",
        "logs = {\n",
        "    'train_loss': [], 'val_loss': [],\n",
        "    'train_mean_iou': [], 'val_mean_iou': [],\n",
        "}\n",
        "\n",
        "model = DeepLabv3(n_classes=7, mode='resnet')\n",
        "model = model.to(device)\n",
        "loss_fn = nn.CrossEntropyLoss() # classification for each pixel\n",
        "optimizer = torch.optim.Adam(model.parameters(), lr=1e-3)\n",
        "\n",
        "# Earlystopping\n",
        "patience = 7\n",
        "counter = 0\n",
        "best_IOU = 0\n",
        "\n",
        "for epoch in tqdm(range(EPOCHS)):\n",
        "    train_loss, train_mean_iou = train(train_loader, model, loss_fn, optimizer)\n",
        "    val_loss, val_mean_iou = test(val_loader, model, loss_fn)\n",
        "    logs['train_loss'].append(train_loss)\n",
        "    logs['val_loss'].append(val_loss)\n",
        "    logs['train_mean_iou'].append(train_mean_iou)\n",
        "    logs['val_mean_iou'].append(val_mean_iou)\n",
        "\n",
        "    print(f'EPOCH: {(epoch+1):04d} train_loss: {train_loss:.4f} val_loss: {val_loss:.4f}, train_mean_iou: {train_mean_iou:.3f}, val_mean_iou: {val_mean_iou:.3f}')\n",
        "\n",
        "    # On epoch end\n",
        "    torch.save(model.state_dict(), \"UNet_lastmodel.pth\")\n",
        "    # check improvement\n",
        "    if best_IOU < val_mean_iou:\n",
        "        counter = 0\n",
        "        best_IOU = val_mean_iou\n",
        "        torch.save(model.state_dict(), \"UNet_BestIOU.pth\")\n",
        "        print('Best_IOU saved!')\n",
        "    else:\n",
        "        counter += 1\n",
        "    if counter >= patience:\n",
        "        print(\"Earlystop!\")\n",
        "        break"
      ],
      "metadata": {
        "colab": {
          "base_uri": "https://localhost:8080/"
        },
        "id": "vP-C1h-GmhC2",
        "outputId": "9d9e0e5f-c77c-46ae-da86-0e5413cee8c2"
      },
      "execution_count": null,
      "outputs": [
        {
          "output_type": "stream",
          "name": "stderr",
          "text": [
            "Using cache found in /root/.cache/torch/hub/pytorch_vision_v0.10.0\n",
            "/usr/local/lib/python3.10/dist-packages/torchvision/models/_utils.py:208: UserWarning: The parameter 'pretrained' is deprecated since 0.13 and may be removed in the future, please use 'weights' instead.\n",
            "  warnings.warn(\n",
            "/usr/local/lib/python3.10/dist-packages/torchvision/models/_utils.py:223: UserWarning: Arguments other than a weight enum or `None` for 'weights' are deprecated since 0.13 and may be removed in the future. The current behavior is equivalent to passing `weights=DeepLabV3_ResNet50_Weights.COCO_WITH_VOC_LABELS_V1`. You can also use `weights=DeepLabV3_ResNet50_Weights.DEFAULT` to get the most up-to-date weights.\n",
            "  warnings.warn(msg)\n",
            "  0%|          | 0/100 [00:00<?, ?it/s]\n",
            "  0%|          | 0/500 [00:00<?, ?it/s]\u001b[A/usr/local/lib/python3.10/dist-packages/torch/utils/data/dataloader.py:560: UserWarning: This DataLoader will create 4 worker processes in total. Our suggested max number of worker in current system is 2, which is smaller than what this DataLoader is going to create. Please be aware that excessive worker creation might get DataLoader running slow or even freeze, lower the worker number to avoid potential slowness/freeze if necessary.\n",
            "  warnings.warn(_create_warning_msg(\n"
          ]
        }
      ]
    }
  ]
}