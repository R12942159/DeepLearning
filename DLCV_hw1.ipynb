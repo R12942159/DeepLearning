{
  "nbformat": 4,
  "nbformat_minor": 0,
  "metadata": {
    "colab": {
      "provenance": [],
      "gpuType": "T4",
      "mount_file_id": "19FWuFumXAuH6JIRdsB9JvvAh0AtvO6PJ",
      "authorship_tag": "ABX9TyNt3hCirNog92NvgUFC7cs4",
      "include_colab_link": true
    },
    "kernelspec": {
      "name": "python3",
      "display_name": "Python 3"
    },
    "language_info": {
      "name": "python"
    },
    "accelerator": "GPU"
  },
  "cells": [
    {
      "cell_type": "markdown",
      "metadata": {
        "id": "view-in-github",
        "colab_type": "text"
      },
      "source": [
        "<a href=\"https://colab.research.google.com/github/R12942159/DeepLearning/blob/main/DLCV_hw1.ipynb\" target=\"_parent\"><img src=\"https://colab.research.google.com/assets/colab-badge.svg\" alt=\"Open In Colab\"/></a>"
      ]
    },
    {
      "cell_type": "code",
      "source": [
        "from google.colab import drive\n",
        "drive.mount('/content/drive')"
      ],
      "metadata": {
        "colab": {
          "base_uri": "https://localhost:8080/"
        },
        "id": "3VH3Xcmt3_mW",
        "outputId": "e2c6c90d-e485-4bfd-eee8-164446dc343c"
      },
      "execution_count": 1,
      "outputs": [
        {
          "output_type": "stream",
          "name": "stdout",
          "text": [
            "Drive already mounted at /content/drive; to attempt to forcibly remount, call drive.mount(\"/content/drive\", force_remount=True).\n"
          ]
        }
      ]
    },
    {
      "cell_type": "code",
      "execution_count": 2,
      "metadata": {
        "colab": {
          "base_uri": "https://localhost:8080/"
        },
        "id": "ccfMN_Ay0d78",
        "outputId": "c51ca286-f341-4e35-b5d9-81c62c39b894"
      },
      "outputs": [
        {
          "output_type": "stream",
          "name": "stdout",
          "text": [
            "Requirement already satisfied: imageio in /usr/local/lib/python3.10/dist-packages (2.31.3)\n",
            "Requirement already satisfied: numpy in /usr/local/lib/python3.10/dist-packages (from imageio) (1.23.5)\n",
            "Requirement already satisfied: pillow>=8.3.2 in /usr/local/lib/python3.10/dist-packages (from imageio) (9.4.0)\n"
          ]
        }
      ],
      "source": [
        "!pip install imageio"
      ]
    },
    {
      "cell_type": "code",
      "source": [
        "import imageio\n",
        "import os\n",
        "\n",
        "\n",
        "image_directory = '/content/drive/MyDrive/NTU_DLCV/p1_data/train_50'\n",
        "image_files = [file for file in os.listdir(image_directory) if file.endswith('.png')]"
      ],
      "metadata": {
        "id": "P_8sh13x3GfK"
      },
      "execution_count": null,
      "outputs": []
    },
    {
      "cell_type": "code",
      "source": [
        "from concurrent.futures import ProcessPoolExecutor\n",
        "\n",
        "\n",
        "x_train = []\n",
        "def read_image(filename):\n",
        "    image_path = os.path.join(image_directory, filename)\n",
        "    return imageio.imread(image_path)\n",
        "\n",
        "# 使用多進程並行處理以加快讀取速度\n",
        "with ProcessPoolExecutor() as executor:\n",
        "    x_train = list(executor.map(read_image, image_files))\n",
        "x_train = torch.Tensor(x_train)\n",
        "x_train_norm = x_train / 255.0\n",
        "\n",
        "y_train = [int(classification.split('_')[0]) for classification in image_files]\n",
        "y_train = torch.Tensor(y_train)"
      ],
      "metadata": {
        "colab": {
          "base_uri": "https://localhost:8080/"
        },
        "id": "XnFkxDAqHHZo",
        "outputId": "2e33b821-8c57-4bd9-83ce-e772607af5d2"
      },
      "execution_count": 49,
      "outputs": [
        {
          "output_type": "stream",
          "name": "stderr",
          "text": [
            "<ipython-input-49-6eb2a44e1c99>:7: DeprecationWarning: Starting with ImageIO v3 the behavior of this function will switch to that of iio.v3.imread. To keep the current behavior (and make this warning disappear) use `import imageio.v2 as imageio` or call `imageio.v2.imread` directly.\n",
            "  return imageio.imread(image_path)\n",
            "<ipython-input-49-6eb2a44e1c99>:7: DeprecationWarning: Starting with ImageIO v3 the behavior of this function will switch to that of iio.v3.imread. To keep the current behavior (and make this warning disappear) use `import imageio.v2 as imageio` or call `imageio.v2.imread` directly.\n",
            "  return imageio.imread(image_path)\n",
            "<ipython-input-49-6eb2a44e1c99>:12: UserWarning: Creating a tensor from a list of numpy.ndarrays is extremely slow. Please consider converting the list to a single numpy.ndarray with numpy.array() before converting to a tensor. (Triggered internally at ../torch/csrc/utils/tensor_new.cpp:245.)\n",
            "  x_train = torch.Tensor(x_train)\n"
          ]
        }
      ]
    },
    {
      "cell_type": "code",
      "source": [
        "print(y_train.shape)"
      ],
      "metadata": {
        "colab": {
          "base_uri": "https://localhost:8080/"
        },
        "id": "V9Br868IXQa8",
        "outputId": "80829178-ce3d-488d-849d-cb6749c0d3d8"
      },
      "execution_count": 50,
      "outputs": [
        {
          "output_type": "stream",
          "name": "stdout",
          "text": [
            "torch.Size([22500])\n"
          ]
        }
      ]
    },
    {
      "cell_type": "code",
      "source": [
        "# Basic module\n",
        "import numpy as np\n",
        "import matplotlib.pyplot as plt\n",
        "from tqdm.auto import tqdm # progress bar\n",
        "\n",
        "# PyTorch\n",
        "import torch\n",
        "import torch.nn as nn\n",
        "import torchvision\n",
        "from torchvision import transforms # 資料前處理"
      ],
      "metadata": {
        "id": "_NP3XehASEOD"
      },
      "execution_count": 46,
      "outputs": []
    }
  ]
}