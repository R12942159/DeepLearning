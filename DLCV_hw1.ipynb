{
  "nbformat": 4,
  "nbformat_minor": 0,
  "metadata": {
    "colab": {
      "provenance": [],
      "gpuType": "T4",
      "mount_file_id": "19FWuFumXAuH6JIRdsB9JvvAh0AtvO6PJ",
      "authorship_tag": "ABX9TyPdlAxY1RmVY74MgRb0mWKb",
      "include_colab_link": true
    },
    "kernelspec": {
      "name": "python3",
      "display_name": "Python 3"
    },
    "language_info": {
      "name": "python"
    },
    "accelerator": "GPU"
  },
  "cells": [
    {
      "cell_type": "markdown",
      "metadata": {
        "id": "view-in-github",
        "colab_type": "text"
      },
      "source": [
        "<a href=\"https://colab.research.google.com/github/R12942159/DeepLearning/blob/main/DLCV_hw1.ipynb\" target=\"_parent\"><img src=\"https://colab.research.google.com/assets/colab-badge.svg\" alt=\"Open In Colab\"/></a>"
      ]
    },
    {
      "cell_type": "code",
      "source": [
        "from google.colab import drive\n",
        "drive.mount('/content/drive')"
      ],
      "metadata": {
        "colab": {
          "base_uri": "https://localhost:8080/"
        },
        "id": "3VH3Xcmt3_mW",
        "outputId": "9fe54a97-6a93-4457-bb65-6d1e9cbb4f33"
      },
      "execution_count": 1,
      "outputs": [
        {
          "output_type": "stream",
          "name": "stdout",
          "text": [
            "Mounted at /content/drive\n"
          ]
        }
      ]
    },
    {
      "cell_type": "code",
      "execution_count": 2,
      "metadata": {
        "colab": {
          "base_uri": "https://localhost:8080/"
        },
        "id": "ccfMN_Ay0d78",
        "outputId": "00595940-ce88-459d-cbf4-af48df3154d7"
      },
      "outputs": [
        {
          "output_type": "stream",
          "name": "stdout",
          "text": [
            "Requirement already satisfied: imageio in /usr/local/lib/python3.10/dist-packages (2.31.3)\n",
            "Requirement already satisfied: numpy in /usr/local/lib/python3.10/dist-packages (from imageio) (1.23.5)\n",
            "Requirement already satisfied: pillow>=8.3.2 in /usr/local/lib/python3.10/dist-packages (from imageio) (9.4.0)\n"
          ]
        }
      ],
      "source": [
        "!pip install imageio"
      ]
    },
    {
      "cell_type": "code",
      "source": [
        "\n",
        "\n",
        "\n"
      ],
      "metadata": {
        "id": "P_8sh13x3GfK"
      },
      "execution_count": 1,
      "outputs": []
    },
    {
      "cell_type": "code",
      "source": [
        "import imageio\n",
        "import os\n",
        "from concurrent.futures import ProcessPoolExecutor\n",
        "\n",
        "\n",
        "image_directory = '/content/drive/MyDrive/NTU_DLCV/p1_data/train_50'\n",
        "image_files = [file for file in os.listdir(image_directory) if file.endswith('.png')]\n",
        "\n",
        "x_train = []\n",
        "def read_image(filename):\n",
        "    image_path = os.path.join(image_directory, filename)\n",
        "    return imageio.imread(image_path)\n",
        "\n",
        "# 使用多進程並行處理以加快讀取速度\n",
        "with ProcessPoolExecutor() as executor:\n",
        "    x_train = list(executor.map(read_image, image_files))\n",
        "\n",
        "y_train = [int(classification.split('_')[0]) for classification in image_files]"
      ],
      "metadata": {
        "id": "XnFkxDAqHHZo"
      },
      "execution_count": null,
      "outputs": []
    },
    {
      "cell_type": "code",
      "source": [
        "image_directory = '/content/drive/MyDrive/NTU_DLCV/p1_data/val_50'\n",
        "image_files = [file for file in os.listdir(image_directory) if file.endswith('.png')]\n",
        "\n",
        "x_val = []\n",
        "def read_image(filename):\n",
        "    image_path = os.path.join(image_directory, filename)\n",
        "    return imageio.imread(image_path)\n",
        "\n",
        "with ProcessPoolExecutor() as executor:\n",
        "    x_val = list(executor.map(read_image, image_files))\n",
        "\n",
        "y_val = [int(classification.split('_')[0]) for classification in image_files]"
      ],
      "metadata": {
        "colab": {
          "base_uri": "https://localhost:8080/"
        },
        "id": "VAjsZyngjggW",
        "outputId": "b98ea01e-a13a-4604-f5f7-6474b3d4a90c"
      },
      "execution_count": 52,
      "outputs": [
        {
          "output_type": "stream",
          "name": "stderr",
          "text": [
            "<ipython-input-52-66f948d01f71>:7: DeprecationWarning: Starting with ImageIO v3 the behavior of this function will switch to that of iio.v3.imread. To keep the current behavior (and make this warning disappear) use `import imageio.v2 as imageio` or call `imageio.v2.imread` directly.\n",
            "  return imageio.imread(image_path)\n",
            "<ipython-input-52-66f948d01f71>:7: DeprecationWarning: Starting with ImageIO v3 the behavior of this function will switch to that of iio.v3.imread. To keep the current behavior (and make this warning disappear) use `import imageio.v2 as imageio` or call `imageio.v2.imread` directly.\n",
            "  return imageio.imread(image_path)\n"
          ]
        }
      ]
    },
    {
      "cell_type": "code",
      "source": [
        "# Use DataLoader to generate minibatches\n",
        "BATCH_SIZE = 250\n",
        "x_train_dataloader = torch.utils.data.DataLoader(\n",
        "    x_train_norm,\n",
        "    batch_size=BATCH_SIZE,\n",
        "    shuffle=True)\n",
        "\n",
        "x_val_dataloader = torch.utils.data.DataLoader(\n",
        "    x_train_norm,\n",
        "    batch_size=BATCH_SIZE)"
      ],
      "metadata": {
        "id": "PPy-3nI_gaDS"
      },
      "execution_count": 53,
      "outputs": []
    }
  ]
}