{
  "nbformat": 4,
  "nbformat_minor": 0,
  "metadata": {
    "colab": {
      "provenance": [],
      "gpuType": "A100",
      "machine_shape": "hm",
      "include_colab_link": true
    },
    "kernelspec": {
      "name": "python3",
      "display_name": "Python 3"
    },
    "language_info": {
      "name": "python"
    },
    "accelerator": "GPU"
  },
  "cells": [
    {
      "cell_type": "markdown",
      "metadata": {
        "id": "view-in-github",
        "colab_type": "text"
      },
      "source": [
        "<a href=\"https://colab.research.google.com/github/R12942159/DeepLearning/blob/main/DLCV_hw1_pretrain_timm.ipynb\" target=\"_parent\"><img src=\"https://colab.research.google.com/assets/colab-badge.svg\" alt=\"Open In Colab\"/></a>"
      ]
    },
    {
      "cell_type": "code",
      "execution_count": 1,
      "metadata": {
        "id": "fP5MX9IGIISl",
        "colab": {
          "base_uri": "https://localhost:8080/"
        },
        "outputId": "1eed5baa-74c0-435b-eb65-6c2bf065dc4d"
      },
      "outputs": [
        {
          "output_type": "stream",
          "name": "stdout",
          "text": [
            "Mounted at /content/drive\n"
          ]
        }
      ],
      "source": [
        "from google.colab import drive\n",
        "drive.mount('/content/drive')"
      ]
    },
    {
      "cell_type": "code",
      "source": [
        "import torch\n",
        "\n",
        "\n",
        "# Get cuda from GPU device for training.\n",
        "device = \"cuda\" if torch.cuda.is_available() else \"cpu\"\n",
        "print(f\"Using: {device}\")"
      ],
      "metadata": {
        "id": "HXjpM3inMeLE",
        "colab": {
          "base_uri": "https://localhost:8080/"
        },
        "outputId": "02a0ce8d-5410-495b-a7c3-3413475e6f96"
      },
      "execution_count": 2,
      "outputs": [
        {
          "output_type": "stream",
          "name": "stdout",
          "text": [
            "Using: cuda\n"
          ]
        }
      ]
    },
    {
      "cell_type": "code",
      "source": [
        "# search file paths\n",
        "from glob import glob\n",
        "\n",
        "\n",
        "img_paths_train = glob('/content/drive/MyDrive/NTU_DLCV/p1_data/train_50/*.png') # *: all\n",
        "img_paths_train = glob('/content/drive/MyDrive/NTU_DLCV/p1_data/train_50/*.png') # *: all\n",
        "img_paths_val = glob('/content/drive/MyDrive/NTU_DLCV/p1_data/val_50/*.png')\n",
        "# img_paths_train = sorted(glob('/content/drive/MyDrive/NTU_DLCV/p1_data/train_50/*.png')) # *: all"
      ],
      "metadata": {
        "id": "BK7QoEV7MewD"
      },
      "execution_count": 3,
      "outputs": []
    },
    {
      "cell_type": "code",
      "source": [
        "# number of images\n",
        "len(img_paths_train), len(img_paths_val)"
      ],
      "metadata": {
        "id": "dLMWfO5xMjrN",
        "colab": {
          "base_uri": "https://localhost:8080/"
        },
        "outputId": "4c30130c-da34-445f-c813-b55432a27f84"
      },
      "execution_count": 4,
      "outputs": [
        {
          "output_type": "execute_result",
          "data": {
            "text/plain": [
              "(22500, 2500)"
            ]
          },
          "metadata": {},
          "execution_count": 4
        }
      ]
    },
    {
      "cell_type": "code",
      "source": [
        "import torch\n",
        "from PIL import Image\n",
        "import numpy as np\n",
        "\n",
        "\n",
        "class PretrainDataset(torch.utils.data.Dataset):\n",
        "    def __init__(self, img_paths, img_size, transform):\n",
        "        self.img_paths = img_paths\n",
        "        self.img_size = img_size\n",
        "        self.transform = transform\n",
        "\n",
        "    def __len__(self):\n",
        "        \"\"\"number of samples\"\"\"\n",
        "        return len(self.img_paths)\n",
        "\n",
        "    def __getitem__(self, idx):\n",
        "        \"\"\"read 1 sample\"\"\"\n",
        "        # Read img\n",
        "        path = self.img_paths[idx] # get img path\n",
        "        img = Image.open(path).convert('RGB') # read img\n",
        "        # img_pil = Image.fromarray(img)\n",
        "        # img = img_pil.resize((IMG_SIZE, IMG_SIZE), Image.LANCZOS)\n",
        "\n",
        "        # transform img\n",
        "        img = self.transform(img)\n",
        "\n",
        "        # Read class index\n",
        "        cls_idx = int((path.split('/')[-1]).split('_')[0])\n",
        "        cls_idx = torch.tensor(cls_idx, dtype=torch.int64)\n",
        "\n",
        "        return img, cls_idx"
      ],
      "metadata": {
        "id": "5inTy98yMnTL"
      },
      "execution_count": 5,
      "outputs": []
    },
    {
      "cell_type": "code",
      "source": [
        "# from torchvision.models import resnet50, ResNet50_Weights\n",
        "\n",
        "\n",
        "# # Preprocess Transform\n",
        "# transform =  ResNet50_Weights.IMAGENET1K_V2.transforms()"
      ],
      "metadata": {
        "id": "HJ9RoeKmhwdN"
      },
      "execution_count": 9,
      "outputs": []
    },
    {
      "cell_type": "code",
      "source": [
        "# !pip install timm\n",
        "import timm\n",
        "\n",
        "\n",
        "# Preprocess Transform\n",
        "model = timm.create_model('eva02_large_patch14_448.mim_m38m_ft_in1k',\n",
        "                          pretrained=True,\n",
        "                          num_classes=50)\n",
        "\n",
        "data_cfg = timm.data.resolve_data_config(model.pretrained_cfg)\n",
        "transform = timm.data.create_transform(**data_cfg)"
      ],
      "metadata": {
        "id": "oOBfqbNDfXsp"
      },
      "execution_count": 19,
      "outputs": []
    },
    {
      "cell_type": "code",
      "source": [
        "# classifier head\n",
        "print(model.get_classifier())\n",
        "print(model.get_classifier().in_features)"
      ],
      "metadata": {
        "id": "0t7-N3SCf4mT",
        "outputId": "897d699b-3a2d-4e11-e0d0-96264bf77fb7",
        "colab": {
          "base_uri": "https://localhost:8080/"
        }
      },
      "execution_count": 20,
      "outputs": [
        {
          "output_type": "stream",
          "name": "stdout",
          "text": [
            "Linear(in_features=1024, out_features=50, bias=True)\n",
            "1024\n"
          ]
        }
      ]
    },
    {
      "cell_type": "code",
      "source": [
        "# Build Dataset\n",
        "IMG_SIZE = 32\n",
        "train_ds = PretrainDataset(img_paths_train, IMG_SIZE, transform)\n",
        "val_ds = PretrainDataset(img_paths_val, IMG_SIZE, transform)"
      ],
      "metadata": {
        "id": "_ydC-SDvfKS7"
      },
      "execution_count": 22,
      "outputs": []
    },
    {
      "cell_type": "code",
      "source": [
        "transform"
      ],
      "metadata": {
        "id": "L83dypUwiw8V",
        "colab": {
          "base_uri": "https://localhost:8080/"
        },
        "outputId": "118a0b31-55bb-4207-9f08-606cbade107f"
      },
      "execution_count": 23,
      "outputs": [
        {
          "output_type": "execute_result",
          "data": {
            "text/plain": [
              "Compose(\n",
              "    Resize(size=448, interpolation=bicubic, max_size=None, antialias=warn)\n",
              "    CenterCrop(size=(448, 448))\n",
              "    ToTensor()\n",
              "    Normalize(mean=tensor([0.4815, 0.4578, 0.4082]), std=tensor([0.2686, 0.2613, 0.2758]))\n",
              ")"
            ]
          },
          "metadata": {},
          "execution_count": 23
        }
      ]
    },
    {
      "cell_type": "code",
      "source": [
        "# Build DataLoaders\n",
        "BATCH_SIZE = 300\n",
        "train_loader = torch.utils.data.DataLoader(train_ds, BATCH_SIZE, shuffle=True)\n",
        "val_loader = torch.utils.data.DataLoader(val_ds, BATCH_SIZE, shuffle=False)"
      ],
      "metadata": {
        "id": "stK3tUstMrRH"
      },
      "execution_count": 24,
      "outputs": []
    },
    {
      "cell_type": "markdown",
      "source": [
        "#### Build Model (https://pytorch.org/vision/stable/models.html#classification)"
      ],
      "metadata": {
        "id": "Ovo1AYQnZJeb"
      }
    },
    {
      "cell_type": "code",
      "source": [
        "# from torchvision import models\n",
        "\n",
        "# model = models.resnet50(weights=ResNet50_Weights.IMAGENET1K_V2)\n",
        "# print(model)"
      ],
      "metadata": {
        "id": "Y46oO9jiZQrX"
      },
      "execution_count": null,
      "outputs": []
    },
    {
      "cell_type": "code",
      "source": [
        "# from torch import nn\n",
        "\n",
        "# # replace classifier\n",
        "# num_features = model.fc.in_features # len of feature vectors\n",
        "\n",
        "# # # Freeze model\n",
        "# # for param in model.parameters():\n",
        "# #     param.requires_grad = False\n",
        "\n",
        "# # Replace classifier\n",
        "# model.fc = nn.Linear(num_features, 50)\n",
        "# print(model.fc)"
      ],
      "metadata": {
        "id": "lA7CjBcjk6op",
        "colab": {
          "base_uri": "https://localhost:8080/"
        },
        "outputId": "854332d9-3f9d-433f-8ef6-5e094fa0df43"
      },
      "execution_count": 13,
      "outputs": [
        {
          "output_type": "stream",
          "name": "stdout",
          "text": [
            "Linear(in_features=2048, out_features=50, bias=True)\n"
          ]
        }
      ]
    },
    {
      "cell_type": "code",
      "source": [
        "# from torchsummary import summary\n",
        "\n",
        "\n",
        "# resize_size = transform.resize_size[0]\n",
        "# summary(model.to(device), (3, resize_size, resize_size))"
      ],
      "metadata": {
        "id": "J2D-CfH8lF10",
        "colab": {
          "base_uri": "https://localhost:8080/"
        },
        "outputId": "02ab7067-5407-415f-ee2e-757a3dbdedf8"
      },
      "execution_count": 30,
      "outputs": [
        {
          "output_type": "execute_result",
          "data": {
            "text/plain": [
              "Compose(\n",
              "    Resize(size=448, interpolation=bicubic, max_size=None, antialias=warn)\n",
              "    CenterCrop(size=(448, 448))\n",
              "    ToTensor()\n",
              "    Normalize(mean=tensor([0.4815, 0.4578, 0.4082]), std=tensor([0.2686, 0.2613, 0.2758]))\n",
              ")"
            ]
          },
          "metadata": {},
          "execution_count": 30
        }
      ]
    },
    {
      "cell_type": "markdown",
      "source": [
        "#### Train Model"
      ],
      "metadata": {
        "id": "drxHjIQsmB6Q"
      }
    },
    {
      "cell_type": "code",
      "source": [
        "from tqdm.auto import tqdm # (optional) progress bar\n",
        "\n",
        "\n",
        "def training(dataloader, model, loss_fn, optimizer):\n",
        "    size = len(dataloader.dataset) # number of samples\n",
        "    num_batches = len(dataloader) # batches per epoch\n",
        "\n",
        "    model.train() # to training mode. (The Dropout layer has a different behavior between the training mode and the evaluation mode.)\n",
        "    epoch_loss, epoch_correct = 0, 0\n",
        "    for batch_i, (x, y) in enumerate(tqdm(dataloader, leave=False)):\n",
        "        x, y = x.to(device), y.to(device) # move data to GPU\n",
        "\n",
        "        # zero the parameter gradients\n",
        "        optimizer.zero_grad()\n",
        "\n",
        "        # Compute prediction loss\n",
        "        pred = model(x)\n",
        "        loss = loss_fn(pred, y)\n",
        "\n",
        "        # Optimization by gradients\n",
        "        loss.backward() # backpropagation to compute gradients\n",
        "        optimizer.step() # update model params\n",
        "\n",
        "        # write to logs\n",
        "        epoch_loss += loss.item() # tensor -> python value\n",
        "        # (N, Class)\n",
        "        epoch_correct += (pred.argmax(dim=1) == y).sum().item()\n",
        "\n",
        "    # return avg loss of epoch, acc of epoch\n",
        "    return epoch_loss/num_batches, epoch_correct/size\n",
        "\n",
        "\n",
        "def testing(dataloader, model, loss_fn):\n",
        "    size = len(dataloader.dataset) # number of samples\n",
        "    num_batches = len(dataloader) # batches per epoch\n",
        "\n",
        "    model.eval() # model to test mode.\n",
        "    epoch_loss, epoch_correct = 0, 0\n",
        "\n",
        "    # No gradient for test data\n",
        "    with torch.no_grad():\n",
        "        for batch_i, (x, y) in enumerate(dataloader):\n",
        "            x, y = x.to(device), y.to(device)\n",
        "\n",
        "            # Compute prediction loss\n",
        "            pred = model(x)\n",
        "            loss = loss_fn(pred, y)\n",
        "\n",
        "            # write to logs\n",
        "            epoch_loss += loss.item()\n",
        "            epoch_correct += (pred.argmax(1) == y).sum().item()\n",
        "\n",
        "    return epoch_loss/num_batches, epoch_correct/size"
      ],
      "metadata": {
        "id": "IqCHOfO7mEcf"
      },
      "execution_count": 31,
      "outputs": []
    },
    {
      "cell_type": "code",
      "source": [
        "# import matplotlib.pyplot as plt\n",
        "\n",
        "\n",
        "# def train(pretrained, freeze=False):\n",
        "#     print(f\"pretrained weights: {pretrained}, freeze: {freeze}\")\n",
        "#     # Model\n",
        "#     if pretrained:\n",
        "#         model = models.resnet50(weights=ResNet50_Weights.IMAGENET1K_V2)\n",
        "#     else:\n",
        "#         model = models.resnet50(weights=None)\n",
        "\n",
        "#     if freeze:\n",
        "#         # Freeze model\n",
        "#         for param in model.parameters():\n",
        "#             param.requires_grad = False\n",
        "\n",
        "#     # Replace classifier\n",
        "#     num_features = model.fc.in_features # len of feature vectors\n",
        "#     model.fc = nn.Linear(num_features, 50)\n",
        "\n",
        "#     model = model.to(device)\n",
        "\n",
        "#     loss_fn = nn.CrossEntropyLoss()\n",
        "#     # lower learning rate for finetuning\n",
        "#     optimizer = torch.optim.Adam(model.parameters(),\n",
        "#                                  lr=1e-4*0.5)\n",
        "#     # schedule = ReduceLROnplateau(optimizer, 'min')\n",
        "\n",
        "#     EPOCHS = 30\n",
        "#     logs = {\n",
        "#         'train_loss': [], 'train_acc': [], 'val_loss': [], 'val_acc': []\n",
        "#     }\n",
        "#     for epoch in tqdm(range(EPOCHS)):\n",
        "#         train_loss, train_acc = training(train_loader, model, loss_fn, optimizer)\n",
        "#         val_loss, val_acc = testing(val_loader, model, loss_fn)\n",
        "\n",
        "#         # # Note that step should be called after test_epoch()\n",
        "#         # schedule.step(val_loss)\n",
        "\n",
        "#         print(f'EPOCH: {epoch:04d} \\\n",
        "#         train_loss: {train_loss:.4f}, train_acc: {train_acc:.3f} \\\n",
        "#         val_loss: {val_loss:.4f}, val_acc: {val_acc:.3f} ')\n",
        "\n",
        "#         logs['train_loss'].append(train_loss)\n",
        "#         logs['train_acc'].append(train_acc)\n",
        "#         logs['val_loss'].append(val_loss)\n",
        "#         logs['val_acc'].append(val_acc)\n",
        "\n",
        "\n",
        "#     # plot result\n",
        "#     plt.figure(figsize=(6, 3))\n",
        "#     plt.subplot(1, 2, 1)\n",
        "#     plt.title('Loss')\n",
        "#     plt.plot(logs['train_loss'])\n",
        "#     plt.plot(logs['val_loss'])\n",
        "#     plt.subplot(1, 2, 2)\n",
        "#     plt.title('Acc.')\n",
        "#     plt.plot(logs['train_acc'])\n",
        "#     plt.plot(logs['val_acc'])\n",
        "#     plt.show()\n",
        "\n",
        "#     # Save model\n",
        "#     torch.save(model.state_dict(), \"last.pth\")"
      ],
      "metadata": {
        "id": "U9T9TwAVmYkr"
      },
      "execution_count": 17,
      "outputs": []
    },
    {
      "cell_type": "code",
      "source": [
        "import matplotlib.pyplot as plt\n",
        "\n",
        "\n",
        "def train(pretrained, freeze=False):\n",
        "    print(f\"pretrained weights: {pretrained}, freeze: {freeze}\")\n",
        "    # Model\n",
        "    if pretrained:\n",
        "        model = timm.create_model('eva02_large_patch14_448.mim_m38m_ft_in1k')\n",
        "        models.resnet50(weights=ResNet50_Weights.IMAGENET1K_V2)\n",
        "    else:\n",
        "        model = models.resnet50(weights=None)\n",
        "\n",
        "    if freeze:\n",
        "        # Freeze model\n",
        "        for param in model.parameters():\n",
        "            param.requires_grad = False\n",
        "\n",
        "    # Replace classifier\n",
        "    num_features = model.fc.in_features # len of feature vectors\n",
        "    model.fc = nn.Linear(num_features, 50)\n",
        "\n",
        "    model = model.to(device)\n",
        "\n",
        "    loss_fn = nn.CrossEntropyLoss()\n",
        "    # lower learning rate for finetuning\n",
        "    optimizer = torch.optim.Adam(model.parameters(),\n",
        "                                 lr=1e-4*0.5)\n",
        "    # schedule = ReduceLROnplateau(optimizer, 'min')\n",
        "\n",
        "    EPOCHS = 30\n",
        "    logs = {\n",
        "        'train_loss': [], 'train_acc': [], 'val_loss': [], 'val_acc': []\n",
        "    }\n",
        "    for epoch in tqdm(range(EPOCHS)):\n",
        "        train_loss, train_acc = training(train_loader, model, loss_fn, optimizer)\n",
        "        val_loss, val_acc = testing(val_loader, model, loss_fn)\n",
        "\n",
        "        # # Note that step should be called after test_epoch()\n",
        "        # schedule.step(val_loss)\n",
        "\n",
        "        print(f'EPOCH: {epoch:04d} \\\n",
        "        train_loss: {train_loss:.4f}, train_acc: {train_acc:.3f} \\\n",
        "        val_loss: {val_loss:.4f}, val_acc: {val_acc:.3f} ')\n",
        "\n",
        "        logs['train_loss'].append(train_loss)\n",
        "        logs['train_acc'].append(train_acc)\n",
        "        logs['val_loss'].append(val_loss)\n",
        "        logs['val_acc'].append(val_acc)\n",
        "\n",
        "\n",
        "    # plot result\n",
        "    plt.figure(figsize=(6, 3))\n",
        "    plt.subplot(1, 2, 1)\n",
        "    plt.title('Loss')\n",
        "    plt.plot(logs['train_loss'])\n",
        "    plt.plot(logs['val_loss'])\n",
        "    plt.subplot(1, 2, 2)\n",
        "    plt.title('Acc.')\n",
        "    plt.plot(logs['train_acc'])\n",
        "    plt.plot(logs['val_acc'])\n",
        "    plt.show()\n",
        "\n",
        "    # Save model\n",
        "    torch.save(model.state_dict(), \"last.pth\")"
      ],
      "metadata": {
        "id": "dySV2klFjjId"
      },
      "execution_count": null,
      "outputs": []
    },
    {
      "cell_type": "code",
      "source": [
        "# (Not Use)train(pretrained=False)\n",
        "\n",
        "# transfer learning\n",
        "train(pretrained=True)\n",
        "# (Not Use)train(pretrained=True, freeze=True)"
      ],
      "metadata": {
        "id": "UJYXE7u6oUrK"
      },
      "execution_count": null,
      "outputs": []
    }
  ]
}