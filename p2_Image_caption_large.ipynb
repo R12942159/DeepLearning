{
  "nbformat": 4,
  "nbformat_minor": 0,
  "metadata": {
    "colab": {
      "provenance": [],
      "gpuType": "T4",
      "include_colab_link": true
    },
    "kernelspec": {
      "name": "python3",
      "display_name": "Python 3"
    },
    "language_info": {
      "name": "python"
    },
    "accelerator": "GPU",
    "widgets": {
      "application/vnd.jupyter.widget-state+json": {
        "a97168df574c4027b7a7504d08a2b5f3": {
          "model_module": "@jupyter-widgets/controls",
          "model_name": "HBoxModel",
          "model_module_version": "1.5.0",
          "state": {
            "_dom_classes": [],
            "_model_module": "@jupyter-widgets/controls",
            "_model_module_version": "1.5.0",
            "_model_name": "HBoxModel",
            "_view_count": null,
            "_view_module": "@jupyter-widgets/controls",
            "_view_module_version": "1.5.0",
            "_view_name": "HBoxView",
            "box_style": "",
            "children": [
              "IPY_MODEL_d4e7b8efc9bb4eaca5daac94786c4e10",
              "IPY_MODEL_f2524a18235344f58f13a6167967ef35",
              "IPY_MODEL_f64b4b9e87f74ba38499f8aa32f4479d"
            ],
            "layout": "IPY_MODEL_622477a78a1a4823b1ee2850de4a9bab"
          }
        },
        "d4e7b8efc9bb4eaca5daac94786c4e10": {
          "model_module": "@jupyter-widgets/controls",
          "model_name": "HTMLModel",
          "model_module_version": "1.5.0",
          "state": {
            "_dom_classes": [],
            "_model_module": "@jupyter-widgets/controls",
            "_model_module_version": "1.5.0",
            "_model_name": "HTMLModel",
            "_view_count": null,
            "_view_module": "@jupyter-widgets/controls",
            "_view_module_version": "1.5.0",
            "_view_name": "HTMLView",
            "description": "",
            "description_tooltip": null,
            "layout": "IPY_MODEL_098ef246adc940e39c0881239ad47d5b",
            "placeholder": "​",
            "style": "IPY_MODEL_021bfc77b1a54031a542bf5640957053",
            "value": "model.safetensors: 100%"
          }
        },
        "f2524a18235344f58f13a6167967ef35": {
          "model_module": "@jupyter-widgets/controls",
          "model_name": "FloatProgressModel",
          "model_module_version": "1.5.0",
          "state": {
            "_dom_classes": [],
            "_model_module": "@jupyter-widgets/controls",
            "_model_module_version": "1.5.0",
            "_model_name": "FloatProgressModel",
            "_view_count": null,
            "_view_module": "@jupyter-widgets/controls",
            "_view_module_version": "1.5.0",
            "_view_name": "ProgressView",
            "bar_style": "success",
            "description": "",
            "description_tooltip": null,
            "layout": "IPY_MODEL_33758d66cc824d26b421edd82f4a8cc0",
            "max": 1302790986,
            "min": 0,
            "orientation": "horizontal",
            "style": "IPY_MODEL_952283d91d2849ef826524abf4cbbe14",
            "value": 1302790986
          }
        },
        "f64b4b9e87f74ba38499f8aa32f4479d": {
          "model_module": "@jupyter-widgets/controls",
          "model_name": "HTMLModel",
          "model_module_version": "1.5.0",
          "state": {
            "_dom_classes": [],
            "_model_module": "@jupyter-widgets/controls",
            "_model_module_version": "1.5.0",
            "_model_name": "HTMLModel",
            "_view_count": null,
            "_view_module": "@jupyter-widgets/controls",
            "_view_module_version": "1.5.0",
            "_view_name": "HTMLView",
            "description": "",
            "description_tooltip": null,
            "layout": "IPY_MODEL_877cc4919ea04b7e86cbb3825da4cc1c",
            "placeholder": "​",
            "style": "IPY_MODEL_8b1c0f3770af4bcdb9ed092a3e4061de",
            "value": " 1.30G/1.30G [00:21&lt;00:00, 69.8MB/s]"
          }
        },
        "622477a78a1a4823b1ee2850de4a9bab": {
          "model_module": "@jupyter-widgets/base",
          "model_name": "LayoutModel",
          "model_module_version": "1.2.0",
          "state": {
            "_model_module": "@jupyter-widgets/base",
            "_model_module_version": "1.2.0",
            "_model_name": "LayoutModel",
            "_view_count": null,
            "_view_module": "@jupyter-widgets/base",
            "_view_module_version": "1.2.0",
            "_view_name": "LayoutView",
            "align_content": null,
            "align_items": null,
            "align_self": null,
            "border": null,
            "bottom": null,
            "display": null,
            "flex": null,
            "flex_flow": null,
            "grid_area": null,
            "grid_auto_columns": null,
            "grid_auto_flow": null,
            "grid_auto_rows": null,
            "grid_column": null,
            "grid_gap": null,
            "grid_row": null,
            "grid_template_areas": null,
            "grid_template_columns": null,
            "grid_template_rows": null,
            "height": null,
            "justify_content": null,
            "justify_items": null,
            "left": null,
            "margin": null,
            "max_height": null,
            "max_width": null,
            "min_height": null,
            "min_width": null,
            "object_fit": null,
            "object_position": null,
            "order": null,
            "overflow": null,
            "overflow_x": null,
            "overflow_y": null,
            "padding": null,
            "right": null,
            "top": null,
            "visibility": null,
            "width": null
          }
        },
        "098ef246adc940e39c0881239ad47d5b": {
          "model_module": "@jupyter-widgets/base",
          "model_name": "LayoutModel",
          "model_module_version": "1.2.0",
          "state": {
            "_model_module": "@jupyter-widgets/base",
            "_model_module_version": "1.2.0",
            "_model_name": "LayoutModel",
            "_view_count": null,
            "_view_module": "@jupyter-widgets/base",
            "_view_module_version": "1.2.0",
            "_view_name": "LayoutView",
            "align_content": null,
            "align_items": null,
            "align_self": null,
            "border": null,
            "bottom": null,
            "display": null,
            "flex": null,
            "flex_flow": null,
            "grid_area": null,
            "grid_auto_columns": null,
            "grid_auto_flow": null,
            "grid_auto_rows": null,
            "grid_column": null,
            "grid_gap": null,
            "grid_row": null,
            "grid_template_areas": null,
            "grid_template_columns": null,
            "grid_template_rows": null,
            "height": null,
            "justify_content": null,
            "justify_items": null,
            "left": null,
            "margin": null,
            "max_height": null,
            "max_width": null,
            "min_height": null,
            "min_width": null,
            "object_fit": null,
            "object_position": null,
            "order": null,
            "overflow": null,
            "overflow_x": null,
            "overflow_y": null,
            "padding": null,
            "right": null,
            "top": null,
            "visibility": null,
            "width": null
          }
        },
        "021bfc77b1a54031a542bf5640957053": {
          "model_module": "@jupyter-widgets/controls",
          "model_name": "DescriptionStyleModel",
          "model_module_version": "1.5.0",
          "state": {
            "_model_module": "@jupyter-widgets/controls",
            "_model_module_version": "1.5.0",
            "_model_name": "DescriptionStyleModel",
            "_view_count": null,
            "_view_module": "@jupyter-widgets/base",
            "_view_module_version": "1.2.0",
            "_view_name": "StyleView",
            "description_width": ""
          }
        },
        "33758d66cc824d26b421edd82f4a8cc0": {
          "model_module": "@jupyter-widgets/base",
          "model_name": "LayoutModel",
          "model_module_version": "1.2.0",
          "state": {
            "_model_module": "@jupyter-widgets/base",
            "_model_module_version": "1.2.0",
            "_model_name": "LayoutModel",
            "_view_count": null,
            "_view_module": "@jupyter-widgets/base",
            "_view_module_version": "1.2.0",
            "_view_name": "LayoutView",
            "align_content": null,
            "align_items": null,
            "align_self": null,
            "border": null,
            "bottom": null,
            "display": null,
            "flex": null,
            "flex_flow": null,
            "grid_area": null,
            "grid_auto_columns": null,
            "grid_auto_flow": null,
            "grid_auto_rows": null,
            "grid_column": null,
            "grid_gap": null,
            "grid_row": null,
            "grid_template_areas": null,
            "grid_template_columns": null,
            "grid_template_rows": null,
            "height": null,
            "justify_content": null,
            "justify_items": null,
            "left": null,
            "margin": null,
            "max_height": null,
            "max_width": null,
            "min_height": null,
            "min_width": null,
            "object_fit": null,
            "object_position": null,
            "order": null,
            "overflow": null,
            "overflow_x": null,
            "overflow_y": null,
            "padding": null,
            "right": null,
            "top": null,
            "visibility": null,
            "width": null
          }
        },
        "952283d91d2849ef826524abf4cbbe14": {
          "model_module": "@jupyter-widgets/controls",
          "model_name": "ProgressStyleModel",
          "model_module_version": "1.5.0",
          "state": {
            "_model_module": "@jupyter-widgets/controls",
            "_model_module_version": "1.5.0",
            "_model_name": "ProgressStyleModel",
            "_view_count": null,
            "_view_module": "@jupyter-widgets/base",
            "_view_module_version": "1.2.0",
            "_view_name": "StyleView",
            "bar_color": null,
            "description_width": ""
          }
        },
        "877cc4919ea04b7e86cbb3825da4cc1c": {
          "model_module": "@jupyter-widgets/base",
          "model_name": "LayoutModel",
          "model_module_version": "1.2.0",
          "state": {
            "_model_module": "@jupyter-widgets/base",
            "_model_module_version": "1.2.0",
            "_model_name": "LayoutModel",
            "_view_count": null,
            "_view_module": "@jupyter-widgets/base",
            "_view_module_version": "1.2.0",
            "_view_name": "LayoutView",
            "align_content": null,
            "align_items": null,
            "align_self": null,
            "border": null,
            "bottom": null,
            "display": null,
            "flex": null,
            "flex_flow": null,
            "grid_area": null,
            "grid_auto_columns": null,
            "grid_auto_flow": null,
            "grid_auto_rows": null,
            "grid_column": null,
            "grid_gap": null,
            "grid_row": null,
            "grid_template_areas": null,
            "grid_template_columns": null,
            "grid_template_rows": null,
            "height": null,
            "justify_content": null,
            "justify_items": null,
            "left": null,
            "margin": null,
            "max_height": null,
            "max_width": null,
            "min_height": null,
            "min_width": null,
            "object_fit": null,
            "object_position": null,
            "order": null,
            "overflow": null,
            "overflow_x": null,
            "overflow_y": null,
            "padding": null,
            "right": null,
            "top": null,
            "visibility": null,
            "width": null
          }
        },
        "8b1c0f3770af4bcdb9ed092a3e4061de": {
          "model_module": "@jupyter-widgets/controls",
          "model_name": "DescriptionStyleModel",
          "model_module_version": "1.5.0",
          "state": {
            "_model_module": "@jupyter-widgets/controls",
            "_model_module_version": "1.5.0",
            "_model_name": "DescriptionStyleModel",
            "_view_count": null,
            "_view_module": "@jupyter-widgets/base",
            "_view_module_version": "1.2.0",
            "_view_name": "StyleView",
            "description_width": ""
          }
        }
      }
    }
  },
  "cells": [
    {
      "cell_type": "markdown",
      "metadata": {
        "id": "view-in-github",
        "colab_type": "text"
      },
      "source": [
        "<a href=\"https://colab.research.google.com/github/R12942159/NTU_DLCV/blob/Hw3/p2_Image_caption_large.ipynb\" target=\"_parent\"><img src=\"https://colab.research.google.com/assets/colab-badge.svg\" alt=\"Open In Colab\"/></a>"
      ]
    },
    {
      "cell_type": "code",
      "source": [
        "!pip install timm"
      ],
      "metadata": {
        "id": "Xb59e3Ej2GPf"
      },
      "execution_count": null,
      "outputs": []
    },
    {
      "cell_type": "code",
      "source": [
        "import os\n",
        "import re\n",
        "import math\n",
        "import timm\n",
        "import json\n",
        "import torch\n",
        "import collections\n",
        "import numpy as np\n",
        "import torch.nn.functional as F\n",
        "import torchvision.transforms as tr\n",
        "\n",
        "from PIL import Image\n",
        "from tqdm import tqdm\n",
        "from pathlib import Path\n",
        "from torch import nn, Tensor\n",
        "from torch.utils.data import DataLoader"
      ],
      "metadata": {
        "id": "SBi1aSqPhMuD"
      },
      "execution_count": 2,
      "outputs": []
    },
    {
      "cell_type": "code",
      "source": [
        "device = \"cuda\" if torch.cuda.is_available() else \"cpu\"\n",
        "print(f\"Using: {device}\")"
      ],
      "metadata": {
        "colab": {
          "base_uri": "https://localhost:8080/"
        },
        "id": "8Eg4VzCElm83",
        "outputId": "b7a1f79a-5d19-4bb3-ba79-8c9850618bd0"
      },
      "execution_count": 3,
      "outputs": [
        {
          "output_type": "stream",
          "name": "stdout",
          "text": [
            "Using: cuda\n"
          ]
        }
      ]
    },
    {
      "cell_type": "code",
      "source": [
        "from google.colab import drive\n",
        "drive.mount('/content/drive')"
      ],
      "metadata": {
        "id": "UVlQEx1nX6xD",
        "colab": {
          "base_uri": "https://localhost:8080/"
        },
        "outputId": "ba7c2932-386e-45fc-dc65-ca0a79048d86"
      },
      "execution_count": 4,
      "outputs": [
        {
          "output_type": "stream",
          "name": "stdout",
          "text": [
            "Mounted at /content/drive\n"
          ]
        }
      ]
    },
    {
      "cell_type": "markdown",
      "source": [
        "#### Download dataset and unzip zip file."
      ],
      "metadata": {
        "id": "Q22ZX1_VhKiK"
      }
    },
    {
      "cell_type": "code",
      "execution_count": null,
      "metadata": {
        "id": "5DG6GOxEHD9l"
      },
      "outputs": [],
      "source": [
        "!gdown 1SUiRrG6zQVtyrVSVh9hOBq5_fX-oV2Lh -O hw3_data.zip # 11rP6KmR5Qwjhx0rfag0b5TZGBTRuPtQR\n",
        "!unzip /content/hw3_data.zip"
      ]
    },
    {
      "cell_type": "markdown",
      "source": [
        "#### Tokenizer ('<|endoftext|>', 50256) -> 250dim"
      ],
      "metadata": {
        "id": "sIMyluP4OcRk"
      }
    },
    {
      "cell_type": "code",
      "source": [
        "class BPETokenizer:\n",
        "\n",
        "    def __init__(self, encoder_file, vocab_file):\n",
        "        with open(encoder_file, 'r', encoding='utf-8') as f:\n",
        "            self.encoder = json.load(f)\n",
        "        self.decoder = {v:k for k,v in self.encoder.items()}\n",
        "        with open(vocab_file, 'r', encoding='utf-8') as f:\n",
        "            vocab = f.read().split('\\n')[1:-1]\n",
        "        self.bpe_ranks = {tuple(line.split()): i for i, line in enumerate(vocab)}\n",
        "        assert len(self.encoder) == 50257 and len(self.bpe_ranks) == 49999 # len(self.bpe_ranks) == 50000\n",
        "        bs = list(range(33, 127)) + list(range(161, 256))\n",
        "        xs = list(range(0, 33)) + list(range(127, 161))\n",
        "        cs = bs[:] + [2**8 + i for i in range(len(xs))]\n",
        "        self.byte_encoder = dict(zip(bs + xs, [chr(n) for n in cs]))\n",
        "        self.byte_decoder = {v:k for k, v in self.byte_encoder.items()}\n",
        "\n",
        "    def encode(self, text, allowed_special=None):\n",
        "        tokens = re.findall(r\"\"\"<\\|endoftext\\|>|'s|'t|'re|'ve|'m|'ll|'d| ?\"\"\" +\n",
        "                            r\"\"\"\\w+| ?\\d+| ?[^\\s\\w\\d]+|\\s+(?!\\S)|\\s+\"\"\", text, re.UNICODE)\n",
        "        def translate(token):\n",
        "            if token == '<|endoftext|>':\n",
        "                assert allowed_special and token in allowed_special\n",
        "                return [token]\n",
        "            word = tuple(''.join(self.byte_encoder[byte] for byte in token.encode('utf-8')))\n",
        "            while len(word) != 1:\n",
        "                pairs = set((word[i], word[i+1]) for i in range(len(word)-1))\n",
        "                bigram = min(pairs, key = lambda pair: self.bpe_ranks.get(pair, float('inf')))\n",
        "                if bigram not in self.bpe_ranks:\n",
        "                    break\n",
        "                a, b = bigram\n",
        "                new_word = []\n",
        "                i = 0\n",
        "                while i < len(word):\n",
        "                    j = word.index(a, i) if a in word[i:] else len(word)\n",
        "                    new_word.extend(word[i:j])\n",
        "                    i = j\n",
        "                    if i < len(word):\n",
        "                        j = 2 if i < len(word)-1 and word[i] == a and word[i+1] == b else 1\n",
        "                        new_word.append(a+b if j == 2 else word[i])\n",
        "                        i += j\n",
        "                word = tuple(new_word)\n",
        "            return word\n",
        "        return [self.encoder[_] for token in tokens for _ in translate(token)]\n",
        "\n",
        "    def decode(self, tokens):\n",
        "        tokens = [self.decoder[token] for token in tokens]\n",
        "        buffer = bytearray([self.byte_decoder[c] for c in ''.join(tokens)])\n",
        "        return buffer.decode('utf-8', errors='replace')"
      ],
      "metadata": {
        "id": "gjc6poP1OdBM"
      },
      "execution_count": 6,
      "outputs": []
    },
    {
      "cell_type": "code",
      "source": [
        "encoding = BPETokenizer('/content/encoder.json', '/content/vocab.bpe')\n",
        "prompt = 'a kitchen with a sink and many cooking machines and a pot of food'\n",
        "\n",
        "text_embedding_len = 250\n",
        "\n",
        "context = encoding.encode(prompt)\n",
        "context = [50256] + context + [50256]*(text_embedding_len - len(context) - 1)\n",
        "# context\n",
        "encoding.decode(context)"
      ],
      "metadata": {
        "id": "6aeCuLyJOmhP",
        "outputId": "ec70a2d9-e982-41b8-dcf7-f0dd5e6fb655",
        "colab": {
          "base_uri": "https://localhost:8080/",
          "height": 171
        }
      },
      "execution_count": 7,
      "outputs": [
        {
          "output_type": "execute_result",
          "data": {
            "text/plain": [
              "'<|endoftext|>a kitchen with a sink and many cooking machines and a pot of food<|endoftext|><|endoftext|><|endoftext|><|endoftext|><|endoftext|><|endoftext|><|endoftext|><|endoftext|><|endoftext|><|endoftext|><|endoftext|><|endoftext|><|endoftext|><|endoftext|><|endoftext|><|endoftext|><|endoftext|><|endoftext|><|endoftext|><|endoftext|><|endoftext|><|endoftext|><|endoftext|><|endoftext|><|endoftext|><|endoftext|><|endoftext|><|endoftext|><|endoftext|><|endoftext|><|endoftext|><|endoftext|><|endoftext|><|endoftext|><|endoftext|><|endoftext|><|endoftext|><|endoftext|><|endoftext|><|endoftext|><|endoftext|><|endoftext|><|endoftext|><|endoftext|><|endoftext|><|endoftext|><|endoftext|><|endoftext|><|endoftext|><|endoftext|><|endoftext|><|endoftext|><|endoftext|><|endoftext|><|endoftext|><|endoftext|><|endoftext|><|endoftext|><|endoftext|><|endoftext|><|endoftext|><|endoftext|><|endoftext|><|endoftext|><|endoftext|><|endoftext|><|endoftext|><|endoftext|><|endoftext|><|endoftext|><|endoftext|><|endoftext|><|endoftext|><|endoftext|><|endoftext|><|endoftext|><|endoftext|><|endoftext|><|endoftext|><|endoftext|><|endoftext|><|endoftext|><|endoftext|><|endoftext|><|endoftext|><|endoftext|><|endoftext|><|endoftext|><|endoftext|><|endoftext|><|endoftext|><|endoftext|><|endoftext|><|endoftext|><|endoftext|><|endoftext|><|endoftext|><|endoftext|><|endoftext|><|endoftext|><|endoftext|><|endoftext|><|endoftext|><|endoftext|><|endoftext|><|endoftext|><|endoftext|><|endoftext|><|endoftext|><|endoftext|><|endoftext|><|endoftext|><|endoftext|><|endoftext|><|endoftext|><|endoftext|><|endoftext|><|endoftext|><|endoftext|><|endoftext|><|endoftext|><|endoftext|><|endoftext|><|endoftext|><|endoftext|><|endoftext|><|endoftext|><|endoftext|><|endoftext|><|endoftext|><|endoftext|><|endoftext|><|endoftext|><|endoftext|><|endoftext|><|endoftext|><|endoftext|><|endoftext|><|endoftext|><|endoftext|><|endoftext|><|endoftext|><|endoftext|><|endoftext|><|endoftext|><|endoftext|><|endoftext|><|endoftext|><|endoftext|><|endoftext|><|endoftext|><|endoftext|><|endoftext|><|endoftext|><|endoftext|><|endoftext|><|endoftext|><|endoftext|><|endoftext|><|endoftext|><|endoftext|><|endoftext|><|endoftext|><|endoftext|><|endoftext|><|endoftext|><|endoftext|><|endoftext|><|endoftext|><|endoftext|><|endoftext|><|endoftext|><|endoftext|><|endoftext|><|endoftext|><|endoftext|><|endoftext|><|endoftext|><|endoftext|><|endoftext|><|endoftext|><|endoftext|><|endoftext|><|endoftext|><|endoftext|><|endoftext|><|endoftext|><|endoftext|><|endoftext|><|endoftext|><|endoftext|><|endoftext|><|endoftext|><|endoftext|><|endoftext|><|endoftext|><|endoftext|><|endoftext|><|endoftext|><|endoftext|><|endoftext|><|endoftext|><|endoftext|><|endoftext|><|endoftext|><|endoftext|><|endoftext|><|endoftext|><|endoftext|><|endoftext|><|endoftext|><|endoftext|><|endoftext|><|endoftext|><|endoftext|><|endoftext|><|endoftext|><|endoftext|><|endoftext|><|endoftext|><|endoftext|><|endoftext|><|endoftext|><|endoftext|><|endoftext|><|endoftext|><|endoftext|><|endoftext|><|endoftext|><|endoftext|><|endoftext|><|endoftext|><|endoftext|><|endoftext|><|endoftext|>'"
            ],
            "application/vnd.google.colaboratory.intrinsic+json": {
              "type": "string"
            }
          },
          "metadata": {},
          "execution_count": 7
        }
      ]
    },
    {
      "cell_type": "markdown",
      "source": [
        "#### Define function"
      ],
      "metadata": {
        "id": "L0JYrzNqE0mC"
      }
    },
    {
      "cell_type": "code",
      "source": [
        "def json_load(json_path: str):\n",
        "    with open(json_path, 'r', encoding='utf-8') as file:\n",
        "        data = json.load(file)\n",
        "    return data"
      ],
      "metadata": {
        "id": "z5xRsOP3h96o"
      },
      "execution_count": 8,
      "outputs": []
    },
    {
      "cell_type": "code",
      "source": [
        "def caption_with_id(json_path: str) -> list:\n",
        "    with open(json_path, 'r', encoding='utf-8') as file:\n",
        "        json_data = json.load(file)\n",
        "    data = [{'caption': row['caption'], 'image_id': row['image_id']} for row in json_data['annotations']]\n",
        "    return data"
      ],
      "metadata": {
        "id": "vVR-onWwmbCI"
      },
      "execution_count": 9,
      "outputs": []
    },
    {
      "cell_type": "code",
      "source": [
        "def id2file_name(json_path: str) -> dict:\n",
        "    with open(json_path, 'r', encoding='utf-8') as file:\n",
        "        json_data = json.load(file)\n",
        "    data = {row['id']: row['file_name'] for row in json_data['images']}\n",
        "    return data"
      ],
      "metadata": {
        "id": "rWW6y2Q1o_t-"
      },
      "execution_count": 10,
      "outputs": []
    },
    {
      "cell_type": "code",
      "source": [
        "encoder_joson_path = '/content/encoder.json'\n",
        "vocab_bpe_path = '/content/vocab.bpe'\n",
        "def collate_fn(batch, tokenizer=BPETokenizer(encoder_joson_path, vocab_bpe_path)):\n",
        "    # Get the individual elements of the batch\n",
        "    images = [item['img'] for item in batch]\n",
        "    captions = [item['caption'] for item in batch]\n",
        "    filenames = [item['filename'] for item in batch]\n",
        "\n",
        "    # Tokenize captions\n",
        "    tokenized_captions = [tokenizer.encode(caption) for caption in captions]\n",
        "\n",
        "    # Pad the vector length into stop token to dimension 250\n",
        "    text_len = 250 # text_embedding_len\n",
        "    tokenized_captions_train = [\n",
        "        [50256] + caption + [50256] * (text_len - len(caption) - 1) for caption in tokenized_captions\n",
        "    ]\n",
        "    tokenized_captions_inf = [\n",
        "        caption + [50256] + [-100] * (text_len - len(caption) - 1) for caption in tokenized_captions\n",
        "    ]\n",
        "\n",
        "    # Convert tokenized captions to PyTorch tensors\n",
        "    tokenized_captions_train = [torch.tensor(caption) for caption in tokenized_captions_train]\n",
        "    tokenized_captions_inf = [torch.tensor(caption) for caption in tokenized_captions_inf]\n",
        "\n",
        "    # Create a new batch with tokenized captions\n",
        "    tokenized_batch = {\n",
        "        'img': torch.stack(images, dim=0),\n",
        "        'tokenized_captions_train': torch.stack(tokenized_captions_train, dim=0),\n",
        "        'filename': filenames,\n",
        "        'tokenized_captions_inf': torch.stack(tokenized_captions_inf, dim=0),\n",
        "    }\n",
        "\n",
        "    return tokenized_batch"
      ],
      "metadata": {
        "id": "ZhTVXCheOYm6"
      },
      "execution_count": 11,
      "outputs": []
    },
    {
      "cell_type": "markdown",
      "source": [
        "#### Build Dataset"
      ],
      "metadata": {
        "id": "7TWHXZgugWOg"
      }
    },
    {
      "cell_type": "code",
      "source": [
        "class ImgCaptionDataset(torch.utils.data.Dataset):\n",
        "    def __init__(self, img_dir, json_path, transform) -> None:\n",
        "        super(ImgCaptionDataset, self).__init__()\n",
        "        self.img_dir = img_dir\n",
        "        self.transform = transform\n",
        "\n",
        "        # Connect caption -> image_id -> file_name\n",
        "        self.caption_with_id = caption_with_id(json_path)\n",
        "        self.id2file_name = id2file_name(json_path)\n",
        "    def __len__(self) -> int:\n",
        "        return len(self.caption_with_id)\n",
        "\n",
        "    def __getitem__(self, idx):\n",
        "        caption_id = self.caption_with_id[idx]\n",
        "        file_name = self.id2file_name[caption_id['image_id']]\n",
        "        img = Image.open(os.path.join(self.img_dir, file_name)).convert('RGB')\n",
        "        img = self.transform(img)\n",
        "        return {'img': img, 'caption': caption_id['caption'], 'filename': os.path.splitext(file_name)[0]}"
      ],
      "metadata": {
        "id": "qJq6lmbBlbaM"
      },
      "execution_count": 12,
      "outputs": []
    },
    {
      "cell_type": "code",
      "source": [
        "# class ImgDataset(torch.utils.data.Dataset):\n",
        "#     def __init__(self, root: str, transform) -> None:\n",
        "#         self.transform = transform\n",
        "#         self.img_path = [i for i in Path(root).glob(\"*.jpg\")]\n",
        "\n",
        "#     def __len__(self) -> int:\n",
        "#         return len(self.img_path)\n",
        "\n",
        "#     def __getitem__(self, idx):\n",
        "#         img = Image.open(self.img_path[idx]).convert('RGB')\n",
        "#         img = self.transform(img)\n",
        "#         return img, os.path.splitext(self.img_path[idx].name)[0]"
      ],
      "metadata": {
        "id": "lYoLLeI3gZvS"
      },
      "execution_count": 13,
      "outputs": []
    },
    {
      "cell_type": "markdown",
      "source": [
        "#### Build Dataloader"
      ],
      "metadata": {
        "id": "vMk7sUiwHEPo"
      }
    },
    {
      "cell_type": "code",
      "source": [
        "train_ds = ImgCaptionDataset(\n",
        "    img_dir='/content/hw3_data/p2_data/images/train',\n",
        "    json_path='/content/hw3_data/p2_data/train.json',\n",
        "    transform=tr.Compose([\n",
        "        tr.Resize(224),\n",
        "        tr.CenterCrop(224),\n",
        "        tr.ToTensor(),\n",
        "        tr.Normalize([0.485, 0.456, 0.406], [0.229, 0.224, 0.225]),\n",
        "    ]),\n",
        ")\n",
        "val_ds = ImgCaptionDataset(\n",
        "    img_dir='/content/hw3_data/p2_data/images/val',\n",
        "    json_path='/content/hw3_data/p2_data/val.json',\n",
        "    transform=tr.Compose([\n",
        "        tr.Resize(224),\n",
        "        tr.CenterCrop(224),\n",
        "        tr.ToTensor(),\n",
        "        tr.Normalize([0.485, 0.456, 0.406], [0.229, 0.224, 0.225]),\n",
        "    ]),\n",
        ")\n",
        "\n",
        "train_loader = DataLoader(\n",
        "    train_ds,\n",
        "    batch_size=16,\n",
        "    collate_fn=collate_fn,\n",
        "    shuffle=True,\n",
        "    num_workers=4,\n",
        ")\n",
        "val_loader = DataLoader(\n",
        "    val_ds,\n",
        "    batch_size=1,\n",
        "    collate_fn=collate_fn,\n",
        "    shuffle=True,\n",
        "    num_workers=4,\n",
        ")"
      ],
      "metadata": {
        "id": "MMGD07vrHGiB",
        "colab": {
          "base_uri": "https://localhost:8080/"
        },
        "outputId": "72e638ec-c832-4230-be06-a8ce289801a2"
      },
      "execution_count": 13,
      "outputs": [
        {
          "output_type": "stream",
          "name": "stderr",
          "text": [
            "/usr/local/lib/python3.10/dist-packages/torch/utils/data/dataloader.py:557: UserWarning: This DataLoader will create 4 worker processes in total. Our suggested max number of worker in current system is 2, which is smaller than what this DataLoader is going to create. Please be aware that excessive worker creation might get DataLoader running slow or even freeze, lower the worker number to avoid potential slowness/freeze if necessary.\n",
            "  warnings.warn(_create_warning_msg(\n"
          ]
        }
      ]
    },
    {
      "cell_type": "markdown",
      "source": [
        "#### Config"
      ],
      "metadata": {
        "id": "Fx9an6CwEx-Z"
      }
    },
    {
      "cell_type": "code",
      "source": [
        "class Config:\n",
        "\n",
        "    def __init__(self, checkpoint=None):\n",
        "        self.n_layer = 12\n",
        "        self.n_head = 12\n",
        "        self.n_embd = 768\n",
        "        self.vocab_size = 50257\n",
        "        self.block_size = 1024\n",
        "        self.checkpoint = checkpoint"
      ],
      "metadata": {
        "id": "x39qAcvyEzgi"
      },
      "execution_count": 14,
      "outputs": []
    },
    {
      "cell_type": "code",
      "source": [
        "cfg = Config(checkpoint='/content/hw3_data/p2_data/decoder_model.bin')"
      ],
      "metadata": {
        "id": "lLwivdnDE5eq"
      },
      "execution_count": 15,
      "outputs": []
    },
    {
      "cell_type": "markdown",
      "source": [
        "#### timm's ViT encoder"
      ],
      "metadata": {
        "id": "HK4W-qWpE1eg"
      }
    },
    {
      "cell_type": "code",
      "source": [
        "# encoder = timm.create_model('vit_large_patch16_224_in21k', pretrained=True) # vit_base_patch16_224_in21k"
      ],
      "metadata": {
        "id": "mw9GuLaaE24G"
      },
      "execution_count": 40,
      "outputs": []
    },
    {
      "cell_type": "code",
      "source": [
        "# for batch in train_loader:\n",
        "#     img = batch['img']\n",
        "#     break"
      ],
      "metadata": {
        "id": "tYBaNf1TE_s2"
      },
      "execution_count": 41,
      "outputs": []
    },
    {
      "cell_type": "code",
      "source": [
        "# with torch.no_grad():\n",
        "#     encoder_out = encoder.forward_features(img)"
      ],
      "metadata": {
        "id": "WP6PDoTWFBWs"
      },
      "execution_count": 42,
      "outputs": []
    },
    {
      "cell_type": "code",
      "source": [
        "# encoder_out.size()"
      ],
      "metadata": {
        "id": "AKn08vpIJB-_"
      },
      "execution_count": 43,
      "outputs": []
    },
    {
      "cell_type": "markdown",
      "source": [
        "#### decoder"
      ],
      "metadata": {
        "id": "w1QQ3sdc8GRo"
      }
    },
    {
      "cell_type": "code",
      "source": [
        "class Attention(nn.Module):\n",
        "\n",
        "    def __init__(self, cfg):\n",
        "        super().__init__()\n",
        "        self.c_attn = nn.Linear(cfg.n_embd, 3 * cfg.n_embd)\n",
        "        self.c_proj = nn.Linear(cfg.n_embd, cfg.n_embd)\n",
        "        self.n_head = cfg.n_head\n",
        "        self.n_embd = cfg.n_embd\n",
        "        size = cfg.block_size\n",
        "        self.register_buffer('bias', torch.tril(torch.ones(size, size)).view(1, 1, size, size))\n",
        "\n",
        "    def forward(self, x):\n",
        "        B, T, C = x.size() # batch, context, embedding\n",
        "        q, k, v  = self.c_attn(x).split(self.n_embd, dim=2)\n",
        "        k = k.view(B, T, self.n_head, C // self.n_head).transpose(1, 2)\n",
        "        q = q.view(B, T, self.n_head, C // self.n_head).transpose(1, 2)\n",
        "        v = v.view(B, T, self.n_head, C // self.n_head).transpose(1, 2)\n",
        "        att = (q @ k.transpose(-2, -1)) * (1.0 / math.sqrt(k.size(-1)))\n",
        "        att = att.masked_fill(self.bias[:,:,:T,:T] == 0, float('-inf'))\n",
        "        att = F.softmax(att, dim=-1)\n",
        "        return self.c_proj((att @ v).transpose(1, 2).contiguous().view(B, T, C))\n",
        "\n",
        "class CrossAttention(nn.Module):\n",
        "\n",
        "    def __init__(self, cfg):\n",
        "        super().__init__()\n",
        "        self.multihead_attn = nn.MultiheadAttention(cfg.n_embd, cfg.n_head, batch_first=True)\n",
        "\n",
        "    def forward(self, query, encoder_out):\n",
        "        \"\"\"\n",
        "        Q is the source from the decoder, K, V are the sources from the encoder.\n",
        "        Q: (N, L, Eq), where L is the target embedding dim, Eq is embed_dim and batch_first=True.\n",
        "        {K, V}: (N, L, E{k,v}), where L is the source embedding dim, E{k,v} is {k,v}_dim and batch_first=True.\n",
        "        \"\"\"\n",
        "        attn_output, attn_output_weights = self.multihead_attn(query, encoder_out, encoder_out)\n",
        "        return attn_output, attn_output_weights\n",
        "\n",
        "class Block(nn.Module):\n",
        "\n",
        "    def __init__(self, cfg):\n",
        "        super().__init__()\n",
        "        self.ln_1 = nn.LayerNorm(cfg.n_embd)\n",
        "        self.ln_2 = nn.LayerNorm(cfg.n_embd) # add\n",
        "        self.ln_3 = nn.LayerNorm(cfg.n_embd)\n",
        "        self.attn = Attention(cfg)\n",
        "        self.crs_attn = CrossAttention(cfg) # add\n",
        "        self.mlp = nn.Sequential(collections.OrderedDict([\n",
        "            ('c_fc', nn.Linear(cfg.n_embd, 4 * cfg.n_embd)),\n",
        "            ('act', nn.GELU(approximate='tanh')),\n",
        "            ('c_proj', nn.Linear(4 * cfg.n_embd, cfg.n_embd))\n",
        "        ]))\n",
        "\n",
        "    def forward(self, x, encoder_out) -> Tensor: # add\n",
        "        x = x + self.attn(self.ln_1(x))\n",
        "        cross_x, weights = self.crs_attn(self.ln_2(x), self.ln_2(encoder_out)) # add\n",
        "        x = cross_x + x\n",
        "        x = x + self.mlp(self.ln_3(x))\n",
        "        return x, weights\n",
        "\n",
        "class Decoder(nn.Module):\n",
        "\n",
        "    def __init__(self, cfg):\n",
        "        super().__init__()\n",
        "        self.cfg = cfg\n",
        "        self.block_size = cfg.block_size\n",
        "        self.transformer = nn.ModuleDict(dict(\n",
        "            wte = nn.Embedding(cfg.vocab_size, cfg.n_embd), # 文字投影\n",
        "            wpe = nn.Embedding(cfg.block_size, cfg.n_embd), # position\n",
        "            h = nn.Sequential(*[Block(cfg) for _ in range(cfg.n_layer)]), # Nx\n",
        "            ln_f = nn.LayerNorm(cfg.n_embd)\n",
        "        ))\n",
        "        self.lm_head = nn.Linear(cfg.n_embd, cfg.vocab_size, bias=False)\n",
        "        self.transformer.wte.weight = self.lm_head.weight\n",
        "        # timm's ViT encoder (vit_base_patch16_224_in21k, , vit_huge_patch14_224_in21k)\n",
        "        self.encoder = timm.create_model('vit_large_patch16_224_in21k', pretrained=True)\n",
        "        self.linear = nn.Linear(1024, cfg.n_embd) # [16, 197, 1024]\n",
        "        # load checkpoint\n",
        "        if self.cfg.checkpoint is not None:\n",
        "            state_dict = torch.load(self.cfg.checkpoint)\n",
        "            transposed = [ '.c_attn.weight', '.c_fc.weight', '.c_proj.weight' ]\n",
        "            for key, value in state_dict.items():\n",
        "                if any(key.endswith(w) for w in transposed):\n",
        "                    state_dict[key] = value.t()\n",
        "            self.transformer.load_state_dict(state_dict, strict=False)\n",
        "\n",
        "    def forward(self, x: Tensor, img: Tensor) -> Tensor: # add\n",
        "        x = torch.narrow(x, 1, 0, min(x.size(1), self.block_size))\n",
        "        pos = torch.arange(x.size()[1], dtype=torch.long, device=x.device).unsqueeze(0)\n",
        "        x = self.transformer.wte(x) + self.transformer.wpe(pos)\n",
        "        with torch.no_grad():\n",
        "            encoder_out = self.encoder.forward_features(img)\n",
        "        for block in self.transformer.h:\n",
        "            x, weights = block(x, self.linear(encoder_out))\n",
        "        x = self.lm_head(self.transformer.ln_f(x)) # add\n",
        "        return x, weights"
      ],
      "metadata": {
        "id": "TYyI157L8JB7"
      },
      "execution_count": 16,
      "outputs": []
    },
    {
      "cell_type": "markdown",
      "source": [
        "#### Decoding test"
      ],
      "metadata": {
        "id": "Nymq6RjQw0Ik"
      }
    },
    {
      "cell_type": "code",
      "source": [
        "# decoder = Decoder(cfg)"
      ],
      "metadata": {
        "id": "W7ItaTQyFM3y"
      },
      "execution_count": 64,
      "outputs": []
    },
    {
      "cell_type": "code",
      "source": [
        "# for batch in train_loader:\n",
        "#     img = batch['img']\n",
        "#     tokenized_captions_train = batch['tokenized_captions_train']\n",
        "#     tokenized_captions_inf = batch['tokenized_captions_inf']\n",
        "#     break"
      ],
      "metadata": {
        "id": "8iZRZyyLVqTa"
      },
      "execution_count": 65,
      "outputs": []
    },
    {
      "cell_type": "code",
      "source": [
        "# pred = decoder(tokenized_captions_train, img)"
      ],
      "metadata": {
        "id": "C9WhUVX3XUNA"
      },
      "execution_count": 66,
      "outputs": []
    },
    {
      "cell_type": "code",
      "source": [
        "# pred.size(), tokenized_captions_train.size(), img.size(), tokenized_captions_inf.size()"
      ],
      "metadata": {
        "id": "-VDTQFh1jIkn"
      },
      "execution_count": 67,
      "outputs": []
    },
    {
      "cell_type": "code",
      "source": [
        "# encoding.decode(pred[0].argmax(dim=1).tolist())"
      ],
      "metadata": {
        "id": "9rVBzjCBAMC6"
      },
      "execution_count": 68,
      "outputs": []
    },
    {
      "cell_type": "code",
      "source": [
        "# loss_fn = nn.CrossEntropyLoss() # ignore_index=50256\n",
        "\n",
        "# pred = pred.reshape(-1, 50257)\n",
        "# tokenized_captions_inf = tokenized_captions_inf.reshape(-1)\n",
        "# loss_fn(pred, tokenized_captions_inf)"
      ],
      "metadata": {
        "id": "mZVS0SXWk7Qh"
      },
      "execution_count": 69,
      "outputs": []
    },
    {
      "cell_type": "markdown",
      "source": [
        "#### Training"
      ],
      "metadata": {
        "id": "rFEjEGPIj285"
      }
    },
    {
      "cell_type": "code",
      "source": [
        "# def training(dataloader, model, loss_fn, optimizer):\n",
        "\n",
        "#     size = len(dataloader.dataset) # number of samples\n",
        "#     num_batches = len(dataloader) # batches per epoch\n",
        "#     epoch_loss = 0\n",
        "\n",
        "#     model.train() # to training mode\n",
        "#     for batch_i, data in enumerate(tqdm(dataloader)):\n",
        "#         data['img'] = data['img'].to(device, non_blocking=True)\n",
        "#         data['tokenized_captions_train'] = data['tokenized_captions_train'].to(device, non_blocking=True)\n",
        "#         data['tokenized_captions_inf'] = data['tokenized_captions_inf'].to(device, non_blocking=True)\n",
        "\n",
        "#         # zero the parameter gradients\n",
        "#         optimizer.zero_grad()\n",
        "\n",
        "#         # Compute prediction loss\n",
        "#         pred = model(data['tokenized_captions_train'], data['img'])\n",
        "#         # reshape to (B, C)\n",
        "#         data['tokenized_captions_inf'] = data['tokenized_captions_inf'].reshape(-1)\n",
        "#         pred = pred.reshape(-1, 50257)\n",
        "#         loss = loss_fn(pred, data['tokenized_captions_inf']) # tokenized captions inf\n",
        "\n",
        "#         # Optimization by gradients\n",
        "#         loss.backward() # backpropagation to compute gradients\n",
        "#         optimizer.step() # update model params\n",
        "\n",
        "#         # write to logs\n",
        "#         epoch_loss += loss.item() # tensor -> python value\n",
        "#     return epoch_loss/num_batches"
      ],
      "metadata": {
        "id": "xH8HOqOGqM47"
      },
      "execution_count": 70,
      "outputs": []
    },
    {
      "cell_type": "code",
      "source": [
        "# def testing(dataloader, model, loss_fn):\n",
        "#     size = len(dataloader.dataset) # number of samples\n",
        "#     num_batches = len(dataloader) # batches per epoch\n",
        "\n",
        "#     model.eval() # model to test mode.\n",
        "#     epoch_loss, epoch_correct = 0, 0\n",
        "\n",
        "#     # No gradient for test data\n",
        "#     with torch.no_grad():\n",
        "#         for batch_i, data in enumerate(tqdm(dataloader)):\n",
        "#             data['img'] = data['img'].to(device, non_blocking=True)\n",
        "#             data['tokenized_captions'] = data['tokenized_captions'].to(device, non_blocking=True)\n",
        "\n",
        "#             # Compute prediction loss\n",
        "#             pred = model(data['tokenized_captions'], data['img'])\n",
        "#             # loss = loss_fn(pred, x)\n",
        "#             epoch_batch_size = pred.size()[0]\n",
        "#             loss = [loss_fn(pred[i], data['tokenized_captions'][i]) for i in range(epoch_batch_size)]\n",
        "#             loss = sum(loss)\n",
        "\n",
        "#             # write to logs\n",
        "#             epoch_loss += loss.item()\n",
        "#             # (B, 250, Class)\n",
        "#             pred_correct = [(pred[i].argmax(dim=1) == data['tokenized_captions'][i]).sum().item() for i in range(epoch_batch_size)]\n",
        "#             epoch_correct += sum(pred_correct)\n",
        "\n",
        "#     return epoch_loss/num_batches, epoch_correct/size"
      ],
      "metadata": {
        "id": "QifGUCkCsxhE"
      },
      "execution_count": 71,
      "outputs": []
    },
    {
      "cell_type": "markdown",
      "source": [
        "##### Freeze parameters"
      ],
      "metadata": {
        "id": "rK5s8nX8uSAR"
      }
    },
    {
      "cell_type": "code",
      "source": [
        "# model = Decoder(cfg).to(device)\n",
        "\n",
        "# # Freeze parameters\n",
        "# for name, param in model.named_parameters():\n",
        "#     param.requires_grad=False\n",
        "#     # print(f\"{name}: {param.requires_grad}\")\n",
        "# # Unfreeze some parameters\n",
        "# for i in range(12):\n",
        "#     model.transformer.h[i].ln_2.weight.requires_grad = True\n",
        "#     model.transformer.h[i].ln_2.bias.requires_grad = True\n",
        "#     model.transformer.h[i].crs_attn.multihead_attn.in_proj_weight.requires_grad = True\n",
        "#     model.transformer.h[i].crs_attn.multihead_attn.in_proj_bias.requires_grad = True\n",
        "#     model.transformer.h[i].crs_attn.multihead_attn.out_proj.weight.requires_grad = True\n",
        "#     model.transformer.h[i].crs_attn.multihead_attn.out_proj.bias.requires_grad = True\n",
        "# model.linear.weight.requires_grad = True\n",
        "# model.linear.bias.requires_grad = True\n",
        "\n",
        "# trainable_weights = [name for name, param in model.named_parameters() if param.requires_grad == True]\n",
        "# # list for True\n",
        "# # for name, param in model.named_parameters():\n",
        "# #     print(f\"{name}: {param.requires_grad}\")"
      ],
      "metadata": {
        "id": "vUlm2roufCIn"
      },
      "execution_count": 72,
      "outputs": []
    },
    {
      "cell_type": "code",
      "source": [
        "# EPOCHS = 7\n",
        "# loss_fn = nn.CrossEntropyLoss() # ignore_index=50256\n",
        "# optimizer = torch.optim.Adam(model.parameters(), lr=3e-4)\n",
        "\n",
        "# # logs\n",
        "# logs = {\n",
        "#     'train_loss': []\n",
        "# }\n",
        "\n",
        "# for epoch in tqdm(range(EPOCHS)):\n",
        "#     train_loss = training(train_loader, model, loss_fn, optimizer)\n",
        "\n",
        "#     print(f'EPOCH: {epoch:04d} \\train_loss: {train_loss:.4f}')\n",
        "\n",
        "#     logs['train_loss'].append(train_loss)\n",
        "\n",
        "#     # Save model\n",
        "#     save_weights = {k: v for k, v in model.state_dict().items() if k in trainable_weights}\n",
        "#     torch.save(save_weights, f'/content/drive/MyDrive/NTU_DLCV/Hw3/p2_ckpt/trainable_weights_epoch{epoch}_{train_loss:.4f}.pth')\n",
        "#     print('---------- Model Save ----------')"
      ],
      "metadata": {
        "id": "DEguocg8j4qa"
      },
      "execution_count": 73,
      "outputs": []
    },
    {
      "cell_type": "markdown",
      "source": [
        "#### Check the model params less than 35M"
      ],
      "metadata": {
        "id": "KvaNuVScnJLz"
      }
    },
    {
      "cell_type": "code",
      "source": [
        "# !gdown 1-obsrlcsth-FcJgr1SQ1QNJAq_yxBh9Z -O trainable_weights"
      ],
      "metadata": {
        "id": "5KB_Sr0znbHb",
        "outputId": "e43461bb-a895-4136-9a3d-d40af53830b9",
        "colab": {
          "base_uri": "https://localhost:8080/"
        }
      },
      "execution_count": 74,
      "outputs": [
        {
          "output_type": "stream",
          "name": "stdout",
          "text": [
            "Downloading...\n",
            "From: https://drive.google.com/uc?id=1-obsrlcsth-FcJgr1SQ1QNJAq_yxBh9Z\n",
            "To: /content/trainable_weights\n",
            "100% 117M/117M [00:00<00:00, 283MB/s]\n"
          ]
        }
      ]
    },
    {
      "cell_type": "code",
      "source": [
        "# model = Decoder(cfg)\n",
        "# # Freeze parameters\n",
        "# for name, param in model.named_parameters():\n",
        "#     param.requires_grad=False\n",
        "#     # print(f\"{name}: {param.requires_grad}\")\n",
        "# # Unfreeze some parameters\n",
        "# for i in range(12):\n",
        "#     model.transformer.h[i].ln_2.weight.requires_grad = True\n",
        "#     model.transformer.h[i].ln_2.bias.requires_grad = True\n",
        "#     model.transformer.h[i].crs_attn.multihead_attn.in_proj_weight.requires_grad = True\n",
        "#     model.transformer.h[i].crs_attn.multihead_attn.in_proj_bias.requires_grad = True\n",
        "#     model.transformer.h[i].crs_attn.multihead_attn.out_proj.weight.requires_grad = True\n",
        "#     model.transformer.h[i].crs_attn.multihead_attn.out_proj.bias.requires_grad = True\n",
        "# model.linear.weight.requires_grad = True\n",
        "# model.linear.bias.requires_grad = True"
      ],
      "metadata": {
        "id": "yews3unVnUje"
      },
      "execution_count": 75,
      "outputs": []
    },
    {
      "cell_type": "code",
      "source": [
        "# model.load_state_dict(torch.load('/content/trainable_weights', map_location=device), strict=False)\n",
        "# print('Total params: ', sum(params.numel() for params in model.parameters() if params.requires_grad))"
      ],
      "metadata": {
        "id": "rXypa7_EnXQM",
        "outputId": "0cef27f0-b084-4e58-8214-ea0013c66a30",
        "colab": {
          "base_uri": "https://localhost:8080/"
        }
      },
      "execution_count": 76,
      "outputs": [
        {
          "output_type": "stream",
          "name": "stdout",
          "text": [
            "Total params:  29154048\n"
          ]
        }
      ]
    },
    {
      "cell_type": "markdown",
      "source": [
        "#### inference"
      ],
      "metadata": {
        "id": "K4qEtiUZcjqO"
      }
    },
    {
      "cell_type": "markdown",
      "source": [
        "    1-obsrlcsth-FcJgr1SQ1QNJAq_yxBh9Z, # epoch6\n",
        "    1-nBgYCOFMbY5Wo55oPuVkfEN6z-2VIlu, # epoch5\n",
        "    1-ibRnuyRXHyp-dAWoGJ36i3QZRhVrFh7, # epoch4\n",
        "    1-TfQ8FcyMsZ_o_7YxQ1PKnbpC4n8wYie, # epoch3\n",
        "    1-R828SOp9x1HGgsdhqd4PC7PeyjZrRFN, # epoch2\n",
        "    1-QfCpRUdAHmp4lT6qwXjLIzp1h9Kf0PJ, # epoch1"
      ],
      "metadata": {
        "id": "gOPejydwEj9I"
      }
    },
    {
      "cell_type": "code",
      "source": [
        "!gdown 1-obsrlcsth-FcJgr1SQ1QNJAq_yxBh9Z -O trainable_weights6 # epoch6\n",
        "!gdown 1-nBgYCOFMbY5Wo55oPuVkfEN6z-2VIlu -O trainable_weights5 # epoch5\n",
        "!gdown 1-ibRnuyRXHyp-dAWoGJ36i3QZRhVrFh7 -O trainable_weights4 # epoch4\n",
        "!gdown 1-TfQ8FcyMsZ_o_7YxQ1PKnbpC4n8wYie -O trainable_weights3 # epoch3\n",
        "!gdown 1-R828SOp9x1HGgsdhqd4PC7PeyjZrRFN -O trainable_weights2 # epoch2\n",
        "!gdown 1-QfCpRUdAHmp4lT6qwXjLIzp1h9Kf0PJ -O trainable_weights1 # epoch1"
      ],
      "metadata": {
        "id": "DqSfWMRZcvbr"
      },
      "execution_count": null,
      "outputs": []
    },
    {
      "cell_type": "code",
      "source": [
        "for i in range(6, 0, -1):\n",
        "    model = Decoder(cfg).to(device)\n",
        "    model.load_state_dict(torch.load(f'/content/trainable_weights{i}', map_location=device), strict=False)\n",
        "\n",
        "    evaluation_dict = {}\n",
        "    for data in tqdm(val_loader):\n",
        "        img = data['img'].to(device)\n",
        "        file_name = data['filename']\n",
        "        start_token = torch.tensor([[50256]]).to(device)\n",
        "\n",
        "        for i in range(250):\n",
        "            with torch.no_grad():\n",
        "                pred, weights = model(start_token, img)\n",
        "                # print(weights.size())\n",
        "\n",
        "            out_token = pred.argmax(dim=2)[0][-1]\n",
        "            start_token = torch.cat((start_token, out_token.unsqueeze(0).unsqueeze(0)), dim=1)\n",
        "            end_token = torch.sum(start_token[0] == 50256).item()\n",
        "            if end_token == 2:\n",
        "                pred_token = start_token[start_token != 50256]\n",
        "                pred_token = pred_token.tolist()\n",
        "                pred_caption = encoding.decode(pred_token)\n",
        "                break\n",
        "\n",
        "        evaluation_dict[file_name[0]] = pred_caption\n",
        "        print('\\n', 'file name: ', file_name[0], '\\caption: ', evaluation_dict[file_name[0]])\n",
        "\n",
        "    json_string = json.dumps(evaluation_dict, indent=2)  # The indent parameter is optional and adds indentation for better readability\n",
        "    with open(f'/content/drive/MyDrive/NTU_DLCV/Hw3/p2_output/large_epoch{i}_output.json', 'w') as json_file:\n",
        "        json_file.write(json_string)\n",
        "    print(f'---------- Epoch{i} large params Saved ----------')\n",
        "    with open('output.json', 'w') as json_file:\n",
        "        json_file.write(json_string)"
      ],
      "metadata": {
        "colab": {
          "base_uri": "https://localhost:8080/",
          "height": 1000,
          "referenced_widgets": [
            "a97168df574c4027b7a7504d08a2b5f3",
            "d4e7b8efc9bb4eaca5daac94786c4e10",
            "f2524a18235344f58f13a6167967ef35",
            "f64b4b9e87f74ba38499f8aa32f4479d",
            "622477a78a1a4823b1ee2850de4a9bab",
            "098ef246adc940e39c0881239ad47d5b",
            "021bfc77b1a54031a542bf5640957053",
            "33758d66cc824d26b421edd82f4a8cc0",
            "952283d91d2849ef826524abf4cbbe14",
            "877cc4919ea04b7e86cbb3825da4cc1c",
            "8b1c0f3770af4bcdb9ed092a3e4061de"
          ]
        },
        "id": "GnNNQ6q4GO9e",
        "outputId": "56af982e-f92c-4718-fc1e-95e2ecc11592"
      },
      "execution_count": 18,
      "outputs": [
        {
          "output_type": "stream",
          "name": "stderr",
          "text": [
            "/usr/local/lib/python3.10/dist-packages/timm/models/_factory.py:117: UserWarning: Mapping deprecated model name vit_large_patch16_224_in21k to current vit_large_patch16_224.augreg_in21k.\n",
            "  model = create_fn(\n"
          ]
        },
        {
          "output_type": "display_data",
          "data": {
            "text/plain": [
              "model.safetensors:   0%|          | 0.00/1.30G [00:00<?, ?B/s]"
            ],
            "application/vnd.jupyter.widget-view+json": {
              "version_major": 2,
              "version_minor": 0,
              "model_id": "a97168df574c4027b7a7504d08a2b5f3"
            }
          },
          "metadata": {}
        },
        {
          "output_type": "stream",
          "name": "stderr",
          "text": [
            "\r  0%|          | 0/8946 [00:00<?, ?it/s]"
          ]
        },
        {
          "output_type": "stream",
          "name": "stdout",
          "text": [
            "torch.Size([1, 1, 197])\n",
            "torch.Size([1, 2, 197])\n",
            "torch.Size([1, 3, 197])\n",
            "torch.Size([1, 4, 197])\n",
            "torch.Size([1, 5, 197])\n",
            "torch.Size([1, 6, 197])\n",
            "torch.Size([1, 7, 197])\n",
            "torch.Size([1, 8, 197])\n"
          ]
        },
        {
          "output_type": "stream",
          "name": "stderr",
          "text": [
            "\r  0%|          | 1/8946 [00:08<20:40:35,  8.32s/it]"
          ]
        },
        {
          "output_type": "stream",
          "name": "stdout",
          "text": [
            "torch.Size([1, 9, 197])\n",
            "torch.Size([1, 10, 197])\n",
            "torch.Size([1, 11, 197])\n",
            "torch.Size([1, 12, 197])\n",
            "\n",
            " file name:  000000346160 \\caption:  a room with a bed, chair, and chair.\n",
            "torch.Size([1, 1, 197])\n",
            "torch.Size([1, 2, 197])\n",
            "torch.Size([1, 3, 197])\n",
            "torch.Size([1, 4, 197])\n",
            "torch.Size([1, 5, 197])\n",
            "torch.Size([1, 6, 197])\n",
            "torch.Size([1, 7, 197])\n",
            "torch.Size([1, 8, 197])\n",
            "torch.Size([1, 9, 197])\n",
            "torch.Size([1, 10, 197])\n",
            "torch.Size([1, 11, 197])\n",
            "torch.Size([1, 12, 197])\n",
            "torch.Size([1, 13, 197])\n"
          ]
        },
        {
          "output_type": "stream",
          "name": "stderr",
          "text": [
            "\r  0%|          | 2/8946 [00:09<9:34:58,  3.86s/it] "
          ]
        },
        {
          "output_type": "stream",
          "name": "stdout",
          "text": [
            "torch.Size([1, 14, 197])\n",
            "\n",
            " file name:  000000116633 \\caption:  a skateboarder is doing a trick on a skateboard.\n",
            "torch.Size([1, 1, 197])\n",
            "torch.Size([1, 2, 197])\n",
            "torch.Size([1, 3, 197])\n",
            "torch.Size([1, 4, 197])\n",
            "torch.Size([1, 5, 197])\n",
            "torch.Size([1, 6, 197])\n",
            "torch.Size([1, 7, 197])\n",
            "torch.Size([1, 8, 197])\n",
            "torch.Size([1, 9, 197])\n",
            "torch.Size([1, 10, 197])\n",
            "torch.Size([1, 11, 197])\n"
          ]
        },
        {
          "output_type": "stream",
          "name": "stderr",
          "text": [
            "\r  0%|          | 3/8946 [00:09<6:06:00,  2.46s/it]"
          ]
        },
        {
          "output_type": "stream",
          "name": "stdout",
          "text": [
            "torch.Size([1, 12, 197])\n",
            "torch.Size([1, 13, 197])\n",
            "torch.Size([1, 14, 197])\n",
            "torch.Size([1, 15, 197])\n",
            "\n",
            " file name:  4672056076 \\caption:   a young man in a black and white outfit is performing a stunt .\n",
            "torch.Size([1, 1, 197])\n",
            "torch.Size([1, 2, 197])\n",
            "torch.Size([1, 3, 197])\n",
            "torch.Size([1, 4, 197])\n",
            "torch.Size([1, 5, 197])\n",
            "torch.Size([1, 6, 197])\n",
            "torch.Size([1, 7, 197])\n",
            "torch.Size([1, 8, 197])\n",
            "torch.Size([1, 9, 197])\n",
            "torch.Size([1, 10, 197])\n",
            "torch.Size([1, 11, 197])\n",
            "torch.Size([1, 12, 197])\n",
            "torch.Size([1, 13, 197])\n"
          ]
        },
        {
          "output_type": "stream",
          "name": "stderr",
          "text": [
            "\r  0%|          | 4/8946 [00:10<4:33:59,  1.84s/it]"
          ]
        },
        {
          "output_type": "stream",
          "name": "stdout",
          "text": [
            "torch.Size([1, 14, 197])\n",
            "torch.Size([1, 15, 197])\n",
            "torch.Size([1, 16, 197])\n",
            "torch.Size([1, 17, 197])\n",
            "\n",
            " file name:  000000322769 \\caption:  a man is standing in a bathroom with a toilet top up in the bathroom.\n",
            "torch.Size([1, 1, 197])\n",
            "torch.Size([1, 2, 197])\n",
            "torch.Size([1, 3, 197])\n",
            "torch.Size([1, 4, 197])\n",
            "torch.Size([1, 5, 197])\n",
            "torch.Size([1, 6, 197])\n",
            "torch.Size([1, 7, 197])\n",
            "torch.Size([1, 8, 197])\n",
            "torch.Size([1, 9, 197])\n"
          ]
        },
        {
          "output_type": "stream",
          "name": "stderr",
          "text": [
            "\r  0%|          | 5/8946 [00:11<3:26:10,  1.38s/it]"
          ]
        },
        {
          "output_type": "stream",
          "name": "stdout",
          "text": [
            "torch.Size([1, 10, 197])\n",
            "torch.Size([1, 11, 197])\n",
            "\n",
            " file name:  000000422185 \\caption:   a horse is grazing on the ground with some grass\n",
            "torch.Size([1, 1, 197])\n",
            "torch.Size([1, 2, 197])\n",
            "torch.Size([1, 3, 197])\n",
            "torch.Size([1, 4, 197])\n",
            "torch.Size([1, 5, 197])\n",
            "torch.Size([1, 6, 197])\n",
            "torch.Size([1, 7, 197])\n"
          ]
        },
        {
          "output_type": "stream",
          "name": "stderr",
          "text": [
            "\r  0%|          | 6/8946 [00:11<2:40:05,  1.07s/it]"
          ]
        },
        {
          "output_type": "stream",
          "name": "stdout",
          "text": [
            "torch.Size([1, 8, 197])\n",
            "torch.Size([1, 9, 197])\n",
            "\n",
            " file name:  000000509364 \\caption:  a train is pulling into a station.\n",
            "torch.Size([1, 1, 197])\n",
            "torch.Size([1, 2, 197])\n",
            "torch.Size([1, 3, 197])\n",
            "torch.Size([1, 4, 197])\n",
            "torch.Size([1, 5, 197])\n",
            "torch.Size([1, 6, 197])\n",
            "torch.Size([1, 7, 197])\n",
            "torch.Size([1, 8, 197])\n",
            "torch.Size([1, 9, 197])\n",
            "torch.Size([1, 10, 197])\n"
          ]
        },
        {
          "output_type": "stream",
          "name": "stderr",
          "text": [
            "\r  0%|          | 7/8946 [00:12<2:15:47,  1.10it/s]"
          ]
        },
        {
          "output_type": "stream",
          "name": "stdout",
          "text": [
            "torch.Size([1, 11, 197])\n",
            "\n",
            " file name:  000000522464 \\caption:  a woman walking down a street holding an umbrella.\n",
            "torch.Size([1, 1, 197])\n",
            "torch.Size([1, 2, 197])\n",
            "torch.Size([1, 3, 197])\n",
            "torch.Size([1, 4, 197])\n",
            "torch.Size([1, 5, 197])\n",
            "torch.Size([1, 6, 197])\n",
            "torch.Size([1, 7, 197])\n",
            "torch.Size([1, 8, 197])\n",
            "torch.Size([1, 9, 197])\n",
            "torch.Size([1, 10, 197])\n",
            "torch.Size([1, 11, 197])\n"
          ]
        },
        {
          "output_type": "stream",
          "name": "stderr",
          "text": [
            "\r  0%|          | 8/8946 [00:12<2:02:32,  1.22it/s]"
          ]
        },
        {
          "output_type": "stream",
          "name": "stdout",
          "text": [
            "torch.Size([1, 12, 197])\n",
            "\n",
            " file name:  000000345160 \\caption:  a woman and a child are riding on a motorcycle.\n",
            "torch.Size([1, 1, 197])\n",
            "torch.Size([1, 2, 197])\n",
            "torch.Size([1, 3, 197])\n",
            "torch.Size([1, 4, 197])\n",
            "torch.Size([1, 5, 197])\n",
            "torch.Size([1, 6, 197])\n",
            "torch.Size([1, 7, 197])\n",
            "torch.Size([1, 8, 197])\n",
            "torch.Size([1, 9, 197])\n",
            "torch.Size([1, 10, 197])\n",
            "torch.Size([1, 11, 197])\n"
          ]
        },
        {
          "output_type": "stream",
          "name": "stderr",
          "text": [
            "\r  0%|          | 9/8946 [00:13<1:53:40,  1.31it/s]"
          ]
        },
        {
          "output_type": "stream",
          "name": "stdout",
          "text": [
            "torch.Size([1, 12, 197])\n",
            "\n",
            " file name:  000000553852 \\caption:  a small boy is skateboarding on a skateboard.\n",
            "torch.Size([1, 1, 197])\n",
            "torch.Size([1, 2, 197])\n",
            "torch.Size([1, 3, 197])\n",
            "torch.Size([1, 4, 197])\n",
            "torch.Size([1, 5, 197])\n",
            "torch.Size([1, 6, 197])\n",
            "torch.Size([1, 7, 197])\n"
          ]
        },
        {
          "output_type": "stream",
          "name": "stderr",
          "text": [
            "\r  0%|          | 10/8946 [00:14<1:42:36,  1.45it/s]"
          ]
        },
        {
          "output_type": "stream",
          "name": "stdout",
          "text": [
            "torch.Size([1, 8, 197])\n",
            "torch.Size([1, 9, 197])\n",
            "torch.Size([1, 10, 197])\n",
            "\n",
            " file name:  000000287886 \\caption:  a bed is sitting in a small window.\n",
            "torch.Size([1, 1, 197])\n",
            "torch.Size([1, 2, 197])\n",
            "torch.Size([1, 3, 197])\n",
            "torch.Size([1, 4, 197])\n",
            "torch.Size([1, 5, 197])\n",
            "torch.Size([1, 6, 197])\n",
            "torch.Size([1, 7, 197])\n",
            "torch.Size([1, 8, 197])\n",
            "torch.Size([1, 9, 197])\n",
            "torch.Size([1, 10, 197])\n"
          ]
        },
        {
          "output_type": "stream",
          "name": "stderr",
          "text": [
            "\r  0%|          | 11/8946 [00:14<1:37:30,  1.53it/s]"
          ]
        },
        {
          "output_type": "stream",
          "name": "stdout",
          "text": [
            "torch.Size([1, 11, 197])\n",
            "\n",
            " file name:  000000098322 \\caption:  a group of people are skiing in the snow.\n",
            "torch.Size([1, 1, 197])\n",
            "torch.Size([1, 2, 197])\n",
            "torch.Size([1, 3, 197])\n",
            "torch.Size([1, 4, 197])\n",
            "torch.Size([1, 5, 197])\n",
            "torch.Size([1, 6, 197])\n",
            "torch.Size([1, 7, 197])\n",
            "torch.Size([1, 8, 197])\n",
            "torch.Size([1, 9, 197])\n",
            "torch.Size([1, 10, 197])\n",
            "torch.Size([1, 11, 197])\n",
            "torch.Size([1, 12, 197])\n",
            "torch.Size([1, 13, 197])\n",
            "torch.Size([1, 14, 197])\n",
            "torch.Size([1, 15, 197])\n",
            "torch.Size([1, 16, 197])\n",
            "torch.Size([1, 17, 197])\n",
            "torch.Size([1, 18, 197])\n",
            "torch.Size([1, 19, 197])\n"
          ]
        },
        {
          "output_type": "stream",
          "name": "stderr",
          "text": [
            "\r  0%|          | 12/8946 [00:15<1:58:08,  1.26it/s]"
          ]
        },
        {
          "output_type": "stream",
          "name": "stdout",
          "text": [
            "torch.Size([1, 20, 197])\n",
            "torch.Size([1, 21, 197])\n",
            "\n",
            " file name:  7030278443 \\caption:   a group of people are hugging a large white ball with a large crowd of people in the background .\n",
            "torch.Size([1, 1, 197])\n",
            "torch.Size([1, 2, 197])\n",
            "torch.Size([1, 3, 197])\n",
            "torch.Size([1, 4, 197])\n",
            "torch.Size([1, 5, 197])\n",
            "torch.Size([1, 6, 197])\n",
            "torch.Size([1, 7, 197])\n",
            "torch.Size([1, 8, 197])\n",
            "torch.Size([1, 9, 197])\n",
            "torch.Size([1, 10, 197])\n"
          ]
        },
        {
          "output_type": "stream",
          "name": "stderr",
          "text": [
            "\r  0%|          | 13/8946 [00:16<1:55:55,  1.28it/s]"
          ]
        },
        {
          "output_type": "stream",
          "name": "stdout",
          "text": [
            "torch.Size([1, 11, 197])\n",
            "torch.Size([1, 12, 197])\n",
            "torch.Size([1, 13, 197])\n",
            "torch.Size([1, 14, 197])\n",
            "\n",
            " file name:  000000376362 \\caption:  a dog is sitting on a blue boat with a dog on it\n",
            "torch.Size([1, 1, 197])\n",
            "torch.Size([1, 2, 197])\n",
            "torch.Size([1, 3, 197])\n",
            "torch.Size([1, 4, 197])\n",
            "torch.Size([1, 5, 197])\n",
            "torch.Size([1, 6, 197])\n",
            "torch.Size([1, 7, 197])\n",
            "torch.Size([1, 8, 197])\n",
            "torch.Size([1, 9, 197])\n",
            "torch.Size([1, 10, 197])\n",
            "torch.Size([1, 11, 197])\n",
            "torch.Size([1, 12, 197])\n"
          ]
        },
        {
          "output_type": "stream",
          "name": "stderr",
          "text": [
            "\r  0%|          | 14/8946 [00:17<1:59:05,  1.25it/s]"
          ]
        },
        {
          "output_type": "stream",
          "name": "stdout",
          "text": [
            "torch.Size([1, 13, 197])\n",
            "torch.Size([1, 14, 197])\n",
            "torch.Size([1, 15, 197])\n",
            "torch.Size([1, 16, 197])\n",
            "\n",
            " file name:  3669472958 \\caption:   a man is bending over a tent while a man watches from the sand .\n",
            "torch.Size([1, 1, 197])\n",
            "torch.Size([1, 2, 197])\n",
            "torch.Size([1, 3, 197])\n",
            "torch.Size([1, 4, 197])\n",
            "torch.Size([1, 5, 197])\n",
            "torch.Size([1, 6, 197])\n",
            "torch.Size([1, 7, 197])\n",
            "torch.Size([1, 8, 197])\n",
            "torch.Size([1, 9, 197])\n"
          ]
        },
        {
          "output_type": "stream",
          "name": "stderr",
          "text": [
            "\r  0%|          | 15/8946 [00:18<1:53:59,  1.31it/s]"
          ]
        },
        {
          "output_type": "stream",
          "name": "stdout",
          "text": [
            "torch.Size([1, 10, 197])\n",
            "torch.Size([1, 11, 197])\n",
            "torch.Size([1, 12, 197])\n",
            "torch.Size([1, 13, 197])\n",
            "\n",
            " file name:  000000429908 \\caption:   a woman is holding a plate of food in her hands .\n",
            "torch.Size([1, 1, 197])\n",
            "torch.Size([1, 2, 197])\n",
            "torch.Size([1, 3, 197])\n",
            "torch.Size([1, 4, 197])\n",
            "torch.Size([1, 5, 197])\n",
            "torch.Size([1, 6, 197])\n",
            "torch.Size([1, 7, 197])\n",
            "torch.Size([1, 8, 197])\n",
            "torch.Size([1, 9, 197])\n",
            "torch.Size([1, 10, 197])\n",
            "torch.Size([1, 11, 197])\n",
            "torch.Size([1, 12, 197])\n",
            "torch.Size([1, 13, 197])\n",
            "torch.Size([1, 14, 197])\n"
          ]
        },
        {
          "output_type": "stream",
          "name": "stderr",
          "text": [
            "\r  0%|          | 16/8946 [00:18<1:55:29,  1.29it/s]"
          ]
        },
        {
          "output_type": "stream",
          "name": "stdout",
          "text": [
            "torch.Size([1, 15, 197])\n",
            "\n",
            " file name:  000000173997 \\caption:   a man and a woman are sitting on a bench in a park.\n",
            "torch.Size([1, 1, 197])\n",
            "torch.Size([1, 2, 197])\n",
            "torch.Size([1, 3, 197])\n",
            "torch.Size([1, 4, 197])\n",
            "torch.Size([1, 5, 197])\n",
            "torch.Size([1, 6, 197])\n",
            "torch.Size([1, 7, 197])\n",
            "torch.Size([1, 8, 197])\n",
            "torch.Size([1, 9, 197])\n",
            "torch.Size([1, 10, 197])\n",
            "torch.Size([1, 11, 197])\n",
            "torch.Size([1, 12, 197])\n",
            "torch.Size([1, 13, 197])\n",
            "torch.Size([1, 14, 197])\n",
            "torch.Size([1, 15, 197])\n",
            "torch.Size([1, 16, 197])\n",
            "torch.Size([1, 17, 197])\n",
            "torch.Size([1, 18, 197])\n",
            "torch.Size([1, 19, 197])\n"
          ]
        },
        {
          "output_type": "stream",
          "name": "stderr",
          "text": [
            "\r  0%|          | 17/8946 [00:20<2:11:15,  1.13it/s]"
          ]
        },
        {
          "output_type": "stream",
          "name": "stdout",
          "text": [
            "torch.Size([1, 20, 197])\n",
            "torch.Size([1, 21, 197])\n",
            "\n",
            " file name:  1362987900 \\caption:   a man wearing a hat and a hat is sitting on a table with a guitar in his mouth .\n",
            "torch.Size([1, 1, 197])\n",
            "torch.Size([1, 2, 197])\n",
            "torch.Size([1, 3, 197])\n",
            "torch.Size([1, 4, 197])\n",
            "torch.Size([1, 5, 197])\n",
            "torch.Size([1, 6, 197])\n",
            "torch.Size([1, 7, 197])\n",
            "torch.Size([1, 8, 197])\n",
            "torch.Size([1, 9, 197])\n",
            "torch.Size([1, 10, 197])\n"
          ]
        },
        {
          "output_type": "stream",
          "name": "stderr",
          "text": [
            "\r  0%|          | 18/8946 [00:20<2:02:29,  1.21it/s]"
          ]
        },
        {
          "output_type": "stream",
          "name": "stdout",
          "text": [
            "torch.Size([1, 11, 197])\n",
            "torch.Size([1, 12, 197])\n",
            "torch.Size([1, 13, 197])\n",
            "\n",
            " file name:  000000285018 \\caption:  a bathroom with a white bathtub and white tile floor.\n",
            "torch.Size([1, 1, 197])\n",
            "torch.Size([1, 2, 197])\n",
            "torch.Size([1, 3, 197])\n",
            "torch.Size([1, 4, 197])\n",
            "torch.Size([1, 5, 197])\n",
            "torch.Size([1, 6, 197])\n",
            "torch.Size([1, 7, 197])\n",
            "torch.Size([1, 8, 197])\n",
            "torch.Size([1, 9, 197])\n"
          ]
        },
        {
          "output_type": "stream",
          "name": "stderr",
          "text": [
            "\r  0%|          | 19/8946 [00:21<1:49:28,  1.36it/s]"
          ]
        },
        {
          "output_type": "stream",
          "name": "stdout",
          "text": [
            "torch.Size([1, 10, 197])\n",
            "\n",
            " file name:  000000361376 \\caption:  a blue and white bowl with a salad.\n",
            "torch.Size([1, 1, 197])\n",
            "torch.Size([1, 2, 197])\n",
            "torch.Size([1, 3, 197])\n",
            "torch.Size([1, 4, 197])\n",
            "torch.Size([1, 5, 197])\n",
            "torch.Size([1, 6, 197])\n",
            "torch.Size([1, 7, 197])\n",
            "torch.Size([1, 8, 197])\n",
            "torch.Size([1, 9, 197])\n",
            "torch.Size([1, 10, 197])\n",
            "torch.Size([1, 11, 197])\n"
          ]
        },
        {
          "output_type": "stream",
          "name": "stderr",
          "text": [
            "\r  0%|          | 20/8946 [00:21<1:45:22,  1.41it/s]"
          ]
        },
        {
          "output_type": "stream",
          "name": "stdout",
          "text": [
            "torch.Size([1, 12, 197])\n",
            "\n",
            " file name:  000000422100 \\caption:  a skateboarder doing a trick on a skate board\n",
            "torch.Size([1, 1, 197])\n",
            "torch.Size([1, 2, 197])\n",
            "torch.Size([1, 3, 197])\n",
            "torch.Size([1, 4, 197])\n",
            "torch.Size([1, 5, 197])\n",
            "torch.Size([1, 6, 197])\n",
            "torch.Size([1, 7, 197])\n",
            "torch.Size([1, 8, 197])\n",
            "torch.Size([1, 9, 197])\n",
            "torch.Size([1, 10, 197])\n",
            "torch.Size([1, 11, 197])\n"
          ]
        },
        {
          "output_type": "stream",
          "name": "stderr",
          "text": [
            "\r  0%|          | 21/8946 [00:22<1:44:58,  1.42it/s]"
          ]
        },
        {
          "output_type": "stream",
          "name": "stdout",
          "text": [
            "torch.Size([1, 12, 197])\n",
            "torch.Size([1, 13, 197])\n",
            "\n",
            " file name:  000000476383 \\caption:  a cat sitting on a desk with a glass of water.\n",
            "torch.Size([1, 1, 197])\n",
            "torch.Size([1, 2, 197])\n",
            "torch.Size([1, 3, 197])\n",
            "torch.Size([1, 4, 197])\n",
            "torch.Size([1, 5, 197])\n",
            "torch.Size([1, 6, 197])\n",
            "torch.Size([1, 7, 197])\n",
            "torch.Size([1, 8, 197])\n",
            "torch.Size([1, 9, 197])\n",
            "torch.Size([1, 10, 197])\n"
          ]
        },
        {
          "output_type": "stream",
          "name": "stderr",
          "text": [
            "\r  0%|          | 22/8946 [00:23<1:39:54,  1.49it/s]"
          ]
        },
        {
          "output_type": "stream",
          "name": "stdout",
          "text": [
            "torch.Size([1, 11, 197])\n",
            "\n",
            " file name:  000000201859 \\caption:  a red car is stopped at a stop light.\n",
            "torch.Size([1, 1, 197])\n",
            "torch.Size([1, 2, 197])\n",
            "torch.Size([1, 3, 197])\n",
            "torch.Size([1, 4, 197])\n",
            "torch.Size([1, 5, 197])\n",
            "torch.Size([1, 6, 197])\n",
            "torch.Size([1, 7, 197])\n"
          ]
        },
        {
          "output_type": "stream",
          "name": "stderr",
          "text": [
            "\r  0%|          | 23/8946 [00:23<1:36:21,  1.54it/s]"
          ]
        },
        {
          "output_type": "stream",
          "name": "stdout",
          "text": [
            "torch.Size([1, 8, 197])\n",
            "torch.Size([1, 9, 197])\n",
            "torch.Size([1, 10, 197])\n",
            "torch.Size([1, 11, 197])\n",
            "\n",
            " file name:  000000215303 \\caption:  a piece of wine and wine on a table.\n",
            "torch.Size([1, 1, 197])\n",
            "torch.Size([1, 2, 197])\n",
            "torch.Size([1, 3, 197])\n",
            "torch.Size([1, 4, 197])\n",
            "torch.Size([1, 5, 197])\n",
            "torch.Size([1, 6, 197])\n",
            "torch.Size([1, 7, 197])\n",
            "torch.Size([1, 8, 197])\n",
            "torch.Size([1, 9, 197])\n"
          ]
        },
        {
          "output_type": "stream",
          "name": "stderr",
          "text": [
            "\r  0%|          | 24/8946 [00:24<1:33:48,  1.59it/s]"
          ]
        },
        {
          "output_type": "stream",
          "name": "stdout",
          "text": [
            "torch.Size([1, 10, 197])\n",
            "torch.Size([1, 11, 197])\n",
            "\n",
            " file name:  000000581711 \\caption:  a plate of food with a fork and fork.\n",
            "torch.Size([1, 1, 197])\n",
            "torch.Size([1, 2, 197])\n",
            "torch.Size([1, 3, 197])\n",
            "torch.Size([1, 4, 197])\n",
            "torch.Size([1, 5, 197])\n",
            "torch.Size([1, 6, 197])\n",
            "torch.Size([1, 7, 197])\n",
            "torch.Size([1, 8, 197])\n",
            "torch.Size([1, 9, 197])\n",
            "torch.Size([1, 10, 197])\n",
            "torch.Size([1, 11, 197])\n",
            "torch.Size([1, 12, 197])\n",
            "torch.Size([1, 13, 197])\n",
            "torch.Size([1, 14, 197])\n"
          ]
        },
        {
          "output_type": "stream",
          "name": "stderr",
          "text": [
            "\r  0%|          | 25/8946 [00:25<1:41:22,  1.47it/s]"
          ]
        },
        {
          "output_type": "stream",
          "name": "stdout",
          "text": [
            "torch.Size([1, 15, 197])\n",
            "\n",
            " file name:  000000034938 \\caption:  a small bed is in a room with a backpack and a backpack.\n",
            "torch.Size([1, 1, 197])\n",
            "torch.Size([1, 2, 197])\n",
            "torch.Size([1, 3, 197])\n",
            "torch.Size([1, 4, 197])\n",
            "torch.Size([1, 5, 197])\n",
            "torch.Size([1, 6, 197])\n",
            "torch.Size([1, 7, 197])\n",
            "torch.Size([1, 8, 197])\n",
            "torch.Size([1, 9, 197])\n",
            "torch.Size([1, 10, 197])\n",
            "torch.Size([1, 11, 197])\n"
          ]
        },
        {
          "output_type": "stream",
          "name": "stderr",
          "text": [
            "\r  0%|          | 26/8946 [00:25<1:44:10,  1.43it/s]"
          ]
        },
        {
          "output_type": "stream",
          "name": "stdout",
          "text": [
            "torch.Size([1, 12, 197])\n",
            "torch.Size([1, 13, 197])\n",
            "torch.Size([1, 14, 197])\n",
            "\n",
            " file name:  000000099543 \\caption:  a small black and black dog is holding a toy with a toy\n",
            "torch.Size([1, 1, 197])\n",
            "torch.Size([1, 2, 197])\n",
            "torch.Size([1, 3, 197])\n",
            "torch.Size([1, 4, 197])\n",
            "torch.Size([1, 5, 197])\n",
            "torch.Size([1, 6, 197])\n",
            "torch.Size([1, 7, 197])\n",
            "torch.Size([1, 8, 197])\n",
            "torch.Size([1, 9, 197])\n"
          ]
        },
        {
          "output_type": "stream",
          "name": "stderr",
          "text": [
            "\r  0%|          | 27/8946 [00:26<1:39:03,  1.50it/s]"
          ]
        },
        {
          "output_type": "stream",
          "name": "stdout",
          "text": [
            "torch.Size([1, 10, 197])\n",
            "torch.Size([1, 11, 197])\n",
            "\n",
            " file name:  000000089253 \\caption:  a group of men and women cutting a cake.\n",
            "torch.Size([1, 1, 197])\n",
            "torch.Size([1, 2, 197])\n",
            "torch.Size([1, 3, 197])\n",
            "torch.Size([1, 4, 197])\n",
            "torch.Size([1, 5, 197])\n",
            "torch.Size([1, 6, 197])\n",
            "torch.Size([1, 7, 197])\n",
            "torch.Size([1, 8, 197])\n",
            "torch.Size([1, 9, 197])\n",
            "torch.Size([1, 10, 197])\n"
          ]
        },
        {
          "output_type": "stream",
          "name": "stderr",
          "text": [
            "\r  0%|          | 28/8946 [00:27<1:40:25,  1.48it/s]"
          ]
        },
        {
          "output_type": "stream",
          "name": "stdout",
          "text": [
            "torch.Size([1, 11, 197])\n",
            "torch.Size([1, 12, 197])\n",
            "torch.Size([1, 13, 197])\n",
            "\n",
            " file name:  000000417303 \\caption:  a group of people walking down a street in a city .\n",
            "torch.Size([1, 1, 197])\n",
            "torch.Size([1, 2, 197])\n",
            "torch.Size([1, 3, 197])\n",
            "torch.Size([1, 4, 197])\n",
            "torch.Size([1, 5, 197])\n",
            "torch.Size([1, 6, 197])\n",
            "torch.Size([1, 7, 197])\n",
            "torch.Size([1, 8, 197])\n",
            "torch.Size([1, 9, 197])\n"
          ]
        },
        {
          "output_type": "stream",
          "name": "stderr",
          "text": [
            "\r  0%|          | 29/8946 [00:27<1:41:06,  1.47it/s]"
          ]
        },
        {
          "output_type": "stream",
          "name": "stdout",
          "text": [
            "torch.Size([1, 10, 197])\n",
            "torch.Size([1, 11, 197])\n",
            "torch.Size([1, 12, 197])\n",
            "torch.Size([1, 13, 197])\n",
            "\n",
            " file name:  000000026501 \\caption:  a red and red bus is traveling on a city street.\n",
            "torch.Size([1, 1, 197])\n",
            "torch.Size([1, 2, 197])\n",
            "torch.Size([1, 3, 197])\n",
            "torch.Size([1, 4, 197])\n",
            "torch.Size([1, 5, 197])\n",
            "torch.Size([1, 6, 197])\n",
            "torch.Size([1, 7, 197])\n",
            "torch.Size([1, 8, 197])\n",
            "torch.Size([1, 9, 197])\n"
          ]
        },
        {
          "output_type": "stream",
          "name": "stderr",
          "text": [
            "\r  0%|          | 30/8946 [00:28<1:34:24,  1.57it/s]"
          ]
        },
        {
          "output_type": "stream",
          "name": "stdout",
          "text": [
            "torch.Size([1, 10, 197])\n",
            "\n",
            " file name:  000000509565 \\caption:  a large elephant walking across a dirt field.\n",
            "torch.Size([1, 1, 197])\n",
            "torch.Size([1, 2, 197])\n",
            "torch.Size([1, 3, 197])\n",
            "torch.Size([1, 4, 197])\n",
            "torch.Size([1, 5, 197])\n",
            "torch.Size([1, 6, 197])\n",
            "torch.Size([1, 7, 197])\n",
            "torch.Size([1, 8, 197])\n",
            "torch.Size([1, 9, 197])\n",
            "torch.Size([1, 10, 197])\n",
            "torch.Size([1, 11, 197])\n",
            "torch.Size([1, 12, 197])\n"
          ]
        },
        {
          "output_type": "stream",
          "name": "stderr",
          "text": [
            "\r  0%|          | 31/8946 [00:29<1:39:27,  1.49it/s]"
          ]
        },
        {
          "output_type": "stream",
          "name": "stdout",
          "text": [
            "torch.Size([1, 13, 197])\n",
            "torch.Size([1, 14, 197])\n",
            "\n",
            " file name:  000000321679 \\caption:  a car that is sitting on the side of a city street.\n",
            "torch.Size([1, 1, 197])\n",
            "torch.Size([1, 2, 197])\n",
            "torch.Size([1, 3, 197])\n",
            "torch.Size([1, 4, 197])\n",
            "torch.Size([1, 5, 197])\n",
            "torch.Size([1, 6, 197])\n",
            "torch.Size([1, 7, 197])\n",
            "torch.Size([1, 8, 197])\n",
            "torch.Size([1, 9, 197])\n",
            "torch.Size([1, 10, 197])\n"
          ]
        },
        {
          "output_type": "stream",
          "name": "stderr",
          "text": [
            "\r  0%|          | 32/8946 [00:29<1:35:43,  1.55it/s]"
          ]
        },
        {
          "output_type": "stream",
          "name": "stdout",
          "text": [
            "torch.Size([1, 11, 197])\n",
            "\n",
            " file name:  280667538 \\caption:   a man in a costume is riding a horse .\n",
            "torch.Size([1, 1, 197])\n",
            "torch.Size([1, 2, 197])\n",
            "torch.Size([1, 3, 197])\n",
            "torch.Size([1, 4, 197])\n",
            "torch.Size([1, 5, 197])\n",
            "torch.Size([1, 6, 197])\n",
            "torch.Size([1, 7, 197])\n"
          ]
        },
        {
          "output_type": "stream",
          "name": "stderr",
          "text": [
            "\r  0%|          | 33/8946 [00:30<1:30:56,  1.63it/s]"
          ]
        },
        {
          "output_type": "stream",
          "name": "stdout",
          "text": [
            "torch.Size([1, 8, 197])\n",
            "torch.Size([1, 9, 197])\n",
            "torch.Size([1, 10, 197])\n",
            "\n",
            " file name:  000000533889 \\caption:  a large white bus driving down the street.\n",
            "torch.Size([1, 1, 197])\n",
            "torch.Size([1, 2, 197])\n",
            "torch.Size([1, 3, 197])\n",
            "torch.Size([1, 4, 197])\n",
            "torch.Size([1, 5, 197])\n",
            "torch.Size([1, 6, 197])\n",
            "torch.Size([1, 7, 197])\n",
            "torch.Size([1, 8, 197])\n",
            "torch.Size([1, 9, 197])\n",
            "torch.Size([1, 10, 197])\n"
          ]
        },
        {
          "output_type": "stream",
          "name": "stderr",
          "text": [
            "\r  0%|          | 34/8946 [00:31<1:34:39,  1.57it/s]"
          ]
        },
        {
          "output_type": "stream",
          "name": "stdout",
          "text": [
            "torch.Size([1, 11, 197])\n",
            "torch.Size([1, 12, 197])\n",
            "torch.Size([1, 13, 197])\n",
            "\n",
            " file name:  000000369568 \\caption:  a zebra stands next to a fence near a fence.\n",
            "torch.Size([1, 1, 197])\n",
            "torch.Size([1, 2, 197])\n",
            "torch.Size([1, 3, 197])\n",
            "torch.Size([1, 4, 197])\n",
            "torch.Size([1, 5, 197])\n",
            "torch.Size([1, 6, 197])\n",
            "torch.Size([1, 7, 197])\n",
            "torch.Size([1, 8, 197])\n",
            "torch.Size([1, 9, 197])\n",
            "torch.Size([1, 10, 197])\n",
            "torch.Size([1, 11, 197])\n",
            "torch.Size([1, 12, 197])\n",
            "torch.Size([1, 13, 197])\n"
          ]
        },
        {
          "output_type": "stream",
          "name": "stderr",
          "text": [
            "\r  0%|          | 35/8946 [00:31<1:39:27,  1.49it/s]"
          ]
        },
        {
          "output_type": "stream",
          "name": "stdout",
          "text": [
            "torch.Size([1, 14, 197])\n",
            "\n",
            " file name:  000000189351 \\caption:  a parking meter is sitting on a sidewalk next to a tree.\n",
            "torch.Size([1, 1, 197])\n",
            "torch.Size([1, 2, 197])\n",
            "torch.Size([1, 3, 197])\n",
            "torch.Size([1, 4, 197])\n",
            "torch.Size([1, 5, 197])\n",
            "torch.Size([1, 6, 197])\n",
            "torch.Size([1, 7, 197])\n"
          ]
        },
        {
          "output_type": "stream",
          "name": "stderr",
          "text": [
            "\r  0%|          | 36/8946 [00:32<1:35:41,  1.55it/s]"
          ]
        },
        {
          "output_type": "stream",
          "name": "stdout",
          "text": [
            "torch.Size([1, 8, 197])\n",
            "torch.Size([1, 9, 197])\n",
            "torch.Size([1, 10, 197])\n",
            "torch.Size([1, 11, 197])\n",
            "\n",
            " file name:  000000418226 \\caption:  a row of urinals are in a bathroom.\n",
            "torch.Size([1, 1, 197])\n",
            "torch.Size([1, 2, 197])\n",
            "torch.Size([1, 3, 197])\n",
            "torch.Size([1, 4, 197])\n",
            "torch.Size([1, 5, 197])\n",
            "torch.Size([1, 6, 197])\n",
            "torch.Size([1, 7, 197])\n",
            "torch.Size([1, 8, 197])\n",
            "torch.Size([1, 9, 197])\n"
          ]
        },
        {
          "output_type": "stream",
          "name": "stderr",
          "text": [
            "\r  0%|          | 37/8946 [00:33<1:38:09,  1.51it/s]"
          ]
        },
        {
          "output_type": "stream",
          "name": "stdout",
          "text": [
            "torch.Size([1, 10, 197])\n",
            "torch.Size([1, 11, 197])\n",
            "torch.Size([1, 12, 197])\n",
            "torch.Size([1, 13, 197])\n",
            "\n",
            " file name:  000000508202 \\caption:  a plate of food with meat, vegetables, and vegetables.\n",
            "torch.Size([1, 1, 197])\n",
            "torch.Size([1, 2, 197])\n",
            "torch.Size([1, 3, 197])\n",
            "torch.Size([1, 4, 197])\n",
            "torch.Size([1, 5, 197])\n",
            "torch.Size([1, 6, 197])\n",
            "torch.Size([1, 7, 197])\n",
            "torch.Size([1, 8, 197])\n",
            "torch.Size([1, 9, 197])\n"
          ]
        },
        {
          "output_type": "stream",
          "name": "stderr",
          "text": [
            "\r  0%|          | 38/8946 [00:33<1:39:42,  1.49it/s]"
          ]
        },
        {
          "output_type": "stream",
          "name": "stdout",
          "text": [
            "torch.Size([1, 10, 197])\n",
            "torch.Size([1, 11, 197])\n",
            "torch.Size([1, 12, 197])\n",
            "torch.Size([1, 13, 197])\n",
            "\n",
            " file name:  000000571563 \\caption:  a group of people on skis and a small building.\n",
            "torch.Size([1, 1, 197])\n",
            "torch.Size([1, 2, 197])\n",
            "torch.Size([1, 3, 197])\n",
            "torch.Size([1, 4, 197])\n",
            "torch.Size([1, 5, 197])\n",
            "torch.Size([1, 6, 197])\n",
            "torch.Size([1, 7, 197])\n",
            "torch.Size([1, 8, 197])\n",
            "torch.Size([1, 9, 197])\n",
            "torch.Size([1, 10, 197])\n",
            "torch.Size([1, 11, 197])\n",
            "torch.Size([1, 12, 197])\n",
            "torch.Size([1, 13, 197])\n"
          ]
        },
        {
          "output_type": "stream",
          "name": "stderr",
          "text": [
            "\r  0%|          | 39/8946 [00:34<1:45:46,  1.40it/s]"
          ]
        },
        {
          "output_type": "stream",
          "name": "stdout",
          "text": [
            "torch.Size([1, 14, 197])\n",
            "torch.Size([1, 15, 197])\n",
            "\n",
            " file name:  4589027891 \\caption:   a man in a suit and a suit is walking down the street .\n",
            "torch.Size([1, 1, 197])\n",
            "torch.Size([1, 2, 197])\n",
            "torch.Size([1, 3, 197])\n",
            "torch.Size([1, 4, 197])\n",
            "torch.Size([1, 5, 197])\n",
            "torch.Size([1, 6, 197])\n",
            "torch.Size([1, 7, 197])\n",
            "torch.Size([1, 8, 197])\n",
            "torch.Size([1, 9, 197])\n",
            "torch.Size([1, 10, 197])\n"
          ]
        },
        {
          "output_type": "stream",
          "name": "stderr",
          "text": [
            "\r  0%|          | 40/8946 [00:35<1:47:55,  1.38it/s]"
          ]
        },
        {
          "output_type": "stream",
          "name": "stdout",
          "text": [
            "torch.Size([1, 11, 197])\n",
            "torch.Size([1, 12, 197])\n",
            "torch.Size([1, 13, 197])\n",
            "torch.Size([1, 14, 197])\n",
            "\n",
            " file name:  000000190334 \\caption:  a teddy bear sitting on a desk next to a computer.\n",
            "torch.Size([1, 1, 197])\n",
            "torch.Size([1, 2, 197])\n",
            "torch.Size([1, 3, 197])\n",
            "torch.Size([1, 4, 197])\n",
            "torch.Size([1, 5, 197])\n",
            "torch.Size([1, 6, 197])\n",
            "torch.Size([1, 7, 197])\n",
            "torch.Size([1, 8, 197])\n",
            "torch.Size([1, 9, 197])\n"
          ]
        },
        {
          "output_type": "stream",
          "name": "stderr",
          "text": [
            "\r  0%|          | 41/8946 [00:35<1:44:22,  1.42it/s]"
          ]
        },
        {
          "output_type": "stream",
          "name": "stdout",
          "text": [
            "torch.Size([1, 10, 197])\n",
            "torch.Size([1, 11, 197])\n",
            "torch.Size([1, 12, 197])\n",
            "\n",
            " file name:  000000043404 \\caption:  a clock tower in the middle of a city street.\n",
            "torch.Size([1, 1, 197])\n",
            "torch.Size([1, 2, 197])\n",
            "torch.Size([1, 3, 197])\n",
            "torch.Size([1, 4, 197])\n",
            "torch.Size([1, 5, 197])\n",
            "torch.Size([1, 6, 197])\n",
            "torch.Size([1, 7, 197])\n",
            "torch.Size([1, 8, 197])\n",
            "torch.Size([1, 9, 197])\n"
          ]
        },
        {
          "output_type": "stream",
          "name": "stderr",
          "text": [
            "\r  0%|          | 42/8946 [00:36<1:42:04,  1.45it/s]"
          ]
        },
        {
          "output_type": "stream",
          "name": "stdout",
          "text": [
            "torch.Size([1, 10, 197])\n",
            "torch.Size([1, 11, 197])\n",
            "torch.Size([1, 12, 197])\n",
            "\n",
            " file name:  000000341219 \\caption:  a little girl sitting at a table with a cake.\n",
            "torch.Size([1, 1, 197])\n",
            "torch.Size([1, 2, 197])\n",
            "torch.Size([1, 3, 197])\n",
            "torch.Size([1, 4, 197])\n",
            "torch.Size([1, 5, 197])\n",
            "torch.Size([1, 6, 197])\n",
            "torch.Size([1, 7, 197])\n",
            "torch.Size([1, 8, 197])\n",
            "torch.Size([1, 9, 197])\n",
            "torch.Size([1, 10, 197])\n",
            "torch.Size([1, 11, 197])\n",
            "torch.Size([1, 12, 197])\n",
            "torch.Size([1, 13, 197])\n"
          ]
        },
        {
          "output_type": "stream",
          "name": "stderr",
          "text": [
            "\r  0%|          | 43/8946 [00:37<1:45:01,  1.41it/s]"
          ]
        },
        {
          "output_type": "stream",
          "name": "stdout",
          "text": [
            "torch.Size([1, 14, 197])\n",
            "\n",
            " file name:  000000520655 \\caption:  a black and white cat is sitting on a lush green field.\n",
            "torch.Size([1, 1, 197])\n",
            "torch.Size([1, 2, 197])\n",
            "torch.Size([1, 3, 197])\n",
            "torch.Size([1, 4, 197])\n",
            "torch.Size([1, 5, 197])\n",
            "torch.Size([1, 6, 197])\n",
            "torch.Size([1, 7, 197])\n",
            "torch.Size([1, 8, 197])\n",
            "torch.Size([1, 9, 197])\n",
            "torch.Size([1, 10, 197])\n",
            "torch.Size([1, 11, 197])\n"
          ]
        },
        {
          "output_type": "stream",
          "name": "stderr",
          "text": [
            "\r  0%|          | 44/8946 [00:38<1:42:30,  1.45it/s]"
          ]
        },
        {
          "output_type": "stream",
          "name": "stdout",
          "text": [
            "torch.Size([1, 12, 197])\n",
            "\n",
            " file name:  000000401528 \\caption:  a large green vase is sitting on a table.\n",
            "torch.Size([1, 1, 197])\n",
            "torch.Size([1, 2, 197])\n",
            "torch.Size([1, 3, 197])\n",
            "torch.Size([1, 4, 197])\n",
            "torch.Size([1, 5, 197])\n",
            "torch.Size([1, 6, 197])\n",
            "torch.Size([1, 7, 197])\n",
            "torch.Size([1, 8, 197])\n",
            "torch.Size([1, 9, 197])\n",
            "torch.Size([1, 10, 197])\n",
            "torch.Size([1, 11, 197])\n"
          ]
        },
        {
          "output_type": "stream",
          "name": "stderr",
          "text": [
            "\r  1%|          | 45/8946 [00:38<1:43:18,  1.44it/s]"
          ]
        },
        {
          "output_type": "stream",
          "name": "stdout",
          "text": [
            "torch.Size([1, 12, 197])\n",
            "torch.Size([1, 13, 197])\n",
            "\n",
            " file name:  000000429160 \\caption:  two beds in a room with a refrigerator and a shower.\n",
            "torch.Size([1, 1, 197])\n",
            "torch.Size([1, 2, 197])\n",
            "torch.Size([1, 3, 197])\n",
            "torch.Size([1, 4, 197])\n",
            "torch.Size([1, 5, 197])\n",
            "torch.Size([1, 6, 197])\n",
            "torch.Size([1, 7, 197])\n",
            "torch.Size([1, 8, 197])\n",
            "torch.Size([1, 9, 197])\n",
            "torch.Size([1, 10, 197])\n"
          ]
        },
        {
          "output_type": "stream",
          "name": "stderr",
          "text": [
            "\r  1%|          | 46/8946 [00:39<1:39:00,  1.50it/s]"
          ]
        },
        {
          "output_type": "stream",
          "name": "stdout",
          "text": [
            "torch.Size([1, 11, 197])\n",
            "\n",
            " file name:  000000128695 \\caption:  a small sized cellular phone sitting on a sidewalk.\n",
            "torch.Size([1, 1, 197])\n",
            "torch.Size([1, 2, 197])\n",
            "torch.Size([1, 3, 197])\n",
            "torch.Size([1, 4, 197])\n",
            "torch.Size([1, 5, 197])\n",
            "torch.Size([1, 6, 197])\n",
            "torch.Size([1, 7, 197])\n"
          ]
        },
        {
          "output_type": "stream",
          "name": "stderr",
          "text": [
            "\r  1%|          | 47/8946 [00:39<1:36:02,  1.54it/s]"
          ]
        },
        {
          "output_type": "stream",
          "name": "stdout",
          "text": [
            "torch.Size([1, 8, 197])\n",
            "torch.Size([1, 9, 197])\n",
            "torch.Size([1, 10, 197])\n",
            "torch.Size([1, 11, 197])\n",
            "\n",
            " file name:  000000488069 \\caption:  a man is standing next to a brick building .\n",
            "torch.Size([1, 1, 197])\n",
            "torch.Size([1, 2, 197])\n",
            "torch.Size([1, 3, 197])\n",
            "torch.Size([1, 4, 197])\n",
            "torch.Size([1, 5, 197])\n",
            "torch.Size([1, 6, 197])\n",
            "torch.Size([1, 7, 197])\n",
            "torch.Size([1, 8, 197])\n",
            "torch.Size([1, 9, 197])\n"
          ]
        },
        {
          "output_type": "stream",
          "name": "stderr",
          "text": [
            "\r  1%|          | 48/8946 [00:40<1:33:54,  1.58it/s]"
          ]
        },
        {
          "output_type": "stream",
          "name": "stdout",
          "text": [
            "torch.Size([1, 10, 197])\n",
            "torch.Size([1, 11, 197])\n",
            "\n",
            " file name:  000000344368 \\caption:  a cat is sitting on a car in a car\n",
            "torch.Size([1, 1, 197])\n",
            "torch.Size([1, 2, 197])\n",
            "torch.Size([1, 3, 197])\n",
            "torch.Size([1, 4, 197])\n",
            "torch.Size([1, 5, 197])\n",
            "torch.Size([1, 6, 197])\n",
            "torch.Size([1, 7, 197])\n",
            "torch.Size([1, 8, 197])\n",
            "torch.Size([1, 9, 197])\n",
            "torch.Size([1, 10, 197])\n"
          ]
        },
        {
          "output_type": "stream",
          "name": "stderr",
          "text": [
            "\r  1%|          | 49/8946 [00:41<1:37:17,  1.52it/s]"
          ]
        },
        {
          "output_type": "stream",
          "name": "stdout",
          "text": [
            "torch.Size([1, 11, 197])\n",
            "torch.Size([1, 12, 197])\n",
            "torch.Size([1, 13, 197])\n",
            "\n",
            " file name:  000000465495 \\caption:  a cat is sitting on a couch looking at the camera.\n",
            "torch.Size([1, 1, 197])\n",
            "torch.Size([1, 2, 197])\n",
            "torch.Size([1, 3, 197])\n",
            "torch.Size([1, 4, 197])\n",
            "torch.Size([1, 5, 197])\n",
            "torch.Size([1, 6, 197])\n",
            "torch.Size([1, 7, 197])\n",
            "torch.Size([1, 8, 197])\n",
            "torch.Size([1, 9, 197])\n",
            "torch.Size([1, 10, 197])\n"
          ]
        },
        {
          "output_type": "stream",
          "name": "stderr",
          "text": [
            "\r  1%|          | 50/8946 [00:41<1:32:37,  1.60it/s]"
          ]
        },
        {
          "output_type": "stream",
          "name": "stdout",
          "text": [
            "\n",
            " file name:  000000096643 \\caption:  a bathroom has a toilet and a sink.\n",
            "torch.Size([1, 1, 197])\n",
            "torch.Size([1, 2, 197])\n",
            "torch.Size([1, 3, 197])\n",
            "torch.Size([1, 4, 197])\n",
            "torch.Size([1, 5, 197])\n",
            "torch.Size([1, 6, 197])\n",
            "torch.Size([1, 7, 197])\n",
            "torch.Size([1, 8, 197])\n"
          ]
        },
        {
          "output_type": "stream",
          "name": "stderr",
          "text": [
            "\r  1%|          | 51/8946 [00:42<1:33:45,  1.58it/s]"
          ]
        },
        {
          "output_type": "stream",
          "name": "stdout",
          "text": [
            "torch.Size([1, 9, 197])\n",
            "torch.Size([1, 10, 197])\n",
            "torch.Size([1, 11, 197])\n",
            "torch.Size([1, 12, 197])\n",
            "\n",
            " file name:  000000380128 \\caption:  a laptop computer sitting on top of a wooden desk.\n",
            "torch.Size([1, 1, 197])\n",
            "torch.Size([1, 2, 197])\n",
            "torch.Size([1, 3, 197])\n",
            "torch.Size([1, 4, 197])\n",
            "torch.Size([1, 5, 197])\n",
            "torch.Size([1, 6, 197])\n",
            "torch.Size([1, 7, 197])\n",
            "torch.Size([1, 8, 197])\n",
            "torch.Size([1, 9, 197])\n"
          ]
        },
        {
          "output_type": "stream",
          "name": "stderr",
          "text": [
            "\r  1%|          | 52/8946 [00:43<1:36:51,  1.53it/s]"
          ]
        },
        {
          "output_type": "stream",
          "name": "stdout",
          "text": [
            "torch.Size([1, 10, 197])\n",
            "torch.Size([1, 11, 197])\n",
            "torch.Size([1, 12, 197])\n",
            "torch.Size([1, 13, 197])\n",
            "\n",
            " file name:  000000383923 \\caption:  a bunch of luggage bags of luggage sitting in the street.\n",
            "torch.Size([1, 1, 197])\n",
            "torch.Size([1, 2, 197])\n",
            "torch.Size([1, 3, 197])\n",
            "torch.Size([1, 4, 197])\n",
            "torch.Size([1, 5, 197])\n",
            "torch.Size([1, 6, 197])\n",
            "torch.Size([1, 7, 197])\n",
            "torch.Size([1, 8, 197])\n",
            "torch.Size([1, 9, 197])\n"
          ]
        },
        {
          "output_type": "stream",
          "name": "stderr",
          "text": [
            "\r  1%|          | 53/8946 [00:43<1:31:44,  1.62it/s]"
          ]
        },
        {
          "output_type": "stream",
          "name": "stdout",
          "text": [
            "torch.Size([1, 10, 197])\n",
            "\n",
            " file name:  000000163192 \\caption:  a ceramic plate is displayed on a plate.\n",
            "torch.Size([1, 1, 197])\n",
            "torch.Size([1, 2, 197])\n",
            "torch.Size([1, 3, 197])\n",
            "torch.Size([1, 4, 197])\n",
            "torch.Size([1, 5, 197])\n",
            "torch.Size([1, 6, 197])\n",
            "torch.Size([1, 7, 197])\n",
            "torch.Size([1, 8, 197])\n",
            "torch.Size([1, 9, 197])\n",
            "torch.Size([1, 10, 197])\n",
            "torch.Size([1, 11, 197])\n"
          ]
        },
        {
          "output_type": "stream",
          "name": "stderr",
          "text": [
            "\r  1%|          | 54/8946 [00:44<1:35:21,  1.55it/s]"
          ]
        },
        {
          "output_type": "stream",
          "name": "stdout",
          "text": [
            "torch.Size([1, 12, 197])\n",
            "torch.Size([1, 13, 197])\n",
            "\n",
            " file name:  000000361638 \\caption:  a bathroom with a toilet, sink, and a shower.\n",
            "torch.Size([1, 1, 197])\n",
            "torch.Size([1, 2, 197])\n",
            "torch.Size([1, 3, 197])\n",
            "torch.Size([1, 4, 197])\n",
            "torch.Size([1, 5, 197])\n",
            "torch.Size([1, 6, 197])\n",
            "torch.Size([1, 7, 197])\n",
            "torch.Size([1, 8, 197])\n",
            "torch.Size([1, 9, 197])\n",
            "torch.Size([1, 10, 197])\n"
          ]
        },
        {
          "output_type": "stream",
          "name": "stderr",
          "text": [
            "\r  1%|          | 55/8946 [00:45<1:35:33,  1.55it/s]"
          ]
        },
        {
          "output_type": "stream",
          "name": "stdout",
          "text": [
            "torch.Size([1, 11, 197])\n",
            "torch.Size([1, 12, 197])\n",
            "\n",
            " file name:  000000237394 \\caption:  a herd of animals in a field with a fence.\n",
            "torch.Size([1, 1, 197])\n",
            "torch.Size([1, 2, 197])\n",
            "torch.Size([1, 3, 197])\n",
            "torch.Size([1, 4, 197])\n",
            "torch.Size([1, 5, 197])\n",
            "torch.Size([1, 6, 197])\n",
            "torch.Size([1, 7, 197])\n",
            "torch.Size([1, 8, 197])\n",
            "torch.Size([1, 9, 197])\n",
            "torch.Size([1, 10, 197])\n"
          ]
        },
        {
          "output_type": "stream",
          "name": "stderr",
          "text": [
            "\r  1%|          | 56/8946 [00:45<1:36:01,  1.54it/s]"
          ]
        },
        {
          "output_type": "stream",
          "name": "stdout",
          "text": [
            "torch.Size([1, 11, 197])\n",
            "torch.Size([1, 12, 197])\n",
            "\n",
            " file name:  000000248956 \\caption:  a skateboarder performs a trick on a ramp.\n",
            "torch.Size([1, 1, 197])\n",
            "torch.Size([1, 2, 197])\n",
            "torch.Size([1, 3, 197])\n",
            "torch.Size([1, 4, 197])\n",
            "torch.Size([1, 5, 197])\n",
            "torch.Size([1, 6, 197])\n"
          ]
        },
        {
          "output_type": "stream",
          "name": "stderr",
          "text": [
            "\r  1%|          | 57/8946 [00:46<1:31:20,  1.62it/s]"
          ]
        },
        {
          "output_type": "stream",
          "name": "stdout",
          "text": [
            "torch.Size([1, 7, 197])\n",
            "torch.Size([1, 8, 197])\n",
            "torch.Size([1, 9, 197])\n",
            "torch.Size([1, 10, 197])\n",
            "\n",
            " file name:  000000283382 \\caption:  a kitchen with a sink and a sink \n",
            "torch.Size([1, 1, 197])\n",
            "torch.Size([1, 2, 197])\n",
            "torch.Size([1, 3, 197])\n",
            "torch.Size([1, 4, 197])\n",
            "torch.Size([1, 5, 197])\n",
            "torch.Size([1, 6, 197])\n",
            "torch.Size([1, 7, 197])\n",
            "torch.Size([1, 8, 197])\n",
            "torch.Size([1, 9, 197])\n",
            "torch.Size([1, 10, 197])\n",
            "torch.Size([1, 11, 197])\n",
            "torch.Size([1, 12, 197])\n",
            "torch.Size([1, 13, 197])\n"
          ]
        },
        {
          "output_type": "stream",
          "name": "stderr",
          "text": [
            "\r  1%|          | 58/8946 [00:46<1:37:42,  1.52it/s]"
          ]
        },
        {
          "output_type": "stream",
          "name": "stdout",
          "text": [
            "torch.Size([1, 14, 197])\n",
            "\n",
            " file name:  000000293304 \\caption:  a kitchen with a lot of space and a lot of things \n",
            "torch.Size([1, 1, 197])\n",
            "torch.Size([1, 2, 197])\n",
            "torch.Size([1, 3, 197])\n",
            "torch.Size([1, 4, 197])\n",
            "torch.Size([1, 5, 197])\n",
            "torch.Size([1, 6, 197])\n",
            "torch.Size([1, 7, 197])\n"
          ]
        },
        {
          "output_type": "stream",
          "name": "stderr",
          "text": [
            "\r  1%|          | 59/8946 [00:47<1:34:40,  1.56it/s]"
          ]
        },
        {
          "output_type": "stream",
          "name": "stdout",
          "text": [
            "torch.Size([1, 8, 197])\n",
            "torch.Size([1, 9, 197])\n",
            "torch.Size([1, 10, 197])\n",
            "torch.Size([1, 11, 197])\n",
            "\n",
            " file name:  000000203618 \\caption:  a pile of fruit arranged together on a table.\n",
            "torch.Size([1, 1, 197])\n",
            "torch.Size([1, 2, 197])\n",
            "torch.Size([1, 3, 197])\n",
            "torch.Size([1, 4, 197])\n",
            "torch.Size([1, 5, 197])\n",
            "torch.Size([1, 6, 197])\n",
            "torch.Size([1, 7, 197])\n",
            "torch.Size([1, 8, 197])\n",
            "torch.Size([1, 9, 197])\n"
          ]
        },
        {
          "output_type": "stream",
          "name": "stderr",
          "text": [
            "\r  1%|          | 60/8946 [00:48<1:37:51,  1.51it/s]"
          ]
        },
        {
          "output_type": "stream",
          "name": "stdout",
          "text": [
            "torch.Size([1, 10, 197])\n",
            "torch.Size([1, 11, 197])\n",
            "torch.Size([1, 12, 197])\n",
            "torch.Size([1, 13, 197])\n",
            "\n",
            " file name:  000000373218 \\caption:  a bear that is standing in a field with some trees.\n",
            "torch.Size([1, 1, 197])\n",
            "torch.Size([1, 2, 197])\n",
            "torch.Size([1, 3, 197])\n",
            "torch.Size([1, 4, 197])\n",
            "torch.Size([1, 5, 197])\n",
            "torch.Size([1, 6, 197])\n",
            "torch.Size([1, 7, 197])\n",
            "torch.Size([1, 8, 197])\n",
            "torch.Size([1, 9, 197])\n"
          ]
        },
        {
          "output_type": "stream",
          "name": "stderr",
          "text": [
            "\r  1%|          | 61/8946 [00:48<1:37:29,  1.52it/s]"
          ]
        },
        {
          "output_type": "stream",
          "name": "stdout",
          "text": [
            "torch.Size([1, 10, 197])\n",
            "torch.Size([1, 11, 197])\n",
            "torch.Size([1, 12, 197])\n",
            "\n",
            " file name:  000000324455 \\caption:   a man is holding a skateboard and a yellow truck\n",
            "torch.Size([1, 1, 197])\n",
            "torch.Size([1, 2, 197])\n",
            "torch.Size([1, 3, 197])\n",
            "torch.Size([1, 4, 197])\n",
            "torch.Size([1, 5, 197])\n",
            "torch.Size([1, 6, 197])\n",
            "torch.Size([1, 7, 197])\n",
            "torch.Size([1, 8, 197])\n",
            "torch.Size([1, 9, 197])\n"
          ]
        },
        {
          "output_type": "stream",
          "name": "stderr",
          "text": [
            "\r  1%|          | 62/8946 [00:49<1:39:36,  1.49it/s]"
          ]
        },
        {
          "output_type": "stream",
          "name": "stdout",
          "text": [
            "torch.Size([1, 10, 197])\n",
            "torch.Size([1, 11, 197])\n",
            "torch.Size([1, 12, 197])\n",
            "torch.Size([1, 13, 197])\n",
            "\n",
            " file name:  000000022478 \\caption:  a room with a couch, television, and a television.\n",
            "torch.Size([1, 1, 197])\n",
            "torch.Size([1, 2, 197])\n",
            "torch.Size([1, 3, 197])\n",
            "torch.Size([1, 4, 197])\n",
            "torch.Size([1, 5, 197])\n",
            "torch.Size([1, 6, 197])\n",
            "torch.Size([1, 7, 197])\n",
            "torch.Size([1, 8, 197])\n",
            "torch.Size([1, 9, 197])\n"
          ]
        },
        {
          "output_type": "stream",
          "name": "stderr",
          "text": [
            "\r  1%|          | 63/8946 [00:50<1:38:39,  1.50it/s]"
          ]
        },
        {
          "output_type": "stream",
          "name": "stdout",
          "text": [
            "torch.Size([1, 10, 197])\n",
            "torch.Size([1, 11, 197])\n",
            "torch.Size([1, 12, 197])\n",
            "\n",
            " file name:  000000405334 \\caption:  a pizza with cheese and cheese toppings on it.\n",
            "torch.Size([1, 1, 197])\n",
            "torch.Size([1, 2, 197])\n",
            "torch.Size([1, 3, 197])\n",
            "torch.Size([1, 4, 197])\n",
            "torch.Size([1, 5, 197])\n",
            "torch.Size([1, 6, 197])\n",
            "torch.Size([1, 7, 197])\n",
            "torch.Size([1, 8, 197])\n",
            "torch.Size([1, 9, 197])\n",
            "torch.Size([1, 10, 197])\n",
            "torch.Size([1, 11, 197])\n",
            "torch.Size([1, 12, 197])\n",
            "torch.Size([1, 13, 197])\n"
          ]
        },
        {
          "output_type": "stream",
          "name": "stderr",
          "text": [
            "\r  1%|          | 64/8946 [00:51<1:45:33,  1.40it/s]"
          ]
        },
        {
          "output_type": "stream",
          "name": "stdout",
          "text": [
            "torch.Size([1, 14, 197])\n",
            "torch.Size([1, 15, 197])\n",
            "\n",
            " file name:  000000564314 \\caption:  a horse drawn with a blanket is seen as a man rides it.\n",
            "torch.Size([1, 1, 197])\n",
            "torch.Size([1, 2, 197])\n",
            "torch.Size([1, 3, 197])\n",
            "torch.Size([1, 4, 197])\n",
            "torch.Size([1, 5, 197])\n",
            "torch.Size([1, 6, 197])\n"
          ]
        },
        {
          "output_type": "stream",
          "name": "stderr",
          "text": [
            "\r  1%|          | 65/8946 [00:51<1:38:02,  1.51it/s]"
          ]
        },
        {
          "output_type": "stream",
          "name": "stdout",
          "text": [
            "torch.Size([1, 7, 197])\n",
            "torch.Size([1, 8, 197])\n",
            "torch.Size([1, 9, 197])\n",
            "torch.Size([1, 10, 197])\n",
            "\n",
            " file name:  4510789820 \\caption:   people walk on a street in a city .\n",
            "torch.Size([1, 1, 197])\n",
            "torch.Size([1, 2, 197])\n",
            "torch.Size([1, 3, 197])\n",
            "torch.Size([1, 4, 197])\n",
            "torch.Size([1, 5, 197])\n",
            "torch.Size([1, 6, 197])\n",
            "torch.Size([1, 7, 197])\n",
            "torch.Size([1, 8, 197])\n",
            "torch.Size([1, 9, 197])\n",
            "torch.Size([1, 10, 197])\n",
            "torch.Size([1, 11, 197])\n",
            "torch.Size([1, 12, 197])\n",
            "torch.Size([1, 13, 197])\n"
          ]
        },
        {
          "output_type": "stream",
          "name": "stderr",
          "text": [
            "\r  1%|          | 66/8946 [00:52<1:45:01,  1.41it/s]"
          ]
        },
        {
          "output_type": "stream",
          "name": "stdout",
          "text": [
            "torch.Size([1, 14, 197])\n",
            "torch.Size([1, 15, 197])\n",
            "\n",
            " file name:  4589027891 \\caption:   a man in a suit and a suit is walking down the street .\n",
            "torch.Size([1, 1, 197])\n",
            "torch.Size([1, 2, 197])\n",
            "torch.Size([1, 3, 197])\n",
            "torch.Size([1, 4, 197])\n",
            "torch.Size([1, 5, 197])\n",
            "torch.Size([1, 6, 197])\n",
            "torch.Size([1, 7, 197])\n",
            "torch.Size([1, 8, 197])\n",
            "torch.Size([1, 9, 197])\n",
            "torch.Size([1, 10, 197])\n",
            "torch.Size([1, 11, 197])\n",
            "torch.Size([1, 12, 197])\n",
            "torch.Size([1, 13, 197])\n",
            "torch.Size([1, 14, 197])\n"
          ]
        },
        {
          "output_type": "stream",
          "name": "stderr",
          "text": [
            "\r  1%|          | 67/8946 [00:53<1:50:41,  1.34it/s]"
          ]
        },
        {
          "output_type": "stream",
          "name": "stdout",
          "text": [
            "torch.Size([1, 15, 197])\n",
            "\n",
            " file name:  14264287 \\caption:  a young boy is sitting at a sink in front of a sink.\n",
            "torch.Size([1, 1, 197])\n",
            "torch.Size([1, 2, 197])\n",
            "torch.Size([1, 3, 197])\n",
            "torch.Size([1, 4, 197])\n",
            "torch.Size([1, 5, 197])\n",
            "torch.Size([1, 6, 197])\n",
            "torch.Size([1, 7, 197])\n",
            "torch.Size([1, 8, 197])\n",
            "torch.Size([1, 9, 197])\n",
            "torch.Size([1, 10, 197])\n",
            "torch.Size([1, 11, 197])\n"
          ]
        },
        {
          "output_type": "stream",
          "name": "stderr",
          "text": [
            "\r  1%|          | 68/8946 [00:54<1:51:40,  1.32it/s]"
          ]
        },
        {
          "output_type": "stream",
          "name": "stdout",
          "text": [
            "torch.Size([1, 12, 197])\n",
            "torch.Size([1, 13, 197])\n",
            "torch.Size([1, 14, 197])\n",
            "\n",
            " file name:  000000164810 \\caption:  a person is skateboarding on a skate board in a park.\n",
            "torch.Size([1, 1, 197])\n",
            "torch.Size([1, 2, 197])\n",
            "torch.Size([1, 3, 197])\n",
            "torch.Size([1, 4, 197])\n",
            "torch.Size([1, 5, 197])\n",
            "torch.Size([1, 6, 197])\n",
            "torch.Size([1, 7, 197])\n",
            "torch.Size([1, 8, 197])\n",
            "torch.Size([1, 9, 197])\n"
          ]
        },
        {
          "output_type": "stream",
          "name": "stderr",
          "text": [
            "\r  1%|          | 69/8946 [00:54<1:47:44,  1.37it/s]"
          ]
        },
        {
          "output_type": "stream",
          "name": "stdout",
          "text": [
            "torch.Size([1, 10, 197])\n",
            "torch.Size([1, 11, 197])\n",
            "torch.Size([1, 12, 197])\n",
            "\n",
            " file name:  000000197408 \\caption:  a view of a window that has a clock on it\n",
            "torch.Size([1, 1, 197])\n",
            "torch.Size([1, 2, 197])\n",
            "torch.Size([1, 3, 197])\n",
            "torch.Size([1, 4, 197])\n",
            "torch.Size([1, 5, 197])\n",
            "torch.Size([1, 6, 197])\n",
            "torch.Size([1, 7, 197])\n",
            "torch.Size([1, 8, 197])\n",
            "torch.Size([1, 9, 197])\n",
            "torch.Size([1, 10, 197])\n",
            "torch.Size([1, 11, 197])\n",
            "torch.Size([1, 12, 197])\n",
            "torch.Size([1, 13, 197])\n"
          ]
        },
        {
          "output_type": "stream",
          "name": "stderr",
          "text": [
            "\r  1%|          | 70/8946 [00:55<1:49:52,  1.35it/s]"
          ]
        },
        {
          "output_type": "stream",
          "name": "stdout",
          "text": [
            "torch.Size([1, 14, 197])\n",
            "\n",
            " file name:  4878818161 \\caption:   a man is walking on a street with a man behind him .\n",
            "torch.Size([1, 1, 197])\n",
            "torch.Size([1, 2, 197])\n",
            "torch.Size([1, 3, 197])\n",
            "torch.Size([1, 4, 197])\n",
            "torch.Size([1, 5, 197])\n",
            "torch.Size([1, 6, 197])\n",
            "torch.Size([1, 7, 197])\n",
            "torch.Size([1, 8, 197])\n",
            "torch.Size([1, 9, 197])\n",
            "torch.Size([1, 10, 197])\n",
            "torch.Size([1, 11, 197])\n"
          ]
        },
        {
          "output_type": "stream",
          "name": "stderr",
          "text": [
            "\r  1%|          | 71/8946 [00:56<1:51:03,  1.33it/s]"
          ]
        },
        {
          "output_type": "stream",
          "name": "stdout",
          "text": [
            "torch.Size([1, 12, 197])\n",
            "torch.Size([1, 13, 197])\n",
            "torch.Size([1, 14, 197])\n",
            "\n",
            " file name:  000000339815 \\caption:  a dinner is sitting on a table with a dish of food.\n",
            "torch.Size([1, 1, 197])\n",
            "torch.Size([1, 2, 197])\n",
            "torch.Size([1, 3, 197])\n",
            "torch.Size([1, 4, 197])\n",
            "torch.Size([1, 5, 197])\n",
            "torch.Size([1, 6, 197])\n",
            "torch.Size([1, 7, 197])\n",
            "torch.Size([1, 8, 197])\n",
            "torch.Size([1, 9, 197])\n"
          ]
        },
        {
          "output_type": "stream",
          "name": "stderr",
          "text": [
            "\r  1%|          | 72/8946 [00:57<1:49:27,  1.35it/s]"
          ]
        },
        {
          "output_type": "stream",
          "name": "stdout",
          "text": [
            "torch.Size([1, 10, 197])\n",
            "torch.Size([1, 11, 197])\n",
            "torch.Size([1, 12, 197])\n",
            "torch.Size([1, 13, 197])\n",
            "\n",
            " file name:  000000580238 \\caption:  a man is on a bench that is filled with people.\n",
            "torch.Size([1, 1, 197])\n",
            "torch.Size([1, 2, 197])\n",
            "torch.Size([1, 3, 197])\n",
            "torch.Size([1, 4, 197])\n",
            "torch.Size([1, 5, 197])\n",
            "torch.Size([1, 6, 197])\n",
            "torch.Size([1, 7, 197])\n",
            "torch.Size([1, 8, 197])\n",
            "torch.Size([1, 9, 197])\n",
            "torch.Size([1, 10, 197])\n",
            "torch.Size([1, 11, 197])\n",
            "torch.Size([1, 12, 197])\n"
          ]
        },
        {
          "output_type": "stream",
          "name": "stderr",
          "text": [
            "\r  1%|          | 73/8946 [00:57<1:51:16,  1.33it/s]"
          ]
        },
        {
          "output_type": "stream",
          "name": "stdout",
          "text": [
            "torch.Size([1, 13, 197])\n",
            "torch.Size([1, 14, 197])\n",
            "\n",
            " file name:  000000252617 \\caption:  a cat that is sitting on a table next to a mirror.\n",
            "torch.Size([1, 1, 197])\n",
            "torch.Size([1, 2, 197])\n",
            "torch.Size([1, 3, 197])\n",
            "torch.Size([1, 4, 197])\n",
            "torch.Size([1, 5, 197])\n",
            "torch.Size([1, 6, 197])\n"
          ]
        },
        {
          "output_type": "stream",
          "name": "stderr",
          "text": [
            "\r  1%|          | 74/8946 [00:58<1:42:55,  1.44it/s]"
          ]
        },
        {
          "output_type": "stream",
          "name": "stdout",
          "text": [
            "torch.Size([1, 7, 197])\n",
            "torch.Size([1, 8, 197])\n",
            "torch.Size([1, 9, 197])\n",
            "torch.Size([1, 10, 197])\n",
            "\n",
            " file name:  000000234749 \\caption:  a plate of food with vegetables and vegetables.\n",
            "torch.Size([1, 1, 197])\n",
            "torch.Size([1, 2, 197])\n",
            "torch.Size([1, 3, 197])\n",
            "torch.Size([1, 4, 197])\n",
            "torch.Size([1, 5, 197])\n",
            "torch.Size([1, 6, 197])\n",
            "torch.Size([1, 7, 197])\n",
            "torch.Size([1, 8, 197])\n",
            "torch.Size([1, 9, 197])\n",
            "torch.Size([1, 10, 197])\n",
            "torch.Size([1, 11, 197])\n",
            "torch.Size([1, 12, 197])\n",
            "torch.Size([1, 13, 197])\n"
          ]
        },
        {
          "output_type": "stream",
          "name": "stderr",
          "text": [
            "\r  1%|          | 75/8946 [00:59<1:54:29,  1.29it/s]"
          ]
        },
        {
          "output_type": "stream",
          "name": "stdout",
          "text": [
            "torch.Size([1, 14, 197])\n",
            "torch.Size([1, 15, 197])\n",
            "torch.Size([1, 16, 197])\n",
            "torch.Size([1, 17, 197])\n",
            "\n",
            " file name:  000000006393 \\caption:  a woman with a large pair of silver horses is looking into a large mirror.\n",
            "torch.Size([1, 1, 197])\n",
            "torch.Size([1, 2, 197])\n",
            "torch.Size([1, 3, 197])\n",
            "torch.Size([1, 4, 197])\n",
            "torch.Size([1, 5, 197])\n",
            "torch.Size([1, 6, 197])\n",
            "torch.Size([1, 7, 197])\n",
            "torch.Size([1, 8, 197])\n",
            "torch.Size([1, 9, 197])\n",
            "torch.Size([1, 10, 197])\n",
            "torch.Size([1, 11, 197])\n",
            "torch.Size([1, 12, 197])\n",
            "torch.Size([1, 13, 197])\n"
          ]
        },
        {
          "output_type": "stream",
          "name": "stderr",
          "text": [
            "\r  1%|          | 76/8946 [01:00<1:54:28,  1.29it/s]"
          ]
        },
        {
          "output_type": "stream",
          "name": "stdout",
          "text": [
            "torch.Size([1, 14, 197])\n",
            "\n",
            " file name:  000000264909 \\caption:  a sheep stands on a hillside with a stone behind it.\n",
            "torch.Size([1, 1, 197])\n",
            "torch.Size([1, 2, 197])\n",
            "torch.Size([1, 3, 197])\n",
            "torch.Size([1, 4, 197])\n",
            "torch.Size([1, 5, 197])\n",
            "torch.Size([1, 6, 197])\n",
            "torch.Size([1, 7, 197])\n"
          ]
        },
        {
          "output_type": "stream",
          "name": "stderr",
          "text": [
            "\r  1%|          | 77/8946 [01:00<1:47:01,  1.38it/s]"
          ]
        },
        {
          "output_type": "stream",
          "name": "stdout",
          "text": [
            "torch.Size([1, 8, 197])\n",
            "torch.Size([1, 9, 197])\n",
            "torch.Size([1, 10, 197])\n",
            "torch.Size([1, 11, 197])\n",
            "\n",
            " file name:  000000370819 \\caption:  a close up of a pot filled with plants.\n",
            "torch.Size([1, 1, 197])\n",
            "torch.Size([1, 2, 197])\n",
            "torch.Size([1, 3, 197])\n",
            "torch.Size([1, 4, 197])\n",
            "torch.Size([1, 5, 197])\n",
            "torch.Size([1, 6, 197])\n",
            "torch.Size([1, 7, 197])\n",
            "torch.Size([1, 8, 197])\n",
            "torch.Size([1, 9, 197])\n"
          ]
        },
        {
          "output_type": "stream",
          "name": "stderr",
          "text": [
            "\r  1%|          | 78/8946 [01:01<1:44:21,  1.42it/s]"
          ]
        },
        {
          "output_type": "stream",
          "name": "stdout",
          "text": [
            "torch.Size([1, 10, 197])\n",
            "torch.Size([1, 11, 197])\n",
            "torch.Size([1, 12, 197])\n",
            "\n",
            " file name:  000000016520 \\caption:  a sheep is standing in the middle of the grass.\n",
            "torch.Size([1, 1, 197])\n",
            "torch.Size([1, 2, 197])\n",
            "torch.Size([1, 3, 197])\n",
            "torch.Size([1, 4, 197])\n",
            "torch.Size([1, 5, 197])\n",
            "torch.Size([1, 6, 197])\n",
            "torch.Size([1, 7, 197])\n",
            "torch.Size([1, 8, 197])\n",
            "torch.Size([1, 9, 197])\n",
            "torch.Size([1, 10, 197])\n",
            "torch.Size([1, 11, 197])\n",
            "torch.Size([1, 12, 197])\n",
            "torch.Size([1, 13, 197])\n"
          ]
        },
        {
          "output_type": "stream",
          "name": "stderr",
          "text": [
            "\r  1%|          | 79/8946 [01:02<1:52:04,  1.32it/s]"
          ]
        },
        {
          "output_type": "stream",
          "name": "stdout",
          "text": [
            "torch.Size([1, 14, 197])\n",
            "torch.Size([1, 15, 197])\n",
            "torch.Size([1, 16, 197])\n",
            "\n",
            " file name:  000000171353 \\caption:  a man standing next to a kitchen counter with a bunch of fresh foods.\n",
            "torch.Size([1, 1, 197])\n",
            "torch.Size([1, 2, 197])\n",
            "torch.Size([1, 3, 197])\n",
            "torch.Size([1, 4, 197])\n",
            "torch.Size([1, 5, 197])\n",
            "torch.Size([1, 6, 197])\n",
            "torch.Size([1, 7, 197])\n",
            "torch.Size([1, 8, 197])\n",
            "torch.Size([1, 9, 197])\n",
            "torch.Size([1, 10, 197])\n",
            "torch.Size([1, 11, 197])\n",
            "torch.Size([1, 12, 197])\n",
            "torch.Size([1, 13, 197])\n"
          ]
        },
        {
          "output_type": "stream",
          "name": "stderr",
          "text": [
            "\r  1%|          | 80/8946 [01:03<1:55:14,  1.28it/s]"
          ]
        },
        {
          "output_type": "stream",
          "name": "stdout",
          "text": [
            "torch.Size([1, 14, 197])\n",
            "torch.Size([1, 15, 197])\n",
            "\n",
            " file name:  000000342387 \\caption:  a man in a kitchen preparing food for a customer in a kitchen.\n",
            "torch.Size([1, 1, 197])\n",
            "torch.Size([1, 2, 197])\n",
            "torch.Size([1, 3, 197])\n",
            "torch.Size([1, 4, 197])\n",
            "torch.Size([1, 5, 197])\n",
            "torch.Size([1, 6, 197])\n",
            "torch.Size([1, 7, 197])\n",
            "torch.Size([1, 8, 197])\n",
            "torch.Size([1, 9, 197])\n",
            "torch.Size([1, 10, 197])\n",
            "torch.Size([1, 11, 197])\n",
            "torch.Size([1, 12, 197])\n",
            "torch.Size([1, 13, 197])\n",
            "torch.Size([1, 14, 197])\n"
          ]
        },
        {
          "output_type": "stream",
          "name": "stderr",
          "text": [
            "\r  1%|          | 81/8946 [01:03<1:57:32,  1.26it/s]"
          ]
        },
        {
          "output_type": "stream",
          "name": "stdout",
          "text": [
            "torch.Size([1, 15, 197])\n",
            "\n",
            " file name:  000000151432 \\caption:  a bird standing on a beach with a wave of water behind it.\n",
            "torch.Size([1, 1, 197])\n",
            "torch.Size([1, 2, 197])\n",
            "torch.Size([1, 3, 197])\n",
            "torch.Size([1, 4, 197])\n",
            "torch.Size([1, 5, 197])\n",
            "torch.Size([1, 6, 197])\n",
            "torch.Size([1, 7, 197])\n",
            "torch.Size([1, 8, 197])\n",
            "torch.Size([1, 9, 197])\n",
            "torch.Size([1, 10, 197])\n",
            "torch.Size([1, 11, 197])\n"
          ]
        },
        {
          "output_type": "stream",
          "name": "stderr",
          "text": [
            "\r  1%|          | 82/8946 [01:04<1:59:03,  1.24it/s]"
          ]
        },
        {
          "output_type": "stream",
          "name": "stdout",
          "text": [
            "torch.Size([1, 12, 197])\n",
            "torch.Size([1, 13, 197])\n",
            "torch.Size([1, 14, 197])\n",
            "torch.Size([1, 15, 197])\n",
            "\n",
            " file name:  000000461883 \\caption:  a man is holding a tennis racket on top of a tennis court.\n",
            "torch.Size([1, 1, 197])\n",
            "torch.Size([1, 2, 197])\n",
            "torch.Size([1, 3, 197])\n",
            "torch.Size([1, 4, 197])\n",
            "torch.Size([1, 5, 197])\n",
            "torch.Size([1, 6, 197])\n",
            "torch.Size([1, 7, 197])\n",
            "torch.Size([1, 8, 197])\n",
            "torch.Size([1, 9, 197])\n",
            "torch.Size([1, 10, 197])\n",
            "torch.Size([1, 11, 197])\n",
            "torch.Size([1, 12, 197])\n",
            "torch.Size([1, 13, 197])\n",
            "torch.Size([1, 14, 197])\n",
            "torch.Size([1, 15, 197])\n",
            "torch.Size([1, 16, 197])\n"
          ]
        },
        {
          "output_type": "stream",
          "name": "stderr",
          "text": [
            "\r  1%|          | 83/8946 [01:05<2:07:34,  1.16it/s]"
          ]
        },
        {
          "output_type": "stream",
          "name": "stdout",
          "text": [
            "torch.Size([1, 17, 197])\n",
            "torch.Size([1, 18, 197])\n",
            "\n",
            " file name:  409001107 \\caption:   a man in a white shirt is sitting on a street with a cat watching him .\n",
            "torch.Size([1, 1, 197])\n",
            "torch.Size([1, 2, 197])\n",
            "torch.Size([1, 3, 197])\n",
            "torch.Size([1, 4, 197])\n",
            "torch.Size([1, 5, 197])\n",
            "torch.Size([1, 6, 197])\n",
            "torch.Size([1, 7, 197])\n",
            "torch.Size([1, 8, 197])\n",
            "torch.Size([1, 9, 197])\n",
            "torch.Size([1, 10, 197])\n"
          ]
        },
        {
          "output_type": "stream",
          "name": "stderr",
          "text": [
            "\r  1%|          | 84/8946 [01:06<2:01:11,  1.22it/s]"
          ]
        },
        {
          "output_type": "stream",
          "name": "stdout",
          "text": [
            "torch.Size([1, 11, 197])\n",
            "torch.Size([1, 12, 197])\n",
            "torch.Size([1, 13, 197])\n",
            "\n",
            " file name:  000000366421 \\caption:  a small bed with a guitar and a guitar on it.\n",
            "torch.Size([1, 1, 197])\n",
            "torch.Size([1, 2, 197])\n",
            "torch.Size([1, 3, 197])\n",
            "torch.Size([1, 4, 197])\n",
            "torch.Size([1, 5, 197])\n",
            "torch.Size([1, 6, 197])\n",
            "torch.Size([1, 7, 197])\n",
            "torch.Size([1, 8, 197])\n",
            "torch.Size([1, 9, 197])\n",
            "torch.Size([1, 10, 197])\n",
            "torch.Size([1, 11, 197])\n",
            "torch.Size([1, 12, 197])\n",
            "torch.Size([1, 13, 197])\n"
          ]
        },
        {
          "output_type": "stream",
          "name": "stderr",
          "text": [
            "\r  1%|          | 85/8946 [01:07<2:04:06,  1.19it/s]"
          ]
        },
        {
          "output_type": "stream",
          "name": "stdout",
          "text": [
            "torch.Size([1, 14, 197])\n",
            "torch.Size([1, 15, 197])\n",
            "torch.Size([1, 16, 197])\n",
            "\n",
            " file name:  000000042055 \\caption:  a bunch of tables with colorful umbrellas in front of a store.\n",
            "torch.Size([1, 1, 197])\n",
            "torch.Size([1, 2, 197])\n",
            "torch.Size([1, 3, 197])\n",
            "torch.Size([1, 4, 197])\n",
            "torch.Size([1, 5, 197])\n",
            "torch.Size([1, 6, 197])\n",
            "torch.Size([1, 7, 197])\n",
            "torch.Size([1, 8, 197])\n",
            "torch.Size([1, 9, 197])\n"
          ]
        },
        {
          "output_type": "stream",
          "name": "stderr",
          "text": [
            "\r  1%|          | 86/8946 [01:08<1:56:27,  1.27it/s]"
          ]
        },
        {
          "output_type": "stream",
          "name": "stdout",
          "text": [
            "torch.Size([1, 10, 197])\n",
            "torch.Size([1, 11, 197])\n",
            "torch.Size([1, 12, 197])\n",
            "\n",
            " file name:  000000248956 \\caption:  a skateboarder performs a trick on a ramp.\n",
            "torch.Size([1, 1, 197])\n",
            "torch.Size([1, 2, 197])\n",
            "torch.Size([1, 3, 197])\n",
            "torch.Size([1, 4, 197])\n",
            "torch.Size([1, 5, 197])\n",
            "torch.Size([1, 6, 197])\n",
            "torch.Size([1, 7, 197])\n",
            "torch.Size([1, 8, 197])\n",
            "torch.Size([1, 9, 197])\n"
          ]
        },
        {
          "output_type": "stream",
          "name": "stderr",
          "text": [
            "\r  1%|          | 87/8946 [01:08<1:53:20,  1.30it/s]"
          ]
        },
        {
          "output_type": "stream",
          "name": "stdout",
          "text": [
            "torch.Size([1, 10, 197])\n",
            "torch.Size([1, 11, 197])\n",
            "torch.Size([1, 12, 197])\n",
            "torch.Size([1, 13, 197])\n",
            "\n",
            " file name:  000000032176 \\caption:  a vase with flowers in it is holding a flower.\n",
            "torch.Size([1, 1, 197])\n",
            "torch.Size([1, 2, 197])\n",
            "torch.Size([1, 3, 197])\n",
            "torch.Size([1, 4, 197])\n",
            "torch.Size([1, 5, 197])\n",
            "torch.Size([1, 6, 197])\n",
            "torch.Size([1, 7, 197])\n",
            "torch.Size([1, 8, 197])\n",
            "torch.Size([1, 9, 197])\n",
            "torch.Size([1, 10, 197])\n",
            "torch.Size([1, 11, 197])\n",
            "torch.Size([1, 12, 197])\n",
            "torch.Size([1, 13, 197])\n"
          ]
        },
        {
          "output_type": "stream",
          "name": "stderr",
          "text": [
            "\r  1%|          | 88/8946 [01:09<1:56:21,  1.27it/s]"
          ]
        },
        {
          "output_type": "stream",
          "name": "stdout",
          "text": [
            "torch.Size([1, 14, 197])\n",
            "torch.Size([1, 15, 197])\n",
            "\n",
            " file name:  000000266041 \\caption:   a man in a black shirt is holding a basketball and a basketball .\n",
            "torch.Size([1, 1, 197])\n",
            "torch.Size([1, 2, 197])\n",
            "torch.Size([1, 3, 197])\n",
            "torch.Size([1, 4, 197])\n",
            "torch.Size([1, 5, 197])\n",
            "torch.Size([1, 6, 197])\n",
            "torch.Size([1, 7, 197])\n",
            "torch.Size([1, 8, 197])\n",
            "torch.Size([1, 9, 197])\n",
            "torch.Size([1, 10, 197])\n"
          ]
        },
        {
          "output_type": "stream",
          "name": "stderr",
          "text": [
            "\r  1%|          | 89/8946 [01:10<1:51:09,  1.33it/s]"
          ]
        },
        {
          "output_type": "stream",
          "name": "stdout",
          "text": [
            "torch.Size([1, 11, 197])\n",
            "torch.Size([1, 12, 197])\n",
            "\n",
            " file name:  000000138022 \\caption:  a van is parked on the side of a street.\n",
            "torch.Size([1, 1, 197])\n",
            "torch.Size([1, 2, 197])\n",
            "torch.Size([1, 3, 197])\n",
            "torch.Size([1, 4, 197])\n",
            "torch.Size([1, 5, 197])\n",
            "torch.Size([1, 6, 197])\n",
            "torch.Size([1, 7, 197])\n",
            "torch.Size([1, 8, 197])\n",
            "torch.Size([1, 9, 197])\n",
            "torch.Size([1, 10, 197])\n"
          ]
        },
        {
          "output_type": "stream",
          "name": "stderr",
          "text": [
            "\r  1%|          | 90/8946 [01:10<1:44:48,  1.41it/s]"
          ]
        },
        {
          "output_type": "stream",
          "name": "stdout",
          "text": [
            "torch.Size([1, 11, 197])\n",
            "\n",
            " file name:  000000207142 \\caption:  a close up of a banana and some bananas.\n",
            "torch.Size([1, 1, 197])\n",
            "torch.Size([1, 2, 197])\n",
            "torch.Size([1, 3, 197])\n",
            "torch.Size([1, 4, 197])\n",
            "torch.Size([1, 5, 197])\n",
            "torch.Size([1, 6, 197])\n",
            "torch.Size([1, 7, 197])\n"
          ]
        },
        {
          "output_type": "stream",
          "name": "stderr",
          "text": [
            "\r  1%|          | 91/8946 [01:11<1:40:37,  1.47it/s]"
          ]
        },
        {
          "output_type": "stream",
          "name": "stdout",
          "text": [
            "torch.Size([1, 8, 197])\n",
            "torch.Size([1, 9, 197])\n",
            "torch.Size([1, 10, 197])\n",
            "torch.Size([1, 11, 197])\n",
            "\n",
            " file name:  254169701 \\caption:   a group of people are playing volleyball on the beach\n",
            "torch.Size([1, 1, 197])\n",
            "torch.Size([1, 2, 197])\n",
            "torch.Size([1, 3, 197])\n",
            "torch.Size([1, 4, 197])\n",
            "torch.Size([1, 5, 197])\n",
            "torch.Size([1, 6, 197])\n",
            "torch.Size([1, 7, 197])\n",
            "torch.Size([1, 8, 197])\n",
            "torch.Size([1, 9, 197])\n",
            "torch.Size([1, 10, 197])\n",
            "torch.Size([1, 11, 197])\n",
            "torch.Size([1, 12, 197])\n",
            "torch.Size([1, 13, 197])\n"
          ]
        },
        {
          "output_type": "stream",
          "name": "stderr",
          "text": [
            "\r  1%|          | 92/8946 [01:12<1:47:42,  1.37it/s]"
          ]
        },
        {
          "output_type": "stream",
          "name": "stdout",
          "text": [
            "torch.Size([1, 14, 197])\n",
            "torch.Size([1, 15, 197])\n",
            "\n",
            " file name:  000000528047 \\caption:   a man in a white shirt plays a game of frisbee.\n",
            "torch.Size([1, 1, 197])\n",
            "torch.Size([1, 2, 197])\n",
            "torch.Size([1, 3, 197])\n",
            "torch.Size([1, 4, 197])\n",
            "torch.Size([1, 5, 197])\n",
            "torch.Size([1, 6, 197])\n",
            "torch.Size([1, 7, 197])\n",
            "torch.Size([1, 8, 197])\n",
            "torch.Size([1, 9, 197])\n",
            "torch.Size([1, 10, 197])\n"
          ]
        },
        {
          "output_type": "stream",
          "name": "stderr",
          "text": [
            "\r  1%|          | 93/8946 [01:12<1:43:10,  1.43it/s]"
          ]
        },
        {
          "output_type": "stream",
          "name": "stdout",
          "text": [
            "torch.Size([1, 11, 197])\n",
            "\n",
            " file name:  000000203618 \\caption:  a pile of fruit arranged together on a table.\n",
            "torch.Size([1, 1, 197])\n",
            "torch.Size([1, 2, 197])\n",
            "torch.Size([1, 3, 197])\n",
            "torch.Size([1, 4, 197])\n",
            "torch.Size([1, 5, 197])\n",
            "torch.Size([1, 6, 197])\n",
            "torch.Size([1, 7, 197])\n",
            "torch.Size([1, 8, 197])\n",
            "torch.Size([1, 9, 197])\n",
            "torch.Size([1, 10, 197])\n",
            "torch.Size([1, 11, 197])\n"
          ]
        },
        {
          "output_type": "stream",
          "name": "stderr",
          "text": [
            "\r  1%|          | 94/8946 [01:13<1:42:06,  1.44it/s]"
          ]
        },
        {
          "output_type": "stream",
          "name": "stdout",
          "text": [
            "torch.Size([1, 12, 197])\n",
            "\n",
            " file name:  000000076081 \\caption:  a group of people sitting at a table with food.\n",
            "torch.Size([1, 1, 197])\n",
            "torch.Size([1, 2, 197])\n",
            "torch.Size([1, 3, 197])\n",
            "torch.Size([1, 4, 197])\n",
            "torch.Size([1, 5, 197])\n",
            "torch.Size([1, 6, 197])\n",
            "torch.Size([1, 7, 197])\n"
          ]
        },
        {
          "output_type": "stream",
          "name": "stderr",
          "text": [
            "\r  1%|          | 95/8946 [01:14<1:36:30,  1.53it/s]"
          ]
        },
        {
          "output_type": "stream",
          "name": "stdout",
          "text": [
            "torch.Size([1, 8, 197])\n",
            "torch.Size([1, 9, 197])\n",
            "torch.Size([1, 10, 197])\n",
            "\n",
            " file name:  3564148252 \\caption:  a man riding a motorcycle on a street.\n",
            "torch.Size([1, 1, 197])\n",
            "torch.Size([1, 2, 197])\n",
            "torch.Size([1, 3, 197])\n",
            "torch.Size([1, 4, 197])\n",
            "torch.Size([1, 5, 197])\n",
            "torch.Size([1, 6, 197])\n",
            "torch.Size([1, 7, 197])\n",
            "torch.Size([1, 8, 197])\n",
            "torch.Size([1, 9, 197])\n"
          ]
        },
        {
          "output_type": "stream",
          "name": "stderr",
          "text": [
            "\r  1%|          | 96/8946 [01:14<1:39:51,  1.48it/s]"
          ]
        },
        {
          "output_type": "stream",
          "name": "stdout",
          "text": [
            "torch.Size([1, 10, 197])\n",
            "torch.Size([1, 11, 197])\n",
            "torch.Size([1, 12, 197])\n",
            "torch.Size([1, 13, 197])\n",
            "\n",
            " file name:  000000552870 \\caption:  a sign sitting on a post in front of a house.\n",
            "torch.Size([1, 1, 197])\n",
            "torch.Size([1, 2, 197])\n",
            "torch.Size([1, 3, 197])\n",
            "torch.Size([1, 4, 197])\n",
            "torch.Size([1, 5, 197])\n",
            "torch.Size([1, 6, 197])\n",
            "torch.Size([1, 7, 197])\n",
            "torch.Size([1, 8, 197])\n",
            "torch.Size([1, 9, 197])\n",
            "torch.Size([1, 10, 197])\n",
            "torch.Size([1, 11, 197])\n",
            "torch.Size([1, 12, 197])\n"
          ]
        },
        {
          "output_type": "stream",
          "name": "stderr",
          "text": [
            "\r  1%|          | 97/8946 [01:15<1:44:47,  1.41it/s]"
          ]
        },
        {
          "output_type": "stream",
          "name": "stdout",
          "text": [
            "torch.Size([1, 13, 197])\n",
            "torch.Size([1, 14, 197])\n",
            "\n",
            " file name:  3643971203 \\caption:   two men are walking down the sidewalk in front of a building.\n",
            "torch.Size([1, 1, 197])\n",
            "torch.Size([1, 2, 197])\n",
            "torch.Size([1, 3, 197])\n",
            "torch.Size([1, 4, 197])\n",
            "torch.Size([1, 5, 197])\n",
            "torch.Size([1, 6, 197])\n",
            "torch.Size([1, 7, 197])\n",
            "torch.Size([1, 8, 197])\n",
            "torch.Size([1, 9, 197])\n",
            "torch.Size([1, 10, 197])\n",
            "torch.Size([1, 11, 197])\n",
            "torch.Size([1, 12, 197])\n",
            "torch.Size([1, 13, 197])\n",
            "torch.Size([1, 14, 197])\n"
          ]
        },
        {
          "output_type": "stream",
          "name": "stderr",
          "text": [
            "\r  1%|          | 98/8946 [01:16<1:50:39,  1.33it/s]"
          ]
        },
        {
          "output_type": "stream",
          "name": "stdout",
          "text": [
            "torch.Size([1, 15, 197])\n",
            "\n",
            " file name:  000000467646 \\caption:  a line of beach chairs are lined up in a row of water.\n",
            "torch.Size([1, 1, 197])\n",
            "torch.Size([1, 2, 197])\n",
            "torch.Size([1, 3, 197])\n",
            "torch.Size([1, 4, 197])\n",
            "torch.Size([1, 5, 197])\n",
            "torch.Size([1, 6, 197])\n",
            "torch.Size([1, 7, 197])\n",
            "torch.Size([1, 8, 197])\n",
            "torch.Size([1, 9, 197])\n",
            "torch.Size([1, 10, 197])\n",
            "torch.Size([1, 11, 197])\n",
            "torch.Size([1, 12, 197])\n",
            "torch.Size([1, 13, 197])\n",
            "torch.Size([1, 14, 197])\n",
            "torch.Size([1, 15, 197])\n"
          ]
        },
        {
          "output_type": "stream",
          "name": "stderr",
          "text": [
            "\r  1%|          | 99/8946 [01:17<1:57:53,  1.25it/s]"
          ]
        },
        {
          "output_type": "stream",
          "name": "stdout",
          "text": [
            "torch.Size([1, 16, 197])\n",
            "\n",
            " file name:  000000192079 \\caption:  a woman is making food in a kitchen while she sits in her hands.\n",
            "torch.Size([1, 1, 197])\n",
            "torch.Size([1, 2, 197])\n",
            "torch.Size([1, 3, 197])\n",
            "torch.Size([1, 4, 197])\n",
            "torch.Size([1, 5, 197])\n",
            "torch.Size([1, 6, 197])\n",
            "torch.Size([1, 7, 197])\n",
            "torch.Size([1, 8, 197])\n",
            "torch.Size([1, 9, 197])\n",
            "torch.Size([1, 10, 197])\n",
            "torch.Size([1, 11, 197])\n"
          ]
        },
        {
          "output_type": "stream",
          "name": "stderr",
          "text": [
            "\r  1%|          | 100/8946 [01:18<1:52:22,  1.31it/s]"
          ]
        },
        {
          "output_type": "stream",
          "name": "stdout",
          "text": [
            "torch.Size([1, 12, 197])\n",
            "\n",
            " file name:  000000419723 \\caption:  a fork and a fork are sitting on a plate.\n",
            "torch.Size([1, 1, 197])\n",
            "torch.Size([1, 2, 197])\n",
            "torch.Size([1, 3, 197])\n",
            "torch.Size([1, 4, 197])\n",
            "torch.Size([1, 5, 197])\n",
            "torch.Size([1, 6, 197])\n",
            "torch.Size([1, 7, 197])\n",
            "torch.Size([1, 8, 197])\n",
            "torch.Size([1, 9, 197])\n",
            "torch.Size([1, 10, 197])\n",
            "torch.Size([1, 11, 197])\n"
          ]
        },
        {
          "output_type": "stream",
          "name": "stderr",
          "text": [
            "\r  1%|          | 101/8946 [01:18<1:55:44,  1.27it/s]"
          ]
        },
        {
          "output_type": "stream",
          "name": "stdout",
          "text": [
            "torch.Size([1, 12, 197])\n",
            "torch.Size([1, 13, 197])\n",
            "torch.Size([1, 14, 197])\n",
            "torch.Size([1, 15, 197])\n",
            "\n",
            " file name:  000000342387 \\caption:  a man in a kitchen preparing food for a customer in a kitchen.\n",
            "torch.Size([1, 1, 197])\n",
            "torch.Size([1, 2, 197])\n",
            "torch.Size([1, 3, 197])\n",
            "torch.Size([1, 4, 197])\n",
            "torch.Size([1, 5, 197])\n",
            "torch.Size([1, 6, 197])\n",
            "torch.Size([1, 7, 197])\n",
            "torch.Size([1, 8, 197])\n",
            "torch.Size([1, 9, 197])\n",
            "torch.Size([1, 10, 197])\n",
            "torch.Size([1, 11, 197])\n",
            "torch.Size([1, 12, 197])\n"
          ]
        },
        {
          "output_type": "stream",
          "name": "stderr",
          "text": [
            "\r  1%|          | 102/8946 [01:19<1:55:48,  1.27it/s]"
          ]
        },
        {
          "output_type": "stream",
          "name": "stdout",
          "text": [
            "torch.Size([1, 13, 197])\n",
            "torch.Size([1, 14, 197])\n",
            "\n",
            " file name:  000000001999 \\caption:  a cat sitting on a table next to a bag of papers.\n",
            "torch.Size([1, 1, 197])\n",
            "torch.Size([1, 2, 197])\n",
            "torch.Size([1, 3, 197])\n",
            "torch.Size([1, 4, 197])\n",
            "torch.Size([1, 5, 197])\n",
            "torch.Size([1, 6, 197])\n",
            "torch.Size([1, 7, 197])\n",
            "torch.Size([1, 8, 197])\n",
            "torch.Size([1, 9, 197])\n",
            "torch.Size([1, 10, 197])\n",
            "torch.Size([1, 11, 197])\n",
            "torch.Size([1, 12, 197])\n",
            "torch.Size([1, 13, 197])\n",
            "torch.Size([1, 14, 197])\n",
            "torch.Size([1, 15, 197])\n",
            "torch.Size([1, 16, 197])\n",
            "torch.Size([1, 17, 197])\n",
            "torch.Size([1, 18, 197])\n",
            "torch.Size([1, 19, 197])\n",
            "torch.Size([1, 20, 197])\n",
            "torch.Size([1, 21, 197])\n",
            "torch.Size([1, 22, 197])\n"
          ]
        },
        {
          "output_type": "stream",
          "name": "stderr",
          "text": [
            "\r  1%|          | 103/8946 [01:21<2:18:18,  1.07it/s]"
          ]
        },
        {
          "output_type": "stream",
          "name": "stdout",
          "text": [
            "torch.Size([1, 23, 197])\n",
            "\n",
            " file name:  3184738462 \\caption:   man in a coat standing next to a sign standing next to a sign next to a sign on the wall.\n",
            "torch.Size([1, 1, 197])\n",
            "torch.Size([1, 2, 197])\n",
            "torch.Size([1, 3, 197])\n",
            "torch.Size([1, 4, 197])\n",
            "torch.Size([1, 5, 197])\n",
            "torch.Size([1, 6, 197])\n",
            "torch.Size([1, 7, 197])\n",
            "torch.Size([1, 8, 197])\n",
            "torch.Size([1, 9, 197])\n",
            "torch.Size([1, 10, 197])\n",
            "torch.Size([1, 11, 197])\n"
          ]
        },
        {
          "output_type": "stream",
          "name": "stderr",
          "text": [
            "\r  1%|          | 104/8946 [01:21<2:09:01,  1.14it/s]"
          ]
        },
        {
          "output_type": "stream",
          "name": "stdout",
          "text": [
            "torch.Size([1, 12, 197])\n",
            "torch.Size([1, 13, 197])\n",
            "\n",
            " file name:  000000185360 \\caption:  a small black and white dog is standing in a forest.\n",
            "torch.Size([1, 1, 197])\n",
            "torch.Size([1, 2, 197])\n",
            "torch.Size([1, 3, 197])\n",
            "torch.Size([1, 4, 197])\n",
            "torch.Size([1, 5, 197])\n",
            "torch.Size([1, 6, 197])\n",
            "torch.Size([1, 7, 197])\n",
            "torch.Size([1, 8, 197])\n",
            "torch.Size([1, 9, 197])\n",
            "torch.Size([1, 10, 197])\n",
            "torch.Size([1, 11, 197])\n",
            "torch.Size([1, 12, 197])\n",
            "torch.Size([1, 13, 197])\n",
            "torch.Size([1, 14, 197])\n"
          ]
        },
        {
          "output_type": "stream",
          "name": "stderr",
          "text": [
            "\r  1%|          | 105/8946 [01:22<2:07:35,  1.15it/s]"
          ]
        },
        {
          "output_type": "stream",
          "name": "stdout",
          "text": [
            "torch.Size([1, 15, 197])\n",
            "\n",
            " file name:  000000214475 \\caption:  a close up of a cake with a floral floral floral floral floral.\n",
            "torch.Size([1, 1, 197])\n",
            "torch.Size([1, 2, 197])\n",
            "torch.Size([1, 3, 197])\n",
            "torch.Size([1, 4, 197])\n",
            "torch.Size([1, 5, 197])\n",
            "torch.Size([1, 6, 197])\n",
            "torch.Size([1, 7, 197])\n",
            "torch.Size([1, 8, 197])\n",
            "torch.Size([1, 9, 197])\n",
            "torch.Size([1, 10, 197])\n",
            "torch.Size([1, 11, 197])\n",
            "torch.Size([1, 12, 197])\n",
            "torch.Size([1, 13, 197])\n",
            "torch.Size([1, 14, 197])\n",
            "torch.Size([1, 15, 197])\n"
          ]
        },
        {
          "output_type": "stream",
          "name": "stderr",
          "text": [
            "\r  1%|          | 106/8946 [01:23<2:09:12,  1.14it/s]"
          ]
        },
        {
          "output_type": "stream",
          "name": "stdout",
          "text": [
            "torch.Size([1, 16, 197])\n",
            "\n",
            " file name:  2035511078 \\caption:   three girls dressed in black and white are posing in a grassy field .\n",
            "torch.Size([1, 1, 197])\n",
            "torch.Size([1, 2, 197])\n",
            "torch.Size([1, 3, 197])\n",
            "torch.Size([1, 4, 197])\n",
            "torch.Size([1, 5, 197])\n",
            "torch.Size([1, 6, 197])\n",
            "torch.Size([1, 7, 197])\n"
          ]
        },
        {
          "output_type": "stream",
          "name": "stderr",
          "text": [
            "\r  1%|          | 107/8946 [01:24<1:55:26,  1.28it/s]"
          ]
        },
        {
          "output_type": "stream",
          "name": "stdout",
          "text": [
            "torch.Size([1, 8, 197])\n",
            "torch.Size([1, 9, 197])\n",
            "torch.Size([1, 10, 197])\n",
            "\n",
            " file name:  000000446033 \\caption:  a tall building that has a clock on it\n",
            "torch.Size([1, 1, 197])\n",
            "torch.Size([1, 2, 197])\n",
            "torch.Size([1, 3, 197])\n",
            "torch.Size([1, 4, 197])\n",
            "torch.Size([1, 5, 197])\n",
            "torch.Size([1, 6, 197])\n",
            "torch.Size([1, 7, 197])\n",
            "torch.Size([1, 8, 197])\n",
            "torch.Size([1, 9, 197])\n",
            "torch.Size([1, 10, 197])\n",
            "torch.Size([1, 11, 197])\n",
            "torch.Size([1, 12, 197])\n",
            "torch.Size([1, 13, 197])\n"
          ]
        },
        {
          "output_type": "stream",
          "name": "stderr",
          "text": [
            "\r  1%|          | 108/8946 [01:25<2:03:14,  1.20it/s]"
          ]
        },
        {
          "output_type": "stream",
          "name": "stdout",
          "text": [
            "torch.Size([1, 14, 197])\n",
            "torch.Size([1, 15, 197])\n",
            "torch.Size([1, 16, 197])\n",
            "torch.Size([1, 17, 197])\n",
            "\n",
            " file name:  3317079939 \\caption:  a group of people sitting on a couch with a large object on the floor.\n",
            "torch.Size([1, 1, 197])\n",
            "torch.Size([1, 2, 197])\n",
            "torch.Size([1, 3, 197])\n",
            "torch.Size([1, 4, 197])\n",
            "torch.Size([1, 5, 197])\n",
            "torch.Size([1, 6, 197])\n",
            "torch.Size([1, 7, 197])\n",
            "torch.Size([1, 8, 197])\n"
          ]
        },
        {
          "output_type": "stream",
          "name": "stderr",
          "text": [
            "\r  1%|          | 109/8946 [01:25<1:56:16,  1.27it/s]"
          ]
        },
        {
          "output_type": "stream",
          "name": "stdout",
          "text": [
            "torch.Size([1, 9, 197])\n",
            "torch.Size([1, 10, 197])\n",
            "torch.Size([1, 11, 197])\n",
            "torch.Size([1, 12, 197])\n",
            "\n",
            " file name:  000000256664 \\caption:  a black and white plate with a burger and fries.\n",
            "torch.Size([1, 1, 197])\n",
            "torch.Size([1, 2, 197])\n",
            "torch.Size([1, 3, 197])\n",
            "torch.Size([1, 4, 197])\n",
            "torch.Size([1, 5, 197])\n",
            "torch.Size([1, 6, 197])\n",
            "torch.Size([1, 7, 197])\n",
            "torch.Size([1, 8, 197])\n",
            "torch.Size([1, 9, 197])\n",
            "torch.Size([1, 10, 197])\n",
            "torch.Size([1, 11, 197])\n",
            "torch.Size([1, 12, 197])\n",
            "torch.Size([1, 13, 197])\n"
          ]
        },
        {
          "output_type": "stream",
          "name": "stderr",
          "text": [
            "\r  1%|          | 110/8946 [01:26<2:09:05,  1.14it/s]"
          ]
        },
        {
          "output_type": "stream",
          "name": "stdout",
          "text": [
            "torch.Size([1, 14, 197])\n",
            "torch.Size([1, 15, 197])\n",
            "\n",
            " file name:  2127566743 \\caption:   a band of young men are playing guitar in front of a crowd .\n",
            "torch.Size([1, 1, 197])\n",
            "torch.Size([1, 2, 197])\n",
            "torch.Size([1, 3, 197])\n",
            "torch.Size([1, 4, 197])\n",
            "torch.Size([1, 5, 197])\n",
            "torch.Size([1, 6, 197])\n",
            "torch.Size([1, 7, 197])\n",
            "torch.Size([1, 8, 197])\n",
            "torch.Size([1, 9, 197])\n",
            "torch.Size([1, 10, 197])\n",
            "torch.Size([1, 11, 197])\n",
            "torch.Size([1, 12, 197])\n"
          ]
        },
        {
          "output_type": "stream",
          "name": "stderr",
          "text": [
            "\r  1%|          | 111/8946 [01:28<2:30:33,  1.02s/it]"
          ]
        },
        {
          "output_type": "stream",
          "name": "stdout",
          "text": [
            "torch.Size([1, 13, 197])\n",
            "torch.Size([1, 14, 197])\n",
            "\n",
            " file name:  000000253971 \\caption:  a group of people on the beach with surfboards on it.\n",
            "torch.Size([1, 1, 197])\n",
            "torch.Size([1, 2, 197])\n",
            "torch.Size([1, 3, 197])\n",
            "torch.Size([1, 4, 197])\n",
            "torch.Size([1, 5, 197])\n",
            "torch.Size([1, 6, 197])\n",
            "torch.Size([1, 7, 197])\n",
            "torch.Size([1, 8, 197])\n"
          ]
        },
        {
          "output_type": "stream",
          "name": "stderr",
          "text": [
            "\r  1%|▏         | 112/8946 [01:29<2:30:26,  1.02s/it]"
          ]
        },
        {
          "output_type": "stream",
          "name": "stdout",
          "text": [
            "torch.Size([1, 9, 197])\n",
            "torch.Size([1, 10, 197])\n",
            "\n",
            " file name:  000000452737 \\caption:  a man and woman posing for a photo.\n",
            "torch.Size([1, 1, 197])\n",
            "torch.Size([1, 2, 197])\n",
            "torch.Size([1, 3, 197])\n",
            "torch.Size([1, 4, 197])\n",
            "torch.Size([1, 5, 197])\n",
            "torch.Size([1, 6, 197])\n",
            "torch.Size([1, 7, 197])\n",
            "torch.Size([1, 8, 197])\n"
          ]
        },
        {
          "output_type": "stream",
          "name": "stderr",
          "text": [
            "\r  1%|▏         | 113/8946 [01:29<2:20:51,  1.05it/s]"
          ]
        },
        {
          "output_type": "stream",
          "name": "stdout",
          "text": [
            "torch.Size([1, 9, 197])\n",
            "torch.Size([1, 10, 197])\n",
            "torch.Size([1, 11, 197])\n",
            "\n",
            " file name:  000000332623 \\caption:  a bride and groom are kissing in a ceremony .\n",
            "torch.Size([1, 1, 197])\n",
            "torch.Size([1, 2, 197])\n",
            "torch.Size([1, 3, 197])\n",
            "torch.Size([1, 4, 197])\n",
            "torch.Size([1, 5, 197])\n",
            "torch.Size([1, 6, 197])\n",
            "torch.Size([1, 7, 197])\n",
            "torch.Size([1, 8, 197])\n",
            "torch.Size([1, 9, 197])\n",
            "torch.Size([1, 10, 197])\n",
            "torch.Size([1, 11, 197])\n",
            "torch.Size([1, 12, 197])\n",
            "torch.Size([1, 13, 197])\n"
          ]
        },
        {
          "output_type": "stream",
          "name": "stderr",
          "text": [
            "\r  1%|▏         | 114/8946 [01:30<2:14:06,  1.10it/s]"
          ]
        },
        {
          "output_type": "stream",
          "name": "stdout",
          "text": [
            "torch.Size([1, 14, 197])\n",
            "\n",
            " file name:  1220027979 \\caption:  two children sit on a couch with a baby and a baby.\n",
            "torch.Size([1, 1, 197])\n",
            "torch.Size([1, 2, 197])\n",
            "torch.Size([1, 3, 197])\n",
            "torch.Size([1, 4, 197])\n",
            "torch.Size([1, 5, 197])\n",
            "torch.Size([1, 6, 197])\n",
            "torch.Size([1, 7, 197])\n"
          ]
        },
        {
          "output_type": "stream",
          "name": "stderr",
          "text": [
            "\r  1%|▏         | 115/8946 [01:31<2:01:22,  1.21it/s]"
          ]
        },
        {
          "output_type": "stream",
          "name": "stdout",
          "text": [
            "torch.Size([1, 8, 197])\n",
            "torch.Size([1, 9, 197])\n",
            "torch.Size([1, 10, 197])\n",
            "torch.Size([1, 11, 197])\n",
            "\n",
            " file name:  000000403464 \\caption:  a lot of cars are on a city street.\n",
            "torch.Size([1, 1, 197])\n",
            "torch.Size([1, 2, 197])\n",
            "torch.Size([1, 3, 197])\n",
            "torch.Size([1, 4, 197])\n",
            "torch.Size([1, 5, 197])\n",
            "torch.Size([1, 6, 197])\n",
            "torch.Size([1, 7, 197])\n",
            "torch.Size([1, 8, 197])\n",
            "torch.Size([1, 9, 197])\n",
            "torch.Size([1, 10, 197])\n",
            "torch.Size([1, 11, 197])\n",
            "torch.Size([1, 12, 197])\n"
          ]
        },
        {
          "output_type": "stream",
          "name": "stderr",
          "text": [
            "\r  1%|▏         | 116/8946 [01:32<2:00:00,  1.23it/s]"
          ]
        },
        {
          "output_type": "stream",
          "name": "stdout",
          "text": [
            "torch.Size([1, 13, 197])\n",
            "torch.Size([1, 14, 197])\n",
            "\n",
            " file name:  4268234398 \\caption:   a man in a suit is walking in front of a building .\n",
            "torch.Size([1, 1, 197])\n",
            "torch.Size([1, 2, 197])\n",
            "torch.Size([1, 3, 197])\n",
            "torch.Size([1, 4, 197])\n",
            "torch.Size([1, 5, 197])\n",
            "torch.Size([1, 6, 197])\n",
            "torch.Size([1, 7, 197])\n",
            "torch.Size([1, 8, 197])\n",
            "torch.Size([1, 9, 197])\n",
            "torch.Size([1, 10, 197])\n"
          ]
        },
        {
          "output_type": "stream",
          "name": "stderr",
          "text": [
            "\r  1%|▏         | 117/8946 [01:32<1:56:54,  1.26it/s]"
          ]
        },
        {
          "output_type": "stream",
          "name": "stdout",
          "text": [
            "torch.Size([1, 11, 197])\n",
            "torch.Size([1, 12, 197])\n",
            "torch.Size([1, 13, 197])\n",
            "\n",
            " file name:  000000209292 \\caption:  a small room with a large clock and a large fireplace.\n",
            "torch.Size([1, 1, 197])\n",
            "torch.Size([1, 2, 197])\n",
            "torch.Size([1, 3, 197])\n",
            "torch.Size([1, 4, 197])\n",
            "torch.Size([1, 5, 197])\n",
            "torch.Size([1, 6, 197])\n",
            "torch.Size([1, 7, 197])\n",
            "torch.Size([1, 8, 197])\n",
            "torch.Size([1, 9, 197])\n"
          ]
        },
        {
          "output_type": "stream",
          "name": "stderr",
          "text": [
            "\r  1%|▏         | 118/8946 [01:33<1:54:48,  1.28it/s]"
          ]
        },
        {
          "output_type": "stream",
          "name": "stdout",
          "text": [
            "torch.Size([1, 10, 197])\n",
            "torch.Size([1, 11, 197])\n",
            "torch.Size([1, 12, 197])\n",
            "torch.Size([1, 13, 197])\n",
            "\n",
            " file name:  000000079831 \\caption:  a small black and black cat is sitting on a porch.\n",
            "torch.Size([1, 1, 197])\n",
            "torch.Size([1, 2, 197])\n",
            "torch.Size([1, 3, 197])\n",
            "torch.Size([1, 4, 197])\n",
            "torch.Size([1, 5, 197])\n",
            "torch.Size([1, 6, 197])\n",
            "torch.Size([1, 7, 197])\n",
            "torch.Size([1, 8, 197])\n"
          ]
        },
        {
          "output_type": "stream",
          "name": "stderr",
          "text": [
            "\r  1%|▏         | 119/8946 [01:34<1:50:19,  1.33it/s]"
          ]
        },
        {
          "output_type": "stream",
          "name": "stdout",
          "text": [
            "torch.Size([1, 9, 197])\n",
            "torch.Size([1, 10, 197])\n",
            "torch.Size([1, 11, 197])\n",
            "torch.Size([1, 12, 197])\n",
            "\n",
            " file name:  000000396167 \\caption:  a baseball player in a baseball uniform swinging a bat.\n",
            "torch.Size([1, 1, 197])\n",
            "torch.Size([1, 2, 197])\n",
            "torch.Size([1, 3, 197])\n",
            "torch.Size([1, 4, 197])\n",
            "torch.Size([1, 5, 197])\n",
            "torch.Size([1, 6, 197])\n",
            "torch.Size([1, 7, 197])\n",
            "torch.Size([1, 8, 197])\n",
            "torch.Size([1, 9, 197])\n",
            "torch.Size([1, 10, 197])\n",
            "torch.Size([1, 11, 197])\n",
            "torch.Size([1, 12, 197])\n"
          ]
        },
        {
          "output_type": "stream",
          "name": "stderr",
          "text": [
            "\r  1%|▏         | 120/8946 [01:35<1:50:13,  1.33it/s]"
          ]
        },
        {
          "output_type": "stream",
          "name": "stdout",
          "text": [
            "torch.Size([1, 13, 197])\n",
            "\n",
            " file name:  000000331907 \\caption:  a man is walking in a field with a baseball bat.\n",
            "torch.Size([1, 1, 197])\n",
            "torch.Size([1, 2, 197])\n",
            "torch.Size([1, 3, 197])\n",
            "torch.Size([1, 4, 197])\n",
            "torch.Size([1, 5, 197])\n",
            "torch.Size([1, 6, 197])\n",
            "torch.Size([1, 7, 197])\n"
          ]
        },
        {
          "output_type": "stream",
          "name": "stderr",
          "text": [
            "\r  1%|▏         | 121/8946 [01:35<1:44:42,  1.40it/s]"
          ]
        },
        {
          "output_type": "stream",
          "name": "stdout",
          "text": [
            "torch.Size([1, 8, 197])\n",
            "torch.Size([1, 9, 197])\n",
            "torch.Size([1, 10, 197])\n",
            "torch.Size([1, 11, 197])\n",
            "\n",
            " file name:  000000141240 \\caption:  a dog and cat are laying on a bed.\n",
            "torch.Size([1, 1, 197])\n",
            "torch.Size([1, 2, 197])\n",
            "torch.Size([1, 3, 197])\n",
            "torch.Size([1, 4, 197])\n",
            "torch.Size([1, 5, 197])\n",
            "torch.Size([1, 6, 197])\n",
            "torch.Size([1, 7, 197])\n",
            "torch.Size([1, 8, 197])\n",
            "torch.Size([1, 9, 197])\n",
            "torch.Size([1, 10, 197])\n",
            "torch.Size([1, 11, 197])\n",
            "torch.Size([1, 12, 197])\n",
            "torch.Size([1, 13, 197])\n",
            "torch.Size([1, 14, 197])\n",
            "torch.Size([1, 15, 197])\n",
            "torch.Size([1, 16, 197])\n"
          ]
        },
        {
          "output_type": "stream",
          "name": "stderr",
          "text": [
            "\r  1%|▏         | 122/8946 [01:36<1:58:29,  1.24it/s]"
          ]
        },
        {
          "output_type": "stream",
          "name": "stdout",
          "text": [
            "torch.Size([1, 17, 197])\n",
            "torch.Size([1, 18, 197])\n",
            "\n",
            " file name:  330353975 \\caption:   a man in a white shirt is sitting at a desk with a computer and a keyboard\n",
            "torch.Size([1, 1, 197])\n",
            "torch.Size([1, 2, 197])\n",
            "torch.Size([1, 3, 197])\n",
            "torch.Size([1, 4, 197])\n",
            "torch.Size([1, 5, 197])\n",
            "torch.Size([1, 6, 197])\n",
            "torch.Size([1, 7, 197])\n",
            "torch.Size([1, 8, 197])\n",
            "torch.Size([1, 9, 197])\n",
            "torch.Size([1, 10, 197])\n"
          ]
        },
        {
          "output_type": "stream",
          "name": "stderr",
          "text": [
            "\r  1%|▏         | 123/8946 [01:37<1:52:56,  1.30it/s]"
          ]
        },
        {
          "output_type": "stream",
          "name": "stdout",
          "text": [
            "torch.Size([1, 11, 197])\n",
            "torch.Size([1, 12, 197])\n",
            "\n",
            " file name:  000000411043 \\caption:  a group of elephants standing next to a stone wall.\n",
            "torch.Size([1, 1, 197])\n",
            "torch.Size([1, 2, 197])\n",
            "torch.Size([1, 3, 197])\n",
            "torch.Size([1, 4, 197])\n",
            "torch.Size([1, 5, 197])\n",
            "torch.Size([1, 6, 197])\n",
            "torch.Size([1, 7, 197])\n",
            "torch.Size([1, 8, 197])\n",
            "torch.Size([1, 9, 197])\n",
            "torch.Size([1, 10, 197])\n"
          ]
        },
        {
          "output_type": "stream",
          "name": "stderr",
          "text": [
            "\r  1%|▏         | 124/8946 [01:38<1:51:33,  1.32it/s]"
          ]
        },
        {
          "output_type": "stream",
          "name": "stdout",
          "text": [
            "torch.Size([1, 11, 197])\n",
            "torch.Size([1, 12, 197])\n",
            "torch.Size([1, 13, 197])\n",
            "\n",
            " file name:  000000361253 \\caption:  a pair of scissors are sitting on a pile of paper.\n",
            "torch.Size([1, 1, 197])\n",
            "torch.Size([1, 2, 197])\n",
            "torch.Size([1, 3, 197])\n",
            "torch.Size([1, 4, 197])\n",
            "torch.Size([1, 5, 197])\n",
            "torch.Size([1, 6, 197])\n",
            "torch.Size([1, 7, 197])\n",
            "torch.Size([1, 8, 197])\n",
            "torch.Size([1, 9, 197])\n"
          ]
        },
        {
          "output_type": "stream",
          "name": "stderr",
          "text": [
            "\r  1%|▏         | 125/8946 [01:38<1:48:15,  1.36it/s]"
          ]
        },
        {
          "output_type": "stream",
          "name": "stdout",
          "text": [
            "torch.Size([1, 10, 197])\n",
            "torch.Size([1, 11, 197])\n",
            "torch.Size([1, 12, 197])\n",
            "\n",
            " file name:  000000077750 \\caption:  a plate topped with food and a plate with food.\n",
            "torch.Size([1, 1, 197])\n",
            "torch.Size([1, 2, 197])\n",
            "torch.Size([1, 3, 197])\n",
            "torch.Size([1, 4, 197])\n",
            "torch.Size([1, 5, 197])\n",
            "torch.Size([1, 6, 197])\n",
            "torch.Size([1, 7, 197])\n",
            "torch.Size([1, 8, 197])\n",
            "torch.Size([1, 9, 197])\n"
          ]
        },
        {
          "output_type": "stream",
          "name": "stderr",
          "text": [
            "\r  1%|▏         | 126/8946 [01:39<1:45:40,  1.39it/s]"
          ]
        },
        {
          "output_type": "stream",
          "name": "stdout",
          "text": [
            "torch.Size([1, 10, 197])\n",
            "torch.Size([1, 11, 197])\n",
            "torch.Size([1, 12, 197])\n",
            "\n",
            " file name:  000000345590 \\caption:  a sheep stands on a lush green field with grass.\n",
            "torch.Size([1, 1, 197])\n",
            "torch.Size([1, 2, 197])\n",
            "torch.Size([1, 3, 197])\n",
            "torch.Size([1, 4, 197])\n",
            "torch.Size([1, 5, 197])\n",
            "torch.Size([1, 6, 197])\n",
            "torch.Size([1, 7, 197])\n",
            "torch.Size([1, 8, 197])\n",
            "torch.Size([1, 9, 197])\n"
          ]
        },
        {
          "output_type": "stream",
          "name": "stderr",
          "text": [
            "\r  1%|▏         | 127/8946 [01:40<1:43:44,  1.42it/s]"
          ]
        },
        {
          "output_type": "stream",
          "name": "stdout",
          "text": [
            "torch.Size([1, 10, 197])\n",
            "torch.Size([1, 11, 197])\n",
            "torch.Size([1, 12, 197])\n",
            "\n",
            " file name:  000000072794 \\caption:  a person holding a video game controller in their hand.\n",
            "torch.Size([1, 1, 197])\n",
            "torch.Size([1, 2, 197])\n",
            "torch.Size([1, 3, 197])\n",
            "torch.Size([1, 4, 197])\n",
            "torch.Size([1, 5, 197])\n",
            "torch.Size([1, 6, 197])\n",
            "torch.Size([1, 7, 197])\n",
            "torch.Size([1, 8, 197])\n",
            "torch.Size([1, 9, 197])\n",
            "torch.Size([1, 10, 197])\n",
            "torch.Size([1, 11, 197])\n",
            "torch.Size([1, 12, 197])\n",
            "torch.Size([1, 13, 197])\n"
          ]
        },
        {
          "output_type": "stream",
          "name": "stderr",
          "text": [
            "\r  1%|▏         | 128/8946 [01:41<1:50:17,  1.33it/s]"
          ]
        },
        {
          "output_type": "stream",
          "name": "stdout",
          "text": [
            "torch.Size([1, 14, 197])\n",
            "torch.Size([1, 15, 197])\n",
            "\n",
            " file name:  000000370038 \\caption:   a man and woman are sitting in a kitchen stove in a kitchen.\n",
            "torch.Size([1, 1, 197])\n",
            "torch.Size([1, 2, 197])\n",
            "torch.Size([1, 3, 197])\n",
            "torch.Size([1, 4, 197])\n",
            "torch.Size([1, 5, 197])\n",
            "torch.Size([1, 6, 197])\n",
            "torch.Size([1, 7, 197])\n",
            "torch.Size([1, 8, 197])\n",
            "torch.Size([1, 9, 197])\n",
            "torch.Size([1, 10, 197])\n",
            "torch.Size([1, 11, 197])\n",
            "torch.Size([1, 12, 197])\n",
            "torch.Size([1, 13, 197])\n",
            "torch.Size([1, 14, 197])\n"
          ]
        },
        {
          "output_type": "stream",
          "name": "stderr",
          "text": [
            "\r  1%|▏         | 129/8946 [01:42<1:59:53,  1.23it/s]"
          ]
        },
        {
          "output_type": "stream",
          "name": "stdout",
          "text": [
            "torch.Size([1, 15, 197])\n",
            "torch.Size([1, 16, 197])\n",
            "torch.Size([1, 17, 197])\n",
            "\n",
            " file name:  3690431163 \\caption:   a man with tattoos is in the middle of a woman in a police uniform .\n",
            "torch.Size([1, 1, 197])\n",
            "torch.Size([1, 2, 197])\n",
            "torch.Size([1, 3, 197])\n",
            "torch.Size([1, 4, 197])\n",
            "torch.Size([1, 5, 197])\n",
            "torch.Size([1, 6, 197])\n",
            "torch.Size([1, 7, 197])\n",
            "torch.Size([1, 8, 197])\n",
            "torch.Size([1, 9, 197])\n"
          ]
        },
        {
          "output_type": "stream",
          "name": "stderr",
          "text": [
            "\r  1%|▏         | 130/8946 [01:42<1:51:23,  1.32it/s]"
          ]
        },
        {
          "output_type": "stream",
          "name": "stdout",
          "text": [
            "torch.Size([1, 10, 197])\n",
            "torch.Size([1, 11, 197])\n",
            "\n",
            " file name:  000000323612 \\caption:  a laptop computer sitting on top of a table.\n",
            "torch.Size([1, 1, 197])\n",
            "torch.Size([1, 2, 197])\n",
            "torch.Size([1, 3, 197])\n",
            "torch.Size([1, 4, 197])\n",
            "torch.Size([1, 5, 197])\n",
            "torch.Size([1, 6, 197])\n",
            "torch.Size([1, 7, 197])\n",
            "torch.Size([1, 8, 197])\n",
            "torch.Size([1, 9, 197])\n",
            "torch.Size([1, 10, 197])\n"
          ]
        },
        {
          "output_type": "stream",
          "name": "stderr",
          "text": [
            "\r  1%|▏         | 131/8946 [01:43<1:48:11,  1.36it/s]"
          ]
        },
        {
          "output_type": "stream",
          "name": "stdout",
          "text": [
            "torch.Size([1, 11, 197])\n",
            "torch.Size([1, 12, 197])\n",
            "\n",
            " file name:  000000378778 \\caption:  a baseball player is getting ready to hit a ball.\n",
            "torch.Size([1, 1, 197])\n",
            "torch.Size([1, 2, 197])\n",
            "torch.Size([1, 3, 197])\n",
            "torch.Size([1, 4, 197])\n",
            "torch.Size([1, 5, 197])\n",
            "torch.Size([1, 6, 197])\n",
            "torch.Size([1, 7, 197])\n",
            "torch.Size([1, 8, 197])\n",
            "torch.Size([1, 9, 197])\n",
            "torch.Size([1, 10, 197])\n"
          ]
        },
        {
          "output_type": "stream",
          "name": "stderr",
          "text": [
            "\r  1%|▏         | 132/8946 [01:43<1:43:05,  1.43it/s]"
          ]
        },
        {
          "output_type": "stream",
          "name": "stdout",
          "text": [
            "torch.Size([1, 11, 197])\n",
            "\n",
            " file name:  396179143 \\caption:   a dog is jumping on a snow covered surface .\n",
            "torch.Size([1, 1, 197])\n",
            "torch.Size([1, 2, 197])\n",
            "torch.Size([1, 3, 197])\n",
            "torch.Size([1, 4, 197])\n",
            "torch.Size([1, 5, 197])\n",
            "torch.Size([1, 6, 197])\n",
            "torch.Size([1, 7, 197])\n",
            "torch.Size([1, 8, 197])\n",
            "torch.Size([1, 9, 197])\n",
            "torch.Size([1, 10, 197])\n",
            "torch.Size([1, 11, 197])\n",
            "torch.Size([1, 12, 197])\n",
            "torch.Size([1, 13, 197])\n",
            "torch.Size([1, 14, 197])\n",
            "torch.Size([1, 15, 197])\n"
          ]
        },
        {
          "output_type": "stream",
          "name": "stderr",
          "text": [
            "\r  1%|▏         | 133/8946 [01:44<1:52:24,  1.31it/s]"
          ]
        },
        {
          "output_type": "stream",
          "name": "stdout",
          "text": [
            "torch.Size([1, 16, 197])\n",
            "\n",
            " file name:  263216826 \\caption:   a man and woman are sitting on a rock looking at the mountain face .\n",
            "torch.Size([1, 1, 197])\n",
            "torch.Size([1, 2, 197])\n",
            "torch.Size([1, 3, 197])\n",
            "torch.Size([1, 4, 197])\n",
            "torch.Size([1, 5, 197])\n",
            "torch.Size([1, 6, 197])\n",
            "torch.Size([1, 7, 197])\n",
            "torch.Size([1, 8, 197])\n",
            "torch.Size([1, 9, 197])\n",
            "torch.Size([1, 10, 197])\n",
            "torch.Size([1, 11, 197])\n"
          ]
        },
        {
          "output_type": "stream",
          "name": "stderr",
          "text": [
            "\r  1%|▏         | 134/8946 [01:45<1:53:48,  1.29it/s]"
          ]
        },
        {
          "output_type": "stream",
          "name": "stdout",
          "text": [
            "torch.Size([1, 12, 197])\n",
            "torch.Size([1, 13, 197])\n",
            "torch.Size([1, 14, 197])\n",
            "\n",
            " file name:  000000309222 \\caption:  a close up view of a brush with a brush on it.\n",
            "torch.Size([1, 1, 197])\n",
            "torch.Size([1, 2, 197])\n",
            "torch.Size([1, 3, 197])\n",
            "torch.Size([1, 4, 197])\n",
            "torch.Size([1, 5, 197])\n",
            "torch.Size([1, 6, 197])\n",
            "torch.Size([1, 7, 197])\n",
            "torch.Size([1, 8, 197])\n",
            "torch.Size([1, 9, 197])\n"
          ]
        },
        {
          "output_type": "stream",
          "name": "stderr",
          "text": [
            "\r  2%|▏         | 135/8946 [01:46<1:52:40,  1.30it/s]"
          ]
        },
        {
          "output_type": "stream",
          "name": "stdout",
          "text": [
            "torch.Size([1, 10, 197])\n",
            "torch.Size([1, 11, 197])\n",
            "torch.Size([1, 12, 197])\n",
            "torch.Size([1, 13, 197])\n",
            "\n",
            " file name:  000000087113 \\caption:  a man in a white shirt is walking down the street.\n",
            "torch.Size([1, 1, 197])\n",
            "torch.Size([1, 2, 197])\n",
            "torch.Size([1, 3, 197])\n",
            "torch.Size([1, 4, 197])\n",
            "torch.Size([1, 5, 197])\n",
            "torch.Size([1, 6, 197])\n",
            "torch.Size([1, 7, 197])\n",
            "torch.Size([1, 8, 197])\n"
          ]
        },
        {
          "output_type": "stream",
          "name": "stderr",
          "text": [
            "\r  2%|▏         | 136/8946 [01:47<1:43:53,  1.41it/s]"
          ]
        },
        {
          "output_type": "stream",
          "name": "stdout",
          "text": [
            "torch.Size([1, 9, 197])\n",
            "torch.Size([1, 10, 197])\n",
            "\n",
            " file name:  3426789838 \\caption:   a child jumping into a pool of water .\n",
            "torch.Size([1, 1, 197])\n",
            "torch.Size([1, 2, 197])\n",
            "torch.Size([1, 3, 197])\n",
            "torch.Size([1, 4, 197])\n",
            "torch.Size([1, 5, 197])\n",
            "torch.Size([1, 6, 197])\n",
            "torch.Size([1, 7, 197])\n",
            "torch.Size([1, 8, 197])\n",
            "torch.Size([1, 9, 197])\n",
            "torch.Size([1, 10, 197])\n"
          ]
        },
        {
          "output_type": "stream",
          "name": "stderr",
          "text": [
            "\r  2%|▏         | 137/8946 [01:47<1:40:48,  1.46it/s]"
          ]
        },
        {
          "output_type": "stream",
          "name": "stdout",
          "text": [
            "torch.Size([1, 11, 197])\n",
            "\n",
            " file name:  000000191893 \\caption:  a train traveling on a track near a station.\n",
            "torch.Size([1, 1, 197])\n",
            "torch.Size([1, 2, 197])\n",
            "torch.Size([1, 3, 197])\n",
            "torch.Size([1, 4, 197])\n",
            "torch.Size([1, 5, 197])\n",
            "torch.Size([1, 6, 197])\n",
            "torch.Size([1, 7, 197])\n"
          ]
        },
        {
          "output_type": "stream",
          "name": "stderr",
          "text": [
            "\r  2%|▏         | 138/8946 [01:48<1:38:17,  1.49it/s]"
          ]
        },
        {
          "output_type": "stream",
          "name": "stdout",
          "text": [
            "torch.Size([1, 8, 197])\n",
            "torch.Size([1, 9, 197])\n",
            "torch.Size([1, 10, 197])\n",
            "torch.Size([1, 11, 197])\n",
            "\n",
            " file name:  000000060812 \\caption:  a man riding a horse on a dirt track.\n",
            "torch.Size([1, 1, 197])\n",
            "torch.Size([1, 2, 197])\n",
            "torch.Size([1, 3, 197])\n",
            "torch.Size([1, 4, 197])\n",
            "torch.Size([1, 5, 197])\n",
            "torch.Size([1, 6, 197])\n",
            "torch.Size([1, 7, 197])\n",
            "torch.Size([1, 8, 197])\n"
          ]
        },
        {
          "output_type": "stream",
          "name": "stderr",
          "text": [
            "\r  2%|▏         | 139/8946 [01:48<1:39:25,  1.48it/s]"
          ]
        },
        {
          "output_type": "stream",
          "name": "stdout",
          "text": [
            "torch.Size([1, 9, 197])\n",
            "torch.Size([1, 10, 197])\n",
            "torch.Size([1, 11, 197])\n",
            "torch.Size([1, 12, 197])\n",
            "\n",
            " file name:  000000347648 \\caption:  a person is holding a pot and holding a pot.\n",
            "torch.Size([1, 1, 197])\n",
            "torch.Size([1, 2, 197])\n",
            "torch.Size([1, 3, 197])\n",
            "torch.Size([1, 4, 197])\n",
            "torch.Size([1, 5, 197])\n",
            "torch.Size([1, 6, 197])\n",
            "torch.Size([1, 7, 197])\n",
            "torch.Size([1, 8, 197])\n",
            "torch.Size([1, 9, 197])\n",
            "torch.Size([1, 10, 197])\n",
            "torch.Size([1, 11, 197])\n",
            "torch.Size([1, 12, 197])\n"
          ]
        },
        {
          "output_type": "stream",
          "name": "stderr",
          "text": [
            "\r  2%|▏         | 140/8946 [01:49<1:43:17,  1.42it/s]"
          ]
        },
        {
          "output_type": "stream",
          "name": "stdout",
          "text": [
            "torch.Size([1, 13, 197])\n",
            "\n",
            " file name:  000000278287 \\caption:  a large white bear swimming in the middle of a pool.\n",
            "torch.Size([1, 1, 197])\n",
            "torch.Size([1, 2, 197])\n",
            "torch.Size([1, 3, 197])\n",
            "torch.Size([1, 4, 197])\n",
            "torch.Size([1, 5, 197])\n",
            "torch.Size([1, 6, 197])\n",
            "torch.Size([1, 7, 197])\n",
            "torch.Size([1, 8, 197])\n",
            "torch.Size([1, 9, 197])\n",
            "torch.Size([1, 10, 197])\n",
            "torch.Size([1, 11, 197])\n"
          ]
        },
        {
          "output_type": "stream",
          "name": "stderr",
          "text": [
            "\r  2%|▏         | 141/8946 [01:50<1:47:32,  1.36it/s]"
          ]
        },
        {
          "output_type": "stream",
          "name": "stdout",
          "text": [
            "torch.Size([1, 12, 197])\n",
            "torch.Size([1, 13, 197])\n",
            "torch.Size([1, 14, 197])\n",
            "\n",
            " file name:  000000365833 \\caption:   a person walks his cart to a horse cart on the beach .\n",
            "torch.Size([1, 1, 197])\n",
            "torch.Size([1, 2, 197])\n",
            "torch.Size([1, 3, 197])\n",
            "torch.Size([1, 4, 197])\n",
            "torch.Size([1, 5, 197])\n",
            "torch.Size([1, 6, 197])\n",
            "torch.Size([1, 7, 197])\n",
            "torch.Size([1, 8, 197])\n",
            "torch.Size([1, 9, 197])\n"
          ]
        },
        {
          "output_type": "stream",
          "name": "stderr",
          "text": [
            "\r  2%|▏         | 142/8946 [01:51<1:45:57,  1.38it/s]"
          ]
        },
        {
          "output_type": "stream",
          "name": "stdout",
          "text": [
            "torch.Size([1, 10, 197])\n",
            "torch.Size([1, 11, 197])\n",
            "torch.Size([1, 12, 197])\n",
            "\n",
            " file name:  000000056549 \\caption:  an old fashioned truck is for sale at an event.\n",
            "torch.Size([1, 1, 197])\n",
            "torch.Size([1, 2, 197])\n",
            "torch.Size([1, 3, 197])\n",
            "torch.Size([1, 4, 197])\n",
            "torch.Size([1, 5, 197])\n",
            "torch.Size([1, 6, 197])\n",
            "torch.Size([1, 7, 197])\n",
            "torch.Size([1, 8, 197])\n",
            "torch.Size([1, 9, 197])\n",
            "torch.Size([1, 10, 197])\n",
            "torch.Size([1, 11, 197])\n",
            "torch.Size([1, 12, 197])\n",
            "torch.Size([1, 13, 197])\n"
          ]
        },
        {
          "output_type": "stream",
          "name": "stderr",
          "text": [
            "\r  2%|▏         | 143/8946 [01:52<1:57:44,  1.25it/s]"
          ]
        },
        {
          "output_type": "stream",
          "name": "stdout",
          "text": [
            "torch.Size([1, 14, 197])\n",
            "torch.Size([1, 15, 197])\n",
            "torch.Size([1, 16, 197])\n",
            "torch.Size([1, 17, 197])\n",
            "\n",
            " file name:  4690240999 \\caption:   a woman is talking on her phone while another woman is talking on her phone.\n",
            "torch.Size([1, 1, 197])\n",
            "torch.Size([1, 2, 197])\n",
            "torch.Size([1, 3, 197])\n",
            "torch.Size([1, 4, 197])\n",
            "torch.Size([1, 5, 197])\n",
            "torch.Size([1, 6, 197])\n",
            "torch.Size([1, 7, 197])\n",
            "torch.Size([1, 8, 197])\n",
            "torch.Size([1, 9, 197])\n",
            "torch.Size([1, 10, 197])\n",
            "torch.Size([1, 11, 197])\n",
            "torch.Size([1, 12, 197])\n",
            "torch.Size([1, 13, 197])\n",
            "torch.Size([1, 14, 197])\n",
            "torch.Size([1, 15, 197])\n",
            "torch.Size([1, 16, 197])\n",
            "torch.Size([1, 17, 197])\n",
            "torch.Size([1, 18, 197])\n",
            "torch.Size([1, 19, 197])\n",
            "torch.Size([1, 20, 197])\n"
          ]
        },
        {
          "output_type": "stream",
          "name": "stderr",
          "text": [
            "\r  2%|▏         | 144/8946 [01:53<2:21:26,  1.04it/s]"
          ]
        },
        {
          "output_type": "stream",
          "name": "stdout",
          "text": [
            "torch.Size([1, 21, 197])\n",
            "torch.Size([1, 22, 197])\n",
            "torch.Size([1, 23, 197])\n",
            "\n",
            " file name:  3909183873 \\caption:   a man in a blue hat plays guitar and a guitar while another man in a blue hat plays a guitar .\n",
            "torch.Size([1, 1, 197])\n",
            "torch.Size([1, 2, 197])\n",
            "torch.Size([1, 3, 197])\n",
            "torch.Size([1, 4, 197])\n",
            "torch.Size([1, 5, 197])\n",
            "torch.Size([1, 6, 197])\n",
            "torch.Size([1, 7, 197])\n",
            "torch.Size([1, 8, 197])\n",
            "torch.Size([1, 9, 197])\n"
          ]
        },
        {
          "output_type": "stream",
          "name": "stderr",
          "text": [
            "\r  2%|▏         | 145/8946 [01:54<2:06:48,  1.16it/s]"
          ]
        },
        {
          "output_type": "stream",
          "name": "stdout",
          "text": [
            "torch.Size([1, 10, 197])\n",
            "torch.Size([1, 11, 197])\n",
            "\n",
            " file name:  000000429321 \\caption:  a man riding a skateboard down a street.\n",
            "torch.Size([1, 1, 197])\n",
            "torch.Size([1, 2, 197])\n",
            "torch.Size([1, 3, 197])\n",
            "torch.Size([1, 4, 197])\n",
            "torch.Size([1, 5, 197])\n",
            "torch.Size([1, 6, 197])\n",
            "torch.Size([1, 7, 197])\n",
            "torch.Size([1, 8, 197])\n",
            "torch.Size([1, 9, 197])\n",
            "torch.Size([1, 10, 197])\n"
          ]
        },
        {
          "output_type": "stream",
          "name": "stderr",
          "text": [
            "\r  2%|▏         | 146/8946 [01:54<1:56:26,  1.26it/s]"
          ]
        },
        {
          "output_type": "stream",
          "name": "stdout",
          "text": [
            "torch.Size([1, 11, 197])\n",
            "\n",
            " file name:  000000113525 \\caption:  a group of small boats sit on a beach.\n",
            "torch.Size([1, 1, 197])\n",
            "torch.Size([1, 2, 197])\n",
            "torch.Size([1, 3, 197])\n",
            "torch.Size([1, 4, 197])\n",
            "torch.Size([1, 5, 197])\n",
            "torch.Size([1, 6, 197])\n",
            "torch.Size([1, 7, 197])\n",
            "torch.Size([1, 8, 197])\n",
            "torch.Size([1, 9, 197])\n",
            "torch.Size([1, 10, 197])\n",
            "torch.Size([1, 11, 197])\n",
            "torch.Size([1, 12, 197])\n",
            "torch.Size([1, 13, 197])\n",
            "torch.Size([1, 14, 197])\n",
            "torch.Size([1, 15, 197])\n"
          ]
        },
        {
          "output_type": "stream",
          "name": "stderr",
          "text": [
            "\r  2%|▏         | 147/8946 [01:55<2:07:26,  1.15it/s]"
          ]
        },
        {
          "output_type": "stream",
          "name": "stdout",
          "text": [
            "torch.Size([1, 16, 197])\n",
            "torch.Size([1, 17, 197])\n",
            "torch.Size([1, 18, 197])\n",
            "\n",
            " file name:  000000411177 \\caption:  a living room with a couch, a couch, a couch, and a couch.\n",
            "torch.Size([1, 1, 197])\n",
            "torch.Size([1, 2, 197])\n",
            "torch.Size([1, 3, 197])\n",
            "torch.Size([1, 4, 197])\n",
            "torch.Size([1, 5, 197])\n",
            "torch.Size([1, 6, 197])\n",
            "torch.Size([1, 7, 197])\n",
            "torch.Size([1, 8, 197])\n",
            "torch.Size([1, 9, 197])\n",
            "torch.Size([1, 10, 197])\n",
            "torch.Size([1, 11, 197])\n",
            "torch.Size([1, 12, 197])\n",
            "torch.Size([1, 13, 197])\n"
          ]
        },
        {
          "output_type": "stream",
          "name": "stderr",
          "text": [
            "\r  2%|▏         | 148/8946 [01:56<2:09:44,  1.13it/s]"
          ]
        },
        {
          "output_type": "stream",
          "name": "stdout",
          "text": [
            "torch.Size([1, 14, 197])\n",
            "torch.Size([1, 15, 197])\n",
            "torch.Size([1, 16, 197])\n",
            "\n",
            " file name:  000000456574 \\caption:  a man in a striped shirt is sitting on a bench reading a book.\n",
            "torch.Size([1, 1, 197])\n",
            "torch.Size([1, 2, 197])\n",
            "torch.Size([1, 3, 197])\n",
            "torch.Size([1, 4, 197])\n",
            "torch.Size([1, 5, 197])\n",
            "torch.Size([1, 6, 197])\n",
            "torch.Size([1, 7, 197])\n",
            "torch.Size([1, 8, 197])\n",
            "torch.Size([1, 9, 197])\n"
          ]
        },
        {
          "output_type": "stream",
          "name": "stderr",
          "text": [
            "\r  2%|▏         | 149/8946 [01:57<1:56:15,  1.26it/s]"
          ]
        },
        {
          "output_type": "stream",
          "name": "stdout",
          "text": [
            "torch.Size([1, 10, 197])\n",
            "\n",
            " file name:  000000160137 \\caption:  a street sign with a street sign on it\n",
            "torch.Size([1, 1, 197])\n",
            "torch.Size([1, 2, 197])\n",
            "torch.Size([1, 3, 197])\n",
            "torch.Size([1, 4, 197])\n",
            "torch.Size([1, 5, 197])\n",
            "torch.Size([1, 6, 197])\n",
            "torch.Size([1, 7, 197])\n",
            "torch.Size([1, 8, 197])\n",
            "torch.Size([1, 9, 197])\n",
            "torch.Size([1, 10, 197])\n",
            "torch.Size([1, 11, 197])\n",
            "torch.Size([1, 12, 197])\n",
            "torch.Size([1, 13, 197])\n",
            "torch.Size([1, 14, 197])\n",
            "torch.Size([1, 15, 197])\n"
          ]
        },
        {
          "output_type": "stream",
          "name": "stderr",
          "text": [
            "\r  2%|▏         | 150/8946 [01:58<2:02:18,  1.20it/s]"
          ]
        },
        {
          "output_type": "stream",
          "name": "stdout",
          "text": [
            "torch.Size([1, 16, 197])\n",
            "\n",
            " file name:  000000572063 \\caption:  a black and white view of a building with a window in the windows.\n",
            "torch.Size([1, 1, 197])\n",
            "torch.Size([1, 2, 197])\n",
            "torch.Size([1, 3, 197])\n",
            "torch.Size([1, 4, 197])\n",
            "torch.Size([1, 5, 197])\n",
            "torch.Size([1, 6, 197])\n",
            "torch.Size([1, 7, 197])\n"
          ]
        },
        {
          "output_type": "stream",
          "name": "stderr",
          "text": [
            "\r  2%|▏         | 151/8946 [01:58<1:53:29,  1.29it/s]"
          ]
        },
        {
          "output_type": "stream",
          "name": "stdout",
          "text": [
            "torch.Size([1, 8, 197])\n",
            "torch.Size([1, 9, 197])\n",
            "torch.Size([1, 10, 197])\n",
            "torch.Size([1, 11, 197])\n",
            "\n",
            " file name:  000000382447 \\caption:  a wooden table with a wooden table and chairs.\n",
            "torch.Size([1, 1, 197])\n",
            "torch.Size([1, 2, 197])\n",
            "torch.Size([1, 3, 197])\n",
            "torch.Size([1, 4, 197])\n",
            "torch.Size([1, 5, 197])\n",
            "torch.Size([1, 6, 197])\n",
            "torch.Size([1, 7, 197])\n",
            "torch.Size([1, 8, 197])\n",
            "torch.Size([1, 9, 197])\n",
            "torch.Size([1, 10, 197])\n",
            "torch.Size([1, 11, 197])\n",
            "torch.Size([1, 12, 197])\n"
          ]
        },
        {
          "output_type": "stream",
          "name": "stderr",
          "text": [
            "\r  2%|▏         | 152/8946 [01:59<1:57:42,  1.25it/s]"
          ]
        },
        {
          "output_type": "stream",
          "name": "stdout",
          "text": [
            "torch.Size([1, 13, 197])\n",
            "torch.Size([1, 14, 197])\n",
            "torch.Size([1, 15, 197])\n",
            "\n",
            " file name:  000000320203 \\caption:  a red and white street sign with a street sign in the background.\n",
            "torch.Size([1, 1, 197])\n",
            "torch.Size([1, 2, 197])\n",
            "torch.Size([1, 3, 197])\n",
            "torch.Size([1, 4, 197])\n",
            "torch.Size([1, 5, 197])\n",
            "torch.Size([1, 6, 197])\n",
            "torch.Size([1, 7, 197])\n",
            "torch.Size([1, 8, 197])\n",
            "torch.Size([1, 9, 197])\n"
          ]
        },
        {
          "output_type": "stream",
          "name": "stderr",
          "text": [
            "\r  2%|▏         | 153/8946 [02:00<1:52:57,  1.30it/s]"
          ]
        },
        {
          "output_type": "stream",
          "name": "stdout",
          "text": [
            "torch.Size([1, 10, 197])\n",
            "torch.Size([1, 11, 197])\n",
            "torch.Size([1, 12, 197])\n",
            "\n",
            " file name:  000000392105 \\caption:  a train is on the tracks next to a building.\n",
            "torch.Size([1, 1, 197])\n",
            "torch.Size([1, 2, 197])\n",
            "torch.Size([1, 3, 197])\n",
            "torch.Size([1, 4, 197])\n",
            "torch.Size([1, 5, 197])\n",
            "torch.Size([1, 6, 197])\n",
            "torch.Size([1, 7, 197])\n",
            "torch.Size([1, 8, 197])\n",
            "torch.Size([1, 9, 197])\n",
            "torch.Size([1, 10, 197])\n",
            "torch.Size([1, 11, 197])\n",
            "torch.Size([1, 12, 197])\n",
            "torch.Size([1, 13, 197])\n"
          ]
        },
        {
          "output_type": "stream",
          "name": "stderr",
          "text": [
            "\r  2%|▏         | 154/8946 [02:01<1:54:42,  1.28it/s]"
          ]
        },
        {
          "output_type": "stream",
          "name": "stdout",
          "text": [
            "torch.Size([1, 14, 197])\n",
            "\n",
            " file name:  000000085852 \\caption:  a girl holding a blue umbrella while holding up a blue umbrella.\n",
            "torch.Size([1, 1, 197])\n",
            "torch.Size([1, 2, 197])\n",
            "torch.Size([1, 3, 197])\n",
            "torch.Size([1, 4, 197])\n",
            "torch.Size([1, 5, 197])\n",
            "torch.Size([1, 6, 197])\n",
            "torch.Size([1, 7, 197])\n",
            "torch.Size([1, 8, 197])\n",
            "torch.Size([1, 9, 197])\n",
            "torch.Size([1, 10, 197])\n",
            "torch.Size([1, 11, 197])\n"
          ]
        },
        {
          "output_type": "stream",
          "name": "stderr",
          "text": [
            "\r  2%|▏         | 155/8946 [02:02<1:53:37,  1.29it/s]"
          ]
        },
        {
          "output_type": "stream",
          "name": "stdout",
          "text": [
            "torch.Size([1, 12, 197])\n",
            "torch.Size([1, 13, 197])\n",
            "\n",
            " file name:  000000106206 \\caption:  a young boy is riding a skateboard on a blue surface\n",
            "torch.Size([1, 1, 197])\n",
            "torch.Size([1, 2, 197])\n",
            "torch.Size([1, 3, 197])\n",
            "torch.Size([1, 4, 197])\n",
            "torch.Size([1, 5, 197])\n",
            "torch.Size([1, 6, 197])\n",
            "torch.Size([1, 7, 197])\n",
            "torch.Size([1, 8, 197])\n",
            "torch.Size([1, 9, 197])\n",
            "torch.Size([1, 10, 197])\n"
          ]
        },
        {
          "output_type": "stream",
          "name": "stderr",
          "text": [
            "\r  2%|▏         | 156/8946 [02:02<1:52:43,  1.30it/s]"
          ]
        },
        {
          "output_type": "stream",
          "name": "stdout",
          "text": [
            "torch.Size([1, 11, 197])\n",
            "torch.Size([1, 12, 197])\n",
            "torch.Size([1, 13, 197])\n",
            "\n",
            " file name:  000000532580 \\caption:  a train that is going down the tracks at the station.\n",
            "torch.Size([1, 1, 197])\n",
            "torch.Size([1, 2, 197])\n",
            "torch.Size([1, 3, 197])\n",
            "torch.Size([1, 4, 197])\n",
            "torch.Size([1, 5, 197])\n",
            "torch.Size([1, 6, 197])\n",
            "torch.Size([1, 7, 197])\n",
            "torch.Size([1, 8, 197])\n",
            "torch.Size([1, 9, 197])\n"
          ]
        },
        {
          "output_type": "stream",
          "name": "stderr",
          "text": [
            "\r  2%|▏         | 157/8946 [02:03<1:52:00,  1.31it/s]"
          ]
        },
        {
          "output_type": "stream",
          "name": "stdout",
          "text": [
            "torch.Size([1, 10, 197])\n",
            "torch.Size([1, 11, 197])\n",
            "torch.Size([1, 12, 197])\n",
            "torch.Size([1, 13, 197])\n",
            "\n",
            " file name:  000000088208 \\caption:  a woman in a red jacket is standing in a field.\n",
            "torch.Size([1, 1, 197])\n",
            "torch.Size([1, 2, 197])\n",
            "torch.Size([1, 3, 197])\n",
            "torch.Size([1, 4, 197])\n",
            "torch.Size([1, 5, 197])\n",
            "torch.Size([1, 6, 197])\n",
            "torch.Size([1, 7, 197])\n",
            "torch.Size([1, 8, 197])\n",
            "torch.Size([1, 9, 197])\n",
            "torch.Size([1, 10, 197])\n",
            "torch.Size([1, 11, 197])\n",
            "torch.Size([1, 12, 197])\n"
          ]
        },
        {
          "output_type": "stream",
          "name": "stderr",
          "text": [
            "\r  2%|▏         | 158/8946 [02:04<1:51:46,  1.31it/s]"
          ]
        },
        {
          "output_type": "stream",
          "name": "stdout",
          "text": [
            "torch.Size([1, 13, 197])\n",
            "\n",
            " file name:  000000201220 \\caption:  a man and woman are smiling while driving in a car.\n",
            "torch.Size([1, 1, 197])\n",
            "torch.Size([1, 2, 197])\n",
            "torch.Size([1, 3, 197])\n",
            "torch.Size([1, 4, 197])\n",
            "torch.Size([1, 5, 197])\n",
            "torch.Size([1, 6, 197])\n",
            "torch.Size([1, 7, 197])\n",
            "torch.Size([1, 8, 197])\n",
            "torch.Size([1, 9, 197])\n",
            "torch.Size([1, 10, 197])\n",
            "torch.Size([1, 11, 197])\n"
          ]
        },
        {
          "output_type": "stream",
          "name": "stderr",
          "text": [
            "\r  2%|▏         | 159/8946 [02:05<1:54:15,  1.28it/s]"
          ]
        },
        {
          "output_type": "stream",
          "name": "stdout",
          "text": [
            "torch.Size([1, 12, 197])\n",
            "torch.Size([1, 13, 197])\n",
            "torch.Size([1, 14, 197])\n",
            "\n",
            " file name:  000000003461 \\caption:  a group of people on skis are on a ski slope.\n",
            "torch.Size([1, 1, 197])\n",
            "torch.Size([1, 2, 197])\n",
            "torch.Size([1, 3, 197])\n",
            "torch.Size([1, 4, 197])\n",
            "torch.Size([1, 5, 197])\n",
            "torch.Size([1, 6, 197])\n",
            "torch.Size([1, 7, 197])\n",
            "torch.Size([1, 8, 197])\n",
            "torch.Size([1, 9, 197])\n"
          ]
        },
        {
          "output_type": "stream",
          "name": "stderr",
          "text": [
            "\r  2%|▏         | 160/8946 [02:05<1:53:29,  1.29it/s]"
          ]
        },
        {
          "output_type": "stream",
          "name": "stdout",
          "text": [
            "torch.Size([1, 10, 197])\n",
            "torch.Size([1, 11, 197])\n",
            "torch.Size([1, 12, 197])\n",
            "torch.Size([1, 13, 197])\n",
            "\n",
            " file name:  000000382557 \\caption:  a group of people standing in front of a large sign.\n",
            "torch.Size([1, 1, 197])\n",
            "torch.Size([1, 2, 197])\n",
            "torch.Size([1, 3, 197])\n",
            "torch.Size([1, 4, 197])\n",
            "torch.Size([1, 5, 197])\n",
            "torch.Size([1, 6, 197])\n",
            "torch.Size([1, 7, 197])\n",
            "torch.Size([1, 8, 197])\n",
            "torch.Size([1, 9, 197])\n",
            "torch.Size([1, 10, 197])\n",
            "torch.Size([1, 11, 197])\n",
            "torch.Size([1, 12, 197])\n"
          ]
        },
        {
          "output_type": "stream",
          "name": "stderr",
          "text": [
            "\r  2%|▏         | 161/8946 [02:06<2:01:07,  1.21it/s]"
          ]
        },
        {
          "output_type": "stream",
          "name": "stdout",
          "text": [
            "torch.Size([1, 13, 197])\n",
            "torch.Size([1, 14, 197])\n",
            "torch.Size([1, 15, 197])\n",
            "torch.Size([1, 16, 197])\n",
            "\n",
            " file name:  000000393777 \\caption:  children are playing a game on a television while children watch on the couch.\n",
            "torch.Size([1, 1, 197])\n",
            "torch.Size([1, 2, 197])\n",
            "torch.Size([1, 3, 197])\n",
            "torch.Size([1, 4, 197])\n",
            "torch.Size([1, 5, 197])\n",
            "torch.Size([1, 6, 197])\n",
            "torch.Size([1, 7, 197])\n",
            "torch.Size([1, 8, 197])\n",
            "torch.Size([1, 9, 197])\n",
            "torch.Size([1, 10, 197])\n",
            "torch.Size([1, 11, 197])\n",
            "torch.Size([1, 12, 197])\n"
          ]
        },
        {
          "output_type": "stream",
          "name": "stderr",
          "text": [
            "\r  2%|▏         | 162/8946 [02:07<2:03:20,  1.19it/s]"
          ]
        },
        {
          "output_type": "stream",
          "name": "stdout",
          "text": [
            "torch.Size([1, 13, 197])\n",
            "torch.Size([1, 14, 197])\n",
            "torch.Size([1, 15, 197])\n",
            "\n",
            " file name:  000000053677 \\caption:  a small black and white photo of a small black and white airplane.\n",
            "torch.Size([1, 1, 197])\n",
            "torch.Size([1, 2, 197])\n",
            "torch.Size([1, 3, 197])\n",
            "torch.Size([1, 4, 197])\n",
            "torch.Size([1, 5, 197])\n",
            "torch.Size([1, 6, 197])\n",
            "torch.Size([1, 7, 197])\n",
            "torch.Size([1, 8, 197])\n",
            "torch.Size([1, 9, 197])\n"
          ]
        },
        {
          "output_type": "stream",
          "name": "stderr",
          "text": [
            "\r  2%|▏         | 163/8946 [02:08<1:54:45,  1.28it/s]"
          ]
        },
        {
          "output_type": "stream",
          "name": "stdout",
          "text": [
            "torch.Size([1, 10, 197])\n",
            "torch.Size([1, 11, 197])\n",
            "\n",
            " file name:  000000013414 \\caption:  a parking meter on the side of a road.\n",
            "torch.Size([1, 1, 197])\n",
            "torch.Size([1, 2, 197])\n",
            "torch.Size([1, 3, 197])\n",
            "torch.Size([1, 4, 197])\n",
            "torch.Size([1, 5, 197])\n",
            "torch.Size([1, 6, 197])\n",
            "torch.Size([1, 7, 197])\n",
            "torch.Size([1, 8, 197])\n",
            "torch.Size([1, 9, 197])\n",
            "torch.Size([1, 10, 197])\n"
          ]
        },
        {
          "output_type": "stream",
          "name": "stderr",
          "text": [
            "\r  2%|▏         | 164/8946 [02:09<1:56:14,  1.26it/s]"
          ]
        },
        {
          "output_type": "stream",
          "name": "stdout",
          "text": [
            "torch.Size([1, 11, 197])\n",
            "torch.Size([1, 12, 197])\n",
            "torch.Size([1, 13, 197])\n",
            "torch.Size([1, 14, 197])\n",
            "\n",
            " file name:  000000032566 \\caption:  a giraffe standing next to a giraffe in the grass.\n",
            "torch.Size([1, 1, 197])\n",
            "torch.Size([1, 2, 197])\n",
            "torch.Size([1, 3, 197])\n",
            "torch.Size([1, 4, 197])\n",
            "torch.Size([1, 5, 197])\n",
            "torch.Size([1, 6, 197])\n",
            "torch.Size([1, 7, 197])\n",
            "torch.Size([1, 8, 197])\n"
          ]
        },
        {
          "output_type": "stream",
          "name": "stderr",
          "text": [
            "\r  2%|▏         | 165/8946 [02:09<1:52:36,  1.30it/s]"
          ]
        },
        {
          "output_type": "stream",
          "name": "stdout",
          "text": [
            "torch.Size([1, 9, 197])\n",
            "torch.Size([1, 10, 197])\n",
            "torch.Size([1, 11, 197])\n",
            "torch.Size([1, 12, 197])\n",
            "\n",
            " file name:  4871416563 \\caption:  a woman holding an umbrella while holding a large umbrella.\n",
            "torch.Size([1, 1, 197])\n",
            "torch.Size([1, 2, 197])\n",
            "torch.Size([1, 3, 197])\n",
            "torch.Size([1, 4, 197])\n",
            "torch.Size([1, 5, 197])\n",
            "torch.Size([1, 6, 197])\n",
            "torch.Size([1, 7, 197])\n",
            "torch.Size([1, 8, 197])\n",
            "torch.Size([1, 9, 197])\n",
            "torch.Size([1, 10, 197])\n",
            "torch.Size([1, 11, 197])\n",
            "torch.Size([1, 12, 197])\n"
          ]
        },
        {
          "output_type": "stream",
          "name": "stderr",
          "text": [
            "\r  2%|▏         | 166/8946 [02:10<1:52:15,  1.30it/s]"
          ]
        },
        {
          "output_type": "stream",
          "name": "stdout",
          "text": [
            "torch.Size([1, 13, 197])\n",
            "\n",
            " file name:  000000030791 \\caption:  a teddy bear with a teddy bear on it.\n",
            "torch.Size([1, 1, 197])\n",
            "torch.Size([1, 2, 197])\n",
            "torch.Size([1, 3, 197])\n",
            "torch.Size([1, 4, 197])\n",
            "torch.Size([1, 5, 197])\n",
            "torch.Size([1, 6, 197])\n",
            "torch.Size([1, 7, 197])\n",
            "torch.Size([1, 8, 197])\n",
            "torch.Size([1, 9, 197])\n",
            "torch.Size([1, 10, 197])\n",
            "torch.Size([1, 11, 197])\n",
            "torch.Size([1, 12, 197])\n",
            "torch.Size([1, 13, 197])\n",
            "torch.Size([1, 14, 197])\n",
            "torch.Size([1, 15, 197])\n"
          ]
        },
        {
          "output_type": "stream",
          "name": "stderr",
          "text": [
            "\r  2%|▏         | 167/8946 [02:11<1:57:22,  1.25it/s]"
          ]
        },
        {
          "output_type": "stream",
          "name": "stdout",
          "text": [
            "\n",
            " file name:  4470113445 \\caption:   a man in a red shirt and a red shirt plays a guitar .\n",
            "torch.Size([1, 1, 197])\n",
            "torch.Size([1, 2, 197])\n",
            "torch.Size([1, 3, 197])\n",
            "torch.Size([1, 4, 197])\n",
            "torch.Size([1, 5, 197])\n",
            "torch.Size([1, 6, 197])\n",
            "torch.Size([1, 7, 197])\n"
          ]
        },
        {
          "output_type": "stream",
          "name": "stderr",
          "text": [
            "\r  2%|▏         | 168/8946 [02:12<1:47:56,  1.36it/s]"
          ]
        },
        {
          "output_type": "stream",
          "name": "stdout",
          "text": [
            "torch.Size([1, 8, 197])\n",
            "torch.Size([1, 9, 197])\n",
            "torch.Size([1, 10, 197])\n",
            "\n",
            " file name:  4519904608 \\caption:  a subway train is going down the tracks.\n",
            "torch.Size([1, 1, 197])\n",
            "torch.Size([1, 2, 197])\n",
            "torch.Size([1, 3, 197])\n",
            "torch.Size([1, 4, 197])\n",
            "torch.Size([1, 5, 197])\n",
            "torch.Size([1, 6, 197])\n",
            "torch.Size([1, 7, 197])\n",
            "torch.Size([1, 8, 197])\n",
            "torch.Size([1, 9, 197])\n",
            "torch.Size([1, 10, 197])\n",
            "torch.Size([1, 11, 197])\n",
            "torch.Size([1, 12, 197])\n",
            "torch.Size([1, 13, 197])\n"
          ]
        },
        {
          "output_type": "stream",
          "name": "stderr",
          "text": [
            "\r  2%|▏         | 169/8946 [02:12<1:49:05,  1.34it/s]"
          ]
        },
        {
          "output_type": "stream",
          "name": "stdout",
          "text": [
            "\n",
            " file name:  000000175180 \\caption:  a man riding a snowboard down a snow covered slope.\n",
            "torch.Size([1, 1, 197])\n",
            "torch.Size([1, 2, 197])\n",
            "torch.Size([1, 3, 197])\n",
            "torch.Size([1, 4, 197])\n",
            "torch.Size([1, 5, 197])\n",
            "torch.Size([1, 6, 197])\n",
            "torch.Size([1, 7, 197])\n",
            "torch.Size([1, 8, 197])\n",
            "torch.Size([1, 9, 197])\n",
            "torch.Size([1, 10, 197])\n",
            "torch.Size([1, 11, 197])\n"
          ]
        },
        {
          "output_type": "stream",
          "name": "stderr",
          "text": [
            "\r  2%|▏         | 170/8946 [02:13<1:47:10,  1.36it/s]"
          ]
        },
        {
          "output_type": "stream",
          "name": "stdout",
          "text": [
            "torch.Size([1, 12, 197])\n",
            "\n",
            " file name:  000000346160 \\caption:  a room with a bed, chair, and chair.\n",
            "torch.Size([1, 1, 197])\n",
            "torch.Size([1, 2, 197])\n",
            "torch.Size([1, 3, 197])\n",
            "torch.Size([1, 4, 197])\n",
            "torch.Size([1, 5, 197])\n",
            "torch.Size([1, 6, 197])\n",
            "torch.Size([1, 7, 197])\n",
            "torch.Size([1, 8, 197])\n",
            "torch.Size([1, 9, 197])\n",
            "torch.Size([1, 10, 197])\n",
            "torch.Size([1, 11, 197])\n"
          ]
        },
        {
          "output_type": "stream",
          "name": "stderr",
          "text": [
            "\r  2%|▏         | 171/8946 [02:14<1:48:37,  1.35it/s]"
          ]
        },
        {
          "output_type": "stream",
          "name": "stdout",
          "text": [
            "torch.Size([1, 12, 197])\n",
            "torch.Size([1, 13, 197])\n",
            "\n",
            " file name:  000000253825 \\caption:  a vase with a vase of flowers on it.\n",
            "torch.Size([1, 1, 197])\n",
            "torch.Size([1, 2, 197])\n",
            "torch.Size([1, 3, 197])\n",
            "torch.Size([1, 4, 197])\n",
            "torch.Size([1, 5, 197])\n",
            "torch.Size([1, 6, 197])\n",
            "torch.Size([1, 7, 197])\n",
            "torch.Size([1, 8, 197])\n",
            "torch.Size([1, 9, 197])\n",
            "torch.Size([1, 10, 197])\n"
          ]
        },
        {
          "output_type": "stream",
          "name": "stderr",
          "text": [
            "\r  2%|▏         | 172/8946 [02:15<1:47:03,  1.37it/s]"
          ]
        },
        {
          "output_type": "stream",
          "name": "stdout",
          "text": [
            "torch.Size([1, 11, 197])\n",
            "torch.Size([1, 12, 197])\n",
            "\n",
            " file name:  2617812188 \\caption:   a man is carving a sculpture with a white shirt .\n",
            "torch.Size([1, 1, 197])\n",
            "torch.Size([1, 2, 197])\n",
            "torch.Size([1, 3, 197])\n",
            "torch.Size([1, 4, 197])\n",
            "torch.Size([1, 5, 197])\n",
            "torch.Size([1, 6, 197])\n",
            "torch.Size([1, 7, 197])\n",
            "torch.Size([1, 8, 197])\n",
            "torch.Size([1, 9, 197])\n",
            "torch.Size([1, 10, 197])\n"
          ]
        },
        {
          "output_type": "stream",
          "name": "stderr",
          "text": [
            "\r  2%|▏         | 173/8946 [02:15<1:45:45,  1.38it/s]"
          ]
        },
        {
          "output_type": "stream",
          "name": "stdout",
          "text": [
            "torch.Size([1, 11, 197])\n",
            "torch.Size([1, 12, 197])\n",
            "\n",
            " file name:  000000025516 \\caption:  a black bird standing on top of a suspended rope.\n",
            "torch.Size([1, 1, 197])\n",
            "torch.Size([1, 2, 197])\n",
            "torch.Size([1, 3, 197])\n",
            "torch.Size([1, 4, 197])\n",
            "torch.Size([1, 5, 197])\n",
            "torch.Size([1, 6, 197])\n",
            "torch.Size([1, 7, 197])\n",
            "torch.Size([1, 8, 197])\n",
            "torch.Size([1, 9, 197])\n",
            "torch.Size([1, 10, 197])\n"
          ]
        },
        {
          "output_type": "stream",
          "name": "stderr",
          "text": [
            "\r  2%|▏         | 174/8946 [02:16<1:45:07,  1.39it/s]"
          ]
        },
        {
          "output_type": "stream",
          "name": "stdout",
          "text": [
            "torch.Size([1, 11, 197])\n",
            "torch.Size([1, 12, 197])\n",
            "\n",
            " file name:  000000244735 \\caption:  a case with a tree in the christmas tree.\n",
            "torch.Size([1, 1, 197])\n",
            "torch.Size([1, 2, 197])\n",
            "torch.Size([1, 3, 197])\n",
            "torch.Size([1, 4, 197])\n",
            "torch.Size([1, 5, 197])\n",
            "torch.Size([1, 6, 197])\n",
            "torch.Size([1, 7, 197])\n",
            "torch.Size([1, 8, 197])\n",
            "torch.Size([1, 9, 197])\n",
            "torch.Size([1, 10, 197])\n",
            "\n",
            " file name:  000000480894 \\caption:  two bears are drinking water from a stream."
          ]
        },
        {
          "output_type": "stream",
          "name": "stderr",
          "text": [
            "\r  2%|▏         | 175/8946 [02:17<1:39:21,  1.47it/s]"
          ]
        },
        {
          "output_type": "stream",
          "name": "stdout",
          "text": [
            "\n",
            "torch.Size([1, 1, 197])\n",
            "torch.Size([1, 2, 197])\n",
            "torch.Size([1, 3, 197])\n",
            "torch.Size([1, 4, 197])\n",
            "torch.Size([1, 5, 197])\n",
            "torch.Size([1, 6, 197])\n",
            "torch.Size([1, 7, 197])\n",
            "torch.Size([1, 8, 197])\n",
            "torch.Size([1, 9, 197])\n",
            "torch.Size([1, 10, 197])\n",
            "torch.Size([1, 11, 197])\n"
          ]
        },
        {
          "output_type": "stream",
          "name": "stderr",
          "text": [
            "\r  2%|▏         | 176/8946 [02:17<1:38:01,  1.49it/s]"
          ]
        },
        {
          "output_type": "stream",
          "name": "stdout",
          "text": [
            "\n",
            " file name:  000000192394 \\caption:  a group of people are riding horses on horses.\n",
            "torch.Size([1, 1, 197])\n",
            "torch.Size([1, 2, 197])\n",
            "torch.Size([1, 3, 197])\n",
            "torch.Size([1, 4, 197])\n",
            "torch.Size([1, 5, 197])\n",
            "torch.Size([1, 6, 197])\n",
            "torch.Size([1, 7, 197])\n",
            "torch.Size([1, 8, 197])\n",
            "torch.Size([1, 9, 197])\n",
            "torch.Size([1, 10, 197])\n",
            "torch.Size([1, 11, 197])\n",
            "torch.Size([1, 12, 197])\n",
            "torch.Size([1, 13, 197])\n",
            "torch.Size([1, 14, 197])\n",
            "torch.Size([1, 15, 197])\n",
            "torch.Size([1, 16, 197])\n"
          ]
        },
        {
          "output_type": "stream",
          "name": "stderr",
          "text": [
            "\r  2%|▏         | 177/8946 [02:18<1:55:43,  1.26it/s]"
          ]
        },
        {
          "output_type": "stream",
          "name": "stdout",
          "text": [
            "torch.Size([1, 17, 197])\n",
            "torch.Size([1, 18, 197])\n",
            "\n",
            " file name:  203146155 \\caption:  a woman is holding a wine glass while a man is drinking wine at a table.\n",
            "torch.Size([1, 1, 197])\n",
            "torch.Size([1, 2, 197])\n",
            "torch.Size([1, 3, 197])\n",
            "torch.Size([1, 4, 197])\n",
            "torch.Size([1, 5, 197])\n",
            "torch.Size([1, 6, 197])\n",
            "torch.Size([1, 7, 197])\n",
            "torch.Size([1, 8, 197])\n",
            "torch.Size([1, 9, 197])\n",
            "torch.Size([1, 10, 197])\n"
          ]
        },
        {
          "output_type": "stream",
          "name": "stderr",
          "text": [
            "\r  2%|▏         | 178/8946 [02:19<1:49:21,  1.34it/s]"
          ]
        },
        {
          "output_type": "stream",
          "name": "stdout",
          "text": [
            "torch.Size([1, 11, 197])\n",
            "\n",
            " file name:  000000549932 \\caption:  a woman is getting her luggage from her luggage.\n",
            "torch.Size([1, 1, 197])\n",
            "torch.Size([1, 2, 197])\n",
            "torch.Size([1, 3, 197])\n",
            "torch.Size([1, 4, 197])\n",
            "torch.Size([1, 5, 197])\n",
            "torch.Size([1, 6, 197])\n",
            "torch.Size([1, 7, 197])\n",
            "torch.Size([1, 8, 197])\n",
            "torch.Size([1, 9, 197])\n",
            "torch.Size([1, 10, 197])\n",
            "torch.Size([1, 11, 197])\n",
            "torch.Size([1, 12, 197])\n",
            "torch.Size([1, 13, 197])\n",
            "torch.Size([1, 14, 197])\n",
            "torch.Size([1, 15, 197])\n",
            "\n",
            " file name:  000000031073 "
          ]
        },
        {
          "output_type": "stream",
          "name": "stderr",
          "text": [
            "\r  2%|▏         | 179/8946 [02:20<1:55:10,  1.27it/s]"
          ]
        },
        {
          "output_type": "stream",
          "name": "stdout",
          "text": [
            "\\caption:  a kite is flying in the air while a beautiful blue sky.\n",
            "torch.Size([1, 1, 197])\n",
            "torch.Size([1, 2, 197])\n",
            "torch.Size([1, 3, 197])\n",
            "torch.Size([1, 4, 197])\n",
            "torch.Size([1, 5, 197])\n",
            "torch.Size([1, 6, 197])\n",
            "torch.Size([1, 7, 197])\n",
            "torch.Size([1, 8, 197])\n",
            "torch.Size([1, 9, 197])\n",
            "torch.Size([1, 10, 197])\n",
            "torch.Size([1, 11, 197])\n",
            "\n",
            " file name:  000000304584 \\caption:  "
          ]
        },
        {
          "output_type": "stream",
          "name": "stderr",
          "text": [
            "\r  2%|▏         | 180/8946 [02:21<1:49:10,  1.34it/s]"
          ]
        },
        {
          "output_type": "stream",
          "name": "stdout",
          "text": [
            "a crowd of people eating food in a market.\n",
            "torch.Size([1, 1, 197])\n",
            "torch.Size([1, 2, 197])\n",
            "torch.Size([1, 3, 197])\n",
            "torch.Size([1, 4, 197])\n",
            "torch.Size([1, 5, 197])\n",
            "torch.Size([1, 6, 197])\n",
            "torch.Size([1, 7, 197])\n",
            "torch.Size([1, 8, 197])\n",
            "torch.Size([1, 9, 197])\n",
            "torch.Size([1, 10, 197])\n",
            "torch.Size([1, 11, 197])\n"
          ]
        },
        {
          "output_type": "stream",
          "name": "stderr",
          "text": [
            "\r  2%|▏         | 181/8946 [02:21<1:47:37,  1.36it/s]"
          ]
        },
        {
          "output_type": "stream",
          "name": "stdout",
          "text": [
            "torch.Size([1, 12, 197])\n",
            "\n",
            " file name:  000000033991 \\caption:  a woman and a baby are talking with an elephant.\n",
            "torch.Size([1, 1, 197])\n",
            "torch.Size([1, 2, 197])\n",
            "torch.Size([1, 3, 197])\n",
            "torch.Size([1, 4, 197])\n",
            "torch.Size([1, 5, 197])\n",
            "torch.Size([1, 6, 197])\n",
            "torch.Size([1, 7, 197])\n"
          ]
        },
        {
          "output_type": "stream",
          "name": "stderr",
          "text": [
            "\r  2%|▏         | 182/8946 [02:22<1:41:23,  1.44it/s]"
          ]
        },
        {
          "output_type": "stream",
          "name": "stdout",
          "text": [
            "torch.Size([1, 8, 197])\n",
            "torch.Size([1, 9, 197])\n",
            "torch.Size([1, 10, 197])\n",
            "\n",
            " file name:  000000137836 \\caption:  a giraffe standing next to a tree.\n",
            "torch.Size([1, 1, 197])\n",
            "torch.Size([1, 2, 197])\n",
            "torch.Size([1, 3, 197])\n",
            "torch.Size([1, 4, 197])\n",
            "torch.Size([1, 5, 197])\n",
            "torch.Size([1, 6, 197])\n",
            "torch.Size([1, 7, 197])\n",
            "torch.Size([1, 8, 197])\n",
            "torch.Size([1, 9, 197])\n"
          ]
        },
        {
          "output_type": "stream",
          "name": "stderr",
          "text": [
            "\r  2%|▏         | 183/8946 [02:23<1:45:31,  1.38it/s]"
          ]
        },
        {
          "output_type": "stream",
          "name": "stdout",
          "text": [
            "torch.Size([1, 10, 197])\n",
            "torch.Size([1, 11, 197])\n",
            "torch.Size([1, 12, 197])\n",
            "torch.Size([1, 13, 197])\n",
            "\n",
            " file name:  000000135356 \\caption:  a man washing his son in the sink in a sink.\n",
            "torch.Size([1, 1, 197])\n",
            "torch.Size([1, 2, 197])\n",
            "torch.Size([1, 3, 197])\n",
            "torch.Size([1, 4, 197])\n",
            "torch.Size([1, 5, 197])\n",
            "torch.Size([1, 6, 197])\n",
            "torch.Size([1, 7, 197])\n",
            "torch.Size([1, 8, 197])\n",
            "torch.Size([1, 9, 197])\n",
            "torch.Size([1, 10, 197])\n",
            "torch.Size([1, 11, 197])\n"
          ]
        },
        {
          "output_type": "stream",
          "name": "stderr",
          "text": [
            "\r  2%|▏         | 184/8946 [02:24<1:56:22,  1.25it/s]"
          ]
        },
        {
          "output_type": "stream",
          "name": "stdout",
          "text": [
            "torch.Size([1, 12, 197])\n",
            "torch.Size([1, 13, 197])\n",
            "torch.Size([1, 14, 197])\n",
            "torch.Size([1, 15, 197])\n",
            "\n",
            " file name:  4444147335 \\caption:  a man wearing a shirt and a cell phone talking on his phone.\n",
            "torch.Size([1, 1, 197])\n",
            "torch.Size([1, 2, 197])\n",
            "torch.Size([1, 3, 197])\n",
            "torch.Size([1, 4, 197])\n",
            "torch.Size([1, 5, 197])\n",
            "torch.Size([1, 6, 197])\n",
            "torch.Size([1, 7, 197])\n",
            "torch.Size([1, 8, 197])\n",
            "torch.Size([1, 9, 197])\n",
            "torch.Size([1, 10, 197])\n",
            "torch.Size([1, 11, 197])\n",
            "torch.Size([1, 12, 197])\n"
          ]
        },
        {
          "output_type": "stream",
          "name": "stderr",
          "text": [
            "\r  2%|▏         | 185/8946 [02:24<1:55:38,  1.26it/s]"
          ]
        },
        {
          "output_type": "stream",
          "name": "stdout",
          "text": [
            "torch.Size([1, 13, 197])\n",
            "\n",
            " file name:  000000267242 \\caption:  a group of zebra standing in a grassy plain.\n",
            "torch.Size([1, 1, 197])\n",
            "torch.Size([1, 2, 197])\n",
            "torch.Size([1, 3, 197])\n",
            "torch.Size([1, 4, 197])\n",
            "torch.Size([1, 5, 197])\n",
            "torch.Size([1, 6, 197])\n",
            "torch.Size([1, 7, 197])\n",
            "torch.Size([1, 8, 197])\n",
            "torch.Size([1, 9, 197])\n",
            "torch.Size([1, 10, 197])\n",
            "torch.Size([1, 11, 197])\n"
          ]
        },
        {
          "output_type": "stream",
          "name": "stderr",
          "text": [
            "\r  2%|▏         | 186/8946 [02:25<1:52:09,  1.30it/s]"
          ]
        },
        {
          "output_type": "stream",
          "name": "stdout",
          "text": [
            "torch.Size([1, 12, 197])\n",
            "\n",
            " file name:  000000143696 \\caption:  a riverboat is in the foreground of a river.\n",
            "torch.Size([1, 1, 197])\n",
            "torch.Size([1, 2, 197])\n",
            "torch.Size([1, 3, 197])\n",
            "torch.Size([1, 4, 197])\n",
            "torch.Size([1, 5, 197])\n",
            "torch.Size([1, 6, 197])\n",
            "torch.Size([1, 7, 197])\n",
            "torch.Size([1, 8, 197])\n",
            "torch.Size([1, 9, 197])\n",
            "torch.Size([1, 10, 197])\n",
            "torch.Size([1, 11, 197])\n"
          ]
        },
        {
          "output_type": "stream",
          "name": "stderr",
          "text": [
            "\r  2%|▏         | 187/8946 [02:26<1:52:20,  1.30it/s]"
          ]
        },
        {
          "output_type": "stream",
          "name": "stdout",
          "text": [
            "torch.Size([1, 12, 197])\n",
            "torch.Size([1, 13, 197])\n",
            "\n",
            " file name:  000000319781 \\caption:  a toddler standing on a carpet playing with a cell phone.\n",
            "torch.Size([1, 1, 197])\n",
            "torch.Size([1, 2, 197])\n",
            "torch.Size([1, 3, 197])\n",
            "torch.Size([1, 4, 197])\n",
            "torch.Size([1, 5, 197])\n",
            "torch.Size([1, 6, 197])\n",
            "torch.Size([1, 7, 197])\n",
            "torch.Size([1, 8, 197])\n",
            "torch.Size([1, 9, 197])\n",
            "torch.Size([1, 10, 197])\n"
          ]
        },
        {
          "output_type": "stream",
          "name": "stderr",
          "text": [
            "\r  2%|▏         | 188/8946 [02:27<1:52:44,  1.29it/s]"
          ]
        },
        {
          "output_type": "stream",
          "name": "stdout",
          "text": [
            "torch.Size([1, 11, 197])\n",
            "torch.Size([1, 12, 197])\n",
            "torch.Size([1, 13, 197])\n",
            "\n",
            " file name:  000000135978 \\caption:  a giraffe standing on a tree branch in a forest.\n",
            "torch.Size([1, 1, 197])\n",
            "torch.Size([1, 2, 197])\n",
            "torch.Size([1, 3, 197])\n",
            "torch.Size([1, 4, 197])\n",
            "torch.Size([1, 5, 197])\n",
            "torch.Size([1, 6, 197])\n",
            "torch.Size([1, 7, 197])\n",
            "torch.Size([1, 8, 197])\n",
            "torch.Size([1, 9, 197])\n",
            "torch.Size([1, 10, 197])\n",
            "torch.Size([1, 11, 197])\n",
            "torch.Size([1, 12, 197])\n"
          ]
        },
        {
          "output_type": "stream",
          "name": "stderr",
          "text": [
            "\r  2%|▏         | 189/8946 [02:27<1:53:22,  1.29it/s]"
          ]
        },
        {
          "output_type": "stream",
          "name": "stdout",
          "text": [
            "torch.Size([1, 13, 197])\n",
            "\n",
            " file name:  481054596 \\caption:  people walk down a sidewalk in front of a large building.\n",
            "torch.Size([1, 1, 197])\n",
            "torch.Size([1, 2, 197])\n",
            "torch.Size([1, 3, 197])\n",
            "torch.Size([1, 4, 197])\n",
            "torch.Size([1, 5, 197])\n",
            "torch.Size([1, 6, 197])\n",
            "torch.Size([1, 7, 197])\n",
            "torch.Size([1, 8, 197])\n",
            "torch.Size([1, 9, 197])\n",
            "torch.Size([1, 10, 197])\n",
            "torch.Size([1, 11, 197])\n"
          ]
        },
        {
          "output_type": "stream",
          "name": "stderr",
          "text": [
            "\r  2%|▏         | 190/8946 [02:28<1:51:18,  1.31it/s]"
          ]
        },
        {
          "output_type": "stream",
          "name": "stdout",
          "text": [
            "torch.Size([1, 12, 197])\n",
            "\n",
            " file name:  000000026162 \\caption:  a stop sign on a boat near a large river.\n",
            "torch.Size([1, 1, 197])\n",
            "torch.Size([1, 2, 197])\n",
            "torch.Size([1, 3, 197])\n",
            "torch.Size([1, 4, 197])\n",
            "torch.Size([1, 5, 197])\n",
            "torch.Size([1, 6, 197])\n",
            "torch.Size([1, 7, 197])\n"
          ]
        },
        {
          "output_type": "stream",
          "name": "stderr",
          "text": [
            "\r  2%|▏         | 191/8946 [02:29<1:46:50,  1.37it/s]"
          ]
        },
        {
          "output_type": "stream",
          "name": "stdout",
          "text": [
            "torch.Size([1, 8, 197])\n",
            "torch.Size([1, 9, 197])\n",
            "torch.Size([1, 10, 197])\n",
            "torch.Size([1, 11, 197])\n",
            "\n",
            " file name:  000000015797 \\caption:  a man wearing a snow suit and a snowboard\n",
            "torch.Size([1, 1, 197])\n",
            "torch.Size([1, 2, 197])\n",
            "torch.Size([1, 3, 197])\n",
            "torch.Size([1, 4, 197])\n",
            "torch.Size([1, 5, 197])\n",
            "torch.Size([1, 6, 197])\n",
            "torch.Size([1, 7, 197])\n",
            "torch.Size([1, 8, 197])\n",
            "torch.Size([1, 9, 197])\n",
            "torch.Size([1, 10, 197])\n",
            "torch.Size([1, 11, 197])\n",
            "torch.Size([1, 12, 197])\n",
            "torch.Size([1, 13, 197])\n",
            "torch.Size([1, 14, 197])\n",
            "torch.Size([1, 15, 197])\n",
            "torch.Size([1, 16, 197])\n"
          ]
        },
        {
          "output_type": "stream",
          "name": "stderr",
          "text": [
            "\r  2%|▏         | 192/8946 [02:30<1:59:28,  1.22it/s]"
          ]
        },
        {
          "output_type": "stream",
          "name": "stdout",
          "text": [
            "torch.Size([1, 17, 197])\n",
            "\n",
            " file name:  4357061908 \\caption:   a young man wearing a blue shirt and black shirt is working on his meal .\n",
            "torch.Size([1, 1, 197])\n",
            "torch.Size([1, 2, 197])\n",
            "torch.Size([1, 3, 197])\n",
            "torch.Size([1, 4, 197])\n",
            "torch.Size([1, 5, 197])\n",
            "torch.Size([1, 6, 197])\n",
            "torch.Size([1, 7, 197])\n"
          ]
        },
        {
          "output_type": "stream",
          "name": "stderr",
          "text": [
            "\r  2%|▏         | 193/8946 [02:30<1:46:57,  1.36it/s]"
          ]
        },
        {
          "output_type": "stream",
          "name": "stdout",
          "text": [
            "torch.Size([1, 8, 197])\n",
            "torch.Size([1, 9, 197])\n",
            "\n",
            " file name:  000000298726 \\caption:  a man playing tennis on a tennis court\n",
            "torch.Size([1, 1, 197])\n",
            "torch.Size([1, 2, 197])\n",
            "torch.Size([1, 3, 197])\n",
            "torch.Size([1, 4, 197])\n",
            "torch.Size([1, 5, 197])\n",
            "torch.Size([1, 6, 197])\n",
            "torch.Size([1, 7, 197])\n",
            "torch.Size([1, 8, 197])\n",
            "torch.Size([1, 9, 197])\n",
            "torch.Size([1, 10, 197])\n"
          ]
        },
        {
          "output_type": "stream",
          "name": "stderr",
          "text": [
            "\r  2%|▏         | 194/8946 [02:31<1:48:53,  1.34it/s]"
          ]
        },
        {
          "output_type": "stream",
          "name": "stdout",
          "text": [
            "torch.Size([1, 11, 197])\n",
            "torch.Size([1, 12, 197])\n",
            "torch.Size([1, 13, 197])\n",
            "\n",
            " file name:  3701699584 \\caption:  a man is swinging a tennis ball at a tennis ball.\n",
            "torch.Size([1, 1, 197])\n",
            "torch.Size([1, 2, 197])\n",
            "torch.Size([1, 3, 197])\n",
            "torch.Size([1, 4, 197])\n",
            "torch.Size([1, 5, 197])\n",
            "torch.Size([1, 6, 197])\n",
            "torch.Size([1, 7, 197])\n",
            "torch.Size([1, 8, 197])\n",
            "torch.Size([1, 9, 197])\n",
            "torch.Size([1, 10, 197])\n",
            "torch.Size([1, 11, 197])\n",
            "torch.Size([1, 12, 197])\n",
            "torch.Size([1, 13, 197])\n"
          ]
        },
        {
          "output_type": "stream",
          "name": "stderr",
          "text": [
            "\r  2%|▏         | 195/8946 [02:32<1:52:33,  1.30it/s]"
          ]
        },
        {
          "output_type": "stream",
          "name": "stdout",
          "text": [
            "torch.Size([1, 14, 197])\n",
            "\n",
            " file name:  000000329175 \\caption:  a man is jumping over a ramp on a skate board ramp.\n",
            "torch.Size([1, 1, 197])\n",
            "torch.Size([1, 2, 197])\n",
            "torch.Size([1, 3, 197])\n",
            "torch.Size([1, 4, 197])\n",
            "torch.Size([1, 5, 197])\n",
            "torch.Size([1, 6, 197])\n",
            "torch.Size([1, 7, 197])\n"
          ]
        },
        {
          "output_type": "stream",
          "name": "stderr",
          "text": [
            "\r  2%|▏         | 196/8946 [02:33<1:45:05,  1.39it/s]"
          ]
        },
        {
          "output_type": "stream",
          "name": "stdout",
          "text": [
            "torch.Size([1, 8, 197])\n",
            "torch.Size([1, 9, 197])\n",
            "torch.Size([1, 10, 197])\n",
            "\n",
            " file name:  000000297200 \\caption:  a city street with a car and some cars\n",
            "torch.Size([1, 1, 197])\n",
            "torch.Size([1, 2, 197])\n",
            "torch.Size([1, 3, 197])\n",
            "torch.Size([1, 4, 197])\n",
            "torch.Size([1, 5, 197])\n",
            "torch.Size([1, 6, 197])\n",
            "torch.Size([1, 7, 197])\n",
            "torch.Size([1, 8, 197])\n",
            "torch.Size([1, 9, 197])\n"
          ]
        },
        {
          "output_type": "stream",
          "name": "stderr",
          "text": [
            "\r  2%|▏         | 197/8946 [02:33<1:44:52,  1.39it/s]"
          ]
        },
        {
          "output_type": "stream",
          "name": "stdout",
          "text": [
            "torch.Size([1, 10, 197])\n",
            "torch.Size([1, 11, 197])\n",
            "torch.Size([1, 12, 197])\n",
            "\n",
            " file name:  000000579326 \\caption:  a vegetable plant is growing vegetables in a vegetable field.\n",
            "torch.Size([1, 1, 197])\n",
            "torch.Size([1, 2, 197])\n",
            "torch.Size([1, 3, 197])\n",
            "torch.Size([1, 4, 197])\n",
            "torch.Size([1, 5, 197])\n",
            "torch.Size([1, 6, 197])\n",
            "torch.Size([1, 7, 197])\n",
            "torch.Size([1, 8, 197])\n",
            "torch.Size([1, 9, 197])\n"
          ]
        },
        {
          "output_type": "stream",
          "name": "stderr",
          "text": [
            "\r  2%|▏         | 198/8946 [02:34<1:36:31,  1.51it/s]"
          ]
        },
        {
          "output_type": "stream",
          "name": "stdout",
          "text": [
            "\n",
            " file name:  2215797676 \\caption:   a person is walking down a street .\n",
            "torch.Size([1, 1, 197])\n",
            "torch.Size([1, 2, 197])\n",
            "torch.Size([1, 3, 197])\n",
            "torch.Size([1, 4, 197])\n",
            "torch.Size([1, 5, 197])\n",
            "torch.Size([1, 6, 197])\n",
            "torch.Size([1, 7, 197])\n"
          ]
        },
        {
          "output_type": "stream",
          "name": "stderr",
          "text": [
            "\r  2%|▏         | 199/8946 [02:34<1:33:33,  1.56it/s]"
          ]
        },
        {
          "output_type": "stream",
          "name": "stdout",
          "text": [
            "torch.Size([1, 8, 197])\n",
            "torch.Size([1, 9, 197])\n",
            "torch.Size([1, 10, 197])\n",
            "\n",
            " file name:  000000457453 \\caption:  a stop sign is sitting on a pole.\n",
            "torch.Size([1, 1, 197])\n",
            "torch.Size([1, 2, 197])\n",
            "torch.Size([1, 3, 197])\n",
            "torch.Size([1, 4, 197])\n",
            "torch.Size([1, 5, 197])\n",
            "torch.Size([1, 6, 197])\n",
            "torch.Size([1, 7, 197])\n",
            "torch.Size([1, 8, 197])\n",
            "torch.Size([1, 9, 197])\n",
            "torch.Size([1, 10, 197])\n",
            "torch.Size([1, 11, 197])\n",
            "torch.Size([1, 12, 197])\n",
            "torch.Size([1, 13, 197])\n"
          ]
        },
        {
          "output_type": "stream",
          "name": "stderr",
          "text": [
            "\r  2%|▏         | 200/8946 [02:35<1:38:42,  1.48it/s]"
          ]
        },
        {
          "output_type": "stream",
          "name": "stdout",
          "text": [
            "\n",
            " file name:  000000330356 \\caption:  a herd of giraffes are standing in a field.\n",
            "torch.Size([1, 1, 197])\n",
            "torch.Size([1, 2, 197])\n",
            "torch.Size([1, 3, 197])\n",
            "torch.Size([1, 4, 197])\n",
            "torch.Size([1, 5, 197])\n",
            "torch.Size([1, 6, 197])\n",
            "torch.Size([1, 7, 197])\n",
            "torch.Size([1, 8, 197])\n",
            "torch.Size([1, 9, 197])\n",
            "torch.Size([1, 10, 197])\n",
            "torch.Size([1, 11, 197])\n",
            "torch.Size([1, 12, 197])\n",
            "torch.Size([1, 13, 197])\n",
            "torch.Size([1, 14, 197])\n",
            "torch.Size([1, 15, 197])\n",
            "torch.Size([1, 16, 197])\n",
            "torch.Size([1, 17, 197])\n",
            "torch.Size([1, 18, 197])\n",
            "torch.Size([1, 19, 197])\n",
            "torch.Size([1, 20, 197])\n",
            "torch.Size([1, 21, 197])\n",
            "torch.Size([1, 22, 197])\n",
            "torch.Size([1, 23, 197])\n"
          ]
        },
        {
          "output_type": "stream",
          "name": "stderr",
          "text": [
            "\r  2%|▏         | 201/8946 [02:37<2:14:29,  1.08it/s]"
          ]
        },
        {
          "output_type": "stream",
          "name": "stdout",
          "text": [
            "torch.Size([1, 24, 197])\n",
            "torch.Size([1, 25, 197])\n",
            "\n",
            " file name:  000000473261 \\caption:   a woman in a white shirt is sitting at a computer while another woman in a white shirt is sitting at a table .\n",
            "torch.Size([1, 1, 197])\n",
            "torch.Size([1, 2, 197])\n",
            "torch.Size([1, 3, 197])\n",
            "torch.Size([1, 4, 197])\n",
            "torch.Size([1, 5, 197])\n",
            "torch.Size([1, 6, 197])\n",
            "torch.Size([1, 7, 197])\n",
            "torch.Size([1, 8, 197])\n",
            "torch.Size([1, 9, 197])\n",
            "torch.Size([1, 10, 197])\n",
            "torch.Size([1, 11, 197])\n",
            "torch.Size([1, 12, 197])\n",
            "torch.Size([1, 13, 197])\n",
            "torch.Size([1, 14, 197])\n"
          ]
        },
        {
          "output_type": "stream",
          "name": "stderr",
          "text": [
            "\r  2%|▏         | 202/8946 [02:38<2:18:20,  1.05it/s]"
          ]
        },
        {
          "output_type": "stream",
          "name": "stdout",
          "text": [
            "torch.Size([1, 15, 197])\n",
            "torch.Size([1, 16, 197])\n",
            "torch.Size([1, 17, 197])\n",
            "\n",
            " file name:  2659046789 \\caption:  a man is eating a chocolate cake with a lot of people in the background.\n",
            "torch.Size([1, 1, 197])\n",
            "torch.Size([1, 2, 197])\n",
            "torch.Size([1, 3, 197])\n",
            "torch.Size([1, 4, 197])\n",
            "torch.Size([1, 5, 197])\n",
            "torch.Size([1, 6, 197])\n",
            "torch.Size([1, 7, 197])\n",
            "torch.Size([1, 8, 197])\n",
            "torch.Size([1, 9, 197])\n",
            "torch.Size([1, 10, 197])\n",
            "torch.Size([1, 11, 197])\n",
            "torch.Size([1, 12, 197])\n",
            "torch.Size([1, 13, 197])\n"
          ]
        },
        {
          "output_type": "stream",
          "name": "stderr",
          "text": [
            "\r  2%|▏         | 203/8946 [02:39<2:18:24,  1.05it/s]"
          ]
        },
        {
          "output_type": "stream",
          "name": "stdout",
          "text": [
            "torch.Size([1, 14, 197])\n",
            "torch.Size([1, 15, 197])\n",
            "torch.Size([1, 16, 197])\n",
            "\n",
            " file name:  000000126263 \\caption:  a black and white photo of a dog standing in front of a house.\n",
            "torch.Size([1, 1, 197])\n",
            "torch.Size([1, 2, 197])\n",
            "torch.Size([1, 3, 197])\n",
            "torch.Size([1, 4, 197])\n",
            "torch.Size([1, 5, 197])\n",
            "torch.Size([1, 6, 197])\n",
            "torch.Size([1, 7, 197])\n",
            "torch.Size([1, 8, 197])\n",
            "torch.Size([1, 9, 197])\n"
          ]
        },
        {
          "output_type": "stream",
          "name": "stderr",
          "text": [
            "\r  2%|▏         | 204/8946 [02:39<2:10:18,  1.12it/s]"
          ]
        },
        {
          "output_type": "stream",
          "name": "stdout",
          "text": [
            "torch.Size([1, 10, 197])\n",
            "torch.Size([1, 11, 197])\n",
            "torch.Size([1, 12, 197])\n",
            "torch.Size([1, 13, 197])\n",
            "\n",
            " file name:  000000310558 \\caption:  a man is looking at a laptop on a metal gate.\n",
            "torch.Size([1, 1, 197])\n",
            "torch.Size([1, 2, 197])\n",
            "torch.Size([1, 3, 197])\n",
            "torch.Size([1, 4, 197])\n",
            "torch.Size([1, 5, 197])\n",
            "torch.Size([1, 6, 197])\n",
            "torch.Size([1, 7, 197])\n",
            "torch.Size([1, 8, 197])\n",
            "torch.Size([1, 9, 197])\n",
            "torch.Size([1, 10, 197])\n",
            "torch.Size([1, 11, 197])\n",
            "torch.Size([1, 12, 197])\n"
          ]
        },
        {
          "output_type": "stream",
          "name": "stderr",
          "text": [
            "\r  2%|▏         | 205/8946 [02:40<2:07:38,  1.14it/s]"
          ]
        },
        {
          "output_type": "stream",
          "name": "stdout",
          "text": [
            "torch.Size([1, 13, 197])\n",
            "torch.Size([1, 14, 197])\n",
            "\n",
            " file name:  2582390123 \\caption:  two cows are grazing in a field next to two brown cows.\n",
            "torch.Size([1, 1, 197])\n",
            "torch.Size([1, 2, 197])\n",
            "torch.Size([1, 3, 197])\n",
            "torch.Size([1, 4, 197])\n",
            "torch.Size([1, 5, 197])\n",
            "torch.Size([1, 6, 197])\n"
          ]
        },
        {
          "output_type": "stream",
          "name": "stderr",
          "text": [
            "\r  2%|▏         | 206/8946 [02:41<1:55:07,  1.27it/s]"
          ]
        },
        {
          "output_type": "stream",
          "name": "stdout",
          "text": [
            "torch.Size([1, 7, 197])\n",
            "torch.Size([1, 8, 197])\n",
            "torch.Size([1, 9, 197])\n",
            "torch.Size([1, 10, 197])\n",
            "\n",
            " file name:  000000302489 \\caption:  a white and white structure with a large umbrella\n",
            "torch.Size([1, 1, 197])\n",
            "torch.Size([1, 2, 197])\n",
            "torch.Size([1, 3, 197])\n",
            "torch.Size([1, 4, 197])\n",
            "torch.Size([1, 5, 197])\n",
            "torch.Size([1, 6, 197])\n",
            "torch.Size([1, 7, 197])\n",
            "torch.Size([1, 8, 197])\n"
          ]
        },
        {
          "output_type": "stream",
          "name": "stderr",
          "text": [
            "\r  2%|▏         | 207/8946 [02:41<1:46:49,  1.36it/s]"
          ]
        },
        {
          "output_type": "stream",
          "name": "stdout",
          "text": [
            "torch.Size([1, 9, 197])\n",
            "torch.Size([1, 10, 197])\n",
            "\n",
            " file name:  000000085960 \\caption:  two small boats sitting on a wooden floor.\n",
            "torch.Size([1, 1, 197])\n",
            "torch.Size([1, 2, 197])\n",
            "torch.Size([1, 3, 197])\n",
            "torch.Size([1, 4, 197])\n",
            "torch.Size([1, 5, 197])\n",
            "torch.Size([1, 6, 197])\n",
            "torch.Size([1, 7, 197])\n",
            "torch.Size([1, 8, 197])\n",
            "torch.Size([1, 9, 197])\n",
            "torch.Size([1, 10, 197])\n"
          ]
        },
        {
          "output_type": "stream",
          "name": "stderr",
          "text": [
            "\r  2%|▏         | 208/8946 [02:42<1:51:29,  1.31it/s]"
          ]
        },
        {
          "output_type": "stream",
          "name": "stdout",
          "text": [
            "torch.Size([1, 11, 197])\n",
            "torch.Size([1, 12, 197])\n",
            "torch.Size([1, 13, 197])\n",
            "torch.Size([1, 14, 197])\n",
            "\n",
            " file name:  1220027979 \\caption:  two children sit on a couch with a baby and a baby.\n",
            "torch.Size([1, 1, 197])\n",
            "torch.Size([1, 2, 197])\n",
            "torch.Size([1, 3, 197])\n",
            "torch.Size([1, 4, 197])\n",
            "torch.Size([1, 5, 197])\n",
            "torch.Size([1, 6, 197])\n",
            "torch.Size([1, 7, 197])\n",
            "torch.Size([1, 8, 197])\n",
            "torch.Size([1, 9, 197])\n",
            "torch.Size([1, 10, 197])\n",
            "torch.Size([1, 11, 197])\n",
            "torch.Size([1, 12, 197])\n"
          ]
        },
        {
          "output_type": "stream",
          "name": "stderr",
          "text": [
            "\r  2%|▏         | 209/8946 [02:43<1:51:34,  1.31it/s]"
          ]
        },
        {
          "output_type": "stream",
          "name": "stdout",
          "text": [
            "torch.Size([1, 13, 197])\n",
            "\n",
            " file name:  000000419678 \\caption:  a young child is looking at the contents of a refrigerator.\n",
            "torch.Size([1, 1, 197])\n",
            "torch.Size([1, 2, 197])\n",
            "torch.Size([1, 3, 197])\n",
            "torch.Size([1, 4, 197])\n",
            "torch.Size([1, 5, 197])\n",
            "torch.Size([1, 6, 197])\n",
            "torch.Size([1, 7, 197])\n",
            "torch.Size([1, 8, 197])\n",
            "torch.Size([1, 9, 197])\n",
            "torch.Size([1, 10, 197])\n",
            "torch.Size([1, 11, 197])\n",
            "torch.Size([1, 12, 197])\n",
            "torch.Size([1, 13, 197])\n",
            "torch.Size([1, 14, 197])\n",
            "torch.Size([1, 15, 197])\n"
          ]
        },
        {
          "output_type": "stream",
          "name": "stderr",
          "text": [
            "\r  2%|▏         | 210/8946 [02:44<2:01:59,  1.19it/s]"
          ]
        },
        {
          "output_type": "stream",
          "name": "stdout",
          "text": [
            "torch.Size([1, 16, 197])\n",
            "torch.Size([1, 17, 197])\n",
            "\n",
            " file name:  000000326853 \\caption:   a young boy in a black jacket holding a teddy bear in a window .\n",
            "torch.Size([1, 1, 197])\n",
            "torch.Size([1, 2, 197])\n",
            "torch.Size([1, 3, 197])\n",
            "torch.Size([1, 4, 197])\n",
            "torch.Size([1, 5, 197])\n",
            "torch.Size([1, 6, 197])\n",
            "torch.Size([1, 7, 197])\n",
            "torch.Size([1, 8, 197])\n",
            "torch.Size([1, 9, 197])\n",
            "torch.Size([1, 10, 197])\n"
          ]
        },
        {
          "output_type": "stream",
          "name": "stderr",
          "text": [
            "\r  2%|▏         | 211/8946 [02:45<1:58:52,  1.22it/s]"
          ]
        },
        {
          "output_type": "stream",
          "name": "stdout",
          "text": [
            "torch.Size([1, 11, 197])\n",
            "torch.Size([1, 12, 197])\n",
            "torch.Size([1, 13, 197])\n",
            "\n",
            " file name:  817654759 \\caption:   a man is running in the middle of a running race .\n",
            "torch.Size([1, 1, 197])\n",
            "torch.Size([1, 2, 197])\n",
            "torch.Size([1, 3, 197])\n",
            "torch.Size([1, 4, 197])\n",
            "torch.Size([1, 5, 197])\n",
            "torch.Size([1, 6, 197])\n",
            "torch.Size([1, 7, 197])\n",
            "torch.Size([1, 8, 197])\n",
            "torch.Size([1, 9, 197])\n",
            "torch.Size([1, 10, 197])\n",
            "torch.Size([1, 11, 197])\n",
            "torch.Size([1, 12, 197])\n",
            "torch.Size([1, 13, 197])\n"
          ]
        },
        {
          "output_type": "stream",
          "name": "stderr",
          "text": [
            "\r  2%|▏         | 212/8946 [02:46<1:59:34,  1.22it/s]"
          ]
        },
        {
          "output_type": "stream",
          "name": "stdout",
          "text": [
            "torch.Size([1, 14, 197])\n",
            "\n",
            " file name:  000000156282 \\caption:  a man is flying a kite while flying a kite.\n",
            "torch.Size([1, 1, 197])\n",
            "torch.Size([1, 2, 197])\n",
            "torch.Size([1, 3, 197])\n",
            "torch.Size([1, 4, 197])\n",
            "torch.Size([1, 5, 197])\n",
            "torch.Size([1, 6, 197])\n",
            "torch.Size([1, 7, 197])\n"
          ]
        },
        {
          "output_type": "stream",
          "name": "stderr",
          "text": [
            "\r  2%|▏         | 213/8946 [02:46<1:52:11,  1.30it/s]"
          ]
        },
        {
          "output_type": "stream",
          "name": "stdout",
          "text": [
            "torch.Size([1, 8, 197])\n",
            "torch.Size([1, 9, 197])\n",
            "torch.Size([1, 10, 197])\n",
            "torch.Size([1, 11, 197])\n",
            "\n",
            " file name:  000000425522 \\caption:  a suitcase that is packed up in a storage.\n",
            "torch.Size([1, 1, 197])\n",
            "torch.Size([1, 2, 197])\n",
            "torch.Size([1, 3, 197])\n",
            "torch.Size([1, 4, 197])\n",
            "torch.Size([1, 5, 197])\n",
            "torch.Size([1, 6, 197])\n",
            "torch.Size([1, 7, 197])\n",
            "torch.Size([1, 8, 197])\n",
            "torch.Size([1, 9, 197])\n",
            "torch.Size([1, 10, 197])\n",
            "torch.Size([1, 11, 197])\n",
            "torch.Size([1, 12, 197])\n"
          ]
        },
        {
          "output_type": "stream",
          "name": "stderr",
          "text": [
            "\r  2%|▏         | 214/8946 [02:47<1:54:59,  1.27it/s]"
          ]
        },
        {
          "output_type": "stream",
          "name": "stdout",
          "text": [
            "torch.Size([1, 13, 197])\n",
            "torch.Size([1, 14, 197])\n",
            "\n",
            " file name:  000000313280 \\caption:  a skateboarder is jumping his skateboard down a street.\n",
            "torch.Size([1, 1, 197])\n",
            "torch.Size([1, 2, 197])\n",
            "torch.Size([1, 3, 197])\n",
            "torch.Size([1, 4, 197])\n",
            "torch.Size([1, 5, 197])\n",
            "torch.Size([1, 6, 197])\n",
            "torch.Size([1, 7, 197])\n",
            "torch.Size([1, 8, 197])\n",
            "torch.Size([1, 9, 197])\n",
            "torch.Size([1, 10, 197])\n"
          ]
        },
        {
          "output_type": "stream",
          "name": "stderr",
          "text": [
            "\r  2%|▏         | 215/8946 [02:48<1:56:37,  1.25it/s]"
          ]
        },
        {
          "output_type": "stream",
          "name": "stdout",
          "text": [
            "torch.Size([1, 11, 197])\n",
            "torch.Size([1, 12, 197])\n",
            "torch.Size([1, 13, 197])\n",
            "torch.Size([1, 14, 197])\n",
            "\n",
            " file name:  000000248391 \\caption:  a group of people jumping a tree with a frisbee.\n",
            "torch.Size([1, 1, 197])\n",
            "torch.Size([1, 2, 197])\n",
            "torch.Size([1, 3, 197])\n",
            "torch.Size([1, 4, 197])\n",
            "torch.Size([1, 5, 197])\n",
            "torch.Size([1, 6, 197])\n",
            "torch.Size([1, 7, 197])\n",
            "torch.Size([1, 8, 197])\n"
          ]
        },
        {
          "output_type": "stream",
          "name": "stderr",
          "text": [
            "\r  2%|▏         | 216/8946 [02:49<1:47:22,  1.36it/s]"
          ]
        },
        {
          "output_type": "stream",
          "name": "stdout",
          "text": [
            "torch.Size([1, 9, 197])\n",
            "torch.Size([1, 10, 197])\n",
            "\n",
            " file name:  000000490908 \\caption:  a vase full of flowers on a table\n",
            "torch.Size([1, 1, 197])\n",
            "torch.Size([1, 2, 197])\n",
            "torch.Size([1, 3, 197])\n",
            "torch.Size([1, 4, 197])\n",
            "torch.Size([1, 5, 197])\n",
            "torch.Size([1, 6, 197])\n",
            "torch.Size([1, 7, 197])\n",
            "torch.Size([1, 8, 197])\n",
            "torch.Size([1, 9, 197])\n",
            "torch.Size([1, 10, 197])\n"
          ]
        },
        {
          "output_type": "stream",
          "name": "stderr",
          "text": [
            "\r  2%|▏         | 217/8946 [02:49<1:43:37,  1.40it/s]"
          ]
        },
        {
          "output_type": "stream",
          "name": "stdout",
          "text": [
            "torch.Size([1, 11, 197])\n",
            "\n",
            " file name:  000000265971 \\caption:  a woman is playing tennis on a tennis court.\n",
            "torch.Size([1, 1, 197])\n",
            "torch.Size([1, 2, 197])\n",
            "torch.Size([1, 3, 197])\n",
            "torch.Size([1, 4, 197])\n",
            "torch.Size([1, 5, 197])\n",
            "torch.Size([1, 6, 197])\n",
            "torch.Size([1, 7, 197])\n",
            "torch.Size([1, 8, 197])\n",
            "torch.Size([1, 9, 197])\n",
            "torch.Size([1, 10, 197])\n",
            "torch.Size([1, 11, 197])\n",
            "torch.Size([1, 12, 197])\n",
            "torch.Size([1, 13, 197])\n",
            "torch.Size([1, 14, 197])\n",
            "torch.Size([1, 15, 197])\n"
          ]
        },
        {
          "output_type": "stream",
          "name": "stderr",
          "text": [
            "\r  2%|▏         | 218/8946 [02:50<1:56:42,  1.25it/s]"
          ]
        },
        {
          "output_type": "stream",
          "name": "stdout",
          "text": [
            "torch.Size([1, 16, 197])\n",
            "torch.Size([1, 17, 197])\n",
            "\n",
            " file name:  4563139415 \\caption:   a man is standing in front of a building that has a sign on it .\n",
            "torch.Size([1, 1, 197])\n",
            "torch.Size([1, 2, 197])\n",
            "torch.Size([1, 3, 197])\n",
            "torch.Size([1, 4, 197])\n",
            "torch.Size([1, 5, 197])\n",
            "torch.Size([1, 6, 197])\n",
            "torch.Size([1, 7, 197])\n",
            "torch.Size([1, 8, 197])\n",
            "torch.Size([1, 9, 197])\n",
            "torch.Size([1, 10, 197])\n"
          ]
        },
        {
          "output_type": "stream",
          "name": "stderr",
          "text": [
            "\r  2%|▏         | 219/8946 [02:51<1:55:08,  1.26it/s]"
          ]
        },
        {
          "output_type": "stream",
          "name": "stdout",
          "text": [
            "torch.Size([1, 11, 197])\n",
            "torch.Size([1, 12, 197])\n",
            "torch.Size([1, 13, 197])\n",
            "\n",
            " file name:  000000054924 \\caption:  a variety of different types of different electronics including a phone.\n",
            "torch.Size([1, 1, 197])\n",
            "torch.Size([1, 2, 197])\n",
            "torch.Size([1, 3, 197])\n",
            "torch.Size([1, 4, 197])\n",
            "torch.Size([1, 5, 197])\n",
            "torch.Size([1, 6, 197])\n",
            "torch.Size([1, 7, 197])\n",
            "torch.Size([1, 8, 197])\n",
            "torch.Size([1, 9, 197])\n",
            "torch.Size([1, 10, 197])\n",
            "torch.Size([1, 11, 197])\n",
            "torch.Size([1, 12, 197])\n",
            "torch.Size([1, 13, 197])\n",
            "torch.Size([1, 14, 197])\n",
            "torch.Size([1, 15, 197])\n",
            "torch.Size([1, 16, 197])\n",
            "torch.Size([1, 17, 197])\n"
          ]
        },
        {
          "output_type": "stream",
          "name": "stderr",
          "text": [
            "\r  2%|▏         | 220/8946 [02:52<2:09:32,  1.12it/s]"
          ]
        },
        {
          "output_type": "stream",
          "name": "stdout",
          "text": [
            "torch.Size([1, 18, 197])\n",
            "torch.Size([1, 19, 197])\n",
            "\n",
            " file name:  3182509597 \\caption:  a man is sitting on a white boat in the water with a man in the background.\n",
            "torch.Size([1, 1, 197])\n",
            "torch.Size([1, 2, 197])\n",
            "torch.Size([1, 3, 197])\n",
            "torch.Size([1, 4, 197])\n",
            "torch.Size([1, 5, 197])\n",
            "torch.Size([1, 6, 197])\n",
            "torch.Size([1, 7, 197])\n",
            "torch.Size([1, 8, 197])\n",
            "torch.Size([1, 9, 197])\n",
            "torch.Size([1, 10, 197])\n"
          ]
        },
        {
          "output_type": "stream",
          "name": "stderr",
          "text": [
            "\r  2%|▏         | 221/8946 [02:53<1:58:34,  1.23it/s]"
          ]
        },
        {
          "output_type": "stream",
          "name": "stdout",
          "text": [
            "torch.Size([1, 11, 197])\n",
            "\n",
            " file name:  000000484494 \\caption:  two cows are grazing in a field with cows.\n",
            "torch.Size([1, 1, 197])\n",
            "torch.Size([1, 2, 197])\n",
            "torch.Size([1, 3, 197])\n",
            "torch.Size([1, 4, 197])\n",
            "torch.Size([1, 5, 197])\n",
            "torch.Size([1, 6, 197])\n",
            "torch.Size([1, 7, 197])\n",
            "torch.Size([1, 8, 197])\n",
            "torch.Size([1, 9, 197])\n",
            "torch.Size([1, 10, 197])\n",
            "torch.Size([1, 11, 197])\n",
            "torch.Size([1, 12, 197])\n",
            "torch.Size([1, 13, 197])\n",
            "torch.Size([1, 14, 197])\n",
            "torch.Size([1, 15, 197])\n",
            "torch.Size([1, 16, 197])\n",
            "torch.Size([1, 17, 197])\n",
            "torch.Size([1, 18, 197])\n",
            "torch.Size([1, 19, 197])\n"
          ]
        },
        {
          "output_type": "stream",
          "name": "stderr",
          "text": [
            "\r  2%|▏         | 222/8946 [02:54<2:14:42,  1.08it/s]"
          ]
        },
        {
          "output_type": "stream",
          "name": "stdout",
          "text": [
            "torch.Size([1, 20, 197])\n",
            "\n",
            " file name:  000000533522 \\caption:  a woman is sitting in front of a wine-covered wall with a wine rack on it.\n",
            "torch.Size([1, 1, 197])\n",
            "torch.Size([1, 2, 197])\n",
            "torch.Size([1, 3, 197])\n",
            "torch.Size([1, 4, 197])\n",
            "torch.Size([1, 5, 197])\n",
            "torch.Size([1, 6, 197])\n",
            "torch.Size([1, 7, 197])\n",
            "torch.Size([1, 8, 197])\n",
            "torch.Size([1, 9, 197])\n",
            "torch.Size([1, 10, 197])\n",
            "torch.Size([1, 11, 197])\n"
          ]
        },
        {
          "output_type": "stream",
          "name": "stderr",
          "text": [
            "\r  2%|▏         | 223/8946 [02:55<2:04:58,  1.16it/s]"
          ]
        },
        {
          "output_type": "stream",
          "name": "stdout",
          "text": [
            "torch.Size([1, 12, 197])\n",
            "\n",
            " file name:  000000040100 \\caption:  a man is standing in the grass with a baseball.\n",
            "torch.Size([1, 1, 197])\n",
            "torch.Size([1, 2, 197])\n",
            "torch.Size([1, 3, 197])\n",
            "torch.Size([1, 4, 197])\n",
            "torch.Size([1, 5, 197])\n",
            "torch.Size([1, 6, 197])\n",
            "torch.Size([1, 7, 197])\n",
            "torch.Size([1, 8, 197])\n",
            "torch.Size([1, 9, 197])\n",
            "torch.Size([1, 10, 197])\n",
            "torch.Size([1, 11, 197])\n"
          ]
        },
        {
          "output_type": "stream",
          "name": "stderr",
          "text": [
            "\r  3%|▎         | 224/8946 [02:55<1:58:04,  1.23it/s]"
          ]
        },
        {
          "output_type": "stream",
          "name": "stdout",
          "text": [
            "torch.Size([1, 12, 197])\n",
            "\n",
            " file name:  000000068442 \\caption:  a room with a bed and a backpack on it.\n",
            "torch.Size([1, 1, 197])\n",
            "torch.Size([1, 2, 197])\n",
            "torch.Size([1, 3, 197])\n",
            "torch.Size([1, 4, 197])\n",
            "torch.Size([1, 5, 197])\n",
            "torch.Size([1, 6, 197])\n",
            "torch.Size([1, 7, 197])\n",
            "torch.Size([1, 8, 197])\n",
            "torch.Size([1, 9, 197])\n",
            "torch.Size([1, 10, 197])\n",
            "torch.Size([1, 11, 197])\n"
          ]
        },
        {
          "output_type": "stream",
          "name": "stderr",
          "text": [
            "\r  3%|▎         | 225/8946 [02:56<1:55:49,  1.25it/s]"
          ]
        },
        {
          "output_type": "stream",
          "name": "stdout",
          "text": [
            "torch.Size([1, 12, 197])\n",
            "torch.Size([1, 13, 197])\n",
            "\n",
            " file name:  000000306627 \\caption:  a man with a mustache and glasses is cutting a pie.\n",
            "torch.Size([1, 1, 197])\n",
            "torch.Size([1, 2, 197])\n",
            "torch.Size([1, 3, 197])\n",
            "torch.Size([1, 4, 197])\n",
            "torch.Size([1, 5, 197])\n",
            "torch.Size([1, 6, 197])\n",
            "torch.Size([1, 7, 197])\n",
            "torch.Size([1, 8, 197])\n",
            "torch.Size([1, 9, 197])\n",
            "torch.Size([1, 10, 197])\n",
            "torch.Size([1, 11, 197])\n",
            "torch.Size([1, 12, 197])\n",
            "torch.Size([1, 13, 197])\n",
            "torch.Size([1, 14, 197])\n"
          ]
        },
        {
          "output_type": "stream",
          "name": "stderr",
          "text": [
            "\r  3%|▎         | 226/8946 [02:57<2:04:32,  1.17it/s]"
          ]
        },
        {
          "output_type": "stream",
          "name": "stdout",
          "text": [
            "torch.Size([1, 15, 197])\n",
            "torch.Size([1, 16, 197])\n",
            "torch.Size([1, 17, 197])\n",
            "\n",
            " file name:  000000393480 \\caption:  a man wearing a red coat and coat is sitting on a snow covered slope.\n",
            "torch.Size([1, 1, 197])\n",
            "torch.Size([1, 2, 197])\n",
            "torch.Size([1, 3, 197])\n",
            "torch.Size([1, 4, 197])\n",
            "torch.Size([1, 5, 197])\n",
            "torch.Size([1, 6, 197])\n",
            "torch.Size([1, 7, 197])\n",
            "torch.Size([1, 8, 197])\n",
            "torch.Size([1, 9, 197])\n"
          ]
        },
        {
          "output_type": "stream",
          "name": "stderr",
          "text": [
            "\r  3%|▎         | 227/8946 [02:58<2:00:41,  1.20it/s]"
          ]
        },
        {
          "output_type": "stream",
          "name": "stdout",
          "text": [
            "torch.Size([1, 10, 197])\n",
            "torch.Size([1, 11, 197])\n",
            "torch.Size([1, 12, 197])\n",
            "torch.Size([1, 13, 197])\n",
            "\n",
            " file name:  000000176392 \\caption:  a group of people are sitting around a table with food.\n",
            "torch.Size([1, 1, 197])\n",
            "torch.Size([1, 2, 197])\n",
            "torch.Size([1, 3, 197])\n",
            "torch.Size([1, 4, 197])\n",
            "torch.Size([1, 5, 197])\n",
            "torch.Size([1, 6, 197])\n",
            "torch.Size([1, 7, 197])\n",
            "torch.Size([1, 8, 197])\n",
            "torch.Size([1, 9, 197])\n",
            "torch.Size([1, 10, 197])\n",
            "torch.Size([1, 11, 197])\n",
            "torch.Size([1, 12, 197])\n",
            "torch.Size([1, 13, 197])\n",
            "torch.Size([1, 14, 197])\n",
            "torch.Size([1, 15, 197])\n",
            "torch.Size([1, 16, 197])\n"
          ]
        },
        {
          "output_type": "stream",
          "name": "stderr",
          "text": [
            "\r  3%|▎         | 228/8946 [02:59<2:08:05,  1.13it/s]"
          ]
        },
        {
          "output_type": "stream",
          "name": "stdout",
          "text": [
            "torch.Size([1, 17, 197])\n",
            "\n",
            " file name:  000000281855 \\caption:   a man and woman are standing on a beach watching the sunset unfold the clouds .\n",
            "torch.Size([1, 1, 197])\n",
            "torch.Size([1, 2, 197])\n",
            "torch.Size([1, 3, 197])\n",
            "torch.Size([1, 4, 197])\n",
            "torch.Size([1, 5, 197])\n",
            "torch.Size([1, 6, 197])\n",
            "torch.Size([1, 7, 197])\n",
            "torch.Size([1, 8, 197])\n",
            "torch.Size([1, 9, 197])\n",
            "torch.Size([1, 10, 197])\n",
            "torch.Size([1, 11, 197])\n"
          ]
        },
        {
          "output_type": "stream",
          "name": "stderr",
          "text": [
            "\r  3%|▎         | 229/8946 [03:00<2:05:47,  1.15it/s]"
          ]
        },
        {
          "output_type": "stream",
          "name": "stdout",
          "text": [
            "torch.Size([1, 12, 197])\n",
            "torch.Size([1, 13, 197])\n",
            "torch.Size([1, 14, 197])\n",
            "\n",
            " file name:  000000146640 \\caption:  a young man is holding a tennis racket and a tennis racket.\n",
            "torch.Size([1, 1, 197])\n",
            "torch.Size([1, 2, 197])\n",
            "torch.Size([1, 3, 197])\n",
            "torch.Size([1, 4, 197])\n",
            "torch.Size([1, 5, 197])\n",
            "torch.Size([1, 6, 197])\n",
            "torch.Size([1, 7, 197])\n",
            "torch.Size([1, 8, 197])\n",
            "torch.Size([1, 9, 197])\n"
          ]
        },
        {
          "output_type": "stream",
          "name": "stderr",
          "text": [
            "\r  3%|▎         | 230/8946 [03:00<2:01:25,  1.20it/s]"
          ]
        },
        {
          "output_type": "stream",
          "name": "stdout",
          "text": [
            "torch.Size([1, 10, 197])\n",
            "torch.Size([1, 11, 197])\n",
            "torch.Size([1, 12, 197])\n",
            "torch.Size([1, 13, 197])\n",
            "\n",
            " file name:  000000165064 \\caption:  a young girl in a red dress standing in a water.\n",
            "torch.Size([1, 1, 197])\n",
            "torch.Size([1, 2, 197])\n",
            "torch.Size([1, 3, 197])\n",
            "torch.Size([1, 4, 197])\n",
            "torch.Size([1, 5, 197])\n",
            "torch.Size([1, 6, 197])\n",
            "torch.Size([1, 7, 197])\n",
            "torch.Size([1, 8, 197])\n",
            "torch.Size([1, 9, 197])\n",
            "torch.Size([1, 10, 197])\n",
            "torch.Size([1, 11, 197])\n",
            "torch.Size([1, 12, 197])\n"
          ]
        },
        {
          "output_type": "stream",
          "name": "stderr",
          "text": [
            "\r  3%|▎         | 231/8946 [03:01<1:58:13,  1.23it/s]"
          ]
        },
        {
          "output_type": "stream",
          "name": "stdout",
          "text": [
            "torch.Size([1, 13, 197])\n",
            "\n",
            " file name:  000000166047 \\caption:  a man playing tennis on a tennis court with a ball.\n",
            "torch.Size([1, 1, 197])\n",
            "torch.Size([1, 2, 197])\n",
            "torch.Size([1, 3, 197])\n",
            "torch.Size([1, 4, 197])\n",
            "torch.Size([1, 5, 197])\n",
            "torch.Size([1, 6, 197])\n",
            "torch.Size([1, 7, 197])\n"
          ]
        },
        {
          "output_type": "stream",
          "name": "stderr",
          "text": [
            "\r  3%|▎         | 232/8946 [03:02<1:48:29,  1.34it/s]"
          ]
        },
        {
          "output_type": "stream",
          "name": "stdout",
          "text": [
            "torch.Size([1, 8, 197])\n",
            "torch.Size([1, 9, 197])\n",
            "torch.Size([1, 10, 197])\n",
            "\n",
            " file name:  000000033717 \\caption:  a small child is playing with a toy.\n",
            "torch.Size([1, 1, 197])\n",
            "torch.Size([1, 2, 197])\n",
            "torch.Size([1, 3, 197])\n",
            "torch.Size([1, 4, 197])\n",
            "torch.Size([1, 5, 197])\n",
            "torch.Size([1, 6, 197])\n",
            "torch.Size([1, 7, 197])\n",
            "torch.Size([1, 8, 197])\n",
            "torch.Size([1, 9, 197])\n"
          ]
        },
        {
          "output_type": "stream",
          "name": "stderr",
          "text": [
            "\r  3%|▎         | 233/8946 [03:02<1:46:35,  1.36it/s]"
          ]
        },
        {
          "output_type": "stream",
          "name": "stdout",
          "text": [
            "torch.Size([1, 10, 197])\n",
            "torch.Size([1, 11, 197])\n",
            "torch.Size([1, 12, 197])\n",
            "\n",
            " file name:  000000330916 \\caption:  a refrigerator with a microwave and a stainless steel refrigerator.\n",
            "torch.Size([1, 1, 197])\n",
            "torch.Size([1, 2, 197])\n",
            "torch.Size([1, 3, 197])\n",
            "torch.Size([1, 4, 197])\n",
            "torch.Size([1, 5, 197])\n",
            "torch.Size([1, 6, 197])\n",
            "torch.Size([1, 7, 197])\n",
            "torch.Size([1, 8, 197])\n",
            "torch.Size([1, 9, 197])\n",
            "torch.Size([1, 10, 197])\n",
            "torch.Size([1, 11, 197])\n",
            "torch.Size([1, 12, 197])\n"
          ]
        },
        {
          "output_type": "stream",
          "name": "stderr",
          "text": [
            "\r  3%|▎         | 234/8946 [03:03<1:48:23,  1.34it/s]"
          ]
        },
        {
          "output_type": "stream",
          "name": "stdout",
          "text": [
            "torch.Size([1, 13, 197])\n",
            "\n",
            " file name:  000000479531 \\caption:  a sign that is on the tracks of a railroad track.\n",
            "torch.Size([1, 1, 197])\n",
            "torch.Size([1, 2, 197])\n",
            "torch.Size([1, 3, 197])\n",
            "torch.Size([1, 4, 197])\n",
            "torch.Size([1, 5, 197])\n",
            "torch.Size([1, 6, 197])\n",
            "torch.Size([1, 7, 197])\n"
          ]
        },
        {
          "output_type": "stream",
          "name": "stderr",
          "text": [
            "\r  3%|▎         | 235/8946 [03:04<1:44:12,  1.39it/s]"
          ]
        },
        {
          "output_type": "stream",
          "name": "stdout",
          "text": [
            "torch.Size([1, 8, 197])\n",
            "torch.Size([1, 9, 197])\n",
            "torch.Size([1, 10, 197])\n",
            "torch.Size([1, 11, 197])\n",
            "\n",
            " file name:  000000032960 \\caption:  a red and red train traveling down a track.\n",
            "torch.Size([1, 1, 197])\n",
            "torch.Size([1, 2, 197])\n",
            "torch.Size([1, 3, 197])\n",
            "torch.Size([1, 4, 197])\n",
            "torch.Size([1, 5, 197])\n",
            "torch.Size([1, 6, 197])\n",
            "torch.Size([1, 7, 197])\n",
            "torch.Size([1, 8, 197])\n"
          ]
        },
        {
          "output_type": "stream",
          "name": "stderr",
          "text": [
            "\r  3%|▎         | 236/8946 [03:04<1:36:17,  1.51it/s]"
          ]
        },
        {
          "output_type": "stream",
          "name": "stdout",
          "text": [
            "torch.Size([1, 9, 197])\n",
            "\n",
            " file name:  000000311773 \\caption:  a child is playing with a toy.\n",
            "torch.Size([1, 1, 197])\n",
            "torch.Size([1, 2, 197])\n",
            "torch.Size([1, 3, 197])\n",
            "torch.Size([1, 4, 197])\n",
            "torch.Size([1, 5, 197])\n",
            "torch.Size([1, 6, 197])\n",
            "torch.Size([1, 7, 197])\n"
          ]
        },
        {
          "output_type": "stream",
          "name": "stderr",
          "text": [
            "\r  3%|▎         | 237/8946 [03:05<1:35:21,  1.52it/s]"
          ]
        },
        {
          "output_type": "stream",
          "name": "stdout",
          "text": [
            "torch.Size([1, 8, 197])\n",
            "torch.Size([1, 9, 197])\n",
            "torch.Size([1, 10, 197])\n",
            "torch.Size([1, 11, 197])\n",
            "\n",
            " file name:  000000420610 \\caption:  a table has a selection of food and vegetables.\n",
            "torch.Size([1, 1, 197])\n",
            "torch.Size([1, 2, 197])\n",
            "torch.Size([1, 3, 197])\n",
            "torch.Size([1, 4, 197])\n",
            "torch.Size([1, 5, 197])\n",
            "torch.Size([1, 6, 197])\n",
            "torch.Size([1, 7, 197])\n",
            "torch.Size([1, 8, 197])\n",
            "torch.Size([1, 9, 197])\n",
            "torch.Size([1, 10, 197])\n",
            "torch.Size([1, 11, 197])\n",
            "torch.Size([1, 12, 197])\n",
            "torch.Size([1, 13, 197])\n",
            "torch.Size([1, 14, 197])\n",
            "torch.Size([1, 15, 197])\n",
            "torch.Size([1, 16, 197])\n",
            "torch.Size([1, 17, 197])\n",
            "torch.Size([1, 18, 197])\n",
            "torch.Size([1, 19, 197])\n",
            "torch.Size([1, 20, 197])\n"
          ]
        },
        {
          "output_type": "stream",
          "name": "stderr",
          "text": [
            "\r  3%|▎         | 238/8946 [03:06<2:05:45,  1.15it/s]"
          ]
        },
        {
          "output_type": "stream",
          "name": "stdout",
          "text": [
            "torch.Size([1, 21, 197])\n",
            "torch.Size([1, 22, 197])\n",
            "torch.Size([1, 23, 197])\n",
            "\n",
            " file name:  3184738462 \\caption:   man in a coat standing next to a sign standing next to a sign next to a sign on the wall.\n",
            "torch.Size([1, 1, 197])\n",
            "torch.Size([1, 2, 197])\n",
            "torch.Size([1, 3, 197])\n",
            "torch.Size([1, 4, 197])\n",
            "torch.Size([1, 5, 197])\n",
            "torch.Size([1, 6, 197])\n",
            "torch.Size([1, 7, 197])\n",
            "torch.Size([1, 8, 197])\n",
            "torch.Size([1, 9, 197])\n"
          ]
        },
        {
          "output_type": "stream",
          "name": "stderr",
          "text": [
            "\r  3%|▎         | 239/8946 [03:07<1:58:33,  1.22it/s]"
          ]
        },
        {
          "output_type": "stream",
          "name": "stdout",
          "text": [
            "torch.Size([1, 10, 197])\n",
            "torch.Size([1, 11, 197])\n",
            "torch.Size([1, 12, 197])\n",
            "\n",
            " file name:  000000021374 \\caption:  a red bus is on the side of a road.\n",
            "torch.Size([1, 1, 197])\n",
            "torch.Size([1, 2, 197])\n",
            "torch.Size([1, 3, 197])\n",
            "torch.Size([1, 4, 197])\n",
            "torch.Size([1, 5, 197])\n",
            "torch.Size([1, 6, 197])\n",
            "torch.Size([1, 7, 197])\n",
            "torch.Size([1, 8, 197])\n",
            "torch.Size([1, 9, 197])\n",
            "torch.Size([1, 10, 197])\n",
            "torch.Size([1, 11, 197])\n",
            "torch.Size([1, 12, 197])\n",
            "torch.Size([1, 13, 197])\n"
          ]
        },
        {
          "output_type": "stream",
          "name": "stderr",
          "text": [
            "\r  3%|▎         | 240/8946 [03:08<1:56:07,  1.25it/s]"
          ]
        },
        {
          "output_type": "stream",
          "name": "stdout",
          "text": [
            "\n",
            " file name:  000000567997 \\caption:   a black and white dog standing in a dirt covered spot .\n",
            "torch.Size([1, 1, 197])\n",
            "torch.Size([1, 2, 197])\n",
            "torch.Size([1, 3, 197])\n",
            "torch.Size([1, 4, 197])\n",
            "torch.Size([1, 5, 197])\n",
            "torch.Size([1, 6, 197])\n",
            "torch.Size([1, 7, 197])\n",
            "torch.Size([1, 8, 197])\n",
            "torch.Size([1, 9, 197])\n",
            "torch.Size([1, 10, 197])\n",
            "torch.Size([1, 11, 197])\n",
            "torch.Size([1, 12, 197])\n",
            "torch.Size([1, 13, 197])\n",
            "torch.Size([1, 14, 197])\n",
            "torch.Size([1, 15, 197])\n"
          ]
        },
        {
          "output_type": "stream",
          "name": "stderr",
          "text": [
            "\r  3%|▎         | 241/8946 [03:09<2:02:25,  1.19it/s]"
          ]
        },
        {
          "output_type": "stream",
          "name": "stdout",
          "text": [
            "torch.Size([1, 16, 197])\n",
            "\n",
            " file name:  000000291321 \\caption:  a sign that says \"the new\" on the side of a subway.\n",
            "torch.Size([1, 1, 197])\n",
            "torch.Size([1, 2, 197])\n",
            "torch.Size([1, 3, 197])\n",
            "torch.Size([1, 4, 197])\n",
            "torch.Size([1, 5, 197])\n",
            "torch.Size([1, 6, 197])\n",
            "torch.Size([1, 7, 197])\n",
            "torch.Size([1, 8, 197])\n",
            "torch.Size([1, 9, 197])\n",
            "torch.Size([1, 10, 197])\n",
            "torch.Size([1, 11, 197])\n"
          ]
        },
        {
          "output_type": "stream",
          "name": "stderr",
          "text": [
            "\r  3%|▎         | 242/8946 [03:10<1:56:07,  1.25it/s]"
          ]
        },
        {
          "output_type": "stream",
          "name": "stdout",
          "text": [
            "torch.Size([1, 12, 197])\n",
            "\n",
            " file name:  000000126540 \\caption:  a grey and white cat is looking out a window.\n",
            "torch.Size([1, 1, 197])\n",
            "torch.Size([1, 2, 197])\n",
            "torch.Size([1, 3, 197])\n",
            "torch.Size([1, 4, 197])\n",
            "torch.Size([1, 5, 197])\n",
            "torch.Size([1, 6, 197])\n",
            "torch.Size([1, 7, 197])\n",
            "torch.Size([1, 8, 197])\n",
            "torch.Size([1, 9, 197])\n",
            "torch.Size([1, 10, 197])\n",
            "torch.Size([1, 11, 197])\n"
          ]
        },
        {
          "output_type": "stream",
          "name": "stderr",
          "text": [
            "\r  3%|▎         | 243/8946 [03:10<1:51:46,  1.30it/s]"
          ]
        },
        {
          "output_type": "stream",
          "name": "stdout",
          "text": [
            "torch.Size([1, 12, 197])\n",
            "\n",
            " file name:  000000069501 \\caption:  a train engine with a man standing on the tracks.\n",
            "torch.Size([1, 1, 197])\n",
            "torch.Size([1, 2, 197])\n",
            "torch.Size([1, 3, 197])\n",
            "torch.Size([1, 4, 197])\n",
            "torch.Size([1, 5, 197])\n",
            "torch.Size([1, 6, 197])\n",
            "torch.Size([1, 7, 197])\n",
            "torch.Size([1, 8, 197])\n",
            "torch.Size([1, 9, 197])\n",
            "torch.Size([1, 10, 197])\n",
            "torch.Size([1, 11, 197])\n"
          ]
        },
        {
          "output_type": "stream",
          "name": "stderr",
          "text": [
            "\r  3%|▎         | 244/8946 [03:11<1:48:47,  1.33it/s]"
          ]
        },
        {
          "output_type": "stream",
          "name": "stdout",
          "text": [
            "torch.Size([1, 12, 197])\n",
            "\n",
            " file name:  000000027675 \\caption:  a bus is parked on the side of a road.\n",
            "torch.Size([1, 1, 197])\n",
            "torch.Size([1, 2, 197])\n",
            "torch.Size([1, 3, 197])\n",
            "torch.Size([1, 4, 197])\n",
            "torch.Size([1, 5, 197])\n",
            "torch.Size([1, 6, 197])\n",
            "torch.Size([1, 7, 197])\n"
          ]
        },
        {
          "output_type": "stream",
          "name": "stderr",
          "text": [
            "\r  3%|▎         | 245/8946 [03:11<1:38:48,  1.47it/s]"
          ]
        },
        {
          "output_type": "stream",
          "name": "stdout",
          "text": [
            "torch.Size([1, 8, 197])\n",
            "torch.Size([1, 9, 197])\n",
            "\n",
            " file name:  000000573184 \\caption:  a plane is parked at a runway.\n",
            "torch.Size([1, 1, 197])\n",
            "torch.Size([1, 2, 197])\n",
            "torch.Size([1, 3, 197])\n",
            "torch.Size([1, 4, 197])\n",
            "torch.Size([1, 5, 197])\n",
            "torch.Size([1, 6, 197])\n",
            "torch.Size([1, 7, 197])\n",
            "torch.Size([1, 8, 197])\n",
            "torch.Size([1, 9, 197])\n",
            "torch.Size([1, 10, 197])\n",
            "\n",
            " file name:  000000042818 \\caption:  "
          ]
        },
        {
          "output_type": "stream",
          "name": "stderr",
          "text": [
            "\r  3%|▎         | 246/8946 [03:12<1:34:42,  1.53it/s]"
          ]
        },
        {
          "output_type": "stream",
          "name": "stdout",
          "text": [
            "a man is skiing on a snowy surface.\n",
            "torch.Size([1, 1, 197])\n",
            "torch.Size([1, 2, 197])\n",
            "torch.Size([1, 3, 197])\n",
            "torch.Size([1, 4, 197])\n",
            "torch.Size([1, 5, 197])\n",
            "torch.Size([1, 6, 197])\n",
            "torch.Size([1, 7, 197])\n",
            "torch.Size([1, 8, 197])\n",
            "torch.Size([1, 9, 197])\n",
            "torch.Size([1, 10, 197])\n",
            "torch.Size([1, 11, 197])\n"
          ]
        },
        {
          "output_type": "stream",
          "name": "stderr",
          "text": [
            "\r  3%|▎         | 247/8946 [03:13<1:42:03,  1.42it/s]"
          ]
        },
        {
          "output_type": "stream",
          "name": "stdout",
          "text": [
            "torch.Size([1, 12, 197])\n",
            "torch.Size([1, 13, 197])\n",
            "torch.Size([1, 14, 197])\n",
            "\n",
            " file name:  000000342060 \\caption:  a bench in front of a bench with a dog in it.\n",
            "torch.Size([1, 1, 197])\n",
            "torch.Size([1, 2, 197])\n",
            "torch.Size([1, 3, 197])\n",
            "torch.Size([1, 4, 197])\n",
            "torch.Size([1, 5, 197])\n",
            "torch.Size([1, 6, 197])\n",
            "torch.Size([1, 7, 197])\n",
            "torch.Size([1, 8, 197])\n",
            "torch.Size([1, 9, 197])\n"
          ]
        },
        {
          "output_type": "stream",
          "name": "stderr",
          "text": [
            "\r  3%|▎         | 248/8946 [03:14<1:41:45,  1.42it/s]"
          ]
        },
        {
          "output_type": "stream",
          "name": "stdout",
          "text": [
            "torch.Size([1, 10, 197])\n",
            "torch.Size([1, 11, 197])\n",
            "torch.Size([1, 12, 197])\n",
            "\n",
            " file name:  000000565443 \\caption:  a baseball player is swinging a bat during a game.\n",
            "torch.Size([1, 1, 197])\n",
            "torch.Size([1, 2, 197])\n",
            "torch.Size([1, 3, 197])\n",
            "torch.Size([1, 4, 197])\n",
            "torch.Size([1, 5, 197])\n",
            "torch.Size([1, 6, 197])\n",
            "torch.Size([1, 7, 197])\n",
            "torch.Size([1, 8, 197])\n",
            "torch.Size([1, 9, 197])\n"
          ]
        },
        {
          "output_type": "stream",
          "name": "stderr",
          "text": [
            "\r  3%|▎         | 249/8946 [03:14<1:41:50,  1.42it/s]"
          ]
        },
        {
          "output_type": "stream",
          "name": "stdout",
          "text": [
            "torch.Size([1, 10, 197])\n",
            "torch.Size([1, 11, 197])\n",
            "torch.Size([1, 12, 197])\n",
            "\n",
            " file name:  000000121503 \\caption:  a green and white bus is parked on a street.\n",
            "torch.Size([1, 1, 197])\n",
            "torch.Size([1, 2, 197])\n",
            "torch.Size([1, 3, 197])\n",
            "torch.Size([1, 4, 197])\n",
            "torch.Size([1, 5, 197])\n",
            "torch.Size([1, 6, 197])\n",
            "torch.Size([1, 7, 197])\n",
            "torch.Size([1, 8, 197])\n",
            "torch.Size([1, 9, 197])\n"
          ]
        },
        {
          "output_type": "stream",
          "name": "stderr",
          "text": [
            "\r  3%|▎         | 250/8946 [03:15<1:44:24,  1.39it/s]"
          ]
        },
        {
          "output_type": "stream",
          "name": "stdout",
          "text": [
            "torch.Size([1, 10, 197])\n",
            "torch.Size([1, 11, 197])\n",
            "torch.Size([1, 12, 197])\n",
            "torch.Size([1, 13, 197])\n",
            "\n",
            " file name:  000000267802 \\caption:  a lot of people on a motorcycle on a busy street.\n",
            "torch.Size([1, 1, 197])\n",
            "torch.Size([1, 2, 197])\n",
            "torch.Size([1, 3, 197])\n",
            "torch.Size([1, 4, 197])\n",
            "torch.Size([1, 5, 197])\n",
            "torch.Size([1, 6, 197])\n",
            "torch.Size([1, 7, 197])\n",
            "torch.Size([1, 8, 197])\n",
            "torch.Size([1, 9, 197])\n",
            "torch.Size([1, 10, 197])\n",
            "torch.Size([1, 11, 197])\n",
            "torch.Size([1, 12, 197])\n"
          ]
        },
        {
          "output_type": "stream",
          "name": "stderr",
          "text": [
            "\r  3%|▎         | 251/8946 [03:16<1:49:33,  1.32it/s]"
          ]
        },
        {
          "output_type": "stream",
          "name": "stdout",
          "text": [
            "torch.Size([1, 13, 197])\n",
            "torch.Size([1, 14, 197])\n",
            "\n",
            " file name:  4268234398 \\caption:   a man in a suit is walking in front of a building .\n",
            "torch.Size([1, 1, 197])\n",
            "torch.Size([1, 2, 197])\n",
            "torch.Size([1, 3, 197])\n",
            "torch.Size([1, 4, 197])\n",
            "torch.Size([1, 5, 197])\n",
            "torch.Size([1, 6, 197])\n",
            "torch.Size([1, 7, 197])\n",
            "torch.Size([1, 8, 197])\n",
            "torch.Size([1, 9, 197])\n",
            "torch.Size([1, 10, 197])\n"
          ]
        },
        {
          "output_type": "stream",
          "name": "stderr",
          "text": [
            "\r  3%|▎         | 252/8946 [03:17<1:44:53,  1.38it/s]"
          ]
        },
        {
          "output_type": "stream",
          "name": "stdout",
          "text": [
            "torch.Size([1, 11, 197])\n",
            "\n",
            " file name:  7922678762 \\caption:   a man is painting a mural of a man .\n",
            "torch.Size([1, 1, 197])\n",
            "torch.Size([1, 2, 197])\n",
            "torch.Size([1, 3, 197])\n",
            "torch.Size([1, 4, 197])\n",
            "torch.Size([1, 5, 197])\n",
            "torch.Size([1, 6, 197])\n",
            "torch.Size([1, 7, 197])\n",
            "torch.Size([1, 8, 197])\n",
            "torch.Size([1, 9, 197])\n",
            "torch.Size([1, 10, 197])\n",
            "torch.Size([1, 11, 197])\n"
          ]
        },
        {
          "output_type": "stream",
          "name": "stderr",
          "text": [
            "\r  3%|▎         | 253/8946 [03:17<1:44:24,  1.39it/s]"
          ]
        },
        {
          "output_type": "stream",
          "name": "stdout",
          "text": [
            "torch.Size([1, 12, 197])\n",
            "\n",
            " file name:  000000382171 \\caption:   a black and white dog is running on a path.\n",
            "torch.Size([1, 1, 197])\n",
            "torch.Size([1, 2, 197])\n",
            "torch.Size([1, 3, 197])\n",
            "torch.Size([1, 4, 197])\n",
            "torch.Size([1, 5, 197])\n",
            "torch.Size([1, 6, 197])\n",
            "torch.Size([1, 7, 197])\n",
            "torch.Size([1, 8, 197])\n",
            "torch.Size([1, 9, 197])\n",
            "torch.Size([1, 10, 197])\n",
            "torch.Size([1, 11, 197])\n"
          ]
        },
        {
          "output_type": "stream",
          "name": "stderr",
          "text": [
            "\r  3%|▎         | 254/8946 [03:18<1:49:03,  1.33it/s]"
          ]
        },
        {
          "output_type": "stream",
          "name": "stdout",
          "text": [
            "torch.Size([1, 12, 197])\n",
            "torch.Size([1, 13, 197])\n",
            "torch.Size([1, 14, 197])\n",
            "\n",
            " file name:  000000164810 \\caption:  a person is skateboarding on a skate board in a park.\n",
            "torch.Size([1, 1, 197])\n",
            "torch.Size([1, 2, 197])\n",
            "torch.Size([1, 3, 197])\n",
            "torch.Size([1, 4, 197])\n",
            "torch.Size([1, 5, 197])\n",
            "torch.Size([1, 6, 197])\n",
            "torch.Size([1, 7, 197])\n",
            "torch.Size([1, 8, 197])\n",
            "torch.Size([1, 9, 197])\n",
            "torch.Size([1, 10, 197])\n",
            "torch.Size([1, 11, 197])\n",
            "torch.Size([1, 12, 197])\n"
          ]
        },
        {
          "output_type": "stream",
          "name": "stderr",
          "text": [
            "\r  3%|▎         | 255/8946 [03:19<1:57:44,  1.23it/s]"
          ]
        },
        {
          "output_type": "stream",
          "name": "stdout",
          "text": [
            "torch.Size([1, 13, 197])\n",
            "torch.Size([1, 14, 197])\n",
            "torch.Size([1, 15, 197])\n",
            "torch.Size([1, 16, 197])\n",
            "\n",
            " file name:  445348023 \\caption:   a man is standing on a chair in front of a large construction house .\n",
            "torch.Size([1, 1, 197])\n",
            "torch.Size([1, 2, 197])\n",
            "torch.Size([1, 3, 197])\n",
            "torch.Size([1, 4, 197])\n",
            "torch.Size([1, 5, 197])\n",
            "torch.Size([1, 6, 197])\n",
            "torch.Size([1, 7, 197])\n",
            "torch.Size([1, 8, 197])\n",
            "torch.Size([1, 9, 197])\n",
            "torch.Size([1, 10, 197])\n",
            "torch.Size([1, 11, 197])\n",
            "torch.Size([1, 12, 197])\n"
          ]
        },
        {
          "output_type": "stream",
          "name": "stderr",
          "text": [
            "\r  3%|▎         | 256/8946 [03:20<1:55:52,  1.25it/s]"
          ]
        },
        {
          "output_type": "stream",
          "name": "stdout",
          "text": [
            "torch.Size([1, 13, 197])\n",
            "\n",
            " file name:  2885387575 \\caption:  a dog runs through the grass with a ball in its mouth\n",
            "torch.Size([1, 1, 197])\n",
            "torch.Size([1, 2, 197])\n",
            "torch.Size([1, 3, 197])\n",
            "torch.Size([1, 4, 197])\n",
            "torch.Size([1, 5, 197])\n",
            "torch.Size([1, 6, 197])\n",
            "torch.Size([1, 7, 197])\n"
          ]
        },
        {
          "output_type": "stream",
          "name": "stderr",
          "text": [
            "\r  3%|▎         | 257/8946 [03:20<1:46:56,  1.35it/s]"
          ]
        },
        {
          "output_type": "stream",
          "name": "stdout",
          "text": [
            "torch.Size([1, 8, 197])\n",
            "torch.Size([1, 9, 197])\n",
            "torch.Size([1, 10, 197])\n",
            "\n",
            " file name:  000000127657 \\caption:  a young boy is lying on a bed.\n",
            "torch.Size([1, 1, 197])\n",
            "torch.Size([1, 2, 197])\n",
            "torch.Size([1, 3, 197])\n",
            "torch.Size([1, 4, 197])\n",
            "torch.Size([1, 5, 197])\n",
            "torch.Size([1, 6, 197])\n",
            "torch.Size([1, 7, 197])\n",
            "torch.Size([1, 8, 197])\n",
            "torch.Size([1, 9, 197])\n",
            "torch.Size([1, 10, 197])\n",
            "torch.Size([1, 11, 197])\n",
            "torch.Size([1, 12, 197])\n",
            "torch.Size([1, 13, 197])\n"
          ]
        },
        {
          "output_type": "stream",
          "name": "stderr",
          "text": [
            "\r  3%|▎         | 258/8946 [03:21<1:53:10,  1.28it/s]"
          ]
        },
        {
          "output_type": "stream",
          "name": "stdout",
          "text": [
            "torch.Size([1, 14, 197])\n",
            "torch.Size([1, 15, 197])\n",
            "\n",
            " file name:  000000053677 \\caption:  a small black and white photo of a small black and white airplane.\n",
            "torch.Size([1, 1, 197])\n",
            "torch.Size([1, 2, 197])\n",
            "torch.Size([1, 3, 197])\n",
            "torch.Size([1, 4, 197])\n",
            "torch.Size([1, 5, 197])\n",
            "torch.Size([1, 6, 197])\n",
            "torch.Size([1, 7, 197])\n",
            "torch.Size([1, 8, 197])\n",
            "torch.Size([1, 9, 197])\n",
            "torch.Size([1, 10, 197])\n"
          ]
        },
        {
          "output_type": "stream",
          "name": "stderr",
          "text": [
            "\r  3%|▎         | 259/8946 [03:22<1:50:20,  1.31it/s]"
          ]
        },
        {
          "output_type": "stream",
          "name": "stdout",
          "text": [
            "torch.Size([1, 11, 197])\n",
            "torch.Size([1, 12, 197])\n",
            "\n",
            " file name:  000000466519 \\caption:  a woman is at a table with food and drinks.\n",
            "torch.Size([1, 1, 197])\n",
            "torch.Size([1, 2, 197])\n",
            "torch.Size([1, 3, 197])\n",
            "torch.Size([1, 4, 197])\n",
            "torch.Size([1, 5, 197])\n",
            "torch.Size([1, 6, 197])\n"
          ]
        },
        {
          "output_type": "stream",
          "name": "stderr",
          "text": [
            "\r  3%|▎         | 260/8946 [03:23<1:42:57,  1.41it/s]"
          ]
        },
        {
          "output_type": "stream",
          "name": "stdout",
          "text": [
            "torch.Size([1, 7, 197])\n",
            "torch.Size([1, 8, 197])\n",
            "torch.Size([1, 9, 197])\n",
            "torch.Size([1, 10, 197])\n",
            "\n",
            " file name:  000000387153 \\caption:  a kitchen with a stove and a stove.\n",
            "torch.Size([1, 1, 197])\n",
            "torch.Size([1, 2, 197])\n",
            "torch.Size([1, 3, 197])\n",
            "torch.Size([1, 4, 197])\n",
            "torch.Size([1, 5, 197])\n",
            "torch.Size([1, 6, 197])\n",
            "torch.Size([1, 7, 197])\n",
            "torch.Size([1, 8, 197])\n",
            "torch.Size([1, 9, 197])\n",
            "torch.Size([1, 10, 197])\n",
            "torch.Size([1, 11, 197])\n",
            "torch.Size([1, 12, 197])\n"
          ]
        },
        {
          "output_type": "stream",
          "name": "stderr",
          "text": [
            "\r  3%|▎         | 261/8946 [03:23<1:45:50,  1.37it/s]"
          ]
        },
        {
          "output_type": "stream",
          "name": "stdout",
          "text": [
            "torch.Size([1, 13, 197])\n",
            "\n",
            " file name:  000000399932 \\caption:  a bunch of people are flying kites on the beach.\n",
            "torch.Size([1, 1, 197])\n",
            "torch.Size([1, 2, 197])\n",
            "torch.Size([1, 3, 197])\n",
            "torch.Size([1, 4, 197])\n",
            "torch.Size([1, 5, 197])\n",
            "torch.Size([1, 6, 197])\n",
            "torch.Size([1, 7, 197])\n",
            "torch.Size([1, 8, 197])\n",
            "torch.Size([1, 9, 197])\n",
            "torch.Size([1, 10, 197])\n",
            "torch.Size([1, 11, 197])\n"
          ]
        },
        {
          "output_type": "stream",
          "name": "stderr",
          "text": [
            "\r  3%|▎         | 262/8946 [03:24<1:47:24,  1.35it/s]"
          ]
        },
        {
          "output_type": "stream",
          "name": "stdout",
          "text": [
            "torch.Size([1, 12, 197])\n",
            "torch.Size([1, 13, 197])\n",
            "\n",
            " file name:  000000532580 \\caption:  a train that is going down the tracks at the station.\n",
            "torch.Size([1, 1, 197])\n",
            "torch.Size([1, 2, 197])\n",
            "torch.Size([1, 3, 197])\n",
            "torch.Size([1, 4, 197])\n",
            "torch.Size([1, 5, 197])\n",
            "torch.Size([1, 6, 197])\n",
            "torch.Size([1, 7, 197])\n",
            "torch.Size([1, 8, 197])\n",
            "torch.Size([1, 9, 197])\n",
            "torch.Size([1, 10, 197])\n"
          ]
        },
        {
          "output_type": "stream",
          "name": "stderr",
          "text": [
            "\r  3%|▎         | 263/8946 [03:25<1:43:15,  1.40it/s]"
          ]
        },
        {
          "output_type": "stream",
          "name": "stdout",
          "text": [
            "torch.Size([1, 11, 197])\n",
            "\n",
            " file name:  000000158588 \\caption:  people walking down the street with umbrellas.\n",
            "torch.Size([1, 1, 197])\n",
            "torch.Size([1, 2, 197])\n",
            "torch.Size([1, 3, 197])\n",
            "torch.Size([1, 4, 197])\n",
            "torch.Size([1, 5, 197])\n",
            "torch.Size([1, 6, 197])\n",
            "torch.Size([1, 7, 197])\n",
            "torch.Size([1, 8, 197])\n",
            "torch.Size([1, 9, 197])\n",
            "torch.Size([1, 10, 197])\n",
            "torch.Size([1, 11, 197])\n",
            "\n",
            " file name:  000000511454 "
          ]
        },
        {
          "output_type": "stream",
          "name": "stderr",
          "text": [
            "\r  3%|▎         | 264/8946 [03:25<1:40:21,  1.44it/s]"
          ]
        },
        {
          "output_type": "stream",
          "name": "stdout",
          "text": [
            "\\caption:  a man holding a red umbrella over a beach.\n",
            "torch.Size([1, 1, 197])\n",
            "torch.Size([1, 2, 197])\n",
            "torch.Size([1, 3, 197])\n",
            "torch.Size([1, 4, 197])\n",
            "torch.Size([1, 5, 197])\n",
            "torch.Size([1, 6, 197])\n",
            "torch.Size([1, 7, 197])\n",
            "torch.Size([1, 8, 197])\n",
            "torch.Size([1, 9, 197])\n",
            "torch.Size([1, 10, 197])\n",
            "torch.Size([1, 11, 197])\n",
            "torch.Size([1, 12, 197])\n",
            "torch.Size([1, 13, 197])\n",
            "torch.Size([1, 14, 197])\n",
            "torch.Size([1, 15, 197])\n"
          ]
        },
        {
          "output_type": "stream",
          "name": "stderr",
          "text": [
            "\r  3%|▎         | 265/8946 [03:26<1:48:45,  1.33it/s]"
          ]
        },
        {
          "output_type": "stream",
          "name": "stdout",
          "text": [
            "\n",
            " file name:  000000184282 \\caption:  a train is traveling on a track with people standing on the tracks.\n",
            "torch.Size([1, 1, 197])\n",
            "torch.Size([1, 2, 197])\n",
            "torch.Size([1, 3, 197])\n",
            "torch.Size([1, 4, 197])\n",
            "torch.Size([1, 5, 197])\n",
            "torch.Size([1, 6, 197])\n",
            "torch.Size([1, 7, 197])\n",
            "torch.Size([1, 8, 197])\n",
            "torch.Size([1, 9, 197])\n",
            "torch.Size([1, 10, 197])\n",
            "torch.Size([1, 11, 197])\n"
          ]
        },
        {
          "output_type": "stream",
          "name": "stderr",
          "text": [
            "\r  3%|▎         | 266/8946 [03:27<1:46:42,  1.36it/s]"
          ]
        },
        {
          "output_type": "stream",
          "name": "stdout",
          "text": [
            "torch.Size([1, 12, 197])\n",
            "\n",
            " file name:  000000053800 \\caption:  a man and boy on the couch with a remote control\n",
            "torch.Size([1, 1, 197])\n",
            "torch.Size([1, 2, 197])\n",
            "torch.Size([1, 3, 197])\n",
            "torch.Size([1, 4, 197])\n",
            "torch.Size([1, 5, 197])\n",
            "torch.Size([1, 6, 197])\n",
            "torch.Size([1, 7, 197])\n",
            "torch.Size([1, 8, 197])\n",
            "torch.Size([1, 9, 197])\n",
            "torch.Size([1, 10, 197])\n",
            "torch.Size([1, 11, 197])\n"
          ]
        },
        {
          "output_type": "stream",
          "name": "stderr",
          "text": [
            "\r  3%|▎         | 267/8946 [03:28<1:45:15,  1.37it/s]"
          ]
        },
        {
          "output_type": "stream",
          "name": "stdout",
          "text": [
            "torch.Size([1, 12, 197])\n",
            "\n",
            " file name:  000000004956 \\caption:  a man is standing next to a elephant with horns.\n",
            "torch.Size([1, 1, 197])\n",
            "torch.Size([1, 2, 197])\n",
            "torch.Size([1, 3, 197])\n",
            "torch.Size([1, 4, 197])\n",
            "torch.Size([1, 5, 197])\n",
            "torch.Size([1, 6, 197])\n",
            "torch.Size([1, 7, 197])\n",
            "torch.Size([1, 8, 197])\n",
            "torch.Size([1, 9, 197])\n",
            "torch.Size([1, 10, 197])\n",
            "torch.Size([1, 11, 197])\n",
            "torch.Size([1, 12, 197])\n",
            "torch.Size([1, 13, 197])\n",
            "torch.Size([1, 14, 197])\n",
            "torch.Size([1, 15, 197])\n"
          ]
        },
        {
          "output_type": "stream",
          "name": "stderr",
          "text": [
            "\r  3%|▎         | 268/8946 [03:29<1:51:52,  1.29it/s]"
          ]
        },
        {
          "output_type": "stream",
          "name": "stdout",
          "text": [
            "\n",
            " file name:  000000550392 \\caption:  a person that is eating a chocolate cone with a smile on it.\n",
            "torch.Size([1, 1, 197])\n",
            "torch.Size([1, 2, 197])\n",
            "torch.Size([1, 3, 197])\n",
            "torch.Size([1, 4, 197])\n",
            "torch.Size([1, 5, 197])\n",
            "torch.Size([1, 6, 197])\n",
            "torch.Size([1, 7, 197])\n",
            "torch.Size([1, 8, 197])\n",
            "torch.Size([1, 9, 197])\n",
            "torch.Size([1, 10, 197])\n",
            "torch.Size([1, 11, 197])\n"
          ]
        },
        {
          "output_type": "stream",
          "name": "stderr",
          "text": [
            "\r  3%|▎         | 269/8946 [03:29<1:48:56,  1.33it/s]"
          ]
        },
        {
          "output_type": "stream",
          "name": "stdout",
          "text": [
            "torch.Size([1, 12, 197])\n",
            "\n",
            " file name:  000000161940 \\caption:  a woman and a man are sitting on the bed.\n",
            "torch.Size([1, 1, 197])\n",
            "torch.Size([1, 2, 197])\n",
            "torch.Size([1, 3, 197])\n",
            "torch.Size([1, 4, 197])\n",
            "torch.Size([1, 5, 197])\n",
            "torch.Size([1, 6, 197])\n",
            "torch.Size([1, 7, 197])\n"
          ]
        },
        {
          "output_type": "stream",
          "name": "stderr",
          "text": [
            "\r  3%|▎         | 270/8946 [03:30<1:44:02,  1.39it/s]"
          ]
        },
        {
          "output_type": "stream",
          "name": "stdout",
          "text": [
            "torch.Size([1, 8, 197])\n",
            "torch.Size([1, 9, 197])\n",
            "torch.Size([1, 10, 197])\n",
            "torch.Size([1, 11, 197])\n",
            "\n",
            " file name:  000000483517 \\caption:  a wooden table with a wooden table and chairs.\n",
            "torch.Size([1, 1, 197])\n",
            "torch.Size([1, 2, 197])\n",
            "torch.Size([1, 3, 197])\n",
            "torch.Size([1, 4, 197])\n",
            "torch.Size([1, 5, 197])\n",
            "torch.Size([1, 6, 197])\n",
            "torch.Size([1, 7, 197])\n",
            "torch.Size([1, 8, 197])\n",
            "torch.Size([1, 9, 197])\n",
            "torch.Size([1, 10, 197])\n",
            "torch.Size([1, 11, 197])\n",
            "torch.Size([1, 12, 197])\n",
            "torch.Size([1, 13, 197])\n",
            "torch.Size([1, 14, 197])\n",
            "torch.Size([1, 15, 197])\n",
            "torch.Size([1, 16, 197])\n"
          ]
        },
        {
          "output_type": "stream",
          "name": "stderr",
          "text": [
            "\r  3%|▎         | 271/8946 [03:31<1:56:08,  1.24it/s]"
          ]
        },
        {
          "output_type": "stream",
          "name": "stdout",
          "text": [
            "torch.Size([1, 17, 197])\n",
            "\n",
            " file name:  000000024100 \\caption:  a man on a skateboarder is doing a trick on a cement ramp.\n",
            "torch.Size([1, 1, 197])\n",
            "torch.Size([1, 2, 197])\n",
            "torch.Size([1, 3, 197])\n",
            "torch.Size([1, 4, 197])\n",
            "torch.Size([1, 5, 197])\n",
            "torch.Size([1, 6, 197])\n",
            "torch.Size([1, 7, 197])\n",
            "torch.Size([1, 8, 197])\n",
            "torch.Size([1, 9, 197])\n",
            "torch.Size([1, 10, 197])\n",
            "torch.Size([1, 11, 197])\n"
          ]
        },
        {
          "output_type": "stream",
          "name": "stderr",
          "text": [
            "\r  3%|▎         | 272/8946 [03:32<1:56:53,  1.24it/s]"
          ]
        },
        {
          "output_type": "stream",
          "name": "stdout",
          "text": [
            "torch.Size([1, 12, 197])\n",
            "torch.Size([1, 13, 197])\n",
            "torch.Size([1, 14, 197])\n",
            "\n",
            " file name:  000000156282 \\caption:  a man is flying a kite while flying a kite.\n",
            "torch.Size([1, 1, 197])\n",
            "torch.Size([1, 2, 197])\n",
            "torch.Size([1, 3, 197])\n",
            "torch.Size([1, 4, 197])\n",
            "torch.Size([1, 5, 197])\n"
          ]
        },
        {
          "output_type": "stream",
          "name": "stderr",
          "text": [
            "\r  3%|▎         | 273/8946 [03:32<1:44:44,  1.38it/s]"
          ]
        },
        {
          "output_type": "stream",
          "name": "stdout",
          "text": [
            "torch.Size([1, 6, 197])\n",
            "torch.Size([1, 7, 197])\n",
            "torch.Size([1, 8, 197])\n",
            "torch.Size([1, 9, 197])\n",
            "\n",
            " file name:  000000127926 \\caption:   a man is fixing up a machine .\n",
            "torch.Size([1, 1, 197])\n",
            "torch.Size([1, 2, 197])\n",
            "torch.Size([1, 3, 197])\n",
            "torch.Size([1, 4, 197])\n",
            "torch.Size([1, 5, 197])\n",
            "torch.Size([1, 6, 197])\n",
            "torch.Size([1, 7, 197])\n",
            "torch.Size([1, 8, 197])\n",
            "torch.Size([1, 9, 197])\n",
            "torch.Size([1, 10, 197])\n",
            "torch.Size([1, 11, 197])\n",
            "torch.Size([1, 12, 197])\n"
          ]
        },
        {
          "output_type": "stream",
          "name": "stderr",
          "text": [
            "\r  3%|▎         | 274/8946 [03:33<1:49:24,  1.32it/s]"
          ]
        },
        {
          "output_type": "stream",
          "name": "stdout",
          "text": [
            "torch.Size([1, 13, 197])\n",
            "torch.Size([1, 14, 197])\n",
            "\n",
            " file name:  3627679667 \\caption:  a person is riding a wave on top of a surfboard.\n",
            "torch.Size([1, 1, 197])\n",
            "torch.Size([1, 2, 197])\n",
            "torch.Size([1, 3, 197])\n",
            "torch.Size([1, 4, 197])\n",
            "torch.Size([1, 5, 197])\n",
            "torch.Size([1, 6, 197])\n",
            "torch.Size([1, 7, 197])\n",
            "torch.Size([1, 8, 197])\n",
            "torch.Size([1, 9, 197])\n",
            "torch.Size([1, 10, 197])\n"
          ]
        },
        {
          "output_type": "stream",
          "name": "stderr",
          "text": [
            "\r  3%|▎         | 275/8946 [03:34<1:47:26,  1.34it/s]"
          ]
        },
        {
          "output_type": "stream",
          "name": "stdout",
          "text": [
            "torch.Size([1, 11, 197])\n",
            "torch.Size([1, 12, 197])\n",
            "\n",
            " file name:  000000470995 \\caption:  a woman and a child are playing with an elephant.\n",
            "torch.Size([1, 1, 197])\n",
            "torch.Size([1, 2, 197])\n",
            "torch.Size([1, 3, 197])\n",
            "torch.Size([1, 4, 197])\n",
            "torch.Size([1, 5, 197])\n",
            "torch.Size([1, 6, 197])\n",
            "torch.Size([1, 7, 197])\n",
            "torch.Size([1, 8, 197])\n",
            "torch.Size([1, 9, 197])\n",
            "torch.Size([1, 10, 197])\n"
          ]
        },
        {
          "output_type": "stream",
          "name": "stderr",
          "text": [
            "\r  3%|▎         | 276/8946 [03:34<1:42:59,  1.40it/s]"
          ]
        },
        {
          "output_type": "stream",
          "name": "stdout",
          "text": [
            "torch.Size([1, 11, 197])\n",
            "\n",
            " file name:  000000358247 \\caption:  people are walking around in a store with bananas.\n",
            "torch.Size([1, 1, 197])\n",
            "torch.Size([1, 2, 197])\n",
            "torch.Size([1, 3, 197])\n",
            "torch.Size([1, 4, 197])\n",
            "torch.Size([1, 5, 197])\n",
            "torch.Size([1, 6, 197])\n",
            "torch.Size([1, 7, 197])\n",
            "torch.Size([1, 8, 197])\n",
            "torch.Size([1, 9, 197])\n",
            "torch.Size([1, 10, 197])\n",
            "torch.Size([1, 11, 197])\n"
          ]
        },
        {
          "output_type": "stream",
          "name": "stderr",
          "text": [
            "\r  3%|▎         | 277/8946 [03:35<1:42:54,  1.40it/s]"
          ]
        },
        {
          "output_type": "stream",
          "name": "stdout",
          "text": [
            "torch.Size([1, 12, 197])\n",
            "\n",
            " file name:  000000471839 \\caption:  a pizza with a lot of toppings on it.\n",
            "torch.Size([1, 1, 197])\n",
            "torch.Size([1, 2, 197])\n",
            "torch.Size([1, 3, 197])\n",
            "torch.Size([1, 4, 197])\n",
            "torch.Size([1, 5, 197])\n",
            "torch.Size([1, 6, 197])\n",
            "torch.Size([1, 7, 197])\n"
          ]
        },
        {
          "output_type": "stream",
          "name": "stderr",
          "text": [
            "\r  3%|▎         | 278/8946 [03:36<1:37:55,  1.48it/s]"
          ]
        },
        {
          "output_type": "stream",
          "name": "stdout",
          "text": [
            "torch.Size([1, 8, 197])\n",
            "torch.Size([1, 9, 197])\n",
            "torch.Size([1, 10, 197])\n",
            "\n",
            " file name:  000000046171 \\caption:  a teddy bear sitting on a window sill\n",
            "torch.Size([1, 1, 197])\n",
            "torch.Size([1, 2, 197])\n",
            "torch.Size([1, 3, 197])\n",
            "torch.Size([1, 4, 197])\n",
            "torch.Size([1, 5, 197])\n",
            "torch.Size([1, 6, 197])\n",
            "torch.Size([1, 7, 197])\n",
            "torch.Size([1, 8, 197])\n",
            "torch.Size([1, 9, 197])\n"
          ]
        },
        {
          "output_type": "stream",
          "name": "stderr",
          "text": [
            "\r  3%|▎         | 279/8946 [03:36<1:36:43,  1.49it/s]"
          ]
        },
        {
          "output_type": "stream",
          "name": "stdout",
          "text": [
            "torch.Size([1, 10, 197])\n",
            "torch.Size([1, 11, 197])\n",
            "\n",
            " file name:  4726019778 \\caption:   a woman is spraying a plant into a pot.\n",
            "torch.Size([1, 1, 197])\n",
            "torch.Size([1, 2, 197])\n",
            "torch.Size([1, 3, 197])\n",
            "torch.Size([1, 4, 197])\n",
            "torch.Size([1, 5, 197])\n",
            "torch.Size([1, 6, 197])\n"
          ]
        },
        {
          "output_type": "stream",
          "name": "stderr",
          "text": [
            "\r  3%|▎         | 280/8946 [03:37<1:33:09,  1.55it/s]"
          ]
        },
        {
          "output_type": "stream",
          "name": "stdout",
          "text": [
            "torch.Size([1, 7, 197])\n",
            "torch.Size([1, 8, 197])\n",
            "torch.Size([1, 9, 197])\n",
            "torch.Size([1, 10, 197])\n",
            "\n",
            " file name:  000000211302 \\caption:  a refrigerator, refrigerator, and a refrigerator.\n",
            "torch.Size([1, 1, 197])\n",
            "torch.Size([1, 2, 197])\n",
            "torch.Size([1, 3, 197])\n",
            "torch.Size([1, 4, 197])\n",
            "torch.Size([1, 5, 197])\n",
            "torch.Size([1, 6, 197])\n",
            "torch.Size([1, 7, 197])\n",
            "torch.Size([1, 8, 197])\n"
          ]
        },
        {
          "output_type": "stream",
          "name": "stderr",
          "text": [
            "\r  3%|▎         | 281/8946 [03:38<1:30:43,  1.59it/s]"
          ]
        },
        {
          "output_type": "stream",
          "name": "stdout",
          "text": [
            "torch.Size([1, 9, 197])\n",
            "torch.Size([1, 10, 197])\n",
            "\n",
            " file name:  000000549459 \\caption:  a kitchen with a stove and a window.\n",
            "torch.Size([1, 1, 197])\n",
            "torch.Size([1, 2, 197])\n",
            "torch.Size([1, 3, 197])\n",
            "torch.Size([1, 4, 197])\n",
            "torch.Size([1, 5, 197])\n",
            "torch.Size([1, 6, 197])\n",
            "torch.Size([1, 7, 197])\n",
            "torch.Size([1, 8, 197])\n",
            "torch.Size([1, 9, 197])\n",
            "torch.Size([1, 10, 197])\n"
          ]
        },
        {
          "output_type": "stream",
          "name": "stderr",
          "text": [
            "\r  3%|▎         | 282/8946 [03:38<1:31:31,  1.58it/s]"
          ]
        },
        {
          "output_type": "stream",
          "name": "stdout",
          "text": [
            "torch.Size([1, 11, 197])\n",
            "\n",
            " file name:  000000323964 \\caption:  a girl smiles while holding a plate of cookies.\n",
            "torch.Size([1, 1, 197])\n",
            "torch.Size([1, 2, 197])\n",
            "torch.Size([1, 3, 197])\n",
            "torch.Size([1, 4, 197])\n",
            "torch.Size([1, 5, 197])\n",
            "torch.Size([1, 6, 197])\n",
            "torch.Size([1, 7, 197])\n",
            "torch.Size([1, 8, 197])\n",
            "torch.Size([1, 9, 197])\n",
            "torch.Size([1, 10, 197])\n",
            "torch.Size([1, 11, 197])\n"
          ]
        },
        {
          "output_type": "stream",
          "name": "stderr",
          "text": [
            "\r  3%|▎         | 283/8946 [03:39<1:37:04,  1.49it/s]"
          ]
        },
        {
          "output_type": "stream",
          "name": "stdout",
          "text": [
            "torch.Size([1, 12, 197])\n",
            "torch.Size([1, 13, 197])\n",
            "\n",
            " file name:  000000280023 \\caption:  a pizza with a knife on it on a cutting board.\n",
            "torch.Size([1, 1, 197])\n",
            "torch.Size([1, 2, 197])\n",
            "torch.Size([1, 3, 197])\n",
            "torch.Size([1, 4, 197])\n",
            "torch.Size([1, 5, 197])\n",
            "torch.Size([1, 6, 197])\n"
          ]
        },
        {
          "output_type": "stream",
          "name": "stderr",
          "text": [
            "\r  3%|▎         | 284/8946 [03:40<1:31:00,  1.59it/s]"
          ]
        },
        {
          "output_type": "stream",
          "name": "stdout",
          "text": [
            "torch.Size([1, 7, 197])\n",
            "torch.Size([1, 8, 197])\n",
            "torch.Size([1, 9, 197])\n",
            "\n",
            " file name:  1680126311 \\caption:   two boys are playing soccer with a ball\n",
            "torch.Size([1, 1, 197])\n",
            "torch.Size([1, 2, 197])\n",
            "torch.Size([1, 3, 197])\n",
            "torch.Size([1, 4, 197])\n",
            "torch.Size([1, 5, 197])\n",
            "torch.Size([1, 6, 197])\n",
            "torch.Size([1, 7, 197])\n",
            "torch.Size([1, 8, 197])\n",
            "torch.Size([1, 9, 197])\n"
          ]
        },
        {
          "output_type": "stream",
          "name": "stderr",
          "text": [
            "\r  3%|▎         | 285/8946 [03:40<1:31:42,  1.57it/s]"
          ]
        },
        {
          "output_type": "stream",
          "name": "stdout",
          "text": [
            "torch.Size([1, 10, 197])\n",
            "torch.Size([1, 11, 197])\n",
            "\n",
            " file name:  000000367881 \\caption:  a large brown bear standing next to a tree.\n",
            "torch.Size([1, 1, 197])\n",
            "torch.Size([1, 2, 197])\n",
            "torch.Size([1, 3, 197])\n",
            "torch.Size([1, 4, 197])\n",
            "torch.Size([1, 5, 197])\n",
            "torch.Size([1, 6, 197])\n",
            "torch.Size([1, 7, 197])\n",
            "torch.Size([1, 8, 197])\n",
            "torch.Size([1, 9, 197])\n",
            "torch.Size([1, 10, 197])\n"
          ]
        },
        {
          "output_type": "stream",
          "name": "stderr",
          "text": [
            "\r  3%|▎         | 286/8946 [03:41<1:32:19,  1.56it/s]"
          ]
        },
        {
          "output_type": "stream",
          "name": "stdout",
          "text": [
            "torch.Size([1, 11, 197])\n",
            "\n",
            " file name:  000000195267 \\caption:  a woman on a bike walks down a street.\n",
            "torch.Size([1, 1, 197])\n",
            "torch.Size([1, 2, 197])\n",
            "torch.Size([1, 3, 197])\n",
            "torch.Size([1, 4, 197])\n",
            "torch.Size([1, 5, 197])\n",
            "torch.Size([1, 6, 197])\n",
            "torch.Size([1, 7, 197])\n",
            "torch.Size([1, 8, 197])\n",
            "torch.Size([1, 9, 197])\n",
            "torch.Size([1, 10, 197])\n",
            "torch.Size([1, 11, 197])\n"
          ]
        },
        {
          "output_type": "stream",
          "name": "stderr",
          "text": [
            "\r  3%|▎         | 287/8946 [03:42<1:35:26,  1.51it/s]"
          ]
        },
        {
          "output_type": "stream",
          "name": "stdout",
          "text": [
            "torch.Size([1, 12, 197])\n",
            "\n",
            " file name:  000000311904 \\caption:  a woman in a white dress holding a tennis racket.\n",
            "torch.Size([1, 1, 197])\n",
            "torch.Size([1, 2, 197])\n",
            "torch.Size([1, 3, 197])\n",
            "torch.Size([1, 4, 197])\n",
            "torch.Size([1, 5, 197])\n",
            "torch.Size([1, 6, 197])\n",
            "torch.Size([1, 7, 197])\n",
            "torch.Size([1, 8, 197])\n",
            "torch.Size([1, 9, 197])\n",
            "torch.Size([1, 10, 197])\n",
            "torch.Size([1, 11, 197])\n"
          ]
        },
        {
          "output_type": "stream",
          "name": "stderr",
          "text": [
            "\r  3%|▎         | 288/8946 [03:42<1:37:32,  1.48it/s]"
          ]
        },
        {
          "output_type": "stream",
          "name": "stdout",
          "text": [
            "torch.Size([1, 12, 197])\n",
            "\n",
            " file name:  000000303743 \\caption:  a green and green train engine is pulling a cart.\n",
            "torch.Size([1, 1, 197])\n",
            "torch.Size([1, 2, 197])\n",
            "torch.Size([1, 3, 197])\n",
            "torch.Size([1, 4, 197])\n",
            "torch.Size([1, 5, 197])\n",
            "torch.Size([1, 6, 197])\n",
            "torch.Size([1, 7, 197])\n",
            "torch.Size([1, 8, 197])\n",
            "torch.Size([1, 9, 197])\n",
            "torch.Size([1, 10, 197])\n",
            "torch.Size([1, 11, 197])\n"
          ]
        },
        {
          "output_type": "stream",
          "name": "stderr",
          "text": [
            "\r  3%|▎         | 289/8946 [03:43<1:38:44,  1.46it/s]"
          ]
        },
        {
          "output_type": "stream",
          "name": "stdout",
          "text": [
            "torch.Size([1, 12, 197])\n",
            "\n",
            " file name:  000000252280 \\caption:  a busy street with a large number of parked bikes.\n",
            "torch.Size([1, 1, 197])\n",
            "torch.Size([1, 2, 197])\n",
            "torch.Size([1, 3, 197])\n",
            "torch.Size([1, 4, 197])\n",
            "torch.Size([1, 5, 197])\n",
            "torch.Size([1, 6, 197])\n",
            "torch.Size([1, 7, 197])\n"
          ]
        },
        {
          "output_type": "stream",
          "name": "stderr",
          "text": [
            "\r  3%|▎         | 290/8946 [03:44<1:34:38,  1.52it/s]"
          ]
        },
        {
          "output_type": "stream",
          "name": "stdout",
          "text": [
            "torch.Size([1, 8, 197])\n",
            "torch.Size([1, 9, 197])\n",
            "torch.Size([1, 10, 197])\n",
            "\n",
            " file name:  000000302710 \\caption:  a couple of motorcycles parked on the street.\n",
            "torch.Size([1, 1, 197])\n",
            "torch.Size([1, 2, 197])\n",
            "torch.Size([1, 3, 197])\n",
            "torch.Size([1, 4, 197])\n",
            "torch.Size([1, 5, 197])\n",
            "torch.Size([1, 6, 197])\n",
            "torch.Size([1, 7, 197])\n",
            "torch.Size([1, 8, 197])\n",
            "torch.Size([1, 9, 197])\n"
          ]
        },
        {
          "output_type": "stream",
          "name": "stderr",
          "text": [
            "\r  3%|▎         | 291/8946 [03:44<1:36:46,  1.49it/s]"
          ]
        },
        {
          "output_type": "stream",
          "name": "stdout",
          "text": [
            "torch.Size([1, 10, 197])\n",
            "torch.Size([1, 11, 197])\n",
            "torch.Size([1, 12, 197])\n",
            "\n",
            " file name:  000000524651 \\caption:  a couple of skiers are posing for a picture.\n",
            "torch.Size([1, 1, 197])\n",
            "torch.Size([1, 2, 197])\n",
            "torch.Size([1, 3, 197])\n",
            "torch.Size([1, 4, 197])\n",
            "torch.Size([1, 5, 197])\n",
            "torch.Size([1, 6, 197])\n",
            "torch.Size([1, 7, 197])\n",
            "torch.Size([1, 8, 197])\n",
            "torch.Size([1, 9, 197])\n",
            "torch.Size([1, 10, 197])\n",
            "torch.Size([1, 11, 197])\n",
            "torch.Size([1, 12, 197])\n",
            "torch.Size([1, 13, 197])\n"
          ]
        },
        {
          "output_type": "stream",
          "name": "stderr",
          "text": [
            "\r  3%|▎         | 292/8946 [03:45<1:45:49,  1.36it/s]"
          ]
        },
        {
          "output_type": "stream",
          "name": "stdout",
          "text": [
            "torch.Size([1, 14, 197])\n",
            "torch.Size([1, 15, 197])\n",
            "\n",
            " file name:  000000564443 \\caption:   a man in a white shirt and black pants walks down a sidewalk .\n",
            "torch.Size([1, 1, 197])\n",
            "torch.Size([1, 2, 197])\n",
            "torch.Size([1, 3, 197])\n",
            "torch.Size([1, 4, 197])\n",
            "torch.Size([1, 5, 197])\n",
            "torch.Size([1, 6, 197])\n",
            "torch.Size([1, 7, 197])\n",
            "torch.Size([1, 8, 197])\n",
            "torch.Size([1, 9, 197])\n",
            "torch.Size([1, 10, 197])\n"
          ]
        },
        {
          "output_type": "stream",
          "name": "stderr",
          "text": [
            "\r  3%|▎         | 293/8946 [03:46<1:47:18,  1.34it/s]"
          ]
        },
        {
          "output_type": "stream",
          "name": "stdout",
          "text": [
            "torch.Size([1, 11, 197])\n",
            "torch.Size([1, 12, 197])\n",
            "torch.Size([1, 13, 197])\n",
            "\n",
            " file name:  000000160014 \\caption:  a room with a couch, chair, and a television.\n",
            "torch.Size([1, 1, 197])\n",
            "torch.Size([1, 2, 197])\n",
            "torch.Size([1, 3, 197])\n",
            "torch.Size([1, 4, 197])\n",
            "torch.Size([1, 5, 197])\n",
            "torch.Size([1, 6, 197])\n",
            "torch.Size([1, 7, 197])\n",
            "torch.Size([1, 8, 197])\n",
            "torch.Size([1, 9, 197])\n"
          ]
        },
        {
          "output_type": "stream",
          "name": "stderr",
          "text": [
            "\r  3%|▎         | 294/8946 [03:47<1:45:20,  1.37it/s]"
          ]
        },
        {
          "output_type": "stream",
          "name": "stdout",
          "text": [
            "torch.Size([1, 10, 197])\n",
            "torch.Size([1, 11, 197])\n",
            "torch.Size([1, 12, 197])\n",
            "\n",
            " file name:  3368819708 \\caption:  a plane is flying in the air behind a tree.\n",
            "torch.Size([1, 1, 197])\n",
            "torch.Size([1, 2, 197])\n",
            "torch.Size([1, 3, 197])\n",
            "torch.Size([1, 4, 197])\n",
            "torch.Size([1, 5, 197])\n",
            "torch.Size([1, 6, 197])\n",
            "torch.Size([1, 7, 197])\n",
            "torch.Size([1, 8, 197])\n",
            "torch.Size([1, 9, 197])\n",
            "torch.Size([1, 10, 197])\n",
            "torch.Size([1, 11, 197])\n",
            "torch.Size([1, 12, 197])\n",
            "torch.Size([1, 13, 197])\n"
          ]
        },
        {
          "output_type": "stream",
          "name": "stderr",
          "text": [
            "\r  3%|▎         | 295/8946 [03:47<1:46:55,  1.35it/s]"
          ]
        },
        {
          "output_type": "stream",
          "name": "stdout",
          "text": [
            "\n",
            " file name:  000000266437 \\caption:  a young man riding a skateboard down a wooden bench.\n",
            "torch.Size([1, 1, 197])\n",
            "torch.Size([1, 2, 197])\n",
            "torch.Size([1, 3, 197])\n",
            "torch.Size([1, 4, 197])\n",
            "torch.Size([1, 5, 197])\n",
            "torch.Size([1, 6, 197])\n",
            "torch.Size([1, 7, 197])\n",
            "torch.Size([1, 8, 197])\n",
            "torch.Size([1, 9, 197])\n",
            "torch.Size([1, 10, 197])\n",
            "torch.Size([1, 11, 197])\n"
          ]
        },
        {
          "output_type": "stream",
          "name": "stderr",
          "text": [
            "\r  3%|▎         | 296/8946 [03:48<1:45:23,  1.37it/s]"
          ]
        },
        {
          "output_type": "stream",
          "name": "stdout",
          "text": [
            "torch.Size([1, 12, 197])\n",
            "\n",
            " file name:  000000302141 \\caption:  a large airplane is parked next to a large building.\n",
            "torch.Size([1, 1, 197])\n",
            "torch.Size([1, 2, 197])\n",
            "torch.Size([1, 3, 197])\n",
            "torch.Size([1, 4, 197])\n",
            "torch.Size([1, 5, 197])\n",
            "torch.Size([1, 6, 197])\n",
            "torch.Size([1, 7, 197])\n"
          ]
        },
        {
          "output_type": "stream",
          "name": "stderr",
          "text": [
            "\r  3%|▎         | 297/8946 [03:49<1:39:04,  1.45it/s]"
          ]
        },
        {
          "output_type": "stream",
          "name": "stdout",
          "text": [
            "torch.Size([1, 8, 197])\n",
            "torch.Size([1, 9, 197])\n",
            "torch.Size([1, 10, 197])\n",
            "\n",
            " file name:  000000302489 \\caption:  a white and white structure with a large umbrella\n",
            "torch.Size([1, 1, 197])\n",
            "torch.Size([1, 2, 197])\n",
            "torch.Size([1, 3, 197])\n",
            "torch.Size([1, 4, 197])\n",
            "torch.Size([1, 5, 197])\n",
            "torch.Size([1, 6, 197])\n",
            "torch.Size([1, 7, 197])\n",
            "torch.Size([1, 8, 197])\n",
            "torch.Size([1, 9, 197])\n"
          ]
        },
        {
          "output_type": "stream",
          "name": "stderr",
          "text": [
            "\r  3%|▎         | 298/8946 [03:49<1:37:21,  1.48it/s]"
          ]
        },
        {
          "output_type": "stream",
          "name": "stdout",
          "text": [
            "torch.Size([1, 10, 197])\n",
            "torch.Size([1, 11, 197])\n",
            "\n",
            " file name:  000000509267 \\caption:  a man is skiing down a snow covered road.\n",
            "torch.Size([1, 1, 197])\n",
            "torch.Size([1, 2, 197])\n",
            "torch.Size([1, 3, 197])\n",
            "torch.Size([1, 4, 197])\n",
            "torch.Size([1, 5, 197])\n",
            "torch.Size([1, 6, 197])\n",
            "torch.Size([1, 7, 197])\n",
            "torch.Size([1, 8, 197])\n",
            "torch.Size([1, 9, 197])\n",
            "torch.Size([1, 10, 197])\n"
          ]
        },
        {
          "output_type": "stream",
          "name": "stderr",
          "text": [
            "\r  3%|▎         | 299/8946 [03:50<1:36:03,  1.50it/s]"
          ]
        },
        {
          "output_type": "stream",
          "name": "stdout",
          "text": [
            "torch.Size([1, 11, 197])\n",
            "\n",
            " file name:  7525845590 \\caption:   a boy in a white shirt is playing golf .\n",
            "torch.Size([1, 1, 197])\n",
            "torch.Size([1, 2, 197])\n",
            "torch.Size([1, 3, 197])\n",
            "torch.Size([1, 4, 197])\n",
            "torch.Size([1, 5, 197])\n",
            "torch.Size([1, 6, 197])\n",
            "torch.Size([1, 7, 197])\n"
          ]
        },
        {
          "output_type": "stream",
          "name": "stderr",
          "text": [
            "\r  3%|▎         | 300/8946 [03:51<1:35:03,  1.52it/s]"
          ]
        },
        {
          "output_type": "stream",
          "name": "stdout",
          "text": [
            "torch.Size([1, 8, 197])\n",
            "torch.Size([1, 9, 197])\n",
            "torch.Size([1, 10, 197])\n",
            "torch.Size([1, 11, 197])\n",
            "\n",
            " file name:  000000314788 \\caption:  a large plane is flying over a large city.\n",
            "torch.Size([1, 1, 197])\n",
            "torch.Size([1, 2, 197])\n",
            "torch.Size([1, 3, 197])\n",
            "torch.Size([1, 4, 197])\n",
            "torch.Size([1, 5, 197])\n",
            "torch.Size([1, 6, 197])\n",
            "torch.Size([1, 7, 197])\n",
            "torch.Size([1, 8, 197])\n"
          ]
        },
        {
          "output_type": "stream",
          "name": "stderr",
          "text": [
            "\r  3%|▎         | 301/8946 [03:51<1:37:01,  1.48it/s]"
          ]
        },
        {
          "output_type": "stream",
          "name": "stdout",
          "text": [
            "torch.Size([1, 9, 197])\n",
            "torch.Size([1, 10, 197])\n",
            "torch.Size([1, 11, 197])\n",
            "torch.Size([1, 12, 197])\n",
            "\n",
            " file name:  000000559136 \\caption:  a snowboarder is jumping a steep snow course.\n",
            "torch.Size([1, 1, 197])\n",
            "torch.Size([1, 2, 197])\n",
            "torch.Size([1, 3, 197])\n",
            "torch.Size([1, 4, 197])\n",
            "torch.Size([1, 5, 197])\n",
            "torch.Size([1, 6, 197])\n",
            "torch.Size([1, 7, 197])\n",
            "torch.Size([1, 8, 197])\n"
          ]
        },
        {
          "output_type": "stream",
          "name": "stderr",
          "text": [
            "\r  3%|▎         | 302/8946 [03:52<1:36:06,  1.50it/s]"
          ]
        },
        {
          "output_type": "stream",
          "name": "stdout",
          "text": [
            "torch.Size([1, 9, 197])\n",
            "torch.Size([1, 10, 197])\n",
            "torch.Size([1, 11, 197])\n",
            "\n",
            " file name:  000000022440 \\caption:  a bus driving down a street in a city.\n",
            "torch.Size([1, 1, 197])\n",
            "torch.Size([1, 2, 197])\n",
            "torch.Size([1, 3, 197])\n",
            "torch.Size([1, 4, 197])\n",
            "torch.Size([1, 5, 197])\n",
            "torch.Size([1, 6, 197])\n",
            "torch.Size([1, 7, 197])\n",
            "torch.Size([1, 8, 197])\n",
            "torch.Size([1, 9, 197])\n",
            "torch.Size([1, 10, 197])\n",
            "torch.Size([1, 11, 197])\n",
            "torch.Size([1, 12, 197])\n",
            "torch.Size([1, 13, 197])\n"
          ]
        },
        {
          "output_type": "stream",
          "name": "stderr",
          "text": [
            "\r  3%|▎         | 303/8946 [03:53<1:46:02,  1.36it/s]"
          ]
        },
        {
          "output_type": "stream",
          "name": "stdout",
          "text": [
            "torch.Size([1, 14, 197])\n",
            "torch.Size([1, 15, 197])\n",
            "\n",
            " file name:  000000492025 \\caption:  a small child is holding a large teddy bear in the garden.\n",
            "torch.Size([1, 1, 197])\n",
            "torch.Size([1, 2, 197])\n",
            "torch.Size([1, 3, 197])\n",
            "torch.Size([1, 4, 197])\n",
            "torch.Size([1, 5, 197])\n",
            "torch.Size([1, 6, 197])\n",
            "torch.Size([1, 7, 197])\n",
            "torch.Size([1, 8, 197])\n",
            "torch.Size([1, 9, 197])\n",
            "torch.Size([1, 10, 197])\n"
          ]
        },
        {
          "output_type": "stream",
          "name": "stderr",
          "text": [
            "\r  3%|▎         | 304/8946 [03:54<1:44:50,  1.37it/s]"
          ]
        },
        {
          "output_type": "stream",
          "name": "stdout",
          "text": [
            "torch.Size([1, 11, 197])\n",
            "torch.Size([1, 12, 197])\n",
            "\n",
            " file name:  000000532030 \\caption:  a herd of sheep are all standing on a road.\n",
            "torch.Size([1, 1, 197])\n",
            "torch.Size([1, 2, 197])\n",
            "torch.Size([1, 3, 197])\n",
            "torch.Size([1, 4, 197])\n",
            "torch.Size([1, 5, 197])\n",
            "torch.Size([1, 6, 197])\n"
          ]
        },
        {
          "output_type": "stream",
          "name": "stderr",
          "text": [
            "\r  3%|▎         | 305/8946 [03:54<1:36:40,  1.49it/s]"
          ]
        },
        {
          "output_type": "stream",
          "name": "stdout",
          "text": [
            "torch.Size([1, 7, 197])\n",
            "torch.Size([1, 8, 197])\n",
            "torch.Size([1, 9, 197])\n",
            "\n",
            " file name:  000000445267 \\caption:  a cat is sitting on a stuffed animal\n",
            "torch.Size([1, 1, 197])\n",
            "torch.Size([1, 2, 197])\n",
            "torch.Size([1, 3, 197])\n",
            "torch.Size([1, 4, 197])\n",
            "torch.Size([1, 5, 197])\n",
            "torch.Size([1, 6, 197])\n",
            "torch.Size([1, 7, 197])\n",
            "torch.Size([1, 8, 197])\n",
            "torch.Size([1, 9, 197])\n"
          ]
        },
        {
          "output_type": "stream",
          "name": "stderr",
          "text": [
            "\r  3%|▎         | 306/8946 [03:55<1:35:34,  1.51it/s]"
          ]
        },
        {
          "output_type": "stream",
          "name": "stdout",
          "text": [
            "torch.Size([1, 10, 197])\n",
            "torch.Size([1, 11, 197])\n",
            "\n",
            " file name:  000000199819 \\caption:  a young boy holding a banana in his hand.\n",
            "torch.Size([1, 1, 197])\n",
            "torch.Size([1, 2, 197])\n",
            "torch.Size([1, 3, 197])\n",
            "torch.Size([1, 4, 197])\n",
            "torch.Size([1, 5, 197])\n",
            "torch.Size([1, 6, 197])\n",
            "torch.Size([1, 7, 197])\n",
            "torch.Size([1, 8, 197])\n",
            "torch.Size([1, 9, 197])\n",
            "torch.Size([1, 10, 197])\n"
          ]
        },
        {
          "output_type": "stream",
          "name": "stderr",
          "text": [
            "\r  3%|▎         | 307/8946 [03:55<1:37:31,  1.48it/s]"
          ]
        },
        {
          "output_type": "stream",
          "name": "stdout",
          "text": [
            "torch.Size([1, 11, 197])\n",
            "torch.Size([1, 12, 197])\n",
            "\n",
            " file name:  000000405675 \\caption:  a yellow fire hydrant that is in the grass.\n",
            "torch.Size([1, 1, 197])\n",
            "torch.Size([1, 2, 197])\n",
            "torch.Size([1, 3, 197])\n",
            "torch.Size([1, 4, 197])\n",
            "torch.Size([1, 5, 197])\n",
            "torch.Size([1, 6, 197])\n",
            "torch.Size([1, 7, 197])\n",
            "torch.Size([1, 8, 197])\n",
            "torch.Size([1, 9, 197])\n",
            "torch.Size([1, 10, 197])\n"
          ]
        },
        {
          "output_type": "stream",
          "name": "stderr",
          "text": [
            "\r  3%|▎         | 308/8946 [03:56<1:36:15,  1.50it/s]"
          ]
        },
        {
          "output_type": "stream",
          "name": "stdout",
          "text": [
            "torch.Size([1, 11, 197])\n",
            "\n",
            " file name:  000000145391 \\caption:  a pair of scissors and a pair of scissors.\n",
            "torch.Size([1, 1, 197])\n",
            "torch.Size([1, 2, 197])\n",
            "torch.Size([1, 3, 197])\n",
            "torch.Size([1, 4, 197])\n",
            "torch.Size([1, 5, 197])\n",
            "torch.Size([1, 6, 197])\n",
            "torch.Size([1, 7, 197])\n",
            "torch.Size([1, 8, 197])\n",
            "torch.Size([1, 9, 197])\n",
            "torch.Size([1, 10, 197])\n",
            "torch.Size([1, 11, 197])\n",
            "torch.Size([1, 12, 197])\n",
            "torch.Size([1, 13, 197])\n",
            "torch.Size([1, 14, 197])\n",
            "torch.Size([1, 15, 197])\n",
            "torch.Size([1, 16, 197])\n",
            "torch.Size([1, 17, 197])\n",
            "torch.Size([1, 18, 197])\n",
            "torch.Size([1, 19, 197])\n",
            "torch.Size([1, 20, 197])\n",
            "torch.Size([1, 21, 197])\n",
            "torch.Size([1, 22, 197])\n",
            "torch.Size([1, 23, 197])\n",
            "torch.Size([1, 24, 197])\n",
            "torch.Size([1, 25, 197])\n",
            "torch.Size([1, 26, 197])\n",
            "torch.Size([1, 27, 197])\n",
            "torch.Size([1, 28, 197])\n",
            "torch.Size([1, 29, 197])\n",
            "torch.Size([1, 30, 197])\n",
            "torch.Size([1, 31, 197])\n",
            "torch.Size([1, 32, 197])\n",
            "torch.Size([1, 33, 197])\n",
            "torch.Size([1, 34, 197])\n",
            "torch.Size([1, 35, 197])\n",
            "torch.Size([1, 36, 197])\n",
            "torch.Size([1, 37, 197])\n",
            "torch.Size([1, 38, 197])\n",
            "torch.Size([1, 39, 197])\n",
            "torch.Size([1, 40, 197])\n",
            "torch.Size([1, 41, 197])\n",
            "torch.Size([1, 42, 197])\n",
            "torch.Size([1, 43, 197])\n",
            "torch.Size([1, 44, 197])\n",
            "torch.Size([1, 45, 197])\n",
            "torch.Size([1, 46, 197])\n",
            "torch.Size([1, 47, 197])\n",
            "torch.Size([1, 48, 197])\n",
            "torch.Size([1, 49, 197])\n",
            "torch.Size([1, 50, 197])\n",
            "torch.Size([1, 51, 197])\n",
            "torch.Size([1, 52, 197])\n",
            "torch.Size([1, 53, 197])\n",
            "torch.Size([1, 54, 197])\n",
            "torch.Size([1, 55, 197])\n",
            "torch.Size([1, 56, 197])\n",
            "torch.Size([1, 57, 197])\n",
            "torch.Size([1, 58, 197])\n",
            "torch.Size([1, 59, 197])\n",
            "torch.Size([1, 60, 197])\n",
            "torch.Size([1, 61, 197])\n",
            "torch.Size([1, 62, 197])\n",
            "torch.Size([1, 63, 197])\n",
            "torch.Size([1, 64, 197])\n",
            "torch.Size([1, 65, 197])\n",
            "torch.Size([1, 66, 197])\n",
            "torch.Size([1, 67, 197])\n",
            "torch.Size([1, 68, 197])\n",
            "torch.Size([1, 69, 197])\n",
            "torch.Size([1, 70, 197])\n",
            "torch.Size([1, 71, 197])\n",
            "torch.Size([1, 72, 197])\n",
            "torch.Size([1, 73, 197])\n",
            "torch.Size([1, 74, 197])\n",
            "torch.Size([1, 75, 197])\n",
            "torch.Size([1, 76, 197])\n",
            "torch.Size([1, 77, 197])\n",
            "torch.Size([1, 78, 197])\n",
            "torch.Size([1, 79, 197])\n",
            "torch.Size([1, 80, 197])\n",
            "torch.Size([1, 81, 197])\n",
            "torch.Size([1, 82, 197])\n",
            "torch.Size([1, 83, 197])\n",
            "torch.Size([1, 84, 197])\n",
            "torch.Size([1, 85, 197])\n",
            "torch.Size([1, 86, 197])\n",
            "torch.Size([1, 87, 197])\n",
            "torch.Size([1, 88, 197])\n",
            "torch.Size([1, 89, 197])\n",
            "torch.Size([1, 90, 197])\n",
            "torch.Size([1, 91, 197])\n",
            "torch.Size([1, 92, 197])\n",
            "torch.Size([1, 93, 197])\n",
            "torch.Size([1, 94, 197])\n",
            "torch.Size([1, 95, 197])\n",
            "torch.Size([1, 96, 197])\n",
            "torch.Size([1, 97, 197])\n",
            "torch.Size([1, 98, 197])\n",
            "torch.Size([1, 99, 197])\n",
            "torch.Size([1, 100, 197])\n",
            "torch.Size([1, 101, 197])\n",
            "torch.Size([1, 102, 197])\n",
            "torch.Size([1, 103, 197])\n",
            "torch.Size([1, 104, 197])\n",
            "torch.Size([1, 105, 197])\n",
            "torch.Size([1, 106, 197])\n",
            "torch.Size([1, 107, 197])\n",
            "torch.Size([1, 108, 197])\n",
            "torch.Size([1, 109, 197])\n",
            "torch.Size([1, 110, 197])\n",
            "torch.Size([1, 111, 197])\n",
            "torch.Size([1, 112, 197])\n",
            "torch.Size([1, 113, 197])\n",
            "torch.Size([1, 114, 197])\n",
            "torch.Size([1, 115, 197])\n",
            "torch.Size([1, 116, 197])\n",
            "torch.Size([1, 117, 197])\n",
            "torch.Size([1, 118, 197])\n",
            "torch.Size([1, 119, 197])\n",
            "torch.Size([1, 120, 197])\n",
            "torch.Size([1, 121, 197])\n",
            "torch.Size([1, 122, 197])\n",
            "torch.Size([1, 123, 197])\n",
            "torch.Size([1, 124, 197])\n",
            "torch.Size([1, 125, 197])\n",
            "torch.Size([1, 126, 197])\n",
            "torch.Size([1, 127, 197])\n",
            "torch.Size([1, 128, 197])\n",
            "torch.Size([1, 129, 197])\n",
            "torch.Size([1, 130, 197])\n",
            "torch.Size([1, 131, 197])\n",
            "torch.Size([1, 132, 197])\n",
            "torch.Size([1, 133, 197])\n",
            "torch.Size([1, 134, 197])\n",
            "torch.Size([1, 135, 197])\n",
            "torch.Size([1, 136, 197])\n",
            "torch.Size([1, 137, 197])\n",
            "torch.Size([1, 138, 197])\n",
            "torch.Size([1, 139, 197])\n",
            "torch.Size([1, 140, 197])\n",
            "torch.Size([1, 141, 197])\n",
            "torch.Size([1, 142, 197])\n",
            "torch.Size([1, 143, 197])\n",
            "torch.Size([1, 144, 197])\n",
            "torch.Size([1, 145, 197])\n",
            "torch.Size([1, 146, 197])\n",
            "torch.Size([1, 147, 197])\n",
            "torch.Size([1, 148, 197])\n",
            "torch.Size([1, 149, 197])\n",
            "torch.Size([1, 150, 197])\n",
            "torch.Size([1, 151, 197])\n",
            "torch.Size([1, 152, 197])\n",
            "torch.Size([1, 153, 197])\n",
            "torch.Size([1, 154, 197])\n",
            "torch.Size([1, 155, 197])\n",
            "torch.Size([1, 156, 197])\n",
            "torch.Size([1, 157, 197])\n",
            "torch.Size([1, 158, 197])\n",
            "torch.Size([1, 159, 197])\n"
          ]
        },
        {
          "output_type": "stream",
          "name": "stderr",
          "text": [
            "\r  3%|▎         | 308/8946 [04:07<1:55:32,  1.25it/s]\n"
          ]
        },
        {
          "output_type": "error",
          "ename": "KeyboardInterrupt",
          "evalue": "ignored",
          "traceback": [
            "\u001b[0;31m---------------------------------------------------------------------------\u001b[0m",
            "\u001b[0;31mKeyboardInterrupt\u001b[0m                         Traceback (most recent call last)",
            "\u001b[0;32m<ipython-input-18-925e35b5931a>\u001b[0m in \u001b[0;36m<cell line: 1>\u001b[0;34m()\u001b[0m\n\u001b[1;32m     16\u001b[0m             \u001b[0mout_token\u001b[0m \u001b[0;34m=\u001b[0m \u001b[0mpred\u001b[0m\u001b[0;34m.\u001b[0m\u001b[0margmax\u001b[0m\u001b[0;34m(\u001b[0m\u001b[0mdim\u001b[0m\u001b[0;34m=\u001b[0m\u001b[0;36m2\u001b[0m\u001b[0;34m)\u001b[0m\u001b[0;34m[\u001b[0m\u001b[0;36m0\u001b[0m\u001b[0;34m]\u001b[0m\u001b[0;34m[\u001b[0m\u001b[0;34m-\u001b[0m\u001b[0;36m1\u001b[0m\u001b[0;34m]\u001b[0m\u001b[0;34m\u001b[0m\u001b[0;34m\u001b[0m\u001b[0m\n\u001b[1;32m     17\u001b[0m             \u001b[0mstart_token\u001b[0m \u001b[0;34m=\u001b[0m \u001b[0mtorch\u001b[0m\u001b[0;34m.\u001b[0m\u001b[0mcat\u001b[0m\u001b[0;34m(\u001b[0m\u001b[0;34m(\u001b[0m\u001b[0mstart_token\u001b[0m\u001b[0;34m,\u001b[0m \u001b[0mout_token\u001b[0m\u001b[0;34m.\u001b[0m\u001b[0munsqueeze\u001b[0m\u001b[0;34m(\u001b[0m\u001b[0;36m0\u001b[0m\u001b[0;34m)\u001b[0m\u001b[0;34m.\u001b[0m\u001b[0munsqueeze\u001b[0m\u001b[0;34m(\u001b[0m\u001b[0;36m0\u001b[0m\u001b[0;34m)\u001b[0m\u001b[0;34m)\u001b[0m\u001b[0;34m,\u001b[0m \u001b[0mdim\u001b[0m\u001b[0;34m=\u001b[0m\u001b[0;36m1\u001b[0m\u001b[0;34m)\u001b[0m\u001b[0;34m\u001b[0m\u001b[0;34m\u001b[0m\u001b[0m\n\u001b[0;32m---> 18\u001b[0;31m             \u001b[0mend_token\u001b[0m \u001b[0;34m=\u001b[0m \u001b[0mtorch\u001b[0m\u001b[0;34m.\u001b[0m\u001b[0msum\u001b[0m\u001b[0;34m(\u001b[0m\u001b[0mstart_token\u001b[0m\u001b[0;34m[\u001b[0m\u001b[0;36m0\u001b[0m\u001b[0;34m]\u001b[0m \u001b[0;34m==\u001b[0m \u001b[0;36m50256\u001b[0m\u001b[0;34m)\u001b[0m\u001b[0;34m.\u001b[0m\u001b[0mitem\u001b[0m\u001b[0;34m(\u001b[0m\u001b[0;34m)\u001b[0m\u001b[0;34m\u001b[0m\u001b[0;34m\u001b[0m\u001b[0m\n\u001b[0m\u001b[1;32m     19\u001b[0m             \u001b[0;32mif\u001b[0m \u001b[0mend_token\u001b[0m \u001b[0;34m==\u001b[0m \u001b[0;36m2\u001b[0m\u001b[0;34m:\u001b[0m\u001b[0;34m\u001b[0m\u001b[0;34m\u001b[0m\u001b[0m\n\u001b[1;32m     20\u001b[0m                 \u001b[0mpred_token\u001b[0m \u001b[0;34m=\u001b[0m \u001b[0mstart_token\u001b[0m\u001b[0;34m[\u001b[0m\u001b[0mstart_token\u001b[0m \u001b[0;34m!=\u001b[0m \u001b[0;36m50256\u001b[0m\u001b[0;34m]\u001b[0m\u001b[0;34m\u001b[0m\u001b[0;34m\u001b[0m\u001b[0m\n",
            "\u001b[0;31mKeyboardInterrupt\u001b[0m: "
          ]
        }
      ]
    },
    {
      "cell_type": "code",
      "source": [
        "# model = Decoder(cfg).to(device)\n",
        "# model.load_state_dict(torch.load('/content/trainable_weights', map_location=device), strict=False)"
      ],
      "metadata": {
        "id": "mQ72mFKsclDU"
      },
      "execution_count": null,
      "outputs": []
    },
    {
      "cell_type": "code",
      "source": [
        "# evaluation_dict = {}\n",
        "# for data in tqdm(val_loader):\n",
        "#     img = data['img'].to(device)\n",
        "#     file_name = data['filename']\n",
        "#     start_token = torch.tensor([[50256]]).to(device)\n",
        "\n",
        "#     for i in range(250):\n",
        "#         with torch.no_grad():\n",
        "#             pred = model(start_token, img)\n",
        "#         out_token = pred.argmax(dim=2)[0][-1]\n",
        "#         start_token = torch.cat((start_token, out_token.unsqueeze(0).unsqueeze(0)), dim=1)\n",
        "#         end_token = torch.sum(start_token[0] == 50256).item()\n",
        "#         if end_token == 2:\n",
        "#             pred_token = start_token[start_token != 50256]\n",
        "#             pred_token = pred_token.tolist()\n",
        "#             pred_caption = encoding.decode(pred_token)\n",
        "#             break\n",
        "\n",
        "#     evaluation_dict[file_name[0]] = pred_caption\n",
        "#     print('\\n', 'file name: ', file_name[0], '\\caption: ', evaluation_dict[file_name[0]])"
      ],
      "metadata": {
        "id": "a0etiwtGgmEk"
      },
      "execution_count": null,
      "outputs": []
    },
    {
      "cell_type": "code",
      "source": [
        "# # Convert dictionary to JSON string\n",
        "# json_string = json.dumps(evaluation_dict, indent=2)  # The indent parameter is optional and adds indentation for better readability\n",
        "\n",
        "# # Write JSON string to a file\n",
        "# with open('/content/drive/MyDrive/NTU_DLCV/Hw3/p2_output/large_epoch6_output.json', 'w') as json_file:\n",
        "#     json_file.write(json_string)\n",
        "\n",
        "# # Write JSON string to a file\n",
        "# with open('output.json', 'w') as json_file:\n",
        "#     json_file.write(json_string)"
      ],
      "metadata": {
        "id": "R-4kRSkUqsgy"
      },
      "execution_count": null,
      "outputs": []
    },
    {
      "cell_type": "markdown",
      "source": [
        "#### CIDEr & CLIPScore"
      ],
      "metadata": {
        "id": "VGr3qxH5quie"
      }
    },
    {
      "cell_type": "code",
      "source": [
        "!pip install git+https://github.com/openai/CLIP.git"
      ],
      "metadata": {
        "id": "1OTLFea5quTY"
      },
      "execution_count": null,
      "outputs": []
    },
    {
      "cell_type": "code",
      "source": [
        "!pip install git+https://github.com/bckim92/language-evaluation.git\n",
        "!python -c \"import language_evaluation; language_evaluation.download('coco')\""
      ],
      "metadata": {
        "id": "OawD8CsqY1xs"
      },
      "execution_count": null,
      "outputs": []
    },
    {
      "cell_type": "code",
      "source": [
        "!python3 /content/p2_evaluate.py --pred_file /content/output.json --annotation_file /content/hw3_data/p2_data/val.json --images_root /content/hw3_data/p2_data/images/val"
      ],
      "metadata": {
        "id": "swSotJrRqxS2"
      },
      "execution_count": null,
      "outputs": []
    }
  ]
}