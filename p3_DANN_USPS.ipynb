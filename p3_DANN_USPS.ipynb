{
  "nbformat": 4,
  "nbformat_minor": 0,
  "metadata": {
    "colab": {
      "provenance": [],
      "gpuType": "T4",
      "include_colab_link": true
    },
    "kernelspec": {
      "name": "python3",
      "display_name": "Python 3"
    },
    "language_info": {
      "name": "python"
    },
    "accelerator": "GPU"
  },
  "cells": [
    {
      "cell_type": "markdown",
      "metadata": {
        "id": "view-in-github",
        "colab_type": "text"
      },
      "source": [
        "<a href=\"https://colab.research.google.com/github/R12942159/NTU_DLCV/blob/Hw2/p3_ModelB_training.ipynb\" target=\"_parent\"><img src=\"https://colab.research.google.com/assets/colab-badge.svg\" alt=\"Open In Colab\"/></a>"
      ]
    },
    {
      "cell_type": "code",
      "source": [
        "import os\n",
        "import torch\n",
        "import numpy as np\n",
        "import pandas as pd\n",
        "from PIL import Image\n",
        "from tqdm import tqdm\n",
        "import torch.nn as nn\n",
        "from torch import optim\n",
        "import torchvision.transforms as tr\n",
        "from torch.utils.data import DataLoader"
      ],
      "metadata": {
        "id": "tp9YuYhODsSk"
      },
      "execution_count": 1,
      "outputs": []
    },
    {
      "cell_type": "code",
      "source": [
        "from google.colab import drive\n",
        "drive.mount('/content/drive')"
      ],
      "metadata": {
        "colab": {
          "base_uri": "https://localhost:8080/"
        },
        "id": "kxqDmB-kB1pu",
        "outputId": "32f50b00-02e8-4f10-a8ab-e28277dc56ab"
      },
      "execution_count": 2,
      "outputs": [
        {
          "output_type": "stream",
          "name": "stdout",
          "text": [
            "Mounted at /content/drive\n"
          ]
        }
      ]
    },
    {
      "cell_type": "markdown",
      "source": [
        "#### Download zip file"
      ],
      "metadata": {
        "id": "aUXFKRGlLOvG"
      }
    },
    {
      "cell_type": "code",
      "source": [
        "!pip install gsutil\n",
        "!gsutil cp /content/drive/MyDrive/NTU_DLCV/Hw2/hw2_data.zip /content/hw2_data.zip"
      ],
      "metadata": {
        "id": "doVVsVMbB620"
      },
      "execution_count": null,
      "outputs": []
    },
    {
      "cell_type": "code",
      "source": [
        "!unzip /content/hw2_data.zip"
      ],
      "metadata": {
        "id": "WP1EiTcQB8c6",
        "outputId": "1af53b5e-9497-434d-a189-e7fa7707e2e0",
        "colab": {
          "base_uri": "https://localhost:8080/"
        }
      },
      "execution_count": 4,
      "outputs": [
        {
          "output_type": "stream",
          "name": "stdout",
          "text": [
            "\u001b[1;30;43m串流輸出內容已截斷至最後 5000 行。\u001b[0m\n",
            "  inflating: hw2_data/digits/mnistm/data/52903.png  \n",
            "  inflating: __MACOSX/hw2_data/digits/mnistm/data/._52903.png  \n",
            "  inflating: hw2_data/digits/mnistm/data/14956.png  \n",
            "  inflating: __MACOSX/hw2_data/digits/mnistm/data/._14956.png  \n",
            "  inflating: hw2_data/digits/mnistm/data/05683.png  \n",
            "  inflating: __MACOSX/hw2_data/digits/mnistm/data/._05683.png  \n",
            "  inflating: hw2_data/digits/mnistm/data/29369.png  \n",
            "  inflating: __MACOSX/hw2_data/digits/mnistm/data/._29369.png  \n",
            "  inflating: hw2_data/digits/mnistm/data/31526.png  \n",
            "  inflating: __MACOSX/hw2_data/digits/mnistm/data/._31526.png  \n",
            "  inflating: hw2_data/digits/mnistm/data/00923.png  \n",
            "  inflating: __MACOSX/hw2_data/digits/mnistm/data/._00923.png  \n",
            "  inflating: hw2_data/digits/mnistm/data/46976.png  \n",
            "  inflating: __MACOSX/hw2_data/digits/mnistm/data/._46976.png  \n",
            "  inflating: hw2_data/digits/mnistm/data/21735.png  \n",
            "  inflating: __MACOSX/hw2_data/digits/mnistm/data/._21735.png  \n",
            "  inflating: hw2_data/digits/mnistm/data/16199.png  \n",
            "  inflating: __MACOSX/hw2_data/digits/mnistm/data/._16199.png  \n",
            "  inflating: hw2_data/digits/mnistm/data/48783.png  \n",
            "  inflating: __MACOSX/hw2_data/digits/mnistm/data/._48783.png  \n",
            "  inflating: hw2_data/digits/mnistm/data/36249.png  \n",
            "  inflating: __MACOSX/hw2_data/digits/mnistm/data/._36249.png  \n",
            "  inflating: hw2_data/digits/mnistm/data/38264.png  \n",
            "  inflating: __MACOSX/hw2_data/digits/mnistm/data/._38264.png  \n",
            "  inflating: hw2_data/digits/mnistm/data/17287.png  \n",
            "  inflating: __MACOSX/hw2_data/digits/mnistm/data/._17287.png  \n",
            "  inflating: hw2_data/digits/mnistm/data/37157.png  \n",
            "  inflating: __MACOSX/hw2_data/digits/mnistm/data/._37157.png  \n",
            "  inflating: hw2_data/digits/mnistm/data/30638.png  \n",
            "  inflating: __MACOSX/hw2_data/digits/mnistm/data/._30638.png  \n",
            "  inflating: hw2_data/digits/mnistm/data/28077.png  \n",
            "  inflating: __MACOSX/hw2_data/digits/mnistm/data/._28077.png  \n",
            "  inflating: hw2_data/digits/mnistm/data/07094.png  \n",
            "  inflating: __MACOSX/hw2_data/digits/mnistm/data/._07094.png  \n",
            "  inflating: hw2_data/digits/mnistm/data/27344.png  \n",
            "  inflating: __MACOSX/hw2_data/digits/mnistm/data/._27344.png  \n",
            "  inflating: hw2_data/digits/mnistm/data/50872.png  \n",
            "  inflating: __MACOSX/hw2_data/digits/mnistm/data/._50872.png  \n",
            "  inflating: hw2_data/digits/mnistm/data/28711.png  \n",
            "  inflating: __MACOSX/hw2_data/digits/mnistm/data/._28711.png  \n",
            "  inflating: hw2_data/digits/mnistm/data/16827.png  \n",
            "  inflating: __MACOSX/hw2_data/digits/mnistm/data/._16827.png  \n",
            "  inflating: hw2_data/digits/mnistm/data/27422.png  \n",
            "  inflating: __MACOSX/hw2_data/digits/mnistm/data/._27422.png  \n",
            "  inflating: hw2_data/digits/mnistm/data/38502.png  \n",
            "  inflating: __MACOSX/hw2_data/digits/mnistm/data/._38502.png  \n",
            "  inflating: hw2_data/digits/mnistm/data/09907.png  \n",
            "  inflating: __MACOSX/hw2_data/digits/mnistm/data/._09907.png  \n",
            "  inflating: hw2_data/digits/mnistm/data/37631.png  \n",
            "  inflating: __MACOSX/hw2_data/digits/mnistm/data/._37631.png  \n",
            "  inflating: hw2_data/digits/mnistm/data/21053.png  \n",
            "  inflating: __MACOSX/hw2_data/digits/mnistm/data/._21053.png  \n",
            "  inflating: hw2_data/digits/mnistm/data/01383.png  \n",
            "  inflating: __MACOSX/hw2_data/digits/mnistm/data/._01383.png  \n",
            "  inflating: hw2_data/digits/mnistm/data/31240.png  \n",
            "  inflating: __MACOSX/hw2_data/digits/mnistm/data/._31240.png  \n",
            "  inflating: hw2_data/digits/mnistm/data/11190.png  \n",
            "  inflating: __MACOSX/hw2_data/digits/mnistm/data/._11190.png  \n",
            "  inflating: hw2_data/digits/mnistm/data/25235.png  \n",
            "  inflating: __MACOSX/hw2_data/digits/mnistm/data/._25235.png  \n",
            "  inflating: hw2_data/digits/mnistm/data/12499.png  \n",
            "  inflating: __MACOSX/hw2_data/digits/mnistm/data/._12499.png  \n",
            "  inflating: hw2_data/digits/mnistm/data/32749.png  \n",
            "  inflating: __MACOSX/hw2_data/digits/mnistm/data/._32749.png  \n",
            "  inflating: hw2_data/digits/mnistm/data/35026.png  \n",
            "  inflating: __MACOSX/hw2_data/digits/mnistm/data/._35026.png  \n",
            "  inflating: hw2_data/digits/mnistm/data/34338.png  \n",
            "  inflating: __MACOSX/hw2_data/digits/mnistm/data/._34338.png  \n",
            "  inflating: hw2_data/digits/mnistm/data/03594.png  \n",
            "  inflating: __MACOSX/hw2_data/digits/mnistm/data/._03594.png  \n",
            "  inflating: hw2_data/digits/mnistm/data/23644.png  \n",
            "  inflating: __MACOSX/hw2_data/digits/mnistm/data/._23644.png  \n",
            "  inflating: hw2_data/digits/mnistm/data/32991.png  \n",
            "  inflating: __MACOSX/hw2_data/digits/mnistm/data/._32991.png  \n",
            "  inflating: hw2_data/digits/mnistm/data/02852.png  \n",
            "  inflating: __MACOSX/hw2_data/digits/mnistm/data/._02852.png  \n",
            "  inflating: hw2_data/digits/mnistm/data/13787.png  \n",
            "  inflating: __MACOSX/hw2_data/digits/mnistm/data/._13787.png  \n",
            "  inflating: hw2_data/digits/mnistm/data/44807.png  \n",
            "  inflating: __MACOSX/hw2_data/digits/mnistm/data/._44807.png  \n",
            "  inflating: hw2_data/digits/mnistm/data/33457.png  \n",
            "  inflating: __MACOSX/hw2_data/digits/mnistm/data/._33457.png  \n",
            "  inflating: hw2_data/digits/mnistm/data/28739.png  \n",
            "  inflating: __MACOSX/hw2_data/digits/mnistm/data/._28739.png  \n",
            "  inflating: hw2_data/digits/mnistm/data/30176.png  \n",
            "  inflating: __MACOSX/hw2_data/digits/mnistm/data/._30176.png  \n",
            "  inflating: hw2_data/digits/mnistm/data/37619.png  \n",
            "  inflating: __MACOSX/hw2_data/digits/mnistm/data/._37619.png  \n",
            "  inflating: hw2_data/digits/mnistm/data/20365.png  \n",
            "  inflating: __MACOSX/hw2_data/digits/mnistm/data/._20365.png  \n",
            "  inflating: hw2_data/digits/mnistm/data/36507.png  \n",
            "  inflating: __MACOSX/hw2_data/digits/mnistm/data/._36507.png  \n",
            "  inflating: hw2_data/digits/mnistm/data/07902.png  \n",
            "  inflating: __MACOSX/hw2_data/digits/mnistm/data/._07902.png  \n",
            "  inflating: hw2_data/digits/mnistm/data/39634.png  \n",
            "  inflating: __MACOSX/hw2_data/digits/mnistm/data/._39634.png  \n",
            "  inflating: hw2_data/digits/mnistm/data/41957.png  \n",
            "  inflating: __MACOSX/hw2_data/digits/mnistm/data/._41957.png  \n",
            "  inflating: hw2_data/digits/mnistm/data/50682.png  \n",
            "  inflating: __MACOSX/hw2_data/digits/mnistm/data/._50682.png  \n",
            "  inflating: hw2_data/digits/mnistm/data/26714.png  \n",
            "  inflating: __MACOSX/hw2_data/digits/mnistm/data/._26714.png  \n",
            "  inflating: hw2_data/digits/mnistm/data/18822.png  \n",
            "  inflating: __MACOSX/hw2_data/digits/mnistm/data/._18822.png  \n",
            "  inflating: hw2_data/digits/mnistm/data/31268.png  \n",
            "  inflating: __MACOSX/hw2_data/digits/mnistm/data/._31268.png  \n",
            "  inflating: hw2_data/digits/mnistm/data/40491.png  \n",
            "  inflating: __MACOSX/hw2_data/digits/mnistm/data/._40491.png  \n",
            "  inflating: hw2_data/digits/mnistm/data/29427.png  \n",
            "  inflating: __MACOSX/hw2_data/digits/mnistm/data/._29427.png  \n",
            "  inflating: hw2_data/digits/mnistm/data/43198.png  \n",
            "  inflating: __MACOSX/hw2_data/digits/mnistm/data/._43198.png  \n",
            "  inflating: hw2_data/digits/mnistm/data/32761.png  \n",
            "  inflating: __MACOSX/hw2_data/digits/mnistm/data/._32761.png  \n",
            "  inflating: hw2_data/digits/mnistm/data/22572.png  \n",
            "  inflating: __MACOSX/hw2_data/digits/mnistm/data/._22572.png  \n",
            "  inflating: hw2_data/digits/mnistm/data/55922.png  \n",
            "  inflating: __MACOSX/hw2_data/digits/mnistm/data/._55922.png  \n",
            "  inflating: hw2_data/digits/mnistm/data/13977.png  \n",
            "  inflating: __MACOSX/hw2_data/digits/mnistm/data/._13977.png  \n",
            "  inflating: hw2_data/digits/mnistm/data/52095.png  \n",
            "  inflating: __MACOSX/hw2_data/digits/mnistm/data/._52095.png  \n",
            "  inflating: hw2_data/digits/mnistm/data/34310.png  \n",
            "  inflating: __MACOSX/hw2_data/digits/mnistm/data/._34310.png  \n",
            "  inflating: hw2_data/digits/mnistm/data/42286.png  \n",
            "  inflating: __MACOSX/hw2_data/digits/mnistm/data/._42286.png  \n",
            "  inflating: hw2_data/digits/mnistm/data/24103.png  \n",
            "  inflating: __MACOSX/hw2_data/digits/mnistm/data/._24103.png  \n",
            "  inflating: hw2_data/digits/mnistm/data/33319.png  \n",
            "  inflating: __MACOSX/hw2_data/digits/mnistm/data/._33319.png  \n",
            "  inflating: hw2_data/digits/mnistm/data/24665.png  \n",
            "  inflating: __MACOSX/hw2_data/digits/mnistm/data/._24665.png  \n",
            "  inflating: hw2_data/digits/mnistm/data/05873.png  \n",
            "  inflating: __MACOSX/hw2_data/digits/mnistm/data/._05873.png  \n",
            "  inflating: hw2_data/digits/mnistm/data/43826.png  \n",
            "  inflating: __MACOSX/hw2_data/digits/mnistm/data/._43826.png  \n",
            "  inflating: hw2_data/digits/mnistm/data/34476.png  \n",
            "  inflating: __MACOSX/hw2_data/digits/mnistm/data/._34476.png  \n",
            "  inflating: hw2_data/digits/mnistm/data/22214.png  \n",
            "  inflating: __MACOSX/hw2_data/digits/mnistm/data/._22214.png  \n",
            "  inflating: hw2_data/digits/mnistm/data/44191.png  \n",
            "  inflating: __MACOSX/hw2_data/digits/mnistm/data/._44191.png  \n",
            "  inflating: hw2_data/digits/mnistm/data/35768.png  \n",
            "  inflating: __MACOSX/hw2_data/digits/mnistm/data/._35768.png  \n",
            "  inflating: hw2_data/digits/mnistm/data/32007.png  \n",
            "  inflating: __MACOSX/hw2_data/digits/mnistm/data/._32007.png  \n",
            "  inflating: hw2_data/digits/mnistm/data/54382.png  \n",
            "  inflating: __MACOSX/hw2_data/digits/mnistm/data/._54382.png  \n",
            "  inflating: hw2_data/digits/mnistm/data/09091.png  \n",
            "  inflating: __MACOSX/hw2_data/digits/mnistm/data/._09091.png  \n",
            "  inflating: hw2_data/digits/mnistm/data/26072.png  \n",
            "  inflating: __MACOSX/hw2_data/digits/mnistm/data/._26072.png  \n",
            "  inflating: hw2_data/digits/mnistm/data/29341.png  \n",
            "  inflating: __MACOSX/hw2_data/digits/mnistm/data/._29341.png  \n",
            "  inflating: hw2_data/digits/mnistm/data/19282.png  \n",
            "  inflating: __MACOSX/hw2_data/digits/mnistm/data/._19282.png  \n",
            "  inflating: hw2_data/digits/mnistm/data/36261.png  \n",
            "  inflating: __MACOSX/hw2_data/digits/mnistm/data/._36261.png  \n",
            "  inflating: hw2_data/digits/mnistm/data/47498.png  \n",
            "  inflating: __MACOSX/hw2_data/digits/mnistm/data/._47498.png  \n",
            "  inflating: hw2_data/digits/mnistm/data/39152.png  \n",
            "  inflating: __MACOSX/hw2_data/digits/mnistm/data/._39152.png  \n",
            "  inflating: hw2_data/digits/mnistm/data/46786.png  \n",
            "  inflating: __MACOSX/hw2_data/digits/mnistm/data/._46786.png  \n",
            "  inflating: hw2_data/digits/mnistm/data/11806.png  \n",
            "  inflating: __MACOSX/hw2_data/digits/mnistm/data/._11806.png  \n",
            "  inflating: hw2_data/digits/mnistm/data/20403.png  \n",
            "  inflating: __MACOSX/hw2_data/digits/mnistm/data/._20403.png  \n",
            "  inflating: hw2_data/digits/mnistm/data/48973.png  \n",
            "  inflating: __MACOSX/hw2_data/digits/mnistm/data/._48973.png  \n",
            "  inflating: hw2_data/digits/mnistm/data/30610.png  \n",
            "  inflating: __MACOSX/hw2_data/digits/mnistm/data/._30610.png  \n",
            "  inflating: hw2_data/digits/mnistm/data/26066.png  \n",
            "  inflating: __MACOSX/hw2_data/digits/mnistm/data/._26066.png  \n",
            "  inflating: hw2_data/digits/mnistm/data/09085.png  \n",
            "  inflating: __MACOSX/hw2_data/digits/mnistm/data/._09085.png  \n",
            "  inflating: hw2_data/digits/mnistm/data/29355.png  \n",
            "  inflating: __MACOSX/hw2_data/digits/mnistm/data/._29355.png  \n",
            "  inflating: hw2_data/digits/mnistm/data/36275.png  \n",
            "  inflating: __MACOSX/hw2_data/digits/mnistm/data/._36275.png  \n",
            "  inflating: hw2_data/digits/mnistm/data/19296.png  \n",
            "  inflating: __MACOSX/hw2_data/digits/mnistm/data/._19296.png  \n",
            "  inflating: hw2_data/digits/mnistm/data/21709.png  \n",
            "  inflating: __MACOSX/hw2_data/digits/mnistm/data/._21709.png  \n",
            "  inflating: hw2_data/digits/mnistm/data/39146.png  \n",
            "  inflating: __MACOSX/hw2_data/digits/mnistm/data/._39146.png  \n",
            "  inflating: hw2_data/digits/mnistm/data/11812.png  \n",
            "  inflating: __MACOSX/hw2_data/digits/mnistm/data/._11812.png  \n",
            "  inflating: hw2_data/digits/mnistm/data/18188.png  \n",
            "  inflating: __MACOSX/hw2_data/digits/mnistm/data/._18188.png  \n",
            "  inflating: hw2_data/digits/mnistm/data/46792.png  \n",
            "  inflating: __MACOSX/hw2_data/digits/mnistm/data/._46792.png  \n",
            "  inflating: hw2_data/digits/mnistm/data/38258.png  \n",
            "  inflating: __MACOSX/hw2_data/digits/mnistm/data/._38258.png  \n",
            "  inflating: hw2_data/digits/mnistm/data/20417.png  \n",
            "  inflating: __MACOSX/hw2_data/digits/mnistm/data/._20417.png  \n",
            "  inflating: hw2_data/digits/mnistm/data/27378.png  \n",
            "  inflating: __MACOSX/hw2_data/digits/mnistm/data/._27378.png  \n",
            "  inflating: hw2_data/digits/mnistm/data/30604.png  \n",
            "  inflating: __MACOSX/hw2_data/digits/mnistm/data/._30604.png  \n",
            "  inflating: hw2_data/digits/mnistm/data/48967.png  \n",
            "  inflating: __MACOSX/hw2_data/digits/mnistm/data/._48967.png  \n",
            "  inflating: hw2_data/digits/mnistm/data/24671.png  \n",
            "  inflating: __MACOSX/hw2_data/digits/mnistm/data/._24671.png  \n",
            "  inflating: hw2_data/digits/mnistm/data/55088.png  \n",
            "  inflating: __MACOSX/hw2_data/digits/mnistm/data/._55088.png  \n",
            "  inflating: hw2_data/digits/mnistm/data/43832.png  \n",
            "  inflating: __MACOSX/hw2_data/digits/mnistm/data/._43832.png  \n",
            "  inflating: hw2_data/digits/mnistm/data/05867.png  \n",
            "  inflating: __MACOSX/hw2_data/digits/mnistm/data/._05867.png  \n",
            "  inflating: hw2_data/digits/mnistm/data/34462.png  \n",
            "  inflating: __MACOSX/hw2_data/digits/mnistm/data/._34462.png  \n",
            "  inflating: hw2_data/digits/mnistm/data/22200.png  \n",
            "  inflating: __MACOSX/hw2_data/digits/mnistm/data/._22200.png  \n",
            "  inflating: hw2_data/digits/mnistm/data/44185.png  \n",
            "  inflating: __MACOSX/hw2_data/digits/mnistm/data/._44185.png  \n",
            "  inflating: hw2_data/digits/mnistm/data/32013.png  \n",
            "  inflating: __MACOSX/hw2_data/digits/mnistm/data/._32013.png  \n",
            "  inflating: hw2_data/digits/mnistm/data/54396.png  \n",
            "  inflating: __MACOSX/hw2_data/digits/mnistm/data/._54396.png  \n",
            "  inflating: hw2_data/digits/mnistm/data/32775.png  \n",
            "  inflating: __MACOSX/hw2_data/digits/mnistm/data/._32775.png  \n",
            "  inflating: hw2_data/digits/mnistm/data/25209.png  \n",
            "  inflating: __MACOSX/hw2_data/digits/mnistm/data/._25209.png  \n",
            "  inflating: hw2_data/digits/mnistm/data/22566.png  \n",
            "  inflating: __MACOSX/hw2_data/digits/mnistm/data/._22566.png  \n",
            "  inflating: hw2_data/digits/mnistm/data/13963.png  \n",
            "  inflating: __MACOSX/hw2_data/digits/mnistm/data/._13963.png  \n",
            "  inflating: hw2_data/digits/mnistm/data/55936.png  \n",
            "  inflating: __MACOSX/hw2_data/digits/mnistm/data/._55936.png  \n",
            "  inflating: hw2_data/digits/mnistm/data/23678.png  \n",
            "  inflating: __MACOSX/hw2_data/digits/mnistm/data/._23678.png  \n",
            "  inflating: hw2_data/digits/mnistm/data/52081.png  \n",
            "  inflating: __MACOSX/hw2_data/digits/mnistm/data/._52081.png  \n",
            "  inflating: hw2_data/digits/mnistm/data/34304.png  \n",
            "  inflating: __MACOSX/hw2_data/digits/mnistm/data/._34304.png  \n",
            "  inflating: hw2_data/digits/mnistm/data/42292.png  \n",
            "  inflating: __MACOSX/hw2_data/digits/mnistm/data/._42292.png  \n",
            "  inflating: hw2_data/digits/mnistm/data/24117.png  \n",
            "  inflating: __MACOSX/hw2_data/digits/mnistm/data/._24117.png  \n",
            "  inflating: hw2_data/digits/mnistm/data/30162.png  \n",
            "  inflating: __MACOSX/hw2_data/digits/mnistm/data/._30162.png  \n",
            "  inflating: hw2_data/digits/mnistm/data/51588.png  \n",
            "  inflating: __MACOSX/hw2_data/digits/mnistm/data/._51588.png  \n",
            "  inflating: hw2_data/digits/mnistm/data/20371.png  \n",
            "  inflating: __MACOSX/hw2_data/digits/mnistm/data/._20371.png  \n",
            "  inflating: hw2_data/digits/mnistm/data/36513.png  \n",
            "  inflating: __MACOSX/hw2_data/digits/mnistm/data/._36513.png  \n",
            "  inflating: hw2_data/digits/mnistm/data/50696.png  \n",
            "  inflating: __MACOSX/hw2_data/digits/mnistm/data/._50696.png  \n",
            "  inflating: hw2_data/digits/mnistm/data/41943.png  \n",
            "  inflating: __MACOSX/hw2_data/digits/mnistm/data/._41943.png  \n",
            "  inflating: hw2_data/digits/mnistm/data/39620.png  \n",
            "  inflating: __MACOSX/hw2_data/digits/mnistm/data/._39620.png  \n",
            "  inflating: hw2_data/digits/mnistm/data/07916.png  \n",
            "  inflating: __MACOSX/hw2_data/digits/mnistm/data/._07916.png  \n",
            "  inflating: hw2_data/digits/mnistm/data/18836.png  \n",
            "  inflating: __MACOSX/hw2_data/digits/mnistm/data/._18836.png  \n",
            "  inflating: hw2_data/digits/mnistm/data/26700.png  \n",
            "  inflating: __MACOSX/hw2_data/digits/mnistm/data/._26700.png  \n",
            "  inflating: hw2_data/digits/mnistm/data/29433.png  \n",
            "  inflating: __MACOSX/hw2_data/digits/mnistm/data/._29433.png  \n",
            "  inflating: hw2_data/digits/mnistm/data/40485.png  \n",
            "  inflating: __MACOSX/hw2_data/digits/mnistm/data/._40485.png  \n",
            "  inflating: hw2_data/digits/mnistm/data/21084.png  \n",
            "  inflating: __MACOSX/hw2_data/digits/mnistm/data/._21084.png  \n",
            "  inflating: hw2_data/digits/mnistm/data/16628.png  \n",
            "  inflating: __MACOSX/hw2_data/digits/mnistm/data/._16628.png  \n",
            "  inflating: hw2_data/digits/mnistm/data/48032.png  \n",
            "  inflating: __MACOSX/hw2_data/digits/mnistm/data/._48032.png  \n",
            "  inflating: hw2_data/digits/mnistm/data/47301.png  \n",
            "  inflating: __MACOSX/hw2_data/digits/mnistm/data/._47301.png  \n",
            "  inflating: hw2_data/digits/mnistm/data/01354.png  \n",
            "  inflating: __MACOSX/hw2_data/digits/mnistm/data/._01354.png  \n",
            "  inflating: hw2_data/digits/mnistm/data/31297.png  \n",
            "  inflating: __MACOSX/hw2_data/digits/mnistm/data/._31297.png  \n",
            "  inflating: hw2_data/digits/mnistm/data/11147.png  \n",
            "  inflating: __MACOSX/hw2_data/digits/mnistm/data/._11147.png  \n",
            "  inflating: hw2_data/digits/mnistm/data/09708.png  \n",
            "  inflating: __MACOSX/hw2_data/digits/mnistm/data/._09708.png  \n",
            "  inflating: hw2_data/digits/mnistm/data/41770.png  \n",
            "  inflating: __MACOSX/hw2_data/digits/mnistm/data/._41770.png  \n",
            "  inflating: hw2_data/digits/mnistm/data/30189.png  \n",
            "  inflating: __MACOSX/hw2_data/digits/mnistm/data/._30189.png  \n",
            "  inflating: hw2_data/digits/mnistm/data/39813.png  \n",
            "  inflating: __MACOSX/hw2_data/digits/mnistm/data/._39813.png  \n",
            "  inflating: hw2_data/digits/mnistm/data/07725.png  \n",
            "  inflating: __MACOSX/hw2_data/digits/mnistm/data/._07725.png  \n",
            "  inflating: hw2_data/digits/mnistm/data/08416.png  \n",
            "  inflating: __MACOSX/hw2_data/digits/mnistm/data/._08416.png  \n",
            "  inflating: hw2_data/digits/mnistm/data/10259.png  \n",
            "  inflating: __MACOSX/hw2_data/digits/mnistm/data/._10259.png  \n",
            "  inflating: hw2_data/digits/mnistm/data/17536.png  \n",
            "  inflating: __MACOSX/hw2_data/digits/mnistm/data/._17536.png  \n",
            "  inflating: hw2_data/digits/mnistm/data/51563.png  \n",
            "  inflating: __MACOSX/hw2_data/digits/mnistm/data/._51563.png  \n",
            "  inflating: hw2_data/digits/mnistm/data/18605.png  \n",
            "  inflating: __MACOSX/hw2_data/digits/mnistm/data/._18605.png  \n",
            "  inflating: hw2_data/digits/mnistm/data/26933.png  \n",
            "  inflating: __MACOSX/hw2_data/digits/mnistm/data/._26933.png  \n",
            "  inflating: hw2_data/digits/mnistm/data/45516.png  \n",
            "  inflating: __MACOSX/hw2_data/digits/mnistm/data/._45516.png  \n",
            "  inflating: hw2_data/digits/mnistm/data/03543.png  \n",
            "  inflating: __MACOSX/hw2_data/digits/mnistm/data/._03543.png  \n",
            "  inflating: hw2_data/digits/mnistm/data/32946.png  \n",
            "  inflating: __MACOSX/hw2_data/digits/mnistm/data/._32946.png  \n",
            "  inflating: hw2_data/digits/mnistm/data/23693.png  \n",
            "  inflating: __MACOSX/hw2_data/digits/mnistm/data/._23693.png  \n",
            "  inflating: hw2_data/digits/mnistm/data/13750.png  \n",
            "  inflating: __MACOSX/hw2_data/digits/mnistm/data/._13750.png  \n",
            "  inflating: hw2_data/digits/mnistm/data/02885.png  \n",
            "  inflating: __MACOSX/hw2_data/digits/mnistm/data/._02885.png  \n",
            "  inflating: hw2_data/digits/mnistm/data/55705.png  \n",
            "  inflating: __MACOSX/hw2_data/digits/mnistm/data/._55705.png  \n",
            "  inflating: hw2_data/digits/mnistm/data/33480.png  \n",
            "  inflating: __MACOSX/hw2_data/digits/mnistm/data/._33480.png  \n",
            "  inflating: hw2_data/digits/mnistm/data/42279.png  \n",
            "  inflating: __MACOSX/hw2_data/digits/mnistm/data/._42279.png  \n",
            "  inflating: hw2_data/digits/mnistm/data/43167.png  \n",
            "  inflating: __MACOSX/hw2_data/digits/mnistm/data/._43167.png  \n",
            "  inflating: hw2_data/digits/mnistm/data/05132.png  \n",
            "  inflating: __MACOSX/hw2_data/digits/mnistm/data/._05132.png  \n",
            "  inflating: hw2_data/digits/mnistm/data/13988.png  \n",
            "  inflating: __MACOSX/hw2_data/digits/mnistm/data/._13988.png  \n",
            "  inflating: hw2_data/digits/mnistm/data/44608.png  \n",
            "  inflating: __MACOSX/hw2_data/digits/mnistm/data/._44608.png  \n",
            "  inflating: hw2_data/digits/mnistm/data/15321.png  \n",
            "  inflating: __MACOSX/hw2_data/digits/mnistm/data/._15321.png  \n",
            "  inflating: hw2_data/digits/mnistm/data/53374.png  \n",
            "  inflating: __MACOSX/hw2_data/digits/mnistm/data/._53374.png  \n",
            "  inflating: hw2_data/digits/mnistm/data/24842.png  \n",
            "  inflating: __MACOSX/hw2_data/digits/mnistm/data/._24842.png  \n",
            "  inflating: hw2_data/digits/mnistm/data/35797.png  \n",
            "  inflating: __MACOSX/hw2_data/digits/mnistm/data/._35797.png  \n",
            "  inflating: hw2_data/digits/mnistm/data/15447.png  \n",
            "  inflating: __MACOSX/hw2_data/digits/mnistm/data/._15447.png  \n",
            "  inflating: hw2_data/digits/mnistm/data/53412.png  \n",
            "  inflating: __MACOSX/hw2_data/digits/mnistm/data/._53412.png  \n",
            "  inflating: hw2_data/digits/mnistm/data/25584.png  \n",
            "  inflating: __MACOSX/hw2_data/digits/mnistm/data/._25584.png  \n",
            "  inflating: hw2_data/digits/mnistm/data/12328.png  \n",
            "  inflating: __MACOSX/hw2_data/digits/mnistm/data/._12328.png  \n",
            "  inflating: hw2_data/digits/mnistm/data/43601.png  \n",
            "  inflating: __MACOSX/hw2_data/digits/mnistm/data/._43601.png  \n",
            "  inflating: hw2_data/digits/mnistm/data/05654.png  \n",
            "  inflating: __MACOSX/hw2_data/digits/mnistm/data/._05654.png  \n",
            "  inflating: hw2_data/digits/mnistm/data/14981.png  \n",
            "  inflating: __MACOSX/hw2_data/digits/mnistm/data/._14981.png  \n",
            "  inflating: hw2_data/digits/mnistm/data/13036.png  \n",
            "  inflating: __MACOSX/hw2_data/digits/mnistm/data/._13036.png  \n",
            "  inflating: hw2_data/digits/mnistm/data/55063.png  \n",
            "  inflating: __MACOSX/hw2_data/digits/mnistm/data/._55063.png  \n",
            "  inflating: hw2_data/digits/mnistm/data/34489.png  \n",
            "  inflating: __MACOSX/hw2_data/digits/mnistm/data/._34489.png  \n",
            "  inflating: hw2_data/digits/mnistm/data/45270.png  \n",
            "  inflating: __MACOSX/hw2_data/digits/mnistm/data/._45270.png  \n",
            "  inflating: hw2_data/digits/mnistm/data/03225.png  \n",
            "  inflating: __MACOSX/hw2_data/digits/mnistm/data/._03225.png  \n",
            "  inflating: hw2_data/digits/mnistm/data/14759.png  \n",
            "  inflating: __MACOSX/hw2_data/digits/mnistm/data/._14759.png  \n",
            "  inflating: hw2_data/digits/mnistm/data/17250.png  \n",
            "  inflating: __MACOSX/hw2_data/digits/mnistm/data/._17250.png  \n",
            "  inflating: hw2_data/digits/mnistm/data/51205.png  \n",
            "  inflating: __MACOSX/hw2_data/digits/mnistm/data/._51205.png  \n",
            "  inflating: hw2_data/digits/mnistm/data/18163.png  \n",
            "  inflating: __MACOSX/hw2_data/digits/mnistm/data/._18163.png  \n",
            "  inflating: hw2_data/digits/mnistm/data/46779.png  \n",
            "  inflating: __MACOSX/hw2_data/digits/mnistm/data/._46779.png  \n",
            "  inflating: hw2_data/digits/mnistm/data/37180.png  \n",
            "  inflating: __MACOSX/hw2_data/digits/mnistm/data/._37180.png  \n",
            "  inflating: hw2_data/digits/mnistm/data/41016.png  \n",
            "  inflating: __MACOSX/hw2_data/digits/mnistm/data/._41016.png  \n",
            "  inflating: hw2_data/digits/mnistm/data/07043.png  \n",
            "  inflating: __MACOSX/hw2_data/digits/mnistm/data/._07043.png  \n",
            "  inflating: hw2_data/digits/mnistm/data/08370.png  \n",
            "  inflating: __MACOSX/hw2_data/digits/mnistm/data/._08370.png  \n",
            "  inflating: hw2_data/digits/mnistm/data/27393.png  \n",
            "  inflating: __MACOSX/hw2_data/digits/mnistm/data/._27393.png  \n",
            "  inflating: hw2_data/digits/mnistm/data/40308.png  \n",
            "  inflating: __MACOSX/hw2_data/digits/mnistm/data/._40308.png  \n",
            "  inflating: hw2_data/digits/mnistm/data/11621.png  \n",
            "  inflating: __MACOSX/hw2_data/digits/mnistm/data/._11621.png  \n",
            "  inflating: hw2_data/digits/mnistm/data/30837.png  \n",
            "  inflating: __MACOSX/hw2_data/digits/mnistm/data/._30837.png  \n",
            "  inflating: hw2_data/digits/mnistm/data/48754.png  \n",
            "  inflating: __MACOSX/hw2_data/digits/mnistm/data/._48754.png  \n",
            "  inflating: hw2_data/digits/mnistm/data/47467.png  \n",
            "  inflating: __MACOSX/hw2_data/digits/mnistm/data/._47467.png  \n",
            "  inflating: hw2_data/digits/mnistm/data/01432.png  \n",
            "  inflating: __MACOSX/hw2_data/digits/mnistm/data/._01432.png  \n",
            "  inflating: hw2_data/digits/mnistm/data/51211.png  \n",
            "  inflating: __MACOSX/hw2_data/digits/mnistm/data/._51211.png  \n",
            "  inflating: hw2_data/digits/mnistm/data/17244.png  \n",
            "  inflating: __MACOSX/hw2_data/digits/mnistm/data/._17244.png  \n",
            "  inflating: hw2_data/digits/mnistm/data/37194.png  \n",
            "  inflating: __MACOSX/hw2_data/digits/mnistm/data/._37194.png  \n",
            "  inflating: hw2_data/digits/mnistm/data/18177.png  \n",
            "  inflating: __MACOSX/hw2_data/digits/mnistm/data/._18177.png  \n",
            "  inflating: hw2_data/digits/mnistm/data/00738.png  \n",
            "  inflating: __MACOSX/hw2_data/digits/mnistm/data/._00738.png  \n",
            "  inflating: hw2_data/digits/mnistm/data/48998.png  \n",
            "  inflating: __MACOSX/hw2_data/digits/mnistm/data/._48998.png  \n",
            "  inflating: hw2_data/digits/mnistm/data/07057.png  \n",
            "  inflating: __MACOSX/hw2_data/digits/mnistm/data/._07057.png  \n",
            "  inflating: hw2_data/digits/mnistm/data/41002.png  \n",
            "  inflating: __MACOSX/hw2_data/digits/mnistm/data/._41002.png  \n",
            "  inflating: hw2_data/digits/mnistm/data/27387.png  \n",
            "  inflating: __MACOSX/hw2_data/digits/mnistm/data/._27387.png  \n",
            "  inflating: hw2_data/digits/mnistm/data/08364.png  \n",
            "  inflating: __MACOSX/hw2_data/digits/mnistm/data/._08364.png  \n",
            "  inflating: hw2_data/digits/mnistm/data/06349.png  \n",
            "  inflating: __MACOSX/hw2_data/digits/mnistm/data/._06349.png  \n",
            "  inflating: hw2_data/digits/mnistm/data/26099.png  \n",
            "  inflating: __MACOSX/hw2_data/digits/mnistm/data/._26099.png  \n",
            "  inflating: hw2_data/digits/mnistm/data/11635.png  \n",
            "  inflating: __MACOSX/hw2_data/digits/mnistm/data/._11635.png  \n",
            "  inflating: hw2_data/digits/mnistm/data/48740.png  \n",
            "  inflating: __MACOSX/hw2_data/digits/mnistm/data/._48740.png  \n",
            "  inflating: hw2_data/digits/mnistm/data/30823.png  \n",
            "  inflating: __MACOSX/hw2_data/digits/mnistm/data/._30823.png  \n",
            "  inflating: hw2_data/digits/mnistm/data/01426.png  \n",
            "  inflating: __MACOSX/hw2_data/digits/mnistm/data/._01426.png  \n",
            "  inflating: hw2_data/digits/mnistm/data/19269.png  \n",
            "  inflating: __MACOSX/hw2_data/digits/mnistm/data/._19269.png  \n",
            "  inflating: hw2_data/digits/mnistm/data/47473.png  \n",
            "  inflating: __MACOSX/hw2_data/digits/mnistm/data/._47473.png  \n",
            "  inflating: hw2_data/digits/mnistm/data/35783.png  \n",
            "  inflating: __MACOSX/hw2_data/digits/mnistm/data/._35783.png  \n",
            "  inflating: hw2_data/digits/mnistm/data/24856.png  \n",
            "  inflating: __MACOSX/hw2_data/digits/mnistm/data/._24856.png  \n",
            "  inflating: hw2_data/digits/mnistm/data/53406.png  \n",
            "  inflating: __MACOSX/hw2_data/digits/mnistm/data/._53406.png  \n",
            "  inflating: hw2_data/digits/mnistm/data/15453.png  \n",
            "  inflating: __MACOSX/hw2_data/digits/mnistm/data/._15453.png  \n",
            "  inflating: hw2_data/digits/mnistm/data/54369.png  \n",
            "  inflating: __MACOSX/hw2_data/digits/mnistm/data/._54369.png  \n",
            "  inflating: hw2_data/digits/mnistm/data/25590.png  \n",
            "  inflating: __MACOSX/hw2_data/digits/mnistm/data/._25590.png  \n",
            "  inflating: hw2_data/digits/mnistm/data/14995.png  \n",
            "  inflating: __MACOSX/hw2_data/digits/mnistm/data/._14995.png  \n",
            "  inflating: hw2_data/digits/mnistm/data/05640.png  \n",
            "  inflating: __MACOSX/hw2_data/digits/mnistm/data/._05640.png  \n",
            "  inflating: hw2_data/digits/mnistm/data/43615.png  \n",
            "  inflating: __MACOSX/hw2_data/digits/mnistm/data/._43615.png  \n",
            "  inflating: hw2_data/digits/mnistm/data/55077.png  \n",
            "  inflating: __MACOSX/hw2_data/digits/mnistm/data/._55077.png  \n",
            "  inflating: hw2_data/digits/mnistm/data/13022.png  \n",
            "  inflating: __MACOSX/hw2_data/digits/mnistm/data/._13022.png  \n",
            "  inflating: hw2_data/digits/mnistm/data/03231.png  \n",
            "  inflating: __MACOSX/hw2_data/digits/mnistm/data/._03231.png  \n",
            "  inflating: hw2_data/digits/mnistm/data/45264.png  \n",
            "  inflating: __MACOSX/hw2_data/digits/mnistm/data/._45264.png  \n",
            "  inflating: hw2_data/digits/mnistm/data/05898.png  \n",
            "  inflating: __MACOSX/hw2_data/digits/mnistm/data/._05898.png  \n",
            "  inflating: hw2_data/digits/mnistm/data/52718.png  \n",
            "  inflating: __MACOSX/hw2_data/digits/mnistm/data/._52718.png  \n",
            "  inflating: hw2_data/digits/mnistm/data/03557.png  \n",
            "  inflating: __MACOSX/hw2_data/digits/mnistm/data/._03557.png  \n",
            "  inflating: hw2_data/digits/mnistm/data/45502.png  \n",
            "  inflating: __MACOSX/hw2_data/digits/mnistm/data/._45502.png  \n",
            "  inflating: hw2_data/digits/mnistm/data/23687.png  \n",
            "  inflating: __MACOSX/hw2_data/digits/mnistm/data/._23687.png  \n",
            "  inflating: hw2_data/digits/mnistm/data/32952.png  \n",
            "  inflating: __MACOSX/hw2_data/digits/mnistm/data/._32952.png  \n",
            "  inflating: hw2_data/digits/mnistm/data/55711.png  \n",
            "  inflating: __MACOSX/hw2_data/digits/mnistm/data/._55711.png  \n",
            "  inflating: hw2_data/digits/mnistm/data/02891.png  \n",
            "  inflating: __MACOSX/hw2_data/digits/mnistm/data/._02891.png  \n",
            "  inflating: hw2_data/digits/mnistm/data/13744.png  \n",
            "  inflating: __MACOSX/hw2_data/digits/mnistm/data/._13744.png  \n",
            "  inflating: hw2_data/digits/mnistm/data/33494.png  \n",
            "  inflating: __MACOSX/hw2_data/digits/mnistm/data/._33494.png  \n",
            "  inflating: hw2_data/digits/mnistm/data/04238.png  \n",
            "  inflating: __MACOSX/hw2_data/digits/mnistm/data/._04238.png  \n",
            "  inflating: hw2_data/digits/mnistm/data/05126.png  \n",
            "  inflating: __MACOSX/hw2_data/digits/mnistm/data/._05126.png  \n",
            "  inflating: hw2_data/digits/mnistm/data/43173.png  \n",
            "  inflating: __MACOSX/hw2_data/digits/mnistm/data/._43173.png  \n",
            "  inflating: hw2_data/digits/mnistm/data/02649.png  \n",
            "  inflating: __MACOSX/hw2_data/digits/mnistm/data/._02649.png  \n",
            "  inflating: hw2_data/digits/mnistm/data/53360.png  \n",
            "  inflating: __MACOSX/hw2_data/digits/mnistm/data/._53360.png  \n",
            "  inflating: hw2_data/digits/mnistm/data/22599.png  \n",
            "  inflating: __MACOSX/hw2_data/digits/mnistm/data/._22599.png  \n",
            "  inflating: hw2_data/digits/mnistm/data/15335.png  \n",
            "  inflating: __MACOSX/hw2_data/digits/mnistm/data/._15335.png  \n",
            "  inflating: hw2_data/digits/mnistm/data/48026.png  \n",
            "  inflating: __MACOSX/hw2_data/digits/mnistm/data/._48026.png  \n",
            "  inflating: hw2_data/digits/mnistm/data/21090.png  \n",
            "  inflating: __MACOSX/hw2_data/digits/mnistm/data/._21090.png  \n",
            "  inflating: hw2_data/digits/mnistm/data/50669.png  \n",
            "  inflating: __MACOSX/hw2_data/digits/mnistm/data/._50669.png  \n",
            "  inflating: hw2_data/digits/mnistm/data/01340.png  \n",
            "  inflating: __MACOSX/hw2_data/digits/mnistm/data/._01340.png  \n",
            "  inflating: hw2_data/digits/mnistm/data/47315.png  \n",
            "  inflating: __MACOSX/hw2_data/digits/mnistm/data/._47315.png  \n",
            "  inflating: hw2_data/digits/mnistm/data/31283.png  \n",
            "  inflating: __MACOSX/hw2_data/digits/mnistm/data/._31283.png  \n",
            "  inflating: hw2_data/digits/mnistm/data/11153.png  \n",
            "  inflating: __MACOSX/hw2_data/digits/mnistm/data/._11153.png  \n",
            "  inflating: hw2_data/digits/mnistm/data/07731.png  \n",
            "  inflating: __MACOSX/hw2_data/digits/mnistm/data/._07731.png  \n",
            "  inflating: hw2_data/digits/mnistm/data/39807.png  \n",
            "  inflating: __MACOSX/hw2_data/digits/mnistm/data/._39807.png  \n",
            "  inflating: hw2_data/digits/mnistm/data/41764.png  \n",
            "  inflating: __MACOSX/hw2_data/digits/mnistm/data/._41764.png  \n",
            "  inflating: hw2_data/digits/mnistm/data/08402.png  \n",
            "  inflating: __MACOSX/hw2_data/digits/mnistm/data/._08402.png  \n",
            "  inflating: hw2_data/digits/mnistm/data/51577.png  \n",
            "  inflating: __MACOSX/hw2_data/digits/mnistm/data/._51577.png  \n",
            "  inflating: hw2_data/digits/mnistm/data/17522.png  \n",
            "  inflating: __MACOSX/hw2_data/digits/mnistm/data/._17522.png  \n",
            "  inflating: hw2_data/digits/mnistm/data/49338.png  \n",
            "  inflating: __MACOSX/hw2_data/digits/mnistm/data/._49338.png  \n",
            "  inflating: hw2_data/digits/mnistm/data/26927.png  \n",
            "  inflating: __MACOSX/hw2_data/digits/mnistm/data/._26927.png  \n",
            "  inflating: hw2_data/digits/mnistm/data/18611.png  \n",
            "  inflating: __MACOSX/hw2_data/digits/mnistm/data/._18611.png  \n",
            "  inflating: hw2_data/digits/mnistm/data/52056.png  \n",
            "  inflating: __MACOSX/hw2_data/digits/mnistm/data/._52056.png  \n",
            "  inflating: hw2_data/digits/mnistm/data/14003.png  \n",
            "  inflating: __MACOSX/hw2_data/digits/mnistm/data/._14003.png  \n",
            "  inflating: hw2_data/digits/mnistm/data/04210.png  \n",
            "  inflating: __MACOSX/hw2_data/digits/mnistm/data/._04210.png  \n",
            "  inflating: hw2_data/digits/mnistm/data/42245.png  \n",
            "  inflating: __MACOSX/hw2_data/digits/mnistm/data/._42245.png  \n",
            "  inflating: hw2_data/digits/mnistm/data/55739.png  \n",
            "  inflating: __MACOSX/hw2_data/digits/mnistm/data/._55739.png  \n",
            "  inflating: hw2_data/digits/mnistm/data/23877.png  \n",
            "  inflating: __MACOSX/hw2_data/digits/mnistm/data/._23877.png  \n",
            "  inflating: hw2_data/digits/mnistm/data/54427.png  \n",
            "  inflating: __MACOSX/hw2_data/digits/mnistm/data/._54427.png  \n",
            "  inflating: hw2_data/digits/mnistm/data/12472.png  \n",
            "  inflating: __MACOSX/hw2_data/digits/mnistm/data/._12472.png  \n",
            "  inflating: hw2_data/digits/mnistm/data/53348.png  \n",
            "  inflating: __MACOSX/hw2_data/digits/mnistm/data/._53348.png  \n",
            "  inflating: hw2_data/digits/mnistm/data/02661.png  \n",
            "  inflating: __MACOSX/hw2_data/digits/mnistm/data/._02661.png  \n",
            "  inflating: hw2_data/digits/mnistm/data/44634.png  \n",
            "  inflating: __MACOSX/hw2_data/digits/mnistm/data/._44634.png  \n",
            "  inflating: hw2_data/digits/mnistm/data/19527.png  \n",
            "  inflating: __MACOSX/hw2_data/digits/mnistm/data/._19527.png  \n",
            "  inflating: hw2_data/digits/mnistm/data/01368.png  \n",
            "  inflating: __MACOSX/hw2_data/digits/mnistm/data/._01368.png  \n",
            "  inflating: hw2_data/digits/mnistm/data/41994.png  \n",
            "  inflating: __MACOSX/hw2_data/digits/mnistm/data/._41994.png  \n",
            "  inflating: hw2_data/digits/mnistm/data/50641.png  \n",
            "  inflating: __MACOSX/hw2_data/digits/mnistm/data/._50641.png  \n",
            "  inflating: hw2_data/digits/mnistm/data/28922.png  \n",
            "  inflating: __MACOSX/hw2_data/digits/mnistm/data/._28922.png  \n",
            "  inflating: hw2_data/digits/mnistm/data/16614.png  \n",
            "  inflating: __MACOSX/hw2_data/digits/mnistm/data/._16614.png  \n",
            "  inflating: hw2_data/digits/mnistm/data/09734.png  \n",
            "  inflating: __MACOSX/hw2_data/digits/mnistm/data/._09734.png  \n",
            "  inflating: hw2_data/digits/mnistm/data/37802.png  \n",
            "  inflating: __MACOSX/hw2_data/digits/mnistm/data/._37802.png  \n",
            "  inflating: hw2_data/digits/mnistm/data/06407.png  \n",
            "  inflating: __MACOSX/hw2_data/digits/mnistm/data/._06407.png  \n",
            "  inflating: hw2_data/digits/mnistm/data/40452.png  \n",
            "  inflating: __MACOSX/hw2_data/digits/mnistm/data/._40452.png  \n",
            "  inflating: hw2_data/digits/mnistm/data/10265.png  \n",
            "  inflating: __MACOSX/hw2_data/digits/mnistm/data/._10265.png  \n",
            "  inflating: hw2_data/digits/mnistm/data/50899.png  \n",
            "  inflating: __MACOSX/hw2_data/digits/mnistm/data/._50899.png  \n",
            "  inflating: hw2_data/digits/mnistm/data/07719.png  \n",
            "  inflating: __MACOSX/hw2_data/digits/mnistm/data/._07719.png  \n",
            "  inflating: hw2_data/digits/mnistm/data/00076.png  \n",
            "  inflating: __MACOSX/hw2_data/digits/mnistm/data/._00076.png  \n",
            "  inflating: hw2_data/digits/mnistm/data/18639.png  \n",
            "  inflating: __MACOSX/hw2_data/digits/mnistm/data/._18639.png  \n",
            "  inflating: hw2_data/digits/mnistm/data/46023.png  \n",
            "  inflating: __MACOSX/hw2_data/digits/mnistm/data/._46023.png  \n",
            "  inflating: hw2_data/digits/mnistm/data/49310.png  \n",
            "  inflating: __MACOSX/hw2_data/digits/mnistm/data/._49310.png  \n",
            "  inflating: hw2_data/digits/mnistm/data/00710.png  \n",
            "  inflating: __MACOSX/hw2_data/digits/mnistm/data/._00710.png  \n",
            "  inflating: hw2_data/digits/mnistm/data/46745.png  \n",
            "  inflating: __MACOSX/hw2_data/digits/mnistm/data/._46745.png  \n",
            "  inflating: hw2_data/digits/mnistm/data/49476.png  \n",
            "  inflating: __MACOSX/hw2_data/digits/mnistm/data/._49476.png  \n",
            "  inflating: hw2_data/digits/mnistm/data/51239.png  \n",
            "  inflating: __MACOSX/hw2_data/digits/mnistm/data/._51239.png  \n",
            "  inflating: hw2_data/digits/mnistm/data/10503.png  \n",
            "  inflating: __MACOSX/hw2_data/digits/mnistm/data/._10503.png  \n",
            "  inflating: hw2_data/digits/mnistm/data/21906.png  \n",
            "  inflating: __MACOSX/hw2_data/digits/mnistm/data/._21906.png  \n",
            "  inflating: hw2_data/digits/mnistm/data/09052.png  \n",
            "  inflating: __MACOSX/hw2_data/digits/mnistm/data/._09052.png  \n",
            "  inflating: hw2_data/digits/mnistm/data/06361.png  \n",
            "  inflating: __MACOSX/hw2_data/digits/mnistm/data/._06361.png  \n",
            "  inflating: hw2_data/digits/mnistm/data/29382.png  \n",
            "  inflating: __MACOSX/hw2_data/digits/mnistm/data/._29382.png  \n",
            "  inflating: hw2_data/digits/mnistm/data/40334.png  \n",
            "  inflating: __MACOSX/hw2_data/digits/mnistm/data/._40334.png  \n",
            "  inflating: hw2_data/digits/mnistm/data/19241.png  \n",
            "  inflating: __MACOSX/hw2_data/digits/mnistm/data/._19241.png  \n",
            "  inflating: hw2_data/digits/mnistm/data/50127.png  \n",
            "  inflating: __MACOSX/hw2_data/digits/mnistm/data/._50127.png  \n",
            "  inflating: hw2_data/digits/mnistm/data/16172.png  \n",
            "  inflating: __MACOSX/hw2_data/digits/mnistm/data/._16172.png  \n",
            "  inflating: hw2_data/digits/mnistm/data/48768.png  \n",
            "  inflating: __MACOSX/hw2_data/digits/mnistm/data/._48768.png  \n",
            "  inflating: hw2_data/digits/mnistm/data/39191.png  \n",
            "  inflating: __MACOSX/hw2_data/digits/mnistm/data/._39191.png  \n",
            "  inflating: hw2_data/digits/mnistm/data/02107.png  \n",
            "  inflating: __MACOSX/hw2_data/digits/mnistm/data/._02107.png  \n",
            "  inflating: hw2_data/digits/mnistm/data/44152.png  \n",
            "  inflating: __MACOSX/hw2_data/digits/mnistm/data/._44152.png  \n",
            "  inflating: hw2_data/digits/mnistm/data/05668.png  \n",
            "  inflating: __MACOSX/hw2_data/digits/mnistm/data/._05668.png  \n",
            "  inflating: hw2_data/digits/mnistm/data/54341.png  \n",
            "  inflating: __MACOSX/hw2_data/digits/mnistm/data/._54341.png  \n",
            "  inflating: hw2_data/digits/mnistm/data/12314.png  \n",
            "  inflating: __MACOSX/hw2_data/digits/mnistm/data/._12314.png  \n",
            "  inflating: hw2_data/digits/mnistm/data/04576.png  \n",
            "  inflating: __MACOSX/hw2_data/digits/mnistm/data/._04576.png  \n",
            "  inflating: hw2_data/digits/mnistm/data/42523.png  \n",
            "  inflating: __MACOSX/hw2_data/digits/mnistm/data/._42523.png  \n",
            "  inflating: hw2_data/digits/mnistm/data/35973.png  \n",
            "  inflating: __MACOSX/hw2_data/digits/mnistm/data/._35973.png  \n",
            "  inflating: hw2_data/digits/mnistm/data/52730.png  \n",
            "  inflating: __MACOSX/hw2_data/digits/mnistm/data/._52730.png  \n",
            "  inflating: hw2_data/digits/mnistm/data/14765.png  \n",
            "  inflating: __MACOSX/hw2_data/digits/mnistm/data/._14765.png  \n",
            "  inflating: hw2_data/digits/mnistm/data/03219.png  \n",
            "  inflating: __MACOSX/hw2_data/digits/mnistm/data/._03219.png  \n",
            "  inflating: hw2_data/digits/mnistm/data/44146.png  \n",
            "  inflating: __MACOSX/hw2_data/digits/mnistm/data/._44146.png  \n",
            "  inflating: hw2_data/digits/mnistm/data/02113.png  \n",
            "  inflating: __MACOSX/hw2_data/digits/mnistm/data/._02113.png  \n",
            "  inflating: hw2_data/digits/mnistm/data/43629.png  \n",
            "  inflating: __MACOSX/hw2_data/digits/mnistm/data/._43629.png  \n",
            "  inflating: hw2_data/digits/mnistm/data/12300.png  \n",
            "  inflating: __MACOSX/hw2_data/digits/mnistm/data/._12300.png  \n",
            "  inflating: hw2_data/digits/mnistm/data/54355.png  \n",
            "  inflating: __MACOSX/hw2_data/digits/mnistm/data/._54355.png  \n",
            "  inflating: hw2_data/digits/mnistm/data/42537.png  \n",
            "  inflating: __MACOSX/hw2_data/digits/mnistm/data/._42537.png  \n",
            "  inflating: hw2_data/digits/mnistm/data/04562.png  \n",
            "  inflating: __MACOSX/hw2_data/digits/mnistm/data/._04562.png  \n",
            "  inflating: hw2_data/digits/mnistm/data/35967.png  \n",
            "  inflating: __MACOSX/hw2_data/digits/mnistm/data/._35967.png  \n",
            "  inflating: hw2_data/digits/mnistm/data/14771.png  \n",
            "  inflating: __MACOSX/hw2_data/digits/mnistm/data/._14771.png  \n",
            "  inflating: hw2_data/digits/mnistm/data/52724.png  \n",
            "  inflating: __MACOSX/hw2_data/digits/mnistm/data/._52724.png  \n",
            "  inflating: hw2_data/digits/mnistm/data/45258.png  \n",
            "  inflating: __MACOSX/hw2_data/digits/mnistm/data/._45258.png  \n",
            "  inflating: hw2_data/digits/mnistm/data/46751.png  \n",
            "  inflating: __MACOSX/hw2_data/digits/mnistm/data/._46751.png  \n",
            "  inflating: hw2_data/digits/mnistm/data/00704.png  \n",
            "  inflating: __MACOSX/hw2_data/digits/mnistm/data/._00704.png  \n",
            "  inflating: hw2_data/digits/mnistm/data/17278.png  \n",
            "  inflating: __MACOSX/hw2_data/digits/mnistm/data/._17278.png  \n",
            "  inflating: hw2_data/digits/mnistm/data/49462.png  \n",
            "  inflating: __MACOSX/hw2_data/digits/mnistm/data/._49462.png  \n",
            "  inflating: hw2_data/digits/mnistm/data/10517.png  \n",
            "  inflating: __MACOSX/hw2_data/digits/mnistm/data/._10517.png  \n",
            "  inflating: hw2_data/digits/mnistm/data/08358.png  \n",
            "  inflating: __MACOSX/hw2_data/digits/mnistm/data/._08358.png  \n",
            "  inflating: hw2_data/digits/mnistm/data/28088.png  \n",
            "  inflating: __MACOSX/hw2_data/digits/mnistm/data/._28088.png  \n",
            "  inflating: hw2_data/digits/mnistm/data/21912.png  \n",
            "  inflating: __MACOSX/hw2_data/digits/mnistm/data/._21912.png  \n",
            "  inflating: hw2_data/digits/mnistm/data/09046.png  \n",
            "  inflating: __MACOSX/hw2_data/digits/mnistm/data/._09046.png  \n",
            "  inflating: hw2_data/digits/mnistm/data/46989.png  \n",
            "  inflating: __MACOSX/hw2_data/digits/mnistm/data/._46989.png  \n",
            "  inflating: hw2_data/digits/mnistm/data/11609.png  \n",
            "  inflating: __MACOSX/hw2_data/digits/mnistm/data/._11609.png  \n",
            "  inflating: hw2_data/digits/mnistm/data/40320.png  \n",
            "  inflating: __MACOSX/hw2_data/digits/mnistm/data/._40320.png  \n",
            "  inflating: hw2_data/digits/mnistm/data/29396.png  \n",
            "  inflating: __MACOSX/hw2_data/digits/mnistm/data/._29396.png  \n",
            "  inflating: hw2_data/digits/mnistm/data/06375.png  \n",
            "  inflating: __MACOSX/hw2_data/digits/mnistm/data/._06375.png  \n",
            "  inflating: hw2_data/digits/mnistm/data/19255.png  \n",
            "  inflating: __MACOSX/hw2_data/digits/mnistm/data/._19255.png  \n",
            "  inflating: hw2_data/digits/mnistm/data/39185.png  \n",
            "  inflating: __MACOSX/hw2_data/digits/mnistm/data/._39185.png  \n",
            "  inflating: hw2_data/digits/mnistm/data/16166.png  \n",
            "  inflating: __MACOSX/hw2_data/digits/mnistm/data/._16166.png  \n",
            "  inflating: hw2_data/digits/mnistm/data/50133.png  \n",
            "  inflating: __MACOSX/hw2_data/digits/mnistm/data/._50133.png  \n",
            "  inflating: hw2_data/digits/mnistm/data/19533.png  \n",
            "  inflating: __MACOSX/hw2_data/digits/mnistm/data/._19533.png  \n",
            "  inflating: hw2_data/digits/mnistm/data/47329.png  \n",
            "  inflating: __MACOSX/hw2_data/digits/mnistm/data/._47329.png  \n",
            "  inflating: hw2_data/digits/mnistm/data/16600.png  \n",
            "  inflating: __MACOSX/hw2_data/digits/mnistm/data/._16600.png  \n",
            "  inflating: hw2_data/digits/mnistm/data/28936.png  \n",
            "  inflating: __MACOSX/hw2_data/digits/mnistm/data/._28936.png  \n",
            "  inflating: hw2_data/digits/mnistm/data/50655.png  \n",
            "  inflating: __MACOSX/hw2_data/digits/mnistm/data/._50655.png  \n",
            "  inflating: hw2_data/digits/mnistm/data/41980.png  \n",
            "  inflating: __MACOSX/hw2_data/digits/mnistm/data/._41980.png  \n",
            "  inflating: hw2_data/digits/mnistm/data/37816.png  \n",
            "  inflating: __MACOSX/hw2_data/digits/mnistm/data/._37816.png  \n",
            "  inflating: hw2_data/digits/mnistm/data/09720.png  \n",
            "  inflating: __MACOSX/hw2_data/digits/mnistm/data/._09720.png  \n",
            "  inflating: hw2_data/digits/mnistm/data/40446.png  \n",
            "  inflating: __MACOSX/hw2_data/digits/mnistm/data/._40446.png  \n",
            "  inflating: hw2_data/digits/mnistm/data/06413.png  \n",
            "  inflating: __MACOSX/hw2_data/digits/mnistm/data/._06413.png  \n",
            "  inflating: hw2_data/digits/mnistm/data/10271.png  \n",
            "  inflating: __MACOSX/hw2_data/digits/mnistm/data/._10271.png  \n",
            "  inflating: hw2_data/digits/mnistm/data/41758.png  \n",
            "  inflating: __MACOSX/hw2_data/digits/mnistm/data/._41758.png  \n",
            "  inflating: hw2_data/digits/mnistm/data/46037.png  \n",
            "  inflating: __MACOSX/hw2_data/digits/mnistm/data/._46037.png  \n",
            "  inflating: hw2_data/digits/mnistm/data/00062.png  \n",
            "  inflating: __MACOSX/hw2_data/digits/mnistm/data/._00062.png  \n",
            "  inflating: hw2_data/digits/mnistm/data/49304.png  \n",
            "  inflating: __MACOSX/hw2_data/digits/mnistm/data/._49304.png  \n",
            "  inflating: hw2_data/digits/mnistm/data/14017.png  \n",
            "  inflating: __MACOSX/hw2_data/digits/mnistm/data/._14017.png  \n",
            "  inflating: hw2_data/digits/mnistm/data/52042.png  \n",
            "  inflating: __MACOSX/hw2_data/digits/mnistm/data/._52042.png  \n",
            "  inflating: hw2_data/digits/mnistm/data/42251.png  \n",
            "  inflating: __MACOSX/hw2_data/digits/mnistm/data/._42251.png  \n",
            "  inflating: hw2_data/digits/mnistm/data/04204.png  \n",
            "  inflating: __MACOSX/hw2_data/digits/mnistm/data/._04204.png  \n",
            "  inflating: hw2_data/digits/mnistm/data/13778.png  \n",
            "  inflating: __MACOSX/hw2_data/digits/mnistm/data/._13778.png  \n",
            "  inflating: hw2_data/digits/mnistm/data/23863.png  \n",
            "  inflating: __MACOSX/hw2_data/digits/mnistm/data/._23863.png  \n",
            "  inflating: hw2_data/digits/mnistm/data/12466.png  \n",
            "  inflating: __MACOSX/hw2_data/digits/mnistm/data/._12466.png  \n",
            "  inflating: hw2_data/digits/mnistm/data/54433.png  \n",
            "  inflating: __MACOSX/hw2_data/digits/mnistm/data/._54433.png  \n",
            "  inflating: hw2_data/digits/mnistm/data/15309.png  \n",
            "  inflating: __MACOSX/hw2_data/digits/mnistm/data/._15309.png  \n",
            "  inflating: hw2_data/digits/mnistm/data/44620.png  \n",
            "  inflating: __MACOSX/hw2_data/digits/mnistm/data/._44620.png  \n",
            "  inflating: hw2_data/digits/mnistm/data/02675.png  \n",
            "  inflating: __MACOSX/hw2_data/digits/mnistm/data/._02675.png  \n",
            "  inflating: hw2_data/digits/mnistm/data/32239.png  \n",
            "  inflating: __MACOSX/hw2_data/digits/mnistm/data/._32239.png  \n",
            "  inflating: hw2_data/digits/mnistm/data/05495.png  \n",
            "  inflating: __MACOSX/hw2_data/digits/mnistm/data/._05495.png  \n",
            "  inflating: hw2_data/digits/mnistm/data/34890.png  \n",
            "  inflating: __MACOSX/hw2_data/digits/mnistm/data/._34890.png  \n",
            "  inflating: hw2_data/digits/mnistm/data/25745.png  \n",
            "  inflating: __MACOSX/hw2_data/digits/mnistm/data/._25745.png  \n",
            "  inflating: hw2_data/digits/mnistm/data/15686.png  \n",
            "  inflating: __MACOSX/hw2_data/digits/mnistm/data/._15686.png  \n",
            "  inflating: hw2_data/digits/mnistm/data/04953.png  \n",
            "  inflating: __MACOSX/hw2_data/digits/mnistm/data/._04953.png  \n",
            "  inflating: hw2_data/digits/mnistm/data/42906.png  \n",
            "  inflating: __MACOSX/hw2_data/digits/mnistm/data/._42906.png  \n",
            "  inflating: hw2_data/digits/mnistm/data/35556.png  \n",
            "  inflating: __MACOSX/hw2_data/digits/mnistm/data/._35556.png  \n",
            "  inflating: hw2_data/digits/mnistm/data/23334.png  \n",
            "  inflating: __MACOSX/hw2_data/digits/mnistm/data/._23334.png  \n",
            "  inflating: hw2_data/digits/mnistm/data/14598.png  \n",
            "  inflating: __MACOSX/hw2_data/digits/mnistm/data/._14598.png  \n",
            "  inflating: hw2_data/digits/mnistm/data/34648.png  \n",
            "  inflating: __MACOSX/hw2_data/digits/mnistm/data/._34648.png  \n",
            "  inflating: hw2_data/digits/mnistm/data/33127.png  \n",
            "  inflating: __MACOSX/hw2_data/digits/mnistm/data/._33127.png  \n",
            "  inflating: hw2_data/digits/mnistm/data/27152.png  \n",
            "  inflating: __MACOSX/hw2_data/digits/mnistm/data/._27152.png  \n",
            "  inflating: hw2_data/digits/mnistm/data/07282.png  \n",
            "  inflating: __MACOSX/hw2_data/digits/mnistm/data/._07282.png  \n",
            "  inflating: hw2_data/digits/mnistm/data/28261.png  \n",
            "  inflating: __MACOSX/hw2_data/digits/mnistm/data/._28261.png  \n",
            "  inflating: hw2_data/digits/mnistm/data/37341.png  \n",
            "  inflating: __MACOSX/hw2_data/digits/mnistm/data/._37341.png  \n",
            "  inflating: hw2_data/digits/mnistm/data/17091.png  \n",
            "  inflating: __MACOSX/hw2_data/digits/mnistm/data/._17091.png  \n",
            "  inflating: hw2_data/digits/mnistm/data/38072.png  \n",
            "  inflating: __MACOSX/hw2_data/digits/mnistm/data/._38072.png  \n",
            "  inflating: hw2_data/digits/mnistm/data/10926.png  \n",
            "  inflating: __MACOSX/hw2_data/digits/mnistm/data/._10926.png  \n",
            "  inflating: hw2_data/digits/mnistm/data/21523.png  \n",
            "  inflating: __MACOSX/hw2_data/digits/mnistm/data/._21523.png  \n",
            "  inflating: hw2_data/digits/mnistm/data/48595.png  \n",
            "  inflating: __MACOSX/hw2_data/digits/mnistm/data/._48595.png  \n",
            "  inflating: hw2_data/digits/mnistm/data/49853.png  \n",
            "  inflating: __MACOSX/hw2_data/digits/mnistm/data/._49853.png  \n",
            "  inflating: hw2_data/digits/mnistm/data/31730.png  \n",
            "  inflating: __MACOSX/hw2_data/digits/mnistm/data/._31730.png  \n",
            "  inflating: hw2_data/digits/mnistm/data/11386.png  \n",
            "  inflating: __MACOSX/hw2_data/digits/mnistm/data/._11386.png  \n",
            "  inflating: hw2_data/digits/mnistm/data/29619.png  \n",
            "  inflating: __MACOSX/hw2_data/digits/mnistm/data/._29619.png  \n",
            "  inflating: hw2_data/digits/mnistm/data/31056.png  \n",
            "  inflating: __MACOSX/hw2_data/digits/mnistm/data/._31056.png  \n",
            "  inflating: hw2_data/digits/mnistm/data/36739.png  \n",
            "  inflating: __MACOSX/hw2_data/digits/mnistm/data/._36739.png  \n",
            "  inflating: hw2_data/digits/mnistm/data/01195.png  \n",
            "  inflating: __MACOSX/hw2_data/digits/mnistm/data/._01195.png  \n",
            "  inflating: hw2_data/digits/mnistm/data/21245.png  \n",
            "  inflating: __MACOSX/hw2_data/digits/mnistm/data/._21245.png  \n",
            "  inflating: hw2_data/digits/mnistm/data/37427.png  \n",
            "  inflating: __MACOSX/hw2_data/digits/mnistm/data/._37427.png  \n",
            "  inflating: hw2_data/digits/mnistm/data/06822.png  \n",
            "  inflating: __MACOSX/hw2_data/digits/mnistm/data/._06822.png  \n",
            "  inflating: hw2_data/digits/mnistm/data/38714.png  \n",
            "  inflating: __MACOSX/hw2_data/digits/mnistm/data/._38714.png  \n",
            "  inflating: hw2_data/digits/mnistm/data/40877.png  \n",
            "  inflating: __MACOSX/hw2_data/digits/mnistm/data/._40877.png  \n",
            "  inflating: hw2_data/digits/mnistm/data/27634.png  \n",
            "  inflating: __MACOSX/hw2_data/digits/mnistm/data/._27634.png  \n",
            "  inflating: hw2_data/digits/mnistm/data/19902.png  \n",
            "  inflating: __MACOSX/hw2_data/digits/mnistm/data/._19902.png  \n",
            "  inflating: hw2_data/digits/mnistm/data/10098.png  \n",
            "  inflating: __MACOSX/hw2_data/digits/mnistm/data/._10098.png  \n",
            "  inflating: hw2_data/digits/mnistm/data/30348.png  \n",
            "  inflating: __MACOSX/hw2_data/digits/mnistm/data/._30348.png  \n",
            "  inflating: hw2_data/digits/mnistm/data/28507.png  \n",
            "  inflating: __MACOSX/hw2_data/digits/mnistm/data/._28507.png  \n",
            "  inflating: hw2_data/digits/mnistm/data/22994.png  \n",
            "  inflating: __MACOSX/hw2_data/digits/mnistm/data/._22994.png  \n",
            "  inflating: hw2_data/digits/mnistm/data/33641.png  \n",
            "  inflating: __MACOSX/hw2_data/digits/mnistm/data/._33641.png  \n",
            "  inflating: hw2_data/digits/mnistm/data/13591.png  \n",
            "  inflating: __MACOSX/hw2_data/digits/mnistm/data/._13591.png  \n",
            "  inflating: hw2_data/digits/mnistm/data/23452.png  \n",
            "  inflating: __MACOSX/hw2_data/digits/mnistm/data/._23452.png  \n",
            "  inflating: hw2_data/digits/mnistm/data/54802.png  \n",
            "  inflating: __MACOSX/hw2_data/digits/mnistm/data/._54802.png  \n",
            "  inflating: hw2_data/digits/mnistm/data/03782.png  \n",
            "  inflating: __MACOSX/hw2_data/digits/mnistm/data/._03782.png  \n",
            "  inflating: hw2_data/digits/mnistm/data/12857.png  \n",
            "  inflating: __MACOSX/hw2_data/digits/mnistm/data/._12857.png  \n",
            "  inflating: hw2_data/digits/mnistm/data/33899.png  \n",
            "  inflating: __MACOSX/hw2_data/digits/mnistm/data/._33899.png  \n",
            "  inflating: hw2_data/digits/mnistm/data/35230.png  \n",
            "  inflating: __MACOSX/hw2_data/digits/mnistm/data/._35230.png  \n",
            "  inflating: hw2_data/digits/mnistm/data/25023.png  \n",
            "  inflating: __MACOSX/hw2_data/digits/mnistm/data/._25023.png  \n",
            "  inflating: hw2_data/digits/mnistm/data/33655.png  \n",
            "  inflating: __MACOSX/hw2_data/digits/mnistm/data/._33655.png  \n",
            "  inflating: hw2_data/digits/mnistm/data/22980.png  \n",
            "  inflating: __MACOSX/hw2_data/digits/mnistm/data/._22980.png  \n",
            "  inflating: hw2_data/digits/mnistm/data/24329.png  \n",
            "  inflating: __MACOSX/hw2_data/digits/mnistm/data/._24329.png  \n",
            "  inflating: hw2_data/digits/mnistm/data/13585.png  \n",
            "  inflating: __MACOSX/hw2_data/digits/mnistm/data/._13585.png  \n",
            "  inflating: hw2_data/digits/mnistm/data/23446.png  \n",
            "  inflating: __MACOSX/hw2_data/digits/mnistm/data/._23446.png  \n",
            "  inflating: hw2_data/digits/mnistm/data/12843.png  \n",
            "  inflating: __MACOSX/hw2_data/digits/mnistm/data/._12843.png  \n",
            "  inflating: hw2_data/digits/mnistm/data/03796.png  \n",
            "  inflating: __MACOSX/hw2_data/digits/mnistm/data/._03796.png  \n",
            "  inflating: hw2_data/digits/mnistm/data/54816.png  \n",
            "  inflating: __MACOSX/hw2_data/digits/mnistm/data/._54816.png  \n",
            "  inflating: hw2_data/digits/mnistm/data/22758.png  \n",
            "  inflating: __MACOSX/hw2_data/digits/mnistm/data/._22758.png  \n",
            "  inflating: hw2_data/digits/mnistm/data/35224.png  \n",
            "  inflating: __MACOSX/hw2_data/digits/mnistm/data/._35224.png  \n",
            "  inflating: hw2_data/digits/mnistm/data/02488.png  \n",
            "  inflating: __MACOSX/hw2_data/digits/mnistm/data/._02488.png  \n",
            "  inflating: hw2_data/digits/mnistm/data/25037.png  \n",
            "  inflating: __MACOSX/hw2_data/digits/mnistm/data/._25037.png  \n",
            "  inflating: hw2_data/digits/mnistm/data/11392.png  \n",
            "  inflating: __MACOSX/hw2_data/digits/mnistm/data/._11392.png  \n",
            "  inflating: hw2_data/digits/mnistm/data/31042.png  \n",
            "  inflating: __MACOSX/hw2_data/digits/mnistm/data/._31042.png  \n",
            "  inflating: hw2_data/digits/mnistm/data/01181.png  \n",
            "  inflating: __MACOSX/hw2_data/digits/mnistm/data/._01181.png  \n",
            "  inflating: hw2_data/digits/mnistm/data/21251.png  \n",
            "  inflating: __MACOSX/hw2_data/digits/mnistm/data/._21251.png  \n",
            "  inflating: hw2_data/digits/mnistm/data/37433.png  \n",
            "  inflating: __MACOSX/hw2_data/digits/mnistm/data/._37433.png  \n",
            "  inflating: hw2_data/digits/mnistm/data/40863.png  \n",
            "  inflating: __MACOSX/hw2_data/digits/mnistm/data/._40863.png  \n",
            "  inflating: hw2_data/digits/mnistm/data/38700.png  \n",
            "  inflating: __MACOSX/hw2_data/digits/mnistm/data/._38700.png  \n",
            "  inflating: hw2_data/digits/mnistm/data/06836.png  \n",
            "  inflating: __MACOSX/hw2_data/digits/mnistm/data/._06836.png  \n",
            "  inflating: hw2_data/digits/mnistm/data/19916.png  \n",
            "  inflating: __MACOSX/hw2_data/digits/mnistm/data/._19916.png  \n",
            "  inflating: hw2_data/digits/mnistm/data/27620.png  \n",
            "  inflating: __MACOSX/hw2_data/digits/mnistm/data/._27620.png  \n",
            "  inflating: hw2_data/digits/mnistm/data/28513.png  \n",
            "  inflating: __MACOSX/hw2_data/digits/mnistm/data/._28513.png  \n",
            "  inflating: hw2_data/digits/mnistm/data/27146.png  \n",
            "  inflating: __MACOSX/hw2_data/digits/mnistm/data/._27146.png  \n",
            "  inflating: hw2_data/digits/mnistm/data/28275.png  \n",
            "  inflating: __MACOSX/hw2_data/digits/mnistm/data/._28275.png  \n",
            "  inflating: hw2_data/digits/mnistm/data/07296.png  \n",
            "  inflating: __MACOSX/hw2_data/digits/mnistm/data/._07296.png  \n",
            "  inflating: hw2_data/digits/mnistm/data/37355.png  \n",
            "  inflating: __MACOSX/hw2_data/digits/mnistm/data/._37355.png  \n",
            "  inflating: hw2_data/digits/mnistm/data/20629.png  \n",
            "  inflating: __MACOSX/hw2_data/digits/mnistm/data/._20629.png  \n",
            "  inflating: hw2_data/digits/mnistm/data/38066.png  \n",
            "  inflating: __MACOSX/hw2_data/digits/mnistm/data/._38066.png  \n",
            "  inflating: hw2_data/digits/mnistm/data/17085.png  \n",
            "  inflating: __MACOSX/hw2_data/digits/mnistm/data/._17085.png  \n",
            "  inflating: hw2_data/digits/mnistm/data/10932.png  \n",
            "  inflating: __MACOSX/hw2_data/digits/mnistm/data/._10932.png  \n",
            "  inflating: hw2_data/digits/mnistm/data/39378.png  \n",
            "  inflating: __MACOSX/hw2_data/digits/mnistm/data/._39378.png  \n",
            "  inflating: hw2_data/digits/mnistm/data/48581.png  \n",
            "  inflating: __MACOSX/hw2_data/digits/mnistm/data/._48581.png  \n",
            "  inflating: hw2_data/digits/mnistm/data/21537.png  \n",
            "  inflating: __MACOSX/hw2_data/digits/mnistm/data/._21537.png  \n",
            "  inflating: hw2_data/digits/mnistm/data/26258.png  \n",
            "  inflating: __MACOSX/hw2_data/digits/mnistm/data/._26258.png  \n",
            "  inflating: hw2_data/digits/mnistm/data/31724.png  \n",
            "  inflating: __MACOSX/hw2_data/digits/mnistm/data/._31724.png  \n",
            "  inflating: hw2_data/digits/mnistm/data/49847.png  \n",
            "  inflating: __MACOSX/hw2_data/digits/mnistm/data/._49847.png  \n",
            "  inflating: hw2_data/digits/mnistm/data/06188.png  \n",
            "  inflating: __MACOSX/hw2_data/digits/mnistm/data/._06188.png  \n",
            "  inflating: hw2_data/digits/mnistm/data/05481.png  \n",
            "  inflating: __MACOSX/hw2_data/digits/mnistm/data/._05481.png  \n",
            "  inflating: hw2_data/digits/mnistm/data/25751.png  \n",
            "  inflating: __MACOSX/hw2_data/digits/mnistm/data/._25751.png  \n",
            "  inflating: hw2_data/digits/mnistm/data/34884.png  \n",
            "  inflating: __MACOSX/hw2_data/digits/mnistm/data/._34884.png  \n",
            "  inflating: hw2_data/digits/mnistm/data/42912.png  \n",
            "  inflating: __MACOSX/hw2_data/digits/mnistm/data/._42912.png  \n",
            "  inflating: hw2_data/digits/mnistm/data/04947.png  \n",
            "  inflating: __MACOSX/hw2_data/digits/mnistm/data/._04947.png  \n",
            "  inflating: hw2_data/digits/mnistm/data/15692.png  \n",
            "  inflating: __MACOSX/hw2_data/digits/mnistm/data/._15692.png  \n",
            "  inflating: hw2_data/digits/mnistm/data/35542.png  \n",
            "  inflating: __MACOSX/hw2_data/digits/mnistm/data/._35542.png  \n",
            "  inflating: hw2_data/digits/mnistm/data/23320.png  \n",
            "  inflating: __MACOSX/hw2_data/digits/mnistm/data/._23320.png  \n",
            "  inflating: hw2_data/digits/mnistm/data/25989.png  \n",
            "  inflating: __MACOSX/hw2_data/digits/mnistm/data/._25989.png  \n",
            "  inflating: hw2_data/digits/mnistm/data/33133.png  \n",
            "  inflating: __MACOSX/hw2_data/digits/mnistm/data/._33133.png  \n",
            "  inflating: hw2_data/digits/mnistm/data/30412.png  \n",
            "  inflating: __MACOSX/hw2_data/digits/mnistm/data/._30412.png  \n",
            "  inflating: hw2_data/digits/mnistm/data/47842.png  \n",
            "  inflating: __MACOSX/hw2_data/digits/mnistm/data/._47842.png  \n",
            "  inflating: hw2_data/digits/mnistm/data/01817.png  \n",
            "  inflating: __MACOSX/hw2_data/digits/mnistm/data/._01817.png  \n",
            "  inflating: hw2_data/digits/mnistm/data/20601.png  \n",
            "  inflating: __MACOSX/hw2_data/digits/mnistm/data/._20601.png  \n",
            "  inflating: hw2_data/digits/mnistm/data/46584.png  \n",
            "  inflating: __MACOSX/hw2_data/digits/mnistm/data/._46584.png  \n",
            "  inflating: hw2_data/digits/mnistm/data/39350.png  \n",
            "  inflating: __MACOSX/hw2_data/digits/mnistm/data/._39350.png  \n",
            "  inflating: hw2_data/digits/mnistm/data/19080.png  \n",
            "  inflating: __MACOSX/hw2_data/digits/mnistm/data/._19080.png  \n",
            "  inflating: hw2_data/digits/mnistm/data/36063.png  \n",
            "  inflating: __MACOSX/hw2_data/digits/mnistm/data/._36063.png  \n",
            "  inflating: hw2_data/digits/mnistm/data/29143.png  \n",
            "  inflating: __MACOSX/hw2_data/digits/mnistm/data/._29143.png  \n",
            "  inflating: hw2_data/digits/mnistm/data/09293.png  \n",
            "  inflating: __MACOSX/hw2_data/digits/mnistm/data/._09293.png  \n",
            "  inflating: hw2_data/digits/mnistm/data/26270.png  \n",
            "  inflating: __MACOSX/hw2_data/digits/mnistm/data/._26270.png  \n",
            "  inflating: hw2_data/digits/mnistm/data/25779.png  \n",
            "  inflating: __MACOSX/hw2_data/digits/mnistm/data/._25779.png  \n",
            "  inflating: hw2_data/digits/mnistm/data/54180.png  \n",
            "  inflating: __MACOSX/hw2_data/digits/mnistm/data/._54180.png  \n",
            "  inflating: hw2_data/digits/mnistm/data/32205.png  \n",
            "  inflating: __MACOSX/hw2_data/digits/mnistm/data/._32205.png  \n",
            "  inflating: hw2_data/digits/mnistm/data/44393.png  \n",
            "  inflating: __MACOSX/hw2_data/digits/mnistm/data/._44393.png  \n",
            "  inflating: hw2_data/digits/mnistm/data/22016.png  \n",
            "  inflating: __MACOSX/hw2_data/digits/mnistm/data/._22016.png  \n",
            "  inflating: hw2_data/digits/mnistm/data/34674.png  \n",
            "  inflating: __MACOSX/hw2_data/digits/mnistm/data/._34674.png  \n",
            "  inflating: hw2_data/digits/mnistm/data/23308.png  \n",
            "  inflating: __MACOSX/hw2_data/digits/mnistm/data/._23308.png  \n",
            "  inflating: hw2_data/digits/mnistm/data/24467.png  \n",
            "  inflating: __MACOSX/hw2_data/digits/mnistm/data/._24467.png  \n",
            "  inflating: hw2_data/digits/mnistm/data/15862.png  \n",
            "  inflating: __MACOSX/hw2_data/digits/mnistm/data/._15862.png  \n",
            "  inflating: hw2_data/digits/mnistm/data/53837.png  \n",
            "  inflating: __MACOSX/hw2_data/digits/mnistm/data/._53837.png  \n",
            "  inflating: hw2_data/digits/mnistm/data/24301.png  \n",
            "  inflating: __MACOSX/hw2_data/digits/mnistm/data/._24301.png  \n",
            "  inflating: hw2_data/digits/mnistm/data/42084.png  \n",
            "  inflating: __MACOSX/hw2_data/digits/mnistm/data/._42084.png  \n",
            "  inflating: hw2_data/digits/mnistm/data/34112.png  \n",
            "  inflating: __MACOSX/hw2_data/digits/mnistm/data/._34112.png  \n",
            "  inflating: hw2_data/digits/mnistm/data/52297.png  \n",
            "  inflating: __MACOSX/hw2_data/digits/mnistm/data/._52297.png  \n",
            "  inflating: hw2_data/digits/mnistm/data/22770.png  \n",
            "  inflating: __MACOSX/hw2_data/digits/mnistm/data/._22770.png  \n",
            "  inflating: hw2_data/digits/mnistm/data/53189.png  \n",
            "  inflating: __MACOSX/hw2_data/digits/mnistm/data/._53189.png  \n",
            "  inflating: hw2_data/digits/mnistm/data/45933.png  \n",
            "  inflating: __MACOSX/hw2_data/digits/mnistm/data/._45933.png  \n",
            "  inflating: hw2_data/digits/mnistm/data/03966.png  \n",
            "  inflating: __MACOSX/hw2_data/digits/mnistm/data/._03966.png  \n",
            "  inflating: hw2_data/digits/mnistm/data/32563.png  \n",
            "  inflating: __MACOSX/hw2_data/digits/mnistm/data/._32563.png  \n",
            "  inflating: hw2_data/digits/mnistm/data/17913.png  \n",
            "  inflating: __MACOSX/hw2_data/digits/mnistm/data/._17913.png  \n",
            "  inflating: hw2_data/digits/mnistm/data/29625.png  \n",
            "  inflating: __MACOSX/hw2_data/digits/mnistm/data/._29625.png  \n",
            "  inflating: hw2_data/digits/mnistm/data/51946.png  \n",
            "  inflating: __MACOSX/hw2_data/digits/mnistm/data/._51946.png  \n",
            "  inflating: hw2_data/digits/mnistm/data/40693.png  \n",
            "  inflating: __MACOSX/hw2_data/digits/mnistm/data/._40693.png  \n",
            "  inflating: hw2_data/digits/mnistm/data/26516.png  \n",
            "  inflating: __MACOSX/hw2_data/digits/mnistm/data/._26516.png  \n",
            "  inflating: hw2_data/digits/mnistm/data/50480.png  \n",
            "  inflating: __MACOSX/hw2_data/digits/mnistm/data/._50480.png  \n",
            "  inflating: hw2_data/digits/mnistm/data/21279.png  \n",
            "  inflating: __MACOSX/hw2_data/digits/mnistm/data/._21279.png  \n",
            "  inflating: hw2_data/digits/mnistm/data/39436.png  \n",
            "  inflating: __MACOSX/hw2_data/digits/mnistm/data/._39436.png  \n",
            "  inflating: hw2_data/digits/mnistm/data/36705.png  \n",
            "  inflating: __MACOSX/hw2_data/digits/mnistm/data/._36705.png  \n",
            "  inflating: hw2_data/digits/mnistm/data/08833.png  \n",
            "  inflating: __MACOSX/hw2_data/digits/mnistm/data/._08833.png  \n",
            "  inflating: hw2_data/digits/mnistm/data/38728.png  \n",
            "  inflating: __MACOSX/hw2_data/digits/mnistm/data/._38728.png  \n",
            "  inflating: hw2_data/digits/mnistm/data/20167.png  \n",
            "  inflating: __MACOSX/hw2_data/digits/mnistm/data/._20167.png  \n",
            "  inflating: hw2_data/digits/mnistm/data/30374.png  \n",
            "  inflating: __MACOSX/hw2_data/digits/mnistm/data/._30374.png  \n",
            "  inflating: hw2_data/digits/mnistm/data/27608.png  \n",
            "  inflating: __MACOSX/hw2_data/digits/mnistm/data/._27608.png  \n",
            "  inflating: hw2_data/digits/mnistm/data/40687.png  \n",
            "  inflating: __MACOSX/hw2_data/digits/mnistm/data/._40687.png  \n",
            "  inflating: hw2_data/digits/mnistm/data/51952.png  \n",
            "  inflating: __MACOSX/hw2_data/digits/mnistm/data/._51952.png  \n",
            "  inflating: hw2_data/digits/mnistm/data/29631.png  \n",
            "  inflating: __MACOSX/hw2_data/digits/mnistm/data/._29631.png  \n",
            "  inflating: hw2_data/digits/mnistm/data/17907.png  \n",
            "  inflating: __MACOSX/hw2_data/digits/mnistm/data/._17907.png  \n",
            "  inflating: hw2_data/digits/mnistm/data/26502.png  \n",
            "  inflating: __MACOSX/hw2_data/digits/mnistm/data/._26502.png  \n",
            "  inflating: hw2_data/digits/mnistm/data/39422.png  \n",
            "  inflating: __MACOSX/hw2_data/digits/mnistm/data/._39422.png  \n",
            "  inflating: hw2_data/digits/mnistm/data/50494.png  \n",
            "  inflating: __MACOSX/hw2_data/digits/mnistm/data/._50494.png  \n",
            "  inflating: hw2_data/digits/mnistm/data/08827.png  \n",
            "  inflating: __MACOSX/hw2_data/digits/mnistm/data/._08827.png  \n",
            "  inflating: hw2_data/digits/mnistm/data/36711.png  \n",
            "  inflating: __MACOSX/hw2_data/digits/mnistm/data/._36711.png  \n",
            "  inflating: hw2_data/digits/mnistm/data/20173.png  \n",
            "  inflating: __MACOSX/hw2_data/digits/mnistm/data/._20173.png  \n",
            "  inflating: hw2_data/digits/mnistm/data/30360.png  \n",
            "  inflating: __MACOSX/hw2_data/digits/mnistm/data/._30360.png  \n",
            "  inflating: hw2_data/digits/mnistm/data/41599.png  \n",
            "  inflating: __MACOSX/hw2_data/digits/mnistm/data/._41599.png  \n",
            "  inflating: hw2_data/digits/mnistm/data/24315.png  \n",
            "  inflating: __MACOSX/hw2_data/digits/mnistm/data/._24315.png  \n",
            "  inflating: hw2_data/digits/mnistm/data/42090.png  \n",
            "  inflating: __MACOSX/hw2_data/digits/mnistm/data/._42090.png  \n",
            "  inflating: hw2_data/digits/mnistm/data/33669.png  \n",
            "  inflating: __MACOSX/hw2_data/digits/mnistm/data/._33669.png  \n",
            "  inflating: hw2_data/digits/mnistm/data/34106.png  \n",
            "  inflating: __MACOSX/hw2_data/digits/mnistm/data/._34106.png  \n",
            "  inflating: hw2_data/digits/mnistm/data/52283.png  \n",
            "  inflating: __MACOSX/hw2_data/digits/mnistm/data/._52283.png  \n",
            "  inflating: hw2_data/digits/mnistm/data/35218.png  \n",
            "  inflating: __MACOSX/hw2_data/digits/mnistm/data/._35218.png  \n",
            "  inflating: hw2_data/digits/mnistm/data/22764.png  \n",
            "  inflating: __MACOSX/hw2_data/digits/mnistm/data/._22764.png  \n",
            "  inflating: hw2_data/digits/mnistm/data/03972.png  \n",
            "  inflating: __MACOSX/hw2_data/digits/mnistm/data/._03972.png  \n",
            "  inflating: hw2_data/digits/mnistm/data/45927.png  \n",
            "  inflating: __MACOSX/hw2_data/digits/mnistm/data/._45927.png  \n",
            "  inflating: hw2_data/digits/mnistm/data/32577.png  \n",
            "  inflating: __MACOSX/hw2_data/digits/mnistm/data/._32577.png  \n",
            "  inflating: hw2_data/digits/mnistm/data/54194.png  \n",
            "  inflating: __MACOSX/hw2_data/digits/mnistm/data/._54194.png  \n",
            "  inflating: hw2_data/digits/mnistm/data/32211.png  \n",
            "  inflating: __MACOSX/hw2_data/digits/mnistm/data/._32211.png  \n",
            "  inflating: hw2_data/digits/mnistm/data/44387.png  \n",
            "  inflating: __MACOSX/hw2_data/digits/mnistm/data/._44387.png  \n",
            "  inflating: hw2_data/digits/mnistm/data/22002.png  \n",
            "  inflating: __MACOSX/hw2_data/digits/mnistm/data/._22002.png  \n",
            "  inflating: hw2_data/digits/mnistm/data/45099.png  \n",
            "  inflating: __MACOSX/hw2_data/digits/mnistm/data/._45099.png  \n",
            "  inflating: hw2_data/digits/mnistm/data/34660.png  \n",
            "  inflating: __MACOSX/hw2_data/digits/mnistm/data/._34660.png  \n",
            "  inflating: hw2_data/digits/mnistm/data/24473.png  \n",
            "  inflating: __MACOSX/hw2_data/digits/mnistm/data/._24473.png  \n",
            "  inflating: hw2_data/digits/mnistm/data/53823.png  \n",
            "  inflating: __MACOSX/hw2_data/digits/mnistm/data/._53823.png  \n",
            "  inflating: hw2_data/digits/mnistm/data/15876.png  \n",
            "  inflating: __MACOSX/hw2_data/digits/mnistm/data/._15876.png  \n",
            "  inflating: hw2_data/digits/mnistm/data/28249.png  \n",
            "  inflating: __MACOSX/hw2_data/digits/mnistm/data/._28249.png  \n",
            "  inflating: hw2_data/digits/mnistm/data/30406.png  \n",
            "  inflating: __MACOSX/hw2_data/digits/mnistm/data/._30406.png  \n",
            "  inflating: hw2_data/digits/mnistm/data/01803.png  \n",
            "  inflating: __MACOSX/hw2_data/digits/mnistm/data/._01803.png  \n",
            "  inflating: hw2_data/digits/mnistm/data/08199.png  \n",
            "  inflating: __MACOSX/hw2_data/digits/mnistm/data/._08199.png  \n",
            "  inflating: hw2_data/digits/mnistm/data/47856.png  \n",
            "  inflating: __MACOSX/hw2_data/digits/mnistm/data/._47856.png  \n",
            "  inflating: hw2_data/digits/mnistm/data/20615.png  \n",
            "  inflating: __MACOSX/hw2_data/digits/mnistm/data/._20615.png  \n",
            "  inflating: hw2_data/digits/mnistm/data/37369.png  \n",
            "  inflating: __MACOSX/hw2_data/digits/mnistm/data/._37369.png  \n",
            "  inflating: hw2_data/digits/mnistm/data/46590.png  \n",
            "  inflating: __MACOSX/hw2_data/digits/mnistm/data/._46590.png  \n",
            "  inflating: hw2_data/digits/mnistm/data/39344.png  \n",
            "  inflating: __MACOSX/hw2_data/digits/mnistm/data/._39344.png  \n",
            "  inflating: hw2_data/digits/mnistm/data/36077.png  \n",
            "  inflating: __MACOSX/hw2_data/digits/mnistm/data/._36077.png  \n",
            "  inflating: hw2_data/digits/mnistm/data/19094.png  \n",
            "  inflating: __MACOSX/hw2_data/digits/mnistm/data/._19094.png  \n",
            "  inflating: hw2_data/digits/mnistm/data/31718.png  \n",
            "  inflating: __MACOSX/hw2_data/digits/mnistm/data/._31718.png  \n",
            "  inflating: hw2_data/digits/mnistm/data/29157.png  \n",
            "  inflating: __MACOSX/hw2_data/digits/mnistm/data/._29157.png  \n",
            "  inflating: hw2_data/digits/mnistm/data/26264.png  \n",
            "  inflating: __MACOSX/hw2_data/digits/mnistm/data/._26264.png  \n",
            "  inflating: hw2_data/digits/mnistm/data/09287.png  \n",
            "  inflating: __MACOSX/hw2_data/digits/mnistm/data/._09287.png  \n",
            "  inflating: hw2_data/digits/mnistm/data/01630.png  \n",
            "  inflating: __MACOSX/hw2_data/digits/mnistm/data/._01630.png  \n",
            "  inflating: hw2_data/digits/mnistm/data/47665.png  \n",
            "  inflating: __MACOSX/hw2_data/digits/mnistm/data/._47665.png  \n",
            "  inflating: hw2_data/digits/mnistm/data/48556.png  \n",
            "  inflating: __MACOSX/hw2_data/digits/mnistm/data/._48556.png  \n",
            "  inflating: hw2_data/digits/mnistm/data/50319.png  \n",
            "  inflating: __MACOSX/hw2_data/digits/mnistm/data/._50319.png  \n",
            "  inflating: hw2_data/digits/mnistm/data/11423.png  \n",
            "  inflating: __MACOSX/hw2_data/digits/mnistm/data/._11423.png  \n",
            "  inflating: hw2_data/digits/mnistm/data/20826.png  \n",
            "  inflating: __MACOSX/hw2_data/digits/mnistm/data/._20826.png  \n",
            "  inflating: hw2_data/digits/mnistm/data/49890.png  \n",
            "  inflating: __MACOSX/hw2_data/digits/mnistm/data/._49890.png  \n",
            "  inflating: hw2_data/digits/mnistm/data/08172.png  \n",
            "  inflating: __MACOSX/hw2_data/digits/mnistm/data/._08172.png  \n",
            "  inflating: hw2_data/digits/mnistm/data/27191.png  \n",
            "  inflating: __MACOSX/hw2_data/digits/mnistm/data/._27191.png  \n",
            "  inflating: hw2_data/digits/mnistm/data/07241.png  \n",
            "  inflating: __MACOSX/hw2_data/digits/mnistm/data/._07241.png  \n",
            "  inflating: hw2_data/digits/mnistm/data/41214.png  \n",
            "  inflating: __MACOSX/hw2_data/digits/mnistm/data/._41214.png  \n",
            "  inflating: hw2_data/digits/mnistm/data/18361.png  \n",
            "  inflating: __MACOSX/hw2_data/digits/mnistm/data/._18361.png  \n",
            "  inflating: hw2_data/digits/mnistm/data/37382.png  \n",
            "  inflating: __MACOSX/hw2_data/digits/mnistm/data/._37382.png  \n",
            "  inflating: hw2_data/digits/mnistm/data/51007.png  \n",
            "  inflating: __MACOSX/hw2_data/digits/mnistm/data/._51007.png  \n",
            "  inflating: hw2_data/digits/mnistm/data/49648.png  \n",
            "  inflating: __MACOSX/hw2_data/digits/mnistm/data/._49648.png  \n",
            "  inflating: hw2_data/digits/mnistm/data/17052.png  \n",
            "  inflating: __MACOSX/hw2_data/digits/mnistm/data/._17052.png  \n",
            "  inflating: hw2_data/digits/mnistm/data/03027.png  \n",
            "  inflating: __MACOSX/hw2_data/digits/mnistm/data/._03027.png  \n",
            "  inflating: hw2_data/digits/mnistm/data/45072.png  \n",
            "  inflating: __MACOSX/hw2_data/digits/mnistm/data/._45072.png  \n",
            "  inflating: hw2_data/digits/mnistm/data/04748.png  \n",
            "  inflating: __MACOSX/hw2_data/digits/mnistm/data/._04748.png  \n",
            "  inflating: hw2_data/digits/mnistm/data/55261.png  \n",
            "  inflating: __MACOSX/hw2_data/digits/mnistm/data/._55261.png  \n",
            "  inflating: hw2_data/digits/mnistm/data/24498.png  \n",
            "  inflating: __MACOSX/hw2_data/digits/mnistm/data/._24498.png  \n",
            "  inflating: hw2_data/digits/mnistm/data/13234.png  \n",
            "  inflating: __MACOSX/hw2_data/digits/mnistm/data/._13234.png  \n",
            "  inflating: hw2_data/digits/mnistm/data/05456.png  \n",
            "  inflating: __MACOSX/hw2_data/digits/mnistm/data/._05456.png  \n",
            "  inflating: hw2_data/digits/mnistm/data/43403.png  \n",
            "  inflating: __MACOSX/hw2_data/digits/mnistm/data/._43403.png  \n",
            "  inflating: hw2_data/digits/mnistm/data/34853.png  \n",
            "  inflating: __MACOSX/hw2_data/digits/mnistm/data/._34853.png  \n",
            "  inflating: hw2_data/digits/mnistm/data/25786.png  \n",
            "  inflating: __MACOSX/hw2_data/digits/mnistm/data/._25786.png  \n",
            "  inflating: hw2_data/digits/mnistm/data/53610.png  \n",
            "  inflating: __MACOSX/hw2_data/digits/mnistm/data/._53610.png  \n",
            "  inflating: hw2_data/digits/mnistm/data/15645.png  \n",
            "  inflating: __MACOSX/hw2_data/digits/mnistm/data/._15645.png  \n",
            "  inflating: hw2_data/digits/mnistm/data/04990.png  \n",
            "  inflating: __MACOSX/hw2_data/digits/mnistm/data/._04990.png  \n",
            "  inflating: hw2_data/digits/mnistm/data/35595.png  \n",
            "  inflating: __MACOSX/hw2_data/digits/mnistm/data/._35595.png  \n",
            "  inflating: hw2_data/digits/mnistm/data/02339.png  \n",
            "  inflating: __MACOSX/hw2_data/digits/mnistm/data/._02339.png  \n",
            "  inflating: hw2_data/digits/mnistm/data/53176.png  \n",
            "  inflating: __MACOSX/hw2_data/digits/mnistm/data/._53176.png  \n",
            "  inflating: hw2_data/digits/mnistm/data/15123.png  \n",
            "  inflating: __MACOSX/hw2_data/digits/mnistm/data/._15123.png  \n",
            "  inflating: hw2_data/digits/mnistm/data/05330.png  \n",
            "  inflating: __MACOSX/hw2_data/digits/mnistm/data/._05330.png  \n",
            "  inflating: hw2_data/digits/mnistm/data/43365.png  \n",
            "  inflating: __MACOSX/hw2_data/digits/mnistm/data/._43365.png  \n",
            "  inflating: hw2_data/digits/mnistm/data/03999.png  \n",
            "  inflating: __MACOSX/hw2_data/digits/mnistm/data/._03999.png  \n",
            "  inflating: hw2_data/digits/mnistm/data/54619.png  \n",
            "  inflating: __MACOSX/hw2_data/digits/mnistm/data/._54619.png  \n",
            "  inflating: hw2_data/digits/mnistm/data/22957.png  \n",
            "  inflating: __MACOSX/hw2_data/digits/mnistm/data/._22957.png  \n",
            "  inflating: hw2_data/digits/mnistm/data/33682.png  \n",
            "  inflating: __MACOSX/hw2_data/digits/mnistm/data/._33682.png  \n",
            "  inflating: hw2_data/digits/mnistm/data/55507.png  \n",
            "  inflating: __MACOSX/hw2_data/digits/mnistm/data/._55507.png  \n",
            "  inflating: hw2_data/digits/mnistm/data/13552.png  \n",
            "  inflating: __MACOSX/hw2_data/digits/mnistm/data/._13552.png  \n",
            "  inflating: hw2_data/digits/mnistm/data/52268.png  \n",
            "  inflating: __MACOSX/hw2_data/digits/mnistm/data/._52268.png  \n",
            "  inflating: hw2_data/digits/mnistm/data/23491.png  \n",
            "  inflating: __MACOSX/hw2_data/digits/mnistm/data/._23491.png  \n",
            "  inflating: hw2_data/digits/mnistm/data/03741.png  \n",
            "  inflating: __MACOSX/hw2_data/digits/mnistm/data/._03741.png  \n",
            "  inflating: hw2_data/digits/mnistm/data/12894.png  \n",
            "  inflating: __MACOSX/hw2_data/digits/mnistm/data/._12894.png  \n",
            "  inflating: hw2_data/digits/mnistm/data/45714.png  \n",
            "  inflating: __MACOSX/hw2_data/digits/mnistm/data/._45714.png  \n",
            "  inflating: hw2_data/digits/mnistm/data/18407.png  \n",
            "  inflating: __MACOSX/hw2_data/digits/mnistm/data/._18407.png  \n",
            "  inflating: hw2_data/digits/mnistm/data/00248.png  \n",
            "  inflating: __MACOSX/hw2_data/digits/mnistm/data/._00248.png  \n",
            "  inflating: hw2_data/digits/mnistm/data/20198.png  \n",
            "  inflating: __MACOSX/hw2_data/digits/mnistm/data/._20198.png  \n",
            "  inflating: hw2_data/digits/mnistm/data/51761.png  \n",
            "  inflating: __MACOSX/hw2_data/digits/mnistm/data/._51761.png  \n",
            "  inflating: hw2_data/digits/mnistm/data/29802.png  \n",
            "  inflating: __MACOSX/hw2_data/digits/mnistm/data/._29802.png  \n",
            "  inflating: hw2_data/digits/mnistm/data/17734.png  \n",
            "  inflating: __MACOSX/hw2_data/digits/mnistm/data/._17734.png  \n",
            "  inflating: hw2_data/digits/mnistm/data/08614.png  \n",
            "  inflating: __MACOSX/hw2_data/digits/mnistm/data/._08614.png  \n",
            "  inflating: hw2_data/digits/mnistm/data/36922.png  \n",
            "  inflating: __MACOSX/hw2_data/digits/mnistm/data/._36922.png  \n",
            "  inflating: hw2_data/digits/mnistm/data/07527.png  \n",
            "  inflating: __MACOSX/hw2_data/digits/mnistm/data/._07527.png  \n",
            "  inflating: hw2_data/digits/mnistm/data/41572.png  \n",
            "  inflating: __MACOSX/hw2_data/digits/mnistm/data/._41572.png  \n",
            "  inflating: hw2_data/digits/mnistm/data/11345.png  \n",
            "  inflating: __MACOSX/hw2_data/digits/mnistm/data/._11345.png  \n",
            "  inflating: hw2_data/digits/mnistm/data/31095.png  \n",
            "  inflating: __MACOSX/hw2_data/digits/mnistm/data/._31095.png  \n",
            "  inflating: hw2_data/digits/mnistm/data/06639.png  \n",
            "  inflating: __MACOSX/hw2_data/digits/mnistm/data/._06639.png  \n",
            "  inflating: hw2_data/digits/mnistm/data/01156.png  \n",
            "  inflating: __MACOSX/hw2_data/digits/mnistm/data/._01156.png  \n",
            "  inflating: hw2_data/digits/mnistm/data/47103.png  \n",
            "  inflating: __MACOSX/hw2_data/digits/mnistm/data/._47103.png  \n",
            "  inflating: hw2_data/digits/mnistm/data/19719.png  \n",
            "  inflating: __MACOSX/hw2_data/digits/mnistm/data/._19719.png  \n",
            "  inflating: hw2_data/digits/mnistm/data/48230.png  \n",
            "  inflating: __MACOSX/hw2_data/digits/mnistm/data/._48230.png  \n",
            "  inflating: hw2_data/digits/mnistm/data/21286.png  \n",
            "  inflating: __MACOSX/hw2_data/digits/mnistm/data/._21286.png  \n",
            "  inflating: hw2_data/digits/mnistm/data/46209.png  \n",
            "  inflating: __MACOSX/hw2_data/digits/mnistm/data/._46209.png  \n",
            "  inflating: hw2_data/digits/mnistm/data/18413.png  \n",
            "  inflating: __MACOSX/hw2_data/digits/mnistm/data/._18413.png  \n",
            "  inflating: hw2_data/digits/mnistm/data/17720.png  \n",
            "  inflating: __MACOSX/hw2_data/digits/mnistm/data/._17720.png  \n",
            "  inflating: hw2_data/digits/mnistm/data/29816.png  \n",
            "  inflating: __MACOSX/hw2_data/digits/mnistm/data/._29816.png  \n",
            "  inflating: hw2_data/digits/mnistm/data/51775.png  \n",
            "  inflating: __MACOSX/hw2_data/digits/mnistm/data/._51775.png  \n",
            "  inflating: hw2_data/digits/mnistm/data/36936.png  \n",
            "  inflating: __MACOSX/hw2_data/digits/mnistm/data/._36936.png  \n",
            "  inflating: hw2_data/digits/mnistm/data/08600.png  \n",
            "  inflating: __MACOSX/hw2_data/digits/mnistm/data/._08600.png  \n",
            "  inflating: hw2_data/digits/mnistm/data/41566.png  \n",
            "  inflating: __MACOSX/hw2_data/digits/mnistm/data/._41566.png  \n",
            "  inflating: hw2_data/digits/mnistm/data/07533.png  \n",
            "  inflating: __MACOSX/hw2_data/digits/mnistm/data/._07533.png  \n",
            "  inflating: hw2_data/digits/mnistm/data/11351.png  \n",
            "  inflating: __MACOSX/hw2_data/digits/mnistm/data/._11351.png  \n",
            "  inflating: hw2_data/digits/mnistm/data/40678.png  \n",
            "  inflating: __MACOSX/hw2_data/digits/mnistm/data/._40678.png  \n",
            "  inflating: hw2_data/digits/mnistm/data/31081.png  \n",
            "  inflating: __MACOSX/hw2_data/digits/mnistm/data/._31081.png  \n",
            "  inflating: hw2_data/digits/mnistm/data/47117.png  \n",
            "  inflating: __MACOSX/hw2_data/digits/mnistm/data/._47117.png  \n",
            "  inflating: hw2_data/digits/mnistm/data/01142.png  \n",
            "  inflating: __MACOSX/hw2_data/digits/mnistm/data/._01142.png  \n",
            "  inflating: hw2_data/digits/mnistm/data/21292.png  \n",
            "  inflating: __MACOSX/hw2_data/digits/mnistm/data/._21292.png  \n",
            "  inflating: hw2_data/digits/mnistm/data/48224.png  \n",
            "  inflating: __MACOSX/hw2_data/digits/mnistm/data/._48224.png  \n",
            "  inflating: hw2_data/digits/mnistm/data/15137.png  \n",
            "  inflating: __MACOSX/hw2_data/digits/mnistm/data/._15137.png  \n",
            "  inflating: hw2_data/digits/mnistm/data/53162.png  \n",
            "  inflating: __MACOSX/hw2_data/digits/mnistm/data/._53162.png  \n",
            "  inflating: hw2_data/digits/mnistm/data/32588.png  \n",
            "  inflating: __MACOSX/hw2_data/digits/mnistm/data/._32588.png  \n",
            "  inflating: hw2_data/digits/mnistm/data/43371.png  \n",
            "  inflating: __MACOSX/hw2_data/digits/mnistm/data/._43371.png  \n",
            "  inflating: hw2_data/digits/mnistm/data/05324.png  \n",
            "  inflating: __MACOSX/hw2_data/digits/mnistm/data/._05324.png  \n",
            "  inflating: hw2_data/digits/mnistm/data/12658.png  \n",
            "  inflating: __MACOSX/hw2_data/digits/mnistm/data/._12658.png  \n",
            "  inflating: hw2_data/digits/mnistm/data/33696.png  \n",
            "  inflating: __MACOSX/hw2_data/digits/mnistm/data/._33696.png  \n",
            "  inflating: hw2_data/digits/mnistm/data/22943.png  \n",
            "  inflating: __MACOSX/hw2_data/digits/mnistm/data/._22943.png  \n",
            "  inflating: hw2_data/digits/mnistm/data/13546.png  \n",
            "  inflating: __MACOSX/hw2_data/digits/mnistm/data/._13546.png  \n",
            "  inflating: hw2_data/digits/mnistm/data/55513.png  \n",
            "  inflating: __MACOSX/hw2_data/digits/mnistm/data/._55513.png  \n",
            "  inflating: hw2_data/digits/mnistm/data/23485.png  \n",
            "  inflating: __MACOSX/hw2_data/digits/mnistm/data/._23485.png  \n",
            "  inflating: hw2_data/digits/mnistm/data/14229.png  \n",
            "  inflating: __MACOSX/hw2_data/digits/mnistm/data/._14229.png  \n",
            "  inflating: hw2_data/digits/mnistm/data/45700.png  \n",
            "  inflating: __MACOSX/hw2_data/digits/mnistm/data/._45700.png  \n",
            "  inflating: hw2_data/digits/mnistm/data/12880.png  \n",
            "  inflating: __MACOSX/hw2_data/digits/mnistm/data/._12880.png  \n",
            "  inflating: hw2_data/digits/mnistm/data/03755.png  \n",
            "  inflating: __MACOSX/hw2_data/digits/mnistm/data/._03755.png  \n",
            "  inflating: hw2_data/digits/mnistm/data/45066.png  \n",
            "  inflating: __MACOSX/hw2_data/digits/mnistm/data/._45066.png  \n",
            "  inflating: hw2_data/digits/mnistm/data/03033.png  \n",
            "  inflating: __MACOSX/hw2_data/digits/mnistm/data/._03033.png  \n",
            "  inflating: hw2_data/digits/mnistm/data/15889.png  \n",
            "  inflating: __MACOSX/hw2_data/digits/mnistm/data/._15889.png  \n",
            "  inflating: hw2_data/digits/mnistm/data/42709.png  \n",
            "  inflating: __MACOSX/hw2_data/digits/mnistm/data/._42709.png  \n",
            "  inflating: hw2_data/digits/mnistm/data/13220.png  \n",
            "  inflating: __MACOSX/hw2_data/digits/mnistm/data/._13220.png  \n",
            "  inflating: hw2_data/digits/mnistm/data/55275.png  \n",
            "  inflating: __MACOSX/hw2_data/digits/mnistm/data/._55275.png  \n",
            "  inflating: hw2_data/digits/mnistm/data/43417.png  \n",
            "  inflating: __MACOSX/hw2_data/digits/mnistm/data/._43417.png  \n",
            "  inflating: hw2_data/digits/mnistm/data/05442.png  \n",
            "  inflating: __MACOSX/hw2_data/digits/mnistm/data/._05442.png  \n",
            "  inflating: hw2_data/digits/mnistm/data/25792.png  \n",
            "  inflating: __MACOSX/hw2_data/digits/mnistm/data/._25792.png  \n",
            "  inflating: hw2_data/digits/mnistm/data/34847.png  \n",
            "  inflating: __MACOSX/hw2_data/digits/mnistm/data/._34847.png  \n",
            "  inflating: hw2_data/digits/mnistm/data/04984.png  \n",
            "  inflating: __MACOSX/hw2_data/digits/mnistm/data/._04984.png  \n",
            "  inflating: hw2_data/digits/mnistm/data/15651.png  \n",
            "  inflating: __MACOSX/hw2_data/digits/mnistm/data/._15651.png  \n",
            "  inflating: hw2_data/digits/mnistm/data/53604.png  \n",
            "  inflating: __MACOSX/hw2_data/digits/mnistm/data/._53604.png  \n",
            "  inflating: hw2_data/digits/mnistm/data/35581.png  \n",
            "  inflating: __MACOSX/hw2_data/digits/mnistm/data/._35581.png  \n",
            "  inflating: hw2_data/digits/mnistm/data/44378.png  \n",
            "  inflating: __MACOSX/hw2_data/digits/mnistm/data/._44378.png  \n",
            "  inflating: hw2_data/digits/mnistm/data/47671.png  \n",
            "  inflating: __MACOSX/hw2_data/digits/mnistm/data/._47671.png  \n",
            "  inflating: hw2_data/digits/mnistm/data/36088.png  \n",
            "  inflating: __MACOSX/hw2_data/digits/mnistm/data/._36088.png  \n",
            "  inflating: hw2_data/digits/mnistm/data/01624.png  \n",
            "  inflating: __MACOSX/hw2_data/digits/mnistm/data/._01624.png  \n",
            "  inflating: hw2_data/digits/mnistm/data/48542.png  \n",
            "  inflating: __MACOSX/hw2_data/digits/mnistm/data/._48542.png  \n",
            "  inflating: hw2_data/digits/mnistm/data/16358.png  \n",
            "  inflating: __MACOSX/hw2_data/digits/mnistm/data/._16358.png  \n",
            "  inflating: hw2_data/digits/mnistm/data/11437.png  \n",
            "  inflating: __MACOSX/hw2_data/digits/mnistm/data/._11437.png  \n",
            "  inflating: hw2_data/digits/mnistm/data/09278.png  \n",
            "  inflating: __MACOSX/hw2_data/digits/mnistm/data/._09278.png  \n",
            "  inflating: hw2_data/digits/mnistm/data/49884.png  \n",
            "  inflating: __MACOSX/hw2_data/digits/mnistm/data/._49884.png  \n",
            "  inflating: hw2_data/digits/mnistm/data/20832.png  \n",
            "  inflating: __MACOSX/hw2_data/digits/mnistm/data/._20832.png  \n",
            "  inflating: hw2_data/digits/mnistm/data/27185.png  \n",
            "  inflating: __MACOSX/hw2_data/digits/mnistm/data/._27185.png  \n",
            "  inflating: hw2_data/digits/mnistm/data/08166.png  \n",
            "  inflating: __MACOSX/hw2_data/digits/mnistm/data/._08166.png  \n",
            "  inflating: hw2_data/digits/mnistm/data/10729.png  \n",
            "  inflating: __MACOSX/hw2_data/digits/mnistm/data/._10729.png  \n",
            "  inflating: hw2_data/digits/mnistm/data/41200.png  \n",
            "  inflating: __MACOSX/hw2_data/digits/mnistm/data/._41200.png  \n",
            "  inflating: hw2_data/digits/mnistm/data/07255.png  \n",
            "  inflating: __MACOSX/hw2_data/digits/mnistm/data/._07255.png  \n",
            "  inflating: hw2_data/digits/mnistm/data/37396.png  \n",
            "  inflating: __MACOSX/hw2_data/digits/mnistm/data/._37396.png  \n",
            "  inflating: hw2_data/digits/mnistm/data/18375.png  \n",
            "  inflating: __MACOSX/hw2_data/digits/mnistm/data/._18375.png  \n",
            "  inflating: hw2_data/digits/mnistm/data/17046.png  \n",
            "  inflating: __MACOSX/hw2_data/digits/mnistm/data/._17046.png  \n",
            "  inflating: hw2_data/digits/mnistm/data/51013.png  \n",
            "  inflating: __MACOSX/hw2_data/digits/mnistm/data/._51013.png  \n",
            "  inflating: hw2_data/digits/mnistm/data/25962.png  \n",
            "  inflating: __MACOSX/hw2_data/digits/mnistm/data/._25962.png  \n",
            "  inflating: hw2_data/digits/mnistm/data/14567.png  \n",
            "  inflating: __MACOSX/hw2_data/digits/mnistm/data/._14567.png  \n",
            "  inflating: hw2_data/digits/mnistm/data/52532.png  \n",
            "  inflating: __MACOSX/hw2_data/digits/mnistm/data/._52532.png  \n",
            "  inflating: hw2_data/digits/mnistm/data/13208.png  \n",
            "  inflating: __MACOSX/hw2_data/digits/mnistm/data/._13208.png  \n",
            "  inflating: hw2_data/digits/mnistm/data/42721.png  \n",
            "  inflating: __MACOSX/hw2_data/digits/mnistm/data/._42721.png  \n",
            "  inflating: hw2_data/digits/mnistm/data/04774.png  \n",
            "  inflating: __MACOSX/hw2_data/digits/mnistm/data/._04774.png  \n",
            "  inflating: hw2_data/digits/mnistm/data/12116.png  \n",
            "  inflating: __MACOSX/hw2_data/digits/mnistm/data/._12116.png  \n",
            "  inflating: hw2_data/digits/mnistm/data/54143.png  \n",
            "  inflating: __MACOSX/hw2_data/digits/mnistm/data/._54143.png  \n",
            "  inflating: hw2_data/digits/mnistm/data/44350.png  \n",
            "  inflating: __MACOSX/hw2_data/digits/mnistm/data/._44350.png  \n",
            "  inflating: hw2_data/digits/mnistm/data/02305.png  \n",
            "  inflating: __MACOSX/hw2_data/digits/mnistm/data/._02305.png  \n",
            "  inflating: hw2_data/digits/mnistm/data/15679.png  \n",
            "  inflating: __MACOSX/hw2_data/digits/mnistm/data/._15679.png  \n",
            "  inflating: hw2_data/digits/mnistm/data/16370.png  \n",
            "  inflating: __MACOSX/hw2_data/digits/mnistm/data/._16370.png  \n",
            "  inflating: hw2_data/digits/mnistm/data/39393.png  \n",
            "  inflating: __MACOSX/hw2_data/digits/mnistm/data/._39393.png  \n",
            "  inflating: hw2_data/digits/mnistm/data/50325.png  \n",
            "  inflating: __MACOSX/hw2_data/digits/mnistm/data/._50325.png  \n",
            "  inflating: hw2_data/digits/mnistm/data/47659.png  \n",
            "  inflating: __MACOSX/hw2_data/digits/mnistm/data/._47659.png  \n",
            "  inflating: hw2_data/digits/mnistm/data/19043.png  \n",
            "  inflating: __MACOSX/hw2_data/digits/mnistm/data/._19043.png  \n",
            "  inflating: hw2_data/digits/mnistm/data/40136.png  \n",
            "  inflating: __MACOSX/hw2_data/digits/mnistm/data/._40136.png  \n",
            "  inflating: hw2_data/digits/mnistm/data/06163.png  \n",
            "  inflating: __MACOSX/hw2_data/digits/mnistm/data/._06163.png  \n",
            "  inflating: hw2_data/digits/mnistm/data/29180.png  \n",
            "  inflating: __MACOSX/hw2_data/digits/mnistm/data/._29180.png  \n",
            "  inflating: hw2_data/digits/mnistm/data/09250.png  \n",
            "  inflating: __MACOSX/hw2_data/digits/mnistm/data/._09250.png  \n",
            "  inflating: hw2_data/digits/mnistm/data/41228.png  \n",
            "  inflating: __MACOSX/hw2_data/digits/mnistm/data/._41228.png  \n",
            "  inflating: hw2_data/digits/mnistm/data/10701.png  \n",
            "  inflating: __MACOSX/hw2_data/digits/mnistm/data/._10701.png  \n",
            "  inflating: hw2_data/digits/mnistm/data/47881.png  \n",
            "  inflating: __MACOSX/hw2_data/digits/mnistm/data/._47881.png  \n",
            "  inflating: hw2_data/digits/mnistm/data/31917.png  \n",
            "  inflating: __MACOSX/hw2_data/digits/mnistm/data/._31917.png  \n",
            "  inflating: hw2_data/digits/mnistm/data/49674.png  \n",
            "  inflating: __MACOSX/hw2_data/digits/mnistm/data/._49674.png  \n",
            "  inflating: hw2_data/digits/mnistm/data/46547.png  \n",
            "  inflating: __MACOSX/hw2_data/digits/mnistm/data/._46547.png  \n",
            "  inflating: hw2_data/digits/mnistm/data/00512.png  \n",
            "  inflating: __MACOSX/hw2_data/digits/mnistm/data/._00512.png  \n",
            "  inflating: hw2_data/digits/mnistm/data/40888.png  \n",
            "  inflating: __MACOSX/hw2_data/digits/mnistm/data/._40888.png  \n",
            "  inflating: hw2_data/digits/mnistm/data/49112.png  \n",
            "  inflating: __MACOSX/hw2_data/digits/mnistm/data/._49112.png  \n",
            "  inflating: hw2_data/digits/mnistm/data/17708.png  \n",
            "  inflating: __MACOSX/hw2_data/digits/mnistm/data/._17708.png  \n",
            "  inflating: hw2_data/digits/mnistm/data/46221.png  \n",
            "  inflating: __MACOSX/hw2_data/digits/mnistm/data/._46221.png  \n",
            "  inflating: hw2_data/digits/mnistm/data/00274.png  \n",
            "  inflating: __MACOSX/hw2_data/digits/mnistm/data/._00274.png  \n",
            "  inflating: hw2_data/digits/mnistm/data/10067.png  \n",
            "  inflating: __MACOSX/hw2_data/digits/mnistm/data/._10067.png  \n",
            "  inflating: hw2_data/digits/mnistm/data/08628.png  \n",
            "  inflating: __MACOSX/hw2_data/digits/mnistm/data/._08628.png  \n",
            "  inflating: hw2_data/digits/mnistm/data/51985.png  \n",
            "  inflating: __MACOSX/hw2_data/digits/mnistm/data/._51985.png  \n",
            "  inflating: hw2_data/digits/mnistm/data/40650.png  \n",
            "  inflating: __MACOSX/hw2_data/digits/mnistm/data/._40650.png  \n",
            "  inflating: hw2_data/digits/mnistm/data/38933.png  \n",
            "  inflating: __MACOSX/hw2_data/digits/mnistm/data/._38933.png  \n",
            "  inflating: hw2_data/digits/mnistm/data/06605.png  \n",
            "  inflating: __MACOSX/hw2_data/digits/mnistm/data/._06605.png  \n",
            "  inflating: hw2_data/digits/mnistm/data/09536.png  \n",
            "  inflating: __MACOSX/hw2_data/digits/mnistm/data/._09536.png  \n",
            "  inflating: hw2_data/digits/mnistm/data/11379.png  \n",
            "  inflating: __MACOSX/hw2_data/digits/mnistm/data/._11379.png  \n",
            "  inflating: hw2_data/digits/mnistm/data/16416.png  \n",
            "  inflating: __MACOSX/hw2_data/digits/mnistm/data/._16416.png  \n",
            "  inflating: hw2_data/digits/mnistm/data/50443.png  \n",
            "  inflating: __MACOSX/hw2_data/digits/mnistm/data/._50443.png  \n",
            "  inflating: hw2_data/digits/mnistm/data/19725.png  \n",
            "  inflating: __MACOSX/hw2_data/digits/mnistm/data/._19725.png  \n",
            "  inflating: hw2_data/digits/mnistm/data/27813.png  \n",
            "  inflating: __MACOSX/hw2_data/digits/mnistm/data/._27813.png  \n",
            "  inflating: hw2_data/digits/mnistm/data/44436.png  \n",
            "  inflating: __MACOSX/hw2_data/digits/mnistm/data/._44436.png  \n",
            "  inflating: hw2_data/digits/mnistm/data/02463.png  \n",
            "  inflating: __MACOSX/hw2_data/digits/mnistm/data/._02463.png  \n",
            "  inflating: hw2_data/digits/mnistm/data/33866.png  \n",
            "  inflating: __MACOSX/hw2_data/digits/mnistm/data/._33866.png  \n",
            "  inflating: hw2_data/digits/mnistm/data/12670.png  \n",
            "  inflating: __MACOSX/hw2_data/digits/mnistm/data/._12670.png  \n",
            "  inflating: hw2_data/digits/mnistm/data/54625.png  \n",
            "  inflating: __MACOSX/hw2_data/digits/mnistm/data/._54625.png  \n",
            "  inflating: hw2_data/digits/mnistm/data/43359.png  \n",
            "  inflating: __MACOSX/hw2_data/digits/mnistm/data/._43359.png  \n",
            "  inflating: hw2_data/digits/mnistm/data/42047.png  \n",
            "  inflating: __MACOSX/hw2_data/digits/mnistm/data/._42047.png  \n",
            "  inflating: hw2_data/digits/mnistm/data/04012.png  \n",
            "  inflating: __MACOSX/hw2_data/digits/mnistm/data/._04012.png  \n",
            "  inflating: hw2_data/digits/mnistm/data/45728.png  \n",
            "  inflating: __MACOSX/hw2_data/digits/mnistm/data/._45728.png  \n",
            "  inflating: hw2_data/digits/mnistm/data/14201.png  \n",
            "  inflating: __MACOSX/hw2_data/digits/mnistm/data/._14201.png  \n",
            "  inflating: hw2_data/digits/mnistm/data/52254.png  \n",
            "  inflating: __MACOSX/hw2_data/digits/mnistm/data/._52254.png  \n",
            "  inflating: hw2_data/digits/mnistm/data/02477.png  \n",
            "  inflating: __MACOSX/hw2_data/digits/mnistm/data/._02477.png  \n",
            "  inflating: hw2_data/digits/mnistm/data/44422.png  \n",
            "  inflating: __MACOSX/hw2_data/digits/mnistm/data/._44422.png  \n",
            "  inflating: hw2_data/digits/mnistm/data/33872.png  \n",
            "  inflating: __MACOSX/hw2_data/digits/mnistm/data/._33872.png  \n",
            "  inflating: hw2_data/digits/mnistm/data/54631.png  \n",
            "  inflating: __MACOSX/hw2_data/digits/mnistm/data/._54631.png  \n",
            "  inflating: hw2_data/digits/mnistm/data/12664.png  \n",
            "  inflating: __MACOSX/hw2_data/digits/mnistm/data/._12664.png  \n",
            "  inflating: hw2_data/digits/mnistm/data/05318.png  \n",
            "  inflating: __MACOSX/hw2_data/digits/mnistm/data/._05318.png  \n",
            "  inflating: hw2_data/digits/mnistm/data/04006.png  \n",
            "  inflating: __MACOSX/hw2_data/digits/mnistm/data/._04006.png  \n",
            "  inflating: hw2_data/digits/mnistm/data/42053.png  \n",
            "  inflating: __MACOSX/hw2_data/digits/mnistm/data/._42053.png  \n",
            "  inflating: hw2_data/digits/mnistm/data/03769.png  \n",
            "  inflating: __MACOSX/hw2_data/digits/mnistm/data/._03769.png  \n",
            "  inflating: hw2_data/digits/mnistm/data/52240.png  \n",
            "  inflating: __MACOSX/hw2_data/digits/mnistm/data/._52240.png  \n",
            "  inflating: hw2_data/digits/mnistm/data/14215.png  \n",
            "  inflating: __MACOSX/hw2_data/digits/mnistm/data/._14215.png  \n",
            "  inflating: hw2_data/digits/mnistm/data/49106.png  \n",
            "  inflating: __MACOSX/hw2_data/digits/mnistm/data/._49106.png  \n",
            "  inflating: hw2_data/digits/mnistm/data/51749.png  \n",
            "  inflating: __MACOSX/hw2_data/digits/mnistm/data/._51749.png  \n",
            "  inflating: hw2_data/digits/mnistm/data/00260.png  \n",
            "  inflating: __MACOSX/hw2_data/digits/mnistm/data/._00260.png  \n",
            "  inflating: hw2_data/digits/mnistm/data/46235.png  \n",
            "  inflating: __MACOSX/hw2_data/digits/mnistm/data/._46235.png  \n",
            "  inflating: hw2_data/digits/mnistm/data/10073.png  \n",
            "  inflating: __MACOSX/hw2_data/digits/mnistm/data/._10073.png  \n",
            "  inflating: hw2_data/digits/mnistm/data/06611.png  \n",
            "  inflating: __MACOSX/hw2_data/digits/mnistm/data/._06611.png  \n",
            "  inflating: hw2_data/digits/mnistm/data/38927.png  \n",
            "  inflating: __MACOSX/hw2_data/digits/mnistm/data/._38927.png  \n",
            "  inflating: hw2_data/digits/mnistm/data/40644.png  \n",
            "  inflating: __MACOSX/hw2_data/digits/mnistm/data/._40644.png  \n",
            "  inflating: hw2_data/digits/mnistm/data/51991.png  \n",
            "  inflating: __MACOSX/hw2_data/digits/mnistm/data/._51991.png  \n",
            "  inflating: hw2_data/digits/mnistm/data/09522.png  \n",
            "  inflating: __MACOSX/hw2_data/digits/mnistm/data/._09522.png  \n",
            "  inflating: hw2_data/digits/mnistm/data/50457.png  \n",
            "  inflating: __MACOSX/hw2_data/digits/mnistm/data/._50457.png  \n",
            "  inflating: hw2_data/digits/mnistm/data/48218.png  \n",
            "  inflating: __MACOSX/hw2_data/digits/mnistm/data/._48218.png  \n",
            "  inflating: hw2_data/digits/mnistm/data/16402.png  \n",
            "  inflating: __MACOSX/hw2_data/digits/mnistm/data/._16402.png  \n",
            "  inflating: hw2_data/digits/mnistm/data/27807.png  \n",
            "  inflating: __MACOSX/hw2_data/digits/mnistm/data/._27807.png  \n",
            "  inflating: hw2_data/digits/mnistm/data/19731.png  \n",
            "  inflating: __MACOSX/hw2_data/digits/mnistm/data/._19731.png  \n",
            "  inflating: hw2_data/digits/mnistm/data/50331.png  \n",
            "  inflating: __MACOSX/hw2_data/digits/mnistm/data/._50331.png  \n",
            "  inflating: hw2_data/digits/mnistm/data/39387.png  \n",
            "  inflating: __MACOSX/hw2_data/digits/mnistm/data/._39387.png  \n",
            "  inflating: hw2_data/digits/mnistm/data/16364.png  \n",
            "  inflating: __MACOSX/hw2_data/digits/mnistm/data/._16364.png  \n",
            "  inflating: hw2_data/digits/mnistm/data/19057.png  \n",
            "  inflating: __MACOSX/hw2_data/digits/mnistm/data/._19057.png  \n",
            "  inflating: hw2_data/digits/mnistm/data/01618.png  \n",
            "  inflating: __MACOSX/hw2_data/digits/mnistm/data/._01618.png  \n",
            "  inflating: hw2_data/digits/mnistm/data/29194.png  \n",
            "  inflating: __MACOSX/hw2_data/digits/mnistm/data/._29194.png  \n",
            "  inflating: hw2_data/digits/mnistm/data/06177.png  \n",
            "  inflating: __MACOSX/hw2_data/digits/mnistm/data/._06177.png  \n",
            "  inflating: hw2_data/digits/mnistm/data/40122.png  \n",
            "  inflating: __MACOSX/hw2_data/digits/mnistm/data/._40122.png  \n",
            "  inflating: hw2_data/digits/mnistm/data/09244.png  \n",
            "  inflating: __MACOSX/hw2_data/digits/mnistm/data/._09244.png  \n",
            "  inflating: hw2_data/digits/mnistm/data/07269.png  \n",
            "  inflating: __MACOSX/hw2_data/digits/mnistm/data/._07269.png  \n",
            "  inflating: hw2_data/digits/mnistm/data/47895.png  \n",
            "  inflating: __MACOSX/hw2_data/digits/mnistm/data/._47895.png  \n",
            "  inflating: hw2_data/digits/mnistm/data/10715.png  \n",
            "  inflating: __MACOSX/hw2_data/digits/mnistm/data/._10715.png  \n",
            "  inflating: hw2_data/digits/mnistm/data/49660.png  \n",
            "  inflating: __MACOSX/hw2_data/digits/mnistm/data/._49660.png  \n",
            "  inflating: hw2_data/digits/mnistm/data/38099.png  \n",
            "  inflating: __MACOSX/hw2_data/digits/mnistm/data/._38099.png  \n",
            "  inflating: hw2_data/digits/mnistm/data/31903.png  \n",
            "  inflating: __MACOSX/hw2_data/digits/mnistm/data/._31903.png  \n",
            "  inflating: hw2_data/digits/mnistm/data/00506.png  \n",
            "  inflating: __MACOSX/hw2_data/digits/mnistm/data/._00506.png  \n",
            "  inflating: hw2_data/digits/mnistm/data/46553.png  \n",
            "  inflating: __MACOSX/hw2_data/digits/mnistm/data/._46553.png  \n",
            "  inflating: hw2_data/digits/mnistm/data/18349.png  \n",
            "  inflating: __MACOSX/hw2_data/digits/mnistm/data/._18349.png  \n",
            "  inflating: hw2_data/digits/mnistm/data/25976.png  \n",
            "  inflating: __MACOSX/hw2_data/digits/mnistm/data/._25976.png  \n",
            "  inflating: hw2_data/digits/mnistm/data/52526.png  \n",
            "  inflating: __MACOSX/hw2_data/digits/mnistm/data/._52526.png  \n",
            "  inflating: hw2_data/digits/mnistm/data/14573.png  \n",
            "  inflating: __MACOSX/hw2_data/digits/mnistm/data/._14573.png  \n",
            "  inflating: hw2_data/digits/mnistm/data/55249.png  \n",
            "  inflating: __MACOSX/hw2_data/digits/mnistm/data/._55249.png  \n",
            "  inflating: hw2_data/digits/mnistm/data/04760.png  \n",
            "  inflating: __MACOSX/hw2_data/digits/mnistm/data/._04760.png  \n",
            "  inflating: hw2_data/digits/mnistm/data/42735.png  \n",
            "  inflating: __MACOSX/hw2_data/digits/mnistm/data/._42735.png  \n",
            "  inflating: hw2_data/digits/mnistm/data/54157.png  \n",
            "  inflating: __MACOSX/hw2_data/digits/mnistm/data/._54157.png  \n",
            "  inflating: hw2_data/digits/mnistm/data/12102.png  \n",
            "  inflating: __MACOSX/hw2_data/digits/mnistm/data/._12102.png  \n",
            "  inflating: hw2_data/digits/mnistm/data/02311.png  \n",
            "  inflating: __MACOSX/hw2_data/digits/mnistm/data/._02311.png  \n",
            "  inflating: hw2_data/digits/mnistm/data/44344.png  \n",
            "  inflating: __MACOSX/hw2_data/digits/mnistm/data/._44344.png  \n",
            "  inflating: hw2_data/digits/mnistm/data/53638.png  \n",
            "  inflating: __MACOSX/hw2_data/digits/mnistm/data/._53638.png  \n",
            "  inflating: hw2_data/digits/mnistm/data/19730.png  \n",
            "  inflating: __MACOSX/hw2_data/digits/mnistm/data/._19730.png  \n",
            "  inflating: hw2_data/digits/mnistm/data/27806.png  \n",
            "  inflating: __MACOSX/hw2_data/digits/mnistm/data/._27806.png  \n",
            "  inflating: hw2_data/digits/mnistm/data/50456.png  \n",
            "  inflating: __MACOSX/hw2_data/digits/mnistm/data/._50456.png  \n",
            "  inflating: hw2_data/digits/mnistm/data/16403.png  \n",
            "  inflating: __MACOSX/hw2_data/digits/mnistm/data/._16403.png  \n",
            "  inflating: hw2_data/digits/mnistm/data/48219.png  \n",
            "  inflating: __MACOSX/hw2_data/digits/mnistm/data/._48219.png  \n",
            "  inflating: hw2_data/digits/mnistm/data/09523.png  \n",
            "  inflating: __MACOSX/hw2_data/digits/mnistm/data/._09523.png  \n",
            "  inflating: hw2_data/digits/mnistm/data/38926.png  \n",
            "  inflating: __MACOSX/hw2_data/digits/mnistm/data/._38926.png  \n",
            "  inflating: hw2_data/digits/mnistm/data/06610.png  \n",
            "  inflating: __MACOSX/hw2_data/digits/mnistm/data/._06610.png  \n",
            "  inflating: hw2_data/digits/mnistm/data/51990.png  \n",
            "  inflating: __MACOSX/hw2_data/digits/mnistm/data/._51990.png  \n",
            "  inflating: hw2_data/digits/mnistm/data/40645.png  \n",
            "  inflating: __MACOSX/hw2_data/digits/mnistm/data/._40645.png  \n",
            "  inflating: hw2_data/digits/mnistm/data/10072.png  \n",
            "  inflating: __MACOSX/hw2_data/digits/mnistm/data/._10072.png  \n",
            "  inflating: hw2_data/digits/mnistm/data/00261.png  \n",
            "  inflating: __MACOSX/hw2_data/digits/mnistm/data/._00261.png  \n",
            "  inflating: hw2_data/digits/mnistm/data/46234.png  \n",
            "  inflating: __MACOSX/hw2_data/digits/mnistm/data/._46234.png  \n",
            "  inflating: hw2_data/digits/mnistm/data/49107.png  \n",
            "  inflating: __MACOSX/hw2_data/digits/mnistm/data/._49107.png  \n",
            "  inflating: hw2_data/digits/mnistm/data/51748.png  \n",
            "  inflating: __MACOSX/hw2_data/digits/mnistm/data/._51748.png  \n",
            "  inflating: hw2_data/digits/mnistm/data/52241.png  \n",
            "  inflating: __MACOSX/hw2_data/digits/mnistm/data/._52241.png  \n",
            "  inflating: hw2_data/digits/mnistm/data/14214.png  \n",
            "  inflating: __MACOSX/hw2_data/digits/mnistm/data/._14214.png  \n",
            "  inflating: hw2_data/digits/mnistm/data/03768.png  \n",
            "  inflating: __MACOSX/hw2_data/digits/mnistm/data/._03768.png  \n",
            "  inflating: hw2_data/digits/mnistm/data/04007.png  \n",
            "  inflating: __MACOSX/hw2_data/digits/mnistm/data/._04007.png  \n",
            "  inflating: hw2_data/digits/mnistm/data/42052.png  \n",
            "  inflating: __MACOSX/hw2_data/digits/mnistm/data/._42052.png  \n",
            "  inflating: hw2_data/digits/mnistm/data/05319.png  \n",
            "  inflating: __MACOSX/hw2_data/digits/mnistm/data/._05319.png  \n",
            "  inflating: hw2_data/digits/mnistm/data/54630.png  \n",
            "  inflating: __MACOSX/hw2_data/digits/mnistm/data/._54630.png  \n",
            "  inflating: hw2_data/digits/mnistm/data/12665.png  \n",
            "  inflating: __MACOSX/hw2_data/digits/mnistm/data/._12665.png  \n",
            "  inflating: hw2_data/digits/mnistm/data/33873.png  \n",
            "  inflating: __MACOSX/hw2_data/digits/mnistm/data/._33873.png  \n",
            "  inflating: hw2_data/digits/mnistm/data/02476.png  \n",
            "  inflating: __MACOSX/hw2_data/digits/mnistm/data/._02476.png  \n",
            "  inflating: hw2_data/digits/mnistm/data/44423.png  \n",
            "  inflating: __MACOSX/hw2_data/digits/mnistm/data/._44423.png  \n",
            "  inflating: hw2_data/digits/mnistm/data/53639.png  \n",
            "  inflating: __MACOSX/hw2_data/digits/mnistm/data/._53639.png  \n",
            "  inflating: hw2_data/digits/mnistm/data/02310.png  \n",
            "  inflating: __MACOSX/hw2_data/digits/mnistm/data/._02310.png  \n",
            "  inflating: hw2_data/digits/mnistm/data/44345.png  \n",
            "  inflating: __MACOSX/hw2_data/digits/mnistm/data/._44345.png  \n",
            "  inflating: hw2_data/digits/mnistm/data/54156.png  \n",
            "  inflating: __MACOSX/hw2_data/digits/mnistm/data/._54156.png  \n",
            "  inflating: hw2_data/digits/mnistm/data/12103.png  \n",
            "  inflating: __MACOSX/hw2_data/digits/mnistm/data/._12103.png  \n",
            "  inflating: hw2_data/digits/mnistm/data/04761.png  \n",
            "  inflating: __MACOSX/hw2_data/digits/mnistm/data/._04761.png  \n",
            "  inflating: hw2_data/digits/mnistm/data/42734.png  \n",
            "  inflating: __MACOSX/hw2_data/digits/mnistm/data/._42734.png  \n",
            "  inflating: hw2_data/digits/mnistm/data/55248.png  \n",
            "  inflating: __MACOSX/hw2_data/digits/mnistm/data/._55248.png  \n",
            "  inflating: hw2_data/digits/mnistm/data/52527.png  \n",
            "  inflating: __MACOSX/hw2_data/digits/mnistm/data/._52527.png  \n",
            "  inflating: hw2_data/digits/mnistm/data/14572.png  \n",
            "  inflating: __MACOSX/hw2_data/digits/mnistm/data/._14572.png  \n",
            "  inflating: hw2_data/digits/mnistm/data/25977.png  \n",
            "  inflating: __MACOSX/hw2_data/digits/mnistm/data/._25977.png  \n",
            "  inflating: hw2_data/digits/mnistm/data/00507.png  \n",
            "  inflating: __MACOSX/hw2_data/digits/mnistm/data/._00507.png  \n",
            "  inflating: hw2_data/digits/mnistm/data/18348.png  \n",
            "  inflating: __MACOSX/hw2_data/digits/mnistm/data/._18348.png  \n",
            "  inflating: hw2_data/digits/mnistm/data/46552.png  \n",
            "  inflating: __MACOSX/hw2_data/digits/mnistm/data/._46552.png  \n",
            "  inflating: hw2_data/digits/mnistm/data/38098.png  \n",
            "  inflating: __MACOSX/hw2_data/digits/mnistm/data/._38098.png  \n",
            "  inflating: hw2_data/digits/mnistm/data/49661.png  \n",
            "  inflating: __MACOSX/hw2_data/digits/mnistm/data/._49661.png  \n",
            "  inflating: hw2_data/digits/mnistm/data/31902.png  \n",
            "  inflating: __MACOSX/hw2_data/digits/mnistm/data/._31902.png  \n",
            "  inflating: hw2_data/digits/mnistm/data/47894.png  \n",
            "  inflating: __MACOSX/hw2_data/digits/mnistm/data/._47894.png  \n",
            "  inflating: hw2_data/digits/mnistm/data/10714.png  \n",
            "  inflating: __MACOSX/hw2_data/digits/mnistm/data/._10714.png  \n",
            "  inflating: hw2_data/digits/mnistm/data/07268.png  \n",
            "  inflating: __MACOSX/hw2_data/digits/mnistm/data/._07268.png  \n",
            "  inflating: hw2_data/digits/mnistm/data/09245.png  \n",
            "  inflating: __MACOSX/hw2_data/digits/mnistm/data/._09245.png  \n",
            "  inflating: hw2_data/digits/mnistm/data/06176.png  \n",
            "  inflating: __MACOSX/hw2_data/digits/mnistm/data/._06176.png  \n",
            "  inflating: hw2_data/digits/mnistm/data/29195.png  \n",
            "  inflating: __MACOSX/hw2_data/digits/mnistm/data/._29195.png  \n",
            "  inflating: hw2_data/digits/mnistm/data/40123.png  \n",
            "  inflating: __MACOSX/hw2_data/digits/mnistm/data/._40123.png  \n",
            "  inflating: hw2_data/digits/mnistm/data/19056.png  \n",
            "  inflating: __MACOSX/hw2_data/digits/mnistm/data/._19056.png  \n",
            "  inflating: hw2_data/digits/mnistm/data/01619.png  \n",
            "  inflating: __MACOSX/hw2_data/digits/mnistm/data/._01619.png  \n",
            "  inflating: hw2_data/digits/mnistm/data/50330.png  \n",
            "  inflating: __MACOSX/hw2_data/digits/mnistm/data/._50330.png  \n",
            "  inflating: hw2_data/digits/mnistm/data/16365.png  \n",
            "  inflating: __MACOSX/hw2_data/digits/mnistm/data/._16365.png  \n",
            "  inflating: hw2_data/digits/mnistm/data/39386.png  \n",
            "  inflating: __MACOSX/hw2_data/digits/mnistm/data/._39386.png  \n",
            "  inflating: hw2_data/digits/mnistm/data/46546.png  \n",
            "  inflating: __MACOSX/hw2_data/digits/mnistm/data/._46546.png  \n",
            "  inflating: hw2_data/digits/mnistm/data/00513.png  \n",
            "  inflating: __MACOSX/hw2_data/digits/mnistm/data/._00513.png  \n",
            "  inflating: hw2_data/digits/mnistm/data/31916.png  \n",
            "  inflating: __MACOSX/hw2_data/digits/mnistm/data/._31916.png  \n",
            "  inflating: hw2_data/digits/mnistm/data/49675.png  \n",
            "  inflating: __MACOSX/hw2_data/digits/mnistm/data/._49675.png  \n",
            "  inflating: hw2_data/digits/mnistm/data/10700.png  \n",
            "  inflating: __MACOSX/hw2_data/digits/mnistm/data/._10700.png  \n",
            "  inflating: hw2_data/digits/mnistm/data/47880.png  \n",
            "  inflating: __MACOSX/hw2_data/digits/mnistm/data/._47880.png  \n",
            "  inflating: hw2_data/digits/mnistm/data/41229.png  \n",
            "  inflating: __MACOSX/hw2_data/digits/mnistm/data/._41229.png  \n",
            "  inflating: hw2_data/digits/mnistm/data/09251.png  \n",
            "  inflating: __MACOSX/hw2_data/digits/mnistm/data/._09251.png  \n",
            "  inflating: hw2_data/digits/mnistm/data/40137.png  \n",
            "  inflating: __MACOSX/hw2_data/digits/mnistm/data/._40137.png  \n",
            "  inflating: hw2_data/digits/mnistm/data/29181.png  \n",
            "  inflating: __MACOSX/hw2_data/digits/mnistm/data/._29181.png  \n",
            "  inflating: hw2_data/digits/mnistm/data/06162.png  \n",
            "  inflating: __MACOSX/hw2_data/digits/mnistm/data/._06162.png  \n",
            "  inflating: hw2_data/digits/mnistm/data/19042.png  \n",
            "  inflating: __MACOSX/hw2_data/digits/mnistm/data/._19042.png  \n",
            "  inflating: hw2_data/digits/mnistm/data/47658.png  \n",
            "  inflating: __MACOSX/hw2_data/digits/mnistm/data/._47658.png  \n",
            "  inflating: hw2_data/digits/mnistm/data/39392.png  \n",
            "  inflating: __MACOSX/hw2_data/digits/mnistm/data/._39392.png  \n",
            "  inflating: hw2_data/digits/mnistm/data/16371.png  \n",
            "  inflating: __MACOSX/hw2_data/digits/mnistm/data/._16371.png  \n",
            "  inflating: hw2_data/digits/mnistm/data/50324.png  \n",
            "  inflating: __MACOSX/hw2_data/digits/mnistm/data/._50324.png  \n",
            "  inflating: hw2_data/digits/mnistm/data/15678.png  \n",
            "  inflating: __MACOSX/hw2_data/digits/mnistm/data/._15678.png  \n",
            "  inflating: hw2_data/digits/mnistm/data/44351.png  \n",
            "  inflating: __MACOSX/hw2_data/digits/mnistm/data/._44351.png  \n",
            "  inflating: hw2_data/digits/mnistm/data/02304.png  \n",
            "  inflating: __MACOSX/hw2_data/digits/mnistm/data/._02304.png  \n",
            "  inflating: hw2_data/digits/mnistm/data/12117.png  \n",
            "  inflating: __MACOSX/hw2_data/digits/mnistm/data/._12117.png  \n",
            "  inflating: hw2_data/digits/mnistm/data/54142.png  \n",
            "  inflating: __MACOSX/hw2_data/digits/mnistm/data/._54142.png  \n",
            "  inflating: hw2_data/digits/mnistm/data/42720.png  \n",
            "  inflating: __MACOSX/hw2_data/digits/mnistm/data/._42720.png  \n",
            "  inflating: hw2_data/digits/mnistm/data/04775.png  \n",
            "  inflating: __MACOSX/hw2_data/digits/mnistm/data/._04775.png  \n",
            "  inflating: hw2_data/digits/mnistm/data/13209.png  \n",
            "  inflating: __MACOSX/hw2_data/digits/mnistm/data/._13209.png  \n",
            "  inflating: hw2_data/digits/mnistm/data/14566.png  \n",
            "  inflating: __MACOSX/hw2_data/digits/mnistm/data/._14566.png  \n",
            "  inflating: hw2_data/digits/mnistm/data/52533.png  \n",
            "  inflating: __MACOSX/hw2_data/digits/mnistm/data/._52533.png  \n",
            "  inflating: hw2_data/digits/mnistm/data/25963.png  \n",
            "  inflating: __MACOSX/hw2_data/digits/mnistm/data/._25963.png  \n",
            "  inflating: hw2_data/digits/mnistm/data/14200.png  \n",
            "  inflating: __MACOSX/hw2_data/digits/mnistm/data/._14200.png  \n",
            "  inflating: hw2_data/digits/mnistm/data/52255.png  \n",
            "  inflating: __MACOSX/hw2_data/digits/mnistm/data/._52255.png  \n",
            "  inflating: hw2_data/digits/mnistm/data/45729.png  \n",
            "  inflating: __MACOSX/hw2_data/digits/mnistm/data/._45729.png  \n",
            "  inflating: hw2_data/digits/mnistm/data/42046.png  \n",
            "  inflating: __MACOSX/hw2_data/digits/mnistm/data/._42046.png  \n",
            "  inflating: hw2_data/digits/mnistm/data/04013.png  \n",
            "  inflating: __MACOSX/hw2_data/digits/mnistm/data/._04013.png  \n",
            "  inflating: hw2_data/digits/mnistm/data/43358.png  \n",
            "  inflating: __MACOSX/hw2_data/digits/mnistm/data/._43358.png  \n",
            "  inflating: hw2_data/digits/mnistm/data/12671.png  \n",
            "  inflating: __MACOSX/hw2_data/digits/mnistm/data/._12671.png  \n",
            "  inflating: hw2_data/digits/mnistm/data/54624.png  \n",
            "  inflating: __MACOSX/hw2_data/digits/mnistm/data/._54624.png  \n",
            "  inflating: hw2_data/digits/mnistm/data/33867.png  \n",
            "  inflating: __MACOSX/hw2_data/digits/mnistm/data/._33867.png  \n",
            "  inflating: hw2_data/digits/mnistm/data/44437.png  \n",
            "  inflating: __MACOSX/hw2_data/digits/mnistm/data/._44437.png  \n",
            "  inflating: hw2_data/digits/mnistm/data/02462.png  \n",
            "  inflating: __MACOSX/hw2_data/digits/mnistm/data/._02462.png  \n",
            "  inflating: hw2_data/digits/mnistm/data/27812.png  \n",
            "  inflating: __MACOSX/hw2_data/digits/mnistm/data/._27812.png  \n",
            "  inflating: hw2_data/digits/mnistm/data/19724.png  \n",
            "  inflating: __MACOSX/hw2_data/digits/mnistm/data/._19724.png  \n",
            "  inflating: hw2_data/digits/mnistm/data/16417.png  \n",
            "  inflating: __MACOSX/hw2_data/digits/mnistm/data/._16417.png  \n",
            "  inflating: hw2_data/digits/mnistm/data/50442.png  \n",
            "  inflating: __MACOSX/hw2_data/digits/mnistm/data/._50442.png  \n",
            "  inflating: hw2_data/digits/mnistm/data/09537.png  \n",
            "  inflating: __MACOSX/hw2_data/digits/mnistm/data/._09537.png  \n",
            "  inflating: hw2_data/digits/mnistm/data/11378.png  \n",
            "  inflating: __MACOSX/hw2_data/digits/mnistm/data/._11378.png  \n",
            "  inflating: hw2_data/digits/mnistm/data/40651.png  \n",
            "  inflating: __MACOSX/hw2_data/digits/mnistm/data/._40651.png  \n",
            "  inflating: hw2_data/digits/mnistm/data/51984.png  \n",
            "  inflating: __MACOSX/hw2_data/digits/mnistm/data/._51984.png  \n",
            "  inflating: hw2_data/digits/mnistm/data/06604.png  \n",
            "  inflating: __MACOSX/hw2_data/digits/mnistm/data/._06604.png  \n",
            "  inflating: hw2_data/digits/mnistm/data/38932.png  \n",
            "  inflating: __MACOSX/hw2_data/digits/mnistm/data/._38932.png  \n",
            "  inflating: hw2_data/digits/mnistm/data/10066.png  \n",
            "  inflating: __MACOSX/hw2_data/digits/mnistm/data/._10066.png  \n",
            "  inflating: hw2_data/digits/mnistm/data/08629.png  \n",
            "  inflating: __MACOSX/hw2_data/digits/mnistm/data/._08629.png  \n",
            "  inflating: hw2_data/digits/mnistm/data/46220.png  \n",
            "  inflating: __MACOSX/hw2_data/digits/mnistm/data/._46220.png  \n",
            "  inflating: hw2_data/digits/mnistm/data/00275.png  \n",
            "  inflating: __MACOSX/hw2_data/digits/mnistm/data/._00275.png  \n",
            "  inflating: hw2_data/digits/mnistm/data/40889.png  \n",
            "  inflating: __MACOSX/hw2_data/digits/mnistm/data/._40889.png  \n",
            "  inflating: hw2_data/digits/mnistm/data/17709.png  \n",
            "  inflating: __MACOSX/hw2_data/digits/mnistm/data/._17709.png  \n",
            "  inflating: hw2_data/digits/mnistm/data/49113.png  \n",
            "  inflating: __MACOSX/hw2_data/digits/mnistm/data/._49113.png  \n",
            "  inflating: hw2_data/digits/mnistm/data/45701.png  \n",
            "  inflating: __MACOSX/hw2_data/digits/mnistm/data/._45701.png  \n",
            "  inflating: hw2_data/digits/mnistm/data/03754.png  \n",
            "  inflating: __MACOSX/hw2_data/digits/mnistm/data/._03754.png  \n",
            "  inflating: hw2_data/digits/mnistm/data/12881.png  \n",
            "  inflating: __MACOSX/hw2_data/digits/mnistm/data/._12881.png  \n",
            "  inflating: hw2_data/digits/mnistm/data/23484.png  \n",
            "  inflating: __MACOSX/hw2_data/digits/mnistm/data/._23484.png  \n",
            "  inflating: hw2_data/digits/mnistm/data/14228.png  \n",
            "  inflating: __MACOSX/hw2_data/digits/mnistm/data/._14228.png  \n",
            "  inflating: hw2_data/digits/mnistm/data/13547.png  \n",
            "  inflating: __MACOSX/hw2_data/digits/mnistm/data/._13547.png  \n",
            "  inflating: hw2_data/digits/mnistm/data/55512.png  \n",
            "  inflating: __MACOSX/hw2_data/digits/mnistm/data/._55512.png  \n",
            "  inflating: hw2_data/digits/mnistm/data/22942.png  \n",
            "  inflating: __MACOSX/hw2_data/digits/mnistm/data/._22942.png  \n",
            "  inflating: hw2_data/digits/mnistm/data/33697.png  \n",
            "  inflating: __MACOSX/hw2_data/digits/mnistm/data/._33697.png  \n",
            "  inflating: hw2_data/digits/mnistm/data/12659.png  \n",
            "  inflating: __MACOSX/hw2_data/digits/mnistm/data/._12659.png  \n",
            "  inflating: hw2_data/digits/mnistm/data/43370.png  \n",
            "  inflating: __MACOSX/hw2_data/digits/mnistm/data/._43370.png  \n",
            "  inflating: hw2_data/digits/mnistm/data/32589.png  \n",
            "  inflating: __MACOSX/hw2_data/digits/mnistm/data/._32589.png  \n",
            "  inflating: hw2_data/digits/mnistm/data/05325.png  \n",
            "  inflating: __MACOSX/hw2_data/digits/mnistm/data/._05325.png  \n",
            "  inflating: hw2_data/digits/mnistm/data/15136.png  \n",
            "  inflating: __MACOSX/hw2_data/digits/mnistm/data/._15136.png  \n",
            "  inflating: hw2_data/digits/mnistm/data/53163.png  \n",
            "  inflating: __MACOSX/hw2_data/digits/mnistm/data/._53163.png  \n",
            "  inflating: hw2_data/digits/mnistm/data/21293.png  \n",
            "  inflating: __MACOSX/hw2_data/digits/mnistm/data/._21293.png  \n",
            "  inflating: hw2_data/digits/mnistm/data/48225.png  \n",
            "  inflating: __MACOSX/hw2_data/digits/mnistm/data/._48225.png  \n",
            "  inflating: hw2_data/digits/mnistm/data/47116.png  \n",
            "  inflating: __MACOSX/hw2_data/digits/mnistm/data/._47116.png  \n",
            "  inflating: hw2_data/digits/mnistm/data/01143.png  \n",
            "  inflating: __MACOSX/hw2_data/digits/mnistm/data/._01143.png  \n",
            "  inflating: hw2_data/digits/mnistm/data/31080.png  \n",
            "  inflating: __MACOSX/hw2_data/digits/mnistm/data/._31080.png  \n",
            "  inflating: hw2_data/digits/mnistm/data/40679.png  \n",
            "  inflating: __MACOSX/hw2_data/digits/mnistm/data/._40679.png  \n",
            "  inflating: hw2_data/digits/mnistm/data/11350.png  \n",
            "  inflating: __MACOSX/hw2_data/digits/mnistm/data/._11350.png  \n",
            "  inflating: hw2_data/digits/mnistm/data/41567.png  \n",
            "  inflating: __MACOSX/hw2_data/digits/mnistm/data/._41567.png  \n",
            "  inflating: hw2_data/digits/mnistm/data/07532.png  \n",
            "  inflating: __MACOSX/hw2_data/digits/mnistm/data/._07532.png  \n",
            "  inflating: hw2_data/digits/mnistm/data/08601.png  \n",
            "  inflating: __MACOSX/hw2_data/digits/mnistm/data/._08601.png  \n",
            "  inflating: hw2_data/digits/mnistm/data/36937.png  \n",
            "  inflating: __MACOSX/hw2_data/digits/mnistm/data/._36937.png  \n",
            "  inflating: hw2_data/digits/mnistm/data/29817.png  \n",
            "  inflating: __MACOSX/hw2_data/digits/mnistm/data/._29817.png  \n",
            "  inflating: hw2_data/digits/mnistm/data/17721.png  \n",
            "  inflating: __MACOSX/hw2_data/digits/mnistm/data/._17721.png  \n",
            "  inflating: hw2_data/digits/mnistm/data/51774.png  \n",
            "  inflating: __MACOSX/hw2_data/digits/mnistm/data/._51774.png  \n",
            "  inflating: hw2_data/digits/mnistm/data/18412.png  \n",
            "  inflating: __MACOSX/hw2_data/digits/mnistm/data/._18412.png  \n",
            "  inflating: hw2_data/digits/mnistm/data/46208.png  \n",
            "  inflating: __MACOSX/hw2_data/digits/mnistm/data/._46208.png  \n",
            "  inflating: hw2_data/digits/mnistm/data/17047.png  \n",
            "  inflating: __MACOSX/hw2_data/digits/mnistm/data/._17047.png  \n",
            "  inflating: hw2_data/digits/mnistm/data/51012.png  \n",
            "  inflating: __MACOSX/hw2_data/digits/mnistm/data/._51012.png  \n",
            "  inflating: hw2_data/digits/mnistm/data/18374.png  \n",
            "  inflating: __MACOSX/hw2_data/digits/mnistm/data/._18374.png  \n",
            "  inflating: hw2_data/digits/mnistm/data/37397.png  \n",
            "  inflating: __MACOSX/hw2_data/digits/mnistm/data/._37397.png  \n",
            "  inflating: hw2_data/digits/mnistm/data/41201.png  \n",
            "  inflating: __MACOSX/hw2_data/digits/mnistm/data/._41201.png  \n",
            "  inflating: hw2_data/digits/mnistm/data/07254.png  \n",
            "  inflating: __MACOSX/hw2_data/digits/mnistm/data/._07254.png  \n",
            "  inflating: hw2_data/digits/mnistm/data/08167.png  \n",
            "  inflating: __MACOSX/hw2_data/digits/mnistm/data/._08167.png  \n",
            "  inflating: hw2_data/digits/mnistm/data/27184.png  \n",
            "  inflating: __MACOSX/hw2_data/digits/mnistm/data/._27184.png  \n",
            "  inflating: hw2_data/digits/mnistm/data/10728.png  \n",
            "  inflating: __MACOSX/hw2_data/digits/mnistm/data/._10728.png  \n",
            "  inflating: hw2_data/digits/mnistm/data/49885.png  \n",
            "  inflating: __MACOSX/hw2_data/digits/mnistm/data/._49885.png  \n",
            "  inflating: hw2_data/digits/mnistm/data/20833.png  \n",
            "  inflating: __MACOSX/hw2_data/digits/mnistm/data/._20833.png  \n",
            "  inflating: hw2_data/digits/mnistm/data/11436.png  \n",
            "  inflating: __MACOSX/hw2_data/digits/mnistm/data/._11436.png  \n",
            "  inflating: hw2_data/digits/mnistm/data/09279.png  \n",
            "  inflating: __MACOSX/hw2_data/digits/mnistm/data/._09279.png  \n",
            "  inflating: hw2_data/digits/mnistm/data/16359.png  \n",
            "  inflating: __MACOSX/hw2_data/digits/mnistm/data/._16359.png  \n",
            "  inflating: hw2_data/digits/mnistm/data/48543.png  \n",
            "  inflating: __MACOSX/hw2_data/digits/mnistm/data/._48543.png  \n",
            "  inflating: hw2_data/digits/mnistm/data/36089.png  \n",
            "  inflating: __MACOSX/hw2_data/digits/mnistm/data/._36089.png  \n",
            "  inflating: hw2_data/digits/mnistm/data/47670.png  \n",
            "  inflating: __MACOSX/hw2_data/digits/mnistm/data/._47670.png  \n",
            "  inflating: hw2_data/digits/mnistm/data/01625.png  \n",
            "  inflating: __MACOSX/hw2_data/digits/mnistm/data/._01625.png  \n",
            "  inflating: hw2_data/digits/mnistm/data/44379.png  \n",
            "  inflating: __MACOSX/hw2_data/digits/mnistm/data/._44379.png  \n",
            "  inflating: hw2_data/digits/mnistm/data/35580.png  \n",
            "  inflating: __MACOSX/hw2_data/digits/mnistm/data/._35580.png  \n",
            "  inflating: hw2_data/digits/mnistm/data/15650.png  \n",
            "  inflating: __MACOSX/hw2_data/digits/mnistm/data/._15650.png  \n",
            "  inflating: hw2_data/digits/mnistm/data/04985.png  \n",
            "  inflating: __MACOSX/hw2_data/digits/mnistm/data/._04985.png  \n",
            "  inflating: hw2_data/digits/mnistm/data/53605.png  \n",
            "  inflating: __MACOSX/hw2_data/digits/mnistm/data/._53605.png  \n",
            "  inflating: hw2_data/digits/mnistm/data/34846.png  \n",
            "  inflating: __MACOSX/hw2_data/digits/mnistm/data/._34846.png  \n",
            "  inflating: hw2_data/digits/mnistm/data/25793.png  \n",
            "  inflating: __MACOSX/hw2_data/digits/mnistm/data/._25793.png  \n",
            "  inflating: hw2_data/digits/mnistm/data/43416.png  \n",
            "  inflating: __MACOSX/hw2_data/digits/mnistm/data/._43416.png  \n",
            "  inflating: hw2_data/digits/mnistm/data/05443.png  \n",
            "  inflating: __MACOSX/hw2_data/digits/mnistm/data/._05443.png  \n",
            "  inflating: hw2_data/digits/mnistm/data/13221.png  \n",
            "  inflating: __MACOSX/hw2_data/digits/mnistm/data/._13221.png  \n",
            "  inflating: hw2_data/digits/mnistm/data/55274.png  \n",
            "  inflating: __MACOSX/hw2_data/digits/mnistm/data/._55274.png  \n",
            "  inflating: hw2_data/digits/mnistm/data/15888.png  \n",
            "  inflating: __MACOSX/hw2_data/digits/mnistm/data/._15888.png  \n",
            "  inflating: hw2_data/digits/mnistm/data/42708.png  \n",
            "  inflating: __MACOSX/hw2_data/digits/mnistm/data/._42708.png  \n",
            "  inflating: hw2_data/digits/mnistm/data/45067.png  \n",
            "  inflating: __MACOSX/hw2_data/digits/mnistm/data/._45067.png  \n",
            "  inflating: hw2_data/digits/mnistm/data/03032.png  \n",
            "  inflating: __MACOSX/hw2_data/digits/mnistm/data/._03032.png  \n",
            "  inflating: hw2_data/digits/mnistm/data/35594.png  \n",
            "  inflating: __MACOSX/hw2_data/digits/mnistm/data/._35594.png  \n",
            "  inflating: hw2_data/digits/mnistm/data/02338.png  \n",
            "  inflating: __MACOSX/hw2_data/digits/mnistm/data/._02338.png  \n",
            "  inflating: hw2_data/digits/mnistm/data/53611.png  \n",
            "  inflating: __MACOSX/hw2_data/digits/mnistm/data/._53611.png  \n",
            "  inflating: hw2_data/digits/mnistm/data/04991.png  \n",
            "  inflating: __MACOSX/hw2_data/digits/mnistm/data/._04991.png  \n",
            "  inflating: hw2_data/digits/mnistm/data/15644.png  \n",
            "  inflating: __MACOSX/hw2_data/digits/mnistm/data/._15644.png  \n",
            "  inflating: hw2_data/digits/mnistm/data/25787.png  \n",
            "  inflating: __MACOSX/hw2_data/digits/mnistm/data/._25787.png  \n",
            "  inflating: hw2_data/digits/mnistm/data/34852.png  \n",
            "  inflating: __MACOSX/hw2_data/digits/mnistm/data/._34852.png  \n",
            "  inflating: hw2_data/digits/mnistm/data/05457.png  \n",
            "  inflating: __MACOSX/hw2_data/digits/mnistm/data/._05457.png  \n",
            "  inflating: hw2_data/digits/mnistm/data/43402.png  \n",
            "  inflating: __MACOSX/hw2_data/digits/mnistm/data/._43402.png  \n",
            "  inflating: hw2_data/digits/mnistm/data/24499.png  \n",
            "  inflating: __MACOSX/hw2_data/digits/mnistm/data/._24499.png  \n",
            "  inflating: hw2_data/digits/mnistm/data/55260.png  \n",
            "  inflating: __MACOSX/hw2_data/digits/mnistm/data/._55260.png  \n",
            "  inflating: hw2_data/digits/mnistm/data/13235.png  \n",
            "  inflating: __MACOSX/hw2_data/digits/mnistm/data/._13235.png  \n",
            "  inflating: hw2_data/digits/mnistm/data/04749.png  \n",
            "  inflating: __MACOSX/hw2_data/digits/mnistm/data/._04749.png  \n",
            "  inflating: hw2_data/digits/mnistm/data/03026.png  \n",
            "  inflating: __MACOSX/hw2_data/digits/mnistm/data/._03026.png  \n",
            "  inflating: hw2_data/digits/mnistm/data/45073.png  \n",
            "  inflating: __MACOSX/hw2_data/digits/mnistm/data/._45073.png  \n",
            "  inflating: hw2_data/digits/mnistm/data/51006.png  \n",
            "  inflating: __MACOSX/hw2_data/digits/mnistm/data/._51006.png  \n",
            "  inflating: hw2_data/digits/mnistm/data/17053.png  \n",
            "  inflating: __MACOSX/hw2_data/digits/mnistm/data/._17053.png  \n",
            "  inflating: hw2_data/digits/mnistm/data/49649.png  \n",
            "  inflating: __MACOSX/hw2_data/digits/mnistm/data/._49649.png  \n",
            "  inflating: hw2_data/digits/mnistm/data/37383.png  \n",
            "  inflating: __MACOSX/hw2_data/digits/mnistm/data/._37383.png  \n",
            "  inflating: hw2_data/digits/mnistm/data/18360.png  \n",
            "  inflating: __MACOSX/hw2_data/digits/mnistm/data/._18360.png  \n",
            "  inflating: hw2_data/digits/mnistm/data/07240.png  \n",
            "  inflating: __MACOSX/hw2_data/digits/mnistm/data/._07240.png  \n",
            "  inflating: hw2_data/digits/mnistm/data/41215.png  \n",
            "  inflating: __MACOSX/hw2_data/digits/mnistm/data/._41215.png  \n",
            "  inflating: hw2_data/digits/mnistm/data/27190.png  \n",
            "  inflating: __MACOSX/hw2_data/digits/mnistm/data/._27190.png  \n",
            "  inflating: hw2_data/digits/mnistm/data/08173.png  \n",
            "  inflating: __MACOSX/hw2_data/digits/mnistm/data/._08173.png  \n",
            "  inflating: hw2_data/digits/mnistm/data/20827.png  \n",
            "  inflating: __MACOSX/hw2_data/digits/mnistm/data/._20827.png  \n",
            "  inflating: hw2_data/digits/mnistm/data/49891.png  \n",
            "  inflating: __MACOSX/hw2_data/digits/mnistm/data/._49891.png  \n",
            "  inflating: hw2_data/digits/mnistm/data/11422.png  \n",
            "  inflating: __MACOSX/hw2_data/digits/mnistm/data/._11422.png  \n",
            "  inflating: hw2_data/digits/mnistm/data/48557.png  \n",
            "  inflating: __MACOSX/hw2_data/digits/mnistm/data/._48557.png  \n",
            "  inflating: hw2_data/digits/mnistm/data/50318.png  \n",
            "  inflating: __MACOSX/hw2_data/digits/mnistm/data/._50318.png  \n",
            "  inflating: hw2_data/digits/mnistm/data/01631.png  \n",
            "  inflating: __MACOSX/hw2_data/digits/mnistm/data/._01631.png  \n",
            "  inflating: hw2_data/digits/mnistm/data/47664.png  \n",
            "  inflating: __MACOSX/hw2_data/digits/mnistm/data/._47664.png  \n",
            "  inflating: hw2_data/digits/mnistm/data/48231.png  \n",
            "  inflating: __MACOSX/hw2_data/digits/mnistm/data/._48231.png  \n",
            "  inflating: hw2_data/digits/mnistm/data/21287.png  \n",
            "  inflating: __MACOSX/hw2_data/digits/mnistm/data/._21287.png  \n",
            "  inflating: hw2_data/digits/mnistm/data/01157.png  \n",
            "  inflating: __MACOSX/hw2_data/digits/mnistm/data/._01157.png  \n",
            "  inflating: hw2_data/digits/mnistm/data/19718.png  \n",
            "  inflating: __MACOSX/hw2_data/digits/mnistm/data/._19718.png  \n",
            "  inflating: hw2_data/digits/mnistm/data/47102.png  \n",
            "  inflating: __MACOSX/hw2_data/digits/mnistm/data/._47102.png  \n",
            "  inflating: hw2_data/digits/mnistm/data/31094.png  \n",
            "  inflating: __MACOSX/hw2_data/digits/mnistm/data/._31094.png  \n",
            "  inflating: hw2_data/digits/mnistm/data/06638.png  \n",
            "  inflating: __MACOSX/hw2_data/digits/mnistm/data/._06638.png  \n",
            "  inflating: hw2_data/digits/mnistm/data/11344.png  \n",
            "  inflating: __MACOSX/hw2_data/digits/mnistm/data/._11344.png  \n",
            "  inflating: hw2_data/digits/mnistm/data/07526.png  \n",
            "  inflating: __MACOSX/hw2_data/digits/mnistm/data/._07526.png  \n",
            "  inflating: hw2_data/digits/mnistm/data/41573.png  \n",
            "  inflating: __MACOSX/hw2_data/digits/mnistm/data/._41573.png  \n",
            "  inflating: hw2_data/digits/mnistm/data/36923.png  \n",
            "  inflating: __MACOSX/hw2_data/digits/mnistm/data/._36923.png  \n",
            "  inflating: hw2_data/digits/mnistm/data/08615.png  \n",
            "  inflating: __MACOSX/hw2_data/digits/mnistm/data/._08615.png  \n",
            "  inflating: hw2_data/digits/mnistm/data/51760.png  \n",
            "  inflating: __MACOSX/hw2_data/digits/mnistm/data/._51760.png  \n",
            "  inflating: hw2_data/digits/mnistm/data/20199.png  \n",
            "  inflating: __MACOSX/hw2_data/digits/mnistm/data/._20199.png  \n",
            "  inflating: hw2_data/digits/mnistm/data/17735.png  \n",
            "  inflating: __MACOSX/hw2_data/digits/mnistm/data/._17735.png  \n",
            "  inflating: hw2_data/digits/mnistm/data/29803.png  \n",
            "  inflating: __MACOSX/hw2_data/digits/mnistm/data/._29803.png  \n",
            "  inflating: hw2_data/digits/mnistm/data/18406.png  \n",
            "  inflating: __MACOSX/hw2_data/digits/mnistm/data/._18406.png  \n",
            "  inflating: hw2_data/digits/mnistm/data/00249.png  \n",
            "  inflating: __MACOSX/hw2_data/digits/mnistm/data/._00249.png  \n",
            "  inflating: hw2_data/digits/mnistm/data/12895.png  \n",
            "  inflating: __MACOSX/hw2_data/digits/mnistm/data/._12895.png  \n",
            "  inflating: hw2_data/digits/mnistm/data/03740.png  \n",
            "  inflating: __MACOSX/hw2_data/digits/mnistm/data/._03740.png  \n",
            "  inflating: hw2_data/digits/mnistm/data/45715.png  \n",
            "  inflating: __MACOSX/hw2_data/digits/mnistm/data/._45715.png  \n",
            "  inflating: hw2_data/digits/mnistm/data/23490.png  \n",
            "  inflating: __MACOSX/hw2_data/digits/mnistm/data/._23490.png  \n",
            "  inflating: hw2_data/digits/mnistm/data/52269.png  \n",
            "  inflating: __MACOSX/hw2_data/digits/mnistm/data/._52269.png  \n",
            "  inflating: hw2_data/digits/mnistm/data/55506.png  \n",
            "  inflating: __MACOSX/hw2_data/digits/mnistm/data/._55506.png  \n",
            "  inflating: hw2_data/digits/mnistm/data/13553.png  \n",
            "  inflating: __MACOSX/hw2_data/digits/mnistm/data/._13553.png  \n",
            "  inflating: hw2_data/digits/mnistm/data/33683.png  \n",
            "  inflating: __MACOSX/hw2_data/digits/mnistm/data/._33683.png  \n",
            "  inflating: hw2_data/digits/mnistm/data/22956.png  \n",
            "  inflating: __MACOSX/hw2_data/digits/mnistm/data/._22956.png  \n",
            "  inflating: hw2_data/digits/mnistm/data/03998.png  \n",
            "  inflating: __MACOSX/hw2_data/digits/mnistm/data/._03998.png  \n",
            "  inflating: hw2_data/digits/mnistm/data/54618.png  \n",
            "  inflating: __MACOSX/hw2_data/digits/mnistm/data/._54618.png  \n",
            "  inflating: hw2_data/digits/mnistm/data/05331.png  \n",
            "  inflating: __MACOSX/hw2_data/digits/mnistm/data/._05331.png  \n",
            "  inflating: hw2_data/digits/mnistm/data/43364.png  \n",
            "  inflating: __MACOSX/hw2_data/digits/mnistm/data/._43364.png  \n",
            "  inflating: hw2_data/digits/mnistm/data/53177.png  \n",
            "  inflating: __MACOSX/hw2_data/digits/mnistm/data/._53177.png  \n",
            "  inflating: hw2_data/digits/mnistm/data/15122.png  \n",
            "  inflating: __MACOSX/hw2_data/digits/mnistm/data/._15122.png  \n",
            "  inflating: hw2_data/digits/mnistm/data/32576.png  \n",
            "  inflating: __MACOSX/hw2_data/digits/mnistm/data/._32576.png  \n",
            "  inflating: hw2_data/digits/mnistm/data/03973.png  \n",
            "  inflating: __MACOSX/hw2_data/digits/mnistm/data/._03973.png  \n",
            "  inflating: hw2_data/digits/mnistm/data/45926.png  \n",
            "  inflating: __MACOSX/hw2_data/digits/mnistm/data/._45926.png  \n",
            "  inflating: hw2_data/digits/mnistm/data/22765.png  \n",
            "  inflating: __MACOSX/hw2_data/digits/mnistm/data/._22765.png  \n",
            "  inflating: hw2_data/digits/mnistm/data/35219.png  \n",
            "  inflating: __MACOSX/hw2_data/digits/mnistm/data/._35219.png  \n",
            "  inflating: hw2_data/digits/mnistm/data/52282.png  \n",
            "  inflating: __MACOSX/hw2_data/digits/mnistm/data/._52282.png  \n",
            "  inflating: hw2_data/digits/mnistm/data/34107.png  \n",
            "  inflating: __MACOSX/hw2_data/digits/mnistm/data/._34107.png  \n",
            "  inflating: hw2_data/digits/mnistm/data/33668.png  \n",
            "  inflating: __MACOSX/hw2_data/digits/mnistm/data/._33668.png  \n",
            "  inflating: hw2_data/digits/mnistm/data/42091.png  \n",
            "  inflating: __MACOSX/hw2_data/digits/mnistm/data/._42091.png  \n",
            "  inflating: hw2_data/digits/mnistm/data/24314.png  \n",
            "  inflating: __MACOSX/hw2_data/digits/mnistm/data/._24314.png  \n",
            "  inflating: hw2_data/digits/mnistm/data/41598.png  \n",
            "  inflating: __MACOSX/hw2_data/digits/mnistm/data/._41598.png  \n",
            "  inflating: hw2_data/digits/mnistm/data/30361.png  \n",
            "  inflating: __MACOSX/hw2_data/digits/mnistm/data/._30361.png  \n",
            "  inflating: hw2_data/digits/mnistm/data/20172.png  \n",
            "  inflating: __MACOSX/hw2_data/digits/mnistm/data/._20172.png  \n",
            "  inflating: hw2_data/digits/mnistm/data/36710.png  \n",
            "  inflating: __MACOSX/hw2_data/digits/mnistm/data/._36710.png  \n",
            "  inflating: hw2_data/digits/mnistm/data/08826.png  \n",
            "  inflating: __MACOSX/hw2_data/digits/mnistm/data/._08826.png  \n",
            "  inflating: hw2_data/digits/mnistm/data/39423.png  \n",
            "  inflating: __MACOSX/hw2_data/digits/mnistm/data/._39423.png  \n",
            "  inflating: hw2_data/digits/mnistm/data/50495.png  \n",
            "  inflating: __MACOSX/hw2_data/digits/mnistm/data/._50495.png  \n",
            "  inflating: hw2_data/digits/mnistm/data/26503.png  \n",
            "  inflating: __MACOSX/hw2_data/digits/mnistm/data/._26503.png  \n",
            "  inflating: hw2_data/digits/mnistm/data/51953.png  \n",
            "  inflating: __MACOSX/hw2_data/digits/mnistm/data/._51953.png  \n",
            "  inflating: hw2_data/digits/mnistm/data/40686.png  \n",
            "  inflating: __MACOSX/hw2_data/digits/mnistm/data/._40686.png  \n",
            "  inflating: hw2_data/digits/mnistm/data/17906.png  \n",
            "  inflating: __MACOSX/hw2_data/digits/mnistm/data/._17906.png  \n",
            "  inflating: hw2_data/digits/mnistm/data/29630.png  \n",
            "  inflating: __MACOSX/hw2_data/digits/mnistm/data/._29630.png  \n",
            "  inflating: hw2_data/digits/mnistm/data/09286.png  \n",
            "  inflating: __MACOSX/hw2_data/digits/mnistm/data/._09286.png  \n",
            "  inflating: hw2_data/digits/mnistm/data/26265.png  \n",
            "  inflating: __MACOSX/hw2_data/digits/mnistm/data/._26265.png  \n",
            "  inflating: hw2_data/digits/mnistm/data/31719.png  \n",
            "  inflating: __MACOSX/hw2_data/digits/mnistm/data/._31719.png  \n",
            "  inflating: hw2_data/digits/mnistm/data/29156.png  \n",
            "  inflating: __MACOSX/hw2_data/digits/mnistm/data/._29156.png  \n",
            "  inflating: hw2_data/digits/mnistm/data/19095.png  \n",
            "  inflating: __MACOSX/hw2_data/digits/mnistm/data/._19095.png  \n",
            "  inflating: hw2_data/digits/mnistm/data/36076.png  \n",
            "  inflating: __MACOSX/hw2_data/digits/mnistm/data/._36076.png  \n",
            "  inflating: hw2_data/digits/mnistm/data/39345.png  \n",
            "  inflating: __MACOSX/hw2_data/digits/mnistm/data/._39345.png  \n",
            "  inflating: hw2_data/digits/mnistm/data/46591.png  \n",
            "  inflating: __MACOSX/hw2_data/digits/mnistm/data/._46591.png  \n",
            "  inflating: hw2_data/digits/mnistm/data/37368.png  \n",
            "  inflating: __MACOSX/hw2_data/digits/mnistm/data/._37368.png  \n",
            "  inflating: hw2_data/digits/mnistm/data/20614.png  \n",
            "  inflating: __MACOSX/hw2_data/digits/mnistm/data/._20614.png  \n",
            "  inflating: hw2_data/digits/mnistm/data/01802.png  \n",
            "  inflating: __MACOSX/hw2_data/digits/mnistm/data/._01802.png  \n",
            "  inflating: hw2_data/digits/mnistm/data/47857.png  \n",
            "  inflating: __MACOSX/hw2_data/digits/mnistm/data/._47857.png  \n",
            "  inflating: hw2_data/digits/mnistm/data/08198.png  \n",
            "  inflating: __MACOSX/hw2_data/digits/mnistm/data/._08198.png  \n",
            "  inflating: hw2_data/digits/mnistm/data/28248.png  \n",
            "  inflating: __MACOSX/hw2_data/digits/mnistm/data/._28248.png  \n",
            "  inflating: hw2_data/digits/mnistm/data/30407.png  \n",
            "  inflating: __MACOSX/hw2_data/digits/mnistm/data/._30407.png  \n",
            "  inflating: hw2_data/digits/mnistm/data/53822.png  \n",
            "  inflating: __MACOSX/hw2_data/digits/mnistm/data/._53822.png  \n",
            "  inflating: hw2_data/digits/mnistm/data/15877.png  \n",
            "  inflating: __MACOSX/hw2_data/digits/mnistm/data/._15877.png  \n",
            "  inflating: hw2_data/digits/mnistm/data/24472.png  \n",
            "  inflating: __MACOSX/hw2_data/digits/mnistm/data/._24472.png  \n",
            "  inflating: hw2_data/digits/mnistm/data/34661.png  \n",
            "  inflating: __MACOSX/hw2_data/digits/mnistm/data/._34661.png  \n",
            "  inflating: hw2_data/digits/mnistm/data/45098.png  \n",
            "  inflating: __MACOSX/hw2_data/digits/mnistm/data/._45098.png  \n",
            "  inflating: hw2_data/digits/mnistm/data/22003.png  \n",
            "  inflating: __MACOSX/hw2_data/digits/mnistm/data/._22003.png  \n",
            "  inflating: hw2_data/digits/mnistm/data/44386.png  \n",
            "  inflating: __MACOSX/hw2_data/digits/mnistm/data/._44386.png  \n",
            "  inflating: hw2_data/digits/mnistm/data/32210.png  \n",
            "  inflating: __MACOSX/hw2_data/digits/mnistm/data/._32210.png  \n",
            "  inflating: hw2_data/digits/mnistm/data/54195.png  \n",
            "  inflating: __MACOSX/hw2_data/digits/mnistm/data/._54195.png  \n",
            "  inflating: hw2_data/digits/mnistm/data/15863.png  \n",
            "  inflating: __MACOSX/hw2_data/digits/mnistm/data/._15863.png  \n",
            "  inflating: hw2_data/digits/mnistm/data/53836.png  \n",
            "  inflating: __MACOSX/hw2_data/digits/mnistm/data/._53836.png  \n",
            "  inflating: hw2_data/digits/mnistm/data/24466.png  \n",
            "  inflating: __MACOSX/hw2_data/digits/mnistm/data/._24466.png  \n",
            "  inflating: hw2_data/digits/mnistm/data/23309.png  \n",
            "  inflating: __MACOSX/hw2_data/digits/mnistm/data/._23309.png  \n",
            "  inflating: hw2_data/digits/mnistm/data/34675.png  \n",
            "  inflating: __MACOSX/hw2_data/digits/mnistm/data/._34675.png  \n",
            "  inflating: hw2_data/digits/mnistm/data/22017.png  \n",
            "  inflating: __MACOSX/hw2_data/digits/mnistm/data/._22017.png  \n",
            "  inflating: hw2_data/digits/mnistm/data/44392.png  \n",
            "  inflating: __MACOSX/hw2_data/digits/mnistm/data/._44392.png  \n",
            "  inflating: hw2_data/digits/mnistm/data/32204.png  \n",
            "  inflating: __MACOSX/hw2_data/digits/mnistm/data/._32204.png  \n",
            "  inflating: hw2_data/digits/mnistm/data/54181.png  \n",
            "  inflating: __MACOSX/hw2_data/digits/mnistm/data/._54181.png  \n",
            "  inflating: hw2_data/digits/mnistm/data/25778.png  \n",
            "  inflating: __MACOSX/hw2_data/digits/mnistm/data/._25778.png  \n",
            "  inflating: hw2_data/digits/mnistm/data/26271.png  \n",
            "  inflating: __MACOSX/hw2_data/digits/mnistm/data/._26271.png  \n",
            "  inflating: hw2_data/digits/mnistm/data/09292.png  \n",
            "  inflating: __MACOSX/hw2_data/digits/mnistm/data/._09292.png  \n",
            "  inflating: hw2_data/digits/mnistm/data/29142.png  \n",
            "  inflating: __MACOSX/hw2_data/digits/mnistm/data/._29142.png  \n",
            "  inflating: hw2_data/digits/mnistm/data/36062.png  \n",
            "  inflating: __MACOSX/hw2_data/digits/mnistm/data/._36062.png  \n",
            "  inflating: hw2_data/digits/mnistm/data/19081.png  \n",
            "  inflating: __MACOSX/hw2_data/digits/mnistm/data/._19081.png  \n",
            "  inflating: hw2_data/digits/mnistm/data/39351.png  \n",
            "  inflating: __MACOSX/hw2_data/digits/mnistm/data/._39351.png  \n",
            "  inflating: hw2_data/digits/mnistm/data/46585.png  \n",
            "  inflating: __MACOSX/hw2_data/digits/mnistm/data/._46585.png  \n",
            "  inflating: hw2_data/digits/mnistm/data/20600.png  \n",
            "  inflating: __MACOSX/hw2_data/digits/mnistm/data/._20600.png  \n",
            "  inflating: hw2_data/digits/mnistm/data/47843.png  \n",
            "  inflating: __MACOSX/hw2_data/digits/mnistm/data/._47843.png  \n",
            "  inflating: hw2_data/digits/mnistm/data/01816.png  \n",
            "  inflating: __MACOSX/hw2_data/digits/mnistm/data/._01816.png  \n",
            "  inflating: hw2_data/digits/mnistm/data/30413.png  \n",
            "  inflating: __MACOSX/hw2_data/digits/mnistm/data/._30413.png  \n",
            "  inflating: hw2_data/digits/mnistm/data/27609.png  \n",
            "  inflating: __MACOSX/hw2_data/digits/mnistm/data/._27609.png  \n",
            "  inflating: hw2_data/digits/mnistm/data/30375.png  \n",
            "  inflating: __MACOSX/hw2_data/digits/mnistm/data/._30375.png  \n",
            "  inflating: hw2_data/digits/mnistm/data/38729.png  \n",
            "  inflating: __MACOSX/hw2_data/digits/mnistm/data/._38729.png  \n",
            "  inflating: hw2_data/digits/mnistm/data/20166.png  \n",
            "  inflating: __MACOSX/hw2_data/digits/mnistm/data/._20166.png  \n",
            "  inflating: hw2_data/digits/mnistm/data/08832.png  \n",
            "  inflating: __MACOSX/hw2_data/digits/mnistm/data/._08832.png  \n",
            "  inflating: hw2_data/digits/mnistm/data/36704.png  \n",
            "  inflating: __MACOSX/hw2_data/digits/mnistm/data/._36704.png  \n",
            "  inflating: hw2_data/digits/mnistm/data/21278.png  \n",
            "  inflating: __MACOSX/hw2_data/digits/mnistm/data/._21278.png  \n",
            "  inflating: hw2_data/digits/mnistm/data/50481.png  \n",
            "  inflating: __MACOSX/hw2_data/digits/mnistm/data/._50481.png  \n",
            "  inflating: hw2_data/digits/mnistm/data/39437.png  \n",
            "  inflating: __MACOSX/hw2_data/digits/mnistm/data/._39437.png  \n",
            "  inflating: hw2_data/digits/mnistm/data/26517.png  \n",
            "  inflating: __MACOSX/hw2_data/digits/mnistm/data/._26517.png  \n",
            "  inflating: hw2_data/digits/mnistm/data/29624.png  \n",
            "  inflating: __MACOSX/hw2_data/digits/mnistm/data/._29624.png  \n",
            "  inflating: hw2_data/digits/mnistm/data/17912.png  \n",
            "  inflating: __MACOSX/hw2_data/digits/mnistm/data/._17912.png  \n",
            "  inflating: hw2_data/digits/mnistm/data/40692.png  \n",
            "  inflating: __MACOSX/hw2_data/digits/mnistm/data/._40692.png  \n",
            "  inflating: hw2_data/digits/mnistm/data/51947.png  \n",
            "  inflating: __MACOSX/hw2_data/digits/mnistm/data/._51947.png  \n",
            "  inflating: hw2_data/digits/mnistm/data/32562.png  \n",
            "  inflating: __MACOSX/hw2_data/digits/mnistm/data/._32562.png  \n",
            "  inflating: hw2_data/digits/mnistm/data/45932.png  \n",
            "  inflating: __MACOSX/hw2_data/digits/mnistm/data/._45932.png  \n",
            "  inflating: hw2_data/digits/mnistm/data/03967.png  \n",
            "  inflating: __MACOSX/hw2_data/digits/mnistm/data/._03967.png  \n",
            "  inflating: hw2_data/digits/mnistm/data/53188.png  \n",
            "  inflating: __MACOSX/hw2_data/digits/mnistm/data/._53188.png  \n",
            "  inflating: hw2_data/digits/mnistm/data/22771.png  \n",
            "  inflating: __MACOSX/hw2_data/digits/mnistm/data/._22771.png  \n",
            "  inflating: hw2_data/digits/mnistm/data/52296.png  \n",
            "  inflating: __MACOSX/hw2_data/digits/mnistm/data/._52296.png  \n",
            "  inflating: hw2_data/digits/mnistm/data/34113.png  \n",
            "  inflating: __MACOSX/hw2_data/digits/mnistm/data/._34113.png  \n",
            "  inflating: hw2_data/digits/mnistm/data/42085.png  \n",
            "  inflating: __MACOSX/hw2_data/digits/mnistm/data/._42085.png  \n",
            "  inflating: hw2_data/digits/mnistm/data/24300.png  \n",
            "  inflating: __MACOSX/hw2_data/digits/mnistm/data/._24300.png  \n",
            "  inflating: hw2_data/digits/mnistm/data/28512.png  \n",
            "  inflating: __MACOSX/hw2_data/digits/mnistm/data/._28512.png  \n",
            "  inflating: hw2_data/digits/mnistm/data/27621.png  \n",
            "  inflating: __MACOSX/hw2_data/digits/mnistm/data/._27621.png  \n",
            "  inflating: hw2_data/digits/mnistm/data/19917.png  \n",
            "  inflating: __MACOSX/hw2_data/digits/mnistm/data/._19917.png  \n",
            "  inflating: hw2_data/digits/mnistm/data/40862.png  \n",
            "  inflating: __MACOSX/hw2_data/digits/mnistm/data/._40862.png  \n",
            "  inflating: hw2_data/digits/mnistm/data/06837.png  \n",
            "  inflating: __MACOSX/hw2_data/digits/mnistm/data/._06837.png  \n",
            "  inflating: hw2_data/digits/mnistm/data/38701.png  \n",
            "  inflating: __MACOSX/hw2_data/digits/mnistm/data/._38701.png  \n",
            "  inflating: hw2_data/digits/mnistm/data/37432.png  \n",
            "  inflating: __MACOSX/hw2_data/digits/mnistm/data/._37432.png  \n",
            "  inflating: hw2_data/digits/mnistm/data/21250.png  \n",
            "  inflating: __MACOSX/hw2_data/digits/mnistm/data/._21250.png  \n",
            "  inflating: hw2_data/digits/mnistm/data/01180.png  \n",
            "  inflating: __MACOSX/hw2_data/digits/mnistm/data/._01180.png  \n",
            "  inflating: hw2_data/digits/mnistm/data/31043.png  \n",
            "  inflating: __MACOSX/hw2_data/digits/mnistm/data/._31043.png  \n",
            "  inflating: hw2_data/digits/mnistm/data/11393.png  \n",
            "  inflating: __MACOSX/hw2_data/digits/mnistm/data/._11393.png  \n",
            "  inflating: hw2_data/digits/mnistm/data/25036.png  \n",
            "  inflating: __MACOSX/hw2_data/digits/mnistm/data/._25036.png  \n",
            "  inflating: hw2_data/digits/mnistm/data/35225.png  \n",
            "  inflating: __MACOSX/hw2_data/digits/mnistm/data/._35225.png  \n",
            "  inflating: hw2_data/digits/mnistm/data/02489.png  \n",
            "  inflating: __MACOSX/hw2_data/digits/mnistm/data/._02489.png  \n",
            "  inflating: hw2_data/digits/mnistm/data/22759.png  \n",
            "  inflating: __MACOSX/hw2_data/digits/mnistm/data/._22759.png  \n",
            "  inflating: hw2_data/digits/mnistm/data/03797.png  \n",
            "  inflating: __MACOSX/hw2_data/digits/mnistm/data/._03797.png  \n",
            "  inflating: hw2_data/digits/mnistm/data/12842.png  \n",
            "  inflating: __MACOSX/hw2_data/digits/mnistm/data/._12842.png  \n",
            "  inflating: hw2_data/digits/mnistm/data/54817.png  \n",
            "  inflating: __MACOSX/hw2_data/digits/mnistm/data/._54817.png  \n",
            "  inflating: hw2_data/digits/mnistm/data/23447.png  \n",
            "  inflating: __MACOSX/hw2_data/digits/mnistm/data/._23447.png  \n",
            "  inflating: hw2_data/digits/mnistm/data/24328.png  \n",
            "  inflating: __MACOSX/hw2_data/digits/mnistm/data/._24328.png  \n",
            "  inflating: hw2_data/digits/mnistm/data/13584.png  \n",
            "  inflating: __MACOSX/hw2_data/digits/mnistm/data/._13584.png  \n",
            "  inflating: hw2_data/digits/mnistm/data/22981.png  \n",
            "  inflating: __MACOSX/hw2_data/digits/mnistm/data/._22981.png  \n",
            "  inflating: hw2_data/digits/mnistm/data/33654.png  \n",
            "  inflating: __MACOSX/hw2_data/digits/mnistm/data/._33654.png  \n",
            "  inflating: hw2_data/digits/mnistm/data/33132.png  \n",
            "  inflating: __MACOSX/hw2_data/digits/mnistm/data/._33132.png  \n",
            "  inflating: hw2_data/digits/mnistm/data/25988.png  \n",
            "  inflating: __MACOSX/hw2_data/digits/mnistm/data/._25988.png  \n",
            "  inflating: hw2_data/digits/mnistm/data/23321.png  \n",
            "  inflating: __MACOSX/hw2_data/digits/mnistm/data/._23321.png  \n",
            "  inflating: hw2_data/digits/mnistm/data/35543.png  \n",
            "  inflating: __MACOSX/hw2_data/digits/mnistm/data/._35543.png  \n",
            "  inflating: hw2_data/digits/mnistm/data/42913.png  \n",
            "  inflating: __MACOSX/hw2_data/digits/mnistm/data/._42913.png  \n",
            "  inflating: hw2_data/digits/mnistm/data/15693.png  \n",
            "  inflating: __MACOSX/hw2_data/digits/mnistm/data/._15693.png  \n",
            "  inflating: hw2_data/digits/mnistm/data/04946.png  \n",
            "  inflating: __MACOSX/hw2_data/digits/mnistm/data/._04946.png  \n",
            "  inflating: hw2_data/digits/mnistm/data/34885.png  \n",
            "  inflating: __MACOSX/hw2_data/digits/mnistm/data/._34885.png  \n",
            "  inflating: hw2_data/digits/mnistm/data/25750.png  \n",
            "  inflating: __MACOSX/hw2_data/digits/mnistm/data/._25750.png  \n",
            "  inflating: hw2_data/digits/mnistm/data/05480.png  \n",
            "  inflating: __MACOSX/hw2_data/digits/mnistm/data/._05480.png  \n",
            "  inflating: hw2_data/digits/mnistm/data/31725.png  \n",
            "  inflating: __MACOSX/hw2_data/digits/mnistm/data/._31725.png  \n",
            "  inflating: hw2_data/digits/mnistm/data/06189.png  \n",
            "  inflating: __MACOSX/hw2_data/digits/mnistm/data/._06189.png  \n",
            "  inflating: hw2_data/digits/mnistm/data/49846.png  \n",
            "  inflating: __MACOSX/hw2_data/digits/mnistm/data/._49846.png  \n",
            "  inflating: hw2_data/digits/mnistm/data/26259.png  \n",
            "  inflating: __MACOSX/hw2_data/digits/mnistm/data/._26259.png  \n",
            "  inflating: hw2_data/digits/mnistm/data/48580.png  \n",
            "  inflating: __MACOSX/hw2_data/digits/mnistm/data/._48580.png  \n",
            "  inflating: hw2_data/digits/mnistm/data/39379.png  \n",
            "  inflating: __MACOSX/hw2_data/digits/mnistm/data/._39379.png  \n",
            "  inflating: hw2_data/digits/mnistm/data/21536.png  \n",
            "  inflating: __MACOSX/hw2_data/digits/mnistm/data/._21536.png  \n",
            "  inflating: hw2_data/digits/mnistm/data/10933.png  \n",
            "  inflating: __MACOSX/hw2_data/digits/mnistm/data/._10933.png  \n",
            "  inflating: hw2_data/digits/mnistm/data/20628.png  \n",
            "  inflating: __MACOSX/hw2_data/digits/mnistm/data/._20628.png  \n",
            "  inflating: hw2_data/digits/mnistm/data/17084.png  \n",
            "  inflating: __MACOSX/hw2_data/digits/mnistm/data/._17084.png  \n",
            "  inflating: hw2_data/digits/mnistm/data/38067.png  \n",
            "  inflating: __MACOSX/hw2_data/digits/mnistm/data/._38067.png  \n",
            "  inflating: hw2_data/digits/mnistm/data/37354.png  \n",
            "  inflating: __MACOSX/hw2_data/digits/mnistm/data/._37354.png  \n",
            "  inflating: hw2_data/digits/mnistm/data/07297.png  \n",
            "  inflating: __MACOSX/hw2_data/digits/mnistm/data/._07297.png  \n",
            "  inflating: hw2_data/digits/mnistm/data/28274.png  \n",
            "  inflating: __MACOSX/hw2_data/digits/mnistm/data/._28274.png  \n",
            "  inflating: hw2_data/digits/mnistm/data/27147.png  \n",
            "  inflating: __MACOSX/hw2_data/digits/mnistm/data/._27147.png  \n",
            "  inflating: hw2_data/digits/mnistm/data/49852.png  \n",
            "  inflating: __MACOSX/hw2_data/digits/mnistm/data/._49852.png  \n",
            "  inflating: hw2_data/digits/mnistm/data/31731.png  \n",
            "  inflating: __MACOSX/hw2_data/digits/mnistm/data/._31731.png  \n",
            "  inflating: hw2_data/digits/mnistm/data/21522.png  \n",
            "  inflating: __MACOSX/hw2_data/digits/mnistm/data/._21522.png  \n",
            "  inflating: hw2_data/digits/mnistm/data/48594.png  \n",
            "  inflating: __MACOSX/hw2_data/digits/mnistm/data/._48594.png  \n",
            "  inflating: hw2_data/digits/mnistm/data/10927.png  \n",
            "  inflating: __MACOSX/hw2_data/digits/mnistm/data/._10927.png  \n",
            "  inflating: hw2_data/digits/mnistm/data/38073.png  \n",
            "  inflating: __MACOSX/hw2_data/digits/mnistm/data/._38073.png  \n",
            "  inflating: hw2_data/digits/mnistm/data/17090.png  \n",
            "  inflating: __MACOSX/hw2_data/digits/mnistm/data/._17090.png  \n",
            "  inflating: hw2_data/digits/mnistm/data/37340.png  \n",
            "  inflating: __MACOSX/hw2_data/digits/mnistm/data/._37340.png  \n",
            "  inflating: hw2_data/digits/mnistm/data/28260.png  \n",
            "  inflating: __MACOSX/hw2_data/digits/mnistm/data/._28260.png  \n",
            "  inflating: hw2_data/digits/mnistm/data/07283.png  \n",
            "  inflating: __MACOSX/hw2_data/digits/mnistm/data/._07283.png  \n",
            "  inflating: hw2_data/digits/mnistm/data/27153.png  \n",
            "  inflating: __MACOSX/hw2_data/digits/mnistm/data/._27153.png  \n",
            "  inflating: hw2_data/digits/mnistm/data/33126.png  \n",
            "  inflating: __MACOSX/hw2_data/digits/mnistm/data/._33126.png  \n",
            "  inflating: hw2_data/digits/mnistm/data/34649.png  \n",
            "  inflating: __MACOSX/hw2_data/digits/mnistm/data/._34649.png  \n",
            "  inflating: hw2_data/digits/mnistm/data/23335.png  \n",
            "  inflating: __MACOSX/hw2_data/digits/mnistm/data/._23335.png  \n",
            "  inflating: hw2_data/digits/mnistm/data/14599.png  \n",
            "  inflating: __MACOSX/hw2_data/digits/mnistm/data/._14599.png  \n",
            "  inflating: hw2_data/digits/mnistm/data/35557.png  \n",
            "  inflating: __MACOSX/hw2_data/digits/mnistm/data/._35557.png  \n",
            "  inflating: hw2_data/digits/mnistm/data/04952.png  \n",
            "  inflating: __MACOSX/hw2_data/digits/mnistm/data/._04952.png  \n",
            "  inflating: hw2_data/digits/mnistm/data/15687.png  \n",
            "  inflating: __MACOSX/hw2_data/digits/mnistm/data/._15687.png  \n",
            "  inflating: hw2_data/digits/mnistm/data/42907.png  \n",
            "  inflating: __MACOSX/hw2_data/digits/mnistm/data/._42907.png  \n",
            "  inflating: hw2_data/digits/mnistm/data/25744.png  \n",
            "  inflating: __MACOSX/hw2_data/digits/mnistm/data/._25744.png  \n",
            "  inflating: hw2_data/digits/mnistm/data/34891.png  \n",
            "  inflating: __MACOSX/hw2_data/digits/mnistm/data/._34891.png  \n",
            "  inflating: hw2_data/digits/mnistm/data/32238.png  \n",
            "  inflating: __MACOSX/hw2_data/digits/mnistm/data/._32238.png  \n",
            "  inflating: hw2_data/digits/mnistm/data/05494.png  \n",
            "  inflating: __MACOSX/hw2_data/digits/mnistm/data/._05494.png  \n",
            "  inflating: hw2_data/digits/mnistm/data/25022.png  \n",
            "  inflating: __MACOSX/hw2_data/digits/mnistm/data/._25022.png  \n",
            "  inflating: hw2_data/digits/mnistm/data/35231.png  \n",
            "  inflating: __MACOSX/hw2_data/digits/mnistm/data/._35231.png  \n",
            "  inflating: hw2_data/digits/mnistm/data/33898.png  \n",
            "  inflating: __MACOSX/hw2_data/digits/mnistm/data/._33898.png  \n",
            "  inflating: hw2_data/digits/mnistm/data/54803.png  \n",
            "  inflating: __MACOSX/hw2_data/digits/mnistm/data/._54803.png  \n",
            "  inflating: hw2_data/digits/mnistm/data/12856.png  \n",
            "  inflating: __MACOSX/hw2_data/digits/mnistm/data/._12856.png  \n",
            "  inflating: hw2_data/digits/mnistm/data/03783.png  \n",
            "  inflating: __MACOSX/hw2_data/digits/mnistm/data/._03783.png  \n",
            "  inflating: hw2_data/digits/mnistm/data/23453.png  \n",
            "  inflating: __MACOSX/hw2_data/digits/mnistm/data/._23453.png  \n",
            "  inflating: hw2_data/digits/mnistm/data/13590.png  \n",
            "  inflating: __MACOSX/hw2_data/digits/mnistm/data/._13590.png  \n",
            "  inflating: hw2_data/digits/mnistm/data/33640.png  \n",
            "  inflating: __MACOSX/hw2_data/digits/mnistm/data/._33640.png  \n",
            "  inflating: hw2_data/digits/mnistm/data/22995.png  \n",
            "  inflating: __MACOSX/hw2_data/digits/mnistm/data/._22995.png  \n",
            "  inflating: hw2_data/digits/mnistm/data/30349.png  \n",
            "  inflating: __MACOSX/hw2_data/digits/mnistm/data/._30349.png  \n",
            "  inflating: hw2_data/digits/mnistm/data/28506.png  \n",
            "  inflating: __MACOSX/hw2_data/digits/mnistm/data/._28506.png  \n",
            "  inflating: hw2_data/digits/mnistm/data/19903.png  \n",
            "  inflating: __MACOSX/hw2_data/digits/mnistm/data/._19903.png  \n",
            "  inflating: hw2_data/digits/mnistm/data/27635.png  \n",
            "  inflating: __MACOSX/hw2_data/digits/mnistm/data/._27635.png  \n",
            "  inflating: hw2_data/digits/mnistm/data/10099.png  \n",
            "  inflating: __MACOSX/hw2_data/digits/mnistm/data/._10099.png  \n",
            "  inflating: hw2_data/digits/mnistm/data/38715.png  \n",
            "  inflating: __MACOSX/hw2_data/digits/mnistm/data/._38715.png  \n",
            "  inflating: hw2_data/digits/mnistm/data/06823.png  \n",
            "  inflating: __MACOSX/hw2_data/digits/mnistm/data/._06823.png  \n",
            "  inflating: hw2_data/digits/mnistm/data/40876.png  \n",
            "  inflating: __MACOSX/hw2_data/digits/mnistm/data/._40876.png  \n",
            "  inflating: hw2_data/digits/mnistm/data/37426.png  \n",
            "  inflating: __MACOSX/hw2_data/digits/mnistm/data/._37426.png  \n",
            "  inflating: hw2_data/digits/mnistm/data/21244.png  \n",
            "  inflating: __MACOSX/hw2_data/digits/mnistm/data/._21244.png  \n",
            "  inflating: hw2_data/digits/mnistm/data/36738.png  \n",
            "  inflating: __MACOSX/hw2_data/digits/mnistm/data/._36738.png  \n",
            "  inflating: hw2_data/digits/mnistm/data/01194.png  \n",
            "  inflating: __MACOSX/hw2_data/digits/mnistm/data/._01194.png  \n",
            "  inflating: hw2_data/digits/mnistm/data/29618.png  \n",
            "  inflating: __MACOSX/hw2_data/digits/mnistm/data/._29618.png  \n",
            "  inflating: hw2_data/digits/mnistm/data/31057.png  \n",
            "  inflating: __MACOSX/hw2_data/digits/mnistm/data/._31057.png  \n",
            "  inflating: hw2_data/digits/mnistm/data/11387.png  \n",
            "  inflating: __MACOSX/hw2_data/digits/mnistm/data/._11387.png  \n",
            "  inflating: hw2_data/digits/mnistm/data/16167.png  \n",
            "  inflating: __MACOSX/hw2_data/digits/mnistm/data/._16167.png  \n",
            "  inflating: hw2_data/digits/mnistm/data/39184.png  \n",
            "  inflating: __MACOSX/hw2_data/digits/mnistm/data/._39184.png  \n",
            "  inflating: hw2_data/digits/mnistm/data/50132.png  \n",
            "  inflating: __MACOSX/hw2_data/digits/mnistm/data/._50132.png  \n",
            "  inflating: hw2_data/digits/mnistm/data/19254.png  \n",
            "  inflating: __MACOSX/hw2_data/digits/mnistm/data/._19254.png  \n",
            "  inflating: hw2_data/digits/mnistm/data/40321.png  \n",
            "  inflating: __MACOSX/hw2_data/digits/mnistm/data/._40321.png  \n",
            "  inflating: hw2_data/digits/mnistm/data/06374.png  \n",
            "  inflating: __MACOSX/hw2_data/digits/mnistm/data/._06374.png  \n",
            "  inflating: hw2_data/digits/mnistm/data/29397.png  \n",
            "  inflating: __MACOSX/hw2_data/digits/mnistm/data/._29397.png  \n",
            "  inflating: hw2_data/digits/mnistm/data/46988.png  \n",
            "  inflating: __MACOSX/hw2_data/digits/mnistm/data/._46988.png  \n",
            "  inflating: hw2_data/digits/mnistm/data/09047.png  \n",
            "  inflating: __MACOSX/hw2_data/digits/mnistm/data/._09047.png  \n",
            "  inflating: hw2_data/digits/mnistm/data/11608.png  \n",
            "  inflating: __MACOSX/hw2_data/digits/mnistm/data/._11608.png  \n",
            "  inflating: hw2_data/digits/mnistm/data/28089.png  \n",
            "  inflating: __MACOSX/hw2_data/digits/mnistm/data/._28089.png  \n",
            "  inflating: hw2_data/digits/mnistm/data/21913.png  \n",
            "  inflating: __MACOSX/hw2_data/digits/mnistm/data/._21913.png  \n",
            "  inflating: hw2_data/digits/mnistm/data/10516.png  \n",
            "  inflating: __MACOSX/hw2_data/digits/mnistm/data/._10516.png  \n",
            "  inflating: hw2_data/digits/mnistm/data/08359.png  \n",
            "  inflating: __MACOSX/hw2_data/digits/mnistm/data/._08359.png  \n",
            "  inflating: hw2_data/digits/mnistm/data/49463.png  \n",
            "  inflating: __MACOSX/hw2_data/digits/mnistm/data/._49463.png  \n",
            "  inflating: hw2_data/digits/mnistm/data/17279.png  \n",
            "  inflating: __MACOSX/hw2_data/digits/mnistm/data/._17279.png  \n",
            "  inflating: hw2_data/digits/mnistm/data/46750.png  \n",
            "  inflating: __MACOSX/hw2_data/digits/mnistm/data/._46750.png  \n",
            "  inflating: hw2_data/digits/mnistm/data/00705.png  \n",
            "  inflating: __MACOSX/hw2_data/digits/mnistm/data/._00705.png  \n",
            "  inflating: hw2_data/digits/mnistm/data/45259.png  \n",
            "  inflating: __MACOSX/hw2_data/digits/mnistm/data/._45259.png  \n",
            "  inflating: hw2_data/digits/mnistm/data/14770.png  \n",
            "  inflating: __MACOSX/hw2_data/digits/mnistm/data/._14770.png  \n",
            "  inflating: hw2_data/digits/mnistm/data/52725.png  \n",
            "  inflating: __MACOSX/hw2_data/digits/mnistm/data/._52725.png  \n",
            "  inflating: hw2_data/digits/mnistm/data/35966.png  \n",
            "  inflating: __MACOSX/hw2_data/digits/mnistm/data/._35966.png  \n",
            "  inflating: hw2_data/digits/mnistm/data/42536.png  \n",
            "  inflating: __MACOSX/hw2_data/digits/mnistm/data/._42536.png  \n",
            "  inflating: hw2_data/digits/mnistm/data/04563.png  \n",
            "  inflating: __MACOSX/hw2_data/digits/mnistm/data/._04563.png  \n",
            "  inflating: hw2_data/digits/mnistm/data/12301.png  \n",
            "  inflating: __MACOSX/hw2_data/digits/mnistm/data/._12301.png  \n",
            "  inflating: hw2_data/digits/mnistm/data/54354.png  \n",
            "  inflating: __MACOSX/hw2_data/digits/mnistm/data/._54354.png  \n",
            "  inflating: hw2_data/digits/mnistm/data/43628.png  \n",
            "  inflating: __MACOSX/hw2_data/digits/mnistm/data/._43628.png  \n",
            "  inflating: hw2_data/digits/mnistm/data/44147.png  \n",
            "  inflating: __MACOSX/hw2_data/digits/mnistm/data/._44147.png  \n",
            "  inflating: hw2_data/digits/mnistm/data/02112.png  \n",
            "  inflating: __MACOSX/hw2_data/digits/mnistm/data/._02112.png  \n",
            "  inflating: hw2_data/digits/mnistm/data/44621.png  \n",
            "  inflating: __MACOSX/hw2_data/digits/mnistm/data/._44621.png  \n",
            "  inflating: hw2_data/digits/mnistm/data/02674.png  \n",
            "  inflating: __MACOSX/hw2_data/digits/mnistm/data/._02674.png  \n",
            "  inflating: hw2_data/digits/mnistm/data/15308.png  \n",
            "  inflating: __MACOSX/hw2_data/digits/mnistm/data/._15308.png  \n",
            "  inflating: hw2_data/digits/mnistm/data/12467.png  \n",
            "  inflating: __MACOSX/hw2_data/digits/mnistm/data/._12467.png  \n",
            "  inflating: hw2_data/digits/mnistm/data/54432.png  \n",
            "  inflating: __MACOSX/hw2_data/digits/mnistm/data/._54432.png  \n",
            "  inflating: hw2_data/digits/mnistm/data/23862.png  \n",
            "  inflating: __MACOSX/hw2_data/digits/mnistm/data/._23862.png  \n",
            "  inflating: hw2_data/digits/mnistm/data/13779.png  \n",
            "  inflating: __MACOSX/hw2_data/digits/mnistm/data/._13779.png  \n",
            "  inflating: hw2_data/digits/mnistm/data/42250.png  \n",
            "  inflating: __MACOSX/hw2_data/digits/mnistm/data/._42250.png  \n",
            "  inflating: hw2_data/digits/mnistm/data/04205.png  \n",
            "  inflating: __MACOSX/hw2_data/digits/mnistm/data/._04205.png  \n",
            "  inflating: hw2_data/digits/mnistm/data/14016.png  \n",
            "  inflating: __MACOSX/hw2_data/digits/mnistm/data/._14016.png  \n",
            "  inflating: hw2_data/digits/mnistm/data/52043.png  \n",
            "  inflating: __MACOSX/hw2_data/digits/mnistm/data/._52043.png  \n",
            "  inflating: hw2_data/digits/mnistm/data/49305.png  \n",
            "  inflating: __MACOSX/hw2_data/digits/mnistm/data/._49305.png  \n",
            "  inflating: hw2_data/digits/mnistm/data/46036.png  \n",
            "  inflating: __MACOSX/hw2_data/digits/mnistm/data/._46036.png  \n",
            "  inflating: hw2_data/digits/mnistm/data/00063.png  \n",
            "  inflating: __MACOSX/hw2_data/digits/mnistm/data/._00063.png  \n",
            "  inflating: hw2_data/digits/mnistm/data/41759.png  \n",
            "  inflating: __MACOSX/hw2_data/digits/mnistm/data/._41759.png  \n",
            "  inflating: hw2_data/digits/mnistm/data/10270.png  \n",
            "  inflating: __MACOSX/hw2_data/digits/mnistm/data/._10270.png  \n",
            "  inflating: hw2_data/digits/mnistm/data/40447.png  \n",
            "  inflating: __MACOSX/hw2_data/digits/mnistm/data/._40447.png  \n",
            "  inflating: hw2_data/digits/mnistm/data/06412.png  \n",
            "  inflating: __MACOSX/hw2_data/digits/mnistm/data/._06412.png  \n",
            "  inflating: hw2_data/digits/mnistm/data/09721.png  \n",
            "  inflating: __MACOSX/hw2_data/digits/mnistm/data/._09721.png  \n",
            "  inflating: hw2_data/digits/mnistm/data/37817.png  \n",
            "  inflating: __MACOSX/hw2_data/digits/mnistm/data/._37817.png  \n",
            "  inflating: hw2_data/digits/mnistm/data/28937.png  \n",
            "  inflating: __MACOSX/hw2_data/digits/mnistm/data/._28937.png  \n",
            "  inflating: hw2_data/digits/mnistm/data/16601.png  \n",
            "  inflating: __MACOSX/hw2_data/digits/mnistm/data/._16601.png  \n",
            "  inflating: hw2_data/digits/mnistm/data/41981.png  \n",
            "  inflating: __MACOSX/hw2_data/digits/mnistm/data/._41981.png  \n",
            "  inflating: hw2_data/digits/mnistm/data/50654.png  \n",
            "  inflating: __MACOSX/hw2_data/digits/mnistm/data/._50654.png  \n",
            "  inflating: hw2_data/digits/mnistm/data/47328.png  \n",
            "  inflating: __MACOSX/hw2_data/digits/mnistm/data/._47328.png  \n",
            "  inflating: hw2_data/digits/mnistm/data/19532.png  \n",
            "  inflating: __MACOSX/hw2_data/digits/mnistm/data/._19532.png  \n",
            "  inflating: hw2_data/digits/mnistm/data/49311.png  \n",
            "  inflating: __MACOSX/hw2_data/digits/mnistm/data/._49311.png  \n",
            "  inflating: hw2_data/digits/mnistm/data/00077.png  \n",
            "  inflating: __MACOSX/hw2_data/digits/mnistm/data/._00077.png  \n",
            "  inflating: hw2_data/digits/mnistm/data/46022.png  \n",
            "  inflating: __MACOSX/hw2_data/digits/mnistm/data/._46022.png  \n",
            "  inflating: hw2_data/digits/mnistm/data/18638.png  \n",
            "  inflating: __MACOSX/hw2_data/digits/mnistm/data/._18638.png  \n",
            "  inflating: hw2_data/digits/mnistm/data/50898.png  \n",
            "  inflating: __MACOSX/hw2_data/digits/mnistm/data/._50898.png  \n",
            "  inflating: hw2_data/digits/mnistm/data/07718.png  \n",
            "  inflating: __MACOSX/hw2_data/digits/mnistm/data/._07718.png  \n",
            "  inflating: hw2_data/digits/mnistm/data/10264.png  \n",
            "  inflating: __MACOSX/hw2_data/digits/mnistm/data/._10264.png  \n",
            "  inflating: hw2_data/digits/mnistm/data/06406.png  \n",
            "  inflating: __MACOSX/hw2_data/digits/mnistm/data/._06406.png  \n",
            "  inflating: hw2_data/digits/mnistm/data/40453.png  \n",
            "  inflating: __MACOSX/hw2_data/digits/mnistm/data/._40453.png  \n",
            "  inflating: hw2_data/digits/mnistm/data/37803.png  \n",
            "  inflating: __MACOSX/hw2_data/digits/mnistm/data/._37803.png  \n",
            "  inflating: hw2_data/digits/mnistm/data/09735.png  \n",
            "  inflating: __MACOSX/hw2_data/digits/mnistm/data/._09735.png  \n",
            "  inflating: hw2_data/digits/mnistm/data/50640.png  \n",
            "  inflating: __MACOSX/hw2_data/digits/mnistm/data/._50640.png  \n",
            "  inflating: hw2_data/digits/mnistm/data/41995.png  \n",
            "  inflating: __MACOSX/hw2_data/digits/mnistm/data/._41995.png  \n",
            "  inflating: hw2_data/digits/mnistm/data/16615.png  \n",
            "  inflating: __MACOSX/hw2_data/digits/mnistm/data/._16615.png  \n",
            "  inflating: hw2_data/digits/mnistm/data/28923.png  \n",
            "  inflating: __MACOSX/hw2_data/digits/mnistm/data/._28923.png  \n",
            "  inflating: hw2_data/digits/mnistm/data/19526.png  \n",
            "  inflating: __MACOSX/hw2_data/digits/mnistm/data/._19526.png  \n",
            "  inflating: hw2_data/digits/mnistm/data/01369.png  \n",
            "  inflating: __MACOSX/hw2_data/digits/mnistm/data/._01369.png  \n",
            "  inflating: hw2_data/digits/mnistm/data/02660.png  \n",
            "  inflating: __MACOSX/hw2_data/digits/mnistm/data/._02660.png  \n",
            "  inflating: hw2_data/digits/mnistm/data/44635.png  \n",
            "  inflating: __MACOSX/hw2_data/digits/mnistm/data/._44635.png  \n",
            "  inflating: hw2_data/digits/mnistm/data/53349.png  \n",
            "  inflating: __MACOSX/hw2_data/digits/mnistm/data/._53349.png  \n",
            "  inflating: hw2_data/digits/mnistm/data/54426.png  \n",
            "  inflating: __MACOSX/hw2_data/digits/mnistm/data/._54426.png  \n",
            "  inflating: hw2_data/digits/mnistm/data/12473.png  \n",
            "  inflating: __MACOSX/hw2_data/digits/mnistm/data/._12473.png  \n",
            "  inflating: hw2_data/digits/mnistm/data/23876.png  \n",
            "  inflating: __MACOSX/hw2_data/digits/mnistm/data/._23876.png  \n",
            "  inflating: hw2_data/digits/mnistm/data/55738.png  \n",
            "  inflating: __MACOSX/hw2_data/digits/mnistm/data/._55738.png  \n",
            "  inflating: hw2_data/digits/mnistm/data/04211.png  \n",
            "  inflating: __MACOSX/hw2_data/digits/mnistm/data/._04211.png  \n",
            "  inflating: hw2_data/digits/mnistm/data/42244.png  \n",
            "  inflating: __MACOSX/hw2_data/digits/mnistm/data/._42244.png  \n",
            "  inflating: hw2_data/digits/mnistm/data/52057.png  \n",
            "  inflating: __MACOSX/hw2_data/digits/mnistm/data/._52057.png  \n",
            "  inflating: hw2_data/digits/mnistm/data/14002.png  \n",
            "  inflating: __MACOSX/hw2_data/digits/mnistm/data/._14002.png  \n",
            "  inflating: hw2_data/digits/mnistm/data/03218.png  \n",
            "  inflating: __MACOSX/hw2_data/digits/mnistm/data/._03218.png  \n",
            "  inflating: hw2_data/digits/mnistm/data/52731.png  \n",
            "  inflating: __MACOSX/hw2_data/digits/mnistm/data/._52731.png  \n",
            "  inflating: hw2_data/digits/mnistm/data/14764.png  \n",
            "  inflating: __MACOSX/hw2_data/digits/mnistm/data/._14764.png  \n",
            "  inflating: hw2_data/digits/mnistm/data/35972.png  \n",
            "  inflating: __MACOSX/hw2_data/digits/mnistm/data/._35972.png  \n",
            "  inflating: hw2_data/digits/mnistm/data/04577.png  \n",
            "  inflating: __MACOSX/hw2_data/digits/mnistm/data/._04577.png  \n",
            "  inflating: hw2_data/digits/mnistm/data/42522.png  \n",
            "  inflating: __MACOSX/hw2_data/digits/mnistm/data/._42522.png  \n",
            "  inflating: hw2_data/digits/mnistm/data/54340.png  \n",
            "  inflating: __MACOSX/hw2_data/digits/mnistm/data/._54340.png  \n",
            "  inflating: hw2_data/digits/mnistm/data/12315.png  \n",
            "  inflating: __MACOSX/hw2_data/digits/mnistm/data/._12315.png  \n",
            "  inflating: hw2_data/digits/mnistm/data/05669.png  \n",
            "  inflating: __MACOSX/hw2_data/digits/mnistm/data/._05669.png  \n",
            "  inflating: hw2_data/digits/mnistm/data/02106.png  \n",
            "  inflating: __MACOSX/hw2_data/digits/mnistm/data/._02106.png  \n",
            "  inflating: hw2_data/digits/mnistm/data/44153.png  \n",
            "  inflating: __MACOSX/hw2_data/digits/mnistm/data/._44153.png  \n",
            "  inflating: hw2_data/digits/mnistm/data/50126.png  \n",
            "  inflating: __MACOSX/hw2_data/digits/mnistm/data/._50126.png  \n",
            "  inflating: hw2_data/digits/mnistm/data/39190.png  \n",
            "  inflating: __MACOSX/hw2_data/digits/mnistm/data/._39190.png  \n",
            "  inflating: hw2_data/digits/mnistm/data/48769.png  \n",
            "  inflating: __MACOSX/hw2_data/digits/mnistm/data/._48769.png  \n",
            "  inflating: hw2_data/digits/mnistm/data/16173.png  \n",
            "  inflating: __MACOSX/hw2_data/digits/mnistm/data/._16173.png  \n",
            "  inflating: hw2_data/digits/mnistm/data/19240.png  \n",
            "  inflating: __MACOSX/hw2_data/digits/mnistm/data/._19240.png  \n",
            "  inflating: hw2_data/digits/mnistm/data/29383.png  \n",
            "  inflating: __MACOSX/hw2_data/digits/mnistm/data/._29383.png  \n",
            "  inflating: hw2_data/digits/mnistm/data/06360.png  \n",
            "  inflating: __MACOSX/hw2_data/digits/mnistm/data/._06360.png  \n",
            "  inflating: hw2_data/digits/mnistm/data/40335.png  \n",
            "  inflating: __MACOSX/hw2_data/digits/mnistm/data/._40335.png  \n",
            "  inflating: hw2_data/digits/mnistm/data/09053.png  \n",
            "  inflating: __MACOSX/hw2_data/digits/mnistm/data/._09053.png  \n",
            "  inflating: hw2_data/digits/mnistm/data/21907.png  \n",
            "  inflating: __MACOSX/hw2_data/digits/mnistm/data/._21907.png  \n",
            "  inflating: hw2_data/digits/mnistm/data/10502.png  \n",
            "  inflating: __MACOSX/hw2_data/digits/mnistm/data/._10502.png  \n",
            "  inflating: hw2_data/digits/mnistm/data/49477.png  \n",
            "  inflating: __MACOSX/hw2_data/digits/mnistm/data/._49477.png  \n",
            "  inflating: hw2_data/digits/mnistm/data/51238.png  \n",
            "  inflating: __MACOSX/hw2_data/digits/mnistm/data/._51238.png  \n",
            "  inflating: hw2_data/digits/mnistm/data/00711.png  \n",
            "  inflating: __MACOSX/hw2_data/digits/mnistm/data/._00711.png  \n",
            "  inflating: hw2_data/digits/mnistm/data/46744.png  \n",
            "  inflating: __MACOSX/hw2_data/digits/mnistm/data/._46744.png  \n",
            "  inflating: hw2_data/digits/mnistm/data/05899.png  \n",
            "  inflating: __MACOSX/hw2_data/digits/mnistm/data/._05899.png  \n",
            "  inflating: hw2_data/digits/mnistm/data/52719.png  \n",
            "  inflating: __MACOSX/hw2_data/digits/mnistm/data/._52719.png  \n",
            "  inflating: hw2_data/digits/mnistm/data/03230.png  \n",
            "  inflating: __MACOSX/hw2_data/digits/mnistm/data/._03230.png  \n",
            "  inflating: hw2_data/digits/mnistm/data/45265.png  \n",
            "  inflating: __MACOSX/hw2_data/digits/mnistm/data/._45265.png  \n",
            "  inflating: hw2_data/digits/mnistm/data/55076.png  \n",
            "  inflating: __MACOSX/hw2_data/digits/mnistm/data/._55076.png  \n",
            "  inflating: hw2_data/digits/mnistm/data/13023.png  \n",
            "  inflating: __MACOSX/hw2_data/digits/mnistm/data/._13023.png  \n",
            "  inflating: hw2_data/digits/mnistm/data/05641.png  \n",
            "  inflating: __MACOSX/hw2_data/digits/mnistm/data/._05641.png  \n",
            "  inflating: hw2_data/digits/mnistm/data/14994.png  \n",
            "  inflating: __MACOSX/hw2_data/digits/mnistm/data/._14994.png  \n",
            "  inflating: hw2_data/digits/mnistm/data/43614.png  \n",
            "  inflating: __MACOSX/hw2_data/digits/mnistm/data/._43614.png  \n",
            "  inflating: hw2_data/digits/mnistm/data/25591.png  \n",
            "  inflating: __MACOSX/hw2_data/digits/mnistm/data/._25591.png  \n",
            "  inflating: hw2_data/digits/mnistm/data/54368.png  \n",
            "  inflating: __MACOSX/hw2_data/digits/mnistm/data/._54368.png  \n",
            "  inflating: hw2_data/digits/mnistm/data/53407.png  \n",
            "  inflating: __MACOSX/hw2_data/digits/mnistm/data/._53407.png  \n",
            "  inflating: hw2_data/digits/mnistm/data/15452.png  \n",
            "  inflating: __MACOSX/hw2_data/digits/mnistm/data/._15452.png  \n",
            "  inflating: hw2_data/digits/mnistm/data/24857.png  \n",
            "  inflating: __MACOSX/hw2_data/digits/mnistm/data/._24857.png  \n",
            "  inflating: hw2_data/digits/mnistm/data/35782.png  \n",
            "  inflating: __MACOSX/hw2_data/digits/mnistm/data/._35782.png  \n",
            "  inflating: hw2_data/digits/mnistm/data/01427.png  \n",
            "  inflating: __MACOSX/hw2_data/digits/mnistm/data/._01427.png  \n",
            "  inflating: hw2_data/digits/mnistm/data/47472.png  \n",
            "  inflating: __MACOSX/hw2_data/digits/mnistm/data/._47472.png  \n",
            "  inflating: hw2_data/digits/mnistm/data/19268.png  \n",
            "  inflating: __MACOSX/hw2_data/digits/mnistm/data/._19268.png  \n",
            "  inflating: hw2_data/digits/mnistm/data/48741.png  \n",
            "  inflating: __MACOSX/hw2_data/digits/mnistm/data/._48741.png  \n",
            "  inflating: hw2_data/digits/mnistm/data/30822.png  \n",
            "  inflating: __MACOSX/hw2_data/digits/mnistm/data/._30822.png  \n",
            "  inflating: hw2_data/digits/mnistm/data/26098.png  \n",
            "  inflating: __MACOSX/hw2_data/digits/mnistm/data/._26098.png  \n",
            "  inflating: hw2_data/digits/mnistm/data/11634.png  \n",
            "  inflating: __MACOSX/hw2_data/digits/mnistm/data/._11634.png  \n",
            "  inflating: hw2_data/digits/mnistm/data/06348.png  \n",
            "  inflating: __MACOSX/hw2_data/digits/mnistm/data/._06348.png  \n",
            "  inflating: hw2_data/digits/mnistm/data/08365.png  \n",
            "  inflating: __MACOSX/hw2_data/digits/mnistm/data/._08365.png  \n",
            "  inflating: hw2_data/digits/mnistm/data/27386.png  \n",
            "  inflating: __MACOSX/hw2_data/digits/mnistm/data/._27386.png  \n",
            "  inflating: hw2_data/digits/mnistm/data/07056.png  \n",
            "  inflating: __MACOSX/hw2_data/digits/mnistm/data/._07056.png  \n",
            "  inflating: hw2_data/digits/mnistm/data/48999.png  \n",
            "  inflating: __MACOSX/hw2_data/digits/mnistm/data/._48999.png  \n",
            "  inflating: hw2_data/digits/mnistm/data/41003.png  \n",
            "  inflating: __MACOSX/hw2_data/digits/mnistm/data/._41003.png  \n",
            "  inflating: hw2_data/digits/mnistm/data/18176.png  \n",
            "  inflating: __MACOSX/hw2_data/digits/mnistm/data/._18176.png  \n",
            "  inflating: hw2_data/digits/mnistm/data/37195.png  \n",
            "  inflating: __MACOSX/hw2_data/digits/mnistm/data/._37195.png  \n",
            "  inflating: hw2_data/digits/mnistm/data/00739.png  \n",
            "  inflating: __MACOSX/hw2_data/digits/mnistm/data/._00739.png  \n",
            "  inflating: hw2_data/digits/mnistm/data/51210.png  \n",
            "  inflating: __MACOSX/hw2_data/digits/mnistm/data/._51210.png  \n",
            "  inflating: hw2_data/digits/mnistm/data/17245.png  \n",
            "  inflating: __MACOSX/hw2_data/digits/mnistm/data/._17245.png  \n",
            "  inflating: hw2_data/digits/mnistm/data/18610.png  \n",
            "  inflating: __MACOSX/hw2_data/digits/mnistm/data/._18610.png  \n",
            "  inflating: hw2_data/digits/mnistm/data/26926.png  \n",
            "  inflating: __MACOSX/hw2_data/digits/mnistm/data/._26926.png  \n",
            "  inflating: hw2_data/digits/mnistm/data/51576.png  \n",
            "  inflating: __MACOSX/hw2_data/digits/mnistm/data/._51576.png  \n",
            "  inflating: hw2_data/digits/mnistm/data/49339.png  \n",
            "  inflating: __MACOSX/hw2_data/digits/mnistm/data/._49339.png  \n",
            "  inflating: hw2_data/digits/mnistm/data/17523.png  \n",
            "  inflating: __MACOSX/hw2_data/digits/mnistm/data/._17523.png  \n",
            "  inflating: hw2_data/digits/mnistm/data/08403.png  \n",
            "  inflating: __MACOSX/hw2_data/digits/mnistm/data/._08403.png  \n",
            "  inflating: hw2_data/digits/mnistm/data/39806.png  \n",
            "  inflating: __MACOSX/hw2_data/digits/mnistm/data/._39806.png  \n",
            "  inflating: hw2_data/digits/mnistm/data/07730.png  \n",
            "  inflating: __MACOSX/hw2_data/digits/mnistm/data/._07730.png  \n",
            "  inflating: hw2_data/digits/mnistm/data/41765.png  \n",
            "  inflating: __MACOSX/hw2_data/digits/mnistm/data/._41765.png  \n",
            "  inflating: hw2_data/digits/mnistm/data/11152.png  \n",
            "  inflating: __MACOSX/hw2_data/digits/mnistm/data/._11152.png  \n",
            "  inflating: hw2_data/digits/mnistm/data/31282.png  \n",
            "  inflating: __MACOSX/hw2_data/digits/mnistm/data/._31282.png  \n",
            "  inflating: hw2_data/digits/mnistm/data/01341.png  \n",
            "  inflating: __MACOSX/hw2_data/digits/mnistm/data/._01341.png  \n",
            "  inflating: hw2_data/digits/mnistm/data/47314.png  \n",
            "  inflating: __MACOSX/hw2_data/digits/mnistm/data/._47314.png  \n",
            "  inflating: hw2_data/digits/mnistm/data/48027.png  \n",
            "  inflating: __MACOSX/hw2_data/digits/mnistm/data/._48027.png  \n",
            "  inflating: hw2_data/digits/mnistm/data/50668.png  \n",
            "  inflating: __MACOSX/hw2_data/digits/mnistm/data/._50668.png  \n",
            "  inflating: hw2_data/digits/mnistm/data/21091.png  \n",
            "  inflating: __MACOSX/hw2_data/digits/mnistm/data/._21091.png  \n",
            "  inflating: hw2_data/digits/mnistm/data/22598.png  \n",
            "  inflating: __MACOSX/hw2_data/digits/mnistm/data/._22598.png  \n",
            "  inflating: hw2_data/digits/mnistm/data/53361.png  \n",
            "  inflating: __MACOSX/hw2_data/digits/mnistm/data/._53361.png  \n",
            "  inflating: hw2_data/digits/mnistm/data/15334.png  \n",
            "  inflating: __MACOSX/hw2_data/digits/mnistm/data/._15334.png  \n",
            "  inflating: hw2_data/digits/mnistm/data/02648.png  \n",
            "  inflating: __MACOSX/hw2_data/digits/mnistm/data/._02648.png  \n",
            "  inflating: hw2_data/digits/mnistm/data/05127.png  \n",
            "  inflating: __MACOSX/hw2_data/digits/mnistm/data/._05127.png  \n",
            "  inflating: hw2_data/digits/mnistm/data/43172.png  \n",
            "  inflating: __MACOSX/hw2_data/digits/mnistm/data/._43172.png  \n",
            "  inflating: hw2_data/digits/mnistm/data/33495.png  \n",
            "  inflating: __MACOSX/hw2_data/digits/mnistm/data/._33495.png  \n",
            "  inflating: hw2_data/digits/mnistm/data/04239.png  \n",
            "  inflating: __MACOSX/hw2_data/digits/mnistm/data/._04239.png  \n",
            "  inflating: hw2_data/digits/mnistm/data/55710.png  \n",
            "  inflating: __MACOSX/hw2_data/digits/mnistm/data/._55710.png  \n",
            "  inflating: hw2_data/digits/mnistm/data/13745.png  \n",
            "  inflating: __MACOSX/hw2_data/digits/mnistm/data/._13745.png  \n",
            "  inflating: hw2_data/digits/mnistm/data/02890.png  \n",
            "  inflating: __MACOSX/hw2_data/digits/mnistm/data/._02890.png  \n",
            "  inflating: hw2_data/digits/mnistm/data/32953.png  \n",
            "  inflating: __MACOSX/hw2_data/digits/mnistm/data/._32953.png  \n",
            "  inflating: hw2_data/digits/mnistm/data/23686.png  \n",
            "  inflating: __MACOSX/hw2_data/digits/mnistm/data/._23686.png  \n",
            "  inflating: hw2_data/digits/mnistm/data/03556.png  \n",
            "  inflating: __MACOSX/hw2_data/digits/mnistm/data/._03556.png  \n",
            "  inflating: hw2_data/digits/mnistm/data/45503.png  \n",
            "  inflating: __MACOSX/hw2_data/digits/mnistm/data/._45503.png  \n",
            "  inflating: hw2_data/digits/mnistm/data/15320.png  \n",
            "  inflating: __MACOSX/hw2_data/digits/mnistm/data/._15320.png  \n",
            "  inflating: hw2_data/digits/mnistm/data/53375.png  \n",
            "  inflating: __MACOSX/hw2_data/digits/mnistm/data/._53375.png  \n",
            "  inflating: hw2_data/digits/mnistm/data/13989.png  \n",
            "  inflating: __MACOSX/hw2_data/digits/mnistm/data/._13989.png  \n",
            "  inflating: hw2_data/digits/mnistm/data/44609.png  \n",
            "  inflating: __MACOSX/hw2_data/digits/mnistm/data/._44609.png  \n",
            "  inflating: hw2_data/digits/mnistm/data/43166.png  \n",
            "  inflating: __MACOSX/hw2_data/digits/mnistm/data/._43166.png  \n",
            "  inflating: hw2_data/digits/mnistm/data/05133.png  \n",
            "  inflating: __MACOSX/hw2_data/digits/mnistm/data/._05133.png  \n",
            "  inflating: hw2_data/digits/mnistm/data/42278.png  \n",
            "  inflating: __MACOSX/hw2_data/digits/mnistm/data/._42278.png  \n",
            "  inflating: hw2_data/digits/mnistm/data/33481.png  \n",
            "  inflating: __MACOSX/hw2_data/digits/mnistm/data/._33481.png  \n",
            "  inflating: hw2_data/digits/mnistm/data/02884.png  \n",
            "  inflating: __MACOSX/hw2_data/digits/mnistm/data/._02884.png  \n",
            "  inflating: hw2_data/digits/mnistm/data/13751.png  \n",
            "  inflating: __MACOSX/hw2_data/digits/mnistm/data/._13751.png  \n",
            "  inflating: hw2_data/digits/mnistm/data/55704.png  \n",
            "  inflating: __MACOSX/hw2_data/digits/mnistm/data/._55704.png  \n",
            "  inflating: hw2_data/digits/mnistm/data/23692.png  \n",
            "  inflating: __MACOSX/hw2_data/digits/mnistm/data/._23692.png  \n",
            "  inflating: hw2_data/digits/mnistm/data/32947.png  \n",
            "  inflating: __MACOSX/hw2_data/digits/mnistm/data/._32947.png  \n",
            "  inflating: hw2_data/digits/mnistm/data/45517.png  \n",
            "  inflating: __MACOSX/hw2_data/digits/mnistm/data/._45517.png  \n",
            "  inflating: hw2_data/digits/mnistm/data/03542.png  \n",
            "  inflating: __MACOSX/hw2_data/digits/mnistm/data/._03542.png  \n",
            "  inflating: hw2_data/digits/mnistm/data/26932.png  \n",
            "  inflating: __MACOSX/hw2_data/digits/mnistm/data/._26932.png  \n",
            "  inflating: hw2_data/digits/mnistm/data/18604.png  \n",
            "  inflating: __MACOSX/hw2_data/digits/mnistm/data/._18604.png  \n",
            "  inflating: hw2_data/digits/mnistm/data/17537.png  \n",
            "  inflating: __MACOSX/hw2_data/digits/mnistm/data/._17537.png  \n",
            "  inflating: hw2_data/digits/mnistm/data/51562.png  \n",
            "  inflating: __MACOSX/hw2_data/digits/mnistm/data/._51562.png  \n",
            "  inflating: hw2_data/digits/mnistm/data/08417.png  \n",
            "  inflating: __MACOSX/hw2_data/digits/mnistm/data/._08417.png  \n",
            "  inflating: hw2_data/digits/mnistm/data/10258.png  \n",
            "  inflating: __MACOSX/hw2_data/digits/mnistm/data/._10258.png  \n",
            "  inflating: hw2_data/digits/mnistm/data/30188.png  \n",
            "  inflating: __MACOSX/hw2_data/digits/mnistm/data/._30188.png  \n",
            "  inflating: hw2_data/digits/mnistm/data/41771.png  \n",
            "  inflating: __MACOSX/hw2_data/digits/mnistm/data/._41771.png  \n",
            "  inflating: hw2_data/digits/mnistm/data/07724.png  \n",
            "  inflating: __MACOSX/hw2_data/digits/mnistm/data/._07724.png  \n",
            "  inflating: hw2_data/digits/mnistm/data/39812.png  \n",
            "  inflating: __MACOSX/hw2_data/digits/mnistm/data/._39812.png  \n",
            "  inflating: hw2_data/digits/mnistm/data/11146.png  \n",
            "  inflating: __MACOSX/hw2_data/digits/mnistm/data/._11146.png  \n",
            "  inflating: hw2_data/digits/mnistm/data/09709.png  \n",
            "  inflating: __MACOSX/hw2_data/digits/mnistm/data/._09709.png  \n",
            "  inflating: hw2_data/digits/mnistm/data/31296.png  \n",
            "  inflating: __MACOSX/hw2_data/digits/mnistm/data/._31296.png  \n",
            "  inflating: hw2_data/digits/mnistm/data/47300.png  \n",
            "  inflating: __MACOSX/hw2_data/digits/mnistm/data/._47300.png  \n",
            "  inflating: hw2_data/digits/mnistm/data/01355.png  \n",
            "  inflating: __MACOSX/hw2_data/digits/mnistm/data/._01355.png  \n",
            "  inflating: hw2_data/digits/mnistm/data/21085.png  \n",
            "  inflating: __MACOSX/hw2_data/digits/mnistm/data/._21085.png  \n",
            "  inflating: hw2_data/digits/mnistm/data/48033.png  \n",
            "  inflating: __MACOSX/hw2_data/digits/mnistm/data/._48033.png  \n",
            "  inflating: hw2_data/digits/mnistm/data/16629.png  \n",
            "  inflating: __MACOSX/hw2_data/digits/mnistm/data/._16629.png  \n",
            "  inflating: hw2_data/digits/mnistm/data/47466.png  \n",
            "  inflating: __MACOSX/hw2_data/digits/mnistm/data/._47466.png  \n",
            "  inflating: hw2_data/digits/mnistm/data/01433.png  \n",
            "  inflating: __MACOSX/hw2_data/digits/mnistm/data/._01433.png  \n",
            "  inflating: hw2_data/digits/mnistm/data/30836.png  \n",
            "  inflating: __MACOSX/hw2_data/digits/mnistm/data/._30836.png  \n",
            "  inflating: hw2_data/digits/mnistm/data/48755.png  \n",
            "  inflating: __MACOSX/hw2_data/digits/mnistm/data/._48755.png  \n",
            "  inflating: hw2_data/digits/mnistm/data/11620.png  \n",
            "  inflating: __MACOSX/hw2_data/digits/mnistm/data/._11620.png  \n",
            "  inflating: hw2_data/digits/mnistm/data/40309.png  \n",
            "  inflating: __MACOSX/hw2_data/digits/mnistm/data/._40309.png  \n",
            "  inflating: hw2_data/digits/mnistm/data/27392.png  \n",
            "  inflating: __MACOSX/hw2_data/digits/mnistm/data/._27392.png  \n",
            "  inflating: hw2_data/digits/mnistm/data/08371.png  \n",
            "  inflating: __MACOSX/hw2_data/digits/mnistm/data/._08371.png  \n",
            "  inflating: hw2_data/digits/mnistm/data/41017.png  \n",
            "  inflating: __MACOSX/hw2_data/digits/mnistm/data/._41017.png  \n",
            "  inflating: hw2_data/digits/mnistm/data/07042.png  \n",
            "  inflating: __MACOSX/hw2_data/digits/mnistm/data/._07042.png  \n",
            "  inflating: hw2_data/digits/mnistm/data/37181.png  \n",
            "  inflating: __MACOSX/hw2_data/digits/mnistm/data/._37181.png  \n",
            "  inflating: hw2_data/digits/mnistm/data/46778.png  \n",
            "  inflating: __MACOSX/hw2_data/digits/mnistm/data/._46778.png  \n",
            "  inflating: hw2_data/digits/mnistm/data/18162.png  \n",
            "  inflating: __MACOSX/hw2_data/digits/mnistm/data/._18162.png  \n",
            "  inflating: hw2_data/digits/mnistm/data/17251.png  \n",
            "  inflating: __MACOSX/hw2_data/digits/mnistm/data/._17251.png  \n",
            "  inflating: hw2_data/digits/mnistm/data/51204.png  \n",
            "  inflating: __MACOSX/hw2_data/digits/mnistm/data/._51204.png  \n",
            "  inflating: hw2_data/digits/mnistm/data/14758.png  \n",
            "  inflating: __MACOSX/hw2_data/digits/mnistm/data/._14758.png  \n",
            "  inflating: hw2_data/digits/mnistm/data/45271.png  \n",
            "  inflating: __MACOSX/hw2_data/digits/mnistm/data/._45271.png  \n",
            "  inflating: hw2_data/digits/mnistm/data/34488.png  \n",
            "  inflating: __MACOSX/hw2_data/digits/mnistm/data/._34488.png  \n",
            "  inflating: hw2_data/digits/mnistm/data/03224.png  \n",
            "  inflating: __MACOSX/hw2_data/digits/mnistm/data/._03224.png  \n",
            "  inflating: hw2_data/digits/mnistm/data/13037.png  \n",
            "  inflating: __MACOSX/hw2_data/digits/mnistm/data/._13037.png  \n",
            "  inflating: hw2_data/digits/mnistm/data/55062.png  \n",
            "  inflating: __MACOSX/hw2_data/digits/mnistm/data/._55062.png  \n",
            "  inflating: hw2_data/digits/mnistm/data/43600.png  \n",
            "  inflating: __MACOSX/hw2_data/digits/mnistm/data/._43600.png  \n",
            "  inflating: hw2_data/digits/mnistm/data/14980.png  \n",
            "  inflating: __MACOSX/hw2_data/digits/mnistm/data/._14980.png  \n",
            "  inflating: hw2_data/digits/mnistm/data/05655.png  \n",
            "  inflating: __MACOSX/hw2_data/digits/mnistm/data/._05655.png  \n",
            "  inflating: hw2_data/digits/mnistm/data/25585.png  \n",
            "  inflating: __MACOSX/hw2_data/digits/mnistm/data/._25585.png  \n",
            "  inflating: hw2_data/digits/mnistm/data/12329.png  \n",
            "  inflating: __MACOSX/hw2_data/digits/mnistm/data/._12329.png  \n",
            "  inflating: hw2_data/digits/mnistm/data/15446.png  \n",
            "  inflating: __MACOSX/hw2_data/digits/mnistm/data/._15446.png  \n",
            "  inflating: hw2_data/digits/mnistm/data/53413.png  \n",
            "  inflating: __MACOSX/hw2_data/digits/mnistm/data/._53413.png  \n",
            "  inflating: hw2_data/digits/mnistm/data/35796.png  \n",
            "  inflating: __MACOSX/hw2_data/digits/mnistm/data/._35796.png  \n",
            "  inflating: hw2_data/digits/mnistm/data/24843.png  \n",
            "  inflating: __MACOSX/hw2_data/digits/mnistm/data/._24843.png  \n",
            "  inflating: hw2_data/digits/mnistm/data/54397.png  \n",
            "  inflating: __MACOSX/hw2_data/digits/mnistm/data/._54397.png  \n",
            "  inflating: hw2_data/digits/mnistm/data/32012.png  \n",
            "  inflating: __MACOSX/hw2_data/digits/mnistm/data/._32012.png  \n",
            "  inflating: hw2_data/digits/mnistm/data/44184.png  \n",
            "  inflating: __MACOSX/hw2_data/digits/mnistm/data/._44184.png  \n",
            "  inflating: hw2_data/digits/mnistm/data/22201.png  \n",
            "  inflating: __MACOSX/hw2_data/digits/mnistm/data/._22201.png  \n",
            "  inflating: hw2_data/digits/mnistm/data/34463.png  \n",
            "  inflating: __MACOSX/hw2_data/digits/mnistm/data/._34463.png  \n",
            "  inflating: hw2_data/digits/mnistm/data/43833.png  \n",
            "  inflating: __MACOSX/hw2_data/digits/mnistm/data/._43833.png  \n",
            "  inflating: hw2_data/digits/mnistm/data/05866.png  \n",
            "  inflating: __MACOSX/hw2_data/digits/mnistm/data/._05866.png  \n",
            "  inflating: hw2_data/digits/mnistm/data/55089.png  \n",
            "  inflating: __MACOSX/hw2_data/digits/mnistm/data/._55089.png  \n",
            "  inflating: hw2_data/digits/mnistm/data/24670.png  \n",
            "  inflating: __MACOSX/hw2_data/digits/mnistm/data/._24670.png  \n",
            "  inflating: hw2_data/digits/mnistm/data/30605.png  \n",
            "  inflating: __MACOSX/hw2_data/digits/mnistm/data/._30605.png  \n",
            "  inflating: hw2_data/digits/mnistm/data/48966.png  \n",
            "  inflating: __MACOSX/hw2_data/digits/mnistm/data/._48966.png  \n",
            "  inflating: hw2_data/digits/mnistm/data/27379.png  \n",
            "  inflating: __MACOSX/hw2_data/digits/mnistm/data/._27379.png  \n",
            "  inflating: hw2_data/digits/mnistm/data/38259.png  \n",
            "  inflating: __MACOSX/hw2_data/digits/mnistm/data/._38259.png  \n",
            "  inflating: hw2_data/digits/mnistm/data/20416.png  \n",
            "  inflating: __MACOSX/hw2_data/digits/mnistm/data/._20416.png  \n",
            "  inflating: hw2_data/digits/mnistm/data/11813.png  \n",
            "  inflating: __MACOSX/hw2_data/digits/mnistm/data/._11813.png  \n",
            "  inflating: hw2_data/digits/mnistm/data/46793.png  \n",
            "  inflating: __MACOSX/hw2_data/digits/mnistm/data/._46793.png  \n",
            "  inflating: hw2_data/digits/mnistm/data/18189.png  \n",
            "  inflating: __MACOSX/hw2_data/digits/mnistm/data/._18189.png  \n",
            "  inflating: hw2_data/digits/mnistm/data/21708.png  \n",
            "  inflating: __MACOSX/hw2_data/digits/mnistm/data/._21708.png  \n",
            "  inflating: hw2_data/digits/mnistm/data/39147.png  \n",
            "  inflating: __MACOSX/hw2_data/digits/mnistm/data/._39147.png  \n",
            "  inflating: hw2_data/digits/mnistm/data/19297.png  \n",
            "  inflating: __MACOSX/hw2_data/digits/mnistm/data/._19297.png  \n",
            "  inflating: hw2_data/digits/mnistm/data/36274.png  \n",
            "  inflating: __MACOSX/hw2_data/digits/mnistm/data/._36274.png  \n",
            "  inflating: hw2_data/digits/mnistm/data/29354.png  \n",
            "  inflating: __MACOSX/hw2_data/digits/mnistm/data/._29354.png  \n",
            "  inflating: hw2_data/digits/mnistm/data/09084.png  \n",
            "  inflating: __MACOSX/hw2_data/digits/mnistm/data/._09084.png  \n",
            "  inflating: hw2_data/digits/mnistm/data/26067.png  \n",
            "  inflating: __MACOSX/hw2_data/digits/mnistm/data/._26067.png  \n",
            "  inflating: hw2_data/digits/mnistm/data/29432.png  \n",
            "  inflating: __MACOSX/hw2_data/digits/mnistm/data/._29432.png  \n",
            "  inflating: hw2_data/digits/mnistm/data/40484.png  \n",
            "  inflating: __MACOSX/hw2_data/digits/mnistm/data/._40484.png  \n",
            "  inflating: hw2_data/digits/mnistm/data/26701.png  \n",
            "  inflating: __MACOSX/hw2_data/digits/mnistm/data/._26701.png  \n",
            "  inflating: hw2_data/digits/mnistm/data/18837.png  \n",
            "  inflating: __MACOSX/hw2_data/digits/mnistm/data/._18837.png  \n",
            "  inflating: hw2_data/digits/mnistm/data/41942.png  \n",
            "  inflating: __MACOSX/hw2_data/digits/mnistm/data/._41942.png  \n",
            "  inflating: hw2_data/digits/mnistm/data/50697.png  \n",
            "  inflating: __MACOSX/hw2_data/digits/mnistm/data/._50697.png  \n",
            "  inflating: hw2_data/digits/mnistm/data/07917.png  \n",
            "  inflating: __MACOSX/hw2_data/digits/mnistm/data/._07917.png  \n",
            "  inflating: hw2_data/digits/mnistm/data/39621.png  \n",
            "  inflating: __MACOSX/hw2_data/digits/mnistm/data/._39621.png  \n",
            "  inflating: hw2_data/digits/mnistm/data/36512.png  \n",
            "  inflating: __MACOSX/hw2_data/digits/mnistm/data/._36512.png  \n",
            "  inflating: hw2_data/digits/mnistm/data/20370.png  \n",
            "  inflating: __MACOSX/hw2_data/digits/mnistm/data/._20370.png  \n",
            "  inflating: hw2_data/digits/mnistm/data/51589.png  \n",
            "  inflating: __MACOSX/hw2_data/digits/mnistm/data/._51589.png  \n",
            "  inflating: hw2_data/digits/mnistm/data/30163.png  \n",
            "  inflating: __MACOSX/hw2_data/digits/mnistm/data/._30163.png  \n",
            "  inflating: hw2_data/digits/mnistm/data/24116.png  \n",
            "  inflating: __MACOSX/hw2_data/digits/mnistm/data/._24116.png  \n",
            "  inflating: hw2_data/digits/mnistm/data/42293.png  \n",
            "  inflating: __MACOSX/hw2_data/digits/mnistm/data/._42293.png  \n",
            "  inflating: hw2_data/digits/mnistm/data/34305.png  \n",
            "  inflating: __MACOSX/hw2_data/digits/mnistm/data/._34305.png  \n",
            "  inflating: hw2_data/digits/mnistm/data/52080.png  \n",
            "  inflating: __MACOSX/hw2_data/digits/mnistm/data/._52080.png  \n",
            "  inflating: hw2_data/digits/mnistm/data/23679.png  \n",
            "  inflating: __MACOSX/hw2_data/digits/mnistm/data/._23679.png  \n",
            "  inflating: hw2_data/digits/mnistm/data/13962.png  \n",
            "  inflating: __MACOSX/hw2_data/digits/mnistm/data/._13962.png  \n",
            "  inflating: hw2_data/digits/mnistm/data/55937.png  \n",
            "  inflating: __MACOSX/hw2_data/digits/mnistm/data/._55937.png  \n",
            "  inflating: hw2_data/digits/mnistm/data/22567.png  \n",
            "  inflating: __MACOSX/hw2_data/digits/mnistm/data/._22567.png  \n",
            "  inflating: hw2_data/digits/mnistm/data/25208.png  \n",
            "  inflating: __MACOSX/hw2_data/digits/mnistm/data/._25208.png  \n",
            "  inflating: hw2_data/digits/mnistm/data/32774.png  \n",
            "  inflating: __MACOSX/hw2_data/digits/mnistm/data/._32774.png  \n",
            "  inflating: hw2_data/digits/mnistm/data/24102.png  \n",
            "  inflating: __MACOSX/hw2_data/digits/mnistm/data/._24102.png  \n",
            "  inflating: hw2_data/digits/mnistm/data/42287.png  \n",
            "  inflating: __MACOSX/hw2_data/digits/mnistm/data/._42287.png  \n",
            "  inflating: hw2_data/digits/mnistm/data/34311.png  \n",
            "  inflating: __MACOSX/hw2_data/digits/mnistm/data/._34311.png  \n",
            "  inflating: hw2_data/digits/mnistm/data/52094.png  \n",
            "  inflating: __MACOSX/hw2_data/digits/mnistm/data/._52094.png  \n",
            "  inflating: hw2_data/digits/mnistm/data/55923.png  \n",
            "  inflating: __MACOSX/hw2_data/digits/mnistm/data/._55923.png  \n",
            "  inflating: hw2_data/digits/mnistm/data/13976.png  \n",
            "  inflating: __MACOSX/hw2_data/digits/mnistm/data/._13976.png  \n",
            "  inflating: hw2_data/digits/mnistm/data/22573.png  \n",
            "  inflating: __MACOSX/hw2_data/digits/mnistm/data/._22573.png  \n",
            "  inflating: hw2_data/digits/mnistm/data/32760.png  \n",
            "  inflating: __MACOSX/hw2_data/digits/mnistm/data/._32760.png  \n",
            "  inflating: hw2_data/digits/mnistm/data/43199.png  \n",
            "  inflating: __MACOSX/hw2_data/digits/mnistm/data/._43199.png  \n",
            "  inflating: hw2_data/digits/mnistm/data/40490.png  \n",
            "  inflating: __MACOSX/hw2_data/digits/mnistm/data/._40490.png  \n",
            "  inflating: hw2_data/digits/mnistm/data/31269.png  \n",
            "  inflating: __MACOSX/hw2_data/digits/mnistm/data/._31269.png  \n",
            "  inflating: hw2_data/digits/mnistm/data/29426.png  \n",
            "  inflating: __MACOSX/hw2_data/digits/mnistm/data/._29426.png  \n",
            "  inflating: hw2_data/digits/mnistm/data/18823.png  \n",
            "  inflating: __MACOSX/hw2_data/digits/mnistm/data/._18823.png  \n",
            "  inflating: hw2_data/digits/mnistm/data/26715.png  \n",
            "  inflating: __MACOSX/hw2_data/digits/mnistm/data/._26715.png  \n",
            "  inflating: hw2_data/digits/mnistm/data/39635.png  \n",
            "  inflating: __MACOSX/hw2_data/digits/mnistm/data/._39635.png  \n",
            "  inflating: hw2_data/digits/mnistm/data/07903.png  \n",
            "  inflating: __MACOSX/hw2_data/digits/mnistm/data/._07903.png  \n",
            "  inflating: hw2_data/digits/mnistm/data/50683.png  \n",
            "  inflating: __MACOSX/hw2_data/digits/mnistm/data/._50683.png  \n",
            "  inflating: hw2_data/digits/mnistm/data/41956.png  \n",
            "  inflating: __MACOSX/hw2_data/digits/mnistm/data/._41956.png  \n",
            "  inflating: hw2_data/digits/mnistm/data/36506.png  \n",
            "  inflating: __MACOSX/hw2_data/digits/mnistm/data/._36506.png  \n",
            "  inflating: hw2_data/digits/mnistm/data/20364.png  \n",
            "  inflating: __MACOSX/hw2_data/digits/mnistm/data/._20364.png  \n",
            "  inflating: hw2_data/digits/mnistm/data/37618.png  \n",
            "  inflating: __MACOSX/hw2_data/digits/mnistm/data/._37618.png  \n",
            "  inflating: hw2_data/digits/mnistm/data/28738.png  \n",
            "  inflating: __MACOSX/hw2_data/digits/mnistm/data/._28738.png  \n",
            "  inflating: hw2_data/digits/mnistm/data/30177.png  \n",
            "  inflating: __MACOSX/hw2_data/digits/mnistm/data/._30177.png  \n",
            "  inflating: hw2_data/digits/mnistm/data/48972.png  \n",
            "  inflating: __MACOSX/hw2_data/digits/mnistm/data/._48972.png  \n",
            "  inflating: hw2_data/digits/mnistm/data/30611.png  \n",
            "  inflating: __MACOSX/hw2_data/digits/mnistm/data/._30611.png  \n",
            "  inflating: hw2_data/digits/mnistm/data/20402.png  \n",
            "  inflating: __MACOSX/hw2_data/digits/mnistm/data/._20402.png  \n",
            "  inflating: hw2_data/digits/mnistm/data/46787.png  \n",
            "  inflating: __MACOSX/hw2_data/digits/mnistm/data/._46787.png  \n",
            "  inflating: hw2_data/digits/mnistm/data/11807.png  \n",
            "  inflating: __MACOSX/hw2_data/digits/mnistm/data/._11807.png  \n",
            "  inflating: hw2_data/digits/mnistm/data/39153.png  \n",
            "  inflating: __MACOSX/hw2_data/digits/mnistm/data/._39153.png  \n",
            "  inflating: hw2_data/digits/mnistm/data/47499.png  \n",
            "  inflating: __MACOSX/hw2_data/digits/mnistm/data/._47499.png  \n",
            "  inflating: hw2_data/digits/mnistm/data/36260.png  \n",
            "  inflating: __MACOSX/hw2_data/digits/mnistm/data/._36260.png  \n",
            "  inflating: hw2_data/digits/mnistm/data/19283.png  \n",
            "  inflating: __MACOSX/hw2_data/digits/mnistm/data/._19283.png  \n",
            "  inflating: hw2_data/digits/mnistm/data/29340.png  \n",
            "  inflating: __MACOSX/hw2_data/digits/mnistm/data/._29340.png  \n",
            "  inflating: hw2_data/digits/mnistm/data/26073.png  \n",
            "  inflating: __MACOSX/hw2_data/digits/mnistm/data/._26073.png  \n",
            "  inflating: hw2_data/digits/mnistm/data/09090.png  \n",
            "  inflating: __MACOSX/hw2_data/digits/mnistm/data/._09090.png  \n",
            "  inflating: hw2_data/digits/mnistm/data/54383.png  \n",
            "  inflating: __MACOSX/hw2_data/digits/mnistm/data/._54383.png  \n",
            "  inflating: hw2_data/digits/mnistm/data/32006.png  \n",
            "  inflating: __MACOSX/hw2_data/digits/mnistm/data/._32006.png  \n",
            "  inflating: hw2_data/digits/mnistm/data/35769.png  \n",
            "  inflating: __MACOSX/hw2_data/digits/mnistm/data/._35769.png  \n",
            "  inflating: hw2_data/digits/mnistm/data/44190.png  \n",
            "  inflating: __MACOSX/hw2_data/digits/mnistm/data/._44190.png  \n",
            "  inflating: hw2_data/digits/mnistm/data/22215.png  \n",
            "  inflating: __MACOSX/hw2_data/digits/mnistm/data/._22215.png  \n",
            "  inflating: hw2_data/digits/mnistm/data/34477.png  \n",
            "  inflating: __MACOSX/hw2_data/digits/mnistm/data/._34477.png  \n",
            "  inflating: hw2_data/digits/mnistm/data/05872.png  \n",
            "  inflating: __MACOSX/hw2_data/digits/mnistm/data/._05872.png  \n",
            "  inflating: hw2_data/digits/mnistm/data/43827.png  \n",
            "  inflating: __MACOSX/hw2_data/digits/mnistm/data/._43827.png  \n",
            "  inflating: hw2_data/digits/mnistm/data/24664.png  \n",
            "  inflating: __MACOSX/hw2_data/digits/mnistm/data/._24664.png  \n",
            "  inflating: hw2_data/digits/mnistm/data/33318.png  \n",
            "  inflating: __MACOSX/hw2_data/digits/mnistm/data/._33318.png  \n",
            "  inflating: hw2_data/digits/mnistm/data/27345.png  \n",
            "  inflating: __MACOSX/hw2_data/digits/mnistm/data/._27345.png  \n",
            "  inflating: hw2_data/digits/mnistm/data/30639.png  \n",
            "  inflating: __MACOSX/hw2_data/digits/mnistm/data/._30639.png  \n",
            "  inflating: hw2_data/digits/mnistm/data/07095.png  \n",
            "  inflating: __MACOSX/hw2_data/digits/mnistm/data/._07095.png  \n",
            "  inflating: hw2_data/digits/mnistm/data/28076.png  \n",
            "  inflating: __MACOSX/hw2_data/digits/mnistm/data/._28076.png  \n",
            "  inflating: hw2_data/digits/mnistm/data/37156.png  \n",
            "  inflating: __MACOSX/hw2_data/digits/mnistm/data/._37156.png  \n",
            "  inflating: hw2_data/digits/mnistm/data/17286.png  \n",
            "  inflating: __MACOSX/hw2_data/digits/mnistm/data/._17286.png  \n",
            "  inflating: hw2_data/digits/mnistm/data/38265.png  \n",
            "  inflating: __MACOSX/hw2_data/digits/mnistm/data/._38265.png  \n",
            "  inflating: hw2_data/digits/mnistm/data/36248.png  \n",
            "  inflating: __MACOSX/hw2_data/digits/mnistm/data/._36248.png  \n",
            "  inflating: hw2_data/digits/mnistm/data/21734.png  \n",
            "  inflating: __MACOSX/hw2_data/digits/mnistm/data/._21734.png  \n",
            "  inflating: hw2_data/digits/mnistm/data/48782.png  \n",
            "  inflating: __MACOSX/hw2_data/digits/mnistm/data/._48782.png  \n",
            "  inflating: hw2_data/digits/mnistm/data/16198.png  \n",
            "  inflating: __MACOSX/hw2_data/digits/mnistm/data/._16198.png  \n",
            "  inflating: hw2_data/digits/mnistm/data/00922.png  \n",
            "  inflating: __MACOSX/hw2_data/digits/mnistm/data/._00922.png  \n",
            "  inflating: hw2_data/digits/mnistm/data/46977.png  \n",
            "  inflating: __MACOSX/hw2_data/digits/mnistm/data/._46977.png  \n",
            "  inflating: hw2_data/digits/mnistm/data/29368.png  \n",
            "  inflating: __MACOSX/hw2_data/digits/mnistm/data/._29368.png  \n",
            "  inflating: hw2_data/digits/mnistm/data/31527.png  \n",
            "  inflating: __MACOSX/hw2_data/digits/mnistm/data/._31527.png  \n",
            "  inflating: hw2_data/digits/mnistm/data/52902.png  \n",
            "  inflating: __MACOSX/hw2_data/digits/mnistm/data/._52902.png  \n",
            "  inflating: hw2_data/digits/mnistm/data/05682.png  \n",
            "  inflating: __MACOSX/hw2_data/digits/mnistm/data/._05682.png  \n",
            "  inflating: hw2_data/digits/mnistm/data/14957.png  \n",
            "  inflating: __MACOSX/hw2_data/digits/mnistm/data/._14957.png  \n",
            "  inflating: hw2_data/digits/mnistm/data/25552.png  \n",
            "  inflating: __MACOSX/hw2_data/digits/mnistm/data/._25552.png  \n",
            "  inflating: hw2_data/digits/mnistm/data/15491.png  \n",
            "  inflating: __MACOSX/hw2_data/digits/mnistm/data/._15491.png  \n",
            "  inflating: hw2_data/digits/mnistm/data/24894.png  \n",
            "  inflating: __MACOSX/hw2_data/digits/mnistm/data/._24894.png  \n",
            "  inflating: hw2_data/digits/mnistm/data/35741.png  \n",
            "  inflating: __MACOSX/hw2_data/digits/mnistm/data/._35741.png  \n",
            "  inflating: hw2_data/digits/mnistm/data/23123.png  \n",
            "  inflating: __MACOSX/hw2_data/digits/mnistm/data/._23123.png  \n",
            "  inflating: hw2_data/digits/mnistm/data/33330.png  \n",
            "  inflating: __MACOSX/hw2_data/digits/mnistm/data/._33330.png  \n",
            "  inflating: hw2_data/digits/mnistm/data/35999.png  \n",
            "  inflating: __MACOSX/hw2_data/digits/mnistm/data/._35999.png  \n",
            "  inflating: hw2_data/digits/mnistm/data/33456.png  \n",
            "  inflating: __MACOSX/hw2_data/digits/mnistm/data/._33456.png  \n",
            "  inflating: hw2_data/digits/mnistm/data/13786.png  \n",
            "  inflating: __MACOSX/hw2_data/digits/mnistm/data/._13786.png  \n",
            "  inflating: hw2_data/digits/mnistm/data/02853.png  \n",
            "  inflating: __MACOSX/hw2_data/digits/mnistm/data/._02853.png  \n",
            "  inflating: hw2_data/digits/mnistm/data/44806.png  \n",
            "  inflating: __MACOSX/hw2_data/digits/mnistm/data/._44806.png  \n",
            "  inflating: hw2_data/digits/mnistm/data/32990.png  \n",
            "  inflating: __MACOSX/hw2_data/digits/mnistm/data/._32990.png  \n",
            "  inflating: hw2_data/digits/mnistm/data/23645.png  \n",
            "  inflating: __MACOSX/hw2_data/digits/mnistm/data/._23645.png  \n",
            "  inflating: hw2_data/digits/mnistm/data/34339.png  \n",
            "  inflating: __MACOSX/hw2_data/digits/mnistm/data/._34339.png  \n",
            "  inflating: hw2_data/digits/mnistm/data/03595.png  \n",
            "  inflating: __MACOSX/hw2_data/digits/mnistm/data/._03595.png  \n",
            "  inflating: hw2_data/digits/mnistm/data/35027.png  \n",
            "  inflating: __MACOSX/hw2_data/digits/mnistm/data/._35027.png  \n",
            "  inflating: hw2_data/digits/mnistm/data/32748.png  \n",
            "  inflating: __MACOSX/hw2_data/digits/mnistm/data/._32748.png  \n",
            "  inflating: hw2_data/digits/mnistm/data/25234.png  \n",
            "  inflating: __MACOSX/hw2_data/digits/mnistm/data/._25234.png  \n",
            "  inflating: hw2_data/digits/mnistm/data/12498.png  \n",
            "  inflating: __MACOSX/hw2_data/digits/mnistm/data/._12498.png  \n",
            "  inflating: hw2_data/digits/mnistm/data/11191.png  \n",
            "  inflating: __MACOSX/hw2_data/digits/mnistm/data/._11191.png  \n",
            "  inflating: hw2_data/digits/mnistm/data/31241.png  \n",
            "  inflating: __MACOSX/hw2_data/digits/mnistm/data/._31241.png  \n",
            "  inflating: hw2_data/digits/mnistm/data/01382.png  \n",
            "  inflating: __MACOSX/hw2_data/digits/mnistm/data/._01382.png  \n",
            "  inflating: hw2_data/digits/mnistm/data/21052.png  \n",
            "  inflating: __MACOSX/hw2_data/digits/mnistm/data/._21052.png  \n",
            "  inflating: hw2_data/digits/mnistm/data/37630.png  \n",
            "  inflating: __MACOSX/hw2_data/digits/mnistm/data/._37630.png  \n",
            "  inflating: hw2_data/digits/mnistm/data/09906.png  \n",
            "  inflating: __MACOSX/hw2_data/digits/mnistm/data/._09906.png  \n",
            "  inflating: hw2_data/digits/mnistm/data/38503.png  \n",
            "  inflating: __MACOSX/hw2_data/digits/mnistm/data/._38503.png  \n",
            "  inflating: hw2_data/digits/mnistm/data/27423.png  \n",
            "  inflating: __MACOSX/hw2_data/digits/mnistm/data/._27423.png  \n",
            "  inflating: hw2_data/digits/mnistm/data/50873.png  \n",
            "  inflating: __MACOSX/hw2_data/digits/mnistm/data/._50873.png  \n",
            "  inflating: hw2_data/digits/mnistm/data/16826.png  \n",
            "  inflating: __MACOSX/hw2_data/digits/mnistm/data/._16826.png  \n",
            "  inflating: hw2_data/digits/mnistm/data/28710.png  \n",
            "  inflating: __MACOSX/hw2_data/digits/mnistm/data/._28710.png  \n",
            "  inflating: hw2_data/digits/mnistm/data/26729.png  \n",
            "  inflating: __MACOSX/hw2_data/digits/mnistm/data/._26729.png  \n",
            "  inflating: hw2_data/digits/mnistm/data/11185.png  \n",
            "  inflating: __MACOSX/hw2_data/digits/mnistm/data/._11185.png  \n",
            "  inflating: hw2_data/digits/mnistm/data/31255.png  \n",
            "  inflating: __MACOSX/hw2_data/digits/mnistm/data/._31255.png  \n",
            "  inflating: hw2_data/digits/mnistm/data/01396.png  \n",
            "  inflating: __MACOSX/hw2_data/digits/mnistm/data/._01396.png  \n",
            "  inflating: hw2_data/digits/mnistm/data/39609.png  \n",
            "  inflating: __MACOSX/hw2_data/digits/mnistm/data/._39609.png  \n",
            "  inflating: hw2_data/digits/mnistm/data/21046.png  \n",
            "  inflating: __MACOSX/hw2_data/digits/mnistm/data/._21046.png  \n",
            "  inflating: hw2_data/digits/mnistm/data/09912.png  \n",
            "  inflating: __MACOSX/hw2_data/digits/mnistm/data/._09912.png  \n",
            "  inflating: hw2_data/digits/mnistm/data/37624.png  \n",
            "  inflating: __MACOSX/hw2_data/digits/mnistm/data/._37624.png  \n",
            "  inflating: hw2_data/digits/mnistm/data/00088.png  \n",
            "  inflating: __MACOSX/hw2_data/digits/mnistm/data/._00088.png  \n",
            "  inflating: hw2_data/digits/mnistm/data/20358.png  \n",
            "  inflating: __MACOSX/hw2_data/digits/mnistm/data/._20358.png  \n",
            "  inflating: hw2_data/digits/mnistm/data/38517.png  \n",
            "  inflating: __MACOSX/hw2_data/digits/mnistm/data/._38517.png  \n",
            "  inflating: hw2_data/digits/mnistm/data/27437.png  \n",
            "  inflating: __MACOSX/hw2_data/digits/mnistm/data/._27437.png  \n",
            "  inflating: hw2_data/digits/mnistm/data/28704.png  \n",
            "  inflating: __MACOSX/hw2_data/digits/mnistm/data/._28704.png  \n",
            "  inflating: hw2_data/digits/mnistm/data/16832.png  \n",
            "  inflating: __MACOSX/hw2_data/digits/mnistm/data/._16832.png  \n",
            "  inflating: hw2_data/digits/mnistm/data/50867.png  \n",
            "  inflating: __MACOSX/hw2_data/digits/mnistm/data/._50867.png  \n",
            "  inflating: hw2_data/digits/mnistm/data/33442.png  \n",
            "  inflating: __MACOSX/hw2_data/digits/mnistm/data/._33442.png  \n",
            "  inflating: hw2_data/digits/mnistm/data/44812.png  \n",
            "  inflating: __MACOSX/hw2_data/digits/mnistm/data/._44812.png  \n",
            "  inflating: hw2_data/digits/mnistm/data/02847.png  \n",
            "  inflating: __MACOSX/hw2_data/digits/mnistm/data/._02847.png  \n",
            "  inflating: hw2_data/digits/mnistm/data/13792.png  \n",
            "  inflating: __MACOSX/hw2_data/digits/mnistm/data/._13792.png  \n",
            "  inflating: hw2_data/digits/mnistm/data/23651.png  \n",
            "  inflating: __MACOSX/hw2_data/digits/mnistm/data/._23651.png  \n",
            "  inflating: hw2_data/digits/mnistm/data/32984.png  \n",
            "  inflating: __MACOSX/hw2_data/digits/mnistm/data/._32984.png  \n",
            "  inflating: hw2_data/digits/mnistm/data/03581.png  \n",
            "  inflating: __MACOSX/hw2_data/digits/mnistm/data/._03581.png  \n",
            "  inflating: hw2_data/digits/mnistm/data/35033.png  \n",
            "  inflating: __MACOSX/hw2_data/digits/mnistm/data/._35033.png  \n",
            "  inflating: hw2_data/digits/mnistm/data/23889.png  \n",
            "  inflating: __MACOSX/hw2_data/digits/mnistm/data/._23889.png  \n",
            "  inflating: hw2_data/digits/mnistm/data/25220.png  \n",
            "  inflating: __MACOSX/hw2_data/digits/mnistm/data/._25220.png  \n",
            "  inflating: hw2_data/digits/mnistm/data/14943.png  \n",
            "  inflating: __MACOSX/hw2_data/digits/mnistm/data/._14943.png  \n",
            "  inflating: hw2_data/digits/mnistm/data/05696.png  \n",
            "  inflating: __MACOSX/hw2_data/digits/mnistm/data/._05696.png  \n",
            "  inflating: hw2_data/digits/mnistm/data/52916.png  \n",
            "  inflating: __MACOSX/hw2_data/digits/mnistm/data/._52916.png  \n",
            "  inflating: hw2_data/digits/mnistm/data/25546.png  \n",
            "  inflating: __MACOSX/hw2_data/digits/mnistm/data/._25546.png  \n",
            "  inflating: hw2_data/digits/mnistm/data/22229.png  \n",
            "  inflating: __MACOSX/hw2_data/digits/mnistm/data/._22229.png  \n",
            "  inflating: hw2_data/digits/mnistm/data/15485.png  \n",
            "  inflating: __MACOSX/hw2_data/digits/mnistm/data/._15485.png  \n",
            "  inflating: hw2_data/digits/mnistm/data/35755.png  \n",
            "  inflating: __MACOSX/hw2_data/digits/mnistm/data/._35755.png  \n",
            "  inflating: hw2_data/digits/mnistm/data/24880.png  \n",
            "  inflating: __MACOSX/hw2_data/digits/mnistm/data/._24880.png  \n",
            "  inflating: hw2_data/digits/mnistm/data/23137.png  \n",
            "  inflating: __MACOSX/hw2_data/digits/mnistm/data/._23137.png  \n",
            "  inflating: hw2_data/digits/mnistm/data/33324.png  \n",
            "  inflating: __MACOSX/hw2_data/digits/mnistm/data/._33324.png  \n",
            "  inflating: hw2_data/digits/mnistm/data/04588.png  \n",
            "  inflating: __MACOSX/hw2_data/digits/mnistm/data/._04588.png  \n",
            "  inflating: hw2_data/digits/mnistm/data/24658.png  \n",
            "  inflating: __MACOSX/hw2_data/digits/mnistm/data/._24658.png  \n",
            "  inflating: hw2_data/digits/mnistm/data/27351.png  \n",
            "  inflating: __MACOSX/hw2_data/digits/mnistm/data/._27351.png  \n",
            "  inflating: hw2_data/digits/mnistm/data/28062.png  \n",
            "  inflating: __MACOSX/hw2_data/digits/mnistm/data/._28062.png  \n",
            "  inflating: hw2_data/digits/mnistm/data/07081.png  \n",
            "  inflating: __MACOSX/hw2_data/digits/mnistm/data/._07081.png  \n",
            "  inflating: hw2_data/digits/mnistm/data/37142.png  \n",
            "  inflating: __MACOSX/hw2_data/digits/mnistm/data/._37142.png  \n",
            "  inflating: hw2_data/digits/mnistm/data/49488.png  \n",
            "  inflating: __MACOSX/hw2_data/digits/mnistm/data/._49488.png  \n",
            "  inflating: hw2_data/digits/mnistm/data/38271.png  \n",
            "  inflating: __MACOSX/hw2_data/digits/mnistm/data/._38271.png  \n",
            "  inflating: hw2_data/digits/mnistm/data/17292.png  \n",
            "  inflating: __MACOSX/hw2_data/digits/mnistm/data/._17292.png  \n",
            "  inflating: hw2_data/digits/mnistm/data/48796.png  \n",
            "  inflating: __MACOSX/hw2_data/digits/mnistm/data/._48796.png  \n",
            "  inflating: hw2_data/digits/mnistm/data/21720.png  \n",
            "  inflating: __MACOSX/hw2_data/digits/mnistm/data/._21720.png  \n",
            "  inflating: hw2_data/digits/mnistm/data/46963.png  \n",
            "  inflating: __MACOSX/hw2_data/digits/mnistm/data/._46963.png  \n",
            "  inflating: hw2_data/digits/mnistm/data/00936.png  \n",
            "  inflating: __MACOSX/hw2_data/digits/mnistm/data/._00936.png  \n",
            "  inflating: hw2_data/digits/mnistm/data/31533.png  \n",
            "  inflating: __MACOSX/hw2_data/digits/mnistm/data/._31533.png  \n",
            "  inflating: hw2_data/digits/mnistm/data/49517.png  \n",
            "  inflating: __MACOSX/hw2_data/digits/mnistm/data/._49517.png  \n",
            "  inflating: hw2_data/digits/mnistm/data/51358.png  \n",
            "  inflating: __MACOSX/hw2_data/digits/mnistm/data/._51358.png  \n",
            "  inflating: hw2_data/digits/mnistm/data/00671.png  \n",
            "  inflating: __MACOSX/hw2_data/digits/mnistm/data/._00671.png  \n",
            "  inflating: hw2_data/digits/mnistm/data/46624.png  \n",
            "  inflating: __MACOSX/hw2_data/digits/mnistm/data/._46624.png  \n",
            "  inflating: hw2_data/digits/mnistm/data/21867.png  \n",
            "  inflating: __MACOSX/hw2_data/digits/mnistm/data/._21867.png  \n",
            "  inflating: hw2_data/digits/mnistm/data/10462.png  \n",
            "  inflating: __MACOSX/hw2_data/digits/mnistm/data/._10462.png  \n",
            "  inflating: hw2_data/digits/mnistm/data/06200.png  \n",
            "  inflating: __MACOSX/hw2_data/digits/mnistm/data/._06200.png  \n",
            "  inflating: hw2_data/digits/mnistm/data/40255.png  \n",
            "  inflating: __MACOSX/hw2_data/digits/mnistm/data/._40255.png  \n",
            "  inflating: hw2_data/digits/mnistm/data/09133.png  \n",
            "  inflating: __MACOSX/hw2_data/digits/mnistm/data/._09133.png  \n",
            "  inflating: hw2_data/digits/mnistm/data/50046.png  \n",
            "  inflating: __MACOSX/hw2_data/digits/mnistm/data/._50046.png  \n",
            "  inflating: hw2_data/digits/mnistm/data/48609.png  \n",
            "  inflating: __MACOSX/hw2_data/digits/mnistm/data/._48609.png  \n",
            "  inflating: hw2_data/digits/mnistm/data/16013.png  \n",
            "  inflating: __MACOSX/hw2_data/digits/mnistm/data/._16013.png  \n",
            "  inflating: hw2_data/digits/mnistm/data/19320.png  \n",
            "  inflating: __MACOSX/hw2_data/digits/mnistm/data/._19320.png  \n",
            "  inflating: hw2_data/digits/mnistm/data/02066.png  \n",
            "  inflating: __MACOSX/hw2_data/digits/mnistm/data/._02066.png  \n",
            "  inflating: hw2_data/digits/mnistm/data/44033.png  \n",
            "  inflating: __MACOSX/hw2_data/digits/mnistm/data/._44033.png  \n",
            "  inflating: hw2_data/digits/mnistm/data/54220.png  \n",
            "  inflating: __MACOSX/hw2_data/digits/mnistm/data/._54220.png  \n",
            "  inflating: hw2_data/digits/mnistm/data/12275.png  \n",
            "  inflating: __MACOSX/hw2_data/digits/mnistm/data/._12275.png  \n",
            "  inflating: hw2_data/digits/mnistm/data/52889.png  \n",
            "  inflating: __MACOSX/hw2_data/digits/mnistm/data/._52889.png  \n",
            "  inflating: hw2_data/digits/mnistm/data/05709.png  \n",
            "  inflating: __MACOSX/hw2_data/digits/mnistm/data/._05709.png  \n",
            "  inflating: hw2_data/digits/mnistm/data/35812.png  \n",
            "  inflating: __MACOSX/hw2_data/digits/mnistm/data/._35812.png  \n",
            "  inflating: hw2_data/digits/mnistm/data/04417.png  \n",
            "  inflating: __MACOSX/hw2_data/digits/mnistm/data/._04417.png  \n",
            "  inflating: hw2_data/digits/mnistm/data/42442.png  \n",
            "  inflating: __MACOSX/hw2_data/digits/mnistm/data/._42442.png  \n",
            "  inflating: hw2_data/digits/mnistm/data/03378.png  \n",
            "  inflating: __MACOSX/hw2_data/digits/mnistm/data/._03378.png  \n",
            "  inflating: hw2_data/digits/mnistm/data/43984.png  \n",
            "  inflating: __MACOSX/hw2_data/digits/mnistm/data/._43984.png  \n",
            "  inflating: hw2_data/digits/mnistm/data/52651.png  \n",
            "  inflating: __MACOSX/hw2_data/digits/mnistm/data/._52651.png  \n",
            "  inflating: hw2_data/digits/mnistm/data/14604.png  \n",
            "  inflating: __MACOSX/hw2_data/digits/mnistm/data/._14604.png  \n",
            "  inflating: hw2_data/digits/mnistm/data/52137.png  \n",
            "  inflating: __MACOSX/hw2_data/digits/mnistm/data/._52137.png  \n",
            "  inflating: hw2_data/digits/mnistm/data/14162.png  \n",
            "  inflating: __MACOSX/hw2_data/digits/mnistm/data/._14162.png  \n",
            "  inflating: hw2_data/digits/mnistm/data/55658.png  \n",
            "  inflating: __MACOSX/hw2_data/digits/mnistm/data/._55658.png  \n",
            "  inflating: hw2_data/digits/mnistm/data/04371.png  \n",
            "  inflating: __MACOSX/hw2_data/digits/mnistm/data/._04371.png  \n",
            "  inflating: hw2_data/digits/mnistm/data/42324.png  \n",
            "  inflating: __MACOSX/hw2_data/digits/mnistm/data/._42324.png  \n",
            "  inflating: hw2_data/digits/mnistm/data/54546.png  \n",
            "  inflating: __MACOSX/hw2_data/digits/mnistm/data/._54546.png  \n",
            "  inflating: hw2_data/digits/mnistm/data/12513.png  \n",
            "  inflating: __MACOSX/hw2_data/digits/mnistm/data/._12513.png  \n",
            "  inflating: hw2_data/digits/mnistm/data/23916.png  \n",
            "  inflating: __MACOSX/hw2_data/digits/mnistm/data/._23916.png  \n",
            "  inflating: hw2_data/digits/mnistm/data/02700.png  \n",
            "  inflating: __MACOSX/hw2_data/digits/mnistm/data/._02700.png  \n",
            "  inflating: hw2_data/digits/mnistm/data/55880.png  \n",
            "  inflating: __MACOSX/hw2_data/digits/mnistm/data/._55880.png  \n",
            "  inflating: hw2_data/digits/mnistm/data/44755.png  \n",
            "  inflating: __MACOSX/hw2_data/digits/mnistm/data/._44755.png  \n",
            "  inflating: hw2_data/digits/mnistm/data/53229.png  \n",
            "  inflating: __MACOSX/hw2_data/digits/mnistm/data/._53229.png  \n",
            "  inflating: hw2_data/digits/mnistm/data/50720.png  \n",
            "  inflating: __MACOSX/hw2_data/digits/mnistm/data/._50720.png  \n",
            "  inflating: hw2_data/digits/mnistm/data/39796.png  \n",
            "  inflating: __MACOSX/hw2_data/digits/mnistm/data/._39796.png  \n",
            "  inflating: hw2_data/digits/mnistm/data/16775.png  \n",
            "  inflating: __MACOSX/hw2_data/digits/mnistm/data/._16775.png  \n",
            "  inflating: hw2_data/digits/mnistm/data/28843.png  \n",
            "  inflating: __MACOSX/hw2_data/digits/mnistm/data/._28843.png  \n",
            "  inflating: hw2_data/digits/mnistm/data/19446.png  \n",
            "  inflating: __MACOSX/hw2_data/digits/mnistm/data/._19446.png  \n",
            "  inflating: hw2_data/digits/mnistm/data/01209.png  \n",
            "  inflating: __MACOSX/hw2_data/digits/mnistm/data/._01209.png  \n",
            "  inflating: hw2_data/digits/mnistm/data/29585.png  \n",
            "  inflating: __MACOSX/hw2_data/digits/mnistm/data/._29585.png  \n",
            "  inflating: hw2_data/digits/mnistm/data/06566.png  \n",
            "  inflating: __MACOSX/hw2_data/digits/mnistm/data/._06566.png  \n",
            "  inflating: hw2_data/digits/mnistm/data/40533.png  \n",
            "  inflating: __MACOSX/hw2_data/digits/mnistm/data/._40533.png  \n",
            "  inflating: hw2_data/digits/mnistm/data/18980.png  \n",
            "  inflating: __MACOSX/hw2_data/digits/mnistm/data/._18980.png  \n",
            "  inflating: hw2_data/digits/mnistm/data/37963.png  \n",
            "  inflating: __MACOSX/hw2_data/digits/mnistm/data/._37963.png  \n",
            "  inflating: hw2_data/digits/mnistm/data/09655.png  \n",
            "  inflating: __MACOSX/hw2_data/digits/mnistm/data/._09655.png  \n",
            "  inflating: hw2_data/digits/mnistm/data/07678.png  \n",
            "  inflating: __MACOSX/hw2_data/digits/mnistm/data/._07678.png  \n",
            "  inflating: hw2_data/digits/mnistm/data/10304.png  \n",
            "  inflating: __MACOSX/hw2_data/digits/mnistm/data/._10304.png  \n",
            "  inflating: hw2_data/digits/mnistm/data/49271.png  \n",
            "  inflating: __MACOSX/hw2_data/digits/mnistm/data/._49271.png  \n",
            "  inflating: hw2_data/digits/mnistm/data/38488.png  \n",
            "  inflating: __MACOSX/hw2_data/digits/mnistm/data/._38488.png  \n",
            "  inflating: hw2_data/digits/mnistm/data/00117.png  \n",
            "  inflating: __MACOSX/hw2_data/digits/mnistm/data/._00117.png  \n",
            "  inflating: hw2_data/digits/mnistm/data/46142.png  \n",
            "  inflating: __MACOSX/hw2_data/digits/mnistm/data/._46142.png  \n",
            "  inflating: hw2_data/digits/mnistm/data/18758.png  \n",
            "  inflating: __MACOSX/hw2_data/digits/mnistm/data/._18758.png  \n",
            "  inflating: hw2_data/digits/mnistm/data/28857.png  \n",
            "  inflating: __MACOSX/hw2_data/digits/mnistm/data/._28857.png  \n",
            "  inflating: hw2_data/digits/mnistm/data/16761.png  \n",
            "  inflating: __MACOSX/hw2_data/digits/mnistm/data/._16761.png  \n",
            "  inflating: hw2_data/digits/mnistm/data/39782.png  \n",
            "  inflating: __MACOSX/hw2_data/digits/mnistm/data/._39782.png  \n",
            "  inflating: hw2_data/digits/mnistm/data/50734.png  \n",
            "  inflating: __MACOSX/hw2_data/digits/mnistm/data/._50734.png  \n",
            "  inflating: hw2_data/digits/mnistm/data/47248.png  \n",
            "  inflating: __MACOSX/hw2_data/digits/mnistm/data/._47248.png  \n",
            "  inflating: hw2_data/digits/mnistm/data/19452.png  \n",
            "  inflating: __MACOSX/hw2_data/digits/mnistm/data/._19452.png  \n",
            "  inflating: hw2_data/digits/mnistm/data/40527.png  \n",
            "  inflating: __MACOSX/hw2_data/digits/mnistm/data/._40527.png  \n",
            "  inflating: hw2_data/digits/mnistm/data/06572.png  \n",
            "  inflating: __MACOSX/hw2_data/digits/mnistm/data/._06572.png  \n",
            "  inflating: hw2_data/digits/mnistm/data/29591.png  \n",
            "  inflating: __MACOSX/hw2_data/digits/mnistm/data/._29591.png  \n",
            "  inflating: hw2_data/digits/mnistm/data/09641.png  \n",
            "  inflating: __MACOSX/hw2_data/digits/mnistm/data/._09641.png  \n",
            "  inflating: hw2_data/digits/mnistm/data/37977.png  \n",
            "  inflating: __MACOSX/hw2_data/digits/mnistm/data/._37977.png  \n",
            "  inflating: hw2_data/digits/mnistm/data/18994.png  \n",
            "  inflating: __MACOSX/hw2_data/digits/mnistm/data/._18994.png  \n",
            "  inflating: hw2_data/digits/mnistm/data/41639.png  \n",
            "  inflating: __MACOSX/hw2_data/digits/mnistm/data/._41639.png  \n",
            "  inflating: hw2_data/digits/mnistm/data/10310.png  \n",
            "  inflating: __MACOSX/hw2_data/digits/mnistm/data/._10310.png  \n",
            "  inflating: hw2_data/digits/mnistm/data/49265.png  \n",
            "  inflating: __MACOSX/hw2_data/digits/mnistm/data/._49265.png  \n",
            "  inflating: hw2_data/digits/mnistm/data/46156.png  \n",
            "  inflating: __MACOSX/hw2_data/digits/mnistm/data/._46156.png  \n",
            "  inflating: hw2_data/digits/mnistm/data/09899.png  \n",
            "  inflating: __MACOSX/hw2_data/digits/mnistm/data/._09899.png  \n",
            "  inflating: hw2_data/digits/mnistm/data/00103.png  \n",
            "  inflating: __MACOSX/hw2_data/digits/mnistm/data/._00103.png  \n",
            "  inflating: hw2_data/digits/mnistm/data/14176.png  \n",
            "  inflating: __MACOSX/hw2_data/digits/mnistm/data/._14176.png  \n",
            "  inflating: hw2_data/digits/mnistm/data/52123.png  \n",
            "  inflating: __MACOSX/hw2_data/digits/mnistm/data/._52123.png  \n",
            "  inflating: hw2_data/digits/mnistm/data/44999.png  \n",
            "  inflating: __MACOSX/hw2_data/digits/mnistm/data/._44999.png  \n",
            "  inflating: hw2_data/digits/mnistm/data/13619.png  \n",
            "  inflating: __MACOSX/hw2_data/digits/mnistm/data/._13619.png  \n",
            "  inflating: hw2_data/digits/mnistm/data/42330.png  \n",
            "  inflating: __MACOSX/hw2_data/digits/mnistm/data/._42330.png  \n",
            "  inflating: hw2_data/digits/mnistm/data/04365.png  \n",
            "  inflating: __MACOSX/hw2_data/digits/mnistm/data/._04365.png  \n",
            "  inflating: hw2_data/digits/mnistm/data/12507.png  \n",
            "  inflating: __MACOSX/hw2_data/digits/mnistm/data/._12507.png  \n",
            "  inflating: hw2_data/digits/mnistm/data/54552.png  \n",
            "  inflating: __MACOSX/hw2_data/digits/mnistm/data/._54552.png  \n",
            "  inflating: hw2_data/digits/mnistm/data/23902.png  \n",
            "  inflating: __MACOSX/hw2_data/digits/mnistm/data/._23902.png  \n",
            "  inflating: hw2_data/digits/mnistm/data/44741.png  \n",
            "  inflating: __MACOSX/hw2_data/digits/mnistm/data/._44741.png  \n",
            "  inflating: hw2_data/digits/mnistm/data/55894.png  \n",
            "  inflating: __MACOSX/hw2_data/digits/mnistm/data/._55894.png  \n",
            "  inflating: hw2_data/digits/mnistm/data/02714.png  \n",
            "  inflating: __MACOSX/hw2_data/digits/mnistm/data/._02714.png  \n",
            "  inflating: hw2_data/digits/mnistm/data/15268.png  \n",
            "  inflating: __MACOSX/hw2_data/digits/mnistm/data/._15268.png  \n",
            "  inflating: hw2_data/digits/mnistm/data/44027.png  \n",
            "  inflating: __MACOSX/hw2_data/digits/mnistm/data/._44027.png  \n",
            "  inflating: hw2_data/digits/mnistm/data/02072.png  \n",
            "  inflating: __MACOSX/hw2_data/digits/mnistm/data/._02072.png  \n",
            "  inflating: hw2_data/digits/mnistm/data/12261.png  \n",
            "  inflating: __MACOSX/hw2_data/digits/mnistm/data/._12261.png  \n",
            "  inflating: hw2_data/digits/mnistm/data/54234.png  \n",
            "  inflating: __MACOSX/hw2_data/digits/mnistm/data/._54234.png  \n",
            "  inflating: hw2_data/digits/mnistm/data/43748.png  \n",
            "  inflating: __MACOSX/hw2_data/digits/mnistm/data/._43748.png  \n",
            "  inflating: hw2_data/digits/mnistm/data/35806.png  \n",
            "  inflating: __MACOSX/hw2_data/digits/mnistm/data/._35806.png  \n",
            "  inflating: hw2_data/digits/mnistm/data/42456.png  \n",
            "  inflating: __MACOSX/hw2_data/digits/mnistm/data/._42456.png  \n",
            "  inflating: hw2_data/digits/mnistm/data/04403.png  \n",
            "  inflating: __MACOSX/hw2_data/digits/mnistm/data/._04403.png  \n",
            "  inflating: hw2_data/digits/mnistm/data/45339.png  \n",
            "  inflating: __MACOSX/hw2_data/digits/mnistm/data/._45339.png  \n",
            "  inflating: hw2_data/digits/mnistm/data/14610.png  \n",
            "  inflating: __MACOSX/hw2_data/digits/mnistm/data/._14610.png  \n",
            "  inflating: hw2_data/digits/mnistm/data/52645.png  \n",
            "  inflating: __MACOSX/hw2_data/digits/mnistm/data/._52645.png  \n",
            "  inflating: hw2_data/digits/mnistm/data/43990.png  \n",
            "  inflating: __MACOSX/hw2_data/digits/mnistm/data/._43990.png  \n",
            "  inflating: hw2_data/digits/mnistm/data/49503.png  \n",
            "  inflating: __MACOSX/hw2_data/digits/mnistm/data/._49503.png  \n",
            "  inflating: hw2_data/digits/mnistm/data/17319.png  \n",
            "  inflating: __MACOSX/hw2_data/digits/mnistm/data/._17319.png  \n",
            "  inflating: hw2_data/digits/mnistm/data/46630.png  \n",
            "  inflating: __MACOSX/hw2_data/digits/mnistm/data/._46630.png  \n",
            "  inflating: hw2_data/digits/mnistm/data/00665.png  \n",
            "  inflating: __MACOSX/hw2_data/digits/mnistm/data/._00665.png  \n",
            "  inflating: hw2_data/digits/mnistm/data/21873.png  \n",
            "  inflating: __MACOSX/hw2_data/digits/mnistm/data/._21873.png  \n",
            "  inflating: hw2_data/digits/mnistm/data/10476.png  \n",
            "  inflating: __MACOSX/hw2_data/digits/mnistm/data/._10476.png  \n",
            "  inflating: hw2_data/digits/mnistm/data/08239.png  \n",
            "  inflating: __MACOSX/hw2_data/digits/mnistm/data/._08239.png  \n",
            "  inflating: hw2_data/digits/mnistm/data/40241.png  \n",
            "  inflating: __MACOSX/hw2_data/digits/mnistm/data/._40241.png  \n",
            "  inflating: hw2_data/digits/mnistm/data/06214.png  \n",
            "  inflating: __MACOSX/hw2_data/digits/mnistm/data/._06214.png  \n",
            "  inflating: hw2_data/digits/mnistm/data/09127.png  \n",
            "  inflating: __MACOSX/hw2_data/digits/mnistm/data/._09127.png  \n",
            "  inflating: hw2_data/digits/mnistm/data/11768.png  \n",
            "  inflating: __MACOSX/hw2_data/digits/mnistm/data/._11768.png  \n",
            "  inflating: hw2_data/digits/mnistm/data/16007.png  \n",
            "  inflating: __MACOSX/hw2_data/digits/mnistm/data/._16007.png  \n",
            "  inflating: hw2_data/digits/mnistm/data/50052.png  \n",
            "  inflating: __MACOSX/hw2_data/digits/mnistm/data/._50052.png  \n",
            "  inflating: hw2_data/digits/mnistm/data/19334.png  \n",
            "  inflating: __MACOSX/hw2_data/digits/mnistm/data/._19334.png  \n",
            "  inflating: hw2_data/digits/mnistm/data/15526.png  \n",
            "  inflating: __MACOSX/hw2_data/digits/mnistm/data/._15526.png  \n",
            "  inflating: hw2_data/digits/mnistm/data/53573.png  \n",
            "  inflating: __MACOSX/hw2_data/digits/mnistm/data/._53573.png  \n",
            "  inflating: hw2_data/digits/mnistm/data/24923.png  \n",
            "  inflating: __MACOSX/hw2_data/digits/mnistm/data/._24923.png  \n",
            "  inflating: hw2_data/digits/mnistm/data/32199.png  \n",
            "  inflating: __MACOSX/hw2_data/digits/mnistm/data/._32199.png  \n",
            "  inflating: hw2_data/digits/mnistm/data/43760.png  \n",
            "  inflating: __MACOSX/hw2_data/digits/mnistm/data/._43760.png  \n",
            "  inflating: hw2_data/digits/mnistm/data/05735.png  \n",
            "  inflating: __MACOSX/hw2_data/digits/mnistm/data/._05735.png  \n",
            "  inflating: hw2_data/digits/mnistm/data/12249.png  \n",
            "  inflating: __MACOSX/hw2_data/digits/mnistm/data/._12249.png  \n",
            "  inflating: hw2_data/digits/mnistm/data/33287.png  \n",
            "  inflating: __MACOSX/hw2_data/digits/mnistm/data/._33287.png  \n",
            "  inflating: hw2_data/digits/mnistm/data/13157.png  \n",
            "  inflating: __MACOSX/hw2_data/digits/mnistm/data/._13157.png  \n",
            "  inflating: hw2_data/digits/mnistm/data/55102.png  \n",
            "  inflating: __MACOSX/hw2_data/digits/mnistm/data/._55102.png  \n",
            "  inflating: hw2_data/digits/mnistm/data/23094.png  \n",
            "  inflating: __MACOSX/hw2_data/digits/mnistm/data/._23094.png  \n",
            "  inflating: hw2_data/digits/mnistm/data/14638.png  \n",
            "  inflating: __MACOSX/hw2_data/digits/mnistm/data/._14638.png  \n",
            "  inflating: hw2_data/digits/mnistm/data/45311.png  \n",
            "  inflating: __MACOSX/hw2_data/digits/mnistm/data/._45311.png  \n",
            "  inflating: hw2_data/digits/mnistm/data/03344.png  \n",
            "  inflating: __MACOSX/hw2_data/digits/mnistm/data/._03344.png  \n",
            "  inflating: hw2_data/digits/mnistm/data/11998.png  \n",
            "  inflating: __MACOSX/hw2_data/digits/mnistm/data/._11998.png  \n",
            "  inflating: hw2_data/digits/mnistm/data/46618.png  \n",
            "  inflating: __MACOSX/hw2_data/digits/mnistm/data/._46618.png  \n",
            "  inflating: hw2_data/digits/mnistm/data/18002.png  \n",
            "  inflating: __MACOSX/hw2_data/digits/mnistm/data/._18002.png  \n",
            "  inflating: hw2_data/digits/mnistm/data/17331.png  \n",
            "  inflating: __MACOSX/hw2_data/digits/mnistm/data/._17331.png  \n",
            "  inflating: hw2_data/digits/mnistm/data/51364.png  \n",
            "  inflating: __MACOSX/hw2_data/digits/mnistm/data/._51364.png  \n",
            "  inflating: hw2_data/digits/mnistm/data/08211.png  \n",
            "  inflating: __MACOSX/hw2_data/digits/mnistm/data/._08211.png  \n",
            "  inflating: hw2_data/digits/mnistm/data/41177.png  \n",
            "  inflating: __MACOSX/hw2_data/digits/mnistm/data/._41177.png  \n",
            "  inflating: hw2_data/digits/mnistm/data/07122.png  \n",
            "  inflating: __MACOSX/hw2_data/digits/mnistm/data/._07122.png  \n",
            "  inflating: hw2_data/digits/mnistm/data/11740.png  \n",
            "  inflating: __MACOSX/hw2_data/digits/mnistm/data/._11740.png  \n",
            "  inflating: hw2_data/digits/mnistm/data/00895.png  \n",
            "  inflating: __MACOSX/hw2_data/digits/mnistm/data/._00895.png  \n",
            "  inflating: hw2_data/digits/mnistm/data/40269.png  \n",
            "  inflating: __MACOSX/hw2_data/digits/mnistm/data/._40269.png  \n",
            "  inflating: hw2_data/digits/mnistm/data/31490.png  \n",
            "  inflating: __MACOSX/hw2_data/digits/mnistm/data/._31490.png  \n",
            "  inflating: hw2_data/digits/mnistm/data/47506.png  \n",
            "  inflating: __MACOSX/hw2_data/digits/mnistm/data/._47506.png  \n",
            "  inflating: hw2_data/digits/mnistm/data/01553.png  \n",
            "  inflating: __MACOSX/hw2_data/digits/mnistm/data/._01553.png  \n",
            "  inflating: hw2_data/digits/mnistm/data/30956.png  \n",
            "  inflating: __MACOSX/hw2_data/digits/mnistm/data/._30956.png  \n",
            "  inflating: hw2_data/digits/mnistm/data/21683.png  \n",
            "  inflating: __MACOSX/hw2_data/digits/mnistm/data/._21683.png  \n",
            "  inflating: hw2_data/digits/mnistm/data/48635.png  \n",
            "  inflating: __MACOSX/hw2_data/digits/mnistm/data/._48635.png  \n",
            "  inflating: hw2_data/digits/mnistm/data/47260.png  \n",
            "  inflating: __MACOSX/hw2_data/digits/mnistm/data/._47260.png  \n",
            "  inflating: hw2_data/digits/mnistm/data/36499.png  \n",
            "  inflating: __MACOSX/hw2_data/digits/mnistm/data/._36499.png  \n",
            "  inflating: hw2_data/digits/mnistm/data/01235.png  \n",
            "  inflating: __MACOSX/hw2_data/digits/mnistm/data/._01235.png  \n",
            "  inflating: hw2_data/digits/mnistm/data/48153.png  \n",
            "  inflating: __MACOSX/hw2_data/digits/mnistm/data/._48153.png  \n",
            "  inflating: hw2_data/digits/mnistm/data/16749.png  \n",
            "  inflating: __MACOSX/hw2_data/digits/mnistm/data/._16749.png  \n",
            "  inflating: hw2_data/digits/mnistm/data/11026.png  \n",
            "  inflating: __MACOSX/hw2_data/digits/mnistm/data/._11026.png  \n",
            "  inflating: hw2_data/digits/mnistm/data/09669.png  \n",
            "  inflating: __MACOSX/hw2_data/digits/mnistm/data/._09669.png  \n",
            "  inflating: hw2_data/digits/mnistm/data/27594.png  \n",
            "  inflating: __MACOSX/hw2_data/digits/mnistm/data/._27594.png  \n",
            "  inflating: hw2_data/digits/mnistm/data/08577.png  \n",
            "  inflating: __MACOSX/hw2_data/digits/mnistm/data/._08577.png  \n",
            "  inflating: hw2_data/digits/mnistm/data/10338.png  \n",
            "  inflating: __MACOSX/hw2_data/digits/mnistm/data/._10338.png  \n",
            "  inflating: hw2_data/digits/mnistm/data/41611.png  \n",
            "  inflating: __MACOSX/hw2_data/digits/mnistm/data/._41611.png  \n",
            "  inflating: hw2_data/digits/mnistm/data/07644.png  \n",
            "  inflating: __MACOSX/hw2_data/digits/mnistm/data/._07644.png  \n",
            "  inflating: hw2_data/digits/mnistm/data/16991.png  \n",
            "  inflating: __MACOSX/hw2_data/digits/mnistm/data/._16991.png  \n",
            "  inflating: hw2_data/digits/mnistm/data/39972.png  \n",
            "  inflating: __MACOSX/hw2_data/digits/mnistm/data/._39972.png  \n",
            "  inflating: hw2_data/digits/mnistm/data/26852.png  \n",
            "  inflating: __MACOSX/hw2_data/digits/mnistm/data/._26852.png  \n",
            "  inflating: hw2_data/digits/mnistm/data/37787.png  \n",
            "  inflating: __MACOSX/hw2_data/digits/mnistm/data/._37787.png  \n",
            "  inflating: hw2_data/digits/mnistm/data/18764.png  \n",
            "  inflating: __MACOSX/hw2_data/digits/mnistm/data/._18764.png  \n",
            "  inflating: hw2_data/digits/mnistm/data/17457.png  \n",
            "  inflating: __MACOSX/hw2_data/digits/mnistm/data/._17457.png  \n",
            "  inflating: hw2_data/digits/mnistm/data/51402.png  \n",
            "  inflating: __MACOSX/hw2_data/digits/mnistm/data/._51402.png  \n",
            "  inflating: hw2_data/digits/mnistm/data/32827.png  \n",
            "  inflating: __MACOSX/hw2_data/digits/mnistm/data/._32827.png  \n",
            "  inflating: hw2_data/digits/mnistm/data/45477.png  \n",
            "  inflating: __MACOSX/hw2_data/digits/mnistm/data/._45477.png  \n",
            "  inflating: hw2_data/digits/mnistm/data/03422.png  \n",
            "  inflating: __MACOSX/hw2_data/digits/mnistm/data/._03422.png  \n",
            "  inflating: hw2_data/digits/mnistm/data/42318.png  \n",
            "  inflating: __MACOSX/hw2_data/digits/mnistm/data/._42318.png  \n",
            "  inflating: hw2_data/digits/mnistm/data/13631.png  \n",
            "  inflating: __MACOSX/hw2_data/digits/mnistm/data/._13631.png  \n",
            "  inflating: hw2_data/digits/mnistm/data/55664.png  \n",
            "  inflating: __MACOSX/hw2_data/digits/mnistm/data/._55664.png  \n",
            "  inflating: hw2_data/digits/mnistm/data/43006.png  \n",
            "  inflating: __MACOSX/hw2_data/digits/mnistm/data/._43006.png  \n",
            "  inflating: hw2_data/digits/mnistm/data/05053.png  \n",
            "  inflating: __MACOSX/hw2_data/digits/mnistm/data/._05053.png  \n",
            "  inflating: hw2_data/digits/mnistm/data/25383.png  \n",
            "  inflating: __MACOSX/hw2_data/digits/mnistm/data/._25383.png  \n",
            "  inflating: hw2_data/digits/mnistm/data/15240.png  \n",
            "  inflating: __MACOSX/hw2_data/digits/mnistm/data/._15240.png  \n",
            "  inflating: hw2_data/digits/mnistm/data/53215.png  \n",
            "  inflating: __MACOSX/hw2_data/digits/mnistm/data/._53215.png  \n",
            "  inflating: hw2_data/digits/mnistm/data/35190.png  \n",
            "  inflating: __MACOSX/hw2_data/digits/mnistm/data/._35190.png  \n",
            "  inflating: hw2_data/digits/mnistm/data/44769.png  \n",
            "  inflating: __MACOSX/hw2_data/digits/mnistm/data/._44769.png  \n",
            "  inflating: hw2_data/digits/mnistm/data/32833.png  \n",
            "  inflating: __MACOSX/hw2_data/digits/mnistm/data/._32833.png  \n",
            "  inflating: hw2_data/digits/mnistm/data/03436.png  \n",
            "  inflating: __MACOSX/hw2_data/digits/mnistm/data/._03436.png  \n",
            "  inflating: hw2_data/digits/mnistm/data/45463.png  \n",
            "  inflating: __MACOSX/hw2_data/digits/mnistm/data/._45463.png  \n",
            "  inflating: hw2_data/digits/mnistm/data/04359.png  \n",
            "  inflating: __MACOSX/hw2_data/digits/mnistm/data/._04359.png  \n",
            "  inflating: hw2_data/digits/mnistm/data/55670.png  \n",
            "  inflating: __MACOSX/hw2_data/digits/mnistm/data/._55670.png  \n",
            "  inflating: hw2_data/digits/mnistm/data/24089.png  \n",
            "  inflating: __MACOSX/hw2_data/digits/mnistm/data/._24089.png  \n",
            "  inflating: hw2_data/digits/mnistm/data/13625.png  \n",
            "  inflating: __MACOSX/hw2_data/digits/mnistm/data/._13625.png  \n",
            "  inflating: hw2_data/digits/mnistm/data/05047.png  \n",
            "  inflating: __MACOSX/hw2_data/digits/mnistm/data/._05047.png  \n",
            "  inflating: hw2_data/digits/mnistm/data/43012.png  \n",
            "  inflating: __MACOSX/hw2_data/digits/mnistm/data/._43012.png  \n",
            "  inflating: hw2_data/digits/mnistm/data/25397.png  \n",
            "  inflating: __MACOSX/hw2_data/digits/mnistm/data/._25397.png  \n",
            "  inflating: hw2_data/digits/mnistm/data/53201.png  \n",
            "  inflating: __MACOSX/hw2_data/digits/mnistm/data/._53201.png  \n",
            "  inflating: hw2_data/digits/mnistm/data/15254.png  \n",
            "  inflating: __MACOSX/hw2_data/digits/mnistm/data/._15254.png  \n",
            "  inflating: hw2_data/digits/mnistm/data/35184.png  \n",
            "  inflating: __MACOSX/hw2_data/digits/mnistm/data/._35184.png  \n",
            "  inflating: hw2_data/digits/mnistm/data/02728.png  \n",
            "  inflating: __MACOSX/hw2_data/digits/mnistm/data/._02728.png  \n",
            "  inflating: hw2_data/digits/mnistm/data/01221.png  \n",
            "  inflating: __MACOSX/hw2_data/digits/mnistm/data/._01221.png  \n",
            "  inflating: hw2_data/digits/mnistm/data/47274.png  \n",
            "  inflating: __MACOSX/hw2_data/digits/mnistm/data/._47274.png  \n",
            "  inflating: hw2_data/digits/mnistm/data/07888.png  \n",
            "  inflating: __MACOSX/hw2_data/digits/mnistm/data/._07888.png  \n",
            "  inflating: hw2_data/digits/mnistm/data/48147.png  \n",
            "  inflating: __MACOSX/hw2_data/digits/mnistm/data/._48147.png  \n",
            "  inflating: hw2_data/digits/mnistm/data/50708.png  \n",
            "  inflating: __MACOSX/hw2_data/digits/mnistm/data/._50708.png  \n",
            "  inflating: hw2_data/digits/mnistm/data/11032.png  \n",
            "  inflating: __MACOSX/hw2_data/digits/mnistm/data/._11032.png  \n",
            "  inflating: hw2_data/digits/mnistm/data/08563.png  \n",
            "  inflating: __MACOSX/hw2_data/digits/mnistm/data/._08563.png  \n",
            "  inflating: hw2_data/digits/mnistm/data/27580.png  \n",
            "  inflating: __MACOSX/hw2_data/digits/mnistm/data/._27580.png  \n",
            "  inflating: hw2_data/digits/mnistm/data/39966.png  \n",
            "  inflating: __MACOSX/hw2_data/digits/mnistm/data/._39966.png  \n",
            "  inflating: hw2_data/digits/mnistm/data/16985.png  \n",
            "  inflating: __MACOSX/hw2_data/digits/mnistm/data/._16985.png  \n",
            "  inflating: hw2_data/digits/mnistm/data/07650.png  \n",
            "  inflating: __MACOSX/hw2_data/digits/mnistm/data/._07650.png  \n",
            "  inflating: hw2_data/digits/mnistm/data/41605.png  \n",
            "  inflating: __MACOSX/hw2_data/digits/mnistm/data/._41605.png  \n",
            "  inflating: hw2_data/digits/mnistm/data/18770.png  \n",
            "  inflating: __MACOSX/hw2_data/digits/mnistm/data/._18770.png  \n",
            "  inflating: hw2_data/digits/mnistm/data/37793.png  \n",
            "  inflating: __MACOSX/hw2_data/digits/mnistm/data/._37793.png  \n",
            "  inflating: hw2_data/digits/mnistm/data/26846.png  \n",
            "  inflating: __MACOSX/hw2_data/digits/mnistm/data/._26846.png  \n",
            "  inflating: hw2_data/digits/mnistm/data/51416.png  \n",
            "  inflating: __MACOSX/hw2_data/digits/mnistm/data/._51416.png  \n",
            "  inflating: hw2_data/digits/mnistm/data/49259.png  \n",
            "  inflating: __MACOSX/hw2_data/digits/mnistm/data/._49259.png  \n",
            "  inflating: hw2_data/digits/mnistm/data/17443.png  \n",
            "  inflating: __MACOSX/hw2_data/digits/mnistm/data/._17443.png  \n",
            "  inflating: hw2_data/digits/mnistm/data/18016.png  \n",
            "  inflating: __MACOSX/hw2_data/digits/mnistm/data/._18016.png  \n",
            "  inflating: hw2_data/digits/mnistm/data/00659.png  \n",
            "  inflating: __MACOSX/hw2_data/digits/mnistm/data/._00659.png  \n",
            "  inflating: hw2_data/digits/mnistm/data/20589.png  \n",
            "  inflating: __MACOSX/hw2_data/digits/mnistm/data/._20589.png  \n",
            "  inflating: hw2_data/digits/mnistm/data/51370.png  \n",
            "  inflating: __MACOSX/hw2_data/digits/mnistm/data/._51370.png  \n",
            "  inflating: hw2_data/digits/mnistm/data/17325.png  \n",
            "  inflating: __MACOSX/hw2_data/digits/mnistm/data/._17325.png  \n",
            "  inflating: hw2_data/digits/mnistm/data/08205.png  \n",
            "  inflating: __MACOSX/hw2_data/digits/mnistm/data/._08205.png  \n",
            "  inflating: hw2_data/digits/mnistm/data/07136.png  \n",
            "  inflating: __MACOSX/hw2_data/digits/mnistm/data/._07136.png  \n",
            "  inflating: hw2_data/digits/mnistm/data/41163.png  \n",
            "  inflating: __MACOSX/hw2_data/digits/mnistm/data/._41163.png  \n",
            "  inflating: hw2_data/digits/mnistm/data/00881.png  \n",
            "  inflating: __MACOSX/hw2_data/digits/mnistm/data/._00881.png  \n",
            "  inflating: hw2_data/digits/mnistm/data/11754.png  \n",
            "  inflating: __MACOSX/hw2_data/digits/mnistm/data/._11754.png  \n",
            "  inflating: hw2_data/digits/mnistm/data/31484.png  \n",
            "  inflating: __MACOSX/hw2_data/digits/mnistm/data/._31484.png  \n",
            "  inflating: hw2_data/digits/mnistm/data/06228.png  \n",
            "  inflating: __MACOSX/hw2_data/digits/mnistm/data/._06228.png  \n",
            "  inflating: hw2_data/digits/mnistm/data/01547.png  \n",
            "  inflating: __MACOSX/hw2_data/digits/mnistm/data/._01547.png  \n",
            "  inflating: hw2_data/digits/mnistm/data/47512.png  \n",
            "  inflating: __MACOSX/hw2_data/digits/mnistm/data/._47512.png  \n",
            "  inflating: hw2_data/digits/mnistm/data/19308.png  \n",
            "  inflating: __MACOSX/hw2_data/digits/mnistm/data/._19308.png  \n",
            "  inflating: hw2_data/digits/mnistm/data/48621.png  \n",
            "  inflating: __MACOSX/hw2_data/digits/mnistm/data/._48621.png  \n",
            "  inflating: hw2_data/digits/mnistm/data/21697.png  \n",
            "  inflating: __MACOSX/hw2_data/digits/mnistm/data/._21697.png  \n",
            "  inflating: hw2_data/digits/mnistm/data/30942.png  \n",
            "  inflating: __MACOSX/hw2_data/digits/mnistm/data/._30942.png  \n",
            "  inflating: hw2_data/digits/mnistm/data/53567.png  \n",
            "  inflating: __MACOSX/hw2_data/digits/mnistm/data/._53567.png  \n",
            "  inflating: hw2_data/digits/mnistm/data/15532.png  \n",
            "  inflating: __MACOSX/hw2_data/digits/mnistm/data/._15532.png  \n",
            "  inflating: hw2_data/digits/mnistm/data/24937.png  \n",
            "  inflating: __MACOSX/hw2_data/digits/mnistm/data/._24937.png  \n",
            "  inflating: hw2_data/digits/mnistm/data/05721.png  \n",
            "  inflating: __MACOSX/hw2_data/digits/mnistm/data/._05721.png  \n",
            "  inflating: hw2_data/digits/mnistm/data/43774.png  \n",
            "  inflating: __MACOSX/hw2_data/digits/mnistm/data/._43774.png  \n",
            "  inflating: hw2_data/digits/mnistm/data/54208.png  \n",
            "  inflating: __MACOSX/hw2_data/digits/mnistm/data/._54208.png  \n",
            "  inflating: hw2_data/digits/mnistm/data/33293.png  \n",
            "  inflating: __MACOSX/hw2_data/digits/mnistm/data/._33293.png  \n",
            "  inflating: hw2_data/digits/mnistm/data/55116.png  \n",
            "  inflating: __MACOSX/hw2_data/digits/mnistm/data/._55116.png  \n",
            "  inflating: hw2_data/digits/mnistm/data/13143.png  \n",
            "  inflating: __MACOSX/hw2_data/digits/mnistm/data/._13143.png  \n",
            "  inflating: hw2_data/digits/mnistm/data/52679.png  \n",
            "  inflating: __MACOSX/hw2_data/digits/mnistm/data/._52679.png  \n",
            "  inflating: hw2_data/digits/mnistm/data/23080.png  \n",
            "  inflating: __MACOSX/hw2_data/digits/mnistm/data/._23080.png  \n",
            "  inflating: hw2_data/digits/mnistm/data/03350.png  \n",
            "  inflating: __MACOSX/hw2_data/digits/mnistm/data/._03350.png  \n",
            "  inflating: hw2_data/digits/mnistm/data/45305.png  \n",
            "  inflating: __MACOSX/hw2_data/digits/mnistm/data/._45305.png  \n",
            "  inflating: hw2_data/digits/mnistm/data/24704.png  \n",
            "  inflating: __MACOSX/hw2_data/digits/mnistm/data/._24704.png  \n",
            "  inflating: hw2_data/digits/mnistm/data/42481.png  \n",
            "  inflating: __MACOSX/hw2_data/digits/mnistm/data/._42481.png  \n",
            "  inflating: hw2_data/digits/mnistm/data/33278.png  \n",
            "  inflating: __MACOSX/hw2_data/digits/mnistm/data/._33278.png  \n",
            "  inflating: hw2_data/digits/mnistm/data/34517.png  \n",
            "  inflating: __MACOSX/hw2_data/digits/mnistm/data/._34517.png  \n",
            "  inflating: hw2_data/digits/mnistm/data/05912.png  \n",
            "  inflating: __MACOSX/hw2_data/digits/mnistm/data/._05912.png  \n",
            "  inflating: hw2_data/digits/mnistm/data/43947.png  \n",
            "  inflating: __MACOSX/hw2_data/digits/mnistm/data/._43947.png  \n",
            "  inflating: hw2_data/digits/mnistm/data/52692.png  \n",
            "  inflating: __MACOSX/hw2_data/digits/mnistm/data/._52692.png  \n",
            "  inflating: hw2_data/digits/mnistm/data/35609.png  \n",
            "  inflating: __MACOSX/hw2_data/digits/mnistm/data/._35609.png  \n",
            "  inflating: hw2_data/digits/mnistm/data/22375.png  \n",
            "  inflating: __MACOSX/hw2_data/digits/mnistm/data/._22375.png  \n",
            "  inflating: hw2_data/digits/mnistm/data/32166.png  \n",
            "  inflating: __MACOSX/hw2_data/digits/mnistm/data/._32166.png  \n",
            "  inflating: hw2_data/digits/mnistm/data/40296.png  \n",
            "  inflating: __MACOSX/hw2_data/digits/mnistm/data/._40296.png  \n",
            "  inflating: hw2_data/digits/mnistm/data/29220.png  \n",
            "  inflating: __MACOSX/hw2_data/digits/mnistm/data/._29220.png  \n",
            "  inflating: hw2_data/digits/mnistm/data/26113.png  \n",
            "  inflating: __MACOSX/hw2_data/digits/mnistm/data/._26113.png  \n",
            "  inflating: hw2_data/digits/mnistm/data/39033.png  \n",
            "  inflating: __MACOSX/hw2_data/digits/mnistm/data/._39033.png  \n",
            "  inflating: hw2_data/digits/mnistm/data/50085.png  \n",
            "  inflating: __MACOSX/hw2_data/digits/mnistm/data/._50085.png  \n",
            "  inflating: hw2_data/digits/mnistm/data/36300.png  \n",
            "  inflating: __MACOSX/hw2_data/digits/mnistm/data/._36300.png  \n",
            "  inflating: hw2_data/digits/mnistm/data/20562.png  \n",
            "  inflating: __MACOSX/hw2_data/digits/mnistm/data/._20562.png  \n",
            "  inflating: hw2_data/digits/mnistm/data/11967.png  \n",
            "  inflating: __MACOSX/hw2_data/digits/mnistm/data/._11967.png  \n",
            "  inflating: hw2_data/digits/mnistm/data/48812.png  \n",
            "  inflating: __MACOSX/hw2_data/digits/mnistm/data/._48812.png  \n",
            "  inflating: hw2_data/digits/mnistm/data/30771.png  \n",
            "  inflating: __MACOSX/hw2_data/digits/mnistm/data/._30771.png  \n",
            "  inflating: hw2_data/digits/mnistm/data/41188.png  \n",
            "  inflating: __MACOSX/hw2_data/digits/mnistm/data/._41188.png  \n",
            "  inflating: hw2_data/digits/mnistm/data/28658.png  \n",
            "  inflating: __MACOSX/hw2_data/digits/mnistm/data/._28658.png  \n",
            "  inflating: hw2_data/digits/mnistm/data/30017.png  \n",
            "  inflating: __MACOSX/hw2_data/digits/mnistm/data/._30017.png  \n",
            "  inflating: hw2_data/digits/mnistm/data/08588.png  \n",
            "  inflating: __MACOSX/hw2_data/digits/mnistm/data/._08588.png  \n",
            "  inflating: hw2_data/digits/mnistm/data/20204.png  \n",
            "  inflating: __MACOSX/hw2_data/digits/mnistm/data/._20204.png  \n",
            "  inflating: hw2_data/digits/mnistm/data/37778.png  \n",
            "  inflating: __MACOSX/hw2_data/digits/mnistm/data/._37778.png  \n",
            "  inflating: hw2_data/digits/mnistm/data/46181.png  \n",
            "  inflating: __MACOSX/hw2_data/digits/mnistm/data/._46181.png  \n",
            "  inflating: hw2_data/digits/mnistm/data/39755.png  \n",
            "  inflating: __MACOSX/hw2_data/digits/mnistm/data/._39755.png  \n",
            "  inflating: hw2_data/digits/mnistm/data/07863.png  \n",
            "  inflating: __MACOSX/hw2_data/digits/mnistm/data/._07863.png  \n",
            "  inflating: hw2_data/digits/mnistm/data/28880.png  \n",
            "  inflating: __MACOSX/hw2_data/digits/mnistm/data/._28880.png  \n",
            "  inflating: hw2_data/digits/mnistm/data/41836.png  \n",
            "  inflating: __MACOSX/hw2_data/digits/mnistm/data/._41836.png  \n",
            "  inflating: hw2_data/digits/mnistm/data/36466.png  \n",
            "  inflating: __MACOSX/hw2_data/digits/mnistm/data/._36466.png  \n",
            "  inflating: hw2_data/digits/mnistm/data/19485.png  \n",
            "  inflating: __MACOSX/hw2_data/digits/mnistm/data/._19485.png  \n",
            "  inflating: hw2_data/digits/mnistm/data/31309.png  \n",
            "  inflating: __MACOSX/hw2_data/digits/mnistm/data/._31309.png  \n",
            "  inflating: hw2_data/digits/mnistm/data/29546.png  \n",
            "  inflating: __MACOSX/hw2_data/digits/mnistm/data/._29546.png  \n",
            "  inflating: hw2_data/digits/mnistm/data/18943.png  \n",
            "  inflating: __MACOSX/hw2_data/digits/mnistm/data/._18943.png  \n",
            "  inflating: hw2_data/digits/mnistm/data/26675.png  \n",
            "  inflating: __MACOSX/hw2_data/digits/mnistm/data/._26675.png  \n",
            "  inflating: hw2_data/digits/mnistm/data/09696.png  \n",
            "  inflating: __MACOSX/hw2_data/digits/mnistm/data/._09696.png  \n",
            "  inflating: hw2_data/digits/mnistm/data/54585.png  \n",
            "  inflating: __MACOSX/hw2_data/digits/mnistm/data/._54585.png  \n",
            "  inflating: hw2_data/digits/mnistm/data/32600.png  \n",
            "  inflating: __MACOSX/hw2_data/digits/mnistm/data/._32600.png  \n",
            "  inflating: hw2_data/digits/mnistm/data/55843.png  \n",
            "  inflating: __MACOSX/hw2_data/digits/mnistm/data/._55843.png  \n",
            "  inflating: hw2_data/digits/mnistm/data/44796.png  \n",
            "  inflating: __MACOSX/hw2_data/digits/mnistm/data/._44796.png  \n",
            "  inflating: hw2_data/digits/mnistm/data/13816.png  \n",
            "  inflating: __MACOSX/hw2_data/digits/mnistm/data/._13816.png  \n",
            "  inflating: hw2_data/digits/mnistm/data/22413.png  \n",
            "  inflating: __MACOSX/hw2_data/digits/mnistm/data/._22413.png  \n",
            "  inflating: hw2_data/digits/mnistm/data/45488.png  \n",
            "  inflating: __MACOSX/hw2_data/digits/mnistm/data/._45488.png  \n",
            "  inflating: hw2_data/digits/mnistm/data/34271.png  \n",
            "  inflating: __MACOSX/hw2_data/digits/mnistm/data/._34271.png  \n",
            "  inflating: hw2_data/digits/mnistm/data/24062.png  \n",
            "  inflating: __MACOSX/hw2_data/digits/mnistm/data/._24062.png  \n",
            "  inflating: hw2_data/digits/mnistm/data/25368.png  \n",
            "  inflating: __MACOSX/hw2_data/digits/mnistm/data/._25368.png  \n",
            "  inflating: hw2_data/digits/mnistm/data/54591.png  \n",
            "  inflating: __MACOSX/hw2_data/digits/mnistm/data/._54591.png  \n",
            "  inflating: hw2_data/digits/mnistm/data/32614.png  \n",
            "  inflating: __MACOSX/hw2_data/digits/mnistm/data/._32614.png  \n",
            "  inflating: hw2_data/digits/mnistm/data/13802.png  \n",
            "  inflating: __MACOSX/hw2_data/digits/mnistm/data/._13802.png  \n",
            "  inflating: hw2_data/digits/mnistm/data/44782.png  \n",
            "  inflating: __MACOSX/hw2_data/digits/mnistm/data/._44782.png  \n",
            "  inflating: hw2_data/digits/mnistm/data/55857.png  \n",
            "  inflating: __MACOSX/hw2_data/digits/mnistm/data/._55857.png  \n",
            "  inflating: hw2_data/digits/mnistm/data/22407.png  \n",
            "  inflating: __MACOSX/hw2_data/digits/mnistm/data/._22407.png  \n",
            "  inflating: hw2_data/digits/mnistm/data/34265.png  \n",
            "  inflating: __MACOSX/hw2_data/digits/mnistm/data/._34265.png  \n",
            "  inflating: hw2_data/digits/mnistm/data/23719.png  \n",
            "  inflating: __MACOSX/hw2_data/digits/mnistm/data/._23719.png  \n",
            "  inflating: hw2_data/digits/mnistm/data/24076.png  \n",
            "  inflating: __MACOSX/hw2_data/digits/mnistm/data/._24076.png  \n",
            "  inflating: hw2_data/digits/mnistm/data/30003.png  \n",
            "  inflating: __MACOSX/hw2_data/digits/mnistm/data/._30003.png  \n",
            "  inflating: hw2_data/digits/mnistm/data/39999.png  \n",
            "  inflating: __MACOSX/hw2_data/digits/mnistm/data/._39999.png  \n",
            "  inflating: hw2_data/digits/mnistm/data/20210.png  \n",
            "  inflating: __MACOSX/hw2_data/digits/mnistm/data/._20210.png  \n",
            "  inflating: hw2_data/digits/mnistm/data/46195.png  \n",
            "  inflating: __MACOSX/hw2_data/digits/mnistm/data/._46195.png  \n",
            "  inflating: hw2_data/digits/mnistm/data/41822.png  \n",
            "  inflating: __MACOSX/hw2_data/digits/mnistm/data/._41822.png  \n",
            "  inflating: hw2_data/digits/mnistm/data/28894.png  \n",
            "  inflating: __MACOSX/hw2_data/digits/mnistm/data/._28894.png  \n",
            "  inflating: hw2_data/digits/mnistm/data/07877.png  \n",
            "  inflating: __MACOSX/hw2_data/digits/mnistm/data/._07877.png  \n",
            "  inflating: hw2_data/digits/mnistm/data/39741.png  \n",
            "  inflating: __MACOSX/hw2_data/digits/mnistm/data/._39741.png  \n",
            "  inflating: hw2_data/digits/mnistm/data/19491.png  \n",
            "  inflating: __MACOSX/hw2_data/digits/mnistm/data/._19491.png  \n",
            "  inflating: hw2_data/digits/mnistm/data/36472.png  \n",
            "  inflating: __MACOSX/hw2_data/digits/mnistm/data/._36472.png  \n",
            "  inflating: hw2_data/digits/mnistm/data/29552.png  \n",
            "  inflating: __MACOSX/hw2_data/digits/mnistm/data/._29552.png  \n",
            "  inflating: hw2_data/digits/mnistm/data/09682.png  \n",
            "  inflating: __MACOSX/hw2_data/digits/mnistm/data/._09682.png  \n",
            "  inflating: hw2_data/digits/mnistm/data/26661.png  \n",
            "  inflating: __MACOSX/hw2_data/digits/mnistm/data/._26661.png  \n",
            "  inflating: hw2_data/digits/mnistm/data/18957.png  \n",
            "  inflating: __MACOSX/hw2_data/digits/mnistm/data/._18957.png  \n",
            "  inflating: hw2_data/digits/mnistm/data/29234.png  \n",
            "  inflating: __MACOSX/hw2_data/digits/mnistm/data/._29234.png  \n",
            "  inflating: hw2_data/digits/mnistm/data/40282.png  \n",
            "  inflating: __MACOSX/hw2_data/digits/mnistm/data/._40282.png  \n",
            "  inflating: hw2_data/digits/mnistm/data/26107.png  \n",
            "  inflating: __MACOSX/hw2_data/digits/mnistm/data/._26107.png  \n",
            "  inflating: hw2_data/digits/mnistm/data/50091.png  \n",
            "  inflating: __MACOSX/hw2_data/digits/mnistm/data/._50091.png  \n",
            "  inflating: hw2_data/digits/mnistm/data/21668.png  \n",
            "  inflating: __MACOSX/hw2_data/digits/mnistm/data/._21668.png  \n",
            "  inflating: hw2_data/digits/mnistm/data/39027.png  \n",
            "  inflating: __MACOSX/hw2_data/digits/mnistm/data/._39027.png  \n",
            "  inflating: hw2_data/digits/mnistm/data/36314.png  \n",
            "  inflating: __MACOSX/hw2_data/digits/mnistm/data/._36314.png  \n",
            "  inflating: hw2_data/digits/mnistm/data/38339.png  \n",
            "  inflating: __MACOSX/hw2_data/digits/mnistm/data/._38339.png  \n",
            "  inflating: hw2_data/digits/mnistm/data/20576.png  \n",
            "  inflating: __MACOSX/hw2_data/digits/mnistm/data/._20576.png  \n",
            "  inflating: hw2_data/digits/mnistm/data/11973.png  \n",
            "  inflating: __MACOSX/hw2_data/digits/mnistm/data/._11973.png  \n",
            "  inflating: hw2_data/digits/mnistm/data/30765.png  \n",
            "  inflating: __MACOSX/hw2_data/digits/mnistm/data/._30765.png  \n",
            "  inflating: hw2_data/digits/mnistm/data/48806.png  \n",
            "  inflating: __MACOSX/hw2_data/digits/mnistm/data/._48806.png  \n",
            "  inflating: hw2_data/digits/mnistm/data/27219.png  \n",
            "  inflating: __MACOSX/hw2_data/digits/mnistm/data/._27219.png  \n",
            "  inflating: hw2_data/digits/mnistm/data/24710.png  \n",
            "  inflating: __MACOSX/hw2_data/digits/mnistm/data/._24710.png  \n",
            "  inflating: hw2_data/digits/mnistm/data/42495.png  \n",
            "  inflating: __MACOSX/hw2_data/digits/mnistm/data/._42495.png  \n",
            "  inflating: hw2_data/digits/mnistm/data/34503.png  \n",
            "  inflating: __MACOSX/hw2_data/digits/mnistm/data/._34503.png  \n",
            "  inflating: hw2_data/digits/mnistm/data/52686.png  \n",
            "  inflating: __MACOSX/hw2_data/digits/mnistm/data/._52686.png  \n",
            "  inflating: hw2_data/digits/mnistm/data/43953.png  \n",
            "  inflating: __MACOSX/hw2_data/digits/mnistm/data/._43953.png  \n",
            "  inflating: hw2_data/digits/mnistm/data/05906.png  \n",
            "  inflating: __MACOSX/hw2_data/digits/mnistm/data/._05906.png  \n",
            "  inflating: hw2_data/digits/mnistm/data/22361.png  \n",
            "  inflating: __MACOSX/hw2_data/digits/mnistm/data/._22361.png  \n",
            "  inflating: hw2_data/digits/mnistm/data/53598.png  \n",
            "  inflating: __MACOSX/hw2_data/digits/mnistm/data/._53598.png  \n",
            "  inflating: hw2_data/digits/mnistm/data/32172.png  \n",
            "  inflating: __MACOSX/hw2_data/digits/mnistm/data/._32172.png  \n",
            "  inflating: hw2_data/digits/mnistm/data/46803.png  \n",
            "  inflating: __MACOSX/hw2_data/digits/mnistm/data/._46803.png  \n",
            "  inflating: hw2_data/digits/mnistm/data/11783.png  \n",
            "  inflating: __MACOSX/hw2_data/digits/mnistm/data/._11783.png  \n",
            "  inflating: hw2_data/digits/mnistm/data/00856.png  \n",
            "  inflating: __MACOSX/hw2_data/digits/mnistm/data/._00856.png  \n",
            "  inflating: hw2_data/digits/mnistm/data/31453.png  \n",
            "  inflating: __MACOSX/hw2_data/digits/mnistm/data/._31453.png  \n",
            "  inflating: hw2_data/digits/mnistm/data/01590.png  \n",
            "  inflating: __MACOSX/hw2_data/digits/mnistm/data/._01590.png  \n",
            "  inflating: hw2_data/digits/mnistm/data/30995.png  \n",
            "  inflating: __MACOSX/hw2_data/digits/mnistm/data/._30995.png  \n",
            "  inflating: hw2_data/digits/mnistm/data/21640.png  \n",
            "  inflating: __MACOSX/hw2_data/digits/mnistm/data/._21640.png  \n",
            "  inflating: hw2_data/digits/mnistm/data/37022.png  \n",
            "  inflating: __MACOSX/hw2_data/digits/mnistm/data/._37022.png  \n",
            "  inflating: hw2_data/digits/mnistm/data/38311.png  \n",
            "  inflating: __MACOSX/hw2_data/digits/mnistm/data/._38311.png  \n",
            "  inflating: hw2_data/digits/mnistm/data/27231.png  \n",
            "  inflating: __MACOSX/hw2_data/digits/mnistm/data/._27231.png  \n",
            "  inflating: hw2_data/digits/mnistm/data/28102.png  \n",
            "  inflating: __MACOSX/hw2_data/digits/mnistm/data/._28102.png  \n",
            "  inflating: hw2_data/digits/mnistm/data/21898.png  \n",
            "  inflating: __MACOSX/hw2_data/digits/mnistm/data/._21898.png  \n",
            "  inflating: hw2_data/digits/mnistm/data/33244.png  \n",
            "  inflating: __MACOSX/hw2_data/digits/mnistm/data/._33244.png  \n",
            "  inflating: hw2_data/digits/mnistm/data/24738.png  \n",
            "  inflating: __MACOSX/hw2_data/digits/mnistm/data/._24738.png  \n",
            "  inflating: hw2_data/digits/mnistm/data/13194.png  \n",
            "  inflating: __MACOSX/hw2_data/digits/mnistm/data/._13194.png  \n",
            "  inflating: hw2_data/digits/mnistm/data/23057.png  \n",
            "  inflating: __MACOSX/hw2_data/digits/mnistm/data/._23057.png  \n",
            "  inflating: hw2_data/digits/mnistm/data/03387.png  \n",
            "  inflating: __MACOSX/hw2_data/digits/mnistm/data/._03387.png  \n",
            "  inflating: hw2_data/digits/mnistm/data/22349.png  \n",
            "  inflating: __MACOSX/hw2_data/digits/mnistm/data/._22349.png  \n",
            "  inflating: hw2_data/digits/mnistm/data/35635.png  \n",
            "  inflating: __MACOSX/hw2_data/digits/mnistm/data/._35635.png  \n",
            "  inflating: hw2_data/digits/mnistm/data/02099.png  \n",
            "  inflating: __MACOSX/hw2_data/digits/mnistm/data/._02099.png  \n",
            "  inflating: hw2_data/digits/mnistm/data/14823.png  \n",
            "  inflating: __MACOSX/hw2_data/digits/mnistm/data/._14823.png  \n",
            "  inflating: hw2_data/digits/mnistm/data/52876.png  \n",
            "  inflating: __MACOSX/hw2_data/digits/mnistm/data/._52876.png  \n",
            "  inflating: hw2_data/digits/mnistm/data/25426.png  \n",
            "  inflating: __MACOSX/hw2_data/digits/mnistm/data/._25426.png  \n",
            "  inflating: hw2_data/digits/mnistm/data/05090.png  \n",
            "  inflating: __MACOSX/hw2_data/digits/mnistm/data/._05090.png  \n",
            "  inflating: hw2_data/digits/mnistm/data/25340.png  \n",
            "  inflating: __MACOSX/hw2_data/digits/mnistm/data/._25340.png  \n",
            "  inflating: hw2_data/digits/mnistm/data/15283.png  \n",
            "  inflating: __MACOSX/hw2_data/digits/mnistm/data/._15283.png  \n",
            "  inflating: hw2_data/digits/mnistm/data/35153.png  \n",
            "  inflating: __MACOSX/hw2_data/digits/mnistm/data/._35153.png  \n",
            "  inflating: hw2_data/digits/mnistm/data/23731.png  \n",
            "  inflating: __MACOSX/hw2_data/digits/mnistm/data/._23731.png  \n",
            "  inflating: hw2_data/digits/mnistm/data/33522.png  \n",
            "  inflating: __MACOSX/hw2_data/digits/mnistm/data/._33522.png  \n",
            "  inflating: hw2_data/digits/mnistm/data/44972.png  \n",
            "  inflating: __MACOSX/hw2_data/digits/mnistm/data/._44972.png  \n",
            "  inflating: hw2_data/digits/mnistm/data/02927.png  \n",
            "  inflating: __MACOSX/hw2_data/digits/mnistm/data/._02927.png  \n",
            "  inflating: hw2_data/digits/mnistm/data/27557.png  \n",
            "  inflating: __MACOSX/hw2_data/digits/mnistm/data/._27557.png  \n",
            "  inflating: hw2_data/digits/mnistm/data/28664.png  \n",
            "  inflating: __MACOSX/hw2_data/digits/mnistm/data/._28664.png  \n",
            "  inflating: hw2_data/digits/mnistm/data/07687.png  \n",
            "  inflating: __MACOSX/hw2_data/digits/mnistm/data/._07687.png  \n",
            "  inflating: hw2_data/digits/mnistm/data/16952.png  \n",
            "  inflating: __MACOSX/hw2_data/digits/mnistm/data/._16952.png  \n",
            "  inflating: hw2_data/digits/mnistm/data/50907.png  \n",
            "  inflating: __MACOSX/hw2_data/digits/mnistm/data/._50907.png  \n",
            "  inflating: hw2_data/digits/mnistm/data/09872.png  \n",
            "  inflating: __MACOSX/hw2_data/digits/mnistm/data/._09872.png  \n",
            "  inflating: hw2_data/digits/mnistm/data/26891.png  \n",
            "  inflating: __MACOSX/hw2_data/digits/mnistm/data/._26891.png  \n",
            "  inflating: hw2_data/digits/mnistm/data/37744.png  \n",
            "  inflating: __MACOSX/hw2_data/digits/mnistm/data/._37744.png  \n",
            "  inflating: hw2_data/digits/mnistm/data/20238.png  \n",
            "  inflating: __MACOSX/hw2_data/digits/mnistm/data/._20238.png  \n",
            "  inflating: hw2_data/digits/mnistm/data/38477.png  \n",
            "  inflating: __MACOSX/hw2_data/digits/mnistm/data/._38477.png  \n",
            "  inflating: hw2_data/digits/mnistm/data/17494.png  \n",
            "  inflating: __MACOSX/hw2_data/digits/mnistm/data/._17494.png  \n",
            "  inflating: hw2_data/digits/mnistm/data/39769.png  \n",
            "  inflating: __MACOSX/hw2_data/digits/mnistm/data/._39769.png  \n",
            "  inflating: hw2_data/digits/mnistm/data/48190.png  \n",
            "  inflating: __MACOSX/hw2_data/digits/mnistm/data/._48190.png  \n",
            "  inflating: hw2_data/digits/mnistm/data/21126.png  \n",
            "  inflating: __MACOSX/hw2_data/digits/mnistm/data/._21126.png  \n",
            "  inflating: hw2_data/digits/mnistm/data/26649.png  \n",
            "  inflating: __MACOSX/hw2_data/digits/mnistm/data/._26649.png  \n",
            "  inflating: hw2_data/digits/mnistm/data/31335.png  \n",
            "  inflating: __MACOSX/hw2_data/digits/mnistm/data/._31335.png  \n",
            "  inflating: hw2_data/digits/mnistm/data/06599.png  \n",
            "  inflating: __MACOSX/hw2_data/digits/mnistm/data/._06599.png  \n",
            "  inflating: hw2_data/digits/mnistm/data/27543.png  \n",
            "  inflating: __MACOSX/hw2_data/digits/mnistm/data/._27543.png  \n",
            "  inflating: hw2_data/digits/mnistm/data/50913.png  \n",
            "  inflating: __MACOSX/hw2_data/digits/mnistm/data/._50913.png  \n",
            "  inflating: hw2_data/digits/mnistm/data/16946.png  \n",
            "  inflating: __MACOSX/hw2_data/digits/mnistm/data/._16946.png  \n",
            "  inflating: hw2_data/digits/mnistm/data/07693.png  \n",
            "  inflating: __MACOSX/hw2_data/digits/mnistm/data/._07693.png  \n",
            "  inflating: hw2_data/digits/mnistm/data/28670.png  \n",
            "  inflating: __MACOSX/hw2_data/digits/mnistm/data/._28670.png  \n",
            "  inflating: hw2_data/digits/mnistm/data/37750.png  \n",
            "  inflating: __MACOSX/hw2_data/digits/mnistm/data/._37750.png  \n",
            "  inflating: hw2_data/digits/mnistm/data/26885.png  \n",
            "  inflating: __MACOSX/hw2_data/digits/mnistm/data/._26885.png  \n",
            "  inflating: hw2_data/digits/mnistm/data/09866.png  \n",
            "  inflating: __MACOSX/hw2_data/digits/mnistm/data/._09866.png  \n",
            "  inflating: hw2_data/digits/mnistm/data/17480.png  \n",
            "  inflating: __MACOSX/hw2_data/digits/mnistm/data/._17480.png  \n",
            "  inflating: hw2_data/digits/mnistm/data/38463.png  \n",
            "  inflating: __MACOSX/hw2_data/digits/mnistm/data/._38463.png  \n",
            "  inflating: hw2_data/digits/mnistm/data/21132.png  \n",
            "  inflating: __MACOSX/hw2_data/digits/mnistm/data/._21132.png  \n",
            "  inflating: hw2_data/digits/mnistm/data/48184.png  \n",
            "  inflating: __MACOSX/hw2_data/digits/mnistm/data/._48184.png  \n",
            "  inflating: hw2_data/digits/mnistm/data/37988.png  \n",
            "  inflating: __MACOSX/hw2_data/digits/mnistm/data/._37988.png  \n",
            "  inflating: hw2_data/digits/mnistm/data/31321.png  \n",
            "  inflating: __MACOSX/hw2_data/digits/mnistm/data/._31321.png  \n",
            "  inflating: hw2_data/digits/mnistm/data/32628.png  \n",
            "  inflating: __MACOSX/hw2_data/digits/mnistm/data/._32628.png  \n",
            "  inflating: hw2_data/digits/mnistm/data/05084.png  \n",
            "  inflating: __MACOSX/hw2_data/digits/mnistm/data/._05084.png  \n",
            "  inflating: hw2_data/digits/mnistm/data/25354.png  \n",
            "  inflating: __MACOSX/hw2_data/digits/mnistm/data/._25354.png  \n",
            "  inflating: hw2_data/digits/mnistm/data/15297.png  \n",
            "  inflating: __MACOSX/hw2_data/digits/mnistm/data/._15297.png  \n",
            "  inflating: hw2_data/digits/mnistm/data/35147.png  \n",
            "  inflating: __MACOSX/hw2_data/digits/mnistm/data/._35147.png  \n",
            "  inflating: hw2_data/digits/mnistm/data/23725.png  \n",
            "  inflating: __MACOSX/hw2_data/digits/mnistm/data/._23725.png  \n",
            "  inflating: hw2_data/digits/mnistm/data/14189.png  \n",
            "  inflating: __MACOSX/hw2_data/digits/mnistm/data/._14189.png  \n",
            "  inflating: hw2_data/digits/mnistm/data/34259.png  \n",
            "  inflating: __MACOSX/hw2_data/digits/mnistm/data/._34259.png  \n",
            "  inflating: hw2_data/digits/mnistm/data/33536.png  \n",
            "  inflating: __MACOSX/hw2_data/digits/mnistm/data/._33536.png  \n",
            "  inflating: hw2_data/digits/mnistm/data/02933.png  \n",
            "  inflating: __MACOSX/hw2_data/digits/mnistm/data/._02933.png  \n",
            "  inflating: hw2_data/digits/mnistm/data/44966.png  \n",
            "  inflating: __MACOSX/hw2_data/digits/mnistm/data/._44966.png  \n",
            "  inflating: hw2_data/digits/mnistm/data/33250.png  \n",
            "  inflating: __MACOSX/hw2_data/digits/mnistm/data/._33250.png  \n",
            "  inflating: hw2_data/digits/mnistm/data/13180.png  \n",
            "  inflating: __MACOSX/hw2_data/digits/mnistm/data/._13180.png  \n",
            "  inflating: hw2_data/digits/mnistm/data/23043.png  \n",
            "  inflating: __MACOSX/hw2_data/digits/mnistm/data/._23043.png  \n",
            "  inflating: hw2_data/digits/mnistm/data/03393.png  \n",
            "  inflating: __MACOSX/hw2_data/digits/mnistm/data/._03393.png  \n",
            "  inflating: hw2_data/digits/mnistm/data/35621.png  \n",
            "  inflating: __MACOSX/hw2_data/digits/mnistm/data/._35621.png  \n",
            "  inflating: hw2_data/digits/mnistm/data/52862.png  \n",
            "  inflating: __MACOSX/hw2_data/digits/mnistm/data/._52862.png  \n",
            "  inflating: hw2_data/digits/mnistm/data/14837.png  \n",
            "  inflating: __MACOSX/hw2_data/digits/mnistm/data/._14837.png  \n",
            "  inflating: hw2_data/digits/mnistm/data/25432.png  \n",
            "  inflating: __MACOSX/hw2_data/digits/mnistm/data/._25432.png  \n",
            "  inflating: hw2_data/digits/mnistm/data/00842.png  \n",
            "  inflating: __MACOSX/hw2_data/digits/mnistm/data/._00842.png  \n",
            "  inflating: hw2_data/digits/mnistm/data/11797.png  \n",
            "  inflating: __MACOSX/hw2_data/digits/mnistm/data/._11797.png  \n",
            "  inflating: hw2_data/digits/mnistm/data/46817.png  \n",
            "  inflating: __MACOSX/hw2_data/digits/mnistm/data/._46817.png  \n",
            "  inflating: hw2_data/digits/mnistm/data/29208.png  \n",
            "  inflating: __MACOSX/hw2_data/digits/mnistm/data/._29208.png  \n",
            "  inflating: hw2_data/digits/mnistm/data/31447.png  \n",
            "  inflating: __MACOSX/hw2_data/digits/mnistm/data/._31447.png  \n",
            "  inflating: hw2_data/digits/mnistm/data/36328.png  \n",
            "  inflating: __MACOSX/hw2_data/digits/mnistm/data/._36328.png  \n",
            "  inflating: hw2_data/digits/mnistm/data/01584.png  \n",
            "  inflating: __MACOSX/hw2_data/digits/mnistm/data/._01584.png  \n",
            "  inflating: hw2_data/digits/mnistm/data/21654.png  \n",
            "  inflating: __MACOSX/hw2_data/digits/mnistm/data/._21654.png  \n",
            "  inflating: hw2_data/digits/mnistm/data/30981.png  \n",
            "  inflating: __MACOSX/hw2_data/digits/mnistm/data/._30981.png  \n",
            "  inflating: hw2_data/digits/mnistm/data/37036.png  \n",
            "  inflating: __MACOSX/hw2_data/digits/mnistm/data/._37036.png  \n",
            "  inflating: hw2_data/digits/mnistm/data/38305.png  \n",
            "  inflating: __MACOSX/hw2_data/digits/mnistm/data/._38305.png  \n",
            "  inflating: hw2_data/digits/mnistm/data/27225.png  \n",
            "  inflating: __MACOSX/hw2_data/digits/mnistm/data/._27225.png  \n",
            "  inflating: hw2_data/digits/mnistm/data/10489.png  \n",
            "  inflating: __MACOSX/hw2_data/digits/mnistm/data/._10489.png  \n",
            "  inflating: hw2_data/digits/mnistm/data/30759.png  \n",
            "  inflating: __MACOSX/hw2_data/digits/mnistm/data/._30759.png  \n",
            "  inflating: hw2_data/digits/mnistm/data/28116.png  \n",
            "  inflating: __MACOSX/hw2_data/digits/mnistm/data/._28116.png  \n",
            "  inflating: hw2_data/digits/mnistm/data/46340.png  \n",
            "  inflating: __MACOSX/hw2_data/digits/mnistm/data/._46340.png  \n",
            "  inflating: hw2_data/digits/mnistm/data/00315.png  \n",
            "  inflating: __MACOSX/hw2_data/digits/mnistm/data/._00315.png  \n",
            "  inflating: hw2_data/digits/mnistm/data/17669.png  \n",
            "  inflating: __MACOSX/hw2_data/digits/mnistm/data/._17669.png  \n",
            "  inflating: hw2_data/digits/mnistm/data/49073.png  \n",
            "  inflating: __MACOSX/hw2_data/digits/mnistm/data/._49073.png  \n",
            "  inflating: hw2_data/digits/mnistm/data/10106.png  \n",
            "  inflating: __MACOSX/hw2_data/digits/mnistm/data/._10106.png  \n",
            "  inflating: hw2_data/digits/mnistm/data/08749.png  \n",
            "  inflating: __MACOSX/hw2_data/digits/mnistm/data/._08749.png  \n",
            "  inflating: hw2_data/digits/mnistm/data/28499.png  \n",
            "  inflating: __MACOSX/hw2_data/digits/mnistm/data/._28499.png  \n",
            "  inflating: hw2_data/digits/mnistm/data/09457.png  \n",
            "  inflating: __MACOSX/hw2_data/digits/mnistm/data/._09457.png  \n",
            "  inflating: hw2_data/digits/mnistm/data/11218.png  \n",
            "  inflating: __MACOSX/hw2_data/digits/mnistm/data/._11218.png  \n",
            "  inflating: hw2_data/digits/mnistm/data/40731.png  \n",
            "  inflating: __MACOSX/hw2_data/digits/mnistm/data/._40731.png  \n",
            "  inflating: hw2_data/digits/mnistm/data/29787.png  \n",
            "  inflating: __MACOSX/hw2_data/digits/mnistm/data/._29787.png  \n",
            "  inflating: hw2_data/digits/mnistm/data/06764.png  \n",
            "  inflating: __MACOSX/hw2_data/digits/mnistm/data/._06764.png  \n",
            "  inflating: hw2_data/digits/mnistm/data/38852.png  \n",
            "  inflating: __MACOSX/hw2_data/digits/mnistm/data/._38852.png  \n",
            "  inflating: hw2_data/digits/mnistm/data/08991.png  \n",
            "  inflating: __MACOSX/hw2_data/digits/mnistm/data/._08991.png  \n",
            "  inflating: hw2_data/digits/mnistm/data/27972.png  \n",
            "  inflating: __MACOSX/hw2_data/digits/mnistm/data/._27972.png  \n",
            "  inflating: hw2_data/digits/mnistm/data/19644.png  \n",
            "  inflating: __MACOSX/hw2_data/digits/mnistm/data/._19644.png  \n",
            "  inflating: hw2_data/digits/mnistm/data/39594.png  \n",
            "  inflating: __MACOSX/hw2_data/digits/mnistm/data/._39594.png  \n",
            "  inflating: hw2_data/digits/mnistm/data/16577.png  \n",
            "  inflating: __MACOSX/hw2_data/digits/mnistm/data/._16577.png  \n",
            "  inflating: hw2_data/digits/mnistm/data/50522.png  \n",
            "  inflating: __MACOSX/hw2_data/digits/mnistm/data/._50522.png  \n",
            "  inflating: hw2_data/digits/mnistm/data/33907.png  \n",
            "  inflating: __MACOSX/hw2_data/digits/mnistm/data/._33907.png  \n",
            "  inflating: hw2_data/digits/mnistm/data/44557.png  \n",
            "  inflating: __MACOSX/hw2_data/digits/mnistm/data/._44557.png  \n",
            "  inflating: hw2_data/digits/mnistm/data/02502.png  \n",
            "  inflating: __MACOSX/hw2_data/digits/mnistm/data/._02502.png  \n",
            "  inflating: hw2_data/digits/mnistm/data/43238.png  \n",
            "  inflating: __MACOSX/hw2_data/digits/mnistm/data/._43238.png  \n",
            "  inflating: hw2_data/digits/mnistm/data/12711.png  \n",
            "  inflating: __MACOSX/hw2_data/digits/mnistm/data/._12711.png  \n",
            "  inflating: hw2_data/digits/mnistm/data/45891.png  \n",
            "  inflating: __MACOSX/hw2_data/digits/mnistm/data/._45891.png  \n",
            "  inflating: hw2_data/digits/mnistm/data/54744.png  \n",
            "  inflating: __MACOSX/hw2_data/digits/mnistm/data/._54744.png  \n",
            "  inflating: hw2_data/digits/mnistm/data/42126.png  \n",
            "  inflating: __MACOSX/hw2_data/digits/mnistm/data/._42126.png  \n",
            "  inflating: hw2_data/digits/mnistm/data/04173.png  \n",
            "  inflating: __MACOSX/hw2_data/digits/mnistm/data/._04173.png  \n",
            "  inflating: hw2_data/digits/mnistm/data/14360.png  \n",
            "  inflating: __MACOSX/hw2_data/digits/mnistm/data/._14360.png  \n",
            "  inflating: hw2_data/digits/mnistm/data/52335.png  \n",
            "  inflating: __MACOSX/hw2_data/digits/mnistm/data/._52335.png  \n",
            "  inflating: hw2_data/digits/mnistm/data/45649.png  \n",
            "  inflating: __MACOSX/hw2_data/digits/mnistm/data/._45649.png  \n",
            "  inflating: hw2_data/digits/mnistm/data/14406.png  \n",
            "  inflating: __MACOSX/hw2_data/digits/mnistm/data/._14406.png  \n",
            "  inflating: hw2_data/digits/mnistm/data/52453.png  \n",
            "  inflating: __MACOSX/hw2_data/digits/mnistm/data/._52453.png  \n",
            "  inflating: hw2_data/digits/mnistm/data/25803.png  \n",
            "  inflating: __MACOSX/hw2_data/digits/mnistm/data/._25803.png  \n",
            "  inflating: hw2_data/digits/mnistm/data/53995.png  \n",
            "  inflating: __MACOSX/hw2_data/digits/mnistm/data/._53995.png  \n",
            "  inflating: hw2_data/digits/mnistm/data/42640.png  \n",
            "  inflating: __MACOSX/hw2_data/digits/mnistm/data/._42640.png  \n",
            "  inflating: hw2_data/digits/mnistm/data/04615.png  \n",
            "  inflating: __MACOSX/hw2_data/digits/mnistm/data/._04615.png  \n",
            "  inflating: hw2_data/digits/mnistm/data/13369.png  \n",
            "  inflating: __MACOSX/hw2_data/digits/mnistm/data/._13369.png  \n",
            "  inflating: hw2_data/digits/mnistm/data/12077.png  \n",
            "  inflating: __MACOSX/hw2_data/digits/mnistm/data/._12077.png  \n",
            "  inflating: hw2_data/digits/mnistm/data/54022.png  \n",
            "  inflating: __MACOSX/hw2_data/digits/mnistm/data/._54022.png  \n",
            "  inflating: hw2_data/digits/mnistm/data/42898.png  \n",
            "  inflating: __MACOSX/hw2_data/digits/mnistm/data/._42898.png  \n",
            "  inflating: hw2_data/digits/mnistm/data/15718.png  \n",
            "  inflating: __MACOSX/hw2_data/digits/mnistm/data/._15718.png  \n",
            "  inflating: hw2_data/digits/mnistm/data/44231.png  \n",
            "  inflating: __MACOSX/hw2_data/digits/mnistm/data/._44231.png  \n",
            "  inflating: hw2_data/digits/mnistm/data/02264.png  \n",
            "  inflating: __MACOSX/hw2_data/digits/mnistm/data/._02264.png  \n",
            "  inflating: hw2_data/digits/mnistm/data/19122.png  \n",
            "  inflating: __MACOSX/hw2_data/digits/mnistm/data/._19122.png  \n",
            "  inflating: hw2_data/digits/mnistm/data/47738.png  \n",
            "  inflating: __MACOSX/hw2_data/digits/mnistm/data/._47738.png  \n",
            "  inflating: hw2_data/digits/mnistm/data/16211.png  \n",
            "  inflating: __MACOSX/hw2_data/digits/mnistm/data/._16211.png  \n",
            "  inflating: hw2_data/digits/mnistm/data/50244.png  \n",
            "  inflating: __MACOSX/hw2_data/digits/mnistm/data/._50244.png  \n",
            "  inflating: hw2_data/digits/mnistm/data/09331.png  \n",
            "  inflating: __MACOSX/hw2_data/digits/mnistm/data/._09331.png  \n",
            "  inflating: hw2_data/digits/mnistm/data/40057.png  \n",
            "  inflating: __MACOSX/hw2_data/digits/mnistm/data/._40057.png  \n",
            "  inflating: hw2_data/digits/mnistm/data/06002.png  \n",
            "  inflating: __MACOSX/hw2_data/digits/mnistm/data/._06002.png  \n",
            "  inflating: hw2_data/digits/mnistm/data/10660.png  \n",
            "  inflating: __MACOSX/hw2_data/digits/mnistm/data/._10660.png  \n",
            "  inflating: hw2_data/digits/mnistm/data/41349.png  \n",
            "  inflating: __MACOSX/hw2_data/digits/mnistm/data/._41349.png  \n",
            "  inflating: hw2_data/digits/mnistm/data/46426.png  \n",
            "  inflating: __MACOSX/hw2_data/digits/mnistm/data/._46426.png  \n",
            "  inflating: hw2_data/digits/mnistm/data/00473.png  \n",
            "  inflating: __MACOSX/hw2_data/digits/mnistm/data/._00473.png  \n",
            "  inflating: hw2_data/digits/mnistm/data/31876.png  \n",
            "  inflating: __MACOSX/hw2_data/digits/mnistm/data/._31876.png  \n",
            "  inflating: hw2_data/digits/mnistm/data/49715.png  \n",
            "  inflating: __MACOSX/hw2_data/digits/mnistm/data/._49715.png  \n",
            "  inflating: hw2_data/digits/mnistm/data/19136.png  \n",
            "  inflating: __MACOSX/hw2_data/digits/mnistm/data/._19136.png  \n",
            "  inflating: hw2_data/digits/mnistm/data/01779.png  \n",
            "  inflating: __MACOSX/hw2_data/digits/mnistm/data/._01779.png  \n",
            "  inflating: hw2_data/digits/mnistm/data/50250.png  \n",
            "  inflating: __MACOSX/hw2_data/digits/mnistm/data/._50250.png  \n",
            "  inflating: hw2_data/digits/mnistm/data/16205.png  \n",
            "  inflating: __MACOSX/hw2_data/digits/mnistm/data/._16205.png  \n",
            "  inflating: hw2_data/digits/mnistm/data/09325.png  \n",
            "  inflating: __MACOSX/hw2_data/digits/mnistm/data/._09325.png  \n",
            "  inflating: hw2_data/digits/mnistm/data/06016.png  \n",
            "  inflating: __MACOSX/hw2_data/digits/mnistm/data/._06016.png  \n",
            "  inflating: hw2_data/digits/mnistm/data/40043.png  \n",
            "  inflating: __MACOSX/hw2_data/digits/mnistm/data/._40043.png  \n",
            "  inflating: hw2_data/digits/mnistm/data/10674.png  \n",
            "  inflating: __MACOSX/hw2_data/digits/mnistm/data/._10674.png  \n",
            "  inflating: hw2_data/digits/mnistm/data/07308.png  \n",
            "  inflating: __MACOSX/hw2_data/digits/mnistm/data/._07308.png  \n",
            "  inflating: hw2_data/digits/mnistm/data/00467.png  \n",
            "  inflating: __MACOSX/hw2_data/digits/mnistm/data/._00467.png  \n",
            "  inflating: hw2_data/digits/mnistm/data/18228.png  \n",
            "  inflating: __MACOSX/hw2_data/digits/mnistm/data/._18228.png  \n",
            "  inflating: hw2_data/digits/mnistm/data/46432.png  \n",
            "  inflating: __MACOSX/hw2_data/digits/mnistm/data/._46432.png  \n",
            "  inflating: hw2_data/digits/mnistm/data/49701.png  \n",
            "  inflating: __MACOSX/hw2_data/digits/mnistm/data/._49701.png  \n",
            "  inflating: hw2_data/digits/mnistm/data/31862.png  \n",
            "  inflating: __MACOSX/hw2_data/digits/mnistm/data/._31862.png  \n",
            "  inflating: hw2_data/digits/mnistm/data/52447.png  \n",
            "  inflating: __MACOSX/hw2_data/digits/mnistm/data/._52447.png  \n",
            "  inflating: hw2_data/digits/mnistm/data/14412.png  \n",
            "  inflating: __MACOSX/hw2_data/digits/mnistm/data/._14412.png  \n",
            "  inflating: hw2_data/digits/mnistm/data/25817.png  \n",
            "  inflating: __MACOSX/hw2_data/digits/mnistm/data/._25817.png  \n",
            "  inflating: hw2_data/digits/mnistm/data/04601.png  \n",
            "  inflating: __MACOSX/hw2_data/digits/mnistm/data/._04601.png  \n",
            "  inflating: hw2_data/digits/mnistm/data/42654.png  \n",
            "  inflating: __MACOSX/hw2_data/digits/mnistm/data/._42654.png  \n",
            "  inflating: hw2_data/digits/mnistm/data/53981.png  \n",
            "  inflating: __MACOSX/hw2_data/digits/mnistm/data/._53981.png  \n",
            "  inflating: hw2_data/digits/mnistm/data/55328.png  \n",
            "  inflating: __MACOSX/hw2_data/digits/mnistm/data/._55328.png  \n",
            "  inflating: hw2_data/digits/mnistm/data/54036.png  \n",
            "  inflating: __MACOSX/hw2_data/digits/mnistm/data/._54036.png  \n",
            "  inflating: hw2_data/digits/mnistm/data/12063.png  \n",
            "  inflating: __MACOSX/hw2_data/digits/mnistm/data/._12063.png  \n",
            "  inflating: hw2_data/digits/mnistm/data/53759.png  \n",
            "  inflating: __MACOSX/hw2_data/digits/mnistm/data/._53759.png  \n",
            "  inflating: hw2_data/digits/mnistm/data/02270.png  \n",
            "  inflating: __MACOSX/hw2_data/digits/mnistm/data/._02270.png  \n",
            "  inflating: hw2_data/digits/mnistm/data/44225.png  \n",
            "  inflating: __MACOSX/hw2_data/digits/mnistm/data/._44225.png  \n",
            "  inflating: hw2_data/digits/mnistm/data/33913.png  \n",
            "  inflating: __MACOSX/hw2_data/digits/mnistm/data/._33913.png  \n",
            "  inflating: hw2_data/digits/mnistm/data/02516.png  \n",
            "  inflating: __MACOSX/hw2_data/digits/mnistm/data/._02516.png  \n",
            "  inflating: hw2_data/digits/mnistm/data/44543.png  \n",
            "  inflating: __MACOSX/hw2_data/digits/mnistm/data/._44543.png  \n",
            "  inflating: hw2_data/digits/mnistm/data/05279.png  \n",
            "  inflating: __MACOSX/hw2_data/digits/mnistm/data/._05279.png  \n",
            "  inflating: hw2_data/digits/mnistm/data/54750.png  \n",
            "  inflating: __MACOSX/hw2_data/digits/mnistm/data/._54750.png  \n",
            "  inflating: hw2_data/digits/mnistm/data/45885.png  \n",
            "  inflating: __MACOSX/hw2_data/digits/mnistm/data/._45885.png  \n",
            "  inflating: hw2_data/digits/mnistm/data/12705.png  \n",
            "  inflating: __MACOSX/hw2_data/digits/mnistm/data/._12705.png  \n",
            "  inflating: hw2_data/digits/mnistm/data/04167.png  \n",
            "  inflating: __MACOSX/hw2_data/digits/mnistm/data/._04167.png  \n",
            "  inflating: hw2_data/digits/mnistm/data/42132.png  \n",
            "  inflating: __MACOSX/hw2_data/digits/mnistm/data/._42132.png  \n",
            "  inflating: hw2_data/digits/mnistm/data/52321.png  \n",
            "  inflating: __MACOSX/hw2_data/digits/mnistm/data/._52321.png  \n",
            "  inflating: hw2_data/digits/mnistm/data/14374.png  \n",
            "  inflating: __MACOSX/hw2_data/digits/mnistm/data/._14374.png  \n",
            "  inflating: hw2_data/digits/mnistm/data/54988.png  \n",
            "  inflating: __MACOSX/hw2_data/digits/mnistm/data/._54988.png  \n",
            "  inflating: hw2_data/digits/mnistm/data/03608.png  \n",
            "  inflating: __MACOSX/hw2_data/digits/mnistm/data/._03608.png  \n",
            "  inflating: hw2_data/digits/mnistm/data/00301.png  \n",
            "  inflating: __MACOSX/hw2_data/digits/mnistm/data/._00301.png  \n",
            "  inflating: hw2_data/digits/mnistm/data/46354.png  \n",
            "  inflating: __MACOSX/hw2_data/digits/mnistm/data/._46354.png  \n",
            "  inflating: hw2_data/digits/mnistm/data/49067.png  \n",
            "  inflating: __MACOSX/hw2_data/digits/mnistm/data/._49067.png  \n",
            "  inflating: hw2_data/digits/mnistm/data/51628.png  \n",
            "  inflating: __MACOSX/hw2_data/digits/mnistm/data/._51628.png  \n",
            "  inflating: hw2_data/digits/mnistm/data/19888.png  \n",
            "  inflating: __MACOSX/hw2_data/digits/mnistm/data/._19888.png  \n",
            "  inflating: hw2_data/digits/mnistm/data/10112.png  \n",
            "  inflating: __MACOSX/hw2_data/digits/mnistm/data/._10112.png  \n",
            "  inflating: hw2_data/digits/mnistm/data/09443.png  \n",
            "  inflating: __MACOSX/hw2_data/digits/mnistm/data/._09443.png  \n",
            "  inflating: hw2_data/digits/mnistm/data/38846.png  \n",
            "  inflating: __MACOSX/hw2_data/digits/mnistm/data/._38846.png  \n",
            "  inflating: hw2_data/digits/mnistm/data/06770.png  \n",
            "  inflating: __MACOSX/hw2_data/digits/mnistm/data/._06770.png  \n",
            "  inflating: hw2_data/digits/mnistm/data/29793.png  \n",
            "  inflating: __MACOSX/hw2_data/digits/mnistm/data/._29793.png  \n",
            "  inflating: hw2_data/digits/mnistm/data/40725.png  \n",
            "  inflating: __MACOSX/hw2_data/digits/mnistm/data/._40725.png  \n",
            "  inflating: hw2_data/digits/mnistm/data/19650.png  \n",
            "  inflating: __MACOSX/hw2_data/digits/mnistm/data/._19650.png  \n",
            "  inflating: hw2_data/digits/mnistm/data/27966.png  \n",
            "  inflating: __MACOSX/hw2_data/digits/mnistm/data/._27966.png  \n",
            "  inflating: hw2_data/digits/mnistm/data/08985.png  \n",
            "  inflating: __MACOSX/hw2_data/digits/mnistm/data/._08985.png  \n",
            "  inflating: hw2_data/digits/mnistm/data/50536.png  \n",
            "  inflating: __MACOSX/hw2_data/digits/mnistm/data/._50536.png  \n",
            "  inflating: hw2_data/digits/mnistm/data/16563.png  \n",
            "  inflating: __MACOSX/hw2_data/digits/mnistm/data/._16563.png  \n",
            "  inflating: hw2_data/digits/mnistm/data/48379.png  \n",
            "  inflating: __MACOSX/hw2_data/digits/mnistm/data/._48379.png  \n",
            "  inflating: hw2_data/digits/mnistm/data/39580.png  \n",
            "  inflating: __MACOSX/hw2_data/digits/mnistm/data/._39580.png  \n",
            "  inflating: hw2_data/digits/mnistm/data/35392.png  \n",
            "  inflating: __MACOSX/hw2_data/digits/mnistm/data/._35392.png  \n",
            "  inflating: hw2_data/digits/mnistm/data/53017.png  \n",
            "  inflating: __MACOSX/hw2_data/digits/mnistm/data/._53017.png  \n",
            "  inflating: hw2_data/digits/mnistm/data/15042.png  \n",
            "  inflating: __MACOSX/hw2_data/digits/mnistm/data/._15042.png  \n",
            "  inflating: hw2_data/digits/mnistm/data/54778.png  \n",
            "  inflating: __MACOSX/hw2_data/digits/mnistm/data/._54778.png  \n",
            "  inflating: hw2_data/digits/mnistm/data/25181.png  \n",
            "  inflating: __MACOSX/hw2_data/digits/mnistm/data/._25181.png  \n",
            "  inflating: hw2_data/digits/mnistm/data/05251.png  \n",
            "  inflating: __MACOSX/hw2_data/digits/mnistm/data/._05251.png  \n",
            "  inflating: hw2_data/digits/mnistm/data/43204.png  \n",
            "  inflating: __MACOSX/hw2_data/digits/mnistm/data/._43204.png  \n",
            "  inflating: hw2_data/digits/mnistm/data/55466.png  \n",
            "  inflating: __MACOSX/hw2_data/digits/mnistm/data/._55466.png  \n",
            "  inflating: hw2_data/digits/mnistm/data/13433.png  \n",
            "  inflating: __MACOSX/hw2_data/digits/mnistm/data/._13433.png  \n",
            "  inflating: hw2_data/digits/mnistm/data/22836.png  \n",
            "  inflating: __MACOSX/hw2_data/digits/mnistm/data/._22836.png  \n",
            "  inflating: hw2_data/digits/mnistm/data/03620.png  \n",
            "  inflating: __MACOSX/hw2_data/digits/mnistm/data/._03620.png  \n",
            "  inflating: hw2_data/digits/mnistm/data/45675.png  \n",
            "  inflating: __MACOSX/hw2_data/digits/mnistm/data/._45675.png  \n",
            "  inflating: hw2_data/digits/mnistm/data/52309.png  \n",
            "  inflating: __MACOSX/hw2_data/digits/mnistm/data/._52309.png  \n",
            "  inflating: hw2_data/digits/mnistm/data/51600.png  \n",
            "  inflating: __MACOSX/hw2_data/digits/mnistm/data/._51600.png  \n",
            "  inflating: hw2_data/digits/mnistm/data/17655.png  \n",
            "  inflating: __MACOSX/hw2_data/digits/mnistm/data/._17655.png  \n",
            "  inflating: hw2_data/digits/mnistm/data/06980.png  \n",
            "  inflating: __MACOSX/hw2_data/digits/mnistm/data/._06980.png  \n",
            "  inflating: hw2_data/digits/mnistm/data/29963.png  \n",
            "  inflating: __MACOSX/hw2_data/digits/mnistm/data/._29963.png  \n",
            "  inflating: hw2_data/digits/mnistm/data/37585.png  \n",
            "  inflating: __MACOSX/hw2_data/digits/mnistm/data/._37585.png  \n",
            "  inflating: hw2_data/digits/mnistm/data/18566.png  \n",
            "  inflating: __MACOSX/hw2_data/digits/mnistm/data/._18566.png  \n",
            "  inflating: hw2_data/digits/mnistm/data/00329.png  \n",
            "  inflating: __MACOSX/hw2_data/digits/mnistm/data/._00329.png  \n",
            "  inflating: hw2_data/digits/mnistm/data/07446.png  \n",
            "  inflating: __MACOSX/hw2_data/digits/mnistm/data/._07446.png  \n",
            "  inflating: hw2_data/digits/mnistm/data/41413.png  \n",
            "  inflating: __MACOSX/hw2_data/digits/mnistm/data/._41413.png  \n",
            "  inflating: hw2_data/digits/mnistm/data/36843.png  \n",
            "  inflating: __MACOSX/hw2_data/digits/mnistm/data/._36843.png  \n",
            "  inflating: hw2_data/digits/mnistm/data/27796.png  \n",
            "  inflating: __MACOSX/hw2_data/digits/mnistm/data/._27796.png  \n",
            "  inflating: hw2_data/digits/mnistm/data/08775.png  \n",
            "  inflating: __MACOSX/hw2_data/digits/mnistm/data/._08775.png  \n",
            "  inflating: hw2_data/digits/mnistm/data/06758.png  \n",
            "  inflating: __MACOSX/hw2_data/digits/mnistm/data/._06758.png  \n",
            "  inflating: hw2_data/digits/mnistm/data/26488.png  \n",
            "  inflating: __MACOSX/hw2_data/digits/mnistm/data/._26488.png  \n",
            "  inflating: hw2_data/digits/mnistm/data/11224.png  \n",
            "  inflating: __MACOSX/hw2_data/digits/mnistm/data/._11224.png  \n",
            "  inflating: hw2_data/digits/mnistm/data/48351.png  \n",
            "  inflating: __MACOSX/hw2_data/digits/mnistm/data/._48351.png  \n",
            "  inflating: hw2_data/digits/mnistm/data/01037.png  \n",
            "  inflating: __MACOSX/hw2_data/digits/mnistm/data/._01037.png  \n",
            "  inflating: hw2_data/digits/mnistm/data/19678.png  \n",
            "  inflating: __MACOSX/hw2_data/digits/mnistm/data/._19678.png  \n",
            "  inflating: hw2_data/digits/mnistm/data/47062.png  \n",
            "  inflating: __MACOSX/hw2_data/digits/mnistm/data/._47062.png  \n",
            "  inflating: hw2_data/digits/mnistm/data/48437.png  \n",
            "  inflating: __MACOSX/hw2_data/digits/mnistm/data/._48437.png  \n",
            "  inflating: hw2_data/digits/mnistm/data/21481.png  \n",
            "  inflating: __MACOSX/hw2_data/digits/mnistm/data/._21481.png  \n",
            "  inflating: hw2_data/digits/mnistm/data/50278.png  \n",
            "  inflating: __MACOSX/hw2_data/digits/mnistm/data/._50278.png  \n",
            "  inflating: hw2_data/digits/mnistm/data/01751.png  \n",
            "  inflating: __MACOSX/hw2_data/digits/mnistm/data/._01751.png  \n",
            "  inflating: hw2_data/digits/mnistm/data/10884.png  \n",
            "  inflating: __MACOSX/hw2_data/digits/mnistm/data/._10884.png  \n",
            "  inflating: hw2_data/digits/mnistm/data/47704.png  \n",
            "  inflating: __MACOSX/hw2_data/digits/mnistm/data/._47704.png  \n",
            "  inflating: hw2_data/digits/mnistm/data/20947.png  \n",
            "  inflating: __MACOSX/hw2_data/digits/mnistm/data/._20947.png  \n",
            "  inflating: hw2_data/digits/mnistm/data/31692.png  \n",
            "  inflating: __MACOSX/hw2_data/digits/mnistm/data/._31692.png  \n",
            "  inflating: hw2_data/digits/mnistm/data/11542.png  \n",
            "  inflating: __MACOSX/hw2_data/digits/mnistm/data/._11542.png  \n",
            "  inflating: hw2_data/digits/mnistm/data/07320.png  \n",
            "  inflating: __MACOSX/hw2_data/digits/mnistm/data/._07320.png  \n",
            "  inflating: hw2_data/digits/mnistm/data/41375.png  \n",
            "  inflating: __MACOSX/hw2_data/digits/mnistm/data/._41375.png  \n",
            "  inflating: hw2_data/digits/mnistm/data/01989.png  \n",
            "  inflating: __MACOSX/hw2_data/digits/mnistm/data/._01989.png  \n",
            "  inflating: hw2_data/digits/mnistm/data/08013.png  \n",
            "  inflating: __MACOSX/hw2_data/digits/mnistm/data/._08013.png  \n",
            "  inflating: hw2_data/digits/mnistm/data/51166.png  \n",
            "  inflating: __MACOSX/hw2_data/digits/mnistm/data/._51166.png  \n",
            "  inflating: hw2_data/digits/mnistm/data/17133.png  \n",
            "  inflating: __MACOSX/hw2_data/digits/mnistm/data/._17133.png  \n",
            "  inflating: hw2_data/digits/mnistm/data/49729.png  \n",
            "  inflating: __MACOSX/hw2_data/digits/mnistm/data/._49729.png  \n",
            "  inflating: hw2_data/digits/mnistm/data/18200.png  \n",
            "  inflating: __MACOSX/hw2_data/digits/mnistm/data/._18200.png  \n",
            "  inflating: hw2_data/digits/mnistm/data/03146.png  \n",
            "  inflating: __MACOSX/hw2_data/digits/mnistm/data/._03146.png  \n",
            "  inflating: hw2_data/digits/mnistm/data/45113.png  \n",
            "  inflating: __MACOSX/hw2_data/digits/mnistm/data/._45113.png  \n",
            "  inflating: hw2_data/digits/mnistm/data/23296.png  \n",
            "  inflating: __MACOSX/hw2_data/digits/mnistm/data/._23296.png  \n",
            "  inflating: hw2_data/digits/mnistm/data/55300.png  \n",
            "  inflating: __MACOSX/hw2_data/digits/mnistm/data/._55300.png  \n",
            "  inflating: hw2_data/digits/mnistm/data/13355.png  \n",
            "  inflating: __MACOSX/hw2_data/digits/mnistm/data/._13355.png  \n",
            "  inflating: hw2_data/digits/mnistm/data/33085.png  \n",
            "  inflating: __MACOSX/hw2_data/digits/mnistm/data/._33085.png  \n",
            "  inflating: hw2_data/digits/mnistm/data/04629.png  \n",
            "  inflating: __MACOSX/hw2_data/digits/mnistm/data/._04629.png  \n",
            "  inflating: hw2_data/digits/mnistm/data/34932.png  \n",
            "  inflating: __MACOSX/hw2_data/digits/mnistm/data/._34932.png  \n",
            "  inflating: hw2_data/digits/mnistm/data/05537.png  \n",
            "  inflating: __MACOSX/hw2_data/digits/mnistm/data/._05537.png  \n",
            "  inflating: hw2_data/digits/mnistm/data/43562.png  \n",
            "  inflating: __MACOSX/hw2_data/digits/mnistm/data/._43562.png  \n",
            "  inflating: hw2_data/digits/mnistm/data/02258.png  \n",
            "  inflating: __MACOSX/hw2_data/digits/mnistm/data/._02258.png  \n",
            "  inflating: hw2_data/digits/mnistm/data/53771.png  \n",
            "  inflating: __MACOSX/hw2_data/digits/mnistm/data/._53771.png  \n",
            "  inflating: hw2_data/digits/mnistm/data/22188.png  \n",
            "  inflating: __MACOSX/hw2_data/digits/mnistm/data/._22188.png  \n",
            "  inflating: hw2_data/digits/mnistm/data/15724.png  \n",
            "  inflating: __MACOSX/hw2_data/digits/mnistm/data/._15724.png  \n",
            "  inflating: hw2_data/digits/mnistm/data/45107.png  \n",
            "  inflating: __MACOSX/hw2_data/digits/mnistm/data/._45107.png  \n",
            "  inflating: hw2_data/digits/mnistm/data/03152.png  \n",
            "  inflating: __MACOSX/hw2_data/digits/mnistm/data/._03152.png  \n",
            "  inflating: hw2_data/digits/mnistm/data/23282.png  \n",
            "  inflating: __MACOSX/hw2_data/digits/mnistm/data/._23282.png  \n",
            "  inflating: hw2_data/digits/mnistm/data/13341.png  \n",
            "  inflating: __MACOSX/hw2_data/digits/mnistm/data/._13341.png  \n",
            "  inflating: hw2_data/digits/mnistm/data/55314.png  \n",
            "  inflating: __MACOSX/hw2_data/digits/mnistm/data/._55314.png  \n",
            "  inflating: hw2_data/digits/mnistm/data/33091.png  \n",
            "  inflating: __MACOSX/hw2_data/digits/mnistm/data/._33091.png  \n",
            "  inflating: hw2_data/digits/mnistm/data/42668.png  \n",
            "  inflating: __MACOSX/hw2_data/digits/mnistm/data/._42668.png  \n",
            "  inflating: hw2_data/digits/mnistm/data/34926.png  \n",
            "  inflating: __MACOSX/hw2_data/digits/mnistm/data/._34926.png  \n",
            "  inflating: hw2_data/digits/mnistm/data/43576.png  \n",
            "  inflating: __MACOSX/hw2_data/digits/mnistm/data/._43576.png  \n",
            "  inflating: hw2_data/digits/mnistm/data/05523.png  \n",
            "  inflating: __MACOSX/hw2_data/digits/mnistm/data/._05523.png  \n",
            "  inflating: hw2_data/digits/mnistm/data/44219.png  \n",
            "  inflating: __MACOSX/hw2_data/digits/mnistm/data/._44219.png  \n",
            "  inflating: hw2_data/digits/mnistm/data/15730.png  \n",
            "  inflating: __MACOSX/hw2_data/digits/mnistm/data/._15730.png  \n",
            "  inflating: hw2_data/digits/mnistm/data/53765.png  \n",
            "  inflating: __MACOSX/hw2_data/digits/mnistm/data/._53765.png  \n",
            "  inflating: hw2_data/digits/mnistm/data/21495.png  \n",
            "  inflating: __MACOSX/hw2_data/digits/mnistm/data/._21495.png  \n",
            "  inflating: hw2_data/digits/mnistm/data/16239.png  \n",
            "  inflating: __MACOSX/hw2_data/digits/mnistm/data/._16239.png  \n",
            "  inflating: hw2_data/digits/mnistm/data/48423.png  \n",
            "  inflating: __MACOSX/hw2_data/digits/mnistm/data/._48423.png  \n",
            "  inflating: hw2_data/digits/mnistm/data/47710.png  \n",
            "  inflating: __MACOSX/hw2_data/digits/mnistm/data/._47710.png  \n",
            "  inflating: hw2_data/digits/mnistm/data/10890.png  \n",
            "  inflating: __MACOSX/hw2_data/digits/mnistm/data/._10890.png  \n",
            "  inflating: hw2_data/digits/mnistm/data/01745.png  \n",
            "  inflating: __MACOSX/hw2_data/digits/mnistm/data/._01745.png  \n",
            "  inflating: hw2_data/digits/mnistm/data/31686.png  \n",
            "  inflating: __MACOSX/hw2_data/digits/mnistm/data/._31686.png  \n",
            "  inflating: hw2_data/digits/mnistm/data/20953.png  \n",
            "  inflating: __MACOSX/hw2_data/digits/mnistm/data/._20953.png  \n",
            "  inflating: hw2_data/digits/mnistm/data/11556.png  \n",
            "  inflating: __MACOSX/hw2_data/digits/mnistm/data/._11556.png  \n",
            "  inflating: hw2_data/digits/mnistm/data/09319.png  \n",
            "  inflating: __MACOSX/hw2_data/digits/mnistm/data/._09319.png  \n",
            "  inflating: hw2_data/digits/mnistm/data/41361.png  \n",
            "  inflating: __MACOSX/hw2_data/digits/mnistm/data/._41361.png  \n",
            "  inflating: hw2_data/digits/mnistm/data/30598.png  \n",
            "  inflating: __MACOSX/hw2_data/digits/mnistm/data/._30598.png  \n",
            "  inflating: hw2_data/digits/mnistm/data/07334.png  \n",
            "  inflating: __MACOSX/hw2_data/digits/mnistm/data/._07334.png  \n",
            "  inflating: hw2_data/digits/mnistm/data/08007.png  \n",
            "  inflating: __MACOSX/hw2_data/digits/mnistm/data/._08007.png  \n",
            "  inflating: hw2_data/digits/mnistm/data/10648.png  \n",
            "  inflating: __MACOSX/hw2_data/digits/mnistm/data/._10648.png  \n",
            "  inflating: hw2_data/digits/mnistm/data/17127.png  \n",
            "  inflating: __MACOSX/hw2_data/digits/mnistm/data/._17127.png  \n",
            "  inflating: hw2_data/digits/mnistm/data/51172.png  \n",
            "  inflating: __MACOSX/hw2_data/digits/mnistm/data/._51172.png  \n",
            "  inflating: hw2_data/digits/mnistm/data/18214.png  \n",
            "  inflating: __MACOSX/hw2_data/digits/mnistm/data/._18214.png  \n",
            "  inflating: hw2_data/digits/mnistm/data/29977.png  \n",
            "  inflating: __MACOSX/hw2_data/digits/mnistm/data/._29977.png  \n",
            "  inflating: hw2_data/digits/mnistm/data/06994.png  \n",
            "  inflating: __MACOSX/hw2_data/digits/mnistm/data/._06994.png  \n",
            "  inflating: hw2_data/digits/mnistm/data/17641.png  \n",
            "  inflating: __MACOSX/hw2_data/digits/mnistm/data/._17641.png  \n",
            "  inflating: hw2_data/digits/mnistm/data/51614.png  \n",
            "  inflating: __MACOSX/hw2_data/digits/mnistm/data/._51614.png  \n",
            "  inflating: hw2_data/digits/mnistm/data/18572.png  \n",
            "  inflating: __MACOSX/hw2_data/digits/mnistm/data/._18572.png  \n",
            "  inflating: hw2_data/digits/mnistm/data/46368.png  \n",
            "  inflating: __MACOSX/hw2_data/digits/mnistm/data/._46368.png  \n",
            "  inflating: hw2_data/digits/mnistm/data/37591.png  \n",
            "  inflating: __MACOSX/hw2_data/digits/mnistm/data/._37591.png  \n",
            "  inflating: hw2_data/digits/mnistm/data/41407.png  \n",
            "  inflating: __MACOSX/hw2_data/digits/mnistm/data/._41407.png  \n",
            "  inflating: hw2_data/digits/mnistm/data/07452.png  \n",
            "  inflating: __MACOSX/hw2_data/digits/mnistm/data/._07452.png  \n",
            "  inflating: hw2_data/digits/mnistm/data/08761.png  \n",
            "  inflating: __MACOSX/hw2_data/digits/mnistm/data/._08761.png  \n",
            "  inflating: hw2_data/digits/mnistm/data/27782.png  \n",
            "  inflating: __MACOSX/hw2_data/digits/mnistm/data/._27782.png  \n",
            "  inflating: hw2_data/digits/mnistm/data/36857.png  \n",
            "  inflating: __MACOSX/hw2_data/digits/mnistm/data/._36857.png  \n",
            "  inflating: hw2_data/digits/mnistm/data/17899.png  \n",
            "  inflating: __MACOSX/hw2_data/digits/mnistm/data/._17899.png  \n",
            "  inflating: hw2_data/digits/mnistm/data/40719.png  \n",
            "  inflating: __MACOSX/hw2_data/digits/mnistm/data/._40719.png  \n",
            "  inflating: hw2_data/digits/mnistm/data/11230.png  \n",
            "  inflating: __MACOSX/hw2_data/digits/mnistm/data/._11230.png  \n",
            "  inflating: hw2_data/digits/mnistm/data/48345.png  \n",
            "  inflating: __MACOSX/hw2_data/digits/mnistm/data/._48345.png  \n",
            "  inflating: hw2_data/digits/mnistm/data/47076.png  \n",
            "  inflating: __MACOSX/hw2_data/digits/mnistm/data/._47076.png  \n",
            "  inflating: hw2_data/digits/mnistm/data/01023.png  \n",
            "  inflating: __MACOSX/hw2_data/digits/mnistm/data/._01023.png  \n",
            "  inflating: hw2_data/digits/mnistm/data/35386.png  \n",
            "  inflating: __MACOSX/hw2_data/digits/mnistm/data/._35386.png  \n",
            "  inflating: hw2_data/digits/mnistm/data/15056.png  \n",
            "  inflating: __MACOSX/hw2_data/digits/mnistm/data/._15056.png  \n",
            "  inflating: hw2_data/digits/mnistm/data/53003.png  \n",
            "  inflating: __MACOSX/hw2_data/digits/mnistm/data/._53003.png  \n",
            "  inflating: hw2_data/digits/mnistm/data/25195.png  \n",
            "  inflating: __MACOSX/hw2_data/digits/mnistm/data/._25195.png  \n",
            "  inflating: hw2_data/digits/mnistm/data/12739.png  \n",
            "  inflating: __MACOSX/hw2_data/digits/mnistm/data/._12739.png  \n",
            "  inflating: hw2_data/digits/mnistm/data/43210.png  \n",
            "  inflating: __MACOSX/hw2_data/digits/mnistm/data/._43210.png  \n",
            "  inflating: hw2_data/digits/mnistm/data/05245.png  \n",
            "  inflating: __MACOSX/hw2_data/digits/mnistm/data/._05245.png  \n",
            "  inflating: hw2_data/digits/mnistm/data/13427.png  \n",
            "  inflating: __MACOSX/hw2_data/digits/mnistm/data/._13427.png  \n",
            "  inflating: hw2_data/digits/mnistm/data/55472.png  \n",
            "  inflating: __MACOSX/hw2_data/digits/mnistm/data/._55472.png  \n",
            "  inflating: hw2_data/digits/mnistm/data/22822.png  \n",
            "  inflating: __MACOSX/hw2_data/digits/mnistm/data/._22822.png  \n",
            "  inflating: hw2_data/digits/mnistm/data/34098.png  \n",
            "  inflating: __MACOSX/hw2_data/digits/mnistm/data/._34098.png  \n",
            "  inflating: hw2_data/digits/mnistm/data/45661.png  \n",
            "  inflating: __MACOSX/hw2_data/digits/mnistm/data/._45661.png  \n",
            "  inflating: hw2_data/digits/mnistm/data/03634.png  \n",
            "  inflating: __MACOSX/hw2_data/digits/mnistm/data/._03634.png  \n",
            "  inflating: hw2_data/digits/mnistm/data/14348.png  \n",
            "  inflating: __MACOSX/hw2_data/digits/mnistm/data/._14348.png  \n",
            "  inflating: hw2_data/digits/mnistm/data/24260.png  \n",
            "  inflating: __MACOSX/hw2_data/digits/mnistm/data/._24260.png  \n",
            "  inflating: hw2_data/digits/mnistm/data/55499.png  \n",
            "  inflating: __MACOSX/hw2_data/digits/mnistm/data/._55499.png  \n",
            "  inflating: hw2_data/digits/mnistm/data/34073.png  \n",
            "  inflating: __MACOSX/hw2_data/digits/mnistm/data/._34073.png  \n",
            "  inflating: hw2_data/digits/mnistm/data/22611.png  \n",
            "  inflating: __MACOSX/hw2_data/digits/mnistm/data/._22611.png  \n",
            "  inflating: hw2_data/digits/mnistm/data/44594.png  \n",
            "  inflating: __MACOSX/hw2_data/digits/mnistm/data/._44594.png  \n",
            "  inflating: hw2_data/digits/mnistm/data/32402.png  \n",
            "  inflating: __MACOSX/hw2_data/digits/mnistm/data/._32402.png  \n",
            "  inflating: hw2_data/digits/mnistm/data/45852.png  \n",
            "  inflating: __MACOSX/hw2_data/digits/mnistm/data/._45852.png  \n",
            "  inflating: hw2_data/digits/mnistm/data/54787.png  \n",
            "  inflating: __MACOSX/hw2_data/digits/mnistm/data/._54787.png  \n",
            "  inflating: hw2_data/digits/mnistm/data/03807.png  \n",
            "  inflating: __MACOSX/hw2_data/digits/mnistm/data/._03807.png  \n",
            "  inflating: hw2_data/digits/mnistm/data/26477.png  \n",
            "  inflating: __MACOSX/hw2_data/digits/mnistm/data/._26477.png  \n",
            "  inflating: hw2_data/digits/mnistm/data/09494.png  \n",
            "  inflating: __MACOSX/hw2_data/digits/mnistm/data/._09494.png  \n",
            "  inflating: hw2_data/digits/mnistm/data/29744.png  \n",
            "  inflating: __MACOSX/hw2_data/digits/mnistm/data/._29744.png  \n",
            "  inflating: hw2_data/digits/mnistm/data/17872.png  \n",
            "  inflating: __MACOSX/hw2_data/digits/mnistm/data/._17872.png  \n",
            "  inflating: hw2_data/digits/mnistm/data/38891.png  \n",
            "  inflating: __MACOSX/hw2_data/digits/mnistm/data/._38891.png  \n",
            "  inflating: hw2_data/digits/mnistm/data/51827.png  \n",
            "  inflating: __MACOSX/hw2_data/digits/mnistm/data/._51827.png  \n",
            "  inflating: hw2_data/digits/mnistm/data/08952.png  \n",
            "  inflating: __MACOSX/hw2_data/digits/mnistm/data/._08952.png  \n",
            "  inflating: hw2_data/digits/mnistm/data/36664.png  \n",
            "  inflating: __MACOSX/hw2_data/digits/mnistm/data/._36664.png  \n",
            "  inflating: hw2_data/digits/mnistm/data/19687.png  \n",
            "  inflating: __MACOSX/hw2_data/digits/mnistm/data/._19687.png  \n",
            "  inflating: hw2_data/digits/mnistm/data/21318.png  \n",
            "  inflating: __MACOSX/hw2_data/digits/mnistm/data/._21318.png  \n",
            "  inflating: hw2_data/digits/mnistm/data/39557.png  \n",
            "  inflating: __MACOSX/hw2_data/digits/mnistm/data/._39557.png  \n",
            "  inflating: hw2_data/digits/mnistm/data/18599.png  \n",
            "  inflating: __MACOSX/hw2_data/digits/mnistm/data/._18599.png  \n",
            "  inflating: hw2_data/digits/mnistm/data/46383.png  \n",
            "  inflating: __MACOSX/hw2_data/digits/mnistm/data/._46383.png  \n",
            "  inflating: hw2_data/digits/mnistm/data/38649.png  \n",
            "  inflating: __MACOSX/hw2_data/digits/mnistm/data/._38649.png  \n",
            "  inflating: hw2_data/digits/mnistm/data/20006.png  \n",
            "  inflating: __MACOSX/hw2_data/digits/mnistm/data/._20006.png  \n",
            "  inflating: hw2_data/digits/mnistm/data/27769.png  \n",
            "  inflating: __MACOSX/hw2_data/digits/mnistm/data/._27769.png  \n",
            "  inflating: hw2_data/digits/mnistm/data/30215.png  \n",
            "  inflating: __MACOSX/hw2_data/digits/mnistm/data/._30215.png  \n",
            "  inflating: hw2_data/digits/mnistm/data/47923.png  \n",
            "  inflating: __MACOSX/hw2_data/digits/mnistm/data/._47923.png  \n",
            "  inflating: hw2_data/digits/mnistm/data/01976.png  \n",
            "  inflating: __MACOSX/hw2_data/digits/mnistm/data/._01976.png  \n",
            "  inflating: hw2_data/digits/mnistm/data/30573.png  \n",
            "  inflating: __MACOSX/hw2_data/digits/mnistm/data/._30573.png  \n",
            "  inflating: hw2_data/digits/mnistm/data/51199.png  \n",
            "  inflating: __MACOSX/hw2_data/digits/mnistm/data/._51199.png  \n",
            "  inflating: hw2_data/digits/mnistm/data/20760.png  \n",
            "  inflating: __MACOSX/hw2_data/digits/mnistm/data/._20760.png  \n",
            "  inflating: hw2_data/digits/mnistm/data/36102.png  \n",
            "  inflating: __MACOSX/hw2_data/digits/mnistm/data/._36102.png  \n",
            "  inflating: hw2_data/digits/mnistm/data/50287.png  \n",
            "  inflating: __MACOSX/hw2_data/digits/mnistm/data/._50287.png  \n",
            "  inflating: hw2_data/digits/mnistm/data/39231.png  \n",
            "  inflating: __MACOSX/hw2_data/digits/mnistm/data/._39231.png  \n",
            "  inflating: hw2_data/digits/mnistm/data/26311.png  \n",
            "  inflating: __MACOSX/hw2_data/digits/mnistm/data/._26311.png  \n",
            "  inflating: hw2_data/digits/mnistm/data/29022.png  \n",
            "  inflating: __MACOSX/hw2_data/digits/mnistm/data/._29022.png  \n",
            "  inflating: hw2_data/digits/mnistm/data/40094.png  \n",
            "  inflating: __MACOSX/hw2_data/digits/mnistm/data/._40094.png  \n",
            "  inflating: hw2_data/digits/mnistm/data/32364.png  \n",
            "  inflating: __MACOSX/hw2_data/digits/mnistm/data/._32364.png  \n",
            "  inflating: hw2_data/digits/mnistm/data/25618.png  \n",
            "  inflating: __MACOSX/hw2_data/digits/mnistm/data/._25618.png  \n",
            "  inflating: hw2_data/digits/mnistm/data/22177.png  \n",
            "  inflating: __MACOSX/hw2_data/digits/mnistm/data/._22177.png  \n",
            "  inflating: hw2_data/digits/mnistm/data/23269.png  \n",
            "  inflating: __MACOSX/hw2_data/digits/mnistm/data/._23269.png  \n",
            "  inflating: hw2_data/digits/mnistm/data/52490.png  \n",
            "  inflating: __MACOSX/hw2_data/digits/mnistm/data/._52490.png  \n",
            "  inflating: hw2_data/digits/mnistm/data/34715.png  \n",
            "  inflating: __MACOSX/hw2_data/digits/mnistm/data/._34715.png  \n",
            "  inflating: hw2_data/digits/mnistm/data/15903.png  \n",
            "  inflating: __MACOSX/hw2_data/digits/mnistm/data/._15903.png  \n",
            "  inflating: hw2_data/digits/mnistm/data/53956.png  \n",
            "  inflating: __MACOSX/hw2_data/digits/mnistm/data/._53956.png  \n",
            "  inflating: hw2_data/digits/mnistm/data/42683.png  \n",
            "  inflating: __MACOSX/hw2_data/digits/mnistm/data/._42683.png  \n",
            "  inflating: hw2_data/digits/mnistm/data/24506.png  \n",
            "  inflating: __MACOSX/hw2_data/digits/mnistm/data/._24506.png  \n",
            "  inflating: hw2_data/digits/mnistm/data/43589.png  \n",
            "  inflating: __MACOSX/hw2_data/digits/mnistm/data/._43589.png  \n",
            "  inflating: hw2_data/digits/mnistm/data/32370.png  \n",
            "  inflating: __MACOSX/hw2_data/digits/mnistm/data/._32370.png  \n",
            "  inflating: hw2_data/digits/mnistm/data/22163.png  \n",
            "  inflating: __MACOSX/hw2_data/digits/mnistm/data/._22163.png  \n",
            "  inflating: hw2_data/digits/mnistm/data/52484.png  \n",
            "  inflating: __MACOSX/hw2_data/digits/mnistm/data/._52484.png  \n",
            "  inflating: hw2_data/digits/mnistm/data/34701.png  \n",
            "  inflating: __MACOSX/hw2_data/digits/mnistm/data/._34701.png  \n",
            "  inflating: hw2_data/digits/mnistm/data/42697.png  \n",
            "  inflating: __MACOSX/hw2_data/digits/mnistm/data/._42697.png  \n",
            "  inflating: hw2_data/digits/mnistm/data/53942.png  \n",
            "  inflating: __MACOSX/hw2_data/digits/mnistm/data/._53942.png  \n",
            "  inflating: hw2_data/digits/mnistm/data/15917.png  \n",
            "  inflating: __MACOSX/hw2_data/digits/mnistm/data/._15917.png  \n",
            "  inflating: hw2_data/digits/mnistm/data/24512.png  \n",
            "  inflating: __MACOSX/hw2_data/digits/mnistm/data/._24512.png  \n",
            "  inflating: hw2_data/digits/mnistm/data/01962.png  \n",
            "  inflating: __MACOSX/hw2_data/digits/mnistm/data/._01962.png  \n",
            "  inflating: hw2_data/digits/mnistm/data/47937.png  \n",
            "  inflating: __MACOSX/hw2_data/digits/mnistm/data/._47937.png  \n",
            "  inflating: hw2_data/digits/mnistm/data/28328.png  \n",
            "  inflating: __MACOSX/hw2_data/digits/mnistm/data/._28328.png  \n",
            "  inflating: hw2_data/digits/mnistm/data/30567.png  \n",
            "  inflating: __MACOSX/hw2_data/digits/mnistm/data/._30567.png  \n",
            "  inflating: hw2_data/digits/mnistm/data/37208.png  \n",
            "  inflating: __MACOSX/hw2_data/digits/mnistm/data/._37208.png  \n",
            "  inflating: hw2_data/digits/mnistm/data/20774.png  \n",
            "  inflating: __MACOSX/hw2_data/digits/mnistm/data/._20774.png  \n",
            "  inflating: hw2_data/digits/mnistm/data/36116.png  \n",
            "  inflating: __MACOSX/hw2_data/digits/mnistm/data/._36116.png  \n",
            "  inflating: hw2_data/digits/mnistm/data/39225.png  \n",
            "  inflating: __MACOSX/hw2_data/digits/mnistm/data/._39225.png  \n",
            "  inflating: hw2_data/digits/mnistm/data/50293.png  \n",
            "  inflating: __MACOSX/hw2_data/digits/mnistm/data/._50293.png  \n",
            "  inflating: hw2_data/digits/mnistm/data/26305.png  \n",
            "  inflating: __MACOSX/hw2_data/digits/mnistm/data/._26305.png  \n",
            "  inflating: hw2_data/digits/mnistm/data/31679.png  \n",
            "  inflating: __MACOSX/hw2_data/digits/mnistm/data/._31679.png  \n",
            "  inflating: hw2_data/digits/mnistm/data/40080.png  \n",
            "  inflating: __MACOSX/hw2_data/digits/mnistm/data/._40080.png  \n",
            "  inflating: hw2_data/digits/mnistm/data/29036.png  \n",
            "  inflating: __MACOSX/hw2_data/digits/mnistm/data/._29036.png  \n",
            "  inflating: hw2_data/digits/mnistm/data/09480.png  \n",
            "  inflating: __MACOSX/hw2_data/digits/mnistm/data/._09480.png  \n",
            "  inflating: hw2_data/digits/mnistm/data/26463.png  \n",
            "  inflating: __MACOSX/hw2_data/digits/mnistm/data/._26463.png  \n",
            "  inflating: hw2_data/digits/mnistm/data/51833.png  \n",
            "  inflating: __MACOSX/hw2_data/digits/mnistm/data/._51833.png  \n",
            "  inflating: hw2_data/digits/mnistm/data/38885.png  \n",
            "  inflating: __MACOSX/hw2_data/digits/mnistm/data/._38885.png  \n",
            "  inflating: hw2_data/digits/mnistm/data/17866.png  \n",
            "  inflating: __MACOSX/hw2_data/digits/mnistm/data/._17866.png  \n",
            "  inflating: hw2_data/digits/mnistm/data/29750.png  \n",
            "  inflating: __MACOSX/hw2_data/digits/mnistm/data/._29750.png  \n",
            "  inflating: hw2_data/digits/mnistm/data/19693.png  \n",
            "  inflating: __MACOSX/hw2_data/digits/mnistm/data/._19693.png  \n",
            "  inflating: hw2_data/digits/mnistm/data/36670.png  \n",
            "  inflating: __MACOSX/hw2_data/digits/mnistm/data/._36670.png  \n",
            "  inflating: hw2_data/digits/mnistm/data/47089.png  \n",
            "  inflating: __MACOSX/hw2_data/digits/mnistm/data/._47089.png  \n",
            "  inflating: hw2_data/digits/mnistm/data/08946.png  \n",
            "  inflating: __MACOSX/hw2_data/digits/mnistm/data/._08946.png  \n",
            "  inflating: hw2_data/digits/mnistm/data/39543.png  \n",
            "  inflating: __MACOSX/hw2_data/digits/mnistm/data/._39543.png  \n",
            "  inflating: hw2_data/digits/mnistm/data/46397.png  \n",
            "  inflating: __MACOSX/hw2_data/digits/mnistm/data/._46397.png  \n",
            "  inflating: hw2_data/digits/mnistm/data/20012.png  \n",
            "  inflating: __MACOSX/hw2_data/digits/mnistm/data/._20012.png  \n",
            "  inflating: hw2_data/digits/mnistm/data/29988.png  \n",
            "  inflating: __MACOSX/hw2_data/digits/mnistm/data/._29988.png  \n",
            "  inflating: hw2_data/digits/mnistm/data/30201.png  \n",
            "  inflating: __MACOSX/hw2_data/digits/mnistm/data/._30201.png  \n",
            "  inflating: hw2_data/digits/mnistm/data/33708.png  \n",
            "  inflating: __MACOSX/hw2_data/digits/mnistm/data/._33708.png  \n",
            "  inflating: hw2_data/digits/mnistm/data/24274.png  \n",
            "  inflating: __MACOSX/hw2_data/digits/mnistm/data/._24274.png  \n",
            "  inflating: hw2_data/digits/mnistm/data/34067.png  \n",
            "  inflating: __MACOSX/hw2_data/digits/mnistm/data/._34067.png  \n",
            "  inflating: hw2_data/digits/mnistm/data/22605.png  \n",
            "  inflating: __MACOSX/hw2_data/digits/mnistm/data/._22605.png  \n",
            "  inflating: hw2_data/digits/mnistm/data/44580.png  \n",
            "  inflating: __MACOSX/hw2_data/digits/mnistm/data/._44580.png  \n",
            "  inflating: hw2_data/digits/mnistm/data/35379.png  \n",
            "  inflating: __MACOSX/hw2_data/digits/mnistm/data/._35379.png  \n",
            "  inflating: hw2_data/digits/mnistm/data/32416.png  \n",
            "  inflating: __MACOSX/hw2_data/digits/mnistm/data/._32416.png  \n",
            "  inflating: hw2_data/digits/mnistm/data/03813.png  \n",
            "  inflating: __MACOSX/hw2_data/digits/mnistm/data/._03813.png  \n",
            "  inflating: hw2_data/digits/mnistm/data/54793.png  \n",
            "  inflating: __MACOSX/hw2_data/digits/mnistm/data/._54793.png  \n",
            "  inflating: hw2_data/digits/mnistm/data/45846.png  \n",
            "  inflating: __MACOSX/hw2_data/digits/mnistm/data/._45846.png  \n",
            "  inflating: hw2_data/digits/mnistm/data/29778.png  \n",
            "  inflating: __MACOSX/hw2_data/digits/mnistm/data/._29778.png  \n",
            "  inflating: hw2_data/digits/mnistm/data/31137.png  \n",
            "  inflating: __MACOSX/hw2_data/digits/mnistm/data/._31137.png  \n",
            "  inflating: hw2_data/digits/mnistm/data/21324.png  \n",
            "  inflating: __MACOSX/hw2_data/digits/mnistm/data/._21324.png  \n",
            "  inflating: hw2_data/digits/mnistm/data/16588.png  \n",
            "  inflating: __MACOSX/hw2_data/digits/mnistm/data/._16588.png  \n",
            "  inflating: hw2_data/digits/mnistm/data/48392.png  \n",
            "  inflating: __MACOSX/hw2_data/digits/mnistm/data/._48392.png  \n",
            "  inflating: hw2_data/digits/mnistm/data/36658.png  \n",
            "  inflating: __MACOSX/hw2_data/digits/mnistm/data/._36658.png  \n",
            "  inflating: hw2_data/digits/mnistm/data/38675.png  \n",
            "  inflating: __MACOSX/hw2_data/digits/mnistm/data/._38675.png  \n",
            "  inflating: hw2_data/digits/mnistm/data/17696.png  \n",
            "  inflating: __MACOSX/hw2_data/digits/mnistm/data/._17696.png  \n",
            "  inflating: hw2_data/digits/mnistm/data/06943.png  \n",
            "  inflating: __MACOSX/hw2_data/digits/mnistm/data/._06943.png  \n",
            "  inflating: hw2_data/digits/mnistm/data/40916.png  \n",
            "  inflating: __MACOSX/hw2_data/digits/mnistm/data/._40916.png  \n",
            "  inflating: hw2_data/digits/mnistm/data/37546.png  \n",
            "  inflating: __MACOSX/hw2_data/digits/mnistm/data/._37546.png  \n",
            "  inflating: hw2_data/digits/mnistm/data/30229.png  \n",
            "  inflating: __MACOSX/hw2_data/digits/mnistm/data/._30229.png  \n",
            "  inflating: hw2_data/digits/mnistm/data/28466.png  \n",
            "  inflating: __MACOSX/hw2_data/digits/mnistm/data/._28466.png  \n",
            "  inflating: hw2_data/digits/mnistm/data/07485.png  \n",
            "  inflating: __MACOSX/hw2_data/digits/mnistm/data/._07485.png  \n",
            "  inflating: hw2_data/digits/mnistm/data/19863.png  \n",
            "  inflating: __MACOSX/hw2_data/digits/mnistm/data/._19863.png  \n",
            "  inflating: hw2_data/digits/mnistm/data/36880.png  \n",
            "  inflating: __MACOSX/hw2_data/digits/mnistm/data/._36880.png  \n",
            "  inflating: hw2_data/digits/mnistm/data/27755.png  \n",
            "  inflating: __MACOSX/hw2_data/digits/mnistm/data/._27755.png  \n",
            "  inflating: hw2_data/digits/mnistm/data/33720.png  \n",
            "  inflating: __MACOSX/hw2_data/digits/mnistm/data/._33720.png  \n",
            "  inflating: hw2_data/digits/mnistm/data/54963.png  \n",
            "  inflating: __MACOSX/hw2_data/digits/mnistm/data/._54963.png  \n",
            "  inflating: hw2_data/digits/mnistm/data/12936.png  \n",
            "  inflating: __MACOSX/hw2_data/digits/mnistm/data/._12936.png  \n",
            "  inflating: hw2_data/digits/mnistm/data/23533.png  \n",
            "  inflating: __MACOSX/hw2_data/digits/mnistm/data/._23533.png  \n",
            "  inflating: hw2_data/digits/mnistm/data/35351.png  \n",
            "  inflating: __MACOSX/hw2_data/digits/mnistm/data/._35351.png  \n",
            "  inflating: hw2_data/digits/mnistm/data/15081.png  \n",
            "  inflating: __MACOSX/hw2_data/digits/mnistm/data/._15081.png  \n",
            "  inflating: hw2_data/digits/mnistm/data/25142.png  \n",
            "  inflating: __MACOSX/hw2_data/digits/mnistm/data/._25142.png  \n",
            "  inflating: hw2_data/digits/mnistm/data/05292.png  \n",
            "  inflating: __MACOSX/hw2_data/digits/mnistm/data/._05292.png  \n",
            "  inflating: hw2_data/digits/mnistm/data/25624.png  \n",
            "  inflating: __MACOSX/hw2_data/digits/mnistm/data/._25624.png  \n",
            "  inflating: hw2_data/digits/mnistm/data/12088.png  \n",
            "  inflating: __MACOSX/hw2_data/digits/mnistm/data/._12088.png  \n",
            "  inflating: hw2_data/digits/mnistm/data/32358.png  \n",
            "  inflating: __MACOSX/hw2_data/digits/mnistm/data/._32358.png  \n",
            "  inflating: hw2_data/digits/mnistm/data/35437.png  \n",
            "  inflating: __MACOSX/hw2_data/digits/mnistm/data/._35437.png  \n",
            "  inflating: hw2_data/digits/mnistm/data/04832.png  \n",
            "  inflating: __MACOSX/hw2_data/digits/mnistm/data/._04832.png  \n",
            "  inflating: hw2_data/digits/mnistm/data/42867.png  \n",
            "  inflating: __MACOSX/hw2_data/digits/mnistm/data/._42867.png  \n",
            "  inflating: hw2_data/digits/mnistm/data/34729.png  \n",
            "  inflating: __MACOSX/hw2_data/digits/mnistm/data/._34729.png  \n",
            "  inflating: hw2_data/digits/mnistm/data/03185.png  \n",
            "  inflating: __MACOSX/hw2_data/digits/mnistm/data/._03185.png  \n",
            "  inflating: hw2_data/digits/mnistm/data/23255.png  \n",
            "  inflating: __MACOSX/hw2_data/digits/mnistm/data/._23255.png  \n",
            "  inflating: hw2_data/digits/mnistm/data/13396.png  \n",
            "  inflating: __MACOSX/hw2_data/digits/mnistm/data/._13396.png  \n",
            "  inflating: hw2_data/digits/mnistm/data/33046.png  \n",
            "  inflating: __MACOSX/hw2_data/digits/mnistm/data/._33046.png  \n",
            "  inflating: hw2_data/digits/mnistm/data/28300.png  \n",
            "  inflating: __MACOSX/hw2_data/digits/mnistm/data/._28300.png  \n",
            "  inflating: hw2_data/digits/mnistm/data/27033.png  \n",
            "  inflating: __MACOSX/hw2_data/digits/mnistm/data/._27033.png  \n",
            "  inflating: hw2_data/digits/mnistm/data/38113.png  \n",
            "  inflating: __MACOSX/hw2_data/digits/mnistm/data/._38113.png  \n",
            "  inflating: hw2_data/digits/mnistm/data/31889.png  \n",
            "  inflating: __MACOSX/hw2_data/digits/mnistm/data/._31889.png  \n",
            "  inflating: hw2_data/digits/mnistm/data/37220.png  \n",
            "  inflating: __MACOSX/hw2_data/digits/mnistm/data/._37220.png  \n",
            "  inflating: hw2_data/digits/mnistm/data/21442.png  \n",
            "  inflating: __MACOSX/hw2_data/digits/mnistm/data/._21442.png  \n",
            "  inflating: hw2_data/digits/mnistm/data/01792.png  \n",
            "  inflating: __MACOSX/hw2_data/digits/mnistm/data/._01792.png  \n",
            "  inflating: hw2_data/digits/mnistm/data/10847.png  \n",
            "  inflating: __MACOSX/hw2_data/digits/mnistm/data/._10847.png  \n",
            "  inflating: hw2_data/digits/mnistm/data/49932.png  \n",
            "  inflating: __MACOSX/hw2_data/digits/mnistm/data/._49932.png  \n",
            "  inflating: hw2_data/digits/mnistm/data/20984.png  \n",
            "  inflating: __MACOSX/hw2_data/digits/mnistm/data/._20984.png  \n",
            "  inflating: hw2_data/digits/mnistm/data/31651.png  \n",
            "  inflating: __MACOSX/hw2_data/digits/mnistm/data/._31651.png  \n",
            "  inflating: hw2_data/digits/mnistm/data/11581.png  \n",
            "  inflating: __MACOSX/hw2_data/digits/mnistm/data/._11581.png  \n",
            "  inflating: hw2_data/digits/mnistm/data/28314.png  \n",
            "  inflating: __MACOSX/hw2_data/digits/mnistm/data/._28314.png  \n",
            "  inflating: hw2_data/digits/mnistm/data/27027.png  \n",
            "  inflating: __MACOSX/hw2_data/digits/mnistm/data/._27027.png  \n",
            "  inflating: hw2_data/digits/mnistm/data/20748.png  \n",
            "  inflating: __MACOSX/hw2_data/digits/mnistm/data/._20748.png  \n",
            "  inflating: hw2_data/digits/mnistm/data/38107.png  \n",
            "  inflating: __MACOSX/hw2_data/digits/mnistm/data/._38107.png  \n",
            "  inflating: hw2_data/digits/mnistm/data/37234.png  \n",
            "  inflating: __MACOSX/hw2_data/digits/mnistm/data/._37234.png  \n",
            "  inflating: hw2_data/digits/mnistm/data/00498.png  \n",
            "  inflating: __MACOSX/hw2_data/digits/mnistm/data/._00498.png  \n",
            "  inflating: hw2_data/digits/mnistm/data/39219.png  \n",
            "  inflating: __MACOSX/hw2_data/digits/mnistm/data/._39219.png  \n",
            "  inflating: hw2_data/digits/mnistm/data/21456.png  \n",
            "  inflating: __MACOSX/hw2_data/digits/mnistm/data/._21456.png  \n",
            "  inflating: hw2_data/digits/mnistm/data/10853.png  \n",
            "  inflating: __MACOSX/hw2_data/digits/mnistm/data/._10853.png  \n",
            "  inflating: hw2_data/digits/mnistm/data/01786.png  \n",
            "  inflating: __MACOSX/hw2_data/digits/mnistm/data/._01786.png  \n",
            "  inflating: hw2_data/digits/mnistm/data/31645.png  \n",
            "  inflating: __MACOSX/hw2_data/digits/mnistm/data/._31645.png  \n",
            "  inflating: hw2_data/digits/mnistm/data/20990.png  \n",
            "  inflating: __MACOSX/hw2_data/digits/mnistm/data/._20990.png  \n",
            "  inflating: hw2_data/digits/mnistm/data/49926.png  \n",
            "  inflating: __MACOSX/hw2_data/digits/mnistm/data/._49926.png  \n",
            "  inflating: hw2_data/digits/mnistm/data/26339.png  \n",
            "  inflating: __MACOSX/hw2_data/digits/mnistm/data/._26339.png  \n",
            "  inflating: hw2_data/digits/mnistm/data/11595.png  \n",
            "  inflating: __MACOSX/hw2_data/digits/mnistm/data/._11595.png  \n",
            "  inflating: hw2_data/digits/mnistm/data/25630.png  \n",
            "  inflating: __MACOSX/hw2_data/digits/mnistm/data/._25630.png  \n",
            "  inflating: hw2_data/digits/mnistm/data/35423.png  \n",
            "  inflating: __MACOSX/hw2_data/digits/mnistm/data/._35423.png  \n",
            "  inflating: hw2_data/digits/mnistm/data/42873.png  \n",
            "  inflating: __MACOSX/hw2_data/digits/mnistm/data/._42873.png  \n",
            "  inflating: hw2_data/digits/mnistm/data/04826.png  \n",
            "  inflating: __MACOSX/hw2_data/digits/mnistm/data/._04826.png  \n",
            "  inflating: hw2_data/digits/mnistm/data/03191.png  \n",
            "  inflating: __MACOSX/hw2_data/digits/mnistm/data/._03191.png  \n",
            "  inflating: hw2_data/digits/mnistm/data/23241.png  \n",
            "  inflating: __MACOSX/hw2_data/digits/mnistm/data/._23241.png  \n",
            "  inflating: hw2_data/digits/mnistm/data/13382.png  \n",
            "  inflating: __MACOSX/hw2_data/digits/mnistm/data/._13382.png  \n",
            "  inflating: hw2_data/digits/mnistm/data/33052.png  \n",
            "  inflating: __MACOSX/hw2_data/digits/mnistm/data/._33052.png  \n",
            "  inflating: hw2_data/digits/mnistm/data/24248.png  \n",
            "  inflating: __MACOSX/hw2_data/digits/mnistm/data/._24248.png  \n",
            "  inflating: hw2_data/digits/mnistm/data/33734.png  \n",
            "  inflating: __MACOSX/hw2_data/digits/mnistm/data/._33734.png  \n",
            "  inflating: hw2_data/digits/mnistm/data/04198.png  \n",
            "  inflating: __MACOSX/hw2_data/digits/mnistm/data/._04198.png  \n",
            "  inflating: hw2_data/digits/mnistm/data/12922.png  \n",
            "  inflating: __MACOSX/hw2_data/digits/mnistm/data/._12922.png  \n",
            "  inflating: hw2_data/digits/mnistm/data/54977.png  \n",
            "  inflating: __MACOSX/hw2_data/digits/mnistm/data/._54977.png  \n",
            "  inflating: hw2_data/digits/mnistm/data/23527.png  \n",
            "  inflating: __MACOSX/hw2_data/digits/mnistm/data/._23527.png  \n",
            "  inflating: hw2_data/digits/mnistm/data/35345.png  \n",
            "  inflating: __MACOSX/hw2_data/digits/mnistm/data/._35345.png  \n",
            "  inflating: hw2_data/digits/mnistm/data/22639.png  \n",
            "  inflating: __MACOSX/hw2_data/digits/mnistm/data/._22639.png  \n",
            "  inflating: hw2_data/digits/mnistm/data/15095.png  \n",
            "  inflating: __MACOSX/hw2_data/digits/mnistm/data/._15095.png  \n",
            "  inflating: hw2_data/digits/mnistm/data/25156.png  \n",
            "  inflating: __MACOSX/hw2_data/digits/mnistm/data/._25156.png  \n",
            "  inflating: hw2_data/digits/mnistm/data/05286.png  \n",
            "  inflating: __MACOSX/hw2_data/digits/mnistm/data/._05286.png  \n",
            "  inflating: hw2_data/digits/mnistm/data/31123.png  \n",
            "  inflating: __MACOSX/hw2_data/digits/mnistm/data/._31123.png  \n",
            "  inflating: hw2_data/digits/mnistm/data/48386.png  \n",
            "  inflating: __MACOSX/hw2_data/digits/mnistm/data/._48386.png  \n",
            "  inflating: hw2_data/digits/mnistm/data/21330.png  \n",
            "  inflating: __MACOSX/hw2_data/digits/mnistm/data/._21330.png  \n",
            "  inflating: hw2_data/digits/mnistm/data/27999.png  \n",
            "  inflating: __MACOSX/hw2_data/digits/mnistm/data/._27999.png  \n",
            "  inflating: hw2_data/digits/mnistm/data/40902.png  \n",
            "  inflating: __MACOSX/hw2_data/digits/mnistm/data/._40902.png  \n",
            "  inflating: hw2_data/digits/mnistm/data/06957.png  \n",
            "  inflating: __MACOSX/hw2_data/digits/mnistm/data/._06957.png  \n",
            "  inflating: hw2_data/digits/mnistm/data/17682.png  \n",
            "  inflating: __MACOSX/hw2_data/digits/mnistm/data/._17682.png  \n",
            "  inflating: hw2_data/digits/mnistm/data/38661.png  \n",
            "  inflating: __MACOSX/hw2_data/digits/mnistm/data/._38661.png  \n",
            "  inflating: hw2_data/digits/mnistm/data/49098.png  \n",
            "  inflating: __MACOSX/hw2_data/digits/mnistm/data/._49098.png  \n",
            "  inflating: hw2_data/digits/mnistm/data/37552.png  \n",
            "  inflating: __MACOSX/hw2_data/digits/mnistm/data/._37552.png  \n",
            "  inflating: hw2_data/digits/mnistm/data/07491.png  \n",
            "  inflating: __MACOSX/hw2_data/digits/mnistm/data/._07491.png  \n",
            "  inflating: hw2_data/digits/mnistm/data/28472.png  \n",
            "  inflating: __MACOSX/hw2_data/digits/mnistm/data/._28472.png  \n",
            "  inflating: hw2_data/digits/mnistm/data/27741.png  \n",
            "  inflating: __MACOSX/hw2_data/digits/mnistm/data/._27741.png  \n",
            "  inflating: hw2_data/digits/mnistm/data/36894.png  \n",
            "  inflating: __MACOSX/hw2_data/digits/mnistm/data/._36894.png  \n",
            "  inflating: hw2_data/digits/mnistm/data/19877.png  \n",
            "  inflating: __MACOSX/hw2_data/digits/mnistm/data/._19877.png  \n"
          ]
        }
      ]
    },
    {
      "cell_type": "markdown",
      "source": [
        "#### Get cuda from GPU"
      ],
      "metadata": {
        "id": "WVRZjvruLLrb"
      }
    },
    {
      "cell_type": "code",
      "source": [
        "device = \"cuda\" if torch.cuda.is_available() else \"cpu\"\n",
        "print(f\"Using: {device}\")"
      ],
      "metadata": {
        "colab": {
          "base_uri": "https://localhost:8080/"
        },
        "id": "Lf4M57NsLJnq",
        "outputId": "b1ac1c51-446b-451f-e671-7b956314991d"
      },
      "execution_count": 5,
      "outputs": [
        {
          "output_type": "stream",
          "name": "stdout",
          "text": [
            "Using: cuda\n"
          ]
        }
      ]
    },
    {
      "cell_type": "markdown",
      "source": [
        "#### Construct Dataset"
      ],
      "metadata": {
        "id": "-kdf1r19DVUZ"
      }
    },
    {
      "cell_type": "code",
      "source": [
        "class MnistDataset(torch.utils.data.Dataset):\n",
        "    def __init__(self, label_path: str, join_path: str, transform) -> None:\n",
        "        self.transform = transform\n",
        "        self.img_paths = []\n",
        "        self.img_labels = []\n",
        "\n",
        "        label_csv = pd.read_csv(label_path).values.tolist()\n",
        "\n",
        "        for row in label_csv:\n",
        "            self.img_paths.append(os.path.join(join_path, row[0]))\n",
        "            self.img_labels.append(row[1])\n",
        "        assert len(self.img_paths) == len(self.img_labels)\n",
        "\n",
        "    def __len__(self):\n",
        "        return len(self.img_paths)\n",
        "\n",
        "    def __getitem__(self, idx) -> (torch.Tensor, int):\n",
        "        img_path = self.img_paths[idx]\n",
        "        img = Image.open(img_path).convert('RGB') # (28, 28, 3)\n",
        "        img = self.transform(img)\n",
        "\n",
        "        label = self.img_labels[idx]\n",
        "        return img, label"
      ],
      "metadata": {
        "id": "_WR7bP-YDehh"
      },
      "execution_count": 6,
      "outputs": []
    },
    {
      "cell_type": "code",
      "source": [
        "mean=[0.485, 0.456, 0.406]\n",
        "std=[0.229, 0.224, 0.225]\n",
        "\n",
        "source_train_ds = MnistDataset(\n",
        "    label_path='/content/hw2_data/digits/mnistm/train.csv',\n",
        "    join_path='/content/hw2_data/digits/mnistm/data',\n",
        "    transform=tr.Compose([\n",
        "        tr.ToTensor(),\n",
        "        tr.Normalize(mean=mean, std=std),\n",
        "    ])\n",
        ")\n",
        "\n",
        "target_train_ds = MnistDataset(\n",
        "    label_path='/content/hw2_data/digits/usps/train.csv',\n",
        "    join_path='/content/hw2_data/digits/usps/data',\n",
        "    transform=tr.Compose([\n",
        "        tr.ToTensor(),\n",
        "        tr.Normalize(mean=mean, std=std),\n",
        "    ])\n",
        ")\n",
        "\n",
        "target_val_ds = MnistDataset(\n",
        "    label_path='/content/hw2_data/digits/usps/val.csv',\n",
        "    join_path='/content/hw2_data/digits/usps/data',\n",
        "    transform=tr.Compose([\n",
        "        tr.ToTensor(),\n",
        "        tr.Normalize(mean=mean, std=std),\n",
        "    ])\n",
        ")"
      ],
      "metadata": {
        "id": "rsMapmVxHL3r"
      },
      "execution_count": 7,
      "outputs": []
    },
    {
      "cell_type": "code",
      "source": [
        "BATCH_SIZE = 256\n",
        "\n",
        "source_train_loader = DataLoader(source_train_ds, BATCH_SIZE, shuffle=True, num_workers=4)\n",
        "target_train_loader = DataLoader(target_train_ds, BATCH_SIZE, shuffle=True, num_workers=4)\n",
        "target_val_loader = DataLoader(target_val_ds, BATCH_SIZE, shuffle=False, num_workers=4)"
      ],
      "metadata": {
        "id": "x85T63PnJcVr",
        "colab": {
          "base_uri": "https://localhost:8080/"
        },
        "outputId": "64eabc29-9cbc-4dc3-8220-2bdc5c78a5b0"
      },
      "execution_count": 8,
      "outputs": [
        {
          "output_type": "stream",
          "name": "stderr",
          "text": [
            "/usr/local/lib/python3.10/dist-packages/torch/utils/data/dataloader.py:557: UserWarning: This DataLoader will create 4 worker processes in total. Our suggested max number of worker in current system is 2, which is smaller than what this DataLoader is going to create. Please be aware that excessive worker creation might get DataLoader running slow or even freeze, lower the worker number to avoid potential slowness/freeze if necessary.\n",
            "  warnings.warn(_create_warning_msg(\n"
          ]
        }
      ]
    },
    {
      "cell_type": "markdown",
      "source": [
        "#### Domain-Adversarial Training of Neural Networks (DANN)"
      ],
      "metadata": {
        "id": "VYC19z24BDsB"
      }
    },
    {
      "cell_type": "code",
      "source": [
        "class GRL(torch.autograd.Function):\n",
        "    @staticmethod\n",
        "    def forward(ctx, x, alpha):\n",
        "        ctx.alpha = alpha\n",
        "        return x.view_as(x)\n",
        "\n",
        "    @staticmethod\n",
        "    def backward(ctx, grad_output):\n",
        "         output = grad_output.neg() * ctx.alpha\n",
        "         return output, None\n",
        "\n",
        "class FeatureExtractor(nn.Module):\n",
        "    def __init__(self) -> None:\n",
        "        super(FeatureExtractor, self).__init__()\n",
        "        self.extractor = nn.Sequential(\n",
        "            nn.Conv2d(3, 64, 5), # (64, 24, 24)\n",
        "            nn.BatchNorm2d(64),\n",
        "            nn.ReLU(),\n",
        "            nn.MaxPool2d(kernel_size=4, stride=2), # (64, 11, 11)\n",
        "\n",
        "            nn.Conv2d(64, 64, 5), # (64, 7, 7)\n",
        "            nn.BatchNorm2d(64),\n",
        "            nn.Dropout2d(),\n",
        "            nn.ReLU(),\n",
        "            nn.MaxPool2d(3, 2), # (64, 3, 3)\n",
        "\n",
        "            nn.Conv2d(64, 128, 3), # (128, 1, 1)\n",
        "        )\n",
        "\n",
        "    def forward(self, x):\n",
        "        features = self.extractor(x)\n",
        "        features = features.view(-1, 128)\n",
        "        return features\n",
        "\n",
        "class Classifier(nn.Module):\n",
        "    def __init__(self) -> None:\n",
        "        super(Classifier, self).__init__()\n",
        "        self.classifier = nn.Sequential(\n",
        "            nn.Linear(128, 512),\n",
        "            nn.BatchNorm1d(512),\n",
        "            nn.ReLU(),\n",
        "            nn.Dropout2d(),\n",
        "\n",
        "            nn.Linear(512, 128),\n",
        "            nn.BatchNorm1d(128),\n",
        "            nn.ReLU(),\n",
        "\n",
        "            nn.Linear(128, 10),\n",
        "        )\n",
        "\n",
        "    def forward(self, features):\n",
        "        class_label = self.classifier(features)\n",
        "        return class_label\n",
        "\n",
        "class DomainClassifier(nn.Module):\n",
        "    def __init__(self) -> None:\n",
        "        super(DomainClassifier, self).__init__()\n",
        "        self.domainclassifier = nn.Sequential(\n",
        "            nn.Linear(128, 256),\n",
        "            # nn.BatchNorm1d(256),\n",
        "            nn.ReLU(),\n",
        "\n",
        "            nn.Linear(256, 1)\n",
        "        )\n",
        "\n",
        "    def forward(self, features, alpha):\n",
        "        reversed_input = GRL.apply(features, alpha)\n",
        "        x = self.domainclassifier(reversed_input)\n",
        "        return x"
      ],
      "metadata": {
        "id": "T8dxFahzz_pC"
      },
      "execution_count": 9,
      "outputs": []
    },
    {
      "cell_type": "markdown",
      "source": [
        "#### Train"
      ],
      "metadata": {
        "id": "vEZgv1TYLf-g"
      }
    },
    {
      "cell_type": "code",
      "source": [
        "def model_mode(mode: str, models: list) -> None:\n",
        "    for model in models:\n",
        "        if mode == 'train':\n",
        "            model.train()\n",
        "        elif mode == 'eval':\n",
        "            model.eval()"
      ],
      "metadata": {
        "id": "ZsdsZ8GRAbHZ"
      },
      "execution_count": 10,
      "outputs": []
    },
    {
      "cell_type": "code",
      "source": [
        "EPOCHS = 350\n",
        "\n",
        "# Earlystopping\n",
        "patience = 350\n",
        "counter = 0\n",
        "best_accuracy = 0.75\n",
        "\n",
        "# setting parameters\n",
        "lr = 5e-3\n",
        "\n",
        "feature_extractor = FeatureExtractor()\n",
        "feature_extractor.to(device)\n",
        "classifier = Classifier()\n",
        "classifier.to(device)\n",
        "domain_classifier = DomainClassifier()\n",
        "domain_classifier.to(device)\n",
        "\n",
        "clf_loss_fn = nn.CrossEntropyLoss()\n",
        "domainclf_loss_fn = nn.BCEWithLogitsLoss() # 'Binary' Cross Entropy With Logits Loss\n",
        "\n",
        "optimizer = optim.SGD(\n",
        "    list(feature_extractor.parameters()) + list(classifier.parameters()) + list(domain_classifier.parameters()),\n",
        "    lr=lr,\n",
        ")\n",
        "\n",
        "# logs dictionary\n",
        "logs = {'class_label_loss': [], 'domain_label_loss': [], 'val_accuracy': []}"
      ],
      "metadata": {
        "id": "y0vvyP4ILhj4"
      },
      "execution_count": 13,
      "outputs": []
    },
    {
      "cell_type": "code",
      "source": [
        "for epoch in range(EPOCHS):\n",
        "    # start_steps = epoch * len(source_train_loader)\n",
        "    total_steps = EPOCHS * len(target_train_loader)\n",
        "\n",
        "    for (source_x, source_y), (target_x, target_y) in tqdm(zip(source_train_loader, target_train_loader), total=len(source_train_loader)):\n",
        "        model_mode('train', [feature_extractor, classifier, domain_classifier])\n",
        "\n",
        "        source_x, source_y = source_x.to(device, non_blocking=True), source_y.to(device, non_blocking=True)\n",
        "        target_x, target_y = target_x.to(device, non_blocking=True), target_y.to(device, non_blocking=True)\n",
        "\n",
        "        # scheduling\n",
        "        p = epoch / total_steps\n",
        "        alpha = 2. / (1. + np.exp(-10 * p)) - 1\n",
        "\n",
        "        optimizer.param_groups[0]['lr'] = lr / (1. + 10 * p) ** 0.75\n",
        "        optimizer.zero_grad()\n",
        "\n",
        "        # features extractor\n",
        "        source_features = feature_extractor(source_x)\n",
        "        target_features = feature_extractor(target_x)\n",
        "\n",
        "        # classifier\n",
        "        # compute class label loss\n",
        "        class_label = classifier(source_features)\n",
        "        class_label_loss = clf_loss_fn(class_label, source_y)\n",
        "\n",
        "        # doamin classifier\n",
        "        # source domain label = 0\n",
        "        source_domain_label = domain_classifier(source_features, alpha).squeeze() # (batch_size, 1) -> (batch_size)\n",
        "        domain_label_source_loss = domainclf_loss_fn(\n",
        "            source_domain_label,\n",
        "            torch.zeros(source_y.shape[0], dtype=torch.float, device=device),\n",
        "        )\n",
        "        # target domain label = 1\n",
        "        target_domain_label = domain_classifier(target_features, alpha).squeeze()\n",
        "        domain_label_target_loss = domainclf_loss_fn(\n",
        "            target_domain_label,\n",
        "            torch.ones(target_y.shape[0], dtype=torch.float, device=device),\n",
        "        )\n",
        "        # compute domain total loss\n",
        "        domain_label_loss = domain_label_source_loss + domain_label_target_loss\n",
        "\n",
        "        total_loss = class_label_loss + domain_label_loss\n",
        "        total_loss.backward()\n",
        "        optimizer.step()\n",
        "\n",
        "        # write logs\n",
        "        logs['class_label_loss'].append(class_label_loss)\n",
        "        logs['domain_label_loss'].append(domain_label_loss)\n",
        "\n",
        "\n",
        "    model_mode('eval', [feature_extractor, classifier, domain_classifier])\n",
        "    val_accuracy = 0\n",
        "    with torch.no_grad():\n",
        "        for target_val_x, target_val_y in tqdm(target_val_loader):\n",
        "            target_val_x, target_val_y = target_val_x.to(device), target_val_y.cpu().numpy()\n",
        "\n",
        "            features = feature_extractor(target_val_x)\n",
        "            class_label = classifier(features)\n",
        "            class_label = class_label.argmax(-1).cpu().numpy()\n",
        "\n",
        "            val_accuracy += np.mean((class_label == target_val_y).astype(int))\n",
        "\n",
        "    val_accuracy /= len(target_val_loader)\n",
        "\n",
        "    # write logs\n",
        "    logs['val_accuracy'].append(val_accuracy)\n",
        "\n",
        "    print('\\n', f'EPOCH: {(epoch+1):04d} -> val_accuracy: {val_accuracy:.4f}, class_label_loss: {class_label_loss:.4f}, domain_label_loss: {domain_label_loss:.4f}')\n",
        "\n",
        "    # chcek improvement\n",
        "    if val_accuracy > best_accuracy:\n",
        "        counter = 0\n",
        "        best_accuracy = val_accuracy\n",
        "\n",
        "        torch.save(feature_extractor.state_dict(), f\"/content/drive/MyDrive/NTU_DLCV/Hw2/p3_ckpt_USPS/{epoch+1}feature_extractor.pth\")\n",
        "        torch.save(classifier.state_dict(), f\"/content/drive/MyDrive/NTU_DLCV/Hw2/p3_ckpt_USPS/{epoch+1}classifier.pth\")\n",
        "        torch.save(domain_classifier.state_dict(), f\"/content/drive/MyDrive/NTU_DLCV/Hw2/p3_ckpt_USPS/{epoch+1}domain_classifier.pth\")\n",
        "        print(\"--------------------Model saved--------------------\")\n",
        "    else:\n",
        "        counter += 1\n",
        "    if counter >= patience:\n",
        "        print(\"--------------------Earlystop--------------------\")\n",
        "        break"
      ],
      "metadata": {
        "id": "a6BVeVmg_hAD",
        "colab": {
          "base_uri": "https://localhost:8080/"
        },
        "outputId": "f73d3405-0b77-4b52-9ed8-8891e57437fb"
      },
      "execution_count": 15,
      "outputs": [
        {
          "output_type": "stream",
          "name": "stderr",
          "text": [
            " 14%|█▎        | 24/175 [00:05<00:32,  4.67it/s]\n",
            "100%|██████████| 6/6 [00:01<00:00,  4.59it/s]"
          ]
        },
        {
          "output_type": "stream",
          "name": "stdout",
          "text": [
            "\n",
            " EPOCH: 0001 -> val_accuracy: 0.3783, class_label_loss: 2.2898, domain_label_loss: 1.3724\n"
          ]
        },
        {
          "output_type": "stream",
          "name": "stderr",
          "text": [
            "\n",
            " 14%|█▎        | 24/175 [00:05<00:37,  4.03it/s]\n",
            "100%|██████████| 6/6 [00:00<00:00,  7.42it/s]"
          ]
        },
        {
          "output_type": "stream",
          "name": "stdout",
          "text": [
            "\n",
            " EPOCH: 0002 -> val_accuracy: 0.4295, class_label_loss: 2.3025, domain_label_loss: 1.3577\n"
          ]
        },
        {
          "output_type": "stream",
          "name": "stderr",
          "text": [
            "\n",
            " 14%|█▎        | 24/175 [00:04<00:28,  5.30it/s]\n",
            "100%|██████████| 6/6 [00:00<00:00,  7.33it/s]"
          ]
        },
        {
          "output_type": "stream",
          "name": "stdout",
          "text": [
            "\n",
            " EPOCH: 0003 -> val_accuracy: 0.4328, class_label_loss: 2.2431, domain_label_loss: 1.3608\n"
          ]
        },
        {
          "output_type": "stream",
          "name": "stderr",
          "text": [
            "\n",
            " 14%|█▎        | 24/175 [00:07<00:44,  3.36it/s]\n",
            "100%|██████████| 6/6 [00:01<00:00,  4.56it/s]"
          ]
        },
        {
          "output_type": "stream",
          "name": "stdout",
          "text": [
            "\n",
            " EPOCH: 0004 -> val_accuracy: 0.4439, class_label_loss: 2.2271, domain_label_loss: 1.3458\n"
          ]
        },
        {
          "output_type": "stream",
          "name": "stderr",
          "text": [
            "\n",
            " 14%|█▎        | 24/175 [00:04<00:27,  5.51it/s]\n",
            "100%|██████████| 6/6 [00:00<00:00,  7.30it/s]"
          ]
        },
        {
          "output_type": "stream",
          "name": "stdout",
          "text": [
            "\n",
            " EPOCH: 0005 -> val_accuracy: 0.4421, class_label_loss: 2.1766, domain_label_loss: 1.3303\n"
          ]
        },
        {
          "output_type": "stream",
          "name": "stderr",
          "text": [
            "\n",
            " 14%|█▎        | 24/175 [00:04<00:27,  5.47it/s]\n",
            "100%|██████████| 6/6 [00:01<00:00,  4.78it/s]"
          ]
        },
        {
          "output_type": "stream",
          "name": "stdout",
          "text": [
            "\n",
            " EPOCH: 0006 -> val_accuracy: 0.4637, class_label_loss: 2.1193, domain_label_loss: 1.3206\n"
          ]
        },
        {
          "output_type": "stream",
          "name": "stderr",
          "text": [
            "\n",
            " 14%|█▎        | 24/175 [00:07<00:44,  3.39it/s]\n",
            "100%|██████████| 6/6 [00:00<00:00,  7.57it/s]"
          ]
        },
        {
          "output_type": "stream",
          "name": "stdout",
          "text": [
            "\n",
            " EPOCH: 0007 -> val_accuracy: 0.4627, class_label_loss: 2.1111, domain_label_loss: 1.3302\n"
          ]
        },
        {
          "output_type": "stream",
          "name": "stderr",
          "text": [
            "\n",
            " 14%|█▎        | 24/175 [00:04<00:26,  5.67it/s]\n",
            "100%|██████████| 6/6 [00:00<00:00,  7.25it/s]"
          ]
        },
        {
          "output_type": "stream",
          "name": "stdout",
          "text": [
            "\n",
            " EPOCH: 0008 -> val_accuracy: 0.4699, class_label_loss: 2.0135, domain_label_loss: 1.3222\n"
          ]
        },
        {
          "output_type": "stream",
          "name": "stderr",
          "text": [
            "\n",
            " 14%|█▎        | 24/175 [00:05<00:36,  4.16it/s]\n",
            "100%|██████████| 6/6 [00:01<00:00,  4.15it/s]"
          ]
        },
        {
          "output_type": "stream",
          "name": "stdout",
          "text": [
            "\n",
            " EPOCH: 0009 -> val_accuracy: 0.4778, class_label_loss: 2.0256, domain_label_loss: 1.2868\n"
          ]
        },
        {
          "output_type": "stream",
          "name": "stderr",
          "text": [
            "\n",
            " 14%|█▎        | 24/175 [00:05<00:33,  4.53it/s]\n",
            "100%|██████████| 6/6 [00:00<00:00,  7.61it/s]"
          ]
        },
        {
          "output_type": "stream",
          "name": "stdout",
          "text": [
            "\n",
            " EPOCH: 0010 -> val_accuracy: 0.4956, class_label_loss: 1.9473, domain_label_loss: 1.2494\n"
          ]
        },
        {
          "output_type": "stream",
          "name": "stderr",
          "text": [
            "\n",
            " 14%|█▎        | 24/175 [00:04<00:27,  5.50it/s]\n",
            "100%|██████████| 6/6 [00:00<00:00,  7.54it/s]"
          ]
        },
        {
          "output_type": "stream",
          "name": "stdout",
          "text": [
            "\n",
            " EPOCH: 0011 -> val_accuracy: 0.5130, class_label_loss: 1.9359, domain_label_loss: 1.2419\n"
          ]
        },
        {
          "output_type": "stream",
          "name": "stderr",
          "text": [
            "\n",
            " 14%|█▎        | 24/175 [00:07<00:46,  3.27it/s]\n",
            "100%|██████████| 6/6 [00:01<00:00,  4.91it/s]"
          ]
        },
        {
          "output_type": "stream",
          "name": "stdout",
          "text": [
            "\n",
            " EPOCH: 0012 -> val_accuracy: 0.5298, class_label_loss: 1.8881, domain_label_loss: 1.3039\n"
          ]
        },
        {
          "output_type": "stream",
          "name": "stderr",
          "text": [
            "\n",
            " 14%|█▎        | 24/175 [00:03<00:25,  6.02it/s]\n",
            "100%|██████████| 6/6 [00:00<00:00,  7.52it/s]"
          ]
        },
        {
          "output_type": "stream",
          "name": "stdout",
          "text": [
            "\n",
            " EPOCH: 0013 -> val_accuracy: 0.5364, class_label_loss: 1.8594, domain_label_loss: 1.2603\n"
          ]
        },
        {
          "output_type": "stream",
          "name": "stderr",
          "text": [
            "\n",
            " 14%|█▎        | 24/175 [00:04<00:30,  4.99it/s]\n",
            "100%|██████████| 6/6 [00:01<00:00,  4.43it/s]"
          ]
        },
        {
          "output_type": "stream",
          "name": "stdout",
          "text": [
            "\n",
            " EPOCH: 0014 -> val_accuracy: 0.5432, class_label_loss: 1.8229, domain_label_loss: 1.2372\n"
          ]
        },
        {
          "output_type": "stream",
          "name": "stderr",
          "text": [
            "\n",
            " 14%|█▎        | 24/175 [00:06<00:40,  3.72it/s]\n",
            "100%|██████████| 6/6 [00:00<00:00,  7.44it/s]"
          ]
        },
        {
          "output_type": "stream",
          "name": "stdout",
          "text": [
            "\n",
            " EPOCH: 0015 -> val_accuracy: 0.5663, class_label_loss: 1.8299, domain_label_loss: 1.1986\n"
          ]
        },
        {
          "output_type": "stream",
          "name": "stderr",
          "text": [
            "\n",
            " 14%|█▎        | 24/175 [00:04<00:26,  5.67it/s]\n",
            "100%|██████████| 6/6 [00:00<00:00,  7.27it/s]"
          ]
        },
        {
          "output_type": "stream",
          "name": "stdout",
          "text": [
            "\n",
            " EPOCH: 0016 -> val_accuracy: 0.5691, class_label_loss: 1.7429, domain_label_loss: 1.2434\n"
          ]
        },
        {
          "output_type": "stream",
          "name": "stderr",
          "text": [
            "\n",
            " 14%|█▎        | 24/175 [00:06<00:39,  3.81it/s]\n",
            "100%|██████████| 6/6 [00:01<00:00,  4.23it/s]"
          ]
        },
        {
          "output_type": "stream",
          "name": "stdout",
          "text": [
            "\n",
            " EPOCH: 0017 -> val_accuracy: 0.5865, class_label_loss: 1.7479, domain_label_loss: 1.2155\n"
          ]
        },
        {
          "output_type": "stream",
          "name": "stderr",
          "text": [
            "\n",
            " 14%|█▎        | 24/175 [00:05<00:31,  4.77it/s]\n",
            "100%|██████████| 6/6 [00:00<00:00,  7.38it/s]"
          ]
        },
        {
          "output_type": "stream",
          "name": "stdout",
          "text": [
            "\n",
            " EPOCH: 0018 -> val_accuracy: 0.5965, class_label_loss: 1.6844, domain_label_loss: 1.2560\n"
          ]
        },
        {
          "output_type": "stream",
          "name": "stderr",
          "text": [
            "\n",
            " 14%|█▎        | 24/175 [00:04<00:27,  5.58it/s]\n",
            "100%|██████████| 6/6 [00:00<00:00,  6.36it/s]"
          ]
        },
        {
          "output_type": "stream",
          "name": "stdout",
          "text": [
            "\n",
            " EPOCH: 0019 -> val_accuracy: 0.5994, class_label_loss: 1.6653, domain_label_loss: 1.1985\n"
          ]
        },
        {
          "output_type": "stream",
          "name": "stderr",
          "text": [
            "\n",
            " 14%|█▎        | 24/175 [00:07<00:44,  3.37it/s]\n",
            "100%|██████████| 6/6 [00:00<00:00,  6.65it/s]"
          ]
        },
        {
          "output_type": "stream",
          "name": "stdout",
          "text": [
            "\n",
            " EPOCH: 0020 -> val_accuracy: 0.6063, class_label_loss: 1.6606, domain_label_loss: 1.1936\n"
          ]
        },
        {
          "output_type": "stream",
          "name": "stderr",
          "text": [
            "\n",
            " 14%|█▎        | 24/175 [00:04<00:25,  5.85it/s]\n",
            "100%|██████████| 6/6 [00:00<00:00,  7.50it/s]"
          ]
        },
        {
          "output_type": "stream",
          "name": "stdout",
          "text": [
            "\n",
            " EPOCH: 0021 -> val_accuracy: 0.6285, class_label_loss: 1.5651, domain_label_loss: 1.1801\n"
          ]
        },
        {
          "output_type": "stream",
          "name": "stderr",
          "text": [
            "\n",
            " 14%|█▎        | 24/175 [00:05<00:31,  4.74it/s]\n",
            "100%|██████████| 6/6 [00:01<00:00,  4.64it/s]"
          ]
        },
        {
          "output_type": "stream",
          "name": "stdout",
          "text": [
            "\n",
            " EPOCH: 0022 -> val_accuracy: 0.6428, class_label_loss: 1.4996, domain_label_loss: 1.1325\n"
          ]
        },
        {
          "output_type": "stream",
          "name": "stderr",
          "text": [
            "\n",
            " 14%|█▎        | 24/175 [00:06<00:38,  3.97it/s]\n",
            "100%|██████████| 6/6 [00:00<00:00,  7.57it/s]"
          ]
        },
        {
          "output_type": "stream",
          "name": "stdout",
          "text": [
            "\n",
            " EPOCH: 0023 -> val_accuracy: 0.6386, class_label_loss: 1.5951, domain_label_loss: 1.1605\n"
          ]
        },
        {
          "output_type": "stream",
          "name": "stderr",
          "text": [
            "\n",
            " 14%|█▎        | 24/175 [00:04<00:26,  5.65it/s]\n",
            "100%|██████████| 6/6 [00:00<00:00,  7.57it/s]"
          ]
        },
        {
          "output_type": "stream",
          "name": "stdout",
          "text": [
            "\n",
            " EPOCH: 0024 -> val_accuracy: 0.6511, class_label_loss: 1.4901, domain_label_loss: 1.1648\n"
          ]
        },
        {
          "output_type": "stream",
          "name": "stderr",
          "text": [
            "\n",
            " 14%|█▎        | 24/175 [00:06<00:42,  3.57it/s]\n",
            "100%|██████████| 6/6 [00:01<00:00,  4.63it/s]"
          ]
        },
        {
          "output_type": "stream",
          "name": "stdout",
          "text": [
            "\n",
            " EPOCH: 0025 -> val_accuracy: 0.6565, class_label_loss: 1.4223, domain_label_loss: 1.2343\n"
          ]
        },
        {
          "output_type": "stream",
          "name": "stderr",
          "text": [
            "\n",
            " 14%|█▎        | 24/175 [00:04<00:29,  5.14it/s]\n",
            "100%|██████████| 6/6 [00:00<00:00,  7.16it/s]"
          ]
        },
        {
          "output_type": "stream",
          "name": "stdout",
          "text": [
            "\n",
            " EPOCH: 0026 -> val_accuracy: 0.6553, class_label_loss: 1.4201, domain_label_loss: 1.1841\n"
          ]
        },
        {
          "output_type": "stream",
          "name": "stderr",
          "text": [
            "\n",
            " 14%|█▎        | 24/175 [00:04<00:26,  5.63it/s]\n",
            "100%|██████████| 6/6 [00:01<00:00,  4.46it/s]"
          ]
        },
        {
          "output_type": "stream",
          "name": "stdout",
          "text": [
            "\n",
            " EPOCH: 0027 -> val_accuracy: 0.6638, class_label_loss: 1.3258, domain_label_loss: 1.2102\n"
          ]
        },
        {
          "output_type": "stream",
          "name": "stderr",
          "text": [
            "\n",
            " 14%|█▎        | 24/175 [00:06<00:42,  3.54it/s]\n",
            "100%|██████████| 6/6 [00:00<00:00,  7.37it/s]"
          ]
        },
        {
          "output_type": "stream",
          "name": "stdout",
          "text": [
            "\n",
            " EPOCH: 0028 -> val_accuracy: 0.6724, class_label_loss: 1.3080, domain_label_loss: 1.0894\n"
          ]
        },
        {
          "output_type": "stream",
          "name": "stderr",
          "text": [
            "\n",
            " 14%|█▎        | 24/175 [00:04<00:27,  5.57it/s]\n",
            "100%|██████████| 6/6 [00:00<00:00,  7.37it/s]"
          ]
        },
        {
          "output_type": "stream",
          "name": "stdout",
          "text": [
            "\n",
            " EPOCH: 0029 -> val_accuracy: 0.6739, class_label_loss: 1.2821, domain_label_loss: 1.2144\n"
          ]
        },
        {
          "output_type": "stream",
          "name": "stderr",
          "text": [
            "\n",
            " 14%|█▎        | 24/175 [00:05<00:34,  4.32it/s]\n",
            "100%|██████████| 6/6 [00:01<00:00,  4.62it/s]"
          ]
        },
        {
          "output_type": "stream",
          "name": "stdout",
          "text": [
            "\n",
            " EPOCH: 0030 -> val_accuracy: 0.6768, class_label_loss: 1.2256, domain_label_loss: 1.1528\n"
          ]
        },
        {
          "output_type": "stream",
          "name": "stderr",
          "text": [
            "\n",
            " 14%|█▎        | 24/175 [00:05<00:34,  4.40it/s]\n",
            "100%|██████████| 6/6 [00:00<00:00,  7.19it/s]"
          ]
        },
        {
          "output_type": "stream",
          "name": "stdout",
          "text": [
            "\n",
            " EPOCH: 0031 -> val_accuracy: 0.6818, class_label_loss: 1.2699, domain_label_loss: 1.1402\n"
          ]
        },
        {
          "output_type": "stream",
          "name": "stderr",
          "text": [
            "\n",
            " 14%|█▎        | 24/175 [00:04<00:26,  5.70it/s]\n",
            "100%|██████████| 6/6 [00:00<00:00,  7.42it/s]"
          ]
        },
        {
          "output_type": "stream",
          "name": "stdout",
          "text": [
            "\n",
            " EPOCH: 0032 -> val_accuracy: 0.6905, class_label_loss: 1.2900, domain_label_loss: 1.1388\n"
          ]
        },
        {
          "output_type": "stream",
          "name": "stderr",
          "text": [
            "\n",
            " 14%|█▎        | 24/175 [00:07<00:45,  3.30it/s]\n",
            "100%|██████████| 6/6 [00:01<00:00,  5.08it/s]"
          ]
        },
        {
          "output_type": "stream",
          "name": "stdout",
          "text": [
            "\n",
            " EPOCH: 0033 -> val_accuracy: 0.6909, class_label_loss: 1.1568, domain_label_loss: 1.2159\n"
          ]
        },
        {
          "output_type": "stream",
          "name": "stderr",
          "text": [
            "\n",
            " 14%|█▎        | 24/175 [00:04<00:27,  5.47it/s]\n",
            "100%|██████████| 6/6 [00:00<00:00,  7.22it/s]"
          ]
        },
        {
          "output_type": "stream",
          "name": "stdout",
          "text": [
            "\n",
            " EPOCH: 0034 -> val_accuracy: 0.6971, class_label_loss: 1.1977, domain_label_loss: 1.1199\n"
          ]
        },
        {
          "output_type": "stream",
          "name": "stderr",
          "text": [
            "\n",
            " 14%|█▎        | 24/175 [00:04<00:28,  5.27it/s]\n",
            "100%|██████████| 6/6 [00:01<00:00,  4.39it/s]"
          ]
        },
        {
          "output_type": "stream",
          "name": "stdout",
          "text": [
            "\n",
            " EPOCH: 0035 -> val_accuracy: 0.6968, class_label_loss: 1.1570, domain_label_loss: 1.1880\n"
          ]
        },
        {
          "output_type": "stream",
          "name": "stderr",
          "text": [
            "\n",
            " 14%|█▎        | 24/175 [00:06<00:42,  3.56it/s]\n",
            "100%|██████████| 6/6 [00:00<00:00,  7.36it/s]"
          ]
        },
        {
          "output_type": "stream",
          "name": "stdout",
          "text": [
            "\n",
            " EPOCH: 0036 -> val_accuracy: 0.7091, class_label_loss: 1.0750, domain_label_loss: 1.1423\n"
          ]
        },
        {
          "output_type": "stream",
          "name": "stderr",
          "text": [
            "\n",
            " 14%|█▎        | 24/175 [00:04<00:26,  5.59it/s]\n",
            "100%|██████████| 6/6 [00:00<00:00,  7.40it/s]"
          ]
        },
        {
          "output_type": "stream",
          "name": "stdout",
          "text": [
            "\n",
            " EPOCH: 0037 -> val_accuracy: 0.7138, class_label_loss: 1.0325, domain_label_loss: 1.2246\n"
          ]
        },
        {
          "output_type": "stream",
          "name": "stderr",
          "text": [
            "\n",
            " 14%|█▎        | 24/175 [00:05<00:36,  4.14it/s]\n",
            "100%|██████████| 6/6 [00:01<00:00,  4.35it/s]"
          ]
        },
        {
          "output_type": "stream",
          "name": "stdout",
          "text": [
            "\n",
            " EPOCH: 0038 -> val_accuracy: 0.7101, class_label_loss: 1.0751, domain_label_loss: 1.1175\n"
          ]
        },
        {
          "output_type": "stream",
          "name": "stderr",
          "text": [
            "\n",
            " 14%|█▎        | 24/175 [00:05<00:35,  4.27it/s]\n",
            "100%|██████████| 6/6 [00:00<00:00,  7.39it/s]"
          ]
        },
        {
          "output_type": "stream",
          "name": "stdout",
          "text": [
            "\n",
            " EPOCH: 0039 -> val_accuracy: 0.7203, class_label_loss: 1.0088, domain_label_loss: 1.1229\n"
          ]
        },
        {
          "output_type": "stream",
          "name": "stderr",
          "text": [
            "\n",
            " 14%|█▎        | 24/175 [00:04<00:26,  5.75it/s]\n",
            "100%|██████████| 6/6 [00:00<00:00,  7.44it/s]"
          ]
        },
        {
          "output_type": "stream",
          "name": "stdout",
          "text": [
            "\n",
            " EPOCH: 0040 -> val_accuracy: 0.7253, class_label_loss: 0.9890, domain_label_loss: 1.1713\n"
          ]
        },
        {
          "output_type": "stream",
          "name": "stderr",
          "text": [
            "\n",
            " 14%|█▎        | 24/175 [00:07<00:45,  3.33it/s]\n",
            "100%|██████████| 6/6 [00:01<00:00,  4.61it/s]"
          ]
        },
        {
          "output_type": "stream",
          "name": "stdout",
          "text": [
            "\n",
            " EPOCH: 0041 -> val_accuracy: 0.7294, class_label_loss: 0.9645, domain_label_loss: 1.1582\n"
          ]
        },
        {
          "output_type": "stream",
          "name": "stderr",
          "text": [
            "\n",
            " 14%|█▎        | 24/175 [00:04<00:25,  5.81it/s]\n",
            "100%|██████████| 6/6 [00:00<00:00,  7.38it/s]"
          ]
        },
        {
          "output_type": "stream",
          "name": "stdout",
          "text": [
            "\n",
            " EPOCH: 0042 -> val_accuracy: 0.7423, class_label_loss: 1.0229, domain_label_loss: 1.1528\n"
          ]
        },
        {
          "output_type": "stream",
          "name": "stderr",
          "text": [
            "\n",
            " 14%|█▎        | 24/175 [00:04<00:28,  5.33it/s]\n",
            "100%|██████████| 6/6 [00:01<00:00,  4.43it/s]"
          ]
        },
        {
          "output_type": "stream",
          "name": "stdout",
          "text": [
            "\n",
            " EPOCH: 0043 -> val_accuracy: 0.7397, class_label_loss: 0.9782, domain_label_loss: 1.1270\n"
          ]
        },
        {
          "output_type": "stream",
          "name": "stderr",
          "text": [
            "\n",
            " 14%|█▎        | 24/175 [00:06<00:41,  3.65it/s]\n",
            "100%|██████████| 6/6 [00:00<00:00,  7.13it/s]"
          ]
        },
        {
          "output_type": "stream",
          "name": "stdout",
          "text": [
            "\n",
            " EPOCH: 0044 -> val_accuracy: 0.7428, class_label_loss: 0.9377, domain_label_loss: 1.1598\n"
          ]
        },
        {
          "output_type": "stream",
          "name": "stderr",
          "text": [
            "\n",
            " 14%|█▎        | 24/175 [00:04<00:26,  5.72it/s]\n",
            "100%|██████████| 6/6 [00:00<00:00,  7.35it/s]"
          ]
        },
        {
          "output_type": "stream",
          "name": "stdout",
          "text": [
            "\n",
            " EPOCH: 0045 -> val_accuracy: 0.7430, class_label_loss: 0.8766, domain_label_loss: 1.1356\n"
          ]
        },
        {
          "output_type": "stream",
          "name": "stderr",
          "text": [
            "\n",
            " 14%|█▎        | 24/175 [00:06<00:39,  3.82it/s]\n",
            "100%|██████████| 6/6 [00:01<00:00,  4.13it/s]"
          ]
        },
        {
          "output_type": "stream",
          "name": "stdout",
          "text": [
            "\n",
            " EPOCH: 0046 -> val_accuracy: 0.7475, class_label_loss: 0.8897, domain_label_loss: 1.2298\n"
          ]
        },
        {
          "output_type": "stream",
          "name": "stderr",
          "text": [
            "\n",
            " 14%|█▎        | 24/175 [00:05<00:31,  4.75it/s]\n",
            "100%|██████████| 6/6 [00:00<00:00,  7.31it/s]"
          ]
        },
        {
          "output_type": "stream",
          "name": "stdout",
          "text": [
            "\n",
            " EPOCH: 0047 -> val_accuracy: 0.7475, class_label_loss: 0.8988, domain_label_loss: 1.1627\n"
          ]
        },
        {
          "output_type": "stream",
          "name": "stderr",
          "text": [
            "\n",
            " 14%|█▎        | 24/175 [00:04<00:26,  5.76it/s]\n",
            "100%|██████████| 6/6 [00:00<00:00,  7.55it/s]"
          ]
        },
        {
          "output_type": "stream",
          "name": "stdout",
          "text": [
            "\n",
            " EPOCH: 0048 -> val_accuracy: 0.7553, class_label_loss: 0.8354, domain_label_loss: 1.1458\n",
            "--------------------Model saved--------------------\n"
          ]
        },
        {
          "output_type": "stream",
          "name": "stderr",
          "text": [
            "\n",
            " 14%|█▎        | 24/175 [00:07<00:46,  3.27it/s]\n",
            "100%|██████████| 6/6 [00:01<00:00,  4.81it/s]"
          ]
        },
        {
          "output_type": "stream",
          "name": "stdout",
          "text": [
            "\n",
            " EPOCH: 0049 -> val_accuracy: 0.7655, class_label_loss: 0.8812, domain_label_loss: 1.1810\n",
            "--------------------Model saved--------------------\n"
          ]
        },
        {
          "output_type": "stream",
          "name": "stderr",
          "text": [
            "\n",
            " 14%|█▎        | 24/175 [00:04<00:26,  5.64it/s]\n",
            "100%|██████████| 6/6 [00:01<00:00,  5.25it/s]"
          ]
        },
        {
          "output_type": "stream",
          "name": "stdout",
          "text": [
            "\n",
            " EPOCH: 0050 -> val_accuracy: 0.7587, class_label_loss: 0.7543, domain_label_loss: 1.1909\n"
          ]
        },
        {
          "output_type": "stream",
          "name": "stderr",
          "text": [
            "\n",
            " 14%|█▎        | 24/175 [00:04<00:30,  4.94it/s]\n",
            "100%|██████████| 6/6 [00:01<00:00,  4.55it/s]"
          ]
        },
        {
          "output_type": "stream",
          "name": "stdout",
          "text": [
            "\n",
            " EPOCH: 0051 -> val_accuracy: 0.7629, class_label_loss: 0.8130, domain_label_loss: 1.1547\n"
          ]
        },
        {
          "output_type": "stream",
          "name": "stderr",
          "text": [
            "\n",
            " 14%|█▎        | 24/175 [00:06<00:39,  3.84it/s]\n",
            "100%|██████████| 6/6 [00:00<00:00,  7.14it/s]"
          ]
        },
        {
          "output_type": "stream",
          "name": "stdout",
          "text": [
            "\n",
            " EPOCH: 0052 -> val_accuracy: 0.7665, class_label_loss: 0.8257, domain_label_loss: 1.1450\n",
            "--------------------Model saved--------------------\n"
          ]
        },
        {
          "output_type": "stream",
          "name": "stderr",
          "text": [
            "\n",
            " 14%|█▎        | 24/175 [00:04<00:26,  5.76it/s]\n",
            "100%|██████████| 6/6 [00:00<00:00,  7.27it/s]"
          ]
        },
        {
          "output_type": "stream",
          "name": "stdout",
          "text": [
            "\n",
            " EPOCH: 0053 -> val_accuracy: 0.7670, class_label_loss: 0.8374, domain_label_loss: 1.2846\n",
            "--------------------Model saved--------------------\n"
          ]
        },
        {
          "output_type": "stream",
          "name": "stderr",
          "text": [
            "\n",
            " 14%|█▎        | 24/175 [00:06<00:40,  3.75it/s]\n",
            "100%|██████████| 6/6 [00:01<00:00,  4.60it/s]"
          ]
        },
        {
          "output_type": "stream",
          "name": "stdout",
          "text": [
            "\n",
            " EPOCH: 0054 -> val_accuracy: 0.7650, class_label_loss: 0.7138, domain_label_loss: 1.1960\n"
          ]
        },
        {
          "output_type": "stream",
          "name": "stderr",
          "text": [
            "\n",
            " 14%|█▎        | 24/175 [00:05<00:32,  4.65it/s]\n",
            "100%|██████████| 6/6 [00:00<00:00,  7.25it/s]"
          ]
        },
        {
          "output_type": "stream",
          "name": "stdout",
          "text": [
            "\n",
            " EPOCH: 0055 -> val_accuracy: 0.7737, class_label_loss: 0.7507, domain_label_loss: 1.1988\n",
            "--------------------Model saved--------------------\n"
          ]
        },
        {
          "output_type": "stream",
          "name": "stderr",
          "text": [
            "\n",
            " 14%|█▎        | 24/175 [00:04<00:26,  5.80it/s]\n",
            "100%|██████████| 6/6 [00:01<00:00,  5.08it/s]"
          ]
        },
        {
          "output_type": "stream",
          "name": "stdout",
          "text": [
            "\n",
            " EPOCH: 0056 -> val_accuracy: 0.7665, class_label_loss: 0.7570, domain_label_loss: 1.2121\n"
          ]
        },
        {
          "output_type": "stream",
          "name": "stderr",
          "text": [
            "\n",
            " 14%|█▎        | 24/175 [00:07<00:45,  3.32it/s]\n",
            "100%|██████████| 6/6 [00:00<00:00,  7.06it/s]"
          ]
        },
        {
          "output_type": "stream",
          "name": "stdout",
          "text": [
            "\n",
            " EPOCH: 0057 -> val_accuracy: 0.7666, class_label_loss: 0.6130, domain_label_loss: 1.2586\n"
          ]
        },
        {
          "output_type": "stream",
          "name": "stderr",
          "text": [
            "\n",
            " 14%|█▎        | 24/175 [00:04<00:25,  5.83it/s]\n",
            "100%|██████████| 6/6 [00:00<00:00,  7.30it/s]"
          ]
        },
        {
          "output_type": "stream",
          "name": "stdout",
          "text": [
            "\n",
            " EPOCH: 0058 -> val_accuracy: 0.7718, class_label_loss: 0.7087, domain_label_loss: 1.2634\n"
          ]
        },
        {
          "output_type": "stream",
          "name": "stderr",
          "text": [
            "\n",
            " 14%|█▎        | 24/175 [00:05<00:33,  4.47it/s]\n",
            "100%|██████████| 6/6 [00:01<00:00,  4.65it/s]"
          ]
        },
        {
          "output_type": "stream",
          "name": "stdout",
          "text": [
            "\n",
            " EPOCH: 0059 -> val_accuracy: 0.7645, class_label_loss: 0.7320, domain_label_loss: 1.2708\n"
          ]
        },
        {
          "output_type": "stream",
          "name": "stderr",
          "text": [
            "\n",
            " 14%|█▎        | 24/175 [00:05<00:37,  4.07it/s]\n",
            "100%|██████████| 6/6 [00:00<00:00,  6.92it/s]"
          ]
        },
        {
          "output_type": "stream",
          "name": "stdout",
          "text": [
            "\n",
            " EPOCH: 0060 -> val_accuracy: 0.7726, class_label_loss: 0.6560, domain_label_loss: 1.2643\n"
          ]
        },
        {
          "output_type": "stream",
          "name": "stderr",
          "text": [
            "\n",
            " 14%|█▎        | 24/175 [00:04<00:26,  5.69it/s]\n",
            "100%|██████████| 6/6 [00:00<00:00,  7.29it/s]"
          ]
        },
        {
          "output_type": "stream",
          "name": "stdout",
          "text": [
            "\n",
            " EPOCH: 0061 -> val_accuracy: 0.7728, class_label_loss: 0.6295, domain_label_loss: 1.2982\n"
          ]
        },
        {
          "output_type": "stream",
          "name": "stderr",
          "text": [
            "\n",
            " 14%|█▎        | 24/175 [00:06<00:43,  3.51it/s]\n",
            "100%|██████████| 6/6 [00:01<00:00,  4.87it/s]"
          ]
        },
        {
          "output_type": "stream",
          "name": "stdout",
          "text": [
            "\n",
            " EPOCH: 0062 -> val_accuracy: 0.7717, class_label_loss: 0.7282, domain_label_loss: 1.2845\n"
          ]
        },
        {
          "output_type": "stream",
          "name": "stderr",
          "text": [
            "\n",
            " 14%|█▎        | 24/175 [00:04<00:29,  5.20it/s]\n",
            "100%|██████████| 6/6 [00:00<00:00,  7.29it/s]"
          ]
        },
        {
          "output_type": "stream",
          "name": "stdout",
          "text": [
            "\n",
            " EPOCH: 0063 -> val_accuracy: 0.7717, class_label_loss: 0.6022, domain_label_loss: 1.3636\n"
          ]
        },
        {
          "output_type": "stream",
          "name": "stderr",
          "text": [
            "\n",
            " 14%|█▎        | 24/175 [00:04<00:28,  5.37it/s]\n",
            "100%|██████████| 6/6 [00:01<00:00,  4.17it/s]"
          ]
        },
        {
          "output_type": "stream",
          "name": "stdout",
          "text": [
            "\n",
            " EPOCH: 0064 -> val_accuracy: 0.7837, class_label_loss: 0.6645, domain_label_loss: 1.3479\n",
            "--------------------Model saved--------------------\n"
          ]
        },
        {
          "output_type": "stream",
          "name": "stderr",
          "text": [
            "\n",
            " 14%|█▎        | 24/175 [00:06<00:41,  3.66it/s]\n",
            "100%|██████████| 6/6 [00:00<00:00,  7.07it/s]"
          ]
        },
        {
          "output_type": "stream",
          "name": "stdout",
          "text": [
            "\n",
            " EPOCH: 0065 -> val_accuracy: 0.7678, class_label_loss: 0.5752, domain_label_loss: 1.4131\n"
          ]
        },
        {
          "output_type": "stream",
          "name": "stderr",
          "text": [
            "\n",
            " 14%|█▎        | 24/175 [00:04<00:28,  5.23it/s]\n",
            "100%|██████████| 6/6 [00:00<00:00,  7.37it/s]"
          ]
        },
        {
          "output_type": "stream",
          "name": "stdout",
          "text": [
            "\n",
            " EPOCH: 0066 -> val_accuracy: 0.7647, class_label_loss: 0.6414, domain_label_loss: 1.3284\n"
          ]
        },
        {
          "output_type": "stream",
          "name": "stderr",
          "text": [
            "\n",
            " 14%|█▎        | 24/175 [00:07<00:44,  3.36it/s]\n",
            "100%|██████████| 6/6 [00:01<00:00,  4.43it/s]"
          ]
        },
        {
          "output_type": "stream",
          "name": "stdout",
          "text": [
            "\n",
            " EPOCH: 0067 -> val_accuracy: 0.7793, class_label_loss: 0.5806, domain_label_loss: 1.4414\n"
          ]
        },
        {
          "output_type": "stream",
          "name": "stderr",
          "text": [
            "\n",
            " 14%|█▎        | 24/175 [00:04<00:31,  4.86it/s]\n",
            "100%|██████████| 6/6 [00:00<00:00,  6.95it/s]"
          ]
        },
        {
          "output_type": "stream",
          "name": "stdout",
          "text": [
            "\n",
            " EPOCH: 0068 -> val_accuracy: 0.7881, class_label_loss: 0.6517, domain_label_loss: 1.3913\n",
            "--------------------Model saved--------------------\n"
          ]
        },
        {
          "output_type": "stream",
          "name": "stderr",
          "text": [
            "\n",
            " 14%|█▎        | 24/175 [00:04<00:26,  5.64it/s]\n",
            "100%|██████████| 6/6 [00:01<00:00,  4.42it/s]"
          ]
        },
        {
          "output_type": "stream",
          "name": "stdout",
          "text": [
            "\n",
            " EPOCH: 0069 -> val_accuracy: 0.7858, class_label_loss: 0.6135, domain_label_loss: 1.3962\n"
          ]
        },
        {
          "output_type": "stream",
          "name": "stderr",
          "text": [
            "\n",
            " 14%|█▎        | 24/175 [00:06<00:43,  3.44it/s]\n",
            "100%|██████████| 6/6 [00:00<00:00,  7.08it/s]"
          ]
        },
        {
          "output_type": "stream",
          "name": "stdout",
          "text": [
            "\n",
            " EPOCH: 0070 -> val_accuracy: 0.7812, class_label_loss: 0.6052, domain_label_loss: 1.3805\n"
          ]
        },
        {
          "output_type": "stream",
          "name": "stderr",
          "text": [
            "\n",
            " 14%|█▎        | 24/175 [00:04<00:27,  5.47it/s]\n",
            "100%|██████████| 6/6 [00:00<00:00,  7.11it/s]"
          ]
        },
        {
          "output_type": "stream",
          "name": "stdout",
          "text": [
            "\n",
            " EPOCH: 0071 -> val_accuracy: 0.7894, class_label_loss: 0.6067, domain_label_loss: 1.3383\n",
            "--------------------Model saved--------------------\n"
          ]
        },
        {
          "output_type": "stream",
          "name": "stderr",
          "text": [
            "\n",
            " 14%|█▎        | 24/175 [00:06<00:38,  3.89it/s]\n",
            "100%|██████████| 6/6 [00:01<00:00,  4.49it/s]"
          ]
        },
        {
          "output_type": "stream",
          "name": "stdout",
          "text": [
            "\n",
            " EPOCH: 0072 -> val_accuracy: 0.7839, class_label_loss: 0.5135, domain_label_loss: 1.3388\n"
          ]
        },
        {
          "output_type": "stream",
          "name": "stderr",
          "text": [
            "\n",
            " 14%|█▎        | 24/175 [00:05<00:33,  4.45it/s]\n",
            "100%|██████████| 6/6 [00:00<00:00,  7.18it/s]"
          ]
        },
        {
          "output_type": "stream",
          "name": "stdout",
          "text": [
            "\n",
            " EPOCH: 0073 -> val_accuracy: 0.7816, class_label_loss: 0.5214, domain_label_loss: 1.4175\n"
          ]
        },
        {
          "output_type": "stream",
          "name": "stderr",
          "text": [
            "\n",
            " 14%|█▎        | 24/175 [00:04<00:25,  5.89it/s]\n",
            "100%|██████████| 6/6 [00:00<00:00,  6.93it/s]"
          ]
        },
        {
          "output_type": "stream",
          "name": "stdout",
          "text": [
            "\n",
            " EPOCH: 0074 -> val_accuracy: 0.7960, class_label_loss: 0.5366, domain_label_loss: 1.4780\n",
            "--------------------Model saved--------------------\n"
          ]
        },
        {
          "output_type": "stream",
          "name": "stderr",
          "text": [
            "\n",
            " 14%|█▎        | 24/175 [00:07<00:45,  3.32it/s]\n",
            "100%|██████████| 6/6 [00:01<00:00,  4.61it/s]\n"
          ]
        },
        {
          "output_type": "stream",
          "name": "stdout",
          "text": [
            "\n",
            " EPOCH: 0075 -> val_accuracy: 0.7999, class_label_loss: 0.5373, domain_label_loss: 1.3582\n",
            "--------------------Model saved--------------------\n"
          ]
        },
        {
          "output_type": "stream",
          "name": "stderr",
          "text": [
            " 14%|█▎        | 24/175 [00:04<00:27,  5.45it/s]\n",
            "100%|██████████| 6/6 [00:00<00:00,  7.45it/s]"
          ]
        },
        {
          "output_type": "stream",
          "name": "stdout",
          "text": [
            "\n",
            " EPOCH: 0076 -> val_accuracy: 0.7850, class_label_loss: 0.5503, domain_label_loss: 1.4002\n"
          ]
        },
        {
          "output_type": "stream",
          "name": "stderr",
          "text": [
            "\n",
            " 14%|█▎        | 24/175 [00:04<00:29,  5.16it/s]\n",
            "100%|██████████| 6/6 [00:01<00:00,  4.42it/s]"
          ]
        },
        {
          "output_type": "stream",
          "name": "stdout",
          "text": [
            "\n",
            " EPOCH: 0077 -> val_accuracy: 0.7848, class_label_loss: 0.4888, domain_label_loss: 1.3773\n"
          ]
        },
        {
          "output_type": "stream",
          "name": "stderr",
          "text": [
            "\n",
            " 14%|█▎        | 24/175 [00:06<00:39,  3.81it/s]\n",
            "100%|██████████| 6/6 [00:00<00:00,  6.78it/s]"
          ]
        },
        {
          "output_type": "stream",
          "name": "stdout",
          "text": [
            "\n",
            " EPOCH: 0078 -> val_accuracy: 0.8038, class_label_loss: 0.4871, domain_label_loss: 1.3770\n",
            "--------------------Model saved--------------------\n"
          ]
        },
        {
          "output_type": "stream",
          "name": "stderr",
          "text": [
            "\n",
            " 14%|█▎        | 24/175 [00:04<00:25,  5.89it/s]\n",
            "100%|██████████| 6/6 [00:00<00:00,  7.24it/s]"
          ]
        },
        {
          "output_type": "stream",
          "name": "stdout",
          "text": [
            "\n",
            " EPOCH: 0079 -> val_accuracy: 0.7964, class_label_loss: 0.4625, domain_label_loss: 1.3896\n"
          ]
        },
        {
          "output_type": "stream",
          "name": "stderr",
          "text": [
            "\n",
            " 14%|█▎        | 24/175 [00:06<00:39,  3.79it/s]\n",
            "100%|██████████| 6/6 [00:01<00:00,  4.23it/s]"
          ]
        },
        {
          "output_type": "stream",
          "name": "stdout",
          "text": [
            "\n",
            " EPOCH: 0080 -> val_accuracy: 0.7949, class_label_loss: 0.5602, domain_label_loss: 1.3698\n"
          ]
        },
        {
          "output_type": "stream",
          "name": "stderr",
          "text": [
            "\n",
            " 14%|█▎        | 24/175 [00:04<00:30,  4.91it/s]\n",
            "100%|██████████| 6/6 [00:00<00:00,  7.06it/s]"
          ]
        },
        {
          "output_type": "stream",
          "name": "stdout",
          "text": [
            "\n",
            " EPOCH: 0081 -> val_accuracy: 0.7994, class_label_loss: 0.4982, domain_label_loss: 1.3414\n"
          ]
        },
        {
          "output_type": "stream",
          "name": "stderr",
          "text": [
            "\n",
            " 14%|█▎        | 24/175 [00:04<00:26,  5.77it/s]\n",
            "100%|██████████| 6/6 [00:01<00:00,  5.62it/s]"
          ]
        },
        {
          "output_type": "stream",
          "name": "stdout",
          "text": [
            "\n",
            " EPOCH: 0082 -> val_accuracy: 0.7780, class_label_loss: 0.4997, domain_label_loss: 1.2934\n"
          ]
        },
        {
          "output_type": "stream",
          "name": "stderr",
          "text": [
            "\n",
            " 14%|█▎        | 24/175 [00:07<00:44,  3.38it/s]\n",
            "100%|██████████| 6/6 [00:00<00:00,  6.61it/s]"
          ]
        },
        {
          "output_type": "stream",
          "name": "stdout",
          "text": [
            "\n",
            " EPOCH: 0083 -> val_accuracy: 0.7816, class_label_loss: 0.4866, domain_label_loss: 1.3593\n"
          ]
        },
        {
          "output_type": "stream",
          "name": "stderr",
          "text": [
            "\n",
            " 14%|█▎        | 24/175 [00:04<00:26,  5.60it/s]\n",
            "100%|██████████| 6/6 [00:00<00:00,  7.31it/s]"
          ]
        },
        {
          "output_type": "stream",
          "name": "stdout",
          "text": [
            "\n",
            " EPOCH: 0084 -> val_accuracy: 0.7975, class_label_loss: 0.4924, domain_label_loss: 1.3684\n"
          ]
        },
        {
          "output_type": "stream",
          "name": "stderr",
          "text": [
            "\n",
            " 14%|█▎        | 24/175 [00:05<00:34,  4.36it/s]\n",
            "100%|██████████| 6/6 [00:01<00:00,  4.46it/s]"
          ]
        },
        {
          "output_type": "stream",
          "name": "stdout",
          "text": [
            "\n",
            " EPOCH: 0085 -> val_accuracy: 0.8083, class_label_loss: 0.4737, domain_label_loss: 1.3558\n",
            "--------------------Model saved--------------------\n"
          ]
        },
        {
          "output_type": "stream",
          "name": "stderr",
          "text": [
            "\n",
            " 14%|█▎        | 24/175 [00:05<00:35,  4.22it/s]\n",
            "100%|██████████| 6/6 [00:00<00:00,  7.17it/s]"
          ]
        },
        {
          "output_type": "stream",
          "name": "stdout",
          "text": [
            "\n",
            " EPOCH: 0086 -> val_accuracy: 0.8116, class_label_loss: 0.5131, domain_label_loss: 1.3280\n",
            "--------------------Model saved--------------------\n"
          ]
        },
        {
          "output_type": "stream",
          "name": "stderr",
          "text": [
            "\n",
            " 14%|█▎        | 24/175 [00:04<00:26,  5.64it/s]\n",
            "100%|██████████| 6/6 [00:00<00:00,  7.26it/s]"
          ]
        },
        {
          "output_type": "stream",
          "name": "stdout",
          "text": [
            "\n",
            " EPOCH: 0087 -> val_accuracy: 0.8032, class_label_loss: 0.5385, domain_label_loss: 1.3323\n"
          ]
        },
        {
          "output_type": "stream",
          "name": "stderr",
          "text": [
            "\n",
            " 14%|█▎        | 24/175 [00:07<00:45,  3.29it/s]\n",
            "100%|██████████| 6/6 [00:01<00:00,  4.92it/s]"
          ]
        },
        {
          "output_type": "stream",
          "name": "stdout",
          "text": [
            "\n",
            " EPOCH: 0088 -> val_accuracy: 0.7844, class_label_loss: 0.4230, domain_label_loss: 1.2698\n"
          ]
        },
        {
          "output_type": "stream",
          "name": "stderr",
          "text": [
            "\n",
            " 14%|█▎        | 24/175 [00:04<00:25,  5.91it/s]\n",
            "100%|██████████| 6/6 [00:00<00:00,  7.20it/s]"
          ]
        },
        {
          "output_type": "stream",
          "name": "stdout",
          "text": [
            "\n",
            " EPOCH: 0089 -> val_accuracy: 0.8112, class_label_loss: 0.4456, domain_label_loss: 1.3625\n"
          ]
        },
        {
          "output_type": "stream",
          "name": "stderr",
          "text": [
            "\n",
            " 14%|█▎        | 24/175 [00:04<00:28,  5.35it/s]\n",
            "100%|██████████| 6/6 [00:01<00:00,  4.40it/s]"
          ]
        },
        {
          "output_type": "stream",
          "name": "stdout",
          "text": [
            "\n",
            " EPOCH: 0090 -> val_accuracy: 0.7895, class_label_loss: 0.4469, domain_label_loss: 1.2954\n"
          ]
        },
        {
          "output_type": "stream",
          "name": "stderr",
          "text": [
            "\n",
            " 14%|█▎        | 24/175 [00:06<00:40,  3.72it/s]\n",
            "100%|██████████| 6/6 [00:00<00:00,  6.86it/s]"
          ]
        },
        {
          "output_type": "stream",
          "name": "stdout",
          "text": [
            "\n",
            " EPOCH: 0091 -> val_accuracy: 0.7882, class_label_loss: 0.4513, domain_label_loss: 1.3436\n"
          ]
        },
        {
          "output_type": "stream",
          "name": "stderr",
          "text": [
            "\n",
            " 14%|█▎        | 24/175 [00:04<00:26,  5.79it/s]\n",
            "100%|██████████| 6/6 [00:00<00:00,  7.29it/s]"
          ]
        },
        {
          "output_type": "stream",
          "name": "stdout",
          "text": [
            "\n",
            " EPOCH: 0092 -> val_accuracy: 0.7925, class_label_loss: 0.3812, domain_label_loss: 1.3187\n"
          ]
        },
        {
          "output_type": "stream",
          "name": "stderr",
          "text": [
            "\n",
            " 14%|█▎        | 24/175 [00:06<00:40,  3.74it/s]\n",
            "100%|██████████| 6/6 [00:01<00:00,  4.37it/s]"
          ]
        },
        {
          "output_type": "stream",
          "name": "stdout",
          "text": [
            "\n",
            " EPOCH: 0093 -> val_accuracy: 0.8095, class_label_loss: 0.4507, domain_label_loss: 1.2860\n"
          ]
        },
        {
          "output_type": "stream",
          "name": "stderr",
          "text": [
            "\n",
            " 14%|█▎        | 24/175 [00:04<00:29,  5.05it/s]\n",
            "100%|██████████| 6/6 [00:00<00:00,  7.22it/s]"
          ]
        },
        {
          "output_type": "stream",
          "name": "stdout",
          "text": [
            "\n",
            " EPOCH: 0094 -> val_accuracy: 0.7978, class_label_loss: 0.4719, domain_label_loss: 1.2986\n"
          ]
        },
        {
          "output_type": "stream",
          "name": "stderr",
          "text": [
            "\n",
            " 14%|█▎        | 24/175 [00:04<00:27,  5.49it/s]\n",
            "100%|██████████| 6/6 [00:01<00:00,  4.44it/s]"
          ]
        },
        {
          "output_type": "stream",
          "name": "stdout",
          "text": [
            "\n",
            " EPOCH: 0095 -> val_accuracy: 0.7936, class_label_loss: 0.4361, domain_label_loss: 1.2998\n"
          ]
        },
        {
          "output_type": "stream",
          "name": "stderr",
          "text": [
            "\n",
            " 14%|█▎        | 24/175 [00:07<00:44,  3.41it/s]\n",
            "100%|██████████| 6/6 [00:00<00:00,  7.19it/s]"
          ]
        },
        {
          "output_type": "stream",
          "name": "stdout",
          "text": [
            "\n",
            " EPOCH: 0096 -> val_accuracy: 0.7981, class_label_loss: 0.4388, domain_label_loss: 1.3205\n"
          ]
        },
        {
          "output_type": "stream",
          "name": "stderr",
          "text": [
            "\n",
            " 14%|█▎        | 24/175 [00:04<00:26,  5.73it/s]\n",
            "100%|██████████| 6/6 [00:00<00:00,  7.24it/s]"
          ]
        },
        {
          "output_type": "stream",
          "name": "stdout",
          "text": [
            "\n",
            " EPOCH: 0097 -> val_accuracy: 0.8111, class_label_loss: 0.4575, domain_label_loss: 1.3315\n"
          ]
        },
        {
          "output_type": "stream",
          "name": "stderr",
          "text": [
            "\n",
            " 14%|█▎        | 24/175 [00:05<00:36,  4.13it/s]\n",
            "100%|██████████| 6/6 [00:01<00:00,  4.38it/s]"
          ]
        },
        {
          "output_type": "stream",
          "name": "stdout",
          "text": [
            "\n",
            " EPOCH: 0098 -> val_accuracy: 0.8085, class_label_loss: 0.5257, domain_label_loss: 1.3491\n"
          ]
        },
        {
          "output_type": "stream",
          "name": "stderr",
          "text": [
            "\n",
            " 14%|█▎        | 24/175 [00:05<00:33,  4.54it/s]\n",
            "100%|██████████| 6/6 [00:00<00:00,  6.70it/s]"
          ]
        },
        {
          "output_type": "stream",
          "name": "stdout",
          "text": [
            "\n",
            " EPOCH: 0099 -> val_accuracy: 0.7925, class_label_loss: 0.4659, domain_label_loss: 1.3524\n"
          ]
        },
        {
          "output_type": "stream",
          "name": "stderr",
          "text": [
            "\n",
            "  1%|          | 1/175 [00:00<01:47,  1.63it/s]Exception ignored in: Exception ignored in: <function _MultiProcessingDataLoaderIter.__del__ at 0x7af179b7a680><function _MultiProcessingDataLoaderIter.__del__ at 0x7af179b7a680>\n",
            "Traceback (most recent call last):\n",
            "\n",
            "  File \"/usr/local/lib/python3.10/dist-packages/torch/utils/data/dataloader.py\", line 1478, in __del__\n",
            "Traceback (most recent call last):\n",
            "    self._shutdown_workers()\n",
            "  File \"/usr/local/lib/python3.10/dist-packages/torch/utils/data/dataloader.py\", line 1461, in _shutdown_workers\n",
            "  File \"/usr/local/lib/python3.10/dist-packages/torch/utils/data/dataloader.py\", line 1478, in __del__\n",
            "        if w.is_alive():\n",
            "  File \"/usr/lib/python3.10/multiprocessing/process.py\", line 160, in is_alive\n",
            "self._shutdown_workers()    assert self._parent_pid == os.getpid(), 'can only test a child process'\n",
            "AssertionError\n",
            "  File \"/usr/local/lib/python3.10/dist-packages/torch/utils/data/dataloader.py\", line 1461, in _shutdown_workers\n",
            "    : if w.is_alive():can only test a child process\n",
            "\n",
            "Exception ignored in: <function _MultiProcessingDataLoaderIter.__del__ at 0x7af179b7a680>  File \"/usr/lib/python3.10/multiprocessing/process.py\", line 160, in is_alive\n",
            "\n",
            "    Traceback (most recent call last):\n",
            "assert self._parent_pid == os.getpid(), 'can only test a child process'  File \"/usr/local/lib/python3.10/dist-packages/torch/utils/data/dataloader.py\", line 1478, in __del__\n",
            "\n",
            "    AssertionError: self._shutdown_workers()can only test a child process\n",
            "\n",
            "  File \"/usr/local/lib/python3.10/dist-packages/torch/utils/data/dataloader.py\", line 1461, in _shutdown_workers\n",
            "    if w.is_alive():Exception ignored in: <function _MultiProcessingDataLoaderIter.__del__ at 0x7af179b7a680>\n",
            "Traceback (most recent call last):\n",
            "  File \"/usr/local/lib/python3.10/dist-packages/torch/utils/data/dataloader.py\", line 1478, in __del__\n",
            "    self._shutdown_workers()\n",
            "  File \"/usr/lib/python3.10/multiprocessing/process.py\", line 160, in is_alive\n",
            "    assert self._parent_pid == os.getpid(), 'can only test a child process'\n",
            "AssertionError: can only test a child process\n",
            "  File \"/usr/local/lib/python3.10/dist-packages/torch/utils/data/dataloader.py\", line 1461, in _shutdown_workers\n",
            "\n",
            "    if w.is_alive():\n",
            "  File \"/usr/lib/python3.10/multiprocessing/process.py\", line 160, in is_alive\n",
            "    assert self._parent_pid == os.getpid(), 'can only test a child process'\n",
            "AssertionError: can only test a child process\n",
            " 14%|█▎        | 24/175 [00:04<00:29,  5.10it/s]\n",
            "Exception ignored in: <function _MultiProcessingDataLoaderIter.__del__ at 0x7af179b7a680>\n",
            "Exception ignored in: <function _MultiProcessingDataLoaderIter.__del__ at 0x7af179b7a680>Traceback (most recent call last):\n",
            "\n",
            "  File \"/usr/local/lib/python3.10/dist-packages/torch/utils/data/dataloader.py\", line 1478, in __del__\n",
            "    self._shutdown_workers()Traceback (most recent call last):\n",
            "\n",
            "  File \"/usr/local/lib/python3.10/dist-packages/torch/utils/data/dataloader.py\", line 1461, in _shutdown_workers\n",
            "    if w.is_alive():  File \"/usr/local/lib/python3.10/dist-packages/torch/utils/data/dataloader.py\", line 1478, in __del__\n",
            "\n",
            "      File \"/usr/lib/python3.10/multiprocessing/process.py\", line 160, in is_alive\n",
            "self._shutdown_workers()    \n",
            "assert self._parent_pid == os.getpid(), 'can only test a child process'  File \"/usr/local/lib/python3.10/dist-packages/torch/utils/data/dataloader.py\", line 1461, in _shutdown_workers\n",
            "\n",
            "    if w.is_alive():AssertionError\n",
            "  File \"/usr/lib/python3.10/multiprocessing/process.py\", line 160, in is_alive\n",
            "    assert self._parent_pid == os.getpid(), 'can only test a child process'Exception ignored in: \n",
            "<function _MultiProcessingDataLoaderIter.__del__ at 0x7af179b7a680>AssertionError\n",
            "Traceback (most recent call last):\n",
            ": :   File \"/usr/local/lib/python3.10/dist-packages/torch/utils/data/dataloader.py\", line 1478, in __del__\n",
            "can only test a child processcan only test a child process    self._shutdown_workers()\n",
            "\n",
            "  File \"/usr/local/lib/python3.10/dist-packages/torch/utils/data/dataloader.py\", line 1461, in _shutdown_workers\n",
            "\n",
            "    Exception ignored in: if w.is_alive():<function _MultiProcessingDataLoaderIter.__del__ at 0x7af179b7a680>Exception ignored in: \n",
            "\n",
            "<function _MultiProcessingDataLoaderIter.__del__ at 0x7af179b7a680>  File \"/usr/lib/python3.10/multiprocessing/process.py\", line 160, in is_alive\n",
            "\n",
            "    Traceback (most recent call last):\n",
            "assert self._parent_pid == os.getpid(), 'can only test a child process'\n",
            "  File \"/usr/local/lib/python3.10/dist-packages/torch/utils/data/dataloader.py\", line 1478, in __del__\n",
            "Traceback (most recent call last):\n",
            "AssertionError    : self._shutdown_workers()can only test a child process\n",
            "  File \"/usr/local/lib/python3.10/dist-packages/torch/utils/data/dataloader.py\", line 1478, in __del__\n",
            "\n",
            "Exception ignored in: Exception ignored in: <function _MultiProcessingDataLoaderIter.__del__ at 0x7af179b7a680>    \n",
            "Traceback (most recent call last):\n",
            "  File \"/usr/local/lib/python3.10/dist-packages/torch/utils/data/dataloader.py\", line 1461, in _shutdown_workers\n",
            "<function _MultiProcessingDataLoaderIter.__del__ at 0x7af179b7a680>  File \"/usr/local/lib/python3.10/dist-packages/torch/utils/data/dataloader.py\", line 1478, in __del__\n",
            "    self._shutdown_workers()\n",
            "  File \"/usr/local/lib/python3.10/dist-packages/torch/utils/data/dataloader.py\", line 1461, in _shutdown_workers\n",
            "\n",
            "if w.is_alive():        if w.is_alive():\n",
            "  File \"/usr/lib/python3.10/multiprocessing/process.py\", line 160, in is_alive\n",
            "    assert self._parent_pid == os.getpid(), 'can only test a child process'\n",
            "\n",
            "Traceback (most recent call last):\n",
            "self._shutdown_workers()\n",
            "  File \"/usr/local/lib/python3.10/dist-packages/torch/utils/data/dataloader.py\", line 1478, in __del__\n",
            "AssertionError  File \"/usr/lib/python3.10/multiprocessing/process.py\", line 160, in is_alive\n",
            "    :   File \"/usr/local/lib/python3.10/dist-packages/torch/utils/data/dataloader.py\", line 1461, in _shutdown_workers\n",
            "assert self._parent_pid == os.getpid(), 'can only test a child process'        can only test a child process\n",
            "\n",
            "self._shutdown_workers()AssertionErrorif w.is_alive():: \n",
            "can only test a child process\n",
            "\n",
            "  File \"/usr/local/lib/python3.10/dist-packages/torch/utils/data/dataloader.py\", line 1461, in _shutdown_workers\n",
            "  File \"/usr/lib/python3.10/multiprocessing/process.py\", line 160, in is_alive\n",
            "        assert self._parent_pid == os.getpid(), 'can only test a child process'if w.is_alive():\n",
            "\n",
            "  File \"/usr/lib/python3.10/multiprocessing/process.py\", line 160, in is_alive\n",
            "AssertionError    : can only test a child processassert self._parent_pid == os.getpid(), 'can only test a child process'\n",
            "\n",
            "AssertionError: can only test a child process\n",
            "Exception ignored in: <function _MultiProcessingDataLoaderIter.__del__ at 0x7af179b7a680>\n",
            "Traceback (most recent call last):\n",
            "  File \"/usr/local/lib/python3.10/dist-packages/torch/utils/data/dataloader.py\", line 1478, in __del__\n",
            "    self._shutdown_workers()\n",
            "  File \"/usr/local/lib/python3.10/dist-packages/torch/utils/data/dataloader.py\", line 1461, in _shutdown_workers\n",
            "    if w.is_alive():\n",
            "  File \"/usr/lib/python3.10/multiprocessing/process.py\", line 160, in is_alive\n",
            "    assert self._parent_pid == os.getpid(), 'can only test a child process'\n",
            "AssertionError: can only test a child process\n",
            "  0%|          | 0/6 [00:00<?, ?it/s]Exception ignored in: <function _MultiProcessingDataLoaderIter.__del__ at 0x7af179b7a680>\n",
            "Traceback (most recent call last):\n",
            "  File \"/usr/local/lib/python3.10/dist-packages/torch/utils/data/dataloader.py\", line 1478, in __del__\n",
            "    self._shutdown_workers()Exception ignored in: \n",
            "  File \"/usr/local/lib/python3.10/dist-packages/torch/utils/data/dataloader.py\", line 1461, in _shutdown_workers\n",
            "<function _MultiProcessingDataLoaderIter.__del__ at 0x7af179b7a680>\n",
            "    Traceback (most recent call last):\n",
            "  File \"/usr/local/lib/python3.10/dist-packages/torch/utils/data/dataloader.py\", line 1478, in __del__\n",
            "if w.is_alive():    \n",
            "Exception ignored in:   File \"/usr/lib/python3.10/multiprocessing/process.py\", line 160, in is_alive\n",
            "Exception ignored in: self._shutdown_workers()\n",
            "  File \"/usr/local/lib/python3.10/dist-packages/torch/utils/data/dataloader.py\", line 1461, in _shutdown_workers\n",
            "    if w.is_alive():<function _MultiProcessingDataLoaderIter.__del__ at 0x7af179b7a680>    \n",
            "\n",
            "<function _MultiProcessingDataLoaderIter.__del__ at 0x7af179b7a680>assert self._parent_pid == os.getpid(), 'can only test a child process'Traceback (most recent call last):\n",
            "\n",
            "  File \"/usr/local/lib/python3.10/dist-packages/torch/utils/data/dataloader.py\", line 1478, in __del__\n",
            "Traceback (most recent call last):\n",
            "          File \"/usr/local/lib/python3.10/dist-packages/torch/utils/data/dataloader.py\", line 1478, in __del__\n",
            "\n",
            "  File \"/usr/lib/python3.10/multiprocessing/process.py\", line 160, in is_alive\n",
            "AssertionErrorself._shutdown_workers()assert self._parent_pid == os.getpid(), 'can only test a child process'    \n",
            "AssertionError: \n",
            "can only test a child process:   File \"/usr/local/lib/python3.10/dist-packages/torch/utils/data/dataloader.py\", line 1461, in _shutdown_workers\n",
            "\n",
            "self._shutdown_workers()    can only test a child processif w.is_alive():\n",
            "\n",
            "\n",
            "  File \"/usr/lib/python3.10/multiprocessing/process.py\", line 160, in is_alive\n",
            "  File \"/usr/local/lib/python3.10/dist-packages/torch/utils/data/dataloader.py\", line 1461, in _shutdown_workers\n",
            "Exception ignored in:     if w.is_alive():<function _MultiProcessingDataLoaderIter.__del__ at 0x7af179b7a680>    assert self._parent_pid == os.getpid(), 'can only test a child process'\n",
            "AssertionError: can only test a child process\n",
            "\n",
            "Traceback (most recent call last):\n",
            "Exception ignored in:   File \"/usr/local/lib/python3.10/dist-packages/torch/utils/data/dataloader.py\", line 1478, in __del__\n",
            "    self._shutdown_workers()  File \"/usr/lib/python3.10/multiprocessing/process.py\", line 160, in is_alive\n",
            "\n",
            "\n",
            "  File \"/usr/local/lib/python3.10/dist-packages/torch/utils/data/dataloader.py\", line 1461, in _shutdown_workers\n",
            "<function _MultiProcessingDataLoaderIter.__del__ at 0x7af179b7a680>    if w.is_alive():    \n",
            "Exception ignored in:   File \"/usr/lib/python3.10/multiprocessing/process.py\", line 160, in is_alive\n",
            "\n",
            "    assert self._parent_pid == os.getpid(), 'can only test a child process'\n",
            "assert self._parent_pid == os.getpid(), 'can only test a child process'AssertionErrorTraceback (most recent call last):\n",
            "\n",
            ": <function _MultiProcessingDataLoaderIter.__del__ at 0x7af179b7a680>can only test a child process\n",
            "  File \"/usr/local/lib/python3.10/dist-packages/torch/utils/data/dataloader.py\", line 1478, in __del__\n",
            "AssertionError    \n",
            "self._shutdown_workers(): Traceback (most recent call last):\n",
            "\n",
            "  File \"/usr/local/lib/python3.10/dist-packages/torch/utils/data/dataloader.py\", line 1461, in _shutdown_workers\n",
            "    can only test a child process  File \"/usr/local/lib/python3.10/dist-packages/torch/utils/data/dataloader.py\", line 1478, in __del__\n",
            "\n",
            "Exception ignored in: if w.is_alive():    self._shutdown_workers()<function _MultiProcessingDataLoaderIter.__del__ at 0x7af179b7a680>\n",
            "\n",
            "Traceback (most recent call last):\n",
            "\n",
            "  File \"/usr/lib/python3.10/multiprocessing/process.py\", line 160, in is_alive\n",
            "  File \"/usr/local/lib/python3.10/dist-packages/torch/utils/data/dataloader.py\", line 1478, in __del__\n",
            "  File \"/usr/local/lib/python3.10/dist-packages/torch/utils/data/dataloader.py\", line 1461, in _shutdown_workers\n",
            "        assert self._parent_pid == os.getpid(), 'can only test a child process'self._shutdown_workers()\n",
            "\n",
            "    AssertionError: can only test a child process  File \"/usr/local/lib/python3.10/dist-packages/torch/utils/data/dataloader.py\", line 1461, in _shutdown_workers\n",
            "if w.is_alive():\n",
            "  File \"/usr/lib/python3.10/multiprocessing/process.py\", line 160, in is_alive\n",
            "        assert self._parent_pid == os.getpid(), 'can only test a child process'\n",
            "AssertionError: if w.is_alive():\n",
            "can only test a child process\n",
            "\n",
            "  File \"/usr/lib/python3.10/multiprocessing/process.py\", line 160, in is_alive\n",
            "    assert self._parent_pid == os.getpid(), 'can only test a child process'\n",
            "AssertionError: can only test a child process\n",
            "100%|██████████| 6/6 [00:02<00:00,  2.26it/s]"
          ]
        },
        {
          "output_type": "stream",
          "name": "stdout",
          "text": [
            "\n",
            " EPOCH: 0100 -> val_accuracy: 0.7866, class_label_loss: 0.4458, domain_label_loss: 1.3212\n"
          ]
        },
        {
          "output_type": "stream",
          "name": "stderr",
          "text": [
            "\n",
            "  0%|          | 0/175 [00:00<?, ?it/s]Exception ignored in: Exception ignored in: Exception ignored in: <function _MultiProcessingDataLoaderIter.__del__ at 0x7af179b7a680><function _MultiProcessingDataLoaderIter.__del__ at 0x7af179b7a680>\n",
            "<function _MultiProcessingDataLoaderIter.__del__ at 0x7af179b7a680>\n",
            "\n",
            "Traceback (most recent call last):\n",
            "Traceback (most recent call last):\n",
            "Traceback (most recent call last):\n",
            "  File \"/usr/local/lib/python3.10/dist-packages/torch/utils/data/dataloader.py\", line 1478, in __del__\n",
            "  File \"/usr/local/lib/python3.10/dist-packages/torch/utils/data/dataloader.py\", line 1478, in __del__\n",
            "  File \"/usr/local/lib/python3.10/dist-packages/torch/utils/data/dataloader.py\", line 1478, in __del__\n",
            "            self._shutdown_workers()self._shutdown_workers()self._shutdown_workers()\n",
            "\n",
            "  File \"/usr/local/lib/python3.10/dist-packages/torch/utils/data/dataloader.py\", line 1461, in _shutdown_workers\n",
            "  File \"/usr/local/lib/python3.10/dist-packages/torch/utils/data/dataloader.py\", line 1461, in _shutdown_workers\n",
            "\n",
            "          File \"/usr/local/lib/python3.10/dist-packages/torch/utils/data/dataloader.py\", line 1461, in _shutdown_workers\n",
            "if w.is_alive():if w.is_alive():\n",
            "    \n",
            "  File \"/usr/lib/python3.10/multiprocessing/process.py\", line 160, in is_alive\n",
            "if w.is_alive():  File \"/usr/lib/python3.10/multiprocessing/process.py\", line 160, in is_alive\n",
            "\n",
            "          File \"/usr/lib/python3.10/multiprocessing/process.py\", line 160, in is_alive\n",
            "assert self._parent_pid == os.getpid(), 'can only test a child process'assert self._parent_pid == os.getpid(), 'can only test a child process'    \n",
            "\n",
            "assert self._parent_pid == os.getpid(), 'can only test a child process'AssertionErrorAssertionError: : \n",
            "AssertionErrorcan only test a child processcan only test a child process\n",
            "\n",
            ": can only test a child process\n",
            "Exception ignored in: Exception ignored in: <function _MultiProcessingDataLoaderIter.__del__ at 0x7af179b7a680>\n",
            "Traceback (most recent call last):\n",
            "<function _MultiProcessingDataLoaderIter.__del__ at 0x7af179b7a680>Exception ignored in:   File \"/usr/local/lib/python3.10/dist-packages/torch/utils/data/dataloader.py\", line 1478, in __del__\n",
            "\n",
            "<function _MultiProcessingDataLoaderIter.__del__ at 0x7af179b7a680>    Traceback (most recent call last):\n",
            "\n",
            "  File \"/usr/local/lib/python3.10/dist-packages/torch/utils/data/dataloader.py\", line 1478, in __del__\n",
            "self._shutdown_workers()Traceback (most recent call last):\n",
            "Exception ignored in:   File \"/usr/local/lib/python3.10/dist-packages/torch/utils/data/dataloader.py\", line 1478, in __del__\n",
            "<function _MultiProcessingDataLoaderIter.__del__ at 0x7af179b7a680>    \n",
            "self._shutdown_workers()\n",
            "Exception ignored in: Traceback (most recent call last):\n",
            "  File \"/usr/local/lib/python3.10/dist-packages/torch/utils/data/dataloader.py\", line 1461, in _shutdown_workers\n",
            "    \n",
            "<function _MultiProcessingDataLoaderIter.__del__ at 0x7af179b7a680>  File \"/usr/local/lib/python3.10/dist-packages/torch/utils/data/dataloader.py\", line 1478, in __del__\n",
            "\n",
            "    self._shutdown_workers()  File \"/usr/local/lib/python3.10/dist-packages/torch/utils/data/dataloader.py\", line 1461, in _shutdown_workers\n",
            "    \n",
            "Traceback (most recent call last):\n",
            "if w.is_alive():    self._shutdown_workers()  File \"/usr/local/lib/python3.10/dist-packages/torch/utils/data/dataloader.py\", line 1461, in _shutdown_workers\n",
            "if w.is_alive():\n",
            "\n",
            "  File \"/usr/local/lib/python3.10/dist-packages/torch/utils/data/dataloader.py\", line 1478, in __del__\n",
            "      File \"/usr/local/lib/python3.10/dist-packages/torch/utils/data/dataloader.py\", line 1461, in _shutdown_workers\n",
            "\n",
            "      File \"/usr/lib/python3.10/multiprocessing/process.py\", line 160, in is_alive\n",
            "  File \"/usr/lib/python3.10/multiprocessing/process.py\", line 160, in is_alive\n",
            "if w.is_alive():    self._shutdown_workers()        \n",
            "\n",
            "if w.is_alive():assert self._parent_pid == os.getpid(), 'can only test a child process'\n",
            "  File \"/usr/local/lib/python3.10/dist-packages/torch/utils/data/dataloader.py\", line 1461, in _shutdown_workers\n",
            "\n",
            "assert self._parent_pid == os.getpid(), 'can only test a child process'  File \"/usr/lib/python3.10/multiprocessing/process.py\", line 160, in is_alive\n",
            "  File \"/usr/lib/python3.10/multiprocessing/process.py\", line 160, in is_alive\n",
            "\n",
            "        AssertionErrorif w.is_alive():AssertionError    : \n",
            "assert self._parent_pid == os.getpid(), 'can only test a child process': assert self._parent_pid == os.getpid(), 'can only test a child process'  File \"/usr/lib/python3.10/multiprocessing/process.py\", line 160, in is_alive\n",
            "\n",
            "can only test a child process    AssertionErrorcan only test a child process\n",
            "\n",
            "assert self._parent_pid == os.getpid(), 'can only test a child process': \n",
            "AssertionErrorcan only test a child process\n",
            "\n",
            ": AssertionErrorcan only test a child processException ignored in: : \n",
            "can only test a child process<function _MultiProcessingDataLoaderIter.__del__ at 0x7af179b7a680>\n",
            "\n",
            "Traceback (most recent call last):\n",
            "  File \"/usr/local/lib/python3.10/dist-packages/torch/utils/data/dataloader.py\", line 1478, in __del__\n",
            "    Exception ignored in: Exception ignored in: self._shutdown_workers()\n",
            "<function _MultiProcessingDataLoaderIter.__del__ at 0x7af179b7a680><function _MultiProcessingDataLoaderIter.__del__ at 0x7af179b7a680>\n",
            "  File \"/usr/local/lib/python3.10/dist-packages/torch/utils/data/dataloader.py\", line 1461, in _shutdown_workers\n",
            "\n",
            "    Traceback (most recent call last):\n",
            "Traceback (most recent call last):\n",
            "  File \"/usr/local/lib/python3.10/dist-packages/torch/utils/data/dataloader.py\", line 1478, in __del__\n",
            "  File \"/usr/local/lib/python3.10/dist-packages/torch/utils/data/dataloader.py\", line 1478, in __del__\n",
            "if w.is_alive():    \n",
            "    self._shutdown_workers()self._shutdown_workers()  File \"/usr/lib/python3.10/multiprocessing/process.py\", line 160, in is_alive\n",
            "\n",
            "\n",
            "      File \"/usr/local/lib/python3.10/dist-packages/torch/utils/data/dataloader.py\", line 1461, in _shutdown_workers\n",
            "  File \"/usr/local/lib/python3.10/dist-packages/torch/utils/data/dataloader.py\", line 1461, in _shutdown_workers\n",
            "assert self._parent_pid == os.getpid(), 'can only test a child process'        \n",
            "if w.is_alive():if w.is_alive():\n",
            "\n",
            "Exception ignored in: AssertionError<function _MultiProcessingDataLoaderIter.__del__ at 0x7af179b7a680>:   File \"/usr/lib/python3.10/multiprocessing/process.py\", line 160, in is_alive\n",
            "  File \"/usr/lib/python3.10/multiprocessing/process.py\", line 160, in is_alive\n",
            "        assert self._parent_pid == os.getpid(), 'can only test a child process'assert self._parent_pid == os.getpid(), 'can only test a child process'\n",
            "\n",
            "can only test a child process\n",
            "AssertionErrorAssertionError\n",
            ": : Traceback (most recent call last):\n",
            "  File \"/usr/local/lib/python3.10/dist-packages/torch/utils/data/dataloader.py\", line 1478, in __del__\n",
            "can only test a child processcan only test a child process\n",
            "    \n",
            "self._shutdown_workers()\n",
            "  File \"/usr/local/lib/python3.10/dist-packages/torch/utils/data/dataloader.py\", line 1461, in _shutdown_workers\n",
            "Exception ignored in:     <function _MultiProcessingDataLoaderIter.__del__ at 0x7af179b7a680>\n",
            "Traceback (most recent call last):\n",
            "  File \"/usr/local/lib/python3.10/dist-packages/torch/utils/data/dataloader.py\", line 1478, in __del__\n",
            "if w.is_alive():\n",
            "      File \"/usr/lib/python3.10/multiprocessing/process.py\", line 160, in is_alive\n",
            "self._shutdown_workers()    assert self._parent_pid == os.getpid(), 'can only test a child process'\n",
            "\n",
            "  File \"/usr/local/lib/python3.10/dist-packages/torch/utils/data/dataloader.py\", line 1461, in _shutdown_workers\n",
            "Exception ignored in: AssertionError    : \n",
            "<function _MultiProcessingDataLoaderIter.__del__ at 0x7af179b7a680>if w.is_alive():can only test a child process\n",
            "  File \"/usr/lib/python3.10/multiprocessing/process.py\", line 160, in is_alive\n",
            "\n",
            "    Traceback (most recent call last):\n",
            "  File \"/usr/local/lib/python3.10/dist-packages/torch/utils/data/dataloader.py\", line 1478, in __del__\n",
            "assert self._parent_pid == os.getpid(), 'can only test a child process'    self._shutdown_workers()Exception ignored in: \n",
            "<function _MultiProcessingDataLoaderIter.__del__ at 0x7af179b7a680>\n",
            "  File \"/usr/local/lib/python3.10/dist-packages/torch/utils/data/dataloader.py\", line 1461, in _shutdown_workers\n",
            "    \n",
            "Traceback (most recent call last):\n",
            "AssertionErrorif w.is_alive():  File \"/usr/local/lib/python3.10/dist-packages/torch/utils/data/dataloader.py\", line 1478, in __del__\n",
            ": \n",
            "    can only test a child process  File \"/usr/lib/python3.10/multiprocessing/process.py\", line 160, in is_alive\n",
            "self._shutdown_workers()\n",
            "    \n",
            "assert self._parent_pid == os.getpid(), 'can only test a child process'  File \"/usr/local/lib/python3.10/dist-packages/torch/utils/data/dataloader.py\", line 1461, in _shutdown_workers\n",
            "\n",
            "    AssertionErrorif w.is_alive():: \n",
            "can only test a child process  File \"/usr/lib/python3.10/multiprocessing/process.py\", line 160, in is_alive\n",
            "\n",
            "    assert self._parent_pid == os.getpid(), 'can only test a child process'\n",
            "AssertionErrorException ignored in: <function _MultiProcessingDataLoaderIter.__del__ at 0x7af179b7a680>: \n",
            "can only test a child processTraceback (most recent call last):\n",
            "\n",
            "  File \"/usr/local/lib/python3.10/dist-packages/torch/utils/data/dataloader.py\", line 1478, in __del__\n",
            "    self._shutdown_workers()\n",
            "  File \"/usr/local/lib/python3.10/dist-packages/torch/utils/data/dataloader.py\", line 1461, in _shutdown_workers\n",
            "    if w.is_alive():\n",
            "  File \"/usr/lib/python3.10/multiprocessing/process.py\", line 160, in is_alive\n",
            "    assert self._parent_pid == os.getpid(), 'can only test a child process'\n",
            "AssertionError: can only test a child process\n",
            " 14%|█▎        | 24/175 [00:08<00:53,  2.85it/s]\n",
            "  0%|          | 0/6 [00:00<?, ?it/s]Exception ignored in: <function _MultiProcessingDataLoaderIter.__del__ at 0x7af179b7a680>\n",
            "Exception ignored in: Traceback (most recent call last):\n",
            "<function _MultiProcessingDataLoaderIter.__del__ at 0x7af179b7a680>  File \"/usr/local/lib/python3.10/dist-packages/torch/utils/data/dataloader.py\", line 1478, in __del__\n",
            "\n",
            "    Traceback (most recent call last):\n",
            "self._shutdown_workers()  File \"/usr/local/lib/python3.10/dist-packages/torch/utils/data/dataloader.py\", line 1478, in __del__\n",
            "\n",
            "  File \"/usr/local/lib/python3.10/dist-packages/torch/utils/data/dataloader.py\", line 1461, in _shutdown_workers\n",
            "        self._shutdown_workers()\n",
            "if w.is_alive():\n",
            "  File \"/usr/local/lib/python3.10/dist-packages/torch/utils/data/dataloader.py\", line 1461, in _shutdown_workers\n",
            "Exception ignored in:   File \"/usr/lib/python3.10/multiprocessing/process.py\", line 160, in is_alive\n",
            "<function _MultiProcessingDataLoaderIter.__del__ at 0x7af179b7a680>    \n",
            "    if w.is_alive():Traceback (most recent call last):\n",
            "\n",
            "assert self._parent_pid == os.getpid(), 'can only test a child process'  File \"/usr/local/lib/python3.10/dist-packages/torch/utils/data/dataloader.py\", line 1478, in __del__\n",
            "  File \"/usr/lib/python3.10/multiprocessing/process.py\", line 160, in is_alive\n",
            "\n",
            "        AssertionErrorself._shutdown_workers()assert self._parent_pid == os.getpid(), 'can only test a child process': \n",
            "can only test a child process\n",
            "  File \"/usr/local/lib/python3.10/dist-packages/torch/utils/data/dataloader.py\", line 1461, in _shutdown_workers\n",
            "\n",
            "AssertionError    : if w.is_alive():can only test a child process\n",
            "\n",
            "  File \"/usr/lib/python3.10/multiprocessing/process.py\", line 160, in is_alive\n",
            "Exception ignored in:     <function _MultiProcessingDataLoaderIter.__del__ at 0x7af179b7a680>assert self._parent_pid == os.getpid(), 'can only test a child process'\n",
            "\n",
            "Traceback (most recent call last):\n",
            "AssertionErrorException ignored in:   File \"/usr/local/lib/python3.10/dist-packages/torch/utils/data/dataloader.py\", line 1478, in __del__\n",
            ": can only test a child process\n",
            "    self._shutdown_workers()\n",
            "  File \"/usr/local/lib/python3.10/dist-packages/torch/utils/data/dataloader.py\", line 1461, in _shutdown_workers\n",
            "    if w.is_alive():<function _MultiProcessingDataLoaderIter.__del__ at 0x7af179b7a680>\n",
            "Exception ignored in: \n",
            "  File \"/usr/lib/python3.10/multiprocessing/process.py\", line 160, in is_alive\n",
            "Traceback (most recent call last):\n",
            "  File \"/usr/local/lib/python3.10/dist-packages/torch/utils/data/dataloader.py\", line 1478, in __del__\n",
            "<function _MultiProcessingDataLoaderIter.__del__ at 0x7af179b7a680>        self._shutdown_workers()assert self._parent_pid == os.getpid(), 'can only test a child process'\n",
            "\n",
            "AssertionErrorTraceback (most recent call last):\n",
            "\n",
            "  File \"/usr/local/lib/python3.10/dist-packages/torch/utils/data/dataloader.py\", line 1478, in __del__\n",
            ":       File \"/usr/local/lib/python3.10/dist-packages/torch/utils/data/dataloader.py\", line 1461, in _shutdown_workers\n",
            "can only test a child processself._shutdown_workers()\n",
            "    \n",
            "if w.is_alive():  File \"/usr/local/lib/python3.10/dist-packages/torch/utils/data/dataloader.py\", line 1461, in _shutdown_workers\n",
            "      File \"/usr/lib/python3.10/multiprocessing/process.py\", line 160, in is_alive\n",
            "\n",
            "assert self._parent_pid == os.getpid(), 'can only test a child process'\n",
            "AssertionError: can only test a child process\n",
            "    if w.is_alive():Exception ignored in: <function _MultiProcessingDataLoaderIter.__del__ at 0x7af179b7a680>\n",
            "\n",
            "  File \"/usr/lib/python3.10/multiprocessing/process.py\", line 160, in is_alive\n",
            "Traceback (most recent call last):\n",
            "  File \"/usr/local/lib/python3.10/dist-packages/torch/utils/data/dataloader.py\", line 1478, in __del__\n",
            "        self._shutdown_workers()\n",
            "  File \"/usr/local/lib/python3.10/dist-packages/torch/utils/data/dataloader.py\", line 1461, in _shutdown_workers\n",
            "    assert self._parent_pid == os.getpid(), 'can only test a child process'if w.is_alive():\n",
            "\n",
            "AssertionError  File \"/usr/lib/python3.10/multiprocessing/process.py\", line 160, in is_alive\n",
            "    : can only test a child processassert self._parent_pid == os.getpid(), 'can only test a child process'\n",
            "AssertionError: can only test a child process\n",
            "\n",
            "Exception ignored in: <function _MultiProcessingDataLoaderIter.__del__ at 0x7af179b7a680>\n",
            "Traceback (most recent call last):\n",
            "  File \"/usr/local/lib/python3.10/dist-packages/torch/utils/data/dataloader.py\", line 1478, in __del__\n",
            "    self._shutdown_workers()\n",
            "  File \"/usr/local/lib/python3.10/dist-packages/torch/utils/data/dataloader.py\", line 1461, in _shutdown_workers\n",
            "    if w.is_alive():\n",
            "  File \"/usr/lib/python3.10/multiprocessing/process.py\", line 160, in is_alive\n",
            "    assert self._parent_pid == os.getpid(), 'can only test a child process'\n",
            "AssertionError: can only test a child process\n",
            "100%|██████████| 6/6 [00:01<00:00,  3.04it/s]"
          ]
        },
        {
          "output_type": "stream",
          "name": "stdout",
          "text": [
            "\n",
            " EPOCH: 0101 -> val_accuracy: 0.7928, class_label_loss: 0.4437, domain_label_loss: 1.3345\n"
          ]
        },
        {
          "output_type": "stream",
          "name": "stderr",
          "text": [
            "\n",
            "Exception ignored in: <function _MultiProcessingDataLoaderIter.__del__ at 0x7af179b7a680>\n",
            "Traceback (most recent call last):\n",
            "  File \"/usr/local/lib/python3.10/dist-packages/torch/utils/data/dataloader.py\", line 1478, in __del__\n",
            "Exception ignored in:     self._shutdown_workers()<function _MultiProcessingDataLoaderIter.__del__ at 0x7af179b7a680>\n",
            "\n",
            "  File \"/usr/local/lib/python3.10/dist-packages/torch/utils/data/dataloader.py\", line 1461, in _shutdown_workers\n",
            "    Traceback (most recent call last):\n",
            "  File \"/usr/local/lib/python3.10/dist-packages/torch/utils/data/dataloader.py\", line 1478, in __del__\n",
            "if w.is_alive():    \n",
            "  File \"/usr/lib/python3.10/multiprocessing/process.py\", line 160, in is_alive\n",
            "self._shutdown_workers()\n",
            "    assert self._parent_pid == os.getpid(), 'can only test a child process'  File \"/usr/local/lib/python3.10/dist-packages/torch/utils/data/dataloader.py\", line 1461, in _shutdown_workers\n",
            "\n",
            "  0%|          | 0/175 [00:00<?, ?it/s]    AssertionErrorif w.is_alive():: \n",
            "can only test a child process  File \"/usr/lib/python3.10/multiprocessing/process.py\", line 160, in is_alive\n",
            "\n",
            "    assert self._parent_pid == os.getpid(), 'can only test a child process'\n",
            "Exception ignored in: AssertionError<function _MultiProcessingDataLoaderIter.__del__ at 0x7af179b7a680>Exception ignored in: \n",
            ": <function _MultiProcessingDataLoaderIter.__del__ at 0x7af179b7a680>Traceback (most recent call last):\n",
            "  File \"/usr/local/lib/python3.10/dist-packages/torch/utils/data/dataloader.py\", line 1478, in __del__\n",
            "    self._shutdown_workers()\n",
            "\n",
            "Traceback (most recent call last):\n",
            "can only test a child process  File \"/usr/local/lib/python3.10/dist-packages/torch/utils/data/dataloader.py\", line 1478, in __del__\n",
            "\n",
            "  File \"/usr/local/lib/python3.10/dist-packages/torch/utils/data/dataloader.py\", line 1461, in _shutdown_workers\n",
            "    Exception ignored in:     <function _MultiProcessingDataLoaderIter.__del__ at 0x7af179b7a680>if w.is_alive():\n",
            "self._shutdown_workers()\n",
            "Traceback (most recent call last):\n",
            "\n",
            "  File \"/usr/local/lib/python3.10/dist-packages/torch/utils/data/dataloader.py\", line 1478, in __del__\n",
            "  File \"/usr/lib/python3.10/multiprocessing/process.py\", line 160, in is_alive\n",
            "  File \"/usr/local/lib/python3.10/dist-packages/torch/utils/data/dataloader.py\", line 1461, in _shutdown_workers\n",
            "Exception ignored in:         <function _MultiProcessingDataLoaderIter.__del__ at 0x7af179b7a680>assert self._parent_pid == os.getpid(), 'can only test a child process'\n",
            "    if w.is_alive():self._shutdown_workers()\n",
            "\n",
            "Traceback (most recent call last):\n",
            "\n",
            "  File \"/usr/lib/python3.10/multiprocessing/process.py\", line 160, in is_alive\n",
            "  File \"/usr/local/lib/python3.10/dist-packages/torch/utils/data/dataloader.py\", line 1461, in _shutdown_workers\n",
            "  File \"/usr/local/lib/python3.10/dist-packages/torch/utils/data/dataloader.py\", line 1478, in __del__\n",
            "AssertionError:         can only test a child process    assert self._parent_pid == os.getpid(), 'can only test a child process'if w.is_alive():\n",
            "self._shutdown_workers()\n",
            "\n",
            "AssertionError\n",
            ":   File \"/usr/lib/python3.10/multiprocessing/process.py\", line 160, in is_alive\n",
            "can only test a child processException ignored in: \n",
            "<function _MultiProcessingDataLoaderIter.__del__ at 0x7af179b7a680>\n",
            "Traceback (most recent call last):\n",
            "  File \"/usr/local/lib/python3.10/dist-packages/torch/utils/data/dataloader.py\", line 1478, in __del__\n",
            "    self._shutdown_workers()\n",
            "  File \"/usr/local/lib/python3.10/dist-packages/torch/utils/data/dataloader.py\", line 1461, in _shutdown_workers\n",
            "    if w.is_alive():\n",
            "  File \"/usr/local/lib/python3.10/dist-packages/torch/utils/data/dataloader.py\", line 1461, in _shutdown_workers\n",
            "        assert self._parent_pid == os.getpid(), 'can only test a child process'if w.is_alive():\n",
            "\n",
            "AssertionError  File \"/usr/lib/python3.10/multiprocessing/process.py\", line 160, in is_alive\n",
            ":   File \"/usr/lib/python3.10/multiprocessing/process.py\", line 160, in is_alive\n",
            "    can only test a child process    assert self._parent_pid == os.getpid(), 'can only test a child process'\n",
            "assert self._parent_pid == os.getpid(), 'can only test a child process'\n",
            "AssertionError\n",
            "AssertionError: can only test a child process: Exception ignored in: \n",
            "can only test a child process\n",
            "<function _MultiProcessingDataLoaderIter.__del__ at 0x7af179b7a680>\n",
            "Traceback (most recent call last):\n",
            "  File \"/usr/local/lib/python3.10/dist-packages/torch/utils/data/dataloader.py\", line 1478, in __del__\n",
            "    self._shutdown_workers()\n",
            "  File \"/usr/local/lib/python3.10/dist-packages/torch/utils/data/dataloader.py\", line 1461, in _shutdown_workers\n",
            "    if w.is_alive():\n",
            "  File \"/usr/lib/python3.10/multiprocessing/process.py\", line 160, in is_alive\n",
            "    assert self._parent_pid == os.getpid(), 'can only test a child process'\n",
            "AssertionError: can only test a child process\n",
            "Exception ignored in: <function _MultiProcessingDataLoaderIter.__del__ at 0x7af179b7a680>\n",
            "Traceback (most recent call last):\n",
            "  File \"/usr/local/lib/python3.10/dist-packages/torch/utils/data/dataloader.py\", line 1478, in __del__\n",
            "    self._shutdown_workers()\n",
            "  File \"/usr/local/lib/python3.10/dist-packages/torch/utils/data/dataloader.py\", line 1461, in _shutdown_workers\n",
            "    if w.is_alive():\n",
            "  File \"/usr/lib/python3.10/multiprocessing/process.py\", line 160, in is_alive\n",
            "    assert self._parent_pid == os.getpid(), 'can only test a child process'\n",
            "AssertionError: can only test a child process\n",
            "Exception ignored in: <function _MultiProcessingDataLoaderIter.__del__ at 0x7af179b7a680>\n",
            "Traceback (most recent call last):\n",
            "  File \"/usr/local/lib/python3.10/dist-packages/torch/utils/data/dataloader.py\", line 1478, in __del__\n",
            "    self._shutdown_workers()\n",
            "  File \"/usr/local/lib/python3.10/dist-packages/torch/utils/data/dataloader.py\", line 1461, in _shutdown_workers\n",
            "    if w.is_alive():\n",
            "  File \"/usr/lib/python3.10/multiprocessing/process.py\", line 160, in is_alive\n",
            "    assert self._parent_pid == os.getpid(), 'can only test a child process'\n",
            "AssertionError: can only test a child process\n",
            "Exception ignored in: <function _MultiProcessingDataLoaderIter.__del__ at 0x7af179b7a680>\n",
            "Traceback (most recent call last):\n",
            "  File \"/usr/local/lib/python3.10/dist-packages/torch/utils/data/dataloader.py\", line 1478, in __del__\n",
            "    self._shutdown_workers()\n",
            "  File \"/usr/local/lib/python3.10/dist-packages/torch/utils/data/dataloader.py\", line 1461, in _shutdown_workers\n",
            "    if w.is_alive():\n",
            "Exception ignored in: <function _MultiProcessingDataLoaderIter.__del__ at 0x7af179b7a680>  File \"/usr/lib/python3.10/multiprocessing/process.py\", line 160, in is_alive\n",
            "\n",
            "    Traceback (most recent call last):\n",
            "assert self._parent_pid == os.getpid(), 'can only test a child process'  File \"/usr/local/lib/python3.10/dist-packages/torch/utils/data/dataloader.py\", line 1478, in __del__\n",
            "\n",
            "    AssertionErrorException ignored in: : self._shutdown_workers()\n",
            "<function _MultiProcessingDataLoaderIter.__del__ at 0x7af179b7a680>can only test a child process\n",
            "\n",
            "Traceback (most recent call last):\n",
            "  File \"/usr/local/lib/python3.10/dist-packages/torch/utils/data/dataloader.py\", line 1461, in _shutdown_workers\n",
            "  File \"/usr/local/lib/python3.10/dist-packages/torch/utils/data/dataloader.py\", line 1478, in __del__\n",
            "        if w.is_alive():self._shutdown_workers()\n",
            "\n",
            "  File \"/usr/lib/python3.10/multiprocessing/process.py\", line 160, in is_alive\n",
            "Exception ignored in:   File \"/usr/local/lib/python3.10/dist-packages/torch/utils/data/dataloader.py\", line 1461, in _shutdown_workers\n",
            "        <function _MultiProcessingDataLoaderIter.__del__ at 0x7af179b7a680>assert self._parent_pid == os.getpid(), 'can only test a child process'\n",
            "if w.is_alive():\n",
            "AssertionErrorTraceback (most recent call last):\n",
            "\n",
            ":   File \"/usr/local/lib/python3.10/dist-packages/torch/utils/data/dataloader.py\", line 1478, in __del__\n",
            "  File \"/usr/lib/python3.10/multiprocessing/process.py\", line 160, in is_alive\n",
            "can only test a child processassert self._parent_pid == os.getpid(), 'can only test a child process'    \n",
            "    \n",
            "AssertionError: Exception ignored in: self._shutdown_workers()<function _MultiProcessingDataLoaderIter.__del__ at 0x7af179b7a680>can only test a child process\n",
            "\n",
            "\n",
            "Traceback (most recent call last):\n",
            "  File \"/usr/local/lib/python3.10/dist-packages/torch/utils/data/dataloader.py\", line 1461, in _shutdown_workers\n",
            "Exception ignored in:       File \"/usr/local/lib/python3.10/dist-packages/torch/utils/data/dataloader.py\", line 1478, in __del__\n",
            "<function _MultiProcessingDataLoaderIter.__del__ at 0x7af179b7a680>if w.is_alive():    \n",
            "\n",
            "self._shutdown_workers()Traceback (most recent call last):\n",
            "  File \"/usr/lib/python3.10/multiprocessing/process.py\", line 160, in is_alive\n",
            "\n",
            "  File \"/usr/local/lib/python3.10/dist-packages/torch/utils/data/dataloader.py\", line 1478, in __del__\n",
            "      File \"/usr/local/lib/python3.10/dist-packages/torch/utils/data/dataloader.py\", line 1461, in _shutdown_workers\n",
            "    assert self._parent_pid == os.getpid(), 'can only test a child process'    self._shutdown_workers()\n",
            "if w.is_alive():\n",
            "AssertionError\n",
            "  File \"/usr/local/lib/python3.10/dist-packages/torch/utils/data/dataloader.py\", line 1461, in _shutdown_workers\n",
            ":   File \"/usr/lib/python3.10/multiprocessing/process.py\", line 160, in is_alive\n",
            "    can only test a child process    if w.is_alive():assert self._parent_pid == os.getpid(), 'can only test a child process'\n",
            "\n",
            "\n",
            "  File \"/usr/lib/python3.10/multiprocessing/process.py\", line 160, in is_alive\n",
            "AssertionError    : assert self._parent_pid == os.getpid(), 'can only test a child process'can only test a child process\n",
            "\n",
            "AssertionError: can only test a child process\n",
            " 14%|█▎        | 24/175 [00:09<00:56,  2.65it/s]\n",
            "100%|██████████| 6/6 [00:01<00:00,  3.80it/s]"
          ]
        },
        {
          "output_type": "stream",
          "name": "stdout",
          "text": [
            "\n",
            " EPOCH: 0102 -> val_accuracy: 0.8036, class_label_loss: 0.4404, domain_label_loss: 1.3228\n"
          ]
        },
        {
          "output_type": "stream",
          "name": "stderr",
          "text": [
            "\n",
            " 14%|█▎        | 24/175 [00:06<00:38,  3.96it/s]\n",
            "100%|██████████| 6/6 [00:00<00:00,  7.21it/s]"
          ]
        },
        {
          "output_type": "stream",
          "name": "stdout",
          "text": [
            "\n",
            " EPOCH: 0103 -> val_accuracy: 0.8026, class_label_loss: 0.3723, domain_label_loss: 1.3160\n"
          ]
        },
        {
          "output_type": "stream",
          "name": "stderr",
          "text": [
            "\n",
            " 14%|█▎        | 24/175 [00:04<00:26,  5.79it/s]\n",
            "100%|██████████| 6/6 [00:00<00:00,  7.20it/s]"
          ]
        },
        {
          "output_type": "stream",
          "name": "stdout",
          "text": [
            "\n",
            " EPOCH: 0104 -> val_accuracy: 0.7860, class_label_loss: 0.3858, domain_label_loss: 1.3339\n"
          ]
        },
        {
          "output_type": "stream",
          "name": "stderr",
          "text": [
            "\n",
            " 14%|█▎        | 24/175 [00:06<00:43,  3.46it/s]\n",
            "100%|██████████| 6/6 [00:01<00:00,  4.82it/s]"
          ]
        },
        {
          "output_type": "stream",
          "name": "stdout",
          "text": [
            "\n",
            " EPOCH: 0105 -> val_accuracy: 0.7947, class_label_loss: 0.3921, domain_label_loss: 1.3095\n"
          ]
        },
        {
          "output_type": "stream",
          "name": "stderr",
          "text": [
            "\n",
            " 14%|█▎        | 24/175 [00:04<00:28,  5.21it/s]\n",
            "100%|██████████| 6/6 [00:00<00:00,  6.94it/s]"
          ]
        },
        {
          "output_type": "stream",
          "name": "stdout",
          "text": [
            "\n",
            " EPOCH: 0106 -> val_accuracy: 0.7962, class_label_loss: 0.3969, domain_label_loss: 1.3572\n"
          ]
        },
        {
          "output_type": "stream",
          "name": "stderr",
          "text": [
            "\n",
            " 14%|█▎        | 24/175 [00:04<00:26,  5.67it/s]\n",
            "100%|██████████| 6/6 [00:01<00:00,  5.11it/s]"
          ]
        },
        {
          "output_type": "stream",
          "name": "stdout",
          "text": [
            "\n",
            " EPOCH: 0107 -> val_accuracy: 0.7934, class_label_loss: 0.4115, domain_label_loss: 1.3240\n"
          ]
        },
        {
          "output_type": "stream",
          "name": "stderr",
          "text": [
            "\n",
            " 14%|█▎        | 24/175 [00:07<00:45,  3.35it/s]\n",
            "100%|██████████| 6/6 [00:00<00:00,  6.66it/s]"
          ]
        },
        {
          "output_type": "stream",
          "name": "stdout",
          "text": [
            "\n",
            " EPOCH: 0108 -> val_accuracy: 0.7780, class_label_loss: 0.4063, domain_label_loss: 1.3322\n"
          ]
        },
        {
          "output_type": "stream",
          "name": "stderr",
          "text": [
            "\n",
            " 14%|█▎        | 24/175 [00:04<00:27,  5.55it/s]\n",
            "100%|██████████| 6/6 [00:00<00:00,  6.89it/s]"
          ]
        },
        {
          "output_type": "stream",
          "name": "stdout",
          "text": [
            "\n",
            " EPOCH: 0109 -> val_accuracy: 0.7942, class_label_loss: 0.4034, domain_label_loss: 1.3093\n"
          ]
        },
        {
          "output_type": "stream",
          "name": "stderr",
          "text": [
            "\n",
            " 14%|█▎        | 24/175 [00:05<00:36,  4.19it/s]\n",
            "100%|██████████| 6/6 [00:01<00:00,  4.48it/s]"
          ]
        },
        {
          "output_type": "stream",
          "name": "stdout",
          "text": [
            "\n",
            " EPOCH: 0110 -> val_accuracy: 0.8173, class_label_loss: 0.3395, domain_label_loss: 1.3530\n",
            "--------------------Model saved--------------------\n"
          ]
        },
        {
          "output_type": "stream",
          "name": "stderr",
          "text": [
            "\n",
            " 14%|█▎        | 24/175 [00:05<00:34,  4.43it/s]\n",
            "100%|██████████| 6/6 [00:00<00:00,  6.88it/s]"
          ]
        },
        {
          "output_type": "stream",
          "name": "stdout",
          "text": [
            "\n",
            " EPOCH: 0111 -> val_accuracy: 0.7887, class_label_loss: 0.3804, domain_label_loss: 1.3738\n"
          ]
        },
        {
          "output_type": "stream",
          "name": "stderr",
          "text": [
            "\n",
            " 14%|█▎        | 24/175 [00:04<00:27,  5.53it/s]\n",
            "100%|██████████| 6/6 [00:00<00:00,  6.68it/s]"
          ]
        },
        {
          "output_type": "stream",
          "name": "stdout",
          "text": [
            "\n",
            " EPOCH: 0112 -> val_accuracy: 0.7915, class_label_loss: 0.3571, domain_label_loss: 1.3114\n"
          ]
        },
        {
          "output_type": "stream",
          "name": "stderr",
          "text": [
            "\n",
            " 14%|█▎        | 24/175 [00:07<00:44,  3.42it/s]\n",
            "100%|██████████| 6/6 [00:01<00:00,  4.70it/s]"
          ]
        },
        {
          "output_type": "stream",
          "name": "stdout",
          "text": [
            "\n",
            " EPOCH: 0113 -> val_accuracy: 0.8064, class_label_loss: 0.3646, domain_label_loss: 1.3130\n"
          ]
        },
        {
          "output_type": "stream",
          "name": "stderr",
          "text": [
            "\n",
            " 14%|█▎        | 24/175 [00:04<00:26,  5.61it/s]\n",
            "100%|██████████| 6/6 [00:00<00:00,  6.81it/s]"
          ]
        },
        {
          "output_type": "stream",
          "name": "stdout",
          "text": [
            "\n",
            " EPOCH: 0114 -> val_accuracy: 0.7864, class_label_loss: 0.4290, domain_label_loss: 1.3416\n"
          ]
        },
        {
          "output_type": "stream",
          "name": "stderr",
          "text": [
            "\n",
            " 14%|█▎        | 24/175 [00:04<00:30,  4.96it/s]\n",
            "100%|██████████| 6/6 [00:01<00:00,  4.35it/s]"
          ]
        },
        {
          "output_type": "stream",
          "name": "stdout",
          "text": [
            "\n",
            " EPOCH: 0115 -> val_accuracy: 0.8129, class_label_loss: 0.4048, domain_label_loss: 1.3107\n"
          ]
        },
        {
          "output_type": "stream",
          "name": "stderr",
          "text": [
            "\n",
            " 14%|█▎        | 24/175 [00:06<00:41,  3.63it/s]\n",
            "100%|██████████| 6/6 [00:00<00:00,  7.01it/s]"
          ]
        },
        {
          "output_type": "stream",
          "name": "stdout",
          "text": [
            "\n",
            " EPOCH: 0116 -> val_accuracy: 0.7855, class_label_loss: 0.3527, domain_label_loss: 1.3222\n"
          ]
        },
        {
          "output_type": "stream",
          "name": "stderr",
          "text": [
            "\n",
            " 14%|█▎        | 24/175 [00:04<00:27,  5.58it/s]\n",
            "100%|██████████| 6/6 [00:00<00:00,  6.95it/s]"
          ]
        },
        {
          "output_type": "stream",
          "name": "stdout",
          "text": [
            "\n",
            " EPOCH: 0117 -> val_accuracy: 0.8027, class_label_loss: 0.4417, domain_label_loss: 1.4125\n"
          ]
        },
        {
          "output_type": "stream",
          "name": "stderr",
          "text": [
            "\n",
            " 14%|█▎        | 24/175 [00:06<00:40,  3.77it/s]\n",
            "100%|██████████| 6/6 [00:01<00:00,  4.13it/s]"
          ]
        },
        {
          "output_type": "stream",
          "name": "stdout",
          "text": [
            "\n",
            " EPOCH: 0118 -> val_accuracy: 0.7934, class_label_loss: 0.3594, domain_label_loss: 1.3355\n"
          ]
        },
        {
          "output_type": "stream",
          "name": "stderr",
          "text": [
            "\n",
            " 14%|█▎        | 24/175 [00:05<00:32,  4.70it/s]\n",
            "100%|██████████| 6/6 [00:00<00:00,  7.11it/s]"
          ]
        },
        {
          "output_type": "stream",
          "name": "stdout",
          "text": [
            "\n",
            " EPOCH: 0119 -> val_accuracy: 0.7876, class_label_loss: 0.3100, domain_label_loss: 1.3590\n"
          ]
        },
        {
          "output_type": "stream",
          "name": "stderr",
          "text": [
            "\n",
            " 14%|█▎        | 24/175 [00:04<00:28,  5.38it/s]\n",
            "100%|██████████| 6/6 [00:01<00:00,  4.69it/s]"
          ]
        },
        {
          "output_type": "stream",
          "name": "stdout",
          "text": [
            "\n",
            " EPOCH: 0120 -> val_accuracy: 0.7934, class_label_loss: 0.3963, domain_label_loss: 1.3671\n"
          ]
        },
        {
          "output_type": "stream",
          "name": "stderr",
          "text": [
            "\n",
            " 14%|█▎        | 24/175 [00:07<00:44,  3.40it/s]\n",
            "100%|██████████| 6/6 [00:00<00:00,  7.02it/s]"
          ]
        },
        {
          "output_type": "stream",
          "name": "stdout",
          "text": [
            "\n",
            " EPOCH: 0121 -> val_accuracy: 0.7965, class_label_loss: 0.3260, domain_label_loss: 1.3270\n"
          ]
        },
        {
          "output_type": "stream",
          "name": "stderr",
          "text": [
            "\n",
            " 14%|█▎        | 24/175 [00:04<00:25,  5.82it/s]\n",
            "100%|██████████| 6/6 [00:00<00:00,  6.84it/s]"
          ]
        },
        {
          "output_type": "stream",
          "name": "stdout",
          "text": [
            "\n",
            " EPOCH: 0122 -> val_accuracy: 0.8090, class_label_loss: 0.3441, domain_label_loss: 1.3654\n"
          ]
        },
        {
          "output_type": "stream",
          "name": "stderr",
          "text": [
            "\n",
            " 14%|█▎        | 24/175 [00:05<00:35,  4.21it/s]\n",
            "100%|██████████| 6/6 [00:01<00:00,  4.35it/s]"
          ]
        },
        {
          "output_type": "stream",
          "name": "stdout",
          "text": [
            "\n",
            " EPOCH: 0123 -> val_accuracy: 0.7858, class_label_loss: 0.4331, domain_label_loss: 1.3663\n"
          ]
        },
        {
          "output_type": "stream",
          "name": "stderr",
          "text": [
            "\n",
            " 14%|█▎        | 24/175 [00:05<00:34,  4.33it/s]\n",
            "100%|██████████| 6/6 [00:00<00:00,  6.90it/s]"
          ]
        },
        {
          "output_type": "stream",
          "name": "stdout",
          "text": [
            "\n",
            " EPOCH: 0124 -> val_accuracy: 0.8022, class_label_loss: 0.3535, domain_label_loss: 1.3907\n"
          ]
        },
        {
          "output_type": "stream",
          "name": "stderr",
          "text": [
            "\n",
            " 14%|█▎        | 24/175 [00:04<00:26,  5.61it/s]\n",
            "100%|██████████| 6/6 [00:00<00:00,  6.81it/s]"
          ]
        },
        {
          "output_type": "stream",
          "name": "stdout",
          "text": [
            "\n",
            " EPOCH: 0125 -> val_accuracy: 0.7918, class_label_loss: 0.3480, domain_label_loss: 1.3214\n"
          ]
        },
        {
          "output_type": "stream",
          "name": "stderr",
          "text": [
            "\n",
            " 14%|█▎        | 24/175 [00:07<00:48,  3.12it/s]\n",
            "100%|██████████| 6/6 [00:01<00:00,  5.25it/s]"
          ]
        },
        {
          "output_type": "stream",
          "name": "stdout",
          "text": [
            "\n",
            " EPOCH: 0126 -> val_accuracy: 0.8070, class_label_loss: 0.2743, domain_label_loss: 1.3629\n"
          ]
        },
        {
          "output_type": "stream",
          "name": "stderr",
          "text": [
            "\n",
            " 14%|█▎        | 24/175 [00:04<00:25,  5.84it/s]\n",
            "100%|██████████| 6/6 [00:00<00:00,  6.97it/s]"
          ]
        },
        {
          "output_type": "stream",
          "name": "stdout",
          "text": [
            "\n",
            " EPOCH: 0127 -> val_accuracy: 0.8067, class_label_loss: 0.3811, domain_label_loss: 1.3557\n"
          ]
        },
        {
          "output_type": "stream",
          "name": "stderr",
          "text": [
            "\n",
            " 14%|█▎        | 24/175 [00:05<00:36,  4.13it/s]\n",
            "100%|██████████| 6/6 [00:01<00:00,  4.29it/s]"
          ]
        },
        {
          "output_type": "stream",
          "name": "stdout",
          "text": [
            "\n",
            " EPOCH: 0128 -> val_accuracy: 0.8085, class_label_loss: 0.3471, domain_label_loss: 1.3472\n"
          ]
        },
        {
          "output_type": "stream",
          "name": "stderr",
          "text": [
            "\n",
            " 14%|█▎        | 24/175 [00:05<00:34,  4.37it/s]\n",
            "100%|██████████| 6/6 [00:00<00:00,  6.89it/s]"
          ]
        },
        {
          "output_type": "stream",
          "name": "stdout",
          "text": [
            "\n",
            " EPOCH: 0129 -> val_accuracy: 0.8111, class_label_loss: 0.2955, domain_label_loss: 1.3262\n"
          ]
        },
        {
          "output_type": "stream",
          "name": "stderr",
          "text": [
            "\n",
            " 14%|█▎        | 24/175 [00:04<00:26,  5.71it/s]\n",
            "100%|██████████| 6/6 [00:00<00:00,  7.06it/s]"
          ]
        },
        {
          "output_type": "stream",
          "name": "stdout",
          "text": [
            "\n",
            " EPOCH: 0130 -> val_accuracy: 0.7952, class_label_loss: 0.3431, domain_label_loss: 1.3605\n"
          ]
        },
        {
          "output_type": "stream",
          "name": "stderr",
          "text": [
            "\n",
            " 14%|█▎        | 24/175 [00:07<00:45,  3.35it/s]\n",
            "100%|██████████| 6/6 [00:01<00:00,  4.63it/s]"
          ]
        },
        {
          "output_type": "stream",
          "name": "stdout",
          "text": [
            "\n",
            " EPOCH: 0131 -> val_accuracy: 0.7916, class_label_loss: 0.3759, domain_label_loss: 1.4073\n"
          ]
        },
        {
          "output_type": "stream",
          "name": "stderr",
          "text": [
            "\n",
            " 14%|█▎        | 24/175 [00:04<00:27,  5.58it/s]\n",
            "100%|██████████| 6/6 [00:00<00:00,  6.88it/s]"
          ]
        },
        {
          "output_type": "stream",
          "name": "stdout",
          "text": [
            "\n",
            " EPOCH: 0132 -> val_accuracy: 0.8023, class_label_loss: 0.3412, domain_label_loss: 1.3553\n"
          ]
        },
        {
          "output_type": "stream",
          "name": "stderr",
          "text": [
            "\n",
            " 14%|█▎        | 24/175 [00:04<00:30,  4.96it/s]\n",
            "100%|██████████| 6/6 [00:01<00:00,  3.88it/s]"
          ]
        },
        {
          "output_type": "stream",
          "name": "stdout",
          "text": [
            "\n",
            " EPOCH: 0133 -> val_accuracy: 0.8060, class_label_loss: 0.2992, domain_label_loss: 1.3881\n"
          ]
        },
        {
          "output_type": "stream",
          "name": "stderr",
          "text": [
            "\n",
            " 14%|█▎        | 24/175 [00:06<00:38,  3.96it/s]\n",
            "100%|██████████| 6/6 [00:00<00:00,  7.06it/s]"
          ]
        },
        {
          "output_type": "stream",
          "name": "stdout",
          "text": [
            "\n",
            " EPOCH: 0134 -> val_accuracy: 0.8026, class_label_loss: 0.3117, domain_label_loss: 1.3333\n"
          ]
        },
        {
          "output_type": "stream",
          "name": "stderr",
          "text": [
            "\n",
            " 14%|█▎        | 24/175 [00:04<00:26,  5.59it/s]\n",
            "100%|██████████| 6/6 [00:00<00:00,  7.08it/s]"
          ]
        },
        {
          "output_type": "stream",
          "name": "stdout",
          "text": [
            "\n",
            " EPOCH: 0135 -> val_accuracy: 0.8165, class_label_loss: 0.3647, domain_label_loss: 1.3487\n"
          ]
        },
        {
          "output_type": "stream",
          "name": "stderr",
          "text": [
            "\n",
            " 14%|█▎        | 24/175 [00:07<00:44,  3.43it/s]\n",
            "100%|██████████| 6/6 [00:01<00:00,  4.43it/s]"
          ]
        },
        {
          "output_type": "stream",
          "name": "stdout",
          "text": [
            "\n",
            " EPOCH: 0136 -> val_accuracy: 0.8169, class_label_loss: 0.3283, domain_label_loss: 1.3899\n"
          ]
        },
        {
          "output_type": "stream",
          "name": "stderr",
          "text": [
            "\n",
            " 14%|█▎        | 24/175 [00:04<00:29,  5.16it/s]\n",
            "100%|██████████| 6/6 [00:00<00:00,  6.85it/s]"
          ]
        },
        {
          "output_type": "stream",
          "name": "stdout",
          "text": [
            "\n",
            " EPOCH: 0137 -> val_accuracy: 0.8156, class_label_loss: 0.2989, domain_label_loss: 1.3735\n"
          ]
        },
        {
          "output_type": "stream",
          "name": "stderr",
          "text": [
            "\n",
            " 14%|█▎        | 24/175 [00:04<00:27,  5.59it/s]\n",
            "100%|██████████| 6/6 [00:01<00:00,  4.11it/s]"
          ]
        },
        {
          "output_type": "stream",
          "name": "stdout",
          "text": [
            "\n",
            " EPOCH: 0138 -> val_accuracy: 0.8191, class_label_loss: 0.3101, domain_label_loss: 1.3588\n",
            "--------------------Model saved--------------------\n"
          ]
        },
        {
          "output_type": "stream",
          "name": "stderr",
          "text": [
            "\n",
            " 14%|█▎        | 24/175 [00:07<00:45,  3.32it/s]\n",
            "100%|██████████| 6/6 [00:00<00:00,  6.69it/s]"
          ]
        },
        {
          "output_type": "stream",
          "name": "stdout",
          "text": [
            "\n",
            " EPOCH: 0139 -> val_accuracy: 0.8093, class_label_loss: 0.2748, domain_label_loss: 1.3755\n"
          ]
        },
        {
          "output_type": "stream",
          "name": "stderr",
          "text": [
            "\n",
            " 14%|█▎        | 24/175 [00:04<00:28,  5.39it/s]\n",
            "100%|██████████| 6/6 [00:00<00:00,  6.81it/s]"
          ]
        },
        {
          "output_type": "stream",
          "name": "stdout",
          "text": [
            "\n",
            " EPOCH: 0140 -> val_accuracy: 0.8135, class_label_loss: 0.3778, domain_label_loss: 1.3620\n"
          ]
        },
        {
          "output_type": "stream",
          "name": "stderr",
          "text": [
            "\n",
            " 14%|█▎        | 24/175 [00:06<00:41,  3.67it/s]\n",
            "100%|██████████| 6/6 [00:01<00:00,  3.99it/s]"
          ]
        },
        {
          "output_type": "stream",
          "name": "stdout",
          "text": [
            "\n",
            " EPOCH: 0141 -> val_accuracy: 0.8140, class_label_loss: 0.3461, domain_label_loss: 1.3502\n"
          ]
        },
        {
          "output_type": "stream",
          "name": "stderr",
          "text": [
            "\n",
            " 14%|█▎        | 24/175 [00:05<00:31,  4.80it/s]\n",
            "100%|██████████| 6/6 [00:00<00:00,  6.81it/s]"
          ]
        },
        {
          "output_type": "stream",
          "name": "stdout",
          "text": [
            "\n",
            " EPOCH: 0142 -> val_accuracy: 0.8126, class_label_loss: 0.2471, domain_label_loss: 1.3550\n"
          ]
        },
        {
          "output_type": "stream",
          "name": "stderr",
          "text": [
            "\n",
            " 14%|█▎        | 24/175 [00:04<00:28,  5.33it/s]\n",
            "100%|██████████| 6/6 [00:01<00:00,  4.55it/s]"
          ]
        },
        {
          "output_type": "stream",
          "name": "stdout",
          "text": [
            "\n",
            " EPOCH: 0143 -> val_accuracy: 0.8186, class_label_loss: 0.2899, domain_label_loss: 1.3551\n"
          ]
        },
        {
          "output_type": "stream",
          "name": "stderr",
          "text": [
            "\n",
            " 14%|█▎        | 24/175 [00:06<00:43,  3.43it/s]\n",
            "100%|██████████| 6/6 [00:00<00:00,  6.76it/s]"
          ]
        },
        {
          "output_type": "stream",
          "name": "stdout",
          "text": [
            "\n",
            " EPOCH: 0144 -> val_accuracy: 0.8174, class_label_loss: 0.3696, domain_label_loss: 1.3664\n"
          ]
        },
        {
          "output_type": "stream",
          "name": "stderr",
          "text": [
            "\n",
            " 14%|█▎        | 24/175 [00:04<00:25,  5.82it/s]\n",
            "100%|██████████| 6/6 [00:00<00:00,  7.03it/s]"
          ]
        },
        {
          "output_type": "stream",
          "name": "stdout",
          "text": [
            "\n",
            " EPOCH: 0145 -> val_accuracy: 0.8199, class_label_loss: 0.2447, domain_label_loss: 1.3561\n",
            "--------------------Model saved--------------------\n"
          ]
        },
        {
          "output_type": "stream",
          "name": "stderr",
          "text": [
            "\n",
            " 14%|█▎        | 24/175 [00:05<00:35,  4.25it/s]\n",
            "100%|██████████| 6/6 [00:01<00:00,  3.91it/s]"
          ]
        },
        {
          "output_type": "stream",
          "name": "stdout",
          "text": [
            "\n",
            " EPOCH: 0146 -> val_accuracy: 0.8260, class_label_loss: 0.3347, domain_label_loss: 1.3650\n",
            "--------------------Model saved--------------------\n"
          ]
        },
        {
          "output_type": "stream",
          "name": "stderr",
          "text": [
            "\n",
            " 14%|█▎        | 24/175 [00:05<00:34,  4.43it/s]\n",
            "100%|██████████| 6/6 [00:00<00:00,  6.60it/s]"
          ]
        },
        {
          "output_type": "stream",
          "name": "stdout",
          "text": [
            "\n",
            " EPOCH: 0147 -> val_accuracy: 0.8109, class_label_loss: 0.3078, domain_label_loss: 1.3445\n"
          ]
        },
        {
          "output_type": "stream",
          "name": "stderr",
          "text": [
            "\n",
            " 14%|█▎        | 24/175 [00:04<00:26,  5.73it/s]\n",
            "100%|██████████| 6/6 [00:00<00:00,  6.73it/s]"
          ]
        },
        {
          "output_type": "stream",
          "name": "stdout",
          "text": [
            "\n",
            " EPOCH: 0148 -> val_accuracy: 0.8272, class_label_loss: 0.2918, domain_label_loss: 1.3666\n",
            "--------------------Model saved--------------------\n"
          ]
        },
        {
          "output_type": "stream",
          "name": "stderr",
          "text": [
            "\n",
            " 14%|█▎        | 24/175 [00:07<00:44,  3.40it/s]\n",
            "100%|██████████| 6/6 [00:01<00:00,  4.76it/s]"
          ]
        },
        {
          "output_type": "stream",
          "name": "stdout",
          "text": [
            "\n",
            " EPOCH: 0149 -> val_accuracy: 0.8160, class_label_loss: 0.2433, domain_label_loss: 1.3648\n"
          ]
        },
        {
          "output_type": "stream",
          "name": "stderr",
          "text": [
            "\n",
            " 14%|█▎        | 24/175 [00:04<00:27,  5.53it/s]\n",
            "100%|██████████| 6/6 [00:00<00:00,  6.83it/s]"
          ]
        },
        {
          "output_type": "stream",
          "name": "stdout",
          "text": [
            "\n",
            " EPOCH: 0150 -> val_accuracy: 0.8322, class_label_loss: 0.3598, domain_label_loss: 1.3733\n",
            "--------------------Model saved--------------------\n"
          ]
        },
        {
          "output_type": "stream",
          "name": "stderr",
          "text": [
            "\n",
            " 14%|█▎        | 24/175 [00:05<00:36,  4.18it/s]\n",
            "100%|██████████| 6/6 [00:01<00:00,  4.23it/s]"
          ]
        },
        {
          "output_type": "stream",
          "name": "stdout",
          "text": [
            "\n",
            " EPOCH: 0151 -> val_accuracy: 0.8186, class_label_loss: 0.2876, domain_label_loss: 1.3564\n"
          ]
        },
        {
          "output_type": "stream",
          "name": "stderr",
          "text": [
            "\n",
            " 14%|█▎        | 24/175 [00:05<00:36,  4.16it/s]\n",
            "100%|██████████| 6/6 [00:00<00:00,  6.76it/s]"
          ]
        },
        {
          "output_type": "stream",
          "name": "stdout",
          "text": [
            "\n",
            " EPOCH: 0152 -> val_accuracy: 0.8294, class_label_loss: 0.3295, domain_label_loss: 1.3357\n"
          ]
        },
        {
          "output_type": "stream",
          "name": "stderr",
          "text": [
            "\n",
            " 14%|█▎        | 24/175 [00:04<00:27,  5.59it/s]\n",
            "100%|██████████| 6/6 [00:00<00:00,  6.59it/s]"
          ]
        },
        {
          "output_type": "stream",
          "name": "stdout",
          "text": [
            "\n",
            " EPOCH: 0153 -> val_accuracy: 0.8187, class_label_loss: 0.2896, domain_label_loss: 1.3641\n"
          ]
        },
        {
          "output_type": "stream",
          "name": "stderr",
          "text": [
            "\n",
            " 14%|█▎        | 24/175 [00:07<00:44,  3.37it/s]\n",
            "100%|██████████| 6/6 [00:01<00:00,  4.54it/s]"
          ]
        },
        {
          "output_type": "stream",
          "name": "stdout",
          "text": [
            "\n",
            " EPOCH: 0154 -> val_accuracy: 0.8204, class_label_loss: 0.2803, domain_label_loss: 1.3383\n"
          ]
        },
        {
          "output_type": "stream",
          "name": "stderr",
          "text": [
            "\n",
            " 14%|█▎        | 24/175 [00:04<00:26,  5.70it/s]\n",
            "100%|██████████| 6/6 [00:00<00:00,  6.84it/s]"
          ]
        },
        {
          "output_type": "stream",
          "name": "stdout",
          "text": [
            "\n",
            " EPOCH: 0155 -> val_accuracy: 0.8324, class_label_loss: 0.2543, domain_label_loss: 1.3409\n",
            "--------------------Model saved--------------------\n"
          ]
        },
        {
          "output_type": "stream",
          "name": "stderr",
          "text": [
            "\n",
            " 14%|█▎        | 24/175 [00:05<00:31,  4.72it/s]\n",
            "100%|██████████| 6/6 [00:01<00:00,  4.37it/s]"
          ]
        },
        {
          "output_type": "stream",
          "name": "stdout",
          "text": [
            "\n",
            " EPOCH: 0156 -> val_accuracy: 0.8246, class_label_loss: 0.4195, domain_label_loss: 1.3673\n"
          ]
        },
        {
          "output_type": "stream",
          "name": "stderr",
          "text": [
            "\n",
            " 14%|█▎        | 24/175 [00:05<00:37,  4.06it/s]\n",
            "100%|██████████| 6/6 [00:00<00:00,  6.88it/s]"
          ]
        },
        {
          "output_type": "stream",
          "name": "stdout",
          "text": [
            "\n",
            " EPOCH: 0157 -> val_accuracy: 0.8238, class_label_loss: 0.2597, domain_label_loss: 1.3467\n"
          ]
        },
        {
          "output_type": "stream",
          "name": "stderr",
          "text": [
            "\n",
            " 14%|█▎        | 24/175 [00:04<00:26,  5.65it/s]\n",
            "100%|██████████| 6/6 [00:00<00:00,  6.85it/s]"
          ]
        },
        {
          "output_type": "stream",
          "name": "stdout",
          "text": [
            "\n",
            " EPOCH: 0158 -> val_accuracy: 0.8246, class_label_loss: 0.3781, domain_label_loss: 1.3497\n"
          ]
        },
        {
          "output_type": "stream",
          "name": "stderr",
          "text": [
            "\n",
            " 14%|█▎        | 24/175 [00:07<00:44,  3.37it/s]\n",
            "100%|██████████| 6/6 [00:01<00:00,  4.72it/s]"
          ]
        },
        {
          "output_type": "stream",
          "name": "stdout",
          "text": [
            "\n",
            " EPOCH: 0159 -> val_accuracy: 0.8121, class_label_loss: 0.2542, domain_label_loss: 1.3593\n"
          ]
        },
        {
          "output_type": "stream",
          "name": "stderr",
          "text": [
            "\n",
            " 14%|█▎        | 24/175 [00:04<00:28,  5.30it/s]\n",
            "100%|██████████| 6/6 [00:00<00:00,  6.92it/s]"
          ]
        },
        {
          "output_type": "stream",
          "name": "stdout",
          "text": [
            "\n",
            " EPOCH: 0160 -> val_accuracy: 0.8150, class_label_loss: 0.2516, domain_label_loss: 1.3657\n"
          ]
        },
        {
          "output_type": "stream",
          "name": "stderr",
          "text": [
            "\n",
            " 14%|█▎        | 24/175 [00:04<00:28,  5.28it/s]\n",
            "100%|██████████| 6/6 [00:01<00:00,  4.21it/s]"
          ]
        },
        {
          "output_type": "stream",
          "name": "stdout",
          "text": [
            "\n",
            " EPOCH: 0161 -> val_accuracy: 0.8075, class_label_loss: 0.2455, domain_label_loss: 1.3552\n"
          ]
        },
        {
          "output_type": "stream",
          "name": "stderr",
          "text": [
            "\n",
            " 14%|█▎        | 24/175 [00:06<00:40,  3.73it/s]\n",
            "100%|██████████| 6/6 [00:00<00:00,  6.88it/s]"
          ]
        },
        {
          "output_type": "stream",
          "name": "stdout",
          "text": [
            "\n",
            " EPOCH: 0162 -> val_accuracy: 0.8259, class_label_loss: 0.2898, domain_label_loss: 1.3499\n"
          ]
        },
        {
          "output_type": "stream",
          "name": "stderr",
          "text": [
            "\n",
            " 14%|█▎        | 24/175 [00:04<00:26,  5.65it/s]\n",
            "100%|██████████| 6/6 [00:00<00:00,  6.83it/s]"
          ]
        },
        {
          "output_type": "stream",
          "name": "stdout",
          "text": [
            "\n",
            " EPOCH: 0163 -> val_accuracy: 0.8231, class_label_loss: 0.2533, domain_label_loss: 1.3389\n"
          ]
        },
        {
          "output_type": "stream",
          "name": "stderr",
          "text": [
            "\n",
            " 14%|█▎        | 24/175 [00:06<00:42,  3.52it/s]\n",
            "100%|██████████| 6/6 [00:01<00:00,  4.29it/s]"
          ]
        },
        {
          "output_type": "stream",
          "name": "stdout",
          "text": [
            "\n",
            " EPOCH: 0164 -> val_accuracy: 0.8205, class_label_loss: 0.3362, domain_label_loss: 1.3632\n"
          ]
        },
        {
          "output_type": "stream",
          "name": "stderr",
          "text": [
            "\n",
            " 14%|█▎        | 24/175 [00:04<00:27,  5.53it/s]\n",
            "100%|██████████| 6/6 [00:00<00:00,  6.81it/s]"
          ]
        },
        {
          "output_type": "stream",
          "name": "stdout",
          "text": [
            "\n",
            " EPOCH: 0165 -> val_accuracy: 0.8336, class_label_loss: 0.3071, domain_label_loss: 1.3346\n",
            "--------------------Model saved--------------------\n"
          ]
        },
        {
          "output_type": "stream",
          "name": "stderr",
          "text": [
            "\n",
            " 14%|█▎        | 24/175 [00:04<00:28,  5.21it/s]\n",
            "100%|██████████| 6/6 [00:01<00:00,  4.21it/s]\n"
          ]
        },
        {
          "output_type": "stream",
          "name": "stdout",
          "text": [
            "\n",
            " EPOCH: 0166 -> val_accuracy: 0.8354, class_label_loss: 0.2501, domain_label_loss: 1.3385\n",
            "--------------------Model saved--------------------\n"
          ]
        },
        {
          "output_type": "stream",
          "name": "stderr",
          "text": [
            " 14%|█▎        | 24/175 [00:06<00:41,  3.64it/s]\n",
            "100%|██████████| 6/6 [00:00<00:00,  6.71it/s]"
          ]
        },
        {
          "output_type": "stream",
          "name": "stdout",
          "text": [
            "\n",
            " EPOCH: 0167 -> val_accuracy: 0.8375, class_label_loss: 0.2196, domain_label_loss: 1.3693\n",
            "--------------------Model saved--------------------\n"
          ]
        },
        {
          "output_type": "stream",
          "name": "stderr",
          "text": [
            "\n",
            " 14%|█▎        | 24/175 [00:04<00:26,  5.74it/s]\n",
            "100%|██████████| 6/6 [00:00<00:00,  6.98it/s]"
          ]
        },
        {
          "output_type": "stream",
          "name": "stdout",
          "text": [
            "\n",
            " EPOCH: 0168 -> val_accuracy: 0.8238, class_label_loss: 0.2780, domain_label_loss: 1.3669\n"
          ]
        },
        {
          "output_type": "stream",
          "name": "stderr",
          "text": [
            "\n",
            " 14%|█▎        | 24/175 [00:06<00:42,  3.58it/s]\n",
            "100%|██████████| 6/6 [00:01<00:00,  4.31it/s]"
          ]
        },
        {
          "output_type": "stream",
          "name": "stdout",
          "text": [
            "\n",
            " EPOCH: 0169 -> val_accuracy: 0.8323, class_label_loss: 0.3429, domain_label_loss: 1.3513\n"
          ]
        },
        {
          "output_type": "stream",
          "name": "stderr",
          "text": [
            "\n",
            " 14%|█▎        | 24/175 [00:04<00:30,  4.96it/s]\n",
            "100%|██████████| 6/6 [00:00<00:00,  7.02it/s]"
          ]
        },
        {
          "output_type": "stream",
          "name": "stdout",
          "text": [
            "\n",
            " EPOCH: 0170 -> val_accuracy: 0.8343, class_label_loss: 0.2747, domain_label_loss: 1.3533\n"
          ]
        },
        {
          "output_type": "stream",
          "name": "stderr",
          "text": [
            "\n",
            " 14%|█▎        | 24/175 [00:04<00:26,  5.68it/s]\n",
            "100%|██████████| 6/6 [00:01<00:00,  3.99it/s]"
          ]
        },
        {
          "output_type": "stream",
          "name": "stdout",
          "text": [
            "\n",
            " EPOCH: 0171 -> val_accuracy: 0.8252, class_label_loss: 0.3215, domain_label_loss: 1.3615\n"
          ]
        },
        {
          "output_type": "stream",
          "name": "stderr",
          "text": [
            "\n",
            " 14%|█▎        | 24/175 [00:06<00:41,  3.66it/s]\n",
            "100%|██████████| 6/6 [00:00<00:00,  6.94it/s]"
          ]
        },
        {
          "output_type": "stream",
          "name": "stdout",
          "text": [
            "\n",
            " EPOCH: 0172 -> val_accuracy: 0.8429, class_label_loss: 0.3487, domain_label_loss: 1.3465\n",
            "--------------------Model saved--------------------\n"
          ]
        },
        {
          "output_type": "stream",
          "name": "stderr",
          "text": [
            "\n",
            " 14%|█▎        | 24/175 [00:04<00:26,  5.64it/s]\n",
            "100%|██████████| 6/6 [00:00<00:00,  6.89it/s]"
          ]
        },
        {
          "output_type": "stream",
          "name": "stdout",
          "text": [
            "\n",
            " EPOCH: 0173 -> val_accuracy: 0.8393, class_label_loss: 0.2646, domain_label_loss: 1.3395\n"
          ]
        },
        {
          "output_type": "stream",
          "name": "stderr",
          "text": [
            "\n",
            " 14%|█▎        | 24/175 [00:07<00:44,  3.43it/s]\n",
            "100%|██████████| 6/6 [00:01<00:00,  4.06it/s]"
          ]
        },
        {
          "output_type": "stream",
          "name": "stdout",
          "text": [
            "\n",
            " EPOCH: 0174 -> val_accuracy: 0.8246, class_label_loss: 0.2585, domain_label_loss: 1.3291\n"
          ]
        },
        {
          "output_type": "stream",
          "name": "stderr",
          "text": [
            "\n",
            " 14%|█▎        | 24/175 [00:04<00:29,  5.18it/s]\n",
            "100%|██████████| 6/6 [00:00<00:00,  6.68it/s]"
          ]
        },
        {
          "output_type": "stream",
          "name": "stdout",
          "text": [
            "\n",
            " EPOCH: 0175 -> val_accuracy: 0.8165, class_label_loss: 0.2204, domain_label_loss: 1.3392\n"
          ]
        },
        {
          "output_type": "stream",
          "name": "stderr",
          "text": [
            "\n",
            " 14%|█▎        | 24/175 [00:04<00:26,  5.79it/s]\n",
            "100%|██████████| 6/6 [00:01<00:00,  4.24it/s]"
          ]
        },
        {
          "output_type": "stream",
          "name": "stdout",
          "text": [
            "\n",
            " EPOCH: 0176 -> val_accuracy: 0.8145, class_label_loss: 0.2681, domain_label_loss: 1.3399\n"
          ]
        },
        {
          "output_type": "stream",
          "name": "stderr",
          "text": [
            "\n",
            " 14%|█▎        | 24/175 [00:07<00:44,  3.43it/s]\n",
            "100%|██████████| 6/6 [00:00<00:00,  6.51it/s]"
          ]
        },
        {
          "output_type": "stream",
          "name": "stdout",
          "text": [
            "\n",
            " EPOCH: 0177 -> val_accuracy: 0.7981, class_label_loss: 0.2815, domain_label_loss: 1.3478\n"
          ]
        },
        {
          "output_type": "stream",
          "name": "stderr",
          "text": [
            "\n",
            " 14%|█▎        | 24/175 [00:04<00:26,  5.70it/s]\n",
            "100%|██████████| 6/6 [00:00<00:00,  6.91it/s]"
          ]
        },
        {
          "output_type": "stream",
          "name": "stdout",
          "text": [
            "\n",
            " EPOCH: 0178 -> val_accuracy: 0.8222, class_label_loss: 0.2906, domain_label_loss: 1.3598\n"
          ]
        },
        {
          "output_type": "stream",
          "name": "stderr",
          "text": [
            "\n",
            " 14%|█▎        | 24/175 [00:06<00:40,  3.72it/s]\n",
            "100%|██████████| 6/6 [00:01<00:00,  4.11it/s]"
          ]
        },
        {
          "output_type": "stream",
          "name": "stdout",
          "text": [
            "\n",
            " EPOCH: 0179 -> val_accuracy: 0.8100, class_label_loss: 0.2721, domain_label_loss: 1.3540\n"
          ]
        },
        {
          "output_type": "stream",
          "name": "stderr",
          "text": [
            "\n",
            " 14%|█▎        | 24/175 [00:05<00:31,  4.76it/s]\n",
            "100%|██████████| 6/6 [00:01<00:00,  5.23it/s]"
          ]
        },
        {
          "output_type": "stream",
          "name": "stdout",
          "text": [
            "\n",
            " EPOCH: 0180 -> val_accuracy: 0.8109, class_label_loss: 0.1826, domain_label_loss: 1.3671\n"
          ]
        },
        {
          "output_type": "stream",
          "name": "stderr",
          "text": [
            "\n",
            " 14%|█▎        | 24/175 [00:04<00:27,  5.59it/s]\n",
            "100%|██████████| 6/6 [00:01<00:00,  5.95it/s]"
          ]
        },
        {
          "output_type": "stream",
          "name": "stdout",
          "text": [
            "\n",
            " EPOCH: 0181 -> val_accuracy: 0.8226, class_label_loss: 0.2773, domain_label_loss: 1.3492\n"
          ]
        },
        {
          "output_type": "stream",
          "name": "stderr",
          "text": [
            "\n",
            " 14%|█▎        | 24/175 [00:07<00:44,  3.38it/s]\n",
            "100%|██████████| 6/6 [00:00<00:00,  6.06it/s]"
          ]
        },
        {
          "output_type": "stream",
          "name": "stdout",
          "text": [
            "\n",
            " EPOCH: 0182 -> val_accuracy: 0.8035, class_label_loss: 0.2775, domain_label_loss: 1.3392\n"
          ]
        },
        {
          "output_type": "stream",
          "name": "stderr",
          "text": [
            "\n",
            " 14%|█▎        | 24/175 [00:04<00:27,  5.43it/s]\n",
            "100%|██████████| 6/6 [00:00<00:00,  6.66it/s]"
          ]
        },
        {
          "output_type": "stream",
          "name": "stdout",
          "text": [
            "\n",
            " EPOCH: 0183 -> val_accuracy: 0.8163, class_label_loss: 0.2693, domain_label_loss: 1.3560\n"
          ]
        },
        {
          "output_type": "stream",
          "name": "stderr",
          "text": [
            "\n",
            " 14%|█▎        | 24/175 [00:05<00:35,  4.30it/s]\n",
            "100%|██████████| 6/6 [00:01<00:00,  4.20it/s]"
          ]
        },
        {
          "output_type": "stream",
          "name": "stdout",
          "text": [
            "\n",
            " EPOCH: 0184 -> val_accuracy: 0.8216, class_label_loss: 0.3737, domain_label_loss: 1.3719\n"
          ]
        },
        {
          "output_type": "stream",
          "name": "stderr",
          "text": [
            "\n",
            " 14%|█▎        | 24/175 [00:05<00:35,  4.20it/s]\n",
            "100%|██████████| 6/6 [00:00<00:00,  6.88it/s]"
          ]
        },
        {
          "output_type": "stream",
          "name": "stdout",
          "text": [
            "\n",
            " EPOCH: 0185 -> val_accuracy: 0.8312, class_label_loss: 0.3416, domain_label_loss: 1.3547\n"
          ]
        },
        {
          "output_type": "stream",
          "name": "stderr",
          "text": [
            "\n",
            " 14%|█▎        | 24/175 [00:04<00:26,  5.78it/s]\n",
            "100%|██████████| 6/6 [00:00<00:00,  6.48it/s]"
          ]
        },
        {
          "output_type": "stream",
          "name": "stdout",
          "text": [
            "\n",
            " EPOCH: 0186 -> val_accuracy: 0.8356, class_label_loss: 0.2766, domain_label_loss: 1.3391\n"
          ]
        },
        {
          "output_type": "stream",
          "name": "stderr",
          "text": [
            "\n",
            " 14%|█▎        | 24/175 [00:07<00:45,  3.33it/s]\n",
            "100%|██████████| 6/6 [00:01<00:00,  5.41it/s]"
          ]
        },
        {
          "output_type": "stream",
          "name": "stdout",
          "text": [
            "\n",
            " EPOCH: 0187 -> val_accuracy: 0.8264, class_label_loss: 0.2398, domain_label_loss: 1.3458\n"
          ]
        },
        {
          "output_type": "stream",
          "name": "stderr",
          "text": [
            "\n",
            " 14%|█▎        | 24/175 [00:04<00:26,  5.61it/s]\n",
            "100%|██████████| 6/6 [00:00<00:00,  6.77it/s]"
          ]
        },
        {
          "output_type": "stream",
          "name": "stdout",
          "text": [
            "\n",
            " EPOCH: 0188 -> val_accuracy: 0.8272, class_label_loss: 0.2566, domain_label_loss: 1.3690\n"
          ]
        },
        {
          "output_type": "stream",
          "name": "stderr",
          "text": [
            "\n",
            " 14%|█▎        | 24/175 [00:05<00:36,  4.11it/s]\n",
            "100%|██████████| 6/6 [00:01<00:00,  4.26it/s]"
          ]
        },
        {
          "output_type": "stream",
          "name": "stdout",
          "text": [
            "\n",
            " EPOCH: 0189 -> val_accuracy: 0.8353, class_label_loss: 0.2669, domain_label_loss: 1.3382\n"
          ]
        },
        {
          "output_type": "stream",
          "name": "stderr",
          "text": [
            "\n",
            " 14%|█▎        | 24/175 [00:05<00:34,  4.43it/s]\n",
            "100%|██████████| 6/6 [00:00<00:00,  6.46it/s]"
          ]
        },
        {
          "output_type": "stream",
          "name": "stdout",
          "text": [
            "\n",
            " EPOCH: 0190 -> val_accuracy: 0.8353, class_label_loss: 0.2921, domain_label_loss: 1.3629\n"
          ]
        },
        {
          "output_type": "stream",
          "name": "stderr",
          "text": [
            "\n",
            " 14%|█▎        | 24/175 [00:04<00:26,  5.74it/s]\n",
            "100%|██████████| 6/6 [00:00<00:00,  6.72it/s]"
          ]
        },
        {
          "output_type": "stream",
          "name": "stdout",
          "text": [
            "\n",
            " EPOCH: 0191 -> val_accuracy: 0.8239, class_label_loss: 0.2609, domain_label_loss: 1.3619\n"
          ]
        },
        {
          "output_type": "stream",
          "name": "stderr",
          "text": [
            "\n",
            " 14%|█▎        | 24/175 [00:07<00:46,  3.23it/s]\n",
            "100%|██████████| 6/6 [00:01<00:00,  4.56it/s]"
          ]
        },
        {
          "output_type": "stream",
          "name": "stdout",
          "text": [
            "\n",
            " EPOCH: 0192 -> val_accuracy: 0.8141, class_label_loss: 0.2083, domain_label_loss: 1.3381\n"
          ]
        },
        {
          "output_type": "stream",
          "name": "stderr",
          "text": [
            "\n",
            " 14%|█▎        | 24/175 [00:04<00:26,  5.62it/s]\n",
            "100%|██████████| 6/6 [00:00<00:00,  6.71it/s]"
          ]
        },
        {
          "output_type": "stream",
          "name": "stdout",
          "text": [
            "\n",
            " EPOCH: 0193 -> val_accuracy: 0.8269, class_label_loss: 0.2597, domain_label_loss: 1.3172\n"
          ]
        },
        {
          "output_type": "stream",
          "name": "stderr",
          "text": [
            "\n",
            " 14%|█▎        | 24/175 [00:05<00:31,  4.73it/s]\n",
            "100%|██████████| 6/6 [00:01<00:00,  4.40it/s]\n"
          ]
        },
        {
          "output_type": "stream",
          "name": "stdout",
          "text": [
            "\n",
            " EPOCH: 0194 -> val_accuracy: 0.8145, class_label_loss: 0.2262, domain_label_loss: 1.3560\n"
          ]
        },
        {
          "output_type": "stream",
          "name": "stderr",
          "text": [
            " 14%|█▎        | 24/175 [00:05<00:37,  4.07it/s]\n",
            "100%|██████████| 6/6 [00:00<00:00,  6.66it/s]"
          ]
        },
        {
          "output_type": "stream",
          "name": "stdout",
          "text": [
            "\n",
            " EPOCH: 0195 -> val_accuracy: 0.8186, class_label_loss: 0.2269, domain_label_loss: 1.3616\n"
          ]
        },
        {
          "output_type": "stream",
          "name": "stderr",
          "text": [
            "\n",
            " 14%|█▎        | 24/175 [00:04<00:27,  5.58it/s]\n",
            "100%|██████████| 6/6 [00:00<00:00,  6.46it/s]"
          ]
        },
        {
          "output_type": "stream",
          "name": "stdout",
          "text": [
            "\n",
            " EPOCH: 0196 -> val_accuracy: 0.8262, class_label_loss: 0.2867, domain_label_loss: 1.3730\n"
          ]
        },
        {
          "output_type": "stream",
          "name": "stderr",
          "text": [
            "\n",
            " 14%|█▎        | 24/175 [00:07<00:44,  3.40it/s]\n",
            "100%|██████████| 6/6 [00:01<00:00,  4.41it/s]"
          ]
        },
        {
          "output_type": "stream",
          "name": "stdout",
          "text": [
            "\n",
            " EPOCH: 0197 -> val_accuracy: 0.8248, class_label_loss: 0.2335, domain_label_loss: 1.3646\n"
          ]
        },
        {
          "output_type": "stream",
          "name": "stderr",
          "text": [
            "\n",
            " 14%|█▎        | 24/175 [00:04<00:27,  5.56it/s]\n",
            "100%|██████████| 6/6 [00:00<00:00,  6.42it/s]"
          ]
        },
        {
          "output_type": "stream",
          "name": "stdout",
          "text": [
            "\n",
            " EPOCH: 0198 -> val_accuracy: 0.8035, class_label_loss: 0.1867, domain_label_loss: 1.3478\n"
          ]
        },
        {
          "output_type": "stream",
          "name": "stderr",
          "text": [
            "\n",
            " 14%|█▎        | 24/175 [00:04<00:29,  5.10it/s]\n",
            "100%|██████████| 6/6 [00:01<00:00,  3.74it/s]"
          ]
        },
        {
          "output_type": "stream",
          "name": "stdout",
          "text": [
            "\n",
            " EPOCH: 0199 -> val_accuracy: 0.8134, class_label_loss: 0.3168, domain_label_loss: 1.3566\n"
          ]
        },
        {
          "output_type": "stream",
          "name": "stderr",
          "text": [
            "\n",
            " 14%|█▎        | 24/175 [00:06<00:38,  3.89it/s]\n",
            "100%|██████████| 6/6 [00:00<00:00,  6.15it/s]"
          ]
        },
        {
          "output_type": "stream",
          "name": "stdout",
          "text": [
            "\n",
            " EPOCH: 0200 -> val_accuracy: 0.8303, class_label_loss: 0.2539, domain_label_loss: 1.3416\n"
          ]
        },
        {
          "output_type": "stream",
          "name": "stderr",
          "text": [
            "\n",
            " 14%|█▎        | 24/175 [00:04<00:26,  5.78it/s]\n",
            "100%|██████████| 6/6 [00:00<00:00,  6.44it/s]"
          ]
        },
        {
          "output_type": "stream",
          "name": "stdout",
          "text": [
            "\n",
            " EPOCH: 0201 -> val_accuracy: 0.8131, class_label_loss: 0.2878, domain_label_loss: 1.3519\n"
          ]
        },
        {
          "output_type": "stream",
          "name": "stderr",
          "text": [
            "\n",
            " 14%|█▎        | 24/175 [00:07<00:45,  3.29it/s]\n",
            "100%|██████████| 6/6 [00:01<00:00,  4.12it/s]"
          ]
        },
        {
          "output_type": "stream",
          "name": "stdout",
          "text": [
            "\n",
            " EPOCH: 0202 -> val_accuracy: 0.8194, class_label_loss: 0.2436, domain_label_loss: 1.3431\n"
          ]
        },
        {
          "output_type": "stream",
          "name": "stderr",
          "text": [
            "\n",
            " 14%|█▎        | 24/175 [00:04<00:26,  5.69it/s]\n",
            "100%|██████████| 6/6 [00:00<00:00,  6.61it/s]"
          ]
        },
        {
          "output_type": "stream",
          "name": "stdout",
          "text": [
            "\n",
            " EPOCH: 0203 -> val_accuracy: 0.8093, class_label_loss: 0.3150, domain_label_loss: 1.3625\n"
          ]
        },
        {
          "output_type": "stream",
          "name": "stderr",
          "text": [
            "\n",
            " 14%|█▎        | 24/175 [00:04<00:31,  4.80it/s]\n",
            "100%|██████████| 6/6 [00:01<00:00,  3.99it/s]"
          ]
        },
        {
          "output_type": "stream",
          "name": "stdout",
          "text": [
            "\n",
            " EPOCH: 0204 -> val_accuracy: 0.8028, class_label_loss: 0.2022, domain_label_loss: 1.3627\n"
          ]
        },
        {
          "output_type": "stream",
          "name": "stderr",
          "text": [
            "\n",
            " 14%|█▎        | 24/175 [00:05<00:36,  4.10it/s]\n",
            "100%|██████████| 6/6 [00:00<00:00,  6.81it/s]"
          ]
        },
        {
          "output_type": "stream",
          "name": "stdout",
          "text": [
            "\n",
            " EPOCH: 0205 -> val_accuracy: 0.8026, class_label_loss: 0.2303, domain_label_loss: 1.3092\n"
          ]
        },
        {
          "output_type": "stream",
          "name": "stderr",
          "text": [
            "\n",
            " 14%|█▎        | 24/175 [00:04<00:27,  5.58it/s]\n",
            "100%|██████████| 6/6 [00:00<00:00,  6.49it/s]"
          ]
        },
        {
          "output_type": "stream",
          "name": "stdout",
          "text": [
            "\n",
            " EPOCH: 0206 -> val_accuracy: 0.8168, class_label_loss: 0.3018, domain_label_loss: 1.3963\n"
          ]
        },
        {
          "output_type": "stream",
          "name": "stderr",
          "text": [
            "\n",
            " 14%|█▎        | 24/175 [00:07<00:44,  3.37it/s]\n",
            "100%|██████████| 6/6 [00:01<00:00,  4.33it/s]"
          ]
        },
        {
          "output_type": "stream",
          "name": "stdout",
          "text": [
            "\n",
            " EPOCH: 0207 -> val_accuracy: 0.8267, class_label_loss: 0.2594, domain_label_loss: 1.3374\n"
          ]
        },
        {
          "output_type": "stream",
          "name": "stderr",
          "text": [
            "\n",
            " 14%|█▎        | 24/175 [00:04<00:28,  5.30it/s]\n",
            "100%|██████████| 6/6 [00:00<00:00,  6.59it/s]"
          ]
        },
        {
          "output_type": "stream",
          "name": "stdout",
          "text": [
            "\n",
            " EPOCH: 0208 -> val_accuracy: 0.8340, class_label_loss: 0.2530, domain_label_loss: 1.3745\n"
          ]
        },
        {
          "output_type": "stream",
          "name": "stderr",
          "text": [
            "\n",
            " 14%|█▎        | 24/175 [00:05<00:34,  4.32it/s]\n",
            "100%|██████████| 6/6 [00:01<00:00,  3.97it/s]"
          ]
        },
        {
          "output_type": "stream",
          "name": "stdout",
          "text": [
            "\n",
            " EPOCH: 0209 -> val_accuracy: 0.8093, class_label_loss: 0.2761, domain_label_loss: 1.3261\n"
          ]
        },
        {
          "output_type": "stream",
          "name": "stderr",
          "text": [
            "\n",
            " 14%|█▎        | 24/175 [00:05<00:34,  4.33it/s]\n",
            "100%|██████████| 6/6 [00:00<00:00,  6.64it/s]"
          ]
        },
        {
          "output_type": "stream",
          "name": "stdout",
          "text": [
            "\n",
            " EPOCH: 0210 -> val_accuracy: 0.8449, class_label_loss: 0.2075, domain_label_loss: 1.3719\n",
            "--------------------Model saved--------------------\n"
          ]
        },
        {
          "output_type": "stream",
          "name": "stderr",
          "text": [
            "\n",
            " 14%|█▎        | 24/175 [00:04<00:25,  5.90it/s]\n",
            "100%|██████████| 6/6 [00:00<00:00,  6.58it/s]"
          ]
        },
        {
          "output_type": "stream",
          "name": "stdout",
          "text": [
            "\n",
            " EPOCH: 0211 -> val_accuracy: 0.8254, class_label_loss: 0.2481, domain_label_loss: 1.3625\n"
          ]
        },
        {
          "output_type": "stream",
          "name": "stderr",
          "text": [
            "\n",
            " 14%|█▎        | 24/175 [00:07<00:45,  3.35it/s]\n",
            "100%|██████████| 6/6 [00:01<00:00,  4.16it/s]"
          ]
        },
        {
          "output_type": "stream",
          "name": "stdout",
          "text": [
            "\n",
            " EPOCH: 0212 -> val_accuracy: 0.8181, class_label_loss: 0.2168, domain_label_loss: 1.3692\n"
          ]
        },
        {
          "output_type": "stream",
          "name": "stderr",
          "text": [
            "\n",
            " 14%|█▎        | 24/175 [00:04<00:27,  5.57it/s]\n",
            "100%|██████████| 6/6 [00:00<00:00,  6.60it/s]"
          ]
        },
        {
          "output_type": "stream",
          "name": "stdout",
          "text": [
            "\n",
            " EPOCH: 0213 -> val_accuracy: 0.8048, class_label_loss: 0.2694, domain_label_loss: 1.3536\n"
          ]
        },
        {
          "output_type": "stream",
          "name": "stderr",
          "text": [
            "\n",
            " 14%|█▎        | 24/175 [00:05<00:33,  4.44it/s]\n",
            "100%|██████████| 6/6 [00:01<00:00,  3.99it/s]"
          ]
        },
        {
          "output_type": "stream",
          "name": "stdout",
          "text": [
            "\n",
            " EPOCH: 0214 -> val_accuracy: 0.8281, class_label_loss: 0.2077, domain_label_loss: 1.3751\n"
          ]
        },
        {
          "output_type": "stream",
          "name": "stderr",
          "text": [
            "\n",
            " 14%|█▎        | 24/175 [00:05<00:36,  4.12it/s]\n",
            "100%|██████████| 6/6 [00:00<00:00,  6.23it/s]"
          ]
        },
        {
          "output_type": "stream",
          "name": "stdout",
          "text": [
            "\n",
            " EPOCH: 0215 -> val_accuracy: 0.8238, class_label_loss: 0.2172, domain_label_loss: 1.3740\n"
          ]
        },
        {
          "output_type": "stream",
          "name": "stderr",
          "text": [
            "\n",
            " 14%|█▎        | 24/175 [00:04<00:26,  5.69it/s]\n",
            "100%|██████████| 6/6 [00:00<00:00,  6.36it/s]"
          ]
        },
        {
          "output_type": "stream",
          "name": "stdout",
          "text": [
            "\n",
            " EPOCH: 0216 -> val_accuracy: 0.8132, class_label_loss: 0.2182, domain_label_loss: 1.3759\n"
          ]
        },
        {
          "output_type": "stream",
          "name": "stderr",
          "text": [
            "\n",
            " 14%|█▎        | 24/175 [00:07<00:46,  3.27it/s]\n",
            "100%|██████████| 6/6 [00:01<00:00,  5.49it/s]"
          ]
        },
        {
          "output_type": "stream",
          "name": "stdout",
          "text": [
            "\n",
            " EPOCH: 0217 -> val_accuracy: 0.8045, class_label_loss: 0.2449, domain_label_loss: 1.3678\n"
          ]
        },
        {
          "output_type": "stream",
          "name": "stderr",
          "text": [
            "\n",
            " 14%|█▎        | 24/175 [00:04<00:26,  5.64it/s]\n",
            "100%|██████████| 6/6 [00:00<00:00,  6.66it/s]"
          ]
        },
        {
          "output_type": "stream",
          "name": "stdout",
          "text": [
            "\n",
            " EPOCH: 0218 -> val_accuracy: 0.8049, class_label_loss: 0.2589, domain_label_loss: 1.3826\n"
          ]
        },
        {
          "output_type": "stream",
          "name": "stderr",
          "text": [
            "\n",
            " 14%|█▎        | 24/175 [00:05<00:35,  4.28it/s]\n",
            "100%|██████████| 6/6 [00:01<00:00,  4.03it/s]"
          ]
        },
        {
          "output_type": "stream",
          "name": "stdout",
          "text": [
            "\n",
            " EPOCH: 0219 -> val_accuracy: 0.8199, class_label_loss: 0.2448, domain_label_loss: 1.3795\n"
          ]
        },
        {
          "output_type": "stream",
          "name": "stderr",
          "text": [
            "\n",
            " 14%|█▎        | 24/175 [00:05<00:34,  4.40it/s]\n",
            "100%|██████████| 6/6 [00:00<00:00,  6.56it/s]"
          ]
        },
        {
          "output_type": "stream",
          "name": "stdout",
          "text": [
            "\n",
            " EPOCH: 0220 -> val_accuracy: 0.8234, class_label_loss: 0.2264, domain_label_loss: 1.3597\n"
          ]
        },
        {
          "output_type": "stream",
          "name": "stderr",
          "text": [
            "\n",
            " 14%|█▎        | 24/175 [00:04<00:26,  5.61it/s]\n",
            "100%|██████████| 6/6 [00:00<00:00,  6.27it/s]"
          ]
        },
        {
          "output_type": "stream",
          "name": "stdout",
          "text": [
            "\n",
            " EPOCH: 0221 -> val_accuracy: 0.8022, class_label_loss: 0.2655, domain_label_loss: 1.3908\n"
          ]
        },
        {
          "output_type": "stream",
          "name": "stderr",
          "text": [
            "\n",
            " 14%|█▎        | 24/175 [00:07<00:45,  3.29it/s]\n",
            "100%|██████████| 6/6 [00:00<00:00,  6.48it/s]"
          ]
        },
        {
          "output_type": "stream",
          "name": "stdout",
          "text": [
            "\n",
            " EPOCH: 0222 -> val_accuracy: 0.8093, class_label_loss: 0.2399, domain_label_loss: 1.3688\n"
          ]
        },
        {
          "output_type": "stream",
          "name": "stderr",
          "text": [
            "\n",
            " 14%|█▎        | 24/175 [00:04<00:26,  5.63it/s]\n",
            "100%|██████████| 6/6 [00:00<00:00,  6.57it/s]"
          ]
        },
        {
          "output_type": "stream",
          "name": "stdout",
          "text": [
            "\n",
            " EPOCH: 0223 -> val_accuracy: 0.8106, class_label_loss: 0.1713, domain_label_loss: 1.3372\n"
          ]
        },
        {
          "output_type": "stream",
          "name": "stderr",
          "text": [
            "\n",
            " 14%|█▎        | 24/175 [00:06<00:39,  3.83it/s]\n",
            "100%|██████████| 6/6 [00:01<00:00,  3.93it/s]"
          ]
        },
        {
          "output_type": "stream",
          "name": "stdout",
          "text": [
            "\n",
            " EPOCH: 0224 -> val_accuracy: 0.8064, class_label_loss: 0.2099, domain_label_loss: 1.3849\n"
          ]
        },
        {
          "output_type": "stream",
          "name": "stderr",
          "text": [
            "\n",
            " 14%|█▎        | 24/175 [00:05<00:33,  4.47it/s]\n",
            "100%|██████████| 6/6 [00:00<00:00,  6.68it/s]"
          ]
        },
        {
          "output_type": "stream",
          "name": "stdout",
          "text": [
            "\n",
            " EPOCH: 0225 -> val_accuracy: 0.8098, class_label_loss: 0.2425, domain_label_loss: 1.3636\n"
          ]
        },
        {
          "output_type": "stream",
          "name": "stderr",
          "text": [
            "\n",
            " 14%|█▎        | 24/175 [00:04<00:27,  5.52it/s]\n",
            "100%|██████████| 6/6 [00:01<00:00,  4.47it/s]"
          ]
        },
        {
          "output_type": "stream",
          "name": "stdout",
          "text": [
            "\n",
            " EPOCH: 0226 -> val_accuracy: 0.7999, class_label_loss: 0.2343, domain_label_loss: 1.3760\n"
          ]
        },
        {
          "output_type": "stream",
          "name": "stderr",
          "text": [
            "\n",
            " 14%|█▎        | 24/175 [00:07<00:46,  3.25it/s]\n",
            "100%|██████████| 6/6 [00:00<00:00,  6.31it/s]"
          ]
        },
        {
          "output_type": "stream",
          "name": "stdout",
          "text": [
            "\n",
            " EPOCH: 0227 -> val_accuracy: 0.8124, class_label_loss: 0.2220, domain_label_loss: 1.3621\n"
          ]
        },
        {
          "output_type": "stream",
          "name": "stderr",
          "text": [
            "\n",
            " 14%|█▎        | 24/175 [00:04<00:27,  5.54it/s]\n",
            "100%|██████████| 6/6 [00:00<00:00,  6.38it/s]"
          ]
        },
        {
          "output_type": "stream",
          "name": "stdout",
          "text": [
            "\n",
            " EPOCH: 0228 -> val_accuracy: 0.8035, class_label_loss: 0.2259, domain_label_loss: 1.3713\n"
          ]
        },
        {
          "output_type": "stream",
          "name": "stderr",
          "text": [
            "\n",
            " 14%|█▎        | 24/175 [00:06<00:38,  3.87it/s]\n",
            "100%|██████████| 6/6 [00:01<00:00,  3.90it/s]"
          ]
        },
        {
          "output_type": "stream",
          "name": "stdout",
          "text": [
            "\n",
            " EPOCH: 0229 -> val_accuracy: 0.8048, class_label_loss: 0.2394, domain_label_loss: 1.3663\n"
          ]
        },
        {
          "output_type": "stream",
          "name": "stderr",
          "text": [
            "\n",
            " 14%|█▎        | 24/175 [00:05<00:33,  4.55it/s]\n",
            "100%|██████████| 6/6 [00:00<00:00,  6.59it/s]"
          ]
        },
        {
          "output_type": "stream",
          "name": "stdout",
          "text": [
            "\n",
            " EPOCH: 0230 -> val_accuracy: 0.8189, class_label_loss: 0.2360, domain_label_loss: 1.3408\n"
          ]
        },
        {
          "output_type": "stream",
          "name": "stderr",
          "text": [
            "\n",
            " 14%|█▎        | 24/175 [00:04<00:26,  5.62it/s]\n",
            "100%|██████████| 6/6 [00:01<00:00,  4.42it/s]"
          ]
        },
        {
          "output_type": "stream",
          "name": "stdout",
          "text": [
            "\n",
            " EPOCH: 0231 -> val_accuracy: 0.8241, class_label_loss: 0.2518, domain_label_loss: 1.3685\n"
          ]
        },
        {
          "output_type": "stream",
          "name": "stderr",
          "text": [
            "\n",
            " 14%|█▎        | 24/175 [00:06<00:43,  3.47it/s]\n",
            "100%|██████████| 6/6 [00:00<00:00,  6.61it/s]"
          ]
        },
        {
          "output_type": "stream",
          "name": "stdout",
          "text": [
            "\n",
            " EPOCH: 0232 -> val_accuracy: 0.8239, class_label_loss: 0.2487, domain_label_loss: 1.3602\n"
          ]
        },
        {
          "output_type": "stream",
          "name": "stderr",
          "text": [
            "\n",
            " 14%|█▎        | 24/175 [00:04<00:27,  5.52it/s]\n",
            "100%|██████████| 6/6 [00:00<00:00,  6.38it/s]"
          ]
        },
        {
          "output_type": "stream",
          "name": "stdout",
          "text": [
            "\n",
            " EPOCH: 0233 -> val_accuracy: 0.8261, class_label_loss: 0.2762, domain_label_loss: 1.3596\n"
          ]
        },
        {
          "output_type": "stream",
          "name": "stderr",
          "text": [
            "\n",
            " 14%|█▎        | 24/175 [00:06<00:38,  3.96it/s]\n",
            "100%|██████████| 6/6 [00:01<00:00,  3.85it/s]"
          ]
        },
        {
          "output_type": "stream",
          "name": "stdout",
          "text": [
            "\n",
            " EPOCH: 0234 -> val_accuracy: 0.8140, class_label_loss: 0.2147, domain_label_loss: 1.3722\n"
          ]
        },
        {
          "output_type": "stream",
          "name": "stderr",
          "text": [
            "\n",
            " 14%|█▎        | 24/175 [00:05<00:32,  4.63it/s]\n",
            "100%|██████████| 6/6 [00:00<00:00,  6.62it/s]"
          ]
        },
        {
          "output_type": "stream",
          "name": "stdout",
          "text": [
            "\n",
            " EPOCH: 0235 -> val_accuracy: 0.8020, class_label_loss: 0.2684, domain_label_loss: 1.3538\n"
          ]
        },
        {
          "output_type": "stream",
          "name": "stderr",
          "text": [
            "\n",
            " 14%|█▎        | 24/175 [00:04<00:27,  5.51it/s]\n",
            "100%|██████████| 6/6 [00:01<00:00,  4.73it/s]"
          ]
        },
        {
          "output_type": "stream",
          "name": "stdout",
          "text": [
            "\n",
            " EPOCH: 0236 -> val_accuracy: 0.8278, class_label_loss: 0.2051, domain_label_loss: 1.3513\n"
          ]
        },
        {
          "output_type": "stream",
          "name": "stderr",
          "text": [
            "\n",
            " 14%|█▎        | 24/175 [00:07<00:45,  3.35it/s]\n",
            "100%|██████████| 6/6 [00:00<00:00,  6.47it/s]"
          ]
        },
        {
          "output_type": "stream",
          "name": "stdout",
          "text": [
            "\n",
            " EPOCH: 0237 -> val_accuracy: 0.8382, class_label_loss: 0.1745, domain_label_loss: 1.3572\n"
          ]
        },
        {
          "output_type": "stream",
          "name": "stderr",
          "text": [
            "\n",
            " 14%|█▎        | 24/175 [00:04<00:26,  5.62it/s]\n",
            "100%|██████████| 6/6 [00:00<00:00,  6.71it/s]"
          ]
        },
        {
          "output_type": "stream",
          "name": "stdout",
          "text": [
            "\n",
            " EPOCH: 0238 -> val_accuracy: 0.8451, class_label_loss: 0.1977, domain_label_loss: 1.3645\n",
            "--------------------Model saved--------------------\n"
          ]
        },
        {
          "output_type": "stream",
          "name": "stderr",
          "text": [
            "\n",
            " 14%|█▎        | 24/175 [00:06<00:40,  3.77it/s]\n",
            "100%|██████████| 6/6 [00:01<00:00,  3.76it/s]"
          ]
        },
        {
          "output_type": "stream",
          "name": "stdout",
          "text": [
            "\n",
            " EPOCH: 0239 -> val_accuracy: 0.8316, class_label_loss: 0.1907, domain_label_loss: 1.3653\n"
          ]
        },
        {
          "output_type": "stream",
          "name": "stderr",
          "text": [
            "\n",
            " 14%|█▎        | 24/175 [00:05<00:32,  4.67it/s]\n",
            "100%|██████████| 6/6 [00:00<00:00,  6.68it/s]"
          ]
        },
        {
          "output_type": "stream",
          "name": "stdout",
          "text": [
            "\n",
            " EPOCH: 0240 -> val_accuracy: 0.8160, class_label_loss: 0.2392, domain_label_loss: 1.3752\n"
          ]
        },
        {
          "output_type": "stream",
          "name": "stderr",
          "text": [
            "\n",
            " 14%|█▎        | 24/175 [00:04<00:25,  5.88it/s]\n",
            "100%|██████████| 6/6 [00:01<00:00,  5.55it/s]"
          ]
        },
        {
          "output_type": "stream",
          "name": "stdout",
          "text": [
            "\n",
            " EPOCH: 0241 -> val_accuracy: 0.8100, class_label_loss: 0.1611, domain_label_loss: 1.3681\n"
          ]
        },
        {
          "output_type": "stream",
          "name": "stderr",
          "text": [
            "\n",
            " 14%|█▎        | 24/175 [00:07<00:46,  3.26it/s]\n",
            "100%|██████████| 6/6 [00:00<00:00,  6.74it/s]"
          ]
        },
        {
          "output_type": "stream",
          "name": "stdout",
          "text": [
            "\n",
            " EPOCH: 0242 -> val_accuracy: 0.8114, class_label_loss: 0.1489, domain_label_loss: 1.3750\n"
          ]
        },
        {
          "output_type": "stream",
          "name": "stderr",
          "text": [
            "\n",
            " 14%|█▎        | 24/175 [00:04<00:26,  5.71it/s]\n",
            "100%|██████████| 6/6 [00:00<00:00,  6.48it/s]"
          ]
        },
        {
          "output_type": "stream",
          "name": "stdout",
          "text": [
            "\n",
            " EPOCH: 0243 -> val_accuracy: 0.8162, class_label_loss: 0.2333, domain_label_loss: 1.3846\n"
          ]
        },
        {
          "output_type": "stream",
          "name": "stderr",
          "text": [
            "\n",
            " 14%|█▎        | 24/175 [00:06<00:38,  3.92it/s]\n",
            "100%|██████████| 6/6 [00:01<00:00,  3.46it/s]"
          ]
        },
        {
          "output_type": "stream",
          "name": "stdout",
          "text": [
            "\n",
            " EPOCH: 0244 -> val_accuracy: 0.8137, class_label_loss: 0.3063, domain_label_loss: 1.3470\n"
          ]
        },
        {
          "output_type": "stream",
          "name": "stderr",
          "text": [
            "\n",
            " 14%|█▎        | 24/175 [00:05<00:31,  4.77it/s]\n",
            "100%|██████████| 6/6 [00:00<00:00,  6.65it/s]"
          ]
        },
        {
          "output_type": "stream",
          "name": "stdout",
          "text": [
            "\n",
            " EPOCH: 0245 -> val_accuracy: 0.8295, class_label_loss: 0.2474, domain_label_loss: 1.3741\n"
          ]
        },
        {
          "output_type": "stream",
          "name": "stderr",
          "text": [
            "\n",
            " 14%|█▎        | 24/175 [00:04<00:27,  5.56it/s]\n",
            "100%|██████████| 6/6 [00:01<00:00,  5.20it/s]"
          ]
        },
        {
          "output_type": "stream",
          "name": "stdout",
          "text": [
            "\n",
            " EPOCH: 0246 -> val_accuracy: 0.8324, class_label_loss: 0.1872, domain_label_loss: 1.3573\n"
          ]
        },
        {
          "output_type": "stream",
          "name": "stderr",
          "text": [
            "\n",
            " 14%|█▎        | 24/175 [00:07<00:44,  3.41it/s]\n",
            "100%|██████████| 6/6 [00:00<00:00,  6.68it/s]"
          ]
        },
        {
          "output_type": "stream",
          "name": "stdout",
          "text": [
            "\n",
            " EPOCH: 0247 -> val_accuracy: 0.8196, class_label_loss: 0.1939, domain_label_loss: 1.3722\n"
          ]
        },
        {
          "output_type": "stream",
          "name": "stderr",
          "text": [
            "\n",
            " 14%|█▎        | 24/175 [00:04<00:25,  5.87it/s]\n",
            "100%|██████████| 6/6 [00:00<00:00,  6.75it/s]"
          ]
        },
        {
          "output_type": "stream",
          "name": "stdout",
          "text": [
            "\n",
            " EPOCH: 0248 -> val_accuracy: 0.8275, class_label_loss: 0.2581, domain_label_loss: 1.3664\n"
          ]
        },
        {
          "output_type": "stream",
          "name": "stderr",
          "text": [
            "\n",
            " 14%|█▎        | 24/175 [00:06<00:38,  3.89it/s]\n",
            "100%|██████████| 6/6 [00:01<00:00,  3.90it/s]"
          ]
        },
        {
          "output_type": "stream",
          "name": "stdout",
          "text": [
            "\n",
            " EPOCH: 0249 -> val_accuracy: 0.8298, class_label_loss: 0.1614, domain_label_loss: 1.3413\n"
          ]
        },
        {
          "output_type": "stream",
          "name": "stderr",
          "text": [
            "\n",
            " 14%|█▎        | 24/175 [00:05<00:31,  4.79it/s]\n",
            "100%|██████████| 6/6 [00:01<00:00,  5.16it/s]"
          ]
        },
        {
          "output_type": "stream",
          "name": "stdout",
          "text": [
            "\n",
            " EPOCH: 0250 -> val_accuracy: 0.8278, class_label_loss: 0.2434, domain_label_loss: 1.3652\n"
          ]
        },
        {
          "output_type": "stream",
          "name": "stderr",
          "text": [
            "\n",
            " 14%|█▎        | 24/175 [00:04<00:26,  5.62it/s]\n",
            "100%|██████████| 6/6 [00:01<00:00,  5.18it/s]"
          ]
        },
        {
          "output_type": "stream",
          "name": "stdout",
          "text": [
            "\n",
            " EPOCH: 0251 -> val_accuracy: 0.8431, class_label_loss: 0.1332, domain_label_loss: 1.3902\n"
          ]
        },
        {
          "output_type": "stream",
          "name": "stderr",
          "text": [
            "\n",
            " 14%|█▎        | 24/175 [00:06<00:43,  3.44it/s]\n",
            "100%|██████████| 6/6 [00:00<00:00,  6.65it/s]"
          ]
        },
        {
          "output_type": "stream",
          "name": "stdout",
          "text": [
            "\n",
            " EPOCH: 0252 -> val_accuracy: 0.8149, class_label_loss: 0.1556, domain_label_loss: 1.3934\n"
          ]
        },
        {
          "output_type": "stream",
          "name": "stderr",
          "text": [
            "\n",
            " 14%|█▎        | 24/175 [00:04<00:27,  5.52it/s]\n",
            "100%|██████████| 6/6 [00:00<00:00,  6.78it/s]"
          ]
        },
        {
          "output_type": "stream",
          "name": "stdout",
          "text": [
            "\n",
            " EPOCH: 0253 -> val_accuracy: 0.8173, class_label_loss: 0.2275, domain_label_loss: 1.3629\n"
          ]
        },
        {
          "output_type": "stream",
          "name": "stderr",
          "text": [
            "\n",
            " 14%|█▎        | 24/175 [00:05<00:37,  4.01it/s]\n",
            "100%|██████████| 6/6 [00:01<00:00,  3.62it/s]"
          ]
        },
        {
          "output_type": "stream",
          "name": "stdout",
          "text": [
            "\n",
            " EPOCH: 0254 -> val_accuracy: 0.8286, class_label_loss: 0.2139, domain_label_loss: 1.3774\n"
          ]
        },
        {
          "output_type": "stream",
          "name": "stderr",
          "text": [
            "\n",
            " 14%|█▎        | 24/175 [00:05<00:33,  4.50it/s]\n",
            "100%|██████████| 6/6 [00:00<00:00,  6.50it/s]"
          ]
        },
        {
          "output_type": "stream",
          "name": "stdout",
          "text": [
            "\n",
            " EPOCH: 0255 -> val_accuracy: 0.8290, class_label_loss: 0.1866, domain_label_loss: 1.3906\n"
          ]
        },
        {
          "output_type": "stream",
          "name": "stderr",
          "text": [
            "\n",
            " 14%|█▎        | 24/175 [00:04<00:25,  5.81it/s]\n",
            "100%|██████████| 6/6 [00:00<00:00,  6.08it/s]"
          ]
        },
        {
          "output_type": "stream",
          "name": "stdout",
          "text": [
            "\n",
            " EPOCH: 0256 -> val_accuracy: 0.8350, class_label_loss: 0.2709, domain_label_loss: 1.3687\n"
          ]
        },
        {
          "output_type": "stream",
          "name": "stderr",
          "text": [
            "\n",
            " 14%|█▎        | 24/175 [00:07<00:44,  3.40it/s]\n",
            "100%|██████████| 6/6 [00:00<00:00,  6.14it/s]"
          ]
        },
        {
          "output_type": "stream",
          "name": "stdout",
          "text": [
            "\n",
            " EPOCH: 0257 -> val_accuracy: 0.8225, class_label_loss: 0.2474, domain_label_loss: 1.3477\n"
          ]
        },
        {
          "output_type": "stream",
          "name": "stderr",
          "text": [
            "\n",
            " 14%|█▎        | 24/175 [00:04<00:26,  5.78it/s]\n",
            "100%|██████████| 6/6 [00:00<00:00,  6.63it/s]"
          ]
        },
        {
          "output_type": "stream",
          "name": "stdout",
          "text": [
            "\n",
            " EPOCH: 0258 -> val_accuracy: 0.8286, class_label_loss: 0.1997, domain_label_loss: 1.3623\n"
          ]
        },
        {
          "output_type": "stream",
          "name": "stderr",
          "text": [
            "\n",
            " 14%|█▎        | 24/175 [00:06<00:37,  3.97it/s]\n",
            "100%|██████████| 6/6 [00:01<00:00,  3.91it/s]"
          ]
        },
        {
          "output_type": "stream",
          "name": "stdout",
          "text": [
            "\n",
            " EPOCH: 0259 -> val_accuracy: 0.8338, class_label_loss: 0.1759, domain_label_loss: 1.3486\n"
          ]
        },
        {
          "output_type": "stream",
          "name": "stderr",
          "text": [
            "\n",
            " 14%|█▎        | 24/175 [00:05<00:33,  4.55it/s]\n",
            "100%|██████████| 6/6 [00:00<00:00,  6.44it/s]"
          ]
        },
        {
          "output_type": "stream",
          "name": "stdout",
          "text": [
            "\n",
            " EPOCH: 0260 -> val_accuracy: 0.8293, class_label_loss: 0.1982, domain_label_loss: 1.3752\n"
          ]
        },
        {
          "output_type": "stream",
          "name": "stderr",
          "text": [
            "\n",
            " 14%|█▎        | 24/175 [00:04<00:25,  6.00it/s]\n",
            "100%|██████████| 6/6 [00:00<00:00,  6.58it/s]"
          ]
        },
        {
          "output_type": "stream",
          "name": "stdout",
          "text": [
            "\n",
            " EPOCH: 0261 -> val_accuracy: 0.8303, class_label_loss: 0.2189, domain_label_loss: 1.4029\n"
          ]
        },
        {
          "output_type": "stream",
          "name": "stderr",
          "text": [
            "\n",
            " 14%|█▎        | 24/175 [00:07<00:44,  3.39it/s]\n",
            "100%|██████████| 6/6 [00:01<00:00,  4.84it/s]"
          ]
        },
        {
          "output_type": "stream",
          "name": "stdout",
          "text": [
            "\n",
            " EPOCH: 0262 -> val_accuracy: 0.8256, class_label_loss: 0.2444, domain_label_loss: 1.3839\n"
          ]
        },
        {
          "output_type": "stream",
          "name": "stderr",
          "text": [
            "\n",
            " 14%|█▎        | 24/175 [00:04<00:25,  5.92it/s]\n",
            "100%|██████████| 6/6 [00:00<00:00,  6.56it/s]"
          ]
        },
        {
          "output_type": "stream",
          "name": "stdout",
          "text": [
            "\n",
            " EPOCH: 0263 -> val_accuracy: 0.8299, class_label_loss: 0.1519, domain_label_loss: 1.3797\n"
          ]
        },
        {
          "output_type": "stream",
          "name": "stderr",
          "text": [
            "\n",
            " 14%|█▎        | 24/175 [00:05<00:33,  4.51it/s]\n",
            "100%|██████████| 6/6 [00:01<00:00,  3.84it/s]"
          ]
        },
        {
          "output_type": "stream",
          "name": "stdout",
          "text": [
            "\n",
            " EPOCH: 0264 -> val_accuracy: 0.8335, class_label_loss: 0.2033, domain_label_loss: 1.3658\n"
          ]
        },
        {
          "output_type": "stream",
          "name": "stderr",
          "text": [
            "\n",
            " 14%|█▎        | 24/175 [00:05<00:34,  4.34it/s]\n",
            "100%|██████████| 6/6 [00:00<00:00,  6.50it/s]"
          ]
        },
        {
          "output_type": "stream",
          "name": "stdout",
          "text": [
            "\n",
            " EPOCH: 0265 -> val_accuracy: 0.8122, class_label_loss: 0.1975, domain_label_loss: 1.3856\n"
          ]
        },
        {
          "output_type": "stream",
          "name": "stderr",
          "text": [
            "\n",
            " 14%|█▎        | 24/175 [00:04<00:26,  5.67it/s]\n",
            "100%|██████████| 6/6 [00:00<00:00,  6.63it/s]\n"
          ]
        },
        {
          "output_type": "stream",
          "name": "stdout",
          "text": [
            "\n",
            " EPOCH: 0266 -> val_accuracy: 0.8454, class_label_loss: 0.1895, domain_label_loss: 1.3948\n",
            "--------------------Model saved--------------------\n"
          ]
        },
        {
          "output_type": "stream",
          "name": "stderr",
          "text": [
            " 14%|█▎        | 24/175 [00:07<00:44,  3.39it/s]\n",
            "100%|██████████| 6/6 [00:01<00:00,  4.96it/s]"
          ]
        },
        {
          "output_type": "stream",
          "name": "stdout",
          "text": [
            "\n",
            " EPOCH: 0267 -> val_accuracy: 0.8254, class_label_loss: 0.2182, domain_label_loss: 1.3813\n"
          ]
        },
        {
          "output_type": "stream",
          "name": "stderr",
          "text": [
            "\n",
            " 14%|█▎        | 24/175 [00:04<00:26,  5.64it/s]\n",
            "100%|██████████| 6/6 [00:00<00:00,  6.52it/s]"
          ]
        },
        {
          "output_type": "stream",
          "name": "stdout",
          "text": [
            "\n",
            " EPOCH: 0268 -> val_accuracy: 0.8264, class_label_loss: 0.1813, domain_label_loss: 1.3834\n"
          ]
        },
        {
          "output_type": "stream",
          "name": "stderr",
          "text": [
            "\n",
            " 14%|█▎        | 24/175 [00:05<00:35,  4.24it/s]\n",
            "100%|██████████| 6/6 [00:01<00:00,  3.89it/s]"
          ]
        },
        {
          "output_type": "stream",
          "name": "stdout",
          "text": [
            "\n",
            " EPOCH: 0269 -> val_accuracy: 0.8473, class_label_loss: 0.2014, domain_label_loss: 1.4107\n",
            "--------------------Model saved--------------------\n"
          ]
        },
        {
          "output_type": "stream",
          "name": "stderr",
          "text": [
            "\n",
            " 14%|█▎        | 24/175 [00:05<00:33,  4.57it/s]\n",
            "100%|██████████| 6/6 [00:00<00:00,  6.60it/s]"
          ]
        },
        {
          "output_type": "stream",
          "name": "stdout",
          "text": [
            "\n",
            " EPOCH: 0270 -> val_accuracy: 0.8201, class_label_loss: 0.2275, domain_label_loss: 1.3800\n"
          ]
        },
        {
          "output_type": "stream",
          "name": "stderr",
          "text": [
            "\n",
            " 14%|█▎        | 24/175 [00:04<00:27,  5.54it/s]\n",
            "100%|██████████| 6/6 [00:01<00:00,  5.79it/s]"
          ]
        },
        {
          "output_type": "stream",
          "name": "stdout",
          "text": [
            "\n",
            " EPOCH: 0271 -> val_accuracy: 0.8304, class_label_loss: 0.1756, domain_label_loss: 1.3906\n"
          ]
        },
        {
          "output_type": "stream",
          "name": "stderr",
          "text": [
            "\n",
            " 14%|█▎        | 24/175 [00:07<00:44,  3.41it/s]\n",
            "100%|██████████| 6/6 [00:00<00:00,  6.38it/s]"
          ]
        },
        {
          "output_type": "stream",
          "name": "stdout",
          "text": [
            "\n",
            " EPOCH: 0272 -> val_accuracy: 0.8239, class_label_loss: 0.2389, domain_label_loss: 1.3789\n"
          ]
        },
        {
          "output_type": "stream",
          "name": "stderr",
          "text": [
            "\n",
            " 14%|█▎        | 24/175 [00:04<00:26,  5.74it/s]\n",
            "100%|██████████| 6/6 [00:00<00:00,  6.38it/s]"
          ]
        },
        {
          "output_type": "stream",
          "name": "stdout",
          "text": [
            "\n",
            " EPOCH: 0273 -> val_accuracy: 0.8411, class_label_loss: 0.2561, domain_label_loss: 1.3778\n"
          ]
        },
        {
          "output_type": "stream",
          "name": "stderr",
          "text": [
            "\n",
            " 14%|█▎        | 24/175 [00:06<00:37,  4.00it/s]\n",
            "100%|██████████| 6/6 [00:01<00:00,  3.81it/s]"
          ]
        },
        {
          "output_type": "stream",
          "name": "stdout",
          "text": [
            "\n",
            " EPOCH: 0274 -> val_accuracy: 0.8259, class_label_loss: 0.2275, domain_label_loss: 1.4087\n"
          ]
        },
        {
          "output_type": "stream",
          "name": "stderr",
          "text": [
            "\n",
            " 14%|█▎        | 24/175 [00:05<00:31,  4.78it/s]\n",
            "100%|██████████| 6/6 [00:00<00:00,  6.49it/s]"
          ]
        },
        {
          "output_type": "stream",
          "name": "stdout",
          "text": [
            "\n",
            " EPOCH: 0275 -> val_accuracy: 0.8273, class_label_loss: 0.2010, domain_label_loss: 1.3721\n"
          ]
        },
        {
          "output_type": "stream",
          "name": "stderr",
          "text": [
            "\n",
            " 14%|█▎        | 24/175 [00:04<00:26,  5.68it/s]\n",
            "100%|██████████| 6/6 [00:01<00:00,  5.33it/s]"
          ]
        },
        {
          "output_type": "stream",
          "name": "stdout",
          "text": [
            "\n",
            " EPOCH: 0276 -> val_accuracy: 0.8249, class_label_loss: 0.2130, domain_label_loss: 1.3598\n"
          ]
        },
        {
          "output_type": "stream",
          "name": "stderr",
          "text": [
            "\n",
            " 14%|█▎        | 24/175 [00:07<00:44,  3.40it/s]\n",
            "100%|██████████| 6/6 [00:00<00:00,  6.33it/s]"
          ]
        },
        {
          "output_type": "stream",
          "name": "stdout",
          "text": [
            "\n",
            " EPOCH: 0277 -> val_accuracy: 0.8470, class_label_loss: 0.1983, domain_label_loss: 1.3551\n"
          ]
        },
        {
          "output_type": "stream",
          "name": "stderr",
          "text": [
            "\n",
            " 14%|█▎        | 24/175 [00:04<00:26,  5.60it/s]\n",
            "100%|██████████| 6/6 [00:00<00:00,  6.45it/s]"
          ]
        },
        {
          "output_type": "stream",
          "name": "stdout",
          "text": [
            "\n",
            " EPOCH: 0278 -> val_accuracy: 0.8392, class_label_loss: 0.2435, domain_label_loss: 1.3834\n"
          ]
        },
        {
          "output_type": "stream",
          "name": "stderr",
          "text": [
            "\n",
            " 14%|█▎        | 24/175 [00:06<00:40,  3.74it/s]\n",
            "100%|██████████| 6/6 [00:01<00:00,  3.65it/s]"
          ]
        },
        {
          "output_type": "stream",
          "name": "stdout",
          "text": [
            "\n",
            " EPOCH: 0279 -> val_accuracy: 0.8429, class_label_loss: 0.1512, domain_label_loss: 1.3930\n"
          ]
        },
        {
          "output_type": "stream",
          "name": "stderr",
          "text": [
            "\n",
            " 14%|█▎        | 24/175 [00:05<00:31,  4.77it/s]\n",
            "100%|██████████| 6/6 [00:00<00:00,  6.55it/s]"
          ]
        },
        {
          "output_type": "stream",
          "name": "stdout",
          "text": [
            "\n",
            " EPOCH: 0280 -> val_accuracy: 0.8248, class_label_loss: 0.1759, domain_label_loss: 1.3747\n"
          ]
        },
        {
          "output_type": "stream",
          "name": "stderr",
          "text": [
            "\n",
            " 14%|█▎        | 24/175 [00:04<00:26,  5.74it/s]\n",
            "100%|██████████| 6/6 [00:01<00:00,  4.43it/s]"
          ]
        },
        {
          "output_type": "stream",
          "name": "stdout",
          "text": [
            "\n",
            " EPOCH: 0281 -> val_accuracy: 0.8394, class_label_loss: 0.2148, domain_label_loss: 1.3650\n"
          ]
        },
        {
          "output_type": "stream",
          "name": "stderr",
          "text": [
            "\n",
            " 14%|█▎        | 24/175 [00:06<00:43,  3.45it/s]\n",
            "100%|██████████| 6/6 [00:00<00:00,  6.52it/s]"
          ]
        },
        {
          "output_type": "stream",
          "name": "stdout",
          "text": [
            "\n",
            " EPOCH: 0282 -> val_accuracy: 0.8387, class_label_loss: 0.1888, domain_label_loss: 1.3570\n"
          ]
        },
        {
          "output_type": "stream",
          "name": "stderr",
          "text": [
            "\n",
            " 14%|█▎        | 24/175 [00:04<00:28,  5.39it/s]\n",
            "100%|██████████| 6/6 [00:01<00:00,  4.88it/s]"
          ]
        },
        {
          "output_type": "stream",
          "name": "stdout",
          "text": [
            "\n",
            " EPOCH: 0283 -> val_accuracy: 0.8069, class_label_loss: 0.2947, domain_label_loss: 1.3951\n"
          ]
        },
        {
          "output_type": "stream",
          "name": "stderr",
          "text": [
            "\n",
            " 14%|█▎        | 24/175 [00:06<00:39,  3.82it/s]\n",
            "100%|██████████| 6/6 [00:01<00:00,  3.58it/s]"
          ]
        },
        {
          "output_type": "stream",
          "name": "stdout",
          "text": [
            "\n",
            " EPOCH: 0284 -> val_accuracy: 0.8395, class_label_loss: 0.2012, domain_label_loss: 1.3809\n"
          ]
        },
        {
          "output_type": "stream",
          "name": "stderr",
          "text": [
            "\n",
            " 14%|█▎        | 24/175 [00:05<00:33,  4.55it/s]\n",
            "100%|██████████| 6/6 [00:00<00:00,  6.42it/s]"
          ]
        },
        {
          "output_type": "stream",
          "name": "stdout",
          "text": [
            "\n",
            " EPOCH: 0285 -> val_accuracy: 0.8214, class_label_loss: 0.1903, domain_label_loss: 1.3692\n"
          ]
        },
        {
          "output_type": "stream",
          "name": "stderr",
          "text": [
            "\n",
            " 14%|█▎        | 24/175 [00:04<00:28,  5.34it/s]\n",
            "100%|██████████| 6/6 [00:01<00:00,  3.90it/s]"
          ]
        },
        {
          "output_type": "stream",
          "name": "stdout",
          "text": [
            "\n",
            " EPOCH: 0286 -> val_accuracy: 0.8398, class_label_loss: 0.1736, domain_label_loss: 1.3727\n"
          ]
        },
        {
          "output_type": "stream",
          "name": "stderr",
          "text": [
            "\n",
            " 14%|█▎        | 24/175 [00:06<00:42,  3.54it/s]\n",
            "100%|██████████| 6/6 [00:00<00:00,  6.41it/s]"
          ]
        },
        {
          "output_type": "stream",
          "name": "stdout",
          "text": [
            "\n",
            " EPOCH: 0287 -> val_accuracy: 0.8294, class_label_loss: 0.1735, domain_label_loss: 1.3942\n"
          ]
        },
        {
          "output_type": "stream",
          "name": "stderr",
          "text": [
            "\n",
            " 14%|█▎        | 24/175 [00:04<00:27,  5.55it/s]\n",
            "100%|██████████| 6/6 [00:00<00:00,  6.36it/s]"
          ]
        },
        {
          "output_type": "stream",
          "name": "stdout",
          "text": [
            "\n",
            " EPOCH: 0288 -> val_accuracy: 0.8372, class_label_loss: 0.1336, domain_label_loss: 1.3983\n"
          ]
        },
        {
          "output_type": "stream",
          "name": "stderr",
          "text": [
            "\n",
            " 14%|█▎        | 24/175 [00:06<00:43,  3.45it/s]\n",
            "100%|██████████| 6/6 [00:01<00:00,  4.06it/s]"
          ]
        },
        {
          "output_type": "stream",
          "name": "stdout",
          "text": [
            "\n",
            " EPOCH: 0289 -> val_accuracy: 0.8369, class_label_loss: 0.2216, domain_label_loss: 1.3848\n"
          ]
        },
        {
          "output_type": "stream",
          "name": "stderr",
          "text": [
            "\n",
            " 14%|█▎        | 24/175 [00:04<00:27,  5.53it/s]\n",
            "100%|██████████| 6/6 [00:00<00:00,  6.09it/s]"
          ]
        },
        {
          "output_type": "stream",
          "name": "stdout",
          "text": [
            "\n",
            " EPOCH: 0290 -> val_accuracy: 0.8319, class_label_loss: 0.2229, domain_label_loss: 1.3871\n"
          ]
        },
        {
          "output_type": "stream",
          "name": "stderr",
          "text": [
            "\n",
            " 14%|█▎        | 24/175 [00:04<00:27,  5.44it/s]\n",
            "100%|██████████| 6/6 [00:01<00:00,  3.84it/s]"
          ]
        },
        {
          "output_type": "stream",
          "name": "stdout",
          "text": [
            "\n",
            " EPOCH: 0291 -> val_accuracy: 0.8385, class_label_loss: 0.2254, domain_label_loss: 1.3672\n"
          ]
        },
        {
          "output_type": "stream",
          "name": "stderr",
          "text": [
            "\n",
            " 14%|█▎        | 24/175 [00:06<00:40,  3.74it/s]\n",
            "100%|██████████| 6/6 [00:00<00:00,  6.52it/s]"
          ]
        },
        {
          "output_type": "stream",
          "name": "stdout",
          "text": [
            "\n",
            " EPOCH: 0292 -> val_accuracy: 0.8462, class_label_loss: 0.2235, domain_label_loss: 1.3611\n"
          ]
        },
        {
          "output_type": "stream",
          "name": "stderr",
          "text": [
            "\n",
            " 14%|█▎        | 24/175 [00:04<00:26,  5.79it/s]\n",
            "100%|██████████| 6/6 [00:00<00:00,  6.36it/s]"
          ]
        },
        {
          "output_type": "stream",
          "name": "stdout",
          "text": [
            "\n",
            " EPOCH: 0293 -> val_accuracy: 0.8177, class_label_loss: 0.2167, domain_label_loss: 1.3597\n"
          ]
        },
        {
          "output_type": "stream",
          "name": "stderr",
          "text": [
            "\n",
            " 14%|█▎        | 24/175 [00:06<00:43,  3.50it/s]\n",
            "100%|██████████| 6/6 [00:01<00:00,  3.98it/s]"
          ]
        },
        {
          "output_type": "stream",
          "name": "stdout",
          "text": [
            "\n",
            " EPOCH: 0294 -> val_accuracy: 0.8317, class_label_loss: 0.1648, domain_label_loss: 1.3556\n"
          ]
        },
        {
          "output_type": "stream",
          "name": "stderr",
          "text": [
            "\n",
            " 14%|█▎        | 24/175 [00:04<00:28,  5.23it/s]\n",
            "100%|██████████| 6/6 [00:00<00:00,  6.35it/s]"
          ]
        },
        {
          "output_type": "stream",
          "name": "stdout",
          "text": [
            "\n",
            " EPOCH: 0295 -> val_accuracy: 0.8163, class_label_loss: 0.2826, domain_label_loss: 1.3907\n"
          ]
        },
        {
          "output_type": "stream",
          "name": "stderr",
          "text": [
            "\n",
            " 14%|█▎        | 24/175 [00:04<00:27,  5.53it/s]\n",
            "100%|██████████| 6/6 [00:01<00:00,  3.97it/s]"
          ]
        },
        {
          "output_type": "stream",
          "name": "stdout",
          "text": [
            "\n",
            " EPOCH: 0296 -> val_accuracy: 0.8363, class_label_loss: 0.2211, domain_label_loss: 1.3806\n"
          ]
        },
        {
          "output_type": "stream",
          "name": "stderr",
          "text": [
            "\n",
            " 14%|█▎        | 24/175 [00:06<00:40,  3.69it/s]\n",
            "100%|██████████| 6/6 [00:00<00:00,  6.47it/s]"
          ]
        },
        {
          "output_type": "stream",
          "name": "stdout",
          "text": [
            "\n",
            " EPOCH: 0297 -> val_accuracy: 0.8556, class_label_loss: 0.2246, domain_label_loss: 1.3940\n",
            "--------------------Model saved--------------------\n"
          ]
        },
        {
          "output_type": "stream",
          "name": "stderr",
          "text": [
            "\n",
            " 14%|█▎        | 24/175 [00:04<00:28,  5.32it/s]\n",
            "100%|██████████| 6/6 [00:00<00:00,  6.55it/s]"
          ]
        },
        {
          "output_type": "stream",
          "name": "stdout",
          "text": [
            "\n",
            " EPOCH: 0298 -> val_accuracy: 0.8541, class_label_loss: 0.2536, domain_label_loss: 1.3990\n"
          ]
        },
        {
          "output_type": "stream",
          "name": "stderr",
          "text": [
            "\n",
            " 14%|█▎        | 24/175 [00:06<00:43,  3.48it/s]\n",
            "100%|██████████| 6/6 [00:01<00:00,  4.29it/s]"
          ]
        },
        {
          "output_type": "stream",
          "name": "stdout",
          "text": [
            "\n",
            " EPOCH: 0299 -> val_accuracy: 0.8354, class_label_loss: 0.1670, domain_label_loss: 1.3610\n"
          ]
        },
        {
          "output_type": "stream",
          "name": "stderr",
          "text": [
            "\n",
            " 14%|█▎        | 24/175 [00:04<00:26,  5.76it/s]\n",
            "100%|██████████| 6/6 [00:00<00:00,  6.19it/s]"
          ]
        },
        {
          "output_type": "stream",
          "name": "stdout",
          "text": [
            "\n",
            " EPOCH: 0300 -> val_accuracy: 0.8192, class_label_loss: 0.1893, domain_label_loss: 1.3643\n"
          ]
        },
        {
          "output_type": "stream",
          "name": "stderr",
          "text": [
            "\n",
            " 14%|█▎        | 24/175 [00:04<00:28,  5.23it/s]\n",
            "100%|██████████| 6/6 [00:01<00:00,  3.70it/s]"
          ]
        },
        {
          "output_type": "stream",
          "name": "stdout",
          "text": [
            "\n",
            " EPOCH: 0301 -> val_accuracy: 0.8199, class_label_loss: 0.2454, domain_label_loss: 1.3827\n"
          ]
        },
        {
          "output_type": "stream",
          "name": "stderr",
          "text": [
            "\n",
            " 14%|█▎        | 24/175 [00:06<00:38,  3.96it/s]\n",
            "100%|██████████| 6/6 [00:00<00:00,  6.48it/s]"
          ]
        },
        {
          "output_type": "stream",
          "name": "stdout",
          "text": [
            "\n",
            " EPOCH: 0302 -> val_accuracy: 0.8400, class_label_loss: 0.2016, domain_label_loss: 1.3805\n"
          ]
        },
        {
          "output_type": "stream",
          "name": "stderr",
          "text": [
            "\n",
            " 14%|█▎        | 24/175 [00:04<00:26,  5.73it/s]\n",
            "100%|██████████| 6/6 [00:00<00:00,  6.33it/s]"
          ]
        },
        {
          "output_type": "stream",
          "name": "stdout",
          "text": [
            "\n",
            " EPOCH: 0303 -> val_accuracy: 0.8343, class_label_loss: 0.1465, domain_label_loss: 1.3806\n"
          ]
        },
        {
          "output_type": "stream",
          "name": "stderr",
          "text": [
            "\n",
            " 14%|█▎        | 24/175 [00:07<00:44,  3.36it/s]\n",
            "100%|██████████| 6/6 [00:01<00:00,  4.14it/s]"
          ]
        },
        {
          "output_type": "stream",
          "name": "stdout",
          "text": [
            "\n",
            " EPOCH: 0304 -> val_accuracy: 0.8222, class_label_loss: 0.2409, domain_label_loss: 1.3976\n"
          ]
        },
        {
          "output_type": "stream",
          "name": "stderr",
          "text": [
            "\n",
            " 14%|█▎        | 24/175 [00:04<00:25,  5.87it/s]\n",
            "100%|██████████| 6/6 [00:00<00:00,  6.50it/s]"
          ]
        },
        {
          "output_type": "stream",
          "name": "stdout",
          "text": [
            "\n",
            " EPOCH: 0305 -> val_accuracy: 0.8454, class_label_loss: 0.1761, domain_label_loss: 1.3939\n"
          ]
        },
        {
          "output_type": "stream",
          "name": "stderr",
          "text": [
            "\n",
            " 14%|█▎        | 24/175 [00:04<00:30,  4.93it/s]\n",
            "100%|██████████| 6/6 [00:01<00:00,  3.85it/s]"
          ]
        },
        {
          "output_type": "stream",
          "name": "stdout",
          "text": [
            "\n",
            " EPOCH: 0306 -> val_accuracy: 0.8335, class_label_loss: 0.2023, domain_label_loss: 1.3867\n"
          ]
        },
        {
          "output_type": "stream",
          "name": "stderr",
          "text": [
            "\n",
            " 14%|█▎        | 24/175 [00:05<00:36,  4.14it/s]\n",
            "100%|██████████| 6/6 [00:00<00:00,  6.47it/s]"
          ]
        },
        {
          "output_type": "stream",
          "name": "stdout",
          "text": [
            "\n",
            " EPOCH: 0307 -> val_accuracy: 0.8459, class_label_loss: 0.2924, domain_label_loss: 1.3905\n"
          ]
        },
        {
          "output_type": "stream",
          "name": "stderr",
          "text": [
            "\n",
            " 14%|█▎        | 24/175 [00:04<00:25,  5.85it/s]\n",
            "100%|██████████| 6/6 [00:00<00:00,  6.25it/s]"
          ]
        },
        {
          "output_type": "stream",
          "name": "stdout",
          "text": [
            "\n",
            " EPOCH: 0308 -> val_accuracy: 0.8416, class_label_loss: 0.2343, domain_label_loss: 1.3695\n"
          ]
        },
        {
          "output_type": "stream",
          "name": "stderr",
          "text": [
            "\n",
            " 14%|█▎        | 24/175 [00:07<00:45,  3.30it/s]\n",
            "100%|██████████| 6/6 [00:01<00:00,  4.16it/s]"
          ]
        },
        {
          "output_type": "stream",
          "name": "stdout",
          "text": [
            "\n",
            " EPOCH: 0309 -> val_accuracy: 0.8387, class_label_loss: 0.2209, domain_label_loss: 1.3818\n"
          ]
        },
        {
          "output_type": "stream",
          "name": "stderr",
          "text": [
            "\n",
            " 14%|█▎        | 24/175 [00:04<00:26,  5.62it/s]\n",
            "100%|██████████| 6/6 [00:00<00:00,  6.41it/s]"
          ]
        },
        {
          "output_type": "stream",
          "name": "stdout",
          "text": [
            "\n",
            " EPOCH: 0310 -> val_accuracy: 0.8257, class_label_loss: 0.1582, domain_label_loss: 1.3660\n"
          ]
        },
        {
          "output_type": "stream",
          "name": "stderr",
          "text": [
            "\n",
            " 14%|█▎        | 24/175 [00:05<00:33,  4.49it/s]\n",
            "100%|██████████| 6/6 [00:01<00:00,  4.02it/s]"
          ]
        },
        {
          "output_type": "stream",
          "name": "stdout",
          "text": [
            "\n",
            " EPOCH: 0311 -> val_accuracy: 0.8551, class_label_loss: 0.1625, domain_label_loss: 1.3747\n"
          ]
        },
        {
          "output_type": "stream",
          "name": "stderr",
          "text": [
            "\n",
            " 14%|█▎        | 24/175 [00:05<00:35,  4.28it/s]\n",
            "100%|██████████| 6/6 [00:00<00:00,  6.10it/s]"
          ]
        },
        {
          "output_type": "stream",
          "name": "stdout",
          "text": [
            "\n",
            " EPOCH: 0312 -> val_accuracy: 0.8475, class_label_loss: 0.2034, domain_label_loss: 1.3863\n"
          ]
        },
        {
          "output_type": "stream",
          "name": "stderr",
          "text": [
            "\n",
            " 14%|█▎        | 24/175 [00:04<00:28,  5.22it/s]\n",
            "100%|██████████| 6/6 [00:01<00:00,  4.72it/s]"
          ]
        },
        {
          "output_type": "stream",
          "name": "stdout",
          "text": [
            "\n",
            " EPOCH: 0313 -> val_accuracy: 0.8426, class_label_loss: 0.1784, domain_label_loss: 1.3914\n"
          ]
        },
        {
          "output_type": "stream",
          "name": "stderr",
          "text": [
            "\n",
            " 14%|█▎        | 24/175 [00:07<00:48,  3.11it/s]\n",
            "100%|██████████| 6/6 [00:01<00:00,  5.89it/s]"
          ]
        },
        {
          "output_type": "stream",
          "name": "stdout",
          "text": [
            "\n",
            " EPOCH: 0314 -> val_accuracy: 0.8419, class_label_loss: 0.1602, domain_label_loss: 1.3870\n"
          ]
        },
        {
          "output_type": "stream",
          "name": "stderr",
          "text": [
            "\n",
            " 14%|█▎        | 24/175 [00:04<00:29,  5.05it/s]\n",
            "100%|██████████| 6/6 [00:01<00:00,  4.45it/s]"
          ]
        },
        {
          "output_type": "stream",
          "name": "stdout",
          "text": [
            "\n",
            " EPOCH: 0315 -> val_accuracy: 0.8429, class_label_loss: 0.1768, domain_label_loss: 1.3729\n"
          ]
        },
        {
          "output_type": "stream",
          "name": "stderr",
          "text": [
            "\n",
            " 14%|█▎        | 24/175 [00:09<00:57,  2.64it/s]\n",
            "100%|██████████| 6/6 [00:01<00:00,  3.25it/s]"
          ]
        },
        {
          "output_type": "stream",
          "name": "stdout",
          "text": [
            "\n",
            " EPOCH: 0316 -> val_accuracy: 0.8364, class_label_loss: 0.1593, domain_label_loss: 1.3916\n"
          ]
        },
        {
          "output_type": "stream",
          "name": "stderr",
          "text": [
            "\n",
            " 14%|█▎        | 24/175 [00:05<00:35,  4.26it/s]\n",
            "100%|██████████| 6/6 [00:01<00:00,  3.67it/s]"
          ]
        },
        {
          "output_type": "stream",
          "name": "stdout",
          "text": [
            "\n",
            " EPOCH: 0317 -> val_accuracy: 0.8317, class_label_loss: 0.1784, domain_label_loss: 1.3687\n"
          ]
        },
        {
          "output_type": "stream",
          "name": "stderr",
          "text": [
            "\n",
            " 14%|█▎        | 24/175 [00:07<00:44,  3.42it/s]\n",
            "100%|██████████| 6/6 [00:00<00:00,  6.38it/s]"
          ]
        },
        {
          "output_type": "stream",
          "name": "stdout",
          "text": [
            "\n",
            " EPOCH: 0318 -> val_accuracy: 0.8483, class_label_loss: 0.1541, domain_label_loss: 1.3957\n"
          ]
        },
        {
          "output_type": "stream",
          "name": "stderr",
          "text": [
            "\n",
            " 14%|█▎        | 24/175 [00:04<00:27,  5.55it/s]\n",
            "100%|██████████| 6/6 [00:01<00:00,  5.58it/s]"
          ]
        },
        {
          "output_type": "stream",
          "name": "stdout",
          "text": [
            "\n",
            " EPOCH: 0319 -> val_accuracy: 0.8460, class_label_loss: 0.1815, domain_label_loss: 1.3827\n"
          ]
        },
        {
          "output_type": "stream",
          "name": "stderr",
          "text": [
            "\n",
            " 14%|█▎        | 24/175 [00:07<00:44,  3.37it/s]\n",
            "100%|██████████| 6/6 [00:01<00:00,  3.94it/s]"
          ]
        },
        {
          "output_type": "stream",
          "name": "stdout",
          "text": [
            "\n",
            " EPOCH: 0320 -> val_accuracy: 0.8538, class_label_loss: 0.2519, domain_label_loss: 1.3781\n"
          ]
        },
        {
          "output_type": "stream",
          "name": "stderr",
          "text": [
            "\n",
            " 14%|█▎        | 24/175 [00:04<00:28,  5.26it/s]\n",
            "100%|██████████| 6/6 [00:00<00:00,  6.09it/s]"
          ]
        },
        {
          "output_type": "stream",
          "name": "stdout",
          "text": [
            "\n",
            " EPOCH: 0321 -> val_accuracy: 0.8429, class_label_loss: 0.2379, domain_label_loss: 1.3948\n"
          ]
        },
        {
          "output_type": "stream",
          "name": "stderr",
          "text": [
            "\n",
            " 14%|█▎        | 24/175 [00:04<00:28,  5.31it/s]\n",
            "100%|██████████| 6/6 [00:01<00:00,  3.94it/s]"
          ]
        },
        {
          "output_type": "stream",
          "name": "stdout",
          "text": [
            "\n",
            " EPOCH: 0322 -> val_accuracy: 0.8496, class_label_loss: 0.1627, domain_label_loss: 1.3678\n"
          ]
        },
        {
          "output_type": "stream",
          "name": "stderr",
          "text": [
            "\n",
            " 14%|█▎        | 24/175 [00:06<00:41,  3.60it/s]\n",
            "100%|██████████| 6/6 [00:00<00:00,  6.27it/s]\n"
          ]
        },
        {
          "output_type": "stream",
          "name": "stdout",
          "text": [
            "\n",
            " EPOCH: 0323 -> val_accuracy: 0.8582, class_label_loss: 0.2011, domain_label_loss: 1.3688\n",
            "--------------------Model saved--------------------\n"
          ]
        },
        {
          "output_type": "stream",
          "name": "stderr",
          "text": [
            " 14%|█▎        | 24/175 [00:04<00:25,  5.87it/s]\n",
            "100%|██████████| 6/6 [00:01<00:00,  5.94it/s]"
          ]
        },
        {
          "output_type": "stream",
          "name": "stdout",
          "text": [
            "\n",
            " EPOCH: 0324 -> val_accuracy: 0.8246, class_label_loss: 0.1684, domain_label_loss: 1.3815\n"
          ]
        },
        {
          "output_type": "stream",
          "name": "stderr",
          "text": [
            "\n",
            " 14%|█▎        | 24/175 [00:07<00:44,  3.42it/s]\n",
            "100%|██████████| 6/6 [00:01<00:00,  4.11it/s]"
          ]
        },
        {
          "output_type": "stream",
          "name": "stdout",
          "text": [
            "\n",
            " EPOCH: 0325 -> val_accuracy: 0.8346, class_label_loss: 0.1638, domain_label_loss: 1.3832\n"
          ]
        },
        {
          "output_type": "stream",
          "name": "stderr",
          "text": [
            "\n",
            " 14%|█▎        | 24/175 [00:04<00:26,  5.66it/s]\n",
            "100%|██████████| 6/6 [00:00<00:00,  6.29it/s]"
          ]
        },
        {
          "output_type": "stream",
          "name": "stdout",
          "text": [
            "\n",
            " EPOCH: 0326 -> val_accuracy: 0.8488, class_label_loss: 0.1539, domain_label_loss: 1.3929\n"
          ]
        },
        {
          "output_type": "stream",
          "name": "stderr",
          "text": [
            "\n",
            " 14%|█▎        | 24/175 [00:05<00:32,  4.66it/s]\n",
            "100%|██████████| 6/6 [00:01<00:00,  3.82it/s]"
          ]
        },
        {
          "output_type": "stream",
          "name": "stdout",
          "text": [
            "\n",
            " EPOCH: 0327 -> val_accuracy: 0.8392, class_label_loss: 0.1508, domain_label_loss: 1.3922\n"
          ]
        },
        {
          "output_type": "stream",
          "name": "stderr",
          "text": [
            "\n",
            " 14%|█▎        | 24/175 [00:05<00:35,  4.23it/s]\n",
            "100%|██████████| 6/6 [00:00<00:00,  6.02it/s]"
          ]
        },
        {
          "output_type": "stream",
          "name": "stdout",
          "text": [
            "\n",
            " EPOCH: 0328 -> val_accuracy: 0.8278, class_label_loss: 0.1855, domain_label_loss: 1.3713\n"
          ]
        },
        {
          "output_type": "stream",
          "name": "stderr",
          "text": [
            "\n",
            " 14%|█▎        | 24/175 [00:04<00:26,  5.61it/s]\n",
            "100%|██████████| 6/6 [00:00<00:00,  6.25it/s]"
          ]
        },
        {
          "output_type": "stream",
          "name": "stdout",
          "text": [
            "\n",
            " EPOCH: 0329 -> val_accuracy: 0.8419, class_label_loss: 0.2039, domain_label_loss: 1.3922\n"
          ]
        },
        {
          "output_type": "stream",
          "name": "stderr",
          "text": [
            "\n",
            " 14%|█▎        | 24/175 [00:07<00:44,  3.38it/s]\n",
            "100%|██████████| 6/6 [00:01<00:00,  4.29it/s]"
          ]
        },
        {
          "output_type": "stream",
          "name": "stdout",
          "text": [
            "\n",
            " EPOCH: 0330 -> val_accuracy: 0.8522, class_label_loss: 0.2023, domain_label_loss: 1.3585\n"
          ]
        },
        {
          "output_type": "stream",
          "name": "stderr",
          "text": [
            "\n",
            " 14%|█▎        | 24/175 [00:04<00:27,  5.52it/s]\n",
            "100%|██████████| 6/6 [00:00<00:00,  6.26it/s]"
          ]
        },
        {
          "output_type": "stream",
          "name": "stdout",
          "text": [
            "\n",
            " EPOCH: 0331 -> val_accuracy: 0.8419, class_label_loss: 0.2196, domain_label_loss: 1.3863\n"
          ]
        },
        {
          "output_type": "stream",
          "name": "stderr",
          "text": [
            "\n",
            " 14%|█▎        | 24/175 [00:05<00:37,  4.01it/s]\n",
            "100%|██████████| 6/6 [00:01<00:00,  3.69it/s]"
          ]
        },
        {
          "output_type": "stream",
          "name": "stdout",
          "text": [
            "\n",
            " EPOCH: 0332 -> val_accuracy: 0.8238, class_label_loss: 0.1742, domain_label_loss: 1.3800\n"
          ]
        },
        {
          "output_type": "stream",
          "name": "stderr",
          "text": [
            "\n",
            " 14%|█▎        | 24/175 [00:05<00:33,  4.53it/s]\n",
            "100%|██████████| 6/6 [00:00<00:00,  6.48it/s]"
          ]
        },
        {
          "output_type": "stream",
          "name": "stdout",
          "text": [
            "\n",
            " EPOCH: 0333 -> val_accuracy: 0.8358, class_label_loss: 0.1562, domain_label_loss: 1.3903\n"
          ]
        },
        {
          "output_type": "stream",
          "name": "stderr",
          "text": [
            "\n",
            " 14%|█▎        | 24/175 [00:04<00:28,  5.38it/s]\n",
            "100%|██████████| 6/6 [00:01<00:00,  4.25it/s]"
          ]
        },
        {
          "output_type": "stream",
          "name": "stdout",
          "text": [
            "\n",
            " EPOCH: 0334 -> val_accuracy: 0.8421, class_label_loss: 0.1803, domain_label_loss: 1.3866\n"
          ]
        },
        {
          "output_type": "stream",
          "name": "stderr",
          "text": [
            "\n",
            " 14%|█▎        | 24/175 [00:06<00:43,  3.45it/s]\n",
            "100%|██████████| 6/6 [00:00<00:00,  6.28it/s]"
          ]
        },
        {
          "output_type": "stream",
          "name": "stdout",
          "text": [
            "\n",
            " EPOCH: 0335 -> val_accuracy: 0.8275, class_label_loss: 0.2152, domain_label_loss: 1.3863\n"
          ]
        },
        {
          "output_type": "stream",
          "name": "stderr",
          "text": [
            "\n",
            " 14%|█▎        | 24/175 [00:04<00:26,  5.61it/s]\n",
            "100%|██████████| 6/6 [00:00<00:00,  6.29it/s]"
          ]
        },
        {
          "output_type": "stream",
          "name": "stdout",
          "text": [
            "\n",
            " EPOCH: 0336 -> val_accuracy: 0.8517, class_label_loss: 0.2017, domain_label_loss: 1.3700\n"
          ]
        },
        {
          "output_type": "stream",
          "name": "stderr",
          "text": [
            "\n",
            " 14%|█▎        | 24/175 [00:06<00:42,  3.55it/s]\n",
            "100%|██████████| 6/6 [00:01<00:00,  4.09it/s]"
          ]
        },
        {
          "output_type": "stream",
          "name": "stdout",
          "text": [
            "\n",
            " EPOCH: 0337 -> val_accuracy: 0.8379, class_label_loss: 0.2031, domain_label_loss: 1.3840\n"
          ]
        },
        {
          "output_type": "stream",
          "name": "stderr",
          "text": [
            "\n",
            " 14%|█▎        | 24/175 [00:04<00:29,  5.14it/s]\n",
            "100%|██████████| 6/6 [00:00<00:00,  6.26it/s]"
          ]
        },
        {
          "output_type": "stream",
          "name": "stdout",
          "text": [
            "\n",
            " EPOCH: 0338 -> val_accuracy: 0.8501, class_label_loss: 0.2445, domain_label_loss: 1.4044\n"
          ]
        },
        {
          "output_type": "stream",
          "name": "stderr",
          "text": [
            "\n",
            " 14%|█▎        | 24/175 [00:04<00:27,  5.46it/s]\n",
            "100%|██████████| 6/6 [00:01<00:00,  3.74it/s]"
          ]
        },
        {
          "output_type": "stream",
          "name": "stdout",
          "text": [
            "\n",
            " EPOCH: 0339 -> val_accuracy: 0.8494, class_label_loss: 0.1662, domain_label_loss: 1.3704\n"
          ]
        },
        {
          "output_type": "stream",
          "name": "stderr",
          "text": [
            "\n",
            " 14%|█▎        | 24/175 [00:06<00:39,  3.84it/s]\n",
            "100%|██████████| 6/6 [00:00<00:00,  6.29it/s]"
          ]
        },
        {
          "output_type": "stream",
          "name": "stdout",
          "text": [
            "\n",
            " EPOCH: 0340 -> val_accuracy: 0.8260, class_label_loss: 0.1740, domain_label_loss: 1.3844\n"
          ]
        },
        {
          "output_type": "stream",
          "name": "stderr",
          "text": [
            "\n",
            " 14%|█▎        | 24/175 [00:04<00:26,  5.69it/s]\n",
            "100%|██████████| 6/6 [00:01<00:00,  5.59it/s]"
          ]
        },
        {
          "output_type": "stream",
          "name": "stdout",
          "text": [
            "\n",
            " EPOCH: 0341 -> val_accuracy: 0.8403, class_label_loss: 0.2610, domain_label_loss: 1.3907\n"
          ]
        },
        {
          "output_type": "stream",
          "name": "stderr",
          "text": [
            "\n",
            " 14%|█▎        | 24/175 [00:06<00:43,  3.48it/s]\n",
            "100%|██████████| 6/6 [00:01<00:00,  3.86it/s]"
          ]
        },
        {
          "output_type": "stream",
          "name": "stdout",
          "text": [
            "\n",
            " EPOCH: 0342 -> val_accuracy: 0.8367, class_label_loss: 0.1900, domain_label_loss: 1.3875\n"
          ]
        },
        {
          "output_type": "stream",
          "name": "stderr",
          "text": [
            "\n",
            " 14%|█▎        | 24/175 [00:04<00:26,  5.61it/s]\n",
            "100%|██████████| 6/6 [00:00<00:00,  6.16it/s]"
          ]
        },
        {
          "output_type": "stream",
          "name": "stdout",
          "text": [
            "\n",
            " EPOCH: 0343 -> val_accuracy: 0.8468, class_label_loss: 0.2195, domain_label_loss: 1.3852\n"
          ]
        },
        {
          "output_type": "stream",
          "name": "stderr",
          "text": [
            "\n",
            " 14%|█▎        | 24/175 [00:04<00:31,  4.86it/s]\n",
            "100%|██████████| 6/6 [00:01<00:00,  3.65it/s]"
          ]
        },
        {
          "output_type": "stream",
          "name": "stdout",
          "text": [
            "\n",
            " EPOCH: 0344 -> val_accuracy: 0.8137, class_label_loss: 0.1472, domain_label_loss: 1.3610\n"
          ]
        },
        {
          "output_type": "stream",
          "name": "stderr",
          "text": [
            "\n",
            " 14%|█▎        | 24/175 [00:05<00:37,  4.03it/s]\n",
            "100%|██████████| 6/6 [00:00<00:00,  6.24it/s]"
          ]
        },
        {
          "output_type": "stream",
          "name": "stdout",
          "text": [
            "\n",
            " EPOCH: 0345 -> val_accuracy: 0.8411, class_label_loss: 0.1752, domain_label_loss: 1.3755\n"
          ]
        },
        {
          "output_type": "stream",
          "name": "stderr",
          "text": [
            "\n",
            " 14%|█▎        | 24/175 [00:04<00:25,  5.85it/s]\n",
            "100%|██████████| 6/6 [00:00<00:00,  6.26it/s]"
          ]
        },
        {
          "output_type": "stream",
          "name": "stdout",
          "text": [
            "\n",
            " EPOCH: 0346 -> val_accuracy: 0.8512, class_label_loss: 0.2061, domain_label_loss: 1.3755\n"
          ]
        },
        {
          "output_type": "stream",
          "name": "stderr",
          "text": [
            "\n",
            " 14%|█▎        | 24/175 [00:07<00:45,  3.30it/s]\n",
            "100%|██████████| 6/6 [00:01<00:00,  4.44it/s]"
          ]
        },
        {
          "output_type": "stream",
          "name": "stdout",
          "text": [
            "\n",
            " EPOCH: 0347 -> val_accuracy: 0.8469, class_label_loss: 0.2466, domain_label_loss: 1.3750\n"
          ]
        },
        {
          "output_type": "stream",
          "name": "stderr",
          "text": [
            "\n",
            " 14%|█▎        | 24/175 [00:04<00:26,  5.62it/s]\n",
            "100%|██████████| 6/6 [00:00<00:00,  6.39it/s]"
          ]
        },
        {
          "output_type": "stream",
          "name": "stdout",
          "text": [
            "\n",
            " EPOCH: 0348 -> val_accuracy: 0.8459, class_label_loss: 0.1498, domain_label_loss: 1.3672\n"
          ]
        },
        {
          "output_type": "stream",
          "name": "stderr",
          "text": [
            "\n",
            " 14%|█▎        | 24/175 [00:05<00:34,  4.32it/s]\n",
            "100%|██████████| 6/6 [00:01<00:00,  3.74it/s]"
          ]
        },
        {
          "output_type": "stream",
          "name": "stdout",
          "text": [
            "\n",
            " EPOCH: 0349 -> val_accuracy: 0.8413, class_label_loss: 0.1669, domain_label_loss: 1.3845\n"
          ]
        },
        {
          "output_type": "stream",
          "name": "stderr",
          "text": [
            "\n",
            " 14%|█▎        | 24/175 [00:05<00:33,  4.54it/s]\n",
            "100%|██████████| 6/6 [00:00<00:00,  6.10it/s]"
          ]
        },
        {
          "output_type": "stream",
          "name": "stdout",
          "text": [
            "\n",
            " EPOCH: 0350 -> val_accuracy: 0.8470, class_label_loss: 0.1895, domain_label_loss: 1.3910\n"
          ]
        },
        {
          "output_type": "stream",
          "name": "stderr",
          "text": [
            "\n"
          ]
        }
      ]
    }
  ]
}
