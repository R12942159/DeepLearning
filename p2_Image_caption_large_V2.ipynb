{
  "nbformat": 4,
  "nbformat_minor": 0,
  "metadata": {
    "colab": {
      "provenance": [],
      "gpuType": "T4",
      "include_colab_link": true
    },
    "kernelspec": {
      "name": "python3",
      "display_name": "Python 3"
    },
    "language_info": {
      "name": "python"
    },
    "accelerator": "GPU",
    "widgets": {
      "application/vnd.jupyter.widget-state+json": {
        "637f37909c834e88a3489091b5cd3580": {
          "model_module": "@jupyter-widgets/controls",
          "model_name": "HBoxModel",
          "model_module_version": "1.5.0",
          "state": {
            "_dom_classes": [],
            "_model_module": "@jupyter-widgets/controls",
            "_model_module_version": "1.5.0",
            "_model_name": "HBoxModel",
            "_view_count": null,
            "_view_module": "@jupyter-widgets/controls",
            "_view_module_version": "1.5.0",
            "_view_name": "HBoxView",
            "box_style": "",
            "children": [
              "IPY_MODEL_a56f0ab40dbd409aaa68b9eaa978b87b",
              "IPY_MODEL_76d34878d4fa45e594ec21c282f796f5",
              "IPY_MODEL_9c4ce5d1e5dc4589a6d98911f75bfa86"
            ],
            "layout": "IPY_MODEL_bd3a3247a6a64d6dad7e5ed4ec9b6d7f"
          }
        },
        "a56f0ab40dbd409aaa68b9eaa978b87b": {
          "model_module": "@jupyter-widgets/controls",
          "model_name": "HTMLModel",
          "model_module_version": "1.5.0",
          "state": {
            "_dom_classes": [],
            "_model_module": "@jupyter-widgets/controls",
            "_model_module_version": "1.5.0",
            "_model_name": "HTMLModel",
            "_view_count": null,
            "_view_module": "@jupyter-widgets/controls",
            "_view_module_version": "1.5.0",
            "_view_name": "HTMLView",
            "description": "",
            "description_tooltip": null,
            "layout": "IPY_MODEL_70aac27ae4bd4832a62af37e769cf6d4",
            "placeholder": "​",
            "style": "IPY_MODEL_d3e22ee89d7c4bcc88e5fe78d482d5be",
            "value": "model.safetensors: 100%"
          }
        },
        "76d34878d4fa45e594ec21c282f796f5": {
          "model_module": "@jupyter-widgets/controls",
          "model_name": "FloatProgressModel",
          "model_module_version": "1.5.0",
          "state": {
            "_dom_classes": [],
            "_model_module": "@jupyter-widgets/controls",
            "_model_module_version": "1.5.0",
            "_model_name": "FloatProgressModel",
            "_view_count": null,
            "_view_module": "@jupyter-widgets/controls",
            "_view_module_version": "1.5.0",
            "_view_name": "ProgressView",
            "bar_style": "success",
            "description": "",
            "description_tooltip": null,
            "layout": "IPY_MODEL_b7bba29872294ef1ac8cd2795fd2e841",
            "max": 1302790986,
            "min": 0,
            "orientation": "horizontal",
            "style": "IPY_MODEL_bc79dead60484abfb057ab23ee017eca",
            "value": 1302790986
          }
        },
        "9c4ce5d1e5dc4589a6d98911f75bfa86": {
          "model_module": "@jupyter-widgets/controls",
          "model_name": "HTMLModel",
          "model_module_version": "1.5.0",
          "state": {
            "_dom_classes": [],
            "_model_module": "@jupyter-widgets/controls",
            "_model_module_version": "1.5.0",
            "_model_name": "HTMLModel",
            "_view_count": null,
            "_view_module": "@jupyter-widgets/controls",
            "_view_module_version": "1.5.0",
            "_view_name": "HTMLView",
            "description": "",
            "description_tooltip": null,
            "layout": "IPY_MODEL_b594efaba3984f0c898064db8e616472",
            "placeholder": "​",
            "style": "IPY_MODEL_8cb4fa41eee04125b2280f2bc4caf7d3",
            "value": " 1.30G/1.30G [00:09&lt;00:00, 205MB/s]"
          }
        },
        "bd3a3247a6a64d6dad7e5ed4ec9b6d7f": {
          "model_module": "@jupyter-widgets/base",
          "model_name": "LayoutModel",
          "model_module_version": "1.2.0",
          "state": {
            "_model_module": "@jupyter-widgets/base",
            "_model_module_version": "1.2.0",
            "_model_name": "LayoutModel",
            "_view_count": null,
            "_view_module": "@jupyter-widgets/base",
            "_view_module_version": "1.2.0",
            "_view_name": "LayoutView",
            "align_content": null,
            "align_items": null,
            "align_self": null,
            "border": null,
            "bottom": null,
            "display": null,
            "flex": null,
            "flex_flow": null,
            "grid_area": null,
            "grid_auto_columns": null,
            "grid_auto_flow": null,
            "grid_auto_rows": null,
            "grid_column": null,
            "grid_gap": null,
            "grid_row": null,
            "grid_template_areas": null,
            "grid_template_columns": null,
            "grid_template_rows": null,
            "height": null,
            "justify_content": null,
            "justify_items": null,
            "left": null,
            "margin": null,
            "max_height": null,
            "max_width": null,
            "min_height": null,
            "min_width": null,
            "object_fit": null,
            "object_position": null,
            "order": null,
            "overflow": null,
            "overflow_x": null,
            "overflow_y": null,
            "padding": null,
            "right": null,
            "top": null,
            "visibility": null,
            "width": null
          }
        },
        "70aac27ae4bd4832a62af37e769cf6d4": {
          "model_module": "@jupyter-widgets/base",
          "model_name": "LayoutModel",
          "model_module_version": "1.2.0",
          "state": {
            "_model_module": "@jupyter-widgets/base",
            "_model_module_version": "1.2.0",
            "_model_name": "LayoutModel",
            "_view_count": null,
            "_view_module": "@jupyter-widgets/base",
            "_view_module_version": "1.2.0",
            "_view_name": "LayoutView",
            "align_content": null,
            "align_items": null,
            "align_self": null,
            "border": null,
            "bottom": null,
            "display": null,
            "flex": null,
            "flex_flow": null,
            "grid_area": null,
            "grid_auto_columns": null,
            "grid_auto_flow": null,
            "grid_auto_rows": null,
            "grid_column": null,
            "grid_gap": null,
            "grid_row": null,
            "grid_template_areas": null,
            "grid_template_columns": null,
            "grid_template_rows": null,
            "height": null,
            "justify_content": null,
            "justify_items": null,
            "left": null,
            "margin": null,
            "max_height": null,
            "max_width": null,
            "min_height": null,
            "min_width": null,
            "object_fit": null,
            "object_position": null,
            "order": null,
            "overflow": null,
            "overflow_x": null,
            "overflow_y": null,
            "padding": null,
            "right": null,
            "top": null,
            "visibility": null,
            "width": null
          }
        },
        "d3e22ee89d7c4bcc88e5fe78d482d5be": {
          "model_module": "@jupyter-widgets/controls",
          "model_name": "DescriptionStyleModel",
          "model_module_version": "1.5.0",
          "state": {
            "_model_module": "@jupyter-widgets/controls",
            "_model_module_version": "1.5.0",
            "_model_name": "DescriptionStyleModel",
            "_view_count": null,
            "_view_module": "@jupyter-widgets/base",
            "_view_module_version": "1.2.0",
            "_view_name": "StyleView",
            "description_width": ""
          }
        },
        "b7bba29872294ef1ac8cd2795fd2e841": {
          "model_module": "@jupyter-widgets/base",
          "model_name": "LayoutModel",
          "model_module_version": "1.2.0",
          "state": {
            "_model_module": "@jupyter-widgets/base",
            "_model_module_version": "1.2.0",
            "_model_name": "LayoutModel",
            "_view_count": null,
            "_view_module": "@jupyter-widgets/base",
            "_view_module_version": "1.2.0",
            "_view_name": "LayoutView",
            "align_content": null,
            "align_items": null,
            "align_self": null,
            "border": null,
            "bottom": null,
            "display": null,
            "flex": null,
            "flex_flow": null,
            "grid_area": null,
            "grid_auto_columns": null,
            "grid_auto_flow": null,
            "grid_auto_rows": null,
            "grid_column": null,
            "grid_gap": null,
            "grid_row": null,
            "grid_template_areas": null,
            "grid_template_columns": null,
            "grid_template_rows": null,
            "height": null,
            "justify_content": null,
            "justify_items": null,
            "left": null,
            "margin": null,
            "max_height": null,
            "max_width": null,
            "min_height": null,
            "min_width": null,
            "object_fit": null,
            "object_position": null,
            "order": null,
            "overflow": null,
            "overflow_x": null,
            "overflow_y": null,
            "padding": null,
            "right": null,
            "top": null,
            "visibility": null,
            "width": null
          }
        },
        "bc79dead60484abfb057ab23ee017eca": {
          "model_module": "@jupyter-widgets/controls",
          "model_name": "ProgressStyleModel",
          "model_module_version": "1.5.0",
          "state": {
            "_model_module": "@jupyter-widgets/controls",
            "_model_module_version": "1.5.0",
            "_model_name": "ProgressStyleModel",
            "_view_count": null,
            "_view_module": "@jupyter-widgets/base",
            "_view_module_version": "1.2.0",
            "_view_name": "StyleView",
            "bar_color": null,
            "description_width": ""
          }
        },
        "b594efaba3984f0c898064db8e616472": {
          "model_module": "@jupyter-widgets/base",
          "model_name": "LayoutModel",
          "model_module_version": "1.2.0",
          "state": {
            "_model_module": "@jupyter-widgets/base",
            "_model_module_version": "1.2.0",
            "_model_name": "LayoutModel",
            "_view_count": null,
            "_view_module": "@jupyter-widgets/base",
            "_view_module_version": "1.2.0",
            "_view_name": "LayoutView",
            "align_content": null,
            "align_items": null,
            "align_self": null,
            "border": null,
            "bottom": null,
            "display": null,
            "flex": null,
            "flex_flow": null,
            "grid_area": null,
            "grid_auto_columns": null,
            "grid_auto_flow": null,
            "grid_auto_rows": null,
            "grid_column": null,
            "grid_gap": null,
            "grid_row": null,
            "grid_template_areas": null,
            "grid_template_columns": null,
            "grid_template_rows": null,
            "height": null,
            "justify_content": null,
            "justify_items": null,
            "left": null,
            "margin": null,
            "max_height": null,
            "max_width": null,
            "min_height": null,
            "min_width": null,
            "object_fit": null,
            "object_position": null,
            "order": null,
            "overflow": null,
            "overflow_x": null,
            "overflow_y": null,
            "padding": null,
            "right": null,
            "top": null,
            "visibility": null,
            "width": null
          }
        },
        "8cb4fa41eee04125b2280f2bc4caf7d3": {
          "model_module": "@jupyter-widgets/controls",
          "model_name": "DescriptionStyleModel",
          "model_module_version": "1.5.0",
          "state": {
            "_model_module": "@jupyter-widgets/controls",
            "_model_module_version": "1.5.0",
            "_model_name": "DescriptionStyleModel",
            "_view_count": null,
            "_view_module": "@jupyter-widgets/base",
            "_view_module_version": "1.2.0",
            "_view_name": "StyleView",
            "description_width": ""
          }
        }
      }
    }
  },
  "cells": [
    {
      "cell_type": "markdown",
      "metadata": {
        "id": "view-in-github",
        "colab_type": "text"
      },
      "source": [
        "<a href=\"https://colab.research.google.com/github/R12942159/NTU_DLCV/blob/Hw3/p2_Image_caption_large_V2.ipynb\" target=\"_parent\"><img src=\"https://colab.research.google.com/assets/colab-badge.svg\" alt=\"Open In Colab\"/></a>"
      ]
    },
    {
      "cell_type": "code",
      "source": [
        "!pip install timm"
      ],
      "metadata": {
        "id": "Xb59e3Ej2GPf"
      },
      "execution_count": null,
      "outputs": []
    },
    {
      "cell_type": "code",
      "source": [
        "import os\n",
        "import re\n",
        "import math\n",
        "import timm\n",
        "import json\n",
        "import torch\n",
        "import collections\n",
        "import numpy as np\n",
        "import torch.nn.functional as F\n",
        "import torchvision.transforms as tr\n",
        "\n",
        "from PIL import Image\n",
        "from tqdm import tqdm\n",
        "from pathlib import Path\n",
        "from torch import nn, Tensor\n",
        "from torch.utils.data import DataLoader"
      ],
      "metadata": {
        "id": "SBi1aSqPhMuD"
      },
      "execution_count": 2,
      "outputs": []
    },
    {
      "cell_type": "code",
      "source": [
        "device = \"cuda\" if torch.cuda.is_available() else \"cpu\"\n",
        "print(f\"Using: {device}\")"
      ],
      "metadata": {
        "colab": {
          "base_uri": "https://localhost:8080/"
        },
        "id": "8Eg4VzCElm83",
        "outputId": "38fe822d-eae9-433b-a81c-5f324bcf087b"
      },
      "execution_count": 3,
      "outputs": [
        {
          "output_type": "stream",
          "name": "stdout",
          "text": [
            "Using: cuda\n"
          ]
        }
      ]
    },
    {
      "cell_type": "code",
      "source": [
        "from google.colab import drive\n",
        "drive.mount('/content/drive')"
      ],
      "metadata": {
        "id": "UVlQEx1nX6xD",
        "colab": {
          "base_uri": "https://localhost:8080/"
        },
        "outputId": "2436c95e-4227-4811-eaaf-42e2acdcf965"
      },
      "execution_count": 4,
      "outputs": [
        {
          "output_type": "stream",
          "name": "stdout",
          "text": [
            "Mounted at /content/drive\n"
          ]
        }
      ]
    },
    {
      "cell_type": "markdown",
      "source": [
        "#### Download dataset and unzip zip file."
      ],
      "metadata": {
        "id": "Q22ZX1_VhKiK"
      }
    },
    {
      "cell_type": "code",
      "execution_count": null,
      "metadata": {
        "id": "5DG6GOxEHD9l"
      },
      "outputs": [],
      "source": [
        "!gdown 1SUiRrG6zQVtyrVSVh9hOBq5_fX-oV2Lh -O hw3_data.zip # 11rP6KmR5Qwjhx0rfag0b5TZGBTRuPtQR\n",
        "!unzip /content/hw3_data.zip"
      ]
    },
    {
      "cell_type": "markdown",
      "source": [
        "#### Tokenizer ('<|endoftext|>', 50256) -> 250dim"
      ],
      "metadata": {
        "id": "sIMyluP4OcRk"
      }
    },
    {
      "cell_type": "code",
      "source": [
        "class BPETokenizer:\n",
        "\n",
        "    def __init__(self, encoder_file, vocab_file):\n",
        "        with open(encoder_file, 'r', encoding='utf-8') as f:\n",
        "            self.encoder = json.load(f)\n",
        "        self.decoder = {v:k for k,v in self.encoder.items()}\n",
        "        with open(vocab_file, 'r', encoding='utf-8') as f:\n",
        "            vocab = f.read().split('\\n')[1:-1]\n",
        "        self.bpe_ranks = {tuple(line.split()): i for i, line in enumerate(vocab)}\n",
        "        assert len(self.encoder) == 50257 and len(self.bpe_ranks) == 49999 # len(self.bpe_ranks) == 50000\n",
        "        bs = list(range(33, 127)) + list(range(161, 256))\n",
        "        xs = list(range(0, 33)) + list(range(127, 161))\n",
        "        cs = bs[:] + [2**8 + i for i in range(len(xs))]\n",
        "        self.byte_encoder = dict(zip(bs + xs, [chr(n) for n in cs]))\n",
        "        self.byte_decoder = {v:k for k, v in self.byte_encoder.items()}\n",
        "\n",
        "    def encode(self, text, allowed_special=None):\n",
        "        tokens = re.findall(r\"\"\"<\\|endoftext\\|>|'s|'t|'re|'ve|'m|'ll|'d| ?\"\"\" +\n",
        "                            r\"\"\"\\w+| ?\\d+| ?[^\\s\\w\\d]+|\\s+(?!\\S)|\\s+\"\"\", text, re.UNICODE)\n",
        "        def translate(token):\n",
        "            if token == '<|endoftext|>':\n",
        "                assert allowed_special and token in allowed_special\n",
        "                return [token]\n",
        "            word = tuple(''.join(self.byte_encoder[byte] for byte in token.encode('utf-8')))\n",
        "            while len(word) != 1:\n",
        "                pairs = set((word[i], word[i+1]) for i in range(len(word)-1))\n",
        "                bigram = min(pairs, key = lambda pair: self.bpe_ranks.get(pair, float('inf')))\n",
        "                if bigram not in self.bpe_ranks:\n",
        "                    break\n",
        "                a, b = bigram\n",
        "                new_word = []\n",
        "                i = 0\n",
        "                while i < len(word):\n",
        "                    j = word.index(a, i) if a in word[i:] else len(word)\n",
        "                    new_word.extend(word[i:j])\n",
        "                    i = j\n",
        "                    if i < len(word):\n",
        "                        j = 2 if i < len(word)-1 and word[i] == a and word[i+1] == b else 1\n",
        "                        new_word.append(a+b if j == 2 else word[i])\n",
        "                        i += j\n",
        "                word = tuple(new_word)\n",
        "            return word\n",
        "        return [self.encoder[_] for token in tokens for _ in translate(token)]\n",
        "\n",
        "    def decode(self, tokens):\n",
        "        tokens = [self.decoder[token] for token in tokens]\n",
        "        buffer = bytearray([self.byte_decoder[c] for c in ''.join(tokens)])\n",
        "        return buffer.decode('utf-8', errors='replace')"
      ],
      "metadata": {
        "id": "gjc6poP1OdBM"
      },
      "execution_count": 6,
      "outputs": []
    },
    {
      "cell_type": "code",
      "source": [
        "encoding = BPETokenizer('/content/encoder.json', '/content/vocab.bpe')\n",
        "# prompt = 'a kitchen with a sink and many cooking machines and a pot of food'\n",
        "\n",
        "# text_embedding_len = 250\n",
        "\n",
        "# context = encoding.encode(prompt)\n",
        "# context = [50256] + context + [50256]*(text_embedding_len - len(context) - 1)\n",
        "# # context\n",
        "# encoding.decode(context)"
      ],
      "metadata": {
        "id": "6aeCuLyJOmhP"
      },
      "execution_count": 7,
      "outputs": []
    },
    {
      "cell_type": "markdown",
      "source": [
        "#### Define function"
      ],
      "metadata": {
        "id": "L0JYrzNqE0mC"
      }
    },
    {
      "cell_type": "code",
      "source": [
        "def json_load(json_path: str):\n",
        "    with open(json_path, 'r', encoding='utf-8') as file:\n",
        "        data = json.load(file)\n",
        "    return data"
      ],
      "metadata": {
        "id": "z5xRsOP3h96o"
      },
      "execution_count": 8,
      "outputs": []
    },
    {
      "cell_type": "code",
      "source": [
        "def caption_with_id(json_path: str) -> list:\n",
        "    with open(json_path, 'r', encoding='utf-8') as file:\n",
        "        json_data = json.load(file)\n",
        "    data = [{'caption': row['caption'], 'image_id': row['image_id']} for row in json_data['annotations']]\n",
        "    return data"
      ],
      "metadata": {
        "id": "vVR-onWwmbCI"
      },
      "execution_count": 9,
      "outputs": []
    },
    {
      "cell_type": "code",
      "source": [
        "def id2file_name(json_path: str) -> dict:\n",
        "    with open(json_path, 'r', encoding='utf-8') as file:\n",
        "        json_data = json.load(file)\n",
        "    data = {row['id']: row['file_name'] for row in json_data['images']}\n",
        "    return data"
      ],
      "metadata": {
        "id": "rWW6y2Q1o_t-"
      },
      "execution_count": 10,
      "outputs": []
    },
    {
      "cell_type": "code",
      "source": [
        "encoder_joson_path = '/content/encoder.json'\n",
        "vocab_bpe_path = '/content/vocab.bpe'\n",
        "def collate_fn(batch, tokenizer=BPETokenizer(encoder_joson_path, vocab_bpe_path)):\n",
        "    # Get the individual elements of the batch\n",
        "    images = [item['img'] for item in batch]\n",
        "    captions = [item['caption'] for item in batch]\n",
        "    filenames = [item['filename'] for item in batch]\n",
        "\n",
        "    # Tokenize captions\n",
        "    tokenized_captions = [tokenizer.encode(caption) for caption in captions]\n",
        "\n",
        "    # Pad the vector length into stop token to dimension 250\n",
        "    text_len = 250 # text_embedding_len\n",
        "    tokenized_captions_train = [\n",
        "        [50256] + caption + [50256] * (text_len - len(caption) - 1) for caption in tokenized_captions\n",
        "    ]\n",
        "    tokenized_captions_inf = [\n",
        "        caption + [50256] + [-100] * (text_len - len(caption) - 1) for caption in tokenized_captions\n",
        "    ]\n",
        "\n",
        "    # Convert tokenized captions to PyTorch tensors\n",
        "    tokenized_captions_train = [torch.tensor(caption) for caption in tokenized_captions_train]\n",
        "    tokenized_captions_inf = [torch.tensor(caption) for caption in tokenized_captions_inf]\n",
        "\n",
        "    # Create a new batch with tokenized captions\n",
        "    tokenized_batch = {\n",
        "        'img': torch.stack(images, dim=0),\n",
        "        'tokenized_captions_train': torch.stack(tokenized_captions_train, dim=0),\n",
        "        'filename': filenames,\n",
        "        'tokenized_captions_inf': torch.stack(tokenized_captions_inf, dim=0),\n",
        "    }\n",
        "\n",
        "    return tokenized_batch"
      ],
      "metadata": {
        "id": "ZhTVXCheOYm6"
      },
      "execution_count": 11,
      "outputs": []
    },
    {
      "cell_type": "markdown",
      "source": [
        "#### Build Dataset"
      ],
      "metadata": {
        "id": "7TWHXZgugWOg"
      }
    },
    {
      "cell_type": "code",
      "source": [
        "class ImgCaptionDataset(torch.utils.data.Dataset):\n",
        "    def __init__(self, img_dir, json_path, transform) -> None:\n",
        "        super(ImgCaptionDataset, self).__init__()\n",
        "        self.img_dir = img_dir\n",
        "        self.transform = transform\n",
        "\n",
        "        # Connect caption -> image_id -> file_name\n",
        "        self.caption_with_id = caption_with_id(json_path)\n",
        "        self.id2file_name = id2file_name(json_path)\n",
        "    def __len__(self) -> int:\n",
        "        return len(self.caption_with_id)\n",
        "\n",
        "    def __getitem__(self, idx):\n",
        "        caption_id = self.caption_with_id[idx]\n",
        "        file_name = self.id2file_name[caption_id['image_id']]\n",
        "        img = Image.open(os.path.join(self.img_dir, file_name)).convert('RGB')\n",
        "        img = self.transform(img)\n",
        "        return {'img': img, 'caption': caption_id['caption'], 'filename': os.path.splitext(file_name)[0]}"
      ],
      "metadata": {
        "id": "qJq6lmbBlbaM"
      },
      "execution_count": 12,
      "outputs": []
    },
    {
      "cell_type": "markdown",
      "source": [
        "#### Build Dataloader"
      ],
      "metadata": {
        "id": "vMk7sUiwHEPo"
      }
    },
    {
      "cell_type": "code",
      "source": [
        "train_ds = ImgCaptionDataset(\n",
        "    img_dir='/content/hw3_data/p2_data/images/train',\n",
        "    json_path='/content/hw3_data/p2_data/train.json',\n",
        "    transform=tr.Compose([\n",
        "        tr.Resize(224),\n",
        "        tr.CenterCrop(224),\n",
        "        tr.ToTensor(),\n",
        "        tr.Normalize([0.485, 0.456, 0.406], [0.229, 0.224, 0.225]),\n",
        "    ]),\n",
        ")\n",
        "val_ds = ImgCaptionDataset(\n",
        "    img_dir='/content/hw3_data/p2_data/images/val',\n",
        "    json_path='/content/hw3_data/p2_data/val.json',\n",
        "    transform=tr.Compose([\n",
        "        tr.Resize(224),\n",
        "        tr.CenterCrop(224),\n",
        "        tr.ToTensor(),\n",
        "        tr.Normalize([0.485, 0.456, 0.406], [0.229, 0.224, 0.225]),\n",
        "    ]),\n",
        ")\n",
        "\n",
        "train_loader = DataLoader(\n",
        "    train_ds,\n",
        "    batch_size=16,\n",
        "    collate_fn=collate_fn,\n",
        "    shuffle=True,\n",
        "    num_workers=4,\n",
        ")\n",
        "val_loader = DataLoader(\n",
        "    val_ds,\n",
        "    batch_size=1,\n",
        "    collate_fn=collate_fn,\n",
        "    shuffle=True,\n",
        "    num_workers=4,\n",
        ")"
      ],
      "metadata": {
        "id": "MMGD07vrHGiB",
        "colab": {
          "base_uri": "https://localhost:8080/"
        },
        "outputId": "dec91692-7d37-4bda-884e-af109c7795fa"
      },
      "execution_count": 13,
      "outputs": [
        {
          "output_type": "stream",
          "name": "stderr",
          "text": [
            "/usr/local/lib/python3.10/dist-packages/torch/utils/data/dataloader.py:557: UserWarning: This DataLoader will create 4 worker processes in total. Our suggested max number of worker in current system is 2, which is smaller than what this DataLoader is going to create. Please be aware that excessive worker creation might get DataLoader running slow or even freeze, lower the worker number to avoid potential slowness/freeze if necessary.\n",
            "  warnings.warn(_create_warning_msg(\n"
          ]
        }
      ]
    },
    {
      "cell_type": "markdown",
      "source": [
        "#### Config"
      ],
      "metadata": {
        "id": "Fx9an6CwEx-Z"
      }
    },
    {
      "cell_type": "code",
      "source": [
        "class Config:\n",
        "\n",
        "    def __init__(self, checkpoint=None):\n",
        "        self.n_layer = 12\n",
        "        self.n_head = 12\n",
        "        self.n_embd = 768\n",
        "        self.vocab_size = 50257\n",
        "        self.block_size = 1024\n",
        "        self.checkpoint = checkpoint"
      ],
      "metadata": {
        "id": "x39qAcvyEzgi"
      },
      "execution_count": 14,
      "outputs": []
    },
    {
      "cell_type": "code",
      "source": [
        "cfg = Config(checkpoint='/content/hw3_data/p2_data/decoder_model.bin')"
      ],
      "metadata": {
        "id": "lLwivdnDE5eq"
      },
      "execution_count": 15,
      "outputs": []
    },
    {
      "cell_type": "markdown",
      "source": [
        "#### timm's ViT encoder"
      ],
      "metadata": {
        "id": "HK4W-qWpE1eg"
      }
    },
    {
      "cell_type": "code",
      "source": [
        "# encoder = timm.create_model('vit_large_patch16_224_in21k', pretrained=True)"
      ],
      "metadata": {
        "id": "mw9GuLaaE24G",
        "outputId": "41ce1185-af7f-4f73-ebfd-84ee4a1e3f9f",
        "colab": {
          "base_uri": "https://localhost:8080/",
          "height": 103,
          "referenced_widgets": [
            "637f37909c834e88a3489091b5cd3580",
            "a56f0ab40dbd409aaa68b9eaa978b87b",
            "76d34878d4fa45e594ec21c282f796f5",
            "9c4ce5d1e5dc4589a6d98911f75bfa86",
            "bd3a3247a6a64d6dad7e5ed4ec9b6d7f",
            "70aac27ae4bd4832a62af37e769cf6d4",
            "d3e22ee89d7c4bcc88e5fe78d482d5be",
            "b7bba29872294ef1ac8cd2795fd2e841",
            "bc79dead60484abfb057ab23ee017eca",
            "b594efaba3984f0c898064db8e616472",
            "8cb4fa41eee04125b2280f2bc4caf7d3"
          ]
        }
      },
      "execution_count": 16,
      "outputs": [
        {
          "output_type": "stream",
          "name": "stderr",
          "text": [
            "/usr/local/lib/python3.10/dist-packages/timm/models/_factory.py:117: UserWarning: Mapping deprecated model name vit_large_patch16_224_in21k to current vit_large_patch16_224.augreg_in21k.\n",
            "  model = create_fn(\n"
          ]
        },
        {
          "output_type": "display_data",
          "data": {
            "text/plain": [
              "model.safetensors:   0%|          | 0.00/1.30G [00:00<?, ?B/s]"
            ],
            "application/vnd.jupyter.widget-view+json": {
              "version_major": 2,
              "version_minor": 0,
              "model_id": "637f37909c834e88a3489091b5cd3580"
            }
          },
          "metadata": {}
        }
      ]
    },
    {
      "cell_type": "code",
      "source": [
        "# for batch in train_loader:\n",
        "#     img = batch['img']\n",
        "#     break"
      ],
      "metadata": {
        "id": "tYBaNf1TE_s2"
      },
      "execution_count": 17,
      "outputs": []
    },
    {
      "cell_type": "code",
      "source": [
        "# def forward_features(self, x: torch.Tensor) -> torch.Tensor:\n",
        "#         x = self.patch_embed(x)\n",
        "#         x = self._pos_embed(x)\n",
        "#         x = self.patch_drop(x)\n",
        "#         x = self.norm_pre(x)\n",
        "# #\n",
        "#         x = self.blocks(x)\n",
        "#         for i, block in enumerate(self.blocks()):\n",
        "\n",
        "#           print(i)\n",
        "#         x = self.norm(x)\n",
        "#         return x"
      ],
      "metadata": {
        "id": "hSFseT7xmJEk"
      },
      "execution_count": 18,
      "outputs": []
    },
    {
      "cell_type": "code",
      "source": [
        "# with torch.no_grad():\n",
        "#     encoder_out = encoder.patch_embed(img)\n",
        "#     encoder_out = encoder._pos_embed(encoder_out)\n",
        "#     encoder_out = encoder.patch_drop(encoder_out)\n",
        "#     encoder_out = encoder.norm_pre(encoder_out)\n",
        "#     for i, block in enumerate(encoder.blocks):\n",
        "#         if i < 23:\n",
        "#             encoder_out = block(encoder_out)\n",
        "#             print(i)\n",
        "#     encoder_out = encoder.norm(encoder_out)"
      ],
      "metadata": {
        "id": "WP6PDoTWFBWs"
      },
      "execution_count": null,
      "outputs": []
    },
    {
      "cell_type": "code",
      "source": [
        "# encoder_out.size()"
      ],
      "metadata": {
        "id": "AKn08vpIJB-_",
        "outputId": "8bd7cbc8-9d10-4d84-d7ec-4c290017bc29",
        "colab": {
          "base_uri": "https://localhost:8080/"
        }
      },
      "execution_count": 21,
      "outputs": [
        {
          "output_type": "execute_result",
          "data": {
            "text/plain": [
              "torch.Size([16, 197, 1024])"
            ]
          },
          "metadata": {},
          "execution_count": 21
        }
      ]
    },
    {
      "cell_type": "markdown",
      "source": [
        "#### decoder"
      ],
      "metadata": {
        "id": "w1QQ3sdc8GRo"
      }
    },
    {
      "cell_type": "code",
      "source": [
        "class Attention(nn.Module):\n",
        "\n",
        "    def __init__(self, cfg):\n",
        "        super().__init__()\n",
        "        self.c_attn = nn.Linear(cfg.n_embd, 3 * cfg.n_embd)\n",
        "        self.c_proj = nn.Linear(cfg.n_embd, cfg.n_embd)\n",
        "        self.n_head = cfg.n_head\n",
        "        self.n_embd = cfg.n_embd\n",
        "        size = cfg.block_size\n",
        "        self.register_buffer('bias', torch.tril(torch.ones(size, size)).view(1, 1, size, size))\n",
        "\n",
        "    def forward(self, x):\n",
        "        B, T, C = x.size() # batch, context, embedding\n",
        "        q, k, v  = self.c_attn(x).split(self.n_embd, dim=2)\n",
        "        k = k.view(B, T, self.n_head, C // self.n_head).transpose(1, 2)\n",
        "        q = q.view(B, T, self.n_head, C // self.n_head).transpose(1, 2)\n",
        "        v = v.view(B, T, self.n_head, C // self.n_head).transpose(1, 2)\n",
        "        att = (q @ k.transpose(-2, -1)) * (1.0 / math.sqrt(k.size(-1)))\n",
        "        att = att.masked_fill(self.bias[:,:,:T,:T] == 0, float('-inf'))\n",
        "        att = F.softmax(att, dim=-1)\n",
        "        return self.c_proj((att @ v).transpose(1, 2).contiguous().view(B, T, C))\n",
        "\n",
        "class CrossAttention(nn.Module):\n",
        "\n",
        "    def __init__(self, cfg):\n",
        "        super().__init__()\n",
        "        self.multihead_attn = nn.MultiheadAttention(cfg.n_embd, cfg.n_head, batch_first=True)\n",
        "        self.ln_3 = nn.LayerNorm(cfg.n_embd) # add\n",
        "        self.ln_4 = nn.LayerNorm(cfg.n_embd) # add\n",
        "        self.ln_5 = nn.LayerNorm(cfg.n_embd) # add\n",
        "\n",
        "    def forward(self, query, encoder_out):\n",
        "        \"\"\"\n",
        "        Q is the source from the decoder, K, V are the sources from the encoder.\n",
        "        Q: (N, L, Eq), where L is the target embedding dim, Eq is embed_dim and batch_first=True.\n",
        "        {K, V}: (N, L, E{k,v}), where L is the source embedding dim, E{k,v} is {k,v}_dim and batch_first=True.\n",
        "        \"\"\"\n",
        "        query = self.ln_3(query)\n",
        "        encoder_out1 = self.ln_4(encoder_out)\n",
        "        encoder_out2 = self.ln_5(encoder_out)\n",
        "        attn_output, attn_output_weights = self.multihead_attn(query, encoder_out1, encoder_out2)\n",
        "        return attn_output\n",
        "\n",
        "class Block(nn.Module):\n",
        "\n",
        "    def __init__(self, cfg):\n",
        "        super().__init__()\n",
        "        self.ln_1 = nn.LayerNorm(cfg.n_embd)\n",
        "        self.ln_2 = nn.LayerNorm(cfg.n_embd)\n",
        "        # self.ln_3 = nn.LayerNorm(cfg.n_embd) # add\n",
        "        # self.ln_4 = nn.LayerNorm(cfg.n_embd) # add\n",
        "        self.attn = Attention(cfg)\n",
        "        self.crs_attn = CrossAttention(cfg) # add\n",
        "        self.mlp = nn.Sequential(collections.OrderedDict([\n",
        "            ('c_fc', nn.Linear(cfg.n_embd, 4 * cfg.n_embd)),\n",
        "            ('act', nn.GELU(approximate='tanh')),\n",
        "            ('c_proj', nn.Linear(4 * cfg.n_embd, cfg.n_embd))\n",
        "        ]))\n",
        "\n",
        "    def forward(self, x, encoder_out) -> Tensor: # add\n",
        "        x = x + self.attn(self.ln_1(x))\n",
        "        # x = x + self.crs_attn(self.ln_3(x), self.ln_4(encoder_out)) # add\n",
        "        x = x + self.crs_attn(x, encoder_out) # add\n",
        "        x = x + self.mlp(self.ln_2(x))\n",
        "        return x\n",
        "\n",
        "class Decoder(nn.Module):\n",
        "\n",
        "    def __init__(self, cfg):\n",
        "        super().__init__()\n",
        "        self.cfg = cfg\n",
        "        self.block_size = cfg.block_size\n",
        "        self.transformer = nn.ModuleDict(dict(\n",
        "            wte = nn.Embedding(cfg.vocab_size, cfg.n_embd), # 文字投影\n",
        "            wpe = nn.Embedding(cfg.block_size, cfg.n_embd), # position\n",
        "            h = nn.Sequential(*[Block(cfg) for _ in range(cfg.n_layer)]), # Nx\n",
        "            ln_f = nn.LayerNorm(cfg.n_embd)\n",
        "        ))\n",
        "        self.lm_head = nn.Linear(cfg.n_embd, cfg.vocab_size, bias=False)\n",
        "        self.transformer.wte.weight = self.lm_head.weight\n",
        "        # timm's ViT encoder (vit_base_patch16_224_in21k,)\n",
        "        self.encoder = timm.create_model('vit_large_patch16_224.augreg_in21k', pretrained=True) # vit_large_patch16_224_in21k\n",
        "        self.linear = nn.Linear(1024, cfg.n_embd) # [16, 197, 1024]\n",
        "        # load checkpoint\n",
        "        if self.cfg.checkpoint is not None:\n",
        "            state_dict = torch.load(self.cfg.checkpoint)\n",
        "            transposed = [ '.c_attn.weight', '.c_fc.weight', '.c_proj.weight' ]\n",
        "            for key, value in state_dict.items():\n",
        "                if any(key.endswith(w) for w in transposed):\n",
        "                    state_dict[key] = value.t()\n",
        "            self.transformer.load_state_dict(state_dict, strict=False)\n",
        "\n",
        "    def forward(self, x: Tensor, img: Tensor) -> Tensor: # add\n",
        "        x = torch.narrow(x, 1, 0, min(x.size(1), self.block_size))\n",
        "        pos = torch.arange(x.size()[1], dtype=torch.long, device=x.device).unsqueeze(0)\n",
        "        x = self.transformer.wte(x) + self.transformer.wpe(pos)\n",
        "        # encoder veatures\n",
        "        # encoder_out = self.encoder.forward_features(img)\n",
        "        encoder_out = self.encoder.patch_embed(img)\n",
        "        encoder_out = self.encoder._pos_embed(encoder_out)\n",
        "        encoder_out = self.encoder.patch_drop(encoder_out)\n",
        "        encoder_out = self.encoder.norm_pre(encoder_out)\n",
        "        for i, block in enumerate(self.encoder.blocks):\n",
        "            if i < 23:\n",
        "                encoder_out = block(encoder_out)\n",
        "        encoder_out = self.encoder.norm(encoder_out)\n",
        "        encoder_out = self.linear(encoder_out)\n",
        "        for block in self.transformer.h:\n",
        "            x = block(x, encoder_out)\n",
        "        x = self.lm_head(self.transformer.ln_f(x)) # add\n",
        "        return x"
      ],
      "metadata": {
        "id": "TYyI157L8JB7"
      },
      "execution_count": 28,
      "outputs": []
    },
    {
      "cell_type": "markdown",
      "source": [
        "#### Decoding test"
      ],
      "metadata": {
        "id": "Nymq6RjQw0Ik"
      }
    },
    {
      "cell_type": "code",
      "source": [
        "# decoder = Decoder(cfg)"
      ],
      "metadata": {
        "id": "W7ItaTQyFM3y"
      },
      "execution_count": null,
      "outputs": []
    },
    {
      "cell_type": "code",
      "source": [
        "# for batch in train_loader:\n",
        "#     img = batch['img']\n",
        "#     tokenized_captions_train = batch['tokenized_captions_train']\n",
        "#     tokenized_captions_inf = batch['tokenized_captions_inf']\n",
        "#     break"
      ],
      "metadata": {
        "id": "8iZRZyyLVqTa"
      },
      "execution_count": null,
      "outputs": []
    },
    {
      "cell_type": "code",
      "source": [
        "# pred = decoder(tokenized_captions_train, img)"
      ],
      "metadata": {
        "id": "C9WhUVX3XUNA"
      },
      "execution_count": null,
      "outputs": []
    },
    {
      "cell_type": "code",
      "source": [
        "# pred.size(), tokenized_captions_train.size(), img.size(), tokenized_captions_inf.size()"
      ],
      "metadata": {
        "id": "-VDTQFh1jIkn"
      },
      "execution_count": null,
      "outputs": []
    },
    {
      "cell_type": "code",
      "source": [
        "# encoding.decode(pred[0].argmax(dim=1).tolist())"
      ],
      "metadata": {
        "id": "9rVBzjCBAMC6"
      },
      "execution_count": null,
      "outputs": []
    },
    {
      "cell_type": "code",
      "source": [
        "# loss_fn = nn.CrossEntropyLoss() # ignore_index=50256\n",
        "\n",
        "# pred = pred.reshape(-1, 50257)\n",
        "# tokenized_captions_inf = tokenized_captions_inf.reshape(-1)\n",
        "# loss_fn(pred, tokenized_captions_inf)"
      ],
      "metadata": {
        "id": "mZVS0SXWk7Qh"
      },
      "execution_count": null,
      "outputs": []
    },
    {
      "cell_type": "markdown",
      "source": [
        "#### Training"
      ],
      "metadata": {
        "id": "rFEjEGPIj285"
      }
    },
    {
      "cell_type": "code",
      "source": [
        "def training(dataloader, model, loss_fn, optimizer):\n",
        "\n",
        "    size = len(dataloader.dataset) # number of samples\n",
        "    num_batches = len(dataloader) # batches per epoch\n",
        "    epoch_loss = 0\n",
        "\n",
        "    model.train() # to training mode\n",
        "    for batch_i, data in enumerate(tqdm(dataloader)):\n",
        "        data['img'] = data['img'].to(device, non_blocking=True)\n",
        "        data['tokenized_captions_train'] = data['tokenized_captions_train'].to(device, non_blocking=True)\n",
        "        data['tokenized_captions_inf'] = data['tokenized_captions_inf'].to(device, non_blocking=True)\n",
        "\n",
        "        # zero the parameter gradients\n",
        "        optimizer.zero_grad()\n",
        "\n",
        "        # Compute prediction loss\n",
        "        pred = model(data['tokenized_captions_train'], data['img'])\n",
        "        # reshape to (B, C)\n",
        "        data['tokenized_captions_inf'] = data['tokenized_captions_inf'].reshape(-1)\n",
        "        pred = pred.reshape(-1, 50257)\n",
        "        loss = loss_fn(pred, data['tokenized_captions_inf']) # tokenized captions inf\n",
        "\n",
        "        # Optimization by gradients\n",
        "        loss.backward() # backpropagation to compute gradients\n",
        "        optimizer.step() # update model params\n",
        "\n",
        "        # write to logs\n",
        "        epoch_loss += loss.item() # tensor -> python value\n",
        "    return epoch_loss/num_batches"
      ],
      "metadata": {
        "id": "xH8HOqOGqM47"
      },
      "execution_count": 23,
      "outputs": []
    },
    {
      "cell_type": "code",
      "source": [
        "def inference(dataloader, model):\n",
        "    evaluation_dict = {}\n",
        "    for data in tqdm(dataloader):\n",
        "        img = data['img'].to(device)\n",
        "        file_name = data['filename']\n",
        "        start_token = torch.tensor([[50256]]).to(device)\n",
        "\n",
        "        for j in range(250):\n",
        "            with torch.no_grad():\n",
        "                pred = model(start_token, img)\n",
        "\n",
        "            out_token = pred.argmax(dim=2)[0][-1]\n",
        "            start_token = torch.cat((start_token, out_token.unsqueeze(0).unsqueeze(0)), dim=1)\n",
        "            end_token = torch.sum(start_token[0] == 50256).item()\n",
        "            if end_token == 2:\n",
        "                pred_token = start_token[start_token != 50256]\n",
        "                pred_token = pred_token.tolist()\n",
        "                pred_caption = encoding.decode(pred_token)\n",
        "                break\n",
        "\n",
        "        evaluation_dict[file_name[0]] = pred_caption\n",
        "        print('\\n', 'file name: ', file_name[0], '\\caption: ', evaluation_dict[file_name[0]])\n",
        "\n",
        "    json_string = json.dumps(evaluation_dict, indent=2)  # The indent parameter is optional and adds indentation for better readability\n",
        "    with open(f'/content/drive/MyDrive/NTU_DLCV/Hw3/p2_output_large/large_lr0.0005_epoch{epoch}_output.json', 'w') as json_file:\n",
        "        json_file.write(json_string)\n",
        "    print(f'---------- large params Saved ----------')"
      ],
      "metadata": {
        "id": "MP4Fgy2Bk0Hq"
      },
      "execution_count": 33,
      "outputs": []
    },
    {
      "cell_type": "markdown",
      "source": [
        "##### Freeze parameters"
      ],
      "metadata": {
        "id": "rK5s8nX8uSAR"
      }
    },
    {
      "cell_type": "code",
      "source": [
        "model = Decoder(cfg).to(device)\n",
        "\n",
        "# Freeze parameters\n",
        "for name, param in model.named_parameters():\n",
        "    param.requires_grad=False\n",
        "\n",
        "# Unfreeze some parameters\n",
        "for name, params in model.named_parameters():\n",
        "    params.requires_grad = True if 'crs_attn' in name else params.requires_grad\n",
        "\n",
        "for params in model.linear.parameters():\n",
        "    params.requires_grad = True\n",
        "\n",
        "trainable_weights = [name for name, param in model.named_parameters() if param.requires_grad == True]\n",
        "print('Total params: ', sum(params.numel() for params in model.parameters() if params.requires_grad))\n",
        "\n",
        "# list for True\n",
        "for name, param in model.named_parameters():\n",
        "    print(f\"{name}: {param.requires_grad}\")"
      ],
      "metadata": {
        "id": "vUlm2roufCIn"
      },
      "execution_count": null,
      "outputs": []
    },
    {
      "cell_type": "markdown",
      "source": [
        "##### Training"
      ],
      "metadata": {
        "id": "s332-TZhKjq1"
      }
    },
    {
      "cell_type": "code",
      "source": [
        "EPOCHS = 5\n",
        "lr=5e-4\n",
        "loss_fn = nn.CrossEntropyLoss()\n",
        "optimizer = torch.optim.Adam(model.parameters(), lr=lr)\n",
        "\n",
        "# logs\n",
        "logs = {\n",
        "    'train_loss': []\n",
        "}\n",
        "\n",
        "for epoch in tqdm(range(EPOCHS)):\n",
        "    train_loss = training(train_loader, model, loss_fn, optimizer)\n",
        "    inference(val_loader, model)\n",
        "\n",
        "    print(f'EPOCH: {epoch:04d} \\train_loss: {train_loss:.4f}')\n",
        "\n",
        "    logs['train_loss'].append(train_loss)\n",
        "\n",
        "    # Save model\n",
        "    save_weights = {k: v for k, v in model.state_dict().items() if k in trainable_weights}\n",
        "    torch.save(save_weights, f'/content/drive/MyDrive/NTU_DLCV/Hw3/p2_ckpt_large/large_lr{lr}_epoch{epoch}_{train_loss:.4f}.pth')\n",
        "    print(f'---------- epoch{epoch}: Model Save ----------')"
      ],
      "metadata": {
        "id": "DEguocg8j4qa"
      },
      "execution_count": null,
      "outputs": []
    },
    {
      "cell_type": "markdown",
      "source": [
        "#### inference"
      ],
      "metadata": {
        "id": "K4qEtiUZcjqO"
      }
    },
    {
      "cell_type": "code",
      "source": [
        "# !gdown 1UxILFtGRu8uWnkFKliUwrbKre_u84WvF -O trainable_weights0\n",
        "# !gdown 1-4LS5WGhXkrkkThaEzGBCFVUZz8mZqa8 -O trainable_weights1\n",
        "# !gdown 1-D6DX6pkUuWH5mpTsq-dyLUv6rdeYk3T -O trainable_weights2\n",
        "!gdown 1-Lb8oPWHfijBx0HtxmMGLq4UNfw4sekr -O trainable_weights3\n",
        "!gdown 1-MLqlovIk4GGsORHiQbJdhg-cgqdoLbt -O trainable_weights4"
      ],
      "metadata": {
        "id": "DqSfWMRZcvbr"
      },
      "execution_count": null,
      "outputs": []
    },
    {
      "cell_type": "code",
      "source": [
        "for i in range(3, 5):\n",
        "    model = Decoder(cfg).to(device)\n",
        "    model.load_state_dict(torch.load(f'/content/trainable_weights{i}', map_location=device), strict=False)\n",
        "    print(f'---------- trainable weights {i} is using ----------')\n",
        "\n",
        "    evaluation_dict = {}\n",
        "    for data in tqdm(val_loader):\n",
        "        img = data['img'].to(device)\n",
        "        file_name = data['filename']\n",
        "        start_token = torch.tensor([[50256]]).to(device)\n",
        "\n",
        "        for j in range(250):\n",
        "            with torch.no_grad():\n",
        "                pred = model(start_token, img)\n",
        "\n",
        "            out_token = pred.argmax(dim=2)[0][-1]\n",
        "            start_token = torch.cat((start_token, out_token.unsqueeze(0).unsqueeze(0)), dim=1)\n",
        "            end_token = torch.sum(start_token[0] == 50256).item()\n",
        "            if end_token == 2:\n",
        "                pred_token = start_token[start_token != 50256]\n",
        "                pred_token = pred_token.tolist()\n",
        "                pred_caption = encoding.decode(pred_token)\n",
        "                break\n",
        "\n",
        "        evaluation_dict[file_name[0]] = pred_caption\n",
        "        print('\\n', 'file name: ', file_name[0], '\\caption: ', evaluation_dict[file_name[0]])\n",
        "\n",
        "    json_string = json.dumps(evaluation_dict, indent=2)  # The indent parameter is optional and adds indentation for better readability\n",
        "    with open(f'/content/drive/MyDrive/NTU_DLCV/Hw3/p2_output_large/large_epoch{i}_output.json', 'w') as json_file:\n",
        "        json_file.write(json_string)\n",
        "    print(f'---------- Epoch{i} large params Saved ----------')"
      ],
      "metadata": {
        "id": "GnNNQ6q4GO9e"
      },
      "execution_count": null,
      "outputs": []
    },
    {
      "cell_type": "code",
      "source": [],
      "metadata": {
        "id": "rym4xyAFL1qS"
      },
      "execution_count": null,
      "outputs": []
    }
  ]
}