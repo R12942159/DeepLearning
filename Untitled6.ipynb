{
  "nbformat": 4,
  "nbformat_minor": 0,
  "metadata": {
    "colab": {
      "provenance": [],
      "gpuType": "T4",
      "authorship_tag": "ABX9TyOiICiBxGhWgW2z6w97tioJ",
      "include_colab_link": true
    },
    "kernelspec": {
      "name": "python3",
      "display_name": "Python 3"
    },
    "language_info": {
      "name": "python"
    },
    "accelerator": "GPU"
  },
  "cells": [
    {
      "cell_type": "markdown",
      "metadata": {
        "id": "view-in-github",
        "colab_type": "text"
      },
      "source": [
        "<a href=\"https://colab.research.google.com/github/R12942159/NTU_DLCV/blob/Final/Untitled6.ipynb\" target=\"_parent\"><img src=\"https://colab.research.google.com/assets/colab-badge.svg\" alt=\"Open In Colab\"/></a>"
      ]
    },
    {
      "cell_type": "code",
      "source": [
        "!pip install timm"
      ],
      "metadata": {
        "id": "jBBXV-tY1ZPq"
      },
      "execution_count": null,
      "outputs": []
    },
    {
      "cell_type": "code",
      "execution_count": 2,
      "metadata": {
        "colab": {
          "base_uri": "https://localhost:8080/"
        },
        "id": "s-sZEnk8wLLh",
        "outputId": "704b70c2-c1d0-43c7-8408-d3ea987f2ff1"
      },
      "outputs": [
        {
          "output_type": "stream",
          "name": "stdout",
          "text": [
            "Downloading...\n",
            "From: https://drive.google.com/uc?id=1g909BuUzdN8V1CeX628k0sS4xdjCBUH6\n",
            "To: /content/llama.zip\n",
            "100% 12.4G/12.4G [01:20<00:00, 154MB/s]\n"
          ]
        }
      ],
      "source": [
        "!gdown 1Y79tsJoHxQ-kKho5ljh2j9QFYYNeECFQ -O llama.zip"
      ]
    },
    {
      "cell_type": "code",
      "source": [
        "!unzip ./llama.zip\n",
        "!rm llama.zip"
      ],
      "metadata": {
        "id": "EtfmnD4k3dlP"
      },
      "execution_count": null,
      "outputs": []
    },
    {
      "cell_type": "code",
      "source": [
        "!unzip /content/DLCV-Fall-2023-Final-1-rats.zip\n",
        "!rm DLCV-Fall-2023-Final-1-rats.zip"
      ],
      "metadata": {
        "id": "IafRXBOOzKWE"
      },
      "execution_count": null,
      "outputs": []
    },
    {
      "cell_type": "code",
      "source": [
        "!gdown 1MWPslINi3BtRpm_H6MNb7BNHdirb1lQ4 -O data.zip\n",
        "!unzip ./data.zip\n",
        "!rm data.zip"
      ],
      "metadata": {
        "id": "UC5FH9PEW0VV"
      },
      "execution_count": null,
      "outputs": []
    },
    {
      "cell_type": "code",
      "source": [
        "cd DLCV-Fall-2023-Final-1-rats"
      ],
      "metadata": {
        "colab": {
          "base_uri": "https://localhost:8080/"
        },
        "id": "GY6ScqOP1K8P",
        "outputId": "04ae57f7-b324-4137-ef14-3971a0d04d50"
      },
      "execution_count": 13,
      "outputs": [
        {
          "output_type": "stream",
          "name": "stdout",
          "text": [
            "/content/DLCV-Fall-2023-Final-1-rats\n"
          ]
        }
      ]
    },
    {
      "cell_type": "code",
      "source": [
        "mkdir pretrained"
      ],
      "metadata": {
        "id": "6a8-gwmQ8YCZ"
      },
      "execution_count": 8,
      "outputs": []
    },
    {
      "cell_type": "code",
      "source": [
        "mkdir -p checkpoint/rats_w_description"
      ],
      "metadata": {
        "id": "XHxdOS5W9NpC"
      },
      "execution_count": 10,
      "outputs": []
    },
    {
      "cell_type": "code",
      "source": [
        "cd checkpoint/rats_w_description"
      ],
      "metadata": {
        "id": "BuGdW6OJIHN_"
      },
      "execution_count": null,
      "outputs": []
    },
    {
      "cell_type": "code",
      "source": [
        "!gdown 1VDcITcL5lsvgKr5xssDHq9hgP2auQ9YI -O checkpoint_best.pth"
      ],
      "metadata": {
        "id": "5p49qLpuIAmZ"
      },
      "execution_count": null,
      "outputs": []
    },
    {
      "cell_type": "code",
      "source": [
        "cd .."
      ],
      "metadata": {
        "colab": {
          "base_uri": "https://localhost:8080/"
        },
        "id": "ZkeByNf_ICj6",
        "outputId": "19d68440-9df9-40fb-9220-4932c29d9056"
      },
      "execution_count": 18,
      "outputs": [
        {
          "output_type": "stream",
          "name": "stdout",
          "text": [
            "/content/DLCV-Fall-2023-Final-1-rats\n"
          ]
        }
      ]
    },
    {
      "cell_type": "code",
      "source": [
        "!bash setup.sh"
      ],
      "metadata": {
        "id": "jpUF-YVc1FaZ"
      },
      "execution_count": null,
      "outputs": []
    },
    {
      "cell_type": "code",
      "source": [
        "!bash inference.sh"
      ],
      "metadata": {
        "id": "S542GxLb1JTg"
      },
      "execution_count": null,
      "outputs": []
    },
    {
      "cell_type": "code",
      "source": [
        "!nvidia-smi"
      ],
      "metadata": {
        "colab": {
          "base_uri": "https://localhost:8080/"
        },
        "id": "Ux6tcW8iJAeS",
        "outputId": "6595a1c0-8d27-4530-b5bf-1995012f236a"
      },
      "execution_count": 23,
      "outputs": [
        {
          "output_type": "stream",
          "name": "stdout",
          "text": [
            "Sat Dec 23 14:46:51 2023       \n",
            "+---------------------------------------------------------------------------------------+\n",
            "| NVIDIA-SMI 535.104.05             Driver Version: 535.104.05   CUDA Version: 12.2     |\n",
            "|-----------------------------------------+----------------------+----------------------+\n",
            "| GPU  Name                 Persistence-M | Bus-Id        Disp.A | Volatile Uncorr. ECC |\n",
            "| Fan  Temp   Perf          Pwr:Usage/Cap |         Memory-Usage | GPU-Util  Compute M. |\n",
            "|                                         |                      |               MIG M. |\n",
            "|=========================================+======================+======================|\n",
            "|   0  Tesla T4                       Off | 00000000:00:04.0 Off |                    0 |\n",
            "| N/A   33C    P8               9W /  70W |      0MiB / 15360MiB |      0%      Default |\n",
            "|                                         |                      |                  N/A |\n",
            "+-----------------------------------------+----------------------+----------------------+\n",
            "                                                                                         \n",
            "+---------------------------------------------------------------------------------------+\n",
            "| Processes:                                                                            |\n",
            "|  GPU   GI   CI        PID   Type   Process name                            GPU Memory |\n",
            "|        ID   ID                                                             Usage      |\n",
            "|=======================================================================================|\n",
            "|  No running processes found                                                           |\n",
            "+---------------------------------------------------------------------------------------+\n"
          ]
        }
      ]
    }
  ]
}