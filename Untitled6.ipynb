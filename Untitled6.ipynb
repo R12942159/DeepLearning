{
  "nbformat": 4,
  "nbformat_minor": 0,
  "metadata": {
    "colab": {
      "provenance": [],
      "gpuType": "T4",
      "authorship_tag": "ABX9TyNi39lHPiXyLkYYmGySwbbQ",
      "include_colab_link": true
    },
    "kernelspec": {
      "name": "python3",
      "display_name": "Python 3"
    },
    "language_info": {
      "name": "python"
    },
    "accelerator": "GPU"
  },
  "cells": [
    {
      "cell_type": "markdown",
      "metadata": {
        "id": "view-in-github",
        "colab_type": "text"
      },
      "source": [
        "<a href=\"https://colab.research.google.com/github/R12942159/NTU_DLCV/blob/Final/Untitled6.ipynb\" target=\"_parent\"><img src=\"https://colab.research.google.com/assets/colab-badge.svg\" alt=\"Open In Colab\"/></a>"
      ]
    },
    {
      "cell_type": "code",
      "source": [
        "!pip install timm"
      ],
      "metadata": {
        "id": "jBBXV-tY1ZPq"
      },
      "execution_count": null,
      "outputs": []
    },
    {
      "cell_type": "code",
      "execution_count": 3,
      "metadata": {
        "colab": {
          "base_uri": "https://localhost:8080/"
        },
        "id": "s-sZEnk8wLLh",
        "outputId": "3355da53-953f-49a6-e867-4f4ade6521f2"
      },
      "outputs": [
        {
          "output_type": "stream",
          "name": "stdout",
          "text": [
            "Downloading...\n",
            "From: https://drive.google.com/uc?id=1Y79tsJoHxQ-kKho5ljh2j9QFYYNeECFQ\n",
            "To: /content/llama.zip\n",
            "100% 12.4G/12.4G [02:36<00:00, 79.7MB/s]\n"
          ]
        }
      ],
      "source": [
        "!gdown 1Y79tsJoHxQ-kKho5ljh2j9QFYYNeECFQ -O llama.zip\n",
        "!unzip ./llama.zip\n",
        "!rm llama.zip"
      ]
    },
    {
      "cell_type": "code",
      "source": [
        "!unzip /content/DLCV-Fall-2023-Final-1-rats.zip\n",
        "!rm DLCV-Fall-2023-Final-1-rats.zip"
      ],
      "metadata": {
        "id": "IafRXBOOzKWE"
      },
      "execution_count": null,
      "outputs": []
    },
    {
      "cell_type": "code",
      "source": [
        "!gdown 1MWPslINi3BtRpm_H6MNb7BNHdirb1lQ4 -O data.zip\n",
        "!unzip ./data.zip\n",
        "!rm data.zip"
      ],
      "metadata": {
        "id": "UC5FH9PEW0VV"
      },
      "execution_count": null,
      "outputs": []
    },
    {
      "cell_type": "code",
      "source": [
        "cd DLCV-Fall-2023-Final-1-rats"
      ],
      "metadata": {
        "colab": {
          "base_uri": "https://localhost:8080/"
        },
        "id": "GY6ScqOP1K8P",
        "outputId": "465035bd-624d-4528-b72e-ba0269cc6399"
      },
      "execution_count": 8,
      "outputs": [
        {
          "output_type": "stream",
          "name": "stdout",
          "text": [
            "/content/DLCV-Fall-2023-Final-1-rats\n"
          ]
        }
      ]
    },
    {
      "cell_type": "code",
      "source": [
        "mkdir pretrained"
      ],
      "metadata": {
        "id": "6a8-gwmQ8YCZ"
      },
      "execution_count": 9,
      "outputs": []
    },
    {
      "cell_type": "code",
      "source": [
        "mkdir -p checkpoint/rats_w_description"
      ],
      "metadata": {
        "id": "XHxdOS5W9NpC"
      },
      "execution_count": 10,
      "outputs": []
    },
    {
      "cell_type": "code",
      "source": [
        "cd checkpoint/rats_w_description"
      ],
      "metadata": {
        "colab": {
          "base_uri": "https://localhost:8080/"
        },
        "id": "BuGdW6OJIHN_",
        "outputId": "bd76199b-885b-4e3a-975d-d92f3e2ea84a"
      },
      "execution_count": 11,
      "outputs": [
        {
          "output_type": "stream",
          "name": "stdout",
          "text": [
            "/content/DLCV-Fall-2023-Final-1-rats/checkpoint/rats_w_description\n"
          ]
        }
      ]
    },
    {
      "cell_type": "code",
      "source": [
        "!gdown 1VDcITcL5lsvgKr5xssDHq9hgP2auQ9YI -O checkpoint_best.pth"
      ],
      "metadata": {
        "colab": {
          "base_uri": "https://localhost:8080/"
        },
        "id": "5p49qLpuIAmZ",
        "outputId": "a4ae9249-3db2-4996-d752-1db064ebcd65"
      },
      "execution_count": 12,
      "outputs": [
        {
          "output_type": "stream",
          "name": "stdout",
          "text": [
            "Downloading...\n",
            "From: https://drive.google.com/uc?id=1VDcITcL5lsvgKr5xssDHq9hgP2auQ9YI\n",
            "To: /content/DLCV-Fall-2023-Final-1-rats/checkpoint/rats_w_description/checkpoint_best.pth\n",
            "100% 54.1M/54.1M [00:00<00:00, 72.6MB/s]\n"
          ]
        }
      ]
    },
    {
      "cell_type": "code",
      "source": [
        "cd .."
      ],
      "metadata": {
        "colab": {
          "base_uri": "https://localhost:8080/"
        },
        "id": "ZkeByNf_ICj6",
        "outputId": "7679c3a5-b177-408d-a5d5-2044179f9788"
      },
      "execution_count": 14,
      "outputs": [
        {
          "output_type": "stream",
          "name": "stdout",
          "text": [
            "/content/DLCV-Fall-2023-Final-1-rats\n"
          ]
        }
      ]
    },
    {
      "cell_type": "code",
      "source": [
        "!bash setup.sh"
      ],
      "metadata": {
        "id": "jpUF-YVc1FaZ"
      },
      "execution_count": null,
      "outputs": []
    },
    {
      "cell_type": "code",
      "source": [
        "!bash inference.sh"
      ],
      "metadata": {
        "colab": {
          "base_uri": "https://localhost:8080/"
        },
        "id": "S542GxLb1JTg",
        "outputId": "e2793f0b-626b-4dc0-9306-a5fbf355705b"
      },
      "execution_count": 17,
      "outputs": [
        {
          "output_type": "stream",
          "name": "stdout",
          "text": [
            "Not using distributed mode\n",
            "[15:12:36.705028] job dir: /content/DLCV-Fall-2023-Final-1-rats\n",
            "[15:12:36.705142] Namespace(batch_size=1,\n",
            "epochs=400,\n",
            "accum_iter=1,\n",
            "llama_model_path='./pretrained/llama/',\n",
            "model='7B',\n",
            "adapter_layer=32,\n",
            "adapter_len=10,\n",
            "max_seq_len=256,\n",
            "max_feats=10,\n",
            "dataset='star',\n",
            "output_dir='./output/rats_w_description',\n",
            "device='cuda',\n",
            "seed=0,\n",
            "resume='./checkpoint/rats_w_description/checkpoint_best.pth',\n",
            "start_epoch=0,\n",
            "num_workers=2,\n",
            "pin_mem=True,\n",
            "world_size=1,\n",
            "local_rank=-1,\n",
            "dist_on_itp=False,\n",
            "dist_url='env://',\n",
            "vaq=False,\n",
            "qav=False,\n",
            "vqd=False,\n",
            "bias=3.0,\n",
            "tau=100.0,\n",
            "sub=False,\n",
            "split='val',\n",
            "distributed=False)\n",
            "[15:12:42.772220] Num val data: 7098\n",
            "[15:12:42.785386] Using model: 7B\n",
            "[15:12:42.785870] loading from pretrained/llama/7B/consolidated.00.pth\n",
            "inference.sh: line 5:  3623 Killed                  python3 inference.py --model 7B --resume ./checkpoint/rats_w_description/checkpoint_best.pth --max_seq_len 256 --output_dir ./output/rats_w_description --split val\n"
          ]
        }
      ]
    }
  ]
}