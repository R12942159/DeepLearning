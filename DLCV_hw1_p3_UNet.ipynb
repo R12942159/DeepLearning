{
  "nbformat": 4,
  "nbformat_minor": 0,
  "metadata": {
    "colab": {
      "provenance": [],
      "authorship_tag": "ABX9TyNKOMax10B3AggHL6Ihfwpn",
      "include_colab_link": true
    },
    "kernelspec": {
      "name": "python3",
      "display_name": "Python 3"
    },
    "language_info": {
      "name": "python"
    }
  },
  "cells": [
    {
      "cell_type": "markdown",
      "metadata": {
        "id": "view-in-github",
        "colab_type": "text"
      },
      "source": [
        "<a href=\"https://colab.research.google.com/github/R12942159/DeepLearning/blob/main/DLCV_hw1_p3_UNet.ipynb\" target=\"_parent\"><img src=\"https://colab.research.google.com/assets/colab-badge.svg\" alt=\"Open In Colab\"/></a>"
      ]
    },
    {
      "cell_type": "code",
      "execution_count": 1,
      "metadata": {
        "colab": {
          "base_uri": "https://localhost:8080/"
        },
        "id": "HMREX7Nj-26P",
        "outputId": "c47efaa3-2ea5-432c-afcd-dc26cf18ce92"
      },
      "outputs": [
        {
          "output_type": "stream",
          "name": "stdout",
          "text": [
            "Mounted at /content/drive\n"
          ]
        }
      ],
      "source": [
        "from google.colab import drive\n",
        "drive.mount('/content/drive')"
      ]
    },
    {
      "cell_type": "code",
      "source": [
        "import torch\n",
        "\n",
        "\n",
        "# Get cuda from GPU device for training.\n",
        "device = \"cuda\" if torch.cuda.is_available() else \"cpu\"\n",
        "print(f\"Using: {device}\")"
      ],
      "metadata": {
        "colab": {
          "base_uri": "https://localhost:8080/"
        },
        "id": "3gVLhAXB_A9l",
        "outputId": "f4ddbc6d-89c0-4fa2-b62b-977ee3a5ccf0"
      },
      "execution_count": 2,
      "outputs": [
        {
          "output_type": "stream",
          "name": "stdout",
          "text": [
            "Using: cpu\n"
          ]
        }
      ]
    },
    {
      "cell_type": "code",
      "source": [
        "import os\n",
        "\n",
        "\n",
        "train_paths = '/content/drive/MyDrive/NTU_DLCV/p3_data/train'\n",
        "img_paths_train = sorted([os.path.join(train_paths, i) for i in os.listdir(train_paths) if i.endswith('.jpg')])\n",
        "mask_paths_train = sorted([os.path.join(train_paths, i) for i in os.listdir(train_paths) if i.endswith('.png')])\n",
        "\n",
        "val_paths = '/content/drive/MyDrive/NTU_DLCV/p3_data/validation'\n",
        "img_paths_val = sorted([os.path.join(val_paths, i) for i in os.listdir(val_paths) if i.endswith('.jpg')])\n",
        "mask_paths_val = sorted([os.path.join(val_paths, i) for i in os.listdir(val_paths) if i.endswith('.png')])"
      ],
      "metadata": {
        "id": "uBF4gtki_MZ3"
      },
      "execution_count": 3,
      "outputs": []
    },
    {
      "cell_type": "code",
      "source": [
        "import torch\n",
        "import random\n",
        "import numpy as np\n",
        "from PIL import Image\n",
        "from copy import deepcopy\n",
        "from torchvision.transforms.functional import hflip, vflip, to_tensor, normalize\n",
        "\n",
        "\n",
        "class LandDataset(torch.utils.data.Dataset):\n",
        "    def __init__(self, img_paths, mask_paths, transform, mode, augment=False):\n",
        "        self.img_paths = img_paths\n",
        "        self.mask_paths = mask_paths\n",
        "        self.transform = transform\n",
        "        self.mode = mode\n",
        "\n",
        "        # Data Augmentation\n",
        "        def original(x): return x\n",
        "        if augment:\n",
        "            self.augment = [original, hflip, vflip]\n",
        "        else:\n",
        "            self.augment = [original]\n",
        "\n",
        "        # double check the len of img and mask.\n",
        "        assert len(self.img_paths) == len(self.mask_paths)\n",
        "\n",
        "    def __len__(self):\n",
        "        return len(self.img_paths)\n",
        "\n",
        "    def __getitem__(self, idx):\n",
        "        # get img path\n",
        "        img_path = self.img_paths[idx]\n",
        "        # Read img\n",
        "        img = Image.open(img_path).convert('RGB')\n",
        "        # Normalize Image with VGG16's mean and std\n",
        "        # (H, W, C) -> (C, H, W)\n",
        "        img = self.transform(img)\n",
        "\n",
        "        if self.mode != 'test':\n",
        "            # get mask path\n",
        "            mask_path = self.mask_paths[idx]\n",
        "            mask = Image.open(mask_path).convert('RGB')\n",
        "            mask = np.array(mask)\n",
        "            # Binarize mask from [0~255] to (0 or 1)\n",
        "            mask = (mask >= 128).astype(int)\n",
        "\n",
        "            # squeeze [a,b,c] into [x,y] with 7 category(6 classes + 1 background)\n",
        "            mask = 100 * mask[:, :, 0] + 10 * mask[:, :, 1] + 1 * mask[:, :, 2]\n",
        "            raw_mask = deepcopy(mask) # Only perform numerical conversion on the most original data\n",
        "            mask[raw_mask == 11] = 0  # (Cyan: 011) Urban land\n",
        "            mask[raw_mask == 110] = 1  # (Yellow: 110) Agriculture land\n",
        "            mask[raw_mask == 101] = 2  # (Purple: 101) Rangeland\n",
        "            mask[raw_mask == 10] = 3  # (Green: 010) Forest land\n",
        "            mask[raw_mask == 1] = 4  # (Blue: 001) Water\n",
        "            mask[raw_mask == 111] = 5  # (White: 111) Barren land\n",
        "            mask[raw_mask == 0] = 6  # (Black: 000) Unknown\n",
        "            mask = torch.tensor(mask)\n",
        "\n",
        "            # random Data Augmentation\n",
        "            augmentor = random.choice(self.augment)\n",
        "            img = augmentor(img)\n",
        "            mask = augmentor(mask)\n",
        "\n",
        "            # mask = mask.to(torch.float)  # 将目标标签转换为浮点数类型\n",
        "            return img, mask\n",
        "        else:\n",
        "            return img"
      ],
      "metadata": {
        "id": "6YNvaba1_VlC"
      },
      "execution_count": 4,
      "outputs": []
    },
    {
      "cell_type": "code",
      "source": [
        "import torchvision.transforms as tr\n",
        "\n",
        "\n",
        "# IMG_SIZE : 512*512\n",
        "BATCH_SIZE = 4\n",
        "\n",
        "# VGG16_V1, https://pytorch.org/vision/main/models/generated/torchvision.models.vgg16.html\n",
        "mean=[0.485, 0.456, 0.406]\n",
        "std=[0.229, 0.224, 0.225]\n",
        "\n",
        "train_ds = LandDataset(img_paths_train,\n",
        "                       mask_paths_train,\n",
        "                       transform = tr.Compose([\n",
        "                          tr.ToTensor(),\n",
        "                          tr.Normalize(mean=mean, std=std),\n",
        "                          ]),\n",
        "                       mode = 'train',\n",
        "                       augment = True,)\n",
        "val_ds = LandDataset(img_paths_val,\n",
        "                     mask_paths_val,\n",
        "                     transform = tr.Compose([\n",
        "                          tr.ToTensor(),\n",
        "                          tr.Normalize(mean=mean, std=std),\n",
        "                          ]),\n",
        "                     mode = 'val',\n",
        "                     augment = False,)\n",
        "\n",
        "# num_workers > 0: accelerate loading data by muli-process\n",
        "train_loader = torch.utils.data.DataLoader(train_ds, BATCH_SIZE, shuffle=True, num_workers=4)\n",
        "val_loader = torch.utils.data.DataLoader(val_ds, 2 * BATCH_SIZE, shuffle=False, num_workers=4)"
      ],
      "metadata": {
        "colab": {
          "base_uri": "https://localhost:8080/"
        },
        "id": "EF9yJdWTARNK",
        "outputId": "e2ae6d59-2cc3-48a0-96db-9339bf417987"
      },
      "execution_count": 5,
      "outputs": [
        {
          "output_type": "stream",
          "name": "stderr",
          "text": [
            "/usr/local/lib/python3.10/dist-packages/torch/utils/data/dataloader.py:560: UserWarning: This DataLoader will create 4 worker processes in total. Our suggested max number of worker in current system is 2, which is smaller than what this DataLoader is going to create. Please be aware that excessive worker creation might get DataLoader running slow or even freeze, lower the worker number to avoid potential slowness/freeze if necessary.\n",
            "  warnings.warn(_create_warning_msg(\n"
          ]
        }
      ]
    },
    {
      "cell_type": "code",
      "source": [
        "from torch import nn\n",
        "\n",
        "\n",
        "class ConvBlock(nn.Module):\n",
        "    def __init__(self, in_channels, out_channels, kernel_size=3, stride=1, padding='same'):\n",
        "        super(ConvBlock, self).__init__()\n",
        "        self.convblock = nn.Sequential(\n",
        "            nn.Conv2d(in_channels, out_channels, kernel_size, stride=1, padding='same'),\n",
        "            nn.BatchNorm2d(out_channels),\n",
        "            nn.ReLU(),\n",
        "            nn.Conv2d(out_channels, out_channels, kernel_size, stride=1, padding='same'),\n",
        "            nn.ReLU(),\n",
        "        )\n",
        "\n",
        "    def __call__(self, x):\n",
        "        return self.convblock(x)\n",
        "\n",
        "class UNet(nn.Module):\n",
        "    def __init__(self, num_classes=7, in_channels=3, init_channels=64):\n",
        "        super(UNet, self).__init__()\n",
        "        # Encoder\n",
        "        self.encoder1 = ConvBlock(in_channels, init_channels) # (3, H, W) -> (64, H, W)\n",
        "        self.pooling1 = nn.MaxPool2d(2)\n",
        "        self.encoder2 = ConvBlock(init_channels, init_channels*2) # (64, H/2, W/2) -> (128, H/2, W/2)\n",
        "        self.pooling2 = nn.MaxPool2d(2)\n",
        "        self.encoder3 = ConvBlock(init_channels*2, init_channels*4) # (128, H/4, W/4) -> (256, H/4, W/4)\n",
        "        self.pooling3 = nn.MaxPool2d(2)\n",
        "        self.encoder4 = ConvBlock(init_channels*4, init_channels*8) # (256, H/8, W/8) -> (512, H/8, W/8)\n",
        "        self.pooling4 = nn.MaxPool2d(2)\n",
        "        self.encoder5 = ConvBlock(init_channels*8, init_channels*16) # (512, H/16, W/16) -> (1024, H/16, W/16)\n",
        "\n",
        "        # Decoder\n",
        "        self.upconv4 = nn.ConvTranspose2d(init_channels*16, init_channels*8, kernel_size=2, stride=2) # (1024, H/16, W/16) -> (512, H/8, W/8)\n",
        "        self.decoder4 = ConvBlock(init_channels*16, init_channels*8)\n",
        "        self.upconv3 = nn.ConvTranspose2d(init_channels*8, init_channels*4, kernel_size=2, stride=2) # (512, H/8, W/8) -> (256, H/4, W/4)\n",
        "        self.decoder3 = ConvBlock(init_channels*8, init_channels*4)\n",
        "        self.upconv2 = nn.ConvTranspose2d(init_channels*4, init_channels*2, kernel_size=2, stride=2) # (256, H/4, W/4) -> (128, H/2, W/2)\n",
        "        self.decoder2 = ConvBlock(init_channels*4, init_channels*2)\n",
        "        self.upconv1 = nn.ConvTranspose2d(init_channels*2, init_channels, kernel_size=2, stride=2) # (128, H/2, W/2) -> (64, H, W)\n",
        "        self.decoder1 = ConvBlock(init_channels*2, init_channels)\n",
        "\n",
        "        # Output\n",
        "        self.output = nn.Conv2d(init_channels, out_channels=num_classes, kernel_size=1) # (64, H, W) -> (num_classes, H, W)\n",
        "\n",
        "    def __call__(self, x):\n",
        "        # Encoder\n",
        "        encode1 = self.encoder1(x)\n",
        "        encode2 = self.encoder2(self.pooling1(encode1))\n",
        "        encode3 = self.encoder3(self.pooling2(encode2))\n",
        "        encode4 = self.encoder4(self.pooling3(encode3))\n",
        "        bottleneck = self.encoder5(self.pooling4(encode4))\n",
        "\n",
        "        # Decoder\n",
        "        x = torch.cat((self.upconv4(bottleneck), encode4), dim=1) # (1024, H/8, W/8)\n",
        "        x = self.decoder4(x) # (512, H/8, W/8)\n",
        "        x = torch.cat((self.upconv3(x), encode3), dim=1) # (512, H/4, W/4)\n",
        "        x = self.decoder3(x) # (256, H/4, W/4)\n",
        "        x = torch.cat((self.upconv2(x), encode2), dim=1) # (512, H/2, W/2)\n",
        "        x = self.decoder2(x) # (128, H/4, W/4)\n",
        "        x = torch.cat((self.upconv1(x), encode1), dim=1) # (128, H, W)\n",
        "        x = self.decoder1(x) # (64, H, W)\n",
        "        x = self.output(x)\n",
        "\n",
        "        return x"
      ],
      "metadata": {
        "id": "Olq4yqHCAiy0"
      },
      "execution_count": 8,
      "outputs": []
    },
    {
      "cell_type": "code",
      "source": [
        "import torchsummary\n",
        "\n",
        "model = UNet(num_classes=7).to(device)\n",
        "torchsummary.summary(model, (3, 512, 512), device=device)"
      ],
      "metadata": {
        "colab": {
          "base_uri": "https://localhost:8080/"
        },
        "id": "ep3nrC9eHsjZ",
        "outputId": "955f7ae8-8fa7-4478-f21d-229c86015ae5"
      },
      "execution_count": 9,
      "outputs": [
        {
          "output_type": "stream",
          "name": "stdout",
          "text": [
            "----------------------------------------------------------------\n",
            "        Layer (type)               Output Shape         Param #\n",
            "================================================================\n",
            "            Conv2d-1         [-1, 64, 512, 512]           1,792\n",
            "       BatchNorm2d-2         [-1, 64, 512, 512]             128\n",
            "              ReLU-3         [-1, 64, 512, 512]               0\n",
            "            Conv2d-4         [-1, 64, 512, 512]          36,928\n",
            "              ReLU-5         [-1, 64, 512, 512]               0\n",
            "         MaxPool2d-6         [-1, 64, 256, 256]               0\n",
            "            Conv2d-7        [-1, 128, 256, 256]          73,856\n",
            "       BatchNorm2d-8        [-1, 128, 256, 256]             256\n",
            "              ReLU-9        [-1, 128, 256, 256]               0\n",
            "           Conv2d-10        [-1, 128, 256, 256]         147,584\n",
            "             ReLU-11        [-1, 128, 256, 256]               0\n",
            "        MaxPool2d-12        [-1, 128, 128, 128]               0\n",
            "           Conv2d-13        [-1, 256, 128, 128]         295,168\n",
            "      BatchNorm2d-14        [-1, 256, 128, 128]             512\n",
            "             ReLU-15        [-1, 256, 128, 128]               0\n",
            "           Conv2d-16        [-1, 256, 128, 128]         590,080\n",
            "             ReLU-17        [-1, 256, 128, 128]               0\n",
            "        MaxPool2d-18          [-1, 256, 64, 64]               0\n",
            "           Conv2d-19          [-1, 512, 64, 64]       1,180,160\n",
            "      BatchNorm2d-20          [-1, 512, 64, 64]           1,024\n",
            "             ReLU-21          [-1, 512, 64, 64]               0\n",
            "           Conv2d-22          [-1, 512, 64, 64]       2,359,808\n",
            "             ReLU-23          [-1, 512, 64, 64]               0\n",
            "        MaxPool2d-24          [-1, 512, 32, 32]               0\n",
            "           Conv2d-25         [-1, 1024, 32, 32]       4,719,616\n",
            "      BatchNorm2d-26         [-1, 1024, 32, 32]           2,048\n",
            "             ReLU-27         [-1, 1024, 32, 32]               0\n",
            "           Conv2d-28         [-1, 1024, 32, 32]       9,438,208\n",
            "             ReLU-29         [-1, 1024, 32, 32]               0\n",
            "  ConvTranspose2d-30          [-1, 512, 64, 64]       2,097,664\n",
            "           Conv2d-31          [-1, 512, 64, 64]       4,719,104\n",
            "      BatchNorm2d-32          [-1, 512, 64, 64]           1,024\n",
            "             ReLU-33          [-1, 512, 64, 64]               0\n",
            "           Conv2d-34          [-1, 512, 64, 64]       2,359,808\n",
            "             ReLU-35          [-1, 512, 64, 64]               0\n",
            "  ConvTranspose2d-36        [-1, 256, 128, 128]         524,544\n",
            "           Conv2d-37        [-1, 256, 128, 128]       1,179,904\n",
            "      BatchNorm2d-38        [-1, 256, 128, 128]             512\n",
            "             ReLU-39        [-1, 256, 128, 128]               0\n",
            "           Conv2d-40        [-1, 256, 128, 128]         590,080\n",
            "             ReLU-41        [-1, 256, 128, 128]               0\n",
            "  ConvTranspose2d-42        [-1, 128, 256, 256]         131,200\n",
            "           Conv2d-43        [-1, 128, 256, 256]         295,040\n",
            "      BatchNorm2d-44        [-1, 128, 256, 256]             256\n",
            "             ReLU-45        [-1, 128, 256, 256]               0\n",
            "           Conv2d-46        [-1, 128, 256, 256]         147,584\n",
            "             ReLU-47        [-1, 128, 256, 256]               0\n",
            "  ConvTranspose2d-48         [-1, 64, 512, 512]          32,832\n",
            "           Conv2d-49         [-1, 64, 512, 512]          73,792\n",
            "      BatchNorm2d-50         [-1, 64, 512, 512]             128\n",
            "             ReLU-51         [-1, 64, 512, 512]               0\n",
            "           Conv2d-52         [-1, 64, 512, 512]          36,928\n",
            "             ReLU-53         [-1, 64, 512, 512]               0\n",
            "           Conv2d-54          [-1, 7, 512, 512]             455\n",
            "================================================================\n",
            "Total params: 31,038,023\n",
            "Trainable params: 31,038,023\n",
            "Non-trainable params: 0\n",
            "----------------------------------------------------------------\n",
            "Input size (MB): 3.00\n",
            "Forward/backward pass size (MB): 2754.00\n",
            "Params size (MB): 118.40\n",
            "Estimated Total Size (MB): 2875.40\n",
            "----------------------------------------------------------------\n"
          ]
        }
      ]
    },
    {
      "cell_type": "code",
      "source": [
        "def mean_iou_score(pred, labels, num_classes=6):\n",
        "    '''\n",
        "    Compute mean IoU score over 6 classes\n",
        "    '''\n",
        "    mean_iou = []\n",
        "    for i in range(num_classes):\n",
        "        tp_fp = torch.sum(pred == i)\n",
        "        tp_fn = torch.sum(labels == i)\n",
        "        tp = torch.sum((pred == i) * (labels == i))\n",
        "        # avoid nan\n",
        "        if (tp_fp + tp_fn - tp) == 0:\n",
        "            iou = 0.\n",
        "        else:\n",
        "            iou = tp / (tp_fp + tp_fn - tp)\n",
        "        mean_iou.append(iou)\n",
        "\n",
        "    return sum(mean_iou) / len(mean_iou)"
      ],
      "metadata": {
        "id": "NZigkzFXIvgG"
      },
      "execution_count": null,
      "outputs": []
    },
    {
      "cell_type": "code",
      "source": [
        "from tqdm import tqdm\n",
        "\n",
        "\n",
        "def train(dataloader, model, loss_fn, optimizer):\n",
        "    size = len(dataloader.dataset) # number of samples\n",
        "    num_batches = len(dataloader) # batches per epoch\n",
        "    model.train() # to training mode.\n",
        "    epoch_loss, epoch_iou = 0, 0\n",
        "    for batch_i, (x, y) in tqdm(enumerate(dataloader, leave=False)):\n",
        "        x, y = x.to(device, non_blocking=True), y.to(device, non_blocking=True) # move data to GPU\n",
        "\n",
        "        # Ensure the target labels are of type Long\n",
        "        y = y.to(torch.long)\n",
        "        # Compute prediction loss\n",
        "        pred = model(x)\n",
        "        loss = loss_fn(pred, y)\n",
        "        # Optimization by gradients\n",
        "        optimizer.zero_grad() # set prevision gradient to 0\n",
        "        loss.backward() # backpropagation to compute gradients\n",
        "        optimizer.step() # update model params\n",
        "\n",
        "        pred = torch.argmax(pred, dim=1) # 沿着通道维度选择具有最高分数的通道\n",
        "        pred = pred.to(torch.float)  # 将目标标签转换为浮点数类型\n",
        "        # log\n",
        "        epoch_loss += loss.item() # tensor -> python value\n",
        "        epoch_iou += mean_iou_score(pred, y).item()\n",
        "\n",
        "    # return avg loss of epoch, iou of epoch\n",
        "    return epoch_loss/num_batches, epoch_iou/num_batches\n",
        "\n",
        "\n",
        "def test(dataloader, model, loss_fn):\n",
        "    size = len(dataloader.dataset) # number of samples\n",
        "    num_batches = len(dataloader) # batches per epoch\n",
        "\n",
        "    model.eval() # model to test mode.\n",
        "    epoch_loss = 0\n",
        "    epoch_iou = 0\n",
        "    # No gradient for test data\n",
        "    with torch.no_grad():\n",
        "        for batch_i, (x, y) in enumerate(dataloader):\n",
        "            x, y = x.to(device), y.to(device)\n",
        "\n",
        "            y = y.to(torch.long)\n",
        "            # Compute prediction loss\n",
        "            pred = model(x)\n",
        "            loss = loss_fn(pred, y)\n",
        "\n",
        "            pred = torch.argmax(pred, dim=1) # 沿着通道维度选择具有最高分数的通道\n",
        "            pred = pred.to(torch.float)  # 将目标标签转换为浮点数类型\n",
        "\n",
        "            # write to logs\n",
        "            epoch_loss += loss.item()\n",
        "            epoch_iou += mean_iou_score(pred, y).item()\n",
        "\n",
        "    return epoch_loss/num_batches, epoch_iou/num_batches"
      ],
      "metadata": {
        "id": "oEIzpW8jJJWx"
      },
      "execution_count": null,
      "outputs": []
    },
    {
      "cell_type": "code",
      "source": [
        "EPOCHS = 100\n",
        "logs = {\n",
        "    'train_loss': [], 'val_loss': [],\n",
        "    'train_mean_iou': [], 'val_mean_iou': [],\n",
        "}\n",
        "\n",
        "model = UNet().to(device)\n",
        "loss_fn = nn.CrossEntropyLoss() # classification for each pixel\n",
        "optimizer = torch.optim.Adam(model.parameters(), lr=1e-3)\n",
        "\n",
        "# Earlystopping\n",
        "patience = 7\n",
        "counter = 0\n",
        "best_IOU = 0\n",
        "\n",
        "for epoch in tqdm(range(EPOCHS)):\n",
        "    train_loss, train_mean_iou = train(train_loader, model, loss_fn, optimizer)\n",
        "    val_loss, val_mean_iou = test(val_loader, model, loss_fn)\n",
        "    logs['train_loss'].append(train_loss)\n",
        "    logs['val_loss'].append(val_loss)\n",
        "    logs['train_mean_iou'].append(train_mean_iou)\n",
        "    logs['val_mean_iou'].append(val_mean_iou)\n",
        "\n",
        "    print(f'EPOCH: {(epoch+1):04d} train_loss: {train_loss:.4f} val_loss: {val_loss:.4f}, train_mean_iou: {train_mean_iou:.3f}, val_mean_iou: {val_mean_iou:.3f}')\n",
        "\n",
        "    # On epoch end\n",
        "    torch.save(model.state_dict(), \"UNet_lastmodel.pth\")\n",
        "    # check improvement\n",
        "    if best_IOU < val_mean_iou:\n",
        "        counter = 0\n",
        "        best_IOU = val_mean_iou\n",
        "        torch.save(model.state_dict(), \"UNet_BestIOU.pth\")\n",
        "        print('Best_IOU saved!')\n",
        "    else:\n",
        "        counter += 1\n",
        "    if counter >= patience:\n",
        "        print(\"Earlystop!\")\n",
        "        break"
      ],
      "metadata": {
        "id": "ylw1lMeuKWOI"
      },
      "execution_count": null,
      "outputs": []
    }
  ]
}