{
  "nbformat": 4,
  "nbformat_minor": 0,
  "metadata": {
    "colab": {
      "provenance": [],
      "gpuType": "A100",
      "machine_shape": "hm",
      "include_colab_link": true
    },
    "kernelspec": {
      "name": "python3",
      "display_name": "Python 3"
    },
    "language_info": {
      "name": "python"
    },
    "accelerator": "GPU"
  },
  "cells": [
    {
      "cell_type": "markdown",
      "metadata": {
        "id": "view-in-github",
        "colab_type": "text"
      },
      "source": [
        "<a href=\"https://colab.research.google.com/github/R12942159/DeepLearning/blob/main/DLCV_hw1_pretrain.ipynb\" target=\"_parent\"><img src=\"https://colab.research.google.com/assets/colab-badge.svg\" alt=\"Open In Colab\"/></a>"
      ]
    },
    {
      "cell_type": "code",
      "execution_count": null,
      "metadata": {
        "id": "fP5MX9IGIISl",
        "colab": {
          "base_uri": "https://localhost:8080/"
        },
        "outputId": "004f7660-5237-4ff1-bcc2-e186c652fe20"
      },
      "outputs": [
        {
          "output_type": "stream",
          "name": "stdout",
          "text": [
            "Mounted at /content/drive\n"
          ]
        }
      ],
      "source": [
        "from google.colab import drive\n",
        "drive.mount('/content/drive')"
      ]
    },
    {
      "cell_type": "code",
      "source": [
        "import torch\n",
        "\n",
        "\n",
        "# Get cuda from GPU device for training.\n",
        "device = \"cuda\" if torch.cuda.is_available() else \"cpu\"\n",
        "print(f\"Using: {device}\")"
      ],
      "metadata": {
        "id": "HXjpM3inMeLE",
        "colab": {
          "base_uri": "https://localhost:8080/"
        },
        "outputId": "a8a4c696-811f-4492-c260-3c142dd16152"
      },
      "execution_count": null,
      "outputs": [
        {
          "output_type": "stream",
          "name": "stdout",
          "text": [
            "Using: cuda\n"
          ]
        }
      ]
    },
    {
      "cell_type": "code",
      "source": [
        "# search file paths\n",
        "from glob import glob\n",
        "\n",
        "\n",
        "img_paths_train = glob('/content/drive/MyDrive/NTU_DLCV/p1_data/train_50/*.png') # *: all\n",
        "img_paths_train = glob('/content/drive/MyDrive/NTU_DLCV/p1_data/train_50/*.png') # *: all\n",
        "img_paths_val = glob('/content/drive/MyDrive/NTU_DLCV/p1_data/val_50/*.png')"
      ],
      "metadata": {
        "id": "BK7QoEV7MewD"
      },
      "execution_count": null,
      "outputs": []
    },
    {
      "cell_type": "code",
      "source": [
        "# number of images\n",
        "len(img_paths_train), len(img_paths_val)"
      ],
      "metadata": {
        "id": "dLMWfO5xMjrN",
        "colab": {
          "base_uri": "https://localhost:8080/"
        },
        "outputId": "91275805-13c3-4019-d528-e5819915f8b3"
      },
      "execution_count": null,
      "outputs": [
        {
          "output_type": "execute_result",
          "data": {
            "text/plain": [
              "(22500, 2500)"
            ]
          },
          "metadata": {},
          "execution_count": 4
        }
      ]
    },
    {
      "cell_type": "code",
      "source": [
        "import torch\n",
        "from PIL import Image\n",
        "import numpy as np\n",
        "\n",
        "\n",
        "class PretrainDataset(torch.utils.data.Dataset):\n",
        "    def __init__(self, img_paths, img_size, transform):\n",
        "        self.img_paths = img_paths\n",
        "        self.img_size = img_size\n",
        "        self.transform = transform\n",
        "\n",
        "    def __len__(self):\n",
        "        \"\"\"number of samples\"\"\"\n",
        "        return len(self.img_paths)\n",
        "\n",
        "    def __getitem__(self, idx):\n",
        "        \"\"\"read 1 sample\"\"\"\n",
        "        # Read img\n",
        "        path = self.img_paths[idx] # get img path\n",
        "        img = Image.open(path).convert('RGB') # read img\n",
        "        # img_pil = Image.fromarray(img)\n",
        "        # img = img_pil.resize((IMG_SIZE, IMG_SIZE), Image.LANCZOS)\n",
        "\n",
        "        # transform img\n",
        "        img = self.transform(img)\n",
        "\n",
        "        # Read class index\n",
        "        cls_idx = int((path.split('/')[-1]).split('_')[0])\n",
        "        cls_idx = torch.tensor(cls_idx, dtype=torch.int64)\n",
        "\n",
        "        return img, cls_idx"
      ],
      "metadata": {
        "id": "5inTy98yMnTL"
      },
      "execution_count": null,
      "outputs": []
    },
    {
      "cell_type": "code",
      "source": [
        "from torchvision.models import resnet50, ResNet50_Weights\n",
        "\n",
        "\n",
        "# Preprocess Transform\n",
        "transform =  ResNet50_Weights.IMAGENET1K_V2.transforms()\n",
        "\n",
        "# Build Dataset\n",
        "IMG_SIZE = 32\n",
        "train_ds = PretrainDataset(img_paths_train, IMG_SIZE, transform)\n",
        "val_ds = PretrainDataset(img_paths_val, IMG_SIZE, transform)"
      ],
      "metadata": {
        "id": "HJ9RoeKmhwdN"
      },
      "execution_count": null,
      "outputs": []
    },
    {
      "cell_type": "code",
      "source": [
        "transform"
      ],
      "metadata": {
        "id": "L83dypUwiw8V",
        "colab": {
          "base_uri": "https://localhost:8080/"
        },
        "outputId": "aa551971-d2c7-4b2d-ebd8-5f7aeb1a5f1e"
      },
      "execution_count": null,
      "outputs": [
        {
          "output_type": "execute_result",
          "data": {
            "text/plain": [
              "ImageClassification(\n",
              "    crop_size=[224]\n",
              "    resize_size=[232]\n",
              "    mean=[0.485, 0.456, 0.406]\n",
              "    std=[0.229, 0.224, 0.225]\n",
              "    interpolation=InterpolationMode.BILINEAR\n",
              ")"
            ]
          },
          "metadata": {},
          "execution_count": 10
        }
      ]
    },
    {
      "cell_type": "code",
      "source": [
        "# Build DataLoaders\n",
        "BATCH_SIZE = 300\n",
        "train_loader = torch.utils.data.DataLoader(train_ds, BATCH_SIZE, shuffle=True)\n",
        "val_loader = torch.utils.data.DataLoader(val_ds, BATCH_SIZE, shuffle=False)"
      ],
      "metadata": {
        "id": "stK3tUstMrRH"
      },
      "execution_count": null,
      "outputs": []
    },
    {
      "cell_type": "markdown",
      "source": [
        "#### Build Model (https://pytorch.org/vision/stable/models.html#classification)"
      ],
      "metadata": {
        "id": "Ovo1AYQnZJeb"
      }
    },
    {
      "cell_type": "code",
      "source": [
        "from torchvision import models\n",
        "\n",
        "model = models.resnet50(weights=ResNet50_Weights.IMAGENET1K_V2)\n",
        "print(model)"
      ],
      "metadata": {
        "id": "Y46oO9jiZQrX",
        "colab": {
          "base_uri": "https://localhost:8080/"
        },
        "outputId": "5ceec16a-c018-4e8e-fbba-23d5ced6bdc3"
      },
      "execution_count": null,
      "outputs": [
        {
          "output_type": "stream",
          "name": "stderr",
          "text": [
            "Downloading: \"https://download.pytorch.org/models/resnet50-11ad3fa6.pth\" to /root/.cache/torch/hub/checkpoints/resnet50-11ad3fa6.pth\n",
            "100%|██████████| 97.8M/97.8M [00:00<00:00, 208MB/s]\n"
          ]
        },
        {
          "output_type": "stream",
          "name": "stdout",
          "text": [
            "ResNet(\n",
            "  (conv1): Conv2d(3, 64, kernel_size=(7, 7), stride=(2, 2), padding=(3, 3), bias=False)\n",
            "  (bn1): BatchNorm2d(64, eps=1e-05, momentum=0.1, affine=True, track_running_stats=True)\n",
            "  (relu): ReLU(inplace=True)\n",
            "  (maxpool): MaxPool2d(kernel_size=3, stride=2, padding=1, dilation=1, ceil_mode=False)\n",
            "  (layer1): Sequential(\n",
            "    (0): Bottleneck(\n",
            "      (conv1): Conv2d(64, 64, kernel_size=(1, 1), stride=(1, 1), bias=False)\n",
            "      (bn1): BatchNorm2d(64, eps=1e-05, momentum=0.1, affine=True, track_running_stats=True)\n",
            "      (conv2): Conv2d(64, 64, kernel_size=(3, 3), stride=(1, 1), padding=(1, 1), bias=False)\n",
            "      (bn2): BatchNorm2d(64, eps=1e-05, momentum=0.1, affine=True, track_running_stats=True)\n",
            "      (conv3): Conv2d(64, 256, kernel_size=(1, 1), stride=(1, 1), bias=False)\n",
            "      (bn3): BatchNorm2d(256, eps=1e-05, momentum=0.1, affine=True, track_running_stats=True)\n",
            "      (relu): ReLU(inplace=True)\n",
            "      (downsample): Sequential(\n",
            "        (0): Conv2d(64, 256, kernel_size=(1, 1), stride=(1, 1), bias=False)\n",
            "        (1): BatchNorm2d(256, eps=1e-05, momentum=0.1, affine=True, track_running_stats=True)\n",
            "      )\n",
            "    )\n",
            "    (1): Bottleneck(\n",
            "      (conv1): Conv2d(256, 64, kernel_size=(1, 1), stride=(1, 1), bias=False)\n",
            "      (bn1): BatchNorm2d(64, eps=1e-05, momentum=0.1, affine=True, track_running_stats=True)\n",
            "      (conv2): Conv2d(64, 64, kernel_size=(3, 3), stride=(1, 1), padding=(1, 1), bias=False)\n",
            "      (bn2): BatchNorm2d(64, eps=1e-05, momentum=0.1, affine=True, track_running_stats=True)\n",
            "      (conv3): Conv2d(64, 256, kernel_size=(1, 1), stride=(1, 1), bias=False)\n",
            "      (bn3): BatchNorm2d(256, eps=1e-05, momentum=0.1, affine=True, track_running_stats=True)\n",
            "      (relu): ReLU(inplace=True)\n",
            "    )\n",
            "    (2): Bottleneck(\n",
            "      (conv1): Conv2d(256, 64, kernel_size=(1, 1), stride=(1, 1), bias=False)\n",
            "      (bn1): BatchNorm2d(64, eps=1e-05, momentum=0.1, affine=True, track_running_stats=True)\n",
            "      (conv2): Conv2d(64, 64, kernel_size=(3, 3), stride=(1, 1), padding=(1, 1), bias=False)\n",
            "      (bn2): BatchNorm2d(64, eps=1e-05, momentum=0.1, affine=True, track_running_stats=True)\n",
            "      (conv3): Conv2d(64, 256, kernel_size=(1, 1), stride=(1, 1), bias=False)\n",
            "      (bn3): BatchNorm2d(256, eps=1e-05, momentum=0.1, affine=True, track_running_stats=True)\n",
            "      (relu): ReLU(inplace=True)\n",
            "    )\n",
            "  )\n",
            "  (layer2): Sequential(\n",
            "    (0): Bottleneck(\n",
            "      (conv1): Conv2d(256, 128, kernel_size=(1, 1), stride=(1, 1), bias=False)\n",
            "      (bn1): BatchNorm2d(128, eps=1e-05, momentum=0.1, affine=True, track_running_stats=True)\n",
            "      (conv2): Conv2d(128, 128, kernel_size=(3, 3), stride=(2, 2), padding=(1, 1), bias=False)\n",
            "      (bn2): BatchNorm2d(128, eps=1e-05, momentum=0.1, affine=True, track_running_stats=True)\n",
            "      (conv3): Conv2d(128, 512, kernel_size=(1, 1), stride=(1, 1), bias=False)\n",
            "      (bn3): BatchNorm2d(512, eps=1e-05, momentum=0.1, affine=True, track_running_stats=True)\n",
            "      (relu): ReLU(inplace=True)\n",
            "      (downsample): Sequential(\n",
            "        (0): Conv2d(256, 512, kernel_size=(1, 1), stride=(2, 2), bias=False)\n",
            "        (1): BatchNorm2d(512, eps=1e-05, momentum=0.1, affine=True, track_running_stats=True)\n",
            "      )\n",
            "    )\n",
            "    (1): Bottleneck(\n",
            "      (conv1): Conv2d(512, 128, kernel_size=(1, 1), stride=(1, 1), bias=False)\n",
            "      (bn1): BatchNorm2d(128, eps=1e-05, momentum=0.1, affine=True, track_running_stats=True)\n",
            "      (conv2): Conv2d(128, 128, kernel_size=(3, 3), stride=(1, 1), padding=(1, 1), bias=False)\n",
            "      (bn2): BatchNorm2d(128, eps=1e-05, momentum=0.1, affine=True, track_running_stats=True)\n",
            "      (conv3): Conv2d(128, 512, kernel_size=(1, 1), stride=(1, 1), bias=False)\n",
            "      (bn3): BatchNorm2d(512, eps=1e-05, momentum=0.1, affine=True, track_running_stats=True)\n",
            "      (relu): ReLU(inplace=True)\n",
            "    )\n",
            "    (2): Bottleneck(\n",
            "      (conv1): Conv2d(512, 128, kernel_size=(1, 1), stride=(1, 1), bias=False)\n",
            "      (bn1): BatchNorm2d(128, eps=1e-05, momentum=0.1, affine=True, track_running_stats=True)\n",
            "      (conv2): Conv2d(128, 128, kernel_size=(3, 3), stride=(1, 1), padding=(1, 1), bias=False)\n",
            "      (bn2): BatchNorm2d(128, eps=1e-05, momentum=0.1, affine=True, track_running_stats=True)\n",
            "      (conv3): Conv2d(128, 512, kernel_size=(1, 1), stride=(1, 1), bias=False)\n",
            "      (bn3): BatchNorm2d(512, eps=1e-05, momentum=0.1, affine=True, track_running_stats=True)\n",
            "      (relu): ReLU(inplace=True)\n",
            "    )\n",
            "    (3): Bottleneck(\n",
            "      (conv1): Conv2d(512, 128, kernel_size=(1, 1), stride=(1, 1), bias=False)\n",
            "      (bn1): BatchNorm2d(128, eps=1e-05, momentum=0.1, affine=True, track_running_stats=True)\n",
            "      (conv2): Conv2d(128, 128, kernel_size=(3, 3), stride=(1, 1), padding=(1, 1), bias=False)\n",
            "      (bn2): BatchNorm2d(128, eps=1e-05, momentum=0.1, affine=True, track_running_stats=True)\n",
            "      (conv3): Conv2d(128, 512, kernel_size=(1, 1), stride=(1, 1), bias=False)\n",
            "      (bn3): BatchNorm2d(512, eps=1e-05, momentum=0.1, affine=True, track_running_stats=True)\n",
            "      (relu): ReLU(inplace=True)\n",
            "    )\n",
            "  )\n",
            "  (layer3): Sequential(\n",
            "    (0): Bottleneck(\n",
            "      (conv1): Conv2d(512, 256, kernel_size=(1, 1), stride=(1, 1), bias=False)\n",
            "      (bn1): BatchNorm2d(256, eps=1e-05, momentum=0.1, affine=True, track_running_stats=True)\n",
            "      (conv2): Conv2d(256, 256, kernel_size=(3, 3), stride=(2, 2), padding=(1, 1), bias=False)\n",
            "      (bn2): BatchNorm2d(256, eps=1e-05, momentum=0.1, affine=True, track_running_stats=True)\n",
            "      (conv3): Conv2d(256, 1024, kernel_size=(1, 1), stride=(1, 1), bias=False)\n",
            "      (bn3): BatchNorm2d(1024, eps=1e-05, momentum=0.1, affine=True, track_running_stats=True)\n",
            "      (relu): ReLU(inplace=True)\n",
            "      (downsample): Sequential(\n",
            "        (0): Conv2d(512, 1024, kernel_size=(1, 1), stride=(2, 2), bias=False)\n",
            "        (1): BatchNorm2d(1024, eps=1e-05, momentum=0.1, affine=True, track_running_stats=True)\n",
            "      )\n",
            "    )\n",
            "    (1): Bottleneck(\n",
            "      (conv1): Conv2d(1024, 256, kernel_size=(1, 1), stride=(1, 1), bias=False)\n",
            "      (bn1): BatchNorm2d(256, eps=1e-05, momentum=0.1, affine=True, track_running_stats=True)\n",
            "      (conv2): Conv2d(256, 256, kernel_size=(3, 3), stride=(1, 1), padding=(1, 1), bias=False)\n",
            "      (bn2): BatchNorm2d(256, eps=1e-05, momentum=0.1, affine=True, track_running_stats=True)\n",
            "      (conv3): Conv2d(256, 1024, kernel_size=(1, 1), stride=(1, 1), bias=False)\n",
            "      (bn3): BatchNorm2d(1024, eps=1e-05, momentum=0.1, affine=True, track_running_stats=True)\n",
            "      (relu): ReLU(inplace=True)\n",
            "    )\n",
            "    (2): Bottleneck(\n",
            "      (conv1): Conv2d(1024, 256, kernel_size=(1, 1), stride=(1, 1), bias=False)\n",
            "      (bn1): BatchNorm2d(256, eps=1e-05, momentum=0.1, affine=True, track_running_stats=True)\n",
            "      (conv2): Conv2d(256, 256, kernel_size=(3, 3), stride=(1, 1), padding=(1, 1), bias=False)\n",
            "      (bn2): BatchNorm2d(256, eps=1e-05, momentum=0.1, affine=True, track_running_stats=True)\n",
            "      (conv3): Conv2d(256, 1024, kernel_size=(1, 1), stride=(1, 1), bias=False)\n",
            "      (bn3): BatchNorm2d(1024, eps=1e-05, momentum=0.1, affine=True, track_running_stats=True)\n",
            "      (relu): ReLU(inplace=True)\n",
            "    )\n",
            "    (3): Bottleneck(\n",
            "      (conv1): Conv2d(1024, 256, kernel_size=(1, 1), stride=(1, 1), bias=False)\n",
            "      (bn1): BatchNorm2d(256, eps=1e-05, momentum=0.1, affine=True, track_running_stats=True)\n",
            "      (conv2): Conv2d(256, 256, kernel_size=(3, 3), stride=(1, 1), padding=(1, 1), bias=False)\n",
            "      (bn2): BatchNorm2d(256, eps=1e-05, momentum=0.1, affine=True, track_running_stats=True)\n",
            "      (conv3): Conv2d(256, 1024, kernel_size=(1, 1), stride=(1, 1), bias=False)\n",
            "      (bn3): BatchNorm2d(1024, eps=1e-05, momentum=0.1, affine=True, track_running_stats=True)\n",
            "      (relu): ReLU(inplace=True)\n",
            "    )\n",
            "    (4): Bottleneck(\n",
            "      (conv1): Conv2d(1024, 256, kernel_size=(1, 1), stride=(1, 1), bias=False)\n",
            "      (bn1): BatchNorm2d(256, eps=1e-05, momentum=0.1, affine=True, track_running_stats=True)\n",
            "      (conv2): Conv2d(256, 256, kernel_size=(3, 3), stride=(1, 1), padding=(1, 1), bias=False)\n",
            "      (bn2): BatchNorm2d(256, eps=1e-05, momentum=0.1, affine=True, track_running_stats=True)\n",
            "      (conv3): Conv2d(256, 1024, kernel_size=(1, 1), stride=(1, 1), bias=False)\n",
            "      (bn3): BatchNorm2d(1024, eps=1e-05, momentum=0.1, affine=True, track_running_stats=True)\n",
            "      (relu): ReLU(inplace=True)\n",
            "    )\n",
            "    (5): Bottleneck(\n",
            "      (conv1): Conv2d(1024, 256, kernel_size=(1, 1), stride=(1, 1), bias=False)\n",
            "      (bn1): BatchNorm2d(256, eps=1e-05, momentum=0.1, affine=True, track_running_stats=True)\n",
            "      (conv2): Conv2d(256, 256, kernel_size=(3, 3), stride=(1, 1), padding=(1, 1), bias=False)\n",
            "      (bn2): BatchNorm2d(256, eps=1e-05, momentum=0.1, affine=True, track_running_stats=True)\n",
            "      (conv3): Conv2d(256, 1024, kernel_size=(1, 1), stride=(1, 1), bias=False)\n",
            "      (bn3): BatchNorm2d(1024, eps=1e-05, momentum=0.1, affine=True, track_running_stats=True)\n",
            "      (relu): ReLU(inplace=True)\n",
            "    )\n",
            "  )\n",
            "  (layer4): Sequential(\n",
            "    (0): Bottleneck(\n",
            "      (conv1): Conv2d(1024, 512, kernel_size=(1, 1), stride=(1, 1), bias=False)\n",
            "      (bn1): BatchNorm2d(512, eps=1e-05, momentum=0.1, affine=True, track_running_stats=True)\n",
            "      (conv2): Conv2d(512, 512, kernel_size=(3, 3), stride=(2, 2), padding=(1, 1), bias=False)\n",
            "      (bn2): BatchNorm2d(512, eps=1e-05, momentum=0.1, affine=True, track_running_stats=True)\n",
            "      (conv3): Conv2d(512, 2048, kernel_size=(1, 1), stride=(1, 1), bias=False)\n",
            "      (bn3): BatchNorm2d(2048, eps=1e-05, momentum=0.1, affine=True, track_running_stats=True)\n",
            "      (relu): ReLU(inplace=True)\n",
            "      (downsample): Sequential(\n",
            "        (0): Conv2d(1024, 2048, kernel_size=(1, 1), stride=(2, 2), bias=False)\n",
            "        (1): BatchNorm2d(2048, eps=1e-05, momentum=0.1, affine=True, track_running_stats=True)\n",
            "      )\n",
            "    )\n",
            "    (1): Bottleneck(\n",
            "      (conv1): Conv2d(2048, 512, kernel_size=(1, 1), stride=(1, 1), bias=False)\n",
            "      (bn1): BatchNorm2d(512, eps=1e-05, momentum=0.1, affine=True, track_running_stats=True)\n",
            "      (conv2): Conv2d(512, 512, kernel_size=(3, 3), stride=(1, 1), padding=(1, 1), bias=False)\n",
            "      (bn2): BatchNorm2d(512, eps=1e-05, momentum=0.1, affine=True, track_running_stats=True)\n",
            "      (conv3): Conv2d(512, 2048, kernel_size=(1, 1), stride=(1, 1), bias=False)\n",
            "      (bn3): BatchNorm2d(2048, eps=1e-05, momentum=0.1, affine=True, track_running_stats=True)\n",
            "      (relu): ReLU(inplace=True)\n",
            "    )\n",
            "    (2): Bottleneck(\n",
            "      (conv1): Conv2d(2048, 512, kernel_size=(1, 1), stride=(1, 1), bias=False)\n",
            "      (bn1): BatchNorm2d(512, eps=1e-05, momentum=0.1, affine=True, track_running_stats=True)\n",
            "      (conv2): Conv2d(512, 512, kernel_size=(3, 3), stride=(1, 1), padding=(1, 1), bias=False)\n",
            "      (bn2): BatchNorm2d(512, eps=1e-05, momentum=0.1, affine=True, track_running_stats=True)\n",
            "      (conv3): Conv2d(512, 2048, kernel_size=(1, 1), stride=(1, 1), bias=False)\n",
            "      (bn3): BatchNorm2d(2048, eps=1e-05, momentum=0.1, affine=True, track_running_stats=True)\n",
            "      (relu): ReLU(inplace=True)\n",
            "    )\n",
            "  )\n",
            "  (avgpool): AdaptiveAvgPool2d(output_size=(1, 1))\n",
            "  (fc): Linear(in_features=2048, out_features=1000, bias=True)\n",
            ")\n"
          ]
        }
      ]
    },
    {
      "cell_type": "code",
      "source": [
        "from torch import nn\n",
        "\n",
        "# replace classifier\n",
        "num_features = model.fc.in_features # len of feature vectors\n",
        "\n",
        "# # Freeze model\n",
        "# for param in model.parameters():\n",
        "#     param.requires_grad = False\n",
        "\n",
        "# Replace classifier\n",
        "model.fc = nn.Linear(num_features, 50)\n",
        "print(model.fc)"
      ],
      "metadata": {
        "id": "lA7CjBcjk6op",
        "colab": {
          "base_uri": "https://localhost:8080/"
        },
        "outputId": "854332d9-3f9d-433f-8ef6-5e094fa0df43"
      },
      "execution_count": null,
      "outputs": [
        {
          "output_type": "stream",
          "name": "stdout",
          "text": [
            "Linear(in_features=2048, out_features=50, bias=True)\n"
          ]
        }
      ]
    },
    {
      "cell_type": "code",
      "source": [
        "from torchsummary import summary\n",
        "\n",
        "\n",
        "resize_size = transform.resize_size[0]\n",
        "summary(model.to(device), (3, resize_size, resize_size))"
      ],
      "metadata": {
        "id": "J2D-CfH8lF10",
        "colab": {
          "base_uri": "https://localhost:8080/"
        },
        "outputId": "a2dca426-de9d-47f1-fdf3-a39e078bf14a"
      },
      "execution_count": null,
      "outputs": [
        {
          "output_type": "stream",
          "name": "stdout",
          "text": [
            "----------------------------------------------------------------\n",
            "        Layer (type)               Output Shape         Param #\n",
            "================================================================\n",
            "            Conv2d-1         [-1, 64, 116, 116]           9,408\n",
            "       BatchNorm2d-2         [-1, 64, 116, 116]             128\n",
            "              ReLU-3         [-1, 64, 116, 116]               0\n",
            "         MaxPool2d-4           [-1, 64, 58, 58]               0\n",
            "            Conv2d-5           [-1, 64, 58, 58]           4,096\n",
            "       BatchNorm2d-6           [-1, 64, 58, 58]             128\n",
            "              ReLU-7           [-1, 64, 58, 58]               0\n",
            "            Conv2d-8           [-1, 64, 58, 58]          36,864\n",
            "       BatchNorm2d-9           [-1, 64, 58, 58]             128\n",
            "             ReLU-10           [-1, 64, 58, 58]               0\n",
            "           Conv2d-11          [-1, 256, 58, 58]          16,384\n",
            "      BatchNorm2d-12          [-1, 256, 58, 58]             512\n",
            "           Conv2d-13          [-1, 256, 58, 58]          16,384\n",
            "      BatchNorm2d-14          [-1, 256, 58, 58]             512\n",
            "             ReLU-15          [-1, 256, 58, 58]               0\n",
            "       Bottleneck-16          [-1, 256, 58, 58]               0\n",
            "           Conv2d-17           [-1, 64, 58, 58]          16,384\n",
            "      BatchNorm2d-18           [-1, 64, 58, 58]             128\n",
            "             ReLU-19           [-1, 64, 58, 58]               0\n",
            "           Conv2d-20           [-1, 64, 58, 58]          36,864\n",
            "      BatchNorm2d-21           [-1, 64, 58, 58]             128\n",
            "             ReLU-22           [-1, 64, 58, 58]               0\n",
            "           Conv2d-23          [-1, 256, 58, 58]          16,384\n",
            "      BatchNorm2d-24          [-1, 256, 58, 58]             512\n",
            "             ReLU-25          [-1, 256, 58, 58]               0\n",
            "       Bottleneck-26          [-1, 256, 58, 58]               0\n",
            "           Conv2d-27           [-1, 64, 58, 58]          16,384\n",
            "      BatchNorm2d-28           [-1, 64, 58, 58]             128\n",
            "             ReLU-29           [-1, 64, 58, 58]               0\n",
            "           Conv2d-30           [-1, 64, 58, 58]          36,864\n",
            "      BatchNorm2d-31           [-1, 64, 58, 58]             128\n",
            "             ReLU-32           [-1, 64, 58, 58]               0\n",
            "           Conv2d-33          [-1, 256, 58, 58]          16,384\n",
            "      BatchNorm2d-34          [-1, 256, 58, 58]             512\n",
            "             ReLU-35          [-1, 256, 58, 58]               0\n",
            "       Bottleneck-36          [-1, 256, 58, 58]               0\n",
            "           Conv2d-37          [-1, 128, 58, 58]          32,768\n",
            "      BatchNorm2d-38          [-1, 128, 58, 58]             256\n",
            "             ReLU-39          [-1, 128, 58, 58]               0\n",
            "           Conv2d-40          [-1, 128, 29, 29]         147,456\n",
            "      BatchNorm2d-41          [-1, 128, 29, 29]             256\n",
            "             ReLU-42          [-1, 128, 29, 29]               0\n",
            "           Conv2d-43          [-1, 512, 29, 29]          65,536\n",
            "      BatchNorm2d-44          [-1, 512, 29, 29]           1,024\n",
            "           Conv2d-45          [-1, 512, 29, 29]         131,072\n",
            "      BatchNorm2d-46          [-1, 512, 29, 29]           1,024\n",
            "             ReLU-47          [-1, 512, 29, 29]               0\n",
            "       Bottleneck-48          [-1, 512, 29, 29]               0\n",
            "           Conv2d-49          [-1, 128, 29, 29]          65,536\n",
            "      BatchNorm2d-50          [-1, 128, 29, 29]             256\n",
            "             ReLU-51          [-1, 128, 29, 29]               0\n",
            "           Conv2d-52          [-1, 128, 29, 29]         147,456\n",
            "      BatchNorm2d-53          [-1, 128, 29, 29]             256\n",
            "             ReLU-54          [-1, 128, 29, 29]               0\n",
            "           Conv2d-55          [-1, 512, 29, 29]          65,536\n",
            "      BatchNorm2d-56          [-1, 512, 29, 29]           1,024\n",
            "             ReLU-57          [-1, 512, 29, 29]               0\n",
            "       Bottleneck-58          [-1, 512, 29, 29]               0\n",
            "           Conv2d-59          [-1, 128, 29, 29]          65,536\n",
            "      BatchNorm2d-60          [-1, 128, 29, 29]             256\n",
            "             ReLU-61          [-1, 128, 29, 29]               0\n",
            "           Conv2d-62          [-1, 128, 29, 29]         147,456\n",
            "      BatchNorm2d-63          [-1, 128, 29, 29]             256\n",
            "             ReLU-64          [-1, 128, 29, 29]               0\n",
            "           Conv2d-65          [-1, 512, 29, 29]          65,536\n",
            "      BatchNorm2d-66          [-1, 512, 29, 29]           1,024\n",
            "             ReLU-67          [-1, 512, 29, 29]               0\n",
            "       Bottleneck-68          [-1, 512, 29, 29]               0\n",
            "           Conv2d-69          [-1, 128, 29, 29]          65,536\n",
            "      BatchNorm2d-70          [-1, 128, 29, 29]             256\n",
            "             ReLU-71          [-1, 128, 29, 29]               0\n",
            "           Conv2d-72          [-1, 128, 29, 29]         147,456\n",
            "      BatchNorm2d-73          [-1, 128, 29, 29]             256\n",
            "             ReLU-74          [-1, 128, 29, 29]               0\n",
            "           Conv2d-75          [-1, 512, 29, 29]          65,536\n",
            "      BatchNorm2d-76          [-1, 512, 29, 29]           1,024\n",
            "             ReLU-77          [-1, 512, 29, 29]               0\n",
            "       Bottleneck-78          [-1, 512, 29, 29]               0\n",
            "           Conv2d-79          [-1, 256, 29, 29]         131,072\n",
            "      BatchNorm2d-80          [-1, 256, 29, 29]             512\n",
            "             ReLU-81          [-1, 256, 29, 29]               0\n",
            "           Conv2d-82          [-1, 256, 15, 15]         589,824\n",
            "      BatchNorm2d-83          [-1, 256, 15, 15]             512\n",
            "             ReLU-84          [-1, 256, 15, 15]               0\n",
            "           Conv2d-85         [-1, 1024, 15, 15]         262,144\n",
            "      BatchNorm2d-86         [-1, 1024, 15, 15]           2,048\n",
            "           Conv2d-87         [-1, 1024, 15, 15]         524,288\n",
            "      BatchNorm2d-88         [-1, 1024, 15, 15]           2,048\n",
            "             ReLU-89         [-1, 1024, 15, 15]               0\n",
            "       Bottleneck-90         [-1, 1024, 15, 15]               0\n",
            "           Conv2d-91          [-1, 256, 15, 15]         262,144\n",
            "      BatchNorm2d-92          [-1, 256, 15, 15]             512\n",
            "             ReLU-93          [-1, 256, 15, 15]               0\n",
            "           Conv2d-94          [-1, 256, 15, 15]         589,824\n",
            "      BatchNorm2d-95          [-1, 256, 15, 15]             512\n",
            "             ReLU-96          [-1, 256, 15, 15]               0\n",
            "           Conv2d-97         [-1, 1024, 15, 15]         262,144\n",
            "      BatchNorm2d-98         [-1, 1024, 15, 15]           2,048\n",
            "             ReLU-99         [-1, 1024, 15, 15]               0\n",
            "      Bottleneck-100         [-1, 1024, 15, 15]               0\n",
            "          Conv2d-101          [-1, 256, 15, 15]         262,144\n",
            "     BatchNorm2d-102          [-1, 256, 15, 15]             512\n",
            "            ReLU-103          [-1, 256, 15, 15]               0\n",
            "          Conv2d-104          [-1, 256, 15, 15]         589,824\n",
            "     BatchNorm2d-105          [-1, 256, 15, 15]             512\n",
            "            ReLU-106          [-1, 256, 15, 15]               0\n",
            "          Conv2d-107         [-1, 1024, 15, 15]         262,144\n",
            "     BatchNorm2d-108         [-1, 1024, 15, 15]           2,048\n",
            "            ReLU-109         [-1, 1024, 15, 15]               0\n",
            "      Bottleneck-110         [-1, 1024, 15, 15]               0\n",
            "          Conv2d-111          [-1, 256, 15, 15]         262,144\n",
            "     BatchNorm2d-112          [-1, 256, 15, 15]             512\n",
            "            ReLU-113          [-1, 256, 15, 15]               0\n",
            "          Conv2d-114          [-1, 256, 15, 15]         589,824\n",
            "     BatchNorm2d-115          [-1, 256, 15, 15]             512\n",
            "            ReLU-116          [-1, 256, 15, 15]               0\n",
            "          Conv2d-117         [-1, 1024, 15, 15]         262,144\n",
            "     BatchNorm2d-118         [-1, 1024, 15, 15]           2,048\n",
            "            ReLU-119         [-1, 1024, 15, 15]               0\n",
            "      Bottleneck-120         [-1, 1024, 15, 15]               0\n",
            "          Conv2d-121          [-1, 256, 15, 15]         262,144\n",
            "     BatchNorm2d-122          [-1, 256, 15, 15]             512\n",
            "            ReLU-123          [-1, 256, 15, 15]               0\n",
            "          Conv2d-124          [-1, 256, 15, 15]         589,824\n",
            "     BatchNorm2d-125          [-1, 256, 15, 15]             512\n",
            "            ReLU-126          [-1, 256, 15, 15]               0\n",
            "          Conv2d-127         [-1, 1024, 15, 15]         262,144\n",
            "     BatchNorm2d-128         [-1, 1024, 15, 15]           2,048\n",
            "            ReLU-129         [-1, 1024, 15, 15]               0\n",
            "      Bottleneck-130         [-1, 1024, 15, 15]               0\n",
            "          Conv2d-131          [-1, 256, 15, 15]         262,144\n",
            "     BatchNorm2d-132          [-1, 256, 15, 15]             512\n",
            "            ReLU-133          [-1, 256, 15, 15]               0\n",
            "          Conv2d-134          [-1, 256, 15, 15]         589,824\n",
            "     BatchNorm2d-135          [-1, 256, 15, 15]             512\n",
            "            ReLU-136          [-1, 256, 15, 15]               0\n",
            "          Conv2d-137         [-1, 1024, 15, 15]         262,144\n",
            "     BatchNorm2d-138         [-1, 1024, 15, 15]           2,048\n",
            "            ReLU-139         [-1, 1024, 15, 15]               0\n",
            "      Bottleneck-140         [-1, 1024, 15, 15]               0\n",
            "          Conv2d-141          [-1, 512, 15, 15]         524,288\n",
            "     BatchNorm2d-142          [-1, 512, 15, 15]           1,024\n",
            "            ReLU-143          [-1, 512, 15, 15]               0\n",
            "          Conv2d-144            [-1, 512, 8, 8]       2,359,296\n",
            "     BatchNorm2d-145            [-1, 512, 8, 8]           1,024\n",
            "            ReLU-146            [-1, 512, 8, 8]               0\n",
            "          Conv2d-147           [-1, 2048, 8, 8]       1,048,576\n",
            "     BatchNorm2d-148           [-1, 2048, 8, 8]           4,096\n",
            "          Conv2d-149           [-1, 2048, 8, 8]       2,097,152\n",
            "     BatchNorm2d-150           [-1, 2048, 8, 8]           4,096\n",
            "            ReLU-151           [-1, 2048, 8, 8]               0\n",
            "      Bottleneck-152           [-1, 2048, 8, 8]               0\n",
            "          Conv2d-153            [-1, 512, 8, 8]       1,048,576\n",
            "     BatchNorm2d-154            [-1, 512, 8, 8]           1,024\n",
            "            ReLU-155            [-1, 512, 8, 8]               0\n",
            "          Conv2d-156            [-1, 512, 8, 8]       2,359,296\n",
            "     BatchNorm2d-157            [-1, 512, 8, 8]           1,024\n",
            "            ReLU-158            [-1, 512, 8, 8]               0\n",
            "          Conv2d-159           [-1, 2048, 8, 8]       1,048,576\n",
            "     BatchNorm2d-160           [-1, 2048, 8, 8]           4,096\n",
            "            ReLU-161           [-1, 2048, 8, 8]               0\n",
            "      Bottleneck-162           [-1, 2048, 8, 8]               0\n",
            "          Conv2d-163            [-1, 512, 8, 8]       1,048,576\n",
            "     BatchNorm2d-164            [-1, 512, 8, 8]           1,024\n",
            "            ReLU-165            [-1, 512, 8, 8]               0\n",
            "          Conv2d-166            [-1, 512, 8, 8]       2,359,296\n",
            "     BatchNorm2d-167            [-1, 512, 8, 8]           1,024\n",
            "            ReLU-168            [-1, 512, 8, 8]               0\n",
            "          Conv2d-169           [-1, 2048, 8, 8]       1,048,576\n",
            "     BatchNorm2d-170           [-1, 2048, 8, 8]           4,096\n",
            "            ReLU-171           [-1, 2048, 8, 8]               0\n",
            "      Bottleneck-172           [-1, 2048, 8, 8]               0\n",
            "AdaptiveAvgPool2d-173           [-1, 2048, 1, 1]               0\n",
            "          Linear-174                   [-1, 50]         102,450\n",
            "================================================================\n",
            "Total params: 23,610,482\n",
            "Trainable params: 23,610,482\n",
            "Non-trainable params: 0\n",
            "----------------------------------------------------------------\n",
            "Input size (MB): 0.62\n",
            "Forward/backward pass size (MB): 314.68\n",
            "Params size (MB): 90.07\n",
            "Estimated Total Size (MB): 405.36\n",
            "----------------------------------------------------------------\n"
          ]
        }
      ]
    },
    {
      "cell_type": "markdown",
      "source": [
        "#### Train Model"
      ],
      "metadata": {
        "id": "drxHjIQsmB6Q"
      }
    },
    {
      "cell_type": "code",
      "source": [
        "from tqdm.auto import tqdm # (optional) progress bar\n",
        "\n",
        "\n",
        "def training(dataloader, model, loss_fn, optimizer):\n",
        "    size = len(dataloader.dataset) # number of samples\n",
        "    num_batches = len(dataloader) # batches per epoch\n",
        "\n",
        "    model.train() # to training mode. (The Dropout layer has a different behavior between the training mode and the evaluation mode.)\n",
        "    epoch_loss, epoch_correct = 0, 0\n",
        "    for batch_i, (x, y) in enumerate(tqdm(dataloader, leave=False)):\n",
        "        x, y = x.to(device), y.to(device) # move data to GPU\n",
        "\n",
        "        # zero the parameter gradients\n",
        "        optimizer.zero_grad()\n",
        "\n",
        "        # Compute prediction loss\n",
        "        pred = model(x)\n",
        "        loss = loss_fn(pred, y)\n",
        "\n",
        "        # Optimization by gradients\n",
        "        loss.backward() # backpropagation to compute gradients\n",
        "        optimizer.step() # update model params\n",
        "\n",
        "        # write to logs\n",
        "        epoch_loss += loss.item() # tensor -> python value\n",
        "        # (N, Class)\n",
        "        epoch_correct += (pred.argmax(dim=1) == y).sum().item()\n",
        "\n",
        "    # return avg loss of epoch, acc of epoch\n",
        "    return epoch_loss/num_batches, epoch_correct/size\n",
        "\n",
        "\n",
        "def testing(dataloader, model, loss_fn):\n",
        "    size = len(dataloader.dataset) # number of samples\n",
        "    num_batches = len(dataloader) # batches per epoch\n",
        "\n",
        "    model.eval() # model to test mode.\n",
        "    epoch_loss, epoch_correct = 0, 0\n",
        "\n",
        "    # No gradient for test data\n",
        "    with torch.no_grad():\n",
        "        for batch_i, (x, y) in enumerate(dataloader):\n",
        "            x, y = x.to(device), y.to(device)\n",
        "\n",
        "            # Compute prediction loss\n",
        "            pred = model(x)\n",
        "            loss = loss_fn(pred, y)\n",
        "\n",
        "            # write to logs\n",
        "            epoch_loss += loss.item()\n",
        "            epoch_correct += (pred.argmax(1) == y).sum().item()\n",
        "\n",
        "    return epoch_loss/num_batches, epoch_correct/size"
      ],
      "metadata": {
        "id": "IqCHOfO7mEcf"
      },
      "execution_count": null,
      "outputs": []
    },
    {
      "cell_type": "code",
      "source": [
        "import matplotlib.pyplot as plt\n",
        "\n",
        "\n",
        "def train(pretrained, freeze=False):\n",
        "    print(f\"pretrained weights: {pretrained}, freeze: {freeze}\")\n",
        "    # Model\n",
        "    if pretrained:\n",
        "        model = models.resnet50(weights=ResNet50_Weights.IMAGENET1K_V2)\n",
        "    else:\n",
        "        model = models.resnet50(weights=None)\n",
        "\n",
        "    if freeze:\n",
        "        # Freeze model\n",
        "        for param in model.parameters():\n",
        "            param.requires_grad = False\n",
        "\n",
        "    # Replace classifier\n",
        "    num_features = model.fc.in_features # len of feature vectors\n",
        "    model.fc = nn.Linear(num_features, 50)\n",
        "\n",
        "    model = model.to(device)\n",
        "\n",
        "    loss_fn = nn.CrossEntropyLoss()\n",
        "    # lower learning rate for finetuning\n",
        "    optimizer = torch.optim.Adam(model.parameters(),\n",
        "                                 lr=1e-4*0.5)\n",
        "    # schedule = ReduceLROnplateau(optimizer, 'min')\n",
        "\n",
        "    EPOCHS = 30\n",
        "    logs = {\n",
        "        'train_loss': [], 'train_acc': [], 'val_loss': [], 'val_acc': []\n",
        "    }\n",
        "    for epoch in tqdm(range(EPOCHS)):\n",
        "        train_loss, train_acc = training(train_loader, model, loss_fn, optimizer)\n",
        "        val_loss, val_acc = testing(val_loader, model, loss_fn)\n",
        "\n",
        "        # # Note that step should be called after test_epoch()\n",
        "        # schedule.step(val_loss)\n",
        "\n",
        "        print(f'EPOCH: {epoch:04d} \\\n",
        "        train_loss: {train_loss:.4f}, train_acc: {train_acc:.3f} \\\n",
        "        val_loss: {val_loss:.4f}, val_acc: {val_acc:.3f} ')\n",
        "\n",
        "        logs['train_loss'].append(train_loss)\n",
        "        logs['train_acc'].append(train_acc)\n",
        "        logs['val_loss'].append(val_loss)\n",
        "        logs['val_acc'].append(val_acc)\n",
        "\n",
        "\n",
        "    # plot result\n",
        "    plt.figure(figsize=(6, 3))\n",
        "    plt.subplot(1, 2, 1)\n",
        "    plt.title('Loss')\n",
        "    plt.plot(logs['train_loss'])\n",
        "    plt.plot(logs['val_loss'])\n",
        "    plt.subplot(1, 2, 2)\n",
        "    plt.title('Acc.')\n",
        "    plt.plot(logs['train_acc'])\n",
        "    plt.plot(logs['val_acc'])\n",
        "    plt.show()\n",
        "\n",
        "    # Save model\n",
        "    torch.save(model.state_dict(), \"last.pth\")"
      ],
      "metadata": {
        "id": "U9T9TwAVmYkr"
      },
      "execution_count": null,
      "outputs": []
    },
    {
      "cell_type": "code",
      "source": [
        "# transfer learning\n",
        "train(pretrained=True)\n",
        "# (Not Use)train(pretrained=True, freeze=True)"
      ],
      "metadata": {
        "id": "UJYXE7u6oUrK"
      },
      "execution_count": null,
      "outputs": []
    }
  ]
}