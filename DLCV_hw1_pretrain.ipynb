{
  "nbformat": 4,
  "nbformat_minor": 0,
  "metadata": {
    "colab": {
      "provenance": [],
      "authorship_tag": "ABX9TyPiG7YSkd4sc2hYUCioRQYB",
      "include_colab_link": true
    },
    "kernelspec": {
      "name": "python3",
      "display_name": "Python 3"
    },
    "language_info": {
      "name": "python"
    }
  },
  "cells": [
    {
      "cell_type": "markdown",
      "metadata": {
        "id": "view-in-github",
        "colab_type": "text"
      },
      "source": [
        "<a href=\"https://colab.research.google.com/github/R12942159/DeepLearning/blob/main/DLCV_hw1_pretrain.ipynb\" target=\"_parent\"><img src=\"https://colab.research.google.com/assets/colab-badge.svg\" alt=\"Open In Colab\"/></a>"
      ]
    },
    {
      "cell_type": "code",
      "execution_count": null,
      "metadata": {
        "id": "fP5MX9IGIISl"
      },
      "outputs": [],
      "source": [
        "from google.colab import drive\n",
        "drive.mount('/content/drive')"
      ]
    },
    {
      "cell_type": "code",
      "source": [
        "import torch\n",
        "\n",
        "\n",
        "# Get cuda from GPU device for training.\n",
        "device = \"cuda\" if torch.cuda.is_available() else \"cpu\"\n",
        "print(f\"Using: {device}\")"
      ],
      "metadata": {
        "id": "HXjpM3inMeLE"
      },
      "execution_count": null,
      "outputs": []
    },
    {
      "cell_type": "code",
      "source": [
        "# search file paths\n",
        "from glob import glob\n",
        "\n",
        "\n",
        "img_paths_train = sorted(glob('/content/drive/MyDrive/NTU_DLCV/p1_data/train_50/*.png')) # *: all\n",
        "img_paths_val = sorted(glob('/content/drive/MyDrive/NTU_DLCV/p1_data/val_50/*.png'))"
      ],
      "metadata": {
        "id": "BK7QoEV7MewD"
      },
      "execution_count": null,
      "outputs": []
    },
    {
      "cell_type": "code",
      "source": [
        "# number of images\n",
        "len(img_paths_train), len(img_paths_val)"
      ],
      "metadata": {
        "id": "dLMWfO5xMjrN"
      },
      "execution_count": null,
      "outputs": []
    },
    {
      "cell_type": "code",
      "source": [
        "import torch\n",
        "import imageio.v2 as imageio\n",
        "from PIL import Image\n",
        "import numpy as np\n",
        "\n",
        "\n",
        "IMG_SIZE = 224\n",
        "class PretrainDataset(torch.utils.data.Dataset):\n",
        "    def __init__(self, img_paths, img_size, transform):\n",
        "        self.img_paths = img_paths\n",
        "        self.img_size = img_size\n",
        "        self.transform = transform\n",
        "\n",
        "    def __len__(self):\n",
        "        \"\"\"number of samples\"\"\"\n",
        "        return len(self.img_paths)\n",
        "\n",
        "    def __getitem__(self, idx):\n",
        "        \"\"\"read 1 sample\"\"\"\n",
        "        # Read img\n",
        "        path = self.img_paths[idx] # get img path\n",
        "        img = imageio.imread(path) # read img\n",
        "        img_pil = Image.fromarray(img)\n",
        "        img = img_pil.resize((IMG_SIZE, IMG_SIZE), Image.LANCZOS)\n",
        "        img = np.array(img)\n",
        "        # img = cv2.cvtColor(img, cv2.COLOR_BGR2RGB) # Convert to RGB\n",
        "\n",
        "        # transform img\n",
        "        img = self.transform(img)\n",
        "\n",
        "        # Read class index\n",
        "        cls_idx = int((path.split('/')[-1]).split('_')[0])\n",
        "        cls_idx = torch.tensor(cls_idx, dtype=torch.long)\n",
        "\n",
        "        return img, cls_idx"
      ],
      "metadata": {
        "id": "5inTy98yMnTL"
      },
      "execution_count": null,
      "outputs": []
    },
    {
      "cell_type": "code",
      "source": [
        "from torchvision.models import resnet50, ResNet50_Weights\n",
        "\n",
        "\n",
        "# Preprocess Transform\n",
        "transform =  ResNet50_Weights.IMAGENET1K_V2.transforms()\n",
        "\n",
        "# Build Dataset\n",
        "IMG_SIZE = 224 # ResNet-50 typically takes input images of size 224x224 pixels.\n",
        "train_ds = PretrainDataset(img_paths_train, IMG_SIZE, transform)\n",
        "val_ds = PretrainDataset(img_paths_val, IMG_SIZE, transform)"
      ],
      "metadata": {
        "id": "HJ9RoeKmhwdN"
      },
      "execution_count": null,
      "outputs": []
    },
    {
      "cell_type": "code",
      "source": [
        "transform"
      ],
      "metadata": {
        "id": "L83dypUwiw8V"
      },
      "execution_count": null,
      "outputs": []
    },
    {
      "cell_type": "code",
      "source": [
        "# Build DataLoaders\n",
        "BATCH_SIZE = 150\n",
        "train_loader = torch.utils.data.DataLoader(train_ds, BATCH_SIZE, shuffle=True)\n",
        "val_loader = torch.utils.data.DataLoader(val_ds, BATCH_SIZE)"
      ],
      "metadata": {
        "id": "stK3tUstMrRH"
      },
      "execution_count": null,
      "outputs": []
    },
    {
      "cell_type": "markdown",
      "source": [
        "#### Build Model (https://pytorch.org/vision/stable/models.html#classification)"
      ],
      "metadata": {
        "id": "Ovo1AYQnZJeb"
      }
    },
    {
      "cell_type": "code",
      "source": [
        "model = models.resnet50(weights=ResNet50_Weights.IMAGENET1K_V2)\n",
        "print(model)"
      ],
      "metadata": {
        "id": "Y46oO9jiZQrX"
      },
      "execution_count": null,
      "outputs": []
    },
    {
      "cell_type": "code",
      "source": [
        "# replace classifier\n",
        "num_features = model.fc.in_features # len of feature vectors\n",
        "\n",
        "# # Freeze model\n",
        "# for param in model.parameters():\n",
        "#     param.requires_grad = False\n",
        "\n",
        "# Replace classifier\n",
        "model.fc = nn.Linear(num_features, 50)\n",
        "print(model.fc)"
      ],
      "metadata": {
        "id": "lA7CjBcjk6op"
      },
      "execution_count": null,
      "outputs": []
    },
    {
      "cell_type": "code",
      "source": [
        "summary(model.to(device), (3, 224, 224))"
      ],
      "metadata": {
        "id": "J2D-CfH8lF10"
      },
      "execution_count": null,
      "outputs": []
    },
    {
      "cell_type": "markdown",
      "source": [
        "#### Train Model"
      ],
      "metadata": {
        "id": "drxHjIQsmB6Q"
      }
    },
    {
      "cell_type": "code",
      "source": [
        "def train_epoch(dataloader, model, loss_fn, optimizer):\n",
        "    size = len(dataloader.dataset) # number of samples\n",
        "    num_batches = len(dataloader) # batches per epoch\n",
        "\n",
        "    model.train() # to training mode.\n",
        "    epoch_loss, epoch_correct = 0, 0\n",
        "    for batch_i, (x, y) in enumerate(tqdm(dataloader, leave=False)):\n",
        "        x, y = x.to(device), y.to(device) # move data to GPU\n",
        "\n",
        "        # zero the parameter gradients\n",
        "        optimizer.zero_grad()\n",
        "\n",
        "        # Compute prediction loss\n",
        "        pred = model(x)\n",
        "        loss = loss_fn(pred, y)\n",
        "\n",
        "        # Optimization by gradients\n",
        "        loss.backward() # backpropagation to compute gradients\n",
        "        optimizer.step() # update model params\n",
        "\n",
        "        # write to logs\n",
        "        epoch_loss += loss.item() # tensor -> python value\n",
        "        # (N, Class)\n",
        "        epoch_correct += (pred.argmax(dim=1) == y).sum().item()\n",
        "\n",
        "    # return avg loss of epoch, acc of epoch\n",
        "    return epoch_loss/num_batches, epoch_correct/size\n",
        "\n",
        "\n",
        "def test_epoch(dataloader, model, loss_fn):\n",
        "    size = len(dataloader.dataset) # number of samples\n",
        "    num_batches = len(dataloader) # batches per epoch\n",
        "\n",
        "    model.eval() # model to test mode.\n",
        "    epoch_loss, epoch_correct = 0, 0\n",
        "\n",
        "    # No gradient for test data\n",
        "    with torch.no_grad():\n",
        "        for batch_i, (x, y) in enumerate(dataloader):\n",
        "            x, y = x.to(device), y.to(device)\n",
        "\n",
        "            # Compute prediction loss\n",
        "            pred = model(x)\n",
        "            loss = loss_fn(pred, y)\n",
        "\n",
        "            # write to logs\n",
        "            epoch_loss += loss.item()\n",
        "            epoch_correct += (pred.argmax(1) == y).sum().item()\n",
        "\n",
        "    return epoch_loss/num_batches, epoch_correct/size"
      ],
      "metadata": {
        "id": "IqCHOfO7mEcf"
      },
      "execution_count": null,
      "outputs": []
    },
    {
      "cell_type": "code",
      "source": [
        "import matplotlib.pyplot as plt\n",
        "\n",
        "\n",
        "def train(pretrained, freeze=False):\n",
        "    print(f\"pretrained weights: {pretrained}, freeze: {freeze}\")\n",
        "    # Model\n",
        "    if pretrained:\n",
        "        model = models.resnet50(weights=ResNet50_Weights.IMAGENET1K_V2)\n",
        "    else:\n",
        "        model = models.resnet50(weights=None)\n",
        "\n",
        "    if freeze:\n",
        "        # Freeze model\n",
        "        for param in model.parameters():\n",
        "            param.requires_grad = False\n",
        "    # Replace classifier\n",
        "    num_features = model.fc.in_features # len of feature vectors\n",
        "    model.fc = nn.Linear(num_features, 50)\n",
        "\n",
        "    model = model.to(device)\n",
        "\n",
        "    loss_fn = nn.CrossEntropyLoss()\n",
        "    # lower learning rate for finetuning\n",
        "    optimizer = torch.optim.Adam(model.parameters(),\n",
        "                                 lr=1e-4)\n",
        "    # schedule = ReduceLROnplateau(optimizer, 'min')\n",
        "\n",
        "    EPOCHS = 10\n",
        "    logs = {\n",
        "        'train_loss': [], 'train_acc': [], 'val_loss': [], 'val_acc': []\n",
        "    }\n",
        "    for epoch in tqdm(range(EPOCHS)):\n",
        "        train_loss, train_acc = train_epoch(train_loader, model, loss_fn, optimizer)\n",
        "        val_loss, val_acc = test_epoch(val_loader, model, loss_fn)\n",
        "\n",
        "        # # Note that step should be called after test_epoch()\n",
        "        # schedule.step(val_loss)\n",
        "\n",
        "        print(f'EPOCH: {epoch:04d} \\\n",
        "        train_loss: {train_loss:.4f}, train_acc: {train_acc:.3f} \\\n",
        "        val_loss: {val_loss:.4f}, val_acc: {val_acc:.3f} ')\n",
        "\n",
        "        logs['train_loss'].append(train_loss)\n",
        "        logs['train_acc'].append(train_acc)\n",
        "        logs['val_loss'].append(val_loss)\n",
        "        logs['val_acc'].append(val_acc)\n",
        "\n",
        "    # plot result\n",
        "    plt.figure(figsize=(6, 3))\n",
        "    plt.subplot(1, 2, 1)\n",
        "    plt.title('Loss')\n",
        "    plt.plot(logs['train_loss'])\n",
        "    plt.plot(logs['val_loss'])\n",
        "    plt.subplot(1, 2, 2)\n",
        "    plt.title('Acc.')\n",
        "    plt.plot(logs['train_acc'])\n",
        "    plt.plot(logs['val_acc'])\n",
        "    plt.show()\n",
        "\n",
        "    # Save model\n",
        "    torch.save(model, MODEL_PATH)"
      ],
      "metadata": {
        "id": "U9T9TwAVmYkr"
      },
      "execution_count": null,
      "outputs": []
    },
    {
      "cell_type": "code",
      "source": [
        "train(pretrained=False)\n",
        "# transfer learning\n",
        "train(pretrained=True)\n",
        "train(pretrained=True, freeze=True)"
      ],
      "metadata": {
        "id": "UJYXE7u6oUrK"
      },
      "execution_count": null,
      "outputs": []
    }
  ]
}