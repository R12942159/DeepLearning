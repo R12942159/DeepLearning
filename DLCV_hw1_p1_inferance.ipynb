{
  "nbformat": 4,
  "nbformat_minor": 0,
  "metadata": {
    "colab": {
      "provenance": [],
      "gpuType": "T4",
      "include_colab_link": true
    },
    "kernelspec": {
      "name": "python3",
      "display_name": "Python 3"
    },
    "language_info": {
      "name": "python"
    },
    "accelerator": "GPU"
  },
  "cells": [
    {
      "cell_type": "markdown",
      "metadata": {
        "id": "view-in-github",
        "colab_type": "text"
      },
      "source": [
        "<a href=\"https://colab.research.google.com/github/R12942159/DeepLearning/blob/main/DLCV_p1_inferance.ipynb\" target=\"_parent\"><img src=\"https://colab.research.google.com/assets/colab-badge.svg\" alt=\"Open In Colab\"/></a>"
      ]
    },
    {
      "cell_type": "code",
      "source": [
        "# !gdown https://drive.google.com/file/d/1-1IQCvKSFwMoDzHjfkMH4H1AirA4lesG/view?usp=share_link -O EFFICIENTNET_best_model.pth"
      ],
      "metadata": {
        "id": "A-gg6bS92tml"
      },
      "execution_count": null,
      "outputs": []
    },
    {
      "cell_type": "code",
      "source": [
        "import torch\n",
        "\n",
        "\n",
        "# Get cuda from GPU device for training.\n",
        "device = \"cuda\" if torch.cuda.is_available() else \"cpu\""
      ],
      "metadata": {
        "id": "DmMMJDTtNneq"
      },
      "execution_count": null,
      "outputs": []
    },
    {
      "cell_type": "code",
      "source": [
        "import os\n",
        "import argparse\n",
        "\n",
        "parser = argparse.ArgumentParser()\n",
        "parser.add_argument(\"path1\", help=\"display a square of a given number\")\n",
        "parser.add_argument(\"path2\", help=\"display a square of a given number\")\n",
        "args = parser.parse_args()\n",
        "\n",
        "img_paths = args.path1\n",
        "\n",
        "# search file paths\n",
        "img_paths_val = [os.path.join(img_paths, i) for i in os.listdir(img_paths) if i.endswith('.png')]"
      ],
      "metadata": {
        "id": "EkT2P3HFMLOS"
      },
      "execution_count": null,
      "outputs": []
    },
    {
      "cell_type": "code",
      "source": [
        "import torch\n",
        "from PIL import Image\n",
        "import numpy as np\n",
        "\n",
        "\n",
        "class PretrainDataset(torch.utils.data.Dataset):\n",
        "    def __init__(self, img_paths, transform):\n",
        "        self.img_paths = img_paths\n",
        "        self.transform = transform\n",
        "\n",
        "    def __len__(self):\n",
        "        \"\"\"number of samples\"\"\"\n",
        "        return len(self.img_paths)\n",
        "\n",
        "    def __getitem__(self, idx):\n",
        "        \"\"\"read 1 sample\"\"\"\n",
        "        # Read img\n",
        "        path = self.img_paths[idx] # get img path\n",
        "        img = Image.open(path).convert('RGB') # read img\n",
        "\n",
        "        # transform img\n",
        "        img = self.transform(img)\n",
        "\n",
        "        # Read file name\n",
        "        file_name = path.split('/')[-1]\n",
        "\n",
        "        return img, file_name"
      ],
      "metadata": {
        "id": "RVFpJDy3IYhj"
      },
      "execution_count": null,
      "outputs": []
    },
    {
      "cell_type": "code",
      "source": [
        "from torchvision.models import efficientnet_b4, EfficientNet_B4_Weights\n",
        "\n",
        "\n",
        "# Preprocess Transform\n",
        "transform =  EfficientNet_B4_Weights.DEFAULT.transforms()\n",
        "\n",
        "# Build Dataset\n",
        "val_ds = PretrainDataset(img_paths_val, transform)"
      ],
      "metadata": {
        "id": "85kCAT_LM7vb"
      },
      "execution_count": null,
      "outputs": []
    },
    {
      "cell_type": "code",
      "source": [
        "# Build DataLoaders\n",
        "BATCH_SIZE = 50\n",
        "val_loader = torch.utils.data.DataLoader(val_ds, BATCH_SIZE, shuffle=False)"
      ],
      "metadata": {
        "id": "AAkprahkNPDF"
      },
      "execution_count": null,
      "outputs": []
    },
    {
      "cell_type": "code",
      "source": [
        "# Build Model and Replace classifier\n",
        "from torchvision import models\n",
        "\n",
        "\n",
        "model = models.efficientnet_b4(weights=EfficientNet_B4_Weights.DEFAULT)\n",
        "\n",
        "last_layer = list(model.children())[-1]\n",
        "weights = last_layer[1].weight\n",
        "bias = last_layer[1].bias\n",
        "new_linear_layer = torch.nn.Linear(in_features=weights.shape[1], out_features=50, bias=True)\n",
        "new_linear_layer.weight.data = weights\n",
        "new_linear_layer.bias.data = bias\n",
        "last_layer[1] = new_linear_layer\n",
        "\n",
        "model.load_state_dict(torch.load(\"EFFICIENTNET_best_model.pth\"))"
      ],
      "metadata": {
        "colab": {
          "base_uri": "https://localhost:8080/"
        },
        "id": "faOlSRpjNjAd",
        "outputId": "4d082dce-3643-4b83-8a3f-9818c385623a"
      },
      "execution_count": null,
      "outputs": [
        {
          "output_type": "execute_result",
          "data": {
            "text/plain": [
              "<All keys matched successfully>"
            ]
          },
          "metadata": {},
          "execution_count": 37
        }
      ]
    },
    {
      "cell_type": "code",
      "source": [
        "model = model.to(device) # move model to GPU\n",
        "model.eval() # Set model to evaluation mode"
      ],
      "metadata": {
        "id": "qu0_VmgqPyBR"
      },
      "execution_count": null,
      "outputs": []
    },
    {
      "cell_type": "code",
      "source": [
        "# Create temp tensor\n",
        "file_name = []\n",
        "y_pred_logits = torch.tensor([]).to(device)"
      ],
      "metadata": {
        "id": "K8JPctHUUh_c"
      },
      "execution_count": null,
      "outputs": []
    },
    {
      "cell_type": "code",
      "source": [
        "from torch import nn\n",
        "\n",
        "\n",
        "# deactivate autograd engine and reduce memory usage and speed up computations\n",
        "with torch.no_grad():\n",
        "    for batch_i, (x, f_name) in enumerate(val_loader):\n",
        "        x = x.to(device)\n",
        "\n",
        "        pred = model(x)\n",
        "        y_pred_logits = torch.cat((y_pred_logits, pred), dim=0)\n",
        "        file_name.extend(f_name)\n",
        "\n",
        "y_pred_cls = y_pred_logits.argmax(1) # get class idx with max prob (100, 3) -> (100, )\n",
        "\n",
        "file_name = np.array(file_name, dtype=str)\n",
        "\n",
        "# Move tensor to CPU and convert to np.ndarray\n",
        "y_pred_cls = y_pred_cls.cpu().numpy()"
      ],
      "metadata": {
        "id": "8P-NsjqSUp21"
      },
      "execution_count": null,
      "outputs": []
    },
    {
      "cell_type": "code",
      "source": [
        "import csv\n",
        "\n",
        "pred_csv = args.path2\n",
        "# pred_csv = '/content/drive/MyDrive/DLCV/pred.csv'\n",
        "\n",
        "try:\n",
        "    os.makedirs(os.path.dirname(pred_csv), exist_ok=True)\n",
        "except:\n",
        "    pass\n",
        "\n",
        "with open(pred_csv, 'w', newline='') as file:\n",
        "    writer = csv.writer(file)\n",
        "    writer.writerow(('filename', 'label'))\n",
        "    for data in zip(file_name, y_pred_cls):\n",
        "        writer.writerow(data)"
      ],
      "metadata": {
        "id": "xnlIUTtoqM0F"
      },
      "execution_count": null,
      "outputs": []
    }
  ]
}
