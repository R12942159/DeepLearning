{
  "nbformat": 4,
  "nbformat_minor": 0,
  "metadata": {
    "colab": {
      "provenance": [],
      "authorship_tag": "ABX9TyODGLO9xBqXMO4XnB6I5QIV",
      "include_colab_link": true
    },
    "kernelspec": {
      "name": "python3",
      "display_name": "Python 3"
    },
    "language_info": {
      "name": "python"
    }
  },
  "cells": [
    {
      "cell_type": "markdown",
      "metadata": {
        "id": "view-in-github",
        "colab_type": "text"
      },
      "source": [
        "<a href=\"https://colab.research.google.com/github/R12942159/NTU_DLCV/blob/Hw4/p1_NeRF.ipynb\" target=\"_parent\"><img src=\"https://colab.research.google.com/assets/colab-badge.svg\" alt=\"Open In Colab\"/></a>"
      ]
    },
    {
      "cell_type": "code",
      "execution_count": null,
      "metadata": {
        "id": "iQosyvi9_SUi"
      },
      "outputs": [],
      "source": [
        "!gdown 1hF4z9U-xaoV4qaq9DbhTP-KKJTlwOUv_ -O hw4_data.zip\n",
        "!unzip hw4_data.zip\n",
        "!rm hw4_data.zip"
      ]
    },
    {
      "cell_type": "code",
      "source": [
        "!pip install kornia"
      ],
      "metadata": {
        "id": "W92bIA_qcnUM"
      },
      "execution_count": null,
      "outputs": []
    },
    {
      "cell_type": "code",
      "source": [
        "import os\n",
        "import glob\n",
        "import json\n",
        "import torch\n",
        "import random\n",
        "import numpy as np\n",
        "\n",
        "from PIL import Image\n",
        "from kornia import create_meshgrid\n",
        "from scipy.spatial import transform\n",
        "from torch.utils.data import Dataset\n",
        "from torchvision import transforms as T"
      ],
      "metadata": {
        "id": "-gbczwYcBWsV"
      },
      "execution_count": 11,
      "outputs": []
    },
    {
      "cell_type": "code",
      "source": [
        "metadata_path = '/content/dataset/metadata.json'\n",
        "output_floder = '/content'"
      ],
      "metadata": {
        "id": "t9yoiYQg_o-h"
      },
      "execution_count": 3,
      "outputs": []
    },
    {
      "cell_type": "code",
      "source": [
        "with open(metadata_path, 'r') as file:\n",
        "    metadata_json = json.load(file)"
      ],
      "metadata": {
        "id": "RbbEGlYHOBPY"
      },
      "execution_count": 4,
      "outputs": []
    },
    {
      "cell_type": "code",
      "source": [
        "width = metadata_json['metadata']['width']\n",
        "height = metadata_json['metadata']['height']"
      ],
      "metadata": {
        "id": "MjgnDBjDBaGR"
      },
      "execution_count": 5,
      "outputs": []
    },
    {
      "cell_type": "code",
      "source": [
        "metadata_json['metadata']\n",
        "metadata_json['camera']\n",
        "metadata_json['segmentation_labels']\n",
        "metadata_json['scene_boundaries']\n",
        "metadata_json['split_ids']"
      ],
      "metadata": {
        "id": "Ex1kj_Mzegtb"
      },
      "execution_count": null,
      "outputs": []
    },
    {
      "cell_type": "code",
      "source": [
        "class NeRFDataset(torch.utils.data.Dataset):\n",
        "\n",
        "    def __init__(self, metadata_path, dataset_path, mode='train'):\n",
        "        super(NeRFDataset, self).__init__()\n",
        "        self.dataset_path = dataset_path\n",
        "        self.mode = mode\n",
        "\n",
        "        with open(metadata_path, 'r') as file:\n",
        "            self.metadata_json = json.load(file)\n",
        "\n",
        "    def __len__(self) -> int:\n",
        "        return len(metadata_json['split_ids'][self.mode])\n",
        "\n",
        "    def __getitem__(self, idx):\n",
        "        id = self.metadata_json['split_ids'][self.mode][idx]\n",
        "        path = os.path.join(self.dataset_path, (str(id).rjust(5, '0') + '.jpg'))\n",
        "        positions = self.metadata_json['camera']['positions'][id]\n",
        "        quaternions = self.metadata_json['camera']['quaternions'][id]\n",
        "\n",
        "        return {'id': id, 'path': path, 'positions': positions, 'quaternions': quaternions}"
      ],
      "metadata": {
        "id": "GcTgRl_xiF5w"
      },
      "execution_count": 35,
      "outputs": []
    },
    {
      "cell_type": "code",
      "source": [
        "data = NeRFDataset(metadata_path, metadata_path)"
      ],
      "metadata": {
        "id": "fVjbNFAnmoiA"
      },
      "execution_count": 36,
      "outputs": []
    },
    {
      "cell_type": "code",
      "source": [
        "for i in data:\n",
        "    print(i['id'])\n",
        "    break"
      ],
      "metadata": {
        "colab": {
          "base_uri": "https://localhost:8080/"
        },
        "id": "r8s4IMUNmxCI",
        "outputId": "22d75292-f6d7-46b9-8c38-1b74044f0a3d"
      },
      "execution_count": 39,
      "outputs": [
        {
          "output_type": "stream",
          "name": "stdout",
          "text": [
            "166\n"
          ]
        }
      ]
    },
    {
      "cell_type": "code",
      "source": [],
      "metadata": {
        "id": "vhE8yqE2mxP-"
      },
      "execution_count": null,
      "outputs": []
    }
  ]
}