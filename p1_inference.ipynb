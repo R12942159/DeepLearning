{
  "nbformat": 4,
  "nbformat_minor": 0,
  "metadata": {
    "colab": {
      "provenance": [],
      "gpuType": "T4",
      "include_colab_link": true
    },
    "kernelspec": {
      "name": "python3",
      "display_name": "Python 3"
    },
    "language_info": {
      "name": "python"
    },
    "accelerator": "GPU"
  },
  "cells": [
    {
      "cell_type": "markdown",
      "metadata": {
        "id": "view-in-github",
        "colab_type": "text"
      },
      "source": [
        "<a href=\"https://colab.research.google.com/github/R12942159/NTU_DLCV/blob/Hw3/p1_inference.ipynb\" target=\"_parent\"><img src=\"https://colab.research.google.com/assets/colab-badge.svg\" alt=\"Open In Colab\"/></a>"
      ]
    },
    {
      "cell_type": "code",
      "execution_count": 14,
      "metadata": {
        "id": "rMZDhkoYCrBt"
      },
      "outputs": [],
      "source": [
        "import os\n",
        "import csv\n",
        "import json\n",
        "import clip\n",
        "import torch\n",
        "import argparse\n",
        "import numpy as np\n",
        "\n",
        "from PIL import Image\n",
        "from tqdm import tqdm\n",
        "from google.colab import drive"
      ]
    },
    {
      "cell_type": "markdown",
      "source": [
        "#### Get cuda from GPU device."
      ],
      "metadata": {
        "id": "ET8RawHfMN4D"
      }
    },
    {
      "cell_type": "code",
      "source": [
        "device = \"cuda\" if torch.cuda.is_available() else \"cpu\"\n",
        "print(f\"Using: {device}\")"
      ],
      "metadata": {
        "colab": {
          "base_uri": "https://localhost:8080/"
        },
        "id": "Blzhkx3UMO5a",
        "outputId": "e0c9a609-ddfe-4433-f82a-f1c93959a821"
      },
      "execution_count": 15,
      "outputs": [
        {
          "output_type": "stream",
          "name": "stdout",
          "text": [
            "Using: cuda\n"
          ]
        }
      ]
    },
    {
      "cell_type": "markdown",
      "source": [
        "#### Construct image path"
      ],
      "metadata": {
        "id": "7DtrKDCBKJDy"
      }
    },
    {
      "cell_type": "code",
      "source": [
        "# parser = argparse.ArgumentParser()\n",
        "# parser.add_argument(\"path1\")\n",
        "# parser.add_argument(\"path2\")\n",
        "# parser.add_argument(\"path3\")\n",
        "# args = parser.parse_args()\n",
        "\n",
        "# val_path = args.path1\n",
        "# id2label_path = args.path2\n",
        "# output_path = args.path3\n",
        "val_path = '/content/hw3_data/p1_data/val'\n",
        "id2label_path = '/content/hw3_data/p1_data/id2label.json'\n",
        "output_path = '/content/hw3_data/pred.csv'"
      ],
      "metadata": {
        "id": "jbJCpHmPLPLP"
      },
      "execution_count": 16,
      "outputs": []
    },
    {
      "cell_type": "code",
      "source": [
        "img_paths = [os.path.join(val_path, i) for i in os.listdir(val_path) if i.endswith('.png')]\n",
        "id2label = json.load(open(id2label_path, 'r'))\n",
        "labels = [l for _, l in id2label.items()]"
      ],
      "metadata": {
        "id": "kma1atmbKMdw"
      },
      "execution_count": 17,
      "outputs": []
    },
    {
      "cell_type": "markdown",
      "source": [
        "#### Training with [\"RN50\"(49.88%), \"RN101\"(50.92%), \"RN50x4\"(43.68%), \"RN50x16\"(58.72%), \"RN50x64\"(62.05%), \"ViT-B/32\"(71.16%), \"ViT-B/16\"(74.6%), \"ViT-L/14\"(81.44%), \"ViT-L/14@336px\"(80.68%)]"
      ],
      "metadata": {
        "id": "nKERV4CSUjZd"
      }
    },
    {
      "cell_type": "code",
      "source": [
        "def train(model_name = \"ViT-L/14\"):\n",
        "    model, transform = clip.load(name=model_name, device=device, jit=False)\n",
        "\n",
        "    ID, LABEL= [], []\n",
        "\n",
        "    for path in tqdm(img_paths):\n",
        "        img = Image.open(path).convert('RGB')\n",
        "        img = transform(img).unsqueeze(0).to(device) #  # resize to (1, 3, 448, 448), expected 4D input\n",
        "        prompt_text = torch.cat(\n",
        "            [clip.tokenize(f'A photo of a {i}.', context_length=77, truncate=False) for i in labels]\n",
        "        ).to(device)\n",
        "\n",
        "        with torch.no_grad():\n",
        "            img_features = model.encode_image(img) # (1, 1024)\n",
        "            text_features = model.encode_text(prompt_text) # (50, 1024)\n",
        "\n",
        "        # Pick the top 1 most similar labels for the image\n",
        "        img_features /= img_features.norm(dim=-1, keepdim=True)\n",
        "        text_features /= text_features.norm(dim=-1, keepdim=True)\n",
        "        similarity = (100. * img_features @ text_features.T).softmax(dim=-1)\n",
        "        label = similarity[0].argmax()\n",
        "\n",
        "        ID.append(path.split('/')[-1])\n",
        "        LABEL.append(label.item()) # torch.Tensor -> int\n",
        "\n",
        "    # Write output csv file\n",
        "    with open(output_path, mode='w', newline='') as file:\n",
        "        writer = csv.writer(file)\n",
        "        writer.writerow(('filename', 'label'))\n",
        "        for row in zip(ID, LABEL):\n",
        "            writer.writerow(row)"
      ],
      "metadata": {
        "id": "ld4PCl-yUnVU"
      },
      "execution_count": 18,
      "outputs": []
    },
    {
      "cell_type": "code",
      "source": [
        "train()"
      ],
      "metadata": {
        "id": "dBU263t8-8Jy",
        "outputId": "30c59a20-c9a2-403f-a658-ed17ac623897",
        "colab": {
          "base_uri": "https://localhost:8080/"
        }
      },
      "execution_count": 19,
      "outputs": [
        {
          "output_type": "stream",
          "name": "stderr",
          "text": [
            "100%|██████████| 2500/2500 [03:27<00:00, 12.05it/s]\n"
          ]
        }
      ]
    }
  ]
}