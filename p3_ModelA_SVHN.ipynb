{
  "nbformat": 4,
  "nbformat_minor": 0,
  "metadata": {
    "colab": {
      "provenance": [],
      "gpuType": "T4",
      "include_colab_link": true
    },
    "kernelspec": {
      "name": "python3",
      "display_name": "Python 3"
    },
    "language_info": {
      "name": "python"
    },
    "accelerator": "GPU"
  },
  "cells": [
    {
      "cell_type": "markdown",
      "metadata": {
        "id": "view-in-github",
        "colab_type": "text"
      },
      "source": [
        "<a href=\"https://colab.research.google.com/github/R12942159/NTU_DLCV/blob/Hw2/p3_ModelA_SVHN.ipynb\" target=\"_parent\"><img src=\"https://colab.research.google.com/assets/colab-badge.svg\" alt=\"Open In Colab\"/></a>"
      ]
    },
    {
      "cell_type": "code",
      "source": [
        "import os\n",
        "import torch\n",
        "import numpy as np\n",
        "import pandas as pd\n",
        "from PIL import Image\n",
        "from tqdm import tqdm\n",
        "import torch.nn as nn\n",
        "from torch import optim\n",
        "import torchvision.transforms as tr\n",
        "from torch.utils.data import DataLoader"
      ],
      "metadata": {
        "id": "tp9YuYhODsSk"
      },
      "execution_count": null,
      "outputs": []
    },
    {
      "cell_type": "code",
      "source": [
        "from google.colab import drive\n",
        "drive.mount('/content/drive')"
      ],
      "metadata": {
        "colab": {
          "base_uri": "https://localhost:8080/"
        },
        "id": "kxqDmB-kB1pu",
        "outputId": "7d53085a-c548-4d56-8775-7356f1c7040c"
      },
      "execution_count": null,
      "outputs": [
        {
          "output_type": "stream",
          "name": "stdout",
          "text": [
            "Mounted at /content/drive\n"
          ]
        }
      ]
    },
    {
      "cell_type": "markdown",
      "source": [
        "#### Download zip file"
      ],
      "metadata": {
        "id": "aUXFKRGlLOvG"
      }
    },
    {
      "cell_type": "code",
      "source": [
        "!pip install gsutil\n",
        "!gsutil cp /content/drive/MyDrive/NTU_DLCV/Hw2/hw2_data.zip /content/hw2_data.zip"
      ],
      "metadata": {
        "id": "doVVsVMbB620"
      },
      "execution_count": null,
      "outputs": []
    },
    {
      "cell_type": "code",
      "source": [
        "!unzip /content/hw2_data.zip"
      ],
      "metadata": {
        "id": "WP1EiTcQB8c6"
      },
      "execution_count": null,
      "outputs": []
    },
    {
      "cell_type": "markdown",
      "source": [
        "#### Get cuda from GPU"
      ],
      "metadata": {
        "id": "WVRZjvruLLrb"
      }
    },
    {
      "cell_type": "code",
      "source": [
        "device = \"cuda\" if torch.cuda.is_available() else \"cpu\"\n",
        "print(f\"Using: {device}\")"
      ],
      "metadata": {
        "colab": {
          "base_uri": "https://localhost:8080/"
        },
        "id": "Lf4M57NsLJnq",
        "outputId": "9dde1ccd-2636-41f3-f37f-fa348c070da8"
      },
      "execution_count": null,
      "outputs": [
        {
          "output_type": "stream",
          "name": "stdout",
          "text": [
            "Using: cuda\n"
          ]
        }
      ]
    },
    {
      "cell_type": "markdown",
      "source": [
        "#### Construct Dataset"
      ],
      "metadata": {
        "id": "-kdf1r19DVUZ"
      }
    },
    {
      "cell_type": "code",
      "source": [
        "class MnistDataset(torch.utils.data.Dataset):\n",
        "    def __init__(self, label_path: str, join_path: str, transform) -> None:\n",
        "        self.transform = transform\n",
        "        self.img_paths = []\n",
        "        self.img_labels = []\n",
        "\n",
        "        label_csv = pd.read_csv(label_path).values.tolist()\n",
        "\n",
        "        for row in label_csv:\n",
        "            self.img_paths.append(os.path.join(join_path, row[0]))\n",
        "            self.img_labels.append(row[1])\n",
        "        assert len(self.img_paths) == len(self.img_labels)\n",
        "\n",
        "    def __len__(self):\n",
        "        return len(self.img_paths)\n",
        "\n",
        "    def __getitem__(self, idx) -> (torch.Tensor, int):\n",
        "        img_path = self.img_paths[idx]\n",
        "        img = Image.open(img_path).convert('RGB') # (28, 28, 3)\n",
        "        img = self.transform(img)\n",
        "\n",
        "        label = self.img_labels[idx]\n",
        "        return img, label"
      ],
      "metadata": {
        "id": "_WR7bP-YDehh"
      },
      "execution_count": null,
      "outputs": []
    },
    {
      "cell_type": "code",
      "source": [
        "mean=[0.485, 0.456, 0.406]\n",
        "std=[0.229, 0.224, 0.225]\n",
        "\n",
        "source_train_ds = MnistDataset(\n",
        "    label_path='/content/hw2_data/digits/mnistm/train.csv',\n",
        "    join_path='/content/hw2_data/digits/mnistm/data',\n",
        "    transform=tr.Compose([\n",
        "        tr.ToTensor(),\n",
        "        tr.Normalize(mean=mean, std=std),\n",
        "    ])\n",
        ")\n",
        "\n",
        "target_train_ds = MnistDataset(\n",
        "    label_path='/content/hw2_data/digits/svhn/train.csv',\n",
        "    join_path='/content/hw2_data/digits/svhn/data',\n",
        "    transform=tr.Compose([\n",
        "        tr.ToTensor(),\n",
        "        tr.Normalize(mean=mean, std=std),\n",
        "    ])\n",
        ")\n",
        "\n",
        "target_val_ds = MnistDataset(\n",
        "    label_path='/content/hw2_data/digits/svhn/val.csv',\n",
        "    join_path='/content/hw2_data/digits/svhn/data',\n",
        "    transform=tr.Compose([\n",
        "        tr.ToTensor(),\n",
        "        tr.Normalize(mean=mean, std=std),\n",
        "    ])\n",
        ")"
      ],
      "metadata": {
        "id": "rsMapmVxHL3r"
      },
      "execution_count": null,
      "outputs": []
    },
    {
      "cell_type": "code",
      "source": [
        "BATCH_SIZE = 512\n",
        "\n",
        "source_train_loader = DataLoader(source_train_ds, BATCH_SIZE, shuffle=True, num_workers=4)\n",
        "target_train_loader = DataLoader(target_train_ds, BATCH_SIZE, shuffle=True, num_workers=4)\n",
        "target_val_loader = DataLoader(target_val_ds, BATCH_SIZE, shuffle=False, num_workers=4)"
      ],
      "metadata": {
        "id": "x85T63PnJcVr",
        "colab": {
          "base_uri": "https://localhost:8080/"
        },
        "outputId": "8ee38ddb-45dc-4f9c-9c5c-4204ff4c4afd"
      },
      "execution_count": null,
      "outputs": [
        {
          "output_type": "stream",
          "name": "stderr",
          "text": [
            "/usr/local/lib/python3.10/dist-packages/torch/utils/data/dataloader.py:557: UserWarning: This DataLoader will create 4 worker processes in total. Our suggested max number of worker in current system is 2, which is smaller than what this DataLoader is going to create. Please be aware that excessive worker creation might get DataLoader running slow or even freeze, lower the worker number to avoid potential slowness/freeze if necessary.\n",
            "  warnings.warn(_create_warning_msg(\n"
          ]
        }
      ]
    },
    {
      "cell_type": "markdown",
      "source": [
        "#### Domain-Adversarial Training of Neural Networks (DANN)"
      ],
      "metadata": {
        "id": "VYC19z24BDsB"
      }
    },
    {
      "cell_type": "code",
      "source": [
        "class GRL(torch.autograd.Function):\n",
        "    @staticmethod\n",
        "    def forward(ctx, x, alpha):\n",
        "        ctx.alpha = alpha\n",
        "        return x.view_as(x)\n",
        "\n",
        "    @staticmethod\n",
        "    def backward(ctx, grad_output):\n",
        "         output = grad_output.neg() * ctx.alpha\n",
        "         return output, None\n",
        "\n",
        "class FeatureExtractor(nn.Module):\n",
        "    def __init__(self) -> None:\n",
        "        super(FeatureExtractor, self).__init__()\n",
        "        self.extractor = nn.Sequential(\n",
        "            nn.Conv2d(3, 64, 5), # (64, 24, 24)\n",
        "            nn.BatchNorm2d(64),\n",
        "            nn.ReLU(),\n",
        "            nn.MaxPool2d(kernel_size=4, stride=2), # (64, 11, 11)\n",
        "\n",
        "            nn.Conv2d(64, 64, 5), # (64, 7, 7)\n",
        "            nn.BatchNorm2d(64),\n",
        "            nn.Dropout2d(),\n",
        "            nn.ReLU(),\n",
        "            nn.MaxPool2d(3, 2), # (64, 3, 3)\n",
        "\n",
        "            nn.Conv2d(64, 128, 3), # (128, 1, 1)\n",
        "        )\n",
        "\n",
        "    def forward(self, x):\n",
        "        features = self.extractor(x)\n",
        "        features = features.view(-1, 128)\n",
        "        return features\n",
        "\n",
        "class Classifier(nn.Module):\n",
        "    def __init__(self) -> None:\n",
        "        super(Classifier, self).__init__()\n",
        "        self.classifier = nn.Sequential(\n",
        "            nn.Linear(128, 512),\n",
        "            nn.BatchNorm1d(512),\n",
        "            nn.ReLU(),\n",
        "            nn.Dropout2d(),\n",
        "\n",
        "            nn.Linear(512, 128),\n",
        "            nn.BatchNorm1d(128),\n",
        "            nn.ReLU(),\n",
        "\n",
        "            nn.Linear(128, 10),\n",
        "        )\n",
        "\n",
        "    def forward(self, features):\n",
        "        class_label = self.classifier(features)\n",
        "        return class_label\n",
        "\n",
        "class DomainClassifier(nn.Module):\n",
        "    def __init__(self) -> None:\n",
        "        super(DomainClassifier, self).__init__()\n",
        "        self.domainclassifier = nn.Sequential(\n",
        "            nn.Linear(128, 256),\n",
        "            # nn.BatchNorm1d(256),\n",
        "            nn.ReLU(),\n",
        "\n",
        "            nn.Linear(256, 1),\n",
        "        )\n",
        "\n",
        "    def forward(self, features, alpha):\n",
        "        reversed_input = GRL.apply(features, alpha)\n",
        "        x = self.domainclassifier(reversed_input)\n",
        "        return x"
      ],
      "metadata": {
        "id": "T8dxFahzz_pC"
      },
      "execution_count": null,
      "outputs": []
    },
    {
      "cell_type": "markdown",
      "source": [
        "#### Train"
      ],
      "metadata": {
        "id": "vEZgv1TYLf-g"
      }
    },
    {
      "cell_type": "code",
      "source": [
        "def model_mode(mode: str, models: list) -> None:\n",
        "    for model in models:\n",
        "        if mode == 'train':\n",
        "            model.train()\n",
        "        elif mode == 'eval':\n",
        "            model.eval()"
      ],
      "metadata": {
        "id": "ZsdsZ8GRAbHZ"
      },
      "execution_count": null,
      "outputs": []
    },
    {
      "cell_type": "code",
      "source": [
        "EPOCHS = 250\n",
        "\n",
        "# Earlystopping\n",
        "patience = 200\n",
        "counter = 0\n",
        "best_accuracy = 0.4\n",
        "\n",
        "# setting parameters\n",
        "lr = 5e-3\n",
        "momentum = 0.9\n",
        "\n",
        "feature_extractor = FeatureExtractor()\n",
        "feature_extractor.to(device)\n",
        "classifier = Classifier()\n",
        "classifier.to(device)\n",
        "domain_classifier = DomainClassifier()\n",
        "domain_classifier.to(device)\n",
        "\n",
        "clf_loss_fn = nn.CrossEntropyLoss()\n",
        "domainclf_loss_fn = nn.BCEWithLogitsLoss() # 'Binary' Cross Entropy With Logits Loss\n",
        "\n",
        "optimizer = optim.SGD(\n",
        "    list(feature_extractor.parameters()) + list(classifier.parameters()) + list(domain_classifier.parameters()),\n",
        "    lr=lr,\n",
        "    momentum=momentum,\n",
        ")\n",
        "\n",
        "# logs dictionary\n",
        "logs = {'class_label_loss': [], 'domain_label_loss': [], 'val_accuracy': []}"
      ],
      "metadata": {
        "id": "y0vvyP4ILhj4"
      },
      "execution_count": null,
      "outputs": []
    },
    {
      "cell_type": "code",
      "source": [
        "for epoch in range(EPOCHS):\n",
        "    # start_steps = epoch * len(source_train_loader)\n",
        "    total_steps = EPOCHS * len(target_train_loader)\n",
        "\n",
        "    for (source_x, source_y), (target_x, target_y) in tqdm(zip(source_train_loader, target_train_loader), total=len(source_train_loader)):\n",
        "        model_mode('train', [feature_extractor, classifier, domain_classifier])\n",
        "\n",
        "        source_x, source_y = source_x.to(device, non_blocking=True), source_y.to(device, non_blocking=True)\n",
        "        target_x, target_y = target_x.to(device, non_blocking=True), target_y.to(device, non_blocking=True)\n",
        "\n",
        "        # scheduling\n",
        "        p = epoch / total_steps\n",
        "        alpha = 2. / (1. + np.exp(-10 * p)) - 1\n",
        "\n",
        "        optimizer.param_groups[0]['lr'] = lr / (1. + 10 * p) ** 0.75\n",
        "        optimizer.zero_grad()\n",
        "\n",
        "        # features extractor\n",
        "        source_features = feature_extractor(source_x)\n",
        "        target_features = feature_extractor(target_x)\n",
        "\n",
        "        # classifier\n",
        "        # compute class label loss\n",
        "        class_label = classifier(source_features)\n",
        "        class_label_loss = clf_loss_fn(class_label, source_y)\n",
        "\n",
        "        # doamin classifier\n",
        "        # source domain label = 0\n",
        "        source_domain_label = domain_classifier(source_features, alpha).squeeze() # (batch_size, 1) -> (batch_size)\n",
        "        domain_label_source_loss = domainclf_loss_fn(\n",
        "            source_domain_label,\n",
        "            torch.zeros(source_y.shape[0], dtype=torch.float, device=device),\n",
        "        )\n",
        "        # target domain label = 1\n",
        "        target_domain_label = domain_classifier(target_features, alpha).squeeze()\n",
        "        domain_label_target_loss = domainclf_loss_fn(\n",
        "            target_domain_label,\n",
        "            torch.ones(target_y.shape[0], dtype=torch.float, device=device),\n",
        "        )\n",
        "        # compute domain total loss\n",
        "        domain_label_loss = domain_label_source_loss + domain_label_target_loss\n",
        "\n",
        "        total_loss = class_label_loss + domain_label_loss\n",
        "        total_loss.backward()\n",
        "        optimizer.step()\n",
        "\n",
        "        # write logs\n",
        "        logs['class_label_loss'].append(class_label_loss)\n",
        "        logs['domain_label_loss'].append(domain_label_loss)\n",
        "\n",
        "\n",
        "    model_mode('eval', [feature_extractor, classifier, domain_classifier])\n",
        "    val_accuracy = 0\n",
        "    with torch.no_grad():\n",
        "        for target_val_x, target_val_y in tqdm(target_val_loader):\n",
        "            target_val_x, target_val_y = target_val_x.to(device), target_val_y.cpu().numpy()\n",
        "\n",
        "            features = feature_extractor(target_val_x)\n",
        "            class_label = classifier(features)\n",
        "            class_label = class_label.argmax(-1).cpu().numpy()\n",
        "\n",
        "            val_accuracy += np.mean((class_label == target_val_y).astype(int))\n",
        "\n",
        "    val_accuracy /= len(target_val_loader)\n",
        "\n",
        "    # write logs\n",
        "    logs['val_accuracy'].append(val_accuracy)\n",
        "\n",
        "    print('\\n', f'EPOCH: {(epoch+1):04d} -> val_accuracy: {val_accuracy:.4f}, class_label_loss: {class_label_loss:.4f}, domain_label_loss: {domain_label_loss:.4f}')\n",
        "\n",
        "    # chcek improvement\n",
        "    if val_accuracy > best_accuracy:\n",
        "        counter = 0\n",
        "        best_accuracy = val_accuracy\n",
        "\n",
        "        torch.save(feature_extractor.state_dict(), f\"//content/drive/MyDrive/NTU_DLCV/Hw2/p3_ckpt_SVHN/{epoch+1}feature_extractor.pth\")\n",
        "        torch.save(classifier.state_dict(), f\"/content/drive/MyDrive/NTU_DLCV/Hw2/p3_ckpt_SVHN/{epoch+1}classifier.pth\")\n",
        "        torch.save(domain_classifier.state_dict(), f\"/content/drive/MyDrive/NTU_DLCV/Hw2/p3_ckpt_SVHN/{epoch+1}domain_classifier.pth\")\n",
        "        print(\"--------------------Model saved--------------------\")\n",
        "    else:\n",
        "        counter += 1\n",
        "    if counter >= patience:\n",
        "        print(\"--------------------Earlystop--------------------\")\n",
        "        break"
      ],
      "metadata": {
        "id": "a6BVeVmg_hAD",
        "colab": {
          "base_uri": "https://localhost:8080/"
        },
        "outputId": "820b3e70-be20-4afc-c8f2-550b06224e21"
      },
      "execution_count": null,
      "outputs": [
        {
          "output_type": "stream",
          "name": "stderr",
          "text": [
            "100%|██████████| 88/88 [00:35<00:00,  2.47it/s]\n",
            "100%|██████████| 32/32 [00:06<00:00,  4.58it/s]"
          ]
        },
        {
          "output_type": "stream",
          "name": "stdout",
          "text": [
            "\n",
            " EPOCH: 0001 -> val_accuracy: 0.2726, class_label_loss: 1.2567, domain_label_loss: 1.1872\n"
          ]
        },
        {
          "output_type": "stream",
          "name": "stderr",
          "text": [
            "\n",
            "100%|██████████| 88/88 [00:36<00:00,  2.42it/s]\n",
            "100%|██████████| 32/32 [00:05<00:00,  5.80it/s]"
          ]
        },
        {
          "output_type": "stream",
          "name": "stdout",
          "text": [
            "\n",
            " EPOCH: 0002 -> val_accuracy: 0.3744, class_label_loss: 0.6750, domain_label_loss: 0.9538\n"
          ]
        },
        {
          "output_type": "stream",
          "name": "stderr",
          "text": [
            "\n",
            "100%|██████████| 88/88 [00:36<00:00,  2.39it/s]\n",
            "100%|██████████| 32/32 [00:05<00:00,  5.49it/s]"
          ]
        },
        {
          "output_type": "stream",
          "name": "stdout",
          "text": [
            "\n",
            " EPOCH: 0003 -> val_accuracy: 0.4247, class_label_loss: 0.4717, domain_label_loss: 0.6789\n",
            "--------------------Model saved--------------------\n"
          ]
        },
        {
          "output_type": "stream",
          "name": "stderr",
          "text": [
            "\n",
            "100%|██████████| 88/88 [00:34<00:00,  2.53it/s]\n",
            "100%|██████████| 32/32 [00:08<00:00,  3.62it/s]"
          ]
        },
        {
          "output_type": "stream",
          "name": "stdout",
          "text": [
            "\n",
            " EPOCH: 0004 -> val_accuracy: 0.4239, class_label_loss: 0.2759, domain_label_loss: 0.6664\n"
          ]
        },
        {
          "output_type": "stream",
          "name": "stderr",
          "text": [
            "\n",
            "100%|██████████| 88/88 [00:35<00:00,  2.51it/s]\n",
            "100%|██████████| 32/32 [00:06<00:00,  5.02it/s]"
          ]
        },
        {
          "output_type": "stream",
          "name": "stdout",
          "text": [
            "\n",
            " EPOCH: 0005 -> val_accuracy: 0.4205, class_label_loss: 0.2798, domain_label_loss: 0.6255\n"
          ]
        },
        {
          "output_type": "stream",
          "name": "stderr",
          "text": [
            "\n",
            "100%|██████████| 88/88 [00:36<00:00,  2.43it/s]\n",
            "100%|██████████| 32/32 [00:05<00:00,  5.86it/s]"
          ]
        },
        {
          "output_type": "stream",
          "name": "stdout",
          "text": [
            "\n",
            " EPOCH: 0006 -> val_accuracy: 0.4363, class_label_loss: 0.2945, domain_label_loss: 0.5048\n",
            "--------------------Model saved--------------------\n"
          ]
        },
        {
          "output_type": "stream",
          "name": "stderr",
          "text": [
            "\n",
            "100%|██████████| 88/88 [00:37<00:00,  2.36it/s]\n",
            "100%|██████████| 32/32 [00:07<00:00,  4.51it/s]"
          ]
        },
        {
          "output_type": "stream",
          "name": "stdout",
          "text": [
            "\n",
            " EPOCH: 0007 -> val_accuracy: 0.4158, class_label_loss: 0.2079, domain_label_loss: 0.6305\n"
          ]
        },
        {
          "output_type": "stream",
          "name": "stderr",
          "text": [
            "\n",
            "100%|██████████| 88/88 [00:34<00:00,  2.58it/s]\n",
            "100%|██████████| 32/32 [00:08<00:00,  3.79it/s]"
          ]
        },
        {
          "output_type": "stream",
          "name": "stdout",
          "text": [
            "\n",
            " EPOCH: 0008 -> val_accuracy: 0.3904, class_label_loss: 0.1924, domain_label_loss: 0.6111\n"
          ]
        },
        {
          "output_type": "stream",
          "name": "stderr",
          "text": [
            "\n",
            "100%|██████████| 88/88 [00:36<00:00,  2.40it/s]\n",
            "100%|██████████| 32/32 [00:05<00:00,  5.97it/s]"
          ]
        },
        {
          "output_type": "stream",
          "name": "stdout",
          "text": [
            "\n",
            " EPOCH: 0009 -> val_accuracy: 0.4139, class_label_loss: 0.2136, domain_label_loss: 0.5869\n"
          ]
        },
        {
          "output_type": "stream",
          "name": "stderr",
          "text": [
            "\n",
            "100%|██████████| 88/88 [00:36<00:00,  2.42it/s]\n",
            "100%|██████████| 32/32 [00:05<00:00,  5.98it/s]"
          ]
        },
        {
          "output_type": "stream",
          "name": "stdout",
          "text": [
            "\n",
            " EPOCH: 0010 -> val_accuracy: 0.4508, class_label_loss: 0.2366, domain_label_loss: 0.5149\n",
            "--------------------Model saved--------------------\n"
          ]
        },
        {
          "output_type": "stream",
          "name": "stderr",
          "text": [
            "\n",
            "100%|██████████| 88/88 [00:36<00:00,  2.41it/s]\n",
            "100%|██████████| 32/32 [00:07<00:00,  4.04it/s]"
          ]
        },
        {
          "output_type": "stream",
          "name": "stdout",
          "text": [
            "\n",
            " EPOCH: 0011 -> val_accuracy: 0.4351, class_label_loss: 0.2344, domain_label_loss: 0.4687\n"
          ]
        },
        {
          "output_type": "stream",
          "name": "stderr",
          "text": [
            "\n",
            "100%|██████████| 88/88 [00:34<00:00,  2.57it/s]\n",
            "100%|██████████| 32/32 [00:07<00:00,  4.25it/s]"
          ]
        },
        {
          "output_type": "stream",
          "name": "stdout",
          "text": [
            "\n",
            " EPOCH: 0012 -> val_accuracy: 0.4117, class_label_loss: 0.1439, domain_label_loss: 0.5718\n"
          ]
        },
        {
          "output_type": "stream",
          "name": "stderr",
          "text": [
            "\n",
            "100%|██████████| 88/88 [00:36<00:00,  2.43it/s]\n",
            "100%|██████████| 32/32 [00:05<00:00,  5.93it/s]"
          ]
        },
        {
          "output_type": "stream",
          "name": "stdout",
          "text": [
            "\n",
            " EPOCH: 0013 -> val_accuracy: 0.4365, class_label_loss: 0.1261, domain_label_loss: 0.6023\n"
          ]
        },
        {
          "output_type": "stream",
          "name": "stderr",
          "text": [
            "\n",
            "100%|██████████| 88/88 [00:36<00:00,  2.41it/s]\n",
            "100%|██████████| 32/32 [00:05<00:00,  5.94it/s]"
          ]
        },
        {
          "output_type": "stream",
          "name": "stdout",
          "text": [
            "\n",
            " EPOCH: 0014 -> val_accuracy: 0.4336, class_label_loss: 0.1489, domain_label_loss: 0.4848\n"
          ]
        },
        {
          "output_type": "stream",
          "name": "stderr",
          "text": [
            "\n",
            "100%|██████████| 88/88 [00:35<00:00,  2.45it/s]\n",
            "100%|██████████| 32/32 [00:08<00:00,  3.74it/s]"
          ]
        },
        {
          "output_type": "stream",
          "name": "stdout",
          "text": [
            "\n",
            " EPOCH: 0015 -> val_accuracy: 0.4463, class_label_loss: 0.1522, domain_label_loss: 0.5058\n"
          ]
        },
        {
          "output_type": "stream",
          "name": "stderr",
          "text": [
            "\n",
            "100%|██████████| 88/88 [00:34<00:00,  2.53it/s]\n",
            "100%|██████████| 32/32 [00:06<00:00,  4.89it/s]"
          ]
        },
        {
          "output_type": "stream",
          "name": "stdout",
          "text": [
            "\n",
            " EPOCH: 0016 -> val_accuracy: 0.4233, class_label_loss: 0.1090, domain_label_loss: 0.5377\n"
          ]
        },
        {
          "output_type": "stream",
          "name": "stderr",
          "text": [
            "\n",
            "100%|██████████| 88/88 [00:36<00:00,  2.42it/s]\n",
            "100%|██████████| 32/32 [00:05<00:00,  6.16it/s]"
          ]
        },
        {
          "output_type": "stream",
          "name": "stdout",
          "text": [
            "\n",
            " EPOCH: 0017 -> val_accuracy: 0.4014, class_label_loss: 0.2292, domain_label_loss: 0.5044\n"
          ]
        },
        {
          "output_type": "stream",
          "name": "stderr",
          "text": [
            "\n",
            "100%|██████████| 88/88 [00:35<00:00,  2.47it/s]\n",
            "100%|██████████| 32/32 [00:06<00:00,  5.30it/s]"
          ]
        },
        {
          "output_type": "stream",
          "name": "stdout",
          "text": [
            "\n",
            " EPOCH: 0018 -> val_accuracy: 0.4115, class_label_loss: 0.0683, domain_label_loss: 0.5504\n"
          ]
        },
        {
          "output_type": "stream",
          "name": "stderr",
          "text": [
            "\n",
            "100%|██████████| 88/88 [00:34<00:00,  2.53it/s]\n",
            "100%|██████████| 32/32 [00:08<00:00,  3.78it/s]"
          ]
        },
        {
          "output_type": "stream",
          "name": "stdout",
          "text": [
            "\n",
            " EPOCH: 0019 -> val_accuracy: 0.4295, class_label_loss: 0.1908, domain_label_loss: 0.5487\n"
          ]
        },
        {
          "output_type": "stream",
          "name": "stderr",
          "text": [
            "\n",
            "100%|██████████| 88/88 [00:35<00:00,  2.51it/s]\n",
            "100%|██████████| 32/32 [00:05<00:00,  5.41it/s]"
          ]
        },
        {
          "output_type": "stream",
          "name": "stdout",
          "text": [
            "\n",
            " EPOCH: 0020 -> val_accuracy: 0.4350, class_label_loss: 0.1314, domain_label_loss: 0.5586\n"
          ]
        },
        {
          "output_type": "stream",
          "name": "stderr",
          "text": [
            "\n",
            "100%|██████████| 88/88 [00:35<00:00,  2.45it/s]\n",
            "100%|██████████| 32/32 [00:05<00:00,  6.04it/s]"
          ]
        },
        {
          "output_type": "stream",
          "name": "stdout",
          "text": [
            "\n",
            " EPOCH: 0021 -> val_accuracy: 0.4152, class_label_loss: 0.1149, domain_label_loss: 0.5609\n"
          ]
        },
        {
          "output_type": "stream",
          "name": "stderr",
          "text": [
            "\n",
            "100%|██████████| 88/88 [00:36<00:00,  2.42it/s]\n",
            "100%|██████████| 32/32 [00:06<00:00,  5.01it/s]"
          ]
        },
        {
          "output_type": "stream",
          "name": "stdout",
          "text": [
            "\n",
            " EPOCH: 0022 -> val_accuracy: 0.3981, class_label_loss: 0.1224, domain_label_loss: 0.5900\n"
          ]
        },
        {
          "output_type": "stream",
          "name": "stderr",
          "text": [
            "\n",
            "100%|██████████| 88/88 [00:34<00:00,  2.56it/s]\n",
            "100%|██████████| 32/32 [00:08<00:00,  3.68it/s]"
          ]
        },
        {
          "output_type": "stream",
          "name": "stdout",
          "text": [
            "\n",
            " EPOCH: 0023 -> val_accuracy: 0.4279, class_label_loss: 0.1595, domain_label_loss: 0.5394\n"
          ]
        },
        {
          "output_type": "stream",
          "name": "stderr",
          "text": [
            "\n",
            "100%|██████████| 88/88 [00:35<00:00,  2.49it/s]\n",
            "100%|██████████| 32/32 [00:05<00:00,  5.75it/s]"
          ]
        },
        {
          "output_type": "stream",
          "name": "stdout",
          "text": [
            "\n",
            " EPOCH: 0024 -> val_accuracy: 0.4272, class_label_loss: 0.1175, domain_label_loss: 0.5258\n"
          ]
        },
        {
          "output_type": "stream",
          "name": "stderr",
          "text": [
            "\n",
            "100%|██████████| 88/88 [00:35<00:00,  2.46it/s]\n",
            "100%|██████████| 32/32 [00:05<00:00,  5.77it/s]"
          ]
        },
        {
          "output_type": "stream",
          "name": "stdout",
          "text": [
            "\n",
            " EPOCH: 0025 -> val_accuracy: 0.4036, class_label_loss: 0.1336, domain_label_loss: 0.4984\n"
          ]
        },
        {
          "output_type": "stream",
          "name": "stderr",
          "text": [
            "\n",
            "100%|██████████| 88/88 [00:36<00:00,  2.43it/s]\n",
            "100%|██████████| 32/32 [00:06<00:00,  5.00it/s]"
          ]
        },
        {
          "output_type": "stream",
          "name": "stdout",
          "text": [
            "\n",
            " EPOCH: 0026 -> val_accuracy: 0.4235, class_label_loss: 0.1116, domain_label_loss: 0.4835\n"
          ]
        },
        {
          "output_type": "stream",
          "name": "stderr",
          "text": [
            "\n",
            "100%|██████████| 88/88 [00:34<00:00,  2.58it/s]\n",
            "100%|██████████| 32/32 [00:08<00:00,  3.76it/s]"
          ]
        },
        {
          "output_type": "stream",
          "name": "stdout",
          "text": [
            "\n",
            " EPOCH: 0027 -> val_accuracy: 0.4326, class_label_loss: 0.1044, domain_label_loss: 0.4383\n"
          ]
        },
        {
          "output_type": "stream",
          "name": "stderr",
          "text": [
            "\n",
            "100%|██████████| 88/88 [00:36<00:00,  2.44it/s]\n",
            "100%|██████████| 32/32 [00:05<00:00,  6.01it/s]"
          ]
        },
        {
          "output_type": "stream",
          "name": "stdout",
          "text": [
            "\n",
            " EPOCH: 0028 -> val_accuracy: 0.4066, class_label_loss: 0.1326, domain_label_loss: 0.5458\n"
          ]
        },
        {
          "output_type": "stream",
          "name": "stderr",
          "text": [
            "\n",
            "100%|██████████| 88/88 [00:36<00:00,  2.41it/s]\n",
            "100%|██████████| 32/32 [00:05<00:00,  5.96it/s]"
          ]
        },
        {
          "output_type": "stream",
          "name": "stdout",
          "text": [
            "\n",
            " EPOCH: 0029 -> val_accuracy: 0.3885, class_label_loss: 0.1500, domain_label_loss: 0.4735\n"
          ]
        },
        {
          "output_type": "stream",
          "name": "stderr",
          "text": [
            "\n",
            "100%|██████████| 88/88 [00:36<00:00,  2.42it/s]\n",
            "100%|██████████| 32/32 [00:08<00:00,  3.98it/s]"
          ]
        },
        {
          "output_type": "stream",
          "name": "stdout",
          "text": [
            "\n",
            " EPOCH: 0030 -> val_accuracy: 0.4168, class_label_loss: 0.1308, domain_label_loss: 0.5256\n"
          ]
        },
        {
          "output_type": "stream",
          "name": "stderr",
          "text": [
            "\n",
            "100%|██████████| 88/88 [00:36<00:00,  2.42it/s]\n",
            "100%|██████████| 32/32 [00:07<00:00,  4.01it/s]"
          ]
        },
        {
          "output_type": "stream",
          "name": "stdout",
          "text": [
            "\n",
            " EPOCH: 0031 -> val_accuracy: 0.4098, class_label_loss: 0.1280, domain_label_loss: 0.4812\n"
          ]
        },
        {
          "output_type": "stream",
          "name": "stderr",
          "text": [
            "\n",
            "100%|██████████| 88/88 [00:37<00:00,  2.36it/s]\n",
            "100%|██████████| 32/32 [00:05<00:00,  5.90it/s]"
          ]
        },
        {
          "output_type": "stream",
          "name": "stdout",
          "text": [
            "\n",
            " EPOCH: 0032 -> val_accuracy: 0.4188, class_label_loss: 0.0966, domain_label_loss: 0.4690\n"
          ]
        },
        {
          "output_type": "stream",
          "name": "stderr",
          "text": [
            "\n",
            "100%|██████████| 88/88 [00:36<00:00,  2.41it/s]\n",
            "100%|██████████| 32/32 [00:05<00:00,  5.46it/s]"
          ]
        },
        {
          "output_type": "stream",
          "name": "stdout",
          "text": [
            "\n",
            " EPOCH: 0033 -> val_accuracy: 0.4009, class_label_loss: 0.0803, domain_label_loss: 0.4694\n"
          ]
        },
        {
          "output_type": "stream",
          "name": "stderr",
          "text": [
            "\n",
            "100%|██████████| 88/88 [00:35<00:00,  2.50it/s]\n",
            "100%|██████████| 32/32 [00:08<00:00,  3.59it/s]"
          ]
        },
        {
          "output_type": "stream",
          "name": "stdout",
          "text": [
            "\n",
            " EPOCH: 0034 -> val_accuracy: 0.4471, class_label_loss: 0.1062, domain_label_loss: 0.5507\n"
          ]
        },
        {
          "output_type": "stream",
          "name": "stderr",
          "text": [
            "\n",
            "100%|██████████| 88/88 [00:35<00:00,  2.45it/s]\n",
            "100%|██████████| 32/32 [00:05<00:00,  5.71it/s]"
          ]
        },
        {
          "output_type": "stream",
          "name": "stdout",
          "text": [
            "\n",
            " EPOCH: 0035 -> val_accuracy: 0.4301, class_label_loss: 0.0772, domain_label_loss: 0.4762\n"
          ]
        },
        {
          "output_type": "stream",
          "name": "stderr",
          "text": [
            "\n",
            "100%|██████████| 88/88 [00:36<00:00,  2.40it/s]\n",
            "100%|██████████| 32/32 [00:05<00:00,  5.75it/s]"
          ]
        },
        {
          "output_type": "stream",
          "name": "stdout",
          "text": [
            "\n",
            " EPOCH: 0036 -> val_accuracy: 0.4278, class_label_loss: 0.0898, domain_label_loss: 0.4637\n"
          ]
        },
        {
          "output_type": "stream",
          "name": "stderr",
          "text": [
            "\n",
            "100%|██████████| 88/88 [00:36<00:00,  2.40it/s]\n",
            "100%|██████████| 32/32 [00:07<00:00,  4.39it/s]"
          ]
        },
        {
          "output_type": "stream",
          "name": "stdout",
          "text": [
            "\n",
            " EPOCH: 0037 -> val_accuracy: 0.4335, class_label_loss: 0.0700, domain_label_loss: 0.4830\n"
          ]
        },
        {
          "output_type": "stream",
          "name": "stderr",
          "text": [
            "\n",
            "100%|██████████| 88/88 [00:34<00:00,  2.55it/s]\n",
            "100%|██████████| 32/32 [00:08<00:00,  3.89it/s]"
          ]
        },
        {
          "output_type": "stream",
          "name": "stdout",
          "text": [
            "\n",
            " EPOCH: 0038 -> val_accuracy: 0.4172, class_label_loss: 0.0525, domain_label_loss: 0.5013\n"
          ]
        },
        {
          "output_type": "stream",
          "name": "stderr",
          "text": [
            "\n",
            "100%|██████████| 88/88 [00:36<00:00,  2.42it/s]\n",
            "100%|██████████| 32/32 [00:05<00:00,  5.87it/s]"
          ]
        },
        {
          "output_type": "stream",
          "name": "stdout",
          "text": [
            "\n",
            " EPOCH: 0039 -> val_accuracy: 0.4158, class_label_loss: 0.1005, domain_label_loss: 0.5077\n"
          ]
        },
        {
          "output_type": "stream",
          "name": "stderr",
          "text": [
            "\n",
            "100%|██████████| 88/88 [00:37<00:00,  2.34it/s]\n",
            "100%|██████████| 32/32 [00:05<00:00,  5.87it/s]"
          ]
        },
        {
          "output_type": "stream",
          "name": "stdout",
          "text": [
            "\n",
            " EPOCH: 0040 -> val_accuracy: 0.4048, class_label_loss: 0.0804, domain_label_loss: 0.4223\n"
          ]
        },
        {
          "output_type": "stream",
          "name": "stderr",
          "text": [
            "\n",
            "100%|██████████| 88/88 [00:36<00:00,  2.39it/s]\n",
            "100%|██████████| 32/32 [00:07<00:00,  4.23it/s]"
          ]
        },
        {
          "output_type": "stream",
          "name": "stdout",
          "text": [
            "\n",
            " EPOCH: 0041 -> val_accuracy: 0.4153, class_label_loss: 0.0540, domain_label_loss: 0.5648\n"
          ]
        },
        {
          "output_type": "stream",
          "name": "stderr",
          "text": [
            "\n",
            "100%|██████████| 88/88 [00:33<00:00,  2.61it/s]\n",
            "100%|██████████| 32/32 [00:08<00:00,  3.94it/s]"
          ]
        },
        {
          "output_type": "stream",
          "name": "stdout",
          "text": [
            "\n",
            " EPOCH: 0042 -> val_accuracy: 0.4099, class_label_loss: 0.0549, domain_label_loss: 0.4898\n"
          ]
        },
        {
          "output_type": "stream",
          "name": "stderr",
          "text": [
            "\n",
            "100%|██████████| 88/88 [00:36<00:00,  2.44it/s]\n",
            "100%|██████████| 32/32 [00:05<00:00,  5.72it/s]"
          ]
        },
        {
          "output_type": "stream",
          "name": "stdout",
          "text": [
            "\n",
            " EPOCH: 0043 -> val_accuracy: 0.4277, class_label_loss: 0.1239, domain_label_loss: 0.5142\n"
          ]
        },
        {
          "output_type": "stream",
          "name": "stderr",
          "text": [
            "\n",
            "100%|██████████| 88/88 [00:36<00:00,  2.44it/s]\n",
            "100%|██████████| 32/32 [00:05<00:00,  5.95it/s]"
          ]
        },
        {
          "output_type": "stream",
          "name": "stdout",
          "text": [
            "\n",
            " EPOCH: 0044 -> val_accuracy: 0.4087, class_label_loss: 0.0772, domain_label_loss: 0.5586\n"
          ]
        },
        {
          "output_type": "stream",
          "name": "stderr",
          "text": [
            "\n",
            "100%|██████████| 88/88 [00:36<00:00,  2.42it/s]\n",
            "100%|██████████| 32/32 [00:07<00:00,  4.28it/s]"
          ]
        },
        {
          "output_type": "stream",
          "name": "stdout",
          "text": [
            "\n",
            " EPOCH: 0045 -> val_accuracy: 0.3815, class_label_loss: 0.0676, domain_label_loss: 0.5006\n"
          ]
        },
        {
          "output_type": "stream",
          "name": "stderr",
          "text": [
            "\n",
            "100%|██████████| 88/88 [00:34<00:00,  2.56it/s]\n",
            "100%|██████████| 32/32 [00:07<00:00,  4.15it/s]"
          ]
        },
        {
          "output_type": "stream",
          "name": "stdout",
          "text": [
            "\n",
            " EPOCH: 0046 -> val_accuracy: 0.4367, class_label_loss: 0.0962, domain_label_loss: 0.4911\n"
          ]
        },
        {
          "output_type": "stream",
          "name": "stderr",
          "text": [
            "\n",
            "100%|██████████| 88/88 [00:36<00:00,  2.44it/s]\n",
            "100%|██████████| 32/32 [00:05<00:00,  6.06it/s]"
          ]
        },
        {
          "output_type": "stream",
          "name": "stdout",
          "text": [
            "\n",
            " EPOCH: 0047 -> val_accuracy: 0.4312, class_label_loss: 0.0771, domain_label_loss: 0.4902\n"
          ]
        },
        {
          "output_type": "stream",
          "name": "stderr",
          "text": [
            "\n",
            "100%|██████████| 88/88 [00:36<00:00,  2.42it/s]\n",
            "100%|██████████| 32/32 [00:05<00:00,  6.04it/s]"
          ]
        },
        {
          "output_type": "stream",
          "name": "stdout",
          "text": [
            "\n",
            " EPOCH: 0048 -> val_accuracy: 0.4149, class_label_loss: 0.0564, domain_label_loss: 0.5499\n"
          ]
        },
        {
          "output_type": "stream",
          "name": "stderr",
          "text": [
            "\n",
            "100%|██████████| 88/88 [00:35<00:00,  2.47it/s]\n",
            "100%|██████████| 32/32 [00:07<00:00,  4.40it/s]"
          ]
        },
        {
          "output_type": "stream",
          "name": "stdout",
          "text": [
            "\n",
            " EPOCH: 0049 -> val_accuracy: 0.4334, class_label_loss: 0.0873, domain_label_loss: 0.4907\n"
          ]
        },
        {
          "output_type": "stream",
          "name": "stderr",
          "text": [
            "\n",
            "100%|██████████| 88/88 [00:33<00:00,  2.59it/s]\n",
            "100%|██████████| 32/32 [00:07<00:00,  4.03it/s]"
          ]
        },
        {
          "output_type": "stream",
          "name": "stdout",
          "text": [
            "\n",
            " EPOCH: 0050 -> val_accuracy: 0.4188, class_label_loss: 0.0568, domain_label_loss: 0.5370\n"
          ]
        },
        {
          "output_type": "stream",
          "name": "stderr",
          "text": [
            "\n",
            "100%|██████████| 88/88 [00:36<00:00,  2.43it/s]\n",
            "100%|██████████| 32/32 [00:05<00:00,  5.99it/s]"
          ]
        },
        {
          "output_type": "stream",
          "name": "stdout",
          "text": [
            "\n",
            " EPOCH: 0051 -> val_accuracy: 0.4280, class_label_loss: 0.0650, domain_label_loss: 0.4576\n"
          ]
        },
        {
          "output_type": "stream",
          "name": "stderr",
          "text": [
            "\n",
            "100%|██████████| 88/88 [00:35<00:00,  2.46it/s]\n",
            "100%|██████████| 32/32 [00:05<00:00,  6.11it/s]"
          ]
        },
        {
          "output_type": "stream",
          "name": "stdout",
          "text": [
            "\n",
            " EPOCH: 0052 -> val_accuracy: 0.4166, class_label_loss: 0.0827, domain_label_loss: 0.4583\n"
          ]
        },
        {
          "output_type": "stream",
          "name": "stderr",
          "text": [
            "\n",
            "100%|██████████| 88/88 [00:36<00:00,  2.42it/s]\n",
            "100%|██████████| 32/32 [00:07<00:00,  4.32it/s]"
          ]
        },
        {
          "output_type": "stream",
          "name": "stdout",
          "text": [
            "\n",
            " EPOCH: 0053 -> val_accuracy: 0.4255, class_label_loss: 0.0453, domain_label_loss: 0.5056\n"
          ]
        },
        {
          "output_type": "stream",
          "name": "stderr",
          "text": [
            "\n",
            "100%|██████████| 88/88 [00:33<00:00,  2.59it/s]\n",
            "100%|██████████| 32/32 [00:07<00:00,  4.21it/s]"
          ]
        },
        {
          "output_type": "stream",
          "name": "stdout",
          "text": [
            "\n",
            " EPOCH: 0054 -> val_accuracy: 0.4328, class_label_loss: 0.0401, domain_label_loss: 0.5402\n"
          ]
        },
        {
          "output_type": "stream",
          "name": "stderr",
          "text": [
            "\n",
            "100%|██████████| 88/88 [00:36<00:00,  2.44it/s]\n",
            "100%|██████████| 32/32 [00:05<00:00,  6.03it/s]"
          ]
        },
        {
          "output_type": "stream",
          "name": "stdout",
          "text": [
            "\n",
            " EPOCH: 0055 -> val_accuracy: 0.4242, class_label_loss: 0.0617, domain_label_loss: 0.5136\n"
          ]
        },
        {
          "output_type": "stream",
          "name": "stderr",
          "text": [
            "\n",
            "100%|██████████| 88/88 [00:36<00:00,  2.44it/s]\n",
            "100%|██████████| 32/32 [00:05<00:00,  5.93it/s]"
          ]
        },
        {
          "output_type": "stream",
          "name": "stdout",
          "text": [
            "\n",
            " EPOCH: 0056 -> val_accuracy: 0.4350, class_label_loss: 0.0765, domain_label_loss: 0.5674\n"
          ]
        },
        {
          "output_type": "stream",
          "name": "stderr",
          "text": [
            "\n",
            "100%|██████████| 88/88 [00:34<00:00,  2.52it/s]\n",
            "100%|██████████| 32/32 [00:08<00:00,  3.74it/s]"
          ]
        },
        {
          "output_type": "stream",
          "name": "stdout",
          "text": [
            "\n",
            " EPOCH: 0057 -> val_accuracy: 0.4301, class_label_loss: 0.0843, domain_label_loss: 0.5686\n"
          ]
        },
        {
          "output_type": "stream",
          "name": "stderr",
          "text": [
            "\n",
            "100%|██████████| 88/88 [00:34<00:00,  2.59it/s]\n",
            "100%|██████████| 32/32 [00:06<00:00,  4.86it/s]"
          ]
        },
        {
          "output_type": "stream",
          "name": "stdout",
          "text": [
            "\n",
            " EPOCH: 0058 -> val_accuracy: 0.4312, class_label_loss: 0.0427, domain_label_loss: 0.4914\n"
          ]
        },
        {
          "output_type": "stream",
          "name": "stderr",
          "text": [
            "\n",
            "100%|██████████| 88/88 [00:35<00:00,  2.47it/s]\n",
            "100%|██████████| 32/32 [00:05<00:00,  6.01it/s]"
          ]
        },
        {
          "output_type": "stream",
          "name": "stdout",
          "text": [
            "\n",
            " EPOCH: 0059 -> val_accuracy: 0.4314, class_label_loss: 0.0563, domain_label_loss: 0.4943\n"
          ]
        },
        {
          "output_type": "stream",
          "name": "stderr",
          "text": [
            "\n",
            "100%|██████████| 88/88 [00:35<00:00,  2.45it/s]\n",
            "100%|██████████| 32/32 [00:05<00:00,  5.37it/s]"
          ]
        },
        {
          "output_type": "stream",
          "name": "stdout",
          "text": [
            "\n",
            " EPOCH: 0060 -> val_accuracy: 0.4454, class_label_loss: 0.0605, domain_label_loss: 0.4989\n"
          ]
        },
        {
          "output_type": "stream",
          "name": "stderr",
          "text": [
            "\n",
            "100%|██████████| 88/88 [00:34<00:00,  2.54it/s]\n",
            "100%|██████████| 32/32 [00:08<00:00,  3.71it/s]"
          ]
        },
        {
          "output_type": "stream",
          "name": "stdout",
          "text": [
            "\n",
            " EPOCH: 0061 -> val_accuracy: 0.4233, class_label_loss: 0.0700, domain_label_loss: 0.4651\n"
          ]
        },
        {
          "output_type": "stream",
          "name": "stderr",
          "text": [
            "\n",
            "100%|██████████| 88/88 [00:34<00:00,  2.54it/s]\n",
            "100%|██████████| 32/32 [00:06<00:00,  5.27it/s]"
          ]
        },
        {
          "output_type": "stream",
          "name": "stdout",
          "text": [
            "\n",
            " EPOCH: 0062 -> val_accuracy: 0.4352, class_label_loss: 0.0908, domain_label_loss: 0.5325\n"
          ]
        },
        {
          "output_type": "stream",
          "name": "stderr",
          "text": [
            "\n",
            "100%|██████████| 88/88 [00:36<00:00,  2.42it/s]\n",
            "100%|██████████| 32/32 [00:05<00:00,  5.87it/s]"
          ]
        },
        {
          "output_type": "stream",
          "name": "stdout",
          "text": [
            "\n",
            " EPOCH: 0063 -> val_accuracy: 0.3940, class_label_loss: 0.0692, domain_label_loss: 0.5378\n"
          ]
        },
        {
          "output_type": "stream",
          "name": "stderr",
          "text": [
            "\n",
            "100%|██████████| 88/88 [00:36<00:00,  2.43it/s]\n",
            "100%|██████████| 32/32 [00:07<00:00,  4.27it/s]"
          ]
        },
        {
          "output_type": "stream",
          "name": "stdout",
          "text": [
            "\n",
            " EPOCH: 0064 -> val_accuracy: 0.4147, class_label_loss: 0.0549, domain_label_loss: 0.5200\n"
          ]
        },
        {
          "output_type": "stream",
          "name": "stderr",
          "text": [
            "\n",
            "100%|██████████| 88/88 [00:34<00:00,  2.54it/s]\n",
            "100%|██████████| 32/32 [00:07<00:00,  4.06it/s]"
          ]
        },
        {
          "output_type": "stream",
          "name": "stdout",
          "text": [
            "\n",
            " EPOCH: 0065 -> val_accuracy: 0.4435, class_label_loss: 0.0591, domain_label_loss: 0.6158\n"
          ]
        },
        {
          "output_type": "stream",
          "name": "stderr",
          "text": [
            "\n",
            "100%|██████████| 88/88 [00:35<00:00,  2.46it/s]\n",
            "100%|██████████| 32/32 [00:05<00:00,  5.92it/s]"
          ]
        },
        {
          "output_type": "stream",
          "name": "stdout",
          "text": [
            "\n",
            " EPOCH: 0066 -> val_accuracy: 0.4415, class_label_loss: 0.0557, domain_label_loss: 0.4956\n"
          ]
        },
        {
          "output_type": "stream",
          "name": "stderr",
          "text": [
            "\n",
            "100%|██████████| 88/88 [00:36<00:00,  2.41it/s]\n",
            "100%|██████████| 32/32 [00:05<00:00,  5.99it/s]"
          ]
        },
        {
          "output_type": "stream",
          "name": "stdout",
          "text": [
            "\n",
            " EPOCH: 0067 -> val_accuracy: 0.4647, class_label_loss: 0.0278, domain_label_loss: 0.5495\n",
            "--------------------Model saved--------------------\n"
          ]
        },
        {
          "output_type": "stream",
          "name": "stderr",
          "text": [
            "\n",
            "100%|██████████| 88/88 [00:36<00:00,  2.44it/s]\n",
            "100%|██████████| 32/32 [00:07<00:00,  4.26it/s]"
          ]
        },
        {
          "output_type": "stream",
          "name": "stdout",
          "text": [
            "\n",
            " EPOCH: 0068 -> val_accuracy: 0.4040, class_label_loss: 0.1113, domain_label_loss: 0.5819\n"
          ]
        },
        {
          "output_type": "stream",
          "name": "stderr",
          "text": [
            "\n",
            "100%|██████████| 88/88 [00:33<00:00,  2.62it/s]\n",
            "100%|██████████| 32/32 [00:08<00:00,  3.93it/s]"
          ]
        },
        {
          "output_type": "stream",
          "name": "stdout",
          "text": [
            "\n",
            " EPOCH: 0069 -> val_accuracy: 0.4216, class_label_loss: 0.0559, domain_label_loss: 0.5448\n"
          ]
        },
        {
          "output_type": "stream",
          "name": "stderr",
          "text": [
            "\n",
            "100%|██████████| 88/88 [00:35<00:00,  2.47it/s]\n",
            "100%|██████████| 32/32 [00:05<00:00,  5.79it/s]"
          ]
        },
        {
          "output_type": "stream",
          "name": "stdout",
          "text": [
            "\n",
            " EPOCH: 0070 -> val_accuracy: 0.4242, class_label_loss: 0.0307, domain_label_loss: 0.4875\n"
          ]
        },
        {
          "output_type": "stream",
          "name": "stderr",
          "text": [
            "\n",
            "100%|██████████| 88/88 [00:36<00:00,  2.44it/s]\n",
            "100%|██████████| 32/32 [00:05<00:00,  5.92it/s]"
          ]
        },
        {
          "output_type": "stream",
          "name": "stdout",
          "text": [
            "\n",
            " EPOCH: 0071 -> val_accuracy: 0.4586, class_label_loss: 0.0999, domain_label_loss: 0.6149\n"
          ]
        },
        {
          "output_type": "stream",
          "name": "stderr",
          "text": [
            "\n",
            "100%|██████████| 88/88 [00:36<00:00,  2.39it/s]\n",
            "100%|██████████| 32/32 [00:07<00:00,  4.22it/s]"
          ]
        },
        {
          "output_type": "stream",
          "name": "stdout",
          "text": [
            "\n",
            " EPOCH: 0072 -> val_accuracy: 0.4258, class_label_loss: 0.0374, domain_label_loss: 0.5082\n"
          ]
        },
        {
          "output_type": "stream",
          "name": "stderr",
          "text": [
            "\n",
            "100%|██████████| 88/88 [00:34<00:00,  2.55it/s]\n",
            "100%|██████████| 32/32 [00:07<00:00,  4.19it/s]"
          ]
        },
        {
          "output_type": "stream",
          "name": "stdout",
          "text": [
            "\n",
            " EPOCH: 0073 -> val_accuracy: 0.4267, class_label_loss: 0.0715, domain_label_loss: 0.5216\n"
          ]
        },
        {
          "output_type": "stream",
          "name": "stderr",
          "text": [
            "\n",
            "100%|██████████| 88/88 [00:36<00:00,  2.43it/s]\n",
            "100%|██████████| 32/32 [00:05<00:00,  5.80it/s]"
          ]
        },
        {
          "output_type": "stream",
          "name": "stdout",
          "text": [
            "\n",
            " EPOCH: 0074 -> val_accuracy: 0.4586, class_label_loss: 0.0426, domain_label_loss: 0.5826\n"
          ]
        },
        {
          "output_type": "stream",
          "name": "stderr",
          "text": [
            "\n",
            "100%|██████████| 88/88 [00:36<00:00,  2.41it/s]\n",
            "100%|██████████| 32/32 [00:06<00:00,  5.29it/s]"
          ]
        },
        {
          "output_type": "stream",
          "name": "stdout",
          "text": [
            "\n",
            " EPOCH: 0075 -> val_accuracy: 0.4299, class_label_loss: 0.0206, domain_label_loss: 0.5317\n"
          ]
        },
        {
          "output_type": "stream",
          "name": "stderr",
          "text": [
            "\n",
            "100%|██████████| 88/88 [00:34<00:00,  2.55it/s]\n",
            "100%|██████████| 32/32 [00:08<00:00,  3.64it/s]"
          ]
        },
        {
          "output_type": "stream",
          "name": "stdout",
          "text": [
            "\n",
            " EPOCH: 0076 -> val_accuracy: 0.4125, class_label_loss: 0.0653, domain_label_loss: 0.4768\n"
          ]
        },
        {
          "output_type": "stream",
          "name": "stderr",
          "text": [
            "\n",
            "100%|██████████| 88/88 [00:35<00:00,  2.50it/s]\n",
            "100%|██████████| 32/32 [00:06<00:00,  5.15it/s]"
          ]
        },
        {
          "output_type": "stream",
          "name": "stdout",
          "text": [
            "\n",
            " EPOCH: 0077 -> val_accuracy: 0.4244, class_label_loss: 0.0490, domain_label_loss: 0.5527\n"
          ]
        },
        {
          "output_type": "stream",
          "name": "stderr",
          "text": [
            "\n",
            "100%|██████████| 88/88 [00:36<00:00,  2.43it/s]\n",
            "100%|██████████| 32/32 [00:05<00:00,  5.94it/s]"
          ]
        },
        {
          "output_type": "stream",
          "name": "stdout",
          "text": [
            "\n",
            " EPOCH: 0078 -> val_accuracy: 0.4183, class_label_loss: 0.0383, domain_label_loss: 0.5504\n"
          ]
        },
        {
          "output_type": "stream",
          "name": "stderr",
          "text": [
            "\n",
            "100%|██████████| 88/88 [00:36<00:00,  2.43it/s]\n",
            "100%|██████████| 32/32 [00:06<00:00,  5.11it/s]"
          ]
        },
        {
          "output_type": "stream",
          "name": "stdout",
          "text": [
            "\n",
            " EPOCH: 0079 -> val_accuracy: 0.4450, class_label_loss: 0.0421, domain_label_loss: 0.4961\n"
          ]
        },
        {
          "output_type": "stream",
          "name": "stderr",
          "text": [
            "\n",
            "100%|██████████| 88/88 [00:34<00:00,  2.56it/s]\n",
            "100%|██████████| 32/32 [00:09<00:00,  3.55it/s]"
          ]
        },
        {
          "output_type": "stream",
          "name": "stdout",
          "text": [
            "\n",
            " EPOCH: 0080 -> val_accuracy: 0.4242, class_label_loss: 0.0420, domain_label_loss: 0.4869\n"
          ]
        },
        {
          "output_type": "stream",
          "name": "stderr",
          "text": [
            "\n",
            "100%|██████████| 88/88 [00:34<00:00,  2.52it/s]\n",
            "100%|██████████| 32/32 [00:05<00:00,  5.34it/s]"
          ]
        },
        {
          "output_type": "stream",
          "name": "stdout",
          "text": [
            "\n",
            " EPOCH: 0081 -> val_accuracy: 0.4333, class_label_loss: 0.0539, domain_label_loss: 0.5261\n"
          ]
        },
        {
          "output_type": "stream",
          "name": "stderr",
          "text": [
            "\n",
            "100%|██████████| 88/88 [00:36<00:00,  2.44it/s]\n",
            "100%|██████████| 32/32 [00:05<00:00,  5.97it/s]"
          ]
        },
        {
          "output_type": "stream",
          "name": "stdout",
          "text": [
            "\n",
            " EPOCH: 0082 -> val_accuracy: 0.4288, class_label_loss: 0.0396, domain_label_loss: 0.5382\n"
          ]
        },
        {
          "output_type": "stream",
          "name": "stderr",
          "text": [
            "\n",
            "100%|██████████| 88/88 [00:36<00:00,  2.43it/s]\n",
            "100%|██████████| 32/32 [00:06<00:00,  5.17it/s]"
          ]
        },
        {
          "output_type": "stream",
          "name": "stdout",
          "text": [
            "\n",
            " EPOCH: 0083 -> val_accuracy: 0.4420, class_label_loss: 0.0259, domain_label_loss: 0.5007\n"
          ]
        },
        {
          "output_type": "stream",
          "name": "stderr",
          "text": [
            "\n",
            "100%|██████████| 88/88 [00:34<00:00,  2.58it/s]\n",
            "100%|██████████| 32/32 [00:08<00:00,  3.66it/s]"
          ]
        },
        {
          "output_type": "stream",
          "name": "stdout",
          "text": [
            "\n",
            " EPOCH: 0084 -> val_accuracy: 0.4185, class_label_loss: 0.0362, domain_label_loss: 0.4594\n"
          ]
        },
        {
          "output_type": "stream",
          "name": "stderr",
          "text": [
            "\n",
            "100%|██████████| 88/88 [00:34<00:00,  2.52it/s]\n",
            "100%|██████████| 32/32 [00:06<00:00,  5.14it/s]"
          ]
        },
        {
          "output_type": "stream",
          "name": "stdout",
          "text": [
            "\n",
            " EPOCH: 0085 -> val_accuracy: 0.4365, class_label_loss: 0.0188, domain_label_loss: 0.5710\n"
          ]
        },
        {
          "output_type": "stream",
          "name": "stderr",
          "text": [
            "\n",
            "100%|██████████| 88/88 [00:35<00:00,  2.45it/s]\n",
            "100%|██████████| 32/32 [00:05<00:00,  5.86it/s]"
          ]
        },
        {
          "output_type": "stream",
          "name": "stdout",
          "text": [
            "\n",
            " EPOCH: 0086 -> val_accuracy: 0.4113, class_label_loss: 0.0779, domain_label_loss: 0.6007\n"
          ]
        },
        {
          "output_type": "stream",
          "name": "stderr",
          "text": [
            "\n",
            "100%|██████████| 88/88 [00:36<00:00,  2.43it/s]\n",
            "100%|██████████| 32/32 [00:06<00:00,  4.65it/s]"
          ]
        },
        {
          "output_type": "stream",
          "name": "stdout",
          "text": [
            "\n",
            " EPOCH: 0087 -> val_accuracy: 0.4655, class_label_loss: 0.0330, domain_label_loss: 0.4872\n",
            "--------------------Model saved--------------------\n"
          ]
        },
        {
          "output_type": "stream",
          "name": "stderr",
          "text": [
            "\n",
            "100%|██████████| 88/88 [00:34<00:00,  2.59it/s]\n",
            "100%|██████████| 32/32 [00:08<00:00,  3.83it/s]"
          ]
        },
        {
          "output_type": "stream",
          "name": "stdout",
          "text": [
            "\n",
            " EPOCH: 0088 -> val_accuracy: 0.4547, class_label_loss: 0.0397, domain_label_loss: 0.5684\n"
          ]
        },
        {
          "output_type": "stream",
          "name": "stderr",
          "text": [
            "\n",
            "100%|██████████| 88/88 [00:35<00:00,  2.46it/s]\n",
            "100%|██████████| 32/32 [00:05<00:00,  5.91it/s]"
          ]
        },
        {
          "output_type": "stream",
          "name": "stdout",
          "text": [
            "\n",
            " EPOCH: 0089 -> val_accuracy: 0.4558, class_label_loss: 0.0174, domain_label_loss: 0.5274\n"
          ]
        },
        {
          "output_type": "stream",
          "name": "stderr",
          "text": [
            "\n",
            "100%|██████████| 88/88 [00:36<00:00,  2.44it/s]\n",
            "100%|██████████| 32/32 [00:05<00:00,  5.91it/s]"
          ]
        },
        {
          "output_type": "stream",
          "name": "stdout",
          "text": [
            "\n",
            " EPOCH: 0090 -> val_accuracy: 0.4468, class_label_loss: 0.0451, domain_label_loss: 0.5984\n"
          ]
        },
        {
          "output_type": "stream",
          "name": "stderr",
          "text": [
            "\n",
            " 92%|█████████▏| 81/88 [00:34<00:02,  3.12it/s]Exception ignored in: <function _MultiProcessingDataLoaderIter.__del__ at 0x79befdbd28c0>\n",
            "Traceback (most recent call last):\n",
            "  File \"/usr/local/lib/python3.10/dist-packages/torch/utils/data/dataloader.py\", line 1478, in __del__\n",
            "    self._shutdown_workers()\n",
            "  File \"/usr/local/lib/python3.10/dist-packages/torch/utils/data/dataloader.py\", line 1461, in _shutdown_workers\n",
            "    if w.is_alive():\n",
            "  File \"/usr/lib/python3.10/multiprocessing/process.py\", line 160, in is_alive\n",
            "    assert self._parent_pid == os.getpid(), 'can only test a child process'\n",
            "Exception ignored in: <function _MultiProcessingDataLoaderIter.__del__ at 0x79befdbd28c0>\n",
            "AssertionError: Traceback (most recent call last):\n",
            "can only test a child process  File \"/usr/local/lib/python3.10/dist-packages/torch/utils/data/dataloader.py\", line 1478, in __del__\n",
            "\n",
            "    self._shutdown_workers()\n",
            "  File \"/usr/local/lib/python3.10/dist-packages/torch/utils/data/dataloader.py\", line 1461, in _shutdown_workers\n",
            "Exception ignored in: <function _MultiProcessingDataLoaderIter.__del__ at 0x79befdbd28c0>    \n",
            "if w.is_alive():Traceback (most recent call last):\n",
            "\n",
            "  File \"/usr/local/lib/python3.10/dist-packages/torch/utils/data/dataloader.py\", line 1478, in __del__\n",
            "  File \"/usr/lib/python3.10/multiprocessing/process.py\", line 160, in is_alive\n",
            "        assert self._parent_pid == os.getpid(), 'can only test a child process'self._shutdown_workers()\n",
            "AssertionError\n",
            ": can only test a child process  File \"/usr/local/lib/python3.10/dist-packages/torch/utils/data/dataloader.py\", line 1461, in _shutdown_workers\n",
            "\n",
            "    if w.is_alive():\n",
            "  File \"/usr/lib/python3.10/multiprocessing/process.py\", line 160, in is_alive\n",
            "Exception ignored in:     <function _MultiProcessingDataLoaderIter.__del__ at 0x79befdbd28c0>assert self._parent_pid == os.getpid(), 'can only test a child process'\n",
            "\n",
            "Traceback (most recent call last):\n",
            "AssertionError  File \"/usr/local/lib/python3.10/dist-packages/torch/utils/data/dataloader.py\", line 1478, in __del__\n",
            ":     can only test a child processself._shutdown_workers()\n",
            "  File \"/usr/local/lib/python3.10/dist-packages/torch/utils/data/dataloader.py\", line 1461, in _shutdown_workers\n",
            "\n",
            " 93%|█████████▎| 82/88 [00:35<00:03,  1.89it/s]\n",
            "  File \"/usr/lib/python3.10/multiprocessing/process.py\", line 160, in is_alive\n",
            "    assert self._parent_pid == os.getpid(), 'can only test a child process'\n",
            "AssertionError: can only test a child process\n",
            "Exception ignored in: <function _MultiProcessingDataLoaderIter.__del__ at 0x79befdbd28c0>\n",
            "Traceback (most recent call last):\n",
            "Exception ignored in:   File \"/usr/local/lib/python3.10/dist-packages/torch/utils/data/dataloader.py\", line 1478, in __del__\n",
            "<function _MultiProcessingDataLoaderIter.__del__ at 0x79befdbd28c0>\n",
            "    Traceback (most recent call last):\n",
            "self._shutdown_workers()  File \"/usr/local/lib/python3.10/dist-packages/torch/utils/data/dataloader.py\", line 1478, in __del__\n",
            "\n",
            "      File \"/usr/local/lib/python3.10/dist-packages/torch/utils/data/dataloader.py\", line 1461, in _shutdown_workers\n",
            "self._shutdown_workers()    \n",
            "if w.is_alive():  File \"/usr/local/lib/python3.10/dist-packages/torch/utils/data/dataloader.py\", line 1461, in _shutdown_workers\n",
            "\n",
            "      File \"/usr/lib/python3.10/multiprocessing/process.py\", line 160, in is_alive\n",
            "if w.is_alive():    \n",
            "assert self._parent_pid == os.getpid(), 'can only test a child process'  File \"/usr/lib/python3.10/multiprocessing/process.py\", line 160, in is_alive\n",
            "Exception ignored in: \n",
            "    <function _MultiProcessingDataLoaderIter.__del__ at 0x79befdbd28c0>AssertionError\n",
            "assert self._parent_pid == os.getpid(), 'can only test a child process': Traceback (most recent call last):\n",
            "\n",
            "can only test a child process  File \"/usr/local/lib/python3.10/dist-packages/torch/utils/data/dataloader.py\", line 1478, in __del__\n",
            "AssertionError\n",
            ":     self._shutdown_workers()can only test a child process\n",
            "\n",
            "  File \"/usr/local/lib/python3.10/dist-packages/torch/utils/data/dataloader.py\", line 1461, in _shutdown_workers\n",
            "    Exception ignored in: if w.is_alive():<function _MultiProcessingDataLoaderIter.__del__ at 0x79befdbd28c0>\n",
            "\n",
            "Exception ignored in: Traceback (most recent call last):\n",
            "<function _MultiProcessingDataLoaderIter.__del__ at 0x79befdbd28c0>  File \"/usr/local/lib/python3.10/dist-packages/torch/utils/data/dataloader.py\", line 1478, in __del__\n",
            "  File \"/usr/lib/python3.10/multiprocessing/process.py\", line 160, in is_alive\n",
            "\n",
            "    Traceback (most recent call last):\n",
            "self._shutdown_workers()  File \"/usr/local/lib/python3.10/dist-packages/torch/utils/data/dataloader.py\", line 1478, in __del__\n",
            "        \n",
            "assert self._parent_pid == os.getpid(), 'can only test a child process'  File \"/usr/local/lib/python3.10/dist-packages/torch/utils/data/dataloader.py\", line 1461, in _shutdown_workers\n",
            "self._shutdown_workers()    \n",
            "\n",
            "if w.is_alive():  File \"/usr/local/lib/python3.10/dist-packages/torch/utils/data/dataloader.py\", line 1461, in _shutdown_workers\n",
            "AssertionError    \n",
            "  File \"/usr/lib/python3.10/multiprocessing/process.py\", line 160, in is_alive\n",
            ": if w.is_alive():\n",
            "can only test a child process      File \"/usr/lib/python3.10/multiprocessing/process.py\", line 160, in is_alive\n",
            "\n",
            "    assert self._parent_pid == os.getpid(), 'can only test a child process'assert self._parent_pid == os.getpid(), 'can only test a child process'\n",
            "\n",
            "AssertionErrorException ignored in: AssertionError: <function _MultiProcessingDataLoaderIter.__del__ at 0x79befdbd28c0>: can only test a child process\n",
            "can only test a child process\n",
            "Traceback (most recent call last):\n",
            "  File \"/usr/local/lib/python3.10/dist-packages/torch/utils/data/dataloader.py\", line 1478, in __del__\n",
            "\n",
            "    self._shutdown_workers()\n",
            "  File \"/usr/local/lib/python3.10/dist-packages/torch/utils/data/dataloader.py\", line 1461, in _shutdown_workers\n",
            "    if w.is_alive():\n",
            " 94%|█████████▍| 83/88 [00:36<00:02,  1.68it/s]  File \"/usr/lib/python3.10/multiprocessing/process.py\", line 160, in is_alive\n",
            "    assert self._parent_pid == os.getpid(), 'can only test a child process'\n",
            "AssertionError: can only test a child process\n",
            "Exception ignored in: <function _MultiProcessingDataLoaderIter.__del__ at 0x79befdbd28c0>\n",
            "Traceback (most recent call last):\n",
            "  File \"/usr/local/lib/python3.10/dist-packages/torch/utils/data/dataloader.py\", line 1478, in __del__\n",
            "    self._shutdown_workers()\n",
            "  File \"/usr/local/lib/python3.10/dist-packages/torch/utils/data/dataloader.py\", line 1461, in _shutdown_workers\n",
            "    if w.is_alive():\n",
            "  File \"/usr/lib/python3.10/multiprocessing/process.py\", line 160, in is_alive\n",
            "    assert self._parent_pid == os.getpid(), 'can only test a child process'\n",
            "AssertionError: can only test a child process\n",
            "Exception ignored in: <function _MultiProcessingDataLoaderIter.__del__ at 0x79befdbd28c0>\n",
            "Traceback (most recent call last):\n",
            "  File \"/usr/local/lib/python3.10/dist-packages/torch/utils/data/dataloader.py\", line 1478, in __del__\n",
            "    self._shutdown_workers()\n",
            "  File \"/usr/local/lib/python3.10/dist-packages/torch/utils/data/dataloader.py\", line 1461, in _shutdown_workers\n",
            "    if w.is_alive():Exception ignored in: \n",
            "<function _MultiProcessingDataLoaderIter.__del__ at 0x79befdbd28c0>  File \"/usr/lib/python3.10/multiprocessing/process.py\", line 160, in is_alive\n",
            "\n",
            "    Traceback (most recent call last):\n",
            "assert self._parent_pid == os.getpid(), 'can only test a child process'\n",
            "  File \"/usr/local/lib/python3.10/dist-packages/torch/utils/data/dataloader.py\", line 1478, in __del__\n",
            "AssertionError    : self._shutdown_workers()can only test a child process\n",
            "\n",
            "  File \"/usr/local/lib/python3.10/dist-packages/torch/utils/data/dataloader.py\", line 1461, in _shutdown_workers\n",
            "    if w.is_alive():\n",
            "  File \"/usr/lib/python3.10/multiprocessing/process.py\", line 160, in is_alive\n",
            "    assert self._parent_pid == os.getpid(), 'can only test a child process'\n",
            "AssertionError: can only test a child process\n",
            "Exception ignored in: <function _MultiProcessingDataLoaderIter.__del__ at 0x79befdbd28c0>\n",
            "Traceback (most recent call last):\n",
            "  File \"/usr/local/lib/python3.10/dist-packages/torch/utils/data/dataloader.py\", line 1478, in __del__\n",
            "    self._shutdown_workers()\n",
            "  File \"/usr/local/lib/python3.10/dist-packages/torch/utils/data/dataloader.py\", line 1461, in _shutdown_workers\n",
            "    if w.is_alive():\n",
            "  File \"/usr/lib/python3.10/multiprocessing/process.py\", line 160, in is_alive\n",
            "    assert self._parent_pid == os.getpid(), 'can only test a child process'\n",
            "AssertionError: can only test a child process\n",
            "100%|██████████| 88/88 [00:38<00:00,  2.30it/s]\n",
            "100%|██████████| 32/32 [00:08<00:00,  3.68it/s]"
          ]
        },
        {
          "output_type": "stream",
          "name": "stdout",
          "text": [
            "\n",
            " EPOCH: 0091 -> val_accuracy: 0.4128, class_label_loss: 0.0334, domain_label_loss: 0.5846\n"
          ]
        },
        {
          "output_type": "stream",
          "name": "stderr",
          "text": [
            "\n",
            " 84%|████████▍ | 74/88 [00:28<00:04,  2.88it/s]Exception ignored in: <function _MultiProcessingDataLoaderIter.__del__ at 0x79befdbd28c0>\n",
            "Traceback (most recent call last):\n",
            "  File \"/usr/local/lib/python3.10/dist-packages/torch/utils/data/dataloader.py\", line 1478, in __del__\n",
            "    self._shutdown_workers()\n",
            "  File \"/usr/local/lib/python3.10/dist-packages/torch/utils/data/dataloader.py\", line 1461, in _shutdown_workers\n",
            "    if w.is_alive():\n",
            "  File \"/usr/lib/python3.10/multiprocessing/process.py\", line 160, in is_alive\n",
            "    assert self._parent_pid == os.getpid(), 'can only test a child process'\n",
            "AssertionError: can only test a child process\n",
            "Exception ignored in: <function _MultiProcessingDataLoaderIter.__del__ at 0x79befdbd28c0>\n",
            "Traceback (most recent call last):\n",
            "  File \"/usr/local/lib/python3.10/dist-packages/torch/utils/data/dataloader.py\", line 1478, in __del__\n",
            "    self._shutdown_workers()\n",
            "  File \"/usr/local/lib/python3.10/dist-packages/torch/utils/data/dataloader.py\", line 1461, in _shutdown_workers\n",
            "    if w.is_alive():\n",
            "  File \"/usr/lib/python3.10/multiprocessing/process.py\", line 160, in is_alive\n",
            "    assert self._parent_pid == os.getpid(), 'can only test a child process'\n",
            "AssertionError: can only test a child process\n",
            "Exception ignored in: <function _MultiProcessingDataLoaderIter.__del__ at 0x79befdbd28c0>\n",
            " 85%|████████▌ | 75/88 [00:30<00:10,  1.30it/s]Traceback (most recent call last):\n",
            "  File \"/usr/local/lib/python3.10/dist-packages/torch/utils/data/dataloader.py\", line 1478, in __del__\n",
            "    self._shutdown_workers()\n",
            "  File \"/usr/local/lib/python3.10/dist-packages/torch/utils/data/dataloader.py\", line 1461, in _shutdown_workers\n",
            "    if w.is_alive():\n",
            "  File \"/usr/lib/python3.10/multiprocessing/process.py\", line 160, in is_alive\n",
            "    assert self._parent_pid == os.getpid(), 'can only test a child process'\n",
            " 86%|████████▋ | 76/88 [00:30<00:07,  1.61it/s]Exception ignored in: AssertionError: <function _MultiProcessingDataLoaderIter.__del__ at 0x79befdbd28c0>Exception ignored in: \n",
            "can only test a child process<function _MultiProcessingDataLoaderIter.__del__ at 0x79befdbd28c0>Traceback (most recent call last):\n",
            "\n",
            "\n",
            "  File \"/usr/local/lib/python3.10/dist-packages/torch/utils/data/dataloader.py\", line 1478, in __del__\n",
            "Traceback (most recent call last):\n",
            "      File \"/usr/local/lib/python3.10/dist-packages/torch/utils/data/dataloader.py\", line 1478, in __del__\n",
            "self._shutdown_workers()    Exception ignored in: \n",
            "self._shutdown_workers()<function _MultiProcessingDataLoaderIter.__del__ at 0x79befdbd28c0>\n",
            "\n",
            "Traceback (most recent call last):\n",
            "  File \"/usr/local/lib/python3.10/dist-packages/torch/utils/data/dataloader.py\", line 1461, in _shutdown_workers\n",
            "  File \"/usr/local/lib/python3.10/dist-packages/torch/utils/data/dataloader.py\", line 1461, in _shutdown_workers\n",
            "          File \"/usr/local/lib/python3.10/dist-packages/torch/utils/data/dataloader.py\", line 1478, in __del__\n",
            "if w.is_alive():    if w.is_alive():\n",
            "\n",
            "self._shutdown_workers()  File \"/usr/lib/python3.10/multiprocessing/process.py\", line 160, in is_alive\n",
            "  File \"/usr/lib/python3.10/multiprocessing/process.py\", line 160, in is_alive\n",
            "\n",
            "          File \"/usr/local/lib/python3.10/dist-packages/torch/utils/data/dataloader.py\", line 1461, in _shutdown_workers\n",
            "assert self._parent_pid == os.getpid(), 'can only test a child process'assert self._parent_pid == os.getpid(), 'can only test a child process'    \n",
            "\n",
            "if w.is_alive():\n",
            "AssertionErrorAssertionError:   File \"/usr/lib/python3.10/multiprocessing/process.py\", line 160, in is_alive\n",
            ": can only test a child processcan only test a child process    \n",
            "\n",
            "assert self._parent_pid == os.getpid(), 'can only test a child process'\n",
            "Exception ignored in: <function _MultiProcessingDataLoaderIter.__del__ at 0x79befdbd28c0>\n",
            "Traceback (most recent call last):\n",
            "Exception ignored in: AssertionError<function _MultiProcessingDataLoaderIter.__del__ at 0x79befdbd28c0>if w.is_alive():  File \"/usr/local/lib/python3.10/dist-packages/torch/utils/data/dataloader.py\", line 1478, in __del__\n",
            "    self._shutdown_workers(): \n",
            "\n",
            "can only test a child process  File \"/usr/local/lib/python3.10/dist-packages/torch/utils/data/dataloader.py\", line 1461, in _shutdown_workers\n",
            "      File \"/usr/lib/python3.10/multiprocessing/process.py\", line 160, in is_alive\n",
            "    \n",
            "assert self._parent_pid == os.getpid(), 'can only test a child process'\n",
            "Traceback (most recent call last):\n",
            "\n",
            "AssertionError: can only test a child process\n",
            "  File \"/usr/local/lib/python3.10/dist-packages/torch/utils/data/dataloader.py\", line 1478, in __del__\n",
            "    self._shutdown_workers()\n",
            "  File \"/usr/local/lib/python3.10/dist-packages/torch/utils/data/dataloader.py\", line 1461, in _shutdown_workers\n",
            "    if w.is_alive():\n",
            "  File \"/usr/lib/python3.10/multiprocessing/process.py\", line 160, in is_alive\n",
            "    assert self._parent_pid == os.getpid(), 'can only test a child process'\n",
            "AssertionError: can only test a child process\n",
            "Exception ignored in: <function _MultiProcessingDataLoaderIter.__del__ at 0x79befdbd28c0>\n",
            "Traceback (most recent call last):\n",
            "  File \"/usr/local/lib/python3.10/dist-packages/torch/utils/data/dataloader.py\", line 1478, in __del__\n",
            "    self._shutdown_workers()\n",
            "  File \"/usr/local/lib/python3.10/dist-packages/torch/utils/data/dataloader.py\", line 1461, in _shutdown_workers\n",
            "    if w.is_alive():\n",
            "  File \"/usr/lib/python3.10/multiprocessing/process.py\", line 160, in is_alive\n",
            "    assert self._parent_pid == os.getpid(), 'can only test a child process'\n",
            "AssertionError: can only test a child process\n",
            "Exception ignored in: <function _MultiProcessingDataLoaderIter.__del__ at 0x79befdbd28c0>Exception ignored in: \n",
            "<function _MultiProcessingDataLoaderIter.__del__ at 0x79befdbd28c0>Traceback (most recent call last):\n",
            "\n",
            "  File \"/usr/local/lib/python3.10/dist-packages/torch/utils/data/dataloader.py\", line 1478, in __del__\n",
            "    Traceback (most recent call last):\n",
            "self._shutdown_workers()\n",
            "  File \"/usr/local/lib/python3.10/dist-packages/torch/utils/data/dataloader.py\", line 1478, in __del__\n",
            "      File \"/usr/local/lib/python3.10/dist-packages/torch/utils/data/dataloader.py\", line 1461, in _shutdown_workers\n",
            "self._shutdown_workers()    \n",
            "if w.is_alive():  File \"/usr/local/lib/python3.10/dist-packages/torch/utils/data/dataloader.py\", line 1461, in _shutdown_workers\n",
            "    \n",
            "  File \"/usr/lib/python3.10/multiprocessing/process.py\", line 160, in is_alive\n",
            "    if w.is_alive():assert self._parent_pid == os.getpid(), 'can only test a child process'\n",
            "\n",
            "  File \"/usr/lib/python3.10/multiprocessing/process.py\", line 160, in is_alive\n",
            "AssertionError    : assert self._parent_pid == os.getpid(), 'can only test a child process'can only test a child process\n",
            "\n",
            "AssertionError: can only test a child process\n",
            "Exception ignored in: <function _MultiProcessingDataLoaderIter.__del__ at 0x79befdbd28c0>\n",
            "Exception ignored in: Traceback (most recent call last):\n",
            "  File \"/usr/local/lib/python3.10/dist-packages/torch/utils/data/dataloader.py\", line 1478, in __del__\n",
            "<function _MultiProcessingDataLoaderIter.__del__ at 0x79befdbd28c0>\n",
            "    Traceback (most recent call last):\n",
            "self._shutdown_workers()  File \"/usr/local/lib/python3.10/dist-packages/torch/utils/data/dataloader.py\", line 1478, in __del__\n",
            "Exception ignored in: \n",
            "    <function _MultiProcessingDataLoaderIter.__del__ at 0x79befdbd28c0>self._shutdown_workers()  File \"/usr/local/lib/python3.10/dist-packages/torch/utils/data/dataloader.py\", line 1461, in _shutdown_workers\n",
            "\n",
            "Traceback (most recent call last):\n",
            "\n",
            "      File \"/usr/local/lib/python3.10/dist-packages/torch/utils/data/dataloader.py\", line 1478, in __del__\n",
            "  File \"/usr/local/lib/python3.10/dist-packages/torch/utils/data/dataloader.py\", line 1461, in _shutdown_workers\n",
            "        if w.is_alive():self._shutdown_workers()if w.is_alive():\n",
            "\n",
            "\n",
            "  File \"/usr/lib/python3.10/multiprocessing/process.py\", line 160, in is_alive\n",
            "  File \"/usr/lib/python3.10/multiprocessing/process.py\", line 160, in is_alive\n",
            "      File \"/usr/local/lib/python3.10/dist-packages/torch/utils/data/dataloader.py\", line 1461, in _shutdown_workers\n",
            "    assert self._parent_pid == os.getpid(), 'can only test a child process'assert self._parent_pid == os.getpid(), 'can only test a child process'\n",
            "\n",
            "    AssertionErrorAssertionErrorif w.is_alive():: : \n",
            "can only test a child processcan only test a child process\n",
            "\n",
            "  File \"/usr/lib/python3.10/multiprocessing/process.py\", line 160, in is_alive\n",
            "    Exception ignored in: assert self._parent_pid == os.getpid(), 'can only test a child process'\n",
            "<function _MultiProcessingDataLoaderIter.__del__ at 0x79befdbd28c0>\n",
            "AssertionErrorTraceback (most recent call last):\n",
            ":   File \"/usr/local/lib/python3.10/dist-packages/torch/utils/data/dataloader.py\", line 1478, in __del__\n",
            "can only test a child process    self._shutdown_workers()\n",
            "\n",
            "  File \"/usr/local/lib/python3.10/dist-packages/torch/utils/data/dataloader.py\", line 1461, in _shutdown_workers\n",
            "Exception ignored in: <function _MultiProcessingDataLoaderIter.__del__ at 0x79befdbd28c0>    \n",
            "if w.is_alive():Traceback (most recent call last):\n",
            "  File \"/usr/local/lib/python3.10/dist-packages/torch/utils/data/dataloader.py\", line 1478, in __del__\n",
            "\n",
            "  File \"/usr/lib/python3.10/multiprocessing/process.py\", line 160, in is_alive\n",
            "        self._shutdown_workers()assert self._parent_pid == os.getpid(), 'can only test a child process'\n",
            "\n",
            "AssertionError:   File \"/usr/local/lib/python3.10/dist-packages/torch/utils/data/dataloader.py\", line 1461, in _shutdown_workers\n",
            "    can only test a child processif w.is_alive():\n",
            "\n",
            "  File \"/usr/lib/python3.10/multiprocessing/process.py\", line 160, in is_alive\n",
            "    assert self._parent_pid == os.getpid(), 'can only test a child process'\n",
            " 88%|████████▊ | 77/88 [00:33<00:13,  1.20s/it]AssertionError: can only test a child process\n",
            "100%|██████████| 88/88 [00:37<00:00,  2.32it/s]\n",
            " 69%|██████▉   | 22/32 [00:04<00:01,  5.66it/s]Exception ignored in: <function _MultiProcessingDataLoaderIter.__del__ at 0x79befdbd28c0>\n",
            "Traceback (most recent call last):\n",
            "  File \"/usr/local/lib/python3.10/dist-packages/torch/utils/data/dataloader.py\", line 1478, in __del__\n",
            "    self._shutdown_workers()\n",
            "  File \"/usr/local/lib/python3.10/dist-packages/torch/utils/data/dataloader.py\", line 1461, in _shutdown_workers\n",
            "    if w.is_alive():\n",
            "  File \"/usr/lib/python3.10/multiprocessing/process.py\", line 160, in is_alive\n",
            "    assert self._parent_pid == os.getpid(), 'can only test a child process'\n",
            "AssertionError: can only test a child process\n",
            "Exception ignored in: <function _MultiProcessingDataLoaderIter.__del__ at 0x79befdbd28c0>\n",
            "Exception ignored in: Traceback (most recent call last):\n",
            "<function _MultiProcessingDataLoaderIter.__del__ at 0x79befdbd28c0>  File \"/usr/local/lib/python3.10/dist-packages/torch/utils/data/dataloader.py\", line 1478, in __del__\n",
            "    \n",
            "self._shutdown_workers()\n",
            "  File \"/usr/local/lib/python3.10/dist-packages/torch/utils/data/dataloader.py\", line 1461, in _shutdown_workers\n",
            "Traceback (most recent call last):\n",
            "    if w.is_alive():\n",
            "  File \"/usr/lib/python3.10/multiprocessing/process.py\", line 160, in is_alive\n",
            "      File \"/usr/local/lib/python3.10/dist-packages/torch/utils/data/dataloader.py\", line 1478, in __del__\n",
            "assert self._parent_pid == os.getpid(), 'can only test a child process'\n",
            "AssertionError: can only test a child process\n",
            "    self._shutdown_workers()\n",
            "  File \"/usr/local/lib/python3.10/dist-packages/torch/utils/data/dataloader.py\", line 1461, in _shutdown_workers\n",
            "    if w.is_alive():\n",
            "  File \"/usr/lib/python3.10/multiprocessing/process.py\", line 160, in is_alive\n",
            " 72%|███████▏  | 23/32 [00:05<00:02,  4.04it/s]    assert self._parent_pid == os.getpid(), 'can only test a child process'\n",
            "AssertionError: can only test a child process\n",
            "Exception ignored in: <function _MultiProcessingDataLoaderIter.__del__ at 0x79befdbd28c0>\n",
            "Traceback (most recent call last):\n",
            "  File \"/usr/local/lib/python3.10/dist-packages/torch/utils/data/dataloader.py\", line 1478, in __del__\n",
            "    self._shutdown_workers()\n",
            "  File \"/usr/local/lib/python3.10/dist-packages/torch/utils/data/dataloader.py\", line 1461, in _shutdown_workers\n",
            "    if w.is_alive():\n",
            "  File \"/usr/lib/python3.10/multiprocessing/process.py\", line 160, in is_alive\n",
            "    assert self._parent_pid == os.getpid(), 'can only test a child process'\n",
            "AssertionError: can only test a child process\n",
            "100%|██████████| 32/32 [00:06<00:00,  5.24it/s]"
          ]
        },
        {
          "output_type": "stream",
          "name": "stdout",
          "text": [
            "\n",
            " EPOCH: 0092 -> val_accuracy: 0.4446, class_label_loss: 0.0546, domain_label_loss: 0.5578\n"
          ]
        },
        {
          "output_type": "stream",
          "name": "stderr",
          "text": [
            "\n",
            " 22%|██▏       | 19/88 [00:11<00:57,  1.20it/s]Exception ignored in: <function _MultiProcessingDataLoaderIter.__del__ at 0x79befdbd28c0>\n",
            "Traceback (most recent call last):\n",
            "  File \"/usr/local/lib/python3.10/dist-packages/torch/utils/data/dataloader.py\", line 1478, in __del__\n",
            "    self._shutdown_workers()\n",
            "  File \"/usr/local/lib/python3.10/dist-packages/torch/utils/data/dataloader.py\", line 1461, in _shutdown_workers\n",
            "    Exception ignored in: <function _MultiProcessingDataLoaderIter.__del__ at 0x79befdbd28c0>\n",
            "Traceback (most recent call last):\n",
            "  File \"/usr/local/lib/python3.10/dist-packages/torch/utils/data/dataloader.py\", line 1478, in __del__\n",
            " 23%|██▎       | 20/88 [00:11<00:45,  1.49it/s]    if w.is_alive():\n",
            "self._shutdown_workers()\n",
            "  File \"/usr/lib/python3.10/multiprocessing/process.py\", line 160, in is_alive\n",
            "  File \"/usr/local/lib/python3.10/dist-packages/torch/utils/data/dataloader.py\", line 1461, in _shutdown_workers\n",
            "        assert self._parent_pid == os.getpid(), 'can only test a child process'\n",
            "if w.is_alive():\n",
            "AssertionError  File \"/usr/lib/python3.10/multiprocessing/process.py\", line 160, in is_alive\n",
            ":     can only test a child processassert self._parent_pid == os.getpid(), 'can only test a child process'\n",
            "\n",
            "AssertionError: can only test a child processException ignored in: \n",
            "<function _MultiProcessingDataLoaderIter.__del__ at 0x79befdbd28c0>\n",
            "Traceback (most recent call last):\n",
            "Exception ignored in:   File \"/usr/local/lib/python3.10/dist-packages/torch/utils/data/dataloader.py\", line 1478, in __del__\n",
            "<function _MultiProcessingDataLoaderIter.__del__ at 0x79befdbd28c0>    \n",
            "self._shutdown_workers()\n",
            "Traceback (most recent call last):\n",
            "  File \"/usr/local/lib/python3.10/dist-packages/torch/utils/data/dataloader.py\", line 1461, in _shutdown_workers\n",
            "  File \"/usr/local/lib/python3.10/dist-packages/torch/utils/data/dataloader.py\", line 1478, in __del__\n",
            "        self._shutdown_workers()if w.is_alive():\n",
            "  File \"/usr/local/lib/python3.10/dist-packages/torch/utils/data/dataloader.py\", line 1461, in _shutdown_workers\n",
            "\n",
            "  File \"/usr/lib/python3.10/multiprocessing/process.py\", line 160, in is_alive\n",
            "        if w.is_alive():assert self._parent_pid == os.getpid(), 'can only test a child process'\n",
            "\n",
            "  File \"/usr/lib/python3.10/multiprocessing/process.py\", line 160, in is_alive\n",
            "    AssertionError: assert self._parent_pid == os.getpid(), 'can only test a child process'can only test a child process\n",
            "\n",
            "AssertionError: can only test a child process\n",
            "Exception ignored in: <function _MultiProcessingDataLoaderIter.__del__ at 0x79befdbd28c0>\n",
            "Traceback (most recent call last):\n",
            "  File \"/usr/local/lib/python3.10/dist-packages/torch/utils/data/dataloader.py\", line 1478, in __del__\n",
            "    self._shutdown_workers()\n",
            "  File \"/usr/local/lib/python3.10/dist-packages/torch/utils/data/dataloader.py\", line 1461, in _shutdown_workers\n",
            "    if w.is_alive():\n",
            "  File \"/usr/lib/python3.10/multiprocessing/process.py\", line 160, in is_alive\n",
            "Exception ignored in:     assert self._parent_pid == os.getpid(), 'can only test a child process'<function _MultiProcessingDataLoaderIter.__del__ at 0x79befdbd28c0>\n",
            "\n",
            "Traceback (most recent call last):\n",
            "AssertionError    can only test a child process  File \"/usr/local/lib/python3.10/dist-packages/torch/utils/data/dataloader.py\", line 1478, in __del__\n",
            "\n",
            ": self._shutdown_workers()\n",
            "  File \"/usr/local/lib/python3.10/dist-packages/torch/utils/data/dataloader.py\", line 1461, in _shutdown_workers\n",
            "    Exception ignored in: if w.is_alive():<function _MultiProcessingDataLoaderIter.__del__ at 0x79befdbd28c0>\n",
            "\n",
            "  File \"/usr/lib/python3.10/multiprocessing/process.py\", line 160, in is_alive\n",
            "Traceback (most recent call last):\n",
            "  File \"/usr/local/lib/python3.10/dist-packages/torch/utils/data/dataloader.py\", line 1478, in __del__\n",
            "        assert self._parent_pid == os.getpid(), 'can only test a child process'self._shutdown_workers()\n",
            "\n",
            "AssertionError  File \"/usr/local/lib/python3.10/dist-packages/torch/utils/data/dataloader.py\", line 1461, in _shutdown_workers\n",
            ": can only test a child process    \n",
            "if w.is_alive():\n",
            "  File \"/usr/lib/python3.10/multiprocessing/process.py\", line 160, in is_alive\n",
            "Exception ignored in:     <function _MultiProcessingDataLoaderIter.__del__ at 0x79befdbd28c0>assert self._parent_pid == os.getpid(), 'can only test a child process'\n",
            "\n",
            "AssertionErrorTraceback (most recent call last):\n",
            ":   File \"/usr/local/lib/python3.10/dist-packages/torch/utils/data/dataloader.py\", line 1478, in __del__\n",
            "can only test a child process    \n",
            "self._shutdown_workers()\n",
            "  File \"/usr/local/lib/python3.10/dist-packages/torch/utils/data/dataloader.py\", line 1461, in _shutdown_workers\n",
            "Exception ignored in:     Exception ignored in: if w.is_alive():<function _MultiProcessingDataLoaderIter.__del__ at 0x79befdbd28c0>\n",
            "\n",
            "  File \"/usr/lib/python3.10/multiprocessing/process.py\", line 160, in is_alive\n",
            "Traceback (most recent call last):\n",
            "      File \"/usr/local/lib/python3.10/dist-packages/torch/utils/data/dataloader.py\", line 1478, in __del__\n",
            "<function _MultiProcessingDataLoaderIter.__del__ at 0x79befdbd28c0>assert self._parent_pid == os.getpid(), 'can only test a child process'    \n",
            "self._shutdown_workers()AssertionError\n",
            "\n",
            ": Traceback (most recent call last):\n",
            "can only test a child process  File \"/usr/local/lib/python3.10/dist-packages/torch/utils/data/dataloader.py\", line 1478, in __del__\n",
            "\n",
            "  File \"/usr/local/lib/python3.10/dist-packages/torch/utils/data/dataloader.py\", line 1461, in _shutdown_workers\n",
            "        self._shutdown_workers()if w.is_alive():\n",
            "\n",
            "  File \"/usr/lib/python3.10/multiprocessing/process.py\", line 160, in is_alive\n",
            "  File \"/usr/local/lib/python3.10/dist-packages/torch/utils/data/dataloader.py\", line 1461, in _shutdown_workers\n",
            "        if w.is_alive():assert self._parent_pid == os.getpid(), 'can only test a child process'\n",
            "\n",
            "  File \"/usr/lib/python3.10/multiprocessing/process.py\", line 160, in is_alive\n",
            "    assert self._parent_pid == os.getpid(), 'can only test a child process'\n",
            "AssertionErrorAssertionError: : can only test a child processcan only test a child process\n",
            "\n",
            "Exception ignored in: <function _MultiProcessingDataLoaderIter.__del__ at 0x79befdbd28c0>\n",
            "Exception ignored in: <function _MultiProcessingDataLoaderIter.__del__ at 0x79befdbd28c0>Traceback (most recent call last):\n",
            "  File \"/usr/local/lib/python3.10/dist-packages/torch/utils/data/dataloader.py\", line 1478, in __del__\n",
            "\n",
            "Traceback (most recent call last):\n",
            "    self._shutdown_workers()  File \"/usr/local/lib/python3.10/dist-packages/torch/utils/data/dataloader.py\", line 1478, in __del__\n",
            "    \n",
            "self._shutdown_workers()\n",
            "  File \"/usr/local/lib/python3.10/dist-packages/torch/utils/data/dataloader.py\", line 1461, in _shutdown_workers\n",
            "  File \"/usr/local/lib/python3.10/dist-packages/torch/utils/data/dataloader.py\", line 1461, in _shutdown_workers\n",
            "    if w.is_alive():\n",
            "      File \"/usr/lib/python3.10/multiprocessing/process.py\", line 160, in is_alive\n",
            "if w.is_alive():\n",
            "  File \"/usr/lib/python3.10/multiprocessing/process.py\", line 160, in is_alive\n",
            "        assert self._parent_pid == os.getpid(), 'can only test a child process'assert self._parent_pid == os.getpid(), 'can only test a child process'\n",
            "\n",
            "AssertionErrorAssertionError: : can only test a child processcan only test a child process\n",
            "\n",
            " 76%|███████▌  | 67/88 [00:30<00:08,  2.55it/s]Exception ignored in: <function _MultiProcessingDataLoaderIter.__del__ at 0x79befdbd28c0>\n",
            "Traceback (most recent call last):\n",
            "  File \"/usr/local/lib/python3.10/dist-packages/torch/utils/data/dataloader.py\", line 1478, in __del__\n",
            "    self._shutdown_workers()\n",
            "  File \"/usr/local/lib/python3.10/dist-packages/torch/utils/data/dataloader.py\", line 1461, in _shutdown_workers\n",
            "    if w.is_alive():\n",
            "  File \"/usr/lib/python3.10/multiprocessing/process.py\", line 160, in is_alive\n",
            "    assert self._parent_pid == os.getpid(), 'can only test a child process'\n",
            "AssertionError: can only test a child process\n",
            "Exception ignored in: <function _MultiProcessingDataLoaderIter.__del__ at 0x79befdbd28c0>\n",
            "Traceback (most recent call last):\n",
            "  File \"/usr/local/lib/python3.10/dist-packages/torch/utils/data/dataloader.py\", line 1478, in __del__\n",
            "    self._shutdown_workers()\n",
            "  File \"/usr/local/lib/python3.10/dist-packages/torch/utils/data/dataloader.py\", line 1461, in _shutdown_workers\n",
            "    if w.is_alive():\n",
            "  File \"/usr/lib/python3.10/multiprocessing/process.py\", line 160, in is_alive\n",
            "    assert self._parent_pid == os.getpid(), 'can only test a child process'\n",
            "AssertionError: can only test a child process\n",
            " 78%|███████▊  | 69/88 [00:32<00:10,  1.74it/s]Exception ignored in: <function _MultiProcessingDataLoaderIter.__del__ at 0x79befdbd28c0>\n",
            "Traceback (most recent call last):\n",
            "  File \"/usr/local/lib/python3.10/dist-packages/torch/utils/data/dataloader.py\", line 1478, in __del__\n",
            "    self._shutdown_workers()\n",
            "  File \"/usr/local/lib/python3.10/dist-packages/torch/utils/data/dataloader.py\", line 1461, in _shutdown_workers\n",
            "    if w.is_alive():\n",
            "  File \"/usr/lib/python3.10/multiprocessing/process.py\", line 160, in is_alive\n",
            "    assert self._parent_pid == os.getpid(), 'can only test a child process'\n",
            "AssertionError: can only test a child process\n",
            "Exception ignored in: <function _MultiProcessingDataLoaderIter.__del__ at 0x79befdbd28c0>\n",
            "Traceback (most recent call last):\n",
            "  File \"/usr/local/lib/python3.10/dist-packages/torch/utils/data/dataloader.py\", line 1478, in __del__\n",
            "    self._shutdown_workers()\n",
            "  File \"/usr/local/lib/python3.10/dist-packages/torch/utils/data/dataloader.py\", line 1461, in _shutdown_workers\n",
            "    if w.is_alive():\n",
            "  File \"/usr/lib/python3.10/multiprocessing/process.py\", line 160, in is_alive\n",
            "    assert self._parent_pid == os.getpid(), 'can only test a child process'\n",
            "AssertionError: can only test a child process\n",
            "100%|██████████| 88/88 [00:38<00:00,  2.29it/s]\n",
            " 31%|███▏      | 10/32 [00:02<00:04,  5.32it/s]Exception ignored in: <function _MultiProcessingDataLoaderIter.__del__ at 0x79befdbd28c0>Exception ignored in: \n",
            "Traceback (most recent call last):\n",
            "<function _MultiProcessingDataLoaderIter.__del__ at 0x79befdbd28c0>\n",
            "  File \"/usr/local/lib/python3.10/dist-packages/torch/utils/data/dataloader.py\", line 1478, in __del__\n",
            "    Traceback (most recent call last):\n",
            "self._shutdown_workers()  File \"/usr/local/lib/python3.10/dist-packages/torch/utils/data/dataloader.py\", line 1478, in __del__\n",
            "    \n",
            "  File \"/usr/local/lib/python3.10/dist-packages/torch/utils/data/dataloader.py\", line 1461, in _shutdown_workers\n",
            "self._shutdown_workers()    \n",
            "  File \"/usr/local/lib/python3.10/dist-packages/torch/utils/data/dataloader.py\", line 1461, in _shutdown_workers\n",
            "if w.is_alive():    \n",
            "if w.is_alive():  File \"/usr/lib/python3.10/multiprocessing/process.py\", line 160, in is_alive\n",
            "\n",
            "      File \"/usr/lib/python3.10/multiprocessing/process.py\", line 160, in is_alive\n",
            "assert self._parent_pid == os.getpid(), 'can only test a child process'    assert self._parent_pid == os.getpid(), 'can only test a child process'\n",
            "AssertionError\n",
            ": AssertionErrorcan only test a child process\n",
            ": can only test a child process\n",
            "Exception ignored in: <function _MultiProcessingDataLoaderIter.__del__ at 0x79befdbd28c0>\n",
            "Exception ignored in: Traceback (most recent call last):\n",
            "Exception ignored in: <function _MultiProcessingDataLoaderIter.__del__ at 0x79befdbd28c0>Exception ignored in:   File \"/usr/local/lib/python3.10/dist-packages/torch/utils/data/dataloader.py\", line 1478, in __del__\n",
            "<function _MultiProcessingDataLoaderIter.__del__ at 0x79befdbd28c0>\n",
            "\n",
            "<function _MultiProcessingDataLoaderIter.__del__ at 0x79befdbd28c0>    \n",
            "Traceback (most recent call last):\n",
            "self._shutdown_workers()Traceback (most recent call last):\n",
            "  File \"/usr/local/lib/python3.10/dist-packages/torch/utils/data/dataloader.py\", line 1478, in __del__\n",
            "Traceback (most recent call last):\n",
            "    self._shutdown_workers()\n",
            "  File \"/usr/local/lib/python3.10/dist-packages/torch/utils/data/dataloader.py\", line 1478, in __del__\n",
            "  File \"/usr/local/lib/python3.10/dist-packages/torch/utils/data/dataloader.py\", line 1478, in __del__\n",
            "  File \"/usr/local/lib/python3.10/dist-packages/torch/utils/data/dataloader.py\", line 1461, in _shutdown_workers\n",
            "\n",
            "              File \"/usr/local/lib/python3.10/dist-packages/torch/utils/data/dataloader.py\", line 1461, in _shutdown_workers\n",
            "if w.is_alive():self._shutdown_workers()    self._shutdown_workers()if w.is_alive():\n",
            "\n",
            "\n",
            "\n",
            "  File \"/usr/local/lib/python3.10/dist-packages/torch/utils/data/dataloader.py\", line 1461, in _shutdown_workers\n",
            "  File \"/usr/lib/python3.10/multiprocessing/process.py\", line 160, in is_alive\n",
            "  File \"/usr/local/lib/python3.10/dist-packages/torch/utils/data/dataloader.py\", line 1461, in _shutdown_workers\n",
            "          File \"/usr/lib/python3.10/multiprocessing/process.py\", line 160, in is_alive\n",
            "    if w.is_alive():    assert self._parent_pid == os.getpid(), 'can only test a child process'if w.is_alive():\n",
            "assert self._parent_pid == os.getpid(), 'can only test a child process'\n",
            "\n",
            "  File \"/usr/lib/python3.10/multiprocessing/process.py\", line 160, in is_alive\n",
            "AssertionError\n",
            "  File \"/usr/lib/python3.10/multiprocessing/process.py\", line 160, in is_alive\n",
            "    : AssertionError    can only test a child processassert self._parent_pid == os.getpid(), 'can only test a child process': assert self._parent_pid == os.getpid(), 'can only test a child process'\n",
            "\n",
            "can only test a child process\n",
            "AssertionError\n",
            "AssertionError: : can only test a child processcan only test a child process\n",
            "\n",
            "Exception ignored in: <function _MultiProcessingDataLoaderIter.__del__ at 0x79befdbd28c0>Exception ignored in: \n",
            "<function _MultiProcessingDataLoaderIter.__del__ at 0x79befdbd28c0>Traceback (most recent call last):\n",
            "\n",
            "  File \"/usr/local/lib/python3.10/dist-packages/torch/utils/data/dataloader.py\", line 1478, in __del__\n",
            "Traceback (most recent call last):\n",
            "      File \"/usr/local/lib/python3.10/dist-packages/torch/utils/data/dataloader.py\", line 1478, in __del__\n",
            " 41%|████      | 13/32 [00:03<00:06,  2.72it/s]\n",
            "self._shutdown_workers()  File \"/usr/local/lib/python3.10/dist-packages/torch/utils/data/dataloader.py\", line 1461, in _shutdown_workers\n",
            "\n",
            "      File \"/usr/local/lib/python3.10/dist-packages/torch/utils/data/dataloader.py\", line 1461, in _shutdown_workers\n",
            "if w.is_alive():    \n",
            "if w.is_alive():  File \"/usr/lib/python3.10/multiprocessing/process.py\", line 160, in is_alive\n",
            "\n",
            "  File \"/usr/lib/python3.10/multiprocessing/process.py\", line 160, in is_alive\n",
            "    assert self._parent_pid == os.getpid(), 'can only test a child process'    \n",
            "assert self._parent_pid == os.getpid(), 'can only test a child process'\n",
            "AssertionErrorAssertionError: : can only test a child processcan only test a child process\n",
            "\n",
            "100%|██████████| 32/32 [00:08<00:00,  3.81it/s]"
          ]
        },
        {
          "output_type": "stream",
          "name": "stdout",
          "text": [
            "\n",
            " EPOCH: 0093 -> val_accuracy: 0.4054, class_label_loss: 0.0548, domain_label_loss: 0.4863\n"
          ]
        },
        {
          "output_type": "stream",
          "name": "stderr",
          "text": [
            "\n",
            " 10%|█         | 9/88 [00:04<00:35,  2.21it/s]Exception ignored in: <function _MultiProcessingDataLoaderIter.__del__ at 0x79befdbd28c0>\n",
            "Traceback (most recent call last):\n",
            "  File \"/usr/local/lib/python3.10/dist-packages/torch/utils/data/dataloader.py\", line 1478, in __del__\n",
            "Exception ignored in:     <function _MultiProcessingDataLoaderIter.__del__ at 0x79befdbd28c0>\n",
            "self._shutdown_workers()Traceback (most recent call last):\n",
            "  File \"/usr/local/lib/python3.10/dist-packages/torch/utils/data/dataloader.py\", line 1478, in __del__\n",
            "\n",
            "      File \"/usr/local/lib/python3.10/dist-packages/torch/utils/data/dataloader.py\", line 1461, in _shutdown_workers\n",
            "self._shutdown_workers()    \n",
            "Exception ignored in: if w.is_alive():  File \"/usr/local/lib/python3.10/dist-packages/torch/utils/data/dataloader.py\", line 1461, in _shutdown_workers\n",
            "Exception ignored in: \n",
            "    <function _MultiProcessingDataLoaderIter.__del__ at 0x79befdbd28c0><function _MultiProcessingDataLoaderIter.__del__ at 0x79befdbd28c0>  File \"/usr/lib/python3.10/multiprocessing/process.py\", line 160, in is_alive\n",
            "if w.is_alive():\n",
            "\n",
            "    \n",
            "Traceback (most recent call last):\n",
            "Traceback (most recent call last):\n",
            "assert self._parent_pid == os.getpid(), 'can only test a child process'  File \"/usr/lib/python3.10/multiprocessing/process.py\", line 160, in is_alive\n",
            "  File \"/usr/local/lib/python3.10/dist-packages/torch/utils/data/dataloader.py\", line 1478, in __del__\n",
            "  File \"/usr/local/lib/python3.10/dist-packages/torch/utils/data/dataloader.py\", line 1478, in __del__\n",
            "\n",
            "            AssertionErrorassert self._parent_pid == os.getpid(), 'can only test a child process'self._shutdown_workers(): \n",
            "self._shutdown_workers()\n",
            "can only test a child processAssertionError\n",
            "  File \"/usr/local/lib/python3.10/dist-packages/torch/utils/data/dataloader.py\", line 1461, in _shutdown_workers\n",
            "\n",
            ":   File \"/usr/local/lib/python3.10/dist-packages/torch/utils/data/dataloader.py\", line 1461, in _shutdown_workers\n",
            "    can only test a child process    if w.is_alive():\n",
            "if w.is_alive():\n",
            "\n",
            "  File \"/usr/lib/python3.10/multiprocessing/process.py\", line 160, in is_alive\n",
            "      File \"/usr/lib/python3.10/multiprocessing/process.py\", line 160, in is_alive\n",
            "Exception ignored in: <function _MultiProcessingDataLoaderIter.__del__ at 0x79befdbd28c0>    assert self._parent_pid == os.getpid(), 'can only test a child process'assert self._parent_pid == os.getpid(), 'can only test a child process'\n",
            "Exception ignored in: \n",
            "\n",
            "Traceback (most recent call last):\n",
            "<function _MultiProcessingDataLoaderIter.__del__ at 0x79befdbd28c0>AssertionError\n",
            ": :   File \"/usr/local/lib/python3.10/dist-packages/torch/utils/data/dataloader.py\", line 1478, in __del__\n",
            "AssertionErrorcan only test a child process    Traceback (most recent call last):\n",
            "can only test a child processself._shutdown_workers()  File \"/usr/local/lib/python3.10/dist-packages/torch/utils/data/dataloader.py\", line 1478, in __del__\n",
            "\n",
            "\n",
            "\n",
            "      File \"/usr/local/lib/python3.10/dist-packages/torch/utils/data/dataloader.py\", line 1461, in _shutdown_workers\n",
            "self._shutdown_workers()    \n",
            "  File \"/usr/local/lib/python3.10/dist-packages/torch/utils/data/dataloader.py\", line 1461, in _shutdown_workers\n",
            "if w.is_alive():Exception ignored in: \n",
            "    Exception ignored in:   File \"/usr/lib/python3.10/multiprocessing/process.py\", line 160, in is_alive\n",
            "<function _MultiProcessingDataLoaderIter.__del__ at 0x79befdbd28c0>if w.is_alive():    <function _MultiProcessingDataLoaderIter.__del__ at 0x79befdbd28c0>assert self._parent_pid == os.getpid(), 'can only test a child process'\n",
            "\n",
            "\n",
            "\n",
            "Traceback (most recent call last):\n",
            "Traceback (most recent call last):\n",
            "  File \"/usr/lib/python3.10/multiprocessing/process.py\", line 160, in is_alive\n",
            "AssertionError  File \"/usr/local/lib/python3.10/dist-packages/torch/utils/data/dataloader.py\", line 1478, in __del__\n",
            "  File \"/usr/local/lib/python3.10/dist-packages/torch/utils/data/dataloader.py\", line 1478, in __del__\n",
            "    Exception ignored in: :     assert self._parent_pid == os.getpid(), 'can only test a child process'    <function _MultiProcessingDataLoaderIter.__del__ at 0x79befdbd28c0>can only test a child processself._shutdown_workers()\n",
            "\n",
            "self._shutdown_workers()\n",
            "\n",
            "AssertionErrorTraceback (most recent call last):\n",
            "\n",
            "  File \"/usr/local/lib/python3.10/dist-packages/torch/utils/data/dataloader.py\", line 1461, in _shutdown_workers\n",
            ":   File \"/usr/local/lib/python3.10/dist-packages/torch/utils/data/dataloader.py\", line 1461, in _shutdown_workers\n",
            "  File \"/usr/local/lib/python3.10/dist-packages/torch/utils/data/dataloader.py\", line 1478, in __del__\n",
            "    can only test a child process        if w.is_alive():\n",
            "self._shutdown_workers()if w.is_alive():\n",
            "\n",
            "\n",
            "  File \"/usr/lib/python3.10/multiprocessing/process.py\", line 160, in is_alive\n",
            "  File \"/usr/local/lib/python3.10/dist-packages/torch/utils/data/dataloader.py\", line 1461, in _shutdown_workers\n",
            "  File \"/usr/lib/python3.10/multiprocessing/process.py\", line 160, in is_alive\n",
            "            assert self._parent_pid == os.getpid(), 'can only test a child process'if w.is_alive():assert self._parent_pid == os.getpid(), 'can only test a child process'\n",
            "\n",
            "\n",
            "AssertionError  File \"/usr/lib/python3.10/multiprocessing/process.py\", line 160, in is_alive\n",
            "AssertionError:     : can only test a child processcan only test a child processassert self._parent_pid == os.getpid(), 'can only test a child process'\n",
            "\n",
            "\n",
            " 12%|█▎        | 11/88 [00:06<00:50,  1.54it/s]\n",
            "Exception ignored in: <function _MultiProcessingDataLoaderIter.__del__ at 0x79befdbd28c0>\n",
            "Exception ignored in: Traceback (most recent call last):\n",
            "<function _MultiProcessingDataLoaderIter.__del__ at 0x79befdbd28c0>  File \"/usr/local/lib/python3.10/dist-packages/torch/utils/data/dataloader.py\", line 1478, in __del__\n",
            "\n",
            "    Traceback (most recent call last):\n",
            "self._shutdown_workers()  File \"/usr/local/lib/python3.10/dist-packages/torch/utils/data/dataloader.py\", line 1478, in __del__\n",
            "\n",
            "      File \"/usr/local/lib/python3.10/dist-packages/torch/utils/data/dataloader.py\", line 1461, in _shutdown_workers\n",
            "self._shutdown_workers()\n",
            "  File \"/usr/local/lib/python3.10/dist-packages/torch/utils/data/dataloader.py\", line 1461, in _shutdown_workers\n",
            "        if w.is_alive():if w.is_alive():\n",
            "\n",
            "  File \"/usr/lib/python3.10/multiprocessing/process.py\", line 160, in is_alive\n",
            "  File \"/usr/lib/python3.10/multiprocessing/process.py\", line 160, in is_alive\n",
            "    assert self._parent_pid == os.getpid(), 'can only test a child process'    \n",
            "assert self._parent_pid == os.getpid(), 'can only test a child process'\n",
            "AssertionErrorAssertionError: : can only test a child processcan only test a child process\n",
            "\n",
            "Exception ignored in: <function _MultiProcessingDataLoaderIter.__del__ at 0x79befdbd28c0>\n",
            "Traceback (most recent call last):\n",
            "  File \"/usr/local/lib/python3.10/dist-packages/torch/utils/data/dataloader.py\", line 1478, in __del__\n",
            "    self._shutdown_workers()\n",
            "  File \"/usr/local/lib/python3.10/dist-packages/torch/utils/data/dataloader.py\", line 1461, in _shutdown_workers\n",
            "    if w.is_alive():\n",
            "  File \"/usr/lib/python3.10/multiprocessing/process.py\", line 160, in is_alive\n",
            "    assert self._parent_pid == os.getpid(), 'can only test a child process'\n",
            "AssertionError: can only test a child process\n",
            "Exception ignored in: <function _MultiProcessingDataLoaderIter.__del__ at 0x79befdbd28c0>\n",
            "Traceback (most recent call last):\n",
            "Exception ignored in:   File \"/usr/local/lib/python3.10/dist-packages/torch/utils/data/dataloader.py\", line 1478, in __del__\n",
            "<function _MultiProcessingDataLoaderIter.__del__ at 0x79befdbd28c0>    \n",
            "self._shutdown_workers()Traceback (most recent call last):\n",
            "\n",
            "  File \"/usr/local/lib/python3.10/dist-packages/torch/utils/data/dataloader.py\", line 1478, in __del__\n",
            "  File \"/usr/local/lib/python3.10/dist-packages/torch/utils/data/dataloader.py\", line 1461, in _shutdown_workers\n",
            "        if w.is_alive():self._shutdown_workers()\n",
            "\n",
            "  File \"/usr/local/lib/python3.10/dist-packages/torch/utils/data/dataloader.py\", line 1461, in _shutdown_workers\n",
            "  File \"/usr/lib/python3.10/multiprocessing/process.py\", line 160, in is_alive\n",
            "    if w.is_alive():    \n",
            "assert self._parent_pid == os.getpid(), 'can only test a child process'  File \"/usr/lib/python3.10/multiprocessing/process.py\", line 160, in is_alive\n",
            "\n",
            "    assert self._parent_pid == os.getpid(), 'can only test a child process'AssertionError\n",
            ": AssertionError: can only test a child processcan only test a child process\n",
            "\n",
            "Exception ignored in: Exception ignored in: <function _MultiProcessingDataLoaderIter.__del__ at 0x79befdbd28c0><function _MultiProcessingDataLoaderIter.__del__ at 0x79befdbd28c0>\n",
            "\n",
            "Traceback (most recent call last):\n",
            "  File \"/usr/local/lib/python3.10/dist-packages/torch/utils/data/dataloader.py\", line 1478, in __del__\n",
            "Traceback (most recent call last):\n",
            "      File \"/usr/local/lib/python3.10/dist-packages/torch/utils/data/dataloader.py\", line 1478, in __del__\n",
            "    self._shutdown_workers()self._shutdown_workers()\n",
            "  File \"/usr/local/lib/python3.10/dist-packages/torch/utils/data/dataloader.py\", line 1461, in _shutdown_workers\n",
            "\n",
            "    if w.is_alive():  File \"/usr/local/lib/python3.10/dist-packages/torch/utils/data/dataloader.py\", line 1461, in _shutdown_workers\n",
            "    \n",
            "if w.is_alive():  File \"/usr/lib/python3.10/multiprocessing/process.py\", line 160, in is_alive\n",
            "    \n",
            "assert self._parent_pid == os.getpid(), 'can only test a child process'  File \"/usr/lib/python3.10/multiprocessing/process.py\", line 160, in is_alive\n",
            "\n",
            "    AssertionErrorassert self._parent_pid == os.getpid(), 'can only test a child process': \n",
            "can only test a child processAssertionError\n",
            ": can only test a child process\n",
            "100%|██████████| 88/88 [00:37<00:00,  2.33it/s]\n",
            " 12%|█▎        | 4/32 [00:01<00:08,  3.31it/s]Exception ignored in: <function _MultiProcessingDataLoaderIter.__del__ at 0x79befdbd28c0>\n",
            "Traceback (most recent call last):\n",
            "  File \"/usr/local/lib/python3.10/dist-packages/torch/utils/data/dataloader.py\", line 1478, in __del__\n",
            "    self._shutdown_workers()Exception ignored in: <function _MultiProcessingDataLoaderIter.__del__ at 0x79befdbd28c0>\n",
            "Exception ignored in:   File \"/usr/local/lib/python3.10/dist-packages/torch/utils/data/dataloader.py\", line 1461, in _shutdown_workers\n",
            "<function _MultiProcessingDataLoaderIter.__del__ at 0x79befdbd28c0>\n",
            "\n",
            "Traceback (most recent call last):\n",
            "  File \"/usr/local/lib/python3.10/dist-packages/torch/utils/data/dataloader.py\", line 1478, in __del__\n",
            "    Exception ignored in: <function _MultiProcessingDataLoaderIter.__del__ at 0x79befdbd28c0>    if w.is_alive():\n",
            "self._shutdown_workers()  File \"/usr/lib/python3.10/multiprocessing/process.py\", line 160, in is_alive\n",
            "\n",
            "  File \"/usr/local/lib/python3.10/dist-packages/torch/utils/data/dataloader.py\", line 1461, in _shutdown_workers\n",
            "    if w.is_alive():\n",
            "Traceback (most recent call last):\n",
            "  File \"/usr/local/lib/python3.10/dist-packages/torch/utils/data/dataloader.py\", line 1478, in __del__\n",
            "  File \"/usr/lib/python3.10/multiprocessing/process.py\", line 160, in is_alive\n",
            "        \n",
            "assert self._parent_pid == os.getpid(), 'can only test a child process'self._shutdown_workers()    assert self._parent_pid == os.getpid(), 'can only test a child process'\n",
            "\n",
            "  File \"/usr/local/lib/python3.10/dist-packages/torch/utils/data/dataloader.py\", line 1461, in _shutdown_workers\n",
            "Traceback (most recent call last):\n",
            "AssertionError    \n",
            "if w.is_alive():  File \"/usr/local/lib/python3.10/dist-packages/torch/utils/data/dataloader.py\", line 1478, in __del__\n",
            "can only test a child process\n",
            ": AssertionError    : \n",
            "  File \"/usr/lib/python3.10/multiprocessing/process.py\", line 160, in is_alive\n",
            "self._shutdown_workers()    \n",
            "  File \"/usr/local/lib/python3.10/dist-packages/torch/utils/data/dataloader.py\", line 1461, in _shutdown_workers\n",
            "can only test a child process    Exception ignored in: if w.is_alive():<function _MultiProcessingDataLoaderIter.__del__ at 0x79befdbd28c0>assert self._parent_pid == os.getpid(), 'can only test a child process'\n",
            "\n",
            "\n",
            "  File \"/usr/lib/python3.10/multiprocessing/process.py\", line 160, in is_alive\n",
            "AssertionError: can only test a child process\n",
            "    Exception ignored in: Traceback (most recent call last):\n",
            "\n",
            "<function _MultiProcessingDataLoaderIter.__del__ at 0x79befdbd28c0>\n",
            "  File \"/usr/local/lib/python3.10/dist-packages/torch/utils/data/dataloader.py\", line 1478, in __del__\n",
            "Traceback (most recent call last):\n",
            "assert self._parent_pid == os.getpid(), 'can only test a child process'  File \"/usr/local/lib/python3.10/dist-packages/torch/utils/data/dataloader.py\", line 1478, in __del__\n",
            "        self._shutdown_workers()self._shutdown_workers()\n",
            "AssertionError: \n",
            "Exception ignored in: can only test a child process\n",
            "  File \"/usr/local/lib/python3.10/dist-packages/torch/utils/data/dataloader.py\", line 1461, in _shutdown_workers\n",
            "\n",
            "  File \"/usr/local/lib/python3.10/dist-packages/torch/utils/data/dataloader.py\", line 1461, in _shutdown_workers\n",
            "    <function _MultiProcessingDataLoaderIter.__del__ at 0x79befdbd28c0>\n",
            "    if w.is_alive():Traceback (most recent call last):\n",
            "if w.is_alive():\n",
            "Exception ignored in: \n",
            "  File \"/usr/lib/python3.10/multiprocessing/process.py\", line 160, in is_alive\n",
            "  File \"/usr/local/lib/python3.10/dist-packages/torch/utils/data/dataloader.py\", line 1478, in __del__\n",
            "  File \"/usr/lib/python3.10/multiprocessing/process.py\", line 160, in is_alive\n",
            "<function _MultiProcessingDataLoaderIter.__del__ at 0x79befdbd28c0>        \n",
            "    Traceback (most recent call last):\n",
            "self._shutdown_workers()assert self._parent_pid == os.getpid(), 'can only test a child process'assert self._parent_pid == os.getpid(), 'can only test a child process'  File \"/usr/local/lib/python3.10/dist-packages/torch/utils/data/dataloader.py\", line 1478, in __del__\n",
            "\n",
            "\n",
            "AssertionError  File \"/usr/local/lib/python3.10/dist-packages/torch/utils/data/dataloader.py\", line 1461, in _shutdown_workers\n",
            "\n",
            "    : AssertionError    self._shutdown_workers()\n",
            ": can only test a child processif w.is_alive():\n",
            "  File \"/usr/local/lib/python3.10/dist-packages/torch/utils/data/dataloader.py\", line 1461, in _shutdown_workers\n",
            "\n",
            "    can only test a child processif w.is_alive():  File \"/usr/lib/python3.10/multiprocessing/process.py\", line 160, in is_alive\n",
            "\n",
            "  File \"/usr/lib/python3.10/multiprocessing/process.py\", line 160, in is_alive\n",
            "\n",
            "    assert self._parent_pid == os.getpid(), 'can only test a child process'\n",
            "AssertionError: can only test a child process\n",
            "    assert self._parent_pid == os.getpid(), 'can only test a child process'\n",
            "AssertionError: can only test a child process\n",
            "100%|██████████| 32/32 [00:07<00:00,  4.28it/s]"
          ]
        },
        {
          "output_type": "stream",
          "name": "stdout",
          "text": [
            "\n",
            " EPOCH: 0094 -> val_accuracy: 0.4398, class_label_loss: 0.0513, domain_label_loss: 0.6146\n"
          ]
        },
        {
          "output_type": "stream",
          "name": "stderr",
          "text": [
            "\n",
            "  1%|          | 1/88 [00:01<02:02,  1.41s/it]Exception ignored in: <function _MultiProcessingDataLoaderIter.__del__ at 0x79befdbd28c0>\n",
            "Traceback (most recent call last):\n",
            "  File \"/usr/local/lib/python3.10/dist-packages/torch/utils/data/dataloader.py\", line 1478, in __del__\n",
            "    self._shutdown_workers()\n",
            "  File \"/usr/local/lib/python3.10/dist-packages/torch/utils/data/dataloader.py\", line 1461, in _shutdown_workers\n",
            "    if w.is_alive():\n",
            "  File \"/usr/lib/python3.10/multiprocessing/process.py\", line 160, in is_alive\n",
            "    assert self._parent_pid == os.getpid(), 'can only test a child process'\n",
            "  2%|▏         | 2/88 [00:02<02:00,  1.40s/it]: can only test a child processException ignored in: <function _MultiProcessingDataLoaderIter.__del__ at 0x79befdbd28c0>\n",
            "\n",
            "Traceback (most recent call last):\n",
            "  File \"/usr/local/lib/python3.10/dist-packages/torch/utils/data/dataloader.py\", line 1478, in __del__\n",
            "    Exception ignored in: <function _MultiProcessingDataLoaderIter.__del__ at 0x79befdbd28c0>self._shutdown_workers()\n",
            "\n",
            "  File \"/usr/local/lib/python3.10/dist-packages/torch/utils/data/dataloader.py\", line 1461, in _shutdown_workers\n",
            "Traceback (most recent call last):\n",
            "    Exception ignored in: Exception ignored in:   File \"/usr/local/lib/python3.10/dist-packages/torch/utils/data/dataloader.py\", line 1478, in __del__\n",
            "if w.is_alive():<function _MultiProcessingDataLoaderIter.__del__ at 0x79befdbd28c0><function _MultiProcessingDataLoaderIter.__del__ at 0x79befdbd28c0>\n",
            "\n",
            "    \n",
            "Traceback (most recent call last):\n",
            "  File \"/usr/lib/python3.10/multiprocessing/process.py\", line 160, in is_alive\n",
            "Traceback (most recent call last):\n",
            "self._shutdown_workers()  File \"/usr/local/lib/python3.10/dist-packages/torch/utils/data/dataloader.py\", line 1478, in __del__\n",
            "      File \"/usr/local/lib/python3.10/dist-packages/torch/utils/data/dataloader.py\", line 1478, in __del__\n",
            "\n",
            "assert self._parent_pid == os.getpid(), 'can only test a child process'      File \"/usr/local/lib/python3.10/dist-packages/torch/utils/data/dataloader.py\", line 1461, in _shutdown_workers\n",
            "\n",
            "    self._shutdown_workers()    AssertionErrorif w.is_alive():: \n",
            "can only test a child processself._shutdown_workers()\n",
            "  File \"/usr/lib/python3.10/multiprocessing/process.py\", line 160, in is_alive\n",
            "\n",
            "\n",
            "      File \"/usr/local/lib/python3.10/dist-packages/torch/utils/data/dataloader.py\", line 1461, in _shutdown_workers\n",
            "  File \"/usr/local/lib/python3.10/dist-packages/torch/utils/data/dataloader.py\", line 1461, in _shutdown_workers\n",
            "        assert self._parent_pid == os.getpid(), 'can only test a child process'\n",
            "if w.is_alive():if w.is_alive():AssertionError\n",
            "\n",
            "Exception ignored in: :   File \"/usr/lib/python3.10/multiprocessing/process.py\", line 160, in is_alive\n",
            "  File \"/usr/lib/python3.10/multiprocessing/process.py\", line 160, in is_alive\n",
            "<function _MultiProcessingDataLoaderIter.__del__ at 0x79befdbd28c0>can only test a child process    \n",
            "assert self._parent_pid == os.getpid(), 'can only test a child process'\n",
            "    \n",
            "Traceback (most recent call last):\n",
            "AssertionErrorassert self._parent_pid == os.getpid(), 'can only test a child process'  File \"/usr/local/lib/python3.10/dist-packages/torch/utils/data/dataloader.py\", line 1478, in __del__\n",
            "\n",
            ":     AssertionErrorcan only test a child process: \n",
            "self._shutdown_workers()can only test a child process\n",
            "\n",
            "  File \"/usr/local/lib/python3.10/dist-packages/torch/utils/data/dataloader.py\", line 1461, in _shutdown_workers\n",
            "    if w.is_alive():\n",
            "  File \"/usr/lib/python3.10/multiprocessing/process.py\", line 160, in is_alive\n",
            "    Exception ignored in: assert self._parent_pid == os.getpid(), 'can only test a child process'<function _MultiProcessingDataLoaderIter.__del__ at 0x79befdbd28c0>Exception ignored in: \n",
            "\n",
            "<function _MultiProcessingDataLoaderIter.__del__ at 0x79befdbd28c0>\n",
            "AssertionErrorTraceback (most recent call last):\n",
            ": Traceback (most recent call last):\n",
            "can only test a child process  File \"/usr/local/lib/python3.10/dist-packages/torch/utils/data/dataloader.py\", line 1478, in __del__\n",
            "  File \"/usr/local/lib/python3.10/dist-packages/torch/utils/data/dataloader.py\", line 1478, in __del__\n",
            "\n",
            "        self._shutdown_workers()self._shutdown_workers()\n",
            "\n",
            "  File \"/usr/local/lib/python3.10/dist-packages/torch/utils/data/dataloader.py\", line 1461, in _shutdown_workers\n",
            "  File \"/usr/local/lib/python3.10/dist-packages/torch/utils/data/dataloader.py\", line 1461, in _shutdown_workers\n",
            "        if w.is_alive():if w.is_alive():\n",
            "\n",
            "  File \"/usr/lib/python3.10/multiprocessing/process.py\", line 160, in is_alive\n",
            "  File \"/usr/lib/python3.10/multiprocessing/process.py\", line 160, in is_alive\n",
            "    assert self._parent_pid == os.getpid(), 'can only test a child process'    assert self._parent_pid == os.getpid(), 'can only test a child process'\n",
            "AssertionError\n",
            "AssertionError: : can only test a child process\n",
            "can only test a child process\n",
            "Exception ignored in: <function _MultiProcessingDataLoaderIter.__del__ at 0x79befdbd28c0>Exception ignored in: <function _MultiProcessingDataLoaderIter.__del__ at 0x79befdbd28c0>\n",
            "\n",
            "Traceback (most recent call last):\n",
            "Traceback (most recent call last):\n",
            "  File \"/usr/local/lib/python3.10/dist-packages/torch/utils/data/dataloader.py\", line 1478, in __del__\n",
            "    self._shutdown_workers()\n",
            "  File \"/usr/local/lib/python3.10/dist-packages/torch/utils/data/dataloader.py\", line 1461, in _shutdown_workers\n",
            "    if w.is_alive():\n",
            "  File \"/usr/lib/python3.10/multiprocessing/process.py\", line 160, in is_alive\n",
            "          File \"/usr/local/lib/python3.10/dist-packages/torch/utils/data/dataloader.py\", line 1478, in __del__\n",
            "Exception ignored in: <function _MultiProcessingDataLoaderIter.__del__ at 0x79befdbd28c0>self._shutdown_workers()\n",
            "\n",
            "Exception ignored in: assert self._parent_pid == os.getpid(), 'can only test a child process'  File \"/usr/local/lib/python3.10/dist-packages/torch/utils/data/dataloader.py\", line 1461, in _shutdown_workers\n",
            "\n",
            "<function _MultiProcessingDataLoaderIter.__del__ at 0x79befdbd28c0>\n",
            "  3%|▎         | 3/88 [00:04<02:07,  1.50s/it]Traceback (most recent call last):\n",
            ": Traceback (most recent call last):\n",
            "can only test a child process  File \"/usr/local/lib/python3.10/dist-packages/torch/utils/data/dataloader.py\", line 1478, in __del__\n",
            "if w.is_alive():\n",
            "      File \"/usr/local/lib/python3.10/dist-packages/torch/utils/data/dataloader.py\", line 1478, in __del__\n",
            "\n",
            "  File \"/usr/lib/python3.10/multiprocessing/process.py\", line 160, in is_alive\n",
            "self._shutdown_workers()    \n",
            "    self._shutdown_workers()assert self._parent_pid == os.getpid(), 'can only test a child process'  File \"/usr/local/lib/python3.10/dist-packages/torch/utils/data/dataloader.py\", line 1461, in _shutdown_workers\n",
            "\n",
            "\n",
            "      File \"/usr/local/lib/python3.10/dist-packages/torch/utils/data/dataloader.py\", line 1461, in _shutdown_workers\n",
            "  5%|▍         | 4/88 [00:04<01:22,  1.01it/s]AssertionErrorif w.is_alive():    \n",
            ": Exception ignored in: can only test a child process  File \"/usr/lib/python3.10/multiprocessing/process.py\", line 160, in is_alive\n",
            "if w.is_alive():    \n",
            "<function _MultiProcessingDataLoaderIter.__del__ at 0x79befdbd28c0>\n",
            "assert self._parent_pid == os.getpid(), 'can only test a child process'\n",
            "\n",
            "  File \"/usr/lib/python3.10/multiprocessing/process.py\", line 160, in is_alive\n",
            "Exception ignored in: Traceback (most recent call last):\n",
            "    AssertionError  File \"/usr/local/lib/python3.10/dist-packages/torch/utils/data/dataloader.py\", line 1478, in __del__\n",
            ": assert self._parent_pid == os.getpid(), 'can only test a child process'\n",
            "    can only test a child processself._shutdown_workers()AssertionError\n",
            ": \n",
            "<function _MultiProcessingDataLoaderIter.__del__ at 0x79befdbd28c0>  File \"/usr/local/lib/python3.10/dist-packages/torch/utils/data/dataloader.py\", line 1461, in _shutdown_workers\n",
            "can only test a child processException ignored in: \n",
            "<function _MultiProcessingDataLoaderIter.__del__ at 0x79befdbd28c0>\n",
            "    if w.is_alive():\n",
            "\n",
            "Traceback (most recent call last):\n",
            "Traceback (most recent call last):\n",
            "  File \"/usr/lib/python3.10/multiprocessing/process.py\", line 160, in is_alive\n",
            "  File \"/usr/local/lib/python3.10/dist-packages/torch/utils/data/dataloader.py\", line 1478, in __del__\n",
            "  File \"/usr/local/lib/python3.10/dist-packages/torch/utils/data/dataloader.py\", line 1478, in __del__\n",
            "            self._shutdown_workers()self._shutdown_workers()Exception ignored in: <function _MultiProcessingDataLoaderIter.__del__ at 0x79befdbd28c0>\n",
            "\n",
            "assert self._parent_pid == os.getpid(), 'can only test a child process'  File \"/usr/local/lib/python3.10/dist-packages/torch/utils/data/dataloader.py\", line 1461, in _shutdown_workers\n",
            "\n",
            "  File \"/usr/local/lib/python3.10/dist-packages/torch/utils/data/dataloader.py\", line 1461, in _shutdown_workers\n",
            "    \n",
            "    Traceback (most recent call last):\n",
            "if w.is_alive():if w.is_alive():  File \"/usr/local/lib/python3.10/dist-packages/torch/utils/data/dataloader.py\", line 1478, in __del__\n",
            "AssertionError\n",
            "    : \n",
            "can only test a child process  File \"/usr/lib/python3.10/multiprocessing/process.py\", line 160, in is_alive\n",
            "  File \"/usr/lib/python3.10/multiprocessing/process.py\", line 160, in is_alive\n",
            "self._shutdown_workers()        \n",
            "\n",
            "assert self._parent_pid == os.getpid(), 'can only test a child process'  File \"/usr/local/lib/python3.10/dist-packages/torch/utils/data/dataloader.py\", line 1461, in _shutdown_workers\n",
            "assert self._parent_pid == os.getpid(), 'can only test a child process'\n",
            "    \n",
            "if w.is_alive():AssertionErrorAssertionError: \n",
            ": can only test a child process\n",
            "  File \"/usr/lib/python3.10/multiprocessing/process.py\", line 160, in is_alive\n",
            "can only test a child process    \n",
            "assert self._parent_pid == os.getpid(), 'can only test a child process'\n",
            "  6%|▌         | 5/88 [00:05<01:05,  1.26it/s]\n",
            "100%|██████████| 88/88 [00:38<00:00,  2.28it/s]\n",
            "  0%|          | 0/32 [00:00<?, ?it/s]Exception ignored in: Exception ignored in: <function _MultiProcessingDataLoaderIter.__del__ at 0x79befdbd28c0>\n",
            "<function _MultiProcessingDataLoaderIter.__del__ at 0x79befdbd28c0>Traceback (most recent call last):\n",
            "  File \"/usr/local/lib/python3.10/dist-packages/torch/utils/data/dataloader.py\", line 1478, in __del__\n",
            "\n",
            "    self._shutdown_workers()\n",
            "  File \"/usr/local/lib/python3.10/dist-packages/torch/utils/data/dataloader.py\", line 1461, in _shutdown_workers\n",
            "    if w.is_alive():Traceback (most recent call last):\n",
            "\n",
            "  File \"/usr/local/lib/python3.10/dist-packages/torch/utils/data/dataloader.py\", line 1478, in __del__\n",
            "      File \"/usr/lib/python3.10/multiprocessing/process.py\", line 160, in is_alive\n",
            "    self._shutdown_workers()assert self._parent_pid == os.getpid(), 'can only test a child process'\n",
            "\n",
            "  File \"/usr/local/lib/python3.10/dist-packages/torch/utils/data/dataloader.py\", line 1461, in _shutdown_workers\n",
            "    AssertionError: if w.is_alive():Exception ignored in: can only test a child process<function _MultiProcessingDataLoaderIter.__del__ at 0x79befdbd28c0>\n",
            "  File \"/usr/lib/python3.10/multiprocessing/process.py\", line 160, in is_alive\n",
            "\n",
            "\n",
            "    Traceback (most recent call last):\n",
            "Exception ignored in: <function _MultiProcessingDataLoaderIter.__del__ at 0x79befdbd28c0>assert self._parent_pid == os.getpid(), 'can only test a child process'  File \"/usr/local/lib/python3.10/dist-packages/torch/utils/data/dataloader.py\", line 1478, in __del__\n",
            "\n",
            "Traceback (most recent call last):\n",
            "  File \"/usr/local/lib/python3.10/dist-packages/torch/utils/data/dataloader.py\", line 1478, in __del__\n",
            "Exception ignored in:     <function _MultiProcessingDataLoaderIter.__del__ at 0x79befdbd28c0>self._shutdown_workers()    \n",
            "\n",
            "\n",
            "self._shutdown_workers()AssertionError\n",
            "Traceback (most recent call last):\n",
            "  File \"/usr/local/lib/python3.10/dist-packages/torch/utils/data/dataloader.py\", line 1461, in _shutdown_workers\n",
            ": can only test a child process      File \"/usr/local/lib/python3.10/dist-packages/torch/utils/data/dataloader.py\", line 1461, in _shutdown_workers\n",
            "if w.is_alive():    \n",
            "\n",
            "if w.is_alive():  File \"/usr/lib/python3.10/multiprocessing/process.py\", line 160, in is_alive\n",
            "Exception ignored in: \n",
            "    <function _MultiProcessingDataLoaderIter.__del__ at 0x79befdbd28c0>  File \"/usr/lib/python3.10/multiprocessing/process.py\", line 160, in is_alive\n",
            "\n",
            "Traceback (most recent call last):\n",
            "  File \"/usr/local/lib/python3.10/dist-packages/torch/utils/data/dataloader.py\", line 1478, in __del__\n",
            "assert self._parent_pid == os.getpid(), 'can only test a child process'    \n",
            "assert self._parent_pid == os.getpid(), 'can only test a child process'AssertionError: \n",
            "  File \"/usr/local/lib/python3.10/dist-packages/torch/utils/data/dataloader.py\", line 1478, in __del__\n",
            "can only test a child process    AssertionError: can only test a child process\n",
            "self._shutdown_workers()    \n",
            "  File \"/usr/local/lib/python3.10/dist-packages/torch/utils/data/dataloader.py\", line 1461, in _shutdown_workers\n",
            "\n",
            "self._shutdown_workers()    \n",
            "if w.is_alive():  File \"/usr/local/lib/python3.10/dist-packages/torch/utils/data/dataloader.py\", line 1461, in _shutdown_workers\n",
            "Exception ignored in:     \n",
            "<function _MultiProcessingDataLoaderIter.__del__ at 0x79befdbd28c0>  File \"/usr/lib/python3.10/multiprocessing/process.py\", line 160, in is_alive\n",
            "if w.is_alive():\n",
            "\n",
            "  File \"/usr/lib/python3.10/multiprocessing/process.py\", line 160, in is_alive\n",
            "    Traceback (most recent call last):\n",
            "    assert self._parent_pid == os.getpid(), 'can only test a child process'  File \"/usr/local/lib/python3.10/dist-packages/torch/utils/data/dataloader.py\", line 1478, in __del__\n",
            "\n",
            "AssertionError: can only test a child process    assert self._parent_pid == os.getpid(), 'can only test a child process'self._shutdown_workers()\n",
            "\n",
            "\n",
            "AssertionError  File \"/usr/local/lib/python3.10/dist-packages/torch/utils/data/dataloader.py\", line 1461, in _shutdown_workers\n",
            ": can only test a child process\n",
            "Exception ignored in:     <function _MultiProcessingDataLoaderIter.__del__ at 0x79befdbd28c0>if w.is_alive():\n",
            "\n",
            "  File \"/usr/lib/python3.10/multiprocessing/process.py\", line 160, in is_alive\n",
            "Traceback (most recent call last):\n",
            "      File \"/usr/local/lib/python3.10/dist-packages/torch/utils/data/dataloader.py\", line 1478, in __del__\n",
            "    assert self._parent_pid == os.getpid(), 'can only test a child process'self._shutdown_workers()\n",
            "  File \"/usr/local/lib/python3.10/dist-packages/torch/utils/data/dataloader.py\", line 1461, in _shutdown_workers\n",
            "\n",
            "AssertionError    : can only test a child processif w.is_alive():\n",
            "\n",
            "  File \"/usr/lib/python3.10/multiprocessing/process.py\", line 160, in is_alive\n",
            "    assert self._parent_pid == os.getpid(), 'can only test a child process'\n",
            "AssertionError: can only test a child process\n",
            "100%|██████████| 32/32 [00:07<00:00,  4.05it/s]"
          ]
        },
        {
          "output_type": "stream",
          "name": "stdout",
          "text": [
            "\n",
            " EPOCH: 0095 -> val_accuracy: 0.4400, class_label_loss: 0.0695, domain_label_loss: 0.5691\n"
          ]
        },
        {
          "output_type": "stream",
          "name": "stderr",
          "text": [
            "\n",
            "  0%|          | 0/88 [00:00<?, ?it/s]Exception ignored in: Exception ignored in: <function _MultiProcessingDataLoaderIter.__del__ at 0x79befdbd28c0><function _MultiProcessingDataLoaderIter.__del__ at 0x79befdbd28c0>\n",
            "\n",
            "Traceback (most recent call last):\n",
            "Traceback (most recent call last):\n",
            "  File \"/usr/local/lib/python3.10/dist-packages/torch/utils/data/dataloader.py\", line 1478, in __del__\n",
            "  File \"/usr/local/lib/python3.10/dist-packages/torch/utils/data/dataloader.py\", line 1478, in __del__\n",
            "        self._shutdown_workers()self._shutdown_workers()\n",
            "\n",
            "  File \"/usr/local/lib/python3.10/dist-packages/torch/utils/data/dataloader.py\", line 1461, in _shutdown_workers\n",
            "  File \"/usr/local/lib/python3.10/dist-packages/torch/utils/data/dataloader.py\", line 1461, in _shutdown_workers\n",
            "        Exception ignored in: if w.is_alive():if w.is_alive():\n",
            "<function _MultiProcessingDataLoaderIter.__del__ at 0x79befdbd28c0>\n",
            "  File \"/usr/lib/python3.10/multiprocessing/process.py\", line 160, in is_alive\n",
            "\n",
            "  File \"/usr/lib/python3.10/multiprocessing/process.py\", line 160, in is_alive\n",
            "        assert self._parent_pid == os.getpid(), 'can only test a child process'assert self._parent_pid == os.getpid(), 'can only test a child process'Traceback (most recent call last):\n",
            "\n",
            "\n",
            "AssertionError  File \"/usr/local/lib/python3.10/dist-packages/torch/utils/data/dataloader.py\", line 1478, in __del__\n",
            "AssertionError: : can only test a child process    can only test a child process\n",
            "\n",
            "self._shutdown_workers()Exception ignored in: \n",
            "  File \"/usr/local/lib/python3.10/dist-packages/torch/utils/data/dataloader.py\", line 1461, in _shutdown_workers\n",
            "<function _MultiProcessingDataLoaderIter.__del__ at 0x79befdbd28c0>    if w.is_alive():\n",
            "\n",
            "Traceback (most recent call last):\n",
            "Exception ignored in:   File \"/usr/lib/python3.10/multiprocessing/process.py\", line 160, in is_alive\n",
            "    assert self._parent_pid == os.getpid(), 'can only test a child process'  File \"/usr/local/lib/python3.10/dist-packages/torch/utils/data/dataloader.py\", line 1478, in __del__\n",
            "<function _MultiProcessingDataLoaderIter.__del__ at 0x79befdbd28c0>Exception ignored in: \n",
            "<function _MultiProcessingDataLoaderIter.__del__ at 0x79befdbd28c0>    \n",
            "\n",
            "Traceback (most recent call last):\n",
            "self._shutdown_workers()  File \"/usr/local/lib/python3.10/dist-packages/torch/utils/data/dataloader.py\", line 1478, in __del__\n",
            "AssertionError\n",
            "    Traceback (most recent call last):\n",
            "  File \"/usr/local/lib/python3.10/dist-packages/torch/utils/data/dataloader.py\", line 1461, in _shutdown_workers\n",
            "  File \"/usr/local/lib/python3.10/dist-packages/torch/utils/data/dataloader.py\", line 1478, in __del__\n",
            ": self._shutdown_workers()    \n",
            "    can only test a child processself._shutdown_workers()  File \"/usr/local/lib/python3.10/dist-packages/torch/utils/data/dataloader.py\", line 1461, in _shutdown_workers\n",
            "\n",
            "if w.is_alive():\n",
            "  File \"/usr/local/lib/python3.10/dist-packages/torch/utils/data/dataloader.py\", line 1461, in _shutdown_workers\n",
            "\n",
            "      File \"/usr/lib/python3.10/multiprocessing/process.py\", line 160, in is_alive\n",
            "if w.is_alive():        Exception ignored in: if w.is_alive():assert self._parent_pid == os.getpid(), 'can only test a child process'\n",
            "<function _MultiProcessingDataLoaderIter.__del__ at 0x79befdbd28c0>\n",
            "\n",
            "  File \"/usr/lib/python3.10/multiprocessing/process.py\", line 160, in is_alive\n",
            "AssertionError  File \"/usr/lib/python3.10/multiprocessing/process.py\", line 160, in is_alive\n",
            "\n",
            "Traceback (most recent call last):\n",
            "    :   File \"/usr/local/lib/python3.10/dist-packages/torch/utils/data/dataloader.py\", line 1478, in __del__\n",
            "assert self._parent_pid == os.getpid(), 'can only test a child process'can only test a child process\n",
            "\n",
            "        assert self._parent_pid == os.getpid(), 'can only test a child process'AssertionErrorself._shutdown_workers()\n",
            ": \n",
            "AssertionError  File \"/usr/local/lib/python3.10/dist-packages/torch/utils/data/dataloader.py\", line 1461, in _shutdown_workers\n",
            ": can only test a child process    \n",
            "can only test a child processif w.is_alive():\n",
            "\n",
            "  File \"/usr/lib/python3.10/multiprocessing/process.py\", line 160, in is_alive\n",
            "Exception ignored in:     <function _MultiProcessingDataLoaderIter.__del__ at 0x79befdbd28c0>assert self._parent_pid == os.getpid(), 'can only test a child process'\n",
            "\n",
            "Traceback (most recent call last):\n",
            "AssertionError  File \"/usr/local/lib/python3.10/dist-packages/torch/utils/data/dataloader.py\", line 1478, in __del__\n",
            ":     can only test a child processself._shutdown_workers()\n",
            "\n",
            "  File \"/usr/local/lib/python3.10/dist-packages/torch/utils/data/dataloader.py\", line 1461, in _shutdown_workers\n",
            "    if w.is_alive():\n",
            "  File \"/usr/lib/python3.10/multiprocessing/process.py\", line 160, in is_alive\n",
            "    assert self._parent_pid == os.getpid(), 'can only test a child process'\n",
            "AssertionError: can only test a child processException ignored in: \n",
            "<function _MultiProcessingDataLoaderIter.__del__ at 0x79befdbd28c0>\n",
            "Traceback (most recent call last):\n",
            "  File \"/usr/local/lib/python3.10/dist-packages/torch/utils/data/dataloader.py\", line 1478, in __del__\n",
            "    self._shutdown_workers()\n",
            "  File \"/usr/local/lib/python3.10/dist-packages/torch/utils/data/dataloader.py\", line 1461, in _shutdown_workers\n",
            "    if w.is_alive():Exception ignored in: <function _MultiProcessingDataLoaderIter.__del__ at 0x79befdbd28c0>\n",
            "\n",
            "  File \"/usr/lib/python3.10/multiprocessing/process.py\", line 160, in is_alive\n",
            "Exception ignored in:     Traceback (most recent call last):\n",
            "assert self._parent_pid == os.getpid(), 'can only test a child process'  File \"/usr/local/lib/python3.10/dist-packages/torch/utils/data/dataloader.py\", line 1478, in __del__\n",
            "<function _MultiProcessingDataLoaderIter.__del__ at 0x79befdbd28c0>\n",
            "\n",
            "    AssertionErrorTraceback (most recent call last):\n",
            "self._shutdown_workers():   File \"/usr/local/lib/python3.10/dist-packages/torch/utils/data/dataloader.py\", line 1478, in __del__\n",
            "\n",
            "    can only test a child processself._shutdown_workers()  File \"/usr/local/lib/python3.10/dist-packages/torch/utils/data/dataloader.py\", line 1461, in _shutdown_workers\n",
            "\n",
            "\n",
            "      File \"/usr/local/lib/python3.10/dist-packages/torch/utils/data/dataloader.py\", line 1461, in _shutdown_workers\n",
            "if w.is_alive():    \n",
            "Exception ignored in: if w.is_alive():<function _MultiProcessingDataLoaderIter.__del__ at 0x79befdbd28c0>  File \"/usr/lib/python3.10/multiprocessing/process.py\", line 160, in is_alive\n",
            "\n",
            "    \n",
            "  File \"/usr/lib/python3.10/multiprocessing/process.py\", line 160, in is_alive\n",
            "Traceback (most recent call last):\n",
            "    assert self._parent_pid == os.getpid(), 'can only test a child process'  File \"/usr/local/lib/python3.10/dist-packages/torch/utils/data/dataloader.py\", line 1478, in __del__\n",
            "\n",
            "assert self._parent_pid == os.getpid(), 'can only test a child process'    \n",
            "AssertionErrorself._shutdown_workers()AssertionError\n",
            ": : can only test a child process\n",
            "  File \"/usr/local/lib/python3.10/dist-packages/torch/utils/data/dataloader.py\", line 1461, in _shutdown_workers\n",
            "can only test a child process    \n",
            "if w.is_alive():Exception ignored in: \n",
            "<function _MultiProcessingDataLoaderIter.__del__ at 0x79befdbd28c0>  File \"/usr/lib/python3.10/multiprocessing/process.py\", line 160, in is_alive\n",
            "Exception ignored in: \n",
            "    <function _MultiProcessingDataLoaderIter.__del__ at 0x79befdbd28c0>Exception ignored in: Traceback (most recent call last):\n",
            "assert self._parent_pid == os.getpid(), 'can only test a child process'\n",
            "<function _MultiProcessingDataLoaderIter.__del__ at 0x79befdbd28c0>\n",
            "\n",
            "  File \"/usr/local/lib/python3.10/dist-packages/torch/utils/data/dataloader.py\", line 1478, in __del__\n",
            "AssertionError    Traceback (most recent call last):\n",
            "Traceback (most recent call last):\n",
            ": self._shutdown_workers()  File \"/usr/local/lib/python3.10/dist-packages/torch/utils/data/dataloader.py\", line 1478, in __del__\n",
            "  File \"/usr/local/lib/python3.10/dist-packages/torch/utils/data/dataloader.py\", line 1478, in __del__\n",
            "\n",
            "can only test a child process        \n",
            "  File \"/usr/local/lib/python3.10/dist-packages/torch/utils/data/dataloader.py\", line 1461, in _shutdown_workers\n",
            "self._shutdown_workers()self._shutdown_workers()    \n",
            "\n",
            "  File \"/usr/local/lib/python3.10/dist-packages/torch/utils/data/dataloader.py\", line 1461, in _shutdown_workers\n",
            "if w.is_alive():  File \"/usr/local/lib/python3.10/dist-packages/torch/utils/data/dataloader.py\", line 1461, in _shutdown_workers\n",
            "        \n",
            "if w.is_alive():  File \"/usr/lib/python3.10/multiprocessing/process.py\", line 160, in is_alive\n",
            "if w.is_alive():\n",
            "    \n",
            "  File \"/usr/lib/python3.10/multiprocessing/process.py\", line 160, in is_alive\n",
            "  File \"/usr/lib/python3.10/multiprocessing/process.py\", line 160, in is_alive\n",
            "assert self._parent_pid == os.getpid(), 'can only test a child process'        \n",
            "AssertionErrorassert self._parent_pid == os.getpid(), 'can only test a child process'assert self._parent_pid == os.getpid(), 'can only test a child process'\n",
            "\n",
            ": AssertionErrorAssertionErrorcan only test a child process: : can only test a child processcan only test a child process\n",
            "\n",
            "\n",
            "Exception ignored in: <function _MultiProcessingDataLoaderIter.__del__ at 0x79befdbd28c0>\n",
            "Traceback (most recent call last):\n",
            "  File \"/usr/local/lib/python3.10/dist-packages/torch/utils/data/dataloader.py\", line 1478, in __del__\n",
            "    self._shutdown_workers()\n",
            "  File \"/usr/local/lib/python3.10/dist-packages/torch/utils/data/dataloader.py\", line 1461, in _shutdown_workers\n",
            "    if w.is_alive():\n",
            "  File \"/usr/lib/python3.10/multiprocessing/process.py\", line 160, in is_alive\n",
            "    assert self._parent_pid == os.getpid(), 'can only test a child process'\n",
            "AssertionError: can only test a child process\n",
            "100%|██████████| 88/88 [00:38<00:00,  2.27it/s]\n",
            "100%|██████████| 32/32 [00:07<00:00,  4.28it/s]"
          ]
        },
        {
          "output_type": "stream",
          "name": "stdout",
          "text": [
            "\n",
            " EPOCH: 0096 -> val_accuracy: 0.4389, class_label_loss: 0.0561, domain_label_loss: 0.5849\n"
          ]
        },
        {
          "output_type": "stream",
          "name": "stderr",
          "text": [
            "\n",
            "100%|██████████| 88/88 [00:35<00:00,  2.50it/s]\n",
            "100%|██████████| 32/32 [00:05<00:00,  5.82it/s]"
          ]
        },
        {
          "output_type": "stream",
          "name": "stdout",
          "text": [
            "\n",
            " EPOCH: 0097 -> val_accuracy: 0.4412, class_label_loss: 0.0357, domain_label_loss: 0.5488\n"
          ]
        },
        {
          "output_type": "stream",
          "name": "stderr",
          "text": [
            "\n",
            "100%|██████████| 88/88 [00:36<00:00,  2.44it/s]\n",
            "100%|██████████| 32/32 [00:05<00:00,  6.09it/s]"
          ]
        },
        {
          "output_type": "stream",
          "name": "stdout",
          "text": [
            "\n",
            " EPOCH: 0098 -> val_accuracy: 0.4409, class_label_loss: 0.0233, domain_label_loss: 0.6053\n"
          ]
        },
        {
          "output_type": "stream",
          "name": "stderr",
          "text": [
            "\n",
            "100%|██████████| 88/88 [00:35<00:00,  2.49it/s]\n",
            "100%|██████████| 32/32 [00:06<00:00,  4.65it/s]"
          ]
        },
        {
          "output_type": "stream",
          "name": "stdout",
          "text": [
            "\n",
            " EPOCH: 0099 -> val_accuracy: 0.4344, class_label_loss: 0.0485, domain_label_loss: 0.5956\n"
          ]
        },
        {
          "output_type": "stream",
          "name": "stderr",
          "text": [
            "\n",
            "100%|██████████| 88/88 [00:33<00:00,  2.64it/s]\n",
            "100%|██████████| 32/32 [00:08<00:00,  3.83it/s]"
          ]
        },
        {
          "output_type": "stream",
          "name": "stdout",
          "text": [
            "\n",
            " EPOCH: 0100 -> val_accuracy: 0.4462, class_label_loss: 0.0747, domain_label_loss: 0.5893\n"
          ]
        },
        {
          "output_type": "stream",
          "name": "stderr",
          "text": [
            "\n",
            "100%|██████████| 88/88 [00:35<00:00,  2.51it/s]\n",
            "100%|██████████| 32/32 [00:05<00:00,  5.75it/s]"
          ]
        },
        {
          "output_type": "stream",
          "name": "stdout",
          "text": [
            "\n",
            " EPOCH: 0101 -> val_accuracy: 0.4396, class_label_loss: 0.0142, domain_label_loss: 0.7263\n"
          ]
        },
        {
          "output_type": "stream",
          "name": "stderr",
          "text": [
            "\n",
            "100%|██████████| 88/88 [00:35<00:00,  2.50it/s]\n",
            "100%|██████████| 32/32 [00:05<00:00,  5.93it/s]"
          ]
        },
        {
          "output_type": "stream",
          "name": "stdout",
          "text": [
            "\n",
            " EPOCH: 0102 -> val_accuracy: 0.4352, class_label_loss: 0.0718, domain_label_loss: 0.5797\n"
          ]
        },
        {
          "output_type": "stream",
          "name": "stderr",
          "text": [
            "\n",
            "100%|██████████| 88/88 [00:36<00:00,  2.42it/s]\n",
            "100%|██████████| 32/32 [00:06<00:00,  5.07it/s]"
          ]
        },
        {
          "output_type": "stream",
          "name": "stdout",
          "text": [
            "\n",
            " EPOCH: 0103 -> val_accuracy: 0.4331, class_label_loss: 0.0357, domain_label_loss: 0.5370\n"
          ]
        },
        {
          "output_type": "stream",
          "name": "stderr",
          "text": [
            "\n",
            "100%|██████████| 88/88 [00:33<00:00,  2.62it/s]\n",
            "100%|██████████| 32/32 [00:08<00:00,  3.73it/s]"
          ]
        },
        {
          "output_type": "stream",
          "name": "stdout",
          "text": [
            "\n",
            " EPOCH: 0104 -> val_accuracy: 0.4282, class_label_loss: 0.0425, domain_label_loss: 0.5744\n"
          ]
        },
        {
          "output_type": "stream",
          "name": "stderr",
          "text": [
            "\n",
            "100%|██████████| 88/88 [00:35<00:00,  2.50it/s]\n",
            "100%|██████████| 32/32 [00:05<00:00,  5.75it/s]"
          ]
        },
        {
          "output_type": "stream",
          "name": "stdout",
          "text": [
            "\n",
            " EPOCH: 0105 -> val_accuracy: 0.4346, class_label_loss: 0.0426, domain_label_loss: 0.6181\n"
          ]
        },
        {
          "output_type": "stream",
          "name": "stderr",
          "text": [
            "\n",
            "100%|██████████| 88/88 [00:35<00:00,  2.47it/s]\n",
            "100%|██████████| 32/32 [00:05<00:00,  6.07it/s]"
          ]
        },
        {
          "output_type": "stream",
          "name": "stdout",
          "text": [
            "\n",
            " EPOCH: 0106 -> val_accuracy: 0.4533, class_label_loss: 0.0517, domain_label_loss: 0.5465\n"
          ]
        },
        {
          "output_type": "stream",
          "name": "stderr",
          "text": [
            "\n",
            "100%|██████████| 88/88 [00:35<00:00,  2.48it/s]\n",
            "100%|██████████| 32/32 [00:06<00:00,  4.77it/s]"
          ]
        },
        {
          "output_type": "stream",
          "name": "stdout",
          "text": [
            "\n",
            " EPOCH: 0107 -> val_accuracy: 0.4409, class_label_loss: 0.0373, domain_label_loss: 0.5358\n"
          ]
        },
        {
          "output_type": "stream",
          "name": "stderr",
          "text": [
            "\n",
            "100%|██████████| 88/88 [00:33<00:00,  2.63it/s]\n",
            "100%|██████████| 32/32 [00:08<00:00,  3.68it/s]"
          ]
        },
        {
          "output_type": "stream",
          "name": "stdout",
          "text": [
            "\n",
            " EPOCH: 0108 -> val_accuracy: 0.4505, class_label_loss: 0.0292, domain_label_loss: 0.6239\n"
          ]
        },
        {
          "output_type": "stream",
          "name": "stderr",
          "text": [
            "\n",
            "100%|██████████| 88/88 [00:34<00:00,  2.57it/s]\n",
            "100%|██████████| 32/32 [00:06<00:00,  4.92it/s]"
          ]
        },
        {
          "output_type": "stream",
          "name": "stdout",
          "text": [
            "\n",
            " EPOCH: 0109 -> val_accuracy: 0.4288, class_label_loss: 0.0311, domain_label_loss: 0.6007\n"
          ]
        },
        {
          "output_type": "stream",
          "name": "stderr",
          "text": [
            "\n",
            "100%|██████████| 88/88 [00:35<00:00,  2.48it/s]\n",
            "100%|██████████| 32/32 [00:05<00:00,  6.01it/s]"
          ]
        },
        {
          "output_type": "stream",
          "name": "stdout",
          "text": [
            "\n",
            " EPOCH: 0110 -> val_accuracy: 0.4577, class_label_loss: 0.0119, domain_label_loss: 0.5008\n"
          ]
        },
        {
          "output_type": "stream",
          "name": "stderr",
          "text": [
            "\n",
            "100%|██████████| 88/88 [00:35<00:00,  2.45it/s]\n",
            "100%|██████████| 32/32 [00:05<00:00,  5.52it/s]"
          ]
        },
        {
          "output_type": "stream",
          "name": "stdout",
          "text": [
            "\n",
            " EPOCH: 0111 -> val_accuracy: 0.4427, class_label_loss: 0.0137, domain_label_loss: 0.5477\n"
          ]
        },
        {
          "output_type": "stream",
          "name": "stderr",
          "text": [
            "\n",
            "100%|██████████| 88/88 [00:34<00:00,  2.57it/s]\n",
            "100%|██████████| 32/32 [00:08<00:00,  3.76it/s]"
          ]
        },
        {
          "output_type": "stream",
          "name": "stdout",
          "text": [
            "\n",
            " EPOCH: 0112 -> val_accuracy: 0.4742, class_label_loss: 0.0236, domain_label_loss: 0.6855\n",
            "--------------------Model saved--------------------\n"
          ]
        },
        {
          "output_type": "stream",
          "name": "stderr",
          "text": [
            "\n",
            "100%|██████████| 88/88 [00:33<00:00,  2.62it/s]\n",
            "100%|██████████| 32/32 [00:06<00:00,  4.89it/s]"
          ]
        },
        {
          "output_type": "stream",
          "name": "stdout",
          "text": [
            "\n",
            " EPOCH: 0113 -> val_accuracy: 0.4689, class_label_loss: 0.0330, domain_label_loss: 0.6265\n"
          ]
        },
        {
          "output_type": "stream",
          "name": "stderr",
          "text": [
            "\n",
            "100%|██████████| 88/88 [00:35<00:00,  2.47it/s]\n",
            "100%|██████████| 32/32 [00:05<00:00,  5.88it/s]"
          ]
        },
        {
          "output_type": "stream",
          "name": "stdout",
          "text": [
            "\n",
            " EPOCH: 0114 -> val_accuracy: 0.4664, class_label_loss: 0.0231, domain_label_loss: 0.6028\n"
          ]
        },
        {
          "output_type": "stream",
          "name": "stderr",
          "text": [
            "\n",
            "100%|██████████| 88/88 [00:35<00:00,  2.46it/s]\n",
            "100%|██████████| 32/32 [00:05<00:00,  6.03it/s]"
          ]
        },
        {
          "output_type": "stream",
          "name": "stdout",
          "text": [
            "\n",
            " EPOCH: 0115 -> val_accuracy: 0.4392, class_label_loss: 0.0404, domain_label_loss: 0.5561\n"
          ]
        },
        {
          "output_type": "stream",
          "name": "stderr",
          "text": [
            "\n",
            "100%|██████████| 88/88 [00:34<00:00,  2.54it/s]\n",
            "100%|██████████| 32/32 [00:08<00:00,  3.81it/s]"
          ]
        },
        {
          "output_type": "stream",
          "name": "stdout",
          "text": [
            "\n",
            " EPOCH: 0116 -> val_accuracy: 0.4558, class_label_loss: 0.0158, domain_label_loss: 0.6449\n"
          ]
        },
        {
          "output_type": "stream",
          "name": "stderr",
          "text": [
            "\n",
            "100%|██████████| 88/88 [00:33<00:00,  2.60it/s]\n",
            "100%|██████████| 32/32 [00:06<00:00,  4.80it/s]"
          ]
        },
        {
          "output_type": "stream",
          "name": "stdout",
          "text": [
            "\n",
            " EPOCH: 0117 -> val_accuracy: 0.4374, class_label_loss: 0.0275, domain_label_loss: 0.5980\n"
          ]
        },
        {
          "output_type": "stream",
          "name": "stderr",
          "text": [
            "\n",
            "100%|██████████| 88/88 [00:35<00:00,  2.47it/s]\n",
            "100%|██████████| 32/32 [00:05<00:00,  5.93it/s]"
          ]
        },
        {
          "output_type": "stream",
          "name": "stdout",
          "text": [
            "\n",
            " EPOCH: 0118 -> val_accuracy: 0.4458, class_label_loss: 0.0163, domain_label_loss: 0.6787\n"
          ]
        },
        {
          "output_type": "stream",
          "name": "stderr",
          "text": [
            "\n",
            "100%|██████████| 88/88 [00:36<00:00,  2.44it/s]\n",
            "100%|██████████| 32/32 [00:06<00:00,  4.97it/s]"
          ]
        },
        {
          "output_type": "stream",
          "name": "stdout",
          "text": [
            "\n",
            " EPOCH: 0119 -> val_accuracy: 0.4614, class_label_loss: 0.0370, domain_label_loss: 0.5991\n"
          ]
        },
        {
          "output_type": "stream",
          "name": "stderr",
          "text": [
            "\n",
            "100%|██████████| 88/88 [00:34<00:00,  2.58it/s]\n",
            "100%|██████████| 32/32 [00:08<00:00,  3.64it/s]"
          ]
        },
        {
          "output_type": "stream",
          "name": "stdout",
          "text": [
            "\n",
            " EPOCH: 0120 -> val_accuracy: 0.4650, class_label_loss: 0.0373, domain_label_loss: 0.6037\n"
          ]
        },
        {
          "output_type": "stream",
          "name": "stderr",
          "text": [
            "\n",
            "100%|██████████| 88/88 [00:34<00:00,  2.58it/s]\n",
            "100%|██████████| 32/32 [00:06<00:00,  5.07it/s]"
          ]
        },
        {
          "output_type": "stream",
          "name": "stdout",
          "text": [
            "\n",
            " EPOCH: 0121 -> val_accuracy: 0.4564, class_label_loss: 0.0112, domain_label_loss: 0.6602\n"
          ]
        },
        {
          "output_type": "stream",
          "name": "stderr",
          "text": [
            "\n",
            "100%|██████████| 88/88 [00:35<00:00,  2.50it/s]\n",
            "100%|██████████| 32/32 [00:05<00:00,  5.86it/s]"
          ]
        },
        {
          "output_type": "stream",
          "name": "stdout",
          "text": [
            "\n",
            " EPOCH: 0122 -> val_accuracy: 0.4633, class_label_loss: 0.0374, domain_label_loss: 0.5316\n"
          ]
        },
        {
          "output_type": "stream",
          "name": "stderr",
          "text": [
            "\n",
            "100%|██████████| 88/88 [00:36<00:00,  2.44it/s]\n",
            "100%|██████████| 32/32 [00:05<00:00,  5.49it/s]"
          ]
        },
        {
          "output_type": "stream",
          "name": "stdout",
          "text": [
            "\n",
            " EPOCH: 0123 -> val_accuracy: 0.4374, class_label_loss: 0.0270, domain_label_loss: 0.6265\n"
          ]
        },
        {
          "output_type": "stream",
          "name": "stderr",
          "text": [
            "\n",
            "100%|██████████| 88/88 [00:34<00:00,  2.54it/s]\n",
            "100%|██████████| 32/32 [00:08<00:00,  3.87it/s]"
          ]
        },
        {
          "output_type": "stream",
          "name": "stdout",
          "text": [
            "\n",
            " EPOCH: 0124 -> val_accuracy: 0.4468, class_label_loss: 0.0154, domain_label_loss: 0.5955\n"
          ]
        },
        {
          "output_type": "stream",
          "name": "stderr",
          "text": [
            "\n",
            "100%|██████████| 88/88 [00:34<00:00,  2.54it/s]\n",
            "100%|██████████| 32/32 [00:06<00:00,  4.72it/s]"
          ]
        },
        {
          "output_type": "stream",
          "name": "stdout",
          "text": [
            "\n",
            " EPOCH: 0125 -> val_accuracy: 0.4575, class_label_loss: 0.0651, domain_label_loss: 0.6492\n"
          ]
        },
        {
          "output_type": "stream",
          "name": "stderr",
          "text": [
            "\n",
            "100%|██████████| 88/88 [00:35<00:00,  2.46it/s]\n",
            "100%|██████████| 32/32 [00:05<00:00,  5.87it/s]"
          ]
        },
        {
          "output_type": "stream",
          "name": "stdout",
          "text": [
            "\n",
            " EPOCH: 0126 -> val_accuracy: 0.4202, class_label_loss: 0.0689, domain_label_loss: 0.6106\n"
          ]
        },
        {
          "output_type": "stream",
          "name": "stderr",
          "text": [
            "\n",
            "100%|██████████| 88/88 [00:36<00:00,  2.43it/s]\n",
            "100%|██████████| 32/32 [00:05<00:00,  5.57it/s]"
          ]
        },
        {
          "output_type": "stream",
          "name": "stdout",
          "text": [
            "\n",
            " EPOCH: 0127 -> val_accuracy: 0.4454, class_label_loss: 0.0292, domain_label_loss: 0.6250\n"
          ]
        },
        {
          "output_type": "stream",
          "name": "stderr",
          "text": [
            "\n",
            "100%|██████████| 88/88 [00:34<00:00,  2.55it/s]\n",
            "100%|██████████| 32/32 [00:08<00:00,  3.71it/s]"
          ]
        },
        {
          "output_type": "stream",
          "name": "stdout",
          "text": [
            "\n",
            " EPOCH: 0128 -> val_accuracy: 0.4537, class_label_loss: 0.0190, domain_label_loss: 0.5867\n"
          ]
        },
        {
          "output_type": "stream",
          "name": "stderr",
          "text": [
            "\n",
            "100%|██████████| 88/88 [00:34<00:00,  2.52it/s]\n",
            "100%|██████████| 32/32 [00:06<00:00,  5.15it/s]"
          ]
        },
        {
          "output_type": "stream",
          "name": "stdout",
          "text": [
            "\n",
            " EPOCH: 0129 -> val_accuracy: 0.4787, class_label_loss: 0.0394, domain_label_loss: 0.6987\n",
            "--------------------Model saved--------------------\n"
          ]
        },
        {
          "output_type": "stream",
          "name": "stderr",
          "text": [
            "\n",
            "100%|██████████| 88/88 [00:36<00:00,  2.42it/s]\n",
            "100%|██████████| 32/32 [00:05<00:00,  5.95it/s]"
          ]
        },
        {
          "output_type": "stream",
          "name": "stdout",
          "text": [
            "\n",
            " EPOCH: 0130 -> val_accuracy: 0.4616, class_label_loss: 0.0479, domain_label_loss: 0.6319\n"
          ]
        },
        {
          "output_type": "stream",
          "name": "stderr",
          "text": [
            "\n",
            "100%|██████████| 88/88 [00:36<00:00,  2.44it/s]\n",
            "100%|██████████| 32/32 [00:06<00:00,  4.66it/s]"
          ]
        },
        {
          "output_type": "stream",
          "name": "stdout",
          "text": [
            "\n",
            " EPOCH: 0131 -> val_accuracy: 0.4470, class_label_loss: 0.0154, domain_label_loss: 0.5632\n"
          ]
        },
        {
          "output_type": "stream",
          "name": "stderr",
          "text": [
            "\n",
            "100%|██████████| 88/88 [00:34<00:00,  2.55it/s]\n",
            "100%|██████████| 32/32 [00:08<00:00,  3.85it/s]"
          ]
        },
        {
          "output_type": "stream",
          "name": "stdout",
          "text": [
            "\n",
            " EPOCH: 0132 -> val_accuracy: 0.4642, class_label_loss: 0.0157, domain_label_loss: 0.6448\n"
          ]
        },
        {
          "output_type": "stream",
          "name": "stderr",
          "text": [
            "\n",
            "100%|██████████| 88/88 [00:35<00:00,  2.46it/s]\n",
            "100%|██████████| 32/32 [00:05<00:00,  5.78it/s]"
          ]
        },
        {
          "output_type": "stream",
          "name": "stdout",
          "text": [
            "\n",
            " EPOCH: 0133 -> val_accuracy: 0.4275, class_label_loss: 0.0637, domain_label_loss: 0.6375\n"
          ]
        },
        {
          "output_type": "stream",
          "name": "stderr",
          "text": [
            "\n",
            "100%|██████████| 88/88 [00:35<00:00,  2.45it/s]\n",
            "100%|██████████| 32/32 [00:05<00:00,  5.86it/s]"
          ]
        },
        {
          "output_type": "stream",
          "name": "stdout",
          "text": [
            "\n",
            " EPOCH: 0134 -> val_accuracy: 0.4665, class_label_loss: 0.0110, domain_label_loss: 0.6185\n"
          ]
        },
        {
          "output_type": "stream",
          "name": "stderr",
          "text": [
            "\n",
            "100%|██████████| 88/88 [00:35<00:00,  2.47it/s]\n",
            "100%|██████████| 32/32 [00:07<00:00,  4.33it/s]"
          ]
        },
        {
          "output_type": "stream",
          "name": "stdout",
          "text": [
            "\n",
            " EPOCH: 0135 -> val_accuracy: 0.4544, class_label_loss: 0.0171, domain_label_loss: 0.6501\n"
          ]
        },
        {
          "output_type": "stream",
          "name": "stderr",
          "text": [
            "\n",
            "100%|██████████| 88/88 [00:33<00:00,  2.61it/s]\n",
            "100%|██████████| 32/32 [00:08<00:00,  3.99it/s]"
          ]
        },
        {
          "output_type": "stream",
          "name": "stdout",
          "text": [
            "\n",
            " EPOCH: 0136 -> val_accuracy: 0.4716, class_label_loss: 0.0190, domain_label_loss: 0.6055\n"
          ]
        },
        {
          "output_type": "stream",
          "name": "stderr",
          "text": [
            "\n",
            "100%|██████████| 88/88 [00:35<00:00,  2.49it/s]\n",
            "100%|██████████| 32/32 [00:05<00:00,  6.11it/s]"
          ]
        },
        {
          "output_type": "stream",
          "name": "stdout",
          "text": [
            "\n",
            " EPOCH: 0137 -> val_accuracy: 0.4699, class_label_loss: 0.0221, domain_label_loss: 0.5648\n"
          ]
        },
        {
          "output_type": "stream",
          "name": "stderr",
          "text": [
            "\n",
            "100%|██████████| 88/88 [00:35<00:00,  2.48it/s]\n",
            "100%|██████████| 32/32 [00:05<00:00,  6.03it/s]"
          ]
        },
        {
          "output_type": "stream",
          "name": "stdout",
          "text": [
            "\n",
            " EPOCH: 0138 -> val_accuracy: 0.4593, class_label_loss: 0.0222, domain_label_loss: 0.5599\n"
          ]
        },
        {
          "output_type": "stream",
          "name": "stderr",
          "text": [
            "\n",
            "100%|██████████| 88/88 [00:35<00:00,  2.46it/s]\n",
            "100%|██████████| 32/32 [00:07<00:00,  4.47it/s]"
          ]
        },
        {
          "output_type": "stream",
          "name": "stdout",
          "text": [
            "\n",
            " EPOCH: 0139 -> val_accuracy: 0.4394, class_label_loss: 0.0393, domain_label_loss: 0.6363\n"
          ]
        },
        {
          "output_type": "stream",
          "name": "stderr",
          "text": [
            "\n",
            "100%|██████████| 88/88 [00:33<00:00,  2.64it/s]\n",
            "100%|██████████| 32/32 [00:07<00:00,  4.06it/s]"
          ]
        },
        {
          "output_type": "stream",
          "name": "stdout",
          "text": [
            "\n",
            " EPOCH: 0140 -> val_accuracy: 0.4491, class_label_loss: 0.0428, domain_label_loss: 0.6061\n"
          ]
        },
        {
          "output_type": "stream",
          "name": "stderr",
          "text": [
            "\n",
            "100%|██████████| 88/88 [00:35<00:00,  2.50it/s]\n",
            "100%|██████████| 32/32 [00:05<00:00,  6.01it/s]"
          ]
        },
        {
          "output_type": "stream",
          "name": "stdout",
          "text": [
            "\n",
            " EPOCH: 0141 -> val_accuracy: 0.4600, class_label_loss: 0.0240, domain_label_loss: 0.6404\n"
          ]
        },
        {
          "output_type": "stream",
          "name": "stderr",
          "text": [
            "\n",
            "100%|██████████| 88/88 [00:35<00:00,  2.49it/s]\n",
            "100%|██████████| 32/32 [00:05<00:00,  6.07it/s]"
          ]
        },
        {
          "output_type": "stream",
          "name": "stdout",
          "text": [
            "\n",
            " EPOCH: 0142 -> val_accuracy: 0.4668, class_label_loss: 0.0182, domain_label_loss: 0.6596\n"
          ]
        },
        {
          "output_type": "stream",
          "name": "stderr",
          "text": [
            "\n",
            "100%|██████████| 88/88 [00:35<00:00,  2.49it/s]\n",
            "100%|██████████| 32/32 [00:06<00:00,  4.85it/s]"
          ]
        },
        {
          "output_type": "stream",
          "name": "stdout",
          "text": [
            "\n",
            " EPOCH: 0143 -> val_accuracy: 0.4664, class_label_loss: 0.0262, domain_label_loss: 0.6988\n"
          ]
        },
        {
          "output_type": "stream",
          "name": "stderr",
          "text": [
            "\n",
            "100%|██████████| 88/88 [00:34<00:00,  2.58it/s]\n",
            "100%|██████████| 32/32 [00:08<00:00,  3.98it/s]"
          ]
        },
        {
          "output_type": "stream",
          "name": "stdout",
          "text": [
            "\n",
            " EPOCH: 0144 -> val_accuracy: 0.4626, class_label_loss: 0.0109, domain_label_loss: 0.6835\n"
          ]
        },
        {
          "output_type": "stream",
          "name": "stderr",
          "text": [
            "\n",
            "100%|██████████| 88/88 [00:34<00:00,  2.54it/s]\n",
            "100%|██████████| 32/32 [00:05<00:00,  5.58it/s]"
          ]
        },
        {
          "output_type": "stream",
          "name": "stdout",
          "text": [
            "\n",
            " EPOCH: 0145 -> val_accuracy: 0.4649, class_label_loss: 0.0232, domain_label_loss: 0.6797\n"
          ]
        },
        {
          "output_type": "stream",
          "name": "stderr",
          "text": [
            "\n",
            "100%|██████████| 88/88 [00:36<00:00,  2.44it/s]\n",
            "100%|██████████| 32/32 [00:05<00:00,  5.97it/s]"
          ]
        },
        {
          "output_type": "stream",
          "name": "stdout",
          "text": [
            "\n",
            " EPOCH: 0146 -> val_accuracy: 0.4685, class_label_loss: 0.0123, domain_label_loss: 0.5617\n"
          ]
        },
        {
          "output_type": "stream",
          "name": "stderr",
          "text": [
            "\n",
            "100%|██████████| 88/88 [00:35<00:00,  2.48it/s]\n",
            "100%|██████████| 32/32 [00:07<00:00,  4.05it/s]"
          ]
        },
        {
          "output_type": "stream",
          "name": "stdout",
          "text": [
            "\n",
            " EPOCH: 0147 -> val_accuracy: 0.4726, class_label_loss: 0.0454, domain_label_loss: 0.5955\n"
          ]
        },
        {
          "output_type": "stream",
          "name": "stderr",
          "text": [
            "\n",
            "100%|██████████| 88/88 [00:33<00:00,  2.62it/s]\n",
            "100%|██████████| 32/32 [00:07<00:00,  4.38it/s]"
          ]
        },
        {
          "output_type": "stream",
          "name": "stdout",
          "text": [
            "\n",
            " EPOCH: 0148 -> val_accuracy: 0.4527, class_label_loss: 0.0136, domain_label_loss: 0.6700\n"
          ]
        },
        {
          "output_type": "stream",
          "name": "stderr",
          "text": [
            "\n",
            "100%|██████████| 88/88 [00:35<00:00,  2.49it/s]\n",
            "100%|██████████| 32/32 [00:05<00:00,  5.88it/s]"
          ]
        },
        {
          "output_type": "stream",
          "name": "stdout",
          "text": [
            "\n",
            " EPOCH: 0149 -> val_accuracy: 0.4408, class_label_loss: 0.0312, domain_label_loss: 0.6153\n"
          ]
        },
        {
          "output_type": "stream",
          "name": "stderr",
          "text": [
            "\n",
            "100%|██████████| 88/88 [00:35<00:00,  2.45it/s]\n",
            "100%|██████████| 32/32 [00:05<00:00,  5.67it/s]"
          ]
        },
        {
          "output_type": "stream",
          "name": "stdout",
          "text": [
            "\n",
            " EPOCH: 0150 -> val_accuracy: 0.4573, class_label_loss: 0.0190, domain_label_loss: 0.6470\n"
          ]
        },
        {
          "output_type": "stream",
          "name": "stderr",
          "text": [
            "\n",
            "100%|██████████| 88/88 [00:34<00:00,  2.56it/s]\n",
            "100%|██████████| 32/32 [00:08<00:00,  3.70it/s]"
          ]
        },
        {
          "output_type": "stream",
          "name": "stdout",
          "text": [
            "\n",
            " EPOCH: 0151 -> val_accuracy: 0.4592, class_label_loss: 0.0238, domain_label_loss: 0.5900\n"
          ]
        },
        {
          "output_type": "stream",
          "name": "stderr",
          "text": [
            "\n",
            "100%|██████████| 88/88 [00:34<00:00,  2.58it/s]\n",
            "100%|██████████| 32/32 [00:06<00:00,  4.94it/s]"
          ]
        },
        {
          "output_type": "stream",
          "name": "stdout",
          "text": [
            "\n",
            " EPOCH: 0152 -> val_accuracy: 0.4515, class_label_loss: 0.0175, domain_label_loss: 0.6170\n"
          ]
        },
        {
          "output_type": "stream",
          "name": "stderr",
          "text": [
            "\n",
            "100%|██████████| 88/88 [00:36<00:00,  2.44it/s]\n",
            "100%|██████████| 32/32 [00:05<00:00,  5.87it/s]"
          ]
        },
        {
          "output_type": "stream",
          "name": "stdout",
          "text": [
            "\n",
            " EPOCH: 0153 -> val_accuracy: 0.4724, class_label_loss: 0.0196, domain_label_loss: 0.5582\n"
          ]
        },
        {
          "output_type": "stream",
          "name": "stderr",
          "text": [
            "\n",
            "100%|██████████| 88/88 [00:35<00:00,  2.49it/s]\n",
            "100%|██████████| 32/32 [00:06<00:00,  4.80it/s]"
          ]
        },
        {
          "output_type": "stream",
          "name": "stdout",
          "text": [
            "\n",
            " EPOCH: 0154 -> val_accuracy: 0.4654, class_label_loss: 0.0607, domain_label_loss: 0.6510\n"
          ]
        },
        {
          "output_type": "stream",
          "name": "stderr",
          "text": [
            "\n",
            "100%|██████████| 88/88 [00:33<00:00,  2.61it/s]\n",
            "100%|██████████| 32/32 [00:08<00:00,  3.86it/s]"
          ]
        },
        {
          "output_type": "stream",
          "name": "stdout",
          "text": [
            "\n",
            " EPOCH: 0155 -> val_accuracy: 0.4654, class_label_loss: 0.0409, domain_label_loss: 0.6826\n"
          ]
        },
        {
          "output_type": "stream",
          "name": "stderr",
          "text": [
            "\n",
            "100%|██████████| 88/88 [00:34<00:00,  2.57it/s]\n",
            "100%|██████████| 32/32 [00:06<00:00,  5.20it/s]"
          ]
        },
        {
          "output_type": "stream",
          "name": "stdout",
          "text": [
            "\n",
            " EPOCH: 0156 -> val_accuracy: 0.4608, class_label_loss: 0.0408, domain_label_loss: 0.6818\n"
          ]
        },
        {
          "output_type": "stream",
          "name": "stderr",
          "text": [
            "\n",
            "100%|██████████| 88/88 [00:35<00:00,  2.48it/s]\n",
            "100%|██████████| 32/32 [00:05<00:00,  5.87it/s]"
          ]
        },
        {
          "output_type": "stream",
          "name": "stdout",
          "text": [
            "\n",
            " EPOCH: 0157 -> val_accuracy: 0.4460, class_label_loss: 0.0064, domain_label_loss: 0.7257\n"
          ]
        },
        {
          "output_type": "stream",
          "name": "stderr",
          "text": [
            "\n",
            "100%|██████████| 88/88 [00:35<00:00,  2.47it/s]\n",
            "100%|██████████| 32/32 [00:06<00:00,  4.92it/s]"
          ]
        },
        {
          "output_type": "stream",
          "name": "stdout",
          "text": [
            "\n",
            " EPOCH: 0158 -> val_accuracy: 0.4541, class_label_loss: 0.0118, domain_label_loss: 0.6396\n"
          ]
        },
        {
          "output_type": "stream",
          "name": "stderr",
          "text": [
            "\n",
            "100%|██████████| 88/88 [00:33<00:00,  2.64it/s]\n",
            "100%|██████████| 32/32 [00:08<00:00,  3.70it/s]"
          ]
        },
        {
          "output_type": "stream",
          "name": "stdout",
          "text": [
            "\n",
            " EPOCH: 0159 -> val_accuracy: 0.4450, class_label_loss: 0.0620, domain_label_loss: 0.7097\n"
          ]
        },
        {
          "output_type": "stream",
          "name": "stderr",
          "text": [
            "\n",
            "100%|██████████| 88/88 [00:35<00:00,  2.47it/s]\n",
            "100%|██████████| 32/32 [00:05<00:00,  5.66it/s]"
          ]
        },
        {
          "output_type": "stream",
          "name": "stdout",
          "text": [
            "\n",
            " EPOCH: 0160 -> val_accuracy: 0.4589, class_label_loss: 0.0277, domain_label_loss: 0.6721\n"
          ]
        },
        {
          "output_type": "stream",
          "name": "stderr",
          "text": [
            "\n",
            "100%|██████████| 88/88 [00:35<00:00,  2.47it/s]\n",
            "100%|██████████| 32/32 [00:05<00:00,  5.99it/s]"
          ]
        },
        {
          "output_type": "stream",
          "name": "stdout",
          "text": [
            "\n",
            " EPOCH: 0161 -> val_accuracy: 0.4721, class_label_loss: 0.0488, domain_label_loss: 0.6738\n"
          ]
        },
        {
          "output_type": "stream",
          "name": "stderr",
          "text": [
            "\n",
            "100%|██████████| 88/88 [00:36<00:00,  2.44it/s]\n",
            "100%|██████████| 32/32 [00:07<00:00,  4.12it/s]"
          ]
        },
        {
          "output_type": "stream",
          "name": "stdout",
          "text": [
            "\n",
            " EPOCH: 0162 -> val_accuracy: 0.4639, class_label_loss: 0.0484, domain_label_loss: 0.8052\n"
          ]
        },
        {
          "output_type": "stream",
          "name": "stderr",
          "text": [
            "\n",
            "100%|██████████| 88/88 [00:33<00:00,  2.59it/s]\n",
            "100%|██████████| 32/32 [00:07<00:00,  4.25it/s]\n"
          ]
        },
        {
          "output_type": "stream",
          "name": "stdout",
          "text": [
            "\n",
            " EPOCH: 0163 -> val_accuracy: 0.4841, class_label_loss: 0.0187, domain_label_loss: 0.6684\n",
            "--------------------Model saved--------------------\n"
          ]
        },
        {
          "output_type": "stream",
          "name": "stderr",
          "text": [
            "100%|██████████| 88/88 [00:35<00:00,  2.45it/s]\n",
            "100%|██████████| 32/32 [00:05<00:00,  5.93it/s]"
          ]
        },
        {
          "output_type": "stream",
          "name": "stdout",
          "text": [
            "\n",
            " EPOCH: 0164 -> val_accuracy: 0.4724, class_label_loss: 0.0136, domain_label_loss: 0.7329\n"
          ]
        },
        {
          "output_type": "stream",
          "name": "stderr",
          "text": [
            "\n",
            "100%|██████████| 88/88 [00:35<00:00,  2.45it/s]\n",
            "100%|██████████| 32/32 [00:05<00:00,  5.72it/s]"
          ]
        },
        {
          "output_type": "stream",
          "name": "stdout",
          "text": [
            "\n",
            " EPOCH: 0165 -> val_accuracy: 0.4679, class_label_loss: 0.0271, domain_label_loss: 0.6765\n"
          ]
        },
        {
          "output_type": "stream",
          "name": "stderr",
          "text": [
            "\n",
            "100%|██████████| 88/88 [00:34<00:00,  2.54it/s]\n",
            "100%|██████████| 32/32 [00:08<00:00,  3.57it/s]"
          ]
        },
        {
          "output_type": "stream",
          "name": "stdout",
          "text": [
            "\n",
            " EPOCH: 0166 -> val_accuracy: 0.4588, class_label_loss: 0.0073, domain_label_loss: 0.6427\n"
          ]
        },
        {
          "output_type": "stream",
          "name": "stderr",
          "text": [
            "\n",
            "100%|██████████| 88/88 [00:34<00:00,  2.57it/s]\n",
            "100%|██████████| 32/32 [00:06<00:00,  4.74it/s]"
          ]
        },
        {
          "output_type": "stream",
          "name": "stdout",
          "text": [
            "\n",
            " EPOCH: 0167 -> val_accuracy: 0.4568, class_label_loss: 0.0195, domain_label_loss: 0.6808\n"
          ]
        },
        {
          "output_type": "stream",
          "name": "stderr",
          "text": [
            "\n",
            "100%|██████████| 88/88 [00:35<00:00,  2.46it/s]\n",
            "100%|██████████| 32/32 [00:05<00:00,  5.84it/s]"
          ]
        },
        {
          "output_type": "stream",
          "name": "stdout",
          "text": [
            "\n",
            " EPOCH: 0168 -> val_accuracy: 0.4591, class_label_loss: 0.0206, domain_label_loss: 0.6296\n"
          ]
        },
        {
          "output_type": "stream",
          "name": "stderr",
          "text": [
            "\n",
            "100%|██████████| 88/88 [00:35<00:00,  2.47it/s]\n",
            "100%|██████████| 32/32 [00:05<00:00,  5.70it/s]"
          ]
        },
        {
          "output_type": "stream",
          "name": "stdout",
          "text": [
            "\n",
            " EPOCH: 0169 -> val_accuracy: 0.4733, class_label_loss: 0.0133, domain_label_loss: 0.6766\n"
          ]
        },
        {
          "output_type": "stream",
          "name": "stderr",
          "text": [
            "\n",
            "100%|██████████| 88/88 [00:34<00:00,  2.57it/s]\n",
            "100%|██████████| 32/32 [00:08<00:00,  3.79it/s]"
          ]
        },
        {
          "output_type": "stream",
          "name": "stdout",
          "text": [
            "\n",
            " EPOCH: 0170 -> val_accuracy: 0.4554, class_label_loss: 0.0553, domain_label_loss: 0.6539\n"
          ]
        },
        {
          "output_type": "stream",
          "name": "stderr",
          "text": [
            "\n",
            "100%|██████████| 88/88 [00:33<00:00,  2.62it/s]\n",
            "100%|██████████| 32/32 [00:07<00:00,  4.55it/s]"
          ]
        },
        {
          "output_type": "stream",
          "name": "stdout",
          "text": [
            "\n",
            " EPOCH: 0171 -> val_accuracy: 0.4570, class_label_loss: 0.0217, domain_label_loss: 0.7531\n"
          ]
        },
        {
          "output_type": "stream",
          "name": "stderr",
          "text": [
            "\n",
            "100%|██████████| 88/88 [00:35<00:00,  2.49it/s]\n",
            "100%|██████████| 32/32 [00:05<00:00,  5.93it/s]"
          ]
        },
        {
          "output_type": "stream",
          "name": "stdout",
          "text": [
            "\n",
            " EPOCH: 0172 -> val_accuracy: 0.4522, class_label_loss: 0.0130, domain_label_loss: 0.6664\n"
          ]
        },
        {
          "output_type": "stream",
          "name": "stderr",
          "text": [
            "\n",
            "100%|██████████| 88/88 [00:35<00:00,  2.47it/s]\n",
            "100%|██████████| 32/32 [00:05<00:00,  5.82it/s]"
          ]
        },
        {
          "output_type": "stream",
          "name": "stdout",
          "text": [
            "\n",
            " EPOCH: 0173 -> val_accuracy: 0.4779, class_label_loss: 0.0324, domain_label_loss: 0.7562\n"
          ]
        },
        {
          "output_type": "stream",
          "name": "stderr",
          "text": [
            "\n",
            "100%|██████████| 88/88 [00:34<00:00,  2.53it/s]\n",
            "100%|██████████| 32/32 [00:08<00:00,  3.59it/s]"
          ]
        },
        {
          "output_type": "stream",
          "name": "stdout",
          "text": [
            "\n",
            " EPOCH: 0174 -> val_accuracy: 0.4647, class_label_loss: 0.0224, domain_label_loss: 0.6938\n"
          ]
        },
        {
          "output_type": "stream",
          "name": "stderr",
          "text": [
            "\n",
            "100%|██████████| 88/88 [00:34<00:00,  2.58it/s]\n",
            "100%|██████████| 32/32 [00:06<00:00,  4.81it/s]"
          ]
        },
        {
          "output_type": "stream",
          "name": "stdout",
          "text": [
            "\n",
            " EPOCH: 0175 -> val_accuracy: 0.4752, class_label_loss: 0.0116, domain_label_loss: 0.6171\n"
          ]
        },
        {
          "output_type": "stream",
          "name": "stderr",
          "text": [
            "\n",
            "100%|██████████| 88/88 [00:35<00:00,  2.50it/s]\n",
            "100%|██████████| 32/32 [00:05<00:00,  6.02it/s]"
          ]
        },
        {
          "output_type": "stream",
          "name": "stdout",
          "text": [
            "\n",
            " EPOCH: 0176 -> val_accuracy: 0.4636, class_label_loss: 0.0334, domain_label_loss: 0.6454\n"
          ]
        },
        {
          "output_type": "stream",
          "name": "stderr",
          "text": [
            "\n",
            "100%|██████████| 88/88 [00:35<00:00,  2.47it/s]\n",
            "100%|██████████| 32/32 [00:06<00:00,  5.22it/s]"
          ]
        },
        {
          "output_type": "stream",
          "name": "stdout",
          "text": [
            "\n",
            " EPOCH: 0177 -> val_accuracy: 0.4918, class_label_loss: 0.0088, domain_label_loss: 0.6863\n",
            "--------------------Model saved--------------------\n"
          ]
        },
        {
          "output_type": "stream",
          "name": "stderr",
          "text": [
            "\n",
            "100%|██████████| 88/88 [00:33<00:00,  2.59it/s]\n",
            "100%|██████████| 32/32 [00:09<00:00,  3.52it/s]"
          ]
        },
        {
          "output_type": "stream",
          "name": "stdout",
          "text": [
            "\n",
            " EPOCH: 0178 -> val_accuracy: 0.4714, class_label_loss: 0.0547, domain_label_loss: 0.7070\n"
          ]
        },
        {
          "output_type": "stream",
          "name": "stderr",
          "text": [
            "\n",
            "100%|██████████| 88/88 [00:34<00:00,  2.55it/s]\n",
            "100%|██████████| 32/32 [00:06<00:00,  5.09it/s]"
          ]
        },
        {
          "output_type": "stream",
          "name": "stdout",
          "text": [
            "\n",
            " EPOCH: 0179 -> val_accuracy: 0.4737, class_label_loss: 0.0211, domain_label_loss: 0.6417\n"
          ]
        },
        {
          "output_type": "stream",
          "name": "stderr",
          "text": [
            "\n",
            "100%|██████████| 88/88 [00:35<00:00,  2.45it/s]\n",
            "100%|██████████| 32/32 [00:05<00:00,  5.49it/s]"
          ]
        },
        {
          "output_type": "stream",
          "name": "stdout",
          "text": [
            "\n",
            " EPOCH: 0180 -> val_accuracy: 0.4803, class_label_loss: 0.0279, domain_label_loss: 0.7262\n"
          ]
        },
        {
          "output_type": "stream",
          "name": "stderr",
          "text": [
            "\n",
            "100%|██████████| 88/88 [00:35<00:00,  2.46it/s]\n",
            "100%|██████████| 32/32 [00:06<00:00,  4.73it/s]"
          ]
        },
        {
          "output_type": "stream",
          "name": "stdout",
          "text": [
            "\n",
            " EPOCH: 0181 -> val_accuracy: 0.4563, class_label_loss: 0.0161, domain_label_loss: 0.7153\n"
          ]
        },
        {
          "output_type": "stream",
          "name": "stderr",
          "text": [
            "\n",
            "100%|██████████| 88/88 [00:33<00:00,  2.63it/s]\n",
            "100%|██████████| 32/32 [00:08<00:00,  3.81it/s]"
          ]
        },
        {
          "output_type": "stream",
          "name": "stdout",
          "text": [
            "\n",
            " EPOCH: 0182 -> val_accuracy: 0.4779, class_label_loss: 0.0248, domain_label_loss: 0.7706\n"
          ]
        },
        {
          "output_type": "stream",
          "name": "stderr",
          "text": [
            "\n",
            "100%|██████████| 88/88 [00:34<00:00,  2.53it/s]\n",
            "100%|██████████| 32/32 [00:05<00:00,  5.47it/s]"
          ]
        },
        {
          "output_type": "stream",
          "name": "stdout",
          "text": [
            "\n",
            " EPOCH: 0183 -> val_accuracy: 0.4888, class_label_loss: 0.0216, domain_label_loss: 0.6891\n"
          ]
        },
        {
          "output_type": "stream",
          "name": "stderr",
          "text": [
            "\n",
            "100%|██████████| 88/88 [00:36<00:00,  2.44it/s]\n",
            "100%|██████████| 32/32 [00:05<00:00,  5.86it/s]"
          ]
        },
        {
          "output_type": "stream",
          "name": "stdout",
          "text": [
            "\n",
            " EPOCH: 0184 -> val_accuracy: 0.4847, class_label_loss: 0.0146, domain_label_loss: 0.7145\n"
          ]
        },
        {
          "output_type": "stream",
          "name": "stderr",
          "text": [
            "\n",
            "100%|██████████| 88/88 [00:36<00:00,  2.43it/s]\n",
            "100%|██████████| 32/32 [00:06<00:00,  4.76it/s]"
          ]
        },
        {
          "output_type": "stream",
          "name": "stdout",
          "text": [
            "\n",
            " EPOCH: 0185 -> val_accuracy: 0.4825, class_label_loss: 0.0185, domain_label_loss: 0.6792\n"
          ]
        },
        {
          "output_type": "stream",
          "name": "stderr",
          "text": [
            "\n",
            "100%|██████████| 88/88 [00:33<00:00,  2.63it/s]\n",
            "100%|██████████| 32/32 [00:08<00:00,  3.59it/s]"
          ]
        },
        {
          "output_type": "stream",
          "name": "stdout",
          "text": [
            "\n",
            " EPOCH: 0186 -> val_accuracy: 0.4742, class_label_loss: 0.0128, domain_label_loss: 0.6648\n"
          ]
        },
        {
          "output_type": "stream",
          "name": "stderr",
          "text": [
            "\n",
            "100%|██████████| 88/88 [00:35<00:00,  2.49it/s]\n",
            "100%|██████████| 32/32 [00:06<00:00,  4.88it/s]"
          ]
        },
        {
          "output_type": "stream",
          "name": "stdout",
          "text": [
            "\n",
            " EPOCH: 0187 -> val_accuracy: 0.4680, class_label_loss: 0.0077, domain_label_loss: 0.7733\n"
          ]
        },
        {
          "output_type": "stream",
          "name": "stderr",
          "text": [
            "\n",
            "100%|██████████| 88/88 [00:36<00:00,  2.44it/s]\n",
            "100%|██████████| 32/32 [00:05<00:00,  5.84it/s]"
          ]
        },
        {
          "output_type": "stream",
          "name": "stdout",
          "text": [
            "\n",
            " EPOCH: 0188 -> val_accuracy: 0.4543, class_label_loss: 0.0195, domain_label_loss: 0.7221\n"
          ]
        },
        {
          "output_type": "stream",
          "name": "stderr",
          "text": [
            "\n",
            "100%|██████████| 88/88 [00:36<00:00,  2.44it/s]\n",
            "100%|██████████| 32/32 [00:06<00:00,  4.93it/s]"
          ]
        },
        {
          "output_type": "stream",
          "name": "stdout",
          "text": [
            "\n",
            " EPOCH: 0189 -> val_accuracy: 0.4627, class_label_loss: 0.0190, domain_label_loss: 0.7732\n"
          ]
        },
        {
          "output_type": "stream",
          "name": "stderr",
          "text": [
            "\n",
            "100%|██████████| 88/88 [00:34<00:00,  2.58it/s]\n",
            "100%|██████████| 32/32 [00:08<00:00,  3.58it/s]"
          ]
        },
        {
          "output_type": "stream",
          "name": "stdout",
          "text": [
            "\n",
            " EPOCH: 0190 -> val_accuracy: 0.4576, class_label_loss: 0.0157, domain_label_loss: 0.6904\n"
          ]
        },
        {
          "output_type": "stream",
          "name": "stderr",
          "text": [
            "\n",
            "100%|██████████| 88/88 [00:35<00:00,  2.48it/s]\n",
            "100%|██████████| 32/32 [00:06<00:00,  5.17it/s]"
          ]
        },
        {
          "output_type": "stream",
          "name": "stdout",
          "text": [
            "\n",
            " EPOCH: 0191 -> val_accuracy: 0.4807, class_label_loss: 0.0224, domain_label_loss: 0.7491\n"
          ]
        },
        {
          "output_type": "stream",
          "name": "stderr",
          "text": [
            "\n",
            "100%|██████████| 88/88 [00:36<00:00,  2.42it/s]\n",
            "100%|██████████| 32/32 [00:05<00:00,  5.80it/s]"
          ]
        },
        {
          "output_type": "stream",
          "name": "stdout",
          "text": [
            "\n",
            " EPOCH: 0192 -> val_accuracy: 0.4904, class_label_loss: 0.0241, domain_label_loss: 0.7414\n"
          ]
        },
        {
          "output_type": "stream",
          "name": "stderr",
          "text": [
            "\n",
            "100%|██████████| 88/88 [00:36<00:00,  2.44it/s]\n",
            "100%|██████████| 32/32 [00:06<00:00,  4.81it/s]"
          ]
        },
        {
          "output_type": "stream",
          "name": "stdout",
          "text": [
            "\n",
            " EPOCH: 0193 -> val_accuracy: 0.4800, class_label_loss: 0.0249, domain_label_loss: 0.6713\n"
          ]
        },
        {
          "output_type": "stream",
          "name": "stderr",
          "text": [
            "\n",
            "100%|██████████| 88/88 [00:34<00:00,  2.53it/s]\n",
            "100%|██████████| 32/32 [00:08<00:00,  3.78it/s]"
          ]
        },
        {
          "output_type": "stream",
          "name": "stdout",
          "text": [
            "\n",
            " EPOCH: 0194 -> val_accuracy: 0.4782, class_label_loss: 0.0436, domain_label_loss: 0.7082\n"
          ]
        },
        {
          "output_type": "stream",
          "name": "stderr",
          "text": [
            "\n",
            "100%|██████████| 88/88 [00:36<00:00,  2.41it/s]\n",
            "100%|██████████| 32/32 [00:05<00:00,  5.64it/s]\n"
          ]
        },
        {
          "output_type": "stream",
          "name": "stdout",
          "text": [
            "\n",
            " EPOCH: 0195 -> val_accuracy: 0.4967, class_label_loss: 0.0318, domain_label_loss: 0.6473\n",
            "--------------------Model saved--------------------\n"
          ]
        },
        {
          "output_type": "stream",
          "name": "stderr",
          "text": [
            "100%|██████████| 88/88 [00:36<00:00,  2.38it/s]\n",
            "100%|██████████| 32/32 [00:05<00:00,  5.73it/s]"
          ]
        },
        {
          "output_type": "stream",
          "name": "stdout",
          "text": [
            "\n",
            " EPOCH: 0196 -> val_accuracy: 0.4766, class_label_loss: 0.0120, domain_label_loss: 0.7353\n"
          ]
        },
        {
          "output_type": "stream",
          "name": "stderr",
          "text": [
            "\n",
            "100%|██████████| 88/88 [00:36<00:00,  2.43it/s]\n",
            "100%|██████████| 32/32 [00:08<00:00,  3.82it/s]"
          ]
        },
        {
          "output_type": "stream",
          "name": "stdout",
          "text": [
            "\n",
            " EPOCH: 0197 -> val_accuracy: 0.4817, class_label_loss: 0.0287, domain_label_loss: 0.6772\n"
          ]
        },
        {
          "output_type": "stream",
          "name": "stderr",
          "text": [
            "\n",
            "100%|██████████| 88/88 [00:34<00:00,  2.56it/s]\n",
            "100%|██████████| 32/32 [00:07<00:00,  4.26it/s]"
          ]
        },
        {
          "output_type": "stream",
          "name": "stdout",
          "text": [
            "\n",
            " EPOCH: 0198 -> val_accuracy: 0.4921, class_label_loss: 0.0280, domain_label_loss: 0.6704\n"
          ]
        },
        {
          "output_type": "stream",
          "name": "stderr",
          "text": [
            "\n",
            "100%|██████████| 88/88 [00:36<00:00,  2.41it/s]\n",
            "100%|██████████| 32/32 [00:05<00:00,  5.79it/s]"
          ]
        },
        {
          "output_type": "stream",
          "name": "stdout",
          "text": [
            "\n",
            " EPOCH: 0199 -> val_accuracy: 0.4817, class_label_loss: 0.0173, domain_label_loss: 0.6840\n"
          ]
        },
        {
          "output_type": "stream",
          "name": "stderr",
          "text": [
            "\n",
            "100%|██████████| 88/88 [00:35<00:00,  2.45it/s]\n",
            "100%|██████████| 32/32 [00:05<00:00,  5.88it/s]"
          ]
        },
        {
          "output_type": "stream",
          "name": "stdout",
          "text": [
            "\n",
            " EPOCH: 0200 -> val_accuracy: 0.4801, class_label_loss: 0.0174, domain_label_loss: 0.7419\n"
          ]
        },
        {
          "output_type": "stream",
          "name": "stderr",
          "text": [
            "\n",
            "100%|██████████| 88/88 [00:35<00:00,  2.48it/s]\n",
            "100%|██████████| 32/32 [00:07<00:00,  4.35it/s]"
          ]
        },
        {
          "output_type": "stream",
          "name": "stdout",
          "text": [
            "\n",
            " EPOCH: 0201 -> val_accuracy: 0.4695, class_label_loss: 0.0144, domain_label_loss: 0.7183\n"
          ]
        },
        {
          "output_type": "stream",
          "name": "stderr",
          "text": [
            "\n",
            "100%|██████████| 88/88 [00:32<00:00,  2.67it/s]\n",
            "100%|██████████| 32/32 [00:08<00:00,  3.91it/s]"
          ]
        },
        {
          "output_type": "stream",
          "name": "stdout",
          "text": [
            "\n",
            " EPOCH: 0202 -> val_accuracy: 0.4837, class_label_loss: 0.0413, domain_label_loss: 0.7556\n"
          ]
        },
        {
          "output_type": "stream",
          "name": "stderr",
          "text": [
            "\n",
            "100%|██████████| 88/88 [00:35<00:00,  2.47it/s]\n",
            "100%|██████████| 32/32 [00:05<00:00,  5.46it/s]"
          ]
        },
        {
          "output_type": "stream",
          "name": "stdout",
          "text": [
            "\n",
            " EPOCH: 0203 -> val_accuracy: 0.4830, class_label_loss: 0.0190, domain_label_loss: 0.7697\n"
          ]
        },
        {
          "output_type": "stream",
          "name": "stderr",
          "text": [
            "\n",
            "100%|██████████| 88/88 [00:35<00:00,  2.46it/s]\n",
            "100%|██████████| 32/32 [00:05<00:00,  5.77it/s]"
          ]
        },
        {
          "output_type": "stream",
          "name": "stdout",
          "text": [
            "\n",
            " EPOCH: 0204 -> val_accuracy: 0.4689, class_label_loss: 0.0356, domain_label_loss: 0.8046\n"
          ]
        },
        {
          "output_type": "stream",
          "name": "stderr",
          "text": [
            "\n",
            "100%|██████████| 88/88 [00:35<00:00,  2.45it/s]\n",
            "100%|██████████| 32/32 [00:06<00:00,  5.13it/s]"
          ]
        },
        {
          "output_type": "stream",
          "name": "stdout",
          "text": [
            "\n",
            " EPOCH: 0205 -> val_accuracy: 0.4725, class_label_loss: 0.0341, domain_label_loss: 0.6814\n"
          ]
        },
        {
          "output_type": "stream",
          "name": "stderr",
          "text": [
            "\n",
            "100%|██████████| 88/88 [00:33<00:00,  2.64it/s]\n",
            "100%|██████████| 32/32 [00:08<00:00,  3.57it/s]"
          ]
        },
        {
          "output_type": "stream",
          "name": "stdout",
          "text": [
            "\n",
            " EPOCH: 0206 -> val_accuracy: 0.4982, class_label_loss: 0.0351, domain_label_loss: 0.7590\n",
            "--------------------Model saved--------------------\n"
          ]
        },
        {
          "output_type": "stream",
          "name": "stderr",
          "text": [
            "\n",
            "100%|██████████| 88/88 [00:34<00:00,  2.52it/s]\n",
            "100%|██████████| 32/32 [00:06<00:00,  5.14it/s]"
          ]
        },
        {
          "output_type": "stream",
          "name": "stdout",
          "text": [
            "\n",
            " EPOCH: 0207 -> val_accuracy: 0.4753, class_label_loss: 0.0044, domain_label_loss: 0.6575\n"
          ]
        },
        {
          "output_type": "stream",
          "name": "stderr",
          "text": [
            "\n",
            "100%|██████████| 88/88 [00:35<00:00,  2.45it/s]\n",
            "100%|██████████| 32/32 [00:05<00:00,  5.61it/s]"
          ]
        },
        {
          "output_type": "stream",
          "name": "stdout",
          "text": [
            "\n",
            " EPOCH: 0208 -> val_accuracy: 0.4727, class_label_loss: 0.0410, domain_label_loss: 0.7155\n"
          ]
        },
        {
          "output_type": "stream",
          "name": "stderr",
          "text": [
            "\n",
            "100%|██████████| 88/88 [00:36<00:00,  2.44it/s]\n",
            "100%|██████████| 32/32 [00:06<00:00,  5.27it/s]"
          ]
        },
        {
          "output_type": "stream",
          "name": "stdout",
          "text": [
            "\n",
            " EPOCH: 0209 -> val_accuracy: 0.4863, class_label_loss: 0.0066, domain_label_loss: 0.7812\n"
          ]
        },
        {
          "output_type": "stream",
          "name": "stderr",
          "text": [
            "\n",
            "100%|██████████| 88/88 [00:34<00:00,  2.56it/s]\n",
            "100%|██████████| 32/32 [00:08<00:00,  3.65it/s]"
          ]
        },
        {
          "output_type": "stream",
          "name": "stdout",
          "text": [
            "\n",
            " EPOCH: 0210 -> val_accuracy: 0.4918, class_label_loss: 0.0259, domain_label_loss: 0.7520\n"
          ]
        },
        {
          "output_type": "stream",
          "name": "stderr",
          "text": [
            "\n",
            "100%|██████████| 88/88 [00:35<00:00,  2.50it/s]\n",
            "100%|██████████| 32/32 [00:05<00:00,  5.48it/s]"
          ]
        },
        {
          "output_type": "stream",
          "name": "stdout",
          "text": [
            "\n",
            " EPOCH: 0211 -> val_accuracy: 0.4741, class_label_loss: 0.0374, domain_label_loss: 0.7639\n"
          ]
        },
        {
          "output_type": "stream",
          "name": "stderr",
          "text": [
            "\n",
            "100%|██████████| 88/88 [00:35<00:00,  2.47it/s]\n",
            "100%|██████████| 32/32 [00:05<00:00,  5.53it/s]"
          ]
        },
        {
          "output_type": "stream",
          "name": "stdout",
          "text": [
            "\n",
            " EPOCH: 0212 -> val_accuracy: 0.4633, class_label_loss: 0.0112, domain_label_loss: 0.7144\n"
          ]
        },
        {
          "output_type": "stream",
          "name": "stderr",
          "text": [
            "\n",
            "100%|██████████| 88/88 [00:35<00:00,  2.46it/s]\n",
            "100%|██████████| 32/32 [00:06<00:00,  4.63it/s]"
          ]
        },
        {
          "output_type": "stream",
          "name": "stdout",
          "text": [
            "\n",
            " EPOCH: 0213 -> val_accuracy: 0.4789, class_label_loss: 0.0208, domain_label_loss: 0.7444\n"
          ]
        },
        {
          "output_type": "stream",
          "name": "stderr",
          "text": [
            "\n",
            "100%|██████████| 88/88 [00:36<00:00,  2.44it/s]\n",
            "100%|██████████| 32/32 [00:07<00:00,  4.25it/s]"
          ]
        },
        {
          "output_type": "stream",
          "name": "stdout",
          "text": [
            "\n",
            " EPOCH: 0214 -> val_accuracy: 0.4920, class_label_loss: 0.0282, domain_label_loss: 0.6867\n"
          ]
        },
        {
          "output_type": "stream",
          "name": "stderr",
          "text": [
            "\n",
            "100%|██████████| 88/88 [00:37<00:00,  2.33it/s]\n",
            "100%|██████████| 32/32 [00:06<00:00,  4.99it/s]"
          ]
        },
        {
          "output_type": "stream",
          "name": "stdout",
          "text": [
            "\n",
            " EPOCH: 0215 -> val_accuracy: 0.4642, class_label_loss: 0.0237, domain_label_loss: 0.7053\n"
          ]
        },
        {
          "output_type": "stream",
          "name": "stderr",
          "text": [
            "\n",
            "100%|██████████| 88/88 [00:36<00:00,  2.40it/s]\n",
            "100%|██████████| 32/32 [00:09<00:00,  3.34it/s]"
          ]
        },
        {
          "output_type": "stream",
          "name": "stdout",
          "text": [
            "\n",
            " EPOCH: 0216 -> val_accuracy: 0.4666, class_label_loss: 0.0294, domain_label_loss: 0.7142\n"
          ]
        },
        {
          "output_type": "stream",
          "name": "stderr",
          "text": [
            "\n",
            "100%|██████████| 88/88 [00:37<00:00,  2.34it/s]\n",
            "100%|██████████| 32/32 [00:06<00:00,  4.96it/s]"
          ]
        },
        {
          "output_type": "stream",
          "name": "stdout",
          "text": [
            "\n",
            " EPOCH: 0217 -> val_accuracy: 0.4614, class_label_loss: 0.0135, domain_label_loss: 0.7680\n"
          ]
        },
        {
          "output_type": "stream",
          "name": "stderr",
          "text": [
            "\n",
            "100%|██████████| 88/88 [00:37<00:00,  2.34it/s]\n",
            "100%|██████████| 32/32 [00:08<00:00,  3.91it/s]"
          ]
        },
        {
          "output_type": "stream",
          "name": "stdout",
          "text": [
            "\n",
            " EPOCH: 0218 -> val_accuracy: 0.4913, class_label_loss: 0.0151, domain_label_loss: 0.7184\n"
          ]
        },
        {
          "output_type": "stream",
          "name": "stderr",
          "text": [
            "\n",
            "100%|██████████| 88/88 [00:36<00:00,  2.41it/s]\n",
            "100%|██████████| 32/32 [00:07<00:00,  4.04it/s]"
          ]
        },
        {
          "output_type": "stream",
          "name": "stdout",
          "text": [
            "\n",
            " EPOCH: 0219 -> val_accuracy: 0.4862, class_label_loss: 0.0265, domain_label_loss: 0.6522\n"
          ]
        },
        {
          "output_type": "stream",
          "name": "stderr",
          "text": [
            "\n",
            "100%|██████████| 88/88 [00:36<00:00,  2.40it/s]\n",
            "100%|██████████| 32/32 [00:05<00:00,  5.84it/s]"
          ]
        },
        {
          "output_type": "stream",
          "name": "stdout",
          "text": [
            "\n",
            " EPOCH: 0220 -> val_accuracy: 0.4750, class_label_loss: 0.0296, domain_label_loss: 0.7636\n"
          ]
        },
        {
          "output_type": "stream",
          "name": "stderr",
          "text": [
            "\n",
            "100%|██████████| 88/88 [00:35<00:00,  2.47it/s]\n",
            "100%|██████████| 32/32 [00:07<00:00,  4.32it/s]"
          ]
        },
        {
          "output_type": "stream",
          "name": "stdout",
          "text": [
            "\n",
            " EPOCH: 0221 -> val_accuracy: 0.4855, class_label_loss: 0.0041, domain_label_loss: 0.6850\n"
          ]
        },
        {
          "output_type": "stream",
          "name": "stderr",
          "text": [
            "\n",
            "100%|██████████| 88/88 [00:33<00:00,  2.63it/s]\n",
            "100%|██████████| 32/32 [00:07<00:00,  4.04it/s]"
          ]
        },
        {
          "output_type": "stream",
          "name": "stdout",
          "text": [
            "\n",
            " EPOCH: 0222 -> val_accuracy: 0.4834, class_label_loss: 0.0184, domain_label_loss: 0.8039\n"
          ]
        },
        {
          "output_type": "stream",
          "name": "stderr",
          "text": [
            "\n",
            "100%|██████████| 88/88 [00:34<00:00,  2.54it/s]\n",
            "100%|██████████| 32/32 [00:05<00:00,  5.52it/s]"
          ]
        },
        {
          "output_type": "stream",
          "name": "stdout",
          "text": [
            "\n",
            " EPOCH: 0223 -> val_accuracy: 0.5067, class_label_loss: 0.0241, domain_label_loss: 0.7065\n",
            "--------------------Model saved--------------------\n"
          ]
        },
        {
          "output_type": "stream",
          "name": "stderr",
          "text": [
            "\n",
            "100%|██████████| 88/88 [00:35<00:00,  2.48it/s]\n",
            "100%|██████████| 32/32 [00:05<00:00,  5.82it/s]"
          ]
        },
        {
          "output_type": "stream",
          "name": "stdout",
          "text": [
            "\n",
            " EPOCH: 0224 -> val_accuracy: 0.4808, class_label_loss: 0.0307, domain_label_loss: 0.7499\n"
          ]
        },
        {
          "output_type": "stream",
          "name": "stderr",
          "text": [
            "\n",
            "100%|██████████| 88/88 [00:35<00:00,  2.45it/s]\n",
            "100%|██████████| 32/32 [00:06<00:00,  5.09it/s]"
          ]
        },
        {
          "output_type": "stream",
          "name": "stdout",
          "text": [
            "\n",
            " EPOCH: 0225 -> val_accuracy: 0.4701, class_label_loss: 0.0723, domain_label_loss: 0.7789\n"
          ]
        },
        {
          "output_type": "stream",
          "name": "stderr",
          "text": [
            "\n",
            "100%|██████████| 88/88 [00:34<00:00,  2.57it/s]\n",
            "100%|██████████| 32/32 [00:09<00:00,  3.54it/s]"
          ]
        },
        {
          "output_type": "stream",
          "name": "stdout",
          "text": [
            "\n",
            " EPOCH: 0226 -> val_accuracy: 0.4747, class_label_loss: 0.0151, domain_label_loss: 0.6527\n"
          ]
        },
        {
          "output_type": "stream",
          "name": "stderr",
          "text": [
            "\n",
            "100%|██████████| 88/88 [00:34<00:00,  2.55it/s]\n",
            "100%|██████████| 32/32 [00:06<00:00,  4.94it/s]"
          ]
        },
        {
          "output_type": "stream",
          "name": "stdout",
          "text": [
            "\n",
            " EPOCH: 0227 -> val_accuracy: 0.4689, class_label_loss: 0.0229, domain_label_loss: 0.7187\n"
          ]
        },
        {
          "output_type": "stream",
          "name": "stderr",
          "text": [
            "\n",
            "100%|██████████| 88/88 [00:35<00:00,  2.45it/s]\n",
            "100%|██████████| 32/32 [00:05<00:00,  5.70it/s]"
          ]
        },
        {
          "output_type": "stream",
          "name": "stdout",
          "text": [
            "\n",
            " EPOCH: 0228 -> val_accuracy: 0.4867, class_label_loss: 0.0149, domain_label_loss: 0.7864\n"
          ]
        },
        {
          "output_type": "stream",
          "name": "stderr",
          "text": [
            "\n",
            "100%|██████████| 88/88 [00:36<00:00,  2.43it/s]\n",
            "100%|██████████| 32/32 [00:05<00:00,  5.78it/s]"
          ]
        },
        {
          "output_type": "stream",
          "name": "stdout",
          "text": [
            "\n",
            " EPOCH: 0229 -> val_accuracy: 0.4856, class_label_loss: 0.0185, domain_label_loss: 0.8327\n"
          ]
        },
        {
          "output_type": "stream",
          "name": "stderr",
          "text": [
            "\n",
            "100%|██████████| 88/88 [00:35<00:00,  2.48it/s]\n",
            "100%|██████████| 32/32 [00:08<00:00,  3.58it/s]"
          ]
        },
        {
          "output_type": "stream",
          "name": "stdout",
          "text": [
            "\n",
            " EPOCH: 0230 -> val_accuracy: 0.4695, class_label_loss: 0.0217, domain_label_loss: 0.8077\n"
          ]
        },
        {
          "output_type": "stream",
          "name": "stderr",
          "text": [
            "\n",
            "100%|██████████| 88/88 [00:34<00:00,  2.58it/s]\n",
            "100%|██████████| 32/32 [00:06<00:00,  4.73it/s]"
          ]
        },
        {
          "output_type": "stream",
          "name": "stdout",
          "text": [
            "\n",
            " EPOCH: 0231 -> val_accuracy: 0.4920, class_label_loss: 0.0246, domain_label_loss: 0.8713\n"
          ]
        },
        {
          "output_type": "stream",
          "name": "stderr",
          "text": [
            "\n",
            "100%|██████████| 88/88 [00:35<00:00,  2.45it/s]\n",
            "100%|██████████| 32/32 [00:05<00:00,  5.83it/s]"
          ]
        },
        {
          "output_type": "stream",
          "name": "stdout",
          "text": [
            "\n",
            " EPOCH: 0232 -> val_accuracy: 0.4742, class_label_loss: 0.0132, domain_label_loss: 0.7582\n"
          ]
        },
        {
          "output_type": "stream",
          "name": "stderr",
          "text": [
            "\n",
            "100%|██████████| 88/88 [00:36<00:00,  2.42it/s]\n",
            "100%|██████████| 32/32 [00:06<00:00,  4.63it/s]"
          ]
        },
        {
          "output_type": "stream",
          "name": "stdout",
          "text": [
            "\n",
            " EPOCH: 0233 -> val_accuracy: 0.4811, class_label_loss: 0.0135, domain_label_loss: 0.6851\n"
          ]
        },
        {
          "output_type": "stream",
          "name": "stderr",
          "text": [
            "\n",
            "100%|██████████| 88/88 [00:33<00:00,  2.62it/s]\n",
            "100%|██████████| 32/32 [00:08<00:00,  3.62it/s]"
          ]
        },
        {
          "output_type": "stream",
          "name": "stdout",
          "text": [
            "\n",
            " EPOCH: 0234 -> val_accuracy: 0.4780, class_label_loss: 0.0077, domain_label_loss: 0.7617\n"
          ]
        },
        {
          "output_type": "stream",
          "name": "stderr",
          "text": [
            "\n",
            "100%|██████████| 88/88 [00:34<00:00,  2.53it/s]\n",
            "100%|██████████| 32/32 [00:06<00:00,  5.09it/s]"
          ]
        },
        {
          "output_type": "stream",
          "name": "stdout",
          "text": [
            "\n",
            " EPOCH: 0235 -> val_accuracy: 0.4957, class_label_loss: 0.0227, domain_label_loss: 0.7933\n"
          ]
        },
        {
          "output_type": "stream",
          "name": "stderr",
          "text": [
            "\n",
            "100%|██████████| 88/88 [00:36<00:00,  2.41it/s]\n",
            "100%|██████████| 32/32 [00:05<00:00,  5.88it/s]"
          ]
        },
        {
          "output_type": "stream",
          "name": "stdout",
          "text": [
            "\n",
            " EPOCH: 0236 -> val_accuracy: 0.4764, class_label_loss: 0.0382, domain_label_loss: 0.7844\n"
          ]
        },
        {
          "output_type": "stream",
          "name": "stderr",
          "text": [
            "\n",
            "100%|██████████| 88/88 [00:36<00:00,  2.43it/s]\n",
            "100%|██████████| 32/32 [00:07<00:00,  4.00it/s]"
          ]
        },
        {
          "output_type": "stream",
          "name": "stdout",
          "text": [
            "\n",
            " EPOCH: 0237 -> val_accuracy: 0.4729, class_label_loss: 0.0081, domain_label_loss: 0.6978\n"
          ]
        },
        {
          "output_type": "stream",
          "name": "stderr",
          "text": [
            "\n",
            "100%|██████████| 88/88 [00:34<00:00,  2.54it/s]\n",
            "100%|██████████| 32/32 [00:07<00:00,  4.36it/s]"
          ]
        },
        {
          "output_type": "stream",
          "name": "stdout",
          "text": [
            "\n",
            " EPOCH: 0238 -> val_accuracy: 0.4929, class_label_loss: 0.0145, domain_label_loss: 0.8105\n"
          ]
        },
        {
          "output_type": "stream",
          "name": "stderr",
          "text": [
            "\n",
            "100%|██████████| 88/88 [00:36<00:00,  2.43it/s]\n",
            "100%|██████████| 32/32 [00:05<00:00,  5.80it/s]"
          ]
        },
        {
          "output_type": "stream",
          "name": "stdout",
          "text": [
            "\n",
            " EPOCH: 0239 -> val_accuracy: 0.4959, class_label_loss: 0.0139, domain_label_loss: 0.7340\n"
          ]
        },
        {
          "output_type": "stream",
          "name": "stderr",
          "text": [
            "\n",
            "100%|██████████| 88/88 [00:36<00:00,  2.43it/s]\n",
            "100%|██████████| 32/32 [00:05<00:00,  5.84it/s]"
          ]
        },
        {
          "output_type": "stream",
          "name": "stdout",
          "text": [
            "\n",
            " EPOCH: 0240 -> val_accuracy: 0.4862, class_label_loss: 0.0145, domain_label_loss: 0.8154\n"
          ]
        },
        {
          "output_type": "stream",
          "name": "stderr",
          "text": [
            "\n",
            "100%|██████████| 88/88 [00:35<00:00,  2.49it/s]\n",
            "100%|██████████| 32/32 [00:08<00:00,  3.81it/s]"
          ]
        },
        {
          "output_type": "stream",
          "name": "stdout",
          "text": [
            "\n",
            " EPOCH: 0241 -> val_accuracy: 0.4905, class_label_loss: 0.0191, domain_label_loss: 0.8164\n"
          ]
        },
        {
          "output_type": "stream",
          "name": "stderr",
          "text": [
            "\n",
            "100%|██████████| 88/88 [00:34<00:00,  2.54it/s]\n",
            "100%|██████████| 32/32 [00:07<00:00,  4.47it/s]"
          ]
        },
        {
          "output_type": "stream",
          "name": "stdout",
          "text": [
            "\n",
            " EPOCH: 0242 -> val_accuracy: 0.4637, class_label_loss: 0.0219, domain_label_loss: 0.7642\n"
          ]
        },
        {
          "output_type": "stream",
          "name": "stderr",
          "text": [
            "\n",
            "100%|██████████| 88/88 [00:36<00:00,  2.43it/s]\n",
            "100%|██████████| 32/32 [00:05<00:00,  5.83it/s]"
          ]
        },
        {
          "output_type": "stream",
          "name": "stdout",
          "text": [
            "\n",
            " EPOCH: 0243 -> val_accuracy: 0.4678, class_label_loss: 0.0193, domain_label_loss: 0.7705\n"
          ]
        },
        {
          "output_type": "stream",
          "name": "stderr",
          "text": [
            "\n",
            "100%|██████████| 88/88 [00:36<00:00,  2.43it/s]\n",
            "100%|██████████| 32/32 [00:05<00:00,  5.59it/s]"
          ]
        },
        {
          "output_type": "stream",
          "name": "stdout",
          "text": [
            "\n",
            " EPOCH: 0244 -> val_accuracy: 0.4997, class_label_loss: 0.0157, domain_label_loss: 0.7914\n"
          ]
        },
        {
          "output_type": "stream",
          "name": "stderr",
          "text": [
            "\n",
            "100%|██████████| 88/88 [00:35<00:00,  2.51it/s]\n",
            "100%|██████████| 32/32 [00:08<00:00,  3.73it/s]"
          ]
        },
        {
          "output_type": "stream",
          "name": "stdout",
          "text": [
            "\n",
            " EPOCH: 0245 -> val_accuracy: 0.4920, class_label_loss: 0.0066, domain_label_loss: 0.7145\n"
          ]
        },
        {
          "output_type": "stream",
          "name": "stderr",
          "text": [
            "\n",
            "100%|██████████| 88/88 [00:34<00:00,  2.57it/s]\n",
            "100%|██████████| 32/32 [00:07<00:00,  4.54it/s]"
          ]
        },
        {
          "output_type": "stream",
          "name": "stdout",
          "text": [
            "\n",
            " EPOCH: 0246 -> val_accuracy: 0.4857, class_label_loss: 0.0111, domain_label_loss: 0.7237\n"
          ]
        },
        {
          "output_type": "stream",
          "name": "stderr",
          "text": [
            "\n",
            "100%|██████████| 88/88 [00:35<00:00,  2.45it/s]\n",
            "100%|██████████| 32/32 [00:05<00:00,  5.80it/s]"
          ]
        },
        {
          "output_type": "stream",
          "name": "stdout",
          "text": [
            "\n",
            " EPOCH: 0247 -> val_accuracy: 0.4675, class_label_loss: 0.0260, domain_label_loss: 0.7518\n"
          ]
        },
        {
          "output_type": "stream",
          "name": "stderr",
          "text": [
            "\n",
            "100%|██████████| 88/88 [00:36<00:00,  2.41it/s]\n",
            "100%|██████████| 32/32 [00:05<00:00,  5.79it/s]"
          ]
        },
        {
          "output_type": "stream",
          "name": "stdout",
          "text": [
            "\n",
            " EPOCH: 0248 -> val_accuracy: 0.4848, class_label_loss: 0.0137, domain_label_loss: 0.7149\n"
          ]
        },
        {
          "output_type": "stream",
          "name": "stderr",
          "text": [
            "\n",
            "100%|██████████| 88/88 [00:35<00:00,  2.50it/s]\n",
            "100%|██████████| 32/32 [00:08<00:00,  3.81it/s]"
          ]
        },
        {
          "output_type": "stream",
          "name": "stdout",
          "text": [
            "\n",
            " EPOCH: 0249 -> val_accuracy: 0.4862, class_label_loss: 0.0214, domain_label_loss: 0.7059\n"
          ]
        },
        {
          "output_type": "stream",
          "name": "stderr",
          "text": [
            "\n",
            "100%|██████████| 88/88 [00:33<00:00,  2.61it/s]\n",
            "100%|██████████| 32/32 [00:07<00:00,  4.24it/s]"
          ]
        },
        {
          "output_type": "stream",
          "name": "stdout",
          "text": [
            "\n",
            " EPOCH: 0250 -> val_accuracy: 0.5092, class_label_loss: 0.0199, domain_label_loss: 0.7049\n",
            "--------------------Model saved--------------------\n"
          ]
        },
        {
          "output_type": "stream",
          "name": "stderr",
          "text": [
            "\n",
            "100%|██████████| 88/88 [00:36<00:00,  2.44it/s]\n",
            "100%|██████████| 32/32 [00:05<00:00,  5.73it/s]"
          ]
        },
        {
          "output_type": "stream",
          "name": "stdout",
          "text": [
            "\n",
            " EPOCH: 0251 -> val_accuracy: 0.4769, class_label_loss: 0.0029, domain_label_loss: 0.7841\n"
          ]
        },
        {
          "output_type": "stream",
          "name": "stderr",
          "text": [
            "\n",
            "100%|██████████| 88/88 [00:36<00:00,  2.41it/s]\n",
            "100%|██████████| 32/32 [00:05<00:00,  5.39it/s]"
          ]
        },
        {
          "output_type": "stream",
          "name": "stdout",
          "text": [
            "\n",
            " EPOCH: 0252 -> val_accuracy: 0.4807, class_label_loss: 0.0067, domain_label_loss: 0.7552\n"
          ]
        },
        {
          "output_type": "stream",
          "name": "stderr",
          "text": [
            "\n",
            "100%|██████████| 88/88 [00:33<00:00,  2.59it/s]\n",
            "100%|██████████| 32/32 [00:08<00:00,  3.82it/s]"
          ]
        },
        {
          "output_type": "stream",
          "name": "stdout",
          "text": [
            "\n",
            " EPOCH: 0253 -> val_accuracy: 0.4788, class_label_loss: 0.0271, domain_label_loss: 0.7630\n"
          ]
        },
        {
          "output_type": "stream",
          "name": "stderr",
          "text": [
            "\n",
            "100%|██████████| 88/88 [00:32<00:00,  2.68it/s]\n",
            "100%|██████████| 32/32 [00:07<00:00,  4.13it/s]"
          ]
        },
        {
          "output_type": "stream",
          "name": "stdout",
          "text": [
            "\n",
            " EPOCH: 0254 -> val_accuracy: 0.4798, class_label_loss: 0.0191, domain_label_loss: 0.8553\n"
          ]
        },
        {
          "output_type": "stream",
          "name": "stderr",
          "text": [
            "\n",
            "100%|██████████| 88/88 [00:35<00:00,  2.45it/s]\n",
            "100%|██████████| 32/32 [00:05<00:00,  5.79it/s]"
          ]
        },
        {
          "output_type": "stream",
          "name": "stdout",
          "text": [
            "\n",
            " EPOCH: 0255 -> val_accuracy: 0.5002, class_label_loss: 0.0228, domain_label_loss: 0.8131\n"
          ]
        },
        {
          "output_type": "stream",
          "name": "stderr",
          "text": [
            "\n",
            "100%|██████████| 88/88 [00:35<00:00,  2.45it/s]\n",
            "100%|██████████| 32/32 [00:05<00:00,  5.85it/s]"
          ]
        },
        {
          "output_type": "stream",
          "name": "stdout",
          "text": [
            "\n",
            " EPOCH: 0256 -> val_accuracy: 0.4974, class_label_loss: 0.0038, domain_label_loss: 0.7182\n"
          ]
        },
        {
          "output_type": "stream",
          "name": "stderr",
          "text": [
            "\n",
            "100%|██████████| 88/88 [00:34<00:00,  2.55it/s]\n",
            "100%|██████████| 32/32 [00:07<00:00,  4.01it/s]"
          ]
        },
        {
          "output_type": "stream",
          "name": "stdout",
          "text": [
            "\n",
            " EPOCH: 0257 -> val_accuracy: 0.4927, class_label_loss: 0.0158, domain_label_loss: 0.8979\n"
          ]
        },
        {
          "output_type": "stream",
          "name": "stderr",
          "text": [
            "\n",
            "100%|██████████| 88/88 [00:33<00:00,  2.63it/s]\n",
            "100%|██████████| 32/32 [00:07<00:00,  4.08it/s]"
          ]
        },
        {
          "output_type": "stream",
          "name": "stdout",
          "text": [
            "\n",
            " EPOCH: 0258 -> val_accuracy: 0.4723, class_label_loss: 0.0122, domain_label_loss: 0.7954\n"
          ]
        },
        {
          "output_type": "stream",
          "name": "stderr",
          "text": [
            "\n",
            "100%|██████████| 88/88 [00:35<00:00,  2.51it/s]\n",
            "100%|██████████| 32/32 [00:06<00:00,  5.31it/s]"
          ]
        },
        {
          "output_type": "stream",
          "name": "stdout",
          "text": [
            "\n",
            " EPOCH: 0259 -> val_accuracy: 0.4817, class_label_loss: 0.0247, domain_label_loss: 0.8246\n"
          ]
        },
        {
          "output_type": "stream",
          "name": "stderr",
          "text": [
            "\n",
            "100%|██████████| 88/88 [00:36<00:00,  2.42it/s]\n",
            "100%|██████████| 32/32 [00:05<00:00,  5.78it/s]\n"
          ]
        },
        {
          "output_type": "stream",
          "name": "stdout",
          "text": [
            "\n",
            " EPOCH: 0260 -> val_accuracy: 0.4586, class_label_loss: 0.0137, domain_label_loss: 0.7885\n"
          ]
        },
        {
          "output_type": "stream",
          "name": "stderr",
          "text": [
            "100%|██████████| 88/88 [00:35<00:00,  2.47it/s]\n",
            "100%|██████████| 32/32 [00:07<00:00,  4.36it/s]"
          ]
        },
        {
          "output_type": "stream",
          "name": "stdout",
          "text": [
            "\n",
            " EPOCH: 0261 -> val_accuracy: 0.4952, class_label_loss: 0.0054, domain_label_loss: 0.7223\n"
          ]
        },
        {
          "output_type": "stream",
          "name": "stderr",
          "text": [
            "\n",
            "100%|██████████| 88/88 [00:32<00:00,  2.69it/s]\n",
            "100%|██████████| 32/32 [00:08<00:00,  3.84it/s]"
          ]
        },
        {
          "output_type": "stream",
          "name": "stdout",
          "text": [
            "\n",
            " EPOCH: 0262 -> val_accuracy: 0.4908, class_label_loss: 0.0035, domain_label_loss: 0.8167\n"
          ]
        },
        {
          "output_type": "stream",
          "name": "stderr",
          "text": [
            "\n",
            "100%|██████████| 88/88 [00:35<00:00,  2.49it/s]\n",
            "100%|██████████| 32/32 [00:05<00:00,  5.68it/s]"
          ]
        },
        {
          "output_type": "stream",
          "name": "stdout",
          "text": [
            "\n",
            " EPOCH: 0263 -> val_accuracy: 0.4659, class_label_loss: 0.0104, domain_label_loss: 0.7369\n"
          ]
        },
        {
          "output_type": "stream",
          "name": "stderr",
          "text": [
            "\n",
            "100%|██████████| 88/88 [00:35<00:00,  2.45it/s]\n",
            "100%|██████████| 32/32 [00:05<00:00,  5.72it/s]"
          ]
        },
        {
          "output_type": "stream",
          "name": "stdout",
          "text": [
            "\n",
            " EPOCH: 0264 -> val_accuracy: 0.4964, class_label_loss: 0.0191, domain_label_loss: 0.7618\n"
          ]
        },
        {
          "output_type": "stream",
          "name": "stderr",
          "text": [
            "\n",
            "100%|██████████| 88/88 [00:35<00:00,  2.48it/s]\n",
            "100%|██████████| 32/32 [00:06<00:00,  4.61it/s]"
          ]
        },
        {
          "output_type": "stream",
          "name": "stdout",
          "text": [
            "\n",
            " EPOCH: 0265 -> val_accuracy: 0.5021, class_label_loss: 0.0154, domain_label_loss: 0.7601\n"
          ]
        },
        {
          "output_type": "stream",
          "name": "stderr",
          "text": [
            "\n",
            "100%|██████████| 88/88 [00:34<00:00,  2.58it/s]\n",
            "100%|██████████| 32/32 [00:07<00:00,  4.00it/s]"
          ]
        },
        {
          "output_type": "stream",
          "name": "stdout",
          "text": [
            "\n",
            " EPOCH: 0266 -> val_accuracy: 0.5014, class_label_loss: 0.0185, domain_label_loss: 0.7405\n"
          ]
        },
        {
          "output_type": "stream",
          "name": "stderr",
          "text": [
            "\n",
            "100%|██████████| 88/88 [00:36<00:00,  2.42it/s]\n",
            "100%|██████████| 32/32 [00:05<00:00,  5.89it/s]"
          ]
        },
        {
          "output_type": "stream",
          "name": "stdout",
          "text": [
            "\n",
            " EPOCH: 0267 -> val_accuracy: 0.4862, class_label_loss: 0.0063, domain_label_loss: 0.7996\n"
          ]
        },
        {
          "output_type": "stream",
          "name": "stderr",
          "text": [
            "\n",
            " 50%|█████     | 44/88 [00:18<00:13,  3.37it/s]"
          ]
        }
      ]
    }
  ]
}