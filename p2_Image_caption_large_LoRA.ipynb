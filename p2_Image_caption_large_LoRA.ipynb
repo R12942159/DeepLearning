{
  "nbformat": 4,
  "nbformat_minor": 0,
  "metadata": {
    "colab": {
      "provenance": [],
      "gpuType": "T4",
      "include_colab_link": true
    },
    "kernelspec": {
      "name": "python3",
      "display_name": "Python 3"
    },
    "language_info": {
      "name": "python"
    },
    "accelerator": "GPU"
  },
  "cells": [
    {
      "cell_type": "markdown",
      "metadata": {
        "id": "view-in-github",
        "colab_type": "text"
      },
      "source": [
        "<a href=\"https://colab.research.google.com/github/R12942159/NTU_DLCV/blob/Hw3/p2_Image_caption_large_LoRA.ipynb\" target=\"_parent\"><img src=\"https://colab.research.google.com/assets/colab-badge.svg\" alt=\"Open In Colab\"/></a>"
      ]
    },
    {
      "cell_type": "code",
      "source": [
        "!pip install timm\n",
        "!pip install loralib"
      ],
      "metadata": {
        "id": "Xb59e3Ej2GPf"
      },
      "execution_count": null,
      "outputs": []
    },
    {
      "cell_type": "code",
      "source": [
        "import os\n",
        "import re\n",
        "import math\n",
        "import timm\n",
        "import json\n",
        "import torch\n",
        "import collections\n",
        "import numpy as np\n",
        "import loralib as lora\n",
        "import torch.nn.functional as F\n",
        "import torchvision.transforms as tr\n",
        "\n",
        "from PIL import Image\n",
        "from tqdm import tqdm\n",
        "from pathlib import Path\n",
        "from torch import nn, Tensor\n",
        "from torch.utils.data import DataLoader"
      ],
      "metadata": {
        "id": "SBi1aSqPhMuD"
      },
      "execution_count": 2,
      "outputs": []
    },
    {
      "cell_type": "code",
      "source": [
        "device = \"cuda\" if torch.cuda.is_available() else \"cpu\"\n",
        "print(f\"Using: {device}\")"
      ],
      "metadata": {
        "colab": {
          "base_uri": "https://localhost:8080/"
        },
        "id": "8Eg4VzCElm83",
        "outputId": "f156af76-b606-48ed-c809-09203969cfa5"
      },
      "execution_count": 3,
      "outputs": [
        {
          "output_type": "stream",
          "name": "stdout",
          "text": [
            "Using: cuda\n"
          ]
        }
      ]
    },
    {
      "cell_type": "code",
      "source": [
        "from google.colab import drive\n",
        "drive.mount('/content/drive')"
      ],
      "metadata": {
        "id": "UVlQEx1nX6xD",
        "colab": {
          "base_uri": "https://localhost:8080/"
        },
        "outputId": "3c8d1543-4755-4e13-b50c-ca47cdfbdf93"
      },
      "execution_count": 4,
      "outputs": [
        {
          "output_type": "stream",
          "name": "stdout",
          "text": [
            "Mounted at /content/drive\n"
          ]
        }
      ]
    },
    {
      "cell_type": "markdown",
      "source": [
        "#### Download dataset and unzip zip file."
      ],
      "metadata": {
        "id": "Q22ZX1_VhKiK"
      }
    },
    {
      "cell_type": "code",
      "execution_count": null,
      "metadata": {
        "id": "5DG6GOxEHD9l"
      },
      "outputs": [],
      "source": [
        "!gdown 1SUiRrG6zQVtyrVSVh9hOBq5_fX-oV2Lh -O hw3_data.zip # 11rP6KmR5Qwjhx0rfag0b5TZGBTRuPtQR\n",
        "!unzip /content/hw3_data.zip"
      ]
    },
    {
      "cell_type": "markdown",
      "source": [
        "#### Tokenizer ('<|endoftext|>', 50256) -> 250dim"
      ],
      "metadata": {
        "id": "sIMyluP4OcRk"
      }
    },
    {
      "cell_type": "code",
      "source": [
        "class BPETokenizer:\n",
        "\n",
        "    def __init__(self, encoder_file, vocab_file):\n",
        "        with open(encoder_file, 'r', encoding='utf-8') as f:\n",
        "            self.encoder = json.load(f)\n",
        "        self.decoder = {v:k for k,v in self.encoder.items()}\n",
        "        with open(vocab_file, 'r', encoding='utf-8') as f:\n",
        "            vocab = f.read().split('\\n')[1:-1]\n",
        "        self.bpe_ranks = {tuple(line.split()): i for i, line in enumerate(vocab)}\n",
        "        assert len(self.encoder) == 50257 and len(self.bpe_ranks) == 49999 # len(self.bpe_ranks) == 50000\n",
        "        bs = list(range(33, 127)) + list(range(161, 256))\n",
        "        xs = list(range(0, 33)) + list(range(127, 161))\n",
        "        cs = bs[:] + [2**8 + i for i in range(len(xs))]\n",
        "        self.byte_encoder = dict(zip(bs + xs, [chr(n) for n in cs]))\n",
        "        self.byte_decoder = {v:k for k, v in self.byte_encoder.items()}\n",
        "\n",
        "    def encode(self, text, allowed_special=None):\n",
        "        tokens = re.findall(r\"\"\"<\\|endoftext\\|>|'s|'t|'re|'ve|'m|'ll|'d| ?\"\"\" +\n",
        "                            r\"\"\"\\w+| ?\\d+| ?[^\\s\\w\\d]+|\\s+(?!\\S)|\\s+\"\"\", text, re.UNICODE)\n",
        "        def translate(token):\n",
        "            if token == '<|endoftext|>':\n",
        "                assert allowed_special and token in allowed_special\n",
        "                return [token]\n",
        "            word = tuple(''.join(self.byte_encoder[byte] for byte in token.encode('utf-8')))\n",
        "            while len(word) != 1:\n",
        "                pairs = set((word[i], word[i+1]) for i in range(len(word)-1))\n",
        "                bigram = min(pairs, key = lambda pair: self.bpe_ranks.get(pair, float('inf')))\n",
        "                if bigram not in self.bpe_ranks:\n",
        "                    break\n",
        "                a, b = bigram\n",
        "                new_word = []\n",
        "                i = 0\n",
        "                while i < len(word):\n",
        "                    j = word.index(a, i) if a in word[i:] else len(word)\n",
        "                    new_word.extend(word[i:j])\n",
        "                    i = j\n",
        "                    if i < len(word):\n",
        "                        j = 2 if i < len(word)-1 and word[i] == a and word[i+1] == b else 1\n",
        "                        new_word.append(a+b if j == 2 else word[i])\n",
        "                        i += j\n",
        "                word = tuple(new_word)\n",
        "            return word\n",
        "        return [self.encoder[_] for token in tokens for _ in translate(token)]\n",
        "\n",
        "    def decode(self, tokens):\n",
        "        tokens = [self.decoder[token] for token in tokens]\n",
        "        buffer = bytearray([self.byte_decoder[c] for c in ''.join(tokens)])\n",
        "        return buffer.decode('utf-8', errors='replace')"
      ],
      "metadata": {
        "id": "gjc6poP1OdBM"
      },
      "execution_count": 6,
      "outputs": []
    },
    {
      "cell_type": "code",
      "source": [
        "encoding = BPETokenizer('/content/encoder.json', '/content/vocab.bpe')\n",
        "# prompt = 'a kitchen with a sink and many cooking machines and a pot of food'\n",
        "\n",
        "# text_embedding_len = 250\n",
        "\n",
        "# context = encoding.encode(prompt)\n",
        "# context = [50256] + context + [50256]*(text_embedding_len - len(context) - 1)\n",
        "# # context\n",
        "# encoding.decode(context)"
      ],
      "metadata": {
        "id": "6aeCuLyJOmhP"
      },
      "execution_count": 57,
      "outputs": []
    },
    {
      "cell_type": "markdown",
      "source": [
        "#### Define function"
      ],
      "metadata": {
        "id": "L0JYrzNqE0mC"
      }
    },
    {
      "cell_type": "code",
      "source": [
        "def json_load(json_path: str):\n",
        "    with open(json_path, 'r', encoding='utf-8') as file:\n",
        "        data = json.load(file)\n",
        "    return data"
      ],
      "metadata": {
        "id": "z5xRsOP3h96o"
      },
      "execution_count": 7,
      "outputs": []
    },
    {
      "cell_type": "code",
      "source": [
        "def caption_with_id(json_path: str) -> list:\n",
        "    with open(json_path, 'r', encoding='utf-8') as file:\n",
        "        json_data = json.load(file)\n",
        "    data = [{'caption': row['caption'], 'image_id': row['image_id']} for row in json_data['annotations']]\n",
        "    return data"
      ],
      "metadata": {
        "id": "vVR-onWwmbCI"
      },
      "execution_count": 8,
      "outputs": []
    },
    {
      "cell_type": "code",
      "source": [
        "def id2file_name(json_path: str) -> dict:\n",
        "    with open(json_path, 'r', encoding='utf-8') as file:\n",
        "        json_data = json.load(file)\n",
        "    data = {row['id']: row['file_name'] for row in json_data['images']}\n",
        "    return data"
      ],
      "metadata": {
        "id": "rWW6y2Q1o_t-"
      },
      "execution_count": 9,
      "outputs": []
    },
    {
      "cell_type": "code",
      "source": [
        "encoder_joson_path = '/content/encoder.json'\n",
        "vocab_bpe_path = '/content/vocab.bpe'\n",
        "def collate_fn(batch, tokenizer=BPETokenizer(encoder_joson_path, vocab_bpe_path)):\n",
        "    # Get the individual elements of the batch\n",
        "    images = [item['img'] for item in batch]\n",
        "    captions = [item['caption'] for item in batch]\n",
        "    filenames = [item['filename'] for item in batch]\n",
        "\n",
        "    # Tokenize captions\n",
        "    tokenized_captions = [tokenizer.encode(caption) for caption in captions]\n",
        "\n",
        "    # Pad the vector length into stop token to dimension 250\n",
        "    text_len = 250 # text_embedding_len\n",
        "    tokenized_captions_train = [\n",
        "        [50256] + caption + [50256] * (text_len - len(caption) - 1) for caption in tokenized_captions\n",
        "    ]\n",
        "    tokenized_captions_inf = [\n",
        "        caption + [50256] + [-100] * (text_len - len(caption) - 1) for caption in tokenized_captions\n",
        "    ]\n",
        "\n",
        "    # Convert tokenized captions to PyTorch tensors\n",
        "    tokenized_captions_train = [torch.tensor(caption) for caption in tokenized_captions_train]\n",
        "    tokenized_captions_inf = [torch.tensor(caption) for caption in tokenized_captions_inf]\n",
        "\n",
        "    # Create a new batch with tokenized captions\n",
        "    tokenized_batch = {\n",
        "        'img': torch.stack(images, dim=0),\n",
        "        'tokenized_captions_train': torch.stack(tokenized_captions_train, dim=0),\n",
        "        'filename': filenames,\n",
        "        'tokenized_captions_inf': torch.stack(tokenized_captions_inf, dim=0),\n",
        "    }\n",
        "\n",
        "    return tokenized_batch"
      ],
      "metadata": {
        "id": "ZhTVXCheOYm6"
      },
      "execution_count": 10,
      "outputs": []
    },
    {
      "cell_type": "markdown",
      "source": [
        "#### Build Dataset"
      ],
      "metadata": {
        "id": "7TWHXZgugWOg"
      }
    },
    {
      "cell_type": "code",
      "source": [
        "class ImgCaptionDataset(torch.utils.data.Dataset):\n",
        "    def __init__(self, img_dir, json_path, transform) -> None:\n",
        "        super(ImgCaptionDataset, self).__init__()\n",
        "        self.img_dir = img_dir\n",
        "        self.transform = transform\n",
        "\n",
        "        # Connect caption -> image_id -> file_name\n",
        "        self.caption_with_id = caption_with_id(json_path)\n",
        "        self.id2file_name = id2file_name(json_path)\n",
        "    def __len__(self) -> int:\n",
        "        return len(self.caption_with_id)\n",
        "\n",
        "    def __getitem__(self, idx):\n",
        "        caption_id = self.caption_with_id[idx]\n",
        "        file_name = self.id2file_name[caption_id['image_id']]\n",
        "        img = Image.open(os.path.join(self.img_dir, file_name)).convert('RGB')\n",
        "        img = self.transform(img)\n",
        "        return {'img': img, 'caption': caption_id['caption'], 'filename': os.path.splitext(file_name)[0]}"
      ],
      "metadata": {
        "id": "qJq6lmbBlbaM"
      },
      "execution_count": 11,
      "outputs": []
    },
    {
      "cell_type": "code",
      "source": [
        "# class ImgDataset(torch.utils.data.Dataset):\n",
        "#     def __init__(self, root: str, transform) -> None:\n",
        "#         self.transform = transform\n",
        "#         self.img_path = [i for i in Path(root).glob(\"*.jpg\")]\n",
        "\n",
        "#     def __len__(self) -> int:\n",
        "#         return len(self.img_path)\n",
        "\n",
        "#     def __getitem__(self, idx):\n",
        "#         img = Image.open(self.img_path[idx]).convert('RGB')\n",
        "#         img = self.transform(img)\n",
        "#         return img, os.path.splitext(self.img_path[idx].name)[0]"
      ],
      "metadata": {
        "id": "lYoLLeI3gZvS"
      },
      "execution_count": null,
      "outputs": []
    },
    {
      "cell_type": "markdown",
      "source": [
        "#### Build Dataloader"
      ],
      "metadata": {
        "id": "vMk7sUiwHEPo"
      }
    },
    {
      "cell_type": "code",
      "source": [
        "train_ds = ImgCaptionDataset(\n",
        "    img_dir='/content/hw3_data/p2_data/images/train',\n",
        "    json_path='/content/hw3_data/p2_data/train.json',\n",
        "    transform=tr.Compose([\n",
        "        tr.Resize(224),\n",
        "        tr.CenterCrop(224),\n",
        "        tr.ToTensor(),\n",
        "        tr.Normalize([0.485, 0.456, 0.406], [0.229, 0.224, 0.225]),\n",
        "    ]),\n",
        ")\n",
        "val_ds = ImgCaptionDataset(\n",
        "    img_dir='/content/hw3_data/p2_data/images/val',\n",
        "    json_path='/content/hw3_data/p2_data/val.json',\n",
        "    transform=tr.Compose([\n",
        "        tr.Resize(224),\n",
        "        tr.CenterCrop(224),\n",
        "        tr.ToTensor(),\n",
        "        tr.Normalize([0.485, 0.456, 0.406], [0.229, 0.224, 0.225]),\n",
        "    ]),\n",
        ")\n",
        "\n",
        "train_loader = DataLoader(\n",
        "    train_ds,\n",
        "    batch_size=16,\n",
        "    collate_fn=collate_fn,\n",
        "    shuffle=True,\n",
        "    num_workers=4,\n",
        ")\n",
        "val_loader = DataLoader(\n",
        "    val_ds,\n",
        "    batch_size=1,\n",
        "    collate_fn=collate_fn,\n",
        "    shuffle=True,\n",
        "    num_workers=4,\n",
        ")"
      ],
      "metadata": {
        "id": "MMGD07vrHGiB",
        "colab": {
          "base_uri": "https://localhost:8080/"
        },
        "outputId": "0cc569f8-6e32-4be4-8e33-e6841e366890"
      },
      "execution_count": 12,
      "outputs": [
        {
          "output_type": "stream",
          "name": "stderr",
          "text": [
            "/usr/local/lib/python3.10/dist-packages/torch/utils/data/dataloader.py:557: UserWarning: This DataLoader will create 4 worker processes in total. Our suggested max number of worker in current system is 2, which is smaller than what this DataLoader is going to create. Please be aware that excessive worker creation might get DataLoader running slow or even freeze, lower the worker number to avoid potential slowness/freeze if necessary.\n",
            "  warnings.warn(_create_warning_msg(\n"
          ]
        }
      ]
    },
    {
      "cell_type": "markdown",
      "source": [
        "#### Config"
      ],
      "metadata": {
        "id": "Fx9an6CwEx-Z"
      }
    },
    {
      "cell_type": "code",
      "source": [
        "class Config:\n",
        "\n",
        "    def __init__(self, checkpoint=None):\n",
        "        self.n_layer = 12\n",
        "        self.n_head = 12\n",
        "        self.n_embd = 768\n",
        "        self.vocab_size = 50257\n",
        "        self.block_size = 1024\n",
        "        self.checkpoint = checkpoint"
      ],
      "metadata": {
        "id": "x39qAcvyEzgi"
      },
      "execution_count": 13,
      "outputs": []
    },
    {
      "cell_type": "code",
      "source": [
        "cfg = Config(checkpoint='/content/hw3_data/p2_data/decoder_model.bin')"
      ],
      "metadata": {
        "id": "lLwivdnDE5eq"
      },
      "execution_count": 14,
      "outputs": []
    },
    {
      "cell_type": "markdown",
      "source": [
        "#### timm's ViT encoder"
      ],
      "metadata": {
        "id": "HK4W-qWpE1eg"
      }
    },
    {
      "cell_type": "code",
      "source": [
        "# encoder = timm.create_model('vit_large_patch16_224_in21k', pretrained=True) # vit_base_patch16_224_in21k"
      ],
      "metadata": {
        "id": "mw9GuLaaE24G"
      },
      "execution_count": null,
      "outputs": []
    },
    {
      "cell_type": "code",
      "source": [
        "# for batch in train_loader:\n",
        "#     img = batch['img']\n",
        "#     break"
      ],
      "metadata": {
        "id": "tYBaNf1TE_s2"
      },
      "execution_count": null,
      "outputs": []
    },
    {
      "cell_type": "code",
      "source": [
        "# with torch.no_grad():\n",
        "#     encoder_out = encoder.forward_features(img)"
      ],
      "metadata": {
        "id": "WP6PDoTWFBWs"
      },
      "execution_count": null,
      "outputs": []
    },
    {
      "cell_type": "code",
      "source": [
        "# encoder_out.size()"
      ],
      "metadata": {
        "id": "AKn08vpIJB-_"
      },
      "execution_count": null,
      "outputs": []
    },
    {
      "cell_type": "markdown",
      "source": [
        "#### decoder"
      ],
      "metadata": {
        "id": "w1QQ3sdc8GRo"
      }
    },
    {
      "cell_type": "code",
      "source": [
        "class Attention(nn.Module):\n",
        "\n",
        "    def __init__(self, cfg):\n",
        "        super().__init__()\n",
        "        self.c_attn = lora.Linear(cfg.n_embd, 3 * cfg.n_embd, r=4)\n",
        "        self.c_proj = nn.Linear(cfg.n_embd, cfg.n_embd)\n",
        "        self.n_head = cfg.n_head\n",
        "        self.n_embd = cfg.n_embd\n",
        "        size = cfg.block_size\n",
        "        self.register_buffer('bias', torch.tril(torch.ones(size, size)).view(1, 1, size, size))\n",
        "\n",
        "    def forward(self, x):\n",
        "        B, T, C = x.size() # batch, context, embedding\n",
        "        q, k, v  = self.c_attn(x).split(self.n_embd, dim=2)\n",
        "        k = k.view(B, T, self.n_head, C // self.n_head).transpose(1, 2)\n",
        "        q = q.view(B, T, self.n_head, C // self.n_head).transpose(1, 2)\n",
        "        v = v.view(B, T, self.n_head, C // self.n_head).transpose(1, 2)\n",
        "        att = (q @ k.transpose(-2, -1)) * (1.0 / math.sqrt(k.size(-1)))\n",
        "        att = att.masked_fill(self.bias[:,:,:T,:T] == 0, float('-inf'))\n",
        "        att = F.softmax(att, dim=-1)\n",
        "        return self.c_proj((att @ v).transpose(1, 2).contiguous().view(B, T, C))\n",
        "\n",
        "class CrossAttention(nn.Module):\n",
        "\n",
        "    def __init__(self, cfg):\n",
        "        super().__init__()\n",
        "        self.multihead_attn = nn.MultiheadAttention(cfg.n_embd, cfg.n_head, batch_first=True)\n",
        "\n",
        "    def forward(self, query, encoder_out):\n",
        "        \"\"\"\n",
        "        Q is the source from the decoder, K, V are the sources from the encoder.\n",
        "        Q: (N, L, Eq), where L is the target embedding dim, Eq is embed_dim and batch_first=True.\n",
        "        {K, V}: (N, L, E{k,v}), where L is the source embedding dim, E{k,v} is {k,v}_dim and batch_first=True.\n",
        "        \"\"\"\n",
        "        attn_output, attn_output_weights = self.multihead_attn(query, encoder_out, encoder_out)\n",
        "        return attn_output, attn_output_weights\n",
        "\n",
        "class Block(nn.Module):\n",
        "\n",
        "    def __init__(self, cfg):\n",
        "        super().__init__()\n",
        "        self.ln_1 = nn.LayerNorm(cfg.n_embd)\n",
        "        self.ln_2 = nn.LayerNorm(cfg.n_embd) # add\n",
        "        self.ln_3 = nn.LayerNorm(cfg.n_embd)\n",
        "        self.attn = Attention(cfg)\n",
        "        self.crs_attn = CrossAttention(cfg) # add\n",
        "        self.mlp = nn.Sequential(collections.OrderedDict([\n",
        "            ('c_fc', nn.Linear(cfg.n_embd, 4 * cfg.n_embd)),\n",
        "            ('act', nn.GELU(approximate='tanh')),\n",
        "            ('c_proj', nn.Linear(4 * cfg.n_embd, cfg.n_embd))\n",
        "        ]))\n",
        "\n",
        "    def forward(self, x, encoder_out) -> Tensor: # add\n",
        "        x = x + self.attn(self.ln_1(x))\n",
        "        cross_x, weights = self.crs_attn(self.ln_2(x), self.ln_2(encoder_out)) # add\n",
        "        x = cross_x + x\n",
        "        x = x + self.mlp(self.ln_3(x))\n",
        "        return x, weights\n",
        "\n",
        "class Decoder(nn.Module):\n",
        "\n",
        "    def __init__(self, cfg):\n",
        "        super().__init__()\n",
        "        self.cfg = cfg\n",
        "        self.block_size = cfg.block_size\n",
        "        self.transformer = nn.ModuleDict(dict(\n",
        "            wte = nn.Embedding(cfg.vocab_size, cfg.n_embd), # 文字投影\n",
        "            wpe = nn.Embedding(cfg.block_size, cfg.n_embd), # position\n",
        "            h = nn.Sequential(*[Block(cfg) for _ in range(cfg.n_layer)]), # Nx\n",
        "            ln_f = nn.LayerNorm(cfg.n_embd)\n",
        "        ))\n",
        "        self.lm_head = nn.Linear(cfg.n_embd, cfg.vocab_size, bias=False)\n",
        "        self.transformer.wte.weight = self.lm_head.weight\n",
        "        # timm's ViT encoder (vit_base_patch16_224_in21k, , vit_huge_patch14_224_in21k)\n",
        "        self.encoder = timm.create_model('vit_large_patch16_224_in21k', pretrained=True)\n",
        "        self.linear = nn.Linear(1024, cfg.n_embd) # [16, 197, 1024]\n",
        "        # load checkpoint\n",
        "        if self.cfg.checkpoint is not None:\n",
        "            state_dict = torch.load(self.cfg.checkpoint)\n",
        "            transposed = [ '.c_attn.weight', '.c_fc.weight', '.c_proj.weight' ]\n",
        "            for key, value in state_dict.items():\n",
        "                if any(key.endswith(w) for w in transposed):\n",
        "                    state_dict[key] = value.t()\n",
        "            self.transformer.load_state_dict(state_dict, strict=False)\n",
        "\n",
        "    def forward(self, x: Tensor, img: Tensor) -> Tensor: # add\n",
        "        x = torch.narrow(x, 1, 0, min(x.size(1), self.block_size))\n",
        "        pos = torch.arange(x.size()[1], dtype=torch.long, device=x.device).unsqueeze(0)\n",
        "        x = self.transformer.wte(x) + self.transformer.wpe(pos)\n",
        "        with torch.no_grad():\n",
        "            encoder_out = self.encoder.forward_features(img)\n",
        "        for block in self.transformer.h:\n",
        "            x, weights = block(x, self.linear(encoder_out))\n",
        "        x = self.lm_head(self.transformer.ln_f(x)) # add\n",
        "        return x, weights"
      ],
      "metadata": {
        "id": "TYyI157L8JB7"
      },
      "execution_count": 40,
      "outputs": []
    },
    {
      "cell_type": "markdown",
      "source": [
        "#### Decoding test"
      ],
      "metadata": {
        "id": "Nymq6RjQw0Ik"
      }
    },
    {
      "cell_type": "code",
      "source": [
        "decoder = Decoder(cfg)"
      ],
      "metadata": {
        "id": "W7ItaTQyFM3y"
      },
      "execution_count": 44,
      "outputs": []
    },
    {
      "cell_type": "code",
      "source": [
        "for batch in train_loader:\n",
        "    img = batch['img']\n",
        "    tokenized_captions_train = batch['tokenized_captions_train']\n",
        "    tokenized_captions_inf = batch['tokenized_captions_inf']\n",
        "    break"
      ],
      "metadata": {
        "id": "8iZRZyyLVqTa"
      },
      "execution_count": 45,
      "outputs": []
    },
    {
      "cell_type": "code",
      "source": [
        "pred = decoder(tokenized_captions_train, img)"
      ],
      "metadata": {
        "id": "C9WhUVX3XUNA"
      },
      "execution_count": 46,
      "outputs": []
    },
    {
      "cell_type": "code",
      "source": [
        "pred[0][0].size()"
      ],
      "metadata": {
        "id": "V0ucX8DXY3yF",
        "outputId": "475d0833-cffa-44e7-80a3-cf165b1b4074",
        "colab": {
          "base_uri": "https://localhost:8080/"
        }
      },
      "execution_count": 55,
      "outputs": [
        {
          "output_type": "execute_result",
          "data": {
            "text/plain": [
              "torch.Size([250, 50257])"
            ]
          },
          "metadata": {},
          "execution_count": 55
        }
      ]
    },
    {
      "cell_type": "code",
      "source": [
        "pred.size(), tokenized_captions_train.size(), img.size(), tokenized_captions_inf.size()"
      ],
      "metadata": {
        "id": "-VDTQFh1jIkn"
      },
      "execution_count": null,
      "outputs": []
    },
    {
      "cell_type": "code",
      "source": [
        "encoding.decode(pred[0][0].argmax(dim=1).tolist())"
      ],
      "metadata": {
        "id": "9rVBzjCBAMC6",
        "outputId": "6b6235a2-1dfe-4111-a623-b91b77864d1b",
        "colab": {
          "base_uri": "https://localhost:8080/",
          "height": 171
        }
      },
      "execution_count": 58,
      "outputs": [
        {
          "output_type": "execute_result",
          "data": {
            "text/plain": [
              "' a a a the a the the a the the the the the the the the the the the the the the the the the the the the the the the the the the the the the the the the the the the the the the the the the the the the the the the the the the the the the the the the the the the the the the the the the the the the the the the the the the the the the the the the the the the the the the the the the the the the the the the the the the the the the the the the the the the the the the the the the the the the the the the the the the the the the the the the the the the the the the the the the the the the the the the the the the the the the the the the the the the the the the the the the the the the the the the the the the the the the the the the the the the the the the the the the the the the the the the the the the the the the the the the the the the the the the the the the the the the the the the the the the the the the the the the the the the the the the the the the the the the the the the the the the'"
            ],
            "application/vnd.google.colaboratory.intrinsic+json": {
              "type": "string"
            }
          },
          "metadata": {},
          "execution_count": 58
        }
      ]
    },
    {
      "cell_type": "code",
      "source": [
        "loss_fn = nn.CrossEntropyLoss() # ignore_index=50256\n",
        "\n",
        "pred = pred[0].reshape(-1, 50257)\n",
        "tokenized_captions_inf = tokenized_captions_inf.reshape(-1)\n",
        "loss_fn(pred, tokenized_captions_inf)"
      ],
      "metadata": {
        "id": "mZVS0SXWk7Qh"
      },
      "execution_count": null,
      "outputs": []
    },
    {
      "cell_type": "markdown",
      "source": [
        "##### Freeze parameters"
      ],
      "metadata": {
        "id": "Ngfxfa2fR8en"
      }
    },
    {
      "cell_type": "code",
      "source": [
        "model = Decoder(cfg).to(device)\n",
        "\n",
        "# Freeze parameters\n",
        "for name, param in model.named_parameters():\n",
        "    param.requires_grad=False\n",
        "\n",
        "# Unfreeze some parameters\n",
        "for i in range(12):\n",
        "    model.transformer.h[i].ln_2.weight.requires_grad = True\n",
        "    model.transformer.h[i].ln_2.bias.requires_grad = True\n",
        "    model.transformer.h[i].attn.c_attn.lora_A.requires_grad = True\n",
        "    model.transformer.h[i].attn.c_attn.lora_B.requires_grad = True\n",
        "    model.transformer.h[i].crs_attn.multihead_attn.in_proj_weight.requires_grad = True\n",
        "    model.transformer.h[i].crs_attn.multihead_attn.in_proj_bias.requires_grad = True\n",
        "    model.transformer.h[i].crs_attn.multihead_attn.out_proj.weight.requires_grad = True\n",
        "    model.transformer.h[i].crs_attn.multihead_attn.out_proj.bias.requires_grad = True\n",
        "model.linear.weight.requires_grad = True\n",
        "model.linear.bias.requires_grad = True\n",
        "\n",
        "trainable_weights = [name for name, param in model.named_parameters() if param.requires_grad == True]\n",
        "# list for True\n",
        "for name, param in model.named_parameters():\n",
        "    print(f\"{name}: {param.requires_grad}\")"
      ],
      "metadata": {
        "id": "AqVX0_aSSAKE",
        "outputId": "8d587bce-b6b9-4548-b8a2-8639d8bdbd02",
        "colab": {
          "base_uri": "https://localhost:8080/"
        }
      },
      "execution_count": 41,
      "outputs": [
        {
          "output_type": "stream",
          "name": "stdout",
          "text": [
            "transformer.wte.weight: False\n",
            "transformer.wpe.weight: False\n",
            "transformer.h.0.ln_1.weight: False\n",
            "transformer.h.0.ln_1.bias: False\n",
            "transformer.h.0.ln_2.weight: True\n",
            "transformer.h.0.ln_2.bias: True\n",
            "transformer.h.0.ln_3.weight: False\n",
            "transformer.h.0.ln_3.bias: False\n",
            "transformer.h.0.attn.c_attn.weight: False\n",
            "transformer.h.0.attn.c_attn.bias: False\n",
            "transformer.h.0.attn.c_attn.lora_A: True\n",
            "transformer.h.0.attn.c_attn.lora_B: True\n",
            "transformer.h.0.attn.c_proj.weight: False\n",
            "transformer.h.0.attn.c_proj.bias: False\n",
            "transformer.h.0.crs_attn.multihead_attn.in_proj_weight: True\n",
            "transformer.h.0.crs_attn.multihead_attn.in_proj_bias: True\n",
            "transformer.h.0.crs_attn.multihead_attn.out_proj.weight: True\n",
            "transformer.h.0.crs_attn.multihead_attn.out_proj.bias: True\n",
            "transformer.h.0.mlp.c_fc.weight: False\n",
            "transformer.h.0.mlp.c_fc.bias: False\n",
            "transformer.h.0.mlp.c_proj.weight: False\n",
            "transformer.h.0.mlp.c_proj.bias: False\n",
            "transformer.h.1.ln_1.weight: False\n",
            "transformer.h.1.ln_1.bias: False\n",
            "transformer.h.1.ln_2.weight: True\n",
            "transformer.h.1.ln_2.bias: True\n",
            "transformer.h.1.ln_3.weight: False\n",
            "transformer.h.1.ln_3.bias: False\n",
            "transformer.h.1.attn.c_attn.weight: False\n",
            "transformer.h.1.attn.c_attn.bias: False\n",
            "transformer.h.1.attn.c_attn.lora_A: True\n",
            "transformer.h.1.attn.c_attn.lora_B: True\n",
            "transformer.h.1.attn.c_proj.weight: False\n",
            "transformer.h.1.attn.c_proj.bias: False\n",
            "transformer.h.1.crs_attn.multihead_attn.in_proj_weight: True\n",
            "transformer.h.1.crs_attn.multihead_attn.in_proj_bias: True\n",
            "transformer.h.1.crs_attn.multihead_attn.out_proj.weight: True\n",
            "transformer.h.1.crs_attn.multihead_attn.out_proj.bias: True\n",
            "transformer.h.1.mlp.c_fc.weight: False\n",
            "transformer.h.1.mlp.c_fc.bias: False\n",
            "transformer.h.1.mlp.c_proj.weight: False\n",
            "transformer.h.1.mlp.c_proj.bias: False\n",
            "transformer.h.2.ln_1.weight: False\n",
            "transformer.h.2.ln_1.bias: False\n",
            "transformer.h.2.ln_2.weight: True\n",
            "transformer.h.2.ln_2.bias: True\n",
            "transformer.h.2.ln_3.weight: False\n",
            "transformer.h.2.ln_3.bias: False\n",
            "transformer.h.2.attn.c_attn.weight: False\n",
            "transformer.h.2.attn.c_attn.bias: False\n",
            "transformer.h.2.attn.c_attn.lora_A: True\n",
            "transformer.h.2.attn.c_attn.lora_B: True\n",
            "transformer.h.2.attn.c_proj.weight: False\n",
            "transformer.h.2.attn.c_proj.bias: False\n",
            "transformer.h.2.crs_attn.multihead_attn.in_proj_weight: True\n",
            "transformer.h.2.crs_attn.multihead_attn.in_proj_bias: True\n",
            "transformer.h.2.crs_attn.multihead_attn.out_proj.weight: True\n",
            "transformer.h.2.crs_attn.multihead_attn.out_proj.bias: True\n",
            "transformer.h.2.mlp.c_fc.weight: False\n",
            "transformer.h.2.mlp.c_fc.bias: False\n",
            "transformer.h.2.mlp.c_proj.weight: False\n",
            "transformer.h.2.mlp.c_proj.bias: False\n",
            "transformer.h.3.ln_1.weight: False\n",
            "transformer.h.3.ln_1.bias: False\n",
            "transformer.h.3.ln_2.weight: True\n",
            "transformer.h.3.ln_2.bias: True\n",
            "transformer.h.3.ln_3.weight: False\n",
            "transformer.h.3.ln_3.bias: False\n",
            "transformer.h.3.attn.c_attn.weight: False\n",
            "transformer.h.3.attn.c_attn.bias: False\n",
            "transformer.h.3.attn.c_attn.lora_A: True\n",
            "transformer.h.3.attn.c_attn.lora_B: True\n",
            "transformer.h.3.attn.c_proj.weight: False\n",
            "transformer.h.3.attn.c_proj.bias: False\n",
            "transformer.h.3.crs_attn.multihead_attn.in_proj_weight: True\n",
            "transformer.h.3.crs_attn.multihead_attn.in_proj_bias: True\n",
            "transformer.h.3.crs_attn.multihead_attn.out_proj.weight: True\n",
            "transformer.h.3.crs_attn.multihead_attn.out_proj.bias: True\n",
            "transformer.h.3.mlp.c_fc.weight: False\n",
            "transformer.h.3.mlp.c_fc.bias: False\n",
            "transformer.h.3.mlp.c_proj.weight: False\n",
            "transformer.h.3.mlp.c_proj.bias: False\n",
            "transformer.h.4.ln_1.weight: False\n",
            "transformer.h.4.ln_1.bias: False\n",
            "transformer.h.4.ln_2.weight: True\n",
            "transformer.h.4.ln_2.bias: True\n",
            "transformer.h.4.ln_3.weight: False\n",
            "transformer.h.4.ln_3.bias: False\n",
            "transformer.h.4.attn.c_attn.weight: False\n",
            "transformer.h.4.attn.c_attn.bias: False\n",
            "transformer.h.4.attn.c_attn.lora_A: True\n",
            "transformer.h.4.attn.c_attn.lora_B: True\n",
            "transformer.h.4.attn.c_proj.weight: False\n",
            "transformer.h.4.attn.c_proj.bias: False\n",
            "transformer.h.4.crs_attn.multihead_attn.in_proj_weight: True\n",
            "transformer.h.4.crs_attn.multihead_attn.in_proj_bias: True\n",
            "transformer.h.4.crs_attn.multihead_attn.out_proj.weight: True\n",
            "transformer.h.4.crs_attn.multihead_attn.out_proj.bias: True\n",
            "transformer.h.4.mlp.c_fc.weight: False\n",
            "transformer.h.4.mlp.c_fc.bias: False\n",
            "transformer.h.4.mlp.c_proj.weight: False\n",
            "transformer.h.4.mlp.c_proj.bias: False\n",
            "transformer.h.5.ln_1.weight: False\n",
            "transformer.h.5.ln_1.bias: False\n",
            "transformer.h.5.ln_2.weight: True\n",
            "transformer.h.5.ln_2.bias: True\n",
            "transformer.h.5.ln_3.weight: False\n",
            "transformer.h.5.ln_3.bias: False\n",
            "transformer.h.5.attn.c_attn.weight: False\n",
            "transformer.h.5.attn.c_attn.bias: False\n",
            "transformer.h.5.attn.c_attn.lora_A: True\n",
            "transformer.h.5.attn.c_attn.lora_B: True\n",
            "transformer.h.5.attn.c_proj.weight: False\n",
            "transformer.h.5.attn.c_proj.bias: False\n",
            "transformer.h.5.crs_attn.multihead_attn.in_proj_weight: True\n",
            "transformer.h.5.crs_attn.multihead_attn.in_proj_bias: True\n",
            "transformer.h.5.crs_attn.multihead_attn.out_proj.weight: True\n",
            "transformer.h.5.crs_attn.multihead_attn.out_proj.bias: True\n",
            "transformer.h.5.mlp.c_fc.weight: False\n",
            "transformer.h.5.mlp.c_fc.bias: False\n",
            "transformer.h.5.mlp.c_proj.weight: False\n",
            "transformer.h.5.mlp.c_proj.bias: False\n",
            "transformer.h.6.ln_1.weight: False\n",
            "transformer.h.6.ln_1.bias: False\n",
            "transformer.h.6.ln_2.weight: True\n",
            "transformer.h.6.ln_2.bias: True\n",
            "transformer.h.6.ln_3.weight: False\n",
            "transformer.h.6.ln_3.bias: False\n",
            "transformer.h.6.attn.c_attn.weight: False\n",
            "transformer.h.6.attn.c_attn.bias: False\n",
            "transformer.h.6.attn.c_attn.lora_A: True\n",
            "transformer.h.6.attn.c_attn.lora_B: True\n",
            "transformer.h.6.attn.c_proj.weight: False\n",
            "transformer.h.6.attn.c_proj.bias: False\n",
            "transformer.h.6.crs_attn.multihead_attn.in_proj_weight: True\n",
            "transformer.h.6.crs_attn.multihead_attn.in_proj_bias: True\n",
            "transformer.h.6.crs_attn.multihead_attn.out_proj.weight: True\n",
            "transformer.h.6.crs_attn.multihead_attn.out_proj.bias: True\n",
            "transformer.h.6.mlp.c_fc.weight: False\n",
            "transformer.h.6.mlp.c_fc.bias: False\n",
            "transformer.h.6.mlp.c_proj.weight: False\n",
            "transformer.h.6.mlp.c_proj.bias: False\n",
            "transformer.h.7.ln_1.weight: False\n",
            "transformer.h.7.ln_1.bias: False\n",
            "transformer.h.7.ln_2.weight: True\n",
            "transformer.h.7.ln_2.bias: True\n",
            "transformer.h.7.ln_3.weight: False\n",
            "transformer.h.7.ln_3.bias: False\n",
            "transformer.h.7.attn.c_attn.weight: False\n",
            "transformer.h.7.attn.c_attn.bias: False\n",
            "transformer.h.7.attn.c_attn.lora_A: True\n",
            "transformer.h.7.attn.c_attn.lora_B: True\n",
            "transformer.h.7.attn.c_proj.weight: False\n",
            "transformer.h.7.attn.c_proj.bias: False\n",
            "transformer.h.7.crs_attn.multihead_attn.in_proj_weight: True\n",
            "transformer.h.7.crs_attn.multihead_attn.in_proj_bias: True\n",
            "transformer.h.7.crs_attn.multihead_attn.out_proj.weight: True\n",
            "transformer.h.7.crs_attn.multihead_attn.out_proj.bias: True\n",
            "transformer.h.7.mlp.c_fc.weight: False\n",
            "transformer.h.7.mlp.c_fc.bias: False\n",
            "transformer.h.7.mlp.c_proj.weight: False\n",
            "transformer.h.7.mlp.c_proj.bias: False\n",
            "transformer.h.8.ln_1.weight: False\n",
            "transformer.h.8.ln_1.bias: False\n",
            "transformer.h.8.ln_2.weight: True\n",
            "transformer.h.8.ln_2.bias: True\n",
            "transformer.h.8.ln_3.weight: False\n",
            "transformer.h.8.ln_3.bias: False\n",
            "transformer.h.8.attn.c_attn.weight: False\n",
            "transformer.h.8.attn.c_attn.bias: False\n",
            "transformer.h.8.attn.c_attn.lora_A: True\n",
            "transformer.h.8.attn.c_attn.lora_B: True\n",
            "transformer.h.8.attn.c_proj.weight: False\n",
            "transformer.h.8.attn.c_proj.bias: False\n",
            "transformer.h.8.crs_attn.multihead_attn.in_proj_weight: True\n",
            "transformer.h.8.crs_attn.multihead_attn.in_proj_bias: True\n",
            "transformer.h.8.crs_attn.multihead_attn.out_proj.weight: True\n",
            "transformer.h.8.crs_attn.multihead_attn.out_proj.bias: True\n",
            "transformer.h.8.mlp.c_fc.weight: False\n",
            "transformer.h.8.mlp.c_fc.bias: False\n",
            "transformer.h.8.mlp.c_proj.weight: False\n",
            "transformer.h.8.mlp.c_proj.bias: False\n",
            "transformer.h.9.ln_1.weight: False\n",
            "transformer.h.9.ln_1.bias: False\n",
            "transformer.h.9.ln_2.weight: True\n",
            "transformer.h.9.ln_2.bias: True\n",
            "transformer.h.9.ln_3.weight: False\n",
            "transformer.h.9.ln_3.bias: False\n",
            "transformer.h.9.attn.c_attn.weight: False\n",
            "transformer.h.9.attn.c_attn.bias: False\n",
            "transformer.h.9.attn.c_attn.lora_A: True\n",
            "transformer.h.9.attn.c_attn.lora_B: True\n",
            "transformer.h.9.attn.c_proj.weight: False\n",
            "transformer.h.9.attn.c_proj.bias: False\n",
            "transformer.h.9.crs_attn.multihead_attn.in_proj_weight: True\n",
            "transformer.h.9.crs_attn.multihead_attn.in_proj_bias: True\n",
            "transformer.h.9.crs_attn.multihead_attn.out_proj.weight: True\n",
            "transformer.h.9.crs_attn.multihead_attn.out_proj.bias: True\n",
            "transformer.h.9.mlp.c_fc.weight: False\n",
            "transformer.h.9.mlp.c_fc.bias: False\n",
            "transformer.h.9.mlp.c_proj.weight: False\n",
            "transformer.h.9.mlp.c_proj.bias: False\n",
            "transformer.h.10.ln_1.weight: False\n",
            "transformer.h.10.ln_1.bias: False\n",
            "transformer.h.10.ln_2.weight: True\n",
            "transformer.h.10.ln_2.bias: True\n",
            "transformer.h.10.ln_3.weight: False\n",
            "transformer.h.10.ln_3.bias: False\n",
            "transformer.h.10.attn.c_attn.weight: False\n",
            "transformer.h.10.attn.c_attn.bias: False\n",
            "transformer.h.10.attn.c_attn.lora_A: True\n",
            "transformer.h.10.attn.c_attn.lora_B: True\n",
            "transformer.h.10.attn.c_proj.weight: False\n",
            "transformer.h.10.attn.c_proj.bias: False\n",
            "transformer.h.10.crs_attn.multihead_attn.in_proj_weight: True\n",
            "transformer.h.10.crs_attn.multihead_attn.in_proj_bias: True\n",
            "transformer.h.10.crs_attn.multihead_attn.out_proj.weight: True\n",
            "transformer.h.10.crs_attn.multihead_attn.out_proj.bias: True\n",
            "transformer.h.10.mlp.c_fc.weight: False\n",
            "transformer.h.10.mlp.c_fc.bias: False\n",
            "transformer.h.10.mlp.c_proj.weight: False\n",
            "transformer.h.10.mlp.c_proj.bias: False\n",
            "transformer.h.11.ln_1.weight: False\n",
            "transformer.h.11.ln_1.bias: False\n",
            "transformer.h.11.ln_2.weight: True\n",
            "transformer.h.11.ln_2.bias: True\n",
            "transformer.h.11.ln_3.weight: False\n",
            "transformer.h.11.ln_3.bias: False\n",
            "transformer.h.11.attn.c_attn.weight: False\n",
            "transformer.h.11.attn.c_attn.bias: False\n",
            "transformer.h.11.attn.c_attn.lora_A: True\n",
            "transformer.h.11.attn.c_attn.lora_B: True\n",
            "transformer.h.11.attn.c_proj.weight: False\n",
            "transformer.h.11.attn.c_proj.bias: False\n",
            "transformer.h.11.crs_attn.multihead_attn.in_proj_weight: True\n",
            "transformer.h.11.crs_attn.multihead_attn.in_proj_bias: True\n",
            "transformer.h.11.crs_attn.multihead_attn.out_proj.weight: True\n",
            "transformer.h.11.crs_attn.multihead_attn.out_proj.bias: True\n",
            "transformer.h.11.mlp.c_fc.weight: False\n",
            "transformer.h.11.mlp.c_fc.bias: False\n",
            "transformer.h.11.mlp.c_proj.weight: False\n",
            "transformer.h.11.mlp.c_proj.bias: False\n",
            "transformer.ln_f.weight: False\n",
            "transformer.ln_f.bias: False\n",
            "encoder.cls_token: False\n",
            "encoder.pos_embed: False\n",
            "encoder.patch_embed.proj.weight: False\n",
            "encoder.patch_embed.proj.bias: False\n",
            "encoder.blocks.0.norm1.weight: False\n",
            "encoder.blocks.0.norm1.bias: False\n",
            "encoder.blocks.0.attn.qkv.weight: False\n",
            "encoder.blocks.0.attn.qkv.bias: False\n",
            "encoder.blocks.0.attn.proj.weight: False\n",
            "encoder.blocks.0.attn.proj.bias: False\n",
            "encoder.blocks.0.norm2.weight: False\n",
            "encoder.blocks.0.norm2.bias: False\n",
            "encoder.blocks.0.mlp.fc1.weight: False\n",
            "encoder.blocks.0.mlp.fc1.bias: False\n",
            "encoder.blocks.0.mlp.fc2.weight: False\n",
            "encoder.blocks.0.mlp.fc2.bias: False\n",
            "encoder.blocks.1.norm1.weight: False\n",
            "encoder.blocks.1.norm1.bias: False\n",
            "encoder.blocks.1.attn.qkv.weight: False\n",
            "encoder.blocks.1.attn.qkv.bias: False\n",
            "encoder.blocks.1.attn.proj.weight: False\n",
            "encoder.blocks.1.attn.proj.bias: False\n",
            "encoder.blocks.1.norm2.weight: False\n",
            "encoder.blocks.1.norm2.bias: False\n",
            "encoder.blocks.1.mlp.fc1.weight: False\n",
            "encoder.blocks.1.mlp.fc1.bias: False\n",
            "encoder.blocks.1.mlp.fc2.weight: False\n",
            "encoder.blocks.1.mlp.fc2.bias: False\n",
            "encoder.blocks.2.norm1.weight: False\n",
            "encoder.blocks.2.norm1.bias: False\n",
            "encoder.blocks.2.attn.qkv.weight: False\n",
            "encoder.blocks.2.attn.qkv.bias: False\n",
            "encoder.blocks.2.attn.proj.weight: False\n",
            "encoder.blocks.2.attn.proj.bias: False\n",
            "encoder.blocks.2.norm2.weight: False\n",
            "encoder.blocks.2.norm2.bias: False\n",
            "encoder.blocks.2.mlp.fc1.weight: False\n",
            "encoder.blocks.2.mlp.fc1.bias: False\n",
            "encoder.blocks.2.mlp.fc2.weight: False\n",
            "encoder.blocks.2.mlp.fc2.bias: False\n",
            "encoder.blocks.3.norm1.weight: False\n",
            "encoder.blocks.3.norm1.bias: False\n",
            "encoder.blocks.3.attn.qkv.weight: False\n",
            "encoder.blocks.3.attn.qkv.bias: False\n",
            "encoder.blocks.3.attn.proj.weight: False\n",
            "encoder.blocks.3.attn.proj.bias: False\n",
            "encoder.blocks.3.norm2.weight: False\n",
            "encoder.blocks.3.norm2.bias: False\n",
            "encoder.blocks.3.mlp.fc1.weight: False\n",
            "encoder.blocks.3.mlp.fc1.bias: False\n",
            "encoder.blocks.3.mlp.fc2.weight: False\n",
            "encoder.blocks.3.mlp.fc2.bias: False\n",
            "encoder.blocks.4.norm1.weight: False\n",
            "encoder.blocks.4.norm1.bias: False\n",
            "encoder.blocks.4.attn.qkv.weight: False\n",
            "encoder.blocks.4.attn.qkv.bias: False\n",
            "encoder.blocks.4.attn.proj.weight: False\n",
            "encoder.blocks.4.attn.proj.bias: False\n",
            "encoder.blocks.4.norm2.weight: False\n",
            "encoder.blocks.4.norm2.bias: False\n",
            "encoder.blocks.4.mlp.fc1.weight: False\n",
            "encoder.blocks.4.mlp.fc1.bias: False\n",
            "encoder.blocks.4.mlp.fc2.weight: False\n",
            "encoder.blocks.4.mlp.fc2.bias: False\n",
            "encoder.blocks.5.norm1.weight: False\n",
            "encoder.blocks.5.norm1.bias: False\n",
            "encoder.blocks.5.attn.qkv.weight: False\n",
            "encoder.blocks.5.attn.qkv.bias: False\n",
            "encoder.blocks.5.attn.proj.weight: False\n",
            "encoder.blocks.5.attn.proj.bias: False\n",
            "encoder.blocks.5.norm2.weight: False\n",
            "encoder.blocks.5.norm2.bias: False\n",
            "encoder.blocks.5.mlp.fc1.weight: False\n",
            "encoder.blocks.5.mlp.fc1.bias: False\n",
            "encoder.blocks.5.mlp.fc2.weight: False\n",
            "encoder.blocks.5.mlp.fc2.bias: False\n",
            "encoder.blocks.6.norm1.weight: False\n",
            "encoder.blocks.6.norm1.bias: False\n",
            "encoder.blocks.6.attn.qkv.weight: False\n",
            "encoder.blocks.6.attn.qkv.bias: False\n",
            "encoder.blocks.6.attn.proj.weight: False\n",
            "encoder.blocks.6.attn.proj.bias: False\n",
            "encoder.blocks.6.norm2.weight: False\n",
            "encoder.blocks.6.norm2.bias: False\n",
            "encoder.blocks.6.mlp.fc1.weight: False\n",
            "encoder.blocks.6.mlp.fc1.bias: False\n",
            "encoder.blocks.6.mlp.fc2.weight: False\n",
            "encoder.blocks.6.mlp.fc2.bias: False\n",
            "encoder.blocks.7.norm1.weight: False\n",
            "encoder.blocks.7.norm1.bias: False\n",
            "encoder.blocks.7.attn.qkv.weight: False\n",
            "encoder.blocks.7.attn.qkv.bias: False\n",
            "encoder.blocks.7.attn.proj.weight: False\n",
            "encoder.blocks.7.attn.proj.bias: False\n",
            "encoder.blocks.7.norm2.weight: False\n",
            "encoder.blocks.7.norm2.bias: False\n",
            "encoder.blocks.7.mlp.fc1.weight: False\n",
            "encoder.blocks.7.mlp.fc1.bias: False\n",
            "encoder.blocks.7.mlp.fc2.weight: False\n",
            "encoder.blocks.7.mlp.fc2.bias: False\n",
            "encoder.blocks.8.norm1.weight: False\n",
            "encoder.blocks.8.norm1.bias: False\n",
            "encoder.blocks.8.attn.qkv.weight: False\n",
            "encoder.blocks.8.attn.qkv.bias: False\n",
            "encoder.blocks.8.attn.proj.weight: False\n",
            "encoder.blocks.8.attn.proj.bias: False\n",
            "encoder.blocks.8.norm2.weight: False\n",
            "encoder.blocks.8.norm2.bias: False\n",
            "encoder.blocks.8.mlp.fc1.weight: False\n",
            "encoder.blocks.8.mlp.fc1.bias: False\n",
            "encoder.blocks.8.mlp.fc2.weight: False\n",
            "encoder.blocks.8.mlp.fc2.bias: False\n",
            "encoder.blocks.9.norm1.weight: False\n",
            "encoder.blocks.9.norm1.bias: False\n",
            "encoder.blocks.9.attn.qkv.weight: False\n",
            "encoder.blocks.9.attn.qkv.bias: False\n",
            "encoder.blocks.9.attn.proj.weight: False\n",
            "encoder.blocks.9.attn.proj.bias: False\n",
            "encoder.blocks.9.norm2.weight: False\n",
            "encoder.blocks.9.norm2.bias: False\n",
            "encoder.blocks.9.mlp.fc1.weight: False\n",
            "encoder.blocks.9.mlp.fc1.bias: False\n",
            "encoder.blocks.9.mlp.fc2.weight: False\n",
            "encoder.blocks.9.mlp.fc2.bias: False\n",
            "encoder.blocks.10.norm1.weight: False\n",
            "encoder.blocks.10.norm1.bias: False\n",
            "encoder.blocks.10.attn.qkv.weight: False\n",
            "encoder.blocks.10.attn.qkv.bias: False\n",
            "encoder.blocks.10.attn.proj.weight: False\n",
            "encoder.blocks.10.attn.proj.bias: False\n",
            "encoder.blocks.10.norm2.weight: False\n",
            "encoder.blocks.10.norm2.bias: False\n",
            "encoder.blocks.10.mlp.fc1.weight: False\n",
            "encoder.blocks.10.mlp.fc1.bias: False\n",
            "encoder.blocks.10.mlp.fc2.weight: False\n",
            "encoder.blocks.10.mlp.fc2.bias: False\n",
            "encoder.blocks.11.norm1.weight: False\n",
            "encoder.blocks.11.norm1.bias: False\n",
            "encoder.blocks.11.attn.qkv.weight: False\n",
            "encoder.blocks.11.attn.qkv.bias: False\n",
            "encoder.blocks.11.attn.proj.weight: False\n",
            "encoder.blocks.11.attn.proj.bias: False\n",
            "encoder.blocks.11.norm2.weight: False\n",
            "encoder.blocks.11.norm2.bias: False\n",
            "encoder.blocks.11.mlp.fc1.weight: False\n",
            "encoder.blocks.11.mlp.fc1.bias: False\n",
            "encoder.blocks.11.mlp.fc2.weight: False\n",
            "encoder.blocks.11.mlp.fc2.bias: False\n",
            "encoder.blocks.12.norm1.weight: False\n",
            "encoder.blocks.12.norm1.bias: False\n",
            "encoder.blocks.12.attn.qkv.weight: False\n",
            "encoder.blocks.12.attn.qkv.bias: False\n",
            "encoder.blocks.12.attn.proj.weight: False\n",
            "encoder.blocks.12.attn.proj.bias: False\n",
            "encoder.blocks.12.norm2.weight: False\n",
            "encoder.blocks.12.norm2.bias: False\n",
            "encoder.blocks.12.mlp.fc1.weight: False\n",
            "encoder.blocks.12.mlp.fc1.bias: False\n",
            "encoder.blocks.12.mlp.fc2.weight: False\n",
            "encoder.blocks.12.mlp.fc2.bias: False\n",
            "encoder.blocks.13.norm1.weight: False\n",
            "encoder.blocks.13.norm1.bias: False\n",
            "encoder.blocks.13.attn.qkv.weight: False\n",
            "encoder.blocks.13.attn.qkv.bias: False\n",
            "encoder.blocks.13.attn.proj.weight: False\n",
            "encoder.blocks.13.attn.proj.bias: False\n",
            "encoder.blocks.13.norm2.weight: False\n",
            "encoder.blocks.13.norm2.bias: False\n",
            "encoder.blocks.13.mlp.fc1.weight: False\n",
            "encoder.blocks.13.mlp.fc1.bias: False\n",
            "encoder.blocks.13.mlp.fc2.weight: False\n",
            "encoder.blocks.13.mlp.fc2.bias: False\n",
            "encoder.blocks.14.norm1.weight: False\n",
            "encoder.blocks.14.norm1.bias: False\n",
            "encoder.blocks.14.attn.qkv.weight: False\n",
            "encoder.blocks.14.attn.qkv.bias: False\n",
            "encoder.blocks.14.attn.proj.weight: False\n",
            "encoder.blocks.14.attn.proj.bias: False\n",
            "encoder.blocks.14.norm2.weight: False\n",
            "encoder.blocks.14.norm2.bias: False\n",
            "encoder.blocks.14.mlp.fc1.weight: False\n",
            "encoder.blocks.14.mlp.fc1.bias: False\n",
            "encoder.blocks.14.mlp.fc2.weight: False\n",
            "encoder.blocks.14.mlp.fc2.bias: False\n",
            "encoder.blocks.15.norm1.weight: False\n",
            "encoder.blocks.15.norm1.bias: False\n",
            "encoder.blocks.15.attn.qkv.weight: False\n",
            "encoder.blocks.15.attn.qkv.bias: False\n",
            "encoder.blocks.15.attn.proj.weight: False\n",
            "encoder.blocks.15.attn.proj.bias: False\n",
            "encoder.blocks.15.norm2.weight: False\n",
            "encoder.blocks.15.norm2.bias: False\n",
            "encoder.blocks.15.mlp.fc1.weight: False\n",
            "encoder.blocks.15.mlp.fc1.bias: False\n",
            "encoder.blocks.15.mlp.fc2.weight: False\n",
            "encoder.blocks.15.mlp.fc2.bias: False\n",
            "encoder.blocks.16.norm1.weight: False\n",
            "encoder.blocks.16.norm1.bias: False\n",
            "encoder.blocks.16.attn.qkv.weight: False\n",
            "encoder.blocks.16.attn.qkv.bias: False\n",
            "encoder.blocks.16.attn.proj.weight: False\n",
            "encoder.blocks.16.attn.proj.bias: False\n",
            "encoder.blocks.16.norm2.weight: False\n",
            "encoder.blocks.16.norm2.bias: False\n",
            "encoder.blocks.16.mlp.fc1.weight: False\n",
            "encoder.blocks.16.mlp.fc1.bias: False\n",
            "encoder.blocks.16.mlp.fc2.weight: False\n",
            "encoder.blocks.16.mlp.fc2.bias: False\n",
            "encoder.blocks.17.norm1.weight: False\n",
            "encoder.blocks.17.norm1.bias: False\n",
            "encoder.blocks.17.attn.qkv.weight: False\n",
            "encoder.blocks.17.attn.qkv.bias: False\n",
            "encoder.blocks.17.attn.proj.weight: False\n",
            "encoder.blocks.17.attn.proj.bias: False\n",
            "encoder.blocks.17.norm2.weight: False\n",
            "encoder.blocks.17.norm2.bias: False\n",
            "encoder.blocks.17.mlp.fc1.weight: False\n",
            "encoder.blocks.17.mlp.fc1.bias: False\n",
            "encoder.blocks.17.mlp.fc2.weight: False\n",
            "encoder.blocks.17.mlp.fc2.bias: False\n",
            "encoder.blocks.18.norm1.weight: False\n",
            "encoder.blocks.18.norm1.bias: False\n",
            "encoder.blocks.18.attn.qkv.weight: False\n",
            "encoder.blocks.18.attn.qkv.bias: False\n",
            "encoder.blocks.18.attn.proj.weight: False\n",
            "encoder.blocks.18.attn.proj.bias: False\n",
            "encoder.blocks.18.norm2.weight: False\n",
            "encoder.blocks.18.norm2.bias: False\n",
            "encoder.blocks.18.mlp.fc1.weight: False\n",
            "encoder.blocks.18.mlp.fc1.bias: False\n",
            "encoder.blocks.18.mlp.fc2.weight: False\n",
            "encoder.blocks.18.mlp.fc2.bias: False\n",
            "encoder.blocks.19.norm1.weight: False\n",
            "encoder.blocks.19.norm1.bias: False\n",
            "encoder.blocks.19.attn.qkv.weight: False\n",
            "encoder.blocks.19.attn.qkv.bias: False\n",
            "encoder.blocks.19.attn.proj.weight: False\n",
            "encoder.blocks.19.attn.proj.bias: False\n",
            "encoder.blocks.19.norm2.weight: False\n",
            "encoder.blocks.19.norm2.bias: False\n",
            "encoder.blocks.19.mlp.fc1.weight: False\n",
            "encoder.blocks.19.mlp.fc1.bias: False\n",
            "encoder.blocks.19.mlp.fc2.weight: False\n",
            "encoder.blocks.19.mlp.fc2.bias: False\n",
            "encoder.blocks.20.norm1.weight: False\n",
            "encoder.blocks.20.norm1.bias: False\n",
            "encoder.blocks.20.attn.qkv.weight: False\n",
            "encoder.blocks.20.attn.qkv.bias: False\n",
            "encoder.blocks.20.attn.proj.weight: False\n",
            "encoder.blocks.20.attn.proj.bias: False\n",
            "encoder.blocks.20.norm2.weight: False\n",
            "encoder.blocks.20.norm2.bias: False\n",
            "encoder.blocks.20.mlp.fc1.weight: False\n",
            "encoder.blocks.20.mlp.fc1.bias: False\n",
            "encoder.blocks.20.mlp.fc2.weight: False\n",
            "encoder.blocks.20.mlp.fc2.bias: False\n",
            "encoder.blocks.21.norm1.weight: False\n",
            "encoder.blocks.21.norm1.bias: False\n",
            "encoder.blocks.21.attn.qkv.weight: False\n",
            "encoder.blocks.21.attn.qkv.bias: False\n",
            "encoder.blocks.21.attn.proj.weight: False\n",
            "encoder.blocks.21.attn.proj.bias: False\n",
            "encoder.blocks.21.norm2.weight: False\n",
            "encoder.blocks.21.norm2.bias: False\n",
            "encoder.blocks.21.mlp.fc1.weight: False\n",
            "encoder.blocks.21.mlp.fc1.bias: False\n",
            "encoder.blocks.21.mlp.fc2.weight: False\n",
            "encoder.blocks.21.mlp.fc2.bias: False\n",
            "encoder.blocks.22.norm1.weight: False\n",
            "encoder.blocks.22.norm1.bias: False\n",
            "encoder.blocks.22.attn.qkv.weight: False\n",
            "encoder.blocks.22.attn.qkv.bias: False\n",
            "encoder.blocks.22.attn.proj.weight: False\n",
            "encoder.blocks.22.attn.proj.bias: False\n",
            "encoder.blocks.22.norm2.weight: False\n",
            "encoder.blocks.22.norm2.bias: False\n",
            "encoder.blocks.22.mlp.fc1.weight: False\n",
            "encoder.blocks.22.mlp.fc1.bias: False\n",
            "encoder.blocks.22.mlp.fc2.weight: False\n",
            "encoder.blocks.22.mlp.fc2.bias: False\n",
            "encoder.blocks.23.norm1.weight: False\n",
            "encoder.blocks.23.norm1.bias: False\n",
            "encoder.blocks.23.attn.qkv.weight: False\n",
            "encoder.blocks.23.attn.qkv.bias: False\n",
            "encoder.blocks.23.attn.proj.weight: False\n",
            "encoder.blocks.23.attn.proj.bias: False\n",
            "encoder.blocks.23.norm2.weight: False\n",
            "encoder.blocks.23.norm2.bias: False\n",
            "encoder.blocks.23.mlp.fc1.weight: False\n",
            "encoder.blocks.23.mlp.fc1.bias: False\n",
            "encoder.blocks.23.mlp.fc2.weight: False\n",
            "encoder.blocks.23.mlp.fc2.bias: False\n",
            "encoder.norm.weight: False\n",
            "encoder.norm.bias: False\n",
            "encoder.head.weight: False\n",
            "encoder.head.bias: False\n",
            "linear.weight: True\n",
            "linear.bias: True\n"
          ]
        }
      ]
    },
    {
      "cell_type": "markdown",
      "source": [
        "#### Training"
      ],
      "metadata": {
        "id": "rFEjEGPIj285"
      }
    },
    {
      "cell_type": "code",
      "source": [
        "def training(dataloader, model, loss_fn, optimizer):\n",
        "\n",
        "    size = len(dataloader.dataset) # number of samples\n",
        "    num_batches = len(dataloader) # batches per epoch\n",
        "    epoch_loss = 0\n",
        "\n",
        "    model.train() # to training mode\n",
        "    for batch_i, data in enumerate(tqdm(dataloader)):\n",
        "        data['img'] = data['img'].to(device, non_blocking=True)\n",
        "        data['tokenized_captions_train'] = data['tokenized_captions_train'].to(device, non_blocking=True)\n",
        "        data['tokenized_captions_inf'] = data['tokenized_captions_inf'].to(device, non_blocking=True)\n",
        "\n",
        "        # zero the parameter gradients\n",
        "        optimizer.zero_grad()\n",
        "\n",
        "        # Compute prediction loss\n",
        "        pred = model(data['tokenized_captions_train'], data['img'])\n",
        "        # reshape to (B, C)\n",
        "        data['tokenized_captions_inf'] = data['tokenized_captions_inf'].reshape(-1)\n",
        "        pred = pred.reshape(-1, 50257)\n",
        "        loss = loss_fn(pred, data['tokenized_captions_inf']) # tokenized captions inf\n",
        "\n",
        "        # Optimization by gradients\n",
        "        loss.backward() # backpropagation to compute gradients\n",
        "        optimizer.step() # update model params\n",
        "\n",
        "        # write to logs\n",
        "        epoch_loss += loss.item() # tensor -> python value\n",
        "    return epoch_loss/num_batches"
      ],
      "metadata": {
        "id": "xH8HOqOGqM47"
      },
      "execution_count": 42,
      "outputs": []
    },
    {
      "cell_type": "code",
      "source": [
        "EPOCHS = 7\n",
        "loss_fn = nn.CrossEntropyLoss() # ignore_index=50256\n",
        "optimizer = torch.optim.Adam(model.parameters(), lr=3e-4)\n",
        "\n",
        "# logs\n",
        "logs = {\n",
        "    'train_loss': []\n",
        "}\n",
        "\n",
        "for epoch in tqdm(range(EPOCHS)):\n",
        "    train_loss = training(train_loader, model, loss_fn, optimizer)\n",
        "\n",
        "    print(f'EPOCH: {epoch:04d} \\train_loss: {train_loss:.4f}')\n",
        "\n",
        "    logs['train_loss'].append(train_loss)\n",
        "\n",
        "    # Save model\n",
        "    save_weights = {k: v for k, v in model.state_dict().items() if k in trainable_weights}\n",
        "    torch.save(save_weights, f'/content/drive/MyDrive/NTU_DLCV/Hw3/p2_ckpt/trainable_weights_LoRA_epoch{epoch}_{train_loss:.4f}.pth')\n",
        "    print('---------- Model Save ----------')"
      ],
      "metadata": {
        "id": "DEguocg8j4qa",
        "outputId": "f8a27102-6ca9-4b43-9f23-ed440183263f",
        "colab": {
          "base_uri": "https://localhost:8080/",
          "height": 469
        }
      },
      "execution_count": 43,
      "outputs": [
        {
          "output_type": "stream",
          "name": "stderr",
          "text": [
            "  0%|          | 0/7 [00:00<?, ?it/s]\n",
            "  0%|          | 0/3316 [00:00<?, ?it/s]\u001b[A/usr/local/lib/python3.10/dist-packages/torch/utils/data/dataloader.py:557: UserWarning: This DataLoader will create 4 worker processes in total. Our suggested max number of worker in current system is 2, which is smaller than what this DataLoader is going to create. Please be aware that excessive worker creation might get DataLoader running slow or even freeze, lower the worker number to avoid potential slowness/freeze if necessary.\n",
            "  warnings.warn(_create_warning_msg(\n",
            "  0%|          | 0/3316 [00:10<?, ?it/s]\n",
            "  0%|          | 0/7 [00:10<?, ?it/s]\n"
          ]
        },
        {
          "output_type": "error",
          "ename": "AttributeError",
          "evalue": "ignored",
          "traceback": [
            "\u001b[0;31m---------------------------------------------------------------------------\u001b[0m",
            "\u001b[0;31mAttributeError\u001b[0m                            Traceback (most recent call last)",
            "\u001b[0;32m<ipython-input-43-9cbc3538066a>\u001b[0m in \u001b[0;36m<cell line: 10>\u001b[0;34m()\u001b[0m\n\u001b[1;32m      9\u001b[0m \u001b[0;34m\u001b[0m\u001b[0m\n\u001b[1;32m     10\u001b[0m \u001b[0;32mfor\u001b[0m \u001b[0mepoch\u001b[0m \u001b[0;32min\u001b[0m \u001b[0mtqdm\u001b[0m\u001b[0;34m(\u001b[0m\u001b[0mrange\u001b[0m\u001b[0;34m(\u001b[0m\u001b[0mEPOCHS\u001b[0m\u001b[0;34m)\u001b[0m\u001b[0;34m)\u001b[0m\u001b[0;34m:\u001b[0m\u001b[0;34m\u001b[0m\u001b[0;34m\u001b[0m\u001b[0m\n\u001b[0;32m---> 11\u001b[0;31m     \u001b[0mtrain_loss\u001b[0m \u001b[0;34m=\u001b[0m \u001b[0mtraining\u001b[0m\u001b[0;34m(\u001b[0m\u001b[0mtrain_loader\u001b[0m\u001b[0;34m,\u001b[0m \u001b[0mmodel\u001b[0m\u001b[0;34m,\u001b[0m \u001b[0mloss_fn\u001b[0m\u001b[0;34m,\u001b[0m \u001b[0moptimizer\u001b[0m\u001b[0;34m)\u001b[0m\u001b[0;34m\u001b[0m\u001b[0;34m\u001b[0m\u001b[0m\n\u001b[0m\u001b[1;32m     12\u001b[0m \u001b[0;34m\u001b[0m\u001b[0m\n\u001b[1;32m     13\u001b[0m     \u001b[0mprint\u001b[0m\u001b[0;34m(\u001b[0m\u001b[0;34mf'EPOCH: {epoch:04d} \\train_loss: {train_loss:.4f}'\u001b[0m\u001b[0;34m)\u001b[0m\u001b[0;34m\u001b[0m\u001b[0;34m\u001b[0m\u001b[0m\n",
            "\u001b[0;32m<ipython-input-42-a97d2eedf837>\u001b[0m in \u001b[0;36mtraining\u001b[0;34m(dataloader, model, loss_fn, optimizer)\u001b[0m\n\u001b[1;32m     18\u001b[0m         \u001b[0;31m# reshape to (B, C)\u001b[0m\u001b[0;34m\u001b[0m\u001b[0;34m\u001b[0m\u001b[0m\n\u001b[1;32m     19\u001b[0m         \u001b[0mdata\u001b[0m\u001b[0;34m[\u001b[0m\u001b[0;34m'tokenized_captions_inf'\u001b[0m\u001b[0;34m]\u001b[0m \u001b[0;34m=\u001b[0m \u001b[0mdata\u001b[0m\u001b[0;34m[\u001b[0m\u001b[0;34m'tokenized_captions_inf'\u001b[0m\u001b[0;34m]\u001b[0m\u001b[0;34m.\u001b[0m\u001b[0mreshape\u001b[0m\u001b[0;34m(\u001b[0m\u001b[0;34m-\u001b[0m\u001b[0;36m1\u001b[0m\u001b[0;34m)\u001b[0m\u001b[0;34m\u001b[0m\u001b[0;34m\u001b[0m\u001b[0m\n\u001b[0;32m---> 20\u001b[0;31m         \u001b[0mpred\u001b[0m \u001b[0;34m=\u001b[0m \u001b[0mpred\u001b[0m\u001b[0;34m.\u001b[0m\u001b[0mreshape\u001b[0m\u001b[0;34m(\u001b[0m\u001b[0;34m-\u001b[0m\u001b[0;36m1\u001b[0m\u001b[0;34m,\u001b[0m \u001b[0;36m50257\u001b[0m\u001b[0;34m)\u001b[0m\u001b[0;34m\u001b[0m\u001b[0;34m\u001b[0m\u001b[0m\n\u001b[0m\u001b[1;32m     21\u001b[0m         \u001b[0mloss\u001b[0m \u001b[0;34m=\u001b[0m \u001b[0mloss_fn\u001b[0m\u001b[0;34m(\u001b[0m\u001b[0mpred\u001b[0m\u001b[0;34m,\u001b[0m \u001b[0mdata\u001b[0m\u001b[0;34m[\u001b[0m\u001b[0;34m'tokenized_captions_inf'\u001b[0m\u001b[0;34m]\u001b[0m\u001b[0;34m)\u001b[0m \u001b[0;31m# tokenized captions inf\u001b[0m\u001b[0;34m\u001b[0m\u001b[0;34m\u001b[0m\u001b[0m\n\u001b[1;32m     22\u001b[0m \u001b[0;34m\u001b[0m\u001b[0m\n",
            "\u001b[0;31mAttributeError\u001b[0m: 'tuple' object has no attribute 'reshape'"
          ]
        }
      ]
    },
    {
      "cell_type": "markdown",
      "source": [
        "#### Check the model params less than 35M"
      ],
      "metadata": {
        "id": "KvaNuVScnJLz"
      }
    },
    {
      "cell_type": "code",
      "source": [
        "# !gdown 1-obsrlcsth-FcJgr1SQ1QNJAq_yxBh9Z -O trainable_weights"
      ],
      "metadata": {
        "id": "5KB_Sr0znbHb",
        "outputId": "e43461bb-a895-4136-9a3d-d40af53830b9",
        "colab": {
          "base_uri": "https://localhost:8080/"
        }
      },
      "execution_count": null,
      "outputs": [
        {
          "output_type": "stream",
          "name": "stdout",
          "text": [
            "Downloading...\n",
            "From: https://drive.google.com/uc?id=1-obsrlcsth-FcJgr1SQ1QNJAq_yxBh9Z\n",
            "To: /content/trainable_weights\n",
            "100% 117M/117M [00:00<00:00, 283MB/s]\n"
          ]
        }
      ]
    },
    {
      "cell_type": "code",
      "source": [
        "# model = Decoder(cfg)\n",
        "# # Freeze parameters\n",
        "# for name, param in model.named_parameters():\n",
        "#     param.requires_grad=False\n",
        "#     # print(f\"{name}: {param.requires_grad}\")\n",
        "# # Unfreeze some parameters\n",
        "# for i in range(12):\n",
        "#     model.transformer.h[i].ln_2.weight.requires_grad = True\n",
        "#     model.transformer.h[i].ln_2.bias.requires_grad = True\n",
        "#     model.transformer.h[i].crs_attn.multihead_attn.in_proj_weight.requires_grad = True\n",
        "#     model.transformer.h[i].crs_attn.multihead_attn.in_proj_bias.requires_grad = True\n",
        "#     model.transformer.h[i].crs_attn.multihead_attn.out_proj.weight.requires_grad = True\n",
        "#     model.transformer.h[i].crs_attn.multihead_attn.out_proj.bias.requires_grad = True\n",
        "# model.linear.weight.requires_grad = True\n",
        "# model.linear.bias.requires_grad = True"
      ],
      "metadata": {
        "id": "yews3unVnUje"
      },
      "execution_count": null,
      "outputs": []
    },
    {
      "cell_type": "code",
      "source": [
        "# model.load_state_dict(torch.load('/content/trainable_weights', map_location=device), strict=False)\n",
        "# print('Total params: ', sum(params.numel() for params in model.parameters() if params.requires_grad))"
      ],
      "metadata": {
        "id": "rXypa7_EnXQM",
        "outputId": "0cef27f0-b084-4e58-8214-ea0013c66a30",
        "colab": {
          "base_uri": "https://localhost:8080/"
        }
      },
      "execution_count": null,
      "outputs": [
        {
          "output_type": "stream",
          "name": "stdout",
          "text": [
            "Total params:  29154048\n"
          ]
        }
      ]
    },
    {
      "cell_type": "markdown",
      "source": [
        "#### inference"
      ],
      "metadata": {
        "id": "K4qEtiUZcjqO"
      }
    },
    {
      "cell_type": "markdown",
      "source": [
        "    1-obsrlcsth-FcJgr1SQ1QNJAq_yxBh9Z, # epoch6\n",
        "    1-nBgYCOFMbY5Wo55oPuVkfEN6z-2VIlu, # epoch5\n",
        "    1-ibRnuyRXHyp-dAWoGJ36i3QZRhVrFh7, # epoch4\n",
        "    1-TfQ8FcyMsZ_o_7YxQ1PKnbpC4n8wYie, # epoch3\n",
        "    1-R828SOp9x1HGgsdhqd4PC7PeyjZrRFN, # epoch2\n",
        "    1-QfCpRUdAHmp4lT6qwXjLIzp1h9Kf0PJ, # epoch1"
      ],
      "metadata": {
        "id": "gOPejydwEj9I"
      }
    },
    {
      "cell_type": "code",
      "source": [
        "!gdown 1-obsrlcsth-FcJgr1SQ1QNJAq_yxBh9Z -O trainable_weights6 # epoch6\n",
        "!gdown 1-nBgYCOFMbY5Wo55oPuVkfEN6z-2VIlu -O trainable_weights5 # epoch5\n",
        "!gdown 1-ibRnuyRXHyp-dAWoGJ36i3QZRhVrFh7 -O trainable_weights4 # epoch4\n",
        "!gdown 1-TfQ8FcyMsZ_o_7YxQ1PKnbpC4n8wYie -O trainable_weights3 # epoch3\n",
        "!gdown 1-R828SOp9x1HGgsdhqd4PC7PeyjZrRFN -O trainable_weights2 # epoch2\n",
        "!gdown 1-QfCpRUdAHmp4lT6qwXjLIzp1h9Kf0PJ -O trainable_weights1 # epoch1"
      ],
      "metadata": {
        "id": "DqSfWMRZcvbr"
      },
      "execution_count": null,
      "outputs": []
    },
    {
      "cell_type": "code",
      "source": [
        "for i in range(2, 0, -1):\n",
        "    model = Decoder(cfg).to(device)\n",
        "    model.load_state_dict(torch.load(f'/content/trainable_weights{i}', map_location=device), strict=False)\n",
        "    print(f'---------- trainable weights {i} is using ----------')\n",
        "\n",
        "    evaluation_dict = {}\n",
        "    for data in tqdm(val_loader):\n",
        "        img = data['img'].to(device)\n",
        "        file_name = data['filename']\n",
        "        start_token = torch.tensor([[50256]]).to(device)\n",
        "\n",
        "        for j in range(250):\n",
        "            with torch.no_grad():\n",
        "                pred, weights = model(start_token, img)\n",
        "                # print(weights.size())\n",
        "\n",
        "            out_token = pred.argmax(dim=2)[0][-1]\n",
        "            start_token = torch.cat((start_token, out_token.unsqueeze(0).unsqueeze(0)), dim=1)\n",
        "            end_token = torch.sum(start_token[0] == 50256).item()\n",
        "            if end_token == 2:\n",
        "                pred_token = start_token[start_token != 50256]\n",
        "                pred_token = pred_token.tolist()\n",
        "                pred_caption = encoding.decode(pred_token)\n",
        "                break\n",
        "\n",
        "        evaluation_dict[file_name[0]] = pred_caption\n",
        "        print('\\n', 'file name: ', file_name[0], '\\caption: ', evaluation_dict[file_name[0]])\n",
        "\n",
        "    json_string = json.dumps(evaluation_dict, indent=2)  # The indent parameter is optional and adds indentation for better readability\n",
        "    with open(f'/content/drive/MyDrive/NTU_DLCV/Hw3/p2_output/large_epoch{i}_output.json', 'w') as json_file:\n",
        "        json_file.write(json_string)\n",
        "    print(f'---------- Epoch{i} large params Saved ----------')\n",
        "    with open('output.json', 'w') as json_file:\n",
        "        json_file.write(json_string)"
      ],
      "metadata": {
        "id": "GnNNQ6q4GO9e"
      },
      "execution_count": null,
      "outputs": []
    },
    {
      "cell_type": "markdown",
      "source": [
        "#### CIDEr & CLIPScore"
      ],
      "metadata": {
        "id": "VGr3qxH5quie"
      }
    },
    {
      "cell_type": "code",
      "source": [
        "!gdown 1SUiRrG6zQVtyrVSVh9hOBq5_fX-oV2Lh -O hw3_data.zip # 11rP6KmR5Qwjhx0rfag0b5TZGBTRuPtQR\n",
        "!unzip /content/hw3_data.zip"
      ],
      "metadata": {
        "id": "L1bN1UeOP6bN"
      },
      "execution_count": null,
      "outputs": []
    },
    {
      "cell_type": "code",
      "source": [
        "import json\n",
        "\n",
        "with open('/content/large_epoch6_output.json', 'r') as file:\n",
        "    data = json.load(file)"
      ],
      "metadata": {
        "id": "Kxn5Fa3dP61z"
      },
      "execution_count": null,
      "outputs": []
    },
    {
      "cell_type": "code",
      "source": [
        "!gdown 1VKQV8b5IIL6AWXnNlOXe45_njmUDyWCP -O large_epoch5_output.json"
      ],
      "metadata": {
        "id": "tuAxalXQP8bZ"
      },
      "execution_count": null,
      "outputs": []
    },
    {
      "cell_type": "code",
      "source": [
        "!pip install git+https://github.com/openai/CLIP.git"
      ],
      "metadata": {
        "id": "1OTLFea5quTY"
      },
      "execution_count": null,
      "outputs": []
    },
    {
      "cell_type": "code",
      "source": [
        "!pip install git+https://github.com/bckim92/language-evaluation.git\n",
        "!python -c \"import language_evaluation; language_evaluation.download('coco')\""
      ],
      "metadata": {
        "id": "OawD8CsqY1xs"
      },
      "execution_count": null,
      "outputs": []
    },
    {
      "cell_type": "code",
      "source": [
        "!python3 /content/p2_evaluate.py --pred_file /content/large_epoch6_output.json --annotation_file /content/hw3_data/p2_data/val.json --images_root /content/hw3_data/p2_data/images/val"
      ],
      "metadata": {
        "id": "swSotJrRqxS2"
      },
      "execution_count": null,
      "outputs": []
    }
  ]
}