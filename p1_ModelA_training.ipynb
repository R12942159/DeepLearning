{
  "nbformat": 4,
  "nbformat_minor": 0,
  "metadata": {
    "colab": {
      "provenance": [],
      "gpuType": "T4",
      "include_colab_link": true
    },
    "kernelspec": {
      "name": "python3",
      "display_name": "Python 3"
    },
    "language_info": {
      "name": "python"
    },
    "accelerator": "GPU"
  },
  "cells": [
    {
      "cell_type": "markdown",
      "metadata": {
        "id": "view-in-github",
        "colab_type": "text"
      },
      "source": [
        "<a href=\"https://colab.research.google.com/github/R12942159/NTU_DLCV/blob/Hw2/p1_ModelA_training.ipynb\" target=\"_parent\"><img src=\"https://colab.research.google.com/assets/colab-badge.svg\" alt=\"Open In Colab\"/></a>"
      ]
    },
    {
      "cell_type": "code",
      "source": [
        "import os\n",
        "import torch\n",
        "import numpy as np\n",
        "import pandas as pd\n",
        "from torch import nn\n",
        "from PIL import Image\n",
        "from tqdm import tqdm\n",
        "import torch.nn.functional as F\n",
        "import torchvision.transforms as tr\n",
        "from torchvision.utils import make_grid"
      ],
      "metadata": {
        "id": "fZ2fAKp1hmWs"
      },
      "execution_count": 14,
      "outputs": []
    },
    {
      "cell_type": "markdown",
      "source": [
        "#### Download Mnist data"
      ],
      "metadata": {
        "id": "eWpoEAnlhwRC"
      }
    },
    {
      "cell_type": "code",
      "source": [
        "from google.colab import drive\n",
        "drive.mount('/content/drive')"
      ],
      "metadata": {
        "id": "fFZCm2DFhtSZ",
        "colab": {
          "base_uri": "https://localhost:8080/"
        },
        "outputId": "4ce838ec-0668-4cad-a38d-7cddb14224c6"
      },
      "execution_count": 2,
      "outputs": [
        {
          "output_type": "stream",
          "name": "stdout",
          "text": [
            "Mounted at /content/drive\n"
          ]
        }
      ]
    },
    {
      "cell_type": "code",
      "source": [
        "# !pip install gsutil\n",
        "# !gsutil cp /content/drive/MyDrive/NTU_DLCV/Hw2/hw2_data.zip /content/hw2_data.zip\n",
        "!unzip /content/hw2_data.zip"
      ],
      "metadata": {
        "id": "9NBLL6bPhv0Y"
      },
      "execution_count": null,
      "outputs": []
    },
    {
      "cell_type": "code",
      "source": [
        "train_csv = pd.read_csv('/content/hw2_data/digits/mnistm/train.csv').values.tolist()\n",
        "val_csv = pd.read_csv('/content/hw2_data/digits/mnistm/val.csv').values.tolist()"
      ],
      "metadata": {
        "id": "cr1kx3IwicZp"
      },
      "execution_count": 6,
      "outputs": []
    },
    {
      "cell_type": "markdown",
      "source": [
        "#### Get cuda from GPU"
      ],
      "metadata": {
        "id": "UdZGyuq0karg"
      }
    },
    {
      "cell_type": "code",
      "source": [
        "device = \"cuda\" if torch.cuda.is_available() else \"cpu\"\n",
        "print(f\"Using: {device}\")"
      ],
      "metadata": {
        "colab": {
          "base_uri": "https://localhost:8080/"
        },
        "id": "l9VpOFWkkdEk",
        "outputId": "234b279a-a397-4974-97aa-b1638df6a94e"
      },
      "execution_count": 7,
      "outputs": [
        {
          "output_type": "stream",
          "name": "stdout",
          "text": [
            "Using: cuda\n"
          ]
        }
      ]
    },
    {
      "cell_type": "markdown",
      "source": [
        "#### Construct a Dataset"
      ],
      "metadata": {
        "id": "1ZR3ues4hh2V"
      }
    },
    {
      "cell_type": "code",
      "source": [
        "class MnistDataset(torch.utils.data.Dataset):\n",
        "    def __init__(self, train_csv: list, test_csv: list, join_path: str, transform) -> None:\n",
        "        self.transform = transform\n",
        "        self.img_paths = []\n",
        "        self.img_labels = []\n",
        "\n",
        "        for data_csv in [train_csv, test_csv]:\n",
        "            for row in data_csv:\n",
        "                self.img_paths.append(os.path.join(join_path, row[0]))\n",
        "                self.img_labels.append(row[1])\n",
        "        assert len(self.img_paths) == len(self.img_labels)\n",
        "\n",
        "    def __len__(self):\n",
        "        return len(self.img_paths)\n",
        "\n",
        "    def __getitem__(self, idx) -> (torch.Tensor, int):\n",
        "        img_path = self.img_paths[idx]\n",
        "        img = Image.open(img_path).convert('RGB')\n",
        "        img = self.transform(img)\n",
        "\n",
        "        label = self.img_labels[idx]\n",
        "        return img, label"
      ],
      "metadata": {
        "id": "wOuGQZithUKk"
      },
      "execution_count": 16,
      "outputs": []
    },
    {
      "cell_type": "code",
      "source": [
        "BATCH_SIZE = 256\n",
        "\n",
        "mean=[0.485, 0.456, 0.406]\n",
        "std=[0.229, 0.224, 0.225]\n",
        "\n",
        "dataset = MnistDataset(train_csv,\n",
        "                  val_csv,\n",
        "                  join_path = '/content/hw2_data/digits/mnistm/data',\n",
        "                  transform = tr.Compose([\n",
        "                      tr.ToTensor(),\n",
        "                      tr.Normalize(mean=mean, std=std),\n",
        "                  ]),\n",
        "                  )\n",
        "dataset_loader = torch.utils.data.DataLoader(dataset, BATCH_SIZE, shuffle=True, num_workers=4)"
      ],
      "metadata": {
        "id": "iMas3Y0-iQma"
      },
      "execution_count": 17,
      "outputs": []
    },
    {
      "cell_type": "markdown",
      "source": [
        "#### Build UNet Model"
      ],
      "metadata": {
        "id": "MKNnyqtEHTKQ"
      }
    },
    {
      "cell_type": "code",
      "source": [
        "class ConvBlock(nn.Module):\n",
        "    def __init__(self, in_channels: int, out_channels: int, residual: bool=False) -> None:\n",
        "        super().__init__()\n",
        "        self.in_cahnnels = in_channels\n",
        "        self_out_channels = out_channels\n",
        "        self.residual = residual\n",
        "\n",
        "        self.conv1 = nn.Sequential(\n",
        "            nn.Conv2d(in_channels, out_channels, kernel_size=3, stride=1, padding=1),\n",
        "            nn.GroupNorm(1, out_channels),\n",
        "            nn.GELU()\n",
        "        )\n",
        "        self.conv2 = nn.Sequential(\n",
        "            nn.Conv2d(out_channels, out_channels, 3, 1, 1),\n",
        "            nn.GroupNorm(1, out_channels),\n",
        "            nn.GELU()\n",
        "        )\n",
        "\n",
        "    def forward(self, x: torch.Tensor) -> torch.Tensor:\n",
        "        x1 = self.conv1(x)\n",
        "        x2 = self.conv2(x1)\n",
        "        if self.residual:\n",
        "            if self.in_channels == self.out_channels:\n",
        "                out = x + x2\n",
        "            else:\n",
        "                out = x1 + x2\n",
        "            return out / 1.414\n",
        "        else:\n",
        "            return x2\n",
        "\n",
        "\n",
        "class Encoder_set(nn.Module):\n",
        "    def __init__(self, in_channels, out_channels) -> None:\n",
        "        super().__init__()\n",
        "        self.encoder_set = nn.Sequential(\n",
        "            ConvBlock(in_channels, out_channels),\n",
        "            nn.MaxPool2d(2),\n",
        "        )\n",
        "\n",
        "    def forward(self, x):\n",
        "        return self.encoder_set(x)\n",
        "\n",
        "\n",
        "class Decoder_set(nn.Module):\n",
        "    def __init__(self, in_channels, out_channels) -> None:\n",
        "        super().__init__()\n",
        "        self.decoder_set = nn.Sequential(\n",
        "            nn.ConvTranspose2d(in_channels, out_channels, 2, 2),\n",
        "            ConvBlock(out_channels, out_channels),\n",
        "            ConvBlock(out_channels, out_channels)\n",
        "        )\n",
        "\n",
        "    def forward(self, x, skip_connect):\n",
        "        x = torch.cat((x, skip_connect), 1)\n",
        "        x = self.decoder_set(x)\n",
        "\n",
        "        return x\n",
        "\n",
        "\n",
        "class EmbeddingFC(nn.Module):\n",
        "    def __init__(self, input_dim, output_dim) -> None:\n",
        "        super().__init__()\n",
        "        self.input_dim = input_dim\n",
        "        self.embeddingfc = nn.Sequential(\n",
        "            nn.Linear(input_dim, output_dim),\n",
        "            nn.GELU(),\n",
        "            nn.Linear(output_dim, output_dim),\n",
        "        )\n",
        "\n",
        "    def forward(self, x):\n",
        "        x = x.view(-1, self.input_dim)\n",
        "        x = self.embeddingfc(x)\n",
        "\n",
        "        return x\n",
        "\n",
        "class UNet(nn.Module):\n",
        "    def __init__(self, in_channels, n_features, n_classes) -> None:\n",
        "        super().__init__()\n",
        "        self.in_channels = in_channels\n",
        "        self.n_features = n_features\n",
        "        self.n_classes = n_classes\n",
        "\n",
        "        self.init_conv = ConvBlock(in_channels, n_features, residual=True)\n",
        "\n",
        "        self.encoder1 = Encoder_set(n_features, 1 * n_features)\n",
        "        self.encoder2 = Encoder_set(n_features, 2 * n_features)\n",
        "\n",
        "        self.to_vec = nn.Sequential(\n",
        "            nn.AvgPool2d(7),\n",
        "            nn.GELU(),\n",
        "        )\n",
        "\n",
        "        self.timeembedding1 = EmbeddingFC(1, 2 * n_features)\n",
        "        self.timeembedding2 = EmbeddingFC(1, 1 * n_features)\n",
        "\n",
        "        self.contextembedding1 = EmbeddingFC(n_classes, 2 * n_features)\n",
        "        self.contextembedding2 = EmbeddingFC(n_classes, 1 * n_features)\n",
        "\n",
        "        self.decoder0 = nn.Sequential(\n",
        "            nn.ConvTranspose2d(2 * n_features, 2 * n_features, 7, 7),\n",
        "            nn.GroupNorm(8, 2 * n_features),\n",
        "            nn.ReLU(),\n",
        "        )\n",
        "        self.decoder1 = Decoder_set(4 * n_features, n_features)\n",
        "        self.decoder2 = Decoder_set(2 * n_features, n_features)\n",
        "        self.out = nn.Sequential(\n",
        "            nn.Conv2d(2 * n_features, n_features, 3, 1, 1),\n",
        "            nn.GroupNorm(8, n_features),\n",
        "            nn.ReLU(),\n",
        "            nn.Conv2d(n_features, self.in_channels, 3, 1, 1)\n",
        "        )\n",
        "\n",
        "    def forward(self, x, c, t, context_mask):\n",
        "        # x is (noisy) image, c is context label, t is timestep,\n",
        "        # context_mask says which samples to block the context on\n",
        "\n",
        "        x = self.init_conv(x)\n",
        "        encode1 = self.encoder1(x)\n",
        "        encode2 = self.encoder2(encode1)\n",
        "        hiddenvec = self.to_vec(encode2)\n",
        "\n",
        "        # convert to 1-hot embedding\n",
        "        c = nn.functional.one_hot(c, num_classes=self.n_classes).type(torch.float)\n",
        "\n",
        "        # mask out context if context_mask == 1\n",
        "        context_mask = context_mask[:, None]\n",
        "        context_mask = context_mask.repeat(1,self.n_classes)\n",
        "        context_mask = (-1*(1-context_mask)) # flip 0 <-> 1\n",
        "        c *= context_mask\n",
        "\n",
        "        # embed context with time step\n",
        "        c_embed1 = self.contextembedding1(c).view(-1, self.n_features * 2, 1, 1)\n",
        "        t_embed1 = self.timeembedding1(t).view(-1, self.n_features * 2, 1, 1)\n",
        "        c_embed2 = self.contextembedding2(c).view(-1, self.n_features * 1, 1, 1)\n",
        "        t_embed2 = self.timeembedding2(t).view(-1, self.n_features * 1, 1, 1)\n",
        "\n",
        "        decode1 = self.decoder0(hiddenvec)\n",
        "        decode2 = self.decoder1(c_embed1 * decode1 + t_embed1, encode2)\n",
        "        decode3 = self.decoder2(c_emb2 * dec2 + t_emb2, encode1)\n",
        "        out = self.out(torch.cat((decode3, x), 1))\n",
        "\n",
        "        return out\n"
      ],
      "metadata": {
        "id": "uF3qZEa8HSwm"
      },
      "execution_count": 10,
      "outputs": []
    },
    {
      "cell_type": "markdown",
      "source": [
        "#### Denoising Duffusion Probabilistic Models"
      ],
      "metadata": {
        "id": "-s3t2jCiHYA3"
      }
    },
    {
      "cell_type": "code",
      "source": [
        "class DDPM(nn.Module):\n",
        "    def __init__(self, model, beta_start: int=1e-4, beta_end: int=0.02, noise_step: int=1000, device: str='cuda', drop_prob: int=0.1) -> None:\n",
        "        super().__init__()\n",
        "        self.model = model.to(device)\n",
        "        self.beta_start = beta_start\n",
        "        self.beta_end = beta_end\n",
        "        self.noise_step = noise_step\n",
        "        self.device = device\n",
        "        self.drop_prob = drop_prob\n",
        "        self.mse_loss = nn.MSELoss()\n",
        "\n",
        "        self.beta = torch.linspace(beta_start, beta_end, noise_step).to(device)\n",
        "        self.alpha = 1 - self.beta\n",
        "        self.alpha_hat = torch.cumprod(self.alpha, dim=0)\n",
        "\n",
        "    def forward(self, x, t):\n",
        "        \"\"\"\n",
        "        this method is used in training, so samples t and noise randomly\n",
        "        \"\"\"\n",
        "\n",
        "        sqrt_alpha_hat = torch.sqrt(self.alpha_hat[t])[:, None, None, None]\n",
        "        sqrt_one_minus_alpha_hat = torch.sqrt(1 - self.alpha_hat[t])[:, None, None, None]\n",
        "        epsilon = torch.randn_like(x) # eps ~ N(0, 1)\n",
        "\n",
        "        _ts = torch.randint(1, self.noise_step+1, (x.shape[0],)).to(self.device)  # t ~ Uniform(0, noise_step)\n",
        "        noise = torch.randn_like(x)  # eps ~ N(0, 1)\n",
        "\n",
        "        # We should predict the \"error term\" from this x_t. Loss is what we return.\n",
        "        x_t = sqrt_alpha_hat * x + sqrt_one_minus_alpha_hat * epsilon\n",
        "\n",
        "        # dropout context with some probability\n",
        "        context_mask = torch.bernoulli(torch.zeros_like(t)+self.drop_prob).to(self.device)\n",
        "\n",
        "        # return MSE between added noise, and our predicted noise\n",
        "        return self.mse_loss(noise, self.model(x_t, t, _ts / self.noise_step, context_mask))\n",
        "\n",
        "    def sample(self, n_sample, size, device, guide_w = 0.0):\n",
        "        x_i = torch.randn(n_sample, *size).to(device)  # x_T ~ N(0, 1), sample initial noise\n",
        "        c_i = torch.arange(0,10).to(device) # context for us just cycles throught the mnist labels\n",
        "        c_i = c_i.repeat(n_sample // c_i.shape[0])\n",
        "\n",
        "        # don't drop context at test time\n",
        "        context_mask = torch.zeros_like(c_i).to(device)\n",
        "\n",
        "        # double the batch\n",
        "        c_i = c_i.repeat(2)\n",
        "        context_mask = context_mask.repeat(2)\n",
        "        context_mask[n_sample:] = 1.\n",
        "\n",
        "        # keep track of generated steps in case want to plot something\n",
        "        x_i_store = []\n",
        "\n",
        "        for i in range(self.noise_step, 0, -1):\n",
        "            alpha = self.alpha[i]\n",
        "            alpha_hat = self.alpha_hat[i]\n",
        "            beta = self.beta[i]\n",
        "\n",
        "            t_is = torch.tensor([i / self.noise_step]).to(device)\n",
        "            t_is = t_is.repeat(n_sample,1,1,1)\n",
        "\n",
        "            # double batch\n",
        "            x_i = x_i.repeat(2,1,1,1)\n",
        "            t_is = t_is.repeat(2,1,1,1)\n",
        "\n",
        "            if i > 1:\n",
        "                 noise = torch.randn_like(n_sample, *size)\n",
        "            else:\n",
        "                 noise = torch.zeros_like(n_sample, *size)\n",
        "\n",
        "            # split predictions and compute weighting\n",
        "            predicted_noise = self.model(x_i, c_i, t_is, context_mask)\n",
        "            epsilon1 = predicted_noise[:n_sample]\n",
        "            epsilon2 = predicted_noise[n_sample:]\n",
        "            epsilon = (1 + guide_w) * epsilon1 - guide_w * epsilon2\n",
        "            x_i = x_i[:n_sample]\n",
        "            x_i = (\n",
        "                (1 / torch.sqrt(alpha)) * (x_i - ((1 - alpha) / (torch.sqrt(1 - alpha_hat))) * predicted_noise) + torch.sqrt(beta) * noise\n",
        "            )\n",
        "            if i%20==0 or i==self.noise_step or i<8:\n",
        "                x_i_store.append(x_i.detach().cpu().numpy())\n",
        "\n",
        "        x_i_store = np.array(x_i_store)\n",
        "        return x_i, x_i_store"
      ],
      "metadata": {
        "id": "RvptaaLfQ2By"
      },
      "execution_count": 11,
      "outputs": []
    },
    {
      "cell_type": "markdown",
      "source": [
        "#### Training process"
      ],
      "metadata": {
        "id": "xrzuJ6k5ko7z"
      }
    },
    {
      "cell_type": "code",
      "source": [
        "def modling(dataloader, ddpm, optimizer):\n",
        "    ddpm.train() # to training mode.\n",
        "    optimizer.param_groups[0]['lr'] = lr * (1 - epoch / EPOCHS)\n",
        "    loss_ema = None\n",
        "    for batch_i, (x, t) in enumerate(tqdm(dataloader, leave=False)):\n",
        "        x, t = x.to(device, non_blocking=True), t.to(device, non_blocking=True) # move data to GPU\n",
        "\n",
        "        optimizer.zero_grad()\n",
        "        loss = ddpm(x, t)\n",
        "        loss.backward()\n",
        "        if loss_ema is None:\n",
        "            loss_ema = loss.item()\n",
        "        else:\n",
        "            loss_ema = 0.95 * loss_ema + 0.05 * loss.item()\n",
        "        optimizer.step() # update model params\n",
        "\n",
        "    ddpm.eval()\n",
        "    with torch.no_grad():\n",
        "        n_sample = 40\n",
        "        for w in [0.0, 0.5, 2.0]:\n",
        "            x_gen, x_gen_store = ddpm.sample(n_sample, (3, 28, 28), device, guide_w=w)\n",
        "            grid = make_grid(x_gen*(-1) + 1, nrow=3)\n",
        "            save_image(grid, f'/content/img/epoch{epoch+1}_w{w:.1f}.png')\n",
        "\n",
        "    torch.save(ddpm.state_dict(), f'/content/ckpt/epoch{epoch+1}.pth')"
      ],
      "metadata": {
        "id": "dizsb8D1kr89"
      },
      "execution_count": 12,
      "outputs": []
    },
    {
      "cell_type": "code",
      "source": [
        "EPOCHS = 100\n",
        "\n",
        "n_feature = 128\n",
        "\n",
        "Unet = UNet(in_channels=3, n_features=n_feature, n_classes=10)\n",
        "ddpm = DDPM(model=Unet)\n",
        "ddpm.to(device)\n",
        "\n",
        "lr = 1e-4\n",
        "optimizer = torch.optim.Adam(ddpm.parameters(), lr=lr)\n",
        "\n",
        "for epoch in tqdm(range(EPOCHS)):\n",
        "    print(f'epoch{epoch+1}')\n",
        "    modling(dataset_loader, ddpm, optimizer)"
      ],
      "metadata": {
        "colab": {
          "base_uri": "https://localhost:8080/",
          "height": 714
        },
        "id": "3ti4varjBIIE",
        "outputId": "51046dea-5548-4577-ae09-f824676692e4"
      },
      "execution_count": 19,
      "outputs": [
        {
          "output_type": "stream",
          "name": "stderr",
          "text": [
            "Exception ignored in: <function _MultiProcessingDataLoaderIter.__del__ at 0x79e8ed489ea0>\n",
            "Traceback (most recent call last):\n",
            "  File \"/usr/local/lib/python3.10/dist-packages/torch/utils/data/dataloader.py\", line 1478, in __del__\n",
            "    self._shutdown_workers()\n",
            "  File \"/usr/local/lib/python3.10/dist-packages/torch/utils/data/dataloader.py\", line 1442, in _shutdown_workers\n",
            "    w.join(timeout=_utils.MP_STATUS_CHECK_INTERVAL)\n",
            "  File \"/usr/lib/python3.10/multiprocessing/process.py\", line 149, in join\n",
            "    res = self._popen.wait(timeout)\n",
            "  File \"/usr/lib/python3.10/multiprocessing/popen_fork.py\", line 40, in wait\n",
            "    if not wait([self.sentinel], timeout):\n",
            "  File \"/usr/lib/python3.10/multiprocessing/connection.py\", line 931, in wait\n",
            "    ready = selector.select(timeout)\n",
            "  File \"/usr/lib/python3.10/selectors.py\", line 416, in select\n",
            "    fd_event_list = self._selector.poll(timeout)\n",
            "KeyboardInterrupt: \n",
            "  0%|          | 0/100 [00:00<?, ?it/s]"
          ]
        },
        {
          "output_type": "stream",
          "name": "stdout",
          "text": [
            "epoch1\n"
          ]
        },
        {
          "output_type": "stream",
          "name": "stderr",
          "text": [
            "\n",
            "  0%|          | 0/219 [00:00<?, ?it/s]\u001b[A\n",
            "  0%|          | 0/100 [00:01<?, ?it/s]\n"
          ]
        },
        {
          "output_type": "error",
          "ename": "AttributeError",
          "evalue": "ignored",
          "traceback": [
            "\u001b[0;31m---------------------------------------------------------------------------\u001b[0m",
            "\u001b[0;31mAttributeError\u001b[0m                            Traceback (most recent call last)",
            "\u001b[0;32m<ipython-input-19-d5fe1de0e3c6>\u001b[0m in \u001b[0;36m<cell line: 12>\u001b[0;34m()\u001b[0m\n\u001b[1;32m     12\u001b[0m \u001b[0;32mfor\u001b[0m \u001b[0mepoch\u001b[0m \u001b[0;32min\u001b[0m \u001b[0mtqdm\u001b[0m\u001b[0;34m(\u001b[0m\u001b[0mrange\u001b[0m\u001b[0;34m(\u001b[0m\u001b[0mEPOCHS\u001b[0m\u001b[0;34m)\u001b[0m\u001b[0;34m)\u001b[0m\u001b[0;34m:\u001b[0m\u001b[0;34m\u001b[0m\u001b[0;34m\u001b[0m\u001b[0m\n\u001b[1;32m     13\u001b[0m     \u001b[0mprint\u001b[0m\u001b[0;34m(\u001b[0m\u001b[0;34mf'epoch{epoch+1}'\u001b[0m\u001b[0;34m)\u001b[0m\u001b[0;34m\u001b[0m\u001b[0;34m\u001b[0m\u001b[0m\n\u001b[0;32m---> 14\u001b[0;31m     \u001b[0mmodling\u001b[0m\u001b[0;34m(\u001b[0m\u001b[0mdataset_loader\u001b[0m\u001b[0;34m,\u001b[0m \u001b[0mddpm\u001b[0m\u001b[0;34m,\u001b[0m \u001b[0moptimizer\u001b[0m\u001b[0;34m)\u001b[0m\u001b[0;34m\u001b[0m\u001b[0;34m\u001b[0m\u001b[0m\n\u001b[0m",
            "\u001b[0;32m<ipython-input-12-51974e4e2ed4>\u001b[0m in \u001b[0;36mmodling\u001b[0;34m(dataloader, model, optimizer)\u001b[0m\n\u001b[1;32m      7\u001b[0m \u001b[0;34m\u001b[0m\u001b[0m\n\u001b[1;32m      8\u001b[0m         \u001b[0moptimizer\u001b[0m\u001b[0;34m.\u001b[0m\u001b[0mzero_grad\u001b[0m\u001b[0;34m(\u001b[0m\u001b[0;34m)\u001b[0m\u001b[0;34m\u001b[0m\u001b[0;34m\u001b[0m\u001b[0m\n\u001b[0;32m----> 9\u001b[0;31m         \u001b[0mloss\u001b[0m \u001b[0;34m=\u001b[0m \u001b[0mddpm\u001b[0m\u001b[0;34m(\u001b[0m\u001b[0mx\u001b[0m\u001b[0;34m,\u001b[0m \u001b[0mt\u001b[0m\u001b[0;34m)\u001b[0m\u001b[0;34m\u001b[0m\u001b[0;34m\u001b[0m\u001b[0m\n\u001b[0m\u001b[1;32m     10\u001b[0m         \u001b[0mloss\u001b[0m\u001b[0;34m.\u001b[0m\u001b[0mbackward\u001b[0m\u001b[0;34m(\u001b[0m\u001b[0;34m)\u001b[0m\u001b[0;34m\u001b[0m\u001b[0;34m\u001b[0m\u001b[0m\n\u001b[1;32m     11\u001b[0m         \u001b[0;32mif\u001b[0m \u001b[0mloss_ema\u001b[0m \u001b[0;32mis\u001b[0m \u001b[0;32mNone\u001b[0m\u001b[0;34m:\u001b[0m\u001b[0;34m\u001b[0m\u001b[0;34m\u001b[0m\u001b[0m\n",
            "\u001b[0;32m/usr/local/lib/python3.10/dist-packages/torch/nn/modules/module.py\u001b[0m in \u001b[0;36m_wrapped_call_impl\u001b[0;34m(self, *args, **kwargs)\u001b[0m\n\u001b[1;32m   1516\u001b[0m             \u001b[0;32mreturn\u001b[0m \u001b[0mself\u001b[0m\u001b[0;34m.\u001b[0m\u001b[0m_compiled_call_impl\u001b[0m\u001b[0;34m(\u001b[0m\u001b[0;34m*\u001b[0m\u001b[0margs\u001b[0m\u001b[0;34m,\u001b[0m \u001b[0;34m**\u001b[0m\u001b[0mkwargs\u001b[0m\u001b[0;34m)\u001b[0m  \u001b[0;31m# type: ignore[misc]\u001b[0m\u001b[0;34m\u001b[0m\u001b[0;34m\u001b[0m\u001b[0m\n\u001b[1;32m   1517\u001b[0m         \u001b[0;32melse\u001b[0m\u001b[0;34m:\u001b[0m\u001b[0;34m\u001b[0m\u001b[0;34m\u001b[0m\u001b[0m\n\u001b[0;32m-> 1518\u001b[0;31m             \u001b[0;32mreturn\u001b[0m \u001b[0mself\u001b[0m\u001b[0;34m.\u001b[0m\u001b[0m_call_impl\u001b[0m\u001b[0;34m(\u001b[0m\u001b[0;34m*\u001b[0m\u001b[0margs\u001b[0m\u001b[0;34m,\u001b[0m \u001b[0;34m**\u001b[0m\u001b[0mkwargs\u001b[0m\u001b[0;34m)\u001b[0m\u001b[0;34m\u001b[0m\u001b[0;34m\u001b[0m\u001b[0m\n\u001b[0m\u001b[1;32m   1519\u001b[0m \u001b[0;34m\u001b[0m\u001b[0m\n\u001b[1;32m   1520\u001b[0m     \u001b[0;32mdef\u001b[0m \u001b[0m_call_impl\u001b[0m\u001b[0;34m(\u001b[0m\u001b[0mself\u001b[0m\u001b[0;34m,\u001b[0m \u001b[0;34m*\u001b[0m\u001b[0margs\u001b[0m\u001b[0;34m,\u001b[0m \u001b[0;34m**\u001b[0m\u001b[0mkwargs\u001b[0m\u001b[0;34m)\u001b[0m\u001b[0;34m:\u001b[0m\u001b[0;34m\u001b[0m\u001b[0;34m\u001b[0m\u001b[0m\n",
            "\u001b[0;32m/usr/local/lib/python3.10/dist-packages/torch/nn/modules/module.py\u001b[0m in \u001b[0;36m_call_impl\u001b[0;34m(self, *args, **kwargs)\u001b[0m\n\u001b[1;32m   1525\u001b[0m                 \u001b[0;32mor\u001b[0m \u001b[0m_global_backward_pre_hooks\u001b[0m \u001b[0;32mor\u001b[0m \u001b[0m_global_backward_hooks\u001b[0m\u001b[0;34m\u001b[0m\u001b[0;34m\u001b[0m\u001b[0m\n\u001b[1;32m   1526\u001b[0m                 or _global_forward_hooks or _global_forward_pre_hooks):\n\u001b[0;32m-> 1527\u001b[0;31m             \u001b[0;32mreturn\u001b[0m \u001b[0mforward_call\u001b[0m\u001b[0;34m(\u001b[0m\u001b[0;34m*\u001b[0m\u001b[0margs\u001b[0m\u001b[0;34m,\u001b[0m \u001b[0;34m**\u001b[0m\u001b[0mkwargs\u001b[0m\u001b[0;34m)\u001b[0m\u001b[0;34m\u001b[0m\u001b[0;34m\u001b[0m\u001b[0m\n\u001b[0m\u001b[1;32m   1528\u001b[0m \u001b[0;34m\u001b[0m\u001b[0m\n\u001b[1;32m   1529\u001b[0m         \u001b[0;32mtry\u001b[0m\u001b[0;34m:\u001b[0m\u001b[0;34m\u001b[0m\u001b[0;34m\u001b[0m\u001b[0m\n",
            "\u001b[0;32m<ipython-input-11-08fc536e47bd>\u001b[0m in \u001b[0;36mforward\u001b[0;34m(self, x, t)\u001b[0m\n\u001b[1;32m     23\u001b[0m         \u001b[0mepsilon\u001b[0m \u001b[0;34m=\u001b[0m \u001b[0mtorch\u001b[0m\u001b[0;34m.\u001b[0m\u001b[0mrandn_like\u001b[0m\u001b[0;34m(\u001b[0m\u001b[0mx\u001b[0m\u001b[0;34m)\u001b[0m \u001b[0;31m# eps ~ N(0, 1)\u001b[0m\u001b[0;34m\u001b[0m\u001b[0;34m\u001b[0m\u001b[0m\n\u001b[1;32m     24\u001b[0m \u001b[0;34m\u001b[0m\u001b[0m\n\u001b[0;32m---> 25\u001b[0;31m         \u001b[0m_ts\u001b[0m \u001b[0;34m=\u001b[0m \u001b[0mtorch\u001b[0m\u001b[0;34m.\u001b[0m\u001b[0mrandint\u001b[0m\u001b[0;34m(\u001b[0m\u001b[0;36m1\u001b[0m\u001b[0;34m,\u001b[0m \u001b[0mself\u001b[0m\u001b[0;34m.\u001b[0m\u001b[0mn_T\u001b[0m\u001b[0;34m+\u001b[0m\u001b[0;36m1\u001b[0m\u001b[0;34m,\u001b[0m \u001b[0;34m(\u001b[0m\u001b[0mx\u001b[0m\u001b[0;34m.\u001b[0m\u001b[0mshape\u001b[0m\u001b[0;34m[\u001b[0m\u001b[0;36m0\u001b[0m\u001b[0;34m]\u001b[0m\u001b[0;34m,\u001b[0m\u001b[0;34m)\u001b[0m\u001b[0;34m)\u001b[0m\u001b[0;34m.\u001b[0m\u001b[0mto\u001b[0m\u001b[0;34m(\u001b[0m\u001b[0mself\u001b[0m\u001b[0;34m.\u001b[0m\u001b[0mdevice\u001b[0m\u001b[0;34m)\u001b[0m  \u001b[0;31m# t ~ Uniform(0, n_T)\u001b[0m\u001b[0;34m\u001b[0m\u001b[0;34m\u001b[0m\u001b[0m\n\u001b[0m\u001b[1;32m     26\u001b[0m         \u001b[0mnoise\u001b[0m \u001b[0;34m=\u001b[0m \u001b[0mtorch\u001b[0m\u001b[0;34m.\u001b[0m\u001b[0mrandn_like\u001b[0m\u001b[0;34m(\u001b[0m\u001b[0mx\u001b[0m\u001b[0;34m)\u001b[0m  \u001b[0;31m# eps ~ N(0, 1)\u001b[0m\u001b[0;34m\u001b[0m\u001b[0;34m\u001b[0m\u001b[0m\n\u001b[1;32m     27\u001b[0m \u001b[0;34m\u001b[0m\u001b[0m\n",
            "\u001b[0;32m/usr/local/lib/python3.10/dist-packages/torch/nn/modules/module.py\u001b[0m in \u001b[0;36m__getattr__\u001b[0;34m(self, name)\u001b[0m\n\u001b[1;32m   1693\u001b[0m             \u001b[0;32mif\u001b[0m \u001b[0mname\u001b[0m \u001b[0;32min\u001b[0m \u001b[0mmodules\u001b[0m\u001b[0;34m:\u001b[0m\u001b[0;34m\u001b[0m\u001b[0;34m\u001b[0m\u001b[0m\n\u001b[1;32m   1694\u001b[0m                 \u001b[0;32mreturn\u001b[0m \u001b[0mmodules\u001b[0m\u001b[0;34m[\u001b[0m\u001b[0mname\u001b[0m\u001b[0;34m]\u001b[0m\u001b[0;34m\u001b[0m\u001b[0;34m\u001b[0m\u001b[0m\n\u001b[0;32m-> 1695\u001b[0;31m         \u001b[0;32mraise\u001b[0m \u001b[0mAttributeError\u001b[0m\u001b[0;34m(\u001b[0m\u001b[0;34mf\"'{type(self).__name__}' object has no attribute '{name}'\"\u001b[0m\u001b[0;34m)\u001b[0m\u001b[0;34m\u001b[0m\u001b[0;34m\u001b[0m\u001b[0m\n\u001b[0m\u001b[1;32m   1696\u001b[0m \u001b[0;34m\u001b[0m\u001b[0m\n\u001b[1;32m   1697\u001b[0m     \u001b[0;32mdef\u001b[0m \u001b[0m__setattr__\u001b[0m\u001b[0;34m(\u001b[0m\u001b[0mself\u001b[0m\u001b[0;34m,\u001b[0m \u001b[0mname\u001b[0m\u001b[0;34m:\u001b[0m \u001b[0mstr\u001b[0m\u001b[0;34m,\u001b[0m \u001b[0mvalue\u001b[0m\u001b[0;34m:\u001b[0m \u001b[0mUnion\u001b[0m\u001b[0;34m[\u001b[0m\u001b[0mTensor\u001b[0m\u001b[0;34m,\u001b[0m \u001b[0;34m'Module'\u001b[0m\u001b[0;34m]\u001b[0m\u001b[0;34m)\u001b[0m \u001b[0;34m->\u001b[0m \u001b[0;32mNone\u001b[0m\u001b[0;34m:\u001b[0m\u001b[0;34m\u001b[0m\u001b[0;34m\u001b[0m\u001b[0m\n",
            "\u001b[0;31mAttributeError\u001b[0m: 'DDPM' object has no attribute 'n_T'"
          ]
        }
      ]
    }
  ]
}