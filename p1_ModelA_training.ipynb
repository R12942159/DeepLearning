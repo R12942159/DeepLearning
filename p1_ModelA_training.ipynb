{
  "nbformat": 4,
  "nbformat_minor": 0,
  "metadata": {
    "colab": {
      "provenance": [],
      "gpuType": "T4",
      "include_colab_link": true
    },
    "kernelspec": {
      "name": "python3",
      "display_name": "Python 3"
    },
    "language_info": {
      "name": "python"
    },
    "accelerator": "GPU"
  },
  "cells": [
    {
      "cell_type": "markdown",
      "metadata": {
        "id": "view-in-github",
        "colab_type": "text"
      },
      "source": [
        "<a href=\"https://colab.research.google.com/github/R12942159/NTU_DLCV/blob/Hw2/p1_ModelA_training.ipynb\" target=\"_parent\"><img src=\"https://colab.research.google.com/assets/colab-badge.svg\" alt=\"Open In Colab\"/></a>"
      ]
    },
    {
      "cell_type": "code",
      "source": [
        "import os\n",
        "import torch\n",
        "import numpy as np\n",
        "import pandas as pd\n",
        "from torch import nn\n",
        "from PIL import Image\n",
        "from tqdm import tqdm\n",
        "import torch.nn.functional as F\n",
        "import torchvision.transforms as tr\n",
        "from torchvision.utils import save_image, make_grid"
      ],
      "metadata": {
        "id": "fZ2fAKp1hmWs"
      },
      "execution_count": 1,
      "outputs": []
    },
    {
      "cell_type": "markdown",
      "source": [
        "#### Download Mnist data"
      ],
      "metadata": {
        "id": "eWpoEAnlhwRC"
      }
    },
    {
      "cell_type": "code",
      "source": [
        "from google.colab import drive\n",
        "drive.mount('/content/drive')"
      ],
      "metadata": {
        "id": "fFZCm2DFhtSZ",
        "colab": {
          "base_uri": "https://localhost:8080/"
        },
        "outputId": "cedbda72-8f05-4935-edab-398bf6b05f56"
      },
      "execution_count": 2,
      "outputs": [
        {
          "output_type": "stream",
          "name": "stdout",
          "text": [
            "Mounted at /content/drive\n"
          ]
        }
      ]
    },
    {
      "cell_type": "code",
      "source": [
        "!pip install gsutil\n",
        "!gsutil cp /content/drive/MyDrive/NTU_DLCV/Hw2/hw2_data.zip /content/hw2_data.zip"
      ],
      "metadata": {
        "id": "Nztx7npghoKg"
      },
      "execution_count": null,
      "outputs": []
    },
    {
      "cell_type": "code",
      "source": [
        "!unzip /content/hw2_data.zip"
      ],
      "metadata": {
        "id": "9NBLL6bPhv0Y"
      },
      "execution_count": null,
      "outputs": []
    },
    {
      "cell_type": "code",
      "source": [
        "train_csv = pd.read_csv('/content/hw2_data/digits/mnistm/train.csv').values.tolist()\n",
        "val_csv = pd.read_csv('/content/hw2_data/digits/mnistm/val.csv').values.tolist()"
      ],
      "metadata": {
        "id": "cr1kx3IwicZp"
      },
      "execution_count": 5,
      "outputs": []
    },
    {
      "cell_type": "code",
      "source": [
        "len(train_csv) + len(val_csv)"
      ],
      "metadata": {
        "colab": {
          "base_uri": "https://localhost:8080/"
        },
        "id": "0nP7uPFQh6Dl",
        "outputId": "a4831330-ede3-492b-ba76-f76a1f65064e"
      },
      "execution_count": 6,
      "outputs": [
        {
          "output_type": "execute_result",
          "data": {
            "text/plain": [
              "56000"
            ]
          },
          "metadata": {},
          "execution_count": 6
        }
      ]
    },
    {
      "cell_type": "markdown",
      "source": [
        "#### Get cuda from GPU"
      ],
      "metadata": {
        "id": "UdZGyuq0karg"
      }
    },
    {
      "cell_type": "code",
      "source": [
        "device = \"cuda\" if torch.cuda.is_available() else \"cpu\"\n",
        "print(f\"Using: {device}\")"
      ],
      "metadata": {
        "colab": {
          "base_uri": "https://localhost:8080/"
        },
        "id": "l9VpOFWkkdEk",
        "outputId": "0e5039a8-60b5-4c4e-e1cf-99546a803f51"
      },
      "execution_count": 7,
      "outputs": [
        {
          "output_type": "stream",
          "name": "stdout",
          "text": [
            "Using: cuda\n"
          ]
        }
      ]
    },
    {
      "cell_type": "markdown",
      "source": [
        "#### Construct a Dataset"
      ],
      "metadata": {
        "id": "1ZR3ues4hh2V"
      }
    },
    {
      "cell_type": "code",
      "source": [
        "class MnistDataset(torch.utils.data.Dataset):\n",
        "    def __init__(self, train_csv: list, test_csv: list, join_path: str, transform) -> None:\n",
        "        self.transform = transform\n",
        "        self.img_paths = []\n",
        "        self.img_labels = []\n",
        "\n",
        "        for data_csv in [train_csv, test_csv]:\n",
        "            for row in data_csv:\n",
        "                self.img_paths.append(os.path.join(join_path, row[0]))\n",
        "                self.img_labels.append(row[1])\n",
        "        assert len(self.img_paths) == len(self.img_labels)\n",
        "\n",
        "    def __len__(self):\n",
        "        return len(self.img_paths)\n",
        "\n",
        "    def __getitem__(self, idx) -> (torch.Tensor, int):\n",
        "        img_path = self.img_paths[idx]\n",
        "        img = Image.open(img_path).convert('RGB')\n",
        "        img = self.transform(img)\n",
        "\n",
        "        label = self.img_labels[idx]\n",
        "        return img, label"
      ],
      "metadata": {
        "id": "wOuGQZithUKk"
      },
      "execution_count": 8,
      "outputs": []
    },
    {
      "cell_type": "code",
      "source": [
        "BATCH_SIZE = 256\n",
        "\n",
        "mean=[0.485, 0.456, 0.406]\n",
        "std=[0.229, 0.224, 0.225]\n",
        "\n",
        "dataset = MnistDataset(train_csv,\n",
        "                  val_csv,\n",
        "                  join_path = '/content/hw2_data/digits/mnistm/data',\n",
        "                  transform = tr.Compose([\n",
        "                      tr.ToTensor(),\n",
        "                      tr.Normalize(mean=mean, std=std),\n",
        "                  ]),\n",
        "                  )\n",
        "dataset_loader = torch.utils.data.DataLoader(dataset, BATCH_SIZE, shuffle=True, num_workers=2)"
      ],
      "metadata": {
        "id": "iMas3Y0-iQma"
      },
      "execution_count": 10,
      "outputs": []
    },
    {
      "cell_type": "markdown",
      "source": [
        "#### Build UNet Model"
      ],
      "metadata": {
        "id": "MKNnyqtEHTKQ"
      }
    },
    {
      "cell_type": "code",
      "source": [
        "class ConvBlock(nn.Module):\n",
        "    def __init__(self, in_channels: int, out_channels: int, residual: bool=False) -> None:\n",
        "        super().__init__()\n",
        "        self.in_channels = in_channels\n",
        "        self.out_channels = out_channels\n",
        "        self.residual = residual\n",
        "\n",
        "        self.conv1 = nn.Sequential(\n",
        "            nn.Conv2d(in_channels, out_channels, kernel_size=3, stride=1, padding=1),\n",
        "            nn.GroupNorm(1, out_channels),\n",
        "            nn.GELU()\n",
        "        )\n",
        "        self.conv2 = nn.Sequential(\n",
        "            nn.Conv2d(out_channels, out_channels, 3, 1, 1),\n",
        "            nn.GroupNorm(1, out_channels),\n",
        "            nn.GELU()\n",
        "        )\n",
        "\n",
        "    def forward(self, x: torch.Tensor) -> torch.Tensor:\n",
        "        x1 = self.conv1(x)\n",
        "        x2 = self.conv2(x1)\n",
        "        if self.residual:\n",
        "            if self.in_channels == self.out_channels:\n",
        "                out = x + x2\n",
        "            else:\n",
        "                out = x1 + x2\n",
        "            return out / 1.414\n",
        "        else:\n",
        "            return x2\n",
        "\n",
        "\n",
        "class Encoder_set(nn.Module):\n",
        "    def __init__(self, in_channels, out_channels) -> None:\n",
        "        super().__init__()\n",
        "        self.encoder_set = nn.Sequential(\n",
        "            ConvBlock(in_channels, out_channels),\n",
        "            nn.MaxPool2d(2),\n",
        "        )\n",
        "\n",
        "    def forward(self, x):\n",
        "        return self.encoder_set(x)\n",
        "\n",
        "\n",
        "class Decoder_set(nn.Module):\n",
        "    def __init__(self, in_channels, out_channels) -> None:\n",
        "        super().__init__()\n",
        "        self.decoder_set = nn.Sequential(\n",
        "            nn.ConvTranspose2d(in_channels, out_channels, 2, 2),\n",
        "            ConvBlock(out_channels, out_channels),\n",
        "            ConvBlock(out_channels, out_channels)\n",
        "        )\n",
        "\n",
        "    def forward(self, x, skip_connect):\n",
        "        x = torch.cat((x, skip_connect), 1)\n",
        "        x = self.decoder_set(x)\n",
        "\n",
        "        return x\n",
        "\n",
        "\n",
        "class EmbeddingFC(nn.Module):\n",
        "    def __init__(self, input_dim, output_dim) -> None:\n",
        "        super().__init__()\n",
        "        self.input_dim = input_dim\n",
        "        self.embeddingfc = nn.Sequential(\n",
        "            nn.Linear(input_dim, output_dim),\n",
        "            nn.GELU(),\n",
        "            nn.Linear(output_dim, output_dim),\n",
        "        )\n",
        "\n",
        "    def forward(self, x):\n",
        "        x = x.view(-1, self.input_dim)\n",
        "        x = self.embeddingfc(x)\n",
        "\n",
        "        return x\n",
        "\n",
        "class UNet(nn.Module):\n",
        "    def __init__(self, in_channels, n_features, n_classes) -> None:\n",
        "        super().__init__()\n",
        "        self.in_channels = in_channels\n",
        "        self.n_features = n_features\n",
        "        self.n_classes = n_classes\n",
        "\n",
        "        self.init_conv = ConvBlock(in_channels, n_features, residual=True)\n",
        "\n",
        "        self.encoder1 = Encoder_set(n_features, 1 * n_features)\n",
        "        self.encoder2 = Encoder_set(n_features, 2 * n_features)\n",
        "\n",
        "        self.to_vec = nn.Sequential(\n",
        "            nn.AvgPool2d(7),\n",
        "            nn.GELU(),\n",
        "        )\n",
        "\n",
        "        self.timeembedding1 = EmbeddingFC(1, 2 * n_features)\n",
        "        self.timeembedding2 = EmbeddingFC(1, 1 * n_features)\n",
        "\n",
        "        self.contextembedding1 = EmbeddingFC(n_classes, 2 * n_features)\n",
        "        self.contextembedding2 = EmbeddingFC(n_classes, 1 * n_features)\n",
        "\n",
        "        self.decoder0 = nn.Sequential(\n",
        "            nn.ConvTranspose2d(2 * n_features, 2 * n_features, 7, 7),\n",
        "            nn.GroupNorm(8, 2 * n_features),\n",
        "            nn.ReLU(),\n",
        "        )\n",
        "        self.decoder1 = Decoder_set(4 * n_features, n_features)\n",
        "        self.decoder2 = Decoder_set(2 * n_features, n_features)\n",
        "        self.out = nn.Sequential(\n",
        "            nn.Conv2d(2 * n_features, n_features, 3, 1, 1),\n",
        "            nn.GroupNorm(8, n_features),\n",
        "            nn.ReLU(),\n",
        "            nn.Conv2d(n_features, self.in_channels, 3, 1, 1)\n",
        "        )\n",
        "\n",
        "    def forward(self, x, c, t, context_mask):\n",
        "        # x is (noisy) image, c is context label, t is timestep,\n",
        "        # context_mask says which samples to block the context on\n",
        "\n",
        "        x = self.init_conv(x)\n",
        "        encode1 = self.encoder1(x)\n",
        "        encode2 = self.encoder2(encode1)\n",
        "        hiddenvec = self.to_vec(encode2)\n",
        "\n",
        "        # convert to 1-hot embedding\n",
        "        c = nn.functional.one_hot(c, num_classes=self.n_classes).type(torch.float)\n",
        "\n",
        "        # mask out context if context_mask == 1\n",
        "        context_mask = context_mask[:, None]\n",
        "        context_mask = context_mask.repeat(1,self.n_classes)\n",
        "        context_mask = (-1*(1-context_mask)) # flip 0 <-> 1\n",
        "        c *= context_mask\n",
        "\n",
        "        # embed context with time step\n",
        "        c_embed1 = self.contextembedding1(c).view(-1, self.n_features * 2, 1, 1)\n",
        "        t_embed1 = self.timeembedding1(t).view(-1, self.n_features * 2, 1, 1)\n",
        "        c_embed2 = self.contextembedding2(c).view(-1, self.n_features * 1, 1, 1)\n",
        "        t_embed2 = self.timeembedding2(t).view(-1, self.n_features * 1, 1, 1)\n",
        "\n",
        "        decode1 = self.decoder0(hiddenvec)\n",
        "        decode2 = self.decoder1(c_embed1 * decode1 + t_embed1, encode2)\n",
        "        decode3 = self.decoder2(c_embed2 * decode2 + t_embed2, encode1)\n",
        "        out = self.out(torch.cat((decode3, x), 1))\n",
        "\n",
        "        return out\n"
      ],
      "metadata": {
        "id": "uF3qZEa8HSwm"
      },
      "execution_count": 11,
      "outputs": []
    },
    {
      "cell_type": "markdown",
      "source": [
        "#### Denoising Duffusion Probabilistic Models"
      ],
      "metadata": {
        "id": "-s3t2jCiHYA3"
      }
    },
    {
      "cell_type": "markdown",
      "source": [
        "$\n",
        "\\beta_t = \\beta_1 + (\\beta_2 - \\beta_1) * \\frac{range(0, T + 1)}{T} \\\\\n",
        "\\alpha_t  = 1 - \\beta_t \\\\\n",
        "\\hat{\\alpha_t} = \\prod_{s=1}^{t}(1 - \\beta_s) = \\prod_{s=1}^{t}\\alpha_t\n",
        "$"
      ],
      "metadata": {
        "id": "zi2VAt_gTBKr"
      }
    },
    {
      "cell_type": "code",
      "source": [
        "def ddpm_schedules(beta1, beta2, T):\n",
        "    assert beta1 < beta2 < 1.0\n",
        "\n",
        "    beta_t = (beta2 - beta1) * torch.arange(0, T + 1, dtype=torch.float32) / T + beta1\n",
        "    sqrt_beta_t = torch.sqrt(beta_t)\n",
        "    alpha_t = 1 - beta_t\n",
        "    alphabar_t = torch.cumprod(alpha_t, dim=0)\n",
        "\n",
        "    sqrtab = torch.sqrt(alphabar_t)\n",
        "    oneover_sqrta = 1 / torch.sqrt(alpha_t)\n",
        "\n",
        "    sqrtmab = torch.sqrt(1 - alphabar_t)\n",
        "    mab_over_sqrtmab_inv = (1 - alpha_t) / sqrtmab\n",
        "\n",
        "    return {\n",
        "        \"alpha_t\": alpha_t,\n",
        "        \"oneover_sqrta\": oneover_sqrta,\n",
        "        \"sqrt_beta_t\": sqrt_beta_t,\n",
        "        \"alphabar_t\": alphabar_t,\n",
        "        \"sqrtab\": sqrtab,\n",
        "        \"sqrtmab\": sqrtmab,\n",
        "        \"mab_over_sqrtmab\": mab_over_sqrtmab_inv,\n",
        "    }"
      ],
      "metadata": {
        "id": "gBh33rxcz-kD"
      },
      "execution_count": 12,
      "outputs": []
    },
    {
      "cell_type": "markdown",
      "source": [
        "\n",
        "\"alpha_t\": $\\alpha_t$\n",
        "\"oneover_sqrta\": $\\frac{1}{\\sqrt{\\alpha_t}}$\n",
        "\"sqrt_beta_t\": $\\sqrt{\\beta_t}$\n",
        "\"alphabar_t\": $\\bar{\\alpha_t}$\n",
        "\"sqrtab\": $\\sqrt{\\bar{\\alpha_t}}$\n",
        "\"sqrtmab\": $\\sqrt{1-\\bar{\\alpha_t}}$\n",
        "\"mab_over_sqrtmab\": $\\frac{(1-\\alpha_t)}{\\sqrt{1-\\bar{\\alpha_t}}}$\n"
      ],
      "metadata": {
        "id": "9RmLWTI2SmH7"
      }
    },
    {
      "cell_type": "code",
      "source": [
        "class DDPM(nn.Module):\n",
        "    def __init__(self, model, beta_start: int=1e-4, beta_end: int=0.02, noise_step: int=1000, device: str='cuda', drop_prob: int=0.1) -> None:\n",
        "        super().__init__()\n",
        "        self.model = model.to(device)\n",
        "        self.noise_step = noise_step\n",
        "        self.device = device\n",
        "        self.drop_prob = drop_prob\n",
        "        self.mse_loss = nn.MSELoss()\n",
        "\n",
        "        for k, v in ddpm_schedules(beta_start, beta_end, noise_step).items():\n",
        "            self.register_buffer(k, v)\n",
        "\n",
        "    def forward(self, x, t):\n",
        "        #  x.shape[0] is batch_size; x = (batch_size, 3, 28, 28)\n",
        "        _ts = torch.randint(1, self.noise_step + 1, (x.shape[0],)).to(self.device)  # t ~ Uniform(0, noise_step)\n",
        "        noise = torch.randn_like(x)  # eps ~ N(0, I)\n",
        "\n",
        "        # We should predict the \"error term\" from this x_t. Loss is what we return.\n",
        "        x_t = (\n",
        "            self.sqrtab[_ts, None, None, None] * x\n",
        "            + self.sqrtmab[_ts, None, None, None] * noise\n",
        "        )\n",
        "\n",
        "        # dropout context with some probability\n",
        "        context_mask = torch.bernoulli(torch.zeros_like(t)+self.drop_prob).to(self.device)\n",
        "\n",
        "        # return MSE between added noise, and our predicted noise\n",
        "        return self.mse_loss(noise, self.model(x_t, t, _ts / self.noise_step, context_mask))\n",
        "\n",
        "    def sample(self, n_sample, size, device, guide_w = 0.0):\n",
        "        x_i = torch.randn(n_sample, *size).to(device)  # x_T ~ N(0, 1), sample initial noise\n",
        "        c_i = torch.arange(0,10).to(device) # context for us just cycles throught the mnist labels\n",
        "        c_i = c_i.repeat(n_sample // c_i.shape[0])\n",
        "\n",
        "        # don't drop context at test time\n",
        "        context_mask = torch.zeros_like(c_i).to(device)\n",
        "\n",
        "        # double the batch\n",
        "        c_i = c_i.repeat(2)\n",
        "        context_mask = context_mask.repeat(2)\n",
        "        context_mask[n_sample:] = 1.\n",
        "\n",
        "        # keep track of generated steps in case want to plot something\n",
        "        x_i_store = []\n",
        "\n",
        "        for i in range(self.noise_step, 0, -1):\n",
        "            t_is = torch.tensor([i / self.noise_step]).to(device)\n",
        "            t_is = t_is.repeat(n_sample, 1, 1, 1)\n",
        "\n",
        "            # double batch\n",
        "            x_i = x_i.repeat(2, 1, 1, 1)\n",
        "            t_is = t_is.repeat(2, 1, 1, 1)\n",
        "\n",
        "            noise = torch.randn(n_sample, *size).to(device) if i > 1 else 0\n",
        "\n",
        "            # split predictions and compute weighting\n",
        "            predicted_noise = self.model(x_i, c_i, t_is, context_mask)\n",
        "            epsilon1 = predicted_noise[:n_sample]\n",
        "            epsilon2 = predicted_noise[n_sample:]\n",
        "            predicted_noise = (1 + guide_w) * epsilon1 - guide_w * epsilon2\n",
        "            x_i = x_i[:n_sample]\n",
        "            x_i = (\n",
        "                self.oneover_sqrta[i] * (x_i - predicted_noise * self.mab_over_sqrtmab[i])\n",
        "                + self.sqrt_beta_t[i] * noise\n",
        "            )\n",
        "            if i % 20 == 0 or i == self.noise_step or i < 8:\n",
        "                x_i_store.append(x_i.detach().cpu().numpy())\n",
        "\n",
        "        x_i_store = np.array(x_i_store)\n",
        "        return x_i, x_i_store"
      ],
      "metadata": {
        "id": "RvptaaLfQ2By"
      },
      "execution_count": 13,
      "outputs": []
    },
    {
      "cell_type": "markdown",
      "source": [
        "#### Training process"
      ],
      "metadata": {
        "id": "xrzuJ6k5ko7z"
      }
    },
    {
      "cell_type": "code",
      "source": [
        "def modling(dataloader, ddpm, optimizer):\n",
        "    ddpm.train() # to training mode.\n",
        "    optimizer.param_groups[0]['lr'] = lr * (1 - epoch / EPOCHS)\n",
        "    loss_ema = None\n",
        "\n",
        "    for batch_i, (x, t) in enumerate(tqdm(dataloader, leave=False)):\n",
        "        x, t = x.to(device, non_blocking=True), t.to(device, non_blocking=True) # move data to GPU\n",
        "\n",
        "        optimizer.zero_grad()\n",
        "        loss = ddpm(x, t)\n",
        "        loss.backward()\n",
        "        if loss_ema is None:\n",
        "            loss_ema = loss.item()\n",
        "        else:\n",
        "            loss_ema = 0.95 * loss_ema + 0.05 * loss.item()\n",
        "        optimizer.step() # update model params\n",
        "\n",
        "    ddpm.eval()\n",
        "    with torch.no_grad():\n",
        "        n_samples = 30\n",
        "        for w in [0, 0.5, 2]:\n",
        "            x_gen, x_gen_store = ddpm.sample(n_samples, (3, 28, 28), device, guide_w=w)\n",
        "            grid = make_grid(x_gen*(-1) + 1, nrow=3)\n",
        "            if epoch % 10 == 0:\n",
        "                save_image(grid, f'/content/drive/MyDrive/NTU_DLCV/Hw2/p1_img/epoch{epoch+1}_w{w:.1f}.png')\n",
        "    if epoch % 10 == 0:\n",
        "        torch.save(ddpm.state_dict(), f'/content/drive/MyDrive/NTU_DLCV/Hw2/p1_ckpt/epoch{epoch+1}.pth')"
      ],
      "metadata": {
        "id": "dizsb8D1kr89"
      },
      "execution_count": 17,
      "outputs": []
    },
    {
      "cell_type": "code",
      "source": [
        "EPOCHS = 300\n",
        "\n",
        "n_feature = 128 # try 256 maybe better\n",
        "\n",
        "Unet = UNet(in_channels=3, n_features=n_feature, n_classes=10)\n",
        "ddpm = DDPM(model=Unet)\n",
        "ddpm.to(device)\n",
        "\n",
        "lr = 1e-4\n",
        "optimizer = torch.optim.Adam(ddpm.parameters(), lr=lr)\n",
        "\n",
        "for epoch in tqdm(range(EPOCHS)):\n",
        "    modling(dataset_loader, ddpm, optimizer)"
      ],
      "metadata": {
        "colab": {
          "base_uri": "https://localhost:8080/",
          "height": 500
        },
        "id": "3ti4varjBIIE",
        "outputId": "0e3e877b-b854-472e-c8ef-02478edd03a5"
      },
      "execution_count": 18,
      "outputs": [
        {
          "output_type": "stream",
          "name": "stderr",
          "text": [
            "  0%|          | 0/300 [00:00<?, ?it/s]\n",
            "  0%|          | 0/219 [00:00<?, ?it/s]\u001b[A\n",
            "  0%|          | 1/219 [00:01<03:43,  1.02s/it]\u001b[A\n",
            "  1%|          | 2/219 [00:01<02:28,  1.46it/s]\u001b[A\n",
            "  1%|▏         | 3/219 [00:01<02:03,  1.76it/s]\u001b[A\n",
            "  2%|▏         | 4/219 [00:02<01:50,  1.95it/s]\u001b[A\n",
            "  2%|▏         | 5/219 [00:02<01:43,  2.07it/s]\u001b[A\n",
            "  3%|▎         | 6/219 [00:03<01:39,  2.14it/s]\u001b[A\n",
            "  3%|▎         | 7/219 [00:03<01:36,  2.20it/s]\u001b[A\n",
            "  0%|          | 0/300 [00:04<?, ?it/s]\n"
          ]
        },
        {
          "output_type": "error",
          "ename": "KeyboardInterrupt",
          "evalue": "ignored",
          "traceback": [
            "\u001b[0;31m---------------------------------------------------------------------------\u001b[0m",
            "\u001b[0;31mKeyboardInterrupt\u001b[0m                         Traceback (most recent call last)",
            "\u001b[0;32m<ipython-input-18-cfabee7c93e0>\u001b[0m in \u001b[0;36m<cell line: 12>\u001b[0;34m()\u001b[0m\n\u001b[1;32m     11\u001b[0m \u001b[0;34m\u001b[0m\u001b[0m\n\u001b[1;32m     12\u001b[0m \u001b[0;32mfor\u001b[0m \u001b[0mepoch\u001b[0m \u001b[0;32min\u001b[0m \u001b[0mtqdm\u001b[0m\u001b[0;34m(\u001b[0m\u001b[0mrange\u001b[0m\u001b[0;34m(\u001b[0m\u001b[0mEPOCHS\u001b[0m\u001b[0;34m)\u001b[0m\u001b[0;34m)\u001b[0m\u001b[0;34m:\u001b[0m\u001b[0;34m\u001b[0m\u001b[0;34m\u001b[0m\u001b[0m\n\u001b[0;32m---> 13\u001b[0;31m     \u001b[0mmodling\u001b[0m\u001b[0;34m(\u001b[0m\u001b[0mdataset_loader\u001b[0m\u001b[0;34m,\u001b[0m \u001b[0mddpm\u001b[0m\u001b[0;34m,\u001b[0m \u001b[0moptimizer\u001b[0m\u001b[0;34m)\u001b[0m\u001b[0;34m\u001b[0m\u001b[0;34m\u001b[0m\u001b[0m\n\u001b[0m",
            "\u001b[0;32m<ipython-input-17-e4565595a0d1>\u001b[0m in \u001b[0;36mmodling\u001b[0;34m(dataloader, ddpm, optimizer)\u001b[0m\n\u001b[1;32m     13\u001b[0m             \u001b[0mloss_ema\u001b[0m \u001b[0;34m=\u001b[0m \u001b[0mloss\u001b[0m\u001b[0;34m.\u001b[0m\u001b[0mitem\u001b[0m\u001b[0;34m(\u001b[0m\u001b[0;34m)\u001b[0m\u001b[0;34m\u001b[0m\u001b[0;34m\u001b[0m\u001b[0m\n\u001b[1;32m     14\u001b[0m         \u001b[0;32melse\u001b[0m\u001b[0;34m:\u001b[0m\u001b[0;34m\u001b[0m\u001b[0;34m\u001b[0m\u001b[0m\n\u001b[0;32m---> 15\u001b[0;31m             \u001b[0mloss_ema\u001b[0m \u001b[0;34m=\u001b[0m \u001b[0;36m0.95\u001b[0m \u001b[0;34m*\u001b[0m \u001b[0mloss_ema\u001b[0m \u001b[0;34m+\u001b[0m \u001b[0;36m0.05\u001b[0m \u001b[0;34m*\u001b[0m \u001b[0mloss\u001b[0m\u001b[0;34m.\u001b[0m\u001b[0mitem\u001b[0m\u001b[0;34m(\u001b[0m\u001b[0;34m)\u001b[0m\u001b[0;34m\u001b[0m\u001b[0;34m\u001b[0m\u001b[0m\n\u001b[0m\u001b[1;32m     16\u001b[0m         \u001b[0moptimizer\u001b[0m\u001b[0;34m.\u001b[0m\u001b[0mstep\u001b[0m\u001b[0;34m(\u001b[0m\u001b[0;34m)\u001b[0m \u001b[0;31m# update model params\u001b[0m\u001b[0;34m\u001b[0m\u001b[0;34m\u001b[0m\u001b[0m\n\u001b[1;32m     17\u001b[0m \u001b[0;34m\u001b[0m\u001b[0m\n",
            "\u001b[0;31mKeyboardInterrupt\u001b[0m: "
          ]
        }
      ]
    }
  ]
}