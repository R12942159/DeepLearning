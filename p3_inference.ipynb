{
  "nbformat": 4,
  "nbformat_minor": 0,
  "metadata": {
    "colab": {
      "provenance": [],
      "gpuType": "T4",
      "include_colab_link": true
    },
    "kernelspec": {
      "name": "python3",
      "display_name": "Python 3"
    },
    "language_info": {
      "name": "python"
    },
    "accelerator": "GPU"
  },
  "cells": [
    {
      "cell_type": "markdown",
      "metadata": {
        "id": "view-in-github",
        "colab_type": "text"
      },
      "source": [
        "<a href=\"https://colab.research.google.com/github/R12942159/NTU_DLCV/blob/Hw2/p3_inference.ipynb\" target=\"_parent\"><img src=\"https://colab.research.google.com/assets/colab-badge.svg\" alt=\"Open In Colab\"/></a>"
      ]
    },
    {
      "cell_type": "code",
      "source": [
        "import os\n",
        "import csv\n",
        "import torch\n",
        "import argparse\n",
        "import numpy as np\n",
        "import pandas as pd\n",
        "from PIL import Image\n",
        "from tqdm import tqdm\n",
        "import torch.nn as nn\n",
        "from torch import optim\n",
        "import torchvision.transforms as tr\n",
        "from torch.utils.data import DataLoader"
      ],
      "metadata": {
        "id": "tp9YuYhODsSk"
      },
      "execution_count": 17,
      "outputs": []
    },
    {
      "cell_type": "markdown",
      "source": [
        "#### Delete"
      ],
      "metadata": {
        "id": "JMacJDqheFfS"
      }
    },
    {
      "cell_type": "code",
      "source": [
        "from google.colab import drive\n",
        "drive.mount('/content/drive')"
      ],
      "metadata": {
        "colab": {
          "base_uri": "https://localhost:8080/"
        },
        "id": "-NwM_hIbeH4K",
        "outputId": "a89009b5-90da-4ccd-dd45-301089a7aa56"
      },
      "execution_count": 6,
      "outputs": [
        {
          "output_type": "stream",
          "name": "stdout",
          "text": [
            "Mounted at /content/drive\n"
          ]
        }
      ]
    },
    {
      "cell_type": "code",
      "source": [
        "!pip install gsutil\n",
        "!gsutil cp /content/drive/MyDrive/NTU_DLCV/Hw2/hw2_data.zip /content/hw2_data.zip"
      ],
      "metadata": {
        "id": "xz2F5-Z3eKVb"
      },
      "execution_count": null,
      "outputs": []
    },
    {
      "cell_type": "code",
      "source": [
        "!unzip /content/hw2_data.zip"
      ],
      "metadata": {
        "id": "x_hI7YIveLRV"
      },
      "execution_count": null,
      "outputs": []
    },
    {
      "cell_type": "markdown",
      "source": [
        "#### Get cuda from GPU"
      ],
      "metadata": {
        "id": "WVRZjvruLLrb"
      }
    },
    {
      "cell_type": "code",
      "source": [
        "device = \"cuda\" if torch.cuda.is_available() else \"cpu\"\n",
        "print(f\"Using: {device}\")"
      ],
      "metadata": {
        "colab": {
          "base_uri": "https://localhost:8080/"
        },
        "id": "Lf4M57NsLJnq",
        "outputId": "f8521054-d395-4e56-9dd4-d0e985c235b7"
      },
      "execution_count": 9,
      "outputs": [
        {
          "output_type": "stream",
          "name": "stdout",
          "text": [
            "Using: cuda\n"
          ]
        }
      ]
    },
    {
      "cell_type": "code",
      "source": [
        "# parser = argparse.ArgumentParser()\n",
        "# parser.add_argument(\"path1\")\n",
        "# parser.add_argument(\"path2\")\n",
        "# args = parser.parse_args()\n",
        "\n",
        "# testing_path = args.path1\n",
        "testing_path = '/content/hw2_data/digits/usps/data'\n",
        "\n",
        "# out_path = args.path2\n",
        "out_path = '/content/out'\n",
        "out_path = os.path.join(out_path,'test_pred.csv')"
      ],
      "metadata": {
        "id": "9qRDiDlWfMhG"
      },
      "execution_count": 37,
      "outputs": []
    },
    {
      "cell_type": "code",
      "source": [
        "!gdown https://drive.google.com/file/d/13wxXfHHKN01ab-iERBad07Xw3uqG_etQ/view?usp=share_link -O SVHN_304_classifier.pth\n",
        "!gdown https://drive.google.com/file/d/1VGXAq7wswlgLfpZV30DoDKCvZtlNlTqA/view?usp=share_link -O SVHN_304feature_extractor.pth\n",
        "!gdown https://drive.google.com/file/d/1pC_Q9JchlIvcFM_1XVrd31giLZlsDjHG/view?usp=share_link -O USPS_323classifier.pth\n",
        "!gdown https://drive.google.com/file/d/1G8KDHrpenokrUfCTc3HmaoqevcxT1uUo/view?usp=share_link -O USPS_323feature_extractor.pth"
      ],
      "metadata": {
        "id": "_hmNdTZBkcdP"
      },
      "execution_count": null,
      "outputs": []
    },
    {
      "cell_type": "markdown",
      "source": [
        "#### Construct Dataset"
      ],
      "metadata": {
        "id": "-kdf1r19DVUZ"
      }
    },
    {
      "cell_type": "code",
      "source": [
        "class MnistDataset(torch.utils.data.Dataset):\n",
        "    def __init__(self, path: str, transform) -> None:\n",
        "        self.transform = transform\n",
        "        self.img_paths = sorted([os.path.join(path, i) for i in os.listdir(path) if i.endswith('.png')])\n",
        "\n",
        "    def __len__(self):\n",
        "        return len(self.img_paths)\n",
        "\n",
        "    def __getitem__(self, idx) -> (torch.Tensor, int):\n",
        "        img_path = self.img_paths[idx]\n",
        "        img = Image.open(img_path).convert('RGB') # (28, 28, 3)\n",
        "        img = self.transform(img)\n",
        "        return img, img_path.split('/')[-1]"
      ],
      "metadata": {
        "id": "_WR7bP-YDehh"
      },
      "execution_count": 31,
      "outputs": []
    },
    {
      "cell_type": "code",
      "source": [
        "mean=[0.485, 0.456, 0.406]\n",
        "std=[0.229, 0.224, 0.225]\n",
        "\n",
        "testing_ds = MnistDataset(\n",
        "    path=testing_path,\n",
        "    transform=tr.Compose([\n",
        "        tr.ToTensor(),\n",
        "        tr.Normalize(mean=mean, std=std),\n",
        "    ]),\n",
        ")"
      ],
      "metadata": {
        "id": "rsMapmVxHL3r"
      },
      "execution_count": 32,
      "outputs": []
    },
    {
      "cell_type": "code",
      "source": [
        "BATCH_SIZE = 128\n",
        "\n",
        "testing_loader = DataLoader(testing_ds, BATCH_SIZE, shuffle=False, num_workers=4)"
      ],
      "metadata": {
        "id": "x85T63PnJcVr",
        "colab": {
          "base_uri": "https://localhost:8080/"
        },
        "outputId": "33baf82d-0655-48d3-d526-5cd33dc7f084"
      },
      "execution_count": 33,
      "outputs": [
        {
          "output_type": "stream",
          "name": "stderr",
          "text": [
            "/usr/local/lib/python3.10/dist-packages/torch/utils/data/dataloader.py:557: UserWarning: This DataLoader will create 4 worker processes in total. Our suggested max number of worker in current system is 2, which is smaller than what this DataLoader is going to create. Please be aware that excessive worker creation might get DataLoader running slow or even freeze, lower the worker number to avoid potential slowness/freeze if necessary.\n",
            "  warnings.warn(_create_warning_msg(\n"
          ]
        }
      ]
    },
    {
      "cell_type": "markdown",
      "source": [
        "#### Domain-Adversarial Training of Neural Networks (DANN)"
      ],
      "metadata": {
        "id": "VYC19z24BDsB"
      }
    },
    {
      "cell_type": "code",
      "source": [
        "class FeatureExtractor(nn.Module):\n",
        "    def __init__(self) -> None:\n",
        "        super(FeatureExtractor, self).__init__()\n",
        "        self.extractor = nn.Sequential(\n",
        "            nn.Conv2d(3, 64, 5), # (64, 24, 24)\n",
        "            nn.BatchNorm2d(64),\n",
        "            nn.ReLU(),\n",
        "            nn.MaxPool2d(kernel_size=4, stride=2), # (64, 11, 11)\n",
        "\n",
        "            nn.Conv2d(64, 64, 5), # (64, 7, 7)\n",
        "            nn.BatchNorm2d(64),\n",
        "            nn.Dropout2d(),\n",
        "            nn.ReLU(),\n",
        "            nn.MaxPool2d(3, 2), # (64, 3, 3)\n",
        "\n",
        "            nn.Conv2d(64, 128, 3), # (128, 1, 1)\n",
        "        )\n",
        "\n",
        "    def forward(self, x):\n",
        "        features = self.extractor(x)\n",
        "        features = features.view(-1, 128)\n",
        "        return features\n",
        "\n",
        "class Classifier(nn.Module):\n",
        "    def __init__(self) -> None:\n",
        "        super(Classifier, self).__init__()\n",
        "        self.classifier = nn.Sequential(\n",
        "            nn.Linear(128, 512),\n",
        "            nn.BatchNorm1d(512),\n",
        "            nn.ReLU(),\n",
        "            nn.Dropout2d(),\n",
        "\n",
        "            nn.Linear(512, 128),\n",
        "            nn.BatchNorm1d(128),\n",
        "            nn.ReLU(),\n",
        "\n",
        "            nn.Linear(128, 10),\n",
        "        )\n",
        "\n",
        "    def forward(self, features):\n",
        "        class_label = self.classifier(features)\n",
        "        return class_label"
      ],
      "metadata": {
        "id": "T8dxFahzz_pC"
      },
      "execution_count": 34,
      "outputs": []
    },
    {
      "cell_type": "markdown",
      "source": [
        "#### Testing"
      ],
      "metadata": {
        "id": "vEZgv1TYLf-g"
      }
    },
    {
      "cell_type": "code",
      "source": [
        "feature_extractor = FeatureExtractor()\n",
        "feature_extractor.to(device)\n",
        "classifier = Classifier()\n",
        "classifier.to(device)\n",
        "\n",
        "if 'svhn' in testing_path:\n",
        "    feature_extractor.load_state_dict(torch.load('SVHN_304feature_extractor.pth', map_location=device))\n",
        "    classifier.load_state_dict(torch.load('SVHN_304_classifier.pth', map_location=device))\n",
        "else:\n",
        "    # feature_extractor.load_state_dict(torch.load('USPS_323feature_extractor.pth', map_location=device))\n",
        "    # classifier.load_state_dict(torch.load('USPS_323classifier.pth', map_location=device))\n",
        "\n",
        "    feature_extractor.load_state_dict(torch.load('/content/drive/MyDrive/NTU_DLCV/Hw2/p3_ckpt_USPS/USPS_323feature_extractor.pth', map_location=device))\n",
        "    classifier.load_state_dict(torch.load('/content/drive/MyDrive/NTU_DLCV/Hw2/p3_ckpt_USPS/USPS_323classifier.pth', map_location=device))\n",
        "\n",
        "feature_extractor.eval()\n",
        "classifier.eval()"
      ],
      "metadata": {
        "id": "y6BYgYVqjHLW"
      },
      "execution_count": null,
      "outputs": []
    },
    {
      "cell_type": "code",
      "source": [
        "class_labels = []\n",
        "ids = []\n",
        "\n",
        "with torch.no_grad():\n",
        "    for x, id in testing_loader:\n",
        "        x = x.to(device)\n",
        "\n",
        "        features = feature_extractor(x)\n",
        "        label = classifier(features)\n",
        "        class_label = label.argmax(-1).cpu().tolist()\n",
        "\n",
        "        class_labels.extend(class_label)\n",
        "        ids.extend(id)\n",
        "\n",
        "    with open(out_path, 'w', newline='') as f:\n",
        "        writer = csv.writer(f)\n",
        "        writer.writerow(('image_name', 'label'))\n",
        "        for i in zip(ids, class_labels):\n",
        "            writer.writerow(i)"
      ],
      "metadata": {
        "id": "k5Ul0VMhl446"
      },
      "execution_count": 40,
      "outputs": []
    }
  ]
}