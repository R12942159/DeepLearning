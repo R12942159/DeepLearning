{
  "nbformat": 4,
  "nbformat_minor": 0,
  "metadata": {
    "colab": {
      "provenance": [],
      "authorship_tag": "ABX9TyP4jzqknrYBfPPS/UoIWgcB",
      "include_colab_link": true
    },
    "kernelspec": {
      "name": "python3",
      "display_name": "Python 3"
    },
    "language_info": {
      "name": "python"
    }
  },
  "cells": [
    {
      "cell_type": "markdown",
      "metadata": {
        "id": "view-in-github",
        "colab_type": "text"
      },
      "source": [
        "<a href=\"https://colab.research.google.com/github/R12942159/NTU_DLCV/blob/Hw3/CLIP.ipynb\" target=\"_parent\"><img src=\"https://colab.research.google.com/assets/colab-badge.svg\" alt=\"Open In Colab\"/></a>"
      ]
    },
    {
      "cell_type": "code",
      "source": [
        "!pip install git+https://github.com/openai/CLIP.git"
      ],
      "metadata": {
        "id": "eiAFu8pwTWAk"
      },
      "execution_count": null,
      "outputs": []
    },
    {
      "cell_type": "code",
      "execution_count": 63,
      "metadata": {
        "id": "rMZDhkoYCrBt"
      },
      "outputs": [],
      "source": [
        "import os\n",
        "import json\n",
        "import clip\n",
        "import torch\n",
        "import random\n",
        "import numpy as np\n",
        "import matplotlib.pyplot as plt\n",
        "\n",
        "from PIL import Image\n",
        "from tqdm import tqdm\n",
        "from google.colab import drive"
      ]
    },
    {
      "cell_type": "markdown",
      "source": [
        "#### Get cuda from GPU device."
      ],
      "metadata": {
        "id": "QRZNyy5pO93N"
      }
    },
    {
      "cell_type": "code",
      "source": [
        "device = \"cuda\" if torch.cuda.is_available() else \"cpu\"\n",
        "print(f\"Using: {device}\")"
      ],
      "metadata": {
        "colab": {
          "base_uri": "https://localhost:8080/"
        },
        "id": "rgOmpL8lO7T6",
        "outputId": "0e6d8cfe-d9fb-4fa8-86f2-6eee9d378f67"
      },
      "execution_count": 49,
      "outputs": [
        {
          "output_type": "stream",
          "name": "stdout",
          "text": [
            "Using: cpu\n"
          ]
        }
      ]
    },
    {
      "cell_type": "markdown",
      "source": [
        "#### Connect google drive"
      ],
      "metadata": {
        "id": "qZUlWM3oGc6s"
      }
    },
    {
      "cell_type": "code",
      "source": [
        "drive.mount('/content/drive')"
      ],
      "metadata": {
        "colab": {
          "base_uri": "https://localhost:8080/"
        },
        "id": "iDpZsB3PGi-4",
        "outputId": "8545b94a-2591-4341-dd62-46506eed8305"
      },
      "execution_count": 1,
      "outputs": [
        {
          "output_type": "stream",
          "name": "stdout",
          "text": [
            "Mounted at /content/drive\n"
          ]
        }
      ]
    },
    {
      "cell_type": "markdown",
      "source": [
        "#### Download dataset and unzip zip file."
      ],
      "metadata": {
        "id": "Af2383swGyQL"
      }
    },
    {
      "cell_type": "code",
      "source": [
        "!gdown 11rP6KmR5Qwjhx0rfag0b5TZGBTRuPtQR -O hw3_data.zip\n",
        "!unzip /content/hw3_data.zip"
      ],
      "metadata": {
        "id": "DmjZpNVpG0vd"
      },
      "execution_count": null,
      "outputs": []
    },
    {
      "cell_type": "markdown",
      "source": [
        "#### Construct image path"
      ],
      "metadata": {
        "id": "7DtrKDCBKJDy"
      }
    },
    {
      "cell_type": "code",
      "source": [
        "val_path = '/content/hw3_data/p1_data/val'\n",
        "id2label_path = '/content/hw3_data/p1_data/id2label.json'\n",
        "\n",
        "img_paths = [os.path.join(val_path, i) for i in os.listdir(val_path) if i.endswith('.png')]\n",
        "id2label = json.load(open(id2label_path, 'r'))\n",
        "labels = [l for _, l in id2label.items()]"
      ],
      "metadata": {
        "id": "kma1atmbKMdw"
      },
      "execution_count": 104,
      "outputs": []
    },
    {
      "cell_type": "markdown",
      "source": [
        "#### Understand the image size and specifications"
      ],
      "metadata": {
        "id": "QEjP12qcIHgt"
      }
    },
    {
      "cell_type": "code",
      "source": [
        "rd_int = random.randint(0, 2499)\n",
        "class_num = img_paths[rd_int].split('/')[-1].split('_')[0]\n",
        "print(f'This is the image of {rd_int}, it is a {id2label[class_num]}.')\n",
        "\n",
        "img = Image.open(img_paths[rd_int]).convert('RGB')\n",
        "img = np.array(img)\n",
        "img.shape\n",
        "\n",
        "IMG_SIZE = img.shape[1]\n",
        "\n",
        "plt.imshow(img)\n",
        "plt.show()"
      ],
      "metadata": {
        "colab": {
          "base_uri": "https://localhost:8080/",
          "height": 447
        },
        "id": "k8W9ERr8IM-c",
        "outputId": "44ca44fb-d481-42fa-9d33-d236acbf516e"
      },
      "execution_count": 102,
      "outputs": [
        {
          "output_type": "stream",
          "name": "stdout",
          "text": [
            "This is the image of 2139, it is a dolphin.\n"
          ]
        },
        {
          "output_type": "display_data",
          "data": {
            "text/plain": [
              "<Figure size 640x480 with 1 Axes>"
            ],
            "image/png": "[encoded data removed]"
          },
          "metadata": {}
        }
      ]
    },
    {
      "cell_type": "markdown",
      "source": [
        "#### Training with [\"RN50\", \"RN101\", \"RN50x4\", \"RN50x16\", \"RN50x64\", \"ViT-B/32\", \"ViT-B/16\", \"ViT-L/14\", \"ViT-L/14@336px\"]"
      ],
      "metadata": {
        "id": "nKERV4CSUjZd"
      }
    },
    {
      "cell_type": "code",
      "source": [
        "def train():\n",
        "    model, transform = clip.load(name=\"RN50x64\", device=device, jit=False, download_root=None)\n",
        "\n",
        "    for path in tqdm(img_paths):\n",
        "        img = Image.open(path).convert('RGB')\n",
        "        img = transform(img).to(device)\n",
        "        prompt_text = torch.cat(\n",
        "            [clip.tokenize(f'A photo of a {i}', context_length=77, truncate=False) for i in labels]\n",
        "        ).to(device)\n",
        "\n",
        "        with torch.no_grad():\n",
        "            img_features = model.encode_image(img)\n",
        "            text_features = model.encode_text(prompt_text)"
      ],
      "metadata": {
        "id": "ld4PCl-yUnVU"
      },
      "execution_count": null,
      "outputs": []
    }
  ]
}