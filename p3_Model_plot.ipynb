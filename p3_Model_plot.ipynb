{
  "nbformat": 4,
  "nbformat_minor": 0,
  "metadata": {
    "colab": {
      "provenance": [],
      "gpuType": "T4",
      "include_colab_link": true
    },
    "kernelspec": {
      "name": "python3",
      "display_name": "Python 3"
    },
    "language_info": {
      "name": "python"
    },
    "accelerator": "GPU"
  },
  "cells": [
    {
      "cell_type": "markdown",
      "metadata": {
        "id": "view-in-github",
        "colab_type": "text"
      },
      "source": [
        "<a href=\"https://colab.research.google.com/github/R12942159/NTU_DLCV/blob/Hw2/p3_Model_plot.ipynb\" target=\"_parent\"><img src=\"https://colab.research.google.com/assets/colab-badge.svg\" alt=\"Open In Colab\"/></a>"
      ]
    },
    {
      "cell_type": "code",
      "source": [
        "import os\n",
        "import torch\n",
        "import numpy as np\n",
        "import pandas as pd\n",
        "from PIL import Image\n",
        "from tqdm import tqdm\n",
        "import torch.nn as nn\n",
        "from torch import optim\n",
        "import matplotlib.pyplot as plt\n",
        "from sklearn.manifold import TSNE\n",
        "import torchvision.transforms as tr\n",
        "from torch.utils.data import DataLoader"
      ],
      "metadata": {
        "id": "tp9YuYhODsSk"
      },
      "execution_count": 12,
      "outputs": []
    },
    {
      "cell_type": "code",
      "source": [
        "from google.colab import drive\n",
        "drive.mount('/content/drive')"
      ],
      "metadata": {
        "colab": {
          "base_uri": "https://localhost:8080/"
        },
        "id": "kxqDmB-kB1pu",
        "outputId": "254eab4b-7cc1-4ddb-fa5b-e6ba65adff92"
      },
      "execution_count": 2,
      "outputs": [
        {
          "output_type": "stream",
          "name": "stdout",
          "text": [
            "Mounted at /content/drive\n"
          ]
        }
      ]
    },
    {
      "cell_type": "markdown",
      "source": [
        "#### Download zip file"
      ],
      "metadata": {
        "id": "aUXFKRGlLOvG"
      }
    },
    {
      "cell_type": "code",
      "source": [
        "!pip install gsutil\n",
        "!gsutil cp /content/drive/MyDrive/NTU_DLCV/Hw2/hw2_data.zip /content/hw2_data.zip"
      ],
      "metadata": {
        "id": "doVVsVMbB620"
      },
      "execution_count": null,
      "outputs": []
    },
    {
      "cell_type": "code",
      "source": [
        "!unzip /content/hw2_data.zip"
      ],
      "metadata": {
        "id": "WP1EiTcQB8c6"
      },
      "execution_count": null,
      "outputs": []
    },
    {
      "cell_type": "markdown",
      "source": [
        "#### Get cuda from GPU"
      ],
      "metadata": {
        "id": "WVRZjvruLLrb"
      }
    },
    {
      "cell_type": "code",
      "source": [
        "device = \"cuda\" if torch.cuda.is_available() else \"cpu\"\n",
        "print(f\"Using: {device}\")"
      ],
      "metadata": {
        "colab": {
          "base_uri": "https://localhost:8080/"
        },
        "id": "Lf4M57NsLJnq",
        "outputId": "de2981cc-d6c1-4cde-b905-65993fbcb219"
      },
      "execution_count": 5,
      "outputs": [
        {
          "output_type": "stream",
          "name": "stdout",
          "text": [
            "Using: cuda\n"
          ]
        }
      ]
    },
    {
      "cell_type": "markdown",
      "source": [
        "#### Construct Dataset"
      ],
      "metadata": {
        "id": "-kdf1r19DVUZ"
      }
    },
    {
      "cell_type": "code",
      "source": [
        "class MnistDataset(torch.utils.data.Dataset):\n",
        "    def __init__(self, label_path: str, join_path: str, transform) -> None:\n",
        "        self.transform = transform\n",
        "        self.img_paths = []\n",
        "        self.img_labels = []\n",
        "\n",
        "        label_csv = pd.read_csv(label_path).values.tolist()\n",
        "\n",
        "        for row in label_csv:\n",
        "            self.img_paths.append(os.path.join(join_path, row[0]))\n",
        "            self.img_labels.append(row[1])\n",
        "        assert len(self.img_paths) == len(self.img_labels)\n",
        "\n",
        "    def __len__(self):\n",
        "        return len(self.img_paths)\n",
        "\n",
        "    def __getitem__(self, idx) -> (torch.Tensor, int):\n",
        "        img_path = self.img_paths[idx]\n",
        "        img = Image.open(img_path).convert('RGB') # (28, 28, 3)\n",
        "        img = self.transform(img)\n",
        "\n",
        "        label = self.img_labels[idx]\n",
        "        return img, label"
      ],
      "metadata": {
        "id": "_WR7bP-YDehh"
      },
      "execution_count": 6,
      "outputs": []
    },
    {
      "cell_type": "code",
      "source": [
        "mean=[0.485, 0.456, 0.406]\n",
        "std=[0.229, 0.224, 0.225]\n",
        "\n",
        "source_val_ds = MnistDataset(\n",
        "    label_path='/content/hw2_data/digits/mnistm/train.csv',\n",
        "    join_path='/content/hw2_data/digits/mnistm/data',\n",
        "    transform=tr.Compose([\n",
        "        tr.ToTensor(),\n",
        "        tr.Normalize(mean=mean, std=std),\n",
        "    ])\n",
        ")\n",
        "\n",
        "svhn_val_ds = MnistDataset(\n",
        "    label_path='/content/hw2_data/digits/svhn/val.csv',\n",
        "    join_path='/content/hw2_data/digits/svhn/data',\n",
        "    transform=tr.Compose([\n",
        "        tr.ToTensor(),\n",
        "        tr.Normalize(mean=mean, std=std),\n",
        "    ])\n",
        ")\n",
        "\n",
        "usps_val_ds = MnistDataset(\n",
        "    label_path='/content/hw2_data/digits/usps/val.csv',\n",
        "    join_path='/content/hw2_data/digits/usps/data',\n",
        "    transform=tr.Compose([\n",
        "        tr.ToTensor(),\n",
        "        tr.Normalize(mean=mean, std=std),\n",
        "    ])\n",
        ")"
      ],
      "metadata": {
        "id": "rsMapmVxHL3r"
      },
      "execution_count": 7,
      "outputs": []
    },
    {
      "cell_type": "code",
      "source": [
        "BATCH_SIZE = 512\n",
        "\n",
        "source_val_loader = DataLoader(source_val_ds, BATCH_SIZE, shuffle=False, num_workers=4)\n",
        "svhn_val_loader = DataLoader(svhn_val_ds, BATCH_SIZE, shuffle=False, num_workers=4)\n",
        "usps_val_loader = DataLoader(usps_val_ds, BATCH_SIZE, shuffle=False, num_workers=4)"
      ],
      "metadata": {
        "id": "x85T63PnJcVr",
        "colab": {
          "base_uri": "https://localhost:8080/"
        },
        "outputId": "16c6fe50-673f-4024-a692-caa75f83e13b"
      },
      "execution_count": 8,
      "outputs": [
        {
          "output_type": "stream",
          "name": "stderr",
          "text": [
            "/usr/local/lib/python3.10/dist-packages/torch/utils/data/dataloader.py:557: UserWarning: This DataLoader will create 4 worker processes in total. Our suggested max number of worker in current system is 2, which is smaller than what this DataLoader is going to create. Please be aware that excessive worker creation might get DataLoader running slow or even freeze, lower the worker number to avoid potential slowness/freeze if necessary.\n",
            "  warnings.warn(_create_warning_msg(\n"
          ]
        }
      ]
    },
    {
      "cell_type": "markdown",
      "source": [
        "#### Construct Feature Extractor"
      ],
      "metadata": {
        "id": "VYC19z24BDsB"
      }
    },
    {
      "cell_type": "code",
      "source": [
        "class FeatureExtractor(nn.Module):\n",
        "    def __init__(self) -> None:\n",
        "        super(FeatureExtractor, self).__init__()\n",
        "        self.extractor = nn.Sequential(\n",
        "            nn.Conv2d(3, 64, 5), # (64, 24, 24)\n",
        "            nn.BatchNorm2d(64),\n",
        "            nn.ReLU(),\n",
        "            nn.MaxPool2d(kernel_size=4, stride=2), # (64, 11, 11)\n",
        "\n",
        "            nn.Conv2d(64, 64, 5), # (64, 7, 7)\n",
        "            nn.BatchNorm2d(64),\n",
        "            # nn.Dropout2d(),\n",
        "            nn.ReLU(),\n",
        "            nn.MaxPool2d(3, 2), # (64, 3, 3)\n",
        "\n",
        "            nn.Conv2d(64, 128, 3), # (128, 1, 1)\n",
        "        )\n",
        "\n",
        "    def forward(self, x):\n",
        "        features = self.extractor(x)\n",
        "        features = features.view(-1, 128)\n",
        "        return features"
      ],
      "metadata": {
        "id": "T8dxFahzz_pC"
      },
      "execution_count": 9,
      "outputs": []
    },
    {
      "cell_type": "markdown",
      "source": [
        "#### USPS plot"
      ],
      "metadata": {
        "id": "1QXv-MSPDURC"
      }
    },
    {
      "cell_type": "code",
      "source": [
        "feature_extractor = FeatureExtractor()\n",
        "feature_extractor.to(device)\n",
        "\n",
        "feature_extractor.load_state_dict(torch.load('/content/drive/MyDrive/NTU_DLCV/Hw2/p3_ckpt_USPS/290feature_extractor.pth', map_location=device))\n",
        "\n",
        "features_array = []\n",
        "label_array = []\n",
        "domain_array = []\n",
        "\n",
        "with torch.no_grad():\n",
        "    for x, y in source_val_loader:\n",
        "        x = x.to(device)\n",
        "\n",
        "        features = feature_extractor(x)\n",
        "        features_array.append(features.cpu().numpy())\n",
        "        label_array.append(y.cpu().numpy())\n",
        "        domain_array.append(np.zeros((len(x),), dtype=np.int16))\n",
        "\n",
        "    for x, y in usps_val_loader:\n",
        "        x = x.to(device)\n",
        "\n",
        "        features = feature_extractor(x)\n",
        "        features_array.append(features.cpu().numpy())\n",
        "        label_array.append(y.cpu().numpy())\n",
        "        domain_array.append(np.ones((len(x),), dtype=np.int16))\n",
        "\n",
        "features_array = np.concatenate(features_array, axis=0)\n",
        "label_array = np.concatenate(label_array, axis=0)\n",
        "domain_array = np.concatenate(domain_array, axis=0)\n",
        "\n",
        "fig, ax = plt.subplots()\n",
        "\n",
        "tsne_features = TSNE(\n",
        "    n_components=2,\n",
        "    learning_rate='auto',\n",
        "    init='random',\n",
        "    perplexity=30,\n",
        "    n_jobs=-1\n",
        ").fit_transform(features_array)\n",
        "\n",
        "\n",
        "----------------------------\n",
        "fig, axes = plt.subplots(1, 2, figsize=(20, 9))\n",
        "all_feature = TSNE(\n",
        "    2, init='pca', learning_rate='auto').fit_transform(all_feature)\n",
        "scatter = axes[0].scatter(\n",
        "    all_feature[..., 0], all_feature[..., 1],\n",
        "    c=all_label, alpha=0.5, s=10\n",
        ")\n",
        "axes[0].legend(*scatter.legend_elements(), title='Digits')\n",
        "axes[0].set_title(\"Colored by Different Classes\")\n",
        "\n",
        "scatter = axes[1].scatter(\n",
        "    all_feature[..., 0], all_feature[..., 1],\n",
        "    c=all_domains, alpha=0.5, s=10\n",
        ")\n",
        "axes[1].legend(handles=scatter.legend_elements()[0], labels=[\n",
        "    'Source', 'Target'], title='Domains')\n",
        "axes[1].set_title(\"Colored by Different Domains\")\n",
        "fig.savefig(fig_path / 'USPS')"
      ],
      "metadata": {
        "id": "FU4BfSNXCz0x"
      },
      "execution_count": null,
      "outputs": []
    }
  ]
}