{
  "nbformat": 4,
  "nbformat_minor": 0,
  "metadata": {
    "colab": {
      "provenance": [],
      "gpuType": "T4",
      "include_colab_link": true
    },
    "kernelspec": {
      "name": "python3",
      "display_name": "Python 3"
    },
    "language_info": {
      "name": "python"
    },
    "accelerator": "GPU"
  },
  "cells": [
    {
      "cell_type": "markdown",
      "metadata": {
        "id": "view-in-github",
        "colab_type": "text"
      },
      "source": [
        "<a href=\"https://colab.research.google.com/github/R12942159/NTU_DLCV/blob/Hw2/p3_Model_plot.ipynb\" target=\"_parent\"><img src=\"https://colab.research.google.com/assets/colab-badge.svg\" alt=\"Open In Colab\"/></a>"
      ]
    },
    {
      "cell_type": "code",
      "source": [
        "import os\n",
        "import torch\n",
        "import numpy as np\n",
        "import pandas as pd\n",
        "from PIL import Image\n",
        "from tqdm import tqdm\n",
        "import torch.nn as nn\n",
        "from torch import optim\n",
        "import torchvision.transforms as tr\n",
        "from torch.utils.data import DataLoader"
      ],
      "metadata": {
        "id": "tp9YuYhODsSk"
      },
      "execution_count": null,
      "outputs": []
    },
    {
      "cell_type": "code",
      "source": [
        "from google.colab import drive\n",
        "drive.mount('/content/drive')"
      ],
      "metadata": {
        "colab": {
          "base_uri": "https://localhost:8080/"
        },
        "id": "kxqDmB-kB1pu",
        "outputId": "e3fa1481-925b-4a97-fa95-8cfdda2e5efd"
      },
      "execution_count": null,
      "outputs": [
        {
          "output_type": "stream",
          "name": "stdout",
          "text": [
            "Mounted at /content/drive\n"
          ]
        }
      ]
    },
    {
      "cell_type": "markdown",
      "source": [
        "#### Download zip file"
      ],
      "metadata": {
        "id": "aUXFKRGlLOvG"
      }
    },
    {
      "cell_type": "code",
      "source": [
        "!pip install gsutil\n",
        "!gsutil cp /content/drive/MyDrive/NTU_DLCV/Hw2/hw2_data.zip /content/hw2_data.zip"
      ],
      "metadata": {
        "id": "doVVsVMbB620"
      },
      "execution_count": null,
      "outputs": []
    },
    {
      "cell_type": "code",
      "source": [
        "!unzip /content/hw2_data.zip"
      ],
      "metadata": {
        "id": "WP1EiTcQB8c6"
      },
      "execution_count": null,
      "outputs": []
    },
    {
      "cell_type": "markdown",
      "source": [
        "#### Get cuda from GPU"
      ],
      "metadata": {
        "id": "WVRZjvruLLrb"
      }
    },
    {
      "cell_type": "code",
      "source": [
        "device = \"cuda\" if torch.cuda.is_available() else \"cpu\"\n",
        "print(f\"Using: {device}\")"
      ],
      "metadata": {
        "colab": {
          "base_uri": "https://localhost:8080/"
        },
        "id": "Lf4M57NsLJnq",
        "outputId": "639659ed-c5ec-4d25-9019-19055b4e14cb"
      },
      "execution_count": null,
      "outputs": [
        {
          "output_type": "stream",
          "name": "stdout",
          "text": [
            "Using: cuda\n"
          ]
        }
      ]
    },
    {
      "cell_type": "markdown",
      "source": [
        "#### Construct Dataset"
      ],
      "metadata": {
        "id": "-kdf1r19DVUZ"
      }
    },
    {
      "cell_type": "code",
      "source": [
        "class MnistDataset(torch.utils.data.Dataset):\n",
        "    def __init__(self, label_path: str, join_path: str, transform) -> None:\n",
        "        self.transform = transform\n",
        "        self.img_paths = []\n",
        "        self.img_labels = []\n",
        "\n",
        "        label_csv = pd.read_csv(label_path).values.tolist()\n",
        "\n",
        "        for row in label_csv:\n",
        "            self.img_paths.append(os.path.join(join_path, row[0]))\n",
        "            self.img_labels.append(row[1])\n",
        "        assert len(self.img_paths) == len(self.img_labels)\n",
        "\n",
        "    def __len__(self):\n",
        "        return len(self.img_paths)\n",
        "\n",
        "    def __getitem__(self, idx) -> (torch.Tensor, int):\n",
        "        img_path = self.img_paths[idx]\n",
        "        img = Image.open(img_path).convert('RGB') # (28, 28, 3)\n",
        "        img = self.transform(img)\n",
        "\n",
        "        label = self.img_labels[idx]\n",
        "        return img, label"
      ],
      "metadata": {
        "id": "_WR7bP-YDehh"
      },
      "execution_count": null,
      "outputs": []
    },
    {
      "cell_type": "code",
      "source": [
        "mean=[0.485, 0.456, 0.406]\n",
        "std=[0.229, 0.224, 0.225]\n",
        "\n",
        "source_train_ds = MnistDataset(\n",
        "    label_path='/content/hw2_data/digits/mnistm/train.csv',\n",
        "    join_path='/content/hw2_data/digits/mnistm/data',\n",
        "    transform=tr.Compose([\n",
        "        tr.ToTensor(),\n",
        "        tr.Normalize(mean=mean, std=std),\n",
        "    ])\n",
        ")\n",
        "\n",
        "target_train_ds = MnistDataset(\n",
        "    label_path='/content/hw2_data/digits/usps/train.csv',\n",
        "    join_path='/content/hw2_data/digits/usps/data',\n",
        "    transform=tr.Compose([\n",
        "        tr.ToTensor(),\n",
        "        tr.Normalize(mean=mean, std=std),\n",
        "    ])\n",
        ")\n",
        "\n",
        "target_val_ds = MnistDataset(\n",
        "    label_path='/content/hw2_data/digits/usps/val.csv',\n",
        "    join_path='/content/hw2_data/digits/usps/data',\n",
        "    transform=tr.Compose([\n",
        "        tr.ToTensor(),\n",
        "        tr.Normalize(mean=mean, std=std),\n",
        "    ])\n",
        ")"
      ],
      "metadata": {
        "id": "rsMapmVxHL3r"
      },
      "execution_count": null,
      "outputs": []
    },
    {
      "cell_type": "code",
      "source": [
        "BATCH_SIZE = 256\n",
        "\n",
        "source_train_loader = DataLoader(source_train_ds, BATCH_SIZE, shuffle=True, num_workers=4)\n",
        "target_train_loader = DataLoader(target_train_ds, BATCH_SIZE, shuffle=True, num_workers=4)\n",
        "target_val_loader = DataLoader(target_val_ds, BATCH_SIZE, shuffle=False, num_workers=4)"
      ],
      "metadata": {
        "id": "x85T63PnJcVr",
        "colab": {
          "base_uri": "https://localhost:8080/"
        },
        "outputId": "2ea46b69-15cf-47d4-b24d-2f37c7af7c8b"
      },
      "execution_count": null,
      "outputs": [
        {
          "output_type": "stream",
          "name": "stderr",
          "text": [
            "/usr/local/lib/python3.10/dist-packages/torch/utils/data/dataloader.py:557: UserWarning: This DataLoader will create 4 worker processes in total. Our suggested max number of worker in current system is 2, which is smaller than what this DataLoader is going to create. Please be aware that excessive worker creation might get DataLoader running slow or even freeze, lower the worker number to avoid potential slowness/freeze if necessary.\n",
            "  warnings.warn(_create_warning_msg(\n"
          ]
        }
      ]
    },
    {
      "cell_type": "markdown",
      "source": [
        "#### Domain-Adversarial Training of Neural Networks (DANN)"
      ],
      "metadata": {
        "id": "VYC19z24BDsB"
      }
    },
    {
      "cell_type": "code",
      "source": [
        "class GRL(torch.autograd.Function):\n",
        "    @staticmethod\n",
        "    def forward(ctx, x, alpha):\n",
        "        ctx.alpha = alpha\n",
        "        return x.view_as(x)\n",
        "\n",
        "    @staticmethod\n",
        "    def backward(ctx, grad_output):\n",
        "         output = grad_output.neg() * ctx.alpha\n",
        "         return output, None\n",
        "\n",
        "class FeatureExtractor(nn.Module):\n",
        "    def __init__(self) -> None:\n",
        "        super(FeatureExtractor, self).__init__()\n",
        "        self.extractor = nn.Sequential(\n",
        "            nn.Conv2d(3, 64, 5), # (64, 24, 24)\n",
        "            nn.BatchNorm2d(64),\n",
        "            nn.ReLU(),\n",
        "            nn.MaxPool2d(kernel_size=4, stride=2), # (64, 11, 11)\n",
        "\n",
        "            nn.Conv2d(64, 64, 5), # (64, 7, 7)\n",
        "            nn.BatchNorm2d(64),\n",
        "            # nn.Dropout2d(),\n",
        "            nn.ReLU(),\n",
        "            nn.MaxPool2d(3, 2), # (64, 3, 3)\n",
        "\n",
        "            nn.Conv2d(64, 128, 3), # (128, 1, 1)\n",
        "        )\n",
        "\n",
        "    def forward(self, x):\n",
        "        features = self.extractor(x)\n",
        "        features = features.view(-1, 128)\n",
        "        return features\n",
        "\n",
        "class Classifier(nn.Module):\n",
        "    def __init__(self) -> None:\n",
        "        super(Classifier, self).__init__()\n",
        "        self.classifier = nn.Sequential(\n",
        "            nn.Linear(128, 512),\n",
        "            nn.BatchNorm1d(512),\n",
        "            nn.ReLU(),\n",
        "            # nn.Dropout2d(),\n",
        "\n",
        "            nn.Linear(512, 128),\n",
        "            nn.BatchNorm1d(128),\n",
        "            nn.ReLU(),\n",
        "\n",
        "            nn.Linear(128, 10),\n",
        "        )\n",
        "\n",
        "    def forward(self, features):\n",
        "        class_label = self.classifier(features)\n",
        "        return class_label\n",
        "\n",
        "class DomainClassifier(nn.Module):\n",
        "    def __init__(self) -> None:\n",
        "        super(DomainClassifier, self).__init__()\n",
        "        self.domainclassifier = nn.Sequential(\n",
        "            nn.Linear(128, 256),\n",
        "            # nn.BatchNorm1d(256),\n",
        "            nn.ReLU(),\n",
        "\n",
        "            nn.Linear(256, 1)\n",
        "        )\n",
        "\n",
        "    def forward(self, features, alpha):\n",
        "        reversed_input = GRL.apply(features, alpha)\n",
        "        x = self.domainclassifier(reversed_input)\n",
        "        return x"
      ],
      "metadata": {
        "id": "T8dxFahzz_pC"
      },
      "execution_count": null,
      "outputs": []
    },
    {
      "cell_type": "markdown",
      "source": [
        "#### Train"
      ],
      "metadata": {
        "id": "vEZgv1TYLf-g"
      }
    },
    {
      "cell_type": "code",
      "source": [
        "def model_mode(mode: str, models: list) -> None:\n",
        "    for model in models:\n",
        "        if mode == 'train':\n",
        "            model.train()\n",
        "        elif mode == 'eval':\n",
        "            model.eval()"
      ],
      "metadata": {
        "id": "ZsdsZ8GRAbHZ"
      },
      "execution_count": null,
      "outputs": []
    },
    {
      "cell_type": "code",
      "source": [
        "EPOCHS = 350\n",
        "\n",
        "# Earlystopping\n",
        "patience = 350\n",
        "counter = 0\n",
        "best_accuracy = 0.4\n",
        "\n",
        "# setting parameters\n",
        "lr = 1e-3\n",
        "\n",
        "feature_extractor = FeatureExtractor()\n",
        "feature_extractor.to(device)\n",
        "classifier = Classifier()\n",
        "classifier.to(device)\n",
        "domain_classifier = DomainClassifier()\n",
        "domain_classifier.to(device)\n",
        "\n",
        "clf_loss_fn = nn.CrossEntropyLoss()\n",
        "domainclf_loss_fn = nn.BCEWithLogitsLoss() # 'Binary' Cross Entropy With Logits Loss\n",
        "\n",
        "optimizer = optim.SGD(\n",
        "    list(feature_extractor.parameters()) + list(classifier.parameters()) + list(domain_classifier.parameters()),\n",
        "    lr=lr,\n",
        ")\n",
        "\n",
        "# logs dictionary\n",
        "logs = {'class_label_loss': [], 'domain_label_loss': [], 'val_accuracy': []}"
      ],
      "metadata": {
        "id": "y0vvyP4ILhj4"
      },
      "execution_count": null,
      "outputs": []
    },
    {
      "cell_type": "code",
      "source": [
        "for epoch in range(EPOCHS):\n",
        "    # start_steps = epoch * len(source_train_loader)\n",
        "    total_steps = EPOCHS * len(target_train_loader)\n",
        "\n",
        "    for (source_x, source_y), (target_x, target_y) in tqdm(zip(source_train_loader, target_train_loader), total=len(source_train_loader)):\n",
        "        model_mode('train', [feature_extractor, classifier, domain_classifier])\n",
        "\n",
        "        source_x, source_y = source_x.to(device, non_blocking=True), source_y.to(device, non_blocking=True)\n",
        "        target_x, target_y = target_x.to(device, non_blocking=True), target_y.to(device, non_blocking=True)\n",
        "\n",
        "        # scheduling\n",
        "        p = epoch / total_steps\n",
        "        alpha = 2. / (1. + np.exp(-10 * p)) - 1\n",
        "\n",
        "        optimizer.param_groups[0]['lr'] = lr / (1. + 10 * p) ** 0.75\n",
        "        optimizer.zero_grad()\n",
        "\n",
        "        # features extractor\n",
        "        source_features = feature_extractor(source_x)\n",
        "        target_features = feature_extractor(target_x)\n",
        "\n",
        "        # classifier\n",
        "        # compute class label loss\n",
        "        class_label = classifier(source_features)\n",
        "        class_label_loss = clf_loss_fn(class_label, source_y)\n",
        "\n",
        "        # doamin classifier\n",
        "        # source domain label = 0\n",
        "        source_domain_label = domain_classifier(source_features, alpha).squeeze() # (batch_size, 1) -> (batch_size)\n",
        "        domain_label_source_loss = domainclf_loss_fn(\n",
        "            source_domain_label,\n",
        "            torch.zeros(source_y.shape[0], dtype=torch.float, device=device),\n",
        "        )\n",
        "        # target domain label = 1\n",
        "        target_domain_label = domain_classifier(target_features, alpha).squeeze()\n",
        "        domain_label_target_loss = domainclf_loss_fn(\n",
        "            target_domain_label,\n",
        "            torch.ones(target_y.shape[0], dtype=torch.float, device=device),\n",
        "        )\n",
        "        # compute domain total loss\n",
        "        domain_label_loss = domain_label_source_loss + domain_label_target_loss\n",
        "\n",
        "        total_loss = class_label_loss + domain_label_loss\n",
        "        total_loss.backward()\n",
        "        optimizer.step()\n",
        "\n",
        "        # write logs\n",
        "        logs['class_label_loss'].append(class_label_loss)\n",
        "        logs['domain_label_loss'].append(domain_label_loss)\n",
        "\n",
        "\n",
        "    model_mode('eval', [feature_extractor, classifier, domain_classifier])\n",
        "    val_accuracy = 0\n",
        "    with torch.no_grad():\n",
        "        for target_val_x, target_val_y in tqdm(target_val_loader):\n",
        "            target_val_x, target_val_y = target_val_x.to(device), target_val_y.cpu().numpy()\n",
        "\n",
        "            features = feature_extractor(target_val_x)\n",
        "            class_label = classifier(features)\n",
        "            class_label = class_label.argmax(-1).cpu().numpy()\n",
        "\n",
        "            val_accuracy += np.mean((class_label == target_val_y).astype(int))\n",
        "\n",
        "    val_accuracy /= len(target_val_loader)\n",
        "\n",
        "    # write logs\n",
        "    logs['val_accuracy'].append(val_accuracy)\n",
        "\n",
        "    print('\\n', f'EPOCH: {(epoch+1):04d} -> val_accuracy: {val_accuracy:.4f}, class_label_loss: {class_label_loss:.4f}, domain_label_loss: {domain_label_loss:.4f}')\n",
        "\n",
        "    # chcek improvement\n",
        "    if val_accuracy > best_accuracy:\n",
        "        counter = 0\n",
        "        best_accuracy = val_accuracy\n",
        "\n",
        "        torch.save(feature_extractor.state_dict(), f\"/content/drive/MyDrive/NTU_DLCV/Hw2/p3_ckpt/{epoch+1}feature_extractor.pth\")\n",
        "        torch.save(classifier.state_dict(), f\"/content/drive/MyDrive/NTU_DLCV/Hw2/p3_ckpt/{epoch+1}classifier.pth\")\n",
        "        torch.save(domain_classifier.state_dict(), f\"/content/drive/MyDrive/NTU_DLCV/Hw2/p3_ckpt/{epoch+1}domain_classifier.pth\")\n",
        "        print(\"--------------------Model saved--------------------\")\n",
        "    else:\n",
        "        counter += 1\n",
        "    if counter >= patience:\n",
        "        print(\"--------------------Earlystop--------------------\")\n",
        "        break"
      ],
      "metadata": {
        "id": "a6BVeVmg_hAD",
        "colab": {
          "base_uri": "https://localhost:8080/"
        },
        "outputId": "fd1dff7e-7653-4801-d2e4-617aea291756"
      },
      "execution_count": null,
      "outputs": [
        {
          "output_type": "stream",
          "name": "stderr",
          "text": [
            " 14%|█▎        | 24/175 [00:07<00:44,  3.38it/s]\n",
            "100%|██████████| 6/6 [00:01<00:00,  5.01it/s]\n"
          ]
        },
        {
          "output_type": "stream",
          "name": "stdout",
          "text": [
            "\n",
            " EPOCH: 0001 -> val_accuracy: 0.6329, class_label_loss: 1.5746, domain_label_loss: 1.3580\n",
            "--------------------Model saved--------------------\n"
          ]
        },
        {
          "output_type": "stream",
          "name": "stderr",
          "text": [
            " 14%|█▎        | 24/175 [00:04<00:25,  5.94it/s]\n",
            "100%|██████████| 6/6 [00:00<00:00,  7.54it/s]\n"
          ]
        },
        {
          "output_type": "stream",
          "name": "stdout",
          "text": [
            "\n",
            " EPOCH: 0002 -> val_accuracy: 0.6412, class_label_loss: 1.4448, domain_label_loss: 1.3460\n",
            "--------------------Model saved--------------------\n"
          ]
        },
        {
          "output_type": "stream",
          "name": "stderr",
          "text": [
            " 14%|█▎        | 24/175 [00:04<00:27,  5.45it/s]\n",
            "100%|██████████| 6/6 [00:01<00:00,  4.59it/s]"
          ]
        },
        {
          "output_type": "stream",
          "name": "stdout",
          "text": [
            "\n",
            " EPOCH: 0003 -> val_accuracy: 0.6308, class_label_loss: 1.4840, domain_label_loss: 1.3518\n"
          ]
        },
        {
          "output_type": "stream",
          "name": "stderr",
          "text": [
            "\n",
            " 14%|█▎        | 24/175 [00:06<00:42,  3.55it/s]\n",
            "100%|██████████| 6/6 [00:00<00:00,  7.68it/s]"
          ]
        },
        {
          "output_type": "stream",
          "name": "stdout",
          "text": [
            "\n",
            " EPOCH: 0004 -> val_accuracy: 0.6509, class_label_loss: 1.4737, domain_label_loss: 1.3467\n",
            "--------------------Model saved--------------------\n"
          ]
        },
        {
          "output_type": "stream",
          "name": "stderr",
          "text": [
            "\n",
            " 14%|█▎        | 24/175 [00:03<00:24,  6.08it/s]\n",
            "100%|██████████| 6/6 [00:00<00:00,  7.56it/s]"
          ]
        },
        {
          "output_type": "stream",
          "name": "stdout",
          "text": [
            "\n",
            " EPOCH: 0005 -> val_accuracy: 0.6536, class_label_loss: 1.4748, domain_label_loss: 1.3432\n",
            "--------------------Model saved--------------------\n"
          ]
        },
        {
          "output_type": "stream",
          "name": "stderr",
          "text": [
            "\n",
            " 14%|█▎        | 24/175 [00:06<00:39,  3.85it/s]\n",
            "100%|██████████| 6/6 [00:01<00:00,  4.52it/s]"
          ]
        },
        {
          "output_type": "stream",
          "name": "stdout",
          "text": [
            "\n",
            " EPOCH: 0006 -> val_accuracy: 0.6502, class_label_loss: 1.4629, domain_label_loss: 1.3363\n"
          ]
        },
        {
          "output_type": "stream",
          "name": "stderr",
          "text": [
            "\n",
            " 14%|█▎        | 24/175 [00:05<00:33,  4.55it/s]\n",
            "100%|██████████| 6/6 [00:00<00:00,  7.55it/s]"
          ]
        },
        {
          "output_type": "stream",
          "name": "stdout",
          "text": [
            "\n",
            " EPOCH: 0007 -> val_accuracy: 0.6726, class_label_loss: 1.3989, domain_label_loss: 1.3283\n",
            "--------------------Model saved--------------------\n"
          ]
        },
        {
          "output_type": "stream",
          "name": "stderr",
          "text": [
            "\n",
            " 14%|█▎        | 24/175 [00:03<00:25,  6.02it/s]\n",
            "100%|██████████| 6/6 [00:00<00:00,  7.45it/s]"
          ]
        },
        {
          "output_type": "stream",
          "name": "stdout",
          "text": [
            "\n",
            " EPOCH: 0008 -> val_accuracy: 0.6554, class_label_loss: 1.3663, domain_label_loss: 1.3267\n"
          ]
        },
        {
          "output_type": "stream",
          "name": "stderr",
          "text": [
            "\n",
            " 14%|█▎        | 24/175 [00:07<00:45,  3.31it/s]\n",
            "100%|██████████| 6/6 [00:01<00:00,  4.90it/s]"
          ]
        },
        {
          "output_type": "stream",
          "name": "stdout",
          "text": [
            "\n",
            " EPOCH: 0009 -> val_accuracy: 0.6610, class_label_loss: 1.4501, domain_label_loss: 1.3259\n"
          ]
        },
        {
          "output_type": "stream",
          "name": "stderr",
          "text": [
            "\n",
            " 14%|█▎        | 24/175 [00:04<00:25,  5.87it/s]\n",
            "100%|██████████| 6/6 [00:00<00:00,  7.55it/s]"
          ]
        },
        {
          "output_type": "stream",
          "name": "stdout",
          "text": [
            "\n",
            " EPOCH: 0010 -> val_accuracy: 0.6759, class_label_loss: 1.3660, domain_label_loss: 1.3281\n",
            "--------------------Model saved--------------------\n"
          ]
        },
        {
          "output_type": "stream",
          "name": "stderr",
          "text": [
            "\n",
            " 14%|█▎        | 24/175 [00:04<00:25,  5.83it/s]\n",
            "100%|██████████| 6/6 [00:01<00:00,  4.54it/s]\n"
          ]
        },
        {
          "output_type": "stream",
          "name": "stdout",
          "text": [
            "\n",
            " EPOCH: 0011 -> val_accuracy: 0.6762, class_label_loss: 1.3247, domain_label_loss: 1.3346\n",
            "--------------------Model saved--------------------\n"
          ]
        },
        {
          "output_type": "stream",
          "name": "stderr",
          "text": [
            " 14%|█▎        | 24/175 [00:06<00:42,  3.59it/s]\n",
            "100%|██████████| 6/6 [00:00<00:00,  7.53it/s]"
          ]
        },
        {
          "output_type": "stream",
          "name": "stdout",
          "text": [
            "\n",
            " EPOCH: 0012 -> val_accuracy: 0.6807, class_label_loss: 1.3180, domain_label_loss: 1.3148\n",
            "--------------------Model saved--------------------\n"
          ]
        },
        {
          "output_type": "stream",
          "name": "stderr",
          "text": [
            "\n",
            " 14%|█▎        | 24/175 [00:04<00:25,  5.87it/s]\n",
            "100%|██████████| 6/6 [00:00<00:00,  7.64it/s]"
          ]
        },
        {
          "output_type": "stream",
          "name": "stdout",
          "text": [
            "\n",
            " EPOCH: 0013 -> val_accuracy: 0.6864, class_label_loss: 1.2988, domain_label_loss: 1.3137\n",
            "--------------------Model saved--------------------\n"
          ]
        },
        {
          "output_type": "stream",
          "name": "stderr",
          "text": [
            "\n",
            " 14%|█▎        | 24/175 [00:06<00:38,  3.88it/s]\n",
            "100%|██████████| 6/6 [00:01<00:00,  4.58it/s]\n"
          ]
        },
        {
          "output_type": "stream",
          "name": "stdout",
          "text": [
            "\n",
            " EPOCH: 0014 -> val_accuracy: 0.6892, class_label_loss: 1.2997, domain_label_loss: 1.3195\n",
            "--------------------Model saved--------------------\n"
          ]
        },
        {
          "output_type": "stream",
          "name": "stderr",
          "text": [
            " 14%|█▎        | 24/175 [00:05<00:34,  4.37it/s]\n",
            "100%|██████████| 6/6 [00:00<00:00,  7.64it/s]"
          ]
        },
        {
          "output_type": "stream",
          "name": "stdout",
          "text": [
            "\n",
            " EPOCH: 0015 -> val_accuracy: 0.6933, class_label_loss: 1.3265, domain_label_loss: 1.3148\n",
            "--------------------Model saved--------------------\n"
          ]
        },
        {
          "output_type": "stream",
          "name": "stderr",
          "text": [
            "\n",
            " 14%|█▎        | 24/175 [00:04<00:27,  5.59it/s]\n",
            "100%|██████████| 6/6 [00:00<00:00,  6.35it/s]\n"
          ]
        },
        {
          "output_type": "stream",
          "name": "stdout",
          "text": [
            "\n",
            " EPOCH: 0016 -> val_accuracy: 0.7035, class_label_loss: 1.3348, domain_label_loss: 1.3021\n",
            "--------------------Model saved--------------------\n"
          ]
        },
        {
          "output_type": "stream",
          "name": "stderr",
          "text": [
            " 14%|█▎        | 24/175 [00:06<00:44,  3.43it/s]\n",
            "100%|██████████| 6/6 [00:00<00:00,  7.29it/s]"
          ]
        },
        {
          "output_type": "stream",
          "name": "stdout",
          "text": [
            "\n",
            " EPOCH: 0017 -> val_accuracy: 0.7048, class_label_loss: 1.1833, domain_label_loss: 1.3133\n",
            "--------------------Model saved--------------------\n"
          ]
        },
        {
          "output_type": "stream",
          "name": "stderr",
          "text": [
            "\n",
            " 14%|█▎        | 24/175 [00:04<00:26,  5.69it/s]\n",
            "100%|██████████| 6/6 [00:00<00:00,  7.34it/s]"
          ]
        },
        {
          "output_type": "stream",
          "name": "stdout",
          "text": [
            "\n",
            " EPOCH: 0018 -> val_accuracy: 0.7038, class_label_loss: 1.1365, domain_label_loss: 1.2994\n"
          ]
        },
        {
          "output_type": "stream",
          "name": "stderr",
          "text": [
            "\n",
            " 14%|█▎        | 24/175 [00:05<00:33,  4.53it/s]\n",
            "100%|██████████| 6/6 [00:01<00:00,  4.69it/s]"
          ]
        },
        {
          "output_type": "stream",
          "name": "stdout",
          "text": [
            "\n",
            " EPOCH: 0019 -> val_accuracy: 0.7074, class_label_loss: 1.1455, domain_label_loss: 1.2999\n",
            "--------------------Model saved--------------------\n"
          ]
        },
        {
          "output_type": "stream",
          "name": "stderr",
          "text": [
            "\n",
            " 14%|█▎        | 24/175 [00:05<00:35,  4.21it/s]\n",
            "100%|██████████| 6/6 [00:00<00:00,  7.49it/s]"
          ]
        },
        {
          "output_type": "stream",
          "name": "stdout",
          "text": [
            "\n",
            " EPOCH: 0020 -> val_accuracy: 0.7048, class_label_loss: 1.1814, domain_label_loss: 1.3057\n"
          ]
        },
        {
          "output_type": "stream",
          "name": "stderr",
          "text": [
            "\n",
            " 14%|█▎        | 24/175 [00:04<00:26,  5.62it/s]\n",
            "100%|██████████| 6/6 [00:00<00:00,  7.28it/s]"
          ]
        },
        {
          "output_type": "stream",
          "name": "stdout",
          "text": [
            "\n",
            " EPOCH: 0021 -> val_accuracy: 0.7189, class_label_loss: 1.1374, domain_label_loss: 1.2817\n",
            "--------------------Model saved--------------------\n"
          ]
        },
        {
          "output_type": "stream",
          "name": "stderr",
          "text": [
            "\n",
            " 14%|█▎        | 24/175 [00:06<00:43,  3.49it/s]\n",
            "100%|██████████| 6/6 [00:01<00:00,  4.63it/s]"
          ]
        },
        {
          "output_type": "stream",
          "name": "stdout",
          "text": [
            "\n",
            " EPOCH: 0022 -> val_accuracy: 0.7189, class_label_loss: 1.1685, domain_label_loss: 1.2842\n"
          ]
        },
        {
          "output_type": "stream",
          "name": "stderr",
          "text": [
            "\n",
            " 14%|█▎        | 24/175 [00:04<00:27,  5.59it/s]\n",
            "100%|██████████| 6/6 [00:00<00:00,  6.53it/s]"
          ]
        },
        {
          "output_type": "stream",
          "name": "stdout",
          "text": [
            "\n",
            " EPOCH: 0023 -> val_accuracy: 0.7038, class_label_loss: 1.1600, domain_label_loss: 1.2885\n"
          ]
        },
        {
          "output_type": "stream",
          "name": "stderr",
          "text": [
            "\n",
            " 14%|█▎        | 24/175 [00:04<00:27,  5.42it/s]\n",
            "100%|██████████| 6/6 [00:01<00:00,  4.55it/s]"
          ]
        },
        {
          "output_type": "stream",
          "name": "stdout",
          "text": [
            "\n",
            " EPOCH: 0024 -> val_accuracy: 0.7127, class_label_loss: 1.2059, domain_label_loss: 1.2754\n"
          ]
        },
        {
          "output_type": "stream",
          "name": "stderr",
          "text": [
            "\n",
            " 14%|█▎        | 24/175 [00:06<00:39,  3.81it/s]\n",
            "100%|██████████| 6/6 [00:00<00:00,  7.61it/s]"
          ]
        },
        {
          "output_type": "stream",
          "name": "stdout",
          "text": [
            "\n",
            " EPOCH: 0025 -> val_accuracy: 0.7196, class_label_loss: 1.0683, domain_label_loss: 1.2845\n",
            "--------------------Model saved--------------------\n"
          ]
        },
        {
          "output_type": "stream",
          "name": "stderr",
          "text": [
            "\n",
            " 14%|█▎        | 24/175 [00:04<00:25,  6.00it/s]\n",
            "100%|██████████| 6/6 [00:00<00:00,  7.29it/s]"
          ]
        },
        {
          "output_type": "stream",
          "name": "stdout",
          "text": [
            "\n",
            " EPOCH: 0026 -> val_accuracy: 0.7220, class_label_loss: 1.0803, domain_label_loss: 1.2885\n",
            "--------------------Model saved--------------------\n"
          ]
        },
        {
          "output_type": "stream",
          "name": "stderr",
          "text": [
            "\n",
            " 14%|█▎        | 24/175 [00:05<00:35,  4.21it/s]\n",
            "100%|██████████| 6/6 [00:01<00:00,  4.28it/s]"
          ]
        },
        {
          "output_type": "stream",
          "name": "stdout",
          "text": [
            "\n",
            " EPOCH: 0027 -> val_accuracy: 0.7194, class_label_loss: 1.0778, domain_label_loss: 1.2828\n"
          ]
        },
        {
          "output_type": "stream",
          "name": "stderr",
          "text": [
            "\n",
            " 14%|█▎        | 24/175 [00:05<00:32,  4.69it/s]\n",
            "100%|██████████| 6/6 [00:00<00:00,  7.40it/s]"
          ]
        },
        {
          "output_type": "stream",
          "name": "stdout",
          "text": [
            "\n",
            " EPOCH: 0028 -> val_accuracy: 0.7048, class_label_loss: 0.9888, domain_label_loss: 1.2621\n"
          ]
        },
        {
          "output_type": "stream",
          "name": "stderr",
          "text": [
            "\n",
            " 14%|█▎        | 24/175 [00:04<00:25,  5.89it/s]\n",
            "100%|██████████| 6/6 [00:00<00:00,  7.25it/s]"
          ]
        },
        {
          "output_type": "stream",
          "name": "stdout",
          "text": [
            "\n",
            " EPOCH: 0029 -> val_accuracy: 0.7212, class_label_loss: 1.0370, domain_label_loss: 1.2592\n"
          ]
        },
        {
          "output_type": "stream",
          "name": "stderr",
          "text": [
            "\n",
            " 14%|█▎        | 24/175 [00:06<00:42,  3.54it/s]\n",
            "100%|██████████| 6/6 [00:01<00:00,  5.00it/s]"
          ]
        },
        {
          "output_type": "stream",
          "name": "stdout",
          "text": [
            "\n",
            " EPOCH: 0030 -> val_accuracy: 0.7214, class_label_loss: 1.0583, domain_label_loss: 1.2861\n"
          ]
        },
        {
          "output_type": "stream",
          "name": "stderr",
          "text": [
            "\n",
            " 14%|█▎        | 24/175 [00:04<00:26,  5.75it/s]\n",
            "100%|██████████| 6/6 [00:00<00:00,  7.49it/s]"
          ]
        },
        {
          "output_type": "stream",
          "name": "stdout",
          "text": [
            "\n",
            " EPOCH: 0031 -> val_accuracy: 0.7207, class_label_loss: 0.9132, domain_label_loss: 1.2701\n"
          ]
        },
        {
          "output_type": "stream",
          "name": "stderr",
          "text": [
            "\n",
            " 14%|█▎        | 24/175 [00:04<00:29,  5.13it/s]\n",
            "100%|██████████| 6/6 [00:01<00:00,  4.17it/s]"
          ]
        },
        {
          "output_type": "stream",
          "name": "stdout",
          "text": [
            "\n",
            " EPOCH: 0032 -> val_accuracy: 0.7269, class_label_loss: 0.9900, domain_label_loss: 1.2666\n",
            "--------------------Model saved--------------------\n"
          ]
        },
        {
          "output_type": "stream",
          "name": "stderr",
          "text": [
            "\n",
            " 14%|█▎        | 24/175 [00:06<00:38,  3.95it/s]\n",
            "100%|██████████| 6/6 [00:00<00:00,  7.32it/s]"
          ]
        },
        {
          "output_type": "stream",
          "name": "stdout",
          "text": [
            "\n",
            " EPOCH: 0033 -> val_accuracy: 0.7241, class_label_loss: 1.0119, domain_label_loss: 1.2636\n"
          ]
        },
        {
          "output_type": "stream",
          "name": "stderr",
          "text": [
            "\n",
            " 14%|█▎        | 24/175 [00:04<00:26,  5.77it/s]\n",
            "100%|██████████| 6/6 [00:00<00:00,  7.17it/s]"
          ]
        },
        {
          "output_type": "stream",
          "name": "stdout",
          "text": [
            "\n",
            " EPOCH: 0034 -> val_accuracy: 0.7282, class_label_loss: 1.0336, domain_label_loss: 1.2557\n",
            "--------------------Model saved--------------------\n"
          ]
        },
        {
          "output_type": "stream",
          "name": "stderr",
          "text": [
            "\n",
            " 14%|█▎        | 24/175 [00:06<00:39,  3.80it/s]\n",
            "100%|██████████| 6/6 [00:01<00:00,  4.29it/s]"
          ]
        },
        {
          "output_type": "stream",
          "name": "stdout",
          "text": [
            "\n",
            " EPOCH: 0035 -> val_accuracy: 0.7350, class_label_loss: 0.8966, domain_label_loss: 1.2640\n",
            "--------------------Model saved--------------------\n"
          ]
        },
        {
          "output_type": "stream",
          "name": "stderr",
          "text": [
            "\n",
            " 14%|█▎        | 24/175 [00:04<00:30,  4.97it/s]\n",
            "100%|██████████| 6/6 [00:00<00:00,  7.39it/s]"
          ]
        },
        {
          "output_type": "stream",
          "name": "stdout",
          "text": [
            "\n",
            " EPOCH: 0036 -> val_accuracy: 0.7236, class_label_loss: 0.9507, domain_label_loss: 1.2513\n"
          ]
        },
        {
          "output_type": "stream",
          "name": "stderr",
          "text": [
            "\n",
            " 14%|█▎        | 24/175 [00:03<00:24,  6.14it/s]\n",
            "100%|██████████| 6/6 [00:01<00:00,  5.71it/s]"
          ]
        },
        {
          "output_type": "stream",
          "name": "stdout",
          "text": [
            "\n",
            " EPOCH: 0037 -> val_accuracy: 0.7327, class_label_loss: 0.9348, domain_label_loss: 1.2553\n"
          ]
        },
        {
          "output_type": "stream",
          "name": "stderr",
          "text": [
            "\n",
            " 14%|█▎        | 24/175 [00:06<00:43,  3.47it/s]\n",
            "100%|██████████| 6/6 [00:00<00:00,  7.40it/s]"
          ]
        },
        {
          "output_type": "stream",
          "name": "stdout",
          "text": [
            "\n",
            " EPOCH: 0038 -> val_accuracy: 0.7275, class_label_loss: 0.9582, domain_label_loss: 1.2556\n"
          ]
        },
        {
          "output_type": "stream",
          "name": "stderr",
          "text": [
            "\n",
            " 14%|█▎        | 24/175 [00:04<00:26,  5.63it/s]\n",
            "100%|██████████| 6/6 [00:00<00:00,  7.49it/s]"
          ]
        },
        {
          "output_type": "stream",
          "name": "stdout",
          "text": [
            "\n",
            " EPOCH: 0039 -> val_accuracy: 0.7337, class_label_loss: 0.9271, domain_label_loss: 1.2426\n"
          ]
        },
        {
          "output_type": "stream",
          "name": "stderr",
          "text": [
            "\n",
            " 14%|█▎        | 24/175 [00:05<00:35,  4.23it/s]\n",
            "100%|██████████| 6/6 [00:01<00:00,  4.58it/s]\n"
          ]
        },
        {
          "output_type": "stream",
          "name": "stdout",
          "text": [
            "\n",
            " EPOCH: 0040 -> val_accuracy: 0.7342, class_label_loss: 0.8237, domain_label_loss: 1.2450\n"
          ]
        },
        {
          "output_type": "stream",
          "name": "stderr",
          "text": [
            " 14%|█▎        | 24/175 [00:05<00:34,  4.39it/s]\n",
            "100%|██████████| 6/6 [00:00<00:00,  7.10it/s]"
          ]
        },
        {
          "output_type": "stream",
          "name": "stdout",
          "text": [
            "\n",
            " EPOCH: 0041 -> val_accuracy: 0.7304, class_label_loss: 0.8785, domain_label_loss: 1.2445\n"
          ]
        },
        {
          "output_type": "stream",
          "name": "stderr",
          "text": [
            "\n",
            " 14%|█▎        | 24/175 [00:04<00:25,  5.81it/s]\n",
            "100%|██████████| 6/6 [00:00<00:00,  7.28it/s]"
          ]
        },
        {
          "output_type": "stream",
          "name": "stdout",
          "text": [
            "\n",
            " EPOCH: 0042 -> val_accuracy: 0.7447, class_label_loss: 0.8831, domain_label_loss: 1.2379\n",
            "--------------------Model saved--------------------\n"
          ]
        },
        {
          "output_type": "stream",
          "name": "stderr",
          "text": [
            "\n",
            " 14%|█▎        | 24/175 [00:07<00:44,  3.38it/s]\n",
            "100%|██████████| 6/6 [00:01<00:00,  4.79it/s]"
          ]
        },
        {
          "output_type": "stream",
          "name": "stdout",
          "text": [
            "\n",
            " EPOCH: 0043 -> val_accuracy: 0.7343, class_label_loss: 0.8744, domain_label_loss: 1.2468\n"
          ]
        },
        {
          "output_type": "stream",
          "name": "stderr",
          "text": [
            "\n",
            " 14%|█▎        | 24/175 [00:04<00:26,  5.61it/s]\n",
            "100%|██████████| 6/6 [00:00<00:00,  7.34it/s]"
          ]
        },
        {
          "output_type": "stream",
          "name": "stdout",
          "text": [
            "\n",
            " EPOCH: 0044 -> val_accuracy: 0.7447, class_label_loss: 0.8080, domain_label_loss: 1.2376\n"
          ]
        },
        {
          "output_type": "stream",
          "name": "stderr",
          "text": [
            "\n",
            " 14%|█▎        | 24/175 [00:04<00:28,  5.26it/s]\n",
            "100%|██████████| 6/6 [00:01<00:00,  4.72it/s]"
          ]
        },
        {
          "output_type": "stream",
          "name": "stdout",
          "text": [
            "\n",
            " EPOCH: 0045 -> val_accuracy: 0.7443, class_label_loss: 0.8555, domain_label_loss: 1.2388\n"
          ]
        },
        {
          "output_type": "stream",
          "name": "stderr",
          "text": [
            "\n",
            " 14%|█▎        | 24/175 [00:05<00:37,  4.04it/s]\n",
            "100%|██████████| 6/6 [00:00<00:00,  7.30it/s]"
          ]
        },
        {
          "output_type": "stream",
          "name": "stdout",
          "text": [
            "\n",
            " EPOCH: 0046 -> val_accuracy: 0.7314, class_label_loss: 0.8844, domain_label_loss: 1.2258\n"
          ]
        },
        {
          "output_type": "stream",
          "name": "stderr",
          "text": [
            "\n",
            " 14%|█▎        | 24/175 [00:04<00:25,  5.89it/s]\n",
            "100%|██████████| 6/6 [00:00<00:00,  7.19it/s]"
          ]
        },
        {
          "output_type": "stream",
          "name": "stdout",
          "text": [
            "\n",
            " EPOCH: 0047 -> val_accuracy: 0.7453, class_label_loss: 0.8707, domain_label_loss: 1.2103\n",
            "--------------------Model saved--------------------\n"
          ]
        },
        {
          "output_type": "stream",
          "name": "stderr",
          "text": [
            "\n",
            " 14%|█▎        | 24/175 [00:06<00:40,  3.75it/s]\n",
            "100%|██████████| 6/6 [00:01<00:00,  4.47it/s]\n"
          ]
        },
        {
          "output_type": "stream",
          "name": "stdout",
          "text": [
            "\n",
            " EPOCH: 0048 -> val_accuracy: 0.7515, class_label_loss: 0.8286, domain_label_loss: 1.2246\n",
            "--------------------Model saved--------------------\n"
          ]
        },
        {
          "output_type": "stream",
          "name": "stderr",
          "text": [
            " 14%|█▎        | 24/175 [00:04<00:30,  5.03it/s]\n",
            "100%|██████████| 6/6 [00:01<00:00,  5.88it/s]"
          ]
        },
        {
          "output_type": "stream",
          "name": "stdout",
          "text": [
            "\n",
            " EPOCH: 0049 -> val_accuracy: 0.7329, class_label_loss: 0.7850, domain_label_loss: 1.2313\n"
          ]
        },
        {
          "output_type": "stream",
          "name": "stderr",
          "text": [
            "\n",
            " 14%|█▎        | 24/175 [00:04<00:26,  5.76it/s]\n",
            "100%|██████████| 6/6 [00:01<00:00,  4.55it/s]"
          ]
        },
        {
          "output_type": "stream",
          "name": "stdout",
          "text": [
            "\n",
            " EPOCH: 0050 -> val_accuracy: 0.7393, class_label_loss: 0.8073, domain_label_loss: 1.2315\n"
          ]
        },
        {
          "output_type": "stream",
          "name": "stderr",
          "text": [
            "\n",
            " 14%|█▎        | 24/175 [00:06<00:42,  3.54it/s]\n",
            "100%|██████████| 6/6 [00:00<00:00,  7.20it/s]"
          ]
        },
        {
          "output_type": "stream",
          "name": "stdout",
          "text": [
            "\n",
            " EPOCH: 0051 -> val_accuracy: 0.7447, class_label_loss: 0.8109, domain_label_loss: 1.2178\n"
          ]
        },
        {
          "output_type": "stream",
          "name": "stderr",
          "text": [
            "\n",
            " 14%|█▎        | 24/175 [00:04<00:27,  5.53it/s]\n",
            "100%|██████████| 6/6 [00:00<00:00,  7.47it/s]"
          ]
        },
        {
          "output_type": "stream",
          "name": "stdout",
          "text": [
            "\n",
            " EPOCH: 0052 -> val_accuracy: 0.7374, class_label_loss: 0.7317, domain_label_loss: 1.2201\n"
          ]
        },
        {
          "output_type": "stream",
          "name": "stderr",
          "text": [
            "\n",
            " 14%|█▎        | 24/175 [00:05<00:36,  4.12it/s]\n",
            "100%|██████████| 6/6 [00:01<00:00,  4.30it/s]"
          ]
        },
        {
          "output_type": "stream",
          "name": "stdout",
          "text": [
            "\n",
            " EPOCH: 0053 -> val_accuracy: 0.7346, class_label_loss: 0.7614, domain_label_loss: 1.2167\n"
          ]
        },
        {
          "output_type": "stream",
          "name": "stderr",
          "text": [
            "\n",
            " 14%|█▎        | 24/175 [00:05<00:32,  4.70it/s]\n",
            "100%|██████████| 6/6 [00:00<00:00,  7.54it/s]"
          ]
        },
        {
          "output_type": "stream",
          "name": "stdout",
          "text": [
            "\n",
            " EPOCH: 0054 -> val_accuracy: 0.7455, class_label_loss: 0.7798, domain_label_loss: 1.2219\n"
          ]
        },
        {
          "output_type": "stream",
          "name": "stderr",
          "text": [
            "\n",
            " 14%|█▎        | 24/175 [00:04<00:25,  5.86it/s]\n",
            "100%|██████████| 6/6 [00:00<00:00,  7.47it/s]"
          ]
        },
        {
          "output_type": "stream",
          "name": "stdout",
          "text": [
            "\n",
            " EPOCH: 0055 -> val_accuracy: 0.7257, class_label_loss: 0.7404, domain_label_loss: 1.2219\n"
          ]
        },
        {
          "output_type": "stream",
          "name": "stderr",
          "text": [
            "\n",
            " 14%|█▎        | 24/175 [00:07<00:44,  3.39it/s]\n",
            "100%|██████████| 6/6 [00:01<00:00,  4.70it/s]"
          ]
        },
        {
          "output_type": "stream",
          "name": "stdout",
          "text": [
            "\n",
            " EPOCH: 0056 -> val_accuracy: 0.7385, class_label_loss: 0.7660, domain_label_loss: 1.2332\n"
          ]
        },
        {
          "output_type": "stream",
          "name": "stderr",
          "text": [
            "\n",
            " 14%|█▎        | 24/175 [00:04<00:25,  5.85it/s]\n",
            "100%|██████████| 6/6 [00:00<00:00,  7.60it/s]"
          ]
        },
        {
          "output_type": "stream",
          "name": "stdout",
          "text": [
            "\n",
            " EPOCH: 0057 -> val_accuracy: 0.7402, class_label_loss: 0.7499, domain_label_loss: 1.2125\n"
          ]
        },
        {
          "output_type": "stream",
          "name": "stderr",
          "text": [
            "\n",
            " 14%|█▎        | 24/175 [00:04<00:27,  5.41it/s]\n",
            "100%|██████████| 6/6 [00:01<00:00,  4.51it/s]"
          ]
        },
        {
          "output_type": "stream",
          "name": "stdout",
          "text": [
            "\n",
            " EPOCH: 0058 -> val_accuracy: 0.7385, class_label_loss: 0.7860, domain_label_loss: 1.2082\n"
          ]
        },
        {
          "output_type": "stream",
          "name": "stderr",
          "text": [
            "\n",
            " 14%|█▎        | 24/175 [00:06<00:39,  3.86it/s]\n",
            "100%|██████████| 6/6 [00:00<00:00,  7.09it/s]"
          ]
        },
        {
          "output_type": "stream",
          "name": "stdout",
          "text": [
            "\n",
            " EPOCH: 0059 -> val_accuracy: 0.7449, class_label_loss: 0.7259, domain_label_loss: 1.2071\n"
          ]
        },
        {
          "output_type": "stream",
          "name": "stderr",
          "text": [
            "\n",
            " 14%|█▎        | 24/175 [00:04<00:26,  5.64it/s]\n",
            "100%|██████████| 6/6 [00:00<00:00,  7.44it/s]"
          ]
        },
        {
          "output_type": "stream",
          "name": "stdout",
          "text": [
            "\n",
            " EPOCH: 0060 -> val_accuracy: 0.7419, class_label_loss: 0.7848, domain_label_loss: 1.1986\n"
          ]
        },
        {
          "output_type": "stream",
          "name": "stderr",
          "text": [
            "\n",
            " 14%|█▎        | 24/175 [00:06<00:38,  3.92it/s]\n",
            "100%|██████████| 6/6 [00:01<00:00,  4.11it/s]"
          ]
        },
        {
          "output_type": "stream",
          "name": "stdout",
          "text": [
            "\n",
            " EPOCH: 0061 -> val_accuracy: 0.7502, class_label_loss: 0.7210, domain_label_loss: 1.2174\n"
          ]
        },
        {
          "output_type": "stream",
          "name": "stderr",
          "text": [
            "\n",
            " 14%|█▎        | 24/175 [00:04<00:30,  4.88it/s]\n",
            "100%|██████████| 6/6 [00:00<00:00,  7.25it/s]"
          ]
        },
        {
          "output_type": "stream",
          "name": "stdout",
          "text": [
            "\n",
            " EPOCH: 0062 -> val_accuracy: 0.7512, class_label_loss: 0.7703, domain_label_loss: 1.2298\n"
          ]
        },
        {
          "output_type": "stream",
          "name": "stderr",
          "text": [
            "\n",
            " 14%|█▎        | 24/175 [00:04<00:26,  5.70it/s]\n",
            "100%|██████████| 6/6 [00:01<00:00,  5.34it/s]"
          ]
        },
        {
          "output_type": "stream",
          "name": "stdout",
          "text": [
            "\n",
            " EPOCH: 0063 -> val_accuracy: 0.7484, class_label_loss: 0.7174, domain_label_loss: 1.2004\n"
          ]
        },
        {
          "output_type": "stream",
          "name": "stderr",
          "text": [
            "\n",
            " 14%|█▎        | 24/175 [00:07<00:44,  3.41it/s]\n",
            "100%|██████████| 6/6 [00:00<00:00,  6.50it/s]"
          ]
        },
        {
          "output_type": "stream",
          "name": "stdout",
          "text": [
            "\n",
            " EPOCH: 0064 -> val_accuracy: 0.7541, class_label_loss: 0.6332, domain_label_loss: 1.2340\n",
            "--------------------Model saved--------------------\n"
          ]
        },
        {
          "output_type": "stream",
          "name": "stderr",
          "text": [
            "\n",
            " 14%|█▎        | 24/175 [00:03<00:24,  6.11it/s]\n",
            "100%|██████████| 6/6 [00:00<00:00,  7.32it/s]"
          ]
        },
        {
          "output_type": "stream",
          "name": "stdout",
          "text": [
            "\n",
            " EPOCH: 0065 -> val_accuracy: 0.7405, class_label_loss: 0.7055, domain_label_loss: 1.1733\n"
          ]
        },
        {
          "output_type": "stream",
          "name": "stderr",
          "text": [
            "\n",
            " 14%|█▎        | 24/175 [00:05<00:34,  4.44it/s]\n",
            "100%|██████████| 6/6 [00:01<00:00,  4.46it/s]"
          ]
        },
        {
          "output_type": "stream",
          "name": "stdout",
          "text": [
            "\n",
            " EPOCH: 0066 -> val_accuracy: 0.7453, class_label_loss: 0.6389, domain_label_loss: 1.2136\n"
          ]
        },
        {
          "output_type": "stream",
          "name": "stderr",
          "text": [
            "\n",
            " 14%|█▎        | 24/175 [00:05<00:34,  4.39it/s]\n",
            "100%|██████████| 6/6 [00:00<00:00,  7.41it/s]"
          ]
        },
        {
          "output_type": "stream",
          "name": "stdout",
          "text": [
            "\n",
            " EPOCH: 0067 -> val_accuracy: 0.7514, class_label_loss: 0.6524, domain_label_loss: 1.2069\n"
          ]
        },
        {
          "output_type": "stream",
          "name": "stderr",
          "text": [
            "\n",
            " 14%|█▎        | 24/175 [00:04<00:27,  5.52it/s]\n",
            "100%|██████████| 6/6 [00:00<00:00,  7.16it/s]"
          ]
        },
        {
          "output_type": "stream",
          "name": "stdout",
          "text": [
            "\n",
            " EPOCH: 0068 -> val_accuracy: 0.7499, class_label_loss: 0.6848, domain_label_loss: 1.2072\n"
          ]
        },
        {
          "output_type": "stream",
          "name": "stderr",
          "text": [
            "\n",
            " 14%|█▎        | 24/175 [00:07<00:45,  3.35it/s]\n",
            "100%|██████████| 6/6 [00:01<00:00,  4.61it/s]"
          ]
        },
        {
          "output_type": "stream",
          "name": "stdout",
          "text": [
            "\n",
            " EPOCH: 0069 -> val_accuracy: 0.7519, class_label_loss: 0.6578, domain_label_loss: 1.2078\n"
          ]
        },
        {
          "output_type": "stream",
          "name": "stderr",
          "text": [
            "\n",
            " 14%|█▎        | 24/175 [00:04<00:26,  5.79it/s]\n",
            "100%|██████████| 6/6 [00:00<00:00,  7.31it/s]"
          ]
        },
        {
          "output_type": "stream",
          "name": "stdout",
          "text": [
            "\n",
            " EPOCH: 0070 -> val_accuracy: 0.7428, class_label_loss: 0.6358, domain_label_loss: 1.1957\n"
          ]
        },
        {
          "output_type": "stream",
          "name": "stderr",
          "text": [
            "\n",
            " 14%|█▎        | 24/175 [00:04<00:27,  5.41it/s]\n",
            "100%|██████████| 6/6 [00:01<00:00,  4.26it/s]"
          ]
        },
        {
          "output_type": "stream",
          "name": "stdout",
          "text": [
            "\n",
            " EPOCH: 0071 -> val_accuracy: 0.7535, class_label_loss: 0.5510, domain_label_loss: 1.1962\n"
          ]
        },
        {
          "output_type": "stream",
          "name": "stderr",
          "text": [
            "\n",
            " 14%|█▎        | 24/175 [00:06<00:41,  3.67it/s]\n",
            "100%|██████████| 6/6 [00:00<00:00,  7.35it/s]"
          ]
        },
        {
          "output_type": "stream",
          "name": "stdout",
          "text": [
            "\n",
            " EPOCH: 0072 -> val_accuracy: 0.7554, class_label_loss: 0.7196, domain_label_loss: 1.2390\n",
            "--------------------Model saved--------------------\n"
          ]
        },
        {
          "output_type": "stream",
          "name": "stderr",
          "text": [
            "\n",
            " 14%|█▎        | 24/175 [00:04<00:25,  5.84it/s]\n",
            "100%|██████████| 6/6 [00:00<00:00,  7.31it/s]"
          ]
        },
        {
          "output_type": "stream",
          "name": "stdout",
          "text": [
            "\n",
            " EPOCH: 0073 -> val_accuracy: 0.7530, class_label_loss: 0.6452, domain_label_loss: 1.2069\n"
          ]
        },
        {
          "output_type": "stream",
          "name": "stderr",
          "text": [
            "\n",
            " 14%|█▎        | 24/175 [00:06<00:38,  3.90it/s]\n",
            "100%|██████████| 6/6 [00:01<00:00,  4.43it/s]"
          ]
        },
        {
          "output_type": "stream",
          "name": "stdout",
          "text": [
            "\n",
            " EPOCH: 0074 -> val_accuracy: 0.7511, class_label_loss: 0.5934, domain_label_loss: 1.2220\n"
          ]
        },
        {
          "output_type": "stream",
          "name": "stderr",
          "text": [
            "\n",
            " 14%|█▎        | 24/175 [00:05<00:32,  4.67it/s]\n",
            "100%|██████████| 6/6 [00:00<00:00,  7.15it/s]"
          ]
        },
        {
          "output_type": "stream",
          "name": "stdout",
          "text": [
            "\n",
            " EPOCH: 0075 -> val_accuracy: 0.7437, class_label_loss: 0.6393, domain_label_loss: 1.1905\n"
          ]
        },
        {
          "output_type": "stream",
          "name": "stderr",
          "text": [
            "\n",
            " 14%|█▎        | 24/175 [00:04<00:26,  5.60it/s]\n",
            "100%|██████████| 6/6 [00:00<00:00,  7.02it/s]"
          ]
        },
        {
          "output_type": "stream",
          "name": "stdout",
          "text": [
            "\n",
            " EPOCH: 0076 -> val_accuracy: 0.7538, class_label_loss: 0.6275, domain_label_loss: 1.1860\n"
          ]
        },
        {
          "output_type": "stream",
          "name": "stderr",
          "text": [
            "\n",
            " 14%|█▎        | 24/175 [00:07<00:44,  3.39it/s]\n",
            "100%|██████████| 6/6 [00:01<00:00,  5.45it/s]"
          ]
        },
        {
          "output_type": "stream",
          "name": "stdout",
          "text": [
            "\n",
            " EPOCH: 0077 -> val_accuracy: 0.7590, class_label_loss: 0.5494, domain_label_loss: 1.2142\n",
            "--------------------Model saved--------------------\n"
          ]
        },
        {
          "output_type": "stream",
          "name": "stderr",
          "text": [
            "\n",
            " 14%|█▎        | 24/175 [00:04<00:25,  5.89it/s]\n",
            "100%|██████████| 6/6 [00:00<00:00,  7.17it/s]"
          ]
        },
        {
          "output_type": "stream",
          "name": "stdout",
          "text": [
            "\n",
            " EPOCH: 0078 -> val_accuracy: 0.7561, class_label_loss: 0.5830, domain_label_loss: 1.1809\n"
          ]
        },
        {
          "output_type": "stream",
          "name": "stderr",
          "text": [
            "\n",
            " 14%|█▎        | 24/175 [00:05<00:32,  4.59it/s]\n",
            "100%|██████████| 6/6 [00:01<00:00,  4.30it/s]"
          ]
        },
        {
          "output_type": "stream",
          "name": "stdout",
          "text": [
            "\n",
            " EPOCH: 0079 -> val_accuracy: 0.7614, class_label_loss: 0.5305, domain_label_loss: 1.2002\n",
            "--------------------Model saved--------------------\n"
          ]
        },
        {
          "output_type": "stream",
          "name": "stderr",
          "text": [
            "\n",
            " 14%|█▎        | 24/175 [00:05<00:35,  4.20it/s]\n",
            "100%|██████████| 6/6 [00:00<00:00,  6.92it/s]"
          ]
        },
        {
          "output_type": "stream",
          "name": "stdout",
          "text": [
            "\n",
            " EPOCH: 0080 -> val_accuracy: 0.7616, class_label_loss: 0.5813, domain_label_loss: 1.1968\n",
            "--------------------Model saved--------------------\n"
          ]
        },
        {
          "output_type": "stream",
          "name": "stderr",
          "text": [
            "\n",
            " 14%|█▎        | 24/175 [00:04<00:26,  5.79it/s]\n",
            "100%|██████████| 6/6 [00:00<00:00,  7.02it/s]"
          ]
        },
        {
          "output_type": "stream",
          "name": "stdout",
          "text": [
            "\n",
            " EPOCH: 0081 -> val_accuracy: 0.7517, class_label_loss: 0.6275, domain_label_loss: 1.1897\n"
          ]
        },
        {
          "output_type": "stream",
          "name": "stderr",
          "text": [
            "\n",
            " 14%|█▎        | 24/175 [00:07<00:44,  3.39it/s]\n",
            "100%|██████████| 6/6 [00:01<00:00,  4.79it/s]"
          ]
        },
        {
          "output_type": "stream",
          "name": "stdout",
          "text": [
            "\n",
            " EPOCH: 0082 -> val_accuracy: 0.7578, class_label_loss: 0.5362, domain_label_loss: 1.1860\n"
          ]
        },
        {
          "output_type": "stream",
          "name": "stderr",
          "text": [
            "\n",
            " 14%|█▎        | 24/175 [00:04<00:26,  5.79it/s]\n",
            "100%|██████████| 6/6 [00:00<00:00,  7.13it/s]"
          ]
        },
        {
          "output_type": "stream",
          "name": "stdout",
          "text": [
            "\n",
            " EPOCH: 0083 -> val_accuracy: 0.7554, class_label_loss: 0.6281, domain_label_loss: 1.2169\n"
          ]
        },
        {
          "output_type": "stream",
          "name": "stderr",
          "text": [
            "\n",
            " 14%|█▎        | 24/175 [00:05<00:32,  4.62it/s]\n",
            "100%|██████████| 6/6 [00:01<00:00,  4.16it/s]"
          ]
        },
        {
          "output_type": "stream",
          "name": "stdout",
          "text": [
            "\n",
            " EPOCH: 0084 -> val_accuracy: 0.7635, class_label_loss: 0.4882, domain_label_loss: 1.2282\n",
            "--------------------Model saved--------------------\n"
          ]
        },
        {
          "output_type": "stream",
          "name": "stderr",
          "text": [
            "\n",
            " 14%|█▎        | 24/175 [00:05<00:34,  4.34it/s]\n",
            "100%|██████████| 6/6 [00:00<00:00,  7.09it/s]"
          ]
        },
        {
          "output_type": "stream",
          "name": "stdout",
          "text": [
            "\n",
            " EPOCH: 0085 -> val_accuracy: 0.7621, class_label_loss: 0.6195, domain_label_loss: 1.2026\n"
          ]
        },
        {
          "output_type": "stream",
          "name": "stderr",
          "text": [
            "\n",
            " 14%|█▎        | 24/175 [00:04<00:27,  5.57it/s]\n",
            "100%|██████████| 6/6 [00:00<00:00,  6.93it/s]"
          ]
        },
        {
          "output_type": "stream",
          "name": "stdout",
          "text": [
            "\n",
            " EPOCH: 0086 -> val_accuracy: 0.7587, class_label_loss: 0.5827, domain_label_loss: 1.2082\n"
          ]
        },
        {
          "output_type": "stream",
          "name": "stderr",
          "text": [
            "\n",
            " 14%|█▎        | 24/175 [00:06<00:43,  3.51it/s]\n",
            "100%|██████████| 6/6 [00:01<00:00,  4.65it/s]"
          ]
        },
        {
          "output_type": "stream",
          "name": "stdout",
          "text": [
            "\n",
            " EPOCH: 0087 -> val_accuracy: 0.7603, class_label_loss: 0.5318, domain_label_loss: 1.2058\n"
          ]
        },
        {
          "output_type": "stream",
          "name": "stderr",
          "text": [
            "\n",
            " 14%|█▎        | 24/175 [00:04<00:27,  5.40it/s]\n",
            "100%|██████████| 6/6 [00:00<00:00,  7.06it/s]"
          ]
        },
        {
          "output_type": "stream",
          "name": "stdout",
          "text": [
            "\n",
            " EPOCH: 0088 -> val_accuracy: 0.7587, class_label_loss: 0.5776, domain_label_loss: 1.1983\n"
          ]
        },
        {
          "output_type": "stream",
          "name": "stderr",
          "text": [
            "\n",
            " 14%|█▎        | 24/175 [00:05<00:32,  4.70it/s]\n",
            "100%|██████████| 6/6 [00:01<00:00,  4.48it/s]"
          ]
        },
        {
          "output_type": "stream",
          "name": "stdout",
          "text": [
            "\n",
            " EPOCH: 0089 -> val_accuracy: 0.7548, class_label_loss: 0.5757, domain_label_loss: 1.2077\n"
          ]
        },
        {
          "output_type": "stream",
          "name": "stderr",
          "text": [
            "\n",
            " 14%|█▎        | 24/175 [00:05<00:35,  4.28it/s]\n",
            "100%|██████████| 6/6 [00:00<00:00,  7.05it/s]"
          ]
        },
        {
          "output_type": "stream",
          "name": "stdout",
          "text": [
            "\n",
            " EPOCH: 0090 -> val_accuracy: 0.7606, class_label_loss: 0.5254, domain_label_loss: 1.1978\n"
          ]
        },
        {
          "output_type": "stream",
          "name": "stderr",
          "text": [
            "\n",
            " 14%|█▎        | 24/175 [00:04<00:27,  5.56it/s]\n",
            "100%|██████████| 6/6 [00:00<00:00,  6.87it/s]"
          ]
        },
        {
          "output_type": "stream",
          "name": "stdout",
          "text": [
            "\n",
            " EPOCH: 0091 -> val_accuracy: 0.7598, class_label_loss: 0.5256, domain_label_loss: 1.2346\n"
          ]
        },
        {
          "output_type": "stream",
          "name": "stderr",
          "text": [
            "\n",
            " 14%|█▎        | 24/175 [00:07<00:46,  3.23it/s]\n",
            "100%|██████████| 6/6 [00:01<00:00,  4.73it/s]"
          ]
        },
        {
          "output_type": "stream",
          "name": "stdout",
          "text": [
            "\n",
            " EPOCH: 0092 -> val_accuracy: 0.7600, class_label_loss: 0.5311, domain_label_loss: 1.2106\n"
          ]
        },
        {
          "output_type": "stream",
          "name": "stderr",
          "text": [
            "\n",
            " 14%|█▎        | 24/175 [00:04<00:27,  5.54it/s]\n",
            "100%|██████████| 6/6 [00:00<00:00,  7.10it/s]"
          ]
        },
        {
          "output_type": "stream",
          "name": "stdout",
          "text": [
            "\n",
            " EPOCH: 0093 -> val_accuracy: 0.7632, class_label_loss: 0.5235, domain_label_loss: 1.2389\n"
          ]
        },
        {
          "output_type": "stream",
          "name": "stderr",
          "text": [
            "\n",
            " 14%|█▎        | 24/175 [00:04<00:29,  5.12it/s]\n",
            "100%|██████████| 6/6 [00:01<00:00,  4.10it/s]"
          ]
        },
        {
          "output_type": "stream",
          "name": "stdout",
          "text": [
            "\n",
            " EPOCH: 0094 -> val_accuracy: 0.7579, class_label_loss: 0.5361, domain_label_loss: 1.2163\n"
          ]
        },
        {
          "output_type": "stream",
          "name": "stderr",
          "text": [
            "\n",
            " 14%|█▎        | 24/175 [00:06<00:39,  3.78it/s]\n",
            "100%|██████████| 6/6 [00:01<00:00,  3.87it/s]"
          ]
        },
        {
          "output_type": "stream",
          "name": "stdout",
          "text": [
            "\n",
            " EPOCH: 0095 -> val_accuracy: 0.7529, class_label_loss: 0.4808, domain_label_loss: 1.2578\n"
          ]
        },
        {
          "output_type": "stream",
          "name": "stderr",
          "text": [
            "\n",
            " 14%|█▎        | 24/175 [00:04<00:30,  4.88it/s]\n",
            "100%|██████████| 6/6 [00:01<00:00,  4.19it/s]"
          ]
        },
        {
          "output_type": "stream",
          "name": "stdout",
          "text": [
            "\n",
            " EPOCH: 0096 -> val_accuracy: 0.7571, class_label_loss: 0.4730, domain_label_loss: 1.2623\n"
          ]
        },
        {
          "output_type": "stream",
          "name": "stderr",
          "text": [
            "\n",
            " 14%|█▎        | 24/175 [00:06<00:41,  3.67it/s]\n",
            "100%|██████████| 6/6 [00:00<00:00,  6.92it/s]"
          ]
        },
        {
          "output_type": "stream",
          "name": "stdout",
          "text": [
            "\n",
            " EPOCH: 0097 -> val_accuracy: 0.7718, class_label_loss: 0.5094, domain_label_loss: 1.2323\n",
            "--------------------Model saved--------------------\n"
          ]
        },
        {
          "output_type": "stream",
          "name": "stderr",
          "text": [
            "\n",
            " 14%|█▎        | 24/175 [00:04<00:27,  5.57it/s]\n",
            "100%|██████████| 6/6 [00:00<00:00,  7.15it/s]"
          ]
        },
        {
          "output_type": "stream",
          "name": "stdout",
          "text": [
            "\n",
            " EPOCH: 0098 -> val_accuracy: 0.7681, class_label_loss: 0.4732, domain_label_loss: 1.2465\n"
          ]
        },
        {
          "output_type": "stream",
          "name": "stderr",
          "text": [
            "\n",
            " 14%|█▎        | 24/175 [00:06<00:39,  3.83it/s]\n",
            "100%|██████████| 6/6 [00:01<00:00,  3.96it/s]"
          ]
        },
        {
          "output_type": "stream",
          "name": "stdout",
          "text": [
            "\n",
            " EPOCH: 0099 -> val_accuracy: 0.7657, class_label_loss: 0.4543, domain_label_loss: 1.2455\n"
          ]
        },
        {
          "output_type": "stream",
          "name": "stderr",
          "text": [
            "\n",
            " 14%|█▎        | 24/175 [00:04<00:30,  4.91it/s]\n",
            "100%|██████████| 6/6 [00:00<00:00,  6.89it/s]"
          ]
        },
        {
          "output_type": "stream",
          "name": "stdout",
          "text": [
            "\n",
            " EPOCH: 0100 -> val_accuracy: 0.7616, class_label_loss: 0.4954, domain_label_loss: 1.2369\n"
          ]
        },
        {
          "output_type": "stream",
          "name": "stderr",
          "text": [
            "\n",
            " 14%|█▎        | 24/175 [00:04<00:25,  5.84it/s]\n",
            "100%|██████████| 6/6 [00:01<00:00,  4.85it/s]"
          ]
        },
        {
          "output_type": "stream",
          "name": "stdout",
          "text": [
            "\n",
            " EPOCH: 0101 -> val_accuracy: 0.7624, class_label_loss: 0.5252, domain_label_loss: 1.2268\n"
          ]
        },
        {
          "output_type": "stream",
          "name": "stderr",
          "text": [
            "\n",
            " 14%|█▎        | 24/175 [00:07<00:45,  3.29it/s]\n",
            "100%|██████████| 6/6 [00:00<00:00,  6.94it/s]"
          ]
        },
        {
          "output_type": "stream",
          "name": "stdout",
          "text": [
            "\n",
            " EPOCH: 0102 -> val_accuracy: 0.7639, class_label_loss: 0.4611, domain_label_loss: 1.2397\n"
          ]
        },
        {
          "output_type": "stream",
          "name": "stderr",
          "text": [
            "\n",
            " 14%|█▎        | 24/175 [00:04<00:27,  5.53it/s]\n",
            "100%|██████████| 6/6 [00:00<00:00,  6.90it/s]"
          ]
        },
        {
          "output_type": "stream",
          "name": "stdout",
          "text": [
            "\n",
            " EPOCH: 0103 -> val_accuracy: 0.7738, class_label_loss: 0.4813, domain_label_loss: 1.2320\n",
            "--------------------Model saved--------------------\n"
          ]
        },
        {
          "output_type": "stream",
          "name": "stderr",
          "text": [
            "\n",
            " 14%|█▎        | 24/175 [00:06<00:40,  3.74it/s]\n",
            "100%|██████████| 6/6 [00:01<00:00,  4.24it/s]"
          ]
        },
        {
          "output_type": "stream",
          "name": "stdout",
          "text": [
            "\n",
            " EPOCH: 0104 -> val_accuracy: 0.7647, class_label_loss: 0.4571, domain_label_loss: 1.2964\n"
          ]
        },
        {
          "output_type": "stream",
          "name": "stderr",
          "text": [
            "\n",
            " 14%|█▎        | 24/175 [00:04<00:29,  5.13it/s]\n",
            "100%|██████████| 6/6 [00:00<00:00,  7.01it/s]"
          ]
        },
        {
          "output_type": "stream",
          "name": "stdout",
          "text": [
            "\n",
            " EPOCH: 0105 -> val_accuracy: 0.7692, class_label_loss: 0.4697, domain_label_loss: 1.2367\n"
          ]
        },
        {
          "output_type": "stream",
          "name": "stderr",
          "text": [
            "\n",
            " 14%|█▎        | 24/175 [00:04<00:27,  5.55it/s]\n",
            "100%|██████████| 6/6 [00:01<00:00,  4.14it/s]"
          ]
        },
        {
          "output_type": "stream",
          "name": "stdout",
          "text": [
            "\n",
            " EPOCH: 0106 -> val_accuracy: 0.7619, class_label_loss: 0.5460, domain_label_loss: 1.2449\n"
          ]
        },
        {
          "output_type": "stream",
          "name": "stderr",
          "text": [
            "\n",
            " 14%|█▎        | 24/175 [00:07<00:45,  3.35it/s]\n",
            "100%|██████████| 6/6 [00:00<00:00,  6.87it/s]"
          ]
        },
        {
          "output_type": "stream",
          "name": "stdout",
          "text": [
            "\n",
            " EPOCH: 0107 -> val_accuracy: 0.7686, class_label_loss: 0.4614, domain_label_loss: 1.2343\n"
          ]
        },
        {
          "output_type": "stream",
          "name": "stderr",
          "text": [
            "\n",
            " 14%|█▎        | 24/175 [00:04<00:25,  5.90it/s]\n",
            "100%|██████████| 6/6 [00:00<00:00,  7.33it/s]"
          ]
        },
        {
          "output_type": "stream",
          "name": "stdout",
          "text": [
            "\n",
            " EPOCH: 0108 -> val_accuracy: 0.7653, class_label_loss: 0.4201, domain_label_loss: 1.2913\n"
          ]
        },
        {
          "output_type": "stream",
          "name": "stderr",
          "text": [
            "\n",
            " 14%|█▎        | 24/175 [00:05<00:37,  4.06it/s]\n",
            "100%|██████████| 6/6 [00:01<00:00,  4.16it/s]"
          ]
        },
        {
          "output_type": "stream",
          "name": "stdout",
          "text": [
            "\n",
            " EPOCH: 0109 -> val_accuracy: 0.7695, class_label_loss: 0.4051, domain_label_loss: 1.2575\n"
          ]
        },
        {
          "output_type": "stream",
          "name": "stderr",
          "text": [
            "\n",
            " 14%|█▎        | 24/175 [00:05<00:32,  4.67it/s]\n",
            "100%|██████████| 6/6 [00:00<00:00,  7.03it/s]"
          ]
        },
        {
          "output_type": "stream",
          "name": "stdout",
          "text": [
            "\n",
            " EPOCH: 0110 -> val_accuracy: 0.7571, class_label_loss: 0.4217, domain_label_loss: 1.2540\n"
          ]
        },
        {
          "output_type": "stream",
          "name": "stderr",
          "text": [
            "\n",
            " 14%|█▎        | 24/175 [00:04<00:27,  5.56it/s]\n",
            "100%|██████████| 6/6 [00:00<00:00,  6.10it/s]"
          ]
        },
        {
          "output_type": "stream",
          "name": "stdout",
          "text": [
            "\n",
            " EPOCH: 0111 -> val_accuracy: 0.7608, class_label_loss: 0.4350, domain_label_loss: 1.2765\n"
          ]
        },
        {
          "output_type": "stream",
          "name": "stderr",
          "text": [
            "\n",
            " 14%|█▎        | 24/175 [00:07<00:45,  3.28it/s]\n",
            "100%|██████████| 6/6 [00:00<00:00,  6.79it/s]"
          ]
        },
        {
          "output_type": "stream",
          "name": "stdout",
          "text": [
            "\n",
            " EPOCH: 0112 -> val_accuracy: 0.7666, class_label_loss: 0.4652, domain_label_loss: 1.3018\n"
          ]
        },
        {
          "output_type": "stream",
          "name": "stderr",
          "text": [
            "\n",
            " 14%|█▎        | 24/175 [00:04<00:26,  5.79it/s]\n",
            "100%|██████████| 6/6 [00:00<00:00,  7.14it/s]"
          ]
        },
        {
          "output_type": "stream",
          "name": "stdout",
          "text": [
            "\n",
            " EPOCH: 0113 -> val_accuracy: 0.7736, class_label_loss: 0.4489, domain_label_loss: 1.2901\n"
          ]
        },
        {
          "output_type": "stream",
          "name": "stderr",
          "text": [
            "\n",
            " 14%|█▎        | 24/175 [00:05<00:33,  4.55it/s]\n",
            "100%|██████████| 6/6 [00:01<00:00,  4.39it/s]"
          ]
        },
        {
          "output_type": "stream",
          "name": "stdout",
          "text": [
            "\n",
            " EPOCH: 0114 -> val_accuracy: 0.7632, class_label_loss: 0.4315, domain_label_loss: 1.2403\n"
          ]
        },
        {
          "output_type": "stream",
          "name": "stderr",
          "text": [
            "\n",
            " 14%|█▎        | 24/175 [00:06<00:38,  3.89it/s]\n",
            "100%|██████████| 6/6 [00:00<00:00,  7.09it/s]"
          ]
        },
        {
          "output_type": "stream",
          "name": "stdout",
          "text": [
            "\n",
            " EPOCH: 0115 -> val_accuracy: 0.7821, class_label_loss: 0.4386, domain_label_loss: 1.2950\n",
            "--------------------Model saved--------------------\n"
          ]
        },
        {
          "output_type": "stream",
          "name": "stderr",
          "text": [
            "\n",
            " 14%|█▎        | 24/175 [00:04<00:26,  5.79it/s]\n",
            "100%|██████████| 6/6 [00:00<00:00,  6.92it/s]"
          ]
        },
        {
          "output_type": "stream",
          "name": "stdout",
          "text": [
            "\n",
            " EPOCH: 0116 -> val_accuracy: 0.7778, class_label_loss: 0.4469, domain_label_loss: 1.3077\n"
          ]
        },
        {
          "output_type": "stream",
          "name": "stderr",
          "text": [
            "\n",
            " 14%|█▎        | 24/175 [00:07<00:44,  3.37it/s]\n",
            "100%|██████████| 6/6 [00:01<00:00,  4.54it/s]"
          ]
        },
        {
          "output_type": "stream",
          "name": "stdout",
          "text": [
            "\n",
            " EPOCH: 0117 -> val_accuracy: 0.7718, class_label_loss: 0.5231, domain_label_loss: 1.3020\n"
          ]
        },
        {
          "output_type": "stream",
          "name": "stderr",
          "text": [
            "\n",
            " 14%|█▎        | 24/175 [00:04<00:26,  5.77it/s]\n",
            "100%|██████████| 6/6 [00:00<00:00,  7.11it/s]"
          ]
        },
        {
          "output_type": "stream",
          "name": "stdout",
          "text": [
            "\n",
            " EPOCH: 0118 -> val_accuracy: 0.7644, class_label_loss: 0.4332, domain_label_loss: 1.2999\n"
          ]
        },
        {
          "output_type": "stream",
          "name": "stderr",
          "text": [
            "\n",
            " 14%|█▎        | 24/175 [00:04<00:30,  5.02it/s]\n",
            "100%|██████████| 6/6 [00:01<00:00,  4.21it/s]"
          ]
        },
        {
          "output_type": "stream",
          "name": "stdout",
          "text": [
            "\n",
            " EPOCH: 0119 -> val_accuracy: 0.7587, class_label_loss: 0.4758, domain_label_loss: 1.3565\n"
          ]
        },
        {
          "output_type": "stream",
          "name": "stderr",
          "text": [
            "\n",
            " 14%|█▎        | 24/175 [00:06<00:38,  3.88it/s]\n",
            "100%|██████████| 6/6 [00:00<00:00,  6.98it/s]"
          ]
        },
        {
          "output_type": "stream",
          "name": "stdout",
          "text": [
            "\n",
            " EPOCH: 0120 -> val_accuracy: 0.7818, class_label_loss: 0.4655, domain_label_loss: 1.2858\n"
          ]
        },
        {
          "output_type": "stream",
          "name": "stderr",
          "text": [
            "\n",
            " 14%|█▎        | 24/175 [00:04<00:26,  5.77it/s]\n",
            "100%|██████████| 6/6 [00:00<00:00,  6.82it/s]"
          ]
        },
        {
          "output_type": "stream",
          "name": "stdout",
          "text": [
            "\n",
            " EPOCH: 0121 -> val_accuracy: 0.7723, class_label_loss: 0.3989, domain_label_loss: 1.3244\n"
          ]
        },
        {
          "output_type": "stream",
          "name": "stderr",
          "text": [
            "\n",
            " 14%|█▎        | 24/175 [00:06<00:42,  3.52it/s]\n",
            "100%|██████████| 6/6 [00:01<00:00,  4.47it/s]"
          ]
        },
        {
          "output_type": "stream",
          "name": "stdout",
          "text": [
            "\n",
            " EPOCH: 0122 -> val_accuracy: 0.7658, class_label_loss: 0.4943, domain_label_loss: 1.3401\n"
          ]
        },
        {
          "output_type": "stream",
          "name": "stderr",
          "text": [
            "\n",
            " 14%|█▎        | 24/175 [00:04<00:27,  5.50it/s]\n",
            "100%|██████████| 6/6 [00:00<00:00,  7.11it/s]"
          ]
        },
        {
          "output_type": "stream",
          "name": "stdout",
          "text": [
            "\n",
            " EPOCH: 0123 -> val_accuracy: 0.7760, class_label_loss: 0.4329, domain_label_loss: 1.3481\n"
          ]
        },
        {
          "output_type": "stream",
          "name": "stderr",
          "text": [
            "\n",
            " 14%|█▎        | 24/175 [00:04<00:27,  5.44it/s]\n",
            "100%|██████████| 6/6 [00:01<00:00,  4.27it/s]"
          ]
        },
        {
          "output_type": "stream",
          "name": "stdout",
          "text": [
            "\n",
            " EPOCH: 0124 -> val_accuracy: 0.7811, class_label_loss: 0.3989, domain_label_loss: 1.3152\n"
          ]
        },
        {
          "output_type": "stream",
          "name": "stderr",
          "text": [
            "\n",
            " 14%|█▎        | 24/175 [00:06<00:39,  3.80it/s]\n",
            "100%|██████████| 6/6 [00:00<00:00,  6.91it/s]"
          ]
        },
        {
          "output_type": "stream",
          "name": "stdout",
          "text": [
            "\n",
            " EPOCH: 0125 -> val_accuracy: 0.7670, class_label_loss: 0.3963, domain_label_loss: 1.3405\n"
          ]
        },
        {
          "output_type": "stream",
          "name": "stderr",
          "text": [
            "\n",
            " 14%|█▎        | 24/175 [00:04<00:26,  5.65it/s]\n",
            "100%|██████████| 6/6 [00:00<00:00,  6.92it/s]"
          ]
        },
        {
          "output_type": "stream",
          "name": "stdout",
          "text": [
            "\n",
            " EPOCH: 0126 -> val_accuracy: 0.7673, class_label_loss: 0.4447, domain_label_loss: 1.3554\n"
          ]
        },
        {
          "output_type": "stream",
          "name": "stderr",
          "text": [
            "\n",
            " 14%|█▎        | 24/175 [00:06<00:43,  3.46it/s]\n",
            "100%|██████████| 6/6 [00:01<00:00,  4.28it/s]"
          ]
        },
        {
          "output_type": "stream",
          "name": "stdout",
          "text": [
            "\n",
            " EPOCH: 0127 -> val_accuracy: 0.7663, class_label_loss: 0.3949, domain_label_loss: 1.3608\n"
          ]
        },
        {
          "output_type": "stream",
          "name": "stderr",
          "text": [
            "\n",
            " 14%|█▎        | 24/175 [00:04<00:28,  5.34it/s]\n",
            "100%|██████████| 6/6 [00:00<00:00,  6.88it/s]"
          ]
        },
        {
          "output_type": "stream",
          "name": "stdout",
          "text": [
            "\n",
            " EPOCH: 0128 -> val_accuracy: 0.7619, class_label_loss: 0.3971, domain_label_loss: 1.3556\n"
          ]
        },
        {
          "output_type": "stream",
          "name": "stderr",
          "text": [
            "\n",
            " 14%|█▎        | 24/175 [00:04<00:27,  5.59it/s]\n",
            "100%|██████████| 6/6 [00:01<00:00,  4.22it/s]"
          ]
        },
        {
          "output_type": "stream",
          "name": "stdout",
          "text": [
            "\n",
            " EPOCH: 0129 -> val_accuracy: 0.7764, class_label_loss: 0.4418, domain_label_loss: 1.3722\n"
          ]
        },
        {
          "output_type": "stream",
          "name": "stderr",
          "text": [
            "\n",
            " 14%|█▎        | 24/175 [00:06<00:42,  3.53it/s]\n",
            "100%|██████████| 6/6 [00:01<00:00,  5.56it/s]"
          ]
        },
        {
          "output_type": "stream",
          "name": "stdout",
          "text": [
            "\n",
            " EPOCH: 0130 -> val_accuracy: 0.7681, class_label_loss: 0.4589, domain_label_loss: 1.3582\n"
          ]
        },
        {
          "output_type": "stream",
          "name": "stderr",
          "text": [
            "\n",
            " 14%|█▎        | 24/175 [00:04<00:27,  5.51it/s]\n",
            "100%|██████████| 6/6 [00:00<00:00,  6.76it/s]"
          ]
        },
        {
          "output_type": "stream",
          "name": "stdout",
          "text": [
            "\n",
            " EPOCH: 0131 -> val_accuracy: 0.7751, class_label_loss: 0.4049, domain_label_loss: 1.3518\n"
          ]
        },
        {
          "output_type": "stream",
          "name": "stderr",
          "text": [
            "\n",
            " 14%|█▎        | 24/175 [00:07<00:44,  3.36it/s]\n",
            "100%|██████████| 6/6 [00:01<00:00,  3.93it/s]"
          ]
        },
        {
          "output_type": "stream",
          "name": "stdout",
          "text": [
            "\n",
            " EPOCH: 0132 -> val_accuracy: 0.7684, class_label_loss: 0.4150, domain_label_loss: 1.3795\n"
          ]
        },
        {
          "output_type": "stream",
          "name": "stderr",
          "text": [
            "\n",
            " 14%|█▎        | 24/175 [00:04<00:26,  5.76it/s]\n",
            "100%|██████████| 6/6 [00:00<00:00,  6.86it/s]"
          ]
        },
        {
          "output_type": "stream",
          "name": "stdout",
          "text": [
            "\n",
            " EPOCH: 0133 -> val_accuracy: 0.7637, class_label_loss: 0.3903, domain_label_loss: 1.3812\n"
          ]
        },
        {
          "output_type": "stream",
          "name": "stderr",
          "text": [
            "\n",
            " 14%|█▎        | 24/175 [00:04<00:30,  5.02it/s]\n",
            "100%|██████████| 6/6 [00:01<00:00,  4.27it/s]"
          ]
        },
        {
          "output_type": "stream",
          "name": "stdout",
          "text": [
            "\n",
            " EPOCH: 0134 -> val_accuracy: 0.7611, class_label_loss: 0.4261, domain_label_loss: 1.3952\n"
          ]
        },
        {
          "output_type": "stream",
          "name": "stderr",
          "text": [
            "\n",
            " 14%|█▎        | 24/175 [00:06<00:37,  4.00it/s]\n",
            "100%|██████████| 6/6 [00:00<00:00,  7.18it/s]"
          ]
        },
        {
          "output_type": "stream",
          "name": "stdout",
          "text": [
            "\n",
            " EPOCH: 0135 -> val_accuracy: 0.7749, class_label_loss: 0.4871, domain_label_loss: 1.3537\n"
          ]
        },
        {
          "output_type": "stream",
          "name": "stderr",
          "text": [
            "\n",
            " 14%|█▎        | 24/175 [00:04<00:27,  5.54it/s]\n",
            "100%|██████████| 6/6 [00:00<00:00,  6.68it/s]"
          ]
        },
        {
          "output_type": "stream",
          "name": "stdout",
          "text": [
            "\n",
            " EPOCH: 0136 -> val_accuracy: 0.7663, class_label_loss: 0.3840, domain_label_loss: 1.4021\n"
          ]
        },
        {
          "output_type": "stream",
          "name": "stderr",
          "text": [
            "\n",
            " 14%|█▎        | 24/175 [00:06<00:41,  3.67it/s]\n",
            "100%|██████████| 6/6 [00:01<00:00,  3.99it/s]"
          ]
        },
        {
          "output_type": "stream",
          "name": "stdout",
          "text": [
            "\n",
            " EPOCH: 0137 -> val_accuracy: 0.7688, class_label_loss: 0.3803, domain_label_loss: 1.3839\n"
          ]
        },
        {
          "output_type": "stream",
          "name": "stderr",
          "text": [
            "\n",
            " 14%|█▎        | 24/175 [00:04<00:29,  5.12it/s]\n",
            "100%|██████████| 6/6 [00:00<00:00,  6.74it/s]"
          ]
        },
        {
          "output_type": "stream",
          "name": "stdout",
          "text": [
            "\n",
            " EPOCH: 0138 -> val_accuracy: 0.7595, class_label_loss: 0.4034, domain_label_loss: 1.3746\n"
          ]
        },
        {
          "output_type": "stream",
          "name": "stderr",
          "text": [
            "\n",
            " 14%|█▎        | 24/175 [00:04<00:28,  5.33it/s]\n",
            "100%|██████████| 6/6 [00:01<00:00,  4.19it/s]"
          ]
        },
        {
          "output_type": "stream",
          "name": "stdout",
          "text": [
            "\n",
            " EPOCH: 0139 -> val_accuracy: 0.7786, class_label_loss: 0.4327, domain_label_loss: 1.4068\n"
          ]
        },
        {
          "output_type": "stream",
          "name": "stderr",
          "text": [
            "\n",
            " 14%|█▎        | 24/175 [00:06<00:39,  3.79it/s]\n",
            "100%|██████████| 6/6 [00:00<00:00,  6.87it/s]"
          ]
        },
        {
          "output_type": "stream",
          "name": "stdout",
          "text": [
            "\n",
            " EPOCH: 0140 -> val_accuracy: 0.7697, class_label_loss: 0.4499, domain_label_loss: 1.4104\n"
          ]
        },
        {
          "output_type": "stream",
          "name": "stderr",
          "text": [
            "\n",
            " 14%|█▎        | 24/175 [00:04<00:25,  5.88it/s]\n",
            "100%|██████████| 6/6 [00:00<00:00,  6.60it/s]"
          ]
        },
        {
          "output_type": "stream",
          "name": "stdout",
          "text": [
            "\n",
            " EPOCH: 0141 -> val_accuracy: 0.7736, class_label_loss: 0.3329, domain_label_loss: 1.4191\n"
          ]
        },
        {
          "output_type": "stream",
          "name": "stderr",
          "text": [
            "\n",
            " 14%|█▎        | 24/175 [00:06<00:41,  3.67it/s]\n",
            "100%|██████████| 6/6 [00:01<00:00,  4.16it/s]"
          ]
        },
        {
          "output_type": "stream",
          "name": "stdout",
          "text": [
            "\n",
            " EPOCH: 0142 -> val_accuracy: 0.7649, class_label_loss: 0.3266, domain_label_loss: 1.4126\n"
          ]
        },
        {
          "output_type": "stream",
          "name": "stderr",
          "text": [
            "\n",
            " 14%|█▎        | 24/175 [00:04<00:29,  5.15it/s]\n",
            "100%|██████████| 6/6 [00:00<00:00,  6.64it/s]"
          ]
        },
        {
          "output_type": "stream",
          "name": "stdout",
          "text": [
            "\n",
            " EPOCH: 0143 -> val_accuracy: 0.7689, class_label_loss: 0.4391, domain_label_loss: 1.4105\n"
          ]
        },
        {
          "output_type": "stream",
          "name": "stderr",
          "text": [
            "\n",
            " 14%|█▎        | 24/175 [00:04<00:28,  5.25it/s]\n",
            "100%|██████████| 6/6 [00:01<00:00,  4.09it/s]"
          ]
        },
        {
          "output_type": "stream",
          "name": "stdout",
          "text": [
            "\n",
            " EPOCH: 0144 -> val_accuracy: 0.7519, class_label_loss: 0.3622, domain_label_loss: 1.3823\n"
          ]
        },
        {
          "output_type": "stream",
          "name": "stderr",
          "text": [
            "\n",
            " 14%|█▎        | 24/175 [00:06<00:40,  3.72it/s]\n",
            "100%|██████████| 6/6 [00:00<00:00,  6.79it/s]"
          ]
        },
        {
          "output_type": "stream",
          "name": "stdout",
          "text": [
            "\n",
            " EPOCH: 0145 -> val_accuracy: 0.7574, class_label_loss: 0.3779, domain_label_loss: 1.4237\n"
          ]
        },
        {
          "output_type": "stream",
          "name": "stderr",
          "text": [
            "\n",
            " 14%|█▎        | 24/175 [00:04<00:27,  5.44it/s]\n",
            "100%|██████████| 6/6 [00:00<00:00,  6.92it/s]"
          ]
        },
        {
          "output_type": "stream",
          "name": "stdout",
          "text": [
            "\n",
            " EPOCH: 0146 -> val_accuracy: 0.7723, class_label_loss: 0.3778, domain_label_loss: 1.4154\n"
          ]
        },
        {
          "output_type": "stream",
          "name": "stderr",
          "text": [
            "\n",
            " 14%|█▎        | 24/175 [00:06<00:42,  3.59it/s]\n",
            "100%|██████████| 6/6 [00:01<00:00,  4.45it/s]"
          ]
        },
        {
          "output_type": "stream",
          "name": "stdout",
          "text": [
            "\n",
            " EPOCH: 0147 -> val_accuracy: 0.7735, class_label_loss: 0.3625, domain_label_loss: 1.4213\n"
          ]
        },
        {
          "output_type": "stream",
          "name": "stderr",
          "text": [
            "\n",
            " 14%|█▎        | 24/175 [00:04<00:27,  5.55it/s]\n",
            "100%|██████████| 6/6 [00:00<00:00,  6.54it/s]"
          ]
        },
        {
          "output_type": "stream",
          "name": "stdout",
          "text": [
            "\n",
            " EPOCH: 0148 -> val_accuracy: 0.7652, class_label_loss: 0.4134, domain_label_loss: 1.3983\n"
          ]
        },
        {
          "output_type": "stream",
          "name": "stderr",
          "text": [
            "\n",
            " 14%|█▎        | 24/175 [00:04<00:25,  5.82it/s]\n",
            "100%|██████████| 6/6 [00:01<00:00,  4.20it/s]"
          ]
        },
        {
          "output_type": "stream",
          "name": "stdout",
          "text": [
            "\n",
            " EPOCH: 0149 -> val_accuracy: 0.7668, class_label_loss: 0.3940, domain_label_loss: 1.3747\n"
          ]
        },
        {
          "output_type": "stream",
          "name": "stderr",
          "text": [
            "\n",
            " 14%|█▎        | 24/175 [00:06<00:41,  3.63it/s]\n",
            "100%|██████████| 6/6 [00:00<00:00,  6.61it/s]"
          ]
        },
        {
          "output_type": "stream",
          "name": "stdout",
          "text": [
            "\n",
            " EPOCH: 0150 -> val_accuracy: 0.7569, class_label_loss: 0.3711, domain_label_loss: 1.3993\n"
          ]
        },
        {
          "output_type": "stream",
          "name": "stderr",
          "text": [
            "\n",
            " 14%|█▎        | 24/175 [00:04<00:27,  5.44it/s]\n",
            "100%|██████████| 6/6 [00:00<00:00,  6.91it/s]"
          ]
        },
        {
          "output_type": "stream",
          "name": "stdout",
          "text": [
            "\n",
            " EPOCH: 0151 -> val_accuracy: 0.7598, class_label_loss: 0.3506, domain_label_loss: 1.4290\n"
          ]
        },
        {
          "output_type": "stream",
          "name": "stderr",
          "text": [
            "\n",
            " 14%|█▎        | 24/175 [00:06<00:40,  3.69it/s]\n",
            "100%|██████████| 6/6 [00:01<00:00,  4.31it/s]"
          ]
        },
        {
          "output_type": "stream",
          "name": "stdout",
          "text": [
            "\n",
            " EPOCH: 0152 -> val_accuracy: 0.7751, class_label_loss: 0.3303, domain_label_loss: 1.4347\n"
          ]
        },
        {
          "output_type": "stream",
          "name": "stderr",
          "text": [
            "\n",
            " 14%|█▎        | 24/175 [00:04<00:29,  5.12it/s]\n",
            "100%|██████████| 6/6 [00:00<00:00,  6.27it/s]"
          ]
        },
        {
          "output_type": "stream",
          "name": "stdout",
          "text": [
            "\n",
            " EPOCH: 0153 -> val_accuracy: 0.7637, class_label_loss: 0.3197, domain_label_loss: 1.4394\n"
          ]
        },
        {
          "output_type": "stream",
          "name": "stderr",
          "text": [
            "\n",
            " 14%|█▎        | 24/175 [00:04<00:27,  5.57it/s]\n",
            "100%|██████████| 6/6 [00:01<00:00,  4.02it/s]"
          ]
        },
        {
          "output_type": "stream",
          "name": "stdout",
          "text": [
            "\n",
            " EPOCH: 0154 -> val_accuracy: 0.7694, class_label_loss: 0.4100, domain_label_loss: 1.4353\n"
          ]
        },
        {
          "output_type": "stream",
          "name": "stderr",
          "text": [
            "\n",
            " 14%|█▎        | 24/175 [00:06<00:41,  3.68it/s]\n",
            "100%|██████████| 6/6 [00:00<00:00,  6.53it/s]"
          ]
        },
        {
          "output_type": "stream",
          "name": "stdout",
          "text": [
            "\n",
            " EPOCH: 0155 -> val_accuracy: 0.7762, class_label_loss: 0.3431, domain_label_loss: 1.4435\n"
          ]
        },
        {
          "output_type": "stream",
          "name": "stderr",
          "text": [
            "\n",
            " 14%|█▎        | 24/175 [00:04<00:26,  5.64it/s]\n",
            "100%|██████████| 6/6 [00:00<00:00,  6.97it/s]"
          ]
        },
        {
          "output_type": "stream",
          "name": "stdout",
          "text": [
            "\n",
            " EPOCH: 0156 -> val_accuracy: 0.7592, class_label_loss: 0.3633, domain_label_loss: 1.4544\n"
          ]
        },
        {
          "output_type": "stream",
          "name": "stderr",
          "text": [
            "\n",
            " 14%|█▎        | 24/175 [00:06<00:40,  3.77it/s]\n",
            "100%|██████████| 6/6 [00:01<00:00,  4.08it/s]"
          ]
        },
        {
          "output_type": "stream",
          "name": "stdout",
          "text": [
            "\n",
            " EPOCH: 0157 -> val_accuracy: 0.7671, class_label_loss: 0.3663, domain_label_loss: 1.4122\n"
          ]
        },
        {
          "output_type": "stream",
          "name": "stderr",
          "text": [
            "\n",
            " 14%|█▎        | 24/175 [00:05<00:31,  4.79it/s]\n",
            "100%|██████████| 6/6 [00:00<00:00,  6.79it/s]"
          ]
        },
        {
          "output_type": "stream",
          "name": "stdout",
          "text": [
            "\n",
            " EPOCH: 0158 -> val_accuracy: 0.7688, class_label_loss: 0.3582, domain_label_loss: 1.4117\n"
          ]
        },
        {
          "output_type": "stream",
          "name": "stderr",
          "text": [
            "\n",
            " 14%|█▎        | 24/175 [00:04<00:27,  5.57it/s]\n",
            "100%|██████████| 6/6 [00:01<00:00,  4.35it/s]"
          ]
        },
        {
          "output_type": "stream",
          "name": "stdout",
          "text": [
            "\n",
            " EPOCH: 0159 -> val_accuracy: 0.7590, class_label_loss: 0.3638, domain_label_loss: 1.4286\n"
          ]
        },
        {
          "output_type": "stream",
          "name": "stderr",
          "text": [
            "\n",
            " 14%|█▎        | 24/175 [00:06<00:43,  3.48it/s]\n",
            "100%|██████████| 6/6 [00:00<00:00,  6.73it/s]"
          ]
        },
        {
          "output_type": "stream",
          "name": "stdout",
          "text": [
            "\n",
            " EPOCH: 0160 -> val_accuracy: 0.7730, class_label_loss: 0.3128, domain_label_loss: 1.4406\n"
          ]
        },
        {
          "output_type": "stream",
          "name": "stderr",
          "text": [
            "\n",
            " 14%|█▎        | 24/175 [00:04<00:27,  5.57it/s]\n",
            "100%|██████████| 6/6 [00:00<00:00,  6.65it/s]"
          ]
        },
        {
          "output_type": "stream",
          "name": "stdout",
          "text": [
            "\n",
            " EPOCH: 0161 -> val_accuracy: 0.7702, class_label_loss: 0.3880, domain_label_loss: 1.4318\n"
          ]
        },
        {
          "output_type": "stream",
          "name": "stderr",
          "text": [
            "\n",
            " 14%|█▎        | 24/175 [00:06<00:39,  3.85it/s]\n",
            "100%|██████████| 6/6 [00:01<00:00,  3.85it/s]"
          ]
        },
        {
          "output_type": "stream",
          "name": "stdout",
          "text": [
            "\n",
            " EPOCH: 0162 -> val_accuracy: 0.7636, class_label_loss: 0.3079, domain_label_loss: 1.4087\n"
          ]
        },
        {
          "output_type": "stream",
          "name": "stderr",
          "text": [
            "\n",
            " 14%|█▎        | 24/175 [00:04<00:31,  4.83it/s]\n",
            "100%|██████████| 6/6 [00:00<00:00,  6.84it/s]"
          ]
        },
        {
          "output_type": "stream",
          "name": "stdout",
          "text": [
            "\n",
            " EPOCH: 0163 -> val_accuracy: 0.7603, class_label_loss: 0.2805, domain_label_loss: 1.4440\n"
          ]
        },
        {
          "output_type": "stream",
          "name": "stderr",
          "text": [
            "\n",
            " 14%|█▎        | 24/175 [00:04<00:26,  5.69it/s]\n",
            "100%|██████████| 6/6 [00:01<00:00,  4.33it/s]"
          ]
        },
        {
          "output_type": "stream",
          "name": "stdout",
          "text": [
            "\n",
            " EPOCH: 0164 -> val_accuracy: 0.7734, class_label_loss: 0.3235, domain_label_loss: 1.4334\n"
          ]
        },
        {
          "output_type": "stream",
          "name": "stderr",
          "text": [
            "\n",
            " 14%|█▎        | 24/175 [00:07<00:45,  3.35it/s]\n",
            "100%|██████████| 6/6 [00:00<00:00,  6.78it/s]"
          ]
        },
        {
          "output_type": "stream",
          "name": "stdout",
          "text": [
            "\n",
            " EPOCH: 0165 -> val_accuracy: 0.7757, class_label_loss: 0.3640, domain_label_loss: 1.4213\n"
          ]
        },
        {
          "output_type": "stream",
          "name": "stderr",
          "text": [
            "\n",
            " 14%|█▎        | 24/175 [00:04<00:26,  5.69it/s]\n",
            "100%|██████████| 6/6 [00:00<00:00,  7.14it/s]"
          ]
        },
        {
          "output_type": "stream",
          "name": "stdout",
          "text": [
            "\n",
            " EPOCH: 0166 -> val_accuracy: 0.7650, class_label_loss: 0.3655, domain_label_loss: 1.4204\n"
          ]
        },
        {
          "output_type": "stream",
          "name": "stderr",
          "text": [
            "\n",
            " 14%|█▎        | 24/175 [00:06<00:39,  3.86it/s]\n",
            "100%|██████████| 6/6 [00:01<00:00,  3.63it/s]"
          ]
        },
        {
          "output_type": "stream",
          "name": "stdout",
          "text": [
            "\n",
            " EPOCH: 0167 -> val_accuracy: 0.7710, class_label_loss: 0.3495, domain_label_loss: 1.4365\n"
          ]
        },
        {
          "output_type": "stream",
          "name": "stderr",
          "text": [
            "\n",
            " 14%|█▎        | 24/175 [00:04<00:29,  5.05it/s]\n",
            "100%|██████████| 6/6 [00:00<00:00,  6.80it/s]"
          ]
        },
        {
          "output_type": "stream",
          "name": "stdout",
          "text": [
            "\n",
            " EPOCH: 0168 -> val_accuracy: 0.7713, class_label_loss: 0.2728, domain_label_loss: 1.4566\n"
          ]
        },
        {
          "output_type": "stream",
          "name": "stderr",
          "text": [
            "\n",
            " 14%|█▎        | 24/175 [00:04<00:28,  5.39it/s]\n",
            "100%|██████████| 6/6 [00:01<00:00,  4.77it/s]"
          ]
        },
        {
          "output_type": "stream",
          "name": "stdout",
          "text": [
            "\n",
            " EPOCH: 0169 -> val_accuracy: 0.7676, class_label_loss: 0.3413, domain_label_loss: 1.4233\n"
          ]
        },
        {
          "output_type": "stream",
          "name": "stderr",
          "text": [
            "\n",
            " 14%|█▎        | 24/175 [00:07<00:44,  3.38it/s]\n",
            "100%|██████████| 6/6 [00:00<00:00,  6.92it/s]"
          ]
        },
        {
          "output_type": "stream",
          "name": "stdout",
          "text": [
            "\n",
            " EPOCH: 0170 -> val_accuracy: 0.7615, class_label_loss: 0.3367, domain_label_loss: 1.4079\n"
          ]
        },
        {
          "output_type": "stream",
          "name": "stderr",
          "text": [
            "\n",
            " 14%|█▎        | 24/175 [00:03<00:25,  6.00it/s]\n",
            "100%|██████████| 6/6 [00:00<00:00,  6.77it/s]"
          ]
        },
        {
          "output_type": "stream",
          "name": "stdout",
          "text": [
            "\n",
            " EPOCH: 0171 -> val_accuracy: 0.7798, class_label_loss: 0.3380, domain_label_loss: 1.4363\n"
          ]
        },
        {
          "output_type": "stream",
          "name": "stderr",
          "text": [
            "\n",
            " 14%|█▎        | 24/175 [00:05<00:36,  4.11it/s]\n",
            "100%|██████████| 6/6 [00:01<00:00,  3.91it/s]"
          ]
        },
        {
          "output_type": "stream",
          "name": "stdout",
          "text": [
            "\n",
            " EPOCH: 0172 -> val_accuracy: 0.7723, class_label_loss: 0.3860, domain_label_loss: 1.4317\n"
          ]
        },
        {
          "output_type": "stream",
          "name": "stderr",
          "text": [
            "\n",
            " 14%|█▎        | 24/175 [00:05<00:34,  4.34it/s]\n",
            "100%|██████████| 6/6 [00:00<00:00,  6.84it/s]"
          ]
        },
        {
          "output_type": "stream",
          "name": "stdout",
          "text": [
            "\n",
            " EPOCH: 0173 -> val_accuracy: 0.7707, class_label_loss: 0.3256, domain_label_loss: 1.4360\n"
          ]
        },
        {
          "output_type": "stream",
          "name": "stderr",
          "text": [
            "\n",
            " 14%|█▎        | 24/175 [00:04<00:26,  5.59it/s]\n",
            "100%|██████████| 6/6 [00:00<00:00,  6.51it/s]"
          ]
        },
        {
          "output_type": "stream",
          "name": "stdout",
          "text": [
            "\n",
            " EPOCH: 0174 -> val_accuracy: 0.7652, class_label_loss: 0.3409, domain_label_loss: 1.4284\n"
          ]
        },
        {
          "output_type": "stream",
          "name": "stderr",
          "text": [
            "\n",
            " 14%|█▎        | 24/175 [00:07<00:46,  3.27it/s]\n",
            "100%|██████████| 6/6 [00:00<00:00,  6.02it/s]"
          ]
        },
        {
          "output_type": "stream",
          "name": "stdout",
          "text": [
            "\n",
            " EPOCH: 0175 -> val_accuracy: 0.7694, class_label_loss: 0.3714, domain_label_loss: 1.4212\n"
          ]
        },
        {
          "output_type": "stream",
          "name": "stderr",
          "text": [
            "\n",
            " 14%|█▎        | 24/175 [00:04<00:26,  5.75it/s]\n",
            "100%|██████████| 6/6 [00:00<00:00,  6.49it/s]"
          ]
        },
        {
          "output_type": "stream",
          "name": "stdout",
          "text": [
            "\n",
            " EPOCH: 0176 -> val_accuracy: 0.7725, class_label_loss: 0.2704, domain_label_loss: 1.4167\n"
          ]
        },
        {
          "output_type": "stream",
          "name": "stderr",
          "text": [
            "\n",
            " 14%|█▎        | 24/175 [00:05<00:37,  4.03it/s]\n",
            "100%|██████████| 6/6 [00:01<00:00,  3.87it/s]"
          ]
        },
        {
          "output_type": "stream",
          "name": "stdout",
          "text": [
            "\n",
            " EPOCH: 0177 -> val_accuracy: 0.7684, class_label_loss: 0.3168, domain_label_loss: 1.4193\n"
          ]
        },
        {
          "output_type": "stream",
          "name": "stderr",
          "text": [
            "\n",
            " 14%|█▎        | 24/175 [00:04<00:30,  4.94it/s]\n",
            "100%|██████████| 6/6 [00:00<00:00,  6.49it/s]"
          ]
        },
        {
          "output_type": "stream",
          "name": "stdout",
          "text": [
            "\n",
            " EPOCH: 0178 -> val_accuracy: 0.7752, class_label_loss: 0.3318, domain_label_loss: 1.4185\n"
          ]
        },
        {
          "output_type": "stream",
          "name": "stderr",
          "text": [
            "\n",
            " 14%|█▎        | 24/175 [00:04<00:27,  5.46it/s]\n",
            "100%|██████████| 6/6 [00:01<00:00,  5.34it/s]"
          ]
        },
        {
          "output_type": "stream",
          "name": "stdout",
          "text": [
            "\n",
            " EPOCH: 0179 -> val_accuracy: 0.7757, class_label_loss: 0.3602, domain_label_loss: 1.4223\n"
          ]
        },
        {
          "output_type": "stream",
          "name": "stderr",
          "text": [
            "\n",
            " 14%|█▎        | 24/175 [00:07<00:44,  3.41it/s]\n",
            "100%|██████████| 6/6 [00:00<00:00,  6.75it/s]"
          ]
        },
        {
          "output_type": "stream",
          "name": "stdout",
          "text": [
            "\n",
            " EPOCH: 0180 -> val_accuracy: 0.7768, class_label_loss: 0.4042, domain_label_loss: 1.4226\n"
          ]
        },
        {
          "output_type": "stream",
          "name": "stderr",
          "text": [
            "\n",
            " 14%|█▎        | 24/175 [00:04<00:25,  5.87it/s]\n",
            "100%|██████████| 6/6 [00:00<00:00,  6.63it/s]"
          ]
        },
        {
          "output_type": "stream",
          "name": "stdout",
          "text": [
            "\n",
            " EPOCH: 0181 -> val_accuracy: 0.7734, class_label_loss: 0.3512, domain_label_loss: 1.4118\n"
          ]
        },
        {
          "output_type": "stream",
          "name": "stderr",
          "text": [
            "\n",
            " 14%|█▎        | 24/175 [00:05<00:36,  4.11it/s]\n",
            "100%|██████████| 6/6 [00:01<00:00,  3.93it/s]"
          ]
        },
        {
          "output_type": "stream",
          "name": "stdout",
          "text": [
            "\n",
            " EPOCH: 0182 -> val_accuracy: 0.7587, class_label_loss: 0.2532, domain_label_loss: 1.4236\n"
          ]
        },
        {
          "output_type": "stream",
          "name": "stderr",
          "text": [
            "\n",
            " 14%|█▎        | 24/175 [00:05<00:31,  4.73it/s]\n",
            "100%|██████████| 6/6 [00:00<00:00,  6.70it/s]"
          ]
        },
        {
          "output_type": "stream",
          "name": "stdout",
          "text": [
            "\n",
            " EPOCH: 0183 -> val_accuracy: 0.7829, class_label_loss: 0.2965, domain_label_loss: 1.4149\n",
            "--------------------Model saved--------------------\n"
          ]
        },
        {
          "output_type": "stream",
          "name": "stderr",
          "text": [
            "\n",
            " 14%|█▎        | 24/175 [00:04<00:27,  5.46it/s]\n",
            "100%|██████████| 6/6 [00:01<00:00,  4.72it/s]"
          ]
        },
        {
          "output_type": "stream",
          "name": "stdout",
          "text": [
            "\n",
            " EPOCH: 0184 -> val_accuracy: 0.7751, class_label_loss: 0.3028, domain_label_loss: 1.3964\n"
          ]
        },
        {
          "output_type": "stream",
          "name": "stderr",
          "text": [
            "\n",
            " 14%|█▎        | 24/175 [00:06<00:43,  3.46it/s]\n",
            "100%|██████████| 6/6 [00:00<00:00,  6.73it/s]"
          ]
        },
        {
          "output_type": "stream",
          "name": "stdout",
          "text": [
            "\n",
            " EPOCH: 0185 -> val_accuracy: 0.7710, class_label_loss: 0.2637, domain_label_loss: 1.4194\n"
          ]
        },
        {
          "output_type": "stream",
          "name": "stderr",
          "text": [
            "\n",
            " 14%|█▎        | 24/175 [00:04<00:26,  5.60it/s]\n",
            "100%|██████████| 6/6 [00:00<00:00,  6.61it/s]"
          ]
        },
        {
          "output_type": "stream",
          "name": "stdout",
          "text": [
            "\n",
            " EPOCH: 0186 -> val_accuracy: 0.7658, class_label_loss: 0.3313, domain_label_loss: 1.4070\n"
          ]
        },
        {
          "output_type": "stream",
          "name": "stderr",
          "text": [
            "\n",
            " 14%|█▎        | 24/175 [00:06<00:39,  3.83it/s]\n",
            "100%|██████████| 6/6 [00:01<00:00,  4.17it/s]"
          ]
        },
        {
          "output_type": "stream",
          "name": "stdout",
          "text": [
            "\n",
            " EPOCH: 0187 -> val_accuracy: 0.7723, class_label_loss: 0.2814, domain_label_loss: 1.4151\n"
          ]
        },
        {
          "output_type": "stream",
          "name": "stderr",
          "text": [
            "\n",
            " 14%|█▎        | 24/175 [00:05<00:33,  4.55it/s]\n",
            "100%|██████████| 6/6 [00:00<00:00,  6.56it/s]"
          ]
        },
        {
          "output_type": "stream",
          "name": "stdout",
          "text": [
            "\n",
            " EPOCH: 0188 -> val_accuracy: 0.7738, class_label_loss: 0.2804, domain_label_loss: 1.3994\n"
          ]
        },
        {
          "output_type": "stream",
          "name": "stderr",
          "text": [
            "\n",
            " 14%|█▎        | 24/175 [00:04<00:26,  5.65it/s]\n",
            "100%|██████████| 6/6 [00:01<00:00,  4.53it/s]"
          ]
        },
        {
          "output_type": "stream",
          "name": "stdout",
          "text": [
            "\n",
            " EPOCH: 0189 -> val_accuracy: 0.7683, class_label_loss: 0.3338, domain_label_loss: 1.4128\n"
          ]
        },
        {
          "output_type": "stream",
          "name": "stderr",
          "text": [
            "\n",
            " 14%|█▎        | 24/175 [00:06<00:42,  3.52it/s]\n",
            "100%|██████████| 6/6 [00:00<00:00,  6.67it/s]"
          ]
        },
        {
          "output_type": "stream",
          "name": "stdout",
          "text": [
            "\n",
            " EPOCH: 0190 -> val_accuracy: 0.7696, class_label_loss: 0.3229, domain_label_loss: 1.4006\n"
          ]
        },
        {
          "output_type": "stream",
          "name": "stderr",
          "text": [
            "\n",
            " 14%|█▎        | 24/175 [00:04<00:26,  5.70it/s]\n",
            "100%|██████████| 6/6 [00:00<00:00,  6.85it/s]"
          ]
        },
        {
          "output_type": "stream",
          "name": "stdout",
          "text": [
            "\n",
            " EPOCH: 0191 -> val_accuracy: 0.7662, class_label_loss: 0.3039, domain_label_loss: 1.4011\n"
          ]
        },
        {
          "output_type": "stream",
          "name": "stderr",
          "text": [
            "\n",
            " 14%|█▎        | 24/175 [00:06<00:39,  3.78it/s]\n",
            "100%|██████████| 6/6 [00:01<00:00,  4.32it/s]"
          ]
        },
        {
          "output_type": "stream",
          "name": "stdout",
          "text": [
            "\n",
            " EPOCH: 0192 -> val_accuracy: 0.7769, class_label_loss: 0.3155, domain_label_loss: 1.3847\n"
          ]
        },
        {
          "output_type": "stream",
          "name": "stderr",
          "text": [
            "\n",
            " 14%|█▎        | 24/175 [00:05<00:32,  4.70it/s]\n",
            "100%|██████████| 6/6 [00:00<00:00,  6.87it/s]"
          ]
        },
        {
          "output_type": "stream",
          "name": "stdout",
          "text": [
            "\n",
            " EPOCH: 0193 -> val_accuracy: 0.7717, class_label_loss: 0.3100, domain_label_loss: 1.4030\n"
          ]
        },
        {
          "output_type": "stream",
          "name": "stderr",
          "text": [
            "\n",
            " 14%|█▎        | 24/175 [00:04<00:26,  5.62it/s]\n",
            "100%|██████████| 6/6 [00:00<00:00,  6.54it/s]"
          ]
        },
        {
          "output_type": "stream",
          "name": "stdout",
          "text": [
            "\n",
            " EPOCH: 0194 -> val_accuracy: 0.7694, class_label_loss: 0.3364, domain_label_loss: 1.4170\n"
          ]
        },
        {
          "output_type": "stream",
          "name": "stderr",
          "text": [
            "\n",
            " 14%|█▎        | 24/175 [00:07<00:44,  3.43it/s]\n",
            "100%|██████████| 6/6 [00:00<00:00,  6.17it/s]"
          ]
        },
        {
          "output_type": "stream",
          "name": "stdout",
          "text": [
            "\n",
            " EPOCH: 0195 -> val_accuracy: 0.7702, class_label_loss: 0.3464, domain_label_loss: 1.3761\n"
          ]
        },
        {
          "output_type": "stream",
          "name": "stderr",
          "text": [
            "\n",
            " 14%|█▎        | 24/175 [00:04<00:26,  5.68it/s]\n",
            "100%|██████████| 6/6 [00:00<00:00,  6.81it/s]"
          ]
        },
        {
          "output_type": "stream",
          "name": "stdout",
          "text": [
            "\n",
            " EPOCH: 0196 -> val_accuracy: 0.7714, class_label_loss: 0.2829, domain_label_loss: 1.3991\n"
          ]
        },
        {
          "output_type": "stream",
          "name": "stderr",
          "text": [
            "\n",
            " 14%|█▎        | 24/175 [00:05<00:37,  4.06it/s]\n",
            "100%|██████████| 6/6 [00:01<00:00,  3.80it/s]"
          ]
        },
        {
          "output_type": "stream",
          "name": "stdout",
          "text": [
            "\n",
            " EPOCH: 0197 -> val_accuracy: 0.7804, class_label_loss: 0.2915, domain_label_loss: 1.4117\n"
          ]
        },
        {
          "output_type": "stream",
          "name": "stderr",
          "text": [
            "\n",
            " 14%|█▎        | 24/175 [00:05<00:31,  4.77it/s]\n",
            "100%|██████████| 6/6 [00:00<00:00,  6.55it/s]"
          ]
        },
        {
          "output_type": "stream",
          "name": "stdout",
          "text": [
            "\n",
            " EPOCH: 0198 -> val_accuracy: 0.7680, class_label_loss: 0.2565, domain_label_loss: 1.3864\n"
          ]
        },
        {
          "output_type": "stream",
          "name": "stderr",
          "text": [
            "\n",
            " 14%|█▎        | 24/175 [00:04<00:25,  5.87it/s]\n",
            "100%|██████████| 6/6 [00:00<00:00,  6.14it/s]"
          ]
        },
        {
          "output_type": "stream",
          "name": "stdout",
          "text": [
            "\n",
            " EPOCH: 0199 -> val_accuracy: 0.7783, class_label_loss: 0.2838, domain_label_loss: 1.3969\n"
          ]
        },
        {
          "output_type": "stream",
          "name": "stderr",
          "text": [
            "\n",
            " 14%|█▎        | 24/175 [00:07<00:45,  3.34it/s]\n",
            "100%|██████████| 6/6 [00:00<00:00,  6.23it/s]"
          ]
        },
        {
          "output_type": "stream",
          "name": "stdout",
          "text": [
            "\n",
            " EPOCH: 0200 -> val_accuracy: 0.7773, class_label_loss: 0.3036, domain_label_loss: 1.3956\n"
          ]
        },
        {
          "output_type": "stream",
          "name": "stderr",
          "text": [
            "\n",
            " 14%|█▎        | 24/175 [00:04<00:25,  5.89it/s]\n",
            "100%|██████████| 6/6 [00:00<00:00,  6.84it/s]"
          ]
        },
        {
          "output_type": "stream",
          "name": "stdout",
          "text": [
            "\n",
            " EPOCH: 0201 -> val_accuracy: 0.7770, class_label_loss: 0.2516, domain_label_loss: 1.3825\n"
          ]
        },
        {
          "output_type": "stream",
          "name": "stderr",
          "text": [
            "\n",
            " 14%|█▎        | 24/175 [00:05<00:36,  4.12it/s]\n",
            "100%|██████████| 6/6 [00:01<00:00,  3.91it/s]"
          ]
        },
        {
          "output_type": "stream",
          "name": "stdout",
          "text": [
            "\n",
            " EPOCH: 0202 -> val_accuracy: 0.7763, class_label_loss: 0.3300, domain_label_loss: 1.3747\n"
          ]
        },
        {
          "output_type": "stream",
          "name": "stderr",
          "text": [
            "\n",
            " 14%|█▎        | 24/175 [00:05<00:33,  4.44it/s]\n",
            "100%|██████████| 6/6 [00:00<00:00,  6.70it/s]"
          ]
        },
        {
          "output_type": "stream",
          "name": "stdout",
          "text": [
            "\n",
            " EPOCH: 0203 -> val_accuracy: 0.7720, class_label_loss: 0.2690, domain_label_loss: 1.3790\n"
          ]
        },
        {
          "output_type": "stream",
          "name": "stderr",
          "text": [
            "\n",
            " 14%|█▎        | 24/175 [00:04<00:26,  5.72it/s]\n",
            "100%|██████████| 6/6 [00:01<00:00,  4.96it/s]"
          ]
        },
        {
          "output_type": "stream",
          "name": "stdout",
          "text": [
            "\n",
            " EPOCH: 0204 -> val_accuracy: 0.7842, class_label_loss: 0.2589, domain_label_loss: 1.3728\n",
            "--------------------Model saved--------------------\n"
          ]
        },
        {
          "output_type": "stream",
          "name": "stderr",
          "text": [
            "\n",
            " 14%|█▎        | 24/175 [00:07<00:44,  3.42it/s]\n",
            "100%|██████████| 6/6 [00:00<00:00,  6.72it/s]"
          ]
        },
        {
          "output_type": "stream",
          "name": "stdout",
          "text": [
            "\n",
            " EPOCH: 0205 -> val_accuracy: 0.7628, class_label_loss: 0.3344, domain_label_loss: 1.3933\n"
          ]
        },
        {
          "output_type": "stream",
          "name": "stderr",
          "text": [
            "\n",
            " 14%|█▎        | 24/175 [00:04<00:26,  5.65it/s]\n",
            "100%|██████████| 6/6 [00:00<00:00,  6.68it/s]"
          ]
        },
        {
          "output_type": "stream",
          "name": "stdout",
          "text": [
            "\n",
            " EPOCH: 0206 -> val_accuracy: 0.7741, class_label_loss: 0.2605, domain_label_loss: 1.3824\n"
          ]
        },
        {
          "output_type": "stream",
          "name": "stderr",
          "text": [
            "\n",
            " 14%|█▎        | 24/175 [00:06<00:39,  3.86it/s]\n",
            "100%|██████████| 6/6 [00:01<00:00,  3.70it/s]"
          ]
        },
        {
          "output_type": "stream",
          "name": "stdout",
          "text": [
            "\n",
            " EPOCH: 0207 -> val_accuracy: 0.7733, class_label_loss: 0.3159, domain_label_loss: 1.3936\n"
          ]
        },
        {
          "output_type": "stream",
          "name": "stderr",
          "text": [
            "\n",
            " 14%|█▎        | 24/175 [00:05<00:32,  4.61it/s]\n",
            "100%|██████████| 6/6 [00:00<00:00,  6.57it/s]"
          ]
        },
        {
          "output_type": "stream",
          "name": "stdout",
          "text": [
            "\n",
            " EPOCH: 0208 -> val_accuracy: 0.7655, class_label_loss: 0.2698, domain_label_loss: 1.3893\n"
          ]
        },
        {
          "output_type": "stream",
          "name": "stderr",
          "text": [
            "\n",
            " 14%|█▎        | 24/175 [00:04<00:26,  5.65it/s]\n",
            "100%|██████████| 6/6 [00:01<00:00,  4.81it/s]"
          ]
        },
        {
          "output_type": "stream",
          "name": "stdout",
          "text": [
            "\n",
            " EPOCH: 0209 -> val_accuracy: 0.7835, class_label_loss: 0.2874, domain_label_loss: 1.3759\n"
          ]
        },
        {
          "output_type": "stream",
          "name": "stderr",
          "text": [
            "\n",
            " 14%|█▎        | 24/175 [00:06<00:43,  3.43it/s]\n",
            "100%|██████████| 6/6 [00:00<00:00,  6.77it/s]"
          ]
        },
        {
          "output_type": "stream",
          "name": "stdout",
          "text": [
            "\n",
            " EPOCH: 0210 -> val_accuracy: 0.7713, class_label_loss: 0.3144, domain_label_loss: 1.3905\n"
          ]
        },
        {
          "output_type": "stream",
          "name": "stderr",
          "text": [
            "\n",
            " 14%|█▎        | 24/175 [00:04<00:27,  5.56it/s]\n",
            "100%|██████████| 6/6 [00:00<00:00,  6.77it/s]\n"
          ]
        },
        {
          "output_type": "stream",
          "name": "stdout",
          "text": [
            "\n",
            " EPOCH: 0211 -> val_accuracy: 0.7896, class_label_loss: 0.2608, domain_label_loss: 1.3800\n",
            "--------------------Model saved--------------------\n"
          ]
        },
        {
          "output_type": "stream",
          "name": "stderr",
          "text": [
            " 14%|█▎        | 24/175 [00:06<00:39,  3.86it/s]\n",
            "100%|██████████| 6/6 [00:01<00:00,  3.56it/s]"
          ]
        },
        {
          "output_type": "stream",
          "name": "stdout",
          "text": [
            "\n",
            " EPOCH: 0212 -> val_accuracy: 0.7730, class_label_loss: 0.3257, domain_label_loss: 1.3724\n"
          ]
        },
        {
          "output_type": "stream",
          "name": "stderr",
          "text": [
            "\n",
            " 14%|█▎        | 24/175 [00:05<00:31,  4.74it/s]\n",
            "100%|██████████| 6/6 [00:00<00:00,  6.51it/s]"
          ]
        },
        {
          "output_type": "stream",
          "name": "stdout",
          "text": [
            "\n",
            " EPOCH: 0213 -> val_accuracy: 0.7700, class_label_loss: 0.2531, domain_label_loss: 1.3830\n"
          ]
        },
        {
          "output_type": "stream",
          "name": "stderr",
          "text": [
            "\n",
            " 14%|█▎        | 24/175 [00:04<00:27,  5.54it/s]\n",
            "100%|██████████| 6/6 [00:01<00:00,  4.28it/s]"
          ]
        },
        {
          "output_type": "stream",
          "name": "stdout",
          "text": [
            "\n",
            " EPOCH: 0214 -> val_accuracy: 0.7623, class_label_loss: 0.3110, domain_label_loss: 1.3791\n"
          ]
        },
        {
          "output_type": "stream",
          "name": "stderr",
          "text": [
            "\n",
            " 14%|█▎        | 24/175 [00:07<00:44,  3.42it/s]\n",
            "100%|██████████| 6/6 [00:00<00:00,  6.72it/s]"
          ]
        },
        {
          "output_type": "stream",
          "name": "stdout",
          "text": [
            "\n",
            " EPOCH: 0215 -> val_accuracy: 0.7735, class_label_loss: 0.2830, domain_label_loss: 1.3806\n"
          ]
        },
        {
          "output_type": "stream",
          "name": "stderr",
          "text": [
            "\n",
            " 14%|█▎        | 24/175 [00:04<00:26,  5.77it/s]\n",
            "100%|██████████| 6/6 [00:00<00:00,  6.38it/s]"
          ]
        },
        {
          "output_type": "stream",
          "name": "stdout",
          "text": [
            "\n",
            " EPOCH: 0216 -> val_accuracy: 0.7732, class_label_loss: 0.2456, domain_label_loss: 1.3807\n"
          ]
        },
        {
          "output_type": "stream",
          "name": "stderr",
          "text": [
            "\n",
            " 14%|█▎        | 24/175 [00:06<00:40,  3.76it/s]\n",
            "100%|██████████| 6/6 [00:01<00:00,  3.72it/s]"
          ]
        },
        {
          "output_type": "stream",
          "name": "stdout",
          "text": [
            "\n",
            " EPOCH: 0217 -> val_accuracy: 0.7832, class_label_loss: 0.3128, domain_label_loss: 1.3890\n"
          ]
        },
        {
          "output_type": "stream",
          "name": "stderr",
          "text": [
            "\n",
            " 14%|█▎        | 24/175 [00:04<00:29,  5.18it/s]\n",
            "100%|██████████| 6/6 [00:01<00:00,  5.93it/s]"
          ]
        },
        {
          "output_type": "stream",
          "name": "stdout",
          "text": [
            "\n",
            " EPOCH: 0218 -> val_accuracy: 0.7894, class_label_loss: 0.2615, domain_label_loss: 1.3979\n"
          ]
        },
        {
          "output_type": "stream",
          "name": "stderr",
          "text": [
            "\n",
            " 14%|█▎        | 24/175 [00:04<00:27,  5.50it/s]\n",
            "100%|██████████| 6/6 [00:01<00:00,  3.82it/s]"
          ]
        },
        {
          "output_type": "stream",
          "name": "stdout",
          "text": [
            "\n",
            " EPOCH: 0219 -> val_accuracy: 0.7696, class_label_loss: 0.2578, domain_label_loss: 1.3826\n"
          ]
        },
        {
          "output_type": "stream",
          "name": "stderr",
          "text": [
            "\n",
            " 14%|█▎        | 24/175 [00:06<00:40,  3.74it/s]\n",
            "100%|██████████| 6/6 [00:00<00:00,  6.65it/s]"
          ]
        },
        {
          "output_type": "stream",
          "name": "stdout",
          "text": [
            "\n",
            " EPOCH: 0220 -> val_accuracy: 0.7823, class_label_loss: 0.3516, domain_label_loss: 1.3700\n"
          ]
        },
        {
          "output_type": "stream",
          "name": "stderr",
          "text": [
            "\n",
            " 14%|█▎        | 24/175 [00:04<00:27,  5.54it/s]\n",
            "100%|██████████| 6/6 [00:00<00:00,  6.44it/s]"
          ]
        },
        {
          "output_type": "stream",
          "name": "stdout",
          "text": [
            "\n",
            " EPOCH: 0221 -> val_accuracy: 0.7891, class_label_loss: 0.3122, domain_label_loss: 1.3821\n"
          ]
        },
        {
          "output_type": "stream",
          "name": "stderr",
          "text": [
            "\n",
            " 14%|█▎        | 24/175 [00:07<00:45,  3.29it/s]\n",
            "100%|██████████| 6/6 [00:01<00:00,  4.29it/s]"
          ]
        },
        {
          "output_type": "stream",
          "name": "stdout",
          "text": [
            "\n",
            " EPOCH: 0222 -> val_accuracy: 0.7834, class_label_loss: 0.2473, domain_label_loss: 1.3870\n"
          ]
        },
        {
          "output_type": "stream",
          "name": "stderr",
          "text": [
            "\n",
            " 14%|█▎        | 24/175 [00:04<00:26,  5.68it/s]\n",
            "100%|██████████| 6/6 [00:00<00:00,  6.52it/s]"
          ]
        },
        {
          "output_type": "stream",
          "name": "stdout",
          "text": [
            "\n",
            " EPOCH: 0223 -> val_accuracy: 0.7897, class_label_loss: 0.3073, domain_label_loss: 1.3628\n",
            "--------------------Model saved--------------------\n"
          ]
        },
        {
          "output_type": "stream",
          "name": "stderr",
          "text": [
            "\n",
            " 14%|█▎        | 24/175 [00:04<00:29,  5.04it/s]\n",
            "100%|██████████| 6/6 [00:01<00:00,  3.85it/s]"
          ]
        },
        {
          "output_type": "stream",
          "name": "stdout",
          "text": [
            "\n",
            " EPOCH: 0224 -> val_accuracy: 0.7811, class_label_loss: 0.2453, domain_label_loss: 1.3787\n"
          ]
        },
        {
          "output_type": "stream",
          "name": "stderr",
          "text": [
            "\n",
            " 14%|█▎        | 24/175 [00:05<00:37,  4.03it/s]\n",
            "100%|██████████| 6/6 [00:00<00:00,  6.57it/s]"
          ]
        },
        {
          "output_type": "stream",
          "name": "stdout",
          "text": [
            "\n",
            " EPOCH: 0225 -> val_accuracy: 0.7696, class_label_loss: 0.3390, domain_label_loss: 1.3750\n"
          ]
        },
        {
          "output_type": "stream",
          "name": "stderr",
          "text": [
            "\n",
            " 14%|█▎        | 24/175 [00:04<00:28,  5.37it/s]\n",
            "100%|██████████| 6/6 [00:00<00:00,  6.18it/s]"
          ]
        },
        {
          "output_type": "stream",
          "name": "stdout",
          "text": [
            "\n",
            " EPOCH: 0226 -> val_accuracy: 0.7696, class_label_loss: 0.2881, domain_label_loss: 1.3846\n"
          ]
        },
        {
          "output_type": "stream",
          "name": "stderr",
          "text": [
            "\n",
            " 14%|█▎        | 24/175 [00:07<00:44,  3.43it/s]\n",
            "100%|██████████| 6/6 [00:01<00:00,  4.18it/s]"
          ]
        },
        {
          "output_type": "stream",
          "name": "stdout",
          "text": [
            "\n",
            " EPOCH: 0227 -> val_accuracy: 0.7918, class_label_loss: 0.2949, domain_label_loss: 1.3739\n",
            "--------------------Model saved--------------------\n"
          ]
        },
        {
          "output_type": "stream",
          "name": "stderr",
          "text": [
            "\n",
            " 14%|█▎        | 24/175 [00:04<00:27,  5.52it/s]\n",
            "100%|██████████| 6/6 [00:00<00:00,  6.39it/s]"
          ]
        },
        {
          "output_type": "stream",
          "name": "stdout",
          "text": [
            "\n",
            " EPOCH: 0228 -> val_accuracy: 0.7922, class_label_loss: 0.2302, domain_label_loss: 1.3901\n",
            "--------------------Model saved--------------------\n"
          ]
        },
        {
          "output_type": "stream",
          "name": "stderr",
          "text": [
            "\n",
            " 14%|█▎        | 24/175 [00:05<00:36,  4.19it/s]\n",
            "100%|██████████| 6/6 [00:01<00:00,  3.84it/s]"
          ]
        },
        {
          "output_type": "stream",
          "name": "stdout",
          "text": [
            "\n",
            " EPOCH: 0229 -> val_accuracy: 0.7913, class_label_loss: 0.2185, domain_label_loss: 1.3824\n"
          ]
        },
        {
          "output_type": "stream",
          "name": "stderr",
          "text": [
            "\n",
            " 14%|█▎        | 24/175 [00:05<00:33,  4.52it/s]\n",
            "100%|██████████| 6/6 [00:00<00:00,  6.37it/s]"
          ]
        },
        {
          "output_type": "stream",
          "name": "stdout",
          "text": [
            "\n",
            " EPOCH: 0230 -> val_accuracy: 0.7665, class_label_loss: 0.2418, domain_label_loss: 1.3867\n"
          ]
        },
        {
          "output_type": "stream",
          "name": "stderr",
          "text": [
            "\n",
            " 14%|█▎        | 24/175 [00:04<00:27,  5.51it/s]\n",
            "100%|██████████| 6/6 [00:01<00:00,  5.96it/s]"
          ]
        },
        {
          "output_type": "stream",
          "name": "stdout",
          "text": [
            "\n",
            " EPOCH: 0231 -> val_accuracy: 0.7771, class_label_loss: 0.2340, domain_label_loss: 1.3896\n"
          ]
        },
        {
          "output_type": "stream",
          "name": "stderr",
          "text": [
            "\n",
            " 14%|█▎        | 24/175 [00:07<00:44,  3.40it/s]\n",
            "100%|██████████| 6/6 [00:00<00:00,  6.60it/s]"
          ]
        },
        {
          "output_type": "stream",
          "name": "stdout",
          "text": [
            "\n",
            " EPOCH: 0232 -> val_accuracy: 0.7883, class_label_loss: 0.2550, domain_label_loss: 1.3935\n"
          ]
        },
        {
          "output_type": "stream",
          "name": "stderr",
          "text": [
            "\n",
            " 14%|█▎        | 24/175 [00:04<00:27,  5.41it/s]\n",
            "100%|██████████| 6/6 [00:00<00:00,  6.23it/s]"
          ]
        },
        {
          "output_type": "stream",
          "name": "stdout",
          "text": [
            "\n",
            " EPOCH: 0233 -> val_accuracy: 0.7823, class_label_loss: 0.2421, domain_label_loss: 1.3831\n"
          ]
        },
        {
          "output_type": "stream",
          "name": "stderr",
          "text": [
            "\n",
            " 14%|█▎        | 24/175 [00:06<00:39,  3.80it/s]\n",
            "100%|██████████| 6/6 [00:01<00:00,  3.68it/s]"
          ]
        },
        {
          "output_type": "stream",
          "name": "stdout",
          "text": [
            "\n",
            " EPOCH: 0234 -> val_accuracy: 0.7771, class_label_loss: 0.2888, domain_label_loss: 1.3914\n"
          ]
        },
        {
          "output_type": "stream",
          "name": "stderr",
          "text": [
            "\n",
            " 14%|█▎        | 24/175 [00:04<00:31,  4.80it/s]\n",
            "100%|██████████| 6/6 [00:00<00:00,  6.29it/s]"
          ]
        },
        {
          "output_type": "stream",
          "name": "stdout",
          "text": [
            "\n",
            " EPOCH: 0235 -> val_accuracy: 0.7834, class_label_loss: 0.2418, domain_label_loss: 1.3711\n"
          ]
        },
        {
          "output_type": "stream",
          "name": "stderr",
          "text": [
            "\n",
            " 14%|█▎        | 24/175 [00:04<00:26,  5.76it/s]\n",
            "100%|██████████| 6/6 [00:01<00:00,  3.89it/s]"
          ]
        },
        {
          "output_type": "stream",
          "name": "stdout",
          "text": [
            "\n",
            " EPOCH: 0236 -> val_accuracy: 0.7847, class_label_loss: 0.2676, domain_label_loss: 1.3872\n"
          ]
        },
        {
          "output_type": "stream",
          "name": "stderr",
          "text": [
            "\n",
            " 14%|█▎        | 24/175 [00:06<00:39,  3.79it/s]\n",
            "100%|██████████| 6/6 [00:00<00:00,  6.29it/s]"
          ]
        },
        {
          "output_type": "stream",
          "name": "stdout",
          "text": [
            "\n",
            " EPOCH: 0237 -> val_accuracy: 0.7847, class_label_loss: 0.2266, domain_label_loss: 1.3829\n"
          ]
        },
        {
          "output_type": "stream",
          "name": "stderr",
          "text": [
            "\n",
            " 14%|█▎        | 24/175 [00:04<00:28,  5.22it/s]\n",
            "100%|██████████| 6/6 [00:00<00:00,  6.70it/s]"
          ]
        },
        {
          "output_type": "stream",
          "name": "stdout",
          "text": [
            "\n",
            " EPOCH: 0238 -> val_accuracy: 0.7660, class_label_loss: 0.2435, domain_label_loss: 1.3817\n"
          ]
        },
        {
          "output_type": "stream",
          "name": "stderr",
          "text": [
            "\n",
            " 14%|█▎        | 24/175 [00:07<00:44,  3.36it/s]\n",
            "100%|██████████| 6/6 [00:01<00:00,  4.00it/s]"
          ]
        },
        {
          "output_type": "stream",
          "name": "stdout",
          "text": [
            "\n",
            " EPOCH: 0239 -> val_accuracy: 0.7865, class_label_loss: 0.2179, domain_label_loss: 1.3801\n"
          ]
        },
        {
          "output_type": "stream",
          "name": "stderr",
          "text": [
            "\n",
            " 14%|█▎        | 24/175 [00:04<00:26,  5.60it/s]\n",
            "100%|██████████| 6/6 [00:00<00:00,  6.31it/s]"
          ]
        },
        {
          "output_type": "stream",
          "name": "stdout",
          "text": [
            "\n",
            " EPOCH: 0240 -> val_accuracy: 0.7834, class_label_loss: 0.2818, domain_label_loss: 1.3896\n"
          ]
        },
        {
          "output_type": "stream",
          "name": "stderr",
          "text": [
            "\n",
            " 14%|█▎        | 24/175 [00:05<00:33,  4.55it/s]\n",
            "100%|██████████| 6/6 [00:01<00:00,  4.05it/s]"
          ]
        },
        {
          "output_type": "stream",
          "name": "stdout",
          "text": [
            "\n",
            " EPOCH: 0241 -> val_accuracy: 0.7738, class_label_loss: 0.2589, domain_label_loss: 1.3979\n"
          ]
        },
        {
          "output_type": "stream",
          "name": "stderr",
          "text": [
            "\n",
            " 14%|█▎        | 24/175 [00:05<00:33,  4.52it/s]\n",
            "100%|██████████| 6/6 [00:00<00:00,  6.33it/s]"
          ]
        },
        {
          "output_type": "stream",
          "name": "stdout",
          "text": [
            "\n",
            " EPOCH: 0242 -> val_accuracy: 0.7792, class_label_loss: 0.2885, domain_label_loss: 1.3869\n"
          ]
        },
        {
          "output_type": "stream",
          "name": "stderr",
          "text": [
            "\n",
            " 14%|█▎        | 24/175 [00:04<00:26,  5.64it/s]\n",
            "100%|██████████| 6/6 [00:01<00:00,  5.80it/s]"
          ]
        },
        {
          "output_type": "stream",
          "name": "stdout",
          "text": [
            "\n",
            " EPOCH: 0243 -> val_accuracy: 0.7811, class_label_loss: 0.2761, domain_label_loss: 1.3957\n"
          ]
        },
        {
          "output_type": "stream",
          "name": "stderr",
          "text": [
            "\n",
            " 14%|█▎        | 24/175 [00:07<00:46,  3.28it/s]\n",
            "100%|██████████| 6/6 [00:00<00:00,  6.32it/s]"
          ]
        },
        {
          "output_type": "stream",
          "name": "stdout",
          "text": [
            "\n",
            " EPOCH: 0244 -> val_accuracy: 0.7774, class_label_loss: 0.2718, domain_label_loss: 1.3803\n"
          ]
        },
        {
          "output_type": "stream",
          "name": "stderr",
          "text": [
            "\n",
            " 14%|█▎        | 24/175 [00:04<00:26,  5.63it/s]\n",
            "100%|██████████| 6/6 [00:00<00:00,  6.42it/s]"
          ]
        },
        {
          "output_type": "stream",
          "name": "stdout",
          "text": [
            "\n",
            " EPOCH: 0245 -> val_accuracy: 0.7922, class_label_loss: 0.2721, domain_label_loss: 1.3877\n"
          ]
        },
        {
          "output_type": "stream",
          "name": "stderr",
          "text": [
            "\n",
            " 14%|█▎        | 24/175 [00:06<00:40,  3.75it/s]\n",
            "100%|██████████| 6/6 [00:01<00:00,  3.73it/s]"
          ]
        },
        {
          "output_type": "stream",
          "name": "stdout",
          "text": [
            "\n",
            " EPOCH: 0246 -> val_accuracy: 0.7800, class_label_loss: 0.2222, domain_label_loss: 1.3851\n"
          ]
        },
        {
          "output_type": "stream",
          "name": "stderr",
          "text": [
            "\n",
            " 14%|█▎        | 24/175 [00:04<00:29,  5.10it/s]\n",
            "100%|██████████| 6/6 [00:00<00:00,  6.46it/s]"
          ]
        },
        {
          "output_type": "stream",
          "name": "stdout",
          "text": [
            "\n",
            " EPOCH: 0247 -> val_accuracy: 0.7894, class_label_loss: 0.3084, domain_label_loss: 1.4021\n"
          ]
        },
        {
          "output_type": "stream",
          "name": "stderr",
          "text": [
            "\n",
            " 14%|█▎        | 24/175 [00:04<00:26,  5.64it/s]\n",
            "100%|██████████| 6/6 [00:01<00:00,  3.67it/s]"
          ]
        },
        {
          "output_type": "stream",
          "name": "stdout",
          "text": [
            "\n",
            " EPOCH: 0248 -> val_accuracy: 0.7876, class_label_loss: 0.2870, domain_label_loss: 1.4000\n"
          ]
        },
        {
          "output_type": "stream",
          "name": "stderr",
          "text": [
            "\n",
            " 14%|█▎        | 24/175 [00:06<00:39,  3.83it/s]\n",
            "100%|██████████| 6/6 [00:00<00:00,  6.35it/s]"
          ]
        },
        {
          "output_type": "stream",
          "name": "stdout",
          "text": [
            "\n",
            " EPOCH: 0249 -> val_accuracy: 0.7761, class_label_loss: 0.2684, domain_label_loss: 1.3875\n"
          ]
        },
        {
          "output_type": "stream",
          "name": "stderr",
          "text": [
            "\n",
            " 14%|█▎        | 24/175 [00:04<00:26,  5.68it/s]\n",
            "100%|██████████| 6/6 [00:00<00:00,  6.35it/s]\n"
          ]
        },
        {
          "output_type": "stream",
          "name": "stdout",
          "text": [
            "\n",
            " EPOCH: 0250 -> val_accuracy: 0.7802, class_label_loss: 0.2931, domain_label_loss: 1.3928\n"
          ]
        },
        {
          "output_type": "stream",
          "name": "stderr",
          "text": [
            " 14%|█▎        | 24/175 [00:07<00:45,  3.31it/s]\n",
            "100%|██████████| 6/6 [00:01<00:00,  4.18it/s]"
          ]
        },
        {
          "output_type": "stream",
          "name": "stdout",
          "text": [
            "\n",
            " EPOCH: 0251 -> val_accuracy: 0.7902, class_label_loss: 0.2651, domain_label_loss: 1.3919\n"
          ]
        },
        {
          "output_type": "stream",
          "name": "stderr",
          "text": [
            "\n",
            " 14%|█▎        | 24/175 [00:04<00:28,  5.30it/s]\n",
            "100%|██████████| 6/6 [00:00<00:00,  6.55it/s]"
          ]
        },
        {
          "output_type": "stream",
          "name": "stdout",
          "text": [
            "\n",
            " EPOCH: 0252 -> val_accuracy: 0.7825, class_label_loss: 0.2607, domain_label_loss: 1.4045\n"
          ]
        },
        {
          "output_type": "stream",
          "name": "stderr",
          "text": [
            "\n",
            " 14%|█▎        | 24/175 [00:05<00:35,  4.22it/s]\n",
            "100%|██████████| 6/6 [00:01<00:00,  3.91it/s]"
          ]
        },
        {
          "output_type": "stream",
          "name": "stdout",
          "text": [
            "\n",
            " EPOCH: 0253 -> val_accuracy: 0.7750, class_label_loss: 0.2584, domain_label_loss: 1.3989\n"
          ]
        },
        {
          "output_type": "stream",
          "name": "stderr",
          "text": [
            "\n",
            " 14%|█▎        | 24/175 [00:05<00:33,  4.49it/s]\n",
            "100%|██████████| 6/6 [00:00<00:00,  6.50it/s]"
          ]
        },
        {
          "output_type": "stream",
          "name": "stdout",
          "text": [
            "\n",
            " EPOCH: 0254 -> val_accuracy: 0.7875, class_label_loss: 0.2955, domain_label_loss: 1.4003\n"
          ]
        },
        {
          "output_type": "stream",
          "name": "stderr",
          "text": [
            "\n",
            " 14%|█▎        | 24/175 [00:04<00:26,  5.80it/s]\n",
            "100%|██████████| 6/6 [00:00<00:00,  6.65it/s]"
          ]
        },
        {
          "output_type": "stream",
          "name": "stdout",
          "text": [
            "\n",
            " EPOCH: 0255 -> val_accuracy: 0.7860, class_label_loss: 0.2385, domain_label_loss: 1.4146\n"
          ]
        },
        {
          "output_type": "stream",
          "name": "stderr",
          "text": [
            "\n",
            " 14%|█▎        | 24/175 [00:07<00:46,  3.26it/s]\n",
            "100%|██████████| 6/6 [00:01<00:00,  5.81it/s]"
          ]
        },
        {
          "output_type": "stream",
          "name": "stdout",
          "text": [
            "\n",
            " EPOCH: 0256 -> val_accuracy: 0.7724, class_label_loss: 0.1926, domain_label_loss: 1.3949\n"
          ]
        },
        {
          "output_type": "stream",
          "name": "stderr",
          "text": [
            "\n",
            " 14%|█▎        | 24/175 [00:04<00:26,  5.80it/s]\n",
            "100%|██████████| 6/6 [00:00<00:00,  6.41it/s]"
          ]
        },
        {
          "output_type": "stream",
          "name": "stdout",
          "text": [
            "\n",
            " EPOCH: 0257 -> val_accuracy: 0.7766, class_label_loss: 0.2619, domain_label_loss: 1.3937\n"
          ]
        },
        {
          "output_type": "stream",
          "name": "stderr",
          "text": [
            "\n",
            " 14%|█▎        | 24/175 [00:05<00:37,  4.03it/s]\n",
            "100%|██████████| 6/6 [00:01<00:00,  3.68it/s]"
          ]
        },
        {
          "output_type": "stream",
          "name": "stdout",
          "text": [
            "\n",
            " EPOCH: 0258 -> val_accuracy: 0.7877, class_label_loss: 0.2631, domain_label_loss: 1.4016\n"
          ]
        },
        {
          "output_type": "stream",
          "name": "stderr",
          "text": [
            "\n",
            " 14%|█▎        | 24/175 [00:05<00:31,  4.72it/s]\n",
            "100%|██████████| 6/6 [00:00<00:00,  6.03it/s]"
          ]
        },
        {
          "output_type": "stream",
          "name": "stdout",
          "text": [
            "\n",
            " EPOCH: 0259 -> val_accuracy: 0.7717, class_label_loss: 0.2036, domain_label_loss: 1.3981\n"
          ]
        },
        {
          "output_type": "stream",
          "name": "stderr",
          "text": [
            "\n",
            " 14%|█▎        | 24/175 [00:04<00:26,  5.64it/s]\n",
            "100%|██████████| 6/6 [00:01<00:00,  4.37it/s]"
          ]
        },
        {
          "output_type": "stream",
          "name": "stdout",
          "text": [
            "\n",
            " EPOCH: 0260 -> val_accuracy: 0.7781, class_label_loss: 0.2452, domain_label_loss: 1.3962\n"
          ]
        },
        {
          "output_type": "stream",
          "name": "stderr",
          "text": [
            "\n",
            " 14%|█▎        | 24/175 [00:06<00:43,  3.50it/s]\n",
            "100%|██████████| 6/6 [00:00<00:00,  6.42it/s]"
          ]
        },
        {
          "output_type": "stream",
          "name": "stdout",
          "text": [
            "\n",
            " EPOCH: 0261 -> val_accuracy: 0.7737, class_label_loss: 0.2299, domain_label_loss: 1.4094\n"
          ]
        },
        {
          "output_type": "stream",
          "name": "stderr",
          "text": [
            "\n",
            " 14%|█▎        | 24/175 [00:04<00:25,  5.81it/s]\n",
            "100%|██████████| 6/6 [00:00<00:00,  6.49it/s]"
          ]
        },
        {
          "output_type": "stream",
          "name": "stdout",
          "text": [
            "\n",
            " EPOCH: 0262 -> val_accuracy: 0.7789, class_label_loss: 0.2652, domain_label_loss: 1.3930\n"
          ]
        },
        {
          "output_type": "stream",
          "name": "stderr",
          "text": [
            "\n",
            " 14%|█▎        | 24/175 [00:06<00:40,  3.74it/s]\n",
            "100%|██████████| 6/6 [00:01<00:00,  3.72it/s]"
          ]
        },
        {
          "output_type": "stream",
          "name": "stdout",
          "text": [
            "\n",
            " EPOCH: 0263 -> val_accuracy: 0.7823, class_label_loss: 0.2229, domain_label_loss: 1.3923\n"
          ]
        },
        {
          "output_type": "stream",
          "name": "stderr",
          "text": [
            "\n",
            " 14%|█▎        | 24/175 [00:04<00:31,  4.83it/s]\n",
            "100%|██████████| 6/6 [00:00<00:00,  6.35it/s]"
          ]
        },
        {
          "output_type": "stream",
          "name": "stdout",
          "text": [
            "\n",
            " EPOCH: 0264 -> val_accuracy: 0.7891, class_label_loss: 0.2528, domain_label_loss: 1.3987\n"
          ]
        },
        {
          "output_type": "stream",
          "name": "stderr",
          "text": [
            "\n",
            " 14%|█▎        | 24/175 [00:04<00:25,  5.86it/s]\n",
            "100%|██████████| 6/6 [00:01<00:00,  3.95it/s]"
          ]
        },
        {
          "output_type": "stream",
          "name": "stdout",
          "text": [
            "\n",
            " EPOCH: 0265 -> val_accuracy: 0.7714, class_label_loss: 0.2900, domain_label_loss: 1.3987\n"
          ]
        },
        {
          "output_type": "stream",
          "name": "stderr",
          "text": [
            "\n",
            " 14%|█▎        | 24/175 [00:06<00:42,  3.56it/s]\n",
            "100%|██████████| 6/6 [00:00<00:00,  6.63it/s]"
          ]
        },
        {
          "output_type": "stream",
          "name": "stdout",
          "text": [
            "\n",
            " EPOCH: 0266 -> val_accuracy: 0.7770, class_label_loss: 0.2433, domain_label_loss: 1.4029\n"
          ]
        },
        {
          "output_type": "stream",
          "name": "stderr",
          "text": [
            "\n",
            " 14%|█▎        | 24/175 [00:04<00:28,  5.26it/s]\n",
            "100%|██████████| 6/6 [00:00<00:00,  6.27it/s]"
          ]
        },
        {
          "output_type": "stream",
          "name": "stdout",
          "text": [
            "\n",
            " EPOCH: 0267 -> val_accuracy: 0.7903, class_label_loss: 0.2153, domain_label_loss: 1.4006\n"
          ]
        },
        {
          "output_type": "stream",
          "name": "stderr",
          "text": [
            "\n",
            " 14%|█▎        | 24/175 [00:07<00:46,  3.28it/s]\n",
            "100%|██████████| 6/6 [00:01<00:00,  4.12it/s]"
          ]
        },
        {
          "output_type": "stream",
          "name": "stdout",
          "text": [
            "\n",
            " EPOCH: 0268 -> val_accuracy: 0.7851, class_label_loss: 0.3128, domain_label_loss: 1.3992\n"
          ]
        },
        {
          "output_type": "stream",
          "name": "stderr",
          "text": [
            "\n",
            " 14%|█▎        | 24/175 [00:04<00:28,  5.36it/s]\n",
            "100%|██████████| 6/6 [00:00<00:00,  6.47it/s]"
          ]
        },
        {
          "output_type": "stream",
          "name": "stdout",
          "text": [
            "\n",
            " EPOCH: 0269 -> val_accuracy: 0.7878, class_label_loss: 0.2415, domain_label_loss: 1.4036\n"
          ]
        },
        {
          "output_type": "stream",
          "name": "stderr",
          "text": [
            "\n",
            " 14%|█▎        | 24/175 [00:05<00:32,  4.63it/s]\n",
            "100%|██████████| 6/6 [00:01<00:00,  3.80it/s]"
          ]
        },
        {
          "output_type": "stream",
          "name": "stdout",
          "text": [
            "\n",
            " EPOCH: 0270 -> val_accuracy: 0.7917, class_label_loss: 0.2579, domain_label_loss: 1.3997\n"
          ]
        },
        {
          "output_type": "stream",
          "name": "stderr",
          "text": [
            "\n",
            " 14%|█▎        | 24/175 [00:05<00:35,  4.27it/s]\n",
            "100%|██████████| 6/6 [00:00<00:00,  6.35it/s]"
          ]
        },
        {
          "output_type": "stream",
          "name": "stdout",
          "text": [
            "\n",
            " EPOCH: 0271 -> val_accuracy: 0.7705, class_label_loss: 0.2503, domain_label_loss: 1.4053\n"
          ]
        },
        {
          "output_type": "stream",
          "name": "stderr",
          "text": [
            "\n",
            " 14%|█▎        | 24/175 [00:04<00:27,  5.54it/s]\n",
            "100%|██████████| 6/6 [00:00<00:00,  6.15it/s]"
          ]
        },
        {
          "output_type": "stream",
          "name": "stdout",
          "text": [
            "\n",
            " EPOCH: 0272 -> val_accuracy: 0.7861, class_label_loss: 0.2188, domain_label_loss: 1.3980\n"
          ]
        },
        {
          "output_type": "stream",
          "name": "stderr",
          "text": [
            "\n",
            " 14%|█▎        | 24/175 [00:07<00:44,  3.39it/s]\n",
            "100%|██████████| 6/6 [00:01<00:00,  5.51it/s]"
          ]
        },
        {
          "output_type": "stream",
          "name": "stdout",
          "text": [
            "\n",
            " EPOCH: 0273 -> val_accuracy: 0.7781, class_label_loss: 0.2609, domain_label_loss: 1.4015\n"
          ]
        },
        {
          "output_type": "stream",
          "name": "stderr",
          "text": [
            "\n",
            " 14%|█▎        | 24/175 [00:04<00:26,  5.70it/s]\n",
            "100%|██████████| 6/6 [00:00<00:00,  6.33it/s]"
          ]
        },
        {
          "output_type": "stream",
          "name": "stdout",
          "text": [
            "\n",
            " EPOCH: 0274 -> val_accuracy: 0.7616, class_label_loss: 0.2299, domain_label_loss: 1.3889\n"
          ]
        },
        {
          "output_type": "stream",
          "name": "stderr",
          "text": [
            "\n",
            " 14%|█▎        | 24/175 [00:05<00:37,  4.01it/s]\n",
            "100%|██████████| 6/6 [00:01<00:00,  3.69it/s]"
          ]
        },
        {
          "output_type": "stream",
          "name": "stdout",
          "text": [
            "\n",
            " EPOCH: 0275 -> val_accuracy: 0.7800, class_label_loss: 0.2489, domain_label_loss: 1.4065\n"
          ]
        },
        {
          "output_type": "stream",
          "name": "stderr",
          "text": [
            "\n",
            " 14%|█▎        | 24/175 [00:05<00:31,  4.77it/s]\n",
            "100%|██████████| 6/6 [00:00<00:00,  6.30it/s]"
          ]
        },
        {
          "output_type": "stream",
          "name": "stdout",
          "text": [
            "\n",
            " EPOCH: 0276 -> val_accuracy: 0.7778, class_label_loss: 0.2370, domain_label_loss: 1.3910\n"
          ]
        },
        {
          "output_type": "stream",
          "name": "stderr",
          "text": [
            "\n",
            " 14%|█▎        | 24/175 [00:04<00:25,  5.84it/s]\n",
            "100%|██████████| 6/6 [00:01<00:00,  4.48it/s]"
          ]
        },
        {
          "output_type": "stream",
          "name": "stdout",
          "text": [
            "\n",
            " EPOCH: 0277 -> val_accuracy: 0.7697, class_label_loss: 0.2741, domain_label_loss: 1.3903\n"
          ]
        },
        {
          "output_type": "stream",
          "name": "stderr",
          "text": [
            "\n",
            " 14%|█▎        | 24/175 [00:07<00:44,  3.36it/s]\n",
            "100%|██████████| 6/6 [00:00<00:00,  6.20it/s]"
          ]
        },
        {
          "output_type": "stream",
          "name": "stdout",
          "text": [
            "\n",
            " EPOCH: 0278 -> val_accuracy: 0.7894, class_label_loss: 0.1831, domain_label_loss: 1.4045\n"
          ]
        },
        {
          "output_type": "stream",
          "name": "stderr",
          "text": [
            "\n",
            " 14%|█▎        | 24/175 [00:04<00:26,  5.70it/s]\n",
            "100%|██████████| 6/6 [00:00<00:00,  6.28it/s]"
          ]
        },
        {
          "output_type": "stream",
          "name": "stdout",
          "text": [
            "\n",
            " EPOCH: 0279 -> val_accuracy: 0.7693, class_label_loss: 0.2273, domain_label_loss: 1.3987\n"
          ]
        },
        {
          "output_type": "stream",
          "name": "stderr",
          "text": [
            "\n",
            " 14%|█▎        | 24/175 [00:06<00:38,  3.91it/s]\n",
            "100%|██████████| 6/6 [00:01<00:00,  3.84it/s]"
          ]
        },
        {
          "output_type": "stream",
          "name": "stdout",
          "text": [
            "\n",
            " EPOCH: 0280 -> val_accuracy: 0.7826, class_label_loss: 0.2462, domain_label_loss: 1.4004\n"
          ]
        },
        {
          "output_type": "stream",
          "name": "stderr",
          "text": [
            "\n",
            " 14%|█▎        | 24/175 [00:04<00:30,  4.87it/s]\n",
            "100%|██████████| 6/6 [00:00<00:00,  6.04it/s]"
          ]
        },
        {
          "output_type": "stream",
          "name": "stdout",
          "text": [
            "\n",
            " EPOCH: 0281 -> val_accuracy: 0.7808, class_label_loss: 0.2753, domain_label_loss: 1.3945\n"
          ]
        },
        {
          "output_type": "stream",
          "name": "stderr",
          "text": [
            "\n",
            " 14%|█▎        | 24/175 [00:04<00:29,  5.12it/s]\n",
            "100%|██████████| 6/6 [00:01<00:00,  4.05it/s]"
          ]
        },
        {
          "output_type": "stream",
          "name": "stdout",
          "text": [
            "\n",
            " EPOCH: 0282 -> val_accuracy: 0.7916, class_label_loss: 0.2389, domain_label_loss: 1.4032\n"
          ]
        },
        {
          "output_type": "stream",
          "name": "stderr",
          "text": [
            "\n",
            " 14%|█▎        | 24/175 [00:06<00:39,  3.84it/s]\n",
            "100%|██████████| 6/6 [00:00<00:00,  6.25it/s]"
          ]
        },
        {
          "output_type": "stream",
          "name": "stdout",
          "text": [
            "\n",
            " EPOCH: 0283 -> val_accuracy: 0.7599, class_label_loss: 0.2546, domain_label_loss: 1.3979\n"
          ]
        },
        {
          "output_type": "stream",
          "name": "stderr",
          "text": [
            "\n",
            " 14%|█▎        | 24/175 [00:04<00:26,  5.73it/s]\n",
            "100%|██████████| 6/6 [00:00<00:00,  6.06it/s]"
          ]
        },
        {
          "output_type": "stream",
          "name": "stdout",
          "text": [
            "\n",
            " EPOCH: 0284 -> val_accuracy: 0.7756, class_label_loss: 0.2058, domain_label_loss: 1.3935\n"
          ]
        },
        {
          "output_type": "stream",
          "name": "stderr",
          "text": [
            "\n",
            " 14%|█▎        | 24/175 [00:07<00:47,  3.21it/s]\n",
            "100%|██████████| 6/6 [00:01<00:00,  4.14it/s]"
          ]
        },
        {
          "output_type": "stream",
          "name": "stdout",
          "text": [
            "\n",
            " EPOCH: 0285 -> val_accuracy: 0.7872, class_label_loss: 0.2033, domain_label_loss: 1.3939\n"
          ]
        },
        {
          "output_type": "stream",
          "name": "stderr",
          "text": [
            "\n",
            " 14%|█▎        | 24/175 [00:04<00:27,  5.48it/s]\n",
            "100%|██████████| 6/6 [00:00<00:00,  6.28it/s]"
          ]
        },
        {
          "output_type": "stream",
          "name": "stdout",
          "text": [
            "\n",
            " EPOCH: 0286 -> val_accuracy: 0.7680, class_label_loss: 0.1959, domain_label_loss: 1.3929\n"
          ]
        },
        {
          "output_type": "stream",
          "name": "stderr",
          "text": [
            "\n",
            " 14%|█▎        | 24/175 [00:05<00:36,  4.19it/s]\n",
            "100%|██████████| 6/6 [00:01<00:00,  3.77it/s]"
          ]
        },
        {
          "output_type": "stream",
          "name": "stdout",
          "text": [
            "\n",
            " EPOCH: 0287 -> val_accuracy: 0.7774, class_label_loss: 0.2209, domain_label_loss: 1.3789\n"
          ]
        },
        {
          "output_type": "stream",
          "name": "stderr",
          "text": [
            "\n",
            " 14%|█▎        | 24/175 [00:05<00:34,  4.42it/s]\n",
            "100%|██████████| 6/6 [00:00<00:00,  6.13it/s]"
          ]
        },
        {
          "output_type": "stream",
          "name": "stdout",
          "text": [
            "\n",
            " EPOCH: 0288 -> val_accuracy: 0.7669, class_label_loss: 0.2016, domain_label_loss: 1.3886\n"
          ]
        },
        {
          "output_type": "stream",
          "name": "stderr",
          "text": [
            "\n",
            " 14%|█▎        | 24/175 [00:04<00:26,  5.67it/s]\n",
            "100%|██████████| 6/6 [00:01<00:00,  4.94it/s]"
          ]
        },
        {
          "output_type": "stream",
          "name": "stdout",
          "text": [
            "\n",
            " EPOCH: 0289 -> val_accuracy: 0.7729, class_label_loss: 0.2189, domain_label_loss: 1.4033\n"
          ]
        },
        {
          "output_type": "stream",
          "name": "stderr",
          "text": [
            "\n",
            " 14%|█▎        | 24/175 [00:06<00:43,  3.46it/s]\n",
            "100%|██████████| 6/6 [00:00<00:00,  6.22it/s]"
          ]
        },
        {
          "output_type": "stream",
          "name": "stdout",
          "text": [
            "\n",
            " EPOCH: 0290 -> val_accuracy: 0.7924, class_label_loss: 0.2523, domain_label_loss: 1.4053\n",
            "--------------------Model saved--------------------\n"
          ]
        },
        {
          "output_type": "stream",
          "name": "stderr",
          "text": [
            "\n",
            " 14%|█▎        | 24/175 [00:04<00:26,  5.67it/s]\n",
            "100%|██████████| 6/6 [00:00<00:00,  6.36it/s]"
          ]
        },
        {
          "output_type": "stream",
          "name": "stdout",
          "text": [
            "\n",
            " EPOCH: 0291 -> val_accuracy: 0.7877, class_label_loss: 0.2440, domain_label_loss: 1.4059\n"
          ]
        },
        {
          "output_type": "stream",
          "name": "stderr",
          "text": [
            "\n",
            " 14%|█▎        | 24/175 [00:06<00:42,  3.59it/s]\n",
            "100%|██████████| 6/6 [00:01<00:00,  3.59it/s]"
          ]
        },
        {
          "output_type": "stream",
          "name": "stdout",
          "text": [
            "\n",
            " EPOCH: 0292 -> val_accuracy: 0.7843, class_label_loss: 0.2223, domain_label_loss: 1.3979\n"
          ]
        },
        {
          "output_type": "stream",
          "name": "stderr",
          "text": [
            "\n",
            " 14%|█▎        | 24/175 [00:04<00:29,  5.05it/s]\n",
            "100%|██████████| 6/6 [00:00<00:00,  6.15it/s]"
          ]
        },
        {
          "output_type": "stream",
          "name": "stdout",
          "text": [
            "\n",
            " EPOCH: 0293 -> val_accuracy: 0.7675, class_label_loss: 0.2409, domain_label_loss: 1.3896\n"
          ]
        },
        {
          "output_type": "stream",
          "name": "stderr",
          "text": [
            "\n",
            " 14%|█▎        | 24/175 [00:04<00:31,  4.85it/s]\n",
            "100%|██████████| 6/6 [00:01<00:00,  3.89it/s]"
          ]
        },
        {
          "output_type": "stream",
          "name": "stdout",
          "text": [
            "\n",
            " EPOCH: 0294 -> val_accuracy: 0.7729, class_label_loss: 0.2027, domain_label_loss: 1.4040\n"
          ]
        },
        {
          "output_type": "stream",
          "name": "stderr",
          "text": [
            "\n",
            " 14%|█▎        | 24/175 [00:05<00:37,  4.04it/s]\n",
            "100%|██████████| 6/6 [00:00<00:00,  6.18it/s]"
          ]
        },
        {
          "output_type": "stream",
          "name": "stdout",
          "text": [
            "\n",
            " EPOCH: 0295 -> val_accuracy: 0.7817, class_label_loss: 0.2155, domain_label_loss: 1.4002\n"
          ]
        },
        {
          "output_type": "stream",
          "name": "stderr",
          "text": [
            "\n",
            " 14%|█▎        | 24/175 [00:04<00:27,  5.55it/s]\n",
            "100%|██████████| 6/6 [00:00<00:00,  6.42it/s]"
          ]
        },
        {
          "output_type": "stream",
          "name": "stdout",
          "text": [
            "\n",
            " EPOCH: 0296 -> val_accuracy: 0.7839, class_label_loss: 0.2492, domain_label_loss: 1.3993\n"
          ]
        },
        {
          "output_type": "stream",
          "name": "stderr",
          "text": [
            "\n",
            " 14%|█▎        | 24/175 [00:07<00:44,  3.39it/s]\n",
            "100%|██████████| 6/6 [00:01<00:00,  4.18it/s]"
          ]
        },
        {
          "output_type": "stream",
          "name": "stdout",
          "text": [
            "\n",
            " EPOCH: 0297 -> val_accuracy: 0.7709, class_label_loss: 0.2150, domain_label_loss: 1.3956\n"
          ]
        },
        {
          "output_type": "stream",
          "name": "stderr",
          "text": [
            "\n",
            " 14%|█▎        | 24/175 [00:04<00:27,  5.41it/s]\n",
            "100%|██████████| 6/6 [00:00<00:00,  6.24it/s]"
          ]
        },
        {
          "output_type": "stream",
          "name": "stdout",
          "text": [
            "\n",
            " EPOCH: 0298 -> val_accuracy: 0.7714, class_label_loss: 0.2058, domain_label_loss: 1.3948\n"
          ]
        },
        {
          "output_type": "stream",
          "name": "stderr",
          "text": [
            "\n",
            " 14%|█▎        | 24/175 [00:05<00:37,  4.07it/s]\n",
            "100%|██████████| 6/6 [00:01<00:00,  3.63it/s]"
          ]
        },
        {
          "output_type": "stream",
          "name": "stdout",
          "text": [
            "\n",
            " EPOCH: 0299 -> val_accuracy: 0.7667, class_label_loss: 0.2206, domain_label_loss: 1.3947\n"
          ]
        },
        {
          "output_type": "stream",
          "name": "stderr",
          "text": [
            "\n",
            " 14%|█▎        | 24/175 [00:05<00:33,  4.52it/s]\n",
            "100%|██████████| 6/6 [00:01<00:00,  5.97it/s]\n"
          ]
        },
        {
          "output_type": "stream",
          "name": "stdout",
          "text": [
            "\n",
            " EPOCH: 0300 -> val_accuracy: 0.7792, class_label_loss: 0.1650, domain_label_loss: 1.3894\n"
          ]
        },
        {
          "output_type": "stream",
          "name": "stderr",
          "text": [
            " 14%|█▎        | 24/175 [00:04<00:26,  5.60it/s]\n",
            "100%|██████████| 6/6 [00:01<00:00,  4.28it/s]"
          ]
        },
        {
          "output_type": "stream",
          "name": "stdout",
          "text": [
            "\n",
            " EPOCH: 0301 -> val_accuracy: 0.7735, class_label_loss: 0.1748, domain_label_loss: 1.4018\n"
          ]
        },
        {
          "output_type": "stream",
          "name": "stderr",
          "text": [
            "\n",
            " 14%|█▎        | 24/175 [00:07<00:44,  3.40it/s]\n",
            "100%|██████████| 6/6 [00:00<00:00,  6.17it/s]"
          ]
        },
        {
          "output_type": "stream",
          "name": "stdout",
          "text": [
            "\n",
            " EPOCH: 0302 -> val_accuracy: 0.7740, class_label_loss: 0.2365, domain_label_loss: 1.4020\n"
          ]
        },
        {
          "output_type": "stream",
          "name": "stderr",
          "text": [
            "\n",
            " 14%|█▎        | 24/175 [00:04<00:26,  5.71it/s]\n",
            "100%|██████████| 6/6 [00:00<00:00,  6.39it/s]"
          ]
        },
        {
          "output_type": "stream",
          "name": "stdout",
          "text": [
            "\n",
            " EPOCH: 0303 -> val_accuracy: 0.7706, class_label_loss: 0.1935, domain_label_loss: 1.3991\n"
          ]
        },
        {
          "output_type": "stream",
          "name": "stderr",
          "text": [
            "\n",
            " 14%|█▎        | 24/175 [00:06<00:42,  3.58it/s]\n",
            "100%|██████████| 6/6 [00:01<00:00,  3.55it/s]"
          ]
        },
        {
          "output_type": "stream",
          "name": "stdout",
          "text": [
            "\n",
            " EPOCH: 0304 -> val_accuracy: 0.7802, class_label_loss: 0.2208, domain_label_loss: 1.4044\n"
          ]
        },
        {
          "output_type": "stream",
          "name": "stderr",
          "text": [
            "\n",
            " 14%|█▎        | 24/175 [00:04<00:31,  4.85it/s]\n",
            "100%|██████████| 6/6 [00:01<00:00,  4.97it/s]"
          ]
        },
        {
          "output_type": "stream",
          "name": "stdout",
          "text": [
            "\n",
            " EPOCH: 0305 -> val_accuracy: 0.7846, class_label_loss: 0.2052, domain_label_loss: 1.4028\n"
          ]
        },
        {
          "output_type": "stream",
          "name": "stderr",
          "text": [
            "\n",
            " 14%|█▎        | 24/175 [00:06<00:43,  3.47it/s]\n",
            "100%|██████████| 6/6 [00:02<00:00,  2.03it/s]"
          ]
        },
        {
          "output_type": "stream",
          "name": "stdout",
          "text": [
            "\n",
            " EPOCH: 0306 -> val_accuracy: 0.7849, class_label_loss: 0.1957, domain_label_loss: 1.3903\n"
          ]
        },
        {
          "output_type": "stream",
          "name": "stderr",
          "text": [
            "\n",
            " 14%|█▎        | 24/175 [00:06<00:39,  3.79it/s]\n",
            "100%|██████████| 6/6 [00:01<00:00,  3.60it/s]"
          ]
        },
        {
          "output_type": "stream",
          "name": "stdout",
          "text": [
            "\n",
            " EPOCH: 0307 -> val_accuracy: 0.7693, class_label_loss: 0.2017, domain_label_loss: 1.3951\n"
          ]
        },
        {
          "output_type": "stream",
          "name": "stderr",
          "text": [
            "\n",
            " 14%|█▎        | 24/175 [00:07<00:45,  3.29it/s]\n",
            "100%|██████████| 6/6 [00:01<00:00,  3.80it/s]"
          ]
        },
        {
          "output_type": "stream",
          "name": "stdout",
          "text": [
            "\n",
            " EPOCH: 0308 -> val_accuracy: 0.7800, class_label_loss: 0.1907, domain_label_loss: 1.3948\n"
          ]
        },
        {
          "output_type": "stream",
          "name": "stderr",
          "text": [
            "\n",
            " 14%|█▎        | 24/175 [00:04<00:27,  5.42it/s]\n",
            "100%|██████████| 6/6 [00:00<00:00,  6.19it/s]"
          ]
        },
        {
          "output_type": "stream",
          "name": "stdout",
          "text": [
            "\n",
            " EPOCH: 0309 -> val_accuracy: 0.7697, class_label_loss: 0.2396, domain_label_loss: 1.4072\n"
          ]
        },
        {
          "output_type": "stream",
          "name": "stderr",
          "text": [
            "\n",
            " 14%|█▎        | 24/175 [00:05<00:32,  4.70it/s]\n",
            "100%|██████████| 6/6 [00:01<00:00,  3.60it/s]"
          ]
        },
        {
          "output_type": "stream",
          "name": "stdout",
          "text": [
            "\n",
            " EPOCH: 0310 -> val_accuracy: 0.7870, class_label_loss: 0.2148, domain_label_loss: 1.3892\n"
          ]
        },
        {
          "output_type": "stream",
          "name": "stderr",
          "text": [
            "\n",
            " 14%|█▎        | 24/175 [00:05<00:36,  4.18it/s]\n",
            "100%|██████████| 6/6 [00:00<00:00,  6.22it/s]"
          ]
        },
        {
          "output_type": "stream",
          "name": "stdout",
          "text": [
            "\n",
            " EPOCH: 0311 -> val_accuracy: 0.7705, class_label_loss: 0.2458, domain_label_loss: 1.3929\n"
          ]
        },
        {
          "output_type": "stream",
          "name": "stderr",
          "text": [
            "\n",
            " 14%|█▎        | 24/175 [00:04<00:28,  5.35it/s]\n",
            "100%|██████████| 6/6 [00:00<00:00,  6.10it/s]"
          ]
        },
        {
          "output_type": "stream",
          "name": "stdout",
          "text": [
            "\n",
            " EPOCH: 0312 -> val_accuracy: 0.7784, class_label_loss: 0.2148, domain_label_loss: 1.3962\n"
          ]
        },
        {
          "output_type": "stream",
          "name": "stderr",
          "text": [
            "\n",
            " 14%|█▎        | 24/175 [00:07<00:45,  3.33it/s]\n",
            "100%|██████████| 6/6 [00:01<00:00,  5.49it/s]"
          ]
        },
        {
          "output_type": "stream",
          "name": "stdout",
          "text": [
            "\n",
            " EPOCH: 0313 -> val_accuracy: 0.7794, class_label_loss: 0.2330, domain_label_loss: 1.3987\n"
          ]
        },
        {
          "output_type": "stream",
          "name": "stderr",
          "text": [
            "\n",
            " 14%|█▎        | 24/175 [00:04<00:27,  5.49it/s]\n",
            "100%|██████████| 6/6 [00:00<00:00,  6.52it/s]"
          ]
        },
        {
          "output_type": "stream",
          "name": "stdout",
          "text": [
            "\n",
            " EPOCH: 0314 -> val_accuracy: 0.7769, class_label_loss: 0.2248, domain_label_loss: 1.3997\n"
          ]
        },
        {
          "output_type": "stream",
          "name": "stderr",
          "text": [
            "\n",
            " 14%|█▎        | 24/175 [00:06<00:41,  3.67it/s]\n",
            "100%|██████████| 6/6 [00:01<00:00,  3.68it/s]"
          ]
        },
        {
          "output_type": "stream",
          "name": "stdout",
          "text": [
            "\n",
            " EPOCH: 0315 -> val_accuracy: 0.7732, class_label_loss: 0.2301, domain_label_loss: 1.3985\n"
          ]
        },
        {
          "output_type": "stream",
          "name": "stderr",
          "text": [
            "\n",
            " 14%|█▎        | 24/175 [00:04<00:30,  4.90it/s]\n",
            "100%|██████████| 6/6 [00:00<00:00,  6.12it/s]"
          ]
        },
        {
          "output_type": "stream",
          "name": "stdout",
          "text": [
            "\n",
            " EPOCH: 0316 -> val_accuracy: 0.7717, class_label_loss: 0.2318, domain_label_loss: 1.4031\n"
          ]
        },
        {
          "output_type": "stream",
          "name": "stderr",
          "text": [
            "\n",
            " 14%|█▎        | 24/175 [00:04<00:26,  5.66it/s]\n",
            "100%|██████████| 6/6 [00:01<00:00,  3.67it/s]"
          ]
        },
        {
          "output_type": "stream",
          "name": "stdout",
          "text": [
            "\n",
            " EPOCH: 0317 -> val_accuracy: 0.7698, class_label_loss: 0.1789, domain_label_loss: 1.3981\n"
          ]
        },
        {
          "output_type": "stream",
          "name": "stderr",
          "text": [
            "\n",
            " 14%|█▎        | 24/175 [00:06<00:41,  3.67it/s]\n",
            "100%|██████████| 6/6 [00:00<00:00,  6.22it/s]"
          ]
        },
        {
          "output_type": "stream",
          "name": "stdout",
          "text": [
            "\n",
            " EPOCH: 0318 -> val_accuracy: 0.7620, class_label_loss: 0.2432, domain_label_loss: 1.3925\n"
          ]
        },
        {
          "output_type": "stream",
          "name": "stderr",
          "text": [
            "\n",
            " 14%|█▎        | 24/175 [00:04<00:26,  5.62it/s]\n",
            "100%|██████████| 6/6 [00:00<00:00,  6.04it/s]"
          ]
        },
        {
          "output_type": "stream",
          "name": "stdout",
          "text": [
            "\n",
            " EPOCH: 0319 -> val_accuracy: 0.7807, class_label_loss: 0.2157, domain_label_loss: 1.3947\n"
          ]
        },
        {
          "output_type": "stream",
          "name": "stderr",
          "text": [
            "\n",
            " 14%|█▎        | 24/175 [00:07<00:46,  3.22it/s]\n",
            "100%|██████████| 6/6 [00:01<00:00,  4.14it/s]"
          ]
        },
        {
          "output_type": "stream",
          "name": "stdout",
          "text": [
            "\n",
            " EPOCH: 0320 -> val_accuracy: 0.7703, class_label_loss: 0.2156, domain_label_loss: 1.3950\n"
          ]
        },
        {
          "output_type": "stream",
          "name": "stderr",
          "text": [
            "\n",
            " 14%|█▎        | 24/175 [00:04<00:27,  5.56it/s]\n",
            "100%|██████████| 6/6 [00:01<00:00,  5.99it/s]"
          ]
        },
        {
          "output_type": "stream",
          "name": "stdout",
          "text": [
            "\n",
            " EPOCH: 0321 -> val_accuracy: 0.7688, class_label_loss: 0.2048, domain_label_loss: 1.3957\n"
          ]
        },
        {
          "output_type": "stream",
          "name": "stderr",
          "text": [
            "\n",
            " 14%|█▎        | 24/175 [00:05<00:36,  4.14it/s]\n",
            "100%|██████████| 6/6 [00:01<00:00,  3.75it/s]"
          ]
        },
        {
          "output_type": "stream",
          "name": "stdout",
          "text": [
            "\n",
            " EPOCH: 0322 -> val_accuracy: 0.7713, class_label_loss: 0.2266, domain_label_loss: 1.3956\n"
          ]
        },
        {
          "output_type": "stream",
          "name": "stderr",
          "text": [
            "\n",
            " 14%|█▎        | 24/175 [00:05<00:33,  4.54it/s]\n",
            "100%|██████████| 6/6 [00:00<00:00,  6.22it/s]"
          ]
        },
        {
          "output_type": "stream",
          "name": "stdout",
          "text": [
            "\n",
            " EPOCH: 0323 -> val_accuracy: 0.7756, class_label_loss: 0.2446, domain_label_loss: 1.4005\n"
          ]
        },
        {
          "output_type": "stream",
          "name": "stderr",
          "text": [
            "\n",
            " 14%|█▎        | 24/175 [00:04<00:27,  5.55it/s]\n",
            "100%|██████████| 6/6 [00:01<00:00,  4.45it/s]"
          ]
        },
        {
          "output_type": "stream",
          "name": "stdout",
          "text": [
            "\n",
            " EPOCH: 0324 -> val_accuracy: 0.7663, class_label_loss: 0.2344, domain_label_loss: 1.3912\n"
          ]
        },
        {
          "output_type": "stream",
          "name": "stderr",
          "text": [
            "\n",
            " 14%|█▎        | 24/175 [00:06<00:43,  3.44it/s]\n",
            "100%|██████████| 6/6 [00:00<00:00,  6.36it/s]"
          ]
        },
        {
          "output_type": "stream",
          "name": "stdout",
          "text": [
            "\n",
            " EPOCH: 0325 -> val_accuracy: 0.7750, class_label_loss: 0.2423, domain_label_loss: 1.4007\n"
          ]
        },
        {
          "output_type": "stream",
          "name": "stderr",
          "text": [
            "\n",
            " 14%|█▎        | 24/175 [00:04<00:27,  5.41it/s]\n",
            "100%|██████████| 6/6 [00:01<00:00,  5.94it/s]"
          ]
        },
        {
          "output_type": "stream",
          "name": "stdout",
          "text": [
            "\n",
            " EPOCH: 0326 -> val_accuracy: 0.7667, class_label_loss: 0.1754, domain_label_loss: 1.4001\n"
          ]
        },
        {
          "output_type": "stream",
          "name": "stderr",
          "text": [
            "\n",
            " 14%|█▎        | 24/175 [00:07<00:44,  3.38it/s]\n",
            "100%|██████████| 6/6 [00:01<00:00,  3.97it/s]"
          ]
        },
        {
          "output_type": "stream",
          "name": "stdout",
          "text": [
            "\n",
            " EPOCH: 0327 -> val_accuracy: 0.7704, class_label_loss: 0.2840, domain_label_loss: 1.4081\n"
          ]
        },
        {
          "output_type": "stream",
          "name": "stderr",
          "text": [
            "\n",
            " 14%|█▎        | 24/175 [00:04<00:27,  5.49it/s]\n",
            "100%|██████████| 6/6 [00:00<00:00,  6.06it/s]"
          ]
        },
        {
          "output_type": "stream",
          "name": "stdout",
          "text": [
            "\n",
            " EPOCH: 0328 -> val_accuracy: 0.7656, class_label_loss: 0.2073, domain_label_loss: 1.4117\n"
          ]
        },
        {
          "output_type": "stream",
          "name": "stderr",
          "text": [
            "\n",
            " 14%|█▎        | 24/175 [00:05<00:35,  4.24it/s]\n",
            "100%|██████████| 6/6 [00:01<00:00,  3.79it/s]"
          ]
        },
        {
          "output_type": "stream",
          "name": "stdout",
          "text": [
            "\n",
            " EPOCH: 0329 -> val_accuracy: 0.7755, class_label_loss: 0.1940, domain_label_loss: 1.4059\n"
          ]
        },
        {
          "output_type": "stream",
          "name": "stderr",
          "text": [
            "\n",
            " 14%|█▎        | 24/175 [00:05<00:34,  4.44it/s]\n",
            "100%|██████████| 6/6 [00:00<00:00,  6.04it/s]"
          ]
        },
        {
          "output_type": "stream",
          "name": "stdout",
          "text": [
            "\n",
            " EPOCH: 0330 -> val_accuracy: 0.7703, class_label_loss: 0.1771, domain_label_loss: 1.4022\n"
          ]
        },
        {
          "output_type": "stream",
          "name": "stderr",
          "text": [
            "\n",
            " 14%|█▎        | 24/175 [00:04<00:27,  5.44it/s]\n",
            "100%|██████████| 6/6 [00:01<00:00,  5.70it/s]"
          ]
        },
        {
          "output_type": "stream",
          "name": "stdout",
          "text": [
            "\n",
            " EPOCH: 0331 -> val_accuracy: 0.7641, class_label_loss: 0.2189, domain_label_loss: 1.4042\n"
          ]
        },
        {
          "output_type": "stream",
          "name": "stderr",
          "text": [
            "\n",
            " 14%|█▎        | 24/175 [00:07<00:44,  3.37it/s]\n",
            "100%|██████████| 6/6 [00:01<00:00,  5.75it/s]"
          ]
        },
        {
          "output_type": "stream",
          "name": "stdout",
          "text": [
            "\n",
            " EPOCH: 0332 -> val_accuracy: 0.7896, class_label_loss: 0.2136, domain_label_loss: 1.3994\n"
          ]
        },
        {
          "output_type": "stream",
          "name": "stderr",
          "text": [
            "\n",
            " 14%|█▎        | 24/175 [00:04<00:27,  5.40it/s]\n",
            "100%|██████████| 6/6 [00:01<00:00,  5.97it/s]"
          ]
        },
        {
          "output_type": "stream",
          "name": "stdout",
          "text": [
            "\n",
            " EPOCH: 0333 -> val_accuracy: 0.7722, class_label_loss: 0.2112, domain_label_loss: 1.4159\n"
          ]
        },
        {
          "output_type": "stream",
          "name": "stderr",
          "text": [
            "\n",
            " 14%|█▎        | 24/175 [00:06<00:43,  3.48it/s]\n",
            "100%|██████████| 6/6 [00:01<00:00,  3.79it/s]"
          ]
        },
        {
          "output_type": "stream",
          "name": "stdout",
          "text": [
            "\n",
            " EPOCH: 0334 -> val_accuracy: 0.7786, class_label_loss: 0.2020, domain_label_loss: 1.3933\n"
          ]
        },
        {
          "output_type": "stream",
          "name": "stderr",
          "text": [
            "\n",
            " 14%|█▎        | 24/175 [00:04<00:27,  5.49it/s]\n",
            "100%|██████████| 6/6 [00:00<00:00,  6.12it/s]"
          ]
        },
        {
          "output_type": "stream",
          "name": "stdout",
          "text": [
            "\n",
            " EPOCH: 0335 -> val_accuracy: 0.7790, class_label_loss: 0.1908, domain_label_loss: 1.4023\n"
          ]
        },
        {
          "output_type": "stream",
          "name": "stderr",
          "text": [
            "\n",
            " 14%|█▎        | 24/175 [00:05<00:33,  4.45it/s]\n",
            "100%|██████████| 6/6 [00:01<00:00,  3.89it/s]"
          ]
        },
        {
          "output_type": "stream",
          "name": "stdout",
          "text": [
            "\n",
            " EPOCH: 0336 -> val_accuracy: 0.7781, class_label_loss: 0.2417, domain_label_loss: 1.4023\n"
          ]
        },
        {
          "output_type": "stream",
          "name": "stderr",
          "text": [
            "\n",
            " 14%|█▎        | 24/175 [00:05<00:36,  4.14it/s]\n",
            "100%|██████████| 6/6 [00:00<00:00,  6.10it/s]"
          ]
        },
        {
          "output_type": "stream",
          "name": "stdout",
          "text": [
            "\n",
            " EPOCH: 0337 -> val_accuracy: 0.7638, class_label_loss: 0.1756, domain_label_loss: 1.4068\n"
          ]
        },
        {
          "output_type": "stream",
          "name": "stderr",
          "text": [
            "\n",
            " 14%|█▎        | 24/175 [00:04<00:26,  5.73it/s]\n",
            "100%|██████████| 6/6 [00:00<00:00,  6.21it/s]"
          ]
        },
        {
          "output_type": "stream",
          "name": "stdout",
          "text": [
            "\n",
            " EPOCH: 0338 -> val_accuracy: 0.7688, class_label_loss: 0.2128, domain_label_loss: 1.3925\n"
          ]
        },
        {
          "output_type": "stream",
          "name": "stderr",
          "text": [
            "\n",
            " 14%|█▎        | 24/175 [00:07<00:44,  3.42it/s]\n",
            "100%|██████████| 6/6 [00:01<00:00,  4.03it/s]"
          ]
        },
        {
          "output_type": "stream",
          "name": "stdout",
          "text": [
            "\n",
            " EPOCH: 0339 -> val_accuracy: 0.7704, class_label_loss: 0.1671, domain_label_loss: 1.4000\n"
          ]
        },
        {
          "output_type": "stream",
          "name": "stderr",
          "text": [
            "\n",
            " 14%|█▎        | 24/175 [00:04<00:27,  5.47it/s]\n",
            "100%|██████████| 6/6 [00:00<00:00,  6.16it/s]"
          ]
        },
        {
          "output_type": "stream",
          "name": "stdout",
          "text": [
            "\n",
            " EPOCH: 0340 -> val_accuracy: 0.7808, class_label_loss: 0.2201, domain_label_loss: 1.4055\n"
          ]
        },
        {
          "output_type": "stream",
          "name": "stderr",
          "text": [
            "\n",
            " 14%|█▎        | 24/175 [00:05<00:36,  4.15it/s]\n",
            "100%|██████████| 6/6 [00:01<00:00,  3.65it/s]"
          ]
        },
        {
          "output_type": "stream",
          "name": "stdout",
          "text": [
            "\n",
            " EPOCH: 0341 -> val_accuracy: 0.7536, class_label_loss: 0.2172, domain_label_loss: 1.4067\n"
          ]
        },
        {
          "output_type": "stream",
          "name": "stderr",
          "text": [
            "\n",
            " 14%|█▎        | 24/175 [00:05<00:32,  4.65it/s]\n",
            "100%|██████████| 6/6 [00:01<00:00,  5.85it/s]"
          ]
        },
        {
          "output_type": "stream",
          "name": "stdout",
          "text": [
            "\n",
            " EPOCH: 0342 -> val_accuracy: 0.7797, class_label_loss: 0.1860, domain_label_loss: 1.4009\n"
          ]
        },
        {
          "output_type": "stream",
          "name": "stderr",
          "text": [
            "\n",
            " 14%|█▎        | 24/175 [00:04<00:27,  5.50it/s]\n",
            "100%|██████████| 6/6 [00:01<00:00,  3.71it/s]"
          ]
        },
        {
          "output_type": "stream",
          "name": "stdout",
          "text": [
            "\n",
            " EPOCH: 0343 -> val_accuracy: 0.7896, class_label_loss: 0.2250, domain_label_loss: 1.4019\n"
          ]
        },
        {
          "output_type": "stream",
          "name": "stderr",
          "text": [
            "\n",
            " 14%|█▎        | 24/175 [00:06<00:42,  3.59it/s]\n",
            "100%|██████████| 6/6 [00:01<00:00,  5.72it/s]"
          ]
        },
        {
          "output_type": "stream",
          "name": "stdout",
          "text": [
            "\n",
            " EPOCH: 0344 -> val_accuracy: 0.7713, class_label_loss: 0.1942, domain_label_loss: 1.4113\n"
          ]
        },
        {
          "output_type": "stream",
          "name": "stderr",
          "text": [
            "\n",
            " 14%|█▎        | 24/175 [00:04<00:26,  5.67it/s]\n",
            "100%|██████████| 6/6 [00:00<00:00,  6.11it/s]"
          ]
        },
        {
          "output_type": "stream",
          "name": "stdout",
          "text": [
            "\n",
            " EPOCH: 0345 -> val_accuracy: 0.7620, class_label_loss: 0.2246, domain_label_loss: 1.3989\n"
          ]
        },
        {
          "output_type": "stream",
          "name": "stderr",
          "text": [
            "\n",
            " 14%|█▎        | 24/175 [00:07<00:45,  3.33it/s]\n",
            "100%|██████████| 6/6 [00:01<00:00,  3.88it/s]"
          ]
        },
        {
          "output_type": "stream",
          "name": "stdout",
          "text": [
            "\n",
            " EPOCH: 0346 -> val_accuracy: 0.7645, class_label_loss: 0.1720, domain_label_loss: 1.4042\n"
          ]
        },
        {
          "output_type": "stream",
          "name": "stderr",
          "text": [
            "\n",
            " 14%|█▎        | 24/175 [00:04<00:28,  5.27it/s]\n",
            "100%|██████████| 6/6 [00:00<00:00,  6.05it/s]"
          ]
        },
        {
          "output_type": "stream",
          "name": "stdout",
          "text": [
            "\n",
            " EPOCH: 0347 -> val_accuracy: 0.7735, class_label_loss: 0.2109, domain_label_loss: 1.4077\n"
          ]
        },
        {
          "output_type": "stream",
          "name": "stderr",
          "text": [
            "\n",
            " 14%|█▎        | 24/175 [00:05<00:34,  4.42it/s]\n",
            "100%|██████████| 6/6 [00:01<00:00,  3.56it/s]"
          ]
        },
        {
          "output_type": "stream",
          "name": "stdout",
          "text": [
            "\n",
            " EPOCH: 0348 -> val_accuracy: 0.7705, class_label_loss: 0.1551, domain_label_loss: 1.4114\n"
          ]
        },
        {
          "output_type": "stream",
          "name": "stderr",
          "text": [
            "\n",
            " 14%|█▎        | 24/175 [00:05<00:34,  4.34it/s]\n",
            "100%|██████████| 6/6 [00:00<00:00,  6.18it/s]"
          ]
        },
        {
          "output_type": "stream",
          "name": "stdout",
          "text": [
            "\n",
            " EPOCH: 0349 -> val_accuracy: 0.7716, class_label_loss: 0.2148, domain_label_loss: 1.4090\n"
          ]
        },
        {
          "output_type": "stream",
          "name": "stderr",
          "text": [
            "\n",
            " 14%|█▎        | 24/175 [00:04<00:26,  5.60it/s]\n",
            "100%|██████████| 6/6 [00:01<00:00,  4.45it/s]"
          ]
        },
        {
          "output_type": "stream",
          "name": "stdout",
          "text": [
            "\n",
            " EPOCH: 0350 -> val_accuracy: 0.7729, class_label_loss: 0.1533, domain_label_loss: 1.3973\n"
          ]
        },
        {
          "output_type": "stream",
          "name": "stderr",
          "text": [
            "\n"
          ]
        }
      ]
    }
  ]
}