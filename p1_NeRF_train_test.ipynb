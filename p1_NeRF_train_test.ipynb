{
  "nbformat": 4,
  "nbformat_minor": 0,
  "metadata": {
    "colab": {
      "provenance": [],
      "gpuType": "T4",
      "include_colab_link": true
    },
    "kernelspec": {
      "name": "python3",
      "display_name": "Python 3"
    },
    "language_info": {
      "name": "python"
    },
    "accelerator": "GPU"
  },
  "cells": [
    {
      "cell_type": "markdown",
      "metadata": {
        "id": "view-in-github",
        "colab_type": "text"
      },
      "source": [
        "<a href=\"https://colab.research.google.com/github/R12942159/NTU_DLCV/blob/Hw4/p1_NeRF_train_test.ipynb\" target=\"_parent\"><img src=\"https://colab.research.google.com/assets/colab-badge.svg\" alt=\"Open In Colab\"/></a>"
      ]
    },
    {
      "cell_type": "code",
      "execution_count": null,
      "metadata": {
        "id": "Oh67In59DJBg"
      },
      "outputs": [],
      "source": [
        "!unzip ./dlcv-fall-2023-hw4-R12942159-main.zip\n",
        "!rm dlcv-fall-2023-hw4-R12942159-main.zip"
      ]
    },
    {
      "cell_type": "code",
      "source": [
        "cd dlcv-fall-2023-hw4-R12942159-main"
      ],
      "metadata": {
        "colab": {
          "base_uri": "https://localhost:8080/"
        },
        "id": "Ls9j0ijgDqfN",
        "outputId": "1463b015-01c0-4d0f-f78e-46d76ab01732"
      },
      "execution_count": 2,
      "outputs": [
        {
          "output_type": "stream",
          "name": "stdout",
          "text": [
            "/content/dlcv-fall-2023-hw4-R12942159-main\n"
          ]
        }
      ]
    },
    {
      "cell_type": "code",
      "source": [
        "!gdown 1hF4z9U-xaoV4qaq9DbhTP-KKJTlwOUv_ -O hw4_data.zip\n",
        "!unzip hw4_data.zip\n",
        "!rm hw4_data.zip"
      ],
      "metadata": {
        "id": "ILGkW_HzD0pR"
      },
      "execution_count": null,
      "outputs": []
    },
    {
      "cell_type": "code",
      "source": [
        "!pip install kornia\n",
        "!pip install pytorch-lightning==2.1.2"
      ],
      "metadata": {
        "id": "_BOhKurMT9cR"
      },
      "execution_count": null,
      "outputs": []
    },
    {
      "cell_type": "markdown",
      "source": [
        "#### training"
      ],
      "metadata": {
        "id": "UlNfH4UpT6do"
      }
    },
    {
      "cell_type": "code",
      "source": [
        "!python3 train.py \\\n",
        "   --dataset_name blender \\\n",
        "   --root_dir './dataset/metadata.json' \\\n",
        "   --N_importance 64 --img_wh 256 256 --noise_std 0 \\\n",
        "   --num_epochs 8 --batch_size 1024 \\\n",
        "   --optimizer adam --lr 5e-4 \\\n",
        "   --lr_scheduler steplr --decay_step 2 4 8 --decay_gamma 0.5 \\\n",
        "   --exp_name exp"
      ],
      "metadata": {
        "id": "Qt121g-ETYkx"
      },
      "execution_count": null,
      "outputs": []
    },
    {
      "cell_type": "markdown",
      "source": [
        "#### testing"
      ],
      "metadata": {
        "id": "mkvLNwJuT3Eh"
      }
    },
    {
      "cell_type": "code",
      "source": [
        "mkdir hw4_img_output"
      ],
      "metadata": {
        "id": "JFWAz7iED4YQ"
      },
      "execution_count": 5,
      "outputs": []
    },
    {
      "cell_type": "code",
      "source": [
        "!bash hw4_download.sh"
      ],
      "metadata": {
        "id": "DbN4Ym3lEISD"
      },
      "execution_count": null,
      "outputs": []
    },
    {
      "cell_type": "code",
      "source": [
        "!bash hw4.sh './dataset/metadata.json' './hw4_img_output'"
      ],
      "metadata": {
        "id": "VHHg5W2wD9Qh"
      },
      "execution_count": null,
      "outputs": []
    },
    {
      "cell_type": "code",
      "source": [],
      "metadata": {
        "id": "-pJNRwxGEnbv"
      },
      "execution_count": null,
      "outputs": []
    }
  ]
}