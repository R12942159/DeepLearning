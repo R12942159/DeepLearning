{
  "nbformat": 4,
  "nbformat_minor": 0,
  "metadata": {
    "colab": {
      "provenance": [],
      "gpuType": "T4",
      "include_colab_link": true
    },
    "kernelspec": {
      "name": "python3",
      "display_name": "Python 3"
    },
    "language_info": {
      "name": "python"
    },
    "accelerator": "GPU"
  },
  "cells": [
    {
      "cell_type": "markdown",
      "metadata": {
        "id": "view-in-github",
        "colab_type": "text"
      },
      "source": [
        "<a href=\"https://colab.research.google.com/github/R12942159/NTU_DLCV/blob/Hw2/p1_ModelA_plot.ipynb\" target=\"_parent\"><img src=\"https://colab.research.google.com/assets/colab-badge.svg\" alt=\"Open In Colab\"/></a>"
      ]
    },
    {
      "cell_type": "code",
      "source": [
        "import os\n",
        "import torch\n",
        "import random\n",
        "import numpy as np\n",
        "from torch import nn\n",
        "from torchvision.utils import save_image, make_grid"
      ],
      "metadata": {
        "id": "fZ2fAKp1hmWs"
      },
      "execution_count": 1,
      "outputs": []
    },
    {
      "cell_type": "code",
      "source": [
        "from google.colab import drive\n",
        "drive.mount('/content/drive')"
      ],
      "metadata": {
        "id": "fFZCm2DFhtSZ",
        "colab": {
          "base_uri": "https://localhost:8080/"
        },
        "outputId": "1c3032c8-f6f3-42df-a0d3-2f7186c58aad"
      },
      "execution_count": 2,
      "outputs": [
        {
          "output_type": "stream",
          "name": "stdout",
          "text": [
            "Mounted at /content/drive\n"
          ]
        }
      ]
    },
    {
      "cell_type": "markdown",
      "source": [
        "#### Get cuda from GPU"
      ],
      "metadata": {
        "id": "UdZGyuq0karg"
      }
    },
    {
      "cell_type": "code",
      "source": [
        "device = \"cuda\" if torch.cuda.is_available() else \"cpu\"\n",
        "print(f\"Using: {device}\")"
      ],
      "metadata": {
        "colab": {
          "base_uri": "https://localhost:8080/"
        },
        "id": "l9VpOFWkkdEk",
        "outputId": "11758c50-6b62-4b09-8923-02285158a6fc"
      },
      "execution_count": 3,
      "outputs": [
        {
          "output_type": "stream",
          "name": "stdout",
          "text": [
            "Using: cuda\n"
          ]
        }
      ]
    },
    {
      "cell_type": "markdown",
      "source": [
        "#### Fix the random seed"
      ],
      "metadata": {
        "id": "fx48xScHk_1T"
      }
    },
    {
      "cell_type": "code",
      "source": [
        "# random.seed(369)"
      ],
      "metadata": {
        "id": "BEtcyzHDlEjD"
      },
      "execution_count": null,
      "outputs": []
    },
    {
      "cell_type": "markdown",
      "source": [
        "#### Download ckpt"
      ],
      "metadata": {
        "id": "JvQtKVYPnvvO"
      }
    },
    {
      "cell_type": "code",
      "source": [
        "!gdown https://drive.google.com/file/d/1tNl6xrzl56ZXgLxOdF6F3XWVOf91rSPm/view?usp=share_link -O DDPM_epoch101_256.pth"
      ],
      "metadata": {
        "id": "B7xAXI-kn0o7"
      },
      "execution_count": null,
      "outputs": []
    },
    {
      "cell_type": "markdown",
      "source": [
        "#### Build UNet Model\n",
        "###### I made adjustments by referring to the code of https://github.com/TeaPearce/Conditional_Diffusion_MNIST/tree/main."
      ],
      "metadata": {
        "id": "MKNnyqtEHTKQ"
      }
    },
    {
      "cell_type": "code",
      "source": [
        "class ConvBlock(nn.Module):\n",
        "    def __init__(self, in_channels: int, out_channels: int, residual: bool=False) -> None:\n",
        "        super().__init__()\n",
        "        self.in_channels = in_channels\n",
        "        self.out_channels = out_channels\n",
        "        self.residual = residual\n",
        "\n",
        "        self.conv1 = nn.Sequential(\n",
        "            nn.Conv2d(in_channels, out_channels, kernel_size=3, stride=1, padding=1),\n",
        "            nn.GroupNorm(1, out_channels),\n",
        "            nn.GELU()\n",
        "        )\n",
        "        self.conv2 = nn.Sequential(\n",
        "            nn.Conv2d(out_channels, out_channels, 3, 1, 1),\n",
        "            nn.GroupNorm(1, out_channels),\n",
        "            nn.GELU()\n",
        "        )\n",
        "\n",
        "    def forward(self, x: torch.Tensor) -> torch.Tensor:\n",
        "        x1 = self.conv1(x)\n",
        "        x2 = self.conv2(x1)\n",
        "        if self.residual:\n",
        "            if self.in_channels == self.out_channels:\n",
        "                out = x + x2\n",
        "            else:\n",
        "                out = x1 + x2\n",
        "            return out / torch.sqrt(torch.tensor(2.0))\n",
        "        else:\n",
        "            return x2\n",
        "\n",
        "\n",
        "class Encoder_set(nn.Module):\n",
        "    def __init__(self, in_channels, out_channels) -> None:\n",
        "        super().__init__()\n",
        "        self.encoder_set = nn.Sequential(\n",
        "            ConvBlock(in_channels, out_channels),\n",
        "            nn.MaxPool2d(2),\n",
        "        )\n",
        "\n",
        "    def forward(self, x):\n",
        "        return self.encoder_set(x)\n",
        "\n",
        "\n",
        "class Decoder_set(nn.Module):\n",
        "    def __init__(self, in_channels, out_channels) -> None:\n",
        "        super().__init__()\n",
        "        self.decoder_set = nn.Sequential(\n",
        "            nn.ConvTranspose2d(in_channels, out_channels, 2, 2),\n",
        "            ConvBlock(out_channels, out_channels),\n",
        "            ConvBlock(out_channels, out_channels)\n",
        "        )\n",
        "\n",
        "    def forward(self, x, skip_connect):\n",
        "        x = torch.cat((x, skip_connect), 1)\n",
        "        x = self.decoder_set(x)\n",
        "\n",
        "        return x\n",
        "\n",
        "\n",
        "class EmbeddingFC(nn.Module):\n",
        "    def __init__(self, input_dim, output_dim) -> None:\n",
        "        super().__init__()\n",
        "        self.input_dim = input_dim\n",
        "        self.embeddingfc = nn.Sequential(\n",
        "            nn.Linear(input_dim, output_dim),\n",
        "            nn.GELU(),\n",
        "            nn.Linear(output_dim, output_dim),\n",
        "        )\n",
        "\n",
        "    def forward(self, x):\n",
        "        x = x.view(-1, self.input_dim)\n",
        "        x = self.embeddingfc(x)\n",
        "\n",
        "        return x\n",
        "\n",
        "class UNet(nn.Module):\n",
        "    def __init__(self, in_channels, n_features, n_classes) -> None:\n",
        "        super().__init__()\n",
        "        self.in_channels = in_channels\n",
        "        self.n_features = n_features\n",
        "        self.n_classes = n_classes\n",
        "\n",
        "        self.init_conv = ConvBlock(in_channels, n_features, residual=True)\n",
        "\n",
        "        self.encoder1 = Encoder_set(n_features, 1 * n_features)\n",
        "        self.encoder2 = Encoder_set(n_features, 2 * n_features)\n",
        "\n",
        "        self.to_vec = nn.Sequential(\n",
        "            nn.AvgPool2d(7),\n",
        "            nn.GELU(),\n",
        "        )\n",
        "\n",
        "        self.timeembedding1 = EmbeddingFC(1, 2 * n_features)\n",
        "        self.timeembedding2 = EmbeddingFC(1, 1 * n_features)\n",
        "\n",
        "        self.contextembedding1 = EmbeddingFC(n_classes, 2 * n_features)\n",
        "        self.contextembedding2 = EmbeddingFC(n_classes, 1 * n_features)\n",
        "\n",
        "        self.decoder0 = nn.Sequential(\n",
        "            nn.ConvTranspose2d(2 * n_features, 2 * n_features, 7, 7),\n",
        "            nn.GroupNorm(8, 2 * n_features),\n",
        "            nn.ReLU(),\n",
        "        )\n",
        "        self.decoder1 = Decoder_set(4 * n_features, n_features)\n",
        "        self.decoder2 = Decoder_set(2 * n_features, n_features)\n",
        "        self.out = nn.Sequential(\n",
        "            nn.Conv2d(2 * n_features, n_features, 3, 1, 1),\n",
        "            nn.GroupNorm(8, n_features),\n",
        "            nn.ReLU(),\n",
        "            nn.Conv2d(n_features, self.in_channels, 3, 1, 1)\n",
        "        )\n",
        "\n",
        "    def forward(self, x, c, t, context_mask):\n",
        "        # x is (noisy) image, c is context label, t is timestep,\n",
        "        # context_mask says which samples to block the context on\n",
        "\n",
        "        x = self.init_conv(x)\n",
        "        encode1 = self.encoder1(x)\n",
        "        encode2 = self.encoder2(encode1)\n",
        "        hiddenvec = self.to_vec(encode2)\n",
        "\n",
        "        # convert to 1-hot embedding\n",
        "        c = nn.functional.one_hot(c, num_classes=self.n_classes).type(torch.float)\n",
        "\n",
        "        # mask out context if context_mask == 1\n",
        "        context_mask = context_mask[:, None]\n",
        "        context_mask = context_mask.repeat(1,self.n_classes)\n",
        "        context_mask = (-1*(1-context_mask)) # flip 0 <-> 1\n",
        "        c *= context_mask\n",
        "\n",
        "        # embed context with time step\n",
        "        c_embed1 = self.contextembedding1(c).view(-1, self.n_features * 2, 1, 1)\n",
        "        t_embed1 = self.timeembedding1(t).view(-1, self.n_features * 2, 1, 1)\n",
        "        c_embed2 = self.contextembedding2(c).view(-1, self.n_features * 1, 1, 1)\n",
        "        t_embed2 = self.timeembedding2(t).view(-1, self.n_features * 1, 1, 1)\n",
        "\n",
        "        decode1 = self.decoder0(hiddenvec)\n",
        "        decode2 = self.decoder1(c_embed1 * decode1 + t_embed1, encode2)\n",
        "        decode3 = self.decoder2(c_embed2 * decode2 + t_embed2, encode1)\n",
        "        out = self.out(torch.cat((decode3, x), 1))\n",
        "\n",
        "        return out\n"
      ],
      "metadata": {
        "id": "uF3qZEa8HSwm"
      },
      "execution_count": 7,
      "outputs": []
    },
    {
      "cell_type": "markdown",
      "source": [
        "#### Denoising Duffusion Probabilistic Models"
      ],
      "metadata": {
        "id": "-s3t2jCiHYA3"
      }
    },
    {
      "cell_type": "markdown",
      "source": [
        "$\n",
        "\\beta_t = \\beta_1 + (\\beta_2 - \\beta_1) * \\frac{range(0, T + 1)}{T} \\\\\n",
        "\\alpha_t  = 1 - \\beta_t \\\\\n",
        "\\hat{\\alpha_t} = \\prod_{s=1}^{t}(1 - \\beta_s) = \\prod_{s=1}^{t}\\alpha_t\n",
        "$"
      ],
      "metadata": {
        "id": "zi2VAt_gTBKr"
      }
    },
    {
      "cell_type": "code",
      "source": [
        "def ddpm_schedules(beta1, beta2, T):\n",
        "    assert beta1 < beta2 < 1.0\n",
        "\n",
        "    beta_t = (beta2 - beta1) * torch.arange(0, T + 1, dtype=torch.float32) / T + beta1\n",
        "    sqrt_beta_t = torch.sqrt(beta_t)\n",
        "    alpha_t = 1 - beta_t\n",
        "    alphabar_t = torch.cumprod(alpha_t, dim=0)\n",
        "\n",
        "    sqrtab = torch.sqrt(alphabar_t)\n",
        "    oneover_sqrta = 1 / torch.sqrt(alpha_t)\n",
        "\n",
        "    sqrtmab = torch.sqrt(1 - alphabar_t)\n",
        "    mab_over_sqrtmab_inv = (1 - alpha_t) / sqrtmab\n",
        "\n",
        "    return {\n",
        "        \"alpha_t\": alpha_t,\n",
        "        \"oneover_sqrta\": oneover_sqrta,\n",
        "        \"sqrt_beta_t\": sqrt_beta_t,\n",
        "        \"alphabar_t\": alphabar_t,\n",
        "        \"sqrtab\": sqrtab,\n",
        "        \"sqrtmab\": sqrtmab,\n",
        "        \"mab_over_sqrtmab\": mab_over_sqrtmab_inv,\n",
        "    }"
      ],
      "metadata": {
        "id": "gBh33rxcz-kD"
      },
      "execution_count": 8,
      "outputs": []
    },
    {
      "cell_type": "markdown",
      "source": [
        "\n",
        "\"alpha_t\": $\\alpha_t$\n",
        "\"oneover_sqrta\": $\\frac{1}{\\sqrt{\\alpha_t}}$\n",
        "\"sqrt_beta_t\": $\\sqrt{\\beta_t}$\n",
        "\"alphabar_t\": $\\bar{\\alpha_t}$\n",
        "\"sqrtab\": $\\sqrt{\\bar{\\alpha_t}}$\n",
        "\"sqrtmab\": $\\sqrt{1-\\bar{\\alpha_t}}$\n",
        "\"mab_over_sqrtmab\": $\\frac{(1-\\alpha_t)}{\\sqrt{1-\\bar{\\alpha_t}}}$\n"
      ],
      "metadata": {
        "id": "9RmLWTI2SmH7"
      }
    },
    {
      "cell_type": "code",
      "source": [
        "class DDPM(nn.Module):\n",
        "    def __init__(self, model, beta_start: int=1e-4, beta_end: int=0.02, noise_step: int=1000, device: str='cuda', drop_prob: int=0.1) -> None:\n",
        "        super().__init__()\n",
        "        self.model = model.to(device)\n",
        "        self.noise_step = noise_step\n",
        "        self.device = device\n",
        "        self.drop_prob = drop_prob\n",
        "        self.mse_loss = nn.MSELoss()\n",
        "\n",
        "        for k, v in ddpm_schedules(beta_start, beta_end, noise_step).items():\n",
        "            self.register_buffer(k, v)\n",
        "\n",
        "    def sample(self, n_sample, size, device, guide_w = 0.0):\n",
        "        x_i = torch.randn(n_sample, *size).to(device)  # x_T ~ N(0, 1), sample initial noise\n",
        "        c_i = torch.arange(0,10).to(device) # context for us just cycles throught the mnist labels\n",
        "        c_i = c_i.repeat(n_sample // c_i.shape[0])\n",
        "\n",
        "        # don't drop context at test time\n",
        "        context_mask = torch.zeros_like(c_i).to(device)\n",
        "\n",
        "        # double the batch\n",
        "        c_i = c_i.repeat(2)\n",
        "        context_mask = context_mask.repeat(2)\n",
        "        context_mask[n_sample:] = 1.\n",
        "\n",
        "        # keep track of generated steps in case want to plot something\n",
        "        x_i_store = []\n",
        "\n",
        "        for i in range(self.noise_step, 0, -1):\n",
        "            t_is = torch.tensor([i / self.noise_step]).to(device)\n",
        "            t_is = t_is.repeat(n_sample, 1, 1, 1)\n",
        "\n",
        "            # double batch\n",
        "            x_i = x_i.repeat(2, 1, 1, 1)\n",
        "            t_is = t_is.repeat(2, 1, 1, 1)\n",
        "\n",
        "            noise = torch.randn(n_sample, *size).to(device) if i > 1 else 0\n",
        "\n",
        "            # split predictions and compute weighting\n",
        "            predicted_noise = self.model(x_i, c_i, t_is, context_mask)\n",
        "            epsilon1 = predicted_noise[:n_sample]\n",
        "            epsilon2 = predicted_noise[n_sample:]\n",
        "            predicted_noise = (1 + guide_w) * epsilon1 - guide_w * epsilon2\n",
        "            x_i = x_i[:n_sample]\n",
        "            x_i = (\n",
        "                self.oneover_sqrta[i] * (x_i - predicted_noise * self.mab_over_sqrtmab[i])\n",
        "                + self.sqrt_beta_t[i] * noise\n",
        "            )\n",
        "            if i == 1 or i % 200 == 0:\n",
        "                x_i_store.append(x_i.detach().cpu().numpy())\n",
        "\n",
        "        x_i_store = np.array(x_i_store)\n",
        "        return x_i, x_i_store"
      ],
      "metadata": {
        "id": "RvptaaLfQ2By"
      },
      "execution_count": 24,
      "outputs": []
    },
    {
      "cell_type": "code",
      "source": [
        "n_feature = 256 # try 256 maybe better?\n",
        "\n",
        "Unet = UNet(in_channels=3, n_features=n_feature, n_classes=10)\n",
        "ddpm = DDPM(model=Unet)\n",
        "ddpm.to(device)\n",
        "ddpm.load_state_dict(torch.load('/content/drive/MyDrive/NTU_DLCV/Hw2/p1_ckpt/DDPM_epoch101_256.pth'))\n",
        "ddpm.eval()"
      ],
      "metadata": {
        "id": "3ti4varjBIIE"
      },
      "execution_count": null,
      "outputs": []
    },
    {
      "cell_type": "code",
      "source": [
        "with torch.no_grad():\n",
        "    x_t, x_t_store = ddpm.sample(n_sample=100, size=(3, 28, 28), device=device, guide_w=2.0)\n",
        "    x_t = x_t.view(-1, 10, 3, 28, 28)\n",
        "    x_t = torch.transpose(x_t, 0, 1).reshape(-1, 3, 28, 28)\n",
        "\n",
        "\n",
        "    save_image(x_t,\n",
        "               '/content/drive/MyDrive/NTU_DLCV/Hw2/p1_problem_img_256/each_digit_256.png',\n",
        "               nrow=10)\n",
        "    save_image(torch.tensor(x_t_store[:, 0, ...].reshape(-1, 3, 28, 28)),\n",
        "               '/content/drive/MyDrive/NTU_DLCV/Hw2/p1_problem_img_256/zero_t_step_256.png')"
      ],
      "metadata": {
        "id": "DAB3jMWyp90j"
      },
      "execution_count": 26,
      "outputs": []
    }
  ]
}