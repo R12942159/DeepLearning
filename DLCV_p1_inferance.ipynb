{
  "nbformat": 4,
  "nbformat_minor": 0,
  "metadata": {
    "colab": {
      "provenance": [],
      "gpuType": "T4",
      "include_colab_link": true
    },
    "kernelspec": {
      "name": "python3",
      "display_name": "Python 3"
    },
    "language_info": {
      "name": "python"
    },
    "accelerator": "GPU"
  },
  "cells": [
    {
      "cell_type": "markdown",
      "metadata": {
        "id": "view-in-github",
        "colab_type": "text"
      },
      "source": [
        "<a href=\"https://colab.research.google.com/github/R12942159/DeepLearning/blob/main/DLCV_p1_inferance.ipynb\" target=\"_parent\"><img src=\"https://colab.research.google.com/assets/colab-badge.svg\" alt=\"Open In Colab\"/></a>"
      ]
    },
    {
      "cell_type": "code",
      "source": [
        "import torch\n",
        "\n",
        "\n",
        "# Get cuda from GPU device for training.\n",
        "device = \"cuda\" if torch.cuda.is_available() else \"cpu\""
      ],
      "metadata": {
        "id": "DmMMJDTtNneq"
      },
      "execution_count": 1,
      "outputs": []
    },
    {
      "cell_type": "code",
      "source": [
        "# delete\n",
        "from google.colab import drive\n",
        "drive.mount('/content/drive')"
      ],
      "metadata": {
        "colab": {
          "base_uri": "https://localhost:8080/"
        },
        "id": "6ndKgEoQkjf1",
        "outputId": "79f56d34-8b5b-40bc-8b28-d286a3089494"
      },
      "execution_count": 2,
      "outputs": [
        {
          "output_type": "stream",
          "name": "stdout",
          "text": [
            "Mounted at /content/drive\n"
          ]
        }
      ]
    },
    {
      "cell_type": "code",
      "source": [
        "import os\n",
        "import sys\n",
        "\n",
        "\n",
        "img_paths = sys.argv[1]\n",
        "# img_paths = '/content/drive/MyDrive/DLCV/p1_data/val_50' # delete\n",
        "\n",
        "# search file paths\n",
        "img_paths_val = [os.path.join(img_paths, i) for i in os.listdir(img_paths) if i.endswith('.png')]"
      ],
      "metadata": {
        "id": "EkT2P3HFMLOS"
      },
      "execution_count": 3,
      "outputs": []
    },
    {
      "cell_type": "code",
      "source": [
        "import torch\n",
        "from PIL import Image\n",
        "import numpy as np\n",
        "\n",
        "\n",
        "class PretrainDataset(torch.utils.data.Dataset):\n",
        "    def __init__(self, img_paths, transform):\n",
        "        self.img_paths = img_paths\n",
        "        self.transform = transform\n",
        "\n",
        "    def __len__(self):\n",
        "        \"\"\"number of samples\"\"\"\n",
        "        return len(self.img_paths)\n",
        "\n",
        "    def __getitem__(self, idx):\n",
        "        \"\"\"read 1 sample\"\"\"\n",
        "        # Read img\n",
        "        path = self.img_paths[idx] # get img path\n",
        "        img = Image.open(path).convert('RGB') # read img\n",
        "\n",
        "        # transform img\n",
        "        img = self.transform(img)\n",
        "\n",
        "        # Read class index\n",
        "        cls_idx = int((path.split('/')[-1]).split('_')[0])\n",
        "        cls_idx = torch.tensor(cls_idx, dtype=torch.int64)\n",
        "\n",
        "        return img, cls_idx"
      ],
      "metadata": {
        "id": "RVFpJDy3IYhj"
      },
      "execution_count": 5,
      "outputs": []
    },
    {
      "cell_type": "code",
      "source": [
        "from torchvision.models import efficientnet_b4, EfficientNet_B4_Weights\n",
        "\n",
        "\n",
        "# Preprocess Transform\n",
        "transform =  EfficientNet_B4_Weights.DEFAULT.transforms()\n",
        "\n",
        "# Build Dataset\n",
        "val_ds = PretrainDataset(img_paths_val, transform)"
      ],
      "metadata": {
        "id": "85kCAT_LM7vb"
      },
      "execution_count": 6,
      "outputs": []
    },
    {
      "cell_type": "code",
      "source": [
        "# Build DataLoaders\n",
        "BATCH_SIZE = 50\n",
        "val_loader = torch.utils.data.DataLoader(val_ds, BATCH_SIZE, shuffle=False)"
      ],
      "metadata": {
        "id": "AAkprahkNPDF"
      },
      "execution_count": 7,
      "outputs": []
    },
    {
      "cell_type": "code",
      "source": [
        "# Build Model and Replace classifier\n",
        "from torchvision import models\n",
        "\n",
        "\n",
        "model = models.efficientnet_b4(weights=EfficientNet_B4_Weights.DEFAULT)\n",
        "\n",
        "last_layer = list(model.children())[-1]\n",
        "weights = last_layer[1].weight\n",
        "bias = last_layer[1].bias\n",
        "new_linear_layer = torch.nn.Linear(in_features=weights.shape[1], out_features=50, bias=True)\n",
        "new_linear_layer.weight.data = weights\n",
        "new_linear_layer.bias.data = bias\n",
        "last_layer[1] = new_linear_layer\n",
        "\n",
        "model.load_state_dict(torch.load(\"/content/drive/MyDrive/DLCV/EFFICIENTNET_best_model.pth\"))"
      ],
      "metadata": {
        "colab": {
          "base_uri": "https://localhost:8080/"
        },
        "id": "faOlSRpjNjAd",
        "outputId": "ee3c5872-95e3-4ea9-deb0-abafc3275985"
      },
      "execution_count": 9,
      "outputs": [
        {
          "output_type": "execute_result",
          "data": {
            "text/plain": [
              "<All keys matched successfully>"
            ]
          },
          "metadata": {},
          "execution_count": 9
        }
      ]
    },
    {
      "cell_type": "code",
      "source": [
        "model = model.to(device) # move model to GPU\n",
        "model.eval() # Set model to evaluation mode"
      ],
      "metadata": {
        "id": "qu0_VmgqPyBR"
      },
      "execution_count": null,
      "outputs": []
    },
    {
      "cell_type": "code",
      "source": [
        "# Create temp tensor\n",
        "y_true = torch.tensor([], dtype=torch.long).to(device)\n",
        "y_pred_logits = torch.tensor([]).to(device)"
      ],
      "metadata": {
        "id": "K8JPctHUUh_c"
      },
      "execution_count": 11,
      "outputs": []
    },
    {
      "cell_type": "code",
      "source": [
        "from torch import nn\n",
        "\n",
        "\n",
        "# deactivate autograd engine and reduce memory usage and speed up computations\n",
        "with torch.no_grad():\n",
        "    for batch_i, (x, y) in enumerate(val_loader):\n",
        "        x, y = x.to(device), y.to(device)\n",
        "\n",
        "        pred = model(x)\n",
        "        # Concatenate Ground truth and prediction\n",
        "        y_true = torch.cat((y_true, y), dim=0)\n",
        "        y_pred_logits = torch.cat((y_pred_logits, pred), dim=0)\n",
        "\n",
        "y_pred_cls = y_pred_logits.argmax(1) # get class idx with max prob (100, 3) -> (100, )\n",
        "y_pred_probs = nn.Softmax(dim=1)(y_pred_logits) # convert logits to probability"
      ],
      "metadata": {
        "id": "8P-NsjqSUp21"
      },
      "execution_count": 12,
      "outputs": []
    },
    {
      "cell_type": "code",
      "source": [
        "# Move tensor to CPU and convert to np.ndarray\n",
        "y_true = y_true.cpu().numpy()\n",
        "y_pred_cls = y_pred_cls.cpu().numpy()"
      ],
      "metadata": {
        "id": "e62NlD8KWScM"
      },
      "execution_count": 13,
      "outputs": []
    },
    {
      "cell_type": "code",
      "source": [
        "y_true, y_pred_cls"
      ],
      "metadata": {
        "id": "K1uWNcDDWbGu",
        "outputId": "d454d767-544d-4084-8d6c-faea185139bf",
        "colab": {
          "base_uri": "https://localhost:8080/"
        }
      },
      "execution_count": 14,
      "outputs": [
        {
          "output_type": "execute_result",
          "data": {
            "text/plain": [
              "(array([27, 28,  8, ..., 35,  5, 25]), array([27, 28, 48, ..., 41,  4, 25]))"
            ]
          },
          "metadata": {},
          "execution_count": 14
        }
      ]
    },
    {
      "cell_type": "code",
      "source": [
        "import csv\n",
        "import sys\n",
        "\n",
        "# out_csv = sys.argv[2]\n",
        "out_csv = '/content/drive/MyDrive/DLCV'\n",
        "try:\n",
        "    os.makedirs(os.path.dirname(out_csv), exist_ok=True)\n",
        "except:\n",
        "    pass\n",
        "\n",
        "with open('/content/drive/MyDrive/DLCV/out_csv.csv', 'w', newline='') as file:\n",
        "    writer = csv.writer(file)\n",
        "    writer.writerow(('filename', 'label'))\n",
        "    for data in zip(y_true, y_pred_cls):\n",
        "        writer.writerow(data)"
      ],
      "metadata": {
        "id": "xnlIUTtoqM0F"
      },
      "execution_count": 15,
      "outputs": []
    }
  ]
}